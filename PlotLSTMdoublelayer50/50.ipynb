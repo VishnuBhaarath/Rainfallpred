{
  "nbformat": 4,
  "nbformat_minor": 0,
  "metadata": {
    "colab": {
      "name": "PlotLSTMsinglelayermae100.ipynb",
      "provenance": [],
      "collapsed_sections": [],
      "authorship_tag": "ABX9TyN+K9VPPzS1eiP8lG52VA8C",
      "include_colab_link": true
    },
    "kernelspec": {
      "name": "python3",
      "display_name": "Python 3"
    }
  },
  "cells": [
    {
      "cell_type": "markdown",
      "metadata": {
        "id": "view-in-github",
        "colab_type": "text"
      },
      "source": [
        "<a href=\"https://colab.research.google.com/github/VishnuBhaarath/Rainfallpred/blob/master/PlotLSTMdoublelayer50/50.ipynb\" target=\"_parent\"><img src=\"https://colab.research.google.com/assets/colab-badge.svg\" alt=\"Open In Colab\"/></a>"
      ]
    },
    {
      "cell_type": "code",
      "metadata": {
        "id": "5YGfJ9tYkM94",
        "colab_type": "code",
        "outputId": "1a3129dd-1dfc-4ba3-edf2-680551f4f115",
        "colab": {
          "base_uri": "https://localhost:8080/",
          "height": 62
        }
      },
      "source": [
        "from numpy.random import seed\n",
        "seed(1)\n",
        "from tensorflow import set_random_seed\n",
        "set_random_seed(2)\n",
        "from sklearn.metrics import r2_score"
      ],
      "execution_count": 1,
      "outputs": [
        {
          "output_type": "display_data",
          "data": {
            "text/html": [
              "<p style=\"color: red;\">\n",
              "The default version of TensorFlow in Colab will soon switch to TensorFlow 2.x.<br>\n",
              "We recommend you <a href=\"https://www.tensorflow.org/guide/migrate\" target=\"_blank\">upgrade</a> now \n",
              "or ensure your notebook will continue to use TensorFlow 1.x via the <code>%tensorflow_version 1.x</code> magic:\n",
              "<a href=\"https://colab.research.google.com/notebooks/tensorflow_version.ipynb\" target=\"_blank\">more info</a>.</p>\n"
            ],
            "text/plain": [
              "<IPython.core.display.HTML object>"
            ]
          },
          "metadata": {
            "tags": []
          }
        }
      ]
    },
    {
      "cell_type": "code",
      "metadata": {
        "id": "cou_fBaEkP6G",
        "colab_type": "code",
        "colab": {}
      },
      "source": [
        "import pandas as pd\n",
        "from pandas import DataFrame\n",
        "import numpy as np\n",
        "from numpy import hstack\n",
        "import tensorflow as tf\n",
        "from tensorflow import keras\n",
        "import matplotlib.pyplot as plt\n",
        "from sklearn import preprocessing"
      ],
      "execution_count": 0,
      "outputs": []
    },
    {
      "cell_type": "code",
      "metadata": {
        "id": "ACH71at4kV9t",
        "colab_type": "code",
        "colab": {}
      },
      "source": [
        "df=pd.read_excel('trend_anna_imd_21.xlsx')"
      ],
      "execution_count": 0,
      "outputs": []
    },
    {
      "cell_type": "code",
      "metadata": {
        "id": "2hp4FJfQkk9o",
        "colab_type": "code",
        "outputId": "f09c3257-4df1-45a3-c015-5bd949b43d2b",
        "colab": {
          "base_uri": "https://localhost:8080/",
          "height": 195
        }
      },
      "source": [
        "df.head()"
      ],
      "execution_count": 4,
      "outputs": [
        {
          "output_type": "execute_result",
          "data": {
            "text/html": [
              "<div>\n",
              "<style scoped>\n",
              "    .dataframe tbody tr th:only-of-type {\n",
              "        vertical-align: middle;\n",
              "    }\n",
              "\n",
              "    .dataframe tbody tr th {\n",
              "        vertical-align: top;\n",
              "    }\n",
              "\n",
              "    .dataframe thead th {\n",
              "        text-align: right;\n",
              "    }\n",
              "</style>\n",
              "<table border=\"1\" class=\"dataframe\">\n",
              "  <thead>\n",
              "    <tr style=\"text-align: right;\">\n",
              "      <th></th>\n",
              "      <th>Unnamed: 0</th>\n",
              "      <th>Unnamed: 1</th>\n",
              "    </tr>\n",
              "  </thead>\n",
              "  <tbody>\n",
              "    <tr>\n",
              "      <th>0</th>\n",
              "      <td>1. Cuddalore</td>\n",
              "      <td>NaN</td>\n",
              "    </tr>\n",
              "    <tr>\n",
              "      <th>1</th>\n",
              "      <td>1965-01-01 00:00:00</td>\n",
              "      <td>10.6</td>\n",
              "    </tr>\n",
              "    <tr>\n",
              "      <th>2</th>\n",
              "      <td>1965-01-02 00:00:00</td>\n",
              "      <td>0.0</td>\n",
              "    </tr>\n",
              "    <tr>\n",
              "      <th>3</th>\n",
              "      <td>1965-01-03 00:00:00</td>\n",
              "      <td>13.0</td>\n",
              "    </tr>\n",
              "    <tr>\n",
              "      <th>4</th>\n",
              "      <td>1965-01-04 00:00:00</td>\n",
              "      <td>0.0</td>\n",
              "    </tr>\n",
              "  </tbody>\n",
              "</table>\n",
              "</div>"
            ],
            "text/plain": [
              "            Unnamed: 0  Unnamed: 1\n",
              "0         1. Cuddalore         NaN\n",
              "1  1965-01-01 00:00:00        10.6\n",
              "2  1965-01-02 00:00:00         0.0\n",
              "3  1965-01-03 00:00:00        13.0\n",
              "4  1965-01-04 00:00:00         0.0"
            ]
          },
          "metadata": {
            "tags": []
          },
          "execution_count": 4
        }
      ]
    },
    {
      "cell_type": "code",
      "metadata": {
        "id": "RB9D0KOIkl-g",
        "colab_type": "code",
        "colab": {}
      },
      "source": [
        "Cuddalore=df[3655:19360]\n",
        "Panruti=df[23016:38720]\n",
        "Dharmapuri=df[42408:58082]\n",
        "Harur=df[61738:77443]\n",
        "Palacode=df[81158:96804]\n",
        "Pennagaram=df[100460:116165]\n",
        "Chengam=df[119821:135526]\n",
        "Sathanur=df[138817:154522]\n",
        "Tiruvanamalai=df[158178:173883]\n",
        "Sankarapuram=df[177539:193244]\n",
        "Tirukoilur=df[196899:212604]\n",
        "ulundurpet=df[216260:231965]\n",
        "Villupuram=df[235621:251326]\n",
        "Denkanikottai=df[274343:290048]\n",
        "Hosur=df[293703:309408]\n",
        "Krishnagiri=df[313063:328768]\n",
        "Marandahalli=df[332059:347764]\n",
        "Rayakottai=df[353250:368955]\n",
        "Uthangarai=df[372611:388316]\n"
      ],
      "execution_count": 0,
      "outputs": []
    },
    {
      "cell_type": "code",
      "metadata": {
        "id": "8lT9ZtR0mBO1",
        "colab_type": "code",
        "colab": {}
      },
      "source": [
        "Cuddalore.columns = ['Date', 'Rainfall']\n",
        "Panruti.columns= ['Date', 'Rainfall']\n",
        "Dharmapuri.columns= ['Date', 'Rainfall']\n",
        "Harur.columns= ['Date', 'Rainfall']\n",
        "Palacode.columns= ['Date', 'Rainfall']\n",
        "Pennagaram.columns= ['Date', 'Rainfall']\n",
        "Chengam.columns= ['Date', 'Rainfall']\n",
        "Sathanur.columns= ['Date', 'Rainfall']\n",
        "Tiruvanamalai.columns= ['Date', 'Rainfall']\n",
        "Sankarapuram.columns= ['Date', 'Rainfall']\n",
        "Tirukoilur.columns= ['Date', 'Rainfall']\n",
        "ulundurpet.columns= ['Date', 'Rainfall']\n",
        "Villupuram.columns= ['Date', 'Rainfall']\n",
        "Denkanikottai.columns= ['Date', 'Rainfall']\n",
        "Hosur.columns= ['Date', 'Rainfall']\n",
        "Krishnagiri.columns= ['Date', 'Rainfall']\n",
        "Marandahalli.columns= ['Date', 'Rainfall']\n",
        "Rayakottai.columns= ['Date', 'Rainfall']\n",
        "Uthangarai.columns= ['Date', 'Rainfall']"
      ],
      "execution_count": 0,
      "outputs": []
    },
    {
      "cell_type": "code",
      "metadata": {
        "id": "ot2FqhbOm6dJ",
        "colab_type": "code",
        "colab": {}
      },
      "source": [
        "train=Cuddalore[0:12000]\n",
        "test=Cuddalore[12000:15704]\n",
        "train1=Panruti[0:12000]\n",
        "test1=Panruti[12000:15705]\n",
        "train2=Dharmapuri[0:12000]\n",
        "test2=Dharmapuri[12000:15674]\n",
        "train3=Harur[0:12000]\n",
        "test3=Harur[12000:15704]\n",
        "train4=Palacode[0:12000]\n",
        "test4=Palacode[12000:15646]\n",
        "train5=Pennagaram[0:12000]\n",
        "test5=Pennagaram[12000:15705]\n",
        "train6=Chengam[0:12000]\n",
        "test6=Chengam[12000:15705]\n",
        "train7=Sathanur[0:12000]\n",
        "test7=Sathanur[12000:15705]\n",
        "train8=Tiruvanamalai[0:12000]\n",
        "test8=Tiruvanamalai[12000:15165]\n",
        "train9=Sankarapuram[0:12000]\n",
        "test9=Sankarapuram[12000:15705]\n",
        "train10=Tirukoilur[0:12000]\n",
        "test10=Tirukoilur[12000:15705]\n",
        "train11=ulundurpet[0:12000]\n",
        "test11=ulundurpet[12000:15345]\n",
        "train12=Villupuram[0:12000]\n",
        "test12=Villupuram[12000:15705]\n",
        "train13=Denkanikottai[0:12000]\n",
        "test13=Denkanikottai[12000:15705]\n",
        "train14=Hosur[0:12000]\n",
        "test14=Hosur[12000:15678]\n",
        "train15=Krishnagiri[0:12000]\n",
        "test15=Krishnagiri[12000:15705]\n",
        "train16=Marandahalli[0:12000]\n",
        "test16=Marandahalli[12000:15705]\n",
        "train17=Rayakottai[0:12000]\n",
        "test17=Rayakottai[12000:15705]\n",
        "train18=Uthangarai[0:12000]\n",
        "test18=Uthangarai[12000:15705]"
      ],
      "execution_count": 0,
      "outputs": []
    },
    {
      "cell_type": "code",
      "metadata": {
        "id": "eWdgMaVPnV7A",
        "colab_type": "code",
        "colab": {}
      },
      "source": [
        "X_train=train['Rainfall']\n",
        "X_test=test['Rainfall']\n",
        "X_train1=train1['Rainfall']\n",
        "X_test1=test1['Rainfall']\n",
        "X_train2=train2['Rainfall']\n",
        "X_test2=test2['Rainfall']\n",
        "X_train3=train3['Rainfall']\n",
        "X_test3=test3['Rainfall']\n",
        "X_train4=train4['Rainfall']\n",
        "X_test4=test4['Rainfall']\n",
        "X_train5=train5['Rainfall']\n",
        "X_test5=test5['Rainfall']\n",
        "X_train6=train6['Rainfall']\n",
        "X_test6=test6['Rainfall']\n",
        "X_train7=train7['Rainfall']\n",
        "X_test7=test7['Rainfall']\n",
        "X_train8=train8['Rainfall']\n",
        "X_test8=test8['Rainfall']\n",
        "X_train9=train9['Rainfall']\n",
        "X_test9=test9['Rainfall']\n",
        "X_train10=train10['Rainfall']\n",
        "X_test10=test10['Rainfall']\n",
        "X_train11=train11['Rainfall']\n",
        "X_test11=test11['Rainfall']\n",
        "X_train12=train12['Rainfall']\n",
        "X_test12=test12['Rainfall']\n",
        "X_train13=train13['Rainfall']\n",
        "X_test13=test13['Rainfall']\n",
        "X_train14=train14['Rainfall']\n",
        "X_test14=test14['Rainfall']\n",
        "X_train15=train15['Rainfall']\n",
        "X_test15=test15['Rainfall']\n",
        "X_train16=train16['Rainfall']\n",
        "X_test16=test16['Rainfall']\n",
        "X_train17=train17['Rainfall']\n",
        "X_test17=test17['Rainfall']\n",
        "X_train18=train18['Rainfall']\n",
        "X_test18=test18['Rainfall']\n"
      ],
      "execution_count": 0,
      "outputs": []
    },
    {
      "cell_type": "code",
      "metadata": {
        "id": "QdTZBwX0mnEs",
        "colab_type": "code",
        "colab": {}
      },
      "source": [
        "min_max_scaler = preprocessing.MinMaxScaler()\n",
        "\n",
        "x_scaled = min_max_scaler.fit_transform(X_train.values.reshape(-1,1))\n",
        "X_train = pd.DataFrame(x_scaled)\n",
        "\n",
        "x_scaled1 = min_max_scaler.fit_transform(X_train1.values.reshape(-1,1))\n",
        "X_train1 = pd.DataFrame(x_scaled1)\n",
        "\n",
        "x_scaled2 = min_max_scaler.fit_transform(X_train2.values.reshape(-1,1))\n",
        "X_train2 = pd.DataFrame(x_scaled2)\n",
        "\n",
        "x_scaled3 = min_max_scaler.fit_transform(X_train3.values.reshape(-1,1))\n",
        "X_train3 = pd.DataFrame(x_scaled3)\n",
        "\n",
        "x_scaled4 = min_max_scaler.fit_transform(X_train4.values.reshape(-1,1))\n",
        "X_train4 = pd.DataFrame(x_scaled4)\n",
        "\n",
        "x_scaled5 = min_max_scaler.fit_transform(X_train5.values.reshape(-1,1))\n",
        "X_train5 = pd.DataFrame(x_scaled5)\n",
        "\n",
        "x_scaled6 = min_max_scaler.fit_transform(X_train6.values.reshape(-1,1))\n",
        "X_train6 = pd.DataFrame(x_scaled6)\n",
        "\n",
        "x_scaled7 = min_max_scaler.fit_transform(X_train7.values.reshape(-1,1))\n",
        "X_train7 = pd.DataFrame(x_scaled7)\n",
        "\n",
        "x_scaled8 = min_max_scaler.fit_transform(X_train8.values.reshape(-1,1))\n",
        "X_train8 = pd.DataFrame(x_scaled8)\n",
        "\n",
        "x_scaled9 = min_max_scaler.fit_transform(X_train9.values.reshape(-1,1))\n",
        "X_train9 = pd.DataFrame(x_scaled9)\n",
        "\n",
        "x_scaled10 = min_max_scaler.fit_transform(X_train10.values.reshape(-1,1))\n",
        "X_train10 = pd.DataFrame(x_scaled10)\n",
        "\n",
        "x_scaled11 = min_max_scaler.fit_transform(X_train11.values.reshape(-1,1))\n",
        "X_train11 = pd.DataFrame(x_scaled11)\n",
        "\n",
        "x_scaled1112 = min_max_scaler.fit_transform(X_train12.values.reshape(-1,1))\n",
        "X_train12 = pd.DataFrame(x_scaled1112)\n",
        "\n",
        "x_scaled13 = min_max_scaler.fit_transform(X_train13.values.reshape(-1,1))\n",
        "X_train13 = pd.DataFrame(x_scaled13)\n",
        "\n",
        "x_scaled14 = min_max_scaler.fit_transform(X_train14.values.reshape(-1,1))\n",
        "X_train14 = pd.DataFrame(x_scaled14)\n",
        "\n",
        "x_scaled15 = min_max_scaler.fit_transform(X_train15.values.reshape(-1,1))\n",
        "X_train15 = pd.DataFrame(x_scaled15)\n",
        "\n",
        "x_scaled16 = min_max_scaler.fit_transform(X_train16.values.reshape(-1,1))\n",
        "X_train16 = pd.DataFrame(x_scaled16)\n",
        "\n",
        "x_scaled17 = min_max_scaler.fit_transform(X_train17.values.reshape(-1,1))\n",
        "X_train17 = pd.DataFrame(x_scaled17)\n",
        "\n",
        "x_scaled18 = min_max_scaler.fit_transform(X_train18.values.reshape(-1,1))\n",
        "X_train18 = pd.DataFrame(x_scaled18)\n",
        "\n"
      ],
      "execution_count": 0,
      "outputs": []
    },
    {
      "cell_type": "code",
      "metadata": {
        "id": "CxbM6N2-oCPd",
        "colab_type": "code",
        "colab": {}
      },
      "source": [
        "x_scaled1 = min_max_scaler.fit_transform(X_test.values.reshape(-1,1))\n",
        "X_test = pd.DataFrame(x_scaled1)\n",
        "\n",
        "x_scaled11 = min_max_scaler.fit_transform(X_test1.values.reshape(-1,1))\n",
        "X_test1 = pd.DataFrame(x_scaled11)\n",
        "\n",
        "x_scaled12 = min_max_scaler.fit_transform(X_test2.values.reshape(-1,1))\n",
        "X_test2 = pd.DataFrame(x_scaled12)\n",
        "\n",
        "x_scaled13 = min_max_scaler.fit_transform(X_test3.values.reshape(-1,1))\n",
        "X_test3 = pd.DataFrame(x_scaled13)\n",
        "\n",
        "x_scaled14 = min_max_scaler.fit_transform(X_test4.values.reshape(-1,1))\n",
        "X_test4 = pd.DataFrame(x_scaled14)\n",
        "\n",
        "x_scaled15 = min_max_scaler.fit_transform(X_test5.values.reshape(-1,1))\n",
        "X_test5 = pd.DataFrame(x_scaled15)\n",
        "\n",
        "x_scaled16 = min_max_scaler.fit_transform(X_test6.values.reshape(-1,1))\n",
        "X_test6 = pd.DataFrame(x_scaled16)\n",
        "\n",
        "x_scaled17 = min_max_scaler.fit_transform(X_test7.values.reshape(-1,1))\n",
        "X_test7 = pd.DataFrame(x_scaled17)\n",
        "\n",
        "x_scaled18 = min_max_scaler.fit_transform(X_test8.values.reshape(-1,1))\n",
        "X_test8 = pd.DataFrame(x_scaled18)\n",
        "\n",
        "x_scaled19 = min_max_scaler.fit_transform(X_test9.values.reshape(-1,1))\n",
        "X_test9 = pd.DataFrame(x_scaled19)\n",
        "\n",
        "x_scaled110 = min_max_scaler.fit_transform(X_test10.values.reshape(-1,1))\n",
        "X_test10 = pd.DataFrame(x_scaled110)\n",
        "\n",
        "x_scaled111 = min_max_scaler.fit_transform(X_test11.values.reshape(-1,1))\n",
        "X_test11 = pd.DataFrame(x_scaled111)\n",
        "\n",
        "x_scaled112 = min_max_scaler.fit_transform(X_test12.values.reshape(-1,1))\n",
        "X_test12 = pd.DataFrame(x_scaled112)\n",
        "\n",
        "x_scaled113 = min_max_scaler.fit_transform(X_test13.values.reshape(-1,1))\n",
        "X_test13 = pd.DataFrame(x_scaled113)\n",
        "\n",
        "x_scaled114 = min_max_scaler.fit_transform(X_test14.values.reshape(-1,1))\n",
        "X_test14 = pd.DataFrame(x_scaled114)\n",
        "\n",
        "x_scaled115= min_max_scaler.fit_transform(X_test15.values.reshape(-1,1))\n",
        "X_test15 = pd.DataFrame(x_scaled115)\n",
        "\n",
        "x_scaled116 = min_max_scaler.fit_transform(X_test16.values.reshape(-1,1))\n",
        "X_test16 = pd.DataFrame(x_scaled116)\n",
        "\n",
        "x_scaled117 = min_max_scaler.fit_transform(X_test17.values.reshape(-1,1))\n",
        "X_test17 = pd.DataFrame(x_scaled117)\n",
        "\n",
        "x_scaled118 = min_max_scaler.fit_transform(X_test18.values.reshape(-1,1))\n",
        "X_test18 = pd.DataFrame(x_scaled118)\n"
      ],
      "execution_count": 0,
      "outputs": []
    },
    {
      "cell_type": "code",
      "metadata": {
        "id": "VZNCwdZhrTQD",
        "colab_type": "code",
        "colab": {}
      },
      "source": [
        "in_seq = np.array([X_train[0]])\n",
        "in_seqtest1 = np.array([X_test[0]])\n",
        "\n",
        "in_seq1 = np.array([X_train1[0]])\n",
        "in_seqt11 = np.array([X_test1[0]])\n",
        "\n",
        "in_seq12 = np.array([X_train2[0]])\n",
        "in_seqt112 = np.array([X_test2[0]])\n",
        "\n",
        "in_seq13 = np.array([X_train3[0]])\n",
        "in_seqt113 = np.array([X_test3[0]])\n",
        "\n",
        "in_seq14 = np.array([X_train4[0]])\n",
        "in_seqt114 = np.array([X_test4[0]])\n",
        "\n",
        "in_seq15 = np.array([X_train5[0]])\n",
        "in_seqt115 = np.array([X_test5[0]])\n",
        "\n",
        "in_seq16 = np.array([X_train6[0]])\n",
        "in_seqt116 = np.array([X_test6[0]])\n",
        "\n",
        "in_seq17 = np.array([X_train7[0]])\n",
        "in_seqt117 = np.array([X_test7[0]])\n",
        "\n",
        "in_seq18 = np.array([X_train8[0]])\n",
        "in_seqt118 = np.array([X_test8[0]])\n",
        "\n",
        "in_seq19 = np.array([X_train9[0]])\n",
        "in_seqt119 = np.array([X_test9[0]])\n",
        "\n",
        "in_seq110 = np.array([X_train10[0]])\n",
        "in_seqt1110 = np.array([X_test10[0]])\n",
        "\n",
        "in_seq111 = np.array([X_train11[0]])\n",
        "in_seqt1111 = np.array([X_test11[0]])\n",
        "\n",
        "in_seq112 = np.array([X_train12[0]])\n",
        "in_seqt1112 = np.array([X_test12[0]])\n",
        "\n",
        "in_seq113 = np.array([X_train13[0]])\n",
        "in_seqt1113 = np.array([X_test13[0]])\n",
        "\n",
        "in_seq114 = np.array([X_train14[0]])\n",
        "in_seqt1114 = np.array([X_test14[0]])\n",
        "\n",
        "in_seq115 = np.array([X_train15[0]])\n",
        "in_seqt1115 = np.array([X_test15[0]])\n",
        "\n",
        "in_seq116 = np.array([X_train16[0]])\n",
        "in_seqt1116 = np.array([X_test16[0]])\n",
        "\n",
        "in_seq117 = np.array([X_train17[0]])\n",
        "in_seqt1117 = np.array([X_test17[0]])\n",
        "\n",
        "in_seq118 = np.array([X_train18[0]])\n",
        "in_seqt1118 = np.array([X_test18[0]])\n"
      ],
      "execution_count": 0,
      "outputs": []
    },
    {
      "cell_type": "code",
      "metadata": {
        "id": "2vtw9-GtrbhY",
        "colab_type": "code",
        "colab": {}
      },
      "source": [
        "in_seq = in_seq.reshape((12000, 1))\n",
        "in_seqtest1 = in_seqtest1.reshape((3704, 1))\n",
        "\n",
        "in_seq1 = in_seq1.reshape((12000, 1))\n",
        "in_seqt11 = in_seqt11.reshape((3704, 1))\n",
        "\n",
        "in_seq12 = in_seq12.reshape((12000, 1))\n",
        "in_seqt112 = in_seqt112.reshape((3674, 1))\n",
        "\n",
        "in_seq13 = in_seq13.reshape((12000, 1))\n",
        "in_seqt113 = in_seqt113.reshape((3704, 1))\n",
        "\n",
        "in_seq14 = in_seq14.reshape((12000, 1))\n",
        "in_seqt114 = in_seqt114.reshape((3646, 1))\n",
        "\n",
        "in_seq15 = in_seq15.reshape((12000, 1))\n",
        "in_seqt115 = in_seqt115.reshape((3705, 1))\n",
        "\n",
        "in_seq16 = in_seq16.reshape((12000, 1))\n",
        "in_seqt116 = in_seqt116.reshape((3705, 1))\n",
        "\n",
        "in_seq17 = in_seq17.reshape((12000, 1))\n",
        "in_seqt117 = in_seqt117.reshape((3705, 1))\n",
        "\n",
        "in_seq18 = in_seq18.reshape((12000, 1))\n",
        "in_seqt118 = in_seqt118.reshape((3165, 1))\n",
        "\n",
        "in_seq19 = in_seq19.reshape((12000, 1))\n",
        "in_seqt119 = in_seqt119.reshape((3705, 1))\n",
        "\n",
        "in_seq110 = in_seq110.reshape((12000, 1))\n",
        "in_seqt1110 = in_seqt1110.reshape((3705, 1))\n",
        "\n",
        "in_seq111 = in_seq111.reshape((12000, 1))\n",
        "in_seqt1111 = in_seqt1111.reshape((3345, 1))\n",
        "\n",
        "in_seq112 = in_seq112.reshape((12000, 1))\n",
        "in_seqt1112 = in_seqt1112.reshape((3705, 1))\n",
        "\n",
        "in_seq113 = in_seq113.reshape((12000, 1))\n",
        "in_seqt1113 = in_seqt1113.reshape((3705, 1))\n",
        "\n",
        "in_seq114 = in_seq114.reshape((12000, 1))\n",
        "in_seqt1114 = in_seqt1114.reshape((3678, 1))\n",
        "\n",
        "in_seq115 = in_seq115.reshape((12000, 1))\n",
        "in_seqt1115 = in_seqt1115.reshape((3705, 1))\n",
        "\n",
        "in_seq116 = in_seq116.reshape((12000, 1))\n",
        "in_seqt1116 = in_seqt1116.reshape((3705, 1))\n",
        "\n",
        "in_seq117 = in_seq117.reshape((12000, 1))\n",
        "in_seqt1117 = in_seqt1117.reshape((3705, 1))\n",
        "\n",
        "in_seq118 = in_seq118.reshape((12000, 1))\n",
        "in_seqt1118 = in_seqt1118.reshape((3704, 1))\n",
        "\n"
      ],
      "execution_count": 0,
      "outputs": []
    },
    {
      "cell_type": "code",
      "metadata": {
        "id": "dcthfPpSoN2u",
        "colab_type": "code",
        "colab": {}
      },
      "source": [
        "def split_sequence(sequence, n_steps):\n",
        "\tX, y = list(), list()\n",
        "\tfor i in range(len(sequence)):\n",
        "\t\t# find the end of this pattern\n",
        "\t\tend_ix = i + n_steps\n",
        "\t\t# check if we are beyond the sequence\n",
        "\t\tif end_ix > len(sequence)-1:\n",
        "\t\t\tbreak\n",
        "\t\t# gather input and output parts of the pattern\n",
        "\t\tseq_x, seq_y = sequence[i:end_ix], sequence[end_ix]\n",
        "\t\tX.append(seq_x)\n",
        "\t\ty.append(seq_y)\n",
        "\treturn np.array(X), np.array(y)"
      ],
      "execution_count": 0,
      "outputs": []
    },
    {
      "cell_type": "code",
      "metadata": {
        "id": "NLCLOXnyptMN",
        "colab_type": "code",
        "colab": {}
      },
      "source": [
        "cuddataset1 = hstack((in_seqtest1))\n",
        "cuddataset = hstack((in_seq))\n",
        "\n",
        "pandataset1 = hstack((in_seqt11))\n",
        "pandataset = hstack((in_seq1))\n",
        "\n",
        "dhadataset1 = hstack((in_seqt112))\n",
        "dhadataset = hstack((in_seq12))\n",
        "\n",
        "hardataset1 = hstack((in_seqt113))\n",
        "hardataset = hstack((in_seq13))\n",
        "\n",
        "paldataset1 = hstack((in_seqt114))\n",
        "paldataset = hstack((in_seq14))\n",
        "\n",
        "pendataset1 = hstack((in_seqt115))\n",
        "pendataset = hstack((in_seq15))\n",
        "\n",
        "chedataset1 = hstack((in_seqt116))\n",
        "chedataset = hstack((in_seq16))\n",
        "\n",
        "satdataset1 = hstack((in_seqt117))\n",
        "satdataset = hstack((in_seq17))\n",
        "\n",
        "Tirdataset1 = hstack((in_seqt118))\n",
        "Tirdataset = hstack((in_seq18))\n",
        "\n",
        "Sandataset1 = hstack((in_seqt119))\n",
        "Sandataset = hstack((in_seq19))\n",
        "\n",
        "Tirudataset1 = hstack((in_seqt1110))\n",
        "Tirudataset = hstack((in_seq110))\n",
        "\n",
        "uludataset1 = hstack((in_seqt1111))\n",
        "uludataset = hstack((in_seq111))\n",
        "\n",
        "vildataset1 = hstack((in_seqt1112))\n",
        "vildataset = hstack((in_seq112))\n",
        "\n",
        "bardataset1 = hstack((in_seqt1113))\n",
        "bardataset = hstack((in_seq113))\n",
        "\n",
        "Dendataset1 = hstack((in_seqt1114))\n",
        "Dendataset = hstack((in_seq114))\n",
        "\n",
        "kridataset1 = hstack((in_seqt1115))\n",
        "kridataset = hstack((in_seq115))\n",
        "\n",
        "mardataset1 = hstack((in_seqt1116))\n",
        "mardataset = hstack((in_seq116))\n",
        "\n",
        "raydataset1 = hstack((in_seqt1117))\n",
        "raydataset = hstack((in_seq117))\n",
        "\n",
        "uthdataset1 = hstack((in_seqt1118))\n",
        "uthdataset = hstack((in_seq118))\n"
      ],
      "execution_count": 0,
      "outputs": []
    },
    {
      "cell_type": "code",
      "metadata": {
        "id": "VXevl6Wdrz2e",
        "colab_type": "code",
        "colab": {}
      },
      "source": [
        "n_steps = 3\n",
        "# convert into input/output\n",
        "X, y = split_sequence(cuddataset, n_steps)\n",
        "X1 , y1 = split_sequence(pandataset, n_steps)\n",
        "X2 , y2 = split_sequence(dhadataset, n_steps)\n",
        "X3 , y3 = split_sequence(hardataset, n_steps)\n",
        "X4 , y4 = split_sequence(paldataset, n_steps)\n",
        "X5 , y5 = split_sequence(pendataset, n_steps)\n",
        "X6, y6 = split_sequence(chedataset, n_steps)\n",
        "X7, y7 = split_sequence(satdataset, n_steps)\n",
        "X8, y8 = split_sequence(Tirdataset, n_steps)\n",
        "X9, y9 = split_sequence(Sandataset, n_steps)\n",
        "X10, y10 = split_sequence(Tirudataset, n_steps)\n",
        "X11, y11 = split_sequence(uludataset, n_steps)\n",
        "X12 , y12 = split_sequence(vildataset, n_steps)\n",
        "X13, y13 = split_sequence(bardataset, n_steps)\n",
        "X14, y14 = split_sequence(Dendataset, n_steps)\n",
        "X15, y15 = split_sequence(kridataset, n_steps)\n",
        "X16, y16 = split_sequence(mardataset, n_steps)\n",
        "X17, y17 = split_sequence(raydataset, n_steps)\n",
        "X18, y18 = split_sequence(uthdataset, n_steps)"
      ],
      "execution_count": 0,
      "outputs": []
    },
    {
      "cell_type": "code",
      "metadata": {
        "id": "CcgWCIqIr44M",
        "colab_type": "code",
        "colab": {}
      },
      "source": [
        "X_test,y_test = split_sequence(cuddataset1, n_steps)\n",
        "X_test1,y_test1 = split_sequence(pandataset1, n_steps)\n",
        "X_test2,y_test2= split_sequence(dhadataset1, n_steps)\n",
        "X_test3,y_test3 = split_sequence(hardataset1, n_steps)\n",
        "X_test4,y_test4 = split_sequence(paldataset1, n_steps)\n",
        "X_test5,y_test5 = split_sequence(pendataset1, n_steps)\n",
        "X_test6,y_test6 = split_sequence(chedataset1, n_steps)\n",
        "X_test7,y_test7 = split_sequence(satdataset1, n_steps)\n",
        "X_test8,y_test8 = split_sequence(Tirdataset1, n_steps)\n",
        "X_test9,y_test9 = split_sequence(Sandataset1, n_steps)\n",
        "X_test10,y_test10 = split_sequence(Tirudataset1, n_steps)\n",
        "X_test11,y_test11= split_sequence(uludataset1, n_steps)\n",
        "X_test12,y_test12 = split_sequence(vildataset1, n_steps)\n",
        "X_test13,y_test13 = split_sequence(bardataset1, n_steps)\n",
        "X_test14,y_test14 = split_sequence(Dendataset1, n_steps)\n",
        "X_test15,y_test15 = split_sequence(kridataset1, n_steps)\n",
        "X_test16,y_test16 = split_sequence(mardataset1, n_steps)\n",
        "X_test17,y_test17= split_sequence(raydataset1, n_steps)\n",
        "X_test18,y_test18= split_sequence(uthdataset1, n_steps)"
      ],
      "execution_count": 0,
      "outputs": []
    },
    {
      "cell_type": "code",
      "metadata": {
        "id": "fDRANPMqG4am",
        "colab_type": "code",
        "colab": {}
      },
      "source": [
        "y_test=np.nan_to_num(y_test)\n",
        "y_test1=np.nan_to_num(y_test1)\n",
        "y_test2=np.nan_to_num(y_test2)\n",
        "y_test3=np.nan_to_num(y_test3)\n",
        "\n",
        "y_test4=np.nan_to_num(y_test4)\n",
        "y_test5=np.nan_to_num(y_test5)\n",
        "y_test6=np.nan_to_num(y_test6)\n",
        "y_test7=np.nan_to_num(y_test7)\n",
        "y_test8=np.nan_to_num(y_test8)\n",
        "y_test9=np.nan_to_num(y_test9)\n",
        "y_test10=np.nan_to_num(y_test10)\n",
        "y_test11=np.nan_to_num(y_test11)\n",
        "y_test12=np.nan_to_num(y_test12)\n",
        "y_test13=np.nan_to_num(y_test13)\n",
        "y_test14=np.nan_to_num(y_test14)\n",
        "y_test15=np.nan_to_num(y_test15)\n",
        "y_test16=np.nan_to_num(y_test16)\n",
        "y_test17=np.nan_to_num(y_test17)\n",
        "y_test18=np.nan_to_num(y_test18)\n"
      ],
      "execution_count": 0,
      "outputs": []
    },
    {
      "cell_type": "code",
      "metadata": {
        "id": "lZ26OGqHr95T",
        "colab_type": "code",
        "colab": {
          "base_uri": "https://localhost:8080/",
          "height": 87
        },
        "outputId": "a516f444-0750-4bb1-a1cc-0b90dd8acdec"
      },
      "source": [
        "model = keras.Sequential()\n",
        "model.add(keras.layers.LSTM(50, activation='relu',return_sequences=True, input_shape=(n_steps, 1)))\n",
        "model.add(keras.layers.LSTM(50, activation='relu'))\n",
        "model.add(keras.layers.Dense(1))\n",
        "model.compile(optimizer='adam', loss='mse',metrics=['accuracy'])"
      ],
      "execution_count": 18,
      "outputs": [
        {
          "output_type": "stream",
          "text": [
            "WARNING:tensorflow:From /tensorflow-1.15.0/python3.6/tensorflow_core/python/ops/resource_variable_ops.py:1630: calling BaseResourceVariable.__init__ (from tensorflow.python.ops.resource_variable_ops) with constraint is deprecated and will be removed in a future version.\n",
            "Instructions for updating:\n",
            "If using Keras pass *_constraint arguments to layers.\n"
          ],
          "name": "stdout"
        }
      ]
    },
    {
      "cell_type": "code",
      "metadata": {
        "id": "HUwsDYObsG7O",
        "colab_type": "code",
        "colab": {}
      },
      "source": [
        "X = X.reshape((X.shape[0], X.shape[1], 1))\n",
        "X1 = X1.reshape((X1.shape[0], X1.shape[1], 1))\n",
        "X2 = X2.reshape((X2.shape[0], X2.shape[1], 1))\n",
        "X3 = X3.reshape((X3.shape[0], X3.shape[1], 1))\n",
        "X4 = X4.reshape((X4.shape[0], X4.shape[1], 1))\n",
        "X5 = X5.reshape((X5.shape[0], X5.shape[1], 1))\n",
        "X6 = X6.reshape((X6.shape[0], X6.shape[1], 1))\n",
        "X7 = X7.reshape((X7.shape[0], X7.shape[1], 1))\n",
        "X8 = X8.reshape((X8.shape[0], X8.shape[1], 1))\n",
        "X9 = X9.reshape((X9.shape[0], X9.shape[1], 1))\n",
        "X10 = X10.reshape((X10.shape[0], X10.shape[1], 1))\n",
        "X11 = X11.reshape((X11.shape[0], X11.shape[1], 1))\n",
        "X12 = X12.reshape((X12.shape[0], X12.shape[1], 1))\n",
        "X13 = X13.reshape((X13.shape[0], X13.shape[1], 1))\n",
        "X14 = X14.reshape((X14.shape[0], X14.shape[1], 1))\n",
        "X15 = X15.reshape((X15.shape[0], X15.shape[1], 1))\n",
        "X16 = X16.reshape((X16.shape[0], X16.shape[1], 1))\n",
        "X17 = X17.reshape((X17.shape[0], X17.shape[1], 1))\n",
        "X18 = X18.reshape((X18.shape[0], X18.shape[1], 1))\n"
      ],
      "execution_count": 0,
      "outputs": []
    },
    {
      "cell_type": "code",
      "metadata": {
        "id": "Y3GPbJFSslfM",
        "colab_type": "code",
        "colab": {}
      },
      "source": [
        "X_test=X_test.reshape((X_test.shape[0], X_test.shape[1], 1))\n",
        "X_test1=X_test1.reshape((X_test1.shape[0], X_test1.shape[1], 1))\n",
        "X_test2=X_test2.reshape((X_test2.shape[0], X_test2.shape[1], 1))\n",
        "X_test3=X_test3.reshape((X_test3.shape[0], X_test3.shape[1], 1))\n",
        "X_test4=X_test4.reshape((X_test4.shape[0], X_test4.shape[1], 1))\n",
        "X_test5=X_test5.reshape((X_test5.shape[0], X_test5.shape[1], 1))\n",
        "X_test6=X_test6.reshape((X_test6.shape[0], X_test6.shape[1], 1))\n",
        "X_test7=X_test7.reshape((X_test7.shape[0], X_test7.shape[1], 1))\n",
        "X_test8=X_test8.reshape((X_test8.shape[0], X_test8.shape[1], 1))\n",
        "X_test9=X_test9.reshape((X_test9.shape[0], X_test9.shape[1], 1))\n",
        "X_test10=X_test10.reshape((X_test10.shape[0], X_test10.shape[1], 1))\n",
        "X_test11=X_test11.reshape((X_test11.shape[0], X_test11.shape[1], 1))\n",
        "X_test12=X_test12.reshape((X_test12.shape[0], X_test12.shape[1], 1))\n",
        "X_test13=X_test13.reshape((X_test13.shape[0], X_test13.shape[1], 1))\n",
        "X_test14=X_test14.reshape((X_test14.shape[0], X_test14.shape[1], 1))\n",
        "X_test15=X_test15.reshape((X_test15.shape[0], X_test15.shape[1], 1))\n",
        "\n",
        "X_test16=X_test16.reshape((X_test16.shape[0], X_test16.shape[1], 1))\n",
        "X_test17=X_test17.reshape((X_test17.shape[0], X_test17.shape[1], 1))\n",
        "X_test18=X_test18.reshape((X_test18.shape[0], X_test18.shape[1], 1))\n"
      ],
      "execution_count": 0,
      "outputs": []
    },
    {
      "cell_type": "code",
      "metadata": {
        "id": "CJ0AjGmYsCUs",
        "colab_type": "code",
        "outputId": "07629fe9-bba1-4da6-b954-681817ba43c4",
        "colab": {
          "base_uri": "https://localhost:8080/",
          "height": 1000
        }
      },
      "source": [
        "model.fit(X, y, validation_data=(X_test,y_test),epochs=50)"
      ],
      "execution_count": 48,
      "outputs": [
        {
          "output_type": "stream",
          "text": [
            "Train on 11997 samples, validate on 3701 samples\n",
            "Epoch 1/50\n",
            "11997/11997 [==============================] - 4s 313us/sample - loss: 0.0012 - acc: 0.7724 - val_loss: 0.0045 - val_acc: 0.7720\n",
            "Epoch 2/50\n",
            "11997/11997 [==============================] - 3s 277us/sample - loss: 0.0011 - acc: 0.7724 - val_loss: 0.0043 - val_acc: 0.7720\n",
            "Epoch 3/50\n",
            "11997/11997 [==============================] - 3s 275us/sample - loss: 0.0011 - acc: 0.7724 - val_loss: 0.0042 - val_acc: 0.7720\n",
            "Epoch 4/50\n",
            "11997/11997 [==============================] - 3s 274us/sample - loss: 0.0011 - acc: 0.7724 - val_loss: 0.0042 - val_acc: 0.7720\n",
            "Epoch 5/50\n",
            "11997/11997 [==============================] - 3s 289us/sample - loss: 0.0011 - acc: 0.7724 - val_loss: 0.0042 - val_acc: 0.7720\n",
            "Epoch 6/50\n",
            "11997/11997 [==============================] - 3s 279us/sample - loss: 0.0011 - acc: 0.7724 - val_loss: 0.0045 - val_acc: 0.7720\n",
            "Epoch 7/50\n",
            "11997/11997 [==============================] - 3s 274us/sample - loss: 0.0011 - acc: 0.7724 - val_loss: 0.0041 - val_acc: 0.7720\n",
            "Epoch 8/50\n",
            "11997/11997 [==============================] - 3s 279us/sample - loss: 0.0011 - acc: 0.7724 - val_loss: 0.0044 - val_acc: 0.7720\n",
            "Epoch 9/50\n",
            "11997/11997 [==============================] - 3s 280us/sample - loss: 0.0011 - acc: 0.7724 - val_loss: 0.0042 - val_acc: 0.7720\n",
            "Epoch 10/50\n",
            "11997/11997 [==============================] - 3s 276us/sample - loss: 0.0011 - acc: 0.7724 - val_loss: 0.0042 - val_acc: 0.7720\n",
            "Epoch 11/50\n",
            "11997/11997 [==============================] - 3s 278us/sample - loss: 0.0011 - acc: 0.7724 - val_loss: 0.0048 - val_acc: 0.7720\n",
            "Epoch 12/50\n",
            "11997/11997 [==============================] - 3s 272us/sample - loss: 0.0011 - acc: 0.7724 - val_loss: 0.0041 - val_acc: 0.7720\n",
            "Epoch 13/50\n",
            "11997/11997 [==============================] - 3s 288us/sample - loss: 0.0011 - acc: 0.7724 - val_loss: 0.0042 - val_acc: 0.7720\n",
            "Epoch 14/50\n",
            "11997/11997 [==============================] - 3s 286us/sample - loss: 0.0011 - acc: 0.7724 - val_loss: 0.0045 - val_acc: 0.7720\n",
            "Epoch 15/50\n",
            "11997/11997 [==============================] - 4s 294us/sample - loss: 0.0011 - acc: 0.7724 - val_loss: 0.0043 - val_acc: 0.7720\n",
            "Epoch 16/50\n",
            "11997/11997 [==============================] - 3s 286us/sample - loss: 0.0011 - acc: 0.7724 - val_loss: 0.0043 - val_acc: 0.7720\n",
            "Epoch 17/50\n",
            "11997/11997 [==============================] - 4s 298us/sample - loss: 0.0011 - acc: 0.7724 - val_loss: 0.0043 - val_acc: 0.7720\n",
            "Epoch 18/50\n",
            "11997/11997 [==============================] - 4s 296us/sample - loss: 0.0011 - acc: 0.7724 - val_loss: 0.0044 - val_acc: 0.7720\n",
            "Epoch 19/50\n",
            "11997/11997 [==============================] - 4s 300us/sample - loss: 0.0011 - acc: 0.7724 - val_loss: 0.0045 - val_acc: 0.7720\n",
            "Epoch 20/50\n",
            "11997/11997 [==============================] - 3s 289us/sample - loss: 0.0011 - acc: 0.7724 - val_loss: 0.0043 - val_acc: 0.7720\n",
            "Epoch 21/50\n",
            "11997/11997 [==============================] - 4s 293us/sample - loss: 0.0011 - acc: 0.7724 - val_loss: 0.0043 - val_acc: 0.7720\n",
            "Epoch 22/50\n",
            "11997/11997 [==============================] - 4s 299us/sample - loss: 0.0011 - acc: 0.7724 - val_loss: 0.0044 - val_acc: 0.7720\n",
            "Epoch 23/50\n",
            "11997/11997 [==============================] - 4s 297us/sample - loss: 0.0011 - acc: 0.7724 - val_loss: 0.0042 - val_acc: 0.7720\n",
            "Epoch 24/50\n",
            "11997/11997 [==============================] - 4s 301us/sample - loss: 0.0011 - acc: 0.7724 - val_loss: 0.0043 - val_acc: 0.7720\n",
            "Epoch 25/50\n",
            "11997/11997 [==============================] - 4s 294us/sample - loss: 0.0011 - acc: 0.7724 - val_loss: 0.0045 - val_acc: 0.7720\n",
            "Epoch 26/50\n",
            "11997/11997 [==============================] - 4s 298us/sample - loss: 0.0011 - acc: 0.7724 - val_loss: 0.0043 - val_acc: 0.7720\n",
            "Epoch 27/50\n",
            "11997/11997 [==============================] - 4s 297us/sample - loss: 0.0011 - acc: 0.7724 - val_loss: 0.0043 - val_acc: 0.7720\n",
            "Epoch 28/50\n",
            "11997/11997 [==============================] - 4s 306us/sample - loss: 0.0011 - acc: 0.7724 - val_loss: 0.0043 - val_acc: 0.7720\n",
            "Epoch 29/50\n",
            "11997/11997 [==============================] - 4s 300us/sample - loss: 0.0011 - acc: 0.7724 - val_loss: 0.0043 - val_acc: 0.7720\n",
            "Epoch 30/50\n",
            "11997/11997 [==============================] - 4s 301us/sample - loss: 0.0011 - acc: 0.7724 - val_loss: 0.0046 - val_acc: 0.7720\n",
            "Epoch 31/50\n",
            "11997/11997 [==============================] - 4s 301us/sample - loss: 0.0011 - acc: 0.7724 - val_loss: 0.0044 - val_acc: 0.7720\n",
            "Epoch 32/50\n",
            "11997/11997 [==============================] - 4s 293us/sample - loss: 0.0011 - acc: 0.7724 - val_loss: 0.0044 - val_acc: 0.7720\n",
            "Epoch 33/50\n",
            "11997/11997 [==============================] - 3s 280us/sample - loss: 0.0011 - acc: 0.7724 - val_loss: 0.0044 - val_acc: 0.7720\n",
            "Epoch 34/50\n",
            "11997/11997 [==============================] - 3s 287us/sample - loss: 0.0011 - acc: 0.7724 - val_loss: 0.0043 - val_acc: 0.7720\n",
            "Epoch 35/50\n",
            "11997/11997 [==============================] - 4s 296us/sample - loss: 0.0011 - acc: 0.7724 - val_loss: 0.0046 - val_acc: 0.7720\n",
            "Epoch 36/50\n",
            "11997/11997 [==============================] - 3s 287us/sample - loss: 0.0011 - acc: 0.7724 - val_loss: 0.0045 - val_acc: 0.7720\n",
            "Epoch 37/50\n",
            "11997/11997 [==============================] - 4s 293us/sample - loss: 0.0011 - acc: 0.7724 - val_loss: 0.0043 - val_acc: 0.7720\n",
            "Epoch 38/50\n",
            "11997/11997 [==============================] - 3s 290us/sample - loss: 0.0011 - acc: 0.7724 - val_loss: 0.0043 - val_acc: 0.7720\n",
            "Epoch 39/50\n",
            "11997/11997 [==============================] - 3s 283us/sample - loss: 0.0011 - acc: 0.7724 - val_loss: 0.0043 - val_acc: 0.7720\n",
            "Epoch 40/50\n",
            "11997/11997 [==============================] - 4s 302us/sample - loss: 0.0011 - acc: 0.7724 - val_loss: 0.0042 - val_acc: 0.7720\n",
            "Epoch 41/50\n",
            "11997/11997 [==============================] - 3s 292us/sample - loss: 0.0011 - acc: 0.7724 - val_loss: 0.0044 - val_acc: 0.7720\n",
            "Epoch 42/50\n",
            "11997/11997 [==============================] - 4s 296us/sample - loss: 0.0011 - acc: 0.7724 - val_loss: 0.0046 - val_acc: 0.7720\n",
            "Epoch 43/50\n",
            "11997/11997 [==============================] - 4s 297us/sample - loss: 0.0011 - acc: 0.7724 - val_loss: 0.0045 - val_acc: 0.7720\n",
            "Epoch 44/50\n",
            "11997/11997 [==============================] - 3s 289us/sample - loss: 0.0011 - acc: 0.7724 - val_loss: 0.0047 - val_acc: 0.7720\n",
            "Epoch 45/50\n",
            "11997/11997 [==============================] - 3s 282us/sample - loss: 0.0011 - acc: 0.7724 - val_loss: 0.0045 - val_acc: 0.7720\n",
            "Epoch 46/50\n",
            "11997/11997 [==============================] - 3s 284us/sample - loss: 0.0011 - acc: 0.7724 - val_loss: 0.0044 - val_acc: 0.7720\n",
            "Epoch 47/50\n",
            "11997/11997 [==============================] - 4s 293us/sample - loss: 0.0011 - acc: 0.7724 - val_loss: 0.0046 - val_acc: 0.7720\n",
            "Epoch 48/50\n",
            "11997/11997 [==============================] - 3s 287us/sample - loss: 0.0011 - acc: 0.7724 - val_loss: 0.0046 - val_acc: 0.7720\n",
            "Epoch 49/50\n",
            "11997/11997 [==============================] - 3s 291us/sample - loss: 0.0011 - acc: 0.7724 - val_loss: 0.0046 - val_acc: 0.7720\n",
            "Epoch 50/50\n",
            "11997/11997 [==============================] - 3s 291us/sample - loss: 0.0011 - acc: 0.7724 - val_loss: 0.0046 - val_acc: 0.7720\n"
          ],
          "name": "stdout"
        },
        {
          "output_type": "execute_result",
          "data": {
            "text/plain": [
              "<tensorflow.python.keras.callbacks.History at 0x7f4a82c20668>"
            ]
          },
          "metadata": {
            "tags": []
          },
          "execution_count": 48
        }
      ]
    },
    {
      "cell_type": "code",
      "metadata": {
        "id": "qW849L-NsFhU",
        "colab_type": "code",
        "outputId": "7c943672-721a-432e-f13c-d24e54522843",
        "colab": {
          "base_uri": "https://localhost:8080/",
          "height": 50
        }
      },
      "source": [
        "ypred = model.predict(X)\n",
        "s=pd.DataFrame(ypred)\n",
        "s1=pd.DataFrame(y)\n",
        "s1.corrwith(s, axis = 0) "
      ],
      "execution_count": 49,
      "outputs": [
        {
          "output_type": "execute_result",
          "data": {
            "text/plain": [
              "0    0.41492\n",
              "dtype: float64"
            ]
          },
          "metadata": {
            "tags": []
          },
          "execution_count": 49
        }
      ]
    },
    {
      "cell_type": "code",
      "metadata": {
        "id": "noGIobrktgmd",
        "colab_type": "code",
        "outputId": "1ffff124-30bf-409c-f106-31c52b780b50",
        "colab": {
          "base_uri": "https://localhost:8080/",
          "height": 50
        }
      },
      "source": [
        "ypred1=model.predict(X_test)\n",
        "s=pd.DataFrame(ypred1)\n",
        "s1=pd.DataFrame(y_test)\n",
        "s1.corrwith(s,axis=0)"
      ],
      "execution_count": 50,
      "outputs": [
        {
          "output_type": "execute_result",
          "data": {
            "text/plain": [
              "0    0.384488\n",
              "dtype: float64"
            ]
          },
          "metadata": {
            "tags": []
          },
          "execution_count": 50
        }
      ]
    },
    {
      "cell_type": "code",
      "metadata": {
        "id": "2tRIWMvd8-ko",
        "colab_type": "code",
        "outputId": "c458148e-406f-44fa-f951-de5734acf167",
        "colab": {
          "base_uri": "https://localhost:8080/",
          "height": 34
        }
      },
      "source": [
        "type(ypred1)"
      ],
      "execution_count": 51,
      "outputs": [
        {
          "output_type": "execute_result",
          "data": {
            "text/plain": [
              "numpy.ndarray"
            ]
          },
          "metadata": {
            "tags": []
          },
          "execution_count": 51
        }
      ]
    },
    {
      "cell_type": "code",
      "metadata": {
        "id": "_X9AxvZa6s4R",
        "colab_type": "code",
        "colab": {}
      },
      "source": [
        "ypred1[ypred1<0] = 0"
      ],
      "execution_count": 0,
      "outputs": []
    },
    {
      "cell_type": "code",
      "metadata": {
        "id": "IiMoBR9ZQ7vq",
        "colab_type": "code",
        "colab": {
          "base_uri": "https://localhost:8080/",
          "height": 668
        },
        "outputId": "5f902834-d18e-48aa-df95-c84afd3cbc30"
      },
      "source": [
        "plt.plot(y_test)\n",
        "plt.plot(ypred1)\n",
        "plt.legend(\"Actual\",\"predicted\")\n",
        "plt.show()"
      ],
      "execution_count": 54,
      "outputs": [
        {
          "output_type": "stream",
          "text": [
            "/usr/local/lib/python3.6/dist-packages/ipykernel_launcher.py:3: UserWarning: Legend does not support 'A' instances.\n",
            "A proxy artist may be used instead.\n",
            "See: http://matplotlib.org/users/legend_guide.html#creating-artists-specifically-for-adding-to-the-legend-aka-proxy-artists\n",
            "  This is separate from the ipykernel package so we can avoid doing imports until\n",
            "/usr/local/lib/python3.6/dist-packages/ipykernel_launcher.py:3: UserWarning: Legend does not support 'c' instances.\n",
            "A proxy artist may be used instead.\n",
            "See: http://matplotlib.org/users/legend_guide.html#creating-artists-specifically-for-adding-to-the-legend-aka-proxy-artists\n",
            "  This is separate from the ipykernel package so we can avoid doing imports until\n",
            "/usr/local/lib/python3.6/dist-packages/ipykernel_launcher.py:3: UserWarning: Legend does not support 't' instances.\n",
            "A proxy artist may be used instead.\n",
            "See: http://matplotlib.org/users/legend_guide.html#creating-artists-specifically-for-adding-to-the-legend-aka-proxy-artists\n",
            "  This is separate from the ipykernel package so we can avoid doing imports until\n",
            "/usr/local/lib/python3.6/dist-packages/ipykernel_launcher.py:3: UserWarning: Legend does not support 'u' instances.\n",
            "A proxy artist may be used instead.\n",
            "See: http://matplotlib.org/users/legend_guide.html#creating-artists-specifically-for-adding-to-the-legend-aka-proxy-artists\n",
            "  This is separate from the ipykernel package so we can avoid doing imports until\n",
            "/usr/local/lib/python3.6/dist-packages/ipykernel_launcher.py:3: UserWarning: Legend does not support 'a' instances.\n",
            "A proxy artist may be used instead.\n",
            "See: http://matplotlib.org/users/legend_guide.html#creating-artists-specifically-for-adding-to-the-legend-aka-proxy-artists\n",
            "  This is separate from the ipykernel package so we can avoid doing imports until\n",
            "/usr/local/lib/python3.6/dist-packages/ipykernel_launcher.py:3: UserWarning: Legend does not support 'l' instances.\n",
            "A proxy artist may be used instead.\n",
            "See: http://matplotlib.org/users/legend_guide.html#creating-artists-specifically-for-adding-to-the-legend-aka-proxy-artists\n",
            "  This is separate from the ipykernel package so we can avoid doing imports until\n"
          ],
          "name": "stderr"
        },
        {
          "output_type": "display_data",
          "data": {
            "image/png": "[encoded data removed]",
            "text/plain": [
              "<Figure size 432x288 with 1 Axes>"
            ]
          },
          "metadata": {
            "tags": []
          }
        }
      ]
    },
    {
      "cell_type": "code",
      "metadata": {
        "id": "KAqZPa33aTfo",
        "colab_type": "code",
        "colab": {}
      },
      "source": [
        "from sklearn.metrics import mean_absolute_error"
      ],
      "execution_count": 0,
      "outputs": []
    },
    {
      "cell_type": "code",
      "metadata": {
        "id": "GpEoHv92aYGB",
        "colab_type": "code",
        "outputId": "dcd43579-aa60-4b13-dc2d-f47961040ca6",
        "colab": {
          "base_uri": "https://localhost:8080/",
          "height": 34
        }
      },
      "source": [
        "mean_absolute_error(y,ypred)"
      ],
      "execution_count": 56,
      "outputs": [
        {
          "output_type": "execute_result",
          "data": {
            "text/plain": [
              "0.01058955853354721"
            ]
          },
          "metadata": {
            "tags": []
          },
          "execution_count": 56
        }
      ]
    },
    {
      "cell_type": "code",
      "metadata": {
        "id": "UutDAI0Oaah6",
        "colab_type": "code",
        "outputId": "97f38b31-0d96-4e9e-8d89-f31cf70caeaf",
        "colab": {
          "base_uri": "https://localhost:8080/",
          "height": 34
        }
      },
      "source": [
        "mean_absolute_error(y_test,ypred1)"
      ],
      "execution_count": 57,
      "outputs": [
        {
          "output_type": "execute_result",
          "data": {
            "text/plain": [
              "0.02057472755157129"
            ]
          },
          "metadata": {
            "tags": []
          },
          "execution_count": 57
        }
      ]
    },
    {
      "cell_type": "code",
      "metadata": {
        "id": "xg8kvCOYtkrq",
        "colab_type": "code",
        "outputId": "14a2b674-e73a-4aad-a5db-a62f1191e6a8",
        "colab": {
          "base_uri": "https://localhost:8080/",
          "height": 34
        }
      },
      "source": [
        " from sklearn.metrics import r2_score\n",
        " r2_score(y,ypred)"
      ],
      "execution_count": 58,
      "outputs": [
        {
          "output_type": "execute_result",
          "data": {
            "text/plain": [
              "0.16686566496201283"
            ]
          },
          "metadata": {
            "tags": []
          },
          "execution_count": 58
        }
      ]
    },
    {
      "cell_type": "code",
      "metadata": {
        "id": "j7rV7tCmtn70",
        "colab_type": "code",
        "outputId": "7ffa60fa-d6ba-43a6-98f1-0d993bbe2006",
        "colab": {
          "base_uri": "https://localhost:8080/",
          "height": 34
        }
      },
      "source": [
        "r2_score(y_test,ypred1)"
      ],
      "execution_count": 59,
      "outputs": [
        {
          "output_type": "execute_result",
          "data": {
            "text/plain": [
              "0.11582176346256012"
            ]
          },
          "metadata": {
            "tags": []
          },
          "execution_count": 59
        }
      ]
    },
    {
      "cell_type": "code",
      "metadata": {
        "id": "Tszet6x2PkK1",
        "colab_type": "code",
        "colab": {}
      },
      "source": [
        "model = keras.Sequential()\n",
        "model.add(keras.layers.LSTM(50, activation='relu',return_sequences=True, input_shape=(n_steps, 1)))\n",
        "model.add(keras.layers.LSTM(50, activation='relu'))\n",
        "model.add(keras.layers.Dense(1))\n",
        "model.compile(optimizer='adam', loss='mse',metrics=['accuracy'])"
      ],
      "execution_count": 0,
      "outputs": []
    },
    {
      "cell_type": "code",
      "metadata": {
        "id": "RpGZF90Nw8oU",
        "colab_type": "code",
        "outputId": "351a073e-67d6-498e-e090-2cf2526370d5",
        "colab": {
          "base_uri": "https://localhost:8080/",
          "height": 1000
        }
      },
      "source": [
        "model.fit(X1, y1, validation_data=(X_test1,y_test1),epochs=50)"
      ],
      "execution_count": 61,
      "outputs": [
        {
          "output_type": "stream",
          "text": [
            "Train on 11997 samples, validate on 3701 samples\n",
            "Epoch 1/50\n",
            "11997/11997 [==============================] - 5s 416us/sample - loss: 0.0016 - acc: 0.8519 - val_loss: 3.0637e-04 - val_acc: 0.8533\n",
            "Epoch 2/50\n",
            "11997/11997 [==============================] - 4s 294us/sample - loss: 0.0015 - acc: 0.8519 - val_loss: 2.9475e-04 - val_acc: 0.8533\n",
            "Epoch 3/50\n",
            "11997/11997 [==============================] - 3s 289us/sample - loss: 0.0015 - acc: 0.8519 - val_loss: 2.9484e-04 - val_acc: 0.8533\n",
            "Epoch 4/50\n",
            "11997/11997 [==============================] - 3s 285us/sample - loss: 0.0015 - acc: 0.8519 - val_loss: 2.9816e-04 - val_acc: 0.8533\n",
            "Epoch 5/50\n",
            "11997/11997 [==============================] - 4s 295us/sample - loss: 0.0015 - acc: 0.8519 - val_loss: 2.9318e-04 - val_acc: 0.8533\n",
            "Epoch 6/50\n",
            "11997/11997 [==============================] - 4s 303us/sample - loss: 0.0015 - acc: 0.8519 - val_loss: 2.9988e-04 - val_acc: 0.8533\n",
            "Epoch 7/50\n",
            "11997/11997 [==============================] - 3s 291us/sample - loss: 0.0015 - acc: 0.8519 - val_loss: 3.4029e-04 - val_acc: 0.8533\n",
            "Epoch 8/50\n",
            "11997/11997 [==============================] - 4s 295us/sample - loss: 0.0015 - acc: 0.8519 - val_loss: 3.2491e-04 - val_acc: 0.8533\n",
            "Epoch 9/50\n",
            "11997/11997 [==============================] - 4s 297us/sample - loss: 0.0015 - acc: 0.8519 - val_loss: 3.5698e-04 - val_acc: 0.8533\n",
            "Epoch 10/50\n",
            "11997/11997 [==============================] - 3s 290us/sample - loss: 0.0015 - acc: 0.8519 - val_loss: 3.2919e-04 - val_acc: 0.8533\n",
            "Epoch 11/50\n",
            "11997/11997 [==============================] - 3s 288us/sample - loss: 0.0015 - acc: 0.8519 - val_loss: 3.2563e-04 - val_acc: 0.8533\n",
            "Epoch 12/50\n",
            "11997/11997 [==============================] - 4s 294us/sample - loss: 0.0015 - acc: 0.8519 - val_loss: 3.1764e-04 - val_acc: 0.8533\n",
            "Epoch 13/50\n",
            "11997/11997 [==============================] - 4s 299us/sample - loss: 0.0015 - acc: 0.8519 - val_loss: 2.8299e-04 - val_acc: 0.8533\n",
            "Epoch 14/50\n",
            "11997/11997 [==============================] - 4s 292us/sample - loss: 0.0015 - acc: 0.8519 - val_loss: 2.9840e-04 - val_acc: 0.8533\n",
            "Epoch 15/50\n",
            "11997/11997 [==============================] - 4s 302us/sample - loss: 0.0015 - acc: 0.8519 - val_loss: 3.0117e-04 - val_acc: 0.8533\n",
            "Epoch 16/50\n",
            "11997/11997 [==============================] - 4s 294us/sample - loss: 0.0015 - acc: 0.8519 - val_loss: 3.2497e-04 - val_acc: 0.8533\n",
            "Epoch 17/50\n",
            "11997/11997 [==============================] - 3s 288us/sample - loss: 0.0015 - acc: 0.8519 - val_loss: 2.8193e-04 - val_acc: 0.8533\n",
            "Epoch 18/50\n",
            "11997/11997 [==============================] - 3s 288us/sample - loss: 0.0015 - acc: 0.8519 - val_loss: 2.8800e-04 - val_acc: 0.8533\n",
            "Epoch 19/50\n",
            "11997/11997 [==============================] - 3s 289us/sample - loss: 0.0015 - acc: 0.8519 - val_loss: 2.8950e-04 - val_acc: 0.8533\n",
            "Epoch 20/50\n",
            "11997/11997 [==============================] - 3s 287us/sample - loss: 0.0015 - acc: 0.8519 - val_loss: 3.1987e-04 - val_acc: 0.8533\n",
            "Epoch 21/50\n",
            "11997/11997 [==============================] - 3s 281us/sample - loss: 0.0015 - acc: 0.8519 - val_loss: 3.0995e-04 - val_acc: 0.8533\n",
            "Epoch 22/50\n",
            "11997/11997 [==============================] - 3s 288us/sample - loss: 0.0015 - acc: 0.8519 - val_loss: 3.3543e-04 - val_acc: 0.8533\n",
            "Epoch 23/50\n",
            "11997/11997 [==============================] - 3s 286us/sample - loss: 0.0015 - acc: 0.8519 - val_loss: 3.6192e-04 - val_acc: 0.8533\n",
            "Epoch 24/50\n",
            "11997/11997 [==============================] - 3s 289us/sample - loss: 0.0015 - acc: 0.8519 - val_loss: 3.1243e-04 - val_acc: 0.8533\n",
            "Epoch 25/50\n",
            "11997/11997 [==============================] - 3s 284us/sample - loss: 0.0015 - acc: 0.8519 - val_loss: 2.9183e-04 - val_acc: 0.8533\n",
            "Epoch 26/50\n",
            "11997/11997 [==============================] - 3s 283us/sample - loss: 0.0015 - acc: 0.8519 - val_loss: 2.7985e-04 - val_acc: 0.8533\n",
            "Epoch 27/50\n",
            "11997/11997 [==============================] - 3s 287us/sample - loss: 0.0014 - acc: 0.8519 - val_loss: 3.0003e-04 - val_acc: 0.8533\n",
            "Epoch 28/50\n",
            "11997/11997 [==============================] - 3s 284us/sample - loss: 0.0015 - acc: 0.8519 - val_loss: 2.9842e-04 - val_acc: 0.8533\n",
            "Epoch 29/50\n",
            "11997/11997 [==============================] - 3s 286us/sample - loss: 0.0014 - acc: 0.8519 - val_loss: 2.9768e-04 - val_acc: 0.8533\n",
            "Epoch 30/50\n",
            "11997/11997 [==============================] - 3s 290us/sample - loss: 0.0015 - acc: 0.8519 - val_loss: 2.7866e-04 - val_acc: 0.8533\n",
            "Epoch 31/50\n",
            "11997/11997 [==============================] - 3s 289us/sample - loss: 0.0015 - acc: 0.8519 - val_loss: 3.6099e-04 - val_acc: 0.8533\n",
            "Epoch 32/50\n",
            "11997/11997 [==============================] - 3s 286us/sample - loss: 0.0014 - acc: 0.8519 - val_loss: 2.8750e-04 - val_acc: 0.8533\n",
            "Epoch 33/50\n",
            "11997/11997 [==============================] - 3s 276us/sample - loss: 0.0014 - acc: 0.8519 - val_loss: 3.5736e-04 - val_acc: 0.8533\n",
            "Epoch 34/50\n",
            "11997/11997 [==============================] - 3s 283us/sample - loss: 0.0014 - acc: 0.8519 - val_loss: 3.4096e-04 - val_acc: 0.8533\n",
            "Epoch 35/50\n",
            "11997/11997 [==============================] - 4s 297us/sample - loss: 0.0014 - acc: 0.8519 - val_loss: 2.8456e-04 - val_acc: 0.8533\n",
            "Epoch 36/50\n",
            "11997/11997 [==============================] - 4s 294us/sample - loss: 0.0014 - acc: 0.8519 - val_loss: 2.8391e-04 - val_acc: 0.8533\n",
            "Epoch 37/50\n",
            "11997/11997 [==============================] - 3s 291us/sample - loss: 0.0014 - acc: 0.8519 - val_loss: 2.8190e-04 - val_acc: 0.8533\n",
            "Epoch 38/50\n",
            "11997/11997 [==============================] - 3s 282us/sample - loss: 0.0014 - acc: 0.8519 - val_loss: 3.4903e-04 - val_acc: 0.8533\n",
            "Epoch 39/50\n",
            "11997/11997 [==============================] - 3s 281us/sample - loss: 0.0014 - acc: 0.8519 - val_loss: 2.7857e-04 - val_acc: 0.8533\n",
            "Epoch 40/50\n",
            "11997/11997 [==============================] - 3s 278us/sample - loss: 0.0014 - acc: 0.8519 - val_loss: 3.2270e-04 - val_acc: 0.8533\n",
            "Epoch 41/50\n",
            "11997/11997 [==============================] - 3s 287us/sample - loss: 0.0014 - acc: 0.8519 - val_loss: 2.7783e-04 - val_acc: 0.8533\n",
            "Epoch 42/50\n",
            "11997/11997 [==============================] - 3s 275us/sample - loss: 0.0014 - acc: 0.8519 - val_loss: 3.0079e-04 - val_acc: 0.8533\n",
            "Epoch 43/50\n",
            "11997/11997 [==============================] - 3s 275us/sample - loss: 0.0014 - acc: 0.8519 - val_loss: 2.8402e-04 - val_acc: 0.8533\n",
            "Epoch 44/50\n",
            "11997/11997 [==============================] - 3s 276us/sample - loss: 0.0014 - acc: 0.8519 - val_loss: 2.8284e-04 - val_acc: 0.8533\n",
            "Epoch 45/50\n",
            "11997/11997 [==============================] - 3s 278us/sample - loss: 0.0014 - acc: 0.8519 - val_loss: 2.9835e-04 - val_acc: 0.8533\n",
            "Epoch 46/50\n",
            "11997/11997 [==============================] - 3s 284us/sample - loss: 0.0014 - acc: 0.8519 - val_loss: 2.8392e-04 - val_acc: 0.8533\n",
            "Epoch 47/50\n",
            "11997/11997 [==============================] - 3s 273us/sample - loss: 0.0014 - acc: 0.8519 - val_loss: 2.8935e-04 - val_acc: 0.8533\n",
            "Epoch 48/50\n",
            "11997/11997 [==============================] - 3s 277us/sample - loss: 0.0014 - acc: 0.8519 - val_loss: 2.9208e-04 - val_acc: 0.8533\n",
            "Epoch 49/50\n",
            "11997/11997 [==============================] - 4s 295us/sample - loss: 0.0014 - acc: 0.8519 - val_loss: 3.1701e-04 - val_acc: 0.8533\n",
            "Epoch 50/50\n",
            "11997/11997 [==============================] - 4s 304us/sample - loss: 0.0014 - acc: 0.8519 - val_loss: 3.0955e-04 - val_acc: 0.8533\n"
          ],
          "name": "stdout"
        },
        {
          "output_type": "execute_result",
          "data": {
            "text/plain": [
              "<tensorflow.python.keras.callbacks.History at 0x7f4a826bf518>"
            ]
          },
          "metadata": {
            "tags": []
          },
          "execution_count": 61
        }
      ]
    },
    {
      "cell_type": "code",
      "metadata": {
        "id": "wbC1-ArQHzOa",
        "colab_type": "code",
        "outputId": "141a9ec9-eb9c-4bad-fac9-421047eb3a98",
        "colab": {
          "base_uri": "https://localhost:8080/",
          "height": 50
        }
      },
      "source": [
        "ypred = model.predict(X1)\n",
        "s=pd.DataFrame(ypred)\n",
        "s1=pd.DataFrame(y1)\n",
        "s1.corrwith(s, axis = 0) "
      ],
      "execution_count": 62,
      "outputs": [
        {
          "output_type": "execute_result",
          "data": {
            "text/plain": [
              "0    0.374406\n",
              "dtype: float64"
            ]
          },
          "metadata": {
            "tags": []
          },
          "execution_count": 62
        }
      ]
    },
    {
      "cell_type": "code",
      "metadata": {
        "id": "RjJslfLMJEbs",
        "colab_type": "code",
        "outputId": "7c3dfb0d-8b3b-49ef-b192-735109ac205c",
        "colab": {
          "base_uri": "https://localhost:8080/",
          "height": 50
        }
      },
      "source": [
        "ypred1=model.predict(X_test1)\n",
        "s=pd.DataFrame(ypred1)\n",
        "s1=pd.DataFrame(y_test1)\n",
        "s1.corrwith(s,axis=0)"
      ],
      "execution_count": 63,
      "outputs": [
        {
          "output_type": "execute_result",
          "data": {
            "text/plain": [
              "0   -0.000364\n",
              "dtype: float64"
            ]
          },
          "metadata": {
            "tags": []
          },
          "execution_count": 63
        }
      ]
    },
    {
      "cell_type": "code",
      "metadata": {
        "id": "iot6np04aiT_",
        "colab_type": "code",
        "outputId": "d965b0b1-29e7-4ad8-9f55-5d96c6275a3d",
        "colab": {
          "base_uri": "https://localhost:8080/",
          "height": 34
        }
      },
      "source": [
        "mean_absolute_error(y1,ypred)"
      ],
      "execution_count": 64,
      "outputs": [
        {
          "output_type": "execute_result",
          "data": {
            "text/plain": [
              "0.015313844833462764"
            ]
          },
          "metadata": {
            "tags": []
          },
          "execution_count": 64
        }
      ]
    },
    {
      "cell_type": "code",
      "metadata": {
        "id": "a8iPWieZam7l",
        "colab_type": "code",
        "outputId": "48841bda-46a9-4a1f-9cd5-15f090b158fe",
        "colab": {
          "base_uri": "https://localhost:8080/",
          "height": 34
        }
      },
      "source": [
        "mean_absolute_error(y_test1,ypred1)"
      ],
      "execution_count": 65,
      "outputs": [
        {
          "output_type": "execute_result",
          "data": {
            "text/plain": [
              "0.0063616962443744166"
            ]
          },
          "metadata": {
            "tags": []
          },
          "execution_count": 65
        }
      ]
    },
    {
      "cell_type": "code",
      "metadata": {
        "id": "IbLt0Hz1Mop2",
        "colab_type": "code",
        "outputId": "d2462e40-914c-441e-ca7b-84c9d4f774e0",
        "colab": {
          "base_uri": "https://localhost:8080/",
          "height": 34
        }
      },
      "source": [
        "r2_score(y1,ypred)"
      ],
      "execution_count": 66,
      "outputs": [
        {
          "output_type": "execute_result",
          "data": {
            "text/plain": [
              "0.13586688448305295"
            ]
          },
          "metadata": {
            "tags": []
          },
          "execution_count": 66
        }
      ]
    },
    {
      "cell_type": "code",
      "metadata": {
        "id": "X7U_mkgGMrxT",
        "colab_type": "code",
        "outputId": "b857b231-4830-4c7a-ab6f-a9e86dd0eda0",
        "colab": {
          "base_uri": "https://localhost:8080/",
          "height": 34
        }
      },
      "source": [
        "r2_score(y_test1,ypred1)"
      ],
      "execution_count": 67,
      "outputs": [
        {
          "output_type": "execute_result",
          "data": {
            "text/plain": [
              "-0.14597174668472523"
            ]
          },
          "metadata": {
            "tags": []
          },
          "execution_count": 67
        }
      ]
    },
    {
      "cell_type": "code",
      "metadata": {
        "id": "Kkan6_x79Z_Q",
        "colab_type": "code",
        "colab": {}
      },
      "source": [
        "ypred1[ypred1<0] = 0"
      ],
      "execution_count": 0,
      "outputs": []
    },
    {
      "cell_type": "code",
      "metadata": {
        "id": "mErys37k9lLz",
        "colab_type": "code",
        "outputId": "10454feb-b21e-4738-d0c4-25040a496074",
        "colab": {
          "base_uri": "https://localhost:8080/",
          "height": 668
        }
      },
      "source": [
        "plt.plot(y_test1)\n",
        "plt.plot(ypred1)\n",
        "plt.legend(\"Actual\",\"predicted\")\n",
        "plt.show()"
      ],
      "execution_count": 69,
      "outputs": [
        {
          "output_type": "stream",
          "text": [
            "/usr/local/lib/python3.6/dist-packages/ipykernel_launcher.py:3: UserWarning: Legend does not support 'A' instances.\n",
            "A proxy artist may be used instead.\n",
            "See: http://matplotlib.org/users/legend_guide.html#creating-artists-specifically-for-adding-to-the-legend-aka-proxy-artists\n",
            "  This is separate from the ipykernel package so we can avoid doing imports until\n",
            "/usr/local/lib/python3.6/dist-packages/ipykernel_launcher.py:3: UserWarning: Legend does not support 'c' instances.\n",
            "A proxy artist may be used instead.\n",
            "See: http://matplotlib.org/users/legend_guide.html#creating-artists-specifically-for-adding-to-the-legend-aka-proxy-artists\n",
            "  This is separate from the ipykernel package so we can avoid doing imports until\n",
            "/usr/local/lib/python3.6/dist-packages/ipykernel_launcher.py:3: UserWarning: Legend does not support 't' instances.\n",
            "A proxy artist may be used instead.\n",
            "See: http://matplotlib.org/users/legend_guide.html#creating-artists-specifically-for-adding-to-the-legend-aka-proxy-artists\n",
            "  This is separate from the ipykernel package so we can avoid doing imports until\n",
            "/usr/local/lib/python3.6/dist-packages/ipykernel_launcher.py:3: UserWarning: Legend does not support 'u' instances.\n",
            "A proxy artist may be used instead.\n",
            "See: http://matplotlib.org/users/legend_guide.html#creating-artists-specifically-for-adding-to-the-legend-aka-proxy-artists\n",
            "  This is separate from the ipykernel package so we can avoid doing imports until\n",
            "/usr/local/lib/python3.6/dist-packages/ipykernel_launcher.py:3: UserWarning: Legend does not support 'a' instances.\n",
            "A proxy artist may be used instead.\n",
            "See: http://matplotlib.org/users/legend_guide.html#creating-artists-specifically-for-adding-to-the-legend-aka-proxy-artists\n",
            "  This is separate from the ipykernel package so we can avoid doing imports until\n",
            "/usr/local/lib/python3.6/dist-packages/ipykernel_launcher.py:3: UserWarning: Legend does not support 'l' instances.\n",
            "A proxy artist may be used instead.\n",
            "See: http://matplotlib.org/users/legend_guide.html#creating-artists-specifically-for-adding-to-the-legend-aka-proxy-artists\n",
            "  This is separate from the ipykernel package so we can avoid doing imports until\n"
          ],
          "name": "stderr"
        },
        {
          "output_type": "display_data",
          "data": {
            "image/png": "[encoded data removed]",
            "text/plain": [
              "<Figure size 432x288 with 1 Axes>"
            ]
          },
          "metadata": {
            "tags": []
          }
        }
      ]
    },
    {
      "cell_type": "code",
      "metadata": {
        "id": "N5tR-EOIB5Vp",
        "colab_type": "code",
        "outputId": "66aa3ba1-3604-455e-eaf4-3c8035bc514c",
        "colab": {
          "base_uri": "https://localhost:8080/",
          "height": 265
        }
      },
      "source": [
        "plt.plot(y_test1)\n",
        "plt.show()"
      ],
      "execution_count": 70,
      "outputs": [
        {
          "output_type": "display_data",
          "data": {
            "image/png": "[encoded data removed]",
            "text/plain": [
              "<Figure size 432x288 with 1 Axes>"
            ]
          },
          "metadata": {
            "tags": []
          }
        }
      ]
    },
    {
      "cell_type": "code",
      "metadata": {
        "id": "fzzy8_zt_9n-",
        "colab_type": "code",
        "colab": {}
      },
      "source": [
        "model = keras.Sequential()\n",
        "model.add(keras.layers.LSTM(50, activation='relu',return_sequences=True, input_shape=(n_steps, 1)))\n",
        "model.add(keras.layers.LSTM(50, activation='relu'))\n",
        "model.add(keras.layers.Dense(1))\n",
        "model.compile(optimizer='adam', loss='mse',metrics=['accuracy'])"
      ],
      "execution_count": 0,
      "outputs": []
    },
    {
      "cell_type": "code",
      "metadata": {
        "id": "dyKBYmkUtKUU",
        "colab_type": "code",
        "outputId": "6ff835e5-7013-4b0e-9284-c7a891930239",
        "colab": {
          "base_uri": "https://localhost:8080/",
          "height": 1000
        }
      },
      "source": [
        "model.fit(X2, y2, validation_data=(X_test2,y_test2),epochs=50)"
      ],
      "execution_count": 72,
      "outputs": [
        {
          "output_type": "stream",
          "text": [
            "Train on 11997 samples, validate on 3671 samples\n",
            "Epoch 1/50\n",
            "11997/11997 [==============================] - 5s 445us/sample - loss: 0.0049 - acc: 0.8414 - val_loss: 0.0023 - val_acc: 0.8635\n",
            "Epoch 2/50\n",
            "11997/11997 [==============================] - 4s 300us/sample - loss: 0.0048 - acc: 0.8414 - val_loss: 0.0023 - val_acc: 0.8635\n",
            "Epoch 3/50\n",
            "11997/11997 [==============================] - 4s 307us/sample - loss: 0.0048 - acc: 0.8414 - val_loss: 0.0023 - val_acc: 0.8635\n",
            "Epoch 4/50\n",
            "11997/11997 [==============================] - 4s 300us/sample - loss: 0.0048 - acc: 0.8414 - val_loss: 0.0023 - val_acc: 0.8635\n",
            "Epoch 5/50\n",
            "11997/11997 [==============================] - 4s 303us/sample - loss: 0.0047 - acc: 0.8414 - val_loss: 0.0023 - val_acc: 0.8635\n",
            "Epoch 6/50\n",
            "11997/11997 [==============================] - 3s 287us/sample - loss: 0.0047 - acc: 0.8414 - val_loss: 0.0023 - val_acc: 0.8635\n",
            "Epoch 7/50\n",
            "11997/11997 [==============================] - 3s 277us/sample - loss: 0.0047 - acc: 0.8414 - val_loss: 0.0023 - val_acc: 0.8635\n",
            "Epoch 8/50\n",
            "11997/11997 [==============================] - 3s 274us/sample - loss: 0.0047 - acc: 0.8414 - val_loss: 0.0023 - val_acc: 0.8635\n",
            "Epoch 9/50\n",
            "11997/11997 [==============================] - 3s 276us/sample - loss: 0.0047 - acc: 0.8414 - val_loss: 0.0023 - val_acc: 0.8635\n",
            "Epoch 10/50\n",
            "11997/11997 [==============================] - 3s 273us/sample - loss: 0.0047 - acc: 0.8414 - val_loss: 0.0023 - val_acc: 0.8635\n",
            "Epoch 11/50\n",
            "11997/11997 [==============================] - 3s 275us/sample - loss: 0.0047 - acc: 0.8414 - val_loss: 0.0024 - val_acc: 0.8635\n",
            "Epoch 12/50\n",
            "11997/11997 [==============================] - 3s 280us/sample - loss: 0.0047 - acc: 0.8414 - val_loss: 0.0023 - val_acc: 0.8635\n",
            "Epoch 13/50\n",
            "11997/11997 [==============================] - 3s 271us/sample - loss: 0.0047 - acc: 0.8414 - val_loss: 0.0023 - val_acc: 0.8635\n",
            "Epoch 14/50\n",
            "11997/11997 [==============================] - 3s 273us/sample - loss: 0.0047 - acc: 0.8414 - val_loss: 0.0023 - val_acc: 0.8635\n",
            "Epoch 15/50\n",
            "11997/11997 [==============================] - 3s 270us/sample - loss: 0.0047 - acc: 0.8414 - val_loss: 0.0023 - val_acc: 0.8635\n",
            "Epoch 16/50\n",
            "11997/11997 [==============================] - 3s 277us/sample - loss: 0.0047 - acc: 0.8414 - val_loss: 0.0023 - val_acc: 0.8635\n",
            "Epoch 17/50\n",
            "11997/11997 [==============================] - 3s 271us/sample - loss: 0.0047 - acc: 0.8414 - val_loss: 0.0023 - val_acc: 0.8635\n",
            "Epoch 18/50\n",
            "11997/11997 [==============================] - 3s 271us/sample - loss: 0.0047 - acc: 0.8414 - val_loss: 0.0024 - val_acc: 0.8635\n",
            "Epoch 19/50\n",
            "11997/11997 [==============================] - 3s 270us/sample - loss: 0.0047 - acc: 0.8414 - val_loss: 0.0023 - val_acc: 0.8635\n",
            "Epoch 20/50\n",
            "11997/11997 [==============================] - 3s 274us/sample - loss: 0.0047 - acc: 0.8414 - val_loss: 0.0023 - val_acc: 0.8635\n",
            "Epoch 21/50\n",
            "11997/11997 [==============================] - 3s 277us/sample - loss: 0.0047 - acc: 0.8414 - val_loss: 0.0023 - val_acc: 0.8635\n",
            "Epoch 22/50\n",
            "11997/11997 [==============================] - 3s 284us/sample - loss: 0.0047 - acc: 0.8414 - val_loss: 0.0024 - val_acc: 0.8635\n",
            "Epoch 23/50\n",
            "11997/11997 [==============================] - 3s 275us/sample - loss: 0.0047 - acc: 0.8414 - val_loss: 0.0023 - val_acc: 0.8635\n",
            "Epoch 24/50\n",
            "11997/11997 [==============================] - 3s 280us/sample - loss: 0.0047 - acc: 0.8414 - val_loss: 0.0025 - val_acc: 0.8635\n",
            "Epoch 25/50\n",
            "11997/11997 [==============================] - 3s 278us/sample - loss: 0.0047 - acc: 0.8414 - val_loss: 0.0023 - val_acc: 0.8635\n",
            "Epoch 26/50\n",
            "11997/11997 [==============================] - 3s 279us/sample - loss: 0.0047 - acc: 0.8414 - val_loss: 0.0024 - val_acc: 0.8635\n",
            "Epoch 27/50\n",
            "11997/11997 [==============================] - 3s 275us/sample - loss: 0.0047 - acc: 0.8414 - val_loss: 0.0023 - val_acc: 0.8635\n",
            "Epoch 28/50\n",
            "11997/11997 [==============================] - 3s 274us/sample - loss: 0.0047 - acc: 0.8414 - val_loss: 0.0023 - val_acc: 0.8635\n",
            "Epoch 29/50\n",
            "11997/11997 [==============================] - 3s 288us/sample - loss: 0.0047 - acc: 0.8414 - val_loss: 0.0023 - val_acc: 0.8635\n",
            "Epoch 30/50\n",
            "11997/11997 [==============================] - 3s 270us/sample - loss: 0.0047 - acc: 0.8414 - val_loss: 0.0023 - val_acc: 0.8635\n",
            "Epoch 31/50\n",
            "11997/11997 [==============================] - 3s 270us/sample - loss: 0.0047 - acc: 0.8414 - val_loss: 0.0023 - val_acc: 0.8635\n",
            "Epoch 32/50\n",
            "11997/11997 [==============================] - 3s 270us/sample - loss: 0.0047 - acc: 0.8414 - val_loss: 0.0023 - val_acc: 0.8635\n",
            "Epoch 33/50\n",
            "11997/11997 [==============================] - 3s 291us/sample - loss: 0.0047 - acc: 0.8414 - val_loss: 0.0023 - val_acc: 0.8635\n",
            "Epoch 34/50\n",
            "11997/11997 [==============================] - 3s 281us/sample - loss: 0.0047 - acc: 0.8414 - val_loss: 0.0023 - val_acc: 0.8635\n",
            "Epoch 35/50\n",
            "11997/11997 [==============================] - 3s 281us/sample - loss: 0.0047 - acc: 0.8414 - val_loss: 0.0023 - val_acc: 0.8635\n",
            "Epoch 36/50\n",
            "11997/11997 [==============================] - 3s 280us/sample - loss: 0.0047 - acc: 0.8414 - val_loss: 0.0023 - val_acc: 0.8635\n",
            "Epoch 37/50\n",
            "11997/11997 [==============================] - 3s 284us/sample - loss: 0.0047 - acc: 0.8414 - val_loss: 0.0023 - val_acc: 0.8635\n",
            "Epoch 38/50\n",
            "11997/11997 [==============================] - 3s 282us/sample - loss: 0.0047 - acc: 0.8414 - val_loss: 0.0023 - val_acc: 0.8635\n",
            "Epoch 39/50\n",
            "11997/11997 [==============================] - 3s 278us/sample - loss: 0.0047 - acc: 0.8414 - val_loss: 0.0023 - val_acc: 0.8635\n",
            "Epoch 40/50\n",
            "11997/11997 [==============================] - 3s 275us/sample - loss: 0.0047 - acc: 0.8414 - val_loss: 0.0024 - val_acc: 0.8635\n",
            "Epoch 41/50\n",
            "11997/11997 [==============================] - 3s 272us/sample - loss: 0.0047 - acc: 0.8414 - val_loss: 0.0023 - val_acc: 0.8635\n",
            "Epoch 42/50\n",
            "11997/11997 [==============================] - 3s 267us/sample - loss: 0.0047 - acc: 0.8414 - val_loss: 0.0023 - val_acc: 0.8635\n",
            "Epoch 43/50\n",
            "11997/11997 [==============================] - 3s 271us/sample - loss: 0.0047 - acc: 0.8414 - val_loss: 0.0023 - val_acc: 0.8635\n",
            "Epoch 44/50\n",
            "11997/11997 [==============================] - 3s 276us/sample - loss: 0.0047 - acc: 0.8414 - val_loss: 0.0023 - val_acc: 0.8635\n",
            "Epoch 45/50\n",
            "11997/11997 [==============================] - 3s 269us/sample - loss: 0.0047 - acc: 0.8414 - val_loss: 0.0023 - val_acc: 0.8635\n",
            "Epoch 46/50\n",
            "11997/11997 [==============================] - 3s 275us/sample - loss: 0.0047 - acc: 0.8414 - val_loss: 0.0023 - val_acc: 0.8635\n",
            "Epoch 47/50\n",
            "11997/11997 [==============================] - 3s 282us/sample - loss: 0.0047 - acc: 0.8414 - val_loss: 0.0023 - val_acc: 0.8635\n",
            "Epoch 48/50\n",
            "11997/11997 [==============================] - 3s 274us/sample - loss: 0.0047 - acc: 0.8414 - val_loss: 0.0023 - val_acc: 0.8635\n",
            "Epoch 49/50\n",
            "11997/11997 [==============================] - 3s 279us/sample - loss: 0.0047 - acc: 0.8414 - val_loss: 0.0023 - val_acc: 0.8635\n",
            "Epoch 50/50\n",
            "11997/11997 [==============================] - 3s 277us/sample - loss: 0.0047 - acc: 0.8414 - val_loss: 0.0023 - val_acc: 0.8635\n"
          ],
          "name": "stdout"
        },
        {
          "output_type": "execute_result",
          "data": {
            "text/plain": [
              "<tensorflow.python.keras.callbacks.History at 0x7f4a82839c88>"
            ]
          },
          "metadata": {
            "tags": []
          },
          "execution_count": 72
        }
      ]
    },
    {
      "cell_type": "code",
      "metadata": {
        "id": "JEu6KMnhH0z8",
        "colab_type": "code",
        "outputId": "150b82af-d27a-4e3b-9056-3cf8c7d15dd1",
        "colab": {
          "base_uri": "https://localhost:8080/",
          "height": 50
        }
      },
      "source": [
        "ypred = model.predict(X2)\n",
        "s=pd.DataFrame(ypred)\n",
        "s1=pd.DataFrame(y2)\n",
        "s1.corrwith(s, axis = 0) "
      ],
      "execution_count": 73,
      "outputs": [
        {
          "output_type": "execute_result",
          "data": {
            "text/plain": [
              "0    0.26236\n",
              "dtype: float64"
            ]
          },
          "metadata": {
            "tags": []
          },
          "execution_count": 73
        }
      ]
    },
    {
      "cell_type": "code",
      "metadata": {
        "id": "zh49J42kJF0i",
        "colab_type": "code",
        "outputId": "5561a535-59de-46c0-dfe0-b662ca80225a",
        "colab": {
          "base_uri": "https://localhost:8080/",
          "height": 50
        }
      },
      "source": [
        "ypred1=model.predict(X_test2)\n",
        "s=pd.DataFrame(ypred1)\n",
        "s1=pd.DataFrame(y_test2)\n",
        "s1.corrwith(s,axis=0)"
      ],
      "execution_count": 74,
      "outputs": [
        {
          "output_type": "execute_result",
          "data": {
            "text/plain": [
              "0    0.201596\n",
              "dtype: float64"
            ]
          },
          "metadata": {
            "tags": []
          },
          "execution_count": 74
        }
      ]
    },
    {
      "cell_type": "code",
      "metadata": {
        "id": "Xwk6R9otatSo",
        "colab_type": "code",
        "outputId": "26b4e357-d3e5-4858-87e3-2ba9c113187b",
        "colab": {
          "base_uri": "https://localhost:8080/",
          "height": 34
        }
      },
      "source": [
        "mean_absolute_error(y2,ypred)"
      ],
      "execution_count": 75,
      "outputs": [
        {
          "output_type": "execute_result",
          "data": {
            "text/plain": [
              "0.030002200863367186"
            ]
          },
          "metadata": {
            "tags": []
          },
          "execution_count": 75
        }
      ]
    },
    {
      "cell_type": "code",
      "metadata": {
        "id": "DqGICblJaxX-",
        "colab_type": "code",
        "outputId": "deb7843e-ff84-4b0a-d773-37d64673498e",
        "colab": {
          "base_uri": "https://localhost:8080/",
          "height": 34
        }
      },
      "source": [
        "mean_absolute_error(y_test2,ypred1)"
      ],
      "execution_count": 76,
      "outputs": [
        {
          "output_type": "execute_result",
          "data": {
            "text/plain": [
              "0.023852501549961283"
            ]
          },
          "metadata": {
            "tags": []
          },
          "execution_count": 76
        }
      ]
    },
    {
      "cell_type": "code",
      "metadata": {
        "id": "jFG77mOGMjRL",
        "colab_type": "code",
        "outputId": "278841db-17f7-428a-cb7e-1b2ceb000630",
        "colab": {
          "base_uri": "https://localhost:8080/",
          "height": 34
        }
      },
      "source": [
        "r2_score(y2,ypred)"
      ],
      "execution_count": 78,
      "outputs": [
        {
          "output_type": "execute_result",
          "data": {
            "text/plain": [
              "0.06625891154315677"
            ]
          },
          "metadata": {
            "tags": []
          },
          "execution_count": 78
        }
      ]
    },
    {
      "cell_type": "code",
      "metadata": {
        "id": "mOkYZ-wjMj_C",
        "colab_type": "code",
        "outputId": "642a5cb9-8cc9-4917-d44a-77957c4b818d",
        "colab": {
          "base_uri": "https://localhost:8080/",
          "height": 34
        }
      },
      "source": [
        "r2_score(y_test2,ypred1)"
      ],
      "execution_count": 79,
      "outputs": [
        {
          "output_type": "execute_result",
          "data": {
            "text/plain": [
              "0.014114910035411765"
            ]
          },
          "metadata": {
            "tags": []
          },
          "execution_count": 79
        }
      ]
    },
    {
      "cell_type": "code",
      "metadata": {
        "id": "YWIsi4Xg9taO",
        "colab_type": "code",
        "colab": {}
      },
      "source": [
        "ypred1[ypred1<0]=0"
      ],
      "execution_count": 0,
      "outputs": []
    },
    {
      "cell_type": "code",
      "metadata": {
        "id": "rBN9ROyM9wSg",
        "colab_type": "code",
        "outputId": "39cc2998-4ba2-43e3-d8e9-f64bcf1cd31c",
        "colab": {
          "base_uri": "https://localhost:8080/",
          "height": 668
        }
      },
      "source": [
        "plt.plot(y_test2)\n",
        "plt.plot(ypred1)\n",
        "plt.legend(\"Actual\",\"predicted\")\n",
        "plt.show()"
      ],
      "execution_count": 81,
      "outputs": [
        {
          "output_type": "stream",
          "text": [
            "/usr/local/lib/python3.6/dist-packages/ipykernel_launcher.py:3: UserWarning: Legend does not support 'A' instances.\n",
            "A proxy artist may be used instead.\n",
            "See: http://matplotlib.org/users/legend_guide.html#creating-artists-specifically-for-adding-to-the-legend-aka-proxy-artists\n",
            "  This is separate from the ipykernel package so we can avoid doing imports until\n",
            "/usr/local/lib/python3.6/dist-packages/ipykernel_launcher.py:3: UserWarning: Legend does not support 'c' instances.\n",
            "A proxy artist may be used instead.\n",
            "See: http://matplotlib.org/users/legend_guide.html#creating-artists-specifically-for-adding-to-the-legend-aka-proxy-artists\n",
            "  This is separate from the ipykernel package so we can avoid doing imports until\n",
            "/usr/local/lib/python3.6/dist-packages/ipykernel_launcher.py:3: UserWarning: Legend does not support 't' instances.\n",
            "A proxy artist may be used instead.\n",
            "See: http://matplotlib.org/users/legend_guide.html#creating-artists-specifically-for-adding-to-the-legend-aka-proxy-artists\n",
            "  This is separate from the ipykernel package so we can avoid doing imports until\n",
            "/usr/local/lib/python3.6/dist-packages/ipykernel_launcher.py:3: UserWarning: Legend does not support 'u' instances.\n",
            "A proxy artist may be used instead.\n",
            "See: http://matplotlib.org/users/legend_guide.html#creating-artists-specifically-for-adding-to-the-legend-aka-proxy-artists\n",
            "  This is separate from the ipykernel package so we can avoid doing imports until\n",
            "/usr/local/lib/python3.6/dist-packages/ipykernel_launcher.py:3: UserWarning: Legend does not support 'a' instances.\n",
            "A proxy artist may be used instead.\n",
            "See: http://matplotlib.org/users/legend_guide.html#creating-artists-specifically-for-adding-to-the-legend-aka-proxy-artists\n",
            "  This is separate from the ipykernel package so we can avoid doing imports until\n",
            "/usr/local/lib/python3.6/dist-packages/ipykernel_launcher.py:3: UserWarning: Legend does not support 'l' instances.\n",
            "A proxy artist may be used instead.\n",
            "See: http://matplotlib.org/users/legend_guide.html#creating-artists-specifically-for-adding-to-the-legend-aka-proxy-artists\n",
            "  This is separate from the ipykernel package so we can avoid doing imports until\n"
          ],
          "name": "stderr"
        },
        {
          "output_type": "display_data",
          "data": {
            "image/png": "[encoded data removed]",
            "text/plain": [
              "<Figure size 432x288 with 1 Axes>"
            ]
          },
          "metadata": {
            "tags": []
          }
        }
      ]
    },
    {
      "cell_type": "code",
      "metadata": {
        "id": "pnmeuR3m__yI",
        "colab_type": "code",
        "colab": {}
      },
      "source": [
        "model = keras.Sequential()\n",
        "model.add(keras.layers.LSTM(50, activation='relu',return_sequences=True, input_shape=(n_steps, 1)))\n",
        "model.add(keras.layers.LSTM(50, activation='relu'))\n",
        "model.add(keras.layers.Dense(1))\n",
        "model.compile(optimizer='adam', loss='mse',metrics=['accuracy'])"
      ],
      "execution_count": 0,
      "outputs": []
    },
    {
      "cell_type": "code",
      "metadata": {
        "id": "VFNvtKzUtMus",
        "colab_type": "code",
        "outputId": "319f3878-7eb9-4274-f4cf-986333f78252",
        "colab": {
          "base_uri": "https://localhost:8080/",
          "height": 1000
        }
      },
      "source": [
        "model.fit(X3, y3, validation_data=(X_test3,y_test3),epochs=50)"
      ],
      "execution_count": 83,
      "outputs": [
        {
          "output_type": "stream",
          "text": [
            "Train on 11997 samples, validate on 3701 samples\n",
            "Epoch 1/50\n",
            "11997/11997 [==============================] - 5s 408us/sample - loss: 0.0033 - acc: 0.8605 - val_loss: 0.0041 - val_acc: 0.8708\n",
            "Epoch 2/50\n",
            "11997/11997 [==============================] - 4s 293us/sample - loss: 0.0032 - acc: 0.8605 - val_loss: 0.0041 - val_acc: 0.8708\n",
            "Epoch 3/50\n",
            "11997/11997 [==============================] - 3s 286us/sample - loss: 0.0032 - acc: 0.8605 - val_loss: 0.0040 - val_acc: 0.8708\n",
            "Epoch 4/50\n",
            "11997/11997 [==============================] - 3s 279us/sample - loss: 0.0032 - acc: 0.8605 - val_loss: 0.0040 - val_acc: 0.8708\n",
            "Epoch 5/50\n",
            "11997/11997 [==============================] - 3s 285us/sample - loss: 0.0032 - acc: 0.8605 - val_loss: 0.0041 - val_acc: 0.8708\n",
            "Epoch 6/50\n",
            "11997/11997 [==============================] - 3s 282us/sample - loss: 0.0032 - acc: 0.8605 - val_loss: 0.0041 - val_acc: 0.8708\n",
            "Epoch 7/50\n",
            "11997/11997 [==============================] - 3s 282us/sample - loss: 0.0032 - acc: 0.8605 - val_loss: 0.0040 - val_acc: 0.8708\n",
            "Epoch 8/50\n",
            "11997/11997 [==============================] - 3s 285us/sample - loss: 0.0032 - acc: 0.8605 - val_loss: 0.0040 - val_acc: 0.8708\n",
            "Epoch 9/50\n",
            "11997/11997 [==============================] - 3s 288us/sample - loss: 0.0032 - acc: 0.8605 - val_loss: 0.0040 - val_acc: 0.8708\n",
            "Epoch 10/50\n",
            "11997/11997 [==============================] - 3s 284us/sample - loss: 0.0032 - acc: 0.8605 - val_loss: 0.0040 - val_acc: 0.8708\n",
            "Epoch 11/50\n",
            "11997/11997 [==============================] - 3s 291us/sample - loss: 0.0032 - acc: 0.8605 - val_loss: 0.0040 - val_acc: 0.8708\n",
            "Epoch 12/50\n",
            "11997/11997 [==============================] - 3s 291us/sample - loss: 0.0032 - acc: 0.8605 - val_loss: 0.0040 - val_acc: 0.8708\n",
            "Epoch 13/50\n",
            "11997/11997 [==============================] - 4s 293us/sample - loss: 0.0032 - acc: 0.8605 - val_loss: 0.0040 - val_acc: 0.8708\n",
            "Epoch 14/50\n",
            "11997/11997 [==============================] - 4s 297us/sample - loss: 0.0032 - acc: 0.8605 - val_loss: 0.0040 - val_acc: 0.8708\n",
            "Epoch 15/50\n",
            "11997/11997 [==============================] - 3s 291us/sample - loss: 0.0032 - acc: 0.8605 - val_loss: 0.0040 - val_acc: 0.8708\n",
            "Epoch 16/50\n",
            "11997/11997 [==============================] - 3s 286us/sample - loss: 0.0032 - acc: 0.8605 - val_loss: 0.0040 - val_acc: 0.8708\n",
            "Epoch 17/50\n",
            "11997/11997 [==============================] - 3s 288us/sample - loss: 0.0032 - acc: 0.8605 - val_loss: 0.0040 - val_acc: 0.8708\n",
            "Epoch 18/50\n",
            "11997/11997 [==============================] - 3s 283us/sample - loss: 0.0032 - acc: 0.8605 - val_loss: 0.0040 - val_acc: 0.8708\n",
            "Epoch 19/50\n",
            "11997/11997 [==============================] - 3s 287us/sample - loss: 0.0032 - acc: 0.8605 - val_loss: 0.0041 - val_acc: 0.8708\n",
            "Epoch 20/50\n",
            "11997/11997 [==============================] - 4s 298us/sample - loss: 0.0032 - acc: 0.8605 - val_loss: 0.0040 - val_acc: 0.8708\n",
            "Epoch 21/50\n",
            "11997/11997 [==============================] - 3s 291us/sample - loss: 0.0032 - acc: 0.8605 - val_loss: 0.0040 - val_acc: 0.8708\n",
            "Epoch 22/50\n",
            "11997/11997 [==============================] - 4s 302us/sample - loss: 0.0032 - acc: 0.8605 - val_loss: 0.0040 - val_acc: 0.8708\n",
            "Epoch 23/50\n",
            "11997/11997 [==============================] - 4s 315us/sample - loss: 0.0032 - acc: 0.8605 - val_loss: 0.0040 - val_acc: 0.8708\n",
            "Epoch 24/50\n",
            "11997/11997 [==============================] - 4s 324us/sample - loss: 0.0032 - acc: 0.8605 - val_loss: 0.0040 - val_acc: 0.8708\n",
            "Epoch 25/50\n",
            "11997/11997 [==============================] - 4s 311us/sample - loss: 0.0032 - acc: 0.8605 - val_loss: 0.0040 - val_acc: 0.8708\n",
            "Epoch 26/50\n",
            "11997/11997 [==============================] - 4s 292us/sample - loss: 0.0032 - acc: 0.8605 - val_loss: 0.0041 - val_acc: 0.8708\n",
            "Epoch 27/50\n",
            "11997/11997 [==============================] - 4s 292us/sample - loss: 0.0032 - acc: 0.8605 - val_loss: 0.0040 - val_acc: 0.8708\n",
            "Epoch 28/50\n",
            "11997/11997 [==============================] - 3s 287us/sample - loss: 0.0032 - acc: 0.8605 - val_loss: 0.0040 - val_acc: 0.8708\n",
            "Epoch 29/50\n",
            "11997/11997 [==============================] - 3s 288us/sample - loss: 0.0032 - acc: 0.8605 - val_loss: 0.0040 - val_acc: 0.8708\n",
            "Epoch 30/50\n",
            "11997/11997 [==============================] - 3s 291us/sample - loss: 0.0032 - acc: 0.8605 - val_loss: 0.0040 - val_acc: 0.8708\n",
            "Epoch 31/50\n",
            "11997/11997 [==============================] - 3s 283us/sample - loss: 0.0032 - acc: 0.8605 - val_loss: 0.0040 - val_acc: 0.8708\n",
            "Epoch 32/50\n",
            "11997/11997 [==============================] - 3s 280us/sample - loss: 0.0032 - acc: 0.8605 - val_loss: 0.0040 - val_acc: 0.8708\n",
            "Epoch 33/50\n",
            "11997/11997 [==============================] - 3s 286us/sample - loss: 0.0032 - acc: 0.8605 - val_loss: 0.0040 - val_acc: 0.8708\n",
            "Epoch 34/50\n",
            "11997/11997 [==============================] - 3s 283us/sample - loss: 0.0032 - acc: 0.8605 - val_loss: 0.0040 - val_acc: 0.8708\n",
            "Epoch 35/50\n",
            "11997/11997 [==============================] - 3s 278us/sample - loss: 0.0032 - acc: 0.8605 - val_loss: 0.0040 - val_acc: 0.8708\n",
            "Epoch 36/50\n",
            "11997/11997 [==============================] - 3s 284us/sample - loss: 0.0032 - acc: 0.8605 - val_loss: 0.0040 - val_acc: 0.8708\n",
            "Epoch 37/50\n",
            "11997/11997 [==============================] - 3s 289us/sample - loss: 0.0032 - acc: 0.8605 - val_loss: 0.0040 - val_acc: 0.8708\n",
            "Epoch 38/50\n",
            "11997/11997 [==============================] - 3s 281us/sample - loss: 0.0032 - acc: 0.8605 - val_loss: 0.0040 - val_acc: 0.8708\n",
            "Epoch 39/50\n",
            "11997/11997 [==============================] - 3s 282us/sample - loss: 0.0031 - acc: 0.8605 - val_loss: 0.0041 - val_acc: 0.8708\n",
            "Epoch 40/50\n",
            "11997/11997 [==============================] - 3s 284us/sample - loss: 0.0032 - acc: 0.8605 - val_loss: 0.0040 - val_acc: 0.8708\n",
            "Epoch 41/50\n",
            "11997/11997 [==============================] - 3s 286us/sample - loss: 0.0032 - acc: 0.8605 - val_loss: 0.0040 - val_acc: 0.8708\n",
            "Epoch 42/50\n",
            "11997/11997 [==============================] - 3s 287us/sample - loss: 0.0032 - acc: 0.8605 - val_loss: 0.0040 - val_acc: 0.8708\n",
            "Epoch 43/50\n",
            "11997/11997 [==============================] - 4s 292us/sample - loss: 0.0031 - acc: 0.8605 - val_loss: 0.0040 - val_acc: 0.8708\n",
            "Epoch 44/50\n",
            "11997/11997 [==============================] - 4s 294us/sample - loss: 0.0032 - acc: 0.8605 - val_loss: 0.0040 - val_acc: 0.8708\n",
            "Epoch 45/50\n",
            "11997/11997 [==============================] - 4s 294us/sample - loss: 0.0032 - acc: 0.8605 - val_loss: 0.0040 - val_acc: 0.8708\n",
            "Epoch 46/50\n",
            "11997/11997 [==============================] - 4s 297us/sample - loss: 0.0032 - acc: 0.8605 - val_loss: 0.0040 - val_acc: 0.8708\n",
            "Epoch 47/50\n",
            "11997/11997 [==============================] - 4s 297us/sample - loss: 0.0032 - acc: 0.8605 - val_loss: 0.0040 - val_acc: 0.8708\n",
            "Epoch 48/50\n",
            "11997/11997 [==============================] - 3s 290us/sample - loss: 0.0032 - acc: 0.8605 - val_loss: 0.0040 - val_acc: 0.8708\n",
            "Epoch 49/50\n",
            "11997/11997 [==============================] - 3s 289us/sample - loss: 0.0032 - acc: 0.8605 - val_loss: 0.0040 - val_acc: 0.8708\n",
            "Epoch 50/50\n",
            "11997/11997 [==============================] - 4s 294us/sample - loss: 0.0031 - acc: 0.8605 - val_loss: 0.0040 - val_acc: 0.8708\n"
          ],
          "name": "stdout"
        },
        {
          "output_type": "execute_result",
          "data": {
            "text/plain": [
              "<tensorflow.python.keras.callbacks.History at 0x7f4a80053240>"
            ]
          },
          "metadata": {
            "tags": []
          },
          "execution_count": 83
        }
      ]
    },
    {
      "cell_type": "code",
      "metadata": {
        "id": "GkOlpfGdH2gZ",
        "colab_type": "code",
        "outputId": "e52120ec-4987-43ed-9680-90b288b416a5",
        "colab": {
          "base_uri": "https://localhost:8080/",
          "height": 50
        }
      },
      "source": [
        "ypred = model.predict(X3)\n",
        "s=pd.DataFrame(ypred)\n",
        "s1=pd.DataFrame(y3)\n",
        "s1.corrwith(s, axis = 0) "
      ],
      "execution_count": 84,
      "outputs": [
        {
          "output_type": "execute_result",
          "data": {
            "text/plain": [
              "0    0.265996\n",
              "dtype: float64"
            ]
          },
          "metadata": {
            "tags": []
          },
          "execution_count": 84
        }
      ]
    },
    {
      "cell_type": "code",
      "metadata": {
        "id": "8DCzVU6iJHQ1",
        "colab_type": "code",
        "outputId": "aa48fb8b-2804-4c13-e325-4f3c8cdeebe8",
        "colab": {
          "base_uri": "https://localhost:8080/",
          "height": 50
        }
      },
      "source": [
        "ypred1=model.predict(X_test3)\n",
        "s=pd.DataFrame(ypred1)\n",
        "s1=pd.DataFrame(y_test3)\n",
        "s1.corrwith(s,axis=0)"
      ],
      "execution_count": 85,
      "outputs": [
        {
          "output_type": "execute_result",
          "data": {
            "text/plain": [
              "0    0.202338\n",
              "dtype: float64"
            ]
          },
          "metadata": {
            "tags": []
          },
          "execution_count": 85
        }
      ]
    },
    {
      "cell_type": "code",
      "metadata": {
        "id": "FO_LLgNyMcxl",
        "colab_type": "code",
        "outputId": "234ee348-bd4f-43da-d6c4-4e4372351373",
        "colab": {
          "base_uri": "https://localhost:8080/",
          "height": 34
        }
      },
      "source": [
        "r2_score(y3,ypred)"
      ],
      "execution_count": 86,
      "outputs": [
        {
          "output_type": "execute_result",
          "data": {
            "text/plain": [
              "0.06925516819698951"
            ]
          },
          "metadata": {
            "tags": []
          },
          "execution_count": 86
        }
      ]
    },
    {
      "cell_type": "code",
      "metadata": {
        "id": "3Dou4U6tMfBa",
        "colab_type": "code",
        "outputId": "950ef59a-ab2b-48ea-ed20-7ac5a85b8f1e",
        "colab": {
          "base_uri": "https://localhost:8080/",
          "height": 34
        }
      },
      "source": [
        "r2_score(y_test3,ypred1)"
      ],
      "execution_count": 87,
      "outputs": [
        {
          "output_type": "execute_result",
          "data": {
            "text/plain": [
              "0.03880471888221071"
            ]
          },
          "metadata": {
            "tags": []
          },
          "execution_count": 87
        }
      ]
    },
    {
      "cell_type": "code",
      "metadata": {
        "id": "vg9UDalba2r6",
        "colab_type": "code",
        "outputId": "58305b36-8995-4c83-a83c-3889cc046248",
        "colab": {
          "base_uri": "https://localhost:8080/",
          "height": 34
        }
      },
      "source": [
        "mean_absolute_error(y3,ypred)"
      ],
      "execution_count": 88,
      "outputs": [
        {
          "output_type": "execute_result",
          "data": {
            "text/plain": [
              "0.02567478663759066"
            ]
          },
          "metadata": {
            "tags": []
          },
          "execution_count": 88
        }
      ]
    },
    {
      "cell_type": "code",
      "metadata": {
        "id": "PKHNKah8a6y4",
        "colab_type": "code",
        "outputId": "190fa2ae-6517-48a9-d381-ed59820aa6f4",
        "colab": {
          "base_uri": "https://localhost:8080/",
          "height": 34
        }
      },
      "source": [
        "mean_absolute_error(y_test3,ypred1)"
      ],
      "execution_count": 89,
      "outputs": [
        {
          "output_type": "execute_result",
          "data": {
            "text/plain": [
              "0.026048024438696034"
            ]
          },
          "metadata": {
            "tags": []
          },
          "execution_count": 89
        }
      ]
    },
    {
      "cell_type": "code",
      "metadata": {
        "id": "W9VmpEof93IB",
        "colab_type": "code",
        "colab": {}
      },
      "source": [
        "ypred1[ypred1<0]=0"
      ],
      "execution_count": 0,
      "outputs": []
    },
    {
      "cell_type": "code",
      "metadata": {
        "id": "WrxQkRaL9688",
        "colab_type": "code",
        "outputId": "847d517a-f5ec-445d-8463-16816e386143",
        "colab": {
          "base_uri": "https://localhost:8080/",
          "height": 668
        }
      },
      "source": [
        "plt.plot(y_test3)\n",
        "plt.plot(ypred1)\n",
        "plt.legend(\"Actual\",\"predicted\")\n",
        "plt.show()"
      ],
      "execution_count": 91,
      "outputs": [
        {
          "output_type": "stream",
          "text": [
            "/usr/local/lib/python3.6/dist-packages/ipykernel_launcher.py:3: UserWarning: Legend does not support 'A' instances.\n",
            "A proxy artist may be used instead.\n",
            "See: http://matplotlib.org/users/legend_guide.html#creating-artists-specifically-for-adding-to-the-legend-aka-proxy-artists\n",
            "  This is separate from the ipykernel package so we can avoid doing imports until\n",
            "/usr/local/lib/python3.6/dist-packages/ipykernel_launcher.py:3: UserWarning: Legend does not support 'c' instances.\n",
            "A proxy artist may be used instead.\n",
            "See: http://matplotlib.org/users/legend_guide.html#creating-artists-specifically-for-adding-to-the-legend-aka-proxy-artists\n",
            "  This is separate from the ipykernel package so we can avoid doing imports until\n",
            "/usr/local/lib/python3.6/dist-packages/ipykernel_launcher.py:3: UserWarning: Legend does not support 't' instances.\n",
            "A proxy artist may be used instead.\n",
            "See: http://matplotlib.org/users/legend_guide.html#creating-artists-specifically-for-adding-to-the-legend-aka-proxy-artists\n",
            "  This is separate from the ipykernel package so we can avoid doing imports until\n",
            "/usr/local/lib/python3.6/dist-packages/ipykernel_launcher.py:3: UserWarning: Legend does not support 'u' instances.\n",
            "A proxy artist may be used instead.\n",
            "See: http://matplotlib.org/users/legend_guide.html#creating-artists-specifically-for-adding-to-the-legend-aka-proxy-artists\n",
            "  This is separate from the ipykernel package so we can avoid doing imports until\n",
            "/usr/local/lib/python3.6/dist-packages/ipykernel_launcher.py:3: UserWarning: Legend does not support 'a' instances.\n",
            "A proxy artist may be used instead.\n",
            "See: http://matplotlib.org/users/legend_guide.html#creating-artists-specifically-for-adding-to-the-legend-aka-proxy-artists\n",
            "  This is separate from the ipykernel package so we can avoid doing imports until\n",
            "/usr/local/lib/python3.6/dist-packages/ipykernel_launcher.py:3: UserWarning: Legend does not support 'l' instances.\n",
            "A proxy artist may be used instead.\n",
            "See: http://matplotlib.org/users/legend_guide.html#creating-artists-specifically-for-adding-to-the-legend-aka-proxy-artists\n",
            "  This is separate from the ipykernel package so we can avoid doing imports until\n"
          ],
          "name": "stderr"
        },
        {
          "output_type": "display_data",
          "data": {
            "image/png": "[encoded data removed]",
            "text/plain": [
              "<Figure size 432x288 with 1 Axes>"
            ]
          },
          "metadata": {
            "tags": []
          }
        }
      ]
    },
    {
      "cell_type": "code",
      "metadata": {
        "id": "bB2SYSREACTX",
        "colab_type": "code",
        "colab": {}
      },
      "source": [
        "model = keras.Sequential()\n",
        "model.add(keras.layers.LSTM(50, activation='relu',return_sequences=True, input_shape=(n_steps, 1)))\n",
        "model.add(keras.layers.LSTM(50, activation='relu'))\n",
        "model.add(keras.layers.Dense(1))\n",
        "model.compile(optimizer='adam', loss='mse',metrics=['accuracy'])"
      ],
      "execution_count": 0,
      "outputs": []
    },
    {
      "cell_type": "code",
      "metadata": {
        "id": "SgByKfhitNMk",
        "colab_type": "code",
        "outputId": "22ed4fd0-d217-4d09-8eff-e0239aa91b41",
        "colab": {
          "base_uri": "https://localhost:8080/",
          "height": 1000
        }
      },
      "source": [
        "model.fit(X4, y4, validation_data=(X_test4,y_test4),epochs=50)"
      ],
      "execution_count": 93,
      "outputs": [
        {
          "output_type": "stream",
          "text": [
            "Train on 11997 samples, validate on 3643 samples\n",
            "Epoch 1/50\n",
            "11997/11997 [==============================] - 5s 443us/sample - loss: 0.0029 - acc: 0.8360 - val_loss: 0.0043 - val_acc: 0.8433\n",
            "Epoch 2/50\n",
            "11997/11997 [==============================] - 3s 286us/sample - loss: 0.0028 - acc: 0.8360 - val_loss: 0.0043 - val_acc: 0.8433\n",
            "Epoch 3/50\n",
            "11997/11997 [==============================] - 3s 282us/sample - loss: 0.0028 - acc: 0.8360 - val_loss: 0.0043 - val_acc: 0.8433\n",
            "Epoch 4/50\n",
            "11997/11997 [==============================] - 3s 279us/sample - loss: 0.0028 - acc: 0.8360 - val_loss: 0.0043 - val_acc: 0.8433\n",
            "Epoch 5/50\n",
            "11997/11997 [==============================] - 3s 278us/sample - loss: 0.0028 - acc: 0.8360 - val_loss: 0.0043 - val_acc: 0.8433\n",
            "Epoch 6/50\n",
            "11997/11997 [==============================] - 3s 274us/sample - loss: 0.0028 - acc: 0.8360 - val_loss: 0.0043 - val_acc: 0.8433\n",
            "Epoch 7/50\n",
            "11997/11997 [==============================] - 3s 281us/sample - loss: 0.0028 - acc: 0.8360 - val_loss: 0.0043 - val_acc: 0.8433\n",
            "Epoch 8/50\n",
            "11997/11997 [==============================] - 3s 280us/sample - loss: 0.0028 - acc: 0.8360 - val_loss: 0.0043 - val_acc: 0.8433\n",
            "Epoch 9/50\n",
            "11997/11997 [==============================] - 3s 279us/sample - loss: 0.0028 - acc: 0.8360 - val_loss: 0.0043 - val_acc: 0.8433\n",
            "Epoch 10/50\n",
            "11997/11997 [==============================] - 3s 278us/sample - loss: 0.0028 - acc: 0.8360 - val_loss: 0.0044 - val_acc: 0.8433\n",
            "Epoch 11/50\n",
            "11997/11997 [==============================] - 3s 276us/sample - loss: 0.0028 - acc: 0.8360 - val_loss: 0.0043 - val_acc: 0.8433\n",
            "Epoch 12/50\n",
            "11997/11997 [==============================] - 3s 275us/sample - loss: 0.0028 - acc: 0.8360 - val_loss: 0.0043 - val_acc: 0.8433\n",
            "Epoch 13/50\n",
            "11997/11997 [==============================] - 3s 279us/sample - loss: 0.0028 - acc: 0.8360 - val_loss: 0.0043 - val_acc: 0.8433\n",
            "Epoch 14/50\n",
            "11997/11997 [==============================] - 3s 279us/sample - loss: 0.0028 - acc: 0.8360 - val_loss: 0.0043 - val_acc: 0.8433\n",
            "Epoch 15/50\n",
            "11997/11997 [==============================] - 3s 281us/sample - loss: 0.0028 - acc: 0.8360 - val_loss: 0.0043 - val_acc: 0.8433\n",
            "Epoch 16/50\n",
            "11997/11997 [==============================] - 3s 285us/sample - loss: 0.0028 - acc: 0.8360 - val_loss: 0.0043 - val_acc: 0.8433\n",
            "Epoch 17/50\n",
            "11997/11997 [==============================] - 3s 287us/sample - loss: 0.0028 - acc: 0.8360 - val_loss: 0.0043 - val_acc: 0.8433\n",
            "Epoch 18/50\n",
            "11997/11997 [==============================] - 3s 277us/sample - loss: 0.0028 - acc: 0.8360 - val_loss: 0.0043 - val_acc: 0.8433\n",
            "Epoch 19/50\n",
            "11997/11997 [==============================] - 3s 281us/sample - loss: 0.0028 - acc: 0.8360 - val_loss: 0.0043 - val_acc: 0.8433\n",
            "Epoch 20/50\n",
            "11997/11997 [==============================] - 3s 276us/sample - loss: 0.0028 - acc: 0.8360 - val_loss: 0.0043 - val_acc: 0.8433\n",
            "Epoch 21/50\n",
            "11997/11997 [==============================] - 3s 271us/sample - loss: 0.0028 - acc: 0.8360 - val_loss: 0.0043 - val_acc: 0.8433\n",
            "Epoch 22/50\n",
            "11997/11997 [==============================] - 3s 287us/sample - loss: 0.0028 - acc: 0.8360 - val_loss: 0.0043 - val_acc: 0.8433\n",
            "Epoch 23/50\n",
            "11997/11997 [==============================] - 3s 281us/sample - loss: 0.0028 - acc: 0.8360 - val_loss: 0.0043 - val_acc: 0.8433\n",
            "Epoch 24/50\n",
            "11997/11997 [==============================] - 3s 277us/sample - loss: 0.0027 - acc: 0.8360 - val_loss: 0.0043 - val_acc: 0.8433\n",
            "Epoch 25/50\n",
            "11997/11997 [==============================] - 3s 280us/sample - loss: 0.0027 - acc: 0.8360 - val_loss: 0.0043 - val_acc: 0.8433\n",
            "Epoch 26/50\n",
            "11997/11997 [==============================] - 3s 281us/sample - loss: 0.0028 - acc: 0.8360 - val_loss: 0.0043 - val_acc: 0.8433\n",
            "Epoch 27/50\n",
            "11997/11997 [==============================] - 3s 281us/sample - loss: 0.0027 - acc: 0.8360 - val_loss: 0.0043 - val_acc: 0.8433\n",
            "Epoch 28/50\n",
            "11997/11997 [==============================] - 3s 280us/sample - loss: 0.0028 - acc: 0.8360 - val_loss: 0.0043 - val_acc: 0.8433\n",
            "Epoch 29/50\n",
            "11997/11997 [==============================] - 3s 279us/sample - loss: 0.0027 - acc: 0.8360 - val_loss: 0.0043 - val_acc: 0.8433\n",
            "Epoch 30/50\n",
            "11997/11997 [==============================] - 3s 278us/sample - loss: 0.0028 - acc: 0.8360 - val_loss: 0.0043 - val_acc: 0.8433\n",
            "Epoch 31/50\n",
            "11997/11997 [==============================] - 4s 293us/sample - loss: 0.0028 - acc: 0.8360 - val_loss: 0.0043 - val_acc: 0.8433\n",
            "Epoch 32/50\n",
            "11997/11997 [==============================] - 4s 296us/sample - loss: 0.0027 - acc: 0.8360 - val_loss: 0.0043 - val_acc: 0.8433\n",
            "Epoch 33/50\n",
            "11997/11997 [==============================] - 3s 282us/sample - loss: 0.0027 - acc: 0.8360 - val_loss: 0.0043 - val_acc: 0.8433\n",
            "Epoch 34/50\n",
            "11997/11997 [==============================] - 3s 275us/sample - loss: 0.0027 - acc: 0.8360 - val_loss: 0.0043 - val_acc: 0.8433\n",
            "Epoch 35/50\n",
            "11997/11997 [==============================] - 3s 281us/sample - loss: 0.0028 - acc: 0.8360 - val_loss: 0.0043 - val_acc: 0.8433\n",
            "Epoch 36/50\n",
            "11997/11997 [==============================] - 3s 271us/sample - loss: 0.0028 - acc: 0.8360 - val_loss: 0.0043 - val_acc: 0.8433\n",
            "Epoch 37/50\n",
            "11997/11997 [==============================] - 3s 269us/sample - loss: 0.0028 - acc: 0.8360 - val_loss: 0.0043 - val_acc: 0.8433\n",
            "Epoch 38/50\n",
            "11997/11997 [==============================] - 3s 274us/sample - loss: 0.0027 - acc: 0.8360 - val_loss: 0.0043 - val_acc: 0.8433\n",
            "Epoch 39/50\n",
            "11997/11997 [==============================] - 3s 273us/sample - loss: 0.0027 - acc: 0.8360 - val_loss: 0.0043 - val_acc: 0.8433\n",
            "Epoch 40/50\n",
            "11997/11997 [==============================] - 3s 283us/sample - loss: 0.0027 - acc: 0.8360 - val_loss: 0.0044 - val_acc: 0.8433\n",
            "Epoch 41/50\n",
            "11997/11997 [==============================] - 3s 276us/sample - loss: 0.0027 - acc: 0.8360 - val_loss: 0.0043 - val_acc: 0.8433\n",
            "Epoch 42/50\n",
            "11997/11997 [==============================] - 3s 271us/sample - loss: 0.0027 - acc: 0.8360 - val_loss: 0.0043 - val_acc: 0.8433\n",
            "Epoch 43/50\n",
            "11997/11997 [==============================] - 3s 269us/sample - loss: 0.0027 - acc: 0.8360 - val_loss: 0.0043 - val_acc: 0.8433\n",
            "Epoch 44/50\n",
            "11997/11997 [==============================] - 3s 269us/sample - loss: 0.0027 - acc: 0.8360 - val_loss: 0.0043 - val_acc: 0.8433\n",
            "Epoch 45/50\n",
            "11997/11997 [==============================] - 3s 262us/sample - loss: 0.0027 - acc: 0.8360 - val_loss: 0.0043 - val_acc: 0.8433\n",
            "Epoch 46/50\n",
            "11997/11997 [==============================] - 3s 263us/sample - loss: 0.0027 - acc: 0.8360 - val_loss: 0.0043 - val_acc: 0.8433\n",
            "Epoch 47/50\n",
            "11997/11997 [==============================] - 3s 278us/sample - loss: 0.0027 - acc: 0.8360 - val_loss: 0.0043 - val_acc: 0.8433\n",
            "Epoch 48/50\n",
            "11997/11997 [==============================] - 3s 273us/sample - loss: 0.0027 - acc: 0.8360 - val_loss: 0.0043 - val_acc: 0.8433\n",
            "Epoch 49/50\n",
            "11997/11997 [==============================] - 3s 273us/sample - loss: 0.0027 - acc: 0.8360 - val_loss: 0.0043 - val_acc: 0.8433\n",
            "Epoch 50/50\n",
            "11997/11997 [==============================] - 3s 278us/sample - loss: 0.0027 - acc: 0.8360 - val_loss: 0.0043 - val_acc: 0.8433\n"
          ],
          "name": "stdout"
        },
        {
          "output_type": "execute_result",
          "data": {
            "text/plain": [
              "<tensorflow.python.keras.callbacks.History at 0x7f4a7f439d68>"
            ]
          },
          "metadata": {
            "tags": []
          },
          "execution_count": 93
        }
      ]
    },
    {
      "cell_type": "code",
      "metadata": {
        "id": "BsI-w74FH36K",
        "colab_type": "code",
        "outputId": "305fd74d-8239-416a-d874-b29a582c8382",
        "colab": {
          "base_uri": "https://localhost:8080/",
          "height": 50
        }
      },
      "source": [
        "ypred = model.predict(X4)\n",
        "s=pd.DataFrame(ypred)\n",
        "s1=pd.DataFrame(y4)\n",
        "s1.corrwith(s, axis = 0) "
      ],
      "execution_count": 94,
      "outputs": [
        {
          "output_type": "execute_result",
          "data": {
            "text/plain": [
              "0    0.30134\n",
              "dtype: float64"
            ]
          },
          "metadata": {
            "tags": []
          },
          "execution_count": 94
        }
      ]
    },
    {
      "cell_type": "code",
      "metadata": {
        "id": "BppViBEjJI1p",
        "colab_type": "code",
        "outputId": "2d6d8d0f-a547-4843-defd-1a661470254e",
        "colab": {
          "base_uri": "https://localhost:8080/",
          "height": 50
        }
      },
      "source": [
        "ypred1=model.predict(X_test4)\n",
        "s=pd.DataFrame(ypred1)\n",
        "s1=pd.DataFrame(y_test4)\n",
        "s1.corrwith(s,axis=0)"
      ],
      "execution_count": 95,
      "outputs": [
        {
          "output_type": "execute_result",
          "data": {
            "text/plain": [
              "0    0.186627\n",
              "dtype: float64"
            ]
          },
          "metadata": {
            "tags": []
          },
          "execution_count": 95
        }
      ]
    },
    {
      "cell_type": "code",
      "metadata": {
        "id": "wd6c1LKXa_r6",
        "colab_type": "code",
        "outputId": "89a783af-1aba-4871-da78-53b5ad5d962e",
        "colab": {
          "base_uri": "https://localhost:8080/",
          "height": 34
        }
      },
      "source": [
        "mean_absolute_error(y4,ypred)"
      ],
      "execution_count": 96,
      "outputs": [
        {
          "output_type": "execute_result",
          "data": {
            "text/plain": [
              "0.02222775728153048"
            ]
          },
          "metadata": {
            "tags": []
          },
          "execution_count": 96
        }
      ]
    },
    {
      "cell_type": "code",
      "metadata": {
        "id": "aYBttiDKbDd4",
        "colab_type": "code",
        "outputId": "4aa6102f-f025-494e-ca61-d30c368c70ec",
        "colab": {
          "base_uri": "https://localhost:8080/",
          "height": 34
        }
      },
      "source": [
        "mean_absolute_error(y_test4,ypred1)"
      ],
      "execution_count": 97,
      "outputs": [
        {
          "output_type": "execute_result",
          "data": {
            "text/plain": [
              "0.026593656433343323"
            ]
          },
          "metadata": {
            "tags": []
          },
          "execution_count": 97
        }
      ]
    },
    {
      "cell_type": "code",
      "metadata": {
        "id": "o7U3xQIlMU7j",
        "colab_type": "code",
        "outputId": "e589e9e6-1fa3-4bb6-997d-4626d18fed91",
        "colab": {
          "base_uri": "https://localhost:8080/",
          "height": 34
        }
      },
      "source": [
        "r2_score(y4,ypred)"
      ],
      "execution_count": 98,
      "outputs": [
        {
          "output_type": "execute_result",
          "data": {
            "text/plain": [
              "0.09022725560898948"
            ]
          },
          "metadata": {
            "tags": []
          },
          "execution_count": 98
        }
      ]
    },
    {
      "cell_type": "code",
      "metadata": {
        "id": "te0hYyPUMXwG",
        "colab_type": "code",
        "outputId": "e139ccd9-677a-4fc5-a65e-27068d018c8b",
        "colab": {
          "base_uri": "https://localhost:8080/",
          "height": 34
        }
      },
      "source": [
        "r2_score(y_test4,ypred1)"
      ],
      "execution_count": 99,
      "outputs": [
        {
          "output_type": "execute_result",
          "data": {
            "text/plain": [
              "0.023672614921257273"
            ]
          },
          "metadata": {
            "tags": []
          },
          "execution_count": 99
        }
      ]
    },
    {
      "cell_type": "code",
      "metadata": {
        "id": "fSs5YDKW9-w6",
        "colab_type": "code",
        "colab": {}
      },
      "source": [
        "ypred1[ypred1<0]=0"
      ],
      "execution_count": 0,
      "outputs": []
    },
    {
      "cell_type": "code",
      "metadata": {
        "id": "D3BzAFgb-Ciw",
        "colab_type": "code",
        "outputId": "67d2f0b4-f635-48b6-844a-2dcd6229dc47",
        "colab": {
          "base_uri": "https://localhost:8080/",
          "height": 668
        }
      },
      "source": [
        "plt.plot(y_test4)\n",
        "plt.plot(ypred1)\n",
        "plt.legend(\"Actual\",\"predicted\")\n",
        "plt.show()"
      ],
      "execution_count": 101,
      "outputs": [
        {
          "output_type": "stream",
          "text": [
            "/usr/local/lib/python3.6/dist-packages/ipykernel_launcher.py:3: UserWarning: Legend does not support 'A' instances.\n",
            "A proxy artist may be used instead.\n",
            "See: http://matplotlib.org/users/legend_guide.html#creating-artists-specifically-for-adding-to-the-legend-aka-proxy-artists\n",
            "  This is separate from the ipykernel package so we can avoid doing imports until\n",
            "/usr/local/lib/python3.6/dist-packages/ipykernel_launcher.py:3: UserWarning: Legend does not support 'c' instances.\n",
            "A proxy artist may be used instead.\n",
            "See: http://matplotlib.org/users/legend_guide.html#creating-artists-specifically-for-adding-to-the-legend-aka-proxy-artists\n",
            "  This is separate from the ipykernel package so we can avoid doing imports until\n",
            "/usr/local/lib/python3.6/dist-packages/ipykernel_launcher.py:3: UserWarning: Legend does not support 't' instances.\n",
            "A proxy artist may be used instead.\n",
            "See: http://matplotlib.org/users/legend_guide.html#creating-artists-specifically-for-adding-to-the-legend-aka-proxy-artists\n",
            "  This is separate from the ipykernel package so we can avoid doing imports until\n",
            "/usr/local/lib/python3.6/dist-packages/ipykernel_launcher.py:3: UserWarning: Legend does not support 'u' instances.\n",
            "A proxy artist may be used instead.\n",
            "See: http://matplotlib.org/users/legend_guide.html#creating-artists-specifically-for-adding-to-the-legend-aka-proxy-artists\n",
            "  This is separate from the ipykernel package so we can avoid doing imports until\n",
            "/usr/local/lib/python3.6/dist-packages/ipykernel_launcher.py:3: UserWarning: Legend does not support 'a' instances.\n",
            "A proxy artist may be used instead.\n",
            "See: http://matplotlib.org/users/legend_guide.html#creating-artists-specifically-for-adding-to-the-legend-aka-proxy-artists\n",
            "  This is separate from the ipykernel package so we can avoid doing imports until\n",
            "/usr/local/lib/python3.6/dist-packages/ipykernel_launcher.py:3: UserWarning: Legend does not support 'l' instances.\n",
            "A proxy artist may be used instead.\n",
            "See: http://matplotlib.org/users/legend_guide.html#creating-artists-specifically-for-adding-to-the-legend-aka-proxy-artists\n",
            "  This is separate from the ipykernel package so we can avoid doing imports until\n"
          ],
          "name": "stderr"
        },
        {
          "output_type": "display_data",
          "data": {
            "image/png": "[encoded data removed]",
            "text/plain": [
              "<Figure size 432x288 with 1 Axes>"
            ]
          },
          "metadata": {
            "tags": []
          }
        }
      ]
    },
    {
      "cell_type": "code",
      "metadata": {
        "id": "ok6MNWqeAErm",
        "colab_type": "code",
        "colab": {}
      },
      "source": [
        "model = keras.Sequential()\n",
        "model.add(keras.layers.LSTM(50, activation='relu',return_sequences=True, input_shape=(n_steps, 1)))\n",
        "model.add(keras.layers.LSTM(50, activation='relu'))\n",
        "model.add(keras.layers.Dense(1))\n",
        "model.compile(optimizer='adam', loss='mse',metrics=['accuracy'])"
      ],
      "execution_count": 0,
      "outputs": []
    },
    {
      "cell_type": "code",
      "metadata": {
        "id": "Pwz3PEtJtNcq",
        "colab_type": "code",
        "outputId": "1c794752-1e40-4794-f156-4f1f506aff2d",
        "colab": {
          "base_uri": "https://localhost:8080/",
          "height": 1000
        }
      },
      "source": [
        "model.fit(X5, y5, validation_data=(X_test5,y_test5),epochs=50)"
      ],
      "execution_count": 103,
      "outputs": [
        {
          "output_type": "stream",
          "text": [
            "Train on 11997 samples, validate on 3702 samples\n",
            "Epoch 1/50\n",
            "11997/11997 [==============================] - 5s 444us/sample - loss: 0.0018 - acc: 0.8467 - val_loss: 0.0031 - val_acc: 0.8614\n",
            "Epoch 2/50\n",
            "11997/11997 [==============================] - 3s 281us/sample - loss: 0.0018 - acc: 0.8467 - val_loss: 0.0031 - val_acc: 0.8614\n",
            "Epoch 3/50\n",
            "11997/11997 [==============================] - 4s 294us/sample - loss: 0.0018 - acc: 0.8467 - val_loss: 0.0030 - val_acc: 0.8614\n",
            "Epoch 4/50\n",
            "11997/11997 [==============================] - 3s 290us/sample - loss: 0.0018 - acc: 0.8467 - val_loss: 0.0031 - val_acc: 0.8614\n",
            "Epoch 5/50\n",
            "11997/11997 [==============================] - 3s 283us/sample - loss: 0.0018 - acc: 0.8467 - val_loss: 0.0031 - val_acc: 0.8614\n",
            "Epoch 6/50\n",
            "11997/11997 [==============================] - 3s 289us/sample - loss: 0.0018 - acc: 0.8467 - val_loss: 0.0031 - val_acc: 0.8614\n",
            "Epoch 7/50\n",
            "11997/11997 [==============================] - 3s 285us/sample - loss: 0.0018 - acc: 0.8467 - val_loss: 0.0031 - val_acc: 0.8614\n",
            "Epoch 8/50\n",
            "11997/11997 [==============================] - 3s 290us/sample - loss: 0.0018 - acc: 0.8467 - val_loss: 0.0031 - val_acc: 0.8614\n",
            "Epoch 9/50\n",
            "11997/11997 [==============================] - 3s 288us/sample - loss: 0.0018 - acc: 0.8467 - val_loss: 0.0031 - val_acc: 0.8614\n",
            "Epoch 10/50\n",
            "11997/11997 [==============================] - 4s 302us/sample - loss: 0.0018 - acc: 0.8467 - val_loss: 0.0030 - val_acc: 0.8614\n",
            "Epoch 11/50\n",
            "11997/11997 [==============================] - 4s 304us/sample - loss: 0.0018 - acc: 0.8467 - val_loss: 0.0030 - val_acc: 0.8614\n",
            "Epoch 12/50\n",
            "11997/11997 [==============================] - 4s 298us/sample - loss: 0.0018 - acc: 0.8467 - val_loss: 0.0030 - val_acc: 0.8614\n",
            "Epoch 13/50\n",
            "11997/11997 [==============================] - 4s 293us/sample - loss: 0.0018 - acc: 0.8467 - val_loss: 0.0031 - val_acc: 0.8614\n",
            "Epoch 14/50\n",
            "11997/11997 [==============================] - 3s 278us/sample - loss: 0.0018 - acc: 0.8467 - val_loss: 0.0031 - val_acc: 0.8614\n",
            "Epoch 15/50\n",
            "11997/11997 [==============================] - 3s 283us/sample - loss: 0.0018 - acc: 0.8467 - val_loss: 0.0030 - val_acc: 0.8614\n",
            "Epoch 16/50\n",
            "11997/11997 [==============================] - 3s 280us/sample - loss: 0.0018 - acc: 0.8467 - val_loss: 0.0030 - val_acc: 0.8614\n",
            "Epoch 17/50\n",
            "11997/11997 [==============================] - 3s 278us/sample - loss: 0.0018 - acc: 0.8467 - val_loss: 0.0031 - val_acc: 0.8614\n",
            "Epoch 18/50\n",
            "11997/11997 [==============================] - 3s 276us/sample - loss: 0.0018 - acc: 0.8467 - val_loss: 0.0030 - val_acc: 0.8614\n",
            "Epoch 19/50\n",
            "11997/11997 [==============================] - 3s 275us/sample - loss: 0.0018 - acc: 0.8467 - val_loss: 0.0030 - val_acc: 0.8614\n",
            "Epoch 20/50\n",
            "11997/11997 [==============================] - 3s 275us/sample - loss: 0.0018 - acc: 0.8467 - val_loss: 0.0030 - val_acc: 0.8614\n",
            "Epoch 21/50\n",
            "11997/11997 [==============================] - 3s 281us/sample - loss: 0.0018 - acc: 0.8467 - val_loss: 0.0031 - val_acc: 0.8614\n",
            "Epoch 22/50\n",
            "11997/11997 [==============================] - 3s 276us/sample - loss: 0.0018 - acc: 0.8467 - val_loss: 0.0031 - val_acc: 0.8614\n",
            "Epoch 23/50\n",
            "11997/11997 [==============================] - 3s 274us/sample - loss: 0.0018 - acc: 0.8467 - val_loss: 0.0030 - val_acc: 0.8614\n",
            "Epoch 24/50\n",
            "11997/11997 [==============================] - 3s 280us/sample - loss: 0.0018 - acc: 0.8467 - val_loss: 0.0030 - val_acc: 0.8614\n",
            "Epoch 25/50\n",
            "11997/11997 [==============================] - 3s 276us/sample - loss: 0.0018 - acc: 0.8467 - val_loss: 0.0031 - val_acc: 0.8614\n",
            "Epoch 26/50\n",
            "11997/11997 [==============================] - 3s 281us/sample - loss: 0.0018 - acc: 0.8467 - val_loss: 0.0030 - val_acc: 0.8614\n",
            "Epoch 27/50\n",
            "11997/11997 [==============================] - 3s 271us/sample - loss: 0.0018 - acc: 0.8467 - val_loss: 0.0030 - val_acc: 0.8614\n",
            "Epoch 28/50\n",
            "11997/11997 [==============================] - 3s 272us/sample - loss: 0.0018 - acc: 0.8467 - val_loss: 0.0031 - val_acc: 0.8614\n",
            "Epoch 29/50\n",
            "11997/11997 [==============================] - 3s 273us/sample - loss: 0.0018 - acc: 0.8467 - val_loss: 0.0030 - val_acc: 0.8614\n",
            "Epoch 30/50\n",
            "11997/11997 [==============================] - 3s 277us/sample - loss: 0.0018 - acc: 0.8467 - val_loss: 0.0031 - val_acc: 0.8614\n",
            "Epoch 31/50\n",
            "11997/11997 [==============================] - 3s 274us/sample - loss: 0.0018 - acc: 0.8467 - val_loss: 0.0030 - val_acc: 0.8614\n",
            "Epoch 32/50\n",
            "11997/11997 [==============================] - 3s 275us/sample - loss: 0.0018 - acc: 0.8467 - val_loss: 0.0030 - val_acc: 0.8614\n",
            "Epoch 33/50\n",
            "11997/11997 [==============================] - 3s 275us/sample - loss: 0.0017 - acc: 0.8467 - val_loss: 0.0030 - val_acc: 0.8614\n",
            "Epoch 34/50\n",
            "11997/11997 [==============================] - 3s 277us/sample - loss: 0.0018 - acc: 0.8467 - val_loss: 0.0031 - val_acc: 0.8614\n",
            "Epoch 35/50\n",
            "11997/11997 [==============================] - 3s 278us/sample - loss: 0.0018 - acc: 0.8467 - val_loss: 0.0030 - val_acc: 0.8614\n",
            "Epoch 36/50\n",
            "11997/11997 [==============================] - 3s 274us/sample - loss: 0.0017 - acc: 0.8467 - val_loss: 0.0030 - val_acc: 0.8614\n",
            "Epoch 37/50\n",
            "11997/11997 [==============================] - 3s 273us/sample - loss: 0.0018 - acc: 0.8467 - val_loss: 0.0030 - val_acc: 0.8614\n",
            "Epoch 38/50\n",
            "11997/11997 [==============================] - 3s 274us/sample - loss: 0.0017 - acc: 0.8467 - val_loss: 0.0030 - val_acc: 0.8614\n",
            "Epoch 39/50\n",
            "11997/11997 [==============================] - 3s 271us/sample - loss: 0.0017 - acc: 0.8467 - val_loss: 0.0031 - val_acc: 0.8614\n",
            "Epoch 40/50\n",
            "11997/11997 [==============================] - 3s 278us/sample - loss: 0.0018 - acc: 0.8467 - val_loss: 0.0030 - val_acc: 0.8614\n",
            "Epoch 41/50\n",
            "11997/11997 [==============================] - 3s 276us/sample - loss: 0.0017 - acc: 0.8467 - val_loss: 0.0030 - val_acc: 0.8614\n",
            "Epoch 42/50\n",
            "11997/11997 [==============================] - 3s 277us/sample - loss: 0.0017 - acc: 0.8467 - val_loss: 0.0031 - val_acc: 0.8614\n",
            "Epoch 43/50\n",
            "11997/11997 [==============================] - 3s 279us/sample - loss: 0.0017 - acc: 0.8467 - val_loss: 0.0030 - val_acc: 0.8614\n",
            "Epoch 44/50\n",
            "11997/11997 [==============================] - 3s 275us/sample - loss: 0.0017 - acc: 0.8467 - val_loss: 0.0030 - val_acc: 0.8614\n",
            "Epoch 45/50\n",
            "11997/11997 [==============================] - 3s 274us/sample - loss: 0.0017 - acc: 0.8467 - val_loss: 0.0031 - val_acc: 0.8614\n",
            "Epoch 46/50\n",
            "11997/11997 [==============================] - 3s 283us/sample - loss: 0.0017 - acc: 0.8467 - val_loss: 0.0030 - val_acc: 0.8614\n",
            "Epoch 47/50\n",
            "11997/11997 [==============================] - 3s 278us/sample - loss: 0.0017 - acc: 0.8467 - val_loss: 0.0031 - val_acc: 0.8614\n",
            "Epoch 48/50\n",
            "11997/11997 [==============================] - 3s 277us/sample - loss: 0.0017 - acc: 0.8467 - val_loss: 0.0031 - val_acc: 0.8614\n",
            "Epoch 49/50\n",
            "11997/11997 [==============================] - 3s 273us/sample - loss: 0.0017 - acc: 0.8467 - val_loss: 0.0030 - val_acc: 0.8614\n",
            "Epoch 50/50\n",
            "11997/11997 [==============================] - 3s 276us/sample - loss: 0.0017 - acc: 0.8467 - val_loss: 0.0030 - val_acc: 0.8614\n"
          ],
          "name": "stdout"
        },
        {
          "output_type": "execute_result",
          "data": {
            "text/plain": [
              "<tensorflow.python.keras.callbacks.History at 0x7f4a7e230a58>"
            ]
          },
          "metadata": {
            "tags": []
          },
          "execution_count": 103
        }
      ]
    },
    {
      "cell_type": "code",
      "metadata": {
        "id": "jK30TTmsH5Xa",
        "colab_type": "code",
        "colab": {
          "base_uri": "https://localhost:8080/",
          "height": 50
        },
        "outputId": "f1f2b939-f81a-4d5d-a7d5-a4f430e3f833"
      },
      "source": [
        "ypred = model.predict(X5)\n",
        "s=pd.DataFrame(ypred)\n",
        "s1=pd.DataFrame(y5)\n",
        "s1.corrwith(s, axis = 0) "
      ],
      "execution_count": 104,
      "outputs": [
        {
          "output_type": "execute_result",
          "data": {
            "text/plain": [
              "0    0.260757\n",
              "dtype: float64"
            ]
          },
          "metadata": {
            "tags": []
          },
          "execution_count": 104
        }
      ]
    },
    {
      "cell_type": "code",
      "metadata": {
        "id": "ELbd5s3jML2y",
        "colab_type": "code",
        "colab": {
          "base_uri": "https://localhost:8080/",
          "height": 34
        },
        "outputId": "426e2401-898e-423d-dcfe-ac4cc217fae6"
      },
      "source": [
        "r2_score(y5,ypred)"
      ],
      "execution_count": 105,
      "outputs": [
        {
          "output_type": "execute_result",
          "data": {
            "text/plain": [
              "0.06747150483226305"
            ]
          },
          "metadata": {
            "tags": []
          },
          "execution_count": 105
        }
      ]
    },
    {
      "cell_type": "code",
      "metadata": {
        "id": "ixBEfQXVJKU4",
        "colab_type": "code",
        "colab": {
          "base_uri": "https://localhost:8080/",
          "height": 50
        },
        "outputId": "c60d1374-24e1-4cf3-a4b9-d01329a52f43"
      },
      "source": [
        "ypred1=model.predict(X_test5)\n",
        "s=pd.DataFrame(ypred1)\n",
        "s1=pd.DataFrame(y_test5)\n",
        "s1.corrwith(s,axis=0)"
      ],
      "execution_count": 106,
      "outputs": [
        {
          "output_type": "execute_result",
          "data": {
            "text/plain": [
              "0    0.175413\n",
              "dtype: float64"
            ]
          },
          "metadata": {
            "tags": []
          },
          "execution_count": 106
        }
      ]
    },
    {
      "cell_type": "code",
      "metadata": {
        "id": "KDE8ckrObIuQ",
        "colab_type": "code",
        "colab": {
          "base_uri": "https://localhost:8080/",
          "height": 34
        },
        "outputId": "b4c23775-28c0-4325-e4b3-66d6578239c1"
      },
      "source": [
        "mean_absolute_error(y5,ypred)"
      ],
      "execution_count": 107,
      "outputs": [
        {
          "output_type": "execute_result",
          "data": {
            "text/plain": [
              "0.016799773672149503"
            ]
          },
          "metadata": {
            "tags": []
          },
          "execution_count": 107
        }
      ]
    },
    {
      "cell_type": "code",
      "metadata": {
        "id": "PcrMGkNXbMX4",
        "colab_type": "code",
        "colab": {
          "base_uri": "https://localhost:8080/",
          "height": 34
        },
        "outputId": "92a2ada2-fb7f-4b2b-a9ce-233372b8cf57"
      },
      "source": [
        "mean_absolute_error(y_test5,ypred1)"
      ],
      "execution_count": 108,
      "outputs": [
        {
          "output_type": "execute_result",
          "data": {
            "text/plain": [
              "0.020850604310898083"
            ]
          },
          "metadata": {
            "tags": []
          },
          "execution_count": 108
        }
      ]
    },
    {
      "cell_type": "code",
      "metadata": {
        "id": "70Aaq_luMOxY",
        "colab_type": "code",
        "colab": {
          "base_uri": "https://localhost:8080/",
          "height": 34
        },
        "outputId": "fe69a203-d390-46ff-cd90-063a2fdf79ea"
      },
      "source": [
        "r2_score(y_test5,ypred1)"
      ],
      "execution_count": 109,
      "outputs": [
        {
          "output_type": "execute_result",
          "data": {
            "text/plain": [
              "0.026347960524910063"
            ]
          },
          "metadata": {
            "tags": []
          },
          "execution_count": 109
        }
      ]
    },
    {
      "cell_type": "code",
      "metadata": {
        "id": "AGut_VYe-IBJ",
        "colab_type": "code",
        "colab": {}
      },
      "source": [
        "ypred1[ypred1<0]=0"
      ],
      "execution_count": 0,
      "outputs": []
    },
    {
      "cell_type": "code",
      "metadata": {
        "id": "8a9BssrQ-MNn",
        "colab_type": "code",
        "colab": {
          "base_uri": "https://localhost:8080/",
          "height": 668
        },
        "outputId": "25847f43-5f73-4cd1-cd86-d86e913cdd81"
      },
      "source": [
        "plt.plot(y_test5)\n",
        "plt.plot(ypred1)\n",
        "plt.legend(\"Actual\",\"predicted\")\n",
        "plt.show()"
      ],
      "execution_count": 111,
      "outputs": [
        {
          "output_type": "stream",
          "text": [
            "/usr/local/lib/python3.6/dist-packages/ipykernel_launcher.py:3: UserWarning: Legend does not support 'A' instances.\n",
            "A proxy artist may be used instead.\n",
            "See: http://matplotlib.org/users/legend_guide.html#creating-artists-specifically-for-adding-to-the-legend-aka-proxy-artists\n",
            "  This is separate from the ipykernel package so we can avoid doing imports until\n",
            "/usr/local/lib/python3.6/dist-packages/ipykernel_launcher.py:3: UserWarning: Legend does not support 'c' instances.\n",
            "A proxy artist may be used instead.\n",
            "See: http://matplotlib.org/users/legend_guide.html#creating-artists-specifically-for-adding-to-the-legend-aka-proxy-artists\n",
            "  This is separate from the ipykernel package so we can avoid doing imports until\n",
            "/usr/local/lib/python3.6/dist-packages/ipykernel_launcher.py:3: UserWarning: Legend does not support 't' instances.\n",
            "A proxy artist may be used instead.\n",
            "See: http://matplotlib.org/users/legend_guide.html#creating-artists-specifically-for-adding-to-the-legend-aka-proxy-artists\n",
            "  This is separate from the ipykernel package so we can avoid doing imports until\n",
            "/usr/local/lib/python3.6/dist-packages/ipykernel_launcher.py:3: UserWarning: Legend does not support 'u' instances.\n",
            "A proxy artist may be used instead.\n",
            "See: http://matplotlib.org/users/legend_guide.html#creating-artists-specifically-for-adding-to-the-legend-aka-proxy-artists\n",
            "  This is separate from the ipykernel package so we can avoid doing imports until\n",
            "/usr/local/lib/python3.6/dist-packages/ipykernel_launcher.py:3: UserWarning: Legend does not support 'a' instances.\n",
            "A proxy artist may be used instead.\n",
            "See: http://matplotlib.org/users/legend_guide.html#creating-artists-specifically-for-adding-to-the-legend-aka-proxy-artists\n",
            "  This is separate from the ipykernel package so we can avoid doing imports until\n",
            "/usr/local/lib/python3.6/dist-packages/ipykernel_launcher.py:3: UserWarning: Legend does not support 'l' instances.\n",
            "A proxy artist may be used instead.\n",
            "See: http://matplotlib.org/users/legend_guide.html#creating-artists-specifically-for-adding-to-the-legend-aka-proxy-artists\n",
            "  This is separate from the ipykernel package so we can avoid doing imports until\n"
          ],
          "name": "stderr"
        },
        {
          "output_type": "display_data",
          "data": {
            "image/png": "[encoded data removed]",
            "text/plain": [
              "<Figure size 432x288 with 1 Axes>"
            ]
          },
          "metadata": {
            "tags": []
          }
        }
      ]
    },
    {
      "cell_type": "code",
      "metadata": {
        "id": "hwz-3RfiDOgs",
        "colab_type": "code",
        "colab": {
          "base_uri": "https://localhost:8080/",
          "height": 265
        },
        "outputId": "27508d3f-13df-494f-fb02-94e3ff5fe120"
      },
      "source": [
        "plt.plot(y_test5)\n",
        "plt.show()"
      ],
      "execution_count": 112,
      "outputs": [
        {
          "output_type": "display_data",
          "data": {
            "image/png": "[encoded data removed]",
            "text/plain": [
              "<Figure size 432x288 with 1 Axes>"
            ]
          },
          "metadata": {
            "tags": []
          }
        }
      ]
    },
    {
      "cell_type": "code",
      "metadata": {
        "id": "2nBQVwQdAG_m",
        "colab_type": "code",
        "colab": {}
      },
      "source": [
        "model = keras.Sequential()\n",
        "model.add(keras.layers.LSTM(50, activation='relu',return_sequences=True, input_shape=(n_steps, 1)))\n",
        "model.add(keras.layers.LSTM(50, activation='relu'))\n",
        "model.add(keras.layers.Dense(1))\n",
        "model.compile(optimizer='adam', loss='mse',metrics=['accuracy'])"
      ],
      "execution_count": 0,
      "outputs": []
    },
    {
      "cell_type": "code",
      "metadata": {
        "id": "mJL5gGhXtNqT",
        "colab_type": "code",
        "colab": {
          "base_uri": "https://localhost:8080/",
          "height": 1000
        },
        "outputId": "6c5c5c60-b165-4216-f9a3-965ad4f824d3"
      },
      "source": [
        "model.fit(X6, y6, validation_data=(X_test6,y_test6),epochs=50)"
      ],
      "execution_count": 114,
      "outputs": [
        {
          "output_type": "stream",
          "text": [
            "Train on 11997 samples, validate on 3702 samples\n",
            "Epoch 1/50\n",
            "11997/11997 [==============================] - 5s 446us/sample - loss: 0.0033 - acc: 0.8141 - val_loss: 0.0039 - val_acc: 0.8350\n",
            "Epoch 2/50\n",
            "11997/11997 [==============================] - 3s 281us/sample - loss: 0.0032 - acc: 0.8141 - val_loss: 0.0039 - val_acc: 0.8350\n",
            "Epoch 3/50\n",
            "11997/11997 [==============================] - 3s 276us/sample - loss: 0.0031 - acc: 0.8141 - val_loss: 0.0038 - val_acc: 0.8350\n",
            "Epoch 4/50\n",
            "11997/11997 [==============================] - 3s 275us/sample - loss: 0.0031 - acc: 0.8141 - val_loss: 0.0038 - val_acc: 0.8350\n",
            "Epoch 5/50\n",
            "11997/11997 [==============================] - 3s 273us/sample - loss: 0.0031 - acc: 0.8141 - val_loss: 0.0038 - val_acc: 0.8350\n",
            "Epoch 6/50\n",
            "11997/11997 [==============================] - 3s 274us/sample - loss: 0.0031 - acc: 0.8141 - val_loss: 0.0038 - val_acc: 0.8350\n",
            "Epoch 7/50\n",
            "11997/11997 [==============================] - 3s 274us/sample - loss: 0.0031 - acc: 0.8141 - val_loss: 0.0038 - val_acc: 0.8350\n",
            "Epoch 8/50\n",
            "11997/11997 [==============================] - 3s 279us/sample - loss: 0.0031 - acc: 0.8141 - val_loss: 0.0038 - val_acc: 0.8350\n",
            "Epoch 9/50\n",
            "11997/11997 [==============================] - 3s 276us/sample - loss: 0.0031 - acc: 0.8141 - val_loss: 0.0038 - val_acc: 0.8350\n",
            "Epoch 10/50\n",
            "11997/11997 [==============================] - 3s 272us/sample - loss: 0.0031 - acc: 0.8141 - val_loss: 0.0037 - val_acc: 0.8350\n",
            "Epoch 11/50\n",
            "11997/11997 [==============================] - 3s 273us/sample - loss: 0.0031 - acc: 0.8141 - val_loss: 0.0037 - val_acc: 0.8350\n",
            "Epoch 12/50\n",
            "11997/11997 [==============================] - 3s 275us/sample - loss: 0.0031 - acc: 0.8141 - val_loss: 0.0038 - val_acc: 0.8350\n",
            "Epoch 13/50\n",
            "11997/11997 [==============================] - 3s 276us/sample - loss: 0.0031 - acc: 0.8141 - val_loss: 0.0037 - val_acc: 0.8350\n",
            "Epoch 14/50\n",
            "11997/11997 [==============================] - 3s 272us/sample - loss: 0.0031 - acc: 0.8141 - val_loss: 0.0037 - val_acc: 0.8350\n",
            "Epoch 15/50\n",
            "11997/11997 [==============================] - 3s 277us/sample - loss: 0.0031 - acc: 0.8141 - val_loss: 0.0037 - val_acc: 0.8350\n",
            "Epoch 16/50\n",
            "11997/11997 [==============================] - 3s 276us/sample - loss: 0.0031 - acc: 0.8141 - val_loss: 0.0037 - val_acc: 0.8350\n",
            "Epoch 17/50\n",
            "11997/11997 [==============================] - 3s 277us/sample - loss: 0.0031 - acc: 0.8141 - val_loss: 0.0037 - val_acc: 0.8350\n",
            "Epoch 18/50\n",
            "11997/11997 [==============================] - 4s 294us/sample - loss: 0.0031 - acc: 0.8141 - val_loss: 0.0037 - val_acc: 0.8350\n",
            "Epoch 19/50\n",
            "11997/11997 [==============================] - 4s 302us/sample - loss: 0.0031 - acc: 0.8141 - val_loss: 0.0037 - val_acc: 0.8350\n",
            "Epoch 20/50\n",
            "11997/11997 [==============================] - 3s 278us/sample - loss: 0.0031 - acc: 0.8141 - val_loss: 0.0037 - val_acc: 0.8350\n",
            "Epoch 21/50\n",
            "11997/11997 [==============================] - 3s 282us/sample - loss: 0.0031 - acc: 0.8141 - val_loss: 0.0037 - val_acc: 0.8350\n",
            "Epoch 22/50\n",
            "11997/11997 [==============================] - 4s 301us/sample - loss: 0.0031 - acc: 0.8141 - val_loss: 0.0037 - val_acc: 0.8350\n",
            "Epoch 23/50\n",
            "11997/11997 [==============================] - 4s 295us/sample - loss: 0.0031 - acc: 0.8141 - val_loss: 0.0037 - val_acc: 0.8350\n",
            "Epoch 24/50\n",
            "11997/11997 [==============================] - 4s 293us/sample - loss: 0.0031 - acc: 0.8141 - val_loss: 0.0037 - val_acc: 0.8350\n",
            "Epoch 25/50\n",
            "11997/11997 [==============================] - 3s 291us/sample - loss: 0.0031 - acc: 0.8141 - val_loss: 0.0037 - val_acc: 0.8350\n",
            "Epoch 26/50\n",
            "11997/11997 [==============================] - 3s 284us/sample - loss: 0.0031 - acc: 0.8141 - val_loss: 0.0037 - val_acc: 0.8350\n",
            "Epoch 27/50\n",
            "11997/11997 [==============================] - 4s 293us/sample - loss: 0.0031 - acc: 0.8141 - val_loss: 0.0038 - val_acc: 0.8350\n",
            "Epoch 28/50\n",
            "11997/11997 [==============================] - 4s 294us/sample - loss: 0.0031 - acc: 0.8141 - val_loss: 0.0037 - val_acc: 0.8350\n",
            "Epoch 29/50\n",
            "11997/11997 [==============================] - 3s 289us/sample - loss: 0.0031 - acc: 0.8141 - val_loss: 0.0037 - val_acc: 0.8350\n",
            "Epoch 30/50\n",
            "11997/11997 [==============================] - 3s 290us/sample - loss: 0.0031 - acc: 0.8141 - val_loss: 0.0037 - val_acc: 0.8350\n",
            "Epoch 31/50\n",
            "11997/11997 [==============================] - 4s 294us/sample - loss: 0.0031 - acc: 0.8141 - val_loss: 0.0037 - val_acc: 0.8350\n",
            "Epoch 32/50\n",
            "11997/11997 [==============================] - 3s 284us/sample - loss: 0.0031 - acc: 0.8141 - val_loss: 0.0037 - val_acc: 0.8350\n",
            "Epoch 33/50\n",
            "11997/11997 [==============================] - 3s 289us/sample - loss: 0.0031 - acc: 0.8141 - val_loss: 0.0037 - val_acc: 0.8350\n",
            "Epoch 34/50\n",
            "11997/11997 [==============================] - 3s 285us/sample - loss: 0.0031 - acc: 0.8141 - val_loss: 0.0037 - val_acc: 0.8350\n",
            "Epoch 35/50\n",
            "11997/11997 [==============================] - 3s 289us/sample - loss: 0.0031 - acc: 0.8141 - val_loss: 0.0037 - val_acc: 0.8350\n",
            "Epoch 36/50\n",
            "11997/11997 [==============================] - 3s 279us/sample - loss: 0.0031 - acc: 0.8141 - val_loss: 0.0037 - val_acc: 0.8350\n",
            "Epoch 37/50\n",
            "11997/11997 [==============================] - 3s 281us/sample - loss: 0.0031 - acc: 0.8141 - val_loss: 0.0037 - val_acc: 0.8350\n",
            "Epoch 38/50\n",
            "11997/11997 [==============================] - 3s 281us/sample - loss: 0.0031 - acc: 0.8141 - val_loss: 0.0037 - val_acc: 0.8350\n",
            "Epoch 39/50\n",
            "11997/11997 [==============================] - 3s 286us/sample - loss: 0.0031 - acc: 0.8141 - val_loss: 0.0037 - val_acc: 0.8350\n",
            "Epoch 40/50\n",
            "11997/11997 [==============================] - 3s 276us/sample - loss: 0.0031 - acc: 0.8141 - val_loss: 0.0038 - val_acc: 0.8350\n",
            "Epoch 41/50\n",
            "11997/11997 [==============================] - 3s 278us/sample - loss: 0.0030 - acc: 0.8141 - val_loss: 0.0038 - val_acc: 0.8350\n",
            "Epoch 42/50\n",
            "11997/11997 [==============================] - 3s 279us/sample - loss: 0.0031 - acc: 0.8141 - val_loss: 0.0037 - val_acc: 0.8350\n",
            "Epoch 43/50\n",
            "11997/11997 [==============================] - 3s 283us/sample - loss: 0.0031 - acc: 0.8141 - val_loss: 0.0038 - val_acc: 0.8350\n",
            "Epoch 44/50\n",
            "11997/11997 [==============================] - 3s 277us/sample - loss: 0.0031 - acc: 0.8141 - val_loss: 0.0037 - val_acc: 0.8350\n",
            "Epoch 45/50\n",
            "11997/11997 [==============================] - 3s 279us/sample - loss: 0.0031 - acc: 0.8141 - val_loss: 0.0037 - val_acc: 0.8350\n",
            "Epoch 46/50\n",
            "11997/11997 [==============================] - 3s 284us/sample - loss: 0.0031 - acc: 0.8141 - val_loss: 0.0037 - val_acc: 0.8350\n",
            "Epoch 47/50\n",
            "11997/11997 [==============================] - 3s 282us/sample - loss: 0.0031 - acc: 0.8141 - val_loss: 0.0037 - val_acc: 0.8350\n",
            "Epoch 48/50\n",
            "11997/11997 [==============================] - 4s 292us/sample - loss: 0.0031 - acc: 0.8141 - val_loss: 0.0037 - val_acc: 0.8350\n",
            "Epoch 49/50\n",
            "11997/11997 [==============================] - 3s 279us/sample - loss: 0.0031 - acc: 0.8141 - val_loss: 0.0037 - val_acc: 0.8350\n",
            "Epoch 50/50\n",
            "11997/11997 [==============================] - 3s 289us/sample - loss: 0.0031 - acc: 0.8141 - val_loss: 0.0037 - val_acc: 0.8350\n"
          ],
          "name": "stdout"
        },
        {
          "output_type": "execute_result",
          "data": {
            "text/plain": [
              "<tensorflow.python.keras.callbacks.History at 0x7f4a7d6a7fd0>"
            ]
          },
          "metadata": {
            "tags": []
          },
          "execution_count": 114
        }
      ]
    },
    {
      "cell_type": "code",
      "metadata": {
        "id": "jtgC2LPgH7Gj",
        "colab_type": "code",
        "colab": {
          "base_uri": "https://localhost:8080/",
          "height": 50
        },
        "outputId": "aed350ba-9a78-4120-973b-8f883143bb05"
      },
      "source": [
        "ypred = model.predict(X6)\n",
        "s=pd.DataFrame(ypred)\n",
        "s1=pd.DataFrame(y6)\n",
        "s1.corrwith(s, axis = 0) "
      ],
      "execution_count": 115,
      "outputs": [
        {
          "output_type": "execute_result",
          "data": {
            "text/plain": [
              "0    0.31806\n",
              "dtype: float64"
            ]
          },
          "metadata": {
            "tags": []
          },
          "execution_count": 115
        }
      ]
    },
    {
      "cell_type": "code",
      "metadata": {
        "id": "0pz7S13uMF-1",
        "colab_type": "code",
        "colab": {
          "base_uri": "https://localhost:8080/",
          "height": 34
        },
        "outputId": "6175d4ff-3a57-4d22-ee9c-ec54020fbd66"
      },
      "source": [
        "r2_score(y6,ypred)"
      ],
      "execution_count": 116,
      "outputs": [
        {
          "output_type": "execute_result",
          "data": {
            "text/plain": [
              "0.09984905494001894"
            ]
          },
          "metadata": {
            "tags": []
          },
          "execution_count": 116
        }
      ]
    },
    {
      "cell_type": "code",
      "metadata": {
        "id": "YnWGLzXNJMYO",
        "colab_type": "code",
        "colab": {
          "base_uri": "https://localhost:8080/",
          "height": 50
        },
        "outputId": "64ca4635-0467-4a31-ec83-4aa200a113ed"
      },
      "source": [
        "ypred1=model.predict(X_test6)\n",
        "s=pd.DataFrame(ypred1)\n",
        "s1=pd.DataFrame(y_test6)\n",
        "s1.corrwith(s,axis=0)"
      ],
      "execution_count": 117,
      "outputs": [
        {
          "output_type": "execute_result",
          "data": {
            "text/plain": [
              "0    0.271277\n",
              "dtype: float64"
            ]
          },
          "metadata": {
            "tags": []
          },
          "execution_count": 117
        }
      ]
    },
    {
      "cell_type": "code",
      "metadata": {
        "id": "G_sfckB5bT_O",
        "colab_type": "code",
        "colab": {
          "base_uri": "https://localhost:8080/",
          "height": 34
        },
        "outputId": "2ca0cae2-395f-44a8-ec2a-0545a4c4a9bf"
      },
      "source": [
        "mean_absolute_error(y6,ypred)"
      ],
      "execution_count": 118,
      "outputs": [
        {
          "output_type": "execute_result",
          "data": {
            "text/plain": [
              "0.026004618596976302"
            ]
          },
          "metadata": {
            "tags": []
          },
          "execution_count": 118
        }
      ]
    },
    {
      "cell_type": "code",
      "metadata": {
        "id": "UcZfNKSYbXj6",
        "colab_type": "code",
        "colab": {
          "base_uri": "https://localhost:8080/",
          "height": 34
        },
        "outputId": "39a57c2b-ff36-4a37-cc44-ee2f138ee579"
      },
      "source": [
        "mean_absolute_error(y_test6,ypred1)"
      ],
      "execution_count": 119,
      "outputs": [
        {
          "output_type": "execute_result",
          "data": {
            "text/plain": [
              "0.02631557485254648"
            ]
          },
          "metadata": {
            "tags": []
          },
          "execution_count": 119
        }
      ]
    },
    {
      "cell_type": "code",
      "metadata": {
        "id": "vHt09FiPMHsf",
        "colab_type": "code",
        "colab": {
          "base_uri": "https://localhost:8080/",
          "height": 34
        },
        "outputId": "754a08f5-81fa-4e48-8365-9ba64f347beb"
      },
      "source": [
        "r2_score(y_test6,ypred1)"
      ],
      "execution_count": 120,
      "outputs": [
        {
          "output_type": "execute_result",
          "data": {
            "text/plain": [
              "0.07206602338195411"
            ]
          },
          "metadata": {
            "tags": []
          },
          "execution_count": 120
        }
      ]
    },
    {
      "cell_type": "code",
      "metadata": {
        "id": "_2xMz2w5-RYW",
        "colab_type": "code",
        "colab": {
          "base_uri": "https://localhost:8080/",
          "height": 668
        },
        "outputId": "374ae126-7a7f-4fe8-838b-06c6fdc28311"
      },
      "source": [
        "plt.plot(y_test6)\n",
        "plt.plot(ypred1)\n",
        "plt.legend(\"Actual\",\"predicted\")\n",
        "plt.show()"
      ],
      "execution_count": 121,
      "outputs": [
        {
          "output_type": "stream",
          "text": [
            "/usr/local/lib/python3.6/dist-packages/ipykernel_launcher.py:3: UserWarning: Legend does not support 'A' instances.\n",
            "A proxy artist may be used instead.\n",
            "See: http://matplotlib.org/users/legend_guide.html#creating-artists-specifically-for-adding-to-the-legend-aka-proxy-artists\n",
            "  This is separate from the ipykernel package so we can avoid doing imports until\n",
            "/usr/local/lib/python3.6/dist-packages/ipykernel_launcher.py:3: UserWarning: Legend does not support 'c' instances.\n",
            "A proxy artist may be used instead.\n",
            "See: http://matplotlib.org/users/legend_guide.html#creating-artists-specifically-for-adding-to-the-legend-aka-proxy-artists\n",
            "  This is separate from the ipykernel package so we can avoid doing imports until\n",
            "/usr/local/lib/python3.6/dist-packages/ipykernel_launcher.py:3: UserWarning: Legend does not support 't' instances.\n",
            "A proxy artist may be used instead.\n",
            "See: http://matplotlib.org/users/legend_guide.html#creating-artists-specifically-for-adding-to-the-legend-aka-proxy-artists\n",
            "  This is separate from the ipykernel package so we can avoid doing imports until\n",
            "/usr/local/lib/python3.6/dist-packages/ipykernel_launcher.py:3: UserWarning: Legend does not support 'u' instances.\n",
            "A proxy artist may be used instead.\n",
            "See: http://matplotlib.org/users/legend_guide.html#creating-artists-specifically-for-adding-to-the-legend-aka-proxy-artists\n",
            "  This is separate from the ipykernel package so we can avoid doing imports until\n",
            "/usr/local/lib/python3.6/dist-packages/ipykernel_launcher.py:3: UserWarning: Legend does not support 'a' instances.\n",
            "A proxy artist may be used instead.\n",
            "See: http://matplotlib.org/users/legend_guide.html#creating-artists-specifically-for-adding-to-the-legend-aka-proxy-artists\n",
            "  This is separate from the ipykernel package so we can avoid doing imports until\n",
            "/usr/local/lib/python3.6/dist-packages/ipykernel_launcher.py:3: UserWarning: Legend does not support 'l' instances.\n",
            "A proxy artist may be used instead.\n",
            "See: http://matplotlib.org/users/legend_guide.html#creating-artists-specifically-for-adding-to-the-legend-aka-proxy-artists\n",
            "  This is separate from the ipykernel package so we can avoid doing imports until\n"
          ],
          "name": "stderr"
        },
        {
          "output_type": "display_data",
          "data": {
            "image/png": "[encoded data removed]",
            "text/plain": [
              "<Figure size 432x288 with 1 Axes>"
            ]
          },
          "metadata": {
            "tags": []
          }
        }
      ]
    },
    {
      "cell_type": "code",
      "metadata": {
        "id": "p65e8lRaDbr3",
        "colab_type": "code",
        "colab": {
          "base_uri": "https://localhost:8080/",
          "height": 265
        },
        "outputId": "001a97c2-2ab5-4850-9f62-4f0cfe6310c6"
      },
      "source": [
        "plt.plot(y_test6)\n",
        "plt.show()"
      ],
      "execution_count": 122,
      "outputs": [
        {
          "output_type": "display_data",
          "data": {
            "image/png": "[encoded data removed]",
            "text/plain": [
              "<Figure size 432x288 with 1 Axes>"
            ]
          },
          "metadata": {
            "tags": []
          }
        }
      ]
    },
    {
      "cell_type": "code",
      "metadata": {
        "id": "_-mTty8bAIzx",
        "colab_type": "code",
        "colab": {}
      },
      "source": [
        "model = keras.Sequential()\n",
        "model.add(keras.layers.LSTM(50, activation='relu',return_sequences=True, input_shape=(n_steps, 1)))\n",
        "model.add(keras.layers.LSTM(50, activation='relu'))\n",
        "model.add(keras.layers.Dense(1))\n",
        "model.compile(optimizer='adam', loss='mse',metrics=['accuracy'])"
      ],
      "execution_count": 0,
      "outputs": []
    },
    {
      "cell_type": "code",
      "metadata": {
        "id": "GMeE8OZ5tN17",
        "colab_type": "code",
        "colab": {
          "base_uri": "https://localhost:8080/",
          "height": 1000
        },
        "outputId": "11bac871-f636-4e0a-faae-aafbc1b1eabd"
      },
      "source": [
        "model.fit(X7, y7, validation_data=(X_test7,y_test7),epochs=50)"
      ],
      "execution_count": 124,
      "outputs": [
        {
          "output_type": "stream",
          "text": [
            "Train on 11997 samples, validate on 3702 samples\n",
            "Epoch 1/50\n",
            "11997/11997 [==============================] - 6s 459us/sample - loss: 0.0037 - acc: 0.8333 - val_loss: 0.0027 - val_acc: 0.8293\n",
            "Epoch 2/50\n",
            "11997/11997 [==============================] - 3s 278us/sample - loss: 0.0036 - acc: 0.8333 - val_loss: 0.0027 - val_acc: 0.8293\n",
            "Epoch 3/50\n",
            "11997/11997 [==============================] - 3s 281us/sample - loss: 0.0035 - acc: 0.8333 - val_loss: 0.0027 - val_acc: 0.8293\n",
            "Epoch 4/50\n",
            "11997/11997 [==============================] - 3s 281us/sample - loss: 0.0035 - acc: 0.8333 - val_loss: 0.0027 - val_acc: 0.8293\n",
            "Epoch 5/50\n",
            "11997/11997 [==============================] - 3s 274us/sample - loss: 0.0035 - acc: 0.8333 - val_loss: 0.0027 - val_acc: 0.8293\n",
            "Epoch 6/50\n",
            "11997/11997 [==============================] - 3s 271us/sample - loss: 0.0035 - acc: 0.8333 - val_loss: 0.0027 - val_acc: 0.8293\n",
            "Epoch 7/50\n",
            "11997/11997 [==============================] - 3s 275us/sample - loss: 0.0035 - acc: 0.8333 - val_loss: 0.0027 - val_acc: 0.8293\n",
            "Epoch 8/50\n",
            "11997/11997 [==============================] - 3s 280us/sample - loss: 0.0035 - acc: 0.8333 - val_loss: 0.0027 - val_acc: 0.8293\n",
            "Epoch 9/50\n",
            "11997/11997 [==============================] - 3s 279us/sample - loss: 0.0035 - acc: 0.8333 - val_loss: 0.0026 - val_acc: 0.8293\n",
            "Epoch 10/50\n",
            "11997/11997 [==============================] - 3s 278us/sample - loss: 0.0035 - acc: 0.8333 - val_loss: 0.0027 - val_acc: 0.8293\n",
            "Epoch 11/50\n",
            "11997/11997 [==============================] - 3s 280us/sample - loss: 0.0035 - acc: 0.8333 - val_loss: 0.0027 - val_acc: 0.8293\n",
            "Epoch 12/50\n",
            "11997/11997 [==============================] - 3s 281us/sample - loss: 0.0035 - acc: 0.8333 - val_loss: 0.0027 - val_acc: 0.8293\n",
            "Epoch 13/50\n",
            "11997/11997 [==============================] - 3s 285us/sample - loss: 0.0035 - acc: 0.8333 - val_loss: 0.0026 - val_acc: 0.8293\n",
            "Epoch 14/50\n",
            "11997/11997 [==============================] - 3s 284us/sample - loss: 0.0034 - acc: 0.8333 - val_loss: 0.0027 - val_acc: 0.8293\n",
            "Epoch 15/50\n",
            "11997/11997 [==============================] - 3s 273us/sample - loss: 0.0034 - acc: 0.8333 - val_loss: 0.0027 - val_acc: 0.8293\n",
            "Epoch 16/50\n",
            "11997/11997 [==============================] - 3s 278us/sample - loss: 0.0034 - acc: 0.8333 - val_loss: 0.0026 - val_acc: 0.8293\n",
            "Epoch 17/50\n",
            "11997/11997 [==============================] - 3s 278us/sample - loss: 0.0034 - acc: 0.8333 - val_loss: 0.0027 - val_acc: 0.8293\n",
            "Epoch 18/50\n",
            "11997/11997 [==============================] - 3s 276us/sample - loss: 0.0034 - acc: 0.8333 - val_loss: 0.0026 - val_acc: 0.8293\n",
            "Epoch 19/50\n",
            "11997/11997 [==============================] - 3s 273us/sample - loss: 0.0034 - acc: 0.8333 - val_loss: 0.0026 - val_acc: 0.8293\n",
            "Epoch 20/50\n",
            "11997/11997 [==============================] - 3s 273us/sample - loss: 0.0034 - acc: 0.8333 - val_loss: 0.0027 - val_acc: 0.8293\n",
            "Epoch 21/50\n",
            "11997/11997 [==============================] - 3s 273us/sample - loss: 0.0034 - acc: 0.8333 - val_loss: 0.0026 - val_acc: 0.8293\n",
            "Epoch 22/50\n",
            "11997/11997 [==============================] - 3s 275us/sample - loss: 0.0034 - acc: 0.8333 - val_loss: 0.0027 - val_acc: 0.8293\n",
            "Epoch 23/50\n",
            "11997/11997 [==============================] - 3s 275us/sample - loss: 0.0034 - acc: 0.8333 - val_loss: 0.0027 - val_acc: 0.8293\n",
            "Epoch 24/50\n",
            "11997/11997 [==============================] - 3s 271us/sample - loss: 0.0034 - acc: 0.8333 - val_loss: 0.0027 - val_acc: 0.8293\n",
            "Epoch 25/50\n",
            "11997/11997 [==============================] - 3s 275us/sample - loss: 0.0034 - acc: 0.8333 - val_loss: 0.0027 - val_acc: 0.8293\n",
            "Epoch 26/50\n",
            "11997/11997 [==============================] - 3s 273us/sample - loss: 0.0034 - acc: 0.8333 - val_loss: 0.0027 - val_acc: 0.8293\n",
            "Epoch 27/50\n",
            "11997/11997 [==============================] - 3s 273us/sample - loss: 0.0034 - acc: 0.8333 - val_loss: 0.0026 - val_acc: 0.8293\n",
            "Epoch 28/50\n",
            "11997/11997 [==============================] - 3s 273us/sample - loss: 0.0034 - acc: 0.8333 - val_loss: 0.0027 - val_acc: 0.8293\n",
            "Epoch 29/50\n",
            "11997/11997 [==============================] - 3s 273us/sample - loss: 0.0034 - acc: 0.8333 - val_loss: 0.0027 - val_acc: 0.8293\n",
            "Epoch 30/50\n",
            "11997/11997 [==============================] - 3s 274us/sample - loss: 0.0034 - acc: 0.8333 - val_loss: 0.0027 - val_acc: 0.8293\n",
            "Epoch 31/50\n",
            "11997/11997 [==============================] - 3s 272us/sample - loss: 0.0034 - acc: 0.8333 - val_loss: 0.0027 - val_acc: 0.8293\n",
            "Epoch 32/50\n",
            "11997/11997 [==============================] - 3s 270us/sample - loss: 0.0034 - acc: 0.8333 - val_loss: 0.0028 - val_acc: 0.8293\n",
            "Epoch 33/50\n",
            "11997/11997 [==============================] - 3s 271us/sample - loss: 0.0034 - acc: 0.8333 - val_loss: 0.0026 - val_acc: 0.8293\n",
            "Epoch 34/50\n",
            "11997/11997 [==============================] - 3s 273us/sample - loss: 0.0034 - acc: 0.8333 - val_loss: 0.0026 - val_acc: 0.8293\n",
            "Epoch 35/50\n",
            "11997/11997 [==============================] - 3s 272us/sample - loss: 0.0034 - acc: 0.8333 - val_loss: 0.0027 - val_acc: 0.8293\n",
            "Epoch 36/50\n",
            "11997/11997 [==============================] - 3s 272us/sample - loss: 0.0034 - acc: 0.8333 - val_loss: 0.0027 - val_acc: 0.8293\n",
            "Epoch 37/50\n",
            "11997/11997 [==============================] - 3s 272us/sample - loss: 0.0034 - acc: 0.8333 - val_loss: 0.0027 - val_acc: 0.8293\n",
            "Epoch 38/50\n",
            "11997/11997 [==============================] - 3s 271us/sample - loss: 0.0034 - acc: 0.8333 - val_loss: 0.0027 - val_acc: 0.8293\n",
            "Epoch 39/50\n",
            "11997/11997 [==============================] - 3s 289us/sample - loss: 0.0034 - acc: 0.8333 - val_loss: 0.0027 - val_acc: 0.8293\n",
            "Epoch 40/50\n",
            "11997/11997 [==============================] - 3s 287us/sample - loss: 0.0034 - acc: 0.8333 - val_loss: 0.0027 - val_acc: 0.8293\n",
            "Epoch 41/50\n",
            "11997/11997 [==============================] - 3s 274us/sample - loss: 0.0034 - acc: 0.8333 - val_loss: 0.0027 - val_acc: 0.8293\n",
            "Epoch 42/50\n",
            "11997/11997 [==============================] - 3s 271us/sample - loss: 0.0034 - acc: 0.8333 - val_loss: 0.0027 - val_acc: 0.8293\n",
            "Epoch 43/50\n",
            "11997/11997 [==============================] - 3s 273us/sample - loss: 0.0034 - acc: 0.8333 - val_loss: 0.0027 - val_acc: 0.8293\n",
            "Epoch 44/50\n",
            "11997/11997 [==============================] - 3s 269us/sample - loss: 0.0034 - acc: 0.8333 - val_loss: 0.0027 - val_acc: 0.8293\n",
            "Epoch 45/50\n",
            "11997/11997 [==============================] - 3s 273us/sample - loss: 0.0034 - acc: 0.8333 - val_loss: 0.0027 - val_acc: 0.8293\n",
            "Epoch 46/50\n",
            "11997/11997 [==============================] - 3s 270us/sample - loss: 0.0034 - acc: 0.8333 - val_loss: 0.0027 - val_acc: 0.8293\n",
            "Epoch 47/50\n",
            "11997/11997 [==============================] - 3s 270us/sample - loss: 0.0034 - acc: 0.8333 - val_loss: 0.0027 - val_acc: 0.8293\n",
            "Epoch 48/50\n",
            "11997/11997 [==============================] - 3s 269us/sample - loss: 0.0034 - acc: 0.8333 - val_loss: 0.0027 - val_acc: 0.8293\n",
            "Epoch 49/50\n",
            "11997/11997 [==============================] - 3s 271us/sample - loss: 0.0034 - acc: 0.8333 - val_loss: 0.0027 - val_acc: 0.8293\n",
            "Epoch 50/50\n",
            "11997/11997 [==============================] - 3s 273us/sample - loss: 0.0034 - acc: 0.8333 - val_loss: 0.0027 - val_acc: 0.8293\n"
          ],
          "name": "stdout"
        },
        {
          "output_type": "execute_result",
          "data": {
            "text/plain": [
              "<tensorflow.python.keras.callbacks.History at 0x7f4a7e23a940>"
            ]
          },
          "metadata": {
            "tags": []
          },
          "execution_count": 124
        }
      ]
    },
    {
      "cell_type": "code",
      "metadata": {
        "id": "HgPagHEqH8-M",
        "colab_type": "code",
        "colab": {
          "base_uri": "https://localhost:8080/",
          "height": 50
        },
        "outputId": "abed1675-85ba-43b5-d982-1c2e75a28f0a"
      },
      "source": [
        "ypred = model.predict(X7)\n",
        "s=pd.DataFrame(ypred)\n",
        "s1=pd.DataFrame(y7)\n",
        "s1.corrwith(s, axis = 0) "
      ],
      "execution_count": 125,
      "outputs": [
        {
          "output_type": "execute_result",
          "data": {
            "text/plain": [
              "0    0.343702\n",
              "dtype: float64"
            ]
          },
          "metadata": {
            "tags": []
          },
          "execution_count": 125
        }
      ]
    },
    {
      "cell_type": "code",
      "metadata": {
        "id": "H6a79eEsL-Bp",
        "colab_type": "code",
        "colab": {
          "base_uri": "https://localhost:8080/",
          "height": 34
        },
        "outputId": "86fd8710-f21d-4bb9-aa47-b0dbebc5f678"
      },
      "source": [
        "r2_score(y7,ypred)"
      ],
      "execution_count": 126,
      "outputs": [
        {
          "output_type": "execute_result",
          "data": {
            "text/plain": [
              "0.1156388762435685"
            ]
          },
          "metadata": {
            "tags": []
          },
          "execution_count": 126
        }
      ]
    },
    {
      "cell_type": "code",
      "metadata": {
        "id": "wcKAsBAdJNw0",
        "colab_type": "code",
        "colab": {
          "base_uri": "https://localhost:8080/",
          "height": 50
        },
        "outputId": "aa49b932-bcfb-4a22-9396-f71e89917c0c"
      },
      "source": [
        "ypred1=model.predict(X_test7)\n",
        "s=pd.DataFrame(ypred1)\n",
        "s1=pd.DataFrame(y_test7)\n",
        "s1.corrwith(s,axis=0)"
      ],
      "execution_count": 127,
      "outputs": [
        {
          "output_type": "execute_result",
          "data": {
            "text/plain": [
              "0    0.199422\n",
              "dtype: float64"
            ]
          },
          "metadata": {
            "tags": []
          },
          "execution_count": 127
        }
      ]
    },
    {
      "cell_type": "code",
      "metadata": {
        "id": "B7lPJIH0MBZQ",
        "colab_type": "code",
        "colab": {
          "base_uri": "https://localhost:8080/",
          "height": 34
        },
        "outputId": "778246f8-9728-4df2-ee25-3e6dc3c03e91"
      },
      "source": [
        "r2_score(y_test7,ypred1)"
      ],
      "execution_count": 128,
      "outputs": [
        {
          "output_type": "execute_result",
          "data": {
            "text/plain": [
              "0.02226129588999981"
            ]
          },
          "metadata": {
            "tags": []
          },
          "execution_count": 128
        }
      ]
    },
    {
      "cell_type": "code",
      "metadata": {
        "id": "hiVfe-7WbeVn",
        "colab_type": "code",
        "colab": {
          "base_uri": "https://localhost:8080/",
          "height": 34
        },
        "outputId": "23f7d0e2-fab3-4956-ff39-1eda2b79fb8f"
      },
      "source": [
        "mean_absolute_error(y7,ypred)"
      ],
      "execution_count": 129,
      "outputs": [
        {
          "output_type": "execute_result",
          "data": {
            "text/plain": [
              "0.02217984653743082"
            ]
          },
          "metadata": {
            "tags": []
          },
          "execution_count": 129
        }
      ]
    },
    {
      "cell_type": "code",
      "metadata": {
        "id": "yDQLYQrKbjHy",
        "colab_type": "code",
        "colab": {
          "base_uri": "https://localhost:8080/",
          "height": 34
        },
        "outputId": "8876d949-249a-45d7-98b9-f80701745361"
      },
      "source": [
        "mean_absolute_error(y_test7,ypred1)"
      ],
      "execution_count": 130,
      "outputs": [
        {
          "output_type": "execute_result",
          "data": {
            "text/plain": [
              "0.020058231575409344"
            ]
          },
          "metadata": {
            "tags": []
          },
          "execution_count": 130
        }
      ]
    },
    {
      "cell_type": "code",
      "metadata": {
        "id": "5FN1wL5j-Y_K",
        "colab_type": "code",
        "colab": {}
      },
      "source": [
        "ypred1[ypred1<0]=0"
      ],
      "execution_count": 0,
      "outputs": []
    },
    {
      "cell_type": "code",
      "metadata": {
        "id": "t-t6VAJ6-bq8",
        "colab_type": "code",
        "colab": {
          "base_uri": "https://localhost:8080/",
          "height": 668
        },
        "outputId": "a09011d8-9054-4ba6-b3a5-99607e18fe2a"
      },
      "source": [
        "plt.plot(y_test7)\n",
        "plt.plot(ypred1)\n",
        "plt.legend(\"Actual\",\"predicted\")\n",
        "plt.show()"
      ],
      "execution_count": 132,
      "outputs": [
        {
          "output_type": "stream",
          "text": [
            "/usr/local/lib/python3.6/dist-packages/ipykernel_launcher.py:3: UserWarning: Legend does not support 'A' instances.\n",
            "A proxy artist may be used instead.\n",
            "See: http://matplotlib.org/users/legend_guide.html#creating-artists-specifically-for-adding-to-the-legend-aka-proxy-artists\n",
            "  This is separate from the ipykernel package so we can avoid doing imports until\n",
            "/usr/local/lib/python3.6/dist-packages/ipykernel_launcher.py:3: UserWarning: Legend does not support 'c' instances.\n",
            "A proxy artist may be used instead.\n",
            "See: http://matplotlib.org/users/legend_guide.html#creating-artists-specifically-for-adding-to-the-legend-aka-proxy-artists\n",
            "  This is separate from the ipykernel package so we can avoid doing imports until\n",
            "/usr/local/lib/python3.6/dist-packages/ipykernel_launcher.py:3: UserWarning: Legend does not support 't' instances.\n",
            "A proxy artist may be used instead.\n",
            "See: http://matplotlib.org/users/legend_guide.html#creating-artists-specifically-for-adding-to-the-legend-aka-proxy-artists\n",
            "  This is separate from the ipykernel package so we can avoid doing imports until\n",
            "/usr/local/lib/python3.6/dist-packages/ipykernel_launcher.py:3: UserWarning: Legend does not support 'u' instances.\n",
            "A proxy artist may be used instead.\n",
            "See: http://matplotlib.org/users/legend_guide.html#creating-artists-specifically-for-adding-to-the-legend-aka-proxy-artists\n",
            "  This is separate from the ipykernel package so we can avoid doing imports until\n",
            "/usr/local/lib/python3.6/dist-packages/ipykernel_launcher.py:3: UserWarning: Legend does not support 'a' instances.\n",
            "A proxy artist may be used instead.\n",
            "See: http://matplotlib.org/users/legend_guide.html#creating-artists-specifically-for-adding-to-the-legend-aka-proxy-artists\n",
            "  This is separate from the ipykernel package so we can avoid doing imports until\n",
            "/usr/local/lib/python3.6/dist-packages/ipykernel_launcher.py:3: UserWarning: Legend does not support 'l' instances.\n",
            "A proxy artist may be used instead.\n",
            "See: http://matplotlib.org/users/legend_guide.html#creating-artists-specifically-for-adding-to-the-legend-aka-proxy-artists\n",
            "  This is separate from the ipykernel package so we can avoid doing imports until\n"
          ],
          "name": "stderr"
        },
        {
          "output_type": "display_data",
          "data": {
            "image/png": "[encoded data removed]",
            "text/plain": [
              "<Figure size 432x288 with 1 Axes>"
            ]
          },
          "metadata": {
            "tags": []
          }
        }
      ]
    },
    {
      "cell_type": "code",
      "metadata": {
        "id": "9Oi8Ac5UtOAC",
        "colab_type": "code",
        "colab": {
          "base_uri": "https://localhost:8080/",
          "height": 1000
        },
        "outputId": "ccfb9c0a-89c4-4637-beee-f63c6303ccab"
      },
      "source": [
        "model.fit(X8, y8, validation_data=(X_test8,y_test8),epochs=50)"
      ],
      "execution_count": 133,
      "outputs": [
        {
          "output_type": "stream",
          "text": [
            "Train on 11997 samples, validate on 3162 samples\n",
            "Epoch 1/50\n",
            "11997/11997 [==============================] - 3s 271us/sample - loss: 0.0036 - acc: 0.8384 - val_loss: 0.0039 - val_acc: 0.8447\n",
            "Epoch 2/50\n",
            "11997/11997 [==============================] - 3s 274us/sample - loss: 0.0036 - acc: 0.8384 - val_loss: 0.0039 - val_acc: 0.8447\n",
            "Epoch 3/50\n",
            "11997/11997 [==============================] - 3s 269us/sample - loss: 0.0036 - acc: 0.8384 - val_loss: 0.0038 - val_acc: 0.8447\n",
            "Epoch 4/50\n",
            "11997/11997 [==============================] - 3s 277us/sample - loss: 0.0036 - acc: 0.8384 - val_loss: 0.0039 - val_acc: 0.8447\n",
            "Epoch 5/50\n",
            "11997/11997 [==============================] - 3s 275us/sample - loss: 0.0036 - acc: 0.8384 - val_loss: 0.0038 - val_acc: 0.8447\n",
            "Epoch 6/50\n",
            "11997/11997 [==============================] - 3s 285us/sample - loss: 0.0036 - acc: 0.8384 - val_loss: 0.0039 - val_acc: 0.8447\n",
            "Epoch 7/50\n",
            "11997/11997 [==============================] - 3s 284us/sample - loss: 0.0036 - acc: 0.8384 - val_loss: 0.0039 - val_acc: 0.8447\n",
            "Epoch 8/50\n",
            "11997/11997 [==============================] - 3s 285us/sample - loss: 0.0036 - acc: 0.8384 - val_loss: 0.0039 - val_acc: 0.8447\n",
            "Epoch 9/50\n",
            "11997/11997 [==============================] - 3s 273us/sample - loss: 0.0036 - acc: 0.8384 - val_loss: 0.0038 - val_acc: 0.8447\n",
            "Epoch 10/50\n",
            "11997/11997 [==============================] - 3s 274us/sample - loss: 0.0036 - acc: 0.8384 - val_loss: 0.0038 - val_acc: 0.8447\n",
            "Epoch 11/50\n",
            "11997/11997 [==============================] - 3s 284us/sample - loss: 0.0036 - acc: 0.8384 - val_loss: 0.0038 - val_acc: 0.8447\n",
            "Epoch 12/50\n",
            "11997/11997 [==============================] - 3s 283us/sample - loss: 0.0036 - acc: 0.8384 - val_loss: 0.0039 - val_acc: 0.8447\n",
            "Epoch 13/50\n",
            "11997/11997 [==============================] - 3s 281us/sample - loss: 0.0036 - acc: 0.8384 - val_loss: 0.0038 - val_acc: 0.8447\n",
            "Epoch 14/50\n",
            "11997/11997 [==============================] - 3s 275us/sample - loss: 0.0036 - acc: 0.8384 - val_loss: 0.0038 - val_acc: 0.8447\n",
            "Epoch 15/50\n",
            "11997/11997 [==============================] - 3s 277us/sample - loss: 0.0036 - acc: 0.8384 - val_loss: 0.0038 - val_acc: 0.8447\n",
            "Epoch 16/50\n",
            "11997/11997 [==============================] - 3s 283us/sample - loss: 0.0036 - acc: 0.8384 - val_loss: 0.0039 - val_acc: 0.8447\n",
            "Epoch 17/50\n",
            "11997/11997 [==============================] - 3s 283us/sample - loss: 0.0036 - acc: 0.8384 - val_loss: 0.0039 - val_acc: 0.8447\n",
            "Epoch 18/50\n",
            "11997/11997 [==============================] - 3s 287us/sample - loss: 0.0036 - acc: 0.8384 - val_loss: 0.0038 - val_acc: 0.8447\n",
            "Epoch 19/50\n",
            "11997/11997 [==============================] - 3s 288us/sample - loss: 0.0036 - acc: 0.8384 - val_loss: 0.0038 - val_acc: 0.8447\n",
            "Epoch 20/50\n",
            "11997/11997 [==============================] - 3s 287us/sample - loss: 0.0036 - acc: 0.8384 - val_loss: 0.0038 - val_acc: 0.8447\n",
            "Epoch 21/50\n",
            "11997/11997 [==============================] - 4s 292us/sample - loss: 0.0036 - acc: 0.8384 - val_loss: 0.0039 - val_acc: 0.8447\n",
            "Epoch 22/50\n",
            "11997/11997 [==============================] - 3s 279us/sample - loss: 0.0036 - acc: 0.8384 - val_loss: 0.0038 - val_acc: 0.8447\n",
            "Epoch 23/50\n",
            "11997/11997 [==============================] - 3s 277us/sample - loss: 0.0036 - acc: 0.8384 - val_loss: 0.0038 - val_acc: 0.8447\n",
            "Epoch 24/50\n",
            "11997/11997 [==============================] - 3s 281us/sample - loss: 0.0036 - acc: 0.8384 - val_loss: 0.0038 - val_acc: 0.8447\n",
            "Epoch 25/50\n",
            "11997/11997 [==============================] - 3s 291us/sample - loss: 0.0036 - acc: 0.8384 - val_loss: 0.0039 - val_acc: 0.8447\n",
            "Epoch 26/50\n",
            "11997/11997 [==============================] - 3s 283us/sample - loss: 0.0036 - acc: 0.8384 - val_loss: 0.0039 - val_acc: 0.8447\n",
            "Epoch 27/50\n",
            "11997/11997 [==============================] - 3s 288us/sample - loss: 0.0036 - acc: 0.8384 - val_loss: 0.0039 - val_acc: 0.8447\n",
            "Epoch 28/50\n",
            "11997/11997 [==============================] - 3s 285us/sample - loss: 0.0036 - acc: 0.8384 - val_loss: 0.0038 - val_acc: 0.8447\n",
            "Epoch 29/50\n",
            "11997/11997 [==============================] - 3s 291us/sample - loss: 0.0036 - acc: 0.8384 - val_loss: 0.0039 - val_acc: 0.8447\n",
            "Epoch 30/50\n",
            "11997/11997 [==============================] - 3s 290us/sample - loss: 0.0036 - acc: 0.8384 - val_loss: 0.0039 - val_acc: 0.8447\n",
            "Epoch 31/50\n",
            "11997/11997 [==============================] - 4s 309us/sample - loss: 0.0036 - acc: 0.8384 - val_loss: 0.0039 - val_acc: 0.8447\n",
            "Epoch 32/50\n",
            "11997/11997 [==============================] - 4s 313us/sample - loss: 0.0036 - acc: 0.8384 - val_loss: 0.0039 - val_acc: 0.8447\n",
            "Epoch 33/50\n",
            "11997/11997 [==============================] - 4s 315us/sample - loss: 0.0036 - acc: 0.8384 - val_loss: 0.0038 - val_acc: 0.8447\n",
            "Epoch 34/50\n",
            "11997/11997 [==============================] - 3s 277us/sample - loss: 0.0036 - acc: 0.8384 - val_loss: 0.0038 - val_acc: 0.8447\n",
            "Epoch 35/50\n",
            "11997/11997 [==============================] - 3s 278us/sample - loss: 0.0036 - acc: 0.8384 - val_loss: 0.0039 - val_acc: 0.8447\n",
            "Epoch 36/50\n",
            "11997/11997 [==============================] - 4s 302us/sample - loss: 0.0036 - acc: 0.8384 - val_loss: 0.0039 - val_acc: 0.8447\n",
            "Epoch 37/50\n",
            "11997/11997 [==============================] - 3s 281us/sample - loss: 0.0036 - acc: 0.8384 - val_loss: 0.0039 - val_acc: 0.8447\n",
            "Epoch 38/50\n",
            "11997/11997 [==============================] - 3s 289us/sample - loss: 0.0036 - acc: 0.8384 - val_loss: 0.0039 - val_acc: 0.8447\n",
            "Epoch 39/50\n",
            "11997/11997 [==============================] - 3s 290us/sample - loss: 0.0036 - acc: 0.8384 - val_loss: 0.0039 - val_acc: 0.8447\n",
            "Epoch 40/50\n",
            "11997/11997 [==============================] - 3s 272us/sample - loss: 0.0036 - acc: 0.8384 - val_loss: 0.0039 - val_acc: 0.8447\n",
            "Epoch 41/50\n",
            "11997/11997 [==============================] - 3s 269us/sample - loss: 0.0036 - acc: 0.8384 - val_loss: 0.0038 - val_acc: 0.8447\n",
            "Epoch 42/50\n",
            "11997/11997 [==============================] - 3s 273us/sample - loss: 0.0036 - acc: 0.8384 - val_loss: 0.0038 - val_acc: 0.8447\n",
            "Epoch 43/50\n",
            "11997/11997 [==============================] - 3s 282us/sample - loss: 0.0036 - acc: 0.8384 - val_loss: 0.0038 - val_acc: 0.8447\n",
            "Epoch 44/50\n",
            "11997/11997 [==============================] - 3s 277us/sample - loss: 0.0036 - acc: 0.8384 - val_loss: 0.0039 - val_acc: 0.8447\n",
            "Epoch 45/50\n",
            "11997/11997 [==============================] - 3s 287us/sample - loss: 0.0036 - acc: 0.8384 - val_loss: 0.0039 - val_acc: 0.8447\n",
            "Epoch 46/50\n",
            "11997/11997 [==============================] - 3s 291us/sample - loss: 0.0036 - acc: 0.8384 - val_loss: 0.0039 - val_acc: 0.8447\n",
            "Epoch 47/50\n",
            "11997/11997 [==============================] - 3s 278us/sample - loss: 0.0036 - acc: 0.8384 - val_loss: 0.0039 - val_acc: 0.8447\n",
            "Epoch 48/50\n",
            "11997/11997 [==============================] - 3s 286us/sample - loss: 0.0036 - acc: 0.8384 - val_loss: 0.0039 - val_acc: 0.8447\n",
            "Epoch 49/50\n",
            "11997/11997 [==============================] - 3s 281us/sample - loss: 0.0036 - acc: 0.8384 - val_loss: 0.0039 - val_acc: 0.8447\n",
            "Epoch 50/50\n",
            "11997/11997 [==============================] - 3s 270us/sample - loss: 0.0036 - acc: 0.8384 - val_loss: 0.0039 - val_acc: 0.8447\n"
          ],
          "name": "stdout"
        },
        {
          "output_type": "execute_result",
          "data": {
            "text/plain": [
              "<tensorflow.python.keras.callbacks.History at 0x7f4a7cf71438>"
            ]
          },
          "metadata": {
            "tags": []
          },
          "execution_count": 133
        }
      ]
    },
    {
      "cell_type": "code",
      "metadata": {
        "id": "eMLxjFOLH-PS",
        "colab_type": "code",
        "colab": {
          "base_uri": "https://localhost:8080/",
          "height": 50
        },
        "outputId": "7d2bb79b-49c5-4456-b125-b4b2e9ff03c1"
      },
      "source": [
        "ypred = model.predict(X8)\n",
        "s=pd.DataFrame(ypred)\n",
        "s1=pd.DataFrame(y8)\n",
        "s1.corrwith(s, axis = 0) "
      ],
      "execution_count": 134,
      "outputs": [
        {
          "output_type": "execute_result",
          "data": {
            "text/plain": [
              "0    0.326575\n",
              "dtype: float64"
            ]
          },
          "metadata": {
            "tags": []
          },
          "execution_count": 134
        }
      ]
    },
    {
      "cell_type": "code",
      "metadata": {
        "id": "BmVt8ALiL4ae",
        "colab_type": "code",
        "colab": {
          "base_uri": "https://localhost:8080/",
          "height": 34
        },
        "outputId": "2e00b507-791d-415b-ff04-e1ad8e9d7f90"
      },
      "source": [
        "r2_score(y8,ypred)"
      ],
      "execution_count": 135,
      "outputs": [
        {
          "output_type": "execute_result",
          "data": {
            "text/plain": [
              "0.10232789344154292"
            ]
          },
          "metadata": {
            "tags": []
          },
          "execution_count": 135
        }
      ]
    },
    {
      "cell_type": "code",
      "metadata": {
        "id": "ysPaeNMUJP6D",
        "colab_type": "code",
        "colab": {
          "base_uri": "https://localhost:8080/",
          "height": 50
        },
        "outputId": "c7315466-873e-4108-bfa9-716294967294"
      },
      "source": [
        "ypred1=model.predict(X_test8)\n",
        "s=pd.DataFrame(ypred1)\n",
        "s1=pd.DataFrame(y_test8)\n",
        "s1.corrwith(s,axis=0)"
      ],
      "execution_count": 136,
      "outputs": [
        {
          "output_type": "execute_result",
          "data": {
            "text/plain": [
              "0    0.248547\n",
              "dtype: float64"
            ]
          },
          "metadata": {
            "tags": []
          },
          "execution_count": 136
        }
      ]
    },
    {
      "cell_type": "code",
      "metadata": {
        "id": "f7bVrtCdbq_p",
        "colab_type": "code",
        "colab": {
          "base_uri": "https://localhost:8080/",
          "height": 34
        },
        "outputId": "f7f3849d-f856-41cf-9b96-f60bd2d747d3"
      },
      "source": [
        "mean_absolute_error(y8,ypred)"
      ],
      "execution_count": 137,
      "outputs": [
        {
          "output_type": "execute_result",
          "data": {
            "text/plain": [
              "0.027604892997057758"
            ]
          },
          "metadata": {
            "tags": []
          },
          "execution_count": 137
        }
      ]
    },
    {
      "cell_type": "code",
      "metadata": {
        "id": "Bdk4ywxAbsZF",
        "colab_type": "code",
        "colab": {
          "base_uri": "https://localhost:8080/",
          "height": 34
        },
        "outputId": "e5f411e7-3981-47e2-8e56-4c1a4bf3511e"
      },
      "source": [
        "mean_absolute_error(y_test8,ypred1)"
      ],
      "execution_count": 138,
      "outputs": [
        {
          "output_type": "execute_result",
          "data": {
            "text/plain": [
              "0.028441130244219077"
            ]
          },
          "metadata": {
            "tags": []
          },
          "execution_count": 138
        }
      ]
    },
    {
      "cell_type": "code",
      "metadata": {
        "id": "VdoqG1uCL6Up",
        "colab_type": "code",
        "colab": {
          "base_uri": "https://localhost:8080/",
          "height": 34
        },
        "outputId": "e728d003-2407-482b-ca83-02f29ba7e683"
      },
      "source": [
        "r2_score(y_test8,ypred1)"
      ],
      "execution_count": 139,
      "outputs": [
        {
          "output_type": "execute_result",
          "data": {
            "text/plain": [
              "0.05291153474704857"
            ]
          },
          "metadata": {
            "tags": []
          },
          "execution_count": 139
        }
      ]
    },
    {
      "cell_type": "code",
      "metadata": {
        "id": "9FG2LyYR-hpI",
        "colab_type": "code",
        "colab": {}
      },
      "source": [
        "ypred1[ypred1<0]=0"
      ],
      "execution_count": 0,
      "outputs": []
    },
    {
      "cell_type": "code",
      "metadata": {
        "id": "cix6MRc8-kSQ",
        "colab_type": "code",
        "colab": {
          "base_uri": "https://localhost:8080/",
          "height": 668
        },
        "outputId": "5b7c47fa-ddd4-45d4-b045-1657f8eae4b6"
      },
      "source": [
        "plt.plot(y_test8)\n",
        "plt.plot(ypred1)\n",
        "plt.legend(\"Actual\",\"predicted\")\n",
        "plt.show()"
      ],
      "execution_count": 141,
      "outputs": [
        {
          "output_type": "stream",
          "text": [
            "/usr/local/lib/python3.6/dist-packages/ipykernel_launcher.py:3: UserWarning: Legend does not support 'A' instances.\n",
            "A proxy artist may be used instead.\n",
            "See: http://matplotlib.org/users/legend_guide.html#creating-artists-specifically-for-adding-to-the-legend-aka-proxy-artists\n",
            "  This is separate from the ipykernel package so we can avoid doing imports until\n",
            "/usr/local/lib/python3.6/dist-packages/ipykernel_launcher.py:3: UserWarning: Legend does not support 'c' instances.\n",
            "A proxy artist may be used instead.\n",
            "See: http://matplotlib.org/users/legend_guide.html#creating-artists-specifically-for-adding-to-the-legend-aka-proxy-artists\n",
            "  This is separate from the ipykernel package so we can avoid doing imports until\n",
            "/usr/local/lib/python3.6/dist-packages/ipykernel_launcher.py:3: UserWarning: Legend does not support 't' instances.\n",
            "A proxy artist may be used instead.\n",
            "See: http://matplotlib.org/users/legend_guide.html#creating-artists-specifically-for-adding-to-the-legend-aka-proxy-artists\n",
            "  This is separate from the ipykernel package so we can avoid doing imports until\n",
            "/usr/local/lib/python3.6/dist-packages/ipykernel_launcher.py:3: UserWarning: Legend does not support 'u' instances.\n",
            "A proxy artist may be used instead.\n",
            "See: http://matplotlib.org/users/legend_guide.html#creating-artists-specifically-for-adding-to-the-legend-aka-proxy-artists\n",
            "  This is separate from the ipykernel package so we can avoid doing imports until\n",
            "/usr/local/lib/python3.6/dist-packages/ipykernel_launcher.py:3: UserWarning: Legend does not support 'a' instances.\n",
            "A proxy artist may be used instead.\n",
            "See: http://matplotlib.org/users/legend_guide.html#creating-artists-specifically-for-adding-to-the-legend-aka-proxy-artists\n",
            "  This is separate from the ipykernel package so we can avoid doing imports until\n",
            "/usr/local/lib/python3.6/dist-packages/ipykernel_launcher.py:3: UserWarning: Legend does not support 'l' instances.\n",
            "A proxy artist may be used instead.\n",
            "See: http://matplotlib.org/users/legend_guide.html#creating-artists-specifically-for-adding-to-the-legend-aka-proxy-artists\n",
            "  This is separate from the ipykernel package so we can avoid doing imports until\n"
          ],
          "name": "stderr"
        },
        {
          "output_type": "display_data",
          "data": {
            "image/png": "[encoded data removed]",
            "text/plain": [
              "<Figure size 432x288 with 1 Axes>"
            ]
          },
          "metadata": {
            "tags": []
          }
        }
      ]
    },
    {
      "cell_type": "code",
      "metadata": {
        "id": "SLn0vU66tOKK",
        "colab_type": "code",
        "colab": {
          "base_uri": "https://localhost:8080/",
          "height": 1000
        },
        "outputId": "d3419fb0-1e2b-4dbf-d3bd-8960389d36ea"
      },
      "source": [
        "model.fit(X9, y9, validation_data=(X_test9,y_test9),epochs=50)"
      ],
      "execution_count": 142,
      "outputs": [
        {
          "output_type": "stream",
          "text": [
            "Train on 11997 samples, validate on 3702 samples\n",
            "Epoch 1/50\n",
            "11997/11997 [==============================] - 3s 283us/sample - loss: 3.7293e-04 - acc: 0.8766 - val_loss: 2.7106e-04 - val_acc: 0.8439\n",
            "Epoch 2/50\n",
            "11997/11997 [==============================] - 4s 348us/sample - loss: 3.5984e-04 - acc: 0.8766 - val_loss: 2.7787e-04 - val_acc: 0.8439\n",
            "Epoch 3/50\n",
            "11997/11997 [==============================] - 3s 289us/sample - loss: 3.5808e-04 - acc: 0.8766 - val_loss: 2.7065e-04 - val_acc: 0.8439\n",
            "Epoch 4/50\n",
            "11997/11997 [==============================] - 3s 288us/sample - loss: 3.5765e-04 - acc: 0.8766 - val_loss: 2.7182e-04 - val_acc: 0.8439\n",
            "Epoch 5/50\n",
            "11997/11997 [==============================] - 3s 291us/sample - loss: 3.5731e-04 - acc: 0.8766 - val_loss: 2.7078e-04 - val_acc: 0.8439\n",
            "Epoch 6/50\n",
            "11997/11997 [==============================] - 3s 282us/sample - loss: 3.5697e-04 - acc: 0.8766 - val_loss: 2.7697e-04 - val_acc: 0.8439\n",
            "Epoch 7/50\n",
            "11997/11997 [==============================] - 3s 287us/sample - loss: 3.5745e-04 - acc: 0.8766 - val_loss: 2.7076e-04 - val_acc: 0.8439\n",
            "Epoch 8/50\n",
            "11997/11997 [==============================] - 3s 284us/sample - loss: 3.5887e-04 - acc: 0.8766 - val_loss: 2.7393e-04 - val_acc: 0.8439\n",
            "Epoch 9/50\n",
            "11997/11997 [==============================] - 4s 297us/sample - loss: 3.5667e-04 - acc: 0.8766 - val_loss: 2.7305e-04 - val_acc: 0.8439\n",
            "Epoch 10/50\n",
            "11997/11997 [==============================] - 3s 283us/sample - loss: 3.5775e-04 - acc: 0.8766 - val_loss: 2.7503e-04 - val_acc: 0.8439\n",
            "Epoch 11/50\n",
            "11997/11997 [==============================] - 3s 283us/sample - loss: 3.5721e-04 - acc: 0.8766 - val_loss: 2.7142e-04 - val_acc: 0.8439\n",
            "Epoch 12/50\n",
            "11997/11997 [==============================] - 4s 294us/sample - loss: 3.5851e-04 - acc: 0.8766 - val_loss: 2.7055e-04 - val_acc: 0.8439\n",
            "Epoch 13/50\n",
            "11997/11997 [==============================] - 3s 289us/sample - loss: 3.5680e-04 - acc: 0.8766 - val_loss: 2.7352e-04 - val_acc: 0.8439\n",
            "Epoch 14/50\n",
            "11997/11997 [==============================] - 4s 300us/sample - loss: 3.5775e-04 - acc: 0.8766 - val_loss: 2.7576e-04 - val_acc: 0.8439\n",
            "Epoch 15/50\n",
            "11997/11997 [==============================] - 4s 301us/sample - loss: 3.5875e-04 - acc: 0.8766 - val_loss: 2.7043e-04 - val_acc: 0.8439\n",
            "Epoch 16/50\n",
            "11997/11997 [==============================] - 4s 297us/sample - loss: 3.5747e-04 - acc: 0.8766 - val_loss: 2.7981e-04 - val_acc: 0.8439\n",
            "Epoch 17/50\n",
            "11997/11997 [==============================] - 4s 304us/sample - loss: 3.5779e-04 - acc: 0.8766 - val_loss: 2.7074e-04 - val_acc: 0.8439\n",
            "Epoch 18/50\n",
            "11997/11997 [==============================] - 3s 282us/sample - loss: 3.5673e-04 - acc: 0.8766 - val_loss: 2.7031e-04 - val_acc: 0.8439\n",
            "Epoch 19/50\n",
            "11997/11997 [==============================] - 3s 290us/sample - loss: 3.5742e-04 - acc: 0.8766 - val_loss: 2.8627e-04 - val_acc: 0.8439\n",
            "Epoch 20/50\n",
            "11997/11997 [==============================] - 3s 283us/sample - loss: 3.5674e-04 - acc: 0.8766 - val_loss: 2.7183e-04 - val_acc: 0.8439\n",
            "Epoch 21/50\n",
            "11997/11997 [==============================] - 4s 304us/sample - loss: 3.5625e-04 - acc: 0.8766 - val_loss: 3.0837e-04 - val_acc: 0.8439\n",
            "Epoch 22/50\n",
            "11997/11997 [==============================] - 4s 293us/sample - loss: 3.5736e-04 - acc: 0.8766 - val_loss: 2.7434e-04 - val_acc: 0.8439\n",
            "Epoch 23/50\n",
            "11997/11997 [==============================] - 3s 278us/sample - loss: 3.5645e-04 - acc: 0.8766 - val_loss: 2.7427e-04 - val_acc: 0.8439\n",
            "Epoch 24/50\n",
            "11997/11997 [==============================] - 3s 290us/sample - loss: 3.5639e-04 - acc: 0.8766 - val_loss: 2.7745e-04 - val_acc: 0.8439\n",
            "Epoch 25/50\n",
            "11997/11997 [==============================] - 3s 282us/sample - loss: 3.5522e-04 - acc: 0.8766 - val_loss: 2.7596e-04 - val_acc: 0.8439\n",
            "Epoch 26/50\n",
            "11997/11997 [==============================] - 3s 278us/sample - loss: 3.5737e-04 - acc: 0.8766 - val_loss: 3.0329e-04 - val_acc: 0.8439\n",
            "Epoch 27/50\n",
            "11997/11997 [==============================] - 4s 314us/sample - loss: 3.5662e-04 - acc: 0.8766 - val_loss: 2.7012e-04 - val_acc: 0.8439\n",
            "Epoch 28/50\n",
            "11997/11997 [==============================] - 4s 308us/sample - loss: 3.5511e-04 - acc: 0.8766 - val_loss: 2.8969e-04 - val_acc: 0.8439\n",
            "Epoch 29/50\n",
            "11997/11997 [==============================] - 3s 291us/sample - loss: 3.5579e-04 - acc: 0.8766 - val_loss: 2.7656e-04 - val_acc: 0.8439\n",
            "Epoch 30/50\n",
            "11997/11997 [==============================] - 3s 281us/sample - loss: 3.5562e-04 - acc: 0.8766 - val_loss: 2.7038e-04 - val_acc: 0.8439\n",
            "Epoch 31/50\n",
            "11997/11997 [==============================] - 4s 313us/sample - loss: 3.5525e-04 - acc: 0.8766 - val_loss: 2.7384e-04 - val_acc: 0.8439\n",
            "Epoch 32/50\n",
            "11997/11997 [==============================] - 4s 312us/sample - loss: 3.5693e-04 - acc: 0.8766 - val_loss: 2.7021e-04 - val_acc: 0.8439\n",
            "Epoch 33/50\n",
            "11997/11997 [==============================] - 3s 284us/sample - loss: 3.5646e-04 - acc: 0.8766 - val_loss: 2.9911e-04 - val_acc: 0.8439\n",
            "Epoch 34/50\n",
            "11997/11997 [==============================] - 4s 293us/sample - loss: 3.5629e-04 - acc: 0.8766 - val_loss: 2.7186e-04 - val_acc: 0.8439\n",
            "Epoch 35/50\n",
            "11997/11997 [==============================] - 3s 291us/sample - loss: 3.5515e-04 - acc: 0.8766 - val_loss: 2.7417e-04 - val_acc: 0.8439\n",
            "Epoch 36/50\n",
            "11997/11997 [==============================] - 3s 285us/sample - loss: 3.5555e-04 - acc: 0.8766 - val_loss: 2.7394e-04 - val_acc: 0.8439\n",
            "Epoch 37/50\n",
            "11997/11997 [==============================] - 4s 315us/sample - loss: 3.5522e-04 - acc: 0.8766 - val_loss: 2.7029e-04 - val_acc: 0.8439\n",
            "Epoch 38/50\n",
            "11997/11997 [==============================] - 4s 297us/sample - loss: 3.5442e-04 - acc: 0.8766 - val_loss: 2.7204e-04 - val_acc: 0.8439\n",
            "Epoch 39/50\n",
            "11997/11997 [==============================] - 4s 295us/sample - loss: 3.5437e-04 - acc: 0.8766 - val_loss: 2.7328e-04 - val_acc: 0.8439\n",
            "Epoch 40/50\n",
            "11997/11997 [==============================] - 4s 324us/sample - loss: 3.5546e-04 - acc: 0.8766 - val_loss: 2.7263e-04 - val_acc: 0.8439\n",
            "Epoch 41/50\n",
            "11997/11997 [==============================] - 4s 305us/sample - loss: 3.5495e-04 - acc: 0.8766 - val_loss: 2.7537e-04 - val_acc: 0.8439\n",
            "Epoch 42/50\n",
            "11997/11997 [==============================] - 3s 289us/sample - loss: 3.5442e-04 - acc: 0.8766 - val_loss: 2.7077e-04 - val_acc: 0.8439\n",
            "Epoch 43/50\n",
            "11997/11997 [==============================] - 4s 303us/sample - loss: 3.5332e-04 - acc: 0.8766 - val_loss: 2.7224e-04 - val_acc: 0.8439\n",
            "Epoch 44/50\n",
            "11997/11997 [==============================] - 4s 300us/sample - loss: 3.5420e-04 - acc: 0.8766 - val_loss: 2.7307e-04 - val_acc: 0.8439\n",
            "Epoch 45/50\n",
            "11997/11997 [==============================] - 4s 306us/sample - loss: 3.5481e-04 - acc: 0.8766 - val_loss: 2.7864e-04 - val_acc: 0.8439\n",
            "Epoch 46/50\n",
            "11997/11997 [==============================] - 4s 316us/sample - loss: 3.5275e-04 - acc: 0.8766 - val_loss: 2.7042e-04 - val_acc: 0.8439\n",
            "Epoch 47/50\n",
            "11997/11997 [==============================] - 4s 301us/sample - loss: 3.5469e-04 - acc: 0.8766 - val_loss: 2.8754e-04 - val_acc: 0.8439\n",
            "Epoch 48/50\n",
            "11997/11997 [==============================] - 4s 314us/sample - loss: 3.5649e-04 - acc: 0.8766 - val_loss: 2.7449e-04 - val_acc: 0.8439\n",
            "Epoch 49/50\n",
            "11997/11997 [==============================] - 4s 301us/sample - loss: 3.5358e-04 - acc: 0.8766 - val_loss: 2.7181e-04 - val_acc: 0.8439\n",
            "Epoch 50/50\n",
            "11997/11997 [==============================] - 4s 308us/sample - loss: 3.5389e-04 - acc: 0.8766 - val_loss: 2.7011e-04 - val_acc: 0.8439\n"
          ],
          "name": "stdout"
        },
        {
          "output_type": "execute_result",
          "data": {
            "text/plain": [
              "<tensorflow.python.keras.callbacks.History at 0x7f4a7cef6d30>"
            ]
          },
          "metadata": {
            "tags": []
          },
          "execution_count": 142
        }
      ]
    },
    {
      "cell_type": "code",
      "metadata": {
        "id": "zQ5v6HwLH_Wh",
        "colab_type": "code",
        "colab": {
          "base_uri": "https://localhost:8080/",
          "height": 50
        },
        "outputId": "ba59df03-357b-4d8b-88cc-22bd2d3c380e"
      },
      "source": [
        "ypred = model.predict(X9)\n",
        "s=pd.DataFrame(ypred)\n",
        "s1=pd.DataFrame(y9)\n",
        "s1.corrwith(s, axis = 0) "
      ],
      "execution_count": 143,
      "outputs": [
        {
          "output_type": "execute_result",
          "data": {
            "text/plain": [
              "0    0.332768\n",
              "dtype: float64"
            ]
          },
          "metadata": {
            "tags": []
          },
          "execution_count": 143
        }
      ]
    },
    {
      "cell_type": "code",
      "metadata": {
        "id": "Up6_NVQoLi3n",
        "colab_type": "code",
        "colab": {
          "base_uri": "https://localhost:8080/",
          "height": 34
        },
        "outputId": "6cb0cc56-9c59-43a5-c132-343cb8e5218d"
      },
      "source": [
        "r2_score(y9,ypred)"
      ],
      "execution_count": 144,
      "outputs": [
        {
          "output_type": "execute_result",
          "data": {
            "text/plain": [
              "0.10547280982158247"
            ]
          },
          "metadata": {
            "tags": []
          },
          "execution_count": 144
        }
      ]
    },
    {
      "cell_type": "code",
      "metadata": {
        "id": "f3IOE5BCJRSK",
        "colab_type": "code",
        "colab": {
          "base_uri": "https://localhost:8080/",
          "height": 50
        },
        "outputId": "f9a30613-d49b-4afb-f793-6a5d65f3596b"
      },
      "source": [
        "ypred1=model.predict(X_test9)\n",
        "s=pd.DataFrame(ypred1)\n",
        "s1=pd.DataFrame(y_test9)\n",
        "s1.corrwith(s,axis=0)"
      ],
      "execution_count": 145,
      "outputs": [
        {
          "output_type": "execute_result",
          "data": {
            "text/plain": [
              "0    0.000009\n",
              "dtype: float64"
            ]
          },
          "metadata": {
            "tags": []
          },
          "execution_count": 145
        }
      ]
    },
    {
      "cell_type": "code",
      "metadata": {
        "id": "_FDKRSVwLkoD",
        "colab_type": "code",
        "colab": {
          "base_uri": "https://localhost:8080/",
          "height": 34
        },
        "outputId": "e6ca01b0-3f3c-466b-8d9f-24dd58c612e8"
      },
      "source": [
        "r2_score(y_test9,ypred1)"
      ],
      "execution_count": 146,
      "outputs": [
        {
          "output_type": "execute_result",
          "data": {
            "text/plain": [
              "-0.00023246729097037289"
            ]
          },
          "metadata": {
            "tags": []
          },
          "execution_count": 146
        }
      ]
    },
    {
      "cell_type": "code",
      "metadata": {
        "id": "uKkippngDscR",
        "colab_type": "code",
        "colab": {
          "base_uri": "https://localhost:8080/",
          "height": 34
        },
        "outputId": "dc23d25b-eb0d-4efd-de0b-d7d4f64f7500"
      },
      "source": [
        "mean_absolute_error(y9,ypred)"
      ],
      "execution_count": 147,
      "outputs": [
        {
          "output_type": "execute_result",
          "data": {
            "text/plain": [
              "0.004902703218115634"
            ]
          },
          "metadata": {
            "tags": []
          },
          "execution_count": 147
        }
      ]
    },
    {
      "cell_type": "code",
      "metadata": {
        "id": "_WPfFs1Pbx7w",
        "colab_type": "code",
        "colab": {
          "base_uri": "https://localhost:8080/",
          "height": 34
        },
        "outputId": "1c36bb46-c374-4d66-fd16-064bdc6b4a2c"
      },
      "source": [
        "mean_absolute_error(y_test9,ypred1)"
      ],
      "execution_count": 148,
      "outputs": [
        {
          "output_type": "execute_result",
          "data": {
            "text/plain": [
              "0.0005479445278499208"
            ]
          },
          "metadata": {
            "tags": []
          },
          "execution_count": 148
        }
      ]
    },
    {
      "cell_type": "code",
      "metadata": {
        "id": "ja4CmlyKA9q8",
        "colab_type": "code",
        "colab": {}
      },
      "source": [
        "ypred1[ypred1<0]=0"
      ],
      "execution_count": 0,
      "outputs": []
    },
    {
      "cell_type": "code",
      "metadata": {
        "id": "9pcIJFwQBDVi",
        "colab_type": "code",
        "colab": {
          "base_uri": "https://localhost:8080/",
          "height": 668
        },
        "outputId": "5c89c91c-8224-4e9e-89a9-52fa076c33ab"
      },
      "source": [
        "plt.plot(y_test9)\n",
        "plt.plot(ypred1)\n",
        "plt.legend(\"Actual\",\"predicted\")\n",
        "plt.show()"
      ],
      "execution_count": 150,
      "outputs": [
        {
          "output_type": "stream",
          "text": [
            "/usr/local/lib/python3.6/dist-packages/ipykernel_launcher.py:3: UserWarning: Legend does not support 'A' instances.\n",
            "A proxy artist may be used instead.\n",
            "See: http://matplotlib.org/users/legend_guide.html#creating-artists-specifically-for-adding-to-the-legend-aka-proxy-artists\n",
            "  This is separate from the ipykernel package so we can avoid doing imports until\n",
            "/usr/local/lib/python3.6/dist-packages/ipykernel_launcher.py:3: UserWarning: Legend does not support 'c' instances.\n",
            "A proxy artist may be used instead.\n",
            "See: http://matplotlib.org/users/legend_guide.html#creating-artists-specifically-for-adding-to-the-legend-aka-proxy-artists\n",
            "  This is separate from the ipykernel package so we can avoid doing imports until\n",
            "/usr/local/lib/python3.6/dist-packages/ipykernel_launcher.py:3: UserWarning: Legend does not support 't' instances.\n",
            "A proxy artist may be used instead.\n",
            "See: http://matplotlib.org/users/legend_guide.html#creating-artists-specifically-for-adding-to-the-legend-aka-proxy-artists\n",
            "  This is separate from the ipykernel package so we can avoid doing imports until\n",
            "/usr/local/lib/python3.6/dist-packages/ipykernel_launcher.py:3: UserWarning: Legend does not support 'u' instances.\n",
            "A proxy artist may be used instead.\n",
            "See: http://matplotlib.org/users/legend_guide.html#creating-artists-specifically-for-adding-to-the-legend-aka-proxy-artists\n",
            "  This is separate from the ipykernel package so we can avoid doing imports until\n",
            "/usr/local/lib/python3.6/dist-packages/ipykernel_launcher.py:3: UserWarning: Legend does not support 'a' instances.\n",
            "A proxy artist may be used instead.\n",
            "See: http://matplotlib.org/users/legend_guide.html#creating-artists-specifically-for-adding-to-the-legend-aka-proxy-artists\n",
            "  This is separate from the ipykernel package so we can avoid doing imports until\n",
            "/usr/local/lib/python3.6/dist-packages/ipykernel_launcher.py:3: UserWarning: Legend does not support 'l' instances.\n",
            "A proxy artist may be used instead.\n",
            "See: http://matplotlib.org/users/legend_guide.html#creating-artists-specifically-for-adding-to-the-legend-aka-proxy-artists\n",
            "  This is separate from the ipykernel package so we can avoid doing imports until\n"
          ],
          "name": "stderr"
        },
        {
          "output_type": "display_data",
          "data": {
            "image/png": "[encoded data removed]",
            "text/plain": [
              "<Figure size 432x288 with 1 Axes>"
            ]
          },
          "metadata": {
            "tags": []
          }
        }
      ]
    },
    {
      "cell_type": "code",
      "metadata": {
        "id": "IuCVxE4lDw5r",
        "colab_type": "code",
        "colab": {
          "base_uri": "https://localhost:8080/",
          "height": 265
        },
        "outputId": "360cc357-29ba-47d7-daf0-b6e870241ea4"
      },
      "source": [
        "plt.plot(y_test9)\n",
        "plt.show()"
      ],
      "execution_count": 151,
      "outputs": [
        {
          "output_type": "display_data",
          "data": {
            "image/png": "[encoded data removed]",
            "text/plain": [
              "<Figure size 432x288 with 1 Axes>"
            ]
          },
          "metadata": {
            "tags": []
          }
        }
      ]
    },
    {
      "cell_type": "code",
      "metadata": {
        "id": "X4tac5LntOTz",
        "colab_type": "code",
        "colab": {
          "base_uri": "https://localhost:8080/",
          "height": 1000
        },
        "outputId": "cef4afce-4bda-4f49-8d61-0470875b737a"
      },
      "source": [
        "model.fit(X10, y10, validation_data=(X_test10,y_test10),epochs=50)"
      ],
      "execution_count": 152,
      "outputs": [
        {
          "output_type": "stream",
          "text": [
            "Train on 11997 samples, validate on 3702 samples\n",
            "Epoch 1/50\n",
            "11997/11997 [==============================] - 4s 301us/sample - loss: 0.0027 - acc: 0.8375 - val_loss: 2.7964e-04 - val_acc: 0.8501\n",
            "Epoch 2/50\n",
            "11997/11997 [==============================] - 4s 316us/sample - loss: 0.0027 - acc: 0.8375 - val_loss: 2.8188e-04 - val_acc: 0.8501\n",
            "Epoch 3/50\n",
            "11997/11997 [==============================] - 4s 314us/sample - loss: 0.0026 - acc: 0.8375 - val_loss: 3.0138e-04 - val_acc: 0.8501\n",
            "Epoch 4/50\n",
            "11997/11997 [==============================] - 4s 307us/sample - loss: 0.0026 - acc: 0.8375 - val_loss: 2.7916e-04 - val_acc: 0.8501\n",
            "Epoch 5/50\n",
            "11997/11997 [==============================] - 4s 299us/sample - loss: 0.0026 - acc: 0.8375 - val_loss: 3.8169e-04 - val_acc: 0.8501\n",
            "Epoch 6/50\n",
            "11997/11997 [==============================] - 4s 315us/sample - loss: 0.0026 - acc: 0.8375 - val_loss: 2.8519e-04 - val_acc: 0.8501\n",
            "Epoch 7/50\n",
            "11997/11997 [==============================] - 4s 314us/sample - loss: 0.0026 - acc: 0.8375 - val_loss: 3.3381e-04 - val_acc: 0.8501\n",
            "Epoch 8/50\n",
            "11997/11997 [==============================] - 4s 305us/sample - loss: 0.0026 - acc: 0.8375 - val_loss: 3.5121e-04 - val_acc: 0.8501\n",
            "Epoch 9/50\n",
            "11997/11997 [==============================] - 4s 307us/sample - loss: 0.0026 - acc: 0.8375 - val_loss: 3.4624e-04 - val_acc: 0.8501\n",
            "Epoch 10/50\n",
            "11997/11997 [==============================] - 4s 326us/sample - loss: 0.0026 - acc: 0.8375 - val_loss: 3.2109e-04 - val_acc: 0.8501\n",
            "Epoch 11/50\n",
            "11997/11997 [==============================] - 4s 321us/sample - loss: 0.0026 - acc: 0.8375 - val_loss: 4.2077e-04 - val_acc: 0.8501\n",
            "Epoch 12/50\n",
            "11997/11997 [==============================] - 4s 316us/sample - loss: 0.0026 - acc: 0.8375 - val_loss: 3.3513e-04 - val_acc: 0.8501\n",
            "Epoch 13/50\n",
            "11997/11997 [==============================] - 4s 302us/sample - loss: 0.0026 - acc: 0.8375 - val_loss: 3.0802e-04 - val_acc: 0.8501\n",
            "Epoch 14/50\n",
            "11997/11997 [==============================] - 4s 320us/sample - loss: 0.0026 - acc: 0.8375 - val_loss: 3.3809e-04 - val_acc: 0.8501\n",
            "Epoch 15/50\n",
            "11997/11997 [==============================] - 4s 316us/sample - loss: 0.0026 - acc: 0.8375 - val_loss: 3.4446e-04 - val_acc: 0.8501\n",
            "Epoch 16/50\n",
            "11997/11997 [==============================] - 4s 304us/sample - loss: 0.0026 - acc: 0.8375 - val_loss: 3.6825e-04 - val_acc: 0.8501\n",
            "Epoch 17/50\n",
            "11997/11997 [==============================] - 4s 308us/sample - loss: 0.0026 - acc: 0.8375 - val_loss: 3.2576e-04 - val_acc: 0.8501\n",
            "Epoch 18/50\n",
            "11997/11997 [==============================] - 4s 323us/sample - loss: 0.0026 - acc: 0.8375 - val_loss: 3.4986e-04 - val_acc: 0.8501\n",
            "Epoch 19/50\n",
            "11997/11997 [==============================] - 3s 291us/sample - loss: 0.0026 - acc: 0.8375 - val_loss: 3.3218e-04 - val_acc: 0.8501\n",
            "Epoch 20/50\n",
            "11997/11997 [==============================] - 4s 325us/sample - loss: 0.0026 - acc: 0.8375 - val_loss: 3.1256e-04 - val_acc: 0.8501\n",
            "Epoch 21/50\n",
            "11997/11997 [==============================] - 4s 322us/sample - loss: 0.0026 - acc: 0.8375 - val_loss: 2.7860e-04 - val_acc: 0.8501\n",
            "Epoch 22/50\n",
            "11997/11997 [==============================] - 4s 301us/sample - loss: 0.0026 - acc: 0.8375 - val_loss: 3.0493e-04 - val_acc: 0.8501\n",
            "Epoch 23/50\n",
            "11997/11997 [==============================] - 4s 345us/sample - loss: 0.0026 - acc: 0.8375 - val_loss: 2.9318e-04 - val_acc: 0.8501\n",
            "Epoch 24/50\n",
            "11997/11997 [==============================] - 4s 309us/sample - loss: 0.0026 - acc: 0.8375 - val_loss: 3.4157e-04 - val_acc: 0.8501\n",
            "Epoch 25/50\n",
            "11997/11997 [==============================] - 4s 308us/sample - loss: 0.0026 - acc: 0.8375 - val_loss: 3.0005e-04 - val_acc: 0.8501\n",
            "Epoch 26/50\n",
            "11997/11997 [==============================] - 4s 309us/sample - loss: 0.0026 - acc: 0.8375 - val_loss: 3.3722e-04 - val_acc: 0.8501\n",
            "Epoch 27/50\n",
            "11997/11997 [==============================] - 4s 305us/sample - loss: 0.0026 - acc: 0.8375 - val_loss: 3.7532e-04 - val_acc: 0.8501\n",
            "Epoch 28/50\n",
            "11997/11997 [==============================] - 4s 303us/sample - loss: 0.0026 - acc: 0.8375 - val_loss: 3.2786e-04 - val_acc: 0.8501\n",
            "Epoch 29/50\n",
            "11997/11997 [==============================] - 4s 311us/sample - loss: 0.0026 - acc: 0.8375 - val_loss: 2.9596e-04 - val_acc: 0.8501\n",
            "Epoch 30/50\n",
            "11997/11997 [==============================] - 4s 339us/sample - loss: 0.0026 - acc: 0.8375 - val_loss: 2.7431e-04 - val_acc: 0.8501\n",
            "Epoch 31/50\n",
            "11997/11997 [==============================] - 4s 305us/sample - loss: 0.0026 - acc: 0.8375 - val_loss: 3.4433e-04 - val_acc: 0.8501\n",
            "Epoch 32/50\n",
            "11997/11997 [==============================] - 4s 309us/sample - loss: 0.0026 - acc: 0.8375 - val_loss: 3.2804e-04 - val_acc: 0.8501\n",
            "Epoch 33/50\n",
            "11997/11997 [==============================] - 4s 305us/sample - loss: 0.0026 - acc: 0.8375 - val_loss: 4.0681e-04 - val_acc: 0.8501\n",
            "Epoch 34/50\n",
            "11997/11997 [==============================] - 4s 298us/sample - loss: 0.0026 - acc: 0.8375 - val_loss: 2.9530e-04 - val_acc: 0.8501\n",
            "Epoch 35/50\n",
            "11997/11997 [==============================] - 4s 317us/sample - loss: 0.0026 - acc: 0.8375 - val_loss: 2.8309e-04 - val_acc: 0.8501\n",
            "Epoch 36/50\n",
            "11997/11997 [==============================] - 4s 319us/sample - loss: 0.0026 - acc: 0.8375 - val_loss: 4.7043e-04 - val_acc: 0.8501\n",
            "Epoch 37/50\n",
            "11997/11997 [==============================] - 4s 318us/sample - loss: 0.0026 - acc: 0.8375 - val_loss: 3.4093e-04 - val_acc: 0.8501\n",
            "Epoch 38/50\n",
            "11997/11997 [==============================] - 4s 307us/sample - loss: 0.0025 - acc: 0.8375 - val_loss: 2.8329e-04 - val_acc: 0.8501\n",
            "Epoch 39/50\n",
            "11997/11997 [==============================] - 4s 300us/sample - loss: 0.0025 - acc: 0.8375 - val_loss: 2.8966e-04 - val_acc: 0.8501\n",
            "Epoch 40/50\n",
            "11997/11997 [==============================] - 4s 316us/sample - loss: 0.0026 - acc: 0.8375 - val_loss: 3.0418e-04 - val_acc: 0.8501\n",
            "Epoch 41/50\n",
            "11997/11997 [==============================] - 4s 303us/sample - loss: 0.0025 - acc: 0.8375 - val_loss: 3.1268e-04 - val_acc: 0.8501\n",
            "Epoch 42/50\n",
            "11997/11997 [==============================] - 4s 314us/sample - loss: 0.0025 - acc: 0.8375 - val_loss: 2.7717e-04 - val_acc: 0.8501\n",
            "Epoch 43/50\n",
            "11997/11997 [==============================] - 4s 303us/sample - loss: 0.0025 - acc: 0.8375 - val_loss: 3.0689e-04 - val_acc: 0.8501\n",
            "Epoch 44/50\n",
            "11997/11997 [==============================] - 4s 312us/sample - loss: 0.0026 - acc: 0.8375 - val_loss: 3.0677e-04 - val_acc: 0.8501\n",
            "Epoch 45/50\n",
            "11997/11997 [==============================] - 4s 306us/sample - loss: 0.0025 - acc: 0.8375 - val_loss: 3.5644e-04 - val_acc: 0.8501\n",
            "Epoch 46/50\n",
            "11997/11997 [==============================] - 4s 337us/sample - loss: 0.0025 - acc: 0.8375 - val_loss: 3.3019e-04 - val_acc: 0.8501\n",
            "Epoch 47/50\n",
            "11997/11997 [==============================] - 4s 307us/sample - loss: 0.0025 - acc: 0.8375 - val_loss: 2.7369e-04 - val_acc: 0.8501\n",
            "Epoch 48/50\n",
            "11997/11997 [==============================] - 4s 351us/sample - loss: 0.0025 - acc: 0.8375 - val_loss: 2.9202e-04 - val_acc: 0.8501\n",
            "Epoch 49/50\n",
            "11997/11997 [==============================] - 4s 301us/sample - loss: 0.0025 - acc: 0.8375 - val_loss: 3.3175e-04 - val_acc: 0.8501\n",
            "Epoch 50/50\n",
            "11997/11997 [==============================] - 4s 326us/sample - loss: 0.0025 - acc: 0.8375 - val_loss: 3.2274e-04 - val_acc: 0.8501\n"
          ],
          "name": "stdout"
        },
        {
          "output_type": "execute_result",
          "data": {
            "text/plain": [
              "<tensorflow.python.keras.callbacks.History at 0x7f4a7ce2c2b0>"
            ]
          },
          "metadata": {
            "tags": []
          },
          "execution_count": 152
        }
      ]
    },
    {
      "cell_type": "code",
      "metadata": {
        "id": "i7iVtOzuIAff",
        "colab_type": "code",
        "colab": {
          "base_uri": "https://localhost:8080/",
          "height": 50
        },
        "outputId": "a5db3cfa-cf59-4931-8f37-ad52b237b397"
      },
      "source": [
        "ypred = model.predict(X10)\n",
        "s=pd.DataFrame(ypred)\n",
        "s1=pd.DataFrame(y10)\n",
        "s1.corrwith(s, axis = 0) "
      ],
      "execution_count": 153,
      "outputs": [
        {
          "output_type": "execute_result",
          "data": {
            "text/plain": [
              "0    0.377\n",
              "dtype: float64"
            ]
          },
          "metadata": {
            "tags": []
          },
          "execution_count": 153
        }
      ]
    },
    {
      "cell_type": "code",
      "metadata": {
        "id": "ZzIyxgSKLcls",
        "colab_type": "code",
        "colab": {
          "base_uri": "https://localhost:8080/",
          "height": 34
        },
        "outputId": "fef9bbc1-bc9a-4acb-b4f1-62b0a758d677"
      },
      "source": [
        "r2_score(y10,ypred)"
      ],
      "execution_count": 154,
      "outputs": [
        {
          "output_type": "execute_result",
          "data": {
            "text/plain": [
              "0.14085438012295515"
            ]
          },
          "metadata": {
            "tags": []
          },
          "execution_count": 154
        }
      ]
    },
    {
      "cell_type": "code",
      "metadata": {
        "id": "Vz0yUtDVJSqy",
        "colab_type": "code",
        "colab": {
          "base_uri": "https://localhost:8080/",
          "height": 50
        },
        "outputId": "f600df6e-1b85-447d-fa88-caabd6e73a45"
      },
      "source": [
        "ypred1=model.predict(X_test10)\n",
        "s=pd.DataFrame(ypred1)\n",
        "s1=pd.DataFrame(y_test10)\n",
        "s1.corrwith(s,axis=0)"
      ],
      "execution_count": 155,
      "outputs": [
        {
          "output_type": "execute_result",
          "data": {
            "text/plain": [
              "0   -0.000281\n",
              "dtype: float64"
            ]
          },
          "metadata": {
            "tags": []
          },
          "execution_count": 155
        }
      ]
    },
    {
      "cell_type": "code",
      "metadata": {
        "id": "3OvG7PKCLeB2",
        "colab_type": "code",
        "colab": {
          "base_uri": "https://localhost:8080/",
          "height": 34
        },
        "outputId": "783e99ed-2fe3-47c9-c471-f770591cbb27"
      },
      "source": [
        "r2_score(y_test10,ypred1)"
      ],
      "execution_count": 156,
      "outputs": [
        {
          "output_type": "execute_result",
          "data": {
            "text/plain": [
              "-0.19512806052279474"
            ]
          },
          "metadata": {
            "tags": []
          },
          "execution_count": 156
        }
      ]
    },
    {
      "cell_type": "code",
      "metadata": {
        "id": "9e2RJz20b4JB",
        "colab_type": "code",
        "colab": {
          "base_uri": "https://localhost:8080/",
          "height": 34
        },
        "outputId": "1c8e04d8-28a0-43a4-8b8c-7ac5ea87bbb5"
      },
      "source": [
        "mean_absolute_error(y_test10,ypred1)"
      ],
      "execution_count": 157,
      "outputs": [
        {
          "output_type": "execute_result",
          "data": {
            "text/plain": [
              "0.007750735649182947"
            ]
          },
          "metadata": {
            "tags": []
          },
          "execution_count": 157
        }
      ]
    },
    {
      "cell_type": "code",
      "metadata": {
        "id": "lSHbLk8Lb5Bo",
        "colab_type": "code",
        "colab": {
          "base_uri": "https://localhost:8080/",
          "height": 34
        },
        "outputId": "c1361351-b20e-4aea-cb96-a79b4ab98395"
      },
      "source": [
        "mean_absolute_error(y10,ypred)"
      ],
      "execution_count": 158,
      "outputs": [
        {
          "output_type": "execute_result",
          "data": {
            "text/plain": [
              "0.021537126616663696"
            ]
          },
          "metadata": {
            "tags": []
          },
          "execution_count": 158
        }
      ]
    },
    {
      "cell_type": "code",
      "metadata": {
        "id": "_PcWYtGNBLUX",
        "colab_type": "code",
        "colab": {}
      },
      "source": [
        "ypred1[ypred1<0]=0"
      ],
      "execution_count": 0,
      "outputs": []
    },
    {
      "cell_type": "code",
      "metadata": {
        "id": "MoipscUeBRvV",
        "colab_type": "code",
        "colab": {
          "base_uri": "https://localhost:8080/",
          "height": 668
        },
        "outputId": "cce51e23-e3d6-4e27-8fd8-18ac169ee513"
      },
      "source": [
        "plt.plot(y_test10)\n",
        "plt.plot(ypred1)\n",
        "plt.legend(\"Actual\",\"predicted\")\n",
        "plt.show()"
      ],
      "execution_count": 160,
      "outputs": [
        {
          "output_type": "stream",
          "text": [
            "/usr/local/lib/python3.6/dist-packages/ipykernel_launcher.py:3: UserWarning: Legend does not support 'A' instances.\n",
            "A proxy artist may be used instead.\n",
            "See: http://matplotlib.org/users/legend_guide.html#creating-artists-specifically-for-adding-to-the-legend-aka-proxy-artists\n",
            "  This is separate from the ipykernel package so we can avoid doing imports until\n",
            "/usr/local/lib/python3.6/dist-packages/ipykernel_launcher.py:3: UserWarning: Legend does not support 'c' instances.\n",
            "A proxy artist may be used instead.\n",
            "See: http://matplotlib.org/users/legend_guide.html#creating-artists-specifically-for-adding-to-the-legend-aka-proxy-artists\n",
            "  This is separate from the ipykernel package so we can avoid doing imports until\n",
            "/usr/local/lib/python3.6/dist-packages/ipykernel_launcher.py:3: UserWarning: Legend does not support 't' instances.\n",
            "A proxy artist may be used instead.\n",
            "See: http://matplotlib.org/users/legend_guide.html#creating-artists-specifically-for-adding-to-the-legend-aka-proxy-artists\n",
            "  This is separate from the ipykernel package so we can avoid doing imports until\n",
            "/usr/local/lib/python3.6/dist-packages/ipykernel_launcher.py:3: UserWarning: Legend does not support 'u' instances.\n",
            "A proxy artist may be used instead.\n",
            "See: http://matplotlib.org/users/legend_guide.html#creating-artists-specifically-for-adding-to-the-legend-aka-proxy-artists\n",
            "  This is separate from the ipykernel package so we can avoid doing imports until\n",
            "/usr/local/lib/python3.6/dist-packages/ipykernel_launcher.py:3: UserWarning: Legend does not support 'a' instances.\n",
            "A proxy artist may be used instead.\n",
            "See: http://matplotlib.org/users/legend_guide.html#creating-artists-specifically-for-adding-to-the-legend-aka-proxy-artists\n",
            "  This is separate from the ipykernel package so we can avoid doing imports until\n",
            "/usr/local/lib/python3.6/dist-packages/ipykernel_launcher.py:3: UserWarning: Legend does not support 'l' instances.\n",
            "A proxy artist may be used instead.\n",
            "See: http://matplotlib.org/users/legend_guide.html#creating-artists-specifically-for-adding-to-the-legend-aka-proxy-artists\n",
            "  This is separate from the ipykernel package so we can avoid doing imports until\n"
          ],
          "name": "stderr"
        },
        {
          "output_type": "display_data",
          "data": {
            "image/png": "[encoded data removed]",
            "text/plain": [
              "<Figure size 432x288 with 1 Axes>"
            ]
          },
          "metadata": {
            "tags": []
          }
        }
      ]
    },
    {
      "cell_type": "code",
      "metadata": {
        "id": "ET6lVrLQD4zX",
        "colab_type": "code",
        "colab": {
          "base_uri": "https://localhost:8080/",
          "height": 265
        },
        "outputId": "5f97c08f-4e4e-49a2-a837-859695eda1be"
      },
      "source": [
        "plt.plot(y_test10)\n",
        "plt.show()"
      ],
      "execution_count": 161,
      "outputs": [
        {
          "output_type": "display_data",
          "data": {
            "image/png": "[encoded data removed]",
            "text/plain": [
              "<Figure size 432x288 with 1 Axes>"
            ]
          },
          "metadata": {
            "tags": []
          }
        }
      ]
    },
    {
      "cell_type": "code",
      "metadata": {
        "id": "WBFxiG7GtOdT",
        "colab_type": "code",
        "colab": {
          "base_uri": "https://localhost:8080/",
          "height": 1000
        },
        "outputId": "9a2286ce-9818-4c2a-cf8f-12c5d80ce8f6"
      },
      "source": [
        "model.fit(X11, y11, validation_data=(X_test11,y_test11),epochs=50)"
      ],
      "execution_count": 162,
      "outputs": [
        {
          "output_type": "stream",
          "text": [
            "Train on 11997 samples, validate on 3342 samples\n",
            "Epoch 1/50\n",
            "11997/11997 [==============================] - 4s 313us/sample - loss: 0.0027 - acc: 0.8450 - val_loss: 3.9703e-04 - val_acc: 0.8606\n",
            "Epoch 2/50\n",
            "11997/11997 [==============================] - 4s 303us/sample - loss: 0.0027 - acc: 0.8450 - val_loss: 3.3037e-04 - val_acc: 0.8606\n",
            "Epoch 3/50\n",
            "11997/11997 [==============================] - 4s 327us/sample - loss: 0.0027 - acc: 0.8450 - val_loss: 3.7761e-04 - val_acc: 0.8606\n",
            "Epoch 4/50\n",
            "11997/11997 [==============================] - 4s 322us/sample - loss: 0.0027 - acc: 0.8450 - val_loss: 3.1866e-04 - val_acc: 0.8606\n",
            "Epoch 5/50\n",
            "11997/11997 [==============================] - 4s 304us/sample - loss: 0.0027 - acc: 0.8450 - val_loss: 3.5572e-04 - val_acc: 0.8606\n",
            "Epoch 6/50\n",
            "11997/11997 [==============================] - 4s 306us/sample - loss: 0.0027 - acc: 0.8450 - val_loss: 3.3934e-04 - val_acc: 0.8606\n",
            "Epoch 7/50\n",
            "11997/11997 [==============================] - 4s 310us/sample - loss: 0.0027 - acc: 0.8450 - val_loss: 3.3191e-04 - val_acc: 0.8606\n",
            "Epoch 8/50\n",
            "11997/11997 [==============================] - 4s 318us/sample - loss: 0.0027 - acc: 0.8450 - val_loss: 3.0918e-04 - val_acc: 0.8606\n",
            "Epoch 9/50\n",
            "11997/11997 [==============================] - 4s 315us/sample - loss: 0.0027 - acc: 0.8450 - val_loss: 3.3134e-04 - val_acc: 0.8606\n",
            "Epoch 10/50\n",
            "11997/11997 [==============================] - 4s 314us/sample - loss: 0.0027 - acc: 0.8450 - val_loss: 3.6354e-04 - val_acc: 0.8606\n",
            "Epoch 11/50\n",
            "11997/11997 [==============================] - 4s 304us/sample - loss: 0.0027 - acc: 0.8450 - val_loss: 3.3519e-04 - val_acc: 0.8606\n",
            "Epoch 12/50\n",
            "11997/11997 [==============================] - 4s 308us/sample - loss: 0.0027 - acc: 0.8450 - val_loss: 3.3862e-04 - val_acc: 0.8606\n",
            "Epoch 13/50\n",
            "11997/11997 [==============================] - 4s 309us/sample - loss: 0.0027 - acc: 0.8450 - val_loss: 3.9148e-04 - val_acc: 0.8606\n",
            "Epoch 14/50\n",
            "11997/11997 [==============================] - 4s 316us/sample - loss: 0.0027 - acc: 0.8450 - val_loss: 3.6070e-04 - val_acc: 0.8606\n",
            "Epoch 15/50\n",
            "11997/11997 [==============================] - 4s 300us/sample - loss: 0.0026 - acc: 0.8450 - val_loss: 3.0558e-04 - val_acc: 0.8606\n",
            "Epoch 16/50\n",
            "11997/11997 [==============================] - 4s 305us/sample - loss: 0.0026 - acc: 0.8450 - val_loss: 3.1974e-04 - val_acc: 0.8606\n",
            "Epoch 17/50\n",
            "11997/11997 [==============================] - 4s 316us/sample - loss: 0.0026 - acc: 0.8450 - val_loss: 3.1058e-04 - val_acc: 0.8606\n",
            "Epoch 18/50\n",
            "11997/11997 [==============================] - 4s 298us/sample - loss: 0.0026 - acc: 0.8450 - val_loss: 3.0208e-04 - val_acc: 0.8606\n",
            "Epoch 19/50\n",
            "11997/11997 [==============================] - 4s 298us/sample - loss: 0.0026 - acc: 0.8450 - val_loss: 3.2300e-04 - val_acc: 0.8606\n",
            "Epoch 20/50\n",
            "11997/11997 [==============================] - 4s 327us/sample - loss: 0.0026 - acc: 0.8450 - val_loss: 3.2617e-04 - val_acc: 0.8606\n",
            "Epoch 21/50\n",
            "11997/11997 [==============================] - 4s 320us/sample - loss: 0.0026 - acc: 0.8450 - val_loss: 3.6261e-04 - val_acc: 0.8606\n",
            "Epoch 22/50\n",
            "11997/11997 [==============================] - 4s 309us/sample - loss: 0.0026 - acc: 0.8450 - val_loss: 3.4379e-04 - val_acc: 0.8606\n",
            "Epoch 23/50\n",
            "11997/11997 [==============================] - 4s 297us/sample - loss: 0.0026 - acc: 0.8450 - val_loss: 4.5263e-04 - val_acc: 0.8606\n",
            "Epoch 24/50\n",
            "11997/11997 [==============================] - 4s 300us/sample - loss: 0.0026 - acc: 0.8450 - val_loss: 3.3746e-04 - val_acc: 0.8606\n",
            "Epoch 25/50\n",
            "11997/11997 [==============================] - 4s 314us/sample - loss: 0.0026 - acc: 0.8450 - val_loss: 3.0247e-04 - val_acc: 0.8606\n",
            "Epoch 26/50\n",
            "11997/11997 [==============================] - 4s 316us/sample - loss: 0.0026 - acc: 0.8450 - val_loss: 3.4024e-04 - val_acc: 0.8606\n",
            "Epoch 27/50\n",
            "11997/11997 [==============================] - 4s 298us/sample - loss: 0.0026 - acc: 0.8450 - val_loss: 3.7780e-04 - val_acc: 0.8606\n",
            "Epoch 28/50\n",
            "11997/11997 [==============================] - 4s 327us/sample - loss: 0.0026 - acc: 0.8450 - val_loss: 3.2534e-04 - val_acc: 0.8606\n",
            "Epoch 29/50\n",
            "11997/11997 [==============================] - 4s 341us/sample - loss: 0.0026 - acc: 0.8450 - val_loss: 3.0092e-04 - val_acc: 0.8606\n",
            "Epoch 30/50\n",
            "11997/11997 [==============================] - 4s 314us/sample - loss: 0.0026 - acc: 0.8450 - val_loss: 3.4815e-04 - val_acc: 0.8606\n",
            "Epoch 31/50\n",
            "11997/11997 [==============================] - 4s 311us/sample - loss: 0.0026 - acc: 0.8450 - val_loss: 3.0509e-04 - val_acc: 0.8606\n",
            "Epoch 32/50\n",
            "11997/11997 [==============================] - 4s 295us/sample - loss: 0.0026 - acc: 0.8450 - val_loss: 4.1415e-04 - val_acc: 0.8606\n",
            "Epoch 33/50\n",
            "11997/11997 [==============================] - 4s 304us/sample - loss: 0.0026 - acc: 0.8450 - val_loss: 3.0753e-04 - val_acc: 0.8606\n",
            "Epoch 34/50\n",
            "11997/11997 [==============================] - 3s 292us/sample - loss: 0.0026 - acc: 0.8450 - val_loss: 3.0812e-04 - val_acc: 0.8606\n",
            "Epoch 35/50\n",
            "11997/11997 [==============================] - 4s 304us/sample - loss: 0.0026 - acc: 0.8450 - val_loss: 4.1674e-04 - val_acc: 0.8606\n",
            "Epoch 36/50\n",
            "11997/11997 [==============================] - 4s 297us/sample - loss: 0.0026 - acc: 0.8450 - val_loss: 3.1484e-04 - val_acc: 0.8606\n",
            "Epoch 37/50\n",
            "11997/11997 [==============================] - 3s 285us/sample - loss: 0.0026 - acc: 0.8450 - val_loss: 3.5911e-04 - val_acc: 0.8606\n",
            "Epoch 38/50\n",
            "11997/11997 [==============================] - 4s 300us/sample - loss: 0.0026 - acc: 0.8450 - val_loss: 3.3706e-04 - val_acc: 0.8606\n",
            "Epoch 39/50\n",
            "11997/11997 [==============================] - 3s 289us/sample - loss: 0.0026 - acc: 0.8450 - val_loss: 3.3687e-04 - val_acc: 0.8606\n",
            "Epoch 40/50\n",
            "11997/11997 [==============================] - 4s 309us/sample - loss: 0.0026 - acc: 0.8450 - val_loss: 3.5621e-04 - val_acc: 0.8606\n",
            "Epoch 41/50\n",
            "11997/11997 [==============================] - 4s 307us/sample - loss: 0.0026 - acc: 0.8450 - val_loss: 3.0102e-04 - val_acc: 0.8606\n",
            "Epoch 42/50\n",
            "11997/11997 [==============================] - 4s 302us/sample - loss: 0.0026 - acc: 0.8450 - val_loss: 3.4483e-04 - val_acc: 0.8606\n",
            "Epoch 43/50\n",
            "11997/11997 [==============================] - 4s 305us/sample - loss: 0.0026 - acc: 0.8450 - val_loss: 3.4293e-04 - val_acc: 0.8606\n",
            "Epoch 44/50\n",
            "11997/11997 [==============================] - 4s 303us/sample - loss: 0.0026 - acc: 0.8450 - val_loss: 3.7340e-04 - val_acc: 0.8606\n",
            "Epoch 45/50\n",
            "11997/11997 [==============================] - 4s 299us/sample - loss: 0.0026 - acc: 0.8450 - val_loss: 3.7424e-04 - val_acc: 0.8606\n",
            "Epoch 46/50\n",
            "11997/11997 [==============================] - 4s 301us/sample - loss: 0.0026 - acc: 0.8450 - val_loss: 3.2064e-04 - val_acc: 0.8606\n",
            "Epoch 47/50\n",
            "11997/11997 [==============================] - 4s 301us/sample - loss: 0.0026 - acc: 0.8450 - val_loss: 3.2300e-04 - val_acc: 0.8606\n",
            "Epoch 48/50\n",
            "11997/11997 [==============================] - 4s 314us/sample - loss: 0.0026 - acc: 0.8450 - val_loss: 3.0618e-04 - val_acc: 0.8606\n",
            "Epoch 49/50\n",
            "11997/11997 [==============================] - 4s 306us/sample - loss: 0.0026 - acc: 0.8450 - val_loss: 3.2176e-04 - val_acc: 0.8606\n",
            "Epoch 50/50\n",
            "11997/11997 [==============================] - 4s 317us/sample - loss: 0.0026 - acc: 0.8450 - val_loss: 3.8570e-04 - val_acc: 0.8606\n"
          ],
          "name": "stdout"
        },
        {
          "output_type": "execute_result",
          "data": {
            "text/plain": [
              "<tensorflow.python.keras.callbacks.History at 0x7f4a7cd379e8>"
            ]
          },
          "metadata": {
            "tags": []
          },
          "execution_count": 162
        }
      ]
    },
    {
      "cell_type": "code",
      "metadata": {
        "id": "TOytGCJYIByT",
        "colab_type": "code",
        "colab": {
          "base_uri": "https://localhost:8080/",
          "height": 50
        },
        "outputId": "240d899c-27a2-48d0-8fcb-2a4e563aa586"
      },
      "source": [
        "ypred = model.predict(X11)\n",
        "s=pd.DataFrame(ypred)\n",
        "s1=pd.DataFrame(y11)\n",
        "s1.corrwith(s, axis = 0) "
      ],
      "execution_count": 163,
      "outputs": [
        {
          "output_type": "execute_result",
          "data": {
            "text/plain": [
              "0    0.353422\n",
              "dtype: float64"
            ]
          },
          "metadata": {
            "tags": []
          },
          "execution_count": 163
        }
      ]
    },
    {
      "cell_type": "code",
      "metadata": {
        "id": "iINdBIwoLTXh",
        "colab_type": "code",
        "colab": {
          "base_uri": "https://localhost:8080/",
          "height": 34
        },
        "outputId": "a1fb1ce2-5b48-4d3b-97df-e23067eb3ca1"
      },
      "source": [
        "r2_score(y11,ypred)"
      ],
      "execution_count": 164,
      "outputs": [
        {
          "output_type": "execute_result",
          "data": {
            "text/plain": [
              "0.12059398534934762"
            ]
          },
          "metadata": {
            "tags": []
          },
          "execution_count": 164
        }
      ]
    },
    {
      "cell_type": "code",
      "metadata": {
        "id": "4WAXVRGRJUGH",
        "colab_type": "code",
        "colab": {
          "base_uri": "https://localhost:8080/",
          "height": 50
        },
        "outputId": "addc03f3-a4c5-4068-b3aa-f212b71da940"
      },
      "source": [
        "ypred1=model.predict(X_test11)\n",
        "s=pd.DataFrame(ypred1)\n",
        "s1=pd.DataFrame(y_test11)\n",
        "s1.corrwith(s,axis=0)"
      ],
      "execution_count": 165,
      "outputs": [
        {
          "output_type": "execute_result",
          "data": {
            "text/plain": [
              "0   -0.000726\n",
              "dtype: float64"
            ]
          },
          "metadata": {
            "tags": []
          },
          "execution_count": 165
        }
      ]
    },
    {
      "cell_type": "code",
      "metadata": {
        "id": "IteaW7lyLXic",
        "colab_type": "code",
        "colab": {
          "base_uri": "https://localhost:8080/",
          "height": 34
        },
        "outputId": "267ac524-8b8e-4530-e138-a9a22f256828"
      },
      "source": [
        "r2_score(y_test11,ypred1)"
      ],
      "execution_count": 166,
      "outputs": [
        {
          "output_type": "execute_result",
          "data": {
            "text/plain": [
              "-0.28941278324687847"
            ]
          },
          "metadata": {
            "tags": []
          },
          "execution_count": 166
        }
      ]
    },
    {
      "cell_type": "code",
      "metadata": {
        "id": "dR8eWYdab9x0",
        "colab_type": "code",
        "colab": {
          "base_uri": "https://localhost:8080/",
          "height": 34
        },
        "outputId": "46636082-209b-4af0-e99b-1354ddd2148b"
      },
      "source": [
        "mean_absolute_error(y_test11,ypred1)"
      ],
      "execution_count": 167,
      "outputs": [
        {
          "output_type": "execute_result",
          "data": {
            "text/plain": [
              "0.009794645875188909"
            ]
          },
          "metadata": {
            "tags": []
          },
          "execution_count": 167
        }
      ]
    },
    {
      "cell_type": "code",
      "metadata": {
        "id": "EQmn_nV5b_wQ",
        "colab_type": "code",
        "colab": {
          "base_uri": "https://localhost:8080/",
          "height": 34
        },
        "outputId": "03e82d68-2c0e-4e92-e1ea-c0b34e594e53"
      },
      "source": [
        "mean_absolute_error(y11,ypred)"
      ],
      "execution_count": 168,
      "outputs": [
        {
          "output_type": "execute_result",
          "data": {
            "text/plain": [
              "0.022877344826070033"
            ]
          },
          "metadata": {
            "tags": []
          },
          "execution_count": 168
        }
      ]
    },
    {
      "cell_type": "code",
      "metadata": {
        "id": "C3VrCmzEBWJ6",
        "colab_type": "code",
        "colab": {}
      },
      "source": [
        "ypred1[ypred1<0]=0"
      ],
      "execution_count": 0,
      "outputs": []
    },
    {
      "cell_type": "code",
      "metadata": {
        "id": "5y473PjaBY8X",
        "colab_type": "code",
        "colab": {
          "base_uri": "https://localhost:8080/",
          "height": 668
        },
        "outputId": "6297a391-f74b-4619-a8dc-1dde145f2564"
      },
      "source": [
        "plt.plot(y_test11)\n",
        "plt.plot(ypred1)\n",
        "plt.legend(\"Actual\",\"predicted\")\n",
        "plt.show()"
      ],
      "execution_count": 170,
      "outputs": [
        {
          "output_type": "stream",
          "text": [
            "/usr/local/lib/python3.6/dist-packages/ipykernel_launcher.py:3: UserWarning: Legend does not support 'A' instances.\n",
            "A proxy artist may be used instead.\n",
            "See: http://matplotlib.org/users/legend_guide.html#creating-artists-specifically-for-adding-to-the-legend-aka-proxy-artists\n",
            "  This is separate from the ipykernel package so we can avoid doing imports until\n",
            "/usr/local/lib/python3.6/dist-packages/ipykernel_launcher.py:3: UserWarning: Legend does not support 'c' instances.\n",
            "A proxy artist may be used instead.\n",
            "See: http://matplotlib.org/users/legend_guide.html#creating-artists-specifically-for-adding-to-the-legend-aka-proxy-artists\n",
            "  This is separate from the ipykernel package so we can avoid doing imports until\n",
            "/usr/local/lib/python3.6/dist-packages/ipykernel_launcher.py:3: UserWarning: Legend does not support 't' instances.\n",
            "A proxy artist may be used instead.\n",
            "See: http://matplotlib.org/users/legend_guide.html#creating-artists-specifically-for-adding-to-the-legend-aka-proxy-artists\n",
            "  This is separate from the ipykernel package so we can avoid doing imports until\n",
            "/usr/local/lib/python3.6/dist-packages/ipykernel_launcher.py:3: UserWarning: Legend does not support 'u' instances.\n",
            "A proxy artist may be used instead.\n",
            "See: http://matplotlib.org/users/legend_guide.html#creating-artists-specifically-for-adding-to-the-legend-aka-proxy-artists\n",
            "  This is separate from the ipykernel package so we can avoid doing imports until\n",
            "/usr/local/lib/python3.6/dist-packages/ipykernel_launcher.py:3: UserWarning: Legend does not support 'a' instances.\n",
            "A proxy artist may be used instead.\n",
            "See: http://matplotlib.org/users/legend_guide.html#creating-artists-specifically-for-adding-to-the-legend-aka-proxy-artists\n",
            "  This is separate from the ipykernel package so we can avoid doing imports until\n",
            "/usr/local/lib/python3.6/dist-packages/ipykernel_launcher.py:3: UserWarning: Legend does not support 'l' instances.\n",
            "A proxy artist may be used instead.\n",
            "See: http://matplotlib.org/users/legend_guide.html#creating-artists-specifically-for-adding-to-the-legend-aka-proxy-artists\n",
            "  This is separate from the ipykernel package so we can avoid doing imports until\n"
          ],
          "name": "stderr"
        },
        {
          "output_type": "display_data",
          "data": {
            "image/png": "[encoded data removed]",
            "text/plain": [
              "<Figure size 432x288 with 1 Axes>"
            ]
          },
          "metadata": {
            "tags": []
          }
        }
      ]
    },
    {
      "cell_type": "code",
      "metadata": {
        "id": "1LbFvH79EB86",
        "colab_type": "code",
        "colab": {
          "base_uri": "https://localhost:8080/",
          "height": 426
        },
        "outputId": "487593cf-4cb0-44fe-eefc-eaaab97eae9f"
      },
      "source": [
        "plt.plot(y_test11)\n",
        "plt,show()"
      ],
      "execution_count": 171,
      "outputs": [
        {
          "output_type": "error",
          "ename": "NameError",
          "evalue": "ignored",
          "traceback": [
            "\u001b[0;31m---------------------------------------------------------------------------\u001b[0m",
            "\u001b[0;31mNameError\u001b[0m                                 Traceback (most recent call last)",
            "\u001b[0;32m<ipython-input-171-38b4371ff073>\u001b[0m in \u001b[0;36m<module>\u001b[0;34m()\u001b[0m\n\u001b[1;32m      1\u001b[0m \u001b[0mplt\u001b[0m\u001b[0;34m.\u001b[0m\u001b[0mplot\u001b[0m\u001b[0;34m(\u001b[0m\u001b[0my_test11\u001b[0m\u001b[0;34m)\u001b[0m\u001b[0;34m\u001b[0m\u001b[0;34m\u001b[0m\u001b[0m\n\u001b[0;32m----> 2\u001b[0;31m \u001b[0mplt\u001b[0m\u001b[0;34m,\u001b[0m\u001b[0mshow\u001b[0m\u001b[0;34m(\u001b[0m\u001b[0;34m)\u001b[0m\u001b[0;34m\u001b[0m\u001b[0;34m\u001b[0m\u001b[0m\n\u001b[0m",
            "\u001b[0;31mNameError\u001b[0m: name 'show' is not defined"
          ]
        },
        {
          "output_type": "display_data",
          "data": {
            "image/png": "[encoded data removed]",
            "text/plain": [
              "<Figure size 432x288 with 1 Axes>"
            ]
          },
          "metadata": {
            "tags": []
          }
        }
      ]
    },
    {
      "cell_type": "code",
      "metadata": {
        "id": "uin8xQNXB74p",
        "colab_type": "code",
        "colab": {}
      },
      "source": [
        "model.fit(X12, y12, validation_data=(X_test12,y_test12),epochs=50)"
      ],
      "execution_count": 0,
      "outputs": []
    },
    {
      "cell_type": "code",
      "metadata": {
        "id": "cdlcVaWfIDEI",
        "colab_type": "code",
        "colab": {}
      },
      "source": [
        "ypred = model.predict(X12)\n",
        "s=pd.DataFrame(ypred)\n",
        "s1=pd.DataFrame(y12)\n",
        "s1.corrwith(s, axis = 0) "
      ],
      "execution_count": 0,
      "outputs": []
    },
    {
      "cell_type": "code",
      "metadata": {
        "id": "lcIK1vV7LH0l",
        "colab_type": "code",
        "colab": {}
      },
      "source": [
        "r2_score(y12,ypred)"
      ],
      "execution_count": 0,
      "outputs": []
    },
    {
      "cell_type": "code",
      "metadata": {
        "id": "C1dAhjw5JWAB",
        "colab_type": "code",
        "colab": {}
      },
      "source": [
        "ypred1=model.predict(X_test12)\n",
        "s=pd.DataFrame(ypred1)\n",
        "s1=pd.DataFrame(y_test12)\n",
        "s1.corrwith(s,axis=0)"
      ],
      "execution_count": 0,
      "outputs": []
    },
    {
      "cell_type": "code",
      "metadata": {
        "id": "SUu9HNNALKXT",
        "colab_type": "code",
        "colab": {}
      },
      "source": [
        "r2_score(y_test12,ypred1)"
      ],
      "execution_count": 0,
      "outputs": []
    },
    {
      "cell_type": "code",
      "metadata": {
        "id": "h2tbAJ9kcHAn",
        "colab_type": "code",
        "colab": {}
      },
      "source": [
        "mean_absolute_error(y_test12,ypred1)"
      ],
      "execution_count": 0,
      "outputs": []
    },
    {
      "cell_type": "code",
      "metadata": {
        "id": "mH7-ROQ-cJPL",
        "colab_type": "code",
        "colab": {}
      },
      "source": [
        "mean_absolute_error(y12,ypred)"
      ],
      "execution_count": 0,
      "outputs": []
    },
    {
      "cell_type": "code",
      "metadata": {
        "id": "o5M7bLWABcXr",
        "colab_type": "code",
        "colab": {}
      },
      "source": [
        "ypred1[ypred1<0]=0"
      ],
      "execution_count": 0,
      "outputs": []
    },
    {
      "cell_type": "code",
      "metadata": {
        "id": "eG8AxXttBiKC",
        "colab_type": "code",
        "colab": {}
      },
      "source": [
        "plt.plot(y_test12)\n",
        "plt.plot(ypred1)\n",
        "plt.legend(\"Actual\",\"predicted\")\n",
        "plt.show()"
      ],
      "execution_count": 0,
      "outputs": []
    },
    {
      "cell_type": "code",
      "metadata": {
        "id": "fHWybRsJEHsn",
        "colab_type": "code",
        "colab": {}
      },
      "source": [
        "plt.plot(y_test12)\n",
        "plt.show()"
      ],
      "execution_count": 0,
      "outputs": []
    },
    {
      "cell_type": "code",
      "metadata": {
        "id": "q24UogQuB8LN",
        "colab_type": "code",
        "colab": {}
      },
      "source": [
        "model.fit(X13, y13, validation_data=(X_test13,y_test13),epochs=50)"
      ],
      "execution_count": 0,
      "outputs": []
    },
    {
      "cell_type": "code",
      "metadata": {
        "id": "VhNbhU3fIE3L",
        "colab_type": "code",
        "colab": {}
      },
      "source": [
        "ypred = model.predict(X13)\n",
        "s=pd.DataFrame(ypred)\n",
        "s1=pd.DataFrame(y13)\n",
        "s1.corrwith(s, axis = 0) "
      ],
      "execution_count": 0,
      "outputs": []
    },
    {
      "cell_type": "code",
      "metadata": {
        "id": "rDtK58AIK8cY",
        "colab_type": "code",
        "colab": {}
      },
      "source": [
        "r2_score(y13,ypred)"
      ],
      "execution_count": 0,
      "outputs": []
    },
    {
      "cell_type": "code",
      "metadata": {
        "id": "aRT60eIMJXc9",
        "colab_type": "code",
        "colab": {}
      },
      "source": [
        "ypred1=model.predict(X_test13)\n",
        "s=pd.DataFrame(ypred1)\n",
        "s1=pd.DataFrame(y_test13)\n",
        "s1.corrwith(s,axis=0)"
      ],
      "execution_count": 0,
      "outputs": []
    },
    {
      "cell_type": "code",
      "metadata": {
        "id": "5xh4_heUK-xf",
        "colab_type": "code",
        "colab": {}
      },
      "source": [
        "r2_score(y_test13,ypred1)"
      ],
      "execution_count": 0,
      "outputs": []
    },
    {
      "cell_type": "code",
      "metadata": {
        "id": "KFzCJDbpcMx8",
        "colab_type": "code",
        "colab": {}
      },
      "source": [
        "mean_absolute_error(y_test13,ypred1)"
      ],
      "execution_count": 0,
      "outputs": []
    },
    {
      "cell_type": "code",
      "metadata": {
        "id": "O41sYTw2cO27",
        "colab_type": "code",
        "colab": {}
      },
      "source": [
        "mean_absolute_error(y13,ypred)"
      ],
      "execution_count": 0,
      "outputs": []
    },
    {
      "cell_type": "code",
      "metadata": {
        "id": "SiCVlu24Bl9p",
        "colab_type": "code",
        "colab": {}
      },
      "source": [
        "ypred1[ypred1<0]=0"
      ],
      "execution_count": 0,
      "outputs": []
    },
    {
      "cell_type": "code",
      "metadata": {
        "id": "C86kf3D8Bp0O",
        "colab_type": "code",
        "colab": {}
      },
      "source": [
        "plt.plot(y_test13)\n",
        "plt.plot(ypred1)\n",
        "plt.legend(\"Actual\",\"predicted\")\n",
        "plt.show()"
      ],
      "execution_count": 0,
      "outputs": []
    },
    {
      "cell_type": "code",
      "metadata": {
        "id": "3DRKxbXfEN4T",
        "colab_type": "code",
        "colab": {}
      },
      "source": [
        "plt.plot(y_test13)\n",
        "plt.show()"
      ],
      "execution_count": 0,
      "outputs": []
    },
    {
      "cell_type": "code",
      "metadata": {
        "id": "ZOiZXqKJB8jC",
        "colab_type": "code",
        "colab": {}
      },
      "source": [
        "model.fit(X14, y14, validation_data=(X_test14,y_test14),epochs=50)"
      ],
      "execution_count": 0,
      "outputs": []
    },
    {
      "cell_type": "code",
      "metadata": {
        "id": "0Ky-EMUEIGq6",
        "colab_type": "code",
        "colab": {}
      },
      "source": [
        "ypred = model.predict(X14)\n",
        "s=pd.DataFrame(ypred)\n",
        "s1=pd.DataFrame(y14)\n",
        "s1.corrwith(s, axis = 0) "
      ],
      "execution_count": 0,
      "outputs": []
    },
    {
      "cell_type": "code",
      "metadata": {
        "id": "kow20CjpKwRA",
        "colab_type": "code",
        "colab": {}
      },
      "source": [
        "from sklearn.metrics import r2_score\n",
        "r2_score(y14,ypred)"
      ],
      "execution_count": 0,
      "outputs": []
    },
    {
      "cell_type": "code",
      "metadata": {
        "id": "-YoTtOaYJY6P",
        "colab_type": "code",
        "colab": {}
      },
      "source": [
        "ypred1=model.predict(X_test14)\n",
        "s=pd.DataFrame(ypred1)\n",
        "s1=pd.DataFrame(y_test14)\n",
        "s1.corrwith(s,axis=0)"
      ],
      "execution_count": 0,
      "outputs": []
    },
    {
      "cell_type": "code",
      "metadata": {
        "id": "esTMyuJ3Kzmj",
        "colab_type": "code",
        "colab": {}
      },
      "source": [
        "r2_score(y_test14,ypred1)"
      ],
      "execution_count": 0,
      "outputs": []
    },
    {
      "cell_type": "code",
      "metadata": {
        "id": "7qVcX82RcWAs",
        "colab_type": "code",
        "colab": {}
      },
      "source": [
        "mean_absolute_error(y_test14,ypred1)"
      ],
      "execution_count": 0,
      "outputs": []
    },
    {
      "cell_type": "code",
      "metadata": {
        "id": "SFHNwtqAcX1O",
        "colab_type": "code",
        "colab": {}
      },
      "source": [
        "mean_absolute_error(y14,ypred)"
      ],
      "execution_count": 0,
      "outputs": []
    },
    {
      "cell_type": "code",
      "metadata": {
        "id": "eHgbQqZyBuN9",
        "colab_type": "code",
        "colab": {}
      },
      "source": [
        "ypred1[ypred1<0]=0"
      ],
      "execution_count": 0,
      "outputs": []
    },
    {
      "cell_type": "code",
      "metadata": {
        "id": "UjeAy53AEcua",
        "colab_type": "code",
        "colab": {}
      },
      "source": [
        "plt.plot(y_test14)\n",
        "plt.plot(ypred1)\n",
        "plt.legend(\"Actual\",\"predicted\")\n",
        "plt.show()"
      ],
      "execution_count": 0,
      "outputs": []
    },
    {
      "cell_type": "code",
      "metadata": {
        "id": "hRdCUQlKEeuH",
        "colab_type": "code",
        "colab": {}
      },
      "source": [
        "plt.plot(y_test14)\n",
        "plt.show()"
      ],
      "execution_count": 0,
      "outputs": []
    },
    {
      "cell_type": "code",
      "metadata": {
        "id": "31sa5rlXB9BA",
        "colab_type": "code",
        "colab": {}
      },
      "source": [
        "model.fit(X15, y15, validation_data=(X_test15,y_test15),epochs=50)"
      ],
      "execution_count": 0,
      "outputs": []
    },
    {
      "cell_type": "code",
      "metadata": {
        "id": "x783mmAYIIMe",
        "colab_type": "code",
        "colab": {}
      },
      "source": [
        "ypred = model.predict(X15)\n",
        "s=pd.DataFrame(ypred)\n",
        "s1=pd.DataFrame(y15)\n",
        "s1.corrwith(s, axis = 0) "
      ],
      "execution_count": 0,
      "outputs": []
    },
    {
      "cell_type": "code",
      "metadata": {
        "id": "NHuQ0617KncF",
        "colab_type": "code",
        "colab": {}
      },
      "source": [
        "from sklearn.metrics import r2_score\n",
        "r2_score(y15,ypred)"
      ],
      "execution_count": 0,
      "outputs": []
    },
    {
      "cell_type": "code",
      "metadata": {
        "id": "G7dQRGRnJb-H",
        "colab_type": "code",
        "colab": {}
      },
      "source": [
        "ypred1=model.predict(X_test15)\n",
        "s=pd.DataFrame(ypred1)\n",
        "s1=pd.DataFrame(y_test15)\n",
        "s1.corrwith(s,axis=0)"
      ],
      "execution_count": 0,
      "outputs": []
    },
    {
      "cell_type": "code",
      "metadata": {
        "id": "7MsXJBffKsBU",
        "colab_type": "code",
        "colab": {}
      },
      "source": [
        "from sklearn.metrics import r2_score\n",
        "r2_score(y_test15,ypred1)"
      ],
      "execution_count": 0,
      "outputs": []
    },
    {
      "cell_type": "code",
      "metadata": {
        "id": "oqpc6rGJccsh",
        "colab_type": "code",
        "colab": {}
      },
      "source": [
        "mean_absolute_error(y_test15,ypred1)"
      ],
      "execution_count": 0,
      "outputs": []
    },
    {
      "cell_type": "code",
      "metadata": {
        "id": "TBuDDwkTce4X",
        "colab_type": "code",
        "colab": {}
      },
      "source": [
        "mean_absolute_error(y15,ypred)"
      ],
      "execution_count": 0,
      "outputs": []
    },
    {
      "cell_type": "code",
      "metadata": {
        "id": "1jZAV7lzEkPx",
        "colab_type": "code",
        "colab": {}
      },
      "source": [
        "ypred1[ypred1<0]=0"
      ],
      "execution_count": 0,
      "outputs": []
    },
    {
      "cell_type": "code",
      "metadata": {
        "id": "TEox5ADfEqIA",
        "colab_type": "code",
        "colab": {}
      },
      "source": [
        "plt.plot(y_test15)\n",
        "plt.plot(ypred1)\n",
        "plt.legend(\"Actual\",\"predicted\")\n",
        "plt.show()"
      ],
      "execution_count": 0,
      "outputs": []
    },
    {
      "cell_type": "code",
      "metadata": {
        "id": "H1q5Hq1jEsEO",
        "colab_type": "code",
        "colab": {}
      },
      "source": [
        "plt.plot(y_test15)\n",
        "plt.show()"
      ],
      "execution_count": 0,
      "outputs": []
    },
    {
      "cell_type": "code",
      "metadata": {
        "id": "ddVXEmYRB9TB",
        "colab_type": "code",
        "colab": {}
      },
      "source": [
        "model.fit(X16, y16, validation_data=(X_test16,y_test16),epochs=100)"
      ],
      "execution_count": 0,
      "outputs": []
    },
    {
      "cell_type": "code",
      "metadata": {
        "id": "fBzu8k-rIJfj",
        "colab_type": "code",
        "colab": {}
      },
      "source": [
        "ypred = model.predict(X16)\n",
        "s=pd.DataFrame(ypred)\n",
        "s1=pd.DataFrame(y16)\n",
        "s1.corrwith(s, axis = 0) "
      ],
      "execution_count": 0,
      "outputs": []
    },
    {
      "cell_type": "code",
      "metadata": {
        "id": "oa8m9LhKKdqO",
        "colab_type": "code",
        "colab": {}
      },
      "source": [
        "from sklearn.metrics import r2_score\n",
        "r2_score(y16,ypred)"
      ],
      "execution_count": 0,
      "outputs": []
    },
    {
      "cell_type": "code",
      "metadata": {
        "id": "NCjU5wnqJdhv",
        "colab_type": "code",
        "colab": {}
      },
      "source": [
        "ypred1=model.predict(X_test16)\n",
        "s=pd.DataFrame(ypred1)\n",
        "s1=pd.DataFrame(y_test16)\n",
        "s1.corrwith(s,axis=0)"
      ],
      "execution_count": 0,
      "outputs": []
    },
    {
      "cell_type": "code",
      "metadata": {
        "id": "UY6rtmdyKjSa",
        "colab_type": "code",
        "colab": {}
      },
      "source": [
        "r2_score(y_test16,ypred1)"
      ],
      "execution_count": 0,
      "outputs": []
    },
    {
      "cell_type": "code",
      "metadata": {
        "id": "U9Ef0FuxciMB",
        "colab_type": "code",
        "colab": {}
      },
      "source": [
        "mean_absolute_error(y_test16,ypred1)"
      ],
      "execution_count": 0,
      "outputs": []
    },
    {
      "cell_type": "code",
      "metadata": {
        "id": "82kqJKkTcj7i",
        "colab_type": "code",
        "colab": {}
      },
      "source": [
        "mean_absolute_error(y16,ypred)"
      ],
      "execution_count": 0,
      "outputs": []
    },
    {
      "cell_type": "code",
      "metadata": {
        "id": "vAaJxAWFEzb3",
        "colab_type": "code",
        "colab": {}
      },
      "source": [
        "ypred1[ypred1<0]=0"
      ],
      "execution_count": 0,
      "outputs": []
    },
    {
      "cell_type": "code",
      "metadata": {
        "id": "DQXr9dAYExb7",
        "colab_type": "code",
        "colab": {}
      },
      "source": [
        "plt.plot(y_test16)\n",
        "plt.plot(ypred1)\n",
        "plt.legend(\"Actual\",\"predicted\")\n",
        "plt.show()"
      ],
      "execution_count": 0,
      "outputs": []
    },
    {
      "cell_type": "code",
      "metadata": {
        "id": "wj8EH_dTE4kD",
        "colab_type": "code",
        "colab": {}
      },
      "source": [
        "plt.plot(y_test16)\n",
        "plt.show()"
      ],
      "execution_count": 0,
      "outputs": []
    },
    {
      "cell_type": "code",
      "metadata": {
        "id": "PIErxCqcB9uC",
        "colab_type": "code",
        "colab": {}
      },
      "source": [
        "model.fit(X17, y17, validation_data=(X_test17,y_test17),epochs=50)"
      ],
      "execution_count": 0,
      "outputs": []
    },
    {
      "cell_type": "code",
      "metadata": {
        "id": "q_cqFEZyIK_5",
        "colab_type": "code",
        "colab": {}
      },
      "source": [
        "ypred = model.predict(X17)\n",
        "s=pd.DataFrame(ypred)\n",
        "s1=pd.DataFrame(y17)\n",
        "s1.corrwith(s, axis = 0) "
      ],
      "execution_count": 0,
      "outputs": []
    },
    {
      "cell_type": "code",
      "metadata": {
        "id": "iNUMrec5KInu",
        "colab_type": "code",
        "colab": {}
      },
      "source": [
        "from sklearn.metrics import r2_score\n",
        "r2_score(y17,ypred)"
      ],
      "execution_count": 0,
      "outputs": []
    },
    {
      "cell_type": "code",
      "metadata": {
        "id": "UJ7Wc3CIJerO",
        "colab_type": "code",
        "colab": {}
      },
      "source": [
        "ypred1=model.predict(X_test17)\n",
        "s=pd.DataFrame(ypred1)\n",
        "s1=pd.DataFrame(y_test17)\n",
        "s1.corrwith(s,axis=0)"
      ],
      "execution_count": 0,
      "outputs": []
    },
    {
      "cell_type": "code",
      "metadata": {
        "id": "qKYoL8cDKKmZ",
        "colab_type": "code",
        "colab": {}
      },
      "source": [
        "r2_score(y_test17,ypred1)"
      ],
      "execution_count": 0,
      "outputs": []
    },
    {
      "cell_type": "code",
      "metadata": {
        "id": "sqMbanyDcoVD",
        "colab_type": "code",
        "colab": {}
      },
      "source": [
        "mean_absolute_error(y_test17,ypred1)"
      ],
      "execution_count": 0,
      "outputs": []
    },
    {
      "cell_type": "code",
      "metadata": {
        "id": "4z--E3OPcqLB",
        "colab_type": "code",
        "colab": {}
      },
      "source": [
        "mean_absolute_error(y17,ypred)"
      ],
      "execution_count": 0,
      "outputs": []
    },
    {
      "cell_type": "code",
      "metadata": {
        "id": "q9_OIW7kFC2R",
        "colab_type": "code",
        "colab": {}
      },
      "source": [
        "ypred1[ypred1<0]=0"
      ],
      "execution_count": 0,
      "outputs": []
    },
    {
      "cell_type": "code",
      "metadata": {
        "id": "uFnKD_tZFGhK",
        "colab_type": "code",
        "colab": {}
      },
      "source": [
        "plt.plot(y_test17)\n",
        "plt.plot(ypred1)\n",
        "plt.legend(\"Actual\",\"predicted\")\n",
        "plt.show()"
      ],
      "execution_count": 0,
      "outputs": []
    },
    {
      "cell_type": "code",
      "metadata": {
        "id": "FZm3glcYFQVi",
        "colab_type": "code",
        "colab": {}
      },
      "source": [
        "plt.plot(y_test17)\n",
        "plt.show()"
      ],
      "execution_count": 0,
      "outputs": []
    },
    {
      "cell_type": "code",
      "metadata": {
        "id": "bnBS9J1vB-JJ",
        "colab_type": "code",
        "colab": {}
      },
      "source": [
        "model.fit(X18, y18, validation_data=(X_test18,y_test18),epochs=100)"
      ],
      "execution_count": 0,
      "outputs": []
    },
    {
      "cell_type": "code",
      "metadata": {
        "id": "4dm66DTdIMJ8",
        "colab_type": "code",
        "colab": {}
      },
      "source": [
        "ypred = model.predict(X18)\n",
        "s=pd.DataFrame(ypred)\n",
        "s1=pd.DataFrame(y18)\n",
        "s1.corrwith(s, axis = 0) "
      ],
      "execution_count": 0,
      "outputs": []
    },
    {
      "cell_type": "code",
      "metadata": {
        "id": "yVgkRVW42TsQ",
        "colab_type": "code",
        "colab": {}
      },
      "source": [
        "from sklearn.metrics import r2_score\n",
        "r2_score(y18,ypred)"
      ],
      "execution_count": 0,
      "outputs": []
    },
    {
      "cell_type": "code",
      "metadata": {
        "id": "rtcP5oF9J_Ae",
        "colab_type": "code",
        "colab": {}
      },
      "source": [
        "ypred1 = model.predict(X_test18)\n",
        "s=pd.DataFrame(ypred1)\n",
        "s1=pd.DataFrame(y_test18)\n",
        "s1.corrwith(s, axis = 0) "
      ],
      "execution_count": 0,
      "outputs": []
    },
    {
      "cell_type": "code",
      "metadata": {
        "id": "sUlUlZnL2tki",
        "colab_type": "code",
        "colab": {}
      },
      "source": [
        "r2_score(y_test18,ypred1)"
      ],
      "execution_count": 0,
      "outputs": []
    },
    {
      "cell_type": "code",
      "metadata": {
        "id": "ClsczOxcct6d",
        "colab_type": "code",
        "colab": {}
      },
      "source": [
        "mean_absolute_error(y_test18,ypred1)"
      ],
      "execution_count": 0,
      "outputs": []
    },
    {
      "cell_type": "code",
      "metadata": {
        "id": "pHM1dOQ3cx-y",
        "colab_type": "code",
        "colab": {}
      },
      "source": [
        "mean_absolute_error(y18,ypred)"
      ],
      "execution_count": 0,
      "outputs": []
    },
    {
      "cell_type": "code",
      "metadata": {
        "id": "UzV4lXViFSzy",
        "colab_type": "code",
        "colab": {}
      },
      "source": [
        "ypred1[ypred1<0]=0"
      ],
      "execution_count": 0,
      "outputs": []
    },
    {
      "cell_type": "code",
      "metadata": {
        "id": "exBj2A25FVcs",
        "colab_type": "code",
        "colab": {}
      },
      "source": [
        "plt.plot(y_test18)\n",
        "plt.plot(ypred1)\n",
        "plt.legend(\"Actual\",\"predicted\")\n",
        "plt.show()"
      ],
      "execution_count": 0,
      "outputs": []
    },
    {
      "cell_type": "code",
      "metadata": {
        "id": "FxkZKEWqFcY5",
        "colab_type": "code",
        "colab": {}
      },
      "source": [
        "plt.plot(y_test18)\n",
        "plt.show()"
      ],
      "execution_count": 0,
      "outputs": []
    }
  ]
}