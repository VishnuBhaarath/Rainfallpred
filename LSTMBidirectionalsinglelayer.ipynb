{
  "nbformat": 4,
  "nbformat_minor": 0,
  "metadata": {
    "colab": {
      "name": "LSTMBidirectionalsinglelayer.ipynb",
      "provenance": [],
      "collapsed_sections": [],
      "authorship_tag": "ABX9TyPs20DXZhfM74HOrX1nEG6R",
      "include_colab_link": true
    },
    "kernelspec": {
      "name": "python3",
      "display_name": "Python 3"
    }
  },
  "cells": [
    {
      "cell_type": "markdown",
      "metadata": {
        "id": "view-in-github",
        "colab_type": "text"
      },
      "source": [
        "<a href=\"https://colab.research.google.com/github/VishnuBhaarath/Rainfallpred/blob/master/LSTMBidirectionalsinglelayer.ipynb\" target=\"_parent\"><img src=\"https://colab.research.google.com/assets/colab-badge.svg\" alt=\"Open In Colab\"/></a>"
      ]
    },
    {
      "cell_type": "code",
      "metadata": {
        "id": "5YGfJ9tYkM94",
        "colab_type": "code",
        "colab": {}
      },
      "source": [
        "from numpy.random import seed\n",
        "seed(1)\n",
        "from tensorflow import set_random_seed\n",
        "set_random_seed(2)\n",
        "from sklearn.metrics import r2_score"
      ],
      "execution_count": 0,
      "outputs": []
    },
    {
      "cell_type": "code",
      "metadata": {
        "id": "cou_fBaEkP6G",
        "colab_type": "code",
        "colab": {}
      },
      "source": [
        "import pandas as pd\n",
        "from pandas import DataFrame\n",
        "import numpy as np\n",
        "from numpy import hstack\n",
        "import tensorflow as tf\n",
        "from tensorflow import keras\n",
        "from sklearn import preprocessing"
      ],
      "execution_count": 0,
      "outputs": []
    },
    {
      "cell_type": "code",
      "metadata": {
        "id": "ACH71at4kV9t",
        "colab_type": "code",
        "colab": {}
      },
      "source": [
        "df=pd.read_excel('trend_anna_imd_21.xlsx')"
      ],
      "execution_count": 0,
      "outputs": []
    },
    {
      "cell_type": "code",
      "metadata": {
        "id": "2hp4FJfQkk9o",
        "colab_type": "code",
        "outputId": "997ce261-43fd-43cf-8bd9-db7dc098cd6f",
        "colab": {
          "base_uri": "https://localhost:8080/",
          "height": 195
        }
      },
      "source": [
        "df.head()"
      ],
      "execution_count": 30,
      "outputs": [
        {
          "output_type": "execute_result",
          "data": {
            "text/html": [
              "<div>\n",
              "<style scoped>\n",
              "    .dataframe tbody tr th:only-of-type {\n",
              "        vertical-align: middle;\n",
              "    }\n",
              "\n",
              "    .dataframe tbody tr th {\n",
              "        vertical-align: top;\n",
              "    }\n",
              "\n",
              "    .dataframe thead th {\n",
              "        text-align: right;\n",
              "    }\n",
              "</style>\n",
              "<table border=\"1\" class=\"dataframe\">\n",
              "  <thead>\n",
              "    <tr style=\"text-align: right;\">\n",
              "      <th></th>\n",
              "      <th>Unnamed: 0</th>\n",
              "      <th>Unnamed: 1</th>\n",
              "    </tr>\n",
              "  </thead>\n",
              "  <tbody>\n",
              "    <tr>\n",
              "      <th>0</th>\n",
              "      <td>1. Cuddalore</td>\n",
              "      <td>NaN</td>\n",
              "    </tr>\n",
              "    <tr>\n",
              "      <th>1</th>\n",
              "      <td>1965-01-01 00:00:00</td>\n",
              "      <td>10.6</td>\n",
              "    </tr>\n",
              "    <tr>\n",
              "      <th>2</th>\n",
              "      <td>1965-01-02 00:00:00</td>\n",
              "      <td>0.0</td>\n",
              "    </tr>\n",
              "    <tr>\n",
              "      <th>3</th>\n",
              "      <td>1965-01-03 00:00:00</td>\n",
              "      <td>13.0</td>\n",
              "    </tr>\n",
              "    <tr>\n",
              "      <th>4</th>\n",
              "      <td>1965-01-04 00:00:00</td>\n",
              "      <td>0.0</td>\n",
              "    </tr>\n",
              "  </tbody>\n",
              "</table>\n",
              "</div>"
            ],
            "text/plain": [
              "            Unnamed: 0  Unnamed: 1\n",
              "0         1. Cuddalore         NaN\n",
              "1  1965-01-01 00:00:00        10.6\n",
              "2  1965-01-02 00:00:00         0.0\n",
              "3  1965-01-03 00:00:00        13.0\n",
              "4  1965-01-04 00:00:00         0.0"
            ]
          },
          "metadata": {
            "tags": []
          },
          "execution_count": 30
        }
      ]
    },
    {
      "cell_type": "code",
      "metadata": {
        "id": "RB9D0KOIkl-g",
        "colab_type": "code",
        "colab": {}
      },
      "source": [
        "Cuddalore=df[3655:19360]\n",
        "Panruti=df[23016:38721]\n",
        "Dharmapuri=df[42408:58082]\n",
        "Harur=df[61738:77443]\n",
        "Palacode=df[81158:96804]\n",
        "Pennagaram=df[100460:116165]\n",
        "Chengam=df[119821:135526]\n",
        "Sathanur=df[138817:154522]\n",
        "Tiruvanamalai=df[158178:173883]\n",
        "Sankarapuram=df[177539:193244]\n",
        "Tirukoilur=df[196899:212604]\n",
        "ulundurpet=df[216260:231965]\n",
        "Villupuram=df[235621:251326]\n",
        "Denkanikottai=df[274343:290048]\n",
        "Hosur=df[293703:309408]\n",
        "Krishnagiri=df[313063:328768]\n",
        "Marandahalli=df[332059:347764]\n",
        "Rayakottai=df[353250:368955]\n",
        "Uthangarai=df[372611:388316]\n"
      ],
      "execution_count": 0,
      "outputs": []
    },
    {
      "cell_type": "code",
      "metadata": {
        "id": "8lT9ZtR0mBO1",
        "colab_type": "code",
        "colab": {}
      },
      "source": [
        "Cuddalore.columns = ['Date', 'Rainfall']\n",
        "Panruti.columns= ['Date', 'Rainfall']\n",
        "Dharmapuri.columns= ['Date', 'Rainfall']\n",
        "Harur.columns= ['Date', 'Rainfall']\n",
        "Palacode.columns= ['Date', 'Rainfall']\n",
        "Pennagaram.columns= ['Date', 'Rainfall']\n",
        "Chengam.columns= ['Date', 'Rainfall']\n",
        "Sathanur.columns= ['Date', 'Rainfall']\n",
        "Tiruvanamalai.columns= ['Date', 'Rainfall']\n",
        "Sankarapuram.columns= ['Date', 'Rainfall']\n",
        "Tirukoilur.columns= ['Date', 'Rainfall']\n",
        "ulundurpet.columns= ['Date', 'Rainfall']\n",
        "Villupuram.columns= ['Date', 'Rainfall']\n",
        "Denkanikottai.columns= ['Date', 'Rainfall']\n",
        "Hosur.columns= ['Date', 'Rainfall']\n",
        "Krishnagiri.columns= ['Date', 'Rainfall']\n",
        "Marandahalli.columns= ['Date', 'Rainfall']\n",
        "Rayakottai.columns= ['Date', 'Rainfall']\n",
        "Uthangarai.columns= ['Date', 'Rainfall']"
      ],
      "execution_count": 0,
      "outputs": []
    },
    {
      "cell_type": "code",
      "metadata": {
        "id": "ot2FqhbOm6dJ",
        "colab_type": "code",
        "colab": {}
      },
      "source": [
        "train=Cuddalore[0:12000]\n",
        "test=Cuddalore[12000:15704]\n",
        "train1=Panruti[0:12000]\n",
        "test1=Panruti[12000:15705]\n",
        "train2=Dharmapuri[0:12000]\n",
        "test2=Dharmapuri[12000:15674]\n",
        "train3=Harur[0:12000]\n",
        "test3=Harur[12000:15704]\n",
        "train4=Palacode[0:12000]\n",
        "test4=Palacode[12000:15646]\n",
        "train5=Pennagaram[0:12000]\n",
        "test5=Pennagaram[12000:15705]\n",
        "train6=Chengam[0:12000]\n",
        "test6=Chengam[12000:15705]\n",
        "train7=Sathanur[0:12000]\n",
        "test7=Sathanur[12000:15705]\n",
        "train8=Tiruvanamalai[0:12000]\n",
        "test8=Tiruvanamalai[12000:15165]\n",
        "train9=Sankarapuram[0:12000]\n",
        "test9=Sankarapuram[12000:15705]\n",
        "train10=Tirukoilur[0:12000]\n",
        "test10=Tirukoilur[12000:15705]\n",
        "train11=ulundurpet[0:12000]\n",
        "test11=ulundurpet[12000:15345]\n",
        "train12=Villupuram[0:12000]\n",
        "test12=Villupuram[12000:15705]\n",
        "train13=Denkanikottai[0:12000]\n",
        "test13=Denkanikottai[12000:15705]\n",
        "train14=Hosur[0:12000]\n",
        "test14=Hosur[12000:15678]\n",
        "train15=Krishnagiri[0:12000]\n",
        "test15=Krishnagiri[12000:15705]\n",
        "train16=Marandahalli[0:12000]\n",
        "test16=Marandahalli[12000:15705]\n",
        "train17=Rayakottai[0:12000]\n",
        "test17=Rayakottai[12000:15705]\n",
        "train18=Uthangarai[0:12000]\n",
        "test18=Uthangarai[12000:15705]"
      ],
      "execution_count": 0,
      "outputs": []
    },
    {
      "cell_type": "code",
      "metadata": {
        "id": "eWdgMaVPnV7A",
        "colab_type": "code",
        "colab": {}
      },
      "source": [
        "X_train=train['Rainfall']\n",
        "X_test=test['Rainfall']\n",
        "X_train1=train1['Rainfall']\n",
        "X_test1=test1['Rainfall']\n",
        "X_train2=train2['Rainfall']\n",
        "X_test2=test2['Rainfall']\n",
        "X_train3=train3['Rainfall']\n",
        "X_test3=test3['Rainfall']\n",
        "X_train4=train4['Rainfall']\n",
        "X_test4=test4['Rainfall']\n",
        "X_train5=train5['Rainfall']\n",
        "X_test5=test5['Rainfall']\n",
        "X_train6=train6['Rainfall']\n",
        "X_test6=test6['Rainfall']\n",
        "X_train7=train7['Rainfall']\n",
        "X_test7=test7['Rainfall']\n",
        "X_train8=train8['Rainfall']\n",
        "X_test8=test8['Rainfall']\n",
        "X_train9=train9['Rainfall']\n",
        "X_test9=test9['Rainfall']\n",
        "X_train10=train10['Rainfall']\n",
        "X_test10=test10['Rainfall']\n",
        "X_train11=train11['Rainfall']\n",
        "X_test11=test11['Rainfall']\n",
        "X_train12=train12['Rainfall']\n",
        "X_test12=test12['Rainfall']\n",
        "X_train13=train13['Rainfall']\n",
        "X_test13=test13['Rainfall']\n",
        "X_train14=train14['Rainfall']\n",
        "X_test14=test14['Rainfall']\n",
        "X_train15=train15['Rainfall']\n",
        "X_test15=test15['Rainfall']\n",
        "X_train16=train16['Rainfall']\n",
        "X_test16=test16['Rainfall']\n",
        "X_train17=train17['Rainfall']\n",
        "X_test17=test17['Rainfall']\n",
        "X_train18=train18['Rainfall']\n",
        "X_test18=test18['Rainfall']\n"
      ],
      "execution_count": 0,
      "outputs": []
    },
    {
      "cell_type": "code",
      "metadata": {
        "id": "QdTZBwX0mnEs",
        "colab_type": "code",
        "colab": {}
      },
      "source": [
        "min_max_scaler = preprocessing.MinMaxScaler()\n",
        "\n",
        "x_scaled = min_max_scaler.fit_transform(X_train.values.reshape(-1,1))\n",
        "X_train = pd.DataFrame(x_scaled)\n",
        "\n",
        "x_scaled1 = min_max_scaler.fit_transform(X_train1.values.reshape(-1,1))\n",
        "X_train1 = pd.DataFrame(x_scaled1)\n",
        "\n",
        "x_scaled2 = min_max_scaler.fit_transform(X_train2.values.reshape(-1,1))\n",
        "X_train2 = pd.DataFrame(x_scaled2)\n",
        "\n",
        "x_scaled3 = min_max_scaler.fit_transform(X_train3.values.reshape(-1,1))\n",
        "X_train3 = pd.DataFrame(x_scaled3)\n",
        "\n",
        "x_scaled4 = min_max_scaler.fit_transform(X_train4.values.reshape(-1,1))\n",
        "X_train4 = pd.DataFrame(x_scaled4)\n",
        "\n",
        "x_scaled5 = min_max_scaler.fit_transform(X_train5.values.reshape(-1,1))\n",
        "X_train5 = pd.DataFrame(x_scaled5)\n",
        "\n",
        "x_scaled6 = min_max_scaler.fit_transform(X_train6.values.reshape(-1,1))\n",
        "X_train6 = pd.DataFrame(x_scaled6)\n",
        "\n",
        "x_scaled7 = min_max_scaler.fit_transform(X_train7.values.reshape(-1,1))\n",
        "X_train7 = pd.DataFrame(x_scaled7)\n",
        "\n",
        "x_scaled8 = min_max_scaler.fit_transform(X_train8.values.reshape(-1,1))\n",
        "X_train8 = pd.DataFrame(x_scaled8)\n",
        "\n",
        "x_scaled9 = min_max_scaler.fit_transform(X_train9.values.reshape(-1,1))\n",
        "X_train9 = pd.DataFrame(x_scaled9)\n",
        "\n",
        "x_scaled10 = min_max_scaler.fit_transform(X_train10.values.reshape(-1,1))\n",
        "X_train10 = pd.DataFrame(x_scaled10)\n",
        "\n",
        "x_scaled11 = min_max_scaler.fit_transform(X_train11.values.reshape(-1,1))\n",
        "X_train11 = pd.DataFrame(x_scaled11)\n",
        "\n",
        "x_scaled1112 = min_max_scaler.fit_transform(X_train12.values.reshape(-1,1))\n",
        "X_train12 = pd.DataFrame(x_scaled1112)\n",
        "\n",
        "x_scaled13 = min_max_scaler.fit_transform(X_train13.values.reshape(-1,1))\n",
        "X_train13 = pd.DataFrame(x_scaled13)\n",
        "\n",
        "x_scaled14 = min_max_scaler.fit_transform(X_train14.values.reshape(-1,1))\n",
        "X_train14 = pd.DataFrame(x_scaled14)\n",
        "\n",
        "x_scaled15 = min_max_scaler.fit_transform(X_train15.values.reshape(-1,1))\n",
        "X_train15 = pd.DataFrame(x_scaled15)\n",
        "\n",
        "x_scaled16 = min_max_scaler.fit_transform(X_train16.values.reshape(-1,1))\n",
        "X_train16 = pd.DataFrame(x_scaled16)\n",
        "\n",
        "x_scaled17 = min_max_scaler.fit_transform(X_train17.values.reshape(-1,1))\n",
        "X_train17 = pd.DataFrame(x_scaled17)\n",
        "\n",
        "x_scaled18 = min_max_scaler.fit_transform(X_train18.values.reshape(-1,1))\n",
        "X_train18 = pd.DataFrame(x_scaled18)\n",
        "\n"
      ],
      "execution_count": 0,
      "outputs": []
    },
    {
      "cell_type": "code",
      "metadata": {
        "id": "CxbM6N2-oCPd",
        "colab_type": "code",
        "colab": {}
      },
      "source": [
        "x_scaled1 = min_max_scaler.fit_transform(X_test.values.reshape(-1,1))\n",
        "X_test = pd.DataFrame(x_scaled1)\n",
        "\n",
        "x_scaled11 = min_max_scaler.fit_transform(X_test1.values.reshape(-1,1))\n",
        "X_test1 = pd.DataFrame(x_scaled11)\n",
        "\n",
        "x_scaled12 = min_max_scaler.fit_transform(X_test2.values.reshape(-1,1))\n",
        "X_test2 = pd.DataFrame(x_scaled12)\n",
        "\n",
        "x_scaled13 = min_max_scaler.fit_transform(X_test3.values.reshape(-1,1))\n",
        "X_test3 = pd.DataFrame(x_scaled13)\n",
        "\n",
        "x_scaled14 = min_max_scaler.fit_transform(X_test4.values.reshape(-1,1))\n",
        "X_test4 = pd.DataFrame(x_scaled14)\n",
        "\n",
        "x_scaled15 = min_max_scaler.fit_transform(X_test5.values.reshape(-1,1))\n",
        "X_test5 = pd.DataFrame(x_scaled15)\n",
        "\n",
        "x_scaled16 = min_max_scaler.fit_transform(X_test6.values.reshape(-1,1))\n",
        "X_test6 = pd.DataFrame(x_scaled16)\n",
        "\n",
        "x_scaled17 = min_max_scaler.fit_transform(X_test7.values.reshape(-1,1))\n",
        "X_test7 = pd.DataFrame(x_scaled17)\n",
        "\n",
        "x_scaled18 = min_max_scaler.fit_transform(X_test8.values.reshape(-1,1))\n",
        "X_test8 = pd.DataFrame(x_scaled18)\n",
        "\n",
        "x_scaled19 = min_max_scaler.fit_transform(X_test9.values.reshape(-1,1))\n",
        "X_test9 = pd.DataFrame(x_scaled19)\n",
        "\n",
        "x_scaled110 = min_max_scaler.fit_transform(X_test10.values.reshape(-1,1))\n",
        "X_test10 = pd.DataFrame(x_scaled110)\n",
        "\n",
        "x_scaled111 = min_max_scaler.fit_transform(X_test11.values.reshape(-1,1))\n",
        "X_test11 = pd.DataFrame(x_scaled111)\n",
        "\n",
        "x_scaled112 = min_max_scaler.fit_transform(X_test12.values.reshape(-1,1))\n",
        "X_test12 = pd.DataFrame(x_scaled112)\n",
        "\n",
        "x_scaled113 = min_max_scaler.fit_transform(X_test13.values.reshape(-1,1))\n",
        "X_test13 = pd.DataFrame(x_scaled113)\n",
        "\n",
        "x_scaled114 = min_max_scaler.fit_transform(X_test14.values.reshape(-1,1))\n",
        "X_test14 = pd.DataFrame(x_scaled114)\n",
        "\n",
        "x_scaled115= min_max_scaler.fit_transform(X_test15.values.reshape(-1,1))\n",
        "X_test15 = pd.DataFrame(x_scaled115)\n",
        "\n",
        "x_scaled116 = min_max_scaler.fit_transform(X_test16.values.reshape(-1,1))\n",
        "X_test16 = pd.DataFrame(x_scaled116)\n",
        "\n",
        "x_scaled117 = min_max_scaler.fit_transform(X_test17.values.reshape(-1,1))\n",
        "X_test17 = pd.DataFrame(x_scaled117)\n",
        "\n",
        "x_scaled118 = min_max_scaler.fit_transform(X_test18.values.reshape(-1,1))\n",
        "X_test18 = pd.DataFrame(x_scaled118)\n"
      ],
      "execution_count": 0,
      "outputs": []
    },
    {
      "cell_type": "code",
      "metadata": {
        "id": "VZNCwdZhrTQD",
        "colab_type": "code",
        "colab": {}
      },
      "source": [
        "in_seq = np.array([X_train[0]])\n",
        "in_seqtest1 = np.array([X_test[0]])\n",
        "\n",
        "in_seq1 = np.array([X_train1[0]])\n",
        "in_seqt11 = np.array([X_test1[0]])\n",
        "\n",
        "in_seq12 = np.array([X_train2[0]])\n",
        "in_seqt112 = np.array([X_test2[0]])\n",
        "\n",
        "in_seq13 = np.array([X_train3[0]])\n",
        "in_seqt113 = np.array([X_test3[0]])\n",
        "\n",
        "in_seq14 = np.array([X_train4[0]])\n",
        "in_seqt114 = np.array([X_test4[0]])\n",
        "\n",
        "in_seq15 = np.array([X_train5[0]])\n",
        "in_seqt115 = np.array([X_test5[0]])\n",
        "\n",
        "in_seq16 = np.array([X_train6[0]])\n",
        "in_seqt116 = np.array([X_test6[0]])\n",
        "\n",
        "in_seq17 = np.array([X_train7[0]])\n",
        "in_seqt117 = np.array([X_test7[0]])\n",
        "\n",
        "in_seq18 = np.array([X_train8[0]])\n",
        "in_seqt118 = np.array([X_test8[0]])\n",
        "\n",
        "in_seq19 = np.array([X_train9[0]])\n",
        "in_seqt119 = np.array([X_test9[0]])\n",
        "\n",
        "in_seq110 = np.array([X_train10[0]])\n",
        "in_seqt1110 = np.array([X_test10[0]])\n",
        "\n",
        "in_seq111 = np.array([X_train11[0]])\n",
        "in_seqt1111 = np.array([X_test11[0]])\n",
        "\n",
        "in_seq112 = np.array([X_train12[0]])\n",
        "in_seqt1112 = np.array([X_test12[0]])\n",
        "\n",
        "in_seq113 = np.array([X_train13[0]])\n",
        "in_seqt1113 = np.array([X_test13[0]])\n",
        "\n",
        "in_seq114 = np.array([X_train14[0]])\n",
        "in_seqt1114 = np.array([X_test14[0]])\n",
        "\n",
        "in_seq115 = np.array([X_train15[0]])\n",
        "in_seqt1115 = np.array([X_test15[0]])\n",
        "\n",
        "in_seq116 = np.array([X_train16[0]])\n",
        "in_seqt1116 = np.array([X_test16[0]])\n",
        "\n",
        "in_seq117 = np.array([X_train17[0]])\n",
        "in_seqt1117 = np.array([X_test17[0]])\n",
        "\n",
        "in_seq118 = np.array([X_train18[0]])\n",
        "in_seqt1118 = np.array([X_test18[0]])\n"
      ],
      "execution_count": 0,
      "outputs": []
    },
    {
      "cell_type": "code",
      "metadata": {
        "id": "2vtw9-GtrbhY",
        "colab_type": "code",
        "colab": {}
      },
      "source": [
        "in_seq = in_seq.reshape((12000, 1))\n",
        "in_seqtest1 = in_seqtest1.reshape((3704, 1))\n",
        "\n",
        "in_seq1 = in_seq1.reshape((12000, 1))\n",
        "in_seqt11 = in_seqt11.reshape((3705, 1))\n",
        "\n",
        "in_seq12 = in_seq12.reshape((12000, 1))\n",
        "in_seqt112 = in_seqt112.reshape((3674, 1))\n",
        "\n",
        "in_seq13 = in_seq13.reshape((12000, 1))\n",
        "in_seqt113 = in_seqt113.reshape((3704, 1))\n",
        "\n",
        "in_seq14 = in_seq14.reshape((12000, 1))\n",
        "in_seqt114 = in_seqt114.reshape((3646, 1))\n",
        "\n",
        "in_seq15 = in_seq15.reshape((12000, 1))\n",
        "in_seqt115 = in_seqt115.reshape((3705, 1))\n",
        "\n",
        "in_seq16 = in_seq16.reshape((12000, 1))\n",
        "in_seqt116 = in_seqt116.reshape((3705, 1))\n",
        "\n",
        "in_seq17 = in_seq17.reshape((12000, 1))\n",
        "in_seqt117 = in_seqt117.reshape((3705, 1))\n",
        "\n",
        "in_seq18 = in_seq18.reshape((12000, 1))\n",
        "in_seqt118 = in_seqt118.reshape((3165, 1))\n",
        "\n",
        "in_seq19 = in_seq19.reshape((12000, 1))\n",
        "in_seqt119 = in_seqt119.reshape((3705, 1))\n",
        "\n",
        "in_seq110 = in_seq110.reshape((12000, 1))\n",
        "in_seqt1110 = in_seqt1110.reshape((3705, 1))\n",
        "\n",
        "in_seq111 = in_seq111.reshape((12000, 1))\n",
        "in_seqt1111 = in_seqt1111.reshape((3345, 1))\n",
        "\n",
        "in_seq112 = in_seq112.reshape((12000, 1))\n",
        "in_seqt1112 = in_seqt1112.reshape((3705, 1))\n",
        "\n",
        "in_seq113 = in_seq113.reshape((12000, 1))\n",
        "in_seqt1113 = in_seqt1113.reshape((3705, 1))\n",
        "\n",
        "in_seq114 = in_seq114.reshape((12000, 1))\n",
        "in_seqt1114 = in_seqt1114.reshape((3678, 1))\n",
        "\n",
        "in_seq115 = in_seq115.reshape((12000, 1))\n",
        "in_seqt1115 = in_seqt1115.reshape((3705, 1))\n",
        "\n",
        "in_seq116 = in_seq116.reshape((12000, 1))\n",
        "in_seqt1116 = in_seqt1116.reshape((3705, 1))\n",
        "\n",
        "in_seq117 = in_seq117.reshape((12000, 1))\n",
        "in_seqt1117 = in_seqt1117.reshape((3705, 1))\n",
        "\n",
        "in_seq118 = in_seq118.reshape((12000, 1))\n",
        "in_seqt1118 = in_seqt1118.reshape((3704, 1))\n",
        "\n"
      ],
      "execution_count": 0,
      "outputs": []
    },
    {
      "cell_type": "code",
      "metadata": {
        "id": "dcthfPpSoN2u",
        "colab_type": "code",
        "colab": {}
      },
      "source": [
        "def split_sequence(sequence, n_steps):\n",
        "\tX, y = list(), list()\n",
        "\tfor i in range(len(sequence)):\n",
        "\t\t# find the end of this pattern\n",
        "\t\tend_ix = i + n_steps\n",
        "\t\t# check if we are beyond the sequence\n",
        "\t\tif end_ix > len(sequence)-1:\n",
        "\t\t\tbreak\n",
        "\t\t# gather input and output parts of the pattern\n",
        "\t\tseq_x, seq_y = sequence[i:end_ix], sequence[end_ix]\n",
        "\t\tX.append(seq_x)\n",
        "\t\ty.append(seq_y)\n",
        "\treturn np.array(X), np.array(y)"
      ],
      "execution_count": 0,
      "outputs": []
    },
    {
      "cell_type": "code",
      "metadata": {
        "id": "NLCLOXnyptMN",
        "colab_type": "code",
        "colab": {}
      },
      "source": [
        "cuddataset1 = hstack((in_seqtest1))\n",
        "cuddataset = hstack((in_seq))\n",
        "\n",
        "pandataset1 = hstack((in_seqt11))\n",
        "pandataset = hstack((in_seq1))\n",
        "\n",
        "dhadataset1 = hstack((in_seqt112))\n",
        "dhadataset = hstack((in_seq12))\n",
        "\n",
        "hardataset1 = hstack((in_seqt113))\n",
        "hardataset = hstack((in_seq13))\n",
        "\n",
        "paldataset1 = hstack((in_seqt114))\n",
        "paldataset = hstack((in_seq14))\n",
        "\n",
        "pendataset1 = hstack((in_seqt115))\n",
        "pendataset = hstack((in_seq15))\n",
        "\n",
        "chedataset1 = hstack((in_seqt116))\n",
        "chedataset = hstack((in_seq16))\n",
        "\n",
        "satdataset1 = hstack((in_seqt117))\n",
        "satdataset = hstack((in_seq17))\n",
        "\n",
        "Tirdataset1 = hstack((in_seqt118))\n",
        "Tirdataset = hstack((in_seq18))\n",
        "\n",
        "Sandataset1 = hstack((in_seqt119))\n",
        "Sandataset = hstack((in_seq19))\n",
        "\n",
        "Tirudataset1 = hstack((in_seqt1110))\n",
        "Tirudataset = hstack((in_seq110))\n",
        "\n",
        "uludataset1 = hstack((in_seqt1111))\n",
        "uludataset = hstack((in_seq111))\n",
        "\n",
        "vildataset1 = hstack((in_seqt1112))\n",
        "vildataset = hstack((in_seq112))\n",
        "\n",
        "bardataset1 = hstack((in_seqt1113))\n",
        "bardataset = hstack((in_seq113))\n",
        "\n",
        "Dendataset1 = hstack((in_seqt1114))\n",
        "Dendataset = hstack((in_seq114))\n",
        "\n",
        "kridataset1 = hstack((in_seqt1115))\n",
        "kridataset = hstack((in_seq115))\n",
        "\n",
        "mardataset1 = hstack((in_seqt1116))\n",
        "mardataset = hstack((in_seq116))\n",
        "\n",
        "raydataset1 = hstack((in_seqt1117))\n",
        "raydataset = hstack((in_seq117))\n",
        "\n",
        "uthdataset1 = hstack((in_seqt1118))\n",
        "uthdataset = hstack((in_seq118))\n"
      ],
      "execution_count": 0,
      "outputs": []
    },
    {
      "cell_type": "code",
      "metadata": {
        "id": "VXevl6Wdrz2e",
        "colab_type": "code",
        "colab": {}
      },
      "source": [
        "n_steps = 3\n",
        "# convert into input/output\n",
        "X, y = split_sequence(cuddataset, n_steps)\n",
        "X1 , y1 = split_sequence(pandataset, n_steps)\n",
        "X2 , y2 = split_sequence(dhadataset, n_steps)\n",
        "X3 , y3 = split_sequence(hardataset, n_steps)\n",
        "X4 , y4 = split_sequence(paldataset, n_steps)\n",
        "X5 , y5 = split_sequence(pendataset, n_steps)\n",
        "X6, y6 = split_sequence(chedataset, n_steps)\n",
        "X7, y7 = split_sequence(satdataset, n_steps)\n",
        "X8, y8 = split_sequence(Tirdataset, n_steps)\n",
        "X9, y9 = split_sequence(Sandataset, n_steps)\n",
        "X10, y10 = split_sequence(Tirudataset, n_steps)\n",
        "X11, y11 = split_sequence(uludataset, n_steps)\n",
        "X12 , y12 = split_sequence(vildataset, n_steps)\n",
        "X13, y13 = split_sequence(bardataset, n_steps)\n",
        "X14, y14 = split_sequence(Dendataset, n_steps)\n",
        "X15, y15 = split_sequence(kridataset, n_steps)\n",
        "X16, y16 = split_sequence(mardataset, n_steps)\n",
        "X17, y17 = split_sequence(raydataset, n_steps)\n",
        "X18, y18 = split_sequence(uthdataset, n_steps)"
      ],
      "execution_count": 0,
      "outputs": []
    },
    {
      "cell_type": "code",
      "metadata": {
        "id": "CcgWCIqIr44M",
        "colab_type": "code",
        "colab": {}
      },
      "source": [
        "X_test,y_test = split_sequence(cuddataset, n_steps)\n",
        "X_test1,y_test1 = split_sequence(pandataset, n_steps)\n",
        "X_test2,y_test2= split_sequence(dhadataset, n_steps)\n",
        "X_test3,y_test3 = split_sequence(hardataset, n_steps)\n",
        "X_test4,y_test4 = split_sequence(paldataset, n_steps)\n",
        "X_test5,y_test5 = split_sequence(pendataset, n_steps)\n",
        "X_test6,y_test6 = split_sequence(chedataset, n_steps)\n",
        "X_test7,y_test7 = split_sequence(satdataset, n_steps)\n",
        "X_test8,y_test8 = split_sequence(Tirdataset, n_steps)\n",
        "X_test9,y_test9 = split_sequence(Sandataset, n_steps)\n",
        "X_test10,y_test10 = split_sequence(Tirudataset, n_steps)\n",
        "X_test11,y_test11= split_sequence(uludataset, n_steps)\n",
        "X_test12,y_test12 = split_sequence(vildataset, n_steps)\n",
        "X_test13,y_test13 = split_sequence(bardataset, n_steps)\n",
        "X_test14,y_test14 = split_sequence(Dendataset, n_steps)\n",
        "X_test15,y_test15 = split_sequence(kridataset, n_steps)\n",
        "X_test16,y_test16 = split_sequence(mardataset, n_steps)\n",
        "X_test17,y_test17= split_sequence(raydataset, n_steps)\n",
        "X_test18,y_test18= split_sequence(uthdataset, n_steps)"
      ],
      "execution_count": 0,
      "outputs": []
    },
    {
      "cell_type": "code",
      "metadata": {
        "id": "lZ26OGqHr95T",
        "colab_type": "code",
        "colab": {}
      },
      "source": [
        "model = keras.Sequential()\n",
        "model.add(keras.layers.Bidirectional(keras.layers.LSTM(70, activation='relu', input_shape=(n_steps, 1))))\n",
        "model.add(keras.layers.Dense(1))\n",
        "model.compile(optimizer='adam', loss='mse',metrics=['accuracy'])"
      ],
      "execution_count": 0,
      "outputs": []
    },
    {
      "cell_type": "code",
      "metadata": {
        "id": "HUwsDYObsG7O",
        "colab_type": "code",
        "colab": {}
      },
      "source": [
        "X = X.reshape((X.shape[0], X.shape[1], 1))\n",
        "X1 = X1.reshape((X1.shape[0], X1.shape[1], 1))\n",
        "X2 = X2.reshape((X2.shape[0], X2.shape[1], 1))\n",
        "X3 = X3.reshape((X3.shape[0], X3.shape[1], 1))\n",
        "X4 = X4.reshape((X4.shape[0], X4.shape[1], 1))\n",
        "X5 = X5.reshape((X5.shape[0], X5.shape[1], 1))\n",
        "X6 = X6.reshape((X6.shape[0], X6.shape[1], 1))\n",
        "X7 = X7.reshape((X7.shape[0], X7.shape[1], 1))\n",
        "X8 = X8.reshape((X8.shape[0], X8.shape[1], 1))\n",
        "X9 = X9.reshape((X9.shape[0], X9.shape[1], 1))\n",
        "X10 = X10.reshape((X10.shape[0], X10.shape[1], 1))\n",
        "X11 = X11.reshape((X11.shape[0], X11.shape[1], 1))\n",
        "X12 = X12.reshape((X12.shape[0], X12.shape[1], 1))\n",
        "X13 = X13.reshape((X13.shape[0], X13.shape[1], 1))\n",
        "X14 = X14.reshape((X14.shape[0], X14.shape[1], 1))\n",
        "X15 = X15.reshape((X15.shape[0], X15.shape[1], 1))\n",
        "X16 = X16.reshape((X16.shape[0], X16.shape[1], 1))\n",
        "X17 = X17.reshape((X17.shape[0], X17.shape[1], 1))\n",
        "X18 = X18.reshape((X18.shape[0], X18.shape[1], 1))\n"
      ],
      "execution_count": 0,
      "outputs": []
    },
    {
      "cell_type": "code",
      "metadata": {
        "id": "Y3GPbJFSslfM",
        "colab_type": "code",
        "colab": {}
      },
      "source": [
        "X_test=X_test.reshape((X_test.shape[0], X_test.shape[1], 1))\n",
        "X_test1=X_test1.reshape((X_test1.shape[0], X_test1.shape[1], 1))\n",
        "X_test2=X_test2.reshape((X_test2.shape[0], X_test2.shape[1], 1))\n",
        "X_test3=X_test3.reshape((X_test3.shape[0], X_test3.shape[1], 1))\n",
        "X_test4=X_test4.reshape((X_test4.shape[0], X_test4.shape[1], 1))\n",
        "X_test5=X_test5.reshape((X_test5.shape[0], X_test5.shape[1], 1))\n",
        "X_test6=X_test6.reshape((X_test6.shape[0], X_test6.shape[1], 1))\n",
        "X_test7=X_test7.reshape((X_test7.shape[0], X_test7.shape[1], 1))\n",
        "X_test8=X_test8.reshape((X_test8.shape[0], X_test8.shape[1], 1))\n",
        "X_test9=X_test9.reshape((X_test9.shape[0], X_test9.shape[1], 1))\n",
        "X_test10=X_test10.reshape((X_test10.shape[0], X_test10.shape[1], 1))\n",
        "X_test11=X_test11.reshape((X_test11.shape[0], X_test11.shape[1], 1))\n",
        "X_test12=X_test12.reshape((X_test12.shape[0], X_test12.shape[1], 1))\n",
        "X_test13=X_test13.reshape((X_test13.shape[0], X_test13.shape[1], 1))\n",
        "X_test14=X_test14.reshape((X_test14.shape[0], X_test14.shape[1], 1))\n",
        "X_test15=X_test15.reshape((X_test15.shape[0], X_test15.shape[1], 1))\n",
        "\n",
        "X_test16=X_test16.reshape((X_test16.shape[0], X_test16.shape[1], 1))\n",
        "X_test17=X_test17.reshape((X_test17.shape[0], X_test17.shape[1], 1))\n",
        "X_test18=X_test18.reshape((X_test18.shape[0], X_test18.shape[1], 1))\n"
      ],
      "execution_count": 0,
      "outputs": []
    },
    {
      "cell_type": "code",
      "metadata": {
        "id": "CJ0AjGmYsCUs",
        "colab_type": "code",
        "outputId": "93069788-9330-4eeb-c2a8-5d0781dad054",
        "colab": {
          "base_uri": "https://localhost:8080/",
          "height": 1000
        }
      },
      "source": [
        "model.fit(X, y, validation_data=(X_test,y_test),epochs=50)"
      ],
      "execution_count": 46,
      "outputs": [
        {
          "output_type": "stream",
          "text": [
            "Train on 11997 samples, validate on 11997 samples\n",
            "Epoch 1/50\n",
            "11997/11997 [==============================] - 5s 457us/sample - loss: 0.0012 - acc: 0.7724 - val_loss: 0.0011 - val_acc: 0.7724\n",
            "Epoch 2/50\n",
            "11997/11997 [==============================] - 5s 385us/sample - loss: 0.0011 - acc: 0.7724 - val_loss: 0.0011 - val_acc: 0.7724\n",
            "Epoch 3/50\n",
            "11997/11997 [==============================] - 4s 357us/sample - loss: 0.0011 - acc: 0.7724 - val_loss: 0.0011 - val_acc: 0.7724\n",
            "Epoch 4/50\n",
            "11997/11997 [==============================] - 4s 356us/sample - loss: 0.0011 - acc: 0.7724 - val_loss: 0.0011 - val_acc: 0.7724\n",
            "Epoch 5/50\n",
            "11997/11997 [==============================] - 4s 352us/sample - loss: 0.0011 - acc: 0.7724 - val_loss: 0.0011 - val_acc: 0.7724\n",
            "Epoch 6/50\n",
            "11997/11997 [==============================] - 4s 353us/sample - loss: 0.0011 - acc: 0.7724 - val_loss: 0.0011 - val_acc: 0.7724\n",
            "Epoch 7/50\n",
            "11997/11997 [==============================] - 4s 349us/sample - loss: 0.0011 - acc: 0.7724 - val_loss: 0.0011 - val_acc: 0.7724\n",
            "Epoch 8/50\n",
            "11997/11997 [==============================] - 4s 356us/sample - loss: 0.0011 - acc: 0.7724 - val_loss: 0.0011 - val_acc: 0.7724\n",
            "Epoch 9/50\n",
            "11997/11997 [==============================] - 4s 359us/sample - loss: 0.0011 - acc: 0.7724 - val_loss: 0.0011 - val_acc: 0.7724\n",
            "Epoch 10/50\n",
            "11997/11997 [==============================] - 4s 360us/sample - loss: 0.0011 - acc: 0.7724 - val_loss: 0.0011 - val_acc: 0.7724\n",
            "Epoch 11/50\n",
            "11997/11997 [==============================] - 4s 354us/sample - loss: 0.0011 - acc: 0.7724 - val_loss: 0.0011 - val_acc: 0.7724\n",
            "Epoch 12/50\n",
            "11997/11997 [==============================] - 4s 352us/sample - loss: 0.0011 - acc: 0.7724 - val_loss: 0.0011 - val_acc: 0.7724\n",
            "Epoch 13/50\n",
            "11997/11997 [==============================] - 4s 341us/sample - loss: 0.0011 - acc: 0.7724 - val_loss: 0.0011 - val_acc: 0.7724\n",
            "Epoch 14/50\n",
            "11997/11997 [==============================] - 4s 337us/sample - loss: 0.0011 - acc: 0.7724 - val_loss: 0.0011 - val_acc: 0.7724\n",
            "Epoch 15/50\n",
            "11997/11997 [==============================] - 4s 352us/sample - loss: 0.0011 - acc: 0.7724 - val_loss: 0.0011 - val_acc: 0.7724\n",
            "Epoch 16/50\n",
            "11997/11997 [==============================] - 4s 354us/sample - loss: 0.0011 - acc: 0.7724 - val_loss: 0.0011 - val_acc: 0.7724\n",
            "Epoch 17/50\n",
            "11997/11997 [==============================] - 4s 354us/sample - loss: 0.0011 - acc: 0.7724 - val_loss: 0.0011 - val_acc: 0.7724\n",
            "Epoch 18/50\n",
            "11997/11997 [==============================] - 4s 346us/sample - loss: 0.0011 - acc: 0.7724 - val_loss: 0.0011 - val_acc: 0.7724\n",
            "Epoch 19/50\n",
            "11997/11997 [==============================] - 4s 348us/sample - loss: 0.0011 - acc: 0.7724 - val_loss: 0.0011 - val_acc: 0.7724\n",
            "Epoch 20/50\n",
            "11997/11997 [==============================] - 4s 344us/sample - loss: 0.0011 - acc: 0.7724 - val_loss: 0.0011 - val_acc: 0.7724\n",
            "Epoch 21/50\n",
            "11997/11997 [==============================] - 4s 345us/sample - loss: 0.0011 - acc: 0.7724 - val_loss: 0.0011 - val_acc: 0.7724\n",
            "Epoch 22/50\n",
            "11997/11997 [==============================] - 4s 357us/sample - loss: 0.0011 - acc: 0.7724 - val_loss: 0.0011 - val_acc: 0.7724\n",
            "Epoch 23/50\n",
            "11997/11997 [==============================] - 4s 355us/sample - loss: 0.0011 - acc: 0.7724 - val_loss: 0.0011 - val_acc: 0.7724\n",
            "Epoch 24/50\n",
            "11997/11997 [==============================] - 4s 359us/sample - loss: 0.0011 - acc: 0.7724 - val_loss: 0.0011 - val_acc: 0.7724\n",
            "Epoch 25/50\n",
            "11997/11997 [==============================] - 4s 345us/sample - loss: 0.0011 - acc: 0.7724 - val_loss: 0.0011 - val_acc: 0.7724\n",
            "Epoch 26/50\n",
            "11997/11997 [==============================] - 4s 334us/sample - loss: 0.0011 - acc: 0.7724 - val_loss: 0.0011 - val_acc: 0.7724\n",
            "Epoch 27/50\n",
            "11997/11997 [==============================] - 4s 352us/sample - loss: 0.0011 - acc: 0.7724 - val_loss: 0.0011 - val_acc: 0.7724\n",
            "Epoch 28/50\n",
            "11997/11997 [==============================] - 4s 338us/sample - loss: 0.0011 - acc: 0.7724 - val_loss: 0.0011 - val_acc: 0.7724\n",
            "Epoch 29/50\n",
            "11997/11997 [==============================] - 4s 341us/sample - loss: 0.0011 - acc: 0.7724 - val_loss: 0.0011 - val_acc: 0.7724\n",
            "Epoch 30/50\n",
            "11997/11997 [==============================] - 4s 343us/sample - loss: 0.0011 - acc: 0.7724 - val_loss: 0.0011 - val_acc: 0.7724\n",
            "Epoch 31/50\n",
            "11997/11997 [==============================] - 4s 348us/sample - loss: 0.0011 - acc: 0.7724 - val_loss: 0.0011 - val_acc: 0.7724\n",
            "Epoch 32/50\n",
            "11997/11997 [==============================] - 4s 338us/sample - loss: 0.0011 - acc: 0.7724 - val_loss: 0.0011 - val_acc: 0.7724\n",
            "Epoch 33/50\n",
            "11997/11997 [==============================] - 4s 325us/sample - loss: 0.0011 - acc: 0.7724 - val_loss: 0.0011 - val_acc: 0.7724\n",
            "Epoch 34/50\n",
            "11997/11997 [==============================] - 4s 340us/sample - loss: 0.0011 - acc: 0.7724 - val_loss: 0.0011 - val_acc: 0.7724\n",
            "Epoch 35/50\n",
            "11997/11997 [==============================] - 4s 336us/sample - loss: 0.0011 - acc: 0.7724 - val_loss: 0.0011 - val_acc: 0.7724\n",
            "Epoch 36/50\n",
            "11997/11997 [==============================] - 4s 336us/sample - loss: 0.0011 - acc: 0.7724 - val_loss: 0.0011 - val_acc: 0.7724\n",
            "Epoch 37/50\n",
            "11997/11997 [==============================] - 4s 340us/sample - loss: 0.0011 - acc: 0.7724 - val_loss: 0.0011 - val_acc: 0.7724\n",
            "Epoch 38/50\n",
            "11997/11997 [==============================] - 4s 338us/sample - loss: 0.0011 - acc: 0.7724 - val_loss: 0.0011 - val_acc: 0.7724\n",
            "Epoch 39/50\n",
            "11997/11997 [==============================] - 4s 336us/sample - loss: 0.0011 - acc: 0.7724 - val_loss: 0.0011 - val_acc: 0.7724\n",
            "Epoch 40/50\n",
            "11997/11997 [==============================] - 4s 326us/sample - loss: 0.0011 - acc: 0.7724 - val_loss: 0.0011 - val_acc: 0.7724\n",
            "Epoch 41/50\n",
            "11997/11997 [==============================] - 4s 341us/sample - loss: 0.0011 - acc: 0.7724 - val_loss: 0.0011 - val_acc: 0.7724\n",
            "Epoch 42/50\n",
            "11997/11997 [==============================] - 4s 342us/sample - loss: 0.0011 - acc: 0.7724 - val_loss: 0.0011 - val_acc: 0.7724\n",
            "Epoch 43/50\n",
            "11997/11997 [==============================] - 4s 328us/sample - loss: 0.0011 - acc: 0.7724 - val_loss: 0.0011 - val_acc: 0.7724\n",
            "Epoch 44/50\n",
            "11997/11997 [==============================] - 4s 329us/sample - loss: 0.0011 - acc: 0.7724 - val_loss: 0.0011 - val_acc: 0.7724\n",
            "Epoch 45/50\n",
            "11997/11997 [==============================] - 4s 345us/sample - loss: 0.0011 - acc: 0.7724 - val_loss: 0.0011 - val_acc: 0.7724\n",
            "Epoch 46/50\n",
            "11997/11997 [==============================] - 4s 335us/sample - loss: 0.0011 - acc: 0.7724 - val_loss: 0.0011 - val_acc: 0.7724\n",
            "Epoch 47/50\n",
            "11997/11997 [==============================] - 4s 339us/sample - loss: 0.0011 - acc: 0.7724 - val_loss: 0.0011 - val_acc: 0.7724\n",
            "Epoch 48/50\n",
            "11997/11997 [==============================] - 4s 327us/sample - loss: 0.0011 - acc: 0.7724 - val_loss: 0.0011 - val_acc: 0.7724\n",
            "Epoch 49/50\n",
            "11997/11997 [==============================] - 4s 331us/sample - loss: 0.0011 - acc: 0.7724 - val_loss: 0.0011 - val_acc: 0.7724\n",
            "Epoch 50/50\n",
            "11997/11997 [==============================] - 4s 332us/sample - loss: 0.0011 - acc: 0.7724 - val_loss: 0.0011 - val_acc: 0.7724\n"
          ],
          "name": "stdout"
        },
        {
          "output_type": "execute_result",
          "data": {
            "text/plain": [
              "<tensorflow.python.keras.callbacks.History at 0x7f56350d7ac8>"
            ]
          },
          "metadata": {
            "tags": []
          },
          "execution_count": 46
        }
      ]
    },
    {
      "cell_type": "code",
      "metadata": {
        "id": "qW849L-NsFhU",
        "colab_type": "code",
        "outputId": "55bdf8a4-0deb-4d19-d248-b586aca1884e",
        "colab": {
          "base_uri": "https://localhost:8080/",
          "height": 50
        }
      },
      "source": [
        "ypred = model.predict(X)\n",
        "s=pd.DataFrame(ypred)\n",
        "s1=pd.DataFrame(y)\n",
        "s1.corrwith(s, axis = 0) "
      ],
      "execution_count": 47,
      "outputs": [
        {
          "output_type": "execute_result",
          "data": {
            "text/plain": [
              "0    0.411435\n",
              "dtype: float64"
            ]
          },
          "metadata": {
            "tags": []
          },
          "execution_count": 47
        }
      ]
    },
    {
      "cell_type": "code",
      "metadata": {
        "id": "noGIobrktgmd",
        "colab_type": "code",
        "outputId": "424e4242-926d-45ba-eb1a-8545ffe1ae59",
        "colab": {
          "base_uri": "https://localhost:8080/",
          "height": 50
        }
      },
      "source": [
        "ypred1=model.predict(X_test)\n",
        "s=pd.DataFrame(ypred1)\n",
        "s1=pd.DataFrame(y_test)\n",
        "s1.corrwith(s,axis=0)"
      ],
      "execution_count": 48,
      "outputs": [
        {
          "output_type": "execute_result",
          "data": {
            "text/plain": [
              "0    0.411435\n",
              "dtype: float64"
            ]
          },
          "metadata": {
            "tags": []
          },
          "execution_count": 48
        }
      ]
    },
    {
      "cell_type": "code",
      "metadata": {
        "id": "xg8kvCOYtkrq",
        "colab_type": "code",
        "outputId": "0fea85ea-b965-4015-c657-f6667266b34d",
        "colab": {
          "base_uri": "https://localhost:8080/",
          "height": 34
        }
      },
      "source": [
        " from sklearn.metrics import r2_score\n",
        " r2_score(y,ypred)"
      ],
      "execution_count": 49,
      "outputs": [
        {
          "output_type": "execute_result",
          "data": {
            "text/plain": [
              "0.16400804064755836"
            ]
          },
          "metadata": {
            "tags": []
          },
          "execution_count": 49
        }
      ]
    },
    {
      "cell_type": "code",
      "metadata": {
        "id": "j7rV7tCmtn70",
        "colab_type": "code",
        "outputId": "d0aed72c-637b-48ee-c22d-8b8ba598692b",
        "colab": {
          "base_uri": "https://localhost:8080/",
          "height": 34
        }
      },
      "source": [
        "r2_score(y_test,ypred1)"
      ],
      "execution_count": 50,
      "outputs": [
        {
          "output_type": "execute_result",
          "data": {
            "text/plain": [
              "0.16400804064755836"
            ]
          },
          "metadata": {
            "tags": []
          },
          "execution_count": 50
        }
      ]
    },
    {
      "cell_type": "code",
      "metadata": {
        "id": "RpGZF90Nw8oU",
        "colab_type": "code",
        "outputId": "2d96a9e6-6005-4576-eda7-082f85a22938",
        "colab": {
          "base_uri": "https://localhost:8080/",
          "height": 1000
        }
      },
      "source": [
        "model.fit(X1, y1, validation_data=(X_test1,y_test1),epochs=50)"
      ],
      "execution_count": 51,
      "outputs": [
        {
          "output_type": "stream",
          "text": [
            "Train on 11997 samples, validate on 11997 samples\n",
            "Epoch 1/50\n",
            "11997/11997 [==============================] - 4s 342us/sample - loss: 0.0015 - acc: 0.8519 - val_loss: 0.0015 - val_acc: 0.8519\n",
            "Epoch 2/50\n",
            "11997/11997 [==============================] - 4s 340us/sample - loss: 0.0015 - acc: 0.8519 - val_loss: 0.0014 - val_acc: 0.8519\n",
            "Epoch 3/50\n",
            "11997/11997 [==============================] - 4s 340us/sample - loss: 0.0014 - acc: 0.8519 - val_loss: 0.0014 - val_acc: 0.8519\n",
            "Epoch 4/50\n",
            "11997/11997 [==============================] - 4s 337us/sample - loss: 0.0015 - acc: 0.8519 - val_loss: 0.0015 - val_acc: 0.8519\n",
            "Epoch 5/50\n",
            "11997/11997 [==============================] - 4s 332us/sample - loss: 0.0014 - acc: 0.8519 - val_loss: 0.0014 - val_acc: 0.8519\n",
            "Epoch 6/50\n",
            "11997/11997 [==============================] - 4s 331us/sample - loss: 0.0014 - acc: 0.8519 - val_loss: 0.0014 - val_acc: 0.8519\n",
            "Epoch 7/50\n",
            "11997/11997 [==============================] - 4s 335us/sample - loss: 0.0014 - acc: 0.8519 - val_loss: 0.0014 - val_acc: 0.8519\n",
            "Epoch 8/50\n",
            "11997/11997 [==============================] - 4s 345us/sample - loss: 0.0014 - acc: 0.8519 - val_loss: 0.0014 - val_acc: 0.8519\n",
            "Epoch 9/50\n",
            "11997/11997 [==============================] - 4s 333us/sample - loss: 0.0014 - acc: 0.8519 - val_loss: 0.0014 - val_acc: 0.8519\n",
            "Epoch 10/50\n",
            "11997/11997 [==============================] - 4s 333us/sample - loss: 0.0014 - acc: 0.8519 - val_loss: 0.0014 - val_acc: 0.8519\n",
            "Epoch 11/50\n",
            "11997/11997 [==============================] - 4s 336us/sample - loss: 0.0014 - acc: 0.8519 - val_loss: 0.0014 - val_acc: 0.8519\n",
            "Epoch 12/50\n",
            "11997/11997 [==============================] - 4s 323us/sample - loss: 0.0014 - acc: 0.8519 - val_loss: 0.0014 - val_acc: 0.8519\n",
            "Epoch 13/50\n",
            "11997/11997 [==============================] - 4s 328us/sample - loss: 0.0014 - acc: 0.8519 - val_loss: 0.0014 - val_acc: 0.8519\n",
            "Epoch 14/50\n",
            "11997/11997 [==============================] - 4s 332us/sample - loss: 0.0014 - acc: 0.8519 - val_loss: 0.0014 - val_acc: 0.8519\n",
            "Epoch 15/50\n",
            "11997/11997 [==============================] - 4s 340us/sample - loss: 0.0014 - acc: 0.8519 - val_loss: 0.0014 - val_acc: 0.8519\n",
            "Epoch 16/50\n",
            "11997/11997 [==============================] - 4s 336us/sample - loss: 0.0014 - acc: 0.8519 - val_loss: 0.0014 - val_acc: 0.8519\n",
            "Epoch 17/50\n",
            "11997/11997 [==============================] - 4s 339us/sample - loss: 0.0014 - acc: 0.8519 - val_loss: 0.0014 - val_acc: 0.8519\n",
            "Epoch 18/50\n",
            "11997/11997 [==============================] - 4s 333us/sample - loss: 0.0014 - acc: 0.8519 - val_loss: 0.0014 - val_acc: 0.8519\n",
            "Epoch 19/50\n",
            "11997/11997 [==============================] - 4s 329us/sample - loss: 0.0014 - acc: 0.8519 - val_loss: 0.0014 - val_acc: 0.8519\n",
            "Epoch 20/50\n",
            "11997/11997 [==============================] - 4s 327us/sample - loss: 0.0014 - acc: 0.8519 - val_loss: 0.0014 - val_acc: 0.8519\n",
            "Epoch 21/50\n",
            "11997/11997 [==============================] - 4s 334us/sample - loss: 0.0014 - acc: 0.8519 - val_loss: 0.0014 - val_acc: 0.8519\n",
            "Epoch 22/50\n",
            "11997/11997 [==============================] - 4s 325us/sample - loss: 0.0014 - acc: 0.8519 - val_loss: 0.0014 - val_acc: 0.8519\n",
            "Epoch 23/50\n",
            "11997/11997 [==============================] - 4s 315us/sample - loss: 0.0014 - acc: 0.8519 - val_loss: 0.0014 - val_acc: 0.8519\n",
            "Epoch 24/50\n",
            "11997/11997 [==============================] - 4s 334us/sample - loss: 0.0014 - acc: 0.8519 - val_loss: 0.0015 - val_acc: 0.8519\n",
            "Epoch 25/50\n",
            "11997/11997 [==============================] - 4s 344us/sample - loss: 0.0014 - acc: 0.8519 - val_loss: 0.0014 - val_acc: 0.8519\n",
            "Epoch 26/50\n",
            "11997/11997 [==============================] - 4s 346us/sample - loss: 0.0014 - acc: 0.8519 - val_loss: 0.0014 - val_acc: 0.8519\n",
            "Epoch 27/50\n",
            "11997/11997 [==============================] - 4s 342us/sample - loss: 0.0014 - acc: 0.8519 - val_loss: 0.0014 - val_acc: 0.8519\n",
            "Epoch 28/50\n",
            "11997/11997 [==============================] - 4s 326us/sample - loss: 0.0014 - acc: 0.8519 - val_loss: 0.0014 - val_acc: 0.8519\n",
            "Epoch 29/50\n",
            "11997/11997 [==============================] - 4s 328us/sample - loss: 0.0014 - acc: 0.8519 - val_loss: 0.0014 - val_acc: 0.8519\n",
            "Epoch 30/50\n",
            "11997/11997 [==============================] - 4s 324us/sample - loss: 0.0014 - acc: 0.8519 - val_loss: 0.0014 - val_acc: 0.8519\n",
            "Epoch 31/50\n",
            "11997/11997 [==============================] - 4s 330us/sample - loss: 0.0014 - acc: 0.8519 - val_loss: 0.0014 - val_acc: 0.8519\n",
            "Epoch 32/50\n",
            "11997/11997 [==============================] - 4s 339us/sample - loss: 0.0014 - acc: 0.8519 - val_loss: 0.0014 - val_acc: 0.8519\n",
            "Epoch 33/50\n",
            "11997/11997 [==============================] - 4s 344us/sample - loss: 0.0014 - acc: 0.8519 - val_loss: 0.0014 - val_acc: 0.8519\n",
            "Epoch 34/50\n",
            "11997/11997 [==============================] - 4s 323us/sample - loss: 0.0014 - acc: 0.8519 - val_loss: 0.0014 - val_acc: 0.8519\n",
            "Epoch 35/50\n",
            "11997/11997 [==============================] - 4s 321us/sample - loss: 0.0014 - acc: 0.8519 - val_loss: 0.0014 - val_acc: 0.8519\n",
            "Epoch 36/50\n",
            "11997/11997 [==============================] - 4s 319us/sample - loss: 0.0014 - acc: 0.8519 - val_loss: 0.0014 - val_acc: 0.8519\n",
            "Epoch 37/50\n",
            "11997/11997 [==============================] - 4s 326us/sample - loss: 0.0014 - acc: 0.8519 - val_loss: 0.0014 - val_acc: 0.8519\n",
            "Epoch 38/50\n",
            "11997/11997 [==============================] - 4s 318us/sample - loss: 0.0014 - acc: 0.8519 - val_loss: 0.0014 - val_acc: 0.8519\n",
            "Epoch 39/50\n",
            "11997/11997 [==============================] - 4s 320us/sample - loss: 0.0014 - acc: 0.8519 - val_loss: 0.0014 - val_acc: 0.8519\n",
            "Epoch 40/50\n",
            "11997/11997 [==============================] - 4s 331us/sample - loss: 0.0014 - acc: 0.8519 - val_loss: 0.0014 - val_acc: 0.8519\n",
            "Epoch 41/50\n",
            "11997/11997 [==============================] - 4s 326us/sample - loss: 0.0014 - acc: 0.8519 - val_loss: 0.0014 - val_acc: 0.8519\n",
            "Epoch 42/50\n",
            "11997/11997 [==============================] - 4s 317us/sample - loss: 0.0014 - acc: 0.8519 - val_loss: 0.0014 - val_acc: 0.8519\n",
            "Epoch 43/50\n",
            "11997/11997 [==============================] - 4s 319us/sample - loss: 0.0014 - acc: 0.8519 - val_loss: 0.0014 - val_acc: 0.8519\n",
            "Epoch 44/50\n",
            "11997/11997 [==============================] - 4s 324us/sample - loss: 0.0014 - acc: 0.8519 - val_loss: 0.0014 - val_acc: 0.8519\n",
            "Epoch 45/50\n",
            "11997/11997 [==============================] - 4s 321us/sample - loss: 0.0014 - acc: 0.8519 - val_loss: 0.0014 - val_acc: 0.8519\n",
            "Epoch 46/50\n",
            "11997/11997 [==============================] - 4s 329us/sample - loss: 0.0014 - acc: 0.8519 - val_loss: 0.0014 - val_acc: 0.8519\n",
            "Epoch 47/50\n",
            "11997/11997 [==============================] - 4s 327us/sample - loss: 0.0014 - acc: 0.8519 - val_loss: 0.0014 - val_acc: 0.8519\n",
            "Epoch 48/50\n",
            "11997/11997 [==============================] - 4s 327us/sample - loss: 0.0014 - acc: 0.8519 - val_loss: 0.0014 - val_acc: 0.8519\n",
            "Epoch 49/50\n",
            "11997/11997 [==============================] - 4s 343us/sample - loss: 0.0014 - acc: 0.8519 - val_loss: 0.0014 - val_acc: 0.8519\n",
            "Epoch 50/50\n",
            "11997/11997 [==============================] - 4s 324us/sample - loss: 0.0014 - acc: 0.8519 - val_loss: 0.0014 - val_acc: 0.8519\n"
          ],
          "name": "stdout"
        },
        {
          "output_type": "execute_result",
          "data": {
            "text/plain": [
              "<tensorflow.python.keras.callbacks.History at 0x7f56369f5dd8>"
            ]
          },
          "metadata": {
            "tags": []
          },
          "execution_count": 51
        }
      ]
    },
    {
      "cell_type": "code",
      "metadata": {
        "id": "wbC1-ArQHzOa",
        "colab_type": "code",
        "colab": {
          "base_uri": "https://localhost:8080/",
          "height": 50
        },
        "outputId": "eb69eca6-861a-47d5-c5b5-73792cb64f95"
      },
      "source": [
        "ypred = model.predict(X1)\n",
        "s=pd.DataFrame(ypred)\n",
        "s1=pd.DataFrame(y1)\n",
        "s1.corrwith(s, axis = 0) "
      ],
      "execution_count": 52,
      "outputs": [
        {
          "output_type": "execute_result",
          "data": {
            "text/plain": [
              "0    0.389592\n",
              "dtype: float64"
            ]
          },
          "metadata": {
            "tags": []
          },
          "execution_count": 52
        }
      ]
    },
    {
      "cell_type": "code",
      "metadata": {
        "id": "RjJslfLMJEbs",
        "colab_type": "code",
        "colab": {
          "base_uri": "https://localhost:8080/",
          "height": 50
        },
        "outputId": "a198324a-b128-4c16-d4b0-2681d3f0ca9f"
      },
      "source": [
        "ypred1=model.predict(X_test1)\n",
        "s=pd.DataFrame(ypred1)\n",
        "s1=pd.DataFrame(y_test1)\n",
        "s1.corrwith(s,axis=0)"
      ],
      "execution_count": 53,
      "outputs": [
        {
          "output_type": "execute_result",
          "data": {
            "text/plain": [
              "0    0.389592\n",
              "dtype: float64"
            ]
          },
          "metadata": {
            "tags": []
          },
          "execution_count": 53
        }
      ]
    },
    {
      "cell_type": "code",
      "metadata": {
        "id": "IbLt0Hz1Mop2",
        "colab_type": "code",
        "colab": {
          "base_uri": "https://localhost:8080/",
          "height": 34
        },
        "outputId": "8ca544a4-59ef-4556-9949-089e5fa76630"
      },
      "source": [
        "r2_score(y1,ypred)"
      ],
      "execution_count": 54,
      "outputs": [
        {
          "output_type": "execute_result",
          "data": {
            "text/plain": [
              "0.15004530764083657"
            ]
          },
          "metadata": {
            "tags": []
          },
          "execution_count": 54
        }
      ]
    },
    {
      "cell_type": "code",
      "metadata": {
        "id": "X7U_mkgGMrxT",
        "colab_type": "code",
        "colab": {
          "base_uri": "https://localhost:8080/",
          "height": 34
        },
        "outputId": "de2dd9d6-57d7-4b8b-b8f6-d86b48fa48f1"
      },
      "source": [
        "r2_score(y_test1,ypred1)"
      ],
      "execution_count": 55,
      "outputs": [
        {
          "output_type": "execute_result",
          "data": {
            "text/plain": [
              "0.15004530764083657"
            ]
          },
          "metadata": {
            "tags": []
          },
          "execution_count": 55
        }
      ]
    },
    {
      "cell_type": "code",
      "metadata": {
        "id": "dyKBYmkUtKUU",
        "colab_type": "code",
        "outputId": "d78c47e3-7601-455b-c8c5-7f9de23d4fd2",
        "colab": {
          "base_uri": "https://localhost:8080/",
          "height": 1000
        }
      },
      "source": [
        "model.fit(X2, y2, validation_data=(X_test2,y_test2),epochs=50)"
      ],
      "execution_count": 56,
      "outputs": [
        {
          "output_type": "stream",
          "text": [
            "Train on 11997 samples, validate on 11997 samples\n",
            "Epoch 1/50\n",
            "11997/11997 [==============================] - 4s 322us/sample - loss: 0.0048 - acc: 0.8414 - val_loss: 0.0047 - val_acc: 0.8414\n",
            "Epoch 2/50\n",
            "11997/11997 [==============================] - 4s 313us/sample - loss: 0.0047 - acc: 0.8414 - val_loss: 0.0047 - val_acc: 0.8414\n",
            "Epoch 3/50\n",
            "11997/11997 [==============================] - 4s 317us/sample - loss: 0.0047 - acc: 0.8414 - val_loss: 0.0047 - val_acc: 0.8414\n",
            "Epoch 4/50\n",
            "11997/11997 [==============================] - 4s 318us/sample - loss: 0.0047 - acc: 0.8414 - val_loss: 0.0047 - val_acc: 0.8414\n",
            "Epoch 5/50\n",
            "11997/11997 [==============================] - 4s 328us/sample - loss: 0.0047 - acc: 0.8414 - val_loss: 0.0047 - val_acc: 0.8414\n",
            "Epoch 6/50\n",
            "11997/11997 [==============================] - 4s 333us/sample - loss: 0.0047 - acc: 0.8414 - val_loss: 0.0047 - val_acc: 0.8414\n",
            "Epoch 7/50\n",
            "11997/11997 [==============================] - 4s 335us/sample - loss: 0.0047 - acc: 0.8414 - val_loss: 0.0047 - val_acc: 0.8414\n",
            "Epoch 8/50\n",
            "11997/11997 [==============================] - 4s 326us/sample - loss: 0.0047 - acc: 0.8414 - val_loss: 0.0047 - val_acc: 0.8414\n",
            "Epoch 9/50\n",
            "11997/11997 [==============================] - 4s 322us/sample - loss: 0.0047 - acc: 0.8414 - val_loss: 0.0047 - val_acc: 0.8414\n",
            "Epoch 10/50\n",
            "11997/11997 [==============================] - 4s 321us/sample - loss: 0.0047 - acc: 0.8414 - val_loss: 0.0047 - val_acc: 0.8414\n",
            "Epoch 11/50\n",
            "11997/11997 [==============================] - 4s 322us/sample - loss: 0.0047 - acc: 0.8414 - val_loss: 0.0047 - val_acc: 0.8414\n",
            "Epoch 12/50\n",
            "11997/11997 [==============================] - 4s 341us/sample - loss: 0.0047 - acc: 0.8414 - val_loss: 0.0047 - val_acc: 0.8414\n",
            "Epoch 13/50\n",
            "11997/11997 [==============================] - 4s 333us/sample - loss: 0.0047 - acc: 0.8414 - val_loss: 0.0046 - val_acc: 0.8414\n",
            "Epoch 14/50\n",
            "11997/11997 [==============================] - 4s 334us/sample - loss: 0.0047 - acc: 0.8414 - val_loss: 0.0047 - val_acc: 0.8414\n",
            "Epoch 15/50\n",
            "11997/11997 [==============================] - 4s 332us/sample - loss: 0.0047 - acc: 0.8414 - val_loss: 0.0047 - val_acc: 0.8414\n",
            "Epoch 16/50\n",
            "11997/11997 [==============================] - 4s 332us/sample - loss: 0.0047 - acc: 0.8414 - val_loss: 0.0046 - val_acc: 0.8414\n",
            "Epoch 17/50\n",
            "11997/11997 [==============================] - 4s 320us/sample - loss: 0.0047 - acc: 0.8414 - val_loss: 0.0046 - val_acc: 0.8414\n",
            "Epoch 18/50\n",
            "11997/11997 [==============================] - 4s 320us/sample - loss: 0.0047 - acc: 0.8414 - val_loss: 0.0047 - val_acc: 0.8414\n",
            "Epoch 19/50\n",
            "11997/11997 [==============================] - 4s 343us/sample - loss: 0.0047 - acc: 0.8414 - val_loss: 0.0047 - val_acc: 0.8414\n",
            "Epoch 20/50\n",
            "11997/11997 [==============================] - 4s 353us/sample - loss: 0.0047 - acc: 0.8414 - val_loss: 0.0046 - val_acc: 0.8414\n",
            "Epoch 21/50\n",
            "11997/11997 [==============================] - 4s 345us/sample - loss: 0.0047 - acc: 0.8414 - val_loss: 0.0046 - val_acc: 0.8414\n",
            "Epoch 22/50\n",
            "11997/11997 [==============================] - 4s 330us/sample - loss: 0.0047 - acc: 0.8414 - val_loss: 0.0046 - val_acc: 0.8414\n",
            "Epoch 23/50\n",
            "11997/11997 [==============================] - 4s 324us/sample - loss: 0.0047 - acc: 0.8414 - val_loss: 0.0046 - val_acc: 0.8414\n",
            "Epoch 24/50\n",
            "11997/11997 [==============================] - 4s 329us/sample - loss: 0.0047 - acc: 0.8414 - val_loss: 0.0047 - val_acc: 0.8414\n",
            "Epoch 25/50\n",
            "11997/11997 [==============================] - 4s 329us/sample - loss: 0.0047 - acc: 0.8414 - val_loss: 0.0046 - val_acc: 0.8414\n",
            "Epoch 26/50\n",
            "11997/11997 [==============================] - 4s 320us/sample - loss: 0.0047 - acc: 0.8414 - val_loss: 0.0047 - val_acc: 0.8414\n",
            "Epoch 27/50\n",
            "11997/11997 [==============================] - 4s 335us/sample - loss: 0.0047 - acc: 0.8414 - val_loss: 0.0047 - val_acc: 0.8414\n",
            "Epoch 28/50\n",
            "11997/11997 [==============================] - 4s 337us/sample - loss: 0.0047 - acc: 0.8414 - val_loss: 0.0046 - val_acc: 0.8414\n",
            "Epoch 29/50\n",
            "11997/11997 [==============================] - 4s 333us/sample - loss: 0.0047 - acc: 0.8414 - val_loss: 0.0046 - val_acc: 0.8414\n",
            "Epoch 30/50\n",
            "11997/11997 [==============================] - 4s 332us/sample - loss: 0.0047 - acc: 0.8414 - val_loss: 0.0046 - val_acc: 0.8414\n",
            "Epoch 31/50\n",
            "11997/11997 [==============================] - 4s 320us/sample - loss: 0.0047 - acc: 0.8414 - val_loss: 0.0046 - val_acc: 0.8414\n",
            "Epoch 32/50\n",
            "11997/11997 [==============================] - 4s 323us/sample - loss: 0.0047 - acc: 0.8414 - val_loss: 0.0046 - val_acc: 0.8414\n",
            "Epoch 33/50\n",
            "11997/11997 [==============================] - 4s 326us/sample - loss: 0.0047 - acc: 0.8414 - val_loss: 0.0046 - val_acc: 0.8414\n",
            "Epoch 34/50\n",
            "11997/11997 [==============================] - 4s 330us/sample - loss: 0.0047 - acc: 0.8414 - val_loss: 0.0046 - val_acc: 0.8414\n",
            "Epoch 35/50\n",
            "11997/11997 [==============================] - 4s 338us/sample - loss: 0.0047 - acc: 0.8414 - val_loss: 0.0046 - val_acc: 0.8414\n",
            "Epoch 36/50\n",
            "11997/11997 [==============================] - 4s 328us/sample - loss: 0.0047 - acc: 0.8414 - val_loss: 0.0046 - val_acc: 0.8414\n",
            "Epoch 37/50\n",
            "11997/11997 [==============================] - 4s 327us/sample - loss: 0.0047 - acc: 0.8414 - val_loss: 0.0046 - val_acc: 0.8414\n",
            "Epoch 38/50\n",
            "11997/11997 [==============================] - 4s 329us/sample - loss: 0.0047 - acc: 0.8414 - val_loss: 0.0046 - val_acc: 0.8414\n",
            "Epoch 39/50\n",
            "11997/11997 [==============================] - 4s 323us/sample - loss: 0.0047 - acc: 0.8414 - val_loss: 0.0046 - val_acc: 0.8414\n",
            "Epoch 40/50\n",
            "11997/11997 [==============================] - 4s 330us/sample - loss: 0.0047 - acc: 0.8414 - val_loss: 0.0046 - val_acc: 0.8414\n",
            "Epoch 41/50\n",
            "11997/11997 [==============================] - 4s 326us/sample - loss: 0.0046 - acc: 0.8414 - val_loss: 0.0046 - val_acc: 0.8414\n",
            "Epoch 42/50\n",
            "11997/11997 [==============================] - 4s 327us/sample - loss: 0.0047 - acc: 0.8414 - val_loss: 0.0046 - val_acc: 0.8414\n",
            "Epoch 43/50\n",
            "11997/11997 [==============================] - 4s 341us/sample - loss: 0.0047 - acc: 0.8414 - val_loss: 0.0046 - val_acc: 0.8414\n",
            "Epoch 44/50\n",
            "11997/11997 [==============================] - 4s 337us/sample - loss: 0.0046 - acc: 0.8414 - val_loss: 0.0046 - val_acc: 0.8414\n",
            "Epoch 45/50\n",
            "11997/11997 [==============================] - 4s 333us/sample - loss: 0.0047 - acc: 0.8414 - val_loss: 0.0046 - val_acc: 0.8414\n",
            "Epoch 46/50\n",
            "11997/11997 [==============================] - 4s 329us/sample - loss: 0.0047 - acc: 0.8414 - val_loss: 0.0046 - val_acc: 0.8414\n",
            "Epoch 47/50\n",
            "11997/11997 [==============================] - 4s 321us/sample - loss: 0.0046 - acc: 0.8414 - val_loss: 0.0046 - val_acc: 0.8414\n",
            "Epoch 48/50\n",
            "11997/11997 [==============================] - 4s 326us/sample - loss: 0.0046 - acc: 0.8414 - val_loss: 0.0046 - val_acc: 0.8414\n",
            "Epoch 49/50\n",
            "11997/11997 [==============================] - 4s 323us/sample - loss: 0.0047 - acc: 0.8414 - val_loss: 0.0046 - val_acc: 0.8414\n",
            "Epoch 50/50\n",
            "11997/11997 [==============================] - 4s 339us/sample - loss: 0.0046 - acc: 0.8414 - val_loss: 0.0046 - val_acc: 0.8414\n"
          ],
          "name": "stdout"
        },
        {
          "output_type": "execute_result",
          "data": {
            "text/plain": [
              "<tensorflow.python.keras.callbacks.History at 0x7f5639d5c9b0>"
            ]
          },
          "metadata": {
            "tags": []
          },
          "execution_count": 56
        }
      ]
    },
    {
      "cell_type": "code",
      "metadata": {
        "id": "JEu6KMnhH0z8",
        "colab_type": "code",
        "colab": {
          "base_uri": "https://localhost:8080/",
          "height": 50
        },
        "outputId": "0b88b7c1-eaa0-4365-aadc-ca0e80cdfefb"
      },
      "source": [
        "ypred = model.predict(X2)\n",
        "s=pd.DataFrame(ypred)\n",
        "s1=pd.DataFrame(y2)\n",
        "s1.corrwith(s, axis = 0) "
      ],
      "execution_count": 57,
      "outputs": [
        {
          "output_type": "execute_result",
          "data": {
            "text/plain": [
              "0    0.276812\n",
              "dtype: float64"
            ]
          },
          "metadata": {
            "tags": []
          },
          "execution_count": 57
        }
      ]
    },
    {
      "cell_type": "code",
      "metadata": {
        "id": "zh49J42kJF0i",
        "colab_type": "code",
        "colab": {
          "base_uri": "https://localhost:8080/",
          "height": 50
        },
        "outputId": "d4a763fa-8fed-476a-986a-e3f618811fbf"
      },
      "source": [
        "ypred1=model.predict(X_test2)\n",
        "s=pd.DataFrame(ypred1)\n",
        "s1=pd.DataFrame(y_test2)\n",
        "s1.corrwith(s,axis=0)"
      ],
      "execution_count": 58,
      "outputs": [
        {
          "output_type": "execute_result",
          "data": {
            "text/plain": [
              "0    0.276812\n",
              "dtype: float64"
            ]
          },
          "metadata": {
            "tags": []
          },
          "execution_count": 58
        }
      ]
    },
    {
      "cell_type": "code",
      "metadata": {
        "id": "jFG77mOGMjRL",
        "colab_type": "code",
        "colab": {
          "base_uri": "https://localhost:8080/",
          "height": 34
        },
        "outputId": "86f5b480-f5b3-47b4-9cb2-053500d15c7d"
      },
      "source": [
        "r2_score(y2,ypred)"
      ],
      "execution_count": 59,
      "outputs": [
        {
          "output_type": "execute_result",
          "data": {
            "text/plain": [
              "0.07409644288121153"
            ]
          },
          "metadata": {
            "tags": []
          },
          "execution_count": 59
        }
      ]
    },
    {
      "cell_type": "code",
      "metadata": {
        "id": "mOkYZ-wjMj_C",
        "colab_type": "code",
        "colab": {
          "base_uri": "https://localhost:8080/",
          "height": 34
        },
        "outputId": "4152e008-bd19-4c8e-9a15-08bed0c9f333"
      },
      "source": [
        "r2_score(y_test2,ypred1)"
      ],
      "execution_count": 60,
      "outputs": [
        {
          "output_type": "execute_result",
          "data": {
            "text/plain": [
              "0.07409644288121153"
            ]
          },
          "metadata": {
            "tags": []
          },
          "execution_count": 60
        }
      ]
    },
    {
      "cell_type": "code",
      "metadata": {
        "id": "VFNvtKzUtMus",
        "colab_type": "code",
        "outputId": "5a174719-49f0-436c-d1b4-ec4db1275fc2",
        "colab": {
          "base_uri": "https://localhost:8080/",
          "height": 1000
        }
      },
      "source": [
        "model.fit(X3, y3, validation_data=(X_test3,y_test3),epochs=50)"
      ],
      "execution_count": 61,
      "outputs": [
        {
          "output_type": "stream",
          "text": [
            "Train on 11997 samples, validate on 11997 samples\n",
            "Epoch 1/50\n",
            "11997/11997 [==============================] - 4s 340us/sample - loss: 0.0032 - acc: 0.8605 - val_loss: 0.0032 - val_acc: 0.8605\n",
            "Epoch 2/50\n",
            "11997/11997 [==============================] - 4s 329us/sample - loss: 0.0032 - acc: 0.8605 - val_loss: 0.0032 - val_acc: 0.8605\n",
            "Epoch 3/50\n",
            "11997/11997 [==============================] - 4s 339us/sample - loss: 0.0032 - acc: 0.8605 - val_loss: 0.0031 - val_acc: 0.8605\n",
            "Epoch 4/50\n",
            "11997/11997 [==============================] - 4s 337us/sample - loss: 0.0032 - acc: 0.8605 - val_loss: 0.0032 - val_acc: 0.8605\n",
            "Epoch 5/50\n",
            "11997/11997 [==============================] - 4s 324us/sample - loss: 0.0032 - acc: 0.8605 - val_loss: 0.0031 - val_acc: 0.8605\n",
            "Epoch 6/50\n",
            "11997/11997 [==============================] - 4s 325us/sample - loss: 0.0032 - acc: 0.8605 - val_loss: 0.0032 - val_acc: 0.8605\n",
            "Epoch 7/50\n",
            "11997/11997 [==============================] - 4s 333us/sample - loss: 0.0032 - acc: 0.8605 - val_loss: 0.0032 - val_acc: 0.8605\n",
            "Epoch 8/50\n",
            "11997/11997 [==============================] - 4s 333us/sample - loss: 0.0032 - acc: 0.8605 - val_loss: 0.0032 - val_acc: 0.8605\n",
            "Epoch 9/50\n",
            "11997/11997 [==============================] - 4s 330us/sample - loss: 0.0031 - acc: 0.8605 - val_loss: 0.0031 - val_acc: 0.8605\n",
            "Epoch 10/50\n",
            "11997/11997 [==============================] - 4s 333us/sample - loss: 0.0032 - acc: 0.8605 - val_loss: 0.0032 - val_acc: 0.8605\n",
            "Epoch 11/50\n",
            "11997/11997 [==============================] - 4s 331us/sample - loss: 0.0031 - acc: 0.8605 - val_loss: 0.0031 - val_acc: 0.8605\n",
            "Epoch 12/50\n",
            "11997/11997 [==============================] - 4s 333us/sample - loss: 0.0031 - acc: 0.8605 - val_loss: 0.0031 - val_acc: 0.8605\n",
            "Epoch 13/50\n",
            "11997/11997 [==============================] - 4s 331us/sample - loss: 0.0031 - acc: 0.8605 - val_loss: 0.0031 - val_acc: 0.8605\n",
            "Epoch 14/50\n",
            "11997/11997 [==============================] - 4s 337us/sample - loss: 0.0032 - acc: 0.8605 - val_loss: 0.0031 - val_acc: 0.8605\n",
            "Epoch 15/50\n",
            "11997/11997 [==============================] - 4s 343us/sample - loss: 0.0031 - acc: 0.8605 - val_loss: 0.0031 - val_acc: 0.8605\n",
            "Epoch 16/50\n",
            "11997/11997 [==============================] - 4s 342us/sample - loss: 0.0031 - acc: 0.8605 - val_loss: 0.0031 - val_acc: 0.8605\n",
            "Epoch 17/50\n",
            "11997/11997 [==============================] - 4s 343us/sample - loss: 0.0031 - acc: 0.8605 - val_loss: 0.0031 - val_acc: 0.8605\n",
            "Epoch 18/50\n",
            "11997/11997 [==============================] - 4s 341us/sample - loss: 0.0031 - acc: 0.8605 - val_loss: 0.0031 - val_acc: 0.8605\n",
            "Epoch 19/50\n",
            "11997/11997 [==============================] - 4s 341us/sample - loss: 0.0031 - acc: 0.8605 - val_loss: 0.0031 - val_acc: 0.8605\n",
            "Epoch 20/50\n",
            "11997/11997 [==============================] - 4s 341us/sample - loss: 0.0031 - acc: 0.8605 - val_loss: 0.0031 - val_acc: 0.8605\n",
            "Epoch 21/50\n",
            "11997/11997 [==============================] - 4s 349us/sample - loss: 0.0031 - acc: 0.8605 - val_loss: 0.0031 - val_acc: 0.8605\n",
            "Epoch 22/50\n",
            "11997/11997 [==============================] - 4s 349us/sample - loss: 0.0031 - acc: 0.8605 - val_loss: 0.0031 - val_acc: 0.8605\n",
            "Epoch 23/50\n",
            "11997/11997 [==============================] - 4s 346us/sample - loss: 0.0031 - acc: 0.8605 - val_loss: 0.0031 - val_acc: 0.8605\n",
            "Epoch 24/50\n",
            "11997/11997 [==============================] - 4s 338us/sample - loss: 0.0031 - acc: 0.8605 - val_loss: 0.0031 - val_acc: 0.8605\n",
            "Epoch 25/50\n",
            "11997/11997 [==============================] - 4s 342us/sample - loss: 0.0031 - acc: 0.8605 - val_loss: 0.0031 - val_acc: 0.8605\n",
            "Epoch 26/50\n",
            "11997/11997 [==============================] - 4s 352us/sample - loss: 0.0031 - acc: 0.8605 - val_loss: 0.0031 - val_acc: 0.8605\n",
            "Epoch 27/50\n",
            "11997/11997 [==============================] - 4s 339us/sample - loss: 0.0031 - acc: 0.8605 - val_loss: 0.0031 - val_acc: 0.8605\n",
            "Epoch 28/50\n",
            "11997/11997 [==============================] - 4s 339us/sample - loss: 0.0031 - acc: 0.8605 - val_loss: 0.0031 - val_acc: 0.8605\n",
            "Epoch 29/50\n",
            "11997/11997 [==============================] - 4s 353us/sample - loss: 0.0031 - acc: 0.8605 - val_loss: 0.0031 - val_acc: 0.8605\n",
            "Epoch 30/50\n",
            "11997/11997 [==============================] - 4s 351us/sample - loss: 0.0031 - acc: 0.8605 - val_loss: 0.0031 - val_acc: 0.8605\n",
            "Epoch 31/50\n",
            "11997/11997 [==============================] - 4s 344us/sample - loss: 0.0031 - acc: 0.8605 - val_loss: 0.0031 - val_acc: 0.8605\n",
            "Epoch 32/50\n",
            "11997/11997 [==============================] - 4s 338us/sample - loss: 0.0031 - acc: 0.8605 - val_loss: 0.0031 - val_acc: 0.8605\n",
            "Epoch 33/50\n",
            "11997/11997 [==============================] - 4s 344us/sample - loss: 0.0031 - acc: 0.8605 - val_loss: 0.0031 - val_acc: 0.8605\n",
            "Epoch 34/50\n",
            "11997/11997 [==============================] - 4s 343us/sample - loss: 0.0031 - acc: 0.8605 - val_loss: 0.0031 - val_acc: 0.8605\n",
            "Epoch 35/50\n",
            "11997/11997 [==============================] - 4s 348us/sample - loss: 0.0031 - acc: 0.8605 - val_loss: 0.0031 - val_acc: 0.8605\n",
            "Epoch 36/50\n",
            "11997/11997 [==============================] - 4s 356us/sample - loss: 0.0031 - acc: 0.8605 - val_loss: 0.0031 - val_acc: 0.8605\n",
            "Epoch 37/50\n",
            "11997/11997 [==============================] - 4s 341us/sample - loss: 0.0031 - acc: 0.8605 - val_loss: 0.0031 - val_acc: 0.8605\n",
            "Epoch 38/50\n",
            "11997/11997 [==============================] - 4s 351us/sample - loss: 0.0031 - acc: 0.8605 - val_loss: 0.0031 - val_acc: 0.8605\n",
            "Epoch 39/50\n",
            "11997/11997 [==============================] - 4s 336us/sample - loss: 0.0031 - acc: 0.8605 - val_loss: 0.0031 - val_acc: 0.8605\n",
            "Epoch 40/50\n",
            "11997/11997 [==============================] - 4s 341us/sample - loss: 0.0031 - acc: 0.8605 - val_loss: 0.0031 - val_acc: 0.8605\n",
            "Epoch 41/50\n",
            "11997/11997 [==============================] - 4s 339us/sample - loss: 0.0031 - acc: 0.8605 - val_loss: 0.0031 - val_acc: 0.8605\n",
            "Epoch 42/50\n",
            "11997/11997 [==============================] - 4s 334us/sample - loss: 0.0031 - acc: 0.8605 - val_loss: 0.0032 - val_acc: 0.8605\n",
            "Epoch 43/50\n",
            "11997/11997 [==============================] - 4s 330us/sample - loss: 0.0031 - acc: 0.8605 - val_loss: 0.0031 - val_acc: 0.8605\n",
            "Epoch 44/50\n",
            "11997/11997 [==============================] - 4s 344us/sample - loss: 0.0031 - acc: 0.8605 - val_loss: 0.0031 - val_acc: 0.8605\n",
            "Epoch 45/50\n",
            "11997/11997 [==============================] - 4s 345us/sample - loss: 0.0031 - acc: 0.8605 - val_loss: 0.0031 - val_acc: 0.8605\n",
            "Epoch 46/50\n",
            "11997/11997 [==============================] - 4s 350us/sample - loss: 0.0031 - acc: 0.8605 - val_loss: 0.0031 - val_acc: 0.8605\n",
            "Epoch 47/50\n",
            "11997/11997 [==============================] - 4s 350us/sample - loss: 0.0031 - acc: 0.8605 - val_loss: 0.0031 - val_acc: 0.8605\n",
            "Epoch 48/50\n",
            "11997/11997 [==============================] - 4s 347us/sample - loss: 0.0031 - acc: 0.8605 - val_loss: 0.0031 - val_acc: 0.8605\n",
            "Epoch 49/50\n",
            "11997/11997 [==============================] - 4s 339us/sample - loss: 0.0031 - acc: 0.8605 - val_loss: 0.0031 - val_acc: 0.8605\n",
            "Epoch 50/50\n",
            "11997/11997 [==============================] - 4s 335us/sample - loss: 0.0031 - acc: 0.8605 - val_loss: 0.0031 - val_acc: 0.8605\n"
          ],
          "name": "stdout"
        },
        {
          "output_type": "execute_result",
          "data": {
            "text/plain": [
              "<tensorflow.python.keras.callbacks.History at 0x7f5636dd0160>"
            ]
          },
          "metadata": {
            "tags": []
          },
          "execution_count": 61
        }
      ]
    },
    {
      "cell_type": "code",
      "metadata": {
        "id": "GkOlpfGdH2gZ",
        "colab_type": "code",
        "colab": {
          "base_uri": "https://localhost:8080/",
          "height": 50
        },
        "outputId": "d8f056c9-5063-4001-e635-6881ee3b9732"
      },
      "source": [
        "ypred = model.predict(X3)\n",
        "s=pd.DataFrame(ypred)\n",
        "s1=pd.DataFrame(y3)\n",
        "s1.corrwith(s, axis = 0) "
      ],
      "execution_count": 62,
      "outputs": [
        {
          "output_type": "execute_result",
          "data": {
            "text/plain": [
              "0    0.289785\n",
              "dtype: float64"
            ]
          },
          "metadata": {
            "tags": []
          },
          "execution_count": 62
        }
      ]
    },
    {
      "cell_type": "code",
      "metadata": {
        "id": "8DCzVU6iJHQ1",
        "colab_type": "code",
        "colab": {
          "base_uri": "https://localhost:8080/",
          "height": 50
        },
        "outputId": "35b4fe8d-ced4-4382-9079-d299a372152a"
      },
      "source": [
        "ypred1=model.predict(X_test3)\n",
        "s=pd.DataFrame(ypred1)\n",
        "s1=pd.DataFrame(y_test3)\n",
        "s1.corrwith(s,axis=0)"
      ],
      "execution_count": 63,
      "outputs": [
        {
          "output_type": "execute_result",
          "data": {
            "text/plain": [
              "0    0.289785\n",
              "dtype: float64"
            ]
          },
          "metadata": {
            "tags": []
          },
          "execution_count": 63
        }
      ]
    },
    {
      "cell_type": "code",
      "metadata": {
        "id": "FO_LLgNyMcxl",
        "colab_type": "code",
        "colab": {
          "base_uri": "https://localhost:8080/",
          "height": 34
        },
        "outputId": "45473d2a-052c-4f57-c93c-9d46103d3a3f"
      },
      "source": [
        "r2_score(y3,ypred)"
      ],
      "execution_count": 64,
      "outputs": [
        {
          "output_type": "execute_result",
          "data": {
            "text/plain": [
              "0.0823341706038444"
            ]
          },
          "metadata": {
            "tags": []
          },
          "execution_count": 64
        }
      ]
    },
    {
      "cell_type": "code",
      "metadata": {
        "id": "3Dou4U6tMfBa",
        "colab_type": "code",
        "colab": {
          "base_uri": "https://localhost:8080/",
          "height": 34
        },
        "outputId": "56ecfeb2-4932-488c-9375-56da15c5a710"
      },
      "source": [
        "r2_score(y_test3,ypred1)"
      ],
      "execution_count": 65,
      "outputs": [
        {
          "output_type": "execute_result",
          "data": {
            "text/plain": [
              "0.0823341706038444"
            ]
          },
          "metadata": {
            "tags": []
          },
          "execution_count": 65
        }
      ]
    },
    {
      "cell_type": "code",
      "metadata": {
        "id": "SgByKfhitNMk",
        "colab_type": "code",
        "outputId": "95be1ea4-d957-4e3e-84fb-d900ccd50705",
        "colab": {
          "base_uri": "https://localhost:8080/",
          "height": 1000
        }
      },
      "source": [
        "model.fit(X4, y4, validation_data=(X_test4,y_test4),epochs=50)"
      ],
      "execution_count": 66,
      "outputs": [
        {
          "output_type": "stream",
          "text": [
            "Train on 11997 samples, validate on 11997 samples\n",
            "Epoch 1/50\n",
            "11997/11997 [==============================] - 4s 350us/sample - loss: 0.0028 - acc: 0.8360 - val_loss: 0.0027 - val_acc: 0.8360\n",
            "Epoch 2/50\n",
            "11997/11997 [==============================] - 4s 352us/sample - loss: 0.0027 - acc: 0.8360 - val_loss: 0.0027 - val_acc: 0.8360\n",
            "Epoch 3/50\n",
            "11997/11997 [==============================] - 4s 334us/sample - loss: 0.0027 - acc: 0.8360 - val_loss: 0.0027 - val_acc: 0.8360\n",
            "Epoch 4/50\n",
            "11997/11997 [==============================] - 4s 348us/sample - loss: 0.0027 - acc: 0.8360 - val_loss: 0.0027 - val_acc: 0.8360\n",
            "Epoch 5/50\n",
            "11997/11997 [==============================] - 4s 343us/sample - loss: 0.0027 - acc: 0.8360 - val_loss: 0.0027 - val_acc: 0.8360\n",
            "Epoch 6/50\n",
            "11997/11997 [==============================] - 4s 329us/sample - loss: 0.0027 - acc: 0.8360 - val_loss: 0.0027 - val_acc: 0.8360\n",
            "Epoch 7/50\n",
            "11997/11997 [==============================] - 4s 339us/sample - loss: 0.0027 - acc: 0.8360 - val_loss: 0.0027 - val_acc: 0.8360\n",
            "Epoch 8/50\n",
            "11997/11997 [==============================] - 4s 338us/sample - loss: 0.0027 - acc: 0.8360 - val_loss: 0.0027 - val_acc: 0.8360\n",
            "Epoch 9/50\n",
            "11997/11997 [==============================] - 4s 345us/sample - loss: 0.0027 - acc: 0.8360 - val_loss: 0.0027 - val_acc: 0.8360\n",
            "Epoch 10/50\n",
            "11997/11997 [==============================] - 4s 351us/sample - loss: 0.0027 - acc: 0.8360 - val_loss: 0.0027 - val_acc: 0.8360\n",
            "Epoch 11/50\n",
            "11997/11997 [==============================] - 4s 332us/sample - loss: 0.0027 - acc: 0.8360 - val_loss: 0.0027 - val_acc: 0.8360\n",
            "Epoch 12/50\n",
            "11997/11997 [==============================] - 4s 339us/sample - loss: 0.0027 - acc: 0.8360 - val_loss: 0.0027 - val_acc: 0.8360\n",
            "Epoch 13/50\n",
            "11997/11997 [==============================] - 4s 340us/sample - loss: 0.0027 - acc: 0.8360 - val_loss: 0.0027 - val_acc: 0.8360\n",
            "Epoch 14/50\n",
            "11997/11997 [==============================] - 4s 329us/sample - loss: 0.0027 - acc: 0.8360 - val_loss: 0.0027 - val_acc: 0.8360\n",
            "Epoch 15/50\n",
            "11997/11997 [==============================] - 4s 330us/sample - loss: 0.0027 - acc: 0.8360 - val_loss: 0.0027 - val_acc: 0.8360\n",
            "Epoch 16/50\n",
            "11997/11997 [==============================] - 4s 340us/sample - loss: 0.0027 - acc: 0.8360 - val_loss: 0.0027 - val_acc: 0.8360\n",
            "Epoch 17/50\n",
            "11997/11997 [==============================] - 4s 344us/sample - loss: 0.0027 - acc: 0.8360 - val_loss: 0.0027 - val_acc: 0.8360\n",
            "Epoch 18/50\n",
            "11997/11997 [==============================] - 4s 337us/sample - loss: 0.0027 - acc: 0.8360 - val_loss: 0.0027 - val_acc: 0.8360\n",
            "Epoch 19/50\n",
            "11997/11997 [==============================] - 4s 329us/sample - loss: 0.0027 - acc: 0.8360 - val_loss: 0.0027 - val_acc: 0.8360\n",
            "Epoch 20/50\n",
            "11997/11997 [==============================] - 4s 336us/sample - loss: 0.0027 - acc: 0.8360 - val_loss: 0.0027 - val_acc: 0.8360\n",
            "Epoch 21/50\n",
            "11997/11997 [==============================] - 4s 336us/sample - loss: 0.0027 - acc: 0.8360 - val_loss: 0.0027 - val_acc: 0.8360\n",
            "Epoch 22/50\n",
            "11997/11997 [==============================] - 4s 327us/sample - loss: 0.0027 - acc: 0.8360 - val_loss: 0.0027 - val_acc: 0.8360\n",
            "Epoch 23/50\n",
            "11997/11997 [==============================] - 4s 331us/sample - loss: 0.0027 - acc: 0.8360 - val_loss: 0.0027 - val_acc: 0.8360\n",
            "Epoch 24/50\n",
            "11997/11997 [==============================] - 4s 330us/sample - loss: 0.0027 - acc: 0.8360 - val_loss: 0.0027 - val_acc: 0.8360\n",
            "Epoch 25/50\n",
            "11997/11997 [==============================] - 4s 342us/sample - loss: 0.0027 - acc: 0.8360 - val_loss: 0.0027 - val_acc: 0.8360\n",
            "Epoch 26/50\n",
            "11997/11997 [==============================] - 4s 343us/sample - loss: 0.0027 - acc: 0.8360 - val_loss: 0.0027 - val_acc: 0.8360\n",
            "Epoch 27/50\n",
            "11997/11997 [==============================] - 4s 342us/sample - loss: 0.0027 - acc: 0.8360 - val_loss: 0.0027 - val_acc: 0.8360\n",
            "Epoch 28/50\n",
            "11997/11997 [==============================] - 4s 350us/sample - loss: 0.0027 - acc: 0.8360 - val_loss: 0.0027 - val_acc: 0.8360\n",
            "Epoch 29/50\n",
            "11997/11997 [==============================] - 4s 345us/sample - loss: 0.0027 - acc: 0.8360 - val_loss: 0.0027 - val_acc: 0.8360\n",
            "Epoch 30/50\n",
            "11997/11997 [==============================] - 4s 345us/sample - loss: 0.0027 - acc: 0.8360 - val_loss: 0.0027 - val_acc: 0.8360\n",
            "Epoch 31/50\n",
            "11997/11997 [==============================] - 4s 345us/sample - loss: 0.0027 - acc: 0.8360 - val_loss: 0.0027 - val_acc: 0.8360\n",
            "Epoch 32/50\n",
            "11997/11997 [==============================] - 4s 344us/sample - loss: 0.0027 - acc: 0.8360 - val_loss: 0.0026 - val_acc: 0.8360\n",
            "Epoch 33/50\n",
            "11997/11997 [==============================] - 4s 341us/sample - loss: 0.0027 - acc: 0.8360 - val_loss: 0.0027 - val_acc: 0.8360\n",
            "Epoch 34/50\n",
            "11997/11997 [==============================] - 4s 336us/sample - loss: 0.0027 - acc: 0.8360 - val_loss: 0.0026 - val_acc: 0.8360\n",
            "Epoch 35/50\n",
            "11997/11997 [==============================] - 4s 340us/sample - loss: 0.0027 - acc: 0.8360 - val_loss: 0.0026 - val_acc: 0.8360\n",
            "Epoch 36/50\n",
            "11997/11997 [==============================] - 4s 333us/sample - loss: 0.0027 - acc: 0.8360 - val_loss: 0.0026 - val_acc: 0.8360\n",
            "Epoch 37/50\n",
            "11997/11997 [==============================] - 4s 338us/sample - loss: 0.0027 - acc: 0.8360 - val_loss: 0.0027 - val_acc: 0.8360\n",
            "Epoch 38/50\n",
            "11997/11997 [==============================] - 4s 354us/sample - loss: 0.0027 - acc: 0.8360 - val_loss: 0.0027 - val_acc: 0.8360\n",
            "Epoch 39/50\n",
            "11997/11997 [==============================] - 4s 348us/sample - loss: 0.0027 - acc: 0.8360 - val_loss: 0.0027 - val_acc: 0.8360\n",
            "Epoch 40/50\n",
            "11997/11997 [==============================] - 4s 339us/sample - loss: 0.0027 - acc: 0.8360 - val_loss: 0.0026 - val_acc: 0.8360\n",
            "Epoch 41/50\n",
            "11997/11997 [==============================] - 4s 336us/sample - loss: 0.0027 - acc: 0.8360 - val_loss: 0.0026 - val_acc: 0.8360\n",
            "Epoch 42/50\n",
            "11997/11997 [==============================] - 4s 345us/sample - loss: 0.0027 - acc: 0.8360 - val_loss: 0.0027 - val_acc: 0.8360\n",
            "Epoch 43/50\n",
            "11997/11997 [==============================] - 4s 340us/sample - loss: 0.0027 - acc: 0.8360 - val_loss: 0.0027 - val_acc: 0.8360\n",
            "Epoch 44/50\n",
            "11997/11997 [==============================] - 4s 338us/sample - loss: 0.0027 - acc: 0.8360 - val_loss: 0.0026 - val_acc: 0.8360\n",
            "Epoch 45/50\n",
            "11997/11997 [==============================] - 4s 347us/sample - loss: 0.0027 - acc: 0.8360 - val_loss: 0.0026 - val_acc: 0.8360\n",
            "Epoch 46/50\n",
            "11997/11997 [==============================] - 4s 358us/sample - loss: 0.0027 - acc: 0.8360 - val_loss: 0.0026 - val_acc: 0.8360\n",
            "Epoch 47/50\n",
            "11997/11997 [==============================] - 4s 341us/sample - loss: 0.0026 - acc: 0.8360 - val_loss: 0.0026 - val_acc: 0.8360\n",
            "Epoch 48/50\n",
            "11997/11997 [==============================] - 4s 344us/sample - loss: 0.0027 - acc: 0.8360 - val_loss: 0.0026 - val_acc: 0.8360\n",
            "Epoch 49/50\n",
            "11997/11997 [==============================] - 4s 343us/sample - loss: 0.0026 - acc: 0.8360 - val_loss: 0.0027 - val_acc: 0.8360\n",
            "Epoch 50/50\n",
            "11997/11997 [==============================] - 4s 334us/sample - loss: 0.0027 - acc: 0.8360 - val_loss: 0.0026 - val_acc: 0.8360\n"
          ],
          "name": "stdout"
        },
        {
          "output_type": "execute_result",
          "data": {
            "text/plain": [
              "<tensorflow.python.keras.callbacks.History at 0x7f5635d5c400>"
            ]
          },
          "metadata": {
            "tags": []
          },
          "execution_count": 66
        }
      ]
    },
    {
      "cell_type": "code",
      "metadata": {
        "id": "BsI-w74FH36K",
        "colab_type": "code",
        "colab": {
          "base_uri": "https://localhost:8080/",
          "height": 50
        },
        "outputId": "f4d6618f-4e2a-4fba-d4e0-a6ae2a9fc378"
      },
      "source": [
        "ypred = model.predict(X4)\n",
        "s=pd.DataFrame(ypred)\n",
        "s1=pd.DataFrame(y4)\n",
        "s1.corrwith(s, axis = 0) "
      ],
      "execution_count": 67,
      "outputs": [
        {
          "output_type": "execute_result",
          "data": {
            "text/plain": [
              "0    0.347535\n",
              "dtype: float64"
            ]
          },
          "metadata": {
            "tags": []
          },
          "execution_count": 67
        }
      ]
    },
    {
      "cell_type": "code",
      "metadata": {
        "id": "BppViBEjJI1p",
        "colab_type": "code",
        "colab": {
          "base_uri": "https://localhost:8080/",
          "height": 50
        },
        "outputId": "a3bc03bc-bda2-445d-d220-84355801c12e"
      },
      "source": [
        "ypred1=model.predict(X_test4)\n",
        "s=pd.DataFrame(ypred1)\n",
        "s1=pd.DataFrame(y_test4)\n",
        "s1.corrwith(s,axis=0)"
      ],
      "execution_count": 68,
      "outputs": [
        {
          "output_type": "execute_result",
          "data": {
            "text/plain": [
              "0    0.347535\n",
              "dtype: float64"
            ]
          },
          "metadata": {
            "tags": []
          },
          "execution_count": 68
        }
      ]
    },
    {
      "cell_type": "code",
      "metadata": {
        "id": "o7U3xQIlMU7j",
        "colab_type": "code",
        "colab": {
          "base_uri": "https://localhost:8080/",
          "height": 34
        },
        "outputId": "66f7f9bc-4727-4a39-d6b0-3b9a6710ac05"
      },
      "source": [
        "r2_score(y4,ypred)"
      ],
      "execution_count": 69,
      "outputs": [
        {
          "output_type": "execute_result",
          "data": {
            "text/plain": [
              "0.11786990651541196"
            ]
          },
          "metadata": {
            "tags": []
          },
          "execution_count": 69
        }
      ]
    },
    {
      "cell_type": "code",
      "metadata": {
        "id": "te0hYyPUMXwG",
        "colab_type": "code",
        "colab": {
          "base_uri": "https://localhost:8080/",
          "height": 34
        },
        "outputId": "9385b825-d9ac-40d2-9b86-e59019407bc0"
      },
      "source": [
        "r2_score(y_test4,ypred1)"
      ],
      "execution_count": 70,
      "outputs": [
        {
          "output_type": "execute_result",
          "data": {
            "text/plain": [
              "0.11786990651541196"
            ]
          },
          "metadata": {
            "tags": []
          },
          "execution_count": 70
        }
      ]
    },
    {
      "cell_type": "code",
      "metadata": {
        "id": "Pwz3PEtJtNcq",
        "colab_type": "code",
        "outputId": "14a1b810-b302-4770-d157-ecfe381112aa",
        "colab": {
          "base_uri": "https://localhost:8080/",
          "height": 1000
        }
      },
      "source": [
        "model.fit(X5, y5, validation_data=(X_test5,y_test5),epochs=50)"
      ],
      "execution_count": 71,
      "outputs": [
        {
          "output_type": "stream",
          "text": [
            "Train on 11997 samples, validate on 11997 samples\n",
            "Epoch 1/50\n",
            "11997/11997 [==============================] - 4s 333us/sample - loss: 0.0018 - acc: 0.8467 - val_loss: 0.0018 - val_acc: 0.8467\n",
            "Epoch 2/50\n",
            "11997/11997 [==============================] - 4s 338us/sample - loss: 0.0018 - acc: 0.8467 - val_loss: 0.0018 - val_acc: 0.8467\n",
            "Epoch 3/50\n",
            "11997/11997 [==============================] - 4s 326us/sample - loss: 0.0018 - acc: 0.8467 - val_loss: 0.0018 - val_acc: 0.8467\n",
            "Epoch 4/50\n",
            "11997/11997 [==============================] - 4s 346us/sample - loss: 0.0018 - acc: 0.8467 - val_loss: 0.0017 - val_acc: 0.8467\n",
            "Epoch 5/50\n",
            "11997/11997 [==============================] - 4s 332us/sample - loss: 0.0018 - acc: 0.8467 - val_loss: 0.0017 - val_acc: 0.8467\n",
            "Epoch 6/50\n",
            "11997/11997 [==============================] - 4s 340us/sample - loss: 0.0018 - acc: 0.8467 - val_loss: 0.0017 - val_acc: 0.8467\n",
            "Epoch 7/50\n",
            "11997/11997 [==============================] - 4s 342us/sample - loss: 0.0018 - acc: 0.8467 - val_loss: 0.0017 - val_acc: 0.8467\n",
            "Epoch 8/50\n",
            "11997/11997 [==============================] - 4s 343us/sample - loss: 0.0017 - acc: 0.8467 - val_loss: 0.0018 - val_acc: 0.8467\n",
            "Epoch 9/50\n",
            "11997/11997 [==============================] - 4s 337us/sample - loss: 0.0018 - acc: 0.8467 - val_loss: 0.0018 - val_acc: 0.8467\n",
            "Epoch 10/50\n",
            "11997/11997 [==============================] - 4s 340us/sample - loss: 0.0018 - acc: 0.8467 - val_loss: 0.0017 - val_acc: 0.8467\n",
            "Epoch 11/50\n",
            "11997/11997 [==============================] - 4s 351us/sample - loss: 0.0017 - acc: 0.8467 - val_loss: 0.0018 - val_acc: 0.8467\n",
            "Epoch 12/50\n",
            "11997/11997 [==============================] - 4s 343us/sample - loss: 0.0017 - acc: 0.8467 - val_loss: 0.0017 - val_acc: 0.8467\n",
            "Epoch 13/50\n",
            "11997/11997 [==============================] - 4s 337us/sample - loss: 0.0017 - acc: 0.8467 - val_loss: 0.0017 - val_acc: 0.8467\n",
            "Epoch 14/50\n",
            "11997/11997 [==============================] - 4s 341us/sample - loss: 0.0017 - acc: 0.8467 - val_loss: 0.0018 - val_acc: 0.8467\n",
            "Epoch 15/50\n",
            "11997/11997 [==============================] - 4s 343us/sample - loss: 0.0017 - acc: 0.8467 - val_loss: 0.0017 - val_acc: 0.8467\n",
            "Epoch 16/50\n",
            "11997/11997 [==============================] - 4s 345us/sample - loss: 0.0017 - acc: 0.8467 - val_loss: 0.0017 - val_acc: 0.8467\n",
            "Epoch 17/50\n",
            "11997/11997 [==============================] - 4s 338us/sample - loss: 0.0017 - acc: 0.8467 - val_loss: 0.0017 - val_acc: 0.8467\n",
            "Epoch 18/50\n",
            "11997/11997 [==============================] - 4s 336us/sample - loss: 0.0017 - acc: 0.8467 - val_loss: 0.0017 - val_acc: 0.8467\n",
            "Epoch 19/50\n",
            "11997/11997 [==============================] - 4s 344us/sample - loss: 0.0017 - acc: 0.8467 - val_loss: 0.0017 - val_acc: 0.8467\n",
            "Epoch 20/50\n",
            "11997/11997 [==============================] - 4s 338us/sample - loss: 0.0017 - acc: 0.8467 - val_loss: 0.0017 - val_acc: 0.8467\n",
            "Epoch 21/50\n",
            "11997/11997 [==============================] - 4s 344us/sample - loss: 0.0017 - acc: 0.8467 - val_loss: 0.0018 - val_acc: 0.8467\n",
            "Epoch 22/50\n",
            "11997/11997 [==============================] - 4s 360us/sample - loss: 0.0017 - acc: 0.8467 - val_loss: 0.0017 - val_acc: 0.8467\n",
            "Epoch 23/50\n",
            "11997/11997 [==============================] - 4s 350us/sample - loss: 0.0017 - acc: 0.8467 - val_loss: 0.0017 - val_acc: 0.8467\n",
            "Epoch 24/50\n",
            "11997/11997 [==============================] - 4s 340us/sample - loss: 0.0017 - acc: 0.8467 - val_loss: 0.0018 - val_acc: 0.8467\n",
            "Epoch 25/50\n",
            "11997/11997 [==============================] - 4s 339us/sample - loss: 0.0017 - acc: 0.8467 - val_loss: 0.0017 - val_acc: 0.8467\n",
            "Epoch 26/50\n",
            "11997/11997 [==============================] - 4s 347us/sample - loss: 0.0017 - acc: 0.8467 - val_loss: 0.0017 - val_acc: 0.8467\n",
            "Epoch 27/50\n",
            "11997/11997 [==============================] - 4s 346us/sample - loss: 0.0017 - acc: 0.8467 - val_loss: 0.0017 - val_acc: 0.8467\n",
            "Epoch 28/50\n",
            "11997/11997 [==============================] - 4s 364us/sample - loss: 0.0017 - acc: 0.8467 - val_loss: 0.0017 - val_acc: 0.8467\n",
            "Epoch 29/50\n",
            "11997/11997 [==============================] - 4s 338us/sample - loss: 0.0017 - acc: 0.8467 - val_loss: 0.0017 - val_acc: 0.8467\n",
            "Epoch 30/50\n",
            "11997/11997 [==============================] - 4s 347us/sample - loss: 0.0017 - acc: 0.8467 - val_loss: 0.0017 - val_acc: 0.8467\n",
            "Epoch 31/50\n",
            "11997/11997 [==============================] - 4s 344us/sample - loss: 0.0017 - acc: 0.8467 - val_loss: 0.0017 - val_acc: 0.8467\n",
            "Epoch 32/50\n",
            "11997/11997 [==============================] - 4s 342us/sample - loss: 0.0017 - acc: 0.8467 - val_loss: 0.0017 - val_acc: 0.8467\n",
            "Epoch 33/50\n",
            "11997/11997 [==============================] - 4s 350us/sample - loss: 0.0017 - acc: 0.8467 - val_loss: 0.0017 - val_acc: 0.8467\n",
            "Epoch 34/50\n",
            "11997/11997 [==============================] - 4s 342us/sample - loss: 0.0017 - acc: 0.8467 - val_loss: 0.0017 - val_acc: 0.8467\n",
            "Epoch 35/50\n",
            "11997/11997 [==============================] - 4s 341us/sample - loss: 0.0017 - acc: 0.8467 - val_loss: 0.0017 - val_acc: 0.8467\n",
            "Epoch 36/50\n",
            "11997/11997 [==============================] - 4s 328us/sample - loss: 0.0017 - acc: 0.8467 - val_loss: 0.0017 - val_acc: 0.8467\n",
            "Epoch 37/50\n",
            "11997/11997 [==============================] - 4s 336us/sample - loss: 0.0017 - acc: 0.8467 - val_loss: 0.0018 - val_acc: 0.8467\n",
            "Epoch 38/50\n",
            "11997/11997 [==============================] - 4s 350us/sample - loss: 0.0017 - acc: 0.8467 - val_loss: 0.0017 - val_acc: 0.8467\n",
            "Epoch 39/50\n",
            "11997/11997 [==============================] - 4s 345us/sample - loss: 0.0017 - acc: 0.8467 - val_loss: 0.0017 - val_acc: 0.8467\n",
            "Epoch 40/50\n",
            "11997/11997 [==============================] - 4s 346us/sample - loss: 0.0017 - acc: 0.8467 - val_loss: 0.0017 - val_acc: 0.8467\n",
            "Epoch 41/50\n",
            "11997/11997 [==============================] - 4s 342us/sample - loss: 0.0017 - acc: 0.8467 - val_loss: 0.0017 - val_acc: 0.8467\n",
            "Epoch 42/50\n",
            "11997/11997 [==============================] - 4s 349us/sample - loss: 0.0017 - acc: 0.8467 - val_loss: 0.0017 - val_acc: 0.8467\n",
            "Epoch 43/50\n",
            "11997/11997 [==============================] - 4s 334us/sample - loss: 0.0017 - acc: 0.8467 - val_loss: 0.0017 - val_acc: 0.8467\n",
            "Epoch 44/50\n",
            "11997/11997 [==============================] - 4s 324us/sample - loss: 0.0017 - acc: 0.8467 - val_loss: 0.0017 - val_acc: 0.8467\n",
            "Epoch 45/50\n",
            "11997/11997 [==============================] - 4s 330us/sample - loss: 0.0017 - acc: 0.8467 - val_loss: 0.0017 - val_acc: 0.8467\n",
            "Epoch 46/50\n",
            "11997/11997 [==============================] - 4s 339us/sample - loss: 0.0017 - acc: 0.8467 - val_loss: 0.0017 - val_acc: 0.8467\n",
            "Epoch 47/50\n",
            "11997/11997 [==============================] - 4s 343us/sample - loss: 0.0017 - acc: 0.8467 - val_loss: 0.0017 - val_acc: 0.8467\n",
            "Epoch 48/50\n",
            "11997/11997 [==============================] - 4s 341us/sample - loss: 0.0017 - acc: 0.8467 - val_loss: 0.0017 - val_acc: 0.8467\n",
            "Epoch 49/50\n",
            "11997/11997 [==============================] - 4s 327us/sample - loss: 0.0017 - acc: 0.8467 - val_loss: 0.0018 - val_acc: 0.8467\n",
            "Epoch 50/50\n",
            "11997/11997 [==============================] - 4s 328us/sample - loss: 0.0017 - acc: 0.8467 - val_loss: 0.0017 - val_acc: 0.8467\n"
          ],
          "name": "stdout"
        },
        {
          "output_type": "execute_result",
          "data": {
            "text/plain": [
              "<tensorflow.python.keras.callbacks.History at 0x7f5636dd0128>"
            ]
          },
          "metadata": {
            "tags": []
          },
          "execution_count": 71
        }
      ]
    },
    {
      "cell_type": "code",
      "metadata": {
        "id": "jK30TTmsH5Xa",
        "colab_type": "code",
        "colab": {
          "base_uri": "https://localhost:8080/",
          "height": 50
        },
        "outputId": "d95a80b7-759c-4708-9cd3-1788da668adc"
      },
      "source": [
        "ypred = model.predict(X5)\n",
        "s=pd.DataFrame(ypred)\n",
        "s1=pd.DataFrame(y5)\n",
        "s1.corrwith(s, axis = 0) "
      ],
      "execution_count": 72,
      "outputs": [
        {
          "output_type": "execute_result",
          "data": {
            "text/plain": [
              "0    0.267493\n",
              "dtype: float64"
            ]
          },
          "metadata": {
            "tags": []
          },
          "execution_count": 72
        }
      ]
    },
    {
      "cell_type": "code",
      "metadata": {
        "id": "ELbd5s3jML2y",
        "colab_type": "code",
        "colab": {
          "base_uri": "https://localhost:8080/",
          "height": 34
        },
        "outputId": "ae10c267-ad57-4cd0-997f-7f8f61f925b7"
      },
      "source": [
        "r2_score(y5,ypred)"
      ],
      "execution_count": 73,
      "outputs": [
        {
          "output_type": "execute_result",
          "data": {
            "text/plain": [
              "0.06929119672084261"
            ]
          },
          "metadata": {
            "tags": []
          },
          "execution_count": 73
        }
      ]
    },
    {
      "cell_type": "code",
      "metadata": {
        "id": "ixBEfQXVJKU4",
        "colab_type": "code",
        "colab": {
          "base_uri": "https://localhost:8080/",
          "height": 50
        },
        "outputId": "a47adc34-6101-4fe7-c8a9-546e28b272a5"
      },
      "source": [
        "ypred1=model.predict(X_test5)\n",
        "s=pd.DataFrame(ypred1)\n",
        "s1=pd.DataFrame(y_test5)\n",
        "s1.corrwith(s,axis=0)"
      ],
      "execution_count": 74,
      "outputs": [
        {
          "output_type": "execute_result",
          "data": {
            "text/plain": [
              "0    0.267493\n",
              "dtype: float64"
            ]
          },
          "metadata": {
            "tags": []
          },
          "execution_count": 74
        }
      ]
    },
    {
      "cell_type": "code",
      "metadata": {
        "id": "70Aaq_luMOxY",
        "colab_type": "code",
        "colab": {
          "base_uri": "https://localhost:8080/",
          "height": 34
        },
        "outputId": "ae05f6c3-68ce-4a61-cf2b-c84515f6f3af"
      },
      "source": [
        "r2_score(y_test5,ypred1)"
      ],
      "execution_count": 75,
      "outputs": [
        {
          "output_type": "execute_result",
          "data": {
            "text/plain": [
              "0.06929119672084261"
            ]
          },
          "metadata": {
            "tags": []
          },
          "execution_count": 75
        }
      ]
    },
    {
      "cell_type": "code",
      "metadata": {
        "id": "mJL5gGhXtNqT",
        "colab_type": "code",
        "outputId": "fe193d38-ba0a-4029-9817-bc2609e8b1cc",
        "colab": {
          "base_uri": "https://localhost:8080/",
          "height": 1000
        }
      },
      "source": [
        "model.fit(X6, y6, validation_data=(X_test6,y_test6),epochs=50)"
      ],
      "execution_count": 76,
      "outputs": [
        {
          "output_type": "stream",
          "text": [
            "Train on 11997 samples, validate on 11997 samples\n",
            "Epoch 1/50\n",
            "11997/11997 [==============================] - 4s 333us/sample - loss: 0.0031 - acc: 0.8141 - val_loss: 0.0031 - val_acc: 0.8141\n",
            "Epoch 2/50\n",
            "11997/11997 [==============================] - 4s 342us/sample - loss: 0.0031 - acc: 0.8141 - val_loss: 0.0030 - val_acc: 0.8141\n",
            "Epoch 3/50\n",
            "11997/11997 [==============================] - 4s 364us/sample - loss: 0.0031 - acc: 0.8141 - val_loss: 0.0030 - val_acc: 0.8141\n",
            "Epoch 4/50\n",
            "11997/11997 [==============================] - 4s 342us/sample - loss: 0.0030 - acc: 0.8141 - val_loss: 0.0030 - val_acc: 0.8141\n",
            "Epoch 5/50\n",
            "11997/11997 [==============================] - 4s 336us/sample - loss: 0.0030 - acc: 0.8141 - val_loss: 0.0030 - val_acc: 0.8141\n",
            "Epoch 6/50\n",
            "11997/11997 [==============================] - 4s 332us/sample - loss: 0.0030 - acc: 0.8141 - val_loss: 0.0030 - val_acc: 0.8141\n",
            "Epoch 7/50\n",
            "11997/11997 [==============================] - 4s 332us/sample - loss: 0.0030 - acc: 0.8141 - val_loss: 0.0030 - val_acc: 0.8141\n",
            "Epoch 8/50\n",
            "11997/11997 [==============================] - 4s 332us/sample - loss: 0.0030 - acc: 0.8141 - val_loss: 0.0030 - val_acc: 0.8141\n",
            "Epoch 9/50\n",
            "11997/11997 [==============================] - 4s 337us/sample - loss: 0.0030 - acc: 0.8141 - val_loss: 0.0030 - val_acc: 0.8141\n",
            "Epoch 10/50\n",
            "11997/11997 [==============================] - 4s 345us/sample - loss: 0.0030 - acc: 0.8141 - val_loss: 0.0030 - val_acc: 0.8141\n",
            "Epoch 11/50\n",
            "11997/11997 [==============================] - 4s 349us/sample - loss: 0.0030 - acc: 0.8141 - val_loss: 0.0030 - val_acc: 0.8141\n",
            "Epoch 12/50\n",
            "11997/11997 [==============================] - 4s 331us/sample - loss: 0.0030 - acc: 0.8141 - val_loss: 0.0030 - val_acc: 0.8141\n",
            "Epoch 13/50\n",
            "11997/11997 [==============================] - 4s 338us/sample - loss: 0.0030 - acc: 0.8141 - val_loss: 0.0030 - val_acc: 0.8141\n",
            "Epoch 14/50\n",
            "11997/11997 [==============================] - 4s 334us/sample - loss: 0.0030 - acc: 0.8141 - val_loss: 0.0030 - val_acc: 0.8141\n",
            "Epoch 15/50\n",
            "11997/11997 [==============================] - 4s 341us/sample - loss: 0.0030 - acc: 0.8141 - val_loss: 0.0030 - val_acc: 0.8141\n",
            "Epoch 16/50\n",
            "11997/11997 [==============================] - 4s 334us/sample - loss: 0.0030 - acc: 0.8141 - val_loss: 0.0030 - val_acc: 0.8141\n",
            "Epoch 17/50\n",
            "11997/11997 [==============================] - 4s 341us/sample - loss: 0.0030 - acc: 0.8141 - val_loss: 0.0030 - val_acc: 0.8141\n",
            "Epoch 18/50\n",
            "11997/11997 [==============================] - 4s 346us/sample - loss: 0.0030 - acc: 0.8141 - val_loss: 0.0030 - val_acc: 0.8141\n",
            "Epoch 19/50\n",
            "11997/11997 [==============================] - 4s 340us/sample - loss: 0.0030 - acc: 0.8141 - val_loss: 0.0030 - val_acc: 0.8141\n",
            "Epoch 20/50\n",
            "11997/11997 [==============================] - 4s 345us/sample - loss: 0.0030 - acc: 0.8141 - val_loss: 0.0030 - val_acc: 0.8141\n",
            "Epoch 21/50\n",
            "11997/11997 [==============================] - 4s 328us/sample - loss: 0.0030 - acc: 0.8141 - val_loss: 0.0030 - val_acc: 0.8141\n",
            "Epoch 22/50\n",
            "11997/11997 [==============================] - 4s 351us/sample - loss: 0.0030 - acc: 0.8141 - val_loss: 0.0030 - val_acc: 0.8141\n",
            "Epoch 23/50\n",
            "11997/11997 [==============================] - 4s 345us/sample - loss: 0.0030 - acc: 0.8141 - val_loss: 0.0030 - val_acc: 0.8141\n",
            "Epoch 24/50\n",
            "11997/11997 [==============================] - 4s 338us/sample - loss: 0.0030 - acc: 0.8141 - val_loss: 0.0030 - val_acc: 0.8141\n",
            "Epoch 25/50\n",
            "11997/11997 [==============================] - 4s 348us/sample - loss: 0.0030 - acc: 0.8141 - val_loss: 0.0030 - val_acc: 0.8141\n",
            "Epoch 26/50\n",
            "11997/11997 [==============================] - 4s 343us/sample - loss: 0.0030 - acc: 0.8141 - val_loss: 0.0030 - val_acc: 0.8141\n",
            "Epoch 27/50\n",
            "11997/11997 [==============================] - 4s 343us/sample - loss: 0.0030 - acc: 0.8141 - val_loss: 0.0030 - val_acc: 0.8141\n",
            "Epoch 28/50\n",
            "11997/11997 [==============================] - 4s 335us/sample - loss: 0.0030 - acc: 0.8141 - val_loss: 0.0030 - val_acc: 0.8141\n",
            "Epoch 29/50\n",
            "11997/11997 [==============================] - 4s 346us/sample - loss: 0.0030 - acc: 0.8141 - val_loss: 0.0030 - val_acc: 0.8141\n",
            "Epoch 30/50\n",
            "11997/11997 [==============================] - 4s 336us/sample - loss: 0.0030 - acc: 0.8141 - val_loss: 0.0030 - val_acc: 0.8141\n",
            "Epoch 31/50\n",
            "11997/11997 [==============================] - 4s 327us/sample - loss: 0.0030 - acc: 0.8141 - val_loss: 0.0030 - val_acc: 0.8141\n",
            "Epoch 32/50\n",
            "11997/11997 [==============================] - 4s 328us/sample - loss: 0.0030 - acc: 0.8141 - val_loss: 0.0030 - val_acc: 0.8141\n",
            "Epoch 33/50\n",
            "11997/11997 [==============================] - 4s 336us/sample - loss: 0.0030 - acc: 0.8141 - val_loss: 0.0030 - val_acc: 0.8141\n",
            "Epoch 34/50\n",
            "11997/11997 [==============================] - 4s 345us/sample - loss: 0.0030 - acc: 0.8141 - val_loss: 0.0030 - val_acc: 0.8141\n",
            "Epoch 35/50\n",
            "11997/11997 [==============================] - 4s 341us/sample - loss: 0.0030 - acc: 0.8141 - val_loss: 0.0030 - val_acc: 0.8141\n",
            "Epoch 36/50\n",
            "11997/11997 [==============================] - 4s 336us/sample - loss: 0.0030 - acc: 0.8141 - val_loss: 0.0030 - val_acc: 0.8141\n",
            "Epoch 37/50\n",
            "11997/11997 [==============================] - 4s 337us/sample - loss: 0.0030 - acc: 0.8141 - val_loss: 0.0030 - val_acc: 0.8141\n",
            "Epoch 38/50\n",
            "11997/11997 [==============================] - 4s 342us/sample - loss: 0.0030 - acc: 0.8141 - val_loss: 0.0030 - val_acc: 0.8141\n",
            "Epoch 39/50\n",
            "11997/11997 [==============================] - 4s 336us/sample - loss: 0.0030 - acc: 0.8141 - val_loss: 0.0030 - val_acc: 0.8141\n",
            "Epoch 40/50\n",
            "11997/11997 [==============================] - 4s 347us/sample - loss: 0.0030 - acc: 0.8141 - val_loss: 0.0030 - val_acc: 0.8141\n",
            "Epoch 41/50\n",
            "11997/11997 [==============================] - 4s 352us/sample - loss: 0.0030 - acc: 0.8141 - val_loss: 0.0030 - val_acc: 0.8141\n",
            "Epoch 42/50\n",
            "11997/11997 [==============================] - 4s 343us/sample - loss: 0.0030 - acc: 0.8141 - val_loss: 0.0030 - val_acc: 0.8141\n",
            "Epoch 43/50\n",
            "11997/11997 [==============================] - 4s 337us/sample - loss: 0.0030 - acc: 0.8141 - val_loss: 0.0030 - val_acc: 0.8141\n",
            "Epoch 44/50\n",
            "11997/11997 [==============================] - 4s 331us/sample - loss: 0.0030 - acc: 0.8141 - val_loss: 0.0030 - val_acc: 0.8141\n",
            "Epoch 45/50\n",
            "11997/11997 [==============================] - 4s 336us/sample - loss: 0.0030 - acc: 0.8141 - val_loss: 0.0030 - val_acc: 0.8141\n",
            "Epoch 46/50\n",
            "11997/11997 [==============================] - 4s 341us/sample - loss: 0.0030 - acc: 0.8141 - val_loss: 0.0030 - val_acc: 0.8141\n",
            "Epoch 47/50\n",
            "11997/11997 [==============================] - 4s 344us/sample - loss: 0.0030 - acc: 0.8141 - val_loss: 0.0030 - val_acc: 0.8141\n",
            "Epoch 48/50\n",
            "11997/11997 [==============================] - 4s 344us/sample - loss: 0.0030 - acc: 0.8141 - val_loss: 0.0030 - val_acc: 0.8141\n",
            "Epoch 49/50\n",
            "11997/11997 [==============================] - 4s 348us/sample - loss: 0.0030 - acc: 0.8141 - val_loss: 0.0030 - val_acc: 0.8141\n",
            "Epoch 50/50\n",
            "11997/11997 [==============================] - 4s 339us/sample - loss: 0.0030 - acc: 0.8141 - val_loss: 0.0030 - val_acc: 0.8141\n"
          ],
          "name": "stdout"
        },
        {
          "output_type": "execute_result",
          "data": {
            "text/plain": [
              "<tensorflow.python.keras.callbacks.History at 0x7f563716d588>"
            ]
          },
          "metadata": {
            "tags": []
          },
          "execution_count": 76
        }
      ]
    },
    {
      "cell_type": "code",
      "metadata": {
        "id": "jtgC2LPgH7Gj",
        "colab_type": "code",
        "colab": {
          "base_uri": "https://localhost:8080/",
          "height": 50
        },
        "outputId": "a44b6bec-8807-43d4-b951-ddb0cbb0df08"
      },
      "source": [
        "ypred = model.predict(X6)\n",
        "s=pd.DataFrame(ypred)\n",
        "s1=pd.DataFrame(y6)\n",
        "s1.corrwith(s, axis = 0) "
      ],
      "execution_count": 77,
      "outputs": [
        {
          "output_type": "execute_result",
          "data": {
            "text/plain": [
              "0    0.350296\n",
              "dtype: float64"
            ]
          },
          "metadata": {
            "tags": []
          },
          "execution_count": 77
        }
      ]
    },
    {
      "cell_type": "code",
      "metadata": {
        "id": "0pz7S13uMF-1",
        "colab_type": "code",
        "colab": {
          "base_uri": "https://localhost:8080/",
          "height": 34
        },
        "outputId": "fab89bfd-d679-4d4a-f8dd-ebffd9eb2c90"
      },
      "source": [
        "r2_score(y6,ypred)"
      ],
      "execution_count": 78,
      "outputs": [
        {
          "output_type": "execute_result",
          "data": {
            "text/plain": [
              "0.12241405801586502"
            ]
          },
          "metadata": {
            "tags": []
          },
          "execution_count": 78
        }
      ]
    },
    {
      "cell_type": "code",
      "metadata": {
        "id": "YnWGLzXNJMYO",
        "colab_type": "code",
        "colab": {
          "base_uri": "https://localhost:8080/",
          "height": 50
        },
        "outputId": "19b9feb5-ee1e-4fad-d598-c71df46143c0"
      },
      "source": [
        "ypred1=model.predict(X_test6)\n",
        "s=pd.DataFrame(ypred1)\n",
        "s1=pd.DataFrame(y_test6)\n",
        "s1.corrwith(s,axis=0)"
      ],
      "execution_count": 79,
      "outputs": [
        {
          "output_type": "execute_result",
          "data": {
            "text/plain": [
              "0    0.350296\n",
              "dtype: float64"
            ]
          },
          "metadata": {
            "tags": []
          },
          "execution_count": 79
        }
      ]
    },
    {
      "cell_type": "code",
      "metadata": {
        "id": "vHt09FiPMHsf",
        "colab_type": "code",
        "colab": {
          "base_uri": "https://localhost:8080/",
          "height": 34
        },
        "outputId": "dff79a2b-1125-4e73-f771-48b1aed484d6"
      },
      "source": [
        "r2_score(y_test6,ypred1)"
      ],
      "execution_count": 80,
      "outputs": [
        {
          "output_type": "execute_result",
          "data": {
            "text/plain": [
              "0.12241405801586502"
            ]
          },
          "metadata": {
            "tags": []
          },
          "execution_count": 80
        }
      ]
    },
    {
      "cell_type": "code",
      "metadata": {
        "id": "GMeE8OZ5tN17",
        "colab_type": "code",
        "outputId": "59358a8a-25e4-46a6-a13d-738d8cbf0756",
        "colab": {
          "base_uri": "https://localhost:8080/",
          "height": 1000
        }
      },
      "source": [
        "model.fit(X7, y7, validation_data=(X_test7,y_test7),epochs=50)"
      ],
      "execution_count": 81,
      "outputs": [
        {
          "output_type": "stream",
          "text": [
            "Train on 11997 samples, validate on 11997 samples\n",
            "Epoch 1/50\n",
            "11997/11997 [==============================] - 4s 345us/sample - loss: 0.0035 - acc: 0.8333 - val_loss: 0.0034 - val_acc: 0.8333\n",
            "Epoch 2/50\n",
            "11997/11997 [==============================] - 4s 329us/sample - loss: 0.0034 - acc: 0.8333 - val_loss: 0.0034 - val_acc: 0.8333\n",
            "Epoch 3/50\n",
            "11997/11997 [==============================] - 4s 337us/sample - loss: 0.0034 - acc: 0.8333 - val_loss: 0.0034 - val_acc: 0.8333\n",
            "Epoch 4/50\n",
            "11997/11997 [==============================] - 4s 334us/sample - loss: 0.0034 - acc: 0.8333 - val_loss: 0.0034 - val_acc: 0.8333\n",
            "Epoch 5/50\n",
            "11997/11997 [==============================] - 4s 351us/sample - loss: 0.0034 - acc: 0.8333 - val_loss: 0.0034 - val_acc: 0.8333\n",
            "Epoch 6/50\n",
            "11997/11997 [==============================] - 4s 347us/sample - loss: 0.0034 - acc: 0.8333 - val_loss: 0.0034 - val_acc: 0.8333\n",
            "Epoch 7/50\n",
            "11997/11997 [==============================] - 4s 339us/sample - loss: 0.0034 - acc: 0.8333 - val_loss: 0.0034 - val_acc: 0.8333\n",
            "Epoch 8/50\n",
            "11997/11997 [==============================] - 4s 337us/sample - loss: 0.0034 - acc: 0.8333 - val_loss: 0.0034 - val_acc: 0.8333\n",
            "Epoch 9/50\n",
            "11997/11997 [==============================] - 4s 333us/sample - loss: 0.0034 - acc: 0.8333 - val_loss: 0.0034 - val_acc: 0.8333\n",
            "Epoch 10/50\n",
            "11997/11997 [==============================] - 4s 334us/sample - loss: 0.0034 - acc: 0.8333 - val_loss: 0.0033 - val_acc: 0.8333\n",
            "Epoch 11/50\n",
            "11997/11997 [==============================] - 4s 337us/sample - loss: 0.0034 - acc: 0.8333 - val_loss: 0.0034 - val_acc: 0.8333\n",
            "Epoch 12/50\n",
            "11997/11997 [==============================] - 4s 338us/sample - loss: 0.0034 - acc: 0.8333 - val_loss: 0.0033 - val_acc: 0.8333\n",
            "Epoch 13/50\n",
            "11997/11997 [==============================] - 4s 337us/sample - loss: 0.0034 - acc: 0.8333 - val_loss: 0.0033 - val_acc: 0.8333\n",
            "Epoch 14/50\n",
            "11997/11997 [==============================] - 4s 350us/sample - loss: 0.0033 - acc: 0.8333 - val_loss: 0.0033 - val_acc: 0.8333\n",
            "Epoch 15/50\n",
            "11997/11997 [==============================] - 4s 338us/sample - loss: 0.0034 - acc: 0.8333 - val_loss: 0.0033 - val_acc: 0.8333\n",
            "Epoch 16/50\n",
            "11997/11997 [==============================] - 4s 341us/sample - loss: 0.0033 - acc: 0.8333 - val_loss: 0.0033 - val_acc: 0.8333\n",
            "Epoch 17/50\n",
            "11997/11997 [==============================] - 4s 341us/sample - loss: 0.0033 - acc: 0.8333 - val_loss: 0.0033 - val_acc: 0.8333\n",
            "Epoch 18/50\n",
            "11997/11997 [==============================] - 4s 343us/sample - loss: 0.0033 - acc: 0.8333 - val_loss: 0.0033 - val_acc: 0.8333\n",
            "Epoch 19/50\n",
            "11997/11997 [==============================] - 4s 347us/sample - loss: 0.0033 - acc: 0.8333 - val_loss: 0.0033 - val_acc: 0.8333\n",
            "Epoch 20/50\n",
            "11997/11997 [==============================] - 4s 343us/sample - loss: 0.0033 - acc: 0.8333 - val_loss: 0.0033 - val_acc: 0.8333\n",
            "Epoch 21/50\n",
            "11997/11997 [==============================] - 4s 345us/sample - loss: 0.0033 - acc: 0.8333 - val_loss: 0.0033 - val_acc: 0.8333\n",
            "Epoch 22/50\n",
            "11997/11997 [==============================] - 4s 339us/sample - loss: 0.0033 - acc: 0.8333 - val_loss: 0.0033 - val_acc: 0.8333\n",
            "Epoch 23/50\n",
            "11997/11997 [==============================] - 4s 338us/sample - loss: 0.0033 - acc: 0.8333 - val_loss: 0.0033 - val_acc: 0.8333\n",
            "Epoch 24/50\n",
            "11997/11997 [==============================] - 4s 321us/sample - loss: 0.0033 - acc: 0.8333 - val_loss: 0.0033 - val_acc: 0.8333\n",
            "Epoch 25/50\n",
            "11997/11997 [==============================] - 4s 338us/sample - loss: 0.0033 - acc: 0.8333 - val_loss: 0.0033 - val_acc: 0.8333\n",
            "Epoch 26/50\n",
            "11997/11997 [==============================] - 4s 342us/sample - loss: 0.0033 - acc: 0.8333 - val_loss: 0.0033 - val_acc: 0.8333\n",
            "Epoch 27/50\n",
            "11997/11997 [==============================] - 4s 345us/sample - loss: 0.0033 - acc: 0.8333 - val_loss: 0.0034 - val_acc: 0.8333\n",
            "Epoch 28/50\n",
            "11997/11997 [==============================] - 4s 344us/sample - loss: 0.0033 - acc: 0.8333 - val_loss: 0.0033 - val_acc: 0.8333\n",
            "Epoch 29/50\n",
            "11997/11997 [==============================] - 4s 343us/sample - loss: 0.0033 - acc: 0.8333 - val_loss: 0.0033 - val_acc: 0.8333\n",
            "Epoch 30/50\n",
            "11997/11997 [==============================] - 4s 343us/sample - loss: 0.0033 - acc: 0.8333 - val_loss: 0.0033 - val_acc: 0.8333\n",
            "Epoch 31/50\n",
            "11997/11997 [==============================] - 4s 336us/sample - loss: 0.0033 - acc: 0.8333 - val_loss: 0.0033 - val_acc: 0.8333\n",
            "Epoch 32/50\n",
            "11997/11997 [==============================] - 4s 344us/sample - loss: 0.0033 - acc: 0.8333 - val_loss: 0.0033 - val_acc: 0.8333\n",
            "Epoch 33/50\n",
            "11997/11997 [==============================] - 4s 337us/sample - loss: 0.0033 - acc: 0.8333 - val_loss: 0.0033 - val_acc: 0.8333\n",
            "Epoch 34/50\n",
            "11997/11997 [==============================] - 4s 341us/sample - loss: 0.0033 - acc: 0.8333 - val_loss: 0.0033 - val_acc: 0.8333\n",
            "Epoch 35/50\n",
            "11997/11997 [==============================] - 4s 348us/sample - loss: 0.0033 - acc: 0.8333 - val_loss: 0.0033 - val_acc: 0.8333\n",
            "Epoch 36/50\n",
            "11997/11997 [==============================] - 4s 334us/sample - loss: 0.0033 - acc: 0.8333 - val_loss: 0.0033 - val_acc: 0.8333\n",
            "Epoch 37/50\n",
            "11997/11997 [==============================] - 4s 337us/sample - loss: 0.0033 - acc: 0.8333 - val_loss: 0.0033 - val_acc: 0.8333\n",
            "Epoch 38/50\n",
            "11997/11997 [==============================] - 4s 336us/sample - loss: 0.0033 - acc: 0.8333 - val_loss: 0.0033 - val_acc: 0.8333\n",
            "Epoch 39/50\n",
            "11997/11997 [==============================] - 4s 342us/sample - loss: 0.0033 - acc: 0.8333 - val_loss: 0.0033 - val_acc: 0.8333\n",
            "Epoch 40/50\n",
            "11997/11997 [==============================] - 4s 333us/sample - loss: 0.0033 - acc: 0.8333 - val_loss: 0.0033 - val_acc: 0.8333\n",
            "Epoch 41/50\n",
            "11997/11997 [==============================] - 4s 341us/sample - loss: 0.0033 - acc: 0.8333 - val_loss: 0.0033 - val_acc: 0.8333\n",
            "Epoch 42/50\n",
            "11997/11997 [==============================] - 4s 339us/sample - loss: 0.0033 - acc: 0.8333 - val_loss: 0.0033 - val_acc: 0.8333\n",
            "Epoch 43/50\n",
            "11997/11997 [==============================] - 4s 343us/sample - loss: 0.0033 - acc: 0.8333 - val_loss: 0.0033 - val_acc: 0.8333\n",
            "Epoch 44/50\n",
            "11997/11997 [==============================] - 4s 334us/sample - loss: 0.0033 - acc: 0.8333 - val_loss: 0.0033 - val_acc: 0.8333\n",
            "Epoch 45/50\n",
            "11997/11997 [==============================] - 4s 337us/sample - loss: 0.0033 - acc: 0.8333 - val_loss: 0.0033 - val_acc: 0.8333\n",
            "Epoch 46/50\n",
            "11997/11997 [==============================] - 4s 338us/sample - loss: 0.0033 - acc: 0.8333 - val_loss: 0.0033 - val_acc: 0.8333\n",
            "Epoch 47/50\n",
            "11997/11997 [==============================] - 4s 333us/sample - loss: 0.0033 - acc: 0.8333 - val_loss: 0.0033 - val_acc: 0.8333\n",
            "Epoch 48/50\n",
            "11997/11997 [==============================] - 4s 337us/sample - loss: 0.0033 - acc: 0.8333 - val_loss: 0.0033 - val_acc: 0.8333\n",
            "Epoch 49/50\n",
            "11997/11997 [==============================] - 4s 343us/sample - loss: 0.0033 - acc: 0.8333 - val_loss: 0.0033 - val_acc: 0.8333\n",
            "Epoch 50/50\n",
            "11997/11997 [==============================] - 4s 348us/sample - loss: 0.0033 - acc: 0.8333 - val_loss: 0.0033 - val_acc: 0.8333\n"
          ],
          "name": "stdout"
        },
        {
          "output_type": "execute_result",
          "data": {
            "text/plain": [
              "<tensorflow.python.keras.callbacks.History at 0x7f563716de80>"
            ]
          },
          "metadata": {
            "tags": []
          },
          "execution_count": 81
        }
      ]
    },
    {
      "cell_type": "code",
      "metadata": {
        "id": "HgPagHEqH8-M",
        "colab_type": "code",
        "colab": {
          "base_uri": "https://localhost:8080/",
          "height": 50
        },
        "outputId": "90d5853e-0a8e-4455-b61e-262597e375ad"
      },
      "source": [
        "ypred = model.predict(X7)\n",
        "s=pd.DataFrame(ypred)\n",
        "s1=pd.DataFrame(y7)\n",
        "s1.corrwith(s, axis = 0) "
      ],
      "execution_count": 82,
      "outputs": [
        {
          "output_type": "execute_result",
          "data": {
            "text/plain": [
              "0    0.38428\n",
              "dtype: float64"
            ]
          },
          "metadata": {
            "tags": []
          },
          "execution_count": 82
        }
      ]
    },
    {
      "cell_type": "code",
      "metadata": {
        "id": "H6a79eEsL-Bp",
        "colab_type": "code",
        "colab": {
          "base_uri": "https://localhost:8080/",
          "height": 34
        },
        "outputId": "0c07570c-ec9d-4517-82c5-3a58db2ffc97"
      },
      "source": [
        "r2_score(y7,ypred)"
      ],
      "execution_count": 83,
      "outputs": [
        {
          "output_type": "execute_result",
          "data": {
            "text/plain": [
              "0.1468571612327656"
            ]
          },
          "metadata": {
            "tags": []
          },
          "execution_count": 83
        }
      ]
    },
    {
      "cell_type": "code",
      "metadata": {
        "id": "wcKAsBAdJNw0",
        "colab_type": "code",
        "colab": {
          "base_uri": "https://localhost:8080/",
          "height": 50
        },
        "outputId": "40ddd037-507a-499d-b1aa-48845c598def"
      },
      "source": [
        "ypred1=model.predict(X_test7)\n",
        "s=pd.DataFrame(ypred1)\n",
        "s1=pd.DataFrame(y_test7)\n",
        "s1.corrwith(s,axis=0)"
      ],
      "execution_count": 84,
      "outputs": [
        {
          "output_type": "execute_result",
          "data": {
            "text/plain": [
              "0    0.38428\n",
              "dtype: float64"
            ]
          },
          "metadata": {
            "tags": []
          },
          "execution_count": 84
        }
      ]
    },
    {
      "cell_type": "code",
      "metadata": {
        "id": "B7lPJIH0MBZQ",
        "colab_type": "code",
        "colab": {
          "base_uri": "https://localhost:8080/",
          "height": 34
        },
        "outputId": "fecf0397-91f1-49c9-e17e-d4aefe749e33"
      },
      "source": [
        "r2_score(y_test7,ypred1)"
      ],
      "execution_count": 85,
      "outputs": [
        {
          "output_type": "execute_result",
          "data": {
            "text/plain": [
              "0.1468571612327656"
            ]
          },
          "metadata": {
            "tags": []
          },
          "execution_count": 85
        }
      ]
    },
    {
      "cell_type": "code",
      "metadata": {
        "id": "9Oi8Ac5UtOAC",
        "colab_type": "code",
        "outputId": "cadeddf6-5383-4455-fa4b-f8799875b755",
        "colab": {
          "base_uri": "https://localhost:8080/",
          "height": 1000
        }
      },
      "source": [
        "model.fit(X8, y8, validation_data=(X_test8,y_test8),epochs=50)"
      ],
      "execution_count": 86,
      "outputs": [
        {
          "output_type": "stream",
          "text": [
            "Train on 11997 samples, validate on 11997 samples\n",
            "Epoch 1/50\n",
            "11997/11997 [==============================] - 4s 338us/sample - loss: 0.0037 - acc: 0.8383 - val_loss: 0.0036 - val_acc: 0.8384\n",
            "Epoch 2/50\n",
            "11997/11997 [==============================] - 4s 332us/sample - loss: 0.0036 - acc: 0.8384 - val_loss: 0.0036 - val_acc: 0.8384\n",
            "Epoch 3/50\n",
            "11997/11997 [==============================] - 4s 323us/sample - loss: 0.0036 - acc: 0.8384 - val_loss: 0.0036 - val_acc: 0.8384\n",
            "Epoch 4/50\n",
            "11997/11997 [==============================] - 4s 331us/sample - loss: 0.0036 - acc: 0.8384 - val_loss: 0.0036 - val_acc: 0.8384\n",
            "Epoch 5/50\n",
            "11997/11997 [==============================] - 4s 337us/sample - loss: 0.0036 - acc: 0.8384 - val_loss: 0.0036 - val_acc: 0.8384\n",
            "Epoch 6/50\n",
            "11997/11997 [==============================] - 4s 342us/sample - loss: 0.0036 - acc: 0.8384 - val_loss: 0.0036 - val_acc: 0.8384\n",
            "Epoch 7/50\n",
            "11997/11997 [==============================] - 4s 338us/sample - loss: 0.0036 - acc: 0.8384 - val_loss: 0.0036 - val_acc: 0.8384\n",
            "Epoch 8/50\n",
            "11997/11997 [==============================] - 4s 338us/sample - loss: 0.0036 - acc: 0.8384 - val_loss: 0.0036 - val_acc: 0.8384\n",
            "Epoch 9/50\n",
            "11997/11997 [==============================] - 4s 340us/sample - loss: 0.0036 - acc: 0.8384 - val_loss: 0.0036 - val_acc: 0.8384\n",
            "Epoch 10/50\n",
            "11997/11997 [==============================] - 4s 332us/sample - loss: 0.0036 - acc: 0.8384 - val_loss: 0.0035 - val_acc: 0.8384\n",
            "Epoch 11/50\n",
            "11997/11997 [==============================] - 4s 321us/sample - loss: 0.0036 - acc: 0.8384 - val_loss: 0.0035 - val_acc: 0.8384\n",
            "Epoch 12/50\n",
            "11997/11997 [==============================] - 4s 318us/sample - loss: 0.0036 - acc: 0.8384 - val_loss: 0.0035 - val_acc: 0.8384\n",
            "Epoch 13/50\n",
            "11997/11997 [==============================] - 4s 329us/sample - loss: 0.0036 - acc: 0.8384 - val_loss: 0.0036 - val_acc: 0.8384\n",
            "Epoch 14/50\n",
            "11997/11997 [==============================] - 4s 337us/sample - loss: 0.0036 - acc: 0.8384 - val_loss: 0.0036 - val_acc: 0.8384\n",
            "Epoch 15/50\n",
            "11997/11997 [==============================] - 4s 332us/sample - loss: 0.0036 - acc: 0.8384 - val_loss: 0.0035 - val_acc: 0.8384\n",
            "Epoch 16/50\n",
            "11997/11997 [==============================] - 4s 322us/sample - loss: 0.0036 - acc: 0.8384 - val_loss: 0.0035 - val_acc: 0.8384\n",
            "Epoch 17/50\n",
            "11997/11997 [==============================] - 4s 318us/sample - loss: 0.0036 - acc: 0.8384 - val_loss: 0.0035 - val_acc: 0.8384\n",
            "Epoch 18/50\n",
            "11997/11997 [==============================] - 4s 316us/sample - loss: 0.0035 - acc: 0.8384 - val_loss: 0.0035 - val_acc: 0.8384\n",
            "Epoch 19/50\n",
            "11997/11997 [==============================] - 4s 323us/sample - loss: 0.0035 - acc: 0.8384 - val_loss: 0.0035 - val_acc: 0.8384\n",
            "Epoch 20/50\n",
            "11997/11997 [==============================] - 4s 335us/sample - loss: 0.0035 - acc: 0.8384 - val_loss: 0.0035 - val_acc: 0.8384\n",
            "Epoch 21/50\n",
            "11997/11997 [==============================] - 4s 335us/sample - loss: 0.0035 - acc: 0.8384 - val_loss: 0.0035 - val_acc: 0.8384\n",
            "Epoch 22/50\n",
            "11997/11997 [==============================] - 4s 339us/sample - loss: 0.0035 - acc: 0.8384 - val_loss: 0.0035 - val_acc: 0.8384\n",
            "Epoch 23/50\n",
            "11997/11997 [==============================] - 4s 331us/sample - loss: 0.0035 - acc: 0.8384 - val_loss: 0.0035 - val_acc: 0.8384\n",
            "Epoch 24/50\n",
            "11997/11997 [==============================] - 4s 338us/sample - loss: 0.0035 - acc: 0.8384 - val_loss: 0.0035 - val_acc: 0.8384\n",
            "Epoch 25/50\n",
            "11997/11997 [==============================] - 4s 345us/sample - loss: 0.0035 - acc: 0.8384 - val_loss: 0.0035 - val_acc: 0.8384\n",
            "Epoch 26/50\n",
            "11997/11997 [==============================] - 4s 324us/sample - loss: 0.0035 - acc: 0.8384 - val_loss: 0.0035 - val_acc: 0.8384\n",
            "Epoch 27/50\n",
            "11997/11997 [==============================] - 4s 321us/sample - loss: 0.0035 - acc: 0.8384 - val_loss: 0.0035 - val_acc: 0.8384\n",
            "Epoch 28/50\n",
            "11997/11997 [==============================] - 4s 321us/sample - loss: 0.0035 - acc: 0.8384 - val_loss: 0.0035 - val_acc: 0.8384\n",
            "Epoch 29/50\n",
            "11997/11997 [==============================] - 4s 335us/sample - loss: 0.0035 - acc: 0.8384 - val_loss: 0.0036 - val_acc: 0.8384\n",
            "Epoch 30/50\n",
            "11997/11997 [==============================] - 4s 334us/sample - loss: 0.0035 - acc: 0.8384 - val_loss: 0.0035 - val_acc: 0.8384\n",
            "Epoch 31/50\n",
            "11997/11997 [==============================] - 4s 331us/sample - loss: 0.0035 - acc: 0.8384 - val_loss: 0.0035 - val_acc: 0.8384\n",
            "Epoch 32/50\n",
            "11997/11997 [==============================] - 4s 333us/sample - loss: 0.0035 - acc: 0.8384 - val_loss: 0.0035 - val_acc: 0.8384\n",
            "Epoch 33/50\n",
            "11997/11997 [==============================] - 4s 321us/sample - loss: 0.0035 - acc: 0.8384 - val_loss: 0.0035 - val_acc: 0.8384\n",
            "Epoch 34/50\n",
            "11997/11997 [==============================] - 4s 327us/sample - loss: 0.0035 - acc: 0.8384 - val_loss: 0.0035 - val_acc: 0.8384\n",
            "Epoch 35/50\n",
            "11997/11997 [==============================] - 4s 329us/sample - loss: 0.0035 - acc: 0.8384 - val_loss: 0.0035 - val_acc: 0.8384\n",
            "Epoch 36/50\n",
            "11997/11997 [==============================] - 4s 322us/sample - loss: 0.0035 - acc: 0.8384 - val_loss: 0.0035 - val_acc: 0.8384\n",
            "Epoch 37/50\n",
            "11997/11997 [==============================] - 4s 347us/sample - loss: 0.0035 - acc: 0.8384 - val_loss: 0.0035 - val_acc: 0.8384\n",
            "Epoch 38/50\n",
            "11997/11997 [==============================] - 4s 333us/sample - loss: 0.0035 - acc: 0.8384 - val_loss: 0.0035 - val_acc: 0.8384\n",
            "Epoch 39/50\n",
            "11997/11997 [==============================] - 4s 325us/sample - loss: 0.0035 - acc: 0.8384 - val_loss: 0.0035 - val_acc: 0.8384\n",
            "Epoch 40/50\n",
            "11997/11997 [==============================] - 4s 324us/sample - loss: 0.0035 - acc: 0.8384 - val_loss: 0.0035 - val_acc: 0.8384\n",
            "Epoch 41/50\n",
            "11997/11997 [==============================] - 4s 338us/sample - loss: 0.0035 - acc: 0.8384 - val_loss: 0.0035 - val_acc: 0.8384\n",
            "Epoch 42/50\n",
            "11997/11997 [==============================] - 4s 331us/sample - loss: 0.0035 - acc: 0.8384 - val_loss: 0.0035 - val_acc: 0.8384\n",
            "Epoch 43/50\n",
            "11997/11997 [==============================] - 4s 340us/sample - loss: 0.0035 - acc: 0.8384 - val_loss: 0.0035 - val_acc: 0.8384\n",
            "Epoch 44/50\n",
            "11997/11997 [==============================] - 4s 326us/sample - loss: 0.0035 - acc: 0.8384 - val_loss: 0.0035 - val_acc: 0.8384\n",
            "Epoch 45/50\n",
            "11997/11997 [==============================] - 4s 327us/sample - loss: 0.0035 - acc: 0.8384 - val_loss: 0.0035 - val_acc: 0.8384\n",
            "Epoch 46/50\n",
            "11997/11997 [==============================] - 4s 327us/sample - loss: 0.0035 - acc: 0.8384 - val_loss: 0.0035 - val_acc: 0.8384\n",
            "Epoch 47/50\n",
            "11997/11997 [==============================] - 4s 327us/sample - loss: 0.0035 - acc: 0.8384 - val_loss: 0.0035 - val_acc: 0.8384\n",
            "Epoch 48/50\n",
            "11997/11997 [==============================] - 4s 332us/sample - loss: 0.0035 - acc: 0.8384 - val_loss: 0.0035 - val_acc: 0.8384\n",
            "Epoch 49/50\n",
            "11997/11997 [==============================] - 4s 326us/sample - loss: 0.0035 - acc: 0.8384 - val_loss: 0.0035 - val_acc: 0.8384\n",
            "Epoch 50/50\n",
            "11997/11997 [==============================] - 4s 330us/sample - loss: 0.0035 - acc: 0.8384 - val_loss: 0.0035 - val_acc: 0.8384\n"
          ],
          "name": "stdout"
        },
        {
          "output_type": "execute_result",
          "data": {
            "text/plain": [
              "<tensorflow.python.keras.callbacks.History at 0x7f563716d5c0>"
            ]
          },
          "metadata": {
            "tags": []
          },
          "execution_count": 86
        }
      ]
    },
    {
      "cell_type": "code",
      "metadata": {
        "id": "eMLxjFOLH-PS",
        "colab_type": "code",
        "colab": {
          "base_uri": "https://localhost:8080/",
          "height": 50
        },
        "outputId": "4771daf0-6791-4204-88ff-68e4f0b48bd4"
      },
      "source": [
        "ypred = model.predict(X8)\n",
        "s=pd.DataFrame(ypred)\n",
        "s1=pd.DataFrame(y8)\n",
        "s1.corrwith(s, axis = 0) "
      ],
      "execution_count": 87,
      "outputs": [
        {
          "output_type": "execute_result",
          "data": {
            "text/plain": [
              "0    0.345063\n",
              "dtype: float64"
            ]
          },
          "metadata": {
            "tags": []
          },
          "execution_count": 87
        }
      ]
    },
    {
      "cell_type": "code",
      "metadata": {
        "id": "BmVt8ALiL4ae",
        "colab_type": "code",
        "colab": {
          "base_uri": "https://localhost:8080/",
          "height": 34
        },
        "outputId": "f17104c1-a24b-4228-fc62-b8290979f326"
      },
      "source": [
        "r2_score(y8,ypred)"
      ],
      "execution_count": 88,
      "outputs": [
        {
          "output_type": "execute_result",
          "data": {
            "text/plain": [
              "0.11735395377664437"
            ]
          },
          "metadata": {
            "tags": []
          },
          "execution_count": 88
        }
      ]
    },
    {
      "cell_type": "code",
      "metadata": {
        "id": "ysPaeNMUJP6D",
        "colab_type": "code",
        "colab": {
          "base_uri": "https://localhost:8080/",
          "height": 50
        },
        "outputId": "293c485c-4022-40ef-a3b7-2653ce240d9d"
      },
      "source": [
        "ypred1=model.predict(X_test8)\n",
        "s=pd.DataFrame(ypred1)\n",
        "s1=pd.DataFrame(y_test8)\n",
        "s1.corrwith(s,axis=0)"
      ],
      "execution_count": 89,
      "outputs": [
        {
          "output_type": "execute_result",
          "data": {
            "text/plain": [
              "0    0.345063\n",
              "dtype: float64"
            ]
          },
          "metadata": {
            "tags": []
          },
          "execution_count": 89
        }
      ]
    },
    {
      "cell_type": "code",
      "metadata": {
        "id": "VdoqG1uCL6Up",
        "colab_type": "code",
        "colab": {
          "base_uri": "https://localhost:8080/",
          "height": 34
        },
        "outputId": "4de431de-7884-429c-9e27-6b961765b5b5"
      },
      "source": [
        "r2_score(y_test8,ypred1)"
      ],
      "execution_count": 90,
      "outputs": [
        {
          "output_type": "execute_result",
          "data": {
            "text/plain": [
              "0.11735395377664437"
            ]
          },
          "metadata": {
            "tags": []
          },
          "execution_count": 90
        }
      ]
    },
    {
      "cell_type": "code",
      "metadata": {
        "id": "SLn0vU66tOKK",
        "colab_type": "code",
        "outputId": "04e53552-7a10-4551-deac-952abf6e1283",
        "colab": {
          "base_uri": "https://localhost:8080/",
          "height": 1000
        }
      },
      "source": [
        "model.fit(X9, y9, validation_data=(X_test9,y_test9),epochs=50)"
      ],
      "execution_count": 91,
      "outputs": [
        {
          "output_type": "stream",
          "text": [
            "Train on 11997 samples, validate on 11997 samples\n",
            "Epoch 1/50\n",
            "11997/11997 [==============================] - 4s 346us/sample - loss: 3.6754e-04 - acc: 0.8766 - val_loss: 3.5938e-04 - val_acc: 0.8766\n",
            "Epoch 2/50\n",
            "11997/11997 [==============================] - 4s 335us/sample - loss: 3.5881e-04 - acc: 0.8766 - val_loss: 3.5628e-04 - val_acc: 0.8766\n",
            "Epoch 3/50\n",
            "11997/11997 [==============================] - 4s 343us/sample - loss: 3.5683e-04 - acc: 0.8766 - val_loss: 3.7354e-04 - val_acc: 0.8766\n",
            "Epoch 4/50\n",
            "11997/11997 [==============================] - 4s 337us/sample - loss: 3.5710e-04 - acc: 0.8766 - val_loss: 3.5772e-04 - val_acc: 0.8766\n",
            "Epoch 5/50\n",
            "11997/11997 [==============================] - 4s 327us/sample - loss: 3.5774e-04 - acc: 0.8766 - val_loss: 3.5785e-04 - val_acc: 0.8766\n",
            "Epoch 6/50\n",
            "11997/11997 [==============================] - 4s 328us/sample - loss: 3.5593e-04 - acc: 0.8766 - val_loss: 3.5472e-04 - val_acc: 0.8766\n",
            "Epoch 7/50\n",
            "11997/11997 [==============================] - 4s 314us/sample - loss: 3.5661e-04 - acc: 0.8766 - val_loss: 3.5397e-04 - val_acc: 0.8766\n",
            "Epoch 8/50\n",
            "11997/11997 [==============================] - 4s 337us/sample - loss: 3.5576e-04 - acc: 0.8766 - val_loss: 3.5416e-04 - val_acc: 0.8766\n",
            "Epoch 9/50\n",
            "11997/11997 [==============================] - 4s 338us/sample - loss: 3.5619e-04 - acc: 0.8766 - val_loss: 3.5604e-04 - val_acc: 0.8766\n",
            "Epoch 10/50\n",
            "11997/11997 [==============================] - 4s 324us/sample - loss: 3.5809e-04 - acc: 0.8766 - val_loss: 3.5716e-04 - val_acc: 0.8766\n",
            "Epoch 11/50\n",
            "11997/11997 [==============================] - 4s 316us/sample - loss: 3.5884e-04 - acc: 0.8766 - val_loss: 3.5562e-04 - val_acc: 0.8766\n",
            "Epoch 12/50\n",
            "11997/11997 [==============================] - 4s 329us/sample - loss: 3.5807e-04 - acc: 0.8766 - val_loss: 3.5423e-04 - val_acc: 0.8766\n",
            "Epoch 13/50\n",
            "11997/11997 [==============================] - 4s 332us/sample - loss: 3.5816e-04 - acc: 0.8766 - val_loss: 3.5462e-04 - val_acc: 0.8766\n",
            "Epoch 14/50\n",
            "11997/11997 [==============================] - 4s 319us/sample - loss: 3.5704e-04 - acc: 0.8766 - val_loss: 3.5635e-04 - val_acc: 0.8766\n",
            "Epoch 15/50\n",
            "11997/11997 [==============================] - 4s 325us/sample - loss: 3.5602e-04 - acc: 0.8766 - val_loss: 3.5263e-04 - val_acc: 0.8766\n",
            "Epoch 16/50\n",
            "11997/11997 [==============================] - 4s 332us/sample - loss: 3.5564e-04 - acc: 0.8766 - val_loss: 3.6622e-04 - val_acc: 0.8766\n",
            "Epoch 17/50\n",
            "11997/11997 [==============================] - 4s 322us/sample - loss: 3.5650e-04 - acc: 0.8766 - val_loss: 3.5482e-04 - val_acc: 0.8766\n",
            "Epoch 18/50\n",
            "11997/11997 [==============================] - 4s 319us/sample - loss: 3.5741e-04 - acc: 0.8766 - val_loss: 3.5608e-04 - val_acc: 0.8766\n",
            "Epoch 19/50\n",
            "11997/11997 [==============================] - 4s 323us/sample - loss: 3.5751e-04 - acc: 0.8766 - val_loss: 3.5619e-04 - val_acc: 0.8766\n",
            "Epoch 20/50\n",
            "11997/11997 [==============================] - 4s 327us/sample - loss: 3.5756e-04 - acc: 0.8766 - val_loss: 3.5445e-04 - val_acc: 0.8766\n",
            "Epoch 21/50\n",
            "11997/11997 [==============================] - 4s 326us/sample - loss: 3.5575e-04 - acc: 0.8766 - val_loss: 3.5327e-04 - val_acc: 0.8766\n",
            "Epoch 22/50\n",
            "11997/11997 [==============================] - 4s 329us/sample - loss: 3.5500e-04 - acc: 0.8766 - val_loss: 3.5253e-04 - val_acc: 0.8766\n",
            "Epoch 23/50\n",
            "11997/11997 [==============================] - 4s 326us/sample - loss: 3.5550e-04 - acc: 0.8766 - val_loss: 3.5530e-04 - val_acc: 0.8766\n",
            "Epoch 24/50\n",
            "11997/11997 [==============================] - 4s 332us/sample - loss: 3.5638e-04 - acc: 0.8766 - val_loss: 3.5957e-04 - val_acc: 0.8766\n",
            "Epoch 25/50\n",
            "11997/11997 [==============================] - 4s 343us/sample - loss: 3.5494e-04 - acc: 0.8766 - val_loss: 3.5110e-04 - val_acc: 0.8766\n",
            "Epoch 26/50\n",
            "11997/11997 [==============================] - 4s 323us/sample - loss: 3.5397e-04 - acc: 0.8766 - val_loss: 3.5416e-04 - val_acc: 0.8766\n",
            "Epoch 27/50\n",
            "11997/11997 [==============================] - 4s 331us/sample - loss: 3.5383e-04 - acc: 0.8766 - val_loss: 3.5160e-04 - val_acc: 0.8766\n",
            "Epoch 28/50\n",
            "11997/11997 [==============================] - 4s 330us/sample - loss: 3.5389e-04 - acc: 0.8766 - val_loss: 3.5927e-04 - val_acc: 0.8766\n",
            "Epoch 29/50\n",
            "11997/11997 [==============================] - 4s 332us/sample - loss: 3.5417e-04 - acc: 0.8766 - val_loss: 3.5456e-04 - val_acc: 0.8766\n",
            "Epoch 30/50\n",
            "11997/11997 [==============================] - 4s 341us/sample - loss: 3.5504e-04 - acc: 0.8766 - val_loss: 3.5360e-04 - val_acc: 0.8766\n",
            "Epoch 31/50\n",
            "11997/11997 [==============================] - 4s 336us/sample - loss: 3.5422e-04 - acc: 0.8766 - val_loss: 3.5739e-04 - val_acc: 0.8766\n",
            "Epoch 32/50\n",
            "11997/11997 [==============================] - 4s 336us/sample - loss: 3.5442e-04 - acc: 0.8766 - val_loss: 3.5759e-04 - val_acc: 0.8766\n",
            "Epoch 33/50\n",
            "11997/11997 [==============================] - 4s 339us/sample - loss: 3.5459e-04 - acc: 0.8766 - val_loss: 3.5203e-04 - val_acc: 0.8766\n",
            "Epoch 34/50\n",
            "11997/11997 [==============================] - 4s 333us/sample - loss: 3.5560e-04 - acc: 0.8766 - val_loss: 3.5067e-04 - val_acc: 0.8766\n",
            "Epoch 35/50\n",
            "11997/11997 [==============================] - 4s 331us/sample - loss: 3.5487e-04 - acc: 0.8766 - val_loss: 3.5729e-04 - val_acc: 0.8766\n",
            "Epoch 36/50\n",
            "11997/11997 [==============================] - 4s 328us/sample - loss: 3.5260e-04 - acc: 0.8766 - val_loss: 3.5294e-04 - val_acc: 0.8766\n",
            "Epoch 37/50\n",
            "11997/11997 [==============================] - 4s 329us/sample - loss: 3.5269e-04 - acc: 0.8766 - val_loss: 3.5228e-04 - val_acc: 0.8766\n",
            "Epoch 38/50\n",
            "11997/11997 [==============================] - 4s 339us/sample - loss: 3.5445e-04 - acc: 0.8766 - val_loss: 3.5033e-04 - val_acc: 0.8766\n",
            "Epoch 39/50\n",
            "11997/11997 [==============================] - 4s 333us/sample - loss: 3.5297e-04 - acc: 0.8766 - val_loss: 3.5006e-04 - val_acc: 0.8766\n",
            "Epoch 40/50\n",
            "11997/11997 [==============================] - 4s 339us/sample - loss: 3.5373e-04 - acc: 0.8766 - val_loss: 3.5006e-04 - val_acc: 0.8766\n",
            "Epoch 41/50\n",
            "11997/11997 [==============================] - 4s 334us/sample - loss: 3.5287e-04 - acc: 0.8766 - val_loss: 3.4994e-04 - val_acc: 0.8766\n",
            "Epoch 42/50\n",
            "11997/11997 [==============================] - 4s 333us/sample - loss: 3.5275e-04 - acc: 0.8766 - val_loss: 3.5200e-04 - val_acc: 0.8766\n",
            "Epoch 43/50\n",
            "11997/11997 [==============================] - 4s 330us/sample - loss: 3.5375e-04 - acc: 0.8766 - val_loss: 3.5761e-04 - val_acc: 0.8766\n",
            "Epoch 44/50\n",
            "11997/11997 [==============================] - 4s 329us/sample - loss: 3.5321e-04 - acc: 0.8766 - val_loss: 3.4952e-04 - val_acc: 0.8766\n",
            "Epoch 45/50\n",
            "11997/11997 [==============================] - 4s 347us/sample - loss: 3.5524e-04 - acc: 0.8766 - val_loss: 3.4961e-04 - val_acc: 0.8766\n",
            "Epoch 46/50\n",
            "11997/11997 [==============================] - 4s 335us/sample - loss: 3.5210e-04 - acc: 0.8766 - val_loss: 3.5112e-04 - val_acc: 0.8766\n",
            "Epoch 47/50\n",
            "11997/11997 [==============================] - 4s 336us/sample - loss: 3.5240e-04 - acc: 0.8766 - val_loss: 3.4879e-04 - val_acc: 0.8766\n",
            "Epoch 48/50\n",
            "11997/11997 [==============================] - 4s 337us/sample - loss: 3.5198e-04 - acc: 0.8766 - val_loss: 3.5205e-04 - val_acc: 0.8766\n",
            "Epoch 49/50\n",
            "11997/11997 [==============================] - 4s 327us/sample - loss: 3.5279e-04 - acc: 0.8766 - val_loss: 3.4920e-04 - val_acc: 0.8766\n",
            "Epoch 50/50\n",
            "11997/11997 [==============================] - 4s 326us/sample - loss: 3.5175e-04 - acc: 0.8766 - val_loss: 3.5443e-04 - val_acc: 0.8766\n"
          ],
          "name": "stdout"
        },
        {
          "output_type": "execute_result",
          "data": {
            "text/plain": [
              "<tensorflow.python.keras.callbacks.History at 0x7f5637052048>"
            ]
          },
          "metadata": {
            "tags": []
          },
          "execution_count": 91
        }
      ]
    },
    {
      "cell_type": "code",
      "metadata": {
        "id": "zQ5v6HwLH_Wh",
        "colab_type": "code",
        "colab": {
          "base_uri": "https://localhost:8080/",
          "height": 50
        },
        "outputId": "7add74f7-a0e8-4bbc-c3f5-e9cf8c57facb"
      },
      "source": [
        "ypred = model.predict(X9)\n",
        "s=pd.DataFrame(ypred)\n",
        "s1=pd.DataFrame(y9)\n",
        "s1.corrwith(s, axis = 0) "
      ],
      "execution_count": 92,
      "outputs": [
        {
          "output_type": "execute_result",
          "data": {
            "text/plain": [
              "0    0.336556\n",
              "dtype: float64"
            ]
          },
          "metadata": {
            "tags": []
          },
          "execution_count": 92
        }
      ]
    },
    {
      "cell_type": "code",
      "metadata": {
        "id": "Up6_NVQoLi3n",
        "colab_type": "code",
        "colab": {
          "base_uri": "https://localhost:8080/",
          "height": 34
        },
        "outputId": "29093ebe-db15-4832-eac8-e4b3f9587ad7"
      },
      "source": [
        "r2_score(y9,ypred)"
      ],
      "execution_count": 93,
      "outputs": [
        {
          "output_type": "execute_result",
          "data": {
            "text/plain": [
              "0.09848868879902262"
            ]
          },
          "metadata": {
            "tags": []
          },
          "execution_count": 93
        }
      ]
    },
    {
      "cell_type": "code",
      "metadata": {
        "id": "f3IOE5BCJRSK",
        "colab_type": "code",
        "colab": {
          "base_uri": "https://localhost:8080/",
          "height": 50
        },
        "outputId": "433d5ed8-7f8e-4965-d14f-28860c5c85ff"
      },
      "source": [
        "ypred1=model.predict(X_test9)\n",
        "s=pd.DataFrame(ypred1)\n",
        "s1=pd.DataFrame(y_test9)\n",
        "s1.corrwith(s,axis=0)"
      ],
      "execution_count": 94,
      "outputs": [
        {
          "output_type": "execute_result",
          "data": {
            "text/plain": [
              "0    0.336556\n",
              "dtype: float64"
            ]
          },
          "metadata": {
            "tags": []
          },
          "execution_count": 94
        }
      ]
    },
    {
      "cell_type": "code",
      "metadata": {
        "id": "_FDKRSVwLkoD",
        "colab_type": "code",
        "colab": {
          "base_uri": "https://localhost:8080/",
          "height": 34
        },
        "outputId": "07bdd384-9560-424d-d31b-36b6c248d277"
      },
      "source": [
        "r2_score(y_test9,ypred1)"
      ],
      "execution_count": 95,
      "outputs": [
        {
          "output_type": "execute_result",
          "data": {
            "text/plain": [
              "0.09848868879902262"
            ]
          },
          "metadata": {
            "tags": []
          },
          "execution_count": 95
        }
      ]
    },
    {
      "cell_type": "code",
      "metadata": {
        "id": "X4tac5LntOTz",
        "colab_type": "code",
        "outputId": "0cc098b3-dbbb-475b-ab3d-420716e22307",
        "colab": {
          "base_uri": "https://localhost:8080/",
          "height": 1000
        }
      },
      "source": [
        "model.fit(X10, y10, validation_data=(X_test10,y_test10),epochs=50)"
      ],
      "execution_count": 96,
      "outputs": [
        {
          "output_type": "stream",
          "text": [
            "Train on 11997 samples, validate on 11997 samples\n",
            "Epoch 1/50\n",
            "11997/11997 [==============================] - 4s 345us/sample - loss: 0.0028 - acc: 0.8375 - val_loss: 0.0026 - val_acc: 0.8375\n",
            "Epoch 2/50\n",
            "11997/11997 [==============================] - 4s 344us/sample - loss: 0.0027 - acc: 0.8375 - val_loss: 0.0026 - val_acc: 0.8375\n",
            "Epoch 3/50\n",
            "11997/11997 [==============================] - 4s 364us/sample - loss: 0.0026 - acc: 0.8375 - val_loss: 0.0026 - val_acc: 0.8375\n",
            "Epoch 4/50\n",
            "11997/11997 [==============================] - 5s 398us/sample - loss: 0.0026 - acc: 0.8375 - val_loss: 0.0026 - val_acc: 0.8375\n",
            "Epoch 5/50\n",
            "11997/11997 [==============================] - 4s 359us/sample - loss: 0.0026 - acc: 0.8375 - val_loss: 0.0026 - val_acc: 0.8375\n",
            "Epoch 6/50\n",
            "11997/11997 [==============================] - 4s 351us/sample - loss: 0.0026 - acc: 0.8375 - val_loss: 0.0026 - val_acc: 0.8375\n",
            "Epoch 7/50\n",
            "11997/11997 [==============================] - 4s 317us/sample - loss: 0.0026 - acc: 0.8375 - val_loss: 0.0026 - val_acc: 0.8375\n",
            "Epoch 8/50\n",
            "11997/11997 [==============================] - 4s 319us/sample - loss: 0.0026 - acc: 0.8375 - val_loss: 0.0026 - val_acc: 0.8375\n",
            "Epoch 9/50\n",
            "11997/11997 [==============================] - 4s 330us/sample - loss: 0.0026 - acc: 0.8375 - val_loss: 0.0026 - val_acc: 0.8375\n",
            "Epoch 10/50\n",
            "11997/11997 [==============================] - 4s 330us/sample - loss: 0.0026 - acc: 0.8375 - val_loss: 0.0026 - val_acc: 0.8375\n",
            "Epoch 11/50\n",
            "11997/11997 [==============================] - 4s 330us/sample - loss: 0.0026 - acc: 0.8375 - val_loss: 0.0026 - val_acc: 0.8375\n",
            "Epoch 12/50\n",
            "11997/11997 [==============================] - 4s 332us/sample - loss: 0.0026 - acc: 0.8375 - val_loss: 0.0026 - val_acc: 0.8375\n",
            "Epoch 13/50\n",
            "11997/11997 [==============================] - 4s 335us/sample - loss: 0.0026 - acc: 0.8375 - val_loss: 0.0026 - val_acc: 0.8375\n",
            "Epoch 14/50\n",
            "11997/11997 [==============================] - 4s 326us/sample - loss: 0.0026 - acc: 0.8375 - val_loss: 0.0026 - val_acc: 0.8375\n",
            "Epoch 15/50\n",
            "11997/11997 [==============================] - 4s 323us/sample - loss: 0.0026 - acc: 0.8375 - val_loss: 0.0026 - val_acc: 0.8375\n",
            "Epoch 16/50\n",
            "11997/11997 [==============================] - 4s 331us/sample - loss: 0.0026 - acc: 0.8375 - val_loss: 0.0026 - val_acc: 0.8375\n",
            "Epoch 17/50\n",
            "11997/11997 [==============================] - 4s 331us/sample - loss: 0.0026 - acc: 0.8375 - val_loss: 0.0026 - val_acc: 0.8375\n",
            "Epoch 18/50\n",
            "11997/11997 [==============================] - 4s 333us/sample - loss: 0.0026 - acc: 0.8375 - val_loss: 0.0026 - val_acc: 0.8375\n",
            "Epoch 19/50\n",
            "11997/11997 [==============================] - 4s 329us/sample - loss: 0.0026 - acc: 0.8375 - val_loss: 0.0026 - val_acc: 0.8375\n",
            "Epoch 20/50\n",
            "11997/11997 [==============================] - 4s 329us/sample - loss: 0.0026 - acc: 0.8375 - val_loss: 0.0026 - val_acc: 0.8375\n",
            "Epoch 21/50\n",
            "11997/11997 [==============================] - 4s 328us/sample - loss: 0.0026 - acc: 0.8375 - val_loss: 0.0026 - val_acc: 0.8375\n",
            "Epoch 22/50\n",
            "11997/11997 [==============================] - 4s 328us/sample - loss: 0.0026 - acc: 0.8375 - val_loss: 0.0026 - val_acc: 0.8375\n",
            "Epoch 23/50\n",
            "11997/11997 [==============================] - 4s 325us/sample - loss: 0.0026 - acc: 0.8375 - val_loss: 0.0026 - val_acc: 0.8375\n",
            "Epoch 24/50\n",
            "11997/11997 [==============================] - 4s 321us/sample - loss: 0.0026 - acc: 0.8375 - val_loss: 0.0026 - val_acc: 0.8375\n",
            "Epoch 25/50\n",
            "11997/11997 [==============================] - 4s 331us/sample - loss: 0.0026 - acc: 0.8375 - val_loss: 0.0026 - val_acc: 0.8375\n",
            "Epoch 26/50\n",
            "11997/11997 [==============================] - 4s 329us/sample - loss: 0.0026 - acc: 0.8375 - val_loss: 0.0026 - val_acc: 0.8375\n",
            "Epoch 27/50\n",
            "11997/11997 [==============================] - 4s 325us/sample - loss: 0.0026 - acc: 0.8375 - val_loss: 0.0026 - val_acc: 0.8375\n",
            "Epoch 28/50\n",
            "11997/11997 [==============================] - 4s 327us/sample - loss: 0.0026 - acc: 0.8375 - val_loss: 0.0026 - val_acc: 0.8375\n",
            "Epoch 29/50\n",
            "11997/11997 [==============================] - 4s 329us/sample - loss: 0.0026 - acc: 0.8375 - val_loss: 0.0026 - val_acc: 0.8375\n",
            "Epoch 30/50\n",
            "11997/11997 [==============================] - 4s 337us/sample - loss: 0.0026 - acc: 0.8375 - val_loss: 0.0026 - val_acc: 0.8375\n",
            "Epoch 31/50\n",
            "11997/11997 [==============================] - 4s 338us/sample - loss: 0.0026 - acc: 0.8375 - val_loss: 0.0026 - val_acc: 0.8375\n",
            "Epoch 32/50\n",
            "11997/11997 [==============================] - 4s 336us/sample - loss: 0.0026 - acc: 0.8375 - val_loss: 0.0026 - val_acc: 0.8375\n",
            "Epoch 33/50\n",
            "11997/11997 [==============================] - 4s 325us/sample - loss: 0.0026 - acc: 0.8375 - val_loss: 0.0025 - val_acc: 0.8375\n",
            "Epoch 34/50\n",
            "11997/11997 [==============================] - 4s 333us/sample - loss: 0.0026 - acc: 0.8375 - val_loss: 0.0026 - val_acc: 0.8375\n",
            "Epoch 35/50\n",
            "11997/11997 [==============================] - 4s 330us/sample - loss: 0.0026 - acc: 0.8375 - val_loss: 0.0025 - val_acc: 0.8375\n",
            "Epoch 36/50\n",
            "11997/11997 [==============================] - 4s 326us/sample - loss: 0.0026 - acc: 0.8375 - val_loss: 0.0026 - val_acc: 0.8375\n",
            "Epoch 37/50\n",
            "11997/11997 [==============================] - 4s 326us/sample - loss: 0.0026 - acc: 0.8375 - val_loss: 0.0025 - val_acc: 0.8375\n",
            "Epoch 38/50\n",
            "11997/11997 [==============================] - 4s 339us/sample - loss: 0.0026 - acc: 0.8375 - val_loss: 0.0026 - val_acc: 0.8375\n",
            "Epoch 39/50\n",
            "11997/11997 [==============================] - 4s 340us/sample - loss: 0.0026 - acc: 0.8375 - val_loss: 0.0025 - val_acc: 0.8375\n",
            "Epoch 40/50\n",
            "11997/11997 [==============================] - 4s 340us/sample - loss: 0.0026 - acc: 0.8375 - val_loss: 0.0026 - val_acc: 0.8375\n",
            "Epoch 41/50\n",
            "11997/11997 [==============================] - 4s 344us/sample - loss: 0.0026 - acc: 0.8375 - val_loss: 0.0025 - val_acc: 0.8375\n",
            "Epoch 42/50\n",
            "11997/11997 [==============================] - 4s 335us/sample - loss: 0.0025 - acc: 0.8375 - val_loss: 0.0026 - val_acc: 0.8375\n",
            "Epoch 43/50\n",
            "11997/11997 [==============================] - 4s 342us/sample - loss: 0.0026 - acc: 0.8375 - val_loss: 0.0025 - val_acc: 0.8375\n",
            "Epoch 44/50\n",
            "11997/11997 [==============================] - 4s 339us/sample - loss: 0.0025 - acc: 0.8375 - val_loss: 0.0025 - val_acc: 0.8375\n",
            "Epoch 45/50\n",
            "11997/11997 [==============================] - 4s 343us/sample - loss: 0.0026 - acc: 0.8375 - val_loss: 0.0026 - val_acc: 0.8375\n",
            "Epoch 46/50\n",
            "11997/11997 [==============================] - 4s 342us/sample - loss: 0.0026 - acc: 0.8375 - val_loss: 0.0025 - val_acc: 0.8375\n",
            "Epoch 47/50\n",
            "11997/11997 [==============================] - 4s 337us/sample - loss: 0.0026 - acc: 0.8375 - val_loss: 0.0026 - val_acc: 0.8375\n",
            "Epoch 48/50\n",
            "11997/11997 [==============================] - 4s 340us/sample - loss: 0.0025 - acc: 0.8375 - val_loss: 0.0025 - val_acc: 0.8375\n",
            "Epoch 49/50\n",
            "11997/11997 [==============================] - 4s 337us/sample - loss: 0.0026 - acc: 0.8375 - val_loss: 0.0025 - val_acc: 0.8375\n",
            "Epoch 50/50\n",
            "11997/11997 [==============================] - 4s 338us/sample - loss: 0.0025 - acc: 0.8375 - val_loss: 0.0025 - val_acc: 0.8375\n"
          ],
          "name": "stdout"
        },
        {
          "output_type": "execute_result",
          "data": {
            "text/plain": [
              "<tensorflow.python.keras.callbacks.History at 0x7f5636dbe0f0>"
            ]
          },
          "metadata": {
            "tags": []
          },
          "execution_count": 96
        }
      ]
    },
    {
      "cell_type": "code",
      "metadata": {
        "id": "i7iVtOzuIAff",
        "colab_type": "code",
        "colab": {
          "base_uri": "https://localhost:8080/",
          "height": 50
        },
        "outputId": "1d7363e3-85df-46a3-de95-0c5eea6c9bd7"
      },
      "source": [
        "ypred = model.predict(X10)\n",
        "s=pd.DataFrame(ypred)\n",
        "s1=pd.DataFrame(y10)\n",
        "s1.corrwith(s, axis = 0) "
      ],
      "execution_count": 97,
      "outputs": [
        {
          "output_type": "execute_result",
          "data": {
            "text/plain": [
              "0    0.370116\n",
              "dtype: float64"
            ]
          },
          "metadata": {
            "tags": []
          },
          "execution_count": 97
        }
      ]
    },
    {
      "cell_type": "code",
      "metadata": {
        "id": "ZzIyxgSKLcls",
        "colab_type": "code",
        "colab": {
          "base_uri": "https://localhost:8080/",
          "height": 34
        },
        "outputId": "666a749b-d9e1-49ff-ccbe-8dedbe20ea83"
      },
      "source": [
        "r2_score(y10,ypred)"
      ],
      "execution_count": 98,
      "outputs": [
        {
          "output_type": "execute_result",
          "data": {
            "text/plain": [
              "0.13417915259277768"
            ]
          },
          "metadata": {
            "tags": []
          },
          "execution_count": 98
        }
      ]
    },
    {
      "cell_type": "code",
      "metadata": {
        "id": "Vz0yUtDVJSqy",
        "colab_type": "code",
        "colab": {
          "base_uri": "https://localhost:8080/",
          "height": 50
        },
        "outputId": "a38fcc88-62cf-4d54-faef-06841b87dd4e"
      },
      "source": [
        "ypred1=model.predict(X_test10)\n",
        "s=pd.DataFrame(ypred1)\n",
        "s1=pd.DataFrame(y_test10)\n",
        "s1.corrwith(s,axis=0)"
      ],
      "execution_count": 99,
      "outputs": [
        {
          "output_type": "execute_result",
          "data": {
            "text/plain": [
              "0    0.370116\n",
              "dtype: float64"
            ]
          },
          "metadata": {
            "tags": []
          },
          "execution_count": 99
        }
      ]
    },
    {
      "cell_type": "code",
      "metadata": {
        "id": "3OvG7PKCLeB2",
        "colab_type": "code",
        "colab": {
          "base_uri": "https://localhost:8080/",
          "height": 34
        },
        "outputId": "23e09d25-9d86-46c2-93d4-3135208a868e"
      },
      "source": [
        "r2_score(y_test10,ypred1)"
      ],
      "execution_count": 100,
      "outputs": [
        {
          "output_type": "execute_result",
          "data": {
            "text/plain": [
              "0.13417915259277768"
            ]
          },
          "metadata": {
            "tags": []
          },
          "execution_count": 100
        }
      ]
    },
    {
      "cell_type": "code",
      "metadata": {
        "id": "WBFxiG7GtOdT",
        "colab_type": "code",
        "outputId": "011c2df0-bd22-416b-d114-6c854f887a9b",
        "colab": {
          "base_uri": "https://localhost:8080/",
          "height": 1000
        }
      },
      "source": [
        "model.fit(X11, y11, validation_data=(X_test11,y_test11),epochs=50)"
      ],
      "execution_count": 101,
      "outputs": [
        {
          "output_type": "stream",
          "text": [
            "Train on 11997 samples, validate on 11997 samples\n",
            "Epoch 1/50\n",
            "11997/11997 [==============================] - 4s 344us/sample - loss: 0.0027 - acc: 0.8450 - val_loss: 0.0027 - val_acc: 0.8450\n",
            "Epoch 2/50\n",
            "11997/11997 [==============================] - 4s 340us/sample - loss: 0.0027 - acc: 0.8450 - val_loss: 0.0027 - val_acc: 0.8450\n",
            "Epoch 3/50\n",
            "11997/11997 [==============================] - 4s 336us/sample - loss: 0.0027 - acc: 0.8450 - val_loss: 0.0027 - val_acc: 0.8450\n",
            "Epoch 4/50\n",
            "11997/11997 [==============================] - 4s 335us/sample - loss: 0.0027 - acc: 0.8450 - val_loss: 0.0027 - val_acc: 0.8450\n",
            "Epoch 5/50\n",
            "11997/11997 [==============================] - 4s 332us/sample - loss: 0.0027 - acc: 0.8450 - val_loss: 0.0026 - val_acc: 0.8450\n",
            "Epoch 6/50\n",
            "11997/11997 [==============================] - 4s 343us/sample - loss: 0.0027 - acc: 0.8450 - val_loss: 0.0026 - val_acc: 0.8450\n",
            "Epoch 7/50\n",
            "11997/11997 [==============================] - 4s 344us/sample - loss: 0.0027 - acc: 0.8450 - val_loss: 0.0027 - val_acc: 0.8450\n",
            "Epoch 8/50\n",
            "11997/11997 [==============================] - 4s 330us/sample - loss: 0.0027 - acc: 0.8450 - val_loss: 0.0026 - val_acc: 0.8450\n",
            "Epoch 9/50\n",
            "11997/11997 [==============================] - 4s 342us/sample - loss: 0.0027 - acc: 0.8450 - val_loss: 0.0026 - val_acc: 0.8450\n",
            "Epoch 10/50\n",
            "11997/11997 [==============================] - 4s 330us/sample - loss: 0.0027 - acc: 0.8450 - val_loss: 0.0026 - val_acc: 0.8450\n",
            "Epoch 11/50\n",
            "11997/11997 [==============================] - 4s 345us/sample - loss: 0.0026 - acc: 0.8450 - val_loss: 0.0026 - val_acc: 0.8450\n",
            "Epoch 12/50\n",
            "11997/11997 [==============================] - 4s 339us/sample - loss: 0.0026 - acc: 0.8450 - val_loss: 0.0026 - val_acc: 0.8450\n",
            "Epoch 13/50\n",
            "11997/11997 [==============================] - 4s 340us/sample - loss: 0.0026 - acc: 0.8450 - val_loss: 0.0026 - val_acc: 0.8450\n",
            "Epoch 14/50\n",
            "11997/11997 [==============================] - 4s 327us/sample - loss: 0.0026 - acc: 0.8450 - val_loss: 0.0026 - val_acc: 0.8450\n",
            "Epoch 15/50\n",
            "11997/11997 [==============================] - 4s 319us/sample - loss: 0.0026 - acc: 0.8450 - val_loss: 0.0026 - val_acc: 0.8450\n",
            "Epoch 16/50\n",
            "11997/11997 [==============================] - 4s 324us/sample - loss: 0.0026 - acc: 0.8450 - val_loss: 0.0026 - val_acc: 0.8450\n",
            "Epoch 17/50\n",
            "11997/11997 [==============================] - 4s 322us/sample - loss: 0.0026 - acc: 0.8450 - val_loss: 0.0026 - val_acc: 0.8450\n",
            "Epoch 18/50\n",
            "11997/11997 [==============================] - 4s 324us/sample - loss: 0.0026 - acc: 0.8450 - val_loss: 0.0026 - val_acc: 0.8450\n",
            "Epoch 19/50\n",
            "11997/11997 [==============================] - 4s 325us/sample - loss: 0.0026 - acc: 0.8450 - val_loss: 0.0026 - val_acc: 0.8450\n",
            "Epoch 20/50\n",
            "11997/11997 [==============================] - 4s 319us/sample - loss: 0.0026 - acc: 0.8450 - val_loss: 0.0026 - val_acc: 0.8450\n",
            "Epoch 21/50\n",
            "11997/11997 [==============================] - 4s 345us/sample - loss: 0.0026 - acc: 0.8450 - val_loss: 0.0026 - val_acc: 0.8450\n",
            "Epoch 22/50\n",
            "11997/11997 [==============================] - 4s 332us/sample - loss: 0.0026 - acc: 0.8450 - val_loss: 0.0026 - val_acc: 0.8450\n",
            "Epoch 23/50\n",
            "11997/11997 [==============================] - 4s 329us/sample - loss: 0.0026 - acc: 0.8450 - val_loss: 0.0026 - val_acc: 0.8450\n",
            "Epoch 24/50\n",
            "11997/11997 [==============================] - 4s 337us/sample - loss: 0.0026 - acc: 0.8450 - val_loss: 0.0026 - val_acc: 0.8450\n",
            "Epoch 25/50\n",
            "11997/11997 [==============================] - 4s 329us/sample - loss: 0.0026 - acc: 0.8450 - val_loss: 0.0026 - val_acc: 0.8450\n",
            "Epoch 26/50\n",
            "11997/11997 [==============================] - 4s 332us/sample - loss: 0.0026 - acc: 0.8450 - val_loss: 0.0026 - val_acc: 0.8450\n",
            "Epoch 27/50\n",
            "11997/11997 [==============================] - 4s 334us/sample - loss: 0.0026 - acc: 0.8450 - val_loss: 0.0026 - val_acc: 0.8450\n",
            "Epoch 28/50\n",
            "11997/11997 [==============================] - 4s 341us/sample - loss: 0.0026 - acc: 0.8450 - val_loss: 0.0026 - val_acc: 0.8450\n",
            "Epoch 29/50\n",
            "11997/11997 [==============================] - 4s 347us/sample - loss: 0.0026 - acc: 0.8450 - val_loss: 0.0026 - val_acc: 0.8450\n",
            "Epoch 30/50\n",
            "11997/11997 [==============================] - 4s 344us/sample - loss: 0.0026 - acc: 0.8450 - val_loss: 0.0026 - val_acc: 0.8450\n",
            "Epoch 31/50\n",
            "11997/11997 [==============================] - 4s 333us/sample - loss: 0.0026 - acc: 0.8450 - val_loss: 0.0026 - val_acc: 0.8450\n",
            "Epoch 32/50\n",
            "11997/11997 [==============================] - 4s 333us/sample - loss: 0.0026 - acc: 0.8450 - val_loss: 0.0026 - val_acc: 0.8450\n",
            "Epoch 33/50\n",
            "11997/11997 [==============================] - 4s 332us/sample - loss: 0.0026 - acc: 0.8450 - val_loss: 0.0026 - val_acc: 0.8450\n",
            "Epoch 34/50\n",
            "11997/11997 [==============================] - 4s 329us/sample - loss: 0.0026 - acc: 0.8450 - val_loss: 0.0026 - val_acc: 0.8450\n",
            "Epoch 35/50\n",
            "11997/11997 [==============================] - 4s 328us/sample - loss: 0.0026 - acc: 0.8450 - val_loss: 0.0026 - val_acc: 0.8450\n",
            "Epoch 36/50\n",
            "11997/11997 [==============================] - 4s 340us/sample - loss: 0.0026 - acc: 0.8450 - val_loss: 0.0026 - val_acc: 0.8450\n",
            "Epoch 37/50\n",
            "11997/11997 [==============================] - 4s 334us/sample - loss: 0.0026 - acc: 0.8450 - val_loss: 0.0026 - val_acc: 0.8450\n",
            "Epoch 38/50\n",
            "11997/11997 [==============================] - 4s 337us/sample - loss: 0.0026 - acc: 0.8450 - val_loss: 0.0026 - val_acc: 0.8450\n",
            "Epoch 39/50\n",
            "11997/11997 [==============================] - 4s 332us/sample - loss: 0.0026 - acc: 0.8450 - val_loss: 0.0026 - val_acc: 0.8450\n",
            "Epoch 40/50\n",
            "11997/11997 [==============================] - 4s 322us/sample - loss: 0.0026 - acc: 0.8450 - val_loss: 0.0026 - val_acc: 0.8450\n",
            "Epoch 41/50\n",
            "11997/11997 [==============================] - 4s 339us/sample - loss: 0.0026 - acc: 0.8450 - val_loss: 0.0026 - val_acc: 0.8450\n",
            "Epoch 42/50\n",
            "11997/11997 [==============================] - 4s 339us/sample - loss: 0.0026 - acc: 0.8450 - val_loss: 0.0026 - val_acc: 0.8450\n",
            "Epoch 43/50\n",
            "11997/11997 [==============================] - 4s 335us/sample - loss: 0.0026 - acc: 0.8450 - val_loss: 0.0026 - val_acc: 0.8450\n",
            "Epoch 44/50\n",
            "11997/11997 [==============================] - 4s 334us/sample - loss: 0.0026 - acc: 0.8450 - val_loss: 0.0026 - val_acc: 0.8450\n",
            "Epoch 45/50\n",
            "11997/11997 [==============================] - 4s 332us/sample - loss: 0.0026 - acc: 0.8450 - val_loss: 0.0026 - val_acc: 0.8450\n",
            "Epoch 46/50\n",
            "11997/11997 [==============================] - 4s 335us/sample - loss: 0.0026 - acc: 0.8450 - val_loss: 0.0026 - val_acc: 0.8450\n",
            "Epoch 47/50\n",
            "11997/11997 [==============================] - 4s 336us/sample - loss: 0.0026 - acc: 0.8450 - val_loss: 0.0026 - val_acc: 0.8450\n",
            "Epoch 48/50\n",
            "11997/11997 [==============================] - 4s 337us/sample - loss: 0.0026 - acc: 0.8450 - val_loss: 0.0026 - val_acc: 0.8450\n",
            "Epoch 49/50\n",
            "11997/11997 [==============================] - 4s 336us/sample - loss: 0.0026 - acc: 0.8450 - val_loss: 0.0026 - val_acc: 0.8450\n",
            "Epoch 50/50\n",
            "11997/11997 [==============================] - 4s 334us/sample - loss: 0.0026 - acc: 0.8450 - val_loss: 0.0026 - val_acc: 0.8450\n"
          ],
          "name": "stdout"
        },
        {
          "output_type": "execute_result",
          "data": {
            "text/plain": [
              "<tensorflow.python.keras.callbacks.History at 0x7f5637c79470>"
            ]
          },
          "metadata": {
            "tags": []
          },
          "execution_count": 101
        }
      ]
    },
    {
      "cell_type": "code",
      "metadata": {
        "id": "TOytGCJYIByT",
        "colab_type": "code",
        "colab": {
          "base_uri": "https://localhost:8080/",
          "height": 50
        },
        "outputId": "662f8d8e-8f03-4f77-f87c-97366fb32027"
      },
      "source": [
        "ypred = model.predict(X11)\n",
        "s=pd.DataFrame(ypred)\n",
        "s1=pd.DataFrame(y11)\n",
        "s1.corrwith(s, axis = 0) "
      ],
      "execution_count": 102,
      "outputs": [
        {
          "output_type": "execute_result",
          "data": {
            "text/plain": [
              "0    0.363939\n",
              "dtype: float64"
            ]
          },
          "metadata": {
            "tags": []
          },
          "execution_count": 102
        }
      ]
    },
    {
      "cell_type": "code",
      "metadata": {
        "id": "iINdBIwoLTXh",
        "colab_type": "code",
        "colab": {
          "base_uri": "https://localhost:8080/",
          "height": 34
        },
        "outputId": "b8d697a1-fff0-4793-85c7-72436ae42e0f"
      },
      "source": [
        "r2_score(y11,ypred)"
      ],
      "execution_count": 103,
      "outputs": [
        {
          "output_type": "execute_result",
          "data": {
            "text/plain": [
              "0.11996657681356537"
            ]
          },
          "metadata": {
            "tags": []
          },
          "execution_count": 103
        }
      ]
    },
    {
      "cell_type": "code",
      "metadata": {
        "id": "4WAXVRGRJUGH",
        "colab_type": "code",
        "colab": {
          "base_uri": "https://localhost:8080/",
          "height": 50
        },
        "outputId": "42bf897a-0de7-447a-bb63-ce19e7aa4926"
      },
      "source": [
        "ypred1=model.predict(X_test11)\n",
        "s=pd.DataFrame(ypred1)\n",
        "s1=pd.DataFrame(y_test11)\n",
        "s1.corrwith(s,axis=0)"
      ],
      "execution_count": 104,
      "outputs": [
        {
          "output_type": "execute_result",
          "data": {
            "text/plain": [
              "0    0.363939\n",
              "dtype: float64"
            ]
          },
          "metadata": {
            "tags": []
          },
          "execution_count": 104
        }
      ]
    },
    {
      "cell_type": "code",
      "metadata": {
        "id": "IteaW7lyLXic",
        "colab_type": "code",
        "colab": {
          "base_uri": "https://localhost:8080/",
          "height": 34
        },
        "outputId": "15e00001-3b0f-4be0-a035-d8bbd5a10539"
      },
      "source": [
        "r2_score(y_test11,ypred1)"
      ],
      "execution_count": 105,
      "outputs": [
        {
          "output_type": "execute_result",
          "data": {
            "text/plain": [
              "0.11996657681356537"
            ]
          },
          "metadata": {
            "tags": []
          },
          "execution_count": 105
        }
      ]
    },
    {
      "cell_type": "code",
      "metadata": {
        "id": "uin8xQNXB74p",
        "colab_type": "code",
        "outputId": "fd320c9b-1845-45a6-8188-34e82dba11b3",
        "colab": {
          "base_uri": "https://localhost:8080/",
          "height": 1000
        }
      },
      "source": [
        "model.fit(X12, y12, validation_data=(X_test12,y_test12),epochs=50)"
      ],
      "execution_count": 106,
      "outputs": [
        {
          "output_type": "stream",
          "text": [
            "Train on 11997 samples, validate on 11997 samples\n",
            "Epoch 1/50\n",
            "11997/11997 [==============================] - 4s 351us/sample - loss: 0.0018 - acc: 0.8385 - val_loss: 0.0017 - val_acc: 0.8385\n",
            "Epoch 2/50\n",
            "11997/11997 [==============================] - 4s 336us/sample - loss: 0.0017 - acc: 0.8385 - val_loss: 0.0017 - val_acc: 0.8385\n",
            "Epoch 3/50\n",
            "11997/11997 [==============================] - 4s 337us/sample - loss: 0.0017 - acc: 0.8385 - val_loss: 0.0017 - val_acc: 0.8385\n",
            "Epoch 4/50\n",
            "11997/11997 [==============================] - 4s 333us/sample - loss: 0.0017 - acc: 0.8385 - val_loss: 0.0017 - val_acc: 0.8385\n",
            "Epoch 5/50\n",
            "11997/11997 [==============================] - 4s 331us/sample - loss: 0.0017 - acc: 0.8385 - val_loss: 0.0017 - val_acc: 0.8385\n",
            "Epoch 6/50\n",
            "11997/11997 [==============================] - 4s 350us/sample - loss: 0.0017 - acc: 0.8385 - val_loss: 0.0017 - val_acc: 0.8385\n",
            "Epoch 7/50\n",
            "11997/11997 [==============================] - 4s 340us/sample - loss: 0.0017 - acc: 0.8385 - val_loss: 0.0017 - val_acc: 0.8385\n",
            "Epoch 8/50\n",
            "11997/11997 [==============================] - 4s 340us/sample - loss: 0.0017 - acc: 0.8385 - val_loss: 0.0017 - val_acc: 0.8385\n",
            "Epoch 9/50\n",
            "11997/11997 [==============================] - 4s 334us/sample - loss: 0.0017 - acc: 0.8385 - val_loss: 0.0017 - val_acc: 0.8385\n",
            "Epoch 10/50\n",
            "11997/11997 [==============================] - 4s 333us/sample - loss: 0.0017 - acc: 0.8385 - val_loss: 0.0017 - val_acc: 0.8385\n",
            "Epoch 11/50\n",
            "11997/11997 [==============================] - 4s 334us/sample - loss: 0.0017 - acc: 0.8385 - val_loss: 0.0017 - val_acc: 0.8385\n",
            "Epoch 12/50\n",
            "11997/11997 [==============================] - 4s 338us/sample - loss: 0.0017 - acc: 0.8385 - val_loss: 0.0017 - val_acc: 0.8385\n",
            "Epoch 13/50\n",
            "11997/11997 [==============================] - 4s 335us/sample - loss: 0.0017 - acc: 0.8385 - val_loss: 0.0017 - val_acc: 0.8385\n",
            "Epoch 14/50\n",
            "11997/11997 [==============================] - 4s 332us/sample - loss: 0.0017 - acc: 0.8385 - val_loss: 0.0017 - val_acc: 0.8385\n",
            "Epoch 15/50\n",
            "11997/11997 [==============================] - 4s 338us/sample - loss: 0.0017 - acc: 0.8385 - val_loss: 0.0017 - val_acc: 0.8385\n",
            "Epoch 16/50\n",
            "11997/11997 [==============================] - 4s 337us/sample - loss: 0.0017 - acc: 0.8385 - val_loss: 0.0017 - val_acc: 0.8385\n",
            "Epoch 17/50\n",
            "11997/11997 [==============================] - 4s 330us/sample - loss: 0.0017 - acc: 0.8385 - val_loss: 0.0017 - val_acc: 0.8385\n",
            "Epoch 18/50\n",
            "11997/11997 [==============================] - 4s 341us/sample - loss: 0.0017 - acc: 0.8385 - val_loss: 0.0017 - val_acc: 0.8385\n",
            "Epoch 19/50\n",
            "11997/11997 [==============================] - 4s 336us/sample - loss: 0.0017 - acc: 0.8385 - val_loss: 0.0017 - val_acc: 0.8385\n",
            "Epoch 20/50\n",
            "11997/11997 [==============================] - 4s 344us/sample - loss: 0.0017 - acc: 0.8385 - val_loss: 0.0017 - val_acc: 0.8385\n",
            "Epoch 21/50\n",
            "11997/11997 [==============================] - 4s 340us/sample - loss: 0.0017 - acc: 0.8385 - val_loss: 0.0017 - val_acc: 0.8385\n",
            "Epoch 22/50\n",
            "11997/11997 [==============================] - 4s 340us/sample - loss: 0.0017 - acc: 0.8385 - val_loss: 0.0017 - val_acc: 0.8385\n",
            "Epoch 23/50\n",
            "11997/11997 [==============================] - 4s 336us/sample - loss: 0.0017 - acc: 0.8385 - val_loss: 0.0017 - val_acc: 0.8385\n",
            "Epoch 24/50\n",
            "11997/11997 [==============================] - 4s 338us/sample - loss: 0.0017 - acc: 0.8385 - val_loss: 0.0017 - val_acc: 0.8385\n",
            "Epoch 25/50\n",
            "11997/11997 [==============================] - 4s 344us/sample - loss: 0.0017 - acc: 0.8385 - val_loss: 0.0017 - val_acc: 0.8385\n",
            "Epoch 26/50\n",
            "11997/11997 [==============================] - 4s 340us/sample - loss: 0.0017 - acc: 0.8385 - val_loss: 0.0017 - val_acc: 0.8385\n",
            "Epoch 27/50\n",
            "11997/11997 [==============================] - 4s 340us/sample - loss: 0.0017 - acc: 0.8385 - val_loss: 0.0017 - val_acc: 0.8385\n",
            "Epoch 28/50\n",
            "11997/11997 [==============================] - 4s 343us/sample - loss: 0.0017 - acc: 0.8385 - val_loss: 0.0017 - val_acc: 0.8385\n",
            "Epoch 29/50\n",
            "11997/11997 [==============================] - 4s 339us/sample - loss: 0.0017 - acc: 0.8385 - val_loss: 0.0017 - val_acc: 0.8385\n",
            "Epoch 30/50\n",
            "11997/11997 [==============================] - 4s 342us/sample - loss: 0.0017 - acc: 0.8385 - val_loss: 0.0017 - val_acc: 0.8385\n",
            "Epoch 31/50\n",
            "11997/11997 [==============================] - 4s 336us/sample - loss: 0.0017 - acc: 0.8385 - val_loss: 0.0017 - val_acc: 0.8385\n",
            "Epoch 32/50\n",
            "11997/11997 [==============================] - 4s 343us/sample - loss: 0.0017 - acc: 0.8385 - val_loss: 0.0017 - val_acc: 0.8385\n",
            "Epoch 33/50\n",
            "11997/11997 [==============================] - 4s 331us/sample - loss: 0.0017 - acc: 0.8385 - val_loss: 0.0017 - val_acc: 0.8385\n",
            "Epoch 34/50\n",
            "11997/11997 [==============================] - 4s 330us/sample - loss: 0.0017 - acc: 0.8385 - val_loss: 0.0017 - val_acc: 0.8385\n",
            "Epoch 35/50\n",
            "11997/11997 [==============================] - 4s 325us/sample - loss: 0.0017 - acc: 0.8385 - val_loss: 0.0017 - val_acc: 0.8385\n",
            "Epoch 36/50\n",
            "11997/11997 [==============================] - 4s 327us/sample - loss: 0.0017 - acc: 0.8385 - val_loss: 0.0017 - val_acc: 0.8385\n",
            "Epoch 37/50\n",
            "11997/11997 [==============================] - 4s 334us/sample - loss: 0.0017 - acc: 0.8385 - val_loss: 0.0016 - val_acc: 0.8385\n",
            "Epoch 38/50\n",
            "11997/11997 [==============================] - 4s 328us/sample - loss: 0.0017 - acc: 0.8385 - val_loss: 0.0016 - val_acc: 0.8385\n",
            "Epoch 39/50\n",
            "11997/11997 [==============================] - 4s 331us/sample - loss: 0.0017 - acc: 0.8385 - val_loss: 0.0016 - val_acc: 0.8385\n",
            "Epoch 40/50\n",
            "11997/11997 [==============================] - 4s 330us/sample - loss: 0.0017 - acc: 0.8385 - val_loss: 0.0017 - val_acc: 0.8385\n",
            "Epoch 41/50\n",
            "11997/11997 [==============================] - 4s 330us/sample - loss: 0.0017 - acc: 0.8385 - val_loss: 0.0017 - val_acc: 0.8385\n",
            "Epoch 42/50\n",
            "11997/11997 [==============================] - 4s 333us/sample - loss: 0.0017 - acc: 0.8385 - val_loss: 0.0017 - val_acc: 0.8385\n",
            "Epoch 43/50\n",
            "11997/11997 [==============================] - 4s 345us/sample - loss: 0.0017 - acc: 0.8385 - val_loss: 0.0017 - val_acc: 0.8385\n",
            "Epoch 44/50\n",
            "11997/11997 [==============================] - 4s 343us/sample - loss: 0.0017 - acc: 0.8385 - val_loss: 0.0017 - val_acc: 0.8385\n",
            "Epoch 45/50\n",
            "11997/11997 [==============================] - 4s 332us/sample - loss: 0.0017 - acc: 0.8385 - val_loss: 0.0016 - val_acc: 0.8385\n",
            "Epoch 46/50\n",
            "11997/11997 [==============================] - 4s 330us/sample - loss: 0.0017 - acc: 0.8385 - val_loss: 0.0017 - val_acc: 0.8385\n",
            "Epoch 47/50\n",
            "11997/11997 [==============================] - 4s 332us/sample - loss: 0.0017 - acc: 0.8385 - val_loss: 0.0017 - val_acc: 0.8385\n",
            "Epoch 48/50\n",
            "11997/11997 [==============================] - 4s 336us/sample - loss: 0.0017 - acc: 0.8385 - val_loss: 0.0016 - val_acc: 0.8385\n",
            "Epoch 49/50\n",
            "11997/11997 [==============================] - 4s 327us/sample - loss: 0.0017 - acc: 0.8385 - val_loss: 0.0017 - val_acc: 0.8385\n",
            "Epoch 50/50\n",
            "11997/11997 [==============================] - 4s 323us/sample - loss: 0.0017 - acc: 0.8385 - val_loss: 0.0016 - val_acc: 0.8385\n"
          ],
          "name": "stdout"
        },
        {
          "output_type": "execute_result",
          "data": {
            "text/plain": [
              "<tensorflow.python.keras.callbacks.History at 0x7f56370c7240>"
            ]
          },
          "metadata": {
            "tags": []
          },
          "execution_count": 106
        }
      ]
    },
    {
      "cell_type": "code",
      "metadata": {
        "id": "cdlcVaWfIDEI",
        "colab_type": "code",
        "colab": {
          "base_uri": "https://localhost:8080/",
          "height": 50
        },
        "outputId": "df918eff-3ab4-46fa-e991-7708b3351dbb"
      },
      "source": [
        "ypred = model.predict(X12)\n",
        "s=pd.DataFrame(ypred)\n",
        "s1=pd.DataFrame(y12)\n",
        "s1.corrwith(s, axis = 0) "
      ],
      "execution_count": 107,
      "outputs": [
        {
          "output_type": "execute_result",
          "data": {
            "text/plain": [
              "0    0.407773\n",
              "dtype: float64"
            ]
          },
          "metadata": {
            "tags": []
          },
          "execution_count": 107
        }
      ]
    },
    {
      "cell_type": "code",
      "metadata": {
        "id": "lcIK1vV7LH0l",
        "colab_type": "code",
        "colab": {
          "base_uri": "https://localhost:8080/",
          "height": 34
        },
        "outputId": "24dd31d0-cec0-4db2-8128-2bfbfa2b3c3e"
      },
      "source": [
        "r2_score(y12,ypred)"
      ],
      "execution_count": 108,
      "outputs": [
        {
          "output_type": "execute_result",
          "data": {
            "text/plain": [
              "0.1652100941841902"
            ]
          },
          "metadata": {
            "tags": []
          },
          "execution_count": 108
        }
      ]
    },
    {
      "cell_type": "code",
      "metadata": {
        "id": "C1dAhjw5JWAB",
        "colab_type": "code",
        "colab": {
          "base_uri": "https://localhost:8080/",
          "height": 50
        },
        "outputId": "0d03be93-fd7c-42c9-993d-9fec20a70b2c"
      },
      "source": [
        "ypred1=model.predict(X_test12)\n",
        "s=pd.DataFrame(ypred1)\n",
        "s1=pd.DataFrame(y_test12)\n",
        "s1.corrwith(s,axis=0)"
      ],
      "execution_count": 109,
      "outputs": [
        {
          "output_type": "execute_result",
          "data": {
            "text/plain": [
              "0    0.407773\n",
              "dtype: float64"
            ]
          },
          "metadata": {
            "tags": []
          },
          "execution_count": 109
        }
      ]
    },
    {
      "cell_type": "code",
      "metadata": {
        "id": "SUu9HNNALKXT",
        "colab_type": "code",
        "colab": {
          "base_uri": "https://localhost:8080/",
          "height": 34
        },
        "outputId": "341b573d-68d5-41e1-c675-76840e04f7d3"
      },
      "source": [
        "r2_score(y_test12,ypred1)"
      ],
      "execution_count": 110,
      "outputs": [
        {
          "output_type": "execute_result",
          "data": {
            "text/plain": [
              "0.1652100941841902"
            ]
          },
          "metadata": {
            "tags": []
          },
          "execution_count": 110
        }
      ]
    },
    {
      "cell_type": "code",
      "metadata": {
        "id": "q24UogQuB8LN",
        "colab_type": "code",
        "outputId": "aeb464a6-068a-46cd-8c61-9069dc60c102",
        "colab": {
          "base_uri": "https://localhost:8080/",
          "height": 1000
        }
      },
      "source": [
        "model.fit(X13, y13, validation_data=(X_test13,y_test13),epochs=50)"
      ],
      "execution_count": 111,
      "outputs": [
        {
          "output_type": "stream",
          "text": [
            "Train on 11997 samples, validate on 11997 samples\n",
            "Epoch 1/50\n",
            "11997/11997 [==============================] - 4s 331us/sample - loss: 0.0027 - acc: 0.8430 - val_loss: 0.0026 - val_acc: 0.8430\n",
            "Epoch 2/50\n",
            "11997/11997 [==============================] - 4s 329us/sample - loss: 0.0026 - acc: 0.8430 - val_loss: 0.0026 - val_acc: 0.8430\n",
            "Epoch 3/50\n",
            "11997/11997 [==============================] - 4s 327us/sample - loss: 0.0026 - acc: 0.8430 - val_loss: 0.0026 - val_acc: 0.8430\n",
            "Epoch 4/50\n",
            "11997/11997 [==============================] - 4s 331us/sample - loss: 0.0026 - acc: 0.8430 - val_loss: 0.0026 - val_acc: 0.8430\n",
            "Epoch 5/50\n",
            "11997/11997 [==============================] - 4s 341us/sample - loss: 0.0026 - acc: 0.8430 - val_loss: 0.0028 - val_acc: 0.8430\n",
            "Epoch 6/50\n",
            "11997/11997 [==============================] - 4s 347us/sample - loss: 0.0026 - acc: 0.8430 - val_loss: 0.0026 - val_acc: 0.8430\n",
            "Epoch 7/50\n",
            "11997/11997 [==============================] - 4s 341us/sample - loss: 0.0026 - acc: 0.8430 - val_loss: 0.0026 - val_acc: 0.8430\n",
            "Epoch 8/50\n",
            "11997/11997 [==============================] - 4s 326us/sample - loss: 0.0026 - acc: 0.8430 - val_loss: 0.0026 - val_acc: 0.8430\n",
            "Epoch 9/50\n",
            "11997/11997 [==============================] - 4s 331us/sample - loss: 0.0026 - acc: 0.8430 - val_loss: 0.0026 - val_acc: 0.8430\n",
            "Epoch 10/50\n",
            "11997/11997 [==============================] - 4s 339us/sample - loss: 0.0026 - acc: 0.8430 - val_loss: 0.0026 - val_acc: 0.8430\n",
            "Epoch 11/50\n",
            "11997/11997 [==============================] - 4s 331us/sample - loss: 0.0026 - acc: 0.8430 - val_loss: 0.0026 - val_acc: 0.8430\n",
            "Epoch 12/50\n",
            "11997/11997 [==============================] - 4s 332us/sample - loss: 0.0026 - acc: 0.8430 - val_loss: 0.0026 - val_acc: 0.8430\n",
            "Epoch 13/50\n",
            "11997/11997 [==============================] - 4s 321us/sample - loss: 0.0026 - acc: 0.8430 - val_loss: 0.0025 - val_acc: 0.8430\n",
            "Epoch 14/50\n",
            "11997/11997 [==============================] - 4s 325us/sample - loss: 0.0026 - acc: 0.8430 - val_loss: 0.0026 - val_acc: 0.8430\n",
            "Epoch 15/50\n",
            "11997/11997 [==============================] - 4s 331us/sample - loss: 0.0026 - acc: 0.8430 - val_loss: 0.0026 - val_acc: 0.8430\n",
            "Epoch 16/50\n",
            "11997/11997 [==============================] - 4s 333us/sample - loss: 0.0026 - acc: 0.8430 - val_loss: 0.0026 - val_acc: 0.8430\n",
            "Epoch 17/50\n",
            "11997/11997 [==============================] - 4s 339us/sample - loss: 0.0026 - acc: 0.8430 - val_loss: 0.0026 - val_acc: 0.8430\n",
            "Epoch 18/50\n",
            "11997/11997 [==============================] - 4s 339us/sample - loss: 0.0026 - acc: 0.8430 - val_loss: 0.0026 - val_acc: 0.8430\n",
            "Epoch 19/50\n",
            "11997/11997 [==============================] - 4s 336us/sample - loss: 0.0026 - acc: 0.8430 - val_loss: 0.0026 - val_acc: 0.8430\n",
            "Epoch 20/50\n",
            "11997/11997 [==============================] - 4s 337us/sample - loss: 0.0026 - acc: 0.8430 - val_loss: 0.0026 - val_acc: 0.8430\n",
            "Epoch 21/50\n",
            "11997/11997 [==============================] - 4s 334us/sample - loss: 0.0026 - acc: 0.8430 - val_loss: 0.0025 - val_acc: 0.8430\n",
            "Epoch 22/50\n",
            "11997/11997 [==============================] - 4s 330us/sample - loss: 0.0026 - acc: 0.8430 - val_loss: 0.0025 - val_acc: 0.8430\n",
            "Epoch 23/50\n",
            "11997/11997 [==============================] - 4s 342us/sample - loss: 0.0026 - acc: 0.8430 - val_loss: 0.0025 - val_acc: 0.8430\n",
            "Epoch 24/50\n",
            "11997/11997 [==============================] - 4s 341us/sample - loss: 0.0026 - acc: 0.8430 - val_loss: 0.0025 - val_acc: 0.8430\n",
            "Epoch 25/50\n",
            "11997/11997 [==============================] - 4s 342us/sample - loss: 0.0026 - acc: 0.8430 - val_loss: 0.0025 - val_acc: 0.8430\n",
            "Epoch 26/50\n",
            "11997/11997 [==============================] - 4s 350us/sample - loss: 0.0026 - acc: 0.8430 - val_loss: 0.0025 - val_acc: 0.8430\n",
            "Epoch 27/50\n",
            "11997/11997 [==============================] - 4s 346us/sample - loss: 0.0026 - acc: 0.8430 - val_loss: 0.0025 - val_acc: 0.8430\n",
            "Epoch 28/50\n",
            "11997/11997 [==============================] - 4s 343us/sample - loss: 0.0026 - acc: 0.8430 - val_loss: 0.0026 - val_acc: 0.8430\n",
            "Epoch 29/50\n",
            "11997/11997 [==============================] - 4s 346us/sample - loss: 0.0026 - acc: 0.8430 - val_loss: 0.0025 - val_acc: 0.8430\n",
            "Epoch 30/50\n",
            "11997/11997 [==============================] - 4s 343us/sample - loss: 0.0026 - acc: 0.8430 - val_loss: 0.0025 - val_acc: 0.8430\n",
            "Epoch 31/50\n",
            "11997/11997 [==============================] - 4s 346us/sample - loss: 0.0026 - acc: 0.8430 - val_loss: 0.0025 - val_acc: 0.8430\n",
            "Epoch 32/50\n",
            "11997/11997 [==============================] - 4s 373us/sample - loss: 0.0026 - acc: 0.8430 - val_loss: 0.0026 - val_acc: 0.8430\n",
            "Epoch 33/50\n",
            "11997/11997 [==============================] - 4s 359us/sample - loss: 0.0025 - acc: 0.8430 - val_loss: 0.0025 - val_acc: 0.8430\n",
            "Epoch 34/50\n",
            "11997/11997 [==============================] - 4s 359us/sample - loss: 0.0025 - acc: 0.8430 - val_loss: 0.0025 - val_acc: 0.8430\n",
            "Epoch 35/50\n",
            "11997/11997 [==============================] - 4s 343us/sample - loss: 0.0026 - acc: 0.8430 - val_loss: 0.0025 - val_acc: 0.8430\n",
            "Epoch 36/50\n",
            "11997/11997 [==============================] - 4s 347us/sample - loss: 0.0026 - acc: 0.8430 - val_loss: 0.0026 - val_acc: 0.8430\n",
            "Epoch 37/50\n",
            "11997/11997 [==============================] - 4s 346us/sample - loss: 0.0026 - acc: 0.8430 - val_loss: 0.0025 - val_acc: 0.8430\n",
            "Epoch 38/50\n",
            "11997/11997 [==============================] - 4s 348us/sample - loss: 0.0026 - acc: 0.8430 - val_loss: 0.0025 - val_acc: 0.8430\n",
            "Epoch 39/50\n",
            "11997/11997 [==============================] - 4s 349us/sample - loss: 0.0025 - acc: 0.8430 - val_loss: 0.0025 - val_acc: 0.8430\n",
            "Epoch 40/50\n",
            "11997/11997 [==============================] - 4s 348us/sample - loss: 0.0025 - acc: 0.8430 - val_loss: 0.0025 - val_acc: 0.8430\n",
            "Epoch 41/50\n",
            "11997/11997 [==============================] - 4s 342us/sample - loss: 0.0025 - acc: 0.8430 - val_loss: 0.0025 - val_acc: 0.8430\n",
            "Epoch 42/50\n",
            "11997/11997 [==============================] - 4s 345us/sample - loss: 0.0025 - acc: 0.8430 - val_loss: 0.0025 - val_acc: 0.8430\n",
            "Epoch 43/50\n",
            "11997/11997 [==============================] - 4s 344us/sample - loss: 0.0025 - acc: 0.8430 - val_loss: 0.0026 - val_acc: 0.8430\n",
            "Epoch 44/50\n",
            "11997/11997 [==============================] - 4s 343us/sample - loss: 0.0026 - acc: 0.8430 - val_loss: 0.0025 - val_acc: 0.8430\n",
            "Epoch 45/50\n",
            "11997/11997 [==============================] - 4s 356us/sample - loss: 0.0025 - acc: 0.8430 - val_loss: 0.0025 - val_acc: 0.8430\n",
            "Epoch 46/50\n",
            "11997/11997 [==============================] - 4s 346us/sample - loss: 0.0025 - acc: 0.8430 - val_loss: 0.0025 - val_acc: 0.8430\n",
            "Epoch 47/50\n",
            "11997/11997 [==============================] - 4s 343us/sample - loss: 0.0025 - acc: 0.8430 - val_loss: 0.0025 - val_acc: 0.8430\n",
            "Epoch 48/50\n",
            "11997/11997 [==============================] - 4s 348us/sample - loss: 0.0025 - acc: 0.8430 - val_loss: 0.0025 - val_acc: 0.8430\n",
            "Epoch 49/50\n",
            "11997/11997 [==============================] - 4s 351us/sample - loss: 0.0025 - acc: 0.8430 - val_loss: 0.0025 - val_acc: 0.8430\n",
            "Epoch 50/50\n",
            "11997/11997 [==============================] - 4s 345us/sample - loss: 0.0025 - acc: 0.8430 - val_loss: 0.0025 - val_acc: 0.8430\n"
          ],
          "name": "stdout"
        },
        {
          "output_type": "execute_result",
          "data": {
            "text/plain": [
              "<tensorflow.python.keras.callbacks.History at 0x7f5636dbea20>"
            ]
          },
          "metadata": {
            "tags": []
          },
          "execution_count": 111
        }
      ]
    },
    {
      "cell_type": "code",
      "metadata": {
        "id": "VhNbhU3fIE3L",
        "colab_type": "code",
        "colab": {
          "base_uri": "https://localhost:8080/",
          "height": 50
        },
        "outputId": "3b6f983b-0764-4627-8987-7a580f76bbc8"
      },
      "source": [
        "ypred = model.predict(X13)\n",
        "s=pd.DataFrame(ypred)\n",
        "s1=pd.DataFrame(y13)\n",
        "s1.corrwith(s, axis = 0) "
      ],
      "execution_count": 112,
      "outputs": [
        {
          "output_type": "execute_result",
          "data": {
            "text/plain": [
              "0    0.375957\n",
              "dtype: float64"
            ]
          },
          "metadata": {
            "tags": []
          },
          "execution_count": 112
        }
      ]
    },
    {
      "cell_type": "code",
      "metadata": {
        "id": "rDtK58AIK8cY",
        "colab_type": "code",
        "colab": {
          "base_uri": "https://localhost:8080/",
          "height": 34
        },
        "outputId": "25400529-3359-4b51-a416-a2ac66176772"
      },
      "source": [
        "r2_score(y13,ypred)"
      ],
      "execution_count": 113,
      "outputs": [
        {
          "output_type": "execute_result",
          "data": {
            "text/plain": [
              "0.13301052927118162"
            ]
          },
          "metadata": {
            "tags": []
          },
          "execution_count": 113
        }
      ]
    },
    {
      "cell_type": "code",
      "metadata": {
        "id": "aRT60eIMJXc9",
        "colab_type": "code",
        "colab": {
          "base_uri": "https://localhost:8080/",
          "height": 50
        },
        "outputId": "df5c3a7f-11e0-46e3-ef69-3fd749642568"
      },
      "source": [
        "ypred1=model.predict(X_test13)\n",
        "s=pd.DataFrame(ypred1)\n",
        "s1=pd.DataFrame(y_test13)\n",
        "s1.corrwith(s,axis=0)"
      ],
      "execution_count": 114,
      "outputs": [
        {
          "output_type": "execute_result",
          "data": {
            "text/plain": [
              "0    0.375957\n",
              "dtype: float64"
            ]
          },
          "metadata": {
            "tags": []
          },
          "execution_count": 114
        }
      ]
    },
    {
      "cell_type": "code",
      "metadata": {
        "id": "5xh4_heUK-xf",
        "colab_type": "code",
        "colab": {
          "base_uri": "https://localhost:8080/",
          "height": 34
        },
        "outputId": "cdec481f-3d10-435a-df9f-789e12686551"
      },
      "source": [
        "r2_score(y_test13,ypred1)"
      ],
      "execution_count": 115,
      "outputs": [
        {
          "output_type": "execute_result",
          "data": {
            "text/plain": [
              "0.13301052927118162"
            ]
          },
          "metadata": {
            "tags": []
          },
          "execution_count": 115
        }
      ]
    },
    {
      "cell_type": "code",
      "metadata": {
        "id": "ZOiZXqKJB8jC",
        "colab_type": "code",
        "colab": {
          "base_uri": "https://localhost:8080/",
          "height": 1000
        },
        "outputId": "64ba8c53-db8b-40c6-894f-992537a3d96f"
      },
      "source": [
        "model.fit(X14, y14, validation_data=(X_test14,y_test14),epochs=50)"
      ],
      "execution_count": 116,
      "outputs": [
        {
          "output_type": "stream",
          "text": [
            "Train on 11997 samples, validate on 11997 samples\n",
            "Epoch 1/50\n",
            "11997/11997 [==============================] - 4s 338us/sample - loss: 0.0026 - acc: 0.8337 - val_loss: 0.0025 - val_acc: 0.8338\n",
            "Epoch 2/50\n",
            "11997/11997 [==============================] - 4s 335us/sample - loss: 0.0025 - acc: 0.8338 - val_loss: 0.0025 - val_acc: 0.8338\n",
            "Epoch 3/50\n",
            "11997/11997 [==============================] - 4s 346us/sample - loss: 0.0025 - acc: 0.8338 - val_loss: 0.0025 - val_acc: 0.8338\n",
            "Epoch 4/50\n",
            "11997/11997 [==============================] - 4s 344us/sample - loss: 0.0025 - acc: 0.8338 - val_loss: 0.0025 - val_acc: 0.8338\n",
            "Epoch 5/50\n",
            "11997/11997 [==============================] - 4s 346us/sample - loss: 0.0025 - acc: 0.8338 - val_loss: 0.0025 - val_acc: 0.8338\n",
            "Epoch 6/50\n",
            "11997/11997 [==============================] - 4s 339us/sample - loss: 0.0025 - acc: 0.8338 - val_loss: 0.0025 - val_acc: 0.8338\n",
            "Epoch 7/50\n",
            "11997/11997 [==============================] - 4s 341us/sample - loss: 0.0025 - acc: 0.8338 - val_loss: 0.0025 - val_acc: 0.8338\n",
            "Epoch 8/50\n",
            "11997/11997 [==============================] - 4s 347us/sample - loss: 0.0025 - acc: 0.8338 - val_loss: 0.0025 - val_acc: 0.8338\n",
            "Epoch 9/50\n",
            "11997/11997 [==============================] - 4s 337us/sample - loss: 0.0025 - acc: 0.8338 - val_loss: 0.0025 - val_acc: 0.8338\n",
            "Epoch 10/50\n",
            "11997/11997 [==============================] - 4s 345us/sample - loss: 0.0025 - acc: 0.8338 - val_loss: 0.0024 - val_acc: 0.8338\n",
            "Epoch 11/50\n",
            "11997/11997 [==============================] - 4s 349us/sample - loss: 0.0025 - acc: 0.8338 - val_loss: 0.0025 - val_acc: 0.8338\n",
            "Epoch 12/50\n",
            "11997/11997 [==============================] - 4s 343us/sample - loss: 0.0025 - acc: 0.8338 - val_loss: 0.0024 - val_acc: 0.8338\n",
            "Epoch 13/50\n",
            "11997/11997 [==============================] - 4s 343us/sample - loss: 0.0025 - acc: 0.8338 - val_loss: 0.0025 - val_acc: 0.8338\n",
            "Epoch 14/50\n",
            "11997/11997 [==============================] - 4s 345us/sample - loss: 0.0025 - acc: 0.8338 - val_loss: 0.0024 - val_acc: 0.8338\n",
            "Epoch 15/50\n",
            "11997/11997 [==============================] - 4s 341us/sample - loss: 0.0025 - acc: 0.8338 - val_loss: 0.0025 - val_acc: 0.8338\n",
            "Epoch 16/50\n",
            "11997/11997 [==============================] - 4s 350us/sample - loss: 0.0025 - acc: 0.8338 - val_loss: 0.0025 - val_acc: 0.8338\n",
            "Epoch 17/50\n",
            "11997/11997 [==============================] - 4s 345us/sample - loss: 0.0025 - acc: 0.8338 - val_loss: 0.0024 - val_acc: 0.8338\n",
            "Epoch 18/50\n",
            "11997/11997 [==============================] - 4s 349us/sample - loss: 0.0025 - acc: 0.8338 - val_loss: 0.0024 - val_acc: 0.8338\n",
            "Epoch 19/50\n",
            "11997/11997 [==============================] - 4s 337us/sample - loss: 0.0025 - acc: 0.8338 - val_loss: 0.0025 - val_acc: 0.8338\n",
            "Epoch 20/50\n",
            "11997/11997 [==============================] - 4s 328us/sample - loss: 0.0025 - acc: 0.8338 - val_loss: 0.0024 - val_acc: 0.8338\n",
            "Epoch 21/50\n",
            "11997/11997 [==============================] - 4s 334us/sample - loss: 0.0024 - acc: 0.8338 - val_loss: 0.0024 - val_acc: 0.8338\n",
            "Epoch 22/50\n",
            "11997/11997 [==============================] - 4s 331us/sample - loss: 0.0024 - acc: 0.8338 - val_loss: 0.0024 - val_acc: 0.8338\n",
            "Epoch 23/50\n",
            "11997/11997 [==============================] - 4s 351us/sample - loss: 0.0024 - acc: 0.8338 - val_loss: 0.0024 - val_acc: 0.8338\n",
            "Epoch 24/50\n",
            "11997/11997 [==============================] - 4s 340us/sample - loss: 0.0024 - acc: 0.8338 - val_loss: 0.0024 - val_acc: 0.8338\n",
            "Epoch 25/50\n",
            "11997/11997 [==============================] - 4s 345us/sample - loss: 0.0024 - acc: 0.8338 - val_loss: 0.0024 - val_acc: 0.8338\n",
            "Epoch 26/50\n",
            "11997/11997 [==============================] - 4s 338us/sample - loss: 0.0024 - acc: 0.8338 - val_loss: 0.0024 - val_acc: 0.8338\n",
            "Epoch 27/50\n",
            "11997/11997 [==============================] - 4s 338us/sample - loss: 0.0024 - acc: 0.8338 - val_loss: 0.0024 - val_acc: 0.8338\n",
            "Epoch 28/50\n",
            "11997/11997 [==============================] - 4s 332us/sample - loss: 0.0024 - acc: 0.8338 - val_loss: 0.0024 - val_acc: 0.8338\n",
            "Epoch 29/50\n",
            "11997/11997 [==============================] - 4s 329us/sample - loss: 0.0024 - acc: 0.8338 - val_loss: 0.0024 - val_acc: 0.8338\n",
            "Epoch 30/50\n",
            "11997/11997 [==============================] - 4s 334us/sample - loss: 0.0024 - acc: 0.8338 - val_loss: 0.0024 - val_acc: 0.8338\n",
            "Epoch 31/50\n",
            "11997/11997 [==============================] - 4s 372us/sample - loss: 0.0024 - acc: 0.8338 - val_loss: 0.0024 - val_acc: 0.8338\n",
            "Epoch 32/50\n",
            "11997/11997 [==============================] - 5s 379us/sample - loss: 0.0024 - acc: 0.8338 - val_loss: 0.0024 - val_acc: 0.8338\n",
            "Epoch 33/50\n",
            "11997/11997 [==============================] - 4s 350us/sample - loss: 0.0024 - acc: 0.8338 - val_loss: 0.0024 - val_acc: 0.8338\n",
            "Epoch 34/50\n",
            "11997/11997 [==============================] - 4s 344us/sample - loss: 0.0024 - acc: 0.8338 - val_loss: 0.0024 - val_acc: 0.8338\n",
            "Epoch 35/50\n",
            "11997/11997 [==============================] - 4s 328us/sample - loss: 0.0024 - acc: 0.8338 - val_loss: 0.0024 - val_acc: 0.8338\n",
            "Epoch 36/50\n",
            "11997/11997 [==============================] - 4s 326us/sample - loss: 0.0024 - acc: 0.8338 - val_loss: 0.0024 - val_acc: 0.8338\n",
            "Epoch 37/50\n",
            "11997/11997 [==============================] - 4s 332us/sample - loss: 0.0024 - acc: 0.8338 - val_loss: 0.0024 - val_acc: 0.8338\n",
            "Epoch 38/50\n",
            "11997/11997 [==============================] - 4s 338us/sample - loss: 0.0024 - acc: 0.8338 - val_loss: 0.0024 - val_acc: 0.8338\n",
            "Epoch 39/50\n",
            "11997/11997 [==============================] - 4s 336us/sample - loss: 0.0024 - acc: 0.8338 - val_loss: 0.0024 - val_acc: 0.8338\n",
            "Epoch 40/50\n",
            "11997/11997 [==============================] - 4s 338us/sample - loss: 0.0024 - acc: 0.8338 - val_loss: 0.0024 - val_acc: 0.8338\n",
            "Epoch 41/50\n",
            "11997/11997 [==============================] - 4s 329us/sample - loss: 0.0024 - acc: 0.8338 - val_loss: 0.0024 - val_acc: 0.8338\n",
            "Epoch 42/50\n",
            "11997/11997 [==============================] - 4s 346us/sample - loss: 0.0024 - acc: 0.8338 - val_loss: 0.0024 - val_acc: 0.8338\n",
            "Epoch 43/50\n",
            "11997/11997 [==============================] - 4s 326us/sample - loss: 0.0024 - acc: 0.8338 - val_loss: 0.0024 - val_acc: 0.8338\n",
            "Epoch 44/50\n",
            "11997/11997 [==============================] - 4s 333us/sample - loss: 0.0024 - acc: 0.8338 - val_loss: 0.0024 - val_acc: 0.8338\n",
            "Epoch 45/50\n",
            "11997/11997 [==============================] - 4s 329us/sample - loss: 0.0024 - acc: 0.8338 - val_loss: 0.0024 - val_acc: 0.8338\n",
            "Epoch 46/50\n",
            "11997/11997 [==============================] - 4s 338us/sample - loss: 0.0024 - acc: 0.8338 - val_loss: 0.0024 - val_acc: 0.8338\n",
            "Epoch 47/50\n",
            "11997/11997 [==============================] - 4s 349us/sample - loss: 0.0024 - acc: 0.8338 - val_loss: 0.0024 - val_acc: 0.8338\n",
            "Epoch 48/50\n",
            "11997/11997 [==============================] - 4s 341us/sample - loss: 0.0024 - acc: 0.8338 - val_loss: 0.0024 - val_acc: 0.8338\n",
            "Epoch 49/50\n",
            "11997/11997 [==============================] - 4s 328us/sample - loss: 0.0024 - acc: 0.8338 - val_loss: 0.0024 - val_acc: 0.8338\n",
            "Epoch 50/50\n",
            "11997/11997 [==============================] - 4s 350us/sample - loss: 0.0024 - acc: 0.8338 - val_loss: 0.0024 - val_acc: 0.8338\n"
          ],
          "name": "stdout"
        },
        {
          "output_type": "execute_result",
          "data": {
            "text/plain": [
              "<tensorflow.python.keras.callbacks.History at 0x7f5636f41940>"
            ]
          },
          "metadata": {
            "tags": []
          },
          "execution_count": 116
        }
      ]
    },
    {
      "cell_type": "code",
      "metadata": {
        "id": "0Ky-EMUEIGq6",
        "colab_type": "code",
        "colab": {
          "base_uri": "https://localhost:8080/",
          "height": 50
        },
        "outputId": "df4d465b-be24-425d-f481-0c898cfb8b93"
      },
      "source": [
        "ypred = model.predict(X14)\n",
        "s=pd.DataFrame(ypred)\n",
        "s1=pd.DataFrame(y14)\n",
        "s1.corrwith(s, axis = 0) "
      ],
      "execution_count": 117,
      "outputs": [
        {
          "output_type": "execute_result",
          "data": {
            "text/plain": [
              "0    0.337223\n",
              "dtype: float64"
            ]
          },
          "metadata": {
            "tags": []
          },
          "execution_count": 117
        }
      ]
    },
    {
      "cell_type": "code",
      "metadata": {
        "id": "kow20CjpKwRA",
        "colab_type": "code",
        "colab": {
          "base_uri": "https://localhost:8080/",
          "height": 34
        },
        "outputId": "4816def1-c823-4a4d-dfbe-1d5f01e9a0a3"
      },
      "source": [
        "from sklearn.metrics import r2_score\n",
        "r2_score(y14,ypred)"
      ],
      "execution_count": 118,
      "outputs": [
        {
          "output_type": "execute_result",
          "data": {
            "text/plain": [
              "0.1084400334079394"
            ]
          },
          "metadata": {
            "tags": []
          },
          "execution_count": 118
        }
      ]
    },
    {
      "cell_type": "code",
      "metadata": {
        "id": "-YoTtOaYJY6P",
        "colab_type": "code",
        "colab": {
          "base_uri": "https://localhost:8080/",
          "height": 50
        },
        "outputId": "7538b46f-b661-4125-901a-800e18992d9d"
      },
      "source": [
        "ypred1=model.predict(X_test14)\n",
        "s=pd.DataFrame(ypred1)\n",
        "s1=pd.DataFrame(y_test14)\n",
        "s1.corrwith(s,axis=0)"
      ],
      "execution_count": 119,
      "outputs": [
        {
          "output_type": "execute_result",
          "data": {
            "text/plain": [
              "0    0.337223\n",
              "dtype: float64"
            ]
          },
          "metadata": {
            "tags": []
          },
          "execution_count": 119
        }
      ]
    },
    {
      "cell_type": "code",
      "metadata": {
        "id": "esTMyuJ3Kzmj",
        "colab_type": "code",
        "colab": {
          "base_uri": "https://localhost:8080/",
          "height": 34
        },
        "outputId": "b16620eb-9b13-4806-e33f-9652cf685775"
      },
      "source": [
        "r2_score(y_test14,ypred1)"
      ],
      "execution_count": 120,
      "outputs": [
        {
          "output_type": "execute_result",
          "data": {
            "text/plain": [
              "0.1084400334079394"
            ]
          },
          "metadata": {
            "tags": []
          },
          "execution_count": 120
        }
      ]
    },
    {
      "cell_type": "code",
      "metadata": {
        "id": "31sa5rlXB9BA",
        "colab_type": "code",
        "colab": {
          "base_uri": "https://localhost:8080/",
          "height": 1000
        },
        "outputId": "442c07ad-995c-44a9-f3fd-8ee52ef2f665"
      },
      "source": [
        "model.fit(X15, y15, validation_data=(X_test15,y_test15),epochs=50)"
      ],
      "execution_count": 121,
      "outputs": [
        {
          "output_type": "stream",
          "text": [
            "Train on 11997 samples, validate on 11997 samples\n",
            "Epoch 1/50\n",
            "11997/11997 [==============================] - 4s 331us/sample - loss: 0.0031 - acc: 0.8192 - val_loss: 0.0031 - val_acc: 0.8192\n",
            "Epoch 2/50\n",
            "11997/11997 [==============================] - 4s 325us/sample - loss: 0.0031 - acc: 0.8192 - val_loss: 0.0030 - val_acc: 0.8192\n",
            "Epoch 3/50\n",
            "11997/11997 [==============================] - 4s 347us/sample - loss: 0.0031 - acc: 0.8192 - val_loss: 0.0030 - val_acc: 0.8192\n",
            "Epoch 4/50\n",
            "11997/11997 [==============================] - 4s 342us/sample - loss: 0.0031 - acc: 0.8192 - val_loss: 0.0030 - val_acc: 0.8192\n",
            "Epoch 5/50\n",
            "11997/11997 [==============================] - 4s 339us/sample - loss: 0.0030 - acc: 0.8192 - val_loss: 0.0030 - val_acc: 0.8192\n",
            "Epoch 6/50\n",
            "11997/11997 [==============================] - 4s 355us/sample - loss: 0.0030 - acc: 0.8192 - val_loss: 0.0031 - val_acc: 0.8192\n",
            "Epoch 7/50\n",
            "11997/11997 [==============================] - 4s 343us/sample - loss: 0.0030 - acc: 0.8192 - val_loss: 0.0030 - val_acc: 0.8192\n",
            "Epoch 8/50\n",
            "11997/11997 [==============================] - 4s 333us/sample - loss: 0.0030 - acc: 0.8192 - val_loss: 0.0030 - val_acc: 0.8192\n",
            "Epoch 9/50\n",
            "11997/11997 [==============================] - 4s 335us/sample - loss: 0.0030 - acc: 0.8192 - val_loss: 0.0030 - val_acc: 0.8192\n",
            "Epoch 10/50\n",
            "11997/11997 [==============================] - 4s 331us/sample - loss: 0.0030 - acc: 0.8192 - val_loss: 0.0030 - val_acc: 0.8192\n",
            "Epoch 11/50\n",
            "11997/11997 [==============================] - 4s 348us/sample - loss: 0.0030 - acc: 0.8192 - val_loss: 0.0030 - val_acc: 0.8192\n",
            "Epoch 12/50\n",
            "11997/11997 [==============================] - 4s 334us/sample - loss: 0.0030 - acc: 0.8192 - val_loss: 0.0030 - val_acc: 0.8192\n",
            "Epoch 13/50\n",
            "11997/11997 [==============================] - 4s 330us/sample - loss: 0.0030 - acc: 0.8192 - val_loss: 0.0030 - val_acc: 0.8192\n",
            "Epoch 14/50\n",
            "11997/11997 [==============================] - 4s 329us/sample - loss: 0.0030 - acc: 0.8192 - val_loss: 0.0030 - val_acc: 0.8192\n",
            "Epoch 15/50\n",
            "11997/11997 [==============================] - 4s 343us/sample - loss: 0.0030 - acc: 0.8192 - val_loss: 0.0030 - val_acc: 0.8192\n",
            "Epoch 16/50\n",
            "11997/11997 [==============================] - 4s 333us/sample - loss: 0.0030 - acc: 0.8192 - val_loss: 0.0030 - val_acc: 0.8192\n",
            "Epoch 17/50\n",
            "11997/11997 [==============================] - 4s 327us/sample - loss: 0.0030 - acc: 0.8192 - val_loss: 0.0030 - val_acc: 0.8192\n",
            "Epoch 18/50\n",
            "11997/11997 [==============================] - 4s 335us/sample - loss: 0.0030 - acc: 0.8192 - val_loss: 0.0030 - val_acc: 0.8192\n",
            "Epoch 19/50\n",
            "11997/11997 [==============================] - 4s 338us/sample - loss: 0.0030 - acc: 0.8192 - val_loss: 0.0030 - val_acc: 0.8192\n",
            "Epoch 20/50\n",
            "11997/11997 [==============================] - 4s 336us/sample - loss: 0.0030 - acc: 0.8192 - val_loss: 0.0030 - val_acc: 0.8192\n",
            "Epoch 21/50\n",
            "11997/11997 [==============================] - 4s 335us/sample - loss: 0.0030 - acc: 0.8192 - val_loss: 0.0030 - val_acc: 0.8192\n",
            "Epoch 22/50\n",
            "11997/11997 [==============================] - 4s 338us/sample - loss: 0.0030 - acc: 0.8192 - val_loss: 0.0030 - val_acc: 0.8192\n",
            "Epoch 23/50\n",
            "11997/11997 [==============================] - 4s 334us/sample - loss: 0.0030 - acc: 0.8192 - val_loss: 0.0030 - val_acc: 0.8192\n",
            "Epoch 24/50\n",
            "11997/11997 [==============================] - 4s 341us/sample - loss: 0.0030 - acc: 0.8192 - val_loss: 0.0030 - val_acc: 0.8192\n",
            "Epoch 25/50\n",
            "11997/11997 [==============================] - 4s 342us/sample - loss: 0.0030 - acc: 0.8192 - val_loss: 0.0030 - val_acc: 0.8192\n",
            "Epoch 26/50\n",
            "11997/11997 [==============================] - 4s 345us/sample - loss: 0.0030 - acc: 0.8192 - val_loss: 0.0030 - val_acc: 0.8192\n",
            "Epoch 27/50\n",
            "11997/11997 [==============================] - 4s 351us/sample - loss: 0.0030 - acc: 0.8192 - val_loss: 0.0030 - val_acc: 0.8192\n",
            "Epoch 28/50\n",
            "11997/11997 [==============================] - 4s 345us/sample - loss: 0.0030 - acc: 0.8192 - val_loss: 0.0030 - val_acc: 0.8192\n",
            "Epoch 29/50\n",
            "11997/11997 [==============================] - 4s 334us/sample - loss: 0.0030 - acc: 0.8192 - val_loss: 0.0030 - val_acc: 0.8192\n",
            "Epoch 30/50\n",
            "11997/11997 [==============================] - 4s 336us/sample - loss: 0.0030 - acc: 0.8192 - val_loss: 0.0030 - val_acc: 0.8192\n",
            "Epoch 31/50\n",
            "11997/11997 [==============================] - 4s 334us/sample - loss: 0.0030 - acc: 0.8192 - val_loss: 0.0030 - val_acc: 0.8192\n",
            "Epoch 32/50\n",
            "11997/11997 [==============================] - 4s 355us/sample - loss: 0.0030 - acc: 0.8192 - val_loss: 0.0030 - val_acc: 0.8192\n",
            "Epoch 33/50\n",
            "11997/11997 [==============================] - 4s 340us/sample - loss: 0.0030 - acc: 0.8192 - val_loss: 0.0030 - val_acc: 0.8192\n",
            "Epoch 34/50\n",
            "11997/11997 [==============================] - 4s 345us/sample - loss: 0.0030 - acc: 0.8192 - val_loss: 0.0030 - val_acc: 0.8192\n",
            "Epoch 35/50\n",
            "11997/11997 [==============================] - 4s 351us/sample - loss: 0.0030 - acc: 0.8192 - val_loss: 0.0030 - val_acc: 0.8192\n",
            "Epoch 36/50\n",
            "11997/11997 [==============================] - 4s 332us/sample - loss: 0.0030 - acc: 0.8192 - val_loss: 0.0030 - val_acc: 0.8192\n",
            "Epoch 37/50\n",
            "11997/11997 [==============================] - 4s 330us/sample - loss: 0.0030 - acc: 0.8192 - val_loss: 0.0030 - val_acc: 0.8192\n",
            "Epoch 38/50\n",
            "11997/11997 [==============================] - 4s 338us/sample - loss: 0.0030 - acc: 0.8192 - val_loss: 0.0030 - val_acc: 0.8192\n",
            "Epoch 39/50\n",
            "11997/11997 [==============================] - 4s 337us/sample - loss: 0.0030 - acc: 0.8192 - val_loss: 0.0030 - val_acc: 0.8192\n",
            "Epoch 40/50\n",
            "11997/11997 [==============================] - 4s 343us/sample - loss: 0.0030 - acc: 0.8192 - val_loss: 0.0030 - val_acc: 0.8192\n",
            "Epoch 41/50\n",
            "11997/11997 [==============================] - 4s 348us/sample - loss: 0.0030 - acc: 0.8192 - val_loss: 0.0030 - val_acc: 0.8192\n",
            "Epoch 42/50\n",
            "11997/11997 [==============================] - 4s 336us/sample - loss: 0.0030 - acc: 0.8192 - val_loss: 0.0030 - val_acc: 0.8192\n",
            "Epoch 43/50\n",
            "11997/11997 [==============================] - 4s 339us/sample - loss: 0.0030 - acc: 0.8192 - val_loss: 0.0030 - val_acc: 0.8192\n",
            "Epoch 44/50\n",
            "11997/11997 [==============================] - 4s 345us/sample - loss: 0.0030 - acc: 0.8192 - val_loss: 0.0030 - val_acc: 0.8192\n",
            "Epoch 45/50\n",
            "11997/11997 [==============================] - 4s 333us/sample - loss: 0.0030 - acc: 0.8192 - val_loss: 0.0030 - val_acc: 0.8192\n",
            "Epoch 46/50\n",
            "11997/11997 [==============================] - 4s 338us/sample - loss: 0.0030 - acc: 0.8192 - val_loss: 0.0030 - val_acc: 0.8192\n",
            "Epoch 47/50\n",
            "11997/11997 [==============================] - 4s 345us/sample - loss: 0.0030 - acc: 0.8192 - val_loss: 0.0030 - val_acc: 0.8192\n",
            "Epoch 48/50\n",
            "11997/11997 [==============================] - 4s 350us/sample - loss: 0.0030 - acc: 0.8192 - val_loss: 0.0030 - val_acc: 0.8192\n",
            "Epoch 49/50\n",
            "11997/11997 [==============================] - 4s 348us/sample - loss: 0.0030 - acc: 0.8192 - val_loss: 0.0030 - val_acc: 0.8192\n",
            "Epoch 50/50\n",
            "11997/11997 [==============================] - 4s 350us/sample - loss: 0.0030 - acc: 0.8192 - val_loss: 0.0030 - val_acc: 0.8192\n"
          ],
          "name": "stdout"
        },
        {
          "output_type": "execute_result",
          "data": {
            "text/plain": [
              "<tensorflow.python.keras.callbacks.History at 0x7f5636f41ba8>"
            ]
          },
          "metadata": {
            "tags": []
          },
          "execution_count": 121
        }
      ]
    },
    {
      "cell_type": "code",
      "metadata": {
        "id": "x783mmAYIIMe",
        "colab_type": "code",
        "colab": {
          "base_uri": "https://localhost:8080/",
          "height": 50
        },
        "outputId": "a4d398a1-630e-47c0-83b1-7b3f7312303b"
      },
      "source": [
        "ypred = model.predict(X15)\n",
        "s=pd.DataFrame(ypred)\n",
        "s1=pd.DataFrame(y15)\n",
        "s1.corrwith(s, axis = 0) "
      ],
      "execution_count": 122,
      "outputs": [
        {
          "output_type": "execute_result",
          "data": {
            "text/plain": [
              "0    0.303725\n",
              "dtype: float64"
            ]
          },
          "metadata": {
            "tags": []
          },
          "execution_count": 122
        }
      ]
    },
    {
      "cell_type": "code",
      "metadata": {
        "id": "NHuQ0617KncF",
        "colab_type": "code",
        "colab": {
          "base_uri": "https://localhost:8080/",
          "height": 34
        },
        "outputId": "281befbd-7564-46f8-e4fc-050f62f34e48"
      },
      "source": [
        "from sklearn.metrics import r2_score\n",
        "r2_score(y15,ypred)"
      ],
      "execution_count": 125,
      "outputs": [
        {
          "output_type": "execute_result",
          "data": {
            "text/plain": [
              "0.08912970332156733"
            ]
          },
          "metadata": {
            "tags": []
          },
          "execution_count": 125
        }
      ]
    },
    {
      "cell_type": "code",
      "metadata": {
        "id": "G7dQRGRnJb-H",
        "colab_type": "code",
        "colab": {
          "base_uri": "https://localhost:8080/",
          "height": 50
        },
        "outputId": "b50a84da-c52f-4102-e57c-5977eb60fd5f"
      },
      "source": [
        "ypred1=model.predict(X_test15)\n",
        "s=pd.DataFrame(ypred1)\n",
        "s1=pd.DataFrame(y_test15)\n",
        "s1.corrwith(s,axis=0)"
      ],
      "execution_count": 126,
      "outputs": [
        {
          "output_type": "execute_result",
          "data": {
            "text/plain": [
              "0    0.303725\n",
              "dtype: float64"
            ]
          },
          "metadata": {
            "tags": []
          },
          "execution_count": 126
        }
      ]
    },
    {
      "cell_type": "code",
      "metadata": {
        "id": "7MsXJBffKsBU",
        "colab_type": "code",
        "colab": {
          "base_uri": "https://localhost:8080/",
          "height": 34
        },
        "outputId": "a6409f44-6ad2-4a64-c62e-2beae972cc20"
      },
      "source": [
        "from sklearn.metrics import r2_score\n",
        "r2_score(y_test15,ypred1)"
      ],
      "execution_count": 127,
      "outputs": [
        {
          "output_type": "execute_result",
          "data": {
            "text/plain": [
              "0.08912970332156733"
            ]
          },
          "metadata": {
            "tags": []
          },
          "execution_count": 127
        }
      ]
    },
    {
      "cell_type": "code",
      "metadata": {
        "id": "ddVXEmYRB9TB",
        "colab_type": "code",
        "colab": {
          "base_uri": "https://localhost:8080/",
          "height": 1000
        },
        "outputId": "2d1ef4ac-58fb-4af6-c6ba-339edb7be43c"
      },
      "source": [
        "model.fit(X16, y16, validation_data=(X_test16,y_test16),epochs=50)"
      ],
      "execution_count": 128,
      "outputs": [
        {
          "output_type": "stream",
          "text": [
            "Train on 11997 samples, validate on 11997 samples\n",
            "Epoch 1/50\n",
            "11997/11997 [==============================] - 4s 334us/sample - loss: 0.0025 - acc: 0.8464 - val_loss: 0.0025 - val_acc: 0.8464\n",
            "Epoch 2/50\n",
            "11997/11997 [==============================] - 4s 337us/sample - loss: 0.0025 - acc: 0.8464 - val_loss: 0.0025 - val_acc: 0.8464\n",
            "Epoch 3/50\n",
            "11997/11997 [==============================] - 4s 325us/sample - loss: 0.0025 - acc: 0.8464 - val_loss: 0.0025 - val_acc: 0.8464\n",
            "Epoch 4/50\n",
            "11997/11997 [==============================] - 4s 330us/sample - loss: 0.0025 - acc: 0.8464 - val_loss: 0.0025 - val_acc: 0.8464\n",
            "Epoch 5/50\n",
            "11997/11997 [==============================] - 4s 333us/sample - loss: 0.0025 - acc: 0.8464 - val_loss: 0.0025 - val_acc: 0.8464\n",
            "Epoch 6/50\n",
            "11997/11997 [==============================] - 4s 335us/sample - loss: 0.0025 - acc: 0.8464 - val_loss: 0.0025 - val_acc: 0.8464\n",
            "Epoch 7/50\n",
            "11997/11997 [==============================] - 4s 342us/sample - loss: 0.0025 - acc: 0.8464 - val_loss: 0.0024 - val_acc: 0.8464\n",
            "Epoch 8/50\n",
            "11997/11997 [==============================] - 4s 334us/sample - loss: 0.0025 - acc: 0.8464 - val_loss: 0.0025 - val_acc: 0.8464\n",
            "Epoch 9/50\n",
            "11997/11997 [==============================] - 4s 328us/sample - loss: 0.0025 - acc: 0.8464 - val_loss: 0.0024 - val_acc: 0.8464\n",
            "Epoch 10/50\n",
            "11997/11997 [==============================] - 4s 336us/sample - loss: 0.0025 - acc: 0.8464 - val_loss: 0.0025 - val_acc: 0.8464\n",
            "Epoch 11/50\n",
            "11997/11997 [==============================] - 4s 332us/sample - loss: 0.0025 - acc: 0.8464 - val_loss: 0.0024 - val_acc: 0.8464\n",
            "Epoch 12/50\n",
            "11997/11997 [==============================] - 4s 337us/sample - loss: 0.0025 - acc: 0.8464 - val_loss: 0.0025 - val_acc: 0.8464\n",
            "Epoch 13/50\n",
            "11997/11997 [==============================] - 4s 345us/sample - loss: 0.0025 - acc: 0.8464 - val_loss: 0.0024 - val_acc: 0.8464\n",
            "Epoch 14/50\n",
            "11997/11997 [==============================] - 4s 344us/sample - loss: 0.0025 - acc: 0.8464 - val_loss: 0.0024 - val_acc: 0.8464\n",
            "Epoch 15/50\n",
            "11997/11997 [==============================] - 4s 343us/sample - loss: 0.0025 - acc: 0.8464 - val_loss: 0.0024 - val_acc: 0.8464\n",
            "Epoch 16/50\n",
            "11997/11997 [==============================] - 4s 339us/sample - loss: 0.0025 - acc: 0.8464 - val_loss: 0.0025 - val_acc: 0.8464\n",
            "Epoch 17/50\n",
            "11997/11997 [==============================] - 4s 343us/sample - loss: 0.0025 - acc: 0.8464 - val_loss: 0.0025 - val_acc: 0.8464\n",
            "Epoch 18/50\n",
            "11997/11997 [==============================] - 4s 342us/sample - loss: 0.0024 - acc: 0.8464 - val_loss: 0.0024 - val_acc: 0.8464\n",
            "Epoch 19/50\n",
            "11997/11997 [==============================] - 4s 344us/sample - loss: 0.0025 - acc: 0.8464 - val_loss: 0.0024 - val_acc: 0.8464\n",
            "Epoch 20/50\n",
            "11997/11997 [==============================] - 4s 342us/sample - loss: 0.0024 - acc: 0.8464 - val_loss: 0.0024 - val_acc: 0.8464\n",
            "Epoch 21/50\n",
            "11997/11997 [==============================] - 4s 339us/sample - loss: 0.0025 - acc: 0.8464 - val_loss: 0.0024 - val_acc: 0.8464\n",
            "Epoch 22/50\n",
            "11997/11997 [==============================] - 4s 343us/sample - loss: 0.0024 - acc: 0.8464 - val_loss: 0.0024 - val_acc: 0.8464\n",
            "Epoch 23/50\n",
            "11997/11997 [==============================] - 4s 327us/sample - loss: 0.0024 - acc: 0.8464 - val_loss: 0.0024 - val_acc: 0.8464\n",
            "Epoch 24/50\n",
            "11997/11997 [==============================] - 4s 345us/sample - loss: 0.0024 - acc: 0.8464 - val_loss: 0.0024 - val_acc: 0.8464\n",
            "Epoch 25/50\n",
            "11997/11997 [==============================] - 4s 337us/sample - loss: 0.0024 - acc: 0.8464 - val_loss: 0.0024 - val_acc: 0.8464\n",
            "Epoch 26/50\n",
            "11997/11997 [==============================] - 4s 329us/sample - loss: 0.0024 - acc: 0.8464 - val_loss: 0.0024 - val_acc: 0.8464\n",
            "Epoch 27/50\n",
            "11997/11997 [==============================] - 4s 343us/sample - loss: 0.0024 - acc: 0.8464 - val_loss: 0.0024 - val_acc: 0.8464\n",
            "Epoch 28/50\n",
            "11997/11997 [==============================] - 4s 327us/sample - loss: 0.0024 - acc: 0.8464 - val_loss: 0.0024 - val_acc: 0.8464\n",
            "Epoch 29/50\n",
            "11997/11997 [==============================] - 4s 337us/sample - loss: 0.0024 - acc: 0.8464 - val_loss: 0.0025 - val_acc: 0.8464\n",
            "Epoch 30/50\n",
            "11997/11997 [==============================] - 4s 339us/sample - loss: 0.0024 - acc: 0.8464 - val_loss: 0.0024 - val_acc: 0.8464\n",
            "Epoch 31/50\n",
            "11997/11997 [==============================] - 4s 335us/sample - loss: 0.0024 - acc: 0.8464 - val_loss: 0.0024 - val_acc: 0.8464\n",
            "Epoch 32/50\n",
            "11997/11997 [==============================] - 4s 340us/sample - loss: 0.0024 - acc: 0.8464 - val_loss: 0.0024 - val_acc: 0.8464\n",
            "Epoch 33/50\n",
            "11997/11997 [==============================] - 4s 337us/sample - loss: 0.0024 - acc: 0.8464 - val_loss: 0.0024 - val_acc: 0.8464\n",
            "Epoch 34/50\n",
            "11997/11997 [==============================] - 4s 331us/sample - loss: 0.0024 - acc: 0.8464 - val_loss: 0.0024 - val_acc: 0.8464\n",
            "Epoch 35/50\n",
            "11997/11997 [==============================] - 4s 352us/sample - loss: 0.0024 - acc: 0.8464 - val_loss: 0.0024 - val_acc: 0.8464\n",
            "Epoch 36/50\n",
            "11997/11997 [==============================] - 4s 338us/sample - loss: 0.0024 - acc: 0.8464 - val_loss: 0.0024 - val_acc: 0.8464\n",
            "Epoch 37/50\n",
            "11997/11997 [==============================] - 4s 339us/sample - loss: 0.0024 - acc: 0.8464 - val_loss: 0.0024 - val_acc: 0.8464\n",
            "Epoch 38/50\n",
            "11997/11997 [==============================] - 4s 341us/sample - loss: 0.0024 - acc: 0.8464 - val_loss: 0.0024 - val_acc: 0.8464\n",
            "Epoch 39/50\n",
            "11997/11997 [==============================] - 4s 335us/sample - loss: 0.0024 - acc: 0.8464 - val_loss: 0.0024 - val_acc: 0.8464\n",
            "Epoch 40/50\n",
            "11997/11997 [==============================] - 4s 337us/sample - loss: 0.0024 - acc: 0.8464 - val_loss: 0.0024 - val_acc: 0.8464\n",
            "Epoch 41/50\n",
            "11997/11997 [==============================] - 4s 346us/sample - loss: 0.0024 - acc: 0.8464 - val_loss: 0.0024 - val_acc: 0.8464\n",
            "Epoch 42/50\n",
            "11997/11997 [==============================] - 4s 356us/sample - loss: 0.0024 - acc: 0.8464 - val_loss: 0.0024 - val_acc: 0.8464\n",
            "Epoch 43/50\n",
            "11997/11997 [==============================] - 4s 348us/sample - loss: 0.0024 - acc: 0.8464 - val_loss: 0.0024 - val_acc: 0.8464\n",
            "Epoch 44/50\n",
            "11997/11997 [==============================] - 4s 330us/sample - loss: 0.0024 - acc: 0.8464 - val_loss: 0.0024 - val_acc: 0.8464\n",
            "Epoch 45/50\n",
            "11997/11997 [==============================] - 4s 342us/sample - loss: 0.0024 - acc: 0.8464 - val_loss: 0.0024 - val_acc: 0.8464\n",
            "Epoch 46/50\n",
            "11997/11997 [==============================] - 4s 347us/sample - loss: 0.0024 - acc: 0.8464 - val_loss: 0.0024 - val_acc: 0.8464\n",
            "Epoch 47/50\n",
            "11997/11997 [==============================] - 4s 353us/sample - loss: 0.0024 - acc: 0.8464 - val_loss: 0.0024 - val_acc: 0.8464\n",
            "Epoch 48/50\n",
            "11997/11997 [==============================] - 4s 334us/sample - loss: 0.0024 - acc: 0.8464 - val_loss: 0.0024 - val_acc: 0.8464\n",
            "Epoch 49/50\n",
            "11997/11997 [==============================] - 4s 337us/sample - loss: 0.0024 - acc: 0.8464 - val_loss: 0.0024 - val_acc: 0.8464\n",
            "Epoch 50/50\n",
            "11997/11997 [==============================] - 4s 345us/sample - loss: 0.0024 - acc: 0.8464 - val_loss: 0.0024 - val_acc: 0.8464\n"
          ],
          "name": "stdout"
        },
        {
          "output_type": "execute_result",
          "data": {
            "text/plain": [
              "<tensorflow.python.keras.callbacks.History at 0x7f5636dbe0b8>"
            ]
          },
          "metadata": {
            "tags": []
          },
          "execution_count": 128
        }
      ]
    },
    {
      "cell_type": "code",
      "metadata": {
        "id": "fBzu8k-rIJfj",
        "colab_type": "code",
        "colab": {
          "base_uri": "https://localhost:8080/",
          "height": 50
        },
        "outputId": "f33a9b40-b1a0-4d8a-889c-48c9ff2cbfe3"
      },
      "source": [
        "ypred = model.predict(X16)\n",
        "s=pd.DataFrame(ypred)\n",
        "s1=pd.DataFrame(y16)\n",
        "s1.corrwith(s, axis = 0) "
      ],
      "execution_count": 129,
      "outputs": [
        {
          "output_type": "execute_result",
          "data": {
            "text/plain": [
              "0    0.304756\n",
              "dtype: float64"
            ]
          },
          "metadata": {
            "tags": []
          },
          "execution_count": 129
        }
      ]
    },
    {
      "cell_type": "code",
      "metadata": {
        "id": "oa8m9LhKKdqO",
        "colab_type": "code",
        "colab": {
          "base_uri": "https://localhost:8080/",
          "height": 34
        },
        "outputId": "5a7e4556-390d-4ac6-f3f8-d2496f210e9b"
      },
      "source": [
        "from sklearn.metrics import r2_score\n",
        "r2_score(y16,ypred)"
      ],
      "execution_count": 130,
      "outputs": [
        {
          "output_type": "execute_result",
          "data": {
            "text/plain": [
              "0.08557348310717583"
            ]
          },
          "metadata": {
            "tags": []
          },
          "execution_count": 130
        }
      ]
    },
    {
      "cell_type": "code",
      "metadata": {
        "id": "NCjU5wnqJdhv",
        "colab_type": "code",
        "colab": {
          "base_uri": "https://localhost:8080/",
          "height": 50
        },
        "outputId": "e88a48bf-40fc-4017-bc95-06a0e88b5a57"
      },
      "source": [
        "ypred1=model.predict(X_test16)\n",
        "s=pd.DataFrame(ypred1)\n",
        "s1=pd.DataFrame(y_test16)\n",
        "s1.corrwith(s,axis=0)"
      ],
      "execution_count": 131,
      "outputs": [
        {
          "output_type": "execute_result",
          "data": {
            "text/plain": [
              "0    0.304756\n",
              "dtype: float64"
            ]
          },
          "metadata": {
            "tags": []
          },
          "execution_count": 131
        }
      ]
    },
    {
      "cell_type": "code",
      "metadata": {
        "id": "UY6rtmdyKjSa",
        "colab_type": "code",
        "colab": {
          "base_uri": "https://localhost:8080/",
          "height": 34
        },
        "outputId": "4d340a15-ef65-40da-ada1-34759054f96f"
      },
      "source": [
        "r2_score(y_test16,ypred1)"
      ],
      "execution_count": 132,
      "outputs": [
        {
          "output_type": "execute_result",
          "data": {
            "text/plain": [
              "0.08557348310717583"
            ]
          },
          "metadata": {
            "tags": []
          },
          "execution_count": 132
        }
      ]
    },
    {
      "cell_type": "code",
      "metadata": {
        "id": "PIErxCqcB9uC",
        "colab_type": "code",
        "colab": {
          "base_uri": "https://localhost:8080/",
          "height": 1000
        },
        "outputId": "77ada948-6041-41a2-ed00-b23b743e8755"
      },
      "source": [
        "model.fit(X17, y17, validation_data=(X_test17,y_test17),epochs=50)"
      ],
      "execution_count": 133,
      "outputs": [
        {
          "output_type": "stream",
          "text": [
            "Train on 11997 samples, validate on 11997 samples\n",
            "Epoch 1/50\n",
            "11997/11997 [==============================] - 4s 354us/sample - loss: 0.0025 - acc: 0.8949 - val_loss: 0.0025 - val_acc: 0.8949\n",
            "Epoch 2/50\n",
            "11997/11997 [==============================] - 4s 341us/sample - loss: 0.0025 - acc: 0.8949 - val_loss: 0.0025 - val_acc: 0.8949\n",
            "Epoch 3/50\n",
            "11997/11997 [==============================] - 4s 339us/sample - loss: 0.0025 - acc: 0.8949 - val_loss: 0.0025 - val_acc: 0.8949\n",
            "Epoch 4/50\n",
            "11997/11997 [==============================] - 4s 343us/sample - loss: 0.0025 - acc: 0.8949 - val_loss: 0.0025 - val_acc: 0.8949\n",
            "Epoch 5/50\n",
            "11997/11997 [==============================] - 4s 335us/sample - loss: 0.0025 - acc: 0.8949 - val_loss: 0.0025 - val_acc: 0.8949\n",
            "Epoch 6/50\n",
            "11997/11997 [==============================] - 4s 338us/sample - loss: 0.0025 - acc: 0.8949 - val_loss: 0.0025 - val_acc: 0.8949\n",
            "Epoch 7/50\n",
            "11997/11997 [==============================] - 4s 348us/sample - loss: 0.0025 - acc: 0.8949 - val_loss: 0.0025 - val_acc: 0.8949\n",
            "Epoch 8/50\n",
            "11997/11997 [==============================] - 4s 359us/sample - loss: 0.0025 - acc: 0.8949 - val_loss: 0.0025 - val_acc: 0.8949\n",
            "Epoch 9/50\n",
            "11997/11997 [==============================] - 4s 338us/sample - loss: 0.0025 - acc: 0.8949 - val_loss: 0.0025 - val_acc: 0.8949\n",
            "Epoch 10/50\n",
            "11997/11997 [==============================] - 4s 328us/sample - loss: 0.0025 - acc: 0.8949 - val_loss: 0.0024 - val_acc: 0.8949\n",
            "Epoch 11/50\n",
            "11997/11997 [==============================] - 4s 340us/sample - loss: 0.0025 - acc: 0.8949 - val_loss: 0.0024 - val_acc: 0.8949\n",
            "Epoch 12/50\n",
            "11997/11997 [==============================] - 4s 348us/sample - loss: 0.0025 - acc: 0.8949 - val_loss: 0.0024 - val_acc: 0.8949\n",
            "Epoch 13/50\n",
            "11997/11997 [==============================] - 4s 341us/sample - loss: 0.0025 - acc: 0.8949 - val_loss: 0.0025 - val_acc: 0.8949\n",
            "Epoch 14/50\n",
            "11997/11997 [==============================] - 4s 349us/sample - loss: 0.0024 - acc: 0.8949 - val_loss: 0.0024 - val_acc: 0.8949\n",
            "Epoch 15/50\n",
            "11997/11997 [==============================] - 4s 346us/sample - loss: 0.0025 - acc: 0.8949 - val_loss: 0.0024 - val_acc: 0.8949\n",
            "Epoch 16/50\n",
            "11997/11997 [==============================] - 4s 335us/sample - loss: 0.0024 - acc: 0.8949 - val_loss: 0.0024 - val_acc: 0.8949\n",
            "Epoch 17/50\n",
            "11997/11997 [==============================] - 4s 338us/sample - loss: 0.0024 - acc: 0.8949 - val_loss: 0.0024 - val_acc: 0.8949\n",
            "Epoch 18/50\n",
            "11997/11997 [==============================] - 4s 333us/sample - loss: 0.0024 - acc: 0.8949 - val_loss: 0.0024 - val_acc: 0.8949\n",
            "Epoch 19/50\n",
            "11997/11997 [==============================] - 4s 334us/sample - loss: 0.0024 - acc: 0.8949 - val_loss: 0.0024 - val_acc: 0.8949\n",
            "Epoch 20/50\n",
            "11997/11997 [==============================] - 4s 341us/sample - loss: 0.0024 - acc: 0.8949 - val_loss: 0.0024 - val_acc: 0.8949\n",
            "Epoch 21/50\n",
            "11997/11997 [==============================] - 4s 333us/sample - loss: 0.0024 - acc: 0.8949 - val_loss: 0.0024 - val_acc: 0.8949\n",
            "Epoch 22/50\n",
            "11997/11997 [==============================] - 4s 336us/sample - loss: 0.0024 - acc: 0.8949 - val_loss: 0.0024 - val_acc: 0.8949\n",
            "Epoch 23/50\n",
            "11997/11997 [==============================] - 4s 336us/sample - loss: 0.0024 - acc: 0.8949 - val_loss: 0.0024 - val_acc: 0.8949\n",
            "Epoch 24/50\n",
            "11997/11997 [==============================] - 4s 339us/sample - loss: 0.0024 - acc: 0.8949 - val_loss: 0.0024 - val_acc: 0.8949\n",
            "Epoch 25/50\n",
            "11997/11997 [==============================] - 4s 337us/sample - loss: 0.0024 - acc: 0.8949 - val_loss: 0.0024 - val_acc: 0.8949\n",
            "Epoch 26/50\n",
            "11997/11997 [==============================] - 4s 334us/sample - loss: 0.0024 - acc: 0.8949 - val_loss: 0.0024 - val_acc: 0.8949\n",
            "Epoch 27/50\n",
            "11997/11997 [==============================] - 4s 344us/sample - loss: 0.0024 - acc: 0.8949 - val_loss: 0.0024 - val_acc: 0.8949\n",
            "Epoch 28/50\n",
            "11997/11997 [==============================] - 4s 334us/sample - loss: 0.0024 - acc: 0.8949 - val_loss: 0.0024 - val_acc: 0.8949\n",
            "Epoch 29/50\n",
            "11997/11997 [==============================] - 4s 344us/sample - loss: 0.0024 - acc: 0.8949 - val_loss: 0.0024 - val_acc: 0.8949\n",
            "Epoch 30/50\n",
            "11997/11997 [==============================] - 4s 348us/sample - loss: 0.0024 - acc: 0.8949 - val_loss: 0.0024 - val_acc: 0.8949\n",
            "Epoch 31/50\n",
            "11997/11997 [==============================] - 4s 336us/sample - loss: 0.0024 - acc: 0.8949 - val_loss: 0.0024 - val_acc: 0.8949\n",
            "Epoch 32/50\n",
            "11997/11997 [==============================] - 4s 328us/sample - loss: 0.0024 - acc: 0.8949 - val_loss: 0.0024 - val_acc: 0.8949\n",
            "Epoch 33/50\n",
            "11997/11997 [==============================] - 4s 343us/sample - loss: 0.0024 - acc: 0.8949 - val_loss: 0.0024 - val_acc: 0.8949\n",
            "Epoch 34/50\n",
            "11997/11997 [==============================] - 4s 330us/sample - loss: 0.0024 - acc: 0.8949 - val_loss: 0.0024 - val_acc: 0.8949\n",
            "Epoch 35/50\n",
            "11997/11997 [==============================] - 4s 328us/sample - loss: 0.0024 - acc: 0.8949 - val_loss: 0.0024 - val_acc: 0.8949\n",
            "Epoch 36/50\n",
            "11997/11997 [==============================] - 4s 352us/sample - loss: 0.0024 - acc: 0.8949 - val_loss: 0.0024 - val_acc: 0.8949\n",
            "Epoch 37/50\n",
            "11997/11997 [==============================] - 4s 340us/sample - loss: 0.0024 - acc: 0.8949 - val_loss: 0.0024 - val_acc: 0.8949\n",
            "Epoch 38/50\n",
            "11997/11997 [==============================] - 4s 345us/sample - loss: 0.0024 - acc: 0.8949 - val_loss: 0.0024 - val_acc: 0.8949\n",
            "Epoch 39/50\n",
            "11997/11997 [==============================] - 4s 337us/sample - loss: 0.0024 - acc: 0.8949 - val_loss: 0.0024 - val_acc: 0.8949\n",
            "Epoch 40/50\n",
            "11997/11997 [==============================] - 4s 344us/sample - loss: 0.0024 - acc: 0.8949 - val_loss: 0.0024 - val_acc: 0.8949\n",
            "Epoch 41/50\n",
            "11997/11997 [==============================] - 4s 334us/sample - loss: 0.0024 - acc: 0.8949 - val_loss: 0.0024 - val_acc: 0.8949\n",
            "Epoch 42/50\n",
            "11997/11997 [==============================] - 4s 328us/sample - loss: 0.0024 - acc: 0.8949 - val_loss: 0.0024 - val_acc: 0.8949\n",
            "Epoch 43/50\n",
            "11997/11997 [==============================] - 4s 333us/sample - loss: 0.0024 - acc: 0.8949 - val_loss: 0.0024 - val_acc: 0.8949\n",
            "Epoch 44/50\n",
            "11997/11997 [==============================] - 4s 351us/sample - loss: 0.0024 - acc: 0.8949 - val_loss: 0.0024 - val_acc: 0.8949\n",
            "Epoch 45/50\n",
            "11997/11997 [==============================] - 4s 365us/sample - loss: 0.0024 - acc: 0.8949 - val_loss: 0.0024 - val_acc: 0.8949\n",
            "Epoch 46/50\n",
            "11997/11997 [==============================] - 4s 339us/sample - loss: 0.0024 - acc: 0.8949 - val_loss: 0.0024 - val_acc: 0.8949\n",
            "Epoch 47/50\n",
            "11997/11997 [==============================] - 4s 339us/sample - loss: 0.0024 - acc: 0.8949 - val_loss: 0.0024 - val_acc: 0.8949\n",
            "Epoch 48/50\n",
            "11997/11997 [==============================] - 4s 338us/sample - loss: 0.0024 - acc: 0.8949 - val_loss: 0.0024 - val_acc: 0.8949\n",
            "Epoch 49/50\n",
            "11997/11997 [==============================] - 4s 333us/sample - loss: 0.0024 - acc: 0.8949 - val_loss: 0.0024 - val_acc: 0.8949\n",
            "Epoch 50/50\n",
            "11997/11997 [==============================] - 4s 343us/sample - loss: 0.0024 - acc: 0.8949 - val_loss: 0.0024 - val_acc: 0.8949\n"
          ],
          "name": "stdout"
        },
        {
          "output_type": "execute_result",
          "data": {
            "text/plain": [
              "<tensorflow.python.keras.callbacks.History at 0x7f5636d9e550>"
            ]
          },
          "metadata": {
            "tags": []
          },
          "execution_count": 133
        }
      ]
    },
    {
      "cell_type": "code",
      "metadata": {
        "id": "q_cqFEZyIK_5",
        "colab_type": "code",
        "colab": {
          "base_uri": "https://localhost:8080/",
          "height": 50
        },
        "outputId": "44198dde-f5cd-43f7-8221-63d84aaa008c"
      },
      "source": [
        "ypred = model.predict(X17)\n",
        "s=pd.DataFrame(ypred)\n",
        "s1=pd.DataFrame(y17)\n",
        "s1.corrwith(s, axis = 0) "
      ],
      "execution_count": 134,
      "outputs": [
        {
          "output_type": "execute_result",
          "data": {
            "text/plain": [
              "0    0.343731\n",
              "dtype: float64"
            ]
          },
          "metadata": {
            "tags": []
          },
          "execution_count": 134
        }
      ]
    },
    {
      "cell_type": "code",
      "metadata": {
        "id": "iNUMrec5KInu",
        "colab_type": "code",
        "colab": {
          "base_uri": "https://localhost:8080/",
          "height": 34
        },
        "outputId": "fd7da235-e0f3-4025-ee3f-479d1f92238b"
      },
      "source": [
        "from sklearn.metrics import r2_score\n",
        "r2_score(y17,ypred)"
      ],
      "execution_count": 135,
      "outputs": [
        {
          "output_type": "execute_result",
          "data": {
            "text/plain": [
              "0.11648935559256435"
            ]
          },
          "metadata": {
            "tags": []
          },
          "execution_count": 135
        }
      ]
    },
    {
      "cell_type": "code",
      "metadata": {
        "id": "UJ7Wc3CIJerO",
        "colab_type": "code",
        "colab": {
          "base_uri": "https://localhost:8080/",
          "height": 50
        },
        "outputId": "75df866c-2e71-42aa-f3af-358f4e506b99"
      },
      "source": [
        "ypred1=model.predict(X_test17)\n",
        "s=pd.DataFrame(ypred1)\n",
        "s1=pd.DataFrame(y_test17)\n",
        "s1.corrwith(s,axis=0)"
      ],
      "execution_count": 136,
      "outputs": [
        {
          "output_type": "execute_result",
          "data": {
            "text/plain": [
              "0    0.343731\n",
              "dtype: float64"
            ]
          },
          "metadata": {
            "tags": []
          },
          "execution_count": 136
        }
      ]
    },
    {
      "cell_type": "code",
      "metadata": {
        "id": "qKYoL8cDKKmZ",
        "colab_type": "code",
        "colab": {
          "base_uri": "https://localhost:8080/",
          "height": 34
        },
        "outputId": "16e5d433-c53c-43c6-e110-2d6553064e40"
      },
      "source": [
        "r2_score(y_test17,ypred1)"
      ],
      "execution_count": 137,
      "outputs": [
        {
          "output_type": "execute_result",
          "data": {
            "text/plain": [
              "0.11648935559256435"
            ]
          },
          "metadata": {
            "tags": []
          },
          "execution_count": 137
        }
      ]
    },
    {
      "cell_type": "code",
      "metadata": {
        "id": "bnBS9J1vB-JJ",
        "colab_type": "code",
        "colab": {
          "base_uri": "https://localhost:8080/",
          "height": 1000
        },
        "outputId": "5f6ebd44-1dd6-408d-8ee9-98a4bc8678dc"
      },
      "source": [
        "model.fit(X18, y18, validation_data=(X_test18,y_test18),epochs=50)"
      ],
      "execution_count": 138,
      "outputs": [
        {
          "output_type": "stream",
          "text": [
            "Train on 11997 samples, validate on 11997 samples\n",
            "Epoch 1/50\n",
            "11997/11997 [==============================] - 4s 351us/sample - loss: 1.7015e-04 - acc: 0.8540 - val_loss: 1.6178e-04 - val_acc: 0.8540\n",
            "Epoch 2/50\n",
            "11997/11997 [==============================] - 4s 338us/sample - loss: 1.5943e-04 - acc: 0.8540 - val_loss: 1.5710e-04 - val_acc: 0.8540\n",
            "Epoch 3/50\n",
            "11997/11997 [==============================] - 4s 330us/sample - loss: 1.5713e-04 - acc: 0.8540 - val_loss: 1.5656e-04 - val_acc: 0.8540\n",
            "Epoch 4/50\n",
            "11997/11997 [==============================] - 4s 340us/sample - loss: 1.5622e-04 - acc: 0.8540 - val_loss: 1.5571e-04 - val_acc: 0.8540\n",
            "Epoch 5/50\n",
            "11997/11997 [==============================] - 4s 337us/sample - loss: 1.5599e-04 - acc: 0.8540 - val_loss: 1.5540e-04 - val_acc: 0.8540\n",
            "Epoch 6/50\n",
            "11997/11997 [==============================] - 4s 333us/sample - loss: 1.5620e-04 - acc: 0.8540 - val_loss: 1.6402e-04 - val_acc: 0.8540\n",
            "Epoch 7/50\n",
            "11997/11997 [==============================] - 4s 336us/sample - loss: 1.5572e-04 - acc: 0.8540 - val_loss: 1.5454e-04 - val_acc: 0.8540\n",
            "Epoch 8/50\n",
            "11997/11997 [==============================] - 4s 351us/sample - loss: 1.5559e-04 - acc: 0.8540 - val_loss: 1.5442e-04 - val_acc: 0.8540\n",
            "Epoch 9/50\n",
            "11997/11997 [==============================] - 4s 344us/sample - loss: 1.5599e-04 - acc: 0.8540 - val_loss: 1.5468e-04 - val_acc: 0.8540\n",
            "Epoch 10/50\n",
            "11997/11997 [==============================] - 4s 345us/sample - loss: 1.5592e-04 - acc: 0.8540 - val_loss: 1.5631e-04 - val_acc: 0.8540\n",
            "Epoch 11/50\n",
            "11997/11997 [==============================] - 4s 329us/sample - loss: 1.5778e-04 - acc: 0.8540 - val_loss: 1.5870e-04 - val_acc: 0.8540\n",
            "Epoch 12/50\n",
            "11997/11997 [==============================] - 4s 328us/sample - loss: 1.5946e-04 - acc: 0.8540 - val_loss: 1.5739e-04 - val_acc: 0.8540\n",
            "Epoch 13/50\n",
            "11997/11997 [==============================] - 4s 325us/sample - loss: 1.5904e-04 - acc: 0.8540 - val_loss: 1.5514e-04 - val_acc: 0.8540\n",
            "Epoch 14/50\n",
            "11997/11997 [==============================] - 4s 324us/sample - loss: 1.5638e-04 - acc: 0.8540 - val_loss: 1.5615e-04 - val_acc: 0.8540\n",
            "Epoch 15/50\n",
            "11997/11997 [==============================] - 4s 359us/sample - loss: 1.5614e-04 - acc: 0.8540 - val_loss: 1.5499e-04 - val_acc: 0.8540\n",
            "Epoch 16/50\n",
            "11997/11997 [==============================] - 4s 353us/sample - loss: 1.5612e-04 - acc: 0.8540 - val_loss: 1.5501e-04 - val_acc: 0.8540\n",
            "Epoch 17/50\n",
            "11997/11997 [==============================] - 4s 332us/sample - loss: 1.5682e-04 - acc: 0.8540 - val_loss: 1.5560e-04 - val_acc: 0.8540\n",
            "Epoch 18/50\n",
            "11997/11997 [==============================] - 4s 332us/sample - loss: 1.5592e-04 - acc: 0.8540 - val_loss: 1.5536e-04 - val_acc: 0.8540\n",
            "Epoch 19/50\n",
            "11997/11997 [==============================] - 4s 335us/sample - loss: 1.5628e-04 - acc: 0.8540 - val_loss: 1.5722e-04 - val_acc: 0.8540\n",
            "Epoch 20/50\n",
            "11997/11997 [==============================] - 4s 337us/sample - loss: 1.5796e-04 - acc: 0.8540 - val_loss: 1.5783e-04 - val_acc: 0.8540\n",
            "Epoch 21/50\n",
            "11997/11997 [==============================] - 4s 333us/sample - loss: 1.5774e-04 - acc: 0.8540 - val_loss: 1.5508e-04 - val_acc: 0.8540\n",
            "Epoch 22/50\n",
            "11997/11997 [==============================] - 4s 338us/sample - loss: 1.5638e-04 - acc: 0.8540 - val_loss: 1.5510e-04 - val_acc: 0.8540\n",
            "Epoch 23/50\n",
            "11997/11997 [==============================] - 4s 326us/sample - loss: 1.5546e-04 - acc: 0.8540 - val_loss: 1.5562e-04 - val_acc: 0.8540\n",
            "Epoch 24/50\n",
            "11997/11997 [==============================] - 4s 351us/sample - loss: 1.5545e-04 - acc: 0.8540 - val_loss: 1.5599e-04 - val_acc: 0.8540\n",
            "Epoch 25/50\n",
            "11997/11997 [==============================] - 4s 330us/sample - loss: 1.5581e-04 - acc: 0.8540 - val_loss: 1.5577e-04 - val_acc: 0.8540\n",
            "Epoch 26/50\n",
            "11997/11997 [==============================] - 4s 325us/sample - loss: 1.5684e-04 - acc: 0.8540 - val_loss: 1.5762e-04 - val_acc: 0.8540\n",
            "Epoch 27/50\n",
            "11997/11997 [==============================] - 4s 335us/sample - loss: 1.5809e-04 - acc: 0.8540 - val_loss: 1.5816e-04 - val_acc: 0.8540\n",
            "Epoch 28/50\n",
            "11997/11997 [==============================] - 4s 327us/sample - loss: 1.5791e-04 - acc: 0.8540 - val_loss: 1.5572e-04 - val_acc: 0.8540\n",
            "Epoch 29/50\n",
            "11997/11997 [==============================] - 4s 322us/sample - loss: 1.5687e-04 - acc: 0.8540 - val_loss: 1.5470e-04 - val_acc: 0.8540\n",
            "Epoch 30/50\n",
            "11997/11997 [==============================] - 4s 334us/sample - loss: 1.5618e-04 - acc: 0.8540 - val_loss: 1.5444e-04 - val_acc: 0.8540\n",
            "Epoch 31/50\n",
            "11997/11997 [==============================] - 4s 334us/sample - loss: 1.5535e-04 - acc: 0.8540 - val_loss: 1.5401e-04 - val_acc: 0.8540\n",
            "Epoch 32/50\n",
            "11997/11997 [==============================] - 4s 341us/sample - loss: 1.5520e-04 - acc: 0.8540 - val_loss: 1.5520e-04 - val_acc: 0.8540\n",
            "Epoch 33/50\n",
            "11997/11997 [==============================] - 4s 331us/sample - loss: 1.5525e-04 - acc: 0.8540 - val_loss: 1.5612e-04 - val_acc: 0.8540\n",
            "Epoch 34/50\n",
            "11997/11997 [==============================] - 4s 329us/sample - loss: 1.5628e-04 - acc: 0.8540 - val_loss: 1.5487e-04 - val_acc: 0.8540\n",
            "Epoch 35/50\n",
            "11997/11997 [==============================] - 4s 324us/sample - loss: 1.5616e-04 - acc: 0.8540 - val_loss: 1.5514e-04 - val_acc: 0.8540\n",
            "Epoch 36/50\n",
            "11997/11997 [==============================] - 4s 334us/sample - loss: 1.5665e-04 - acc: 0.8540 - val_loss: 1.5489e-04 - val_acc: 0.8540\n",
            "Epoch 37/50\n",
            "11997/11997 [==============================] - 4s 329us/sample - loss: 1.5629e-04 - acc: 0.8540 - val_loss: 1.5480e-04 - val_acc: 0.8540\n",
            "Epoch 38/50\n",
            "11997/11997 [==============================] - 4s 329us/sample - loss: 1.5604e-04 - acc: 0.8540 - val_loss: 1.5623e-04 - val_acc: 0.8540\n",
            "Epoch 39/50\n",
            "11997/11997 [==============================] - 4s 328us/sample - loss: 1.5759e-04 - acc: 0.8540 - val_loss: 1.5545e-04 - val_acc: 0.8540\n",
            "Epoch 40/50\n",
            "11997/11997 [==============================] - 4s 327us/sample - loss: 1.5690e-04 - acc: 0.8540 - val_loss: 1.5775e-04 - val_acc: 0.8540\n",
            "Epoch 41/50\n",
            "11997/11997 [==============================] - 4s 332us/sample - loss: 1.5545e-04 - acc: 0.8540 - val_loss: 1.5378e-04 - val_acc: 0.8540\n",
            "Epoch 42/50\n",
            "11997/11997 [==============================] - 4s 322us/sample - loss: 1.5555e-04 - acc: 0.8540 - val_loss: 1.5398e-04 - val_acc: 0.8540\n",
            "Epoch 43/50\n",
            "11997/11997 [==============================] - 4s 323us/sample - loss: 1.5525e-04 - acc: 0.8540 - val_loss: 1.5375e-04 - val_acc: 0.8540\n",
            "Epoch 44/50\n",
            "11997/11997 [==============================] - 4s 322us/sample - loss: 1.5622e-04 - acc: 0.8540 - val_loss: 1.5500e-04 - val_acc: 0.8540\n",
            "Epoch 45/50\n",
            "11997/11997 [==============================] - 4s 331us/sample - loss: 1.5529e-04 - acc: 0.8540 - val_loss: 1.5402e-04 - val_acc: 0.8540\n",
            "Epoch 46/50\n",
            "11997/11997 [==============================] - 4s 343us/sample - loss: 1.5515e-04 - acc: 0.8540 - val_loss: 1.5515e-04 - val_acc: 0.8540\n",
            "Epoch 47/50\n",
            "11997/11997 [==============================] - 4s 328us/sample - loss: 1.5579e-04 - acc: 0.8540 - val_loss: 1.5513e-04 - val_acc: 0.8540\n",
            "Epoch 48/50\n",
            "11997/11997 [==============================] - 4s 327us/sample - loss: 1.5558e-04 - acc: 0.8540 - val_loss: 1.5470e-04 - val_acc: 0.8540\n",
            "Epoch 49/50\n",
            "11997/11997 [==============================] - 4s 327us/sample - loss: 1.5639e-04 - acc: 0.8540 - val_loss: 1.5449e-04 - val_acc: 0.8540\n",
            "Epoch 50/50\n",
            "11997/11997 [==============================] - 4s 330us/sample - loss: 1.5608e-04 - acc: 0.8540 - val_loss: 1.5415e-04 - val_acc: 0.8540\n"
          ],
          "name": "stdout"
        },
        {
          "output_type": "execute_result",
          "data": {
            "text/plain": [
              "<tensorflow.python.keras.callbacks.History at 0x7f5636d9eeb8>"
            ]
          },
          "metadata": {
            "tags": []
          },
          "execution_count": 138
        }
      ]
    },
    {
      "cell_type": "code",
      "metadata": {
        "id": "4dm66DTdIMJ8",
        "colab_type": "code",
        "colab": {
          "base_uri": "https://localhost:8080/",
          "height": 50
        },
        "outputId": "e0852676-146b-4ba8-9206-f2fce5d4d09b"
      },
      "source": [
        "ypred = model.predict(X18)\n",
        "s=pd.DataFrame(ypred)\n",
        "s1=pd.DataFrame(y18)\n",
        "s1.corrwith(s, axis = 0) "
      ],
      "execution_count": 139,
      "outputs": [
        {
          "output_type": "execute_result",
          "data": {
            "text/plain": [
              "0    0.172454\n",
              "dtype: float64"
            ]
          },
          "metadata": {
            "tags": []
          },
          "execution_count": 139
        }
      ]
    },
    {
      "cell_type": "code",
      "metadata": {
        "id": "yVgkRVW42TsQ",
        "colab_type": "code",
        "outputId": "298b5008-dc67-485d-e155-459738467127",
        "colab": {
          "base_uri": "https://localhost:8080/",
          "height": 34
        }
      },
      "source": [
        " from sklearn.metrics import r2_score\n",
        " r2_score(y18,ypred)"
      ],
      "execution_count": 140,
      "outputs": [
        {
          "output_type": "execute_result",
          "data": {
            "text/plain": [
              "0.027981296880425388"
            ]
          },
          "metadata": {
            "tags": []
          },
          "execution_count": 140
        }
      ]
    },
    {
      "cell_type": "code",
      "metadata": {
        "id": "rtcP5oF9J_Ae",
        "colab_type": "code",
        "colab": {
          "base_uri": "https://localhost:8080/",
          "height": 50
        },
        "outputId": "605d61c4-80a6-4773-aebf-6f35427e1f81"
      },
      "source": [
        "ypred1 = model.predict(X_test18)\n",
        "s=pd.DataFrame(ypred1)\n",
        "s1=pd.DataFrame(y_test18)\n",
        "s1.corrwith(s, axis = 0) "
      ],
      "execution_count": 141,
      "outputs": [
        {
          "output_type": "execute_result",
          "data": {
            "text/plain": [
              "0    0.172454\n",
              "dtype: float64"
            ]
          },
          "metadata": {
            "tags": []
          },
          "execution_count": 141
        }
      ]
    },
    {
      "cell_type": "code",
      "metadata": {
        "id": "sUlUlZnL2tki",
        "colab_type": "code",
        "outputId": "23cfe97c-c02b-4a91-fc89-f523ec4c5429",
        "colab": {
          "base_uri": "https://localhost:8080/",
          "height": 34
        }
      },
      "source": [
        "r2_score(y_test18,ypred1)"
      ],
      "execution_count": 142,
      "outputs": [
        {
          "output_type": "execute_result",
          "data": {
            "text/plain": [
              "0.027981296880425388"
            ]
          },
          "metadata": {
            "tags": []
          },
          "execution_count": 142
        }
      ]
    },
    {
      "cell_type": "code",
      "metadata": {
        "id": "iGVPFHQpNaRH",
        "colab_type": "code",
        "colab": {}
      },
      "source": [
        ""
      ],
      "execution_count": 0,
      "outputs": []
    }
  ]
}