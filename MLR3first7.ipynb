{
  "nbformat": 4,
  "nbformat_minor": 0,
  "metadata": {
    "colab": {
      "name": "MLR3first7.ipynb",
      "provenance": [],
      "collapsed_sections": [],
      "authorship_tag": "ABX9TyPBhxiDEipRs1/KClQLakLq",
      "include_colab_link": true
    },
    "kernelspec": {
      "name": "python3",
      "display_name": "Python 3"
    }
  },
  "cells": [
    {
      "cell_type": "markdown",
      "metadata": {
        "id": "view-in-github",
        "colab_type": "text"
      },
      "source": [
        "<a href=\"https://colab.research.google.com/github/VishnuBhaarath/Rainfallpred/blob/master/MLR3first7.ipynb\" target=\"_parent\"><img src=\"https://colab.research.google.com/assets/colab-badge.svg\" alt=\"Open In Colab\"/></a>"
      ]
    },
    {
      "cell_type": "code",
      "metadata": {
        "id": "5YGfJ9tYkM94",
        "colab_type": "code",
        "outputId": "46fb364e-ffdd-4912-ed68-6d7f1d9eab3f",
        "colab": {
          "base_uri": "https://localhost:8080/",
          "height": 62
        }
      },
      "source": [
        "from numpy.random import seed\n",
        "seed(1)\n",
        "from tensorflow import set_random_seed\n",
        "set_random_seed(2)\n",
        "from sklearn.metrics import r2_score"
      ],
      "execution_count": 4,
      "outputs": [
        {
          "output_type": "display_data",
          "data": {
            "text/html": [
              "<p style=\"color: red;\">\n",
              "The default version of TensorFlow in Colab will soon switch to TensorFlow 2.x.<br>\n",
              "We recommend you <a href=\"https://www.tensorflow.org/guide/migrate\" target=\"_blank\">upgrade</a> now \n",
              "or ensure your notebook will continue to use TensorFlow 1.x via the <code>%tensorflow_version 1.x</code> magic:\n",
              "<a href=\"https://colab.research.google.com/notebooks/tensorflow_version.ipynb\" target=\"_blank\">more info</a>.</p>\n"
            ],
            "text/plain": [
              "<IPython.core.display.HTML object>"
            ]
          },
          "metadata": {
            "tags": []
          }
        }
      ]
    },
    {
      "cell_type": "code",
      "metadata": {
        "id": "cou_fBaEkP6G",
        "colab_type": "code",
        "colab": {}
      },
      "source": [
        "import pandas as pd\n",
        "from pandas import DataFrame\n",
        "import numpy as np\n",
        "from numpy import hstack\n",
        "import tensorflow as tf\n",
        "from tensorflow import keras\n",
        "from sklearn import preprocessing"
      ],
      "execution_count": 0,
      "outputs": []
    },
    {
      "cell_type": "code",
      "metadata": {
        "id": "ACH71at4kV9t",
        "colab_type": "code",
        "colab": {}
      },
      "source": [
        "df=pd.read_excel('trend_anna_imd_21.xlsx')"
      ],
      "execution_count": 0,
      "outputs": []
    },
    {
      "cell_type": "code",
      "metadata": {
        "id": "2hp4FJfQkk9o",
        "colab_type": "code",
        "outputId": "c927549e-f297-462e-d4c6-5103233931eb",
        "colab": {
          "base_uri": "https://localhost:8080/",
          "height": 195
        }
      },
      "source": [
        "df.head()"
      ],
      "execution_count": 7,
      "outputs": [
        {
          "output_type": "execute_result",
          "data": {
            "text/html": [
              "<div>\n",
              "<style scoped>\n",
              "    .dataframe tbody tr th:only-of-type {\n",
              "        vertical-align: middle;\n",
              "    }\n",
              "\n",
              "    .dataframe tbody tr th {\n",
              "        vertical-align: top;\n",
              "    }\n",
              "\n",
              "    .dataframe thead th {\n",
              "        text-align: right;\n",
              "    }\n",
              "</style>\n",
              "<table border=\"1\" class=\"dataframe\">\n",
              "  <thead>\n",
              "    <tr style=\"text-align: right;\">\n",
              "      <th></th>\n",
              "      <th>Unnamed: 0</th>\n",
              "      <th>Unnamed: 1</th>\n",
              "    </tr>\n",
              "  </thead>\n",
              "  <tbody>\n",
              "    <tr>\n",
              "      <th>0</th>\n",
              "      <td>1. Cuddalore</td>\n",
              "      <td>NaN</td>\n",
              "    </tr>\n",
              "    <tr>\n",
              "      <th>1</th>\n",
              "      <td>1965-01-01 00:00:00</td>\n",
              "      <td>10.6</td>\n",
              "    </tr>\n",
              "    <tr>\n",
              "      <th>2</th>\n",
              "      <td>1965-01-02 00:00:00</td>\n",
              "      <td>0.0</td>\n",
              "    </tr>\n",
              "    <tr>\n",
              "      <th>3</th>\n",
              "      <td>1965-01-03 00:00:00</td>\n",
              "      <td>13.0</td>\n",
              "    </tr>\n",
              "    <tr>\n",
              "      <th>4</th>\n",
              "      <td>1965-01-04 00:00:00</td>\n",
              "      <td>0.0</td>\n",
              "    </tr>\n",
              "  </tbody>\n",
              "</table>\n",
              "</div>"
            ],
            "text/plain": [
              "            Unnamed: 0  Unnamed: 1\n",
              "0         1. Cuddalore         NaN\n",
              "1  1965-01-01 00:00:00        10.6\n",
              "2  1965-01-02 00:00:00         0.0\n",
              "3  1965-01-03 00:00:00        13.0\n",
              "4  1965-01-04 00:00:00         0.0"
            ]
          },
          "metadata": {
            "tags": []
          },
          "execution_count": 7
        }
      ]
    },
    {
      "cell_type": "code",
      "metadata": {
        "id": "RB9D0KOIkl-g",
        "colab_type": "code",
        "colab": {}
      },
      "source": [
        "Cuddalore=df[3:19360]\n",
        "Panruti=df[23016:38721]\n",
        "Dharmapuri=df[42408:58082]\n",
        "Harur=df[61738:77443]\n",
        "Palacode=df[81158:96804]\n",
        "Pennagaram=df[100460:116165]\n",
        "Chengam=df[119821:135526]\n",
        "Sathanur=df[138817:154522]\n",
        "Tiruvanamalai=df[158178:173883]\n",
        "Sankarapuram=df[177539:193244]\n",
        "Tirukoilur=df[196899:212604]\n",
        "ulundurpet=df[216260:231965]\n",
        "Villupuram=df[235621:251326]\n",
        "Denkanikottai=df[274343:290048]\n",
        "Hosur=df[293703:309408]\n",
        "Krishnagiri=df[313063:328768]\n",
        "Marandahalli=df[332059:347764]\n",
        "Rayakottai=df[353250:368955]\n",
        "Uthangarai=df[372611:388316]\n"
      ],
      "execution_count": 0,
      "outputs": []
    },
    {
      "cell_type": "code",
      "metadata": {
        "id": "z7bqZet_0j0n",
        "colab_type": "code",
        "outputId": "8dfc28d2-47b5-45f8-de03-0ac479b71d00",
        "colab": {
          "base_uri": "https://localhost:8080/",
          "height": 195
        }
      },
      "source": [
        "Pennagaram.head()"
      ],
      "execution_count": 9,
      "outputs": [
        {
          "output_type": "execute_result",
          "data": {
            "text/html": [
              "<div>\n",
              "<style scoped>\n",
              "    .dataframe tbody tr th:only-of-type {\n",
              "        vertical-align: middle;\n",
              "    }\n",
              "\n",
              "    .dataframe tbody tr th {\n",
              "        vertical-align: top;\n",
              "    }\n",
              "\n",
              "    .dataframe thead th {\n",
              "        text-align: right;\n",
              "    }\n",
              "</style>\n",
              "<table border=\"1\" class=\"dataframe\">\n",
              "  <thead>\n",
              "    <tr style=\"text-align: right;\">\n",
              "      <th></th>\n",
              "      <th>Unnamed: 0</th>\n",
              "      <th>Unnamed: 1</th>\n",
              "    </tr>\n",
              "  </thead>\n",
              "  <tbody>\n",
              "    <tr>\n",
              "      <th>100460</th>\n",
              "      <td>1975-01-03 00:00:00</td>\n",
              "      <td>0.0</td>\n",
              "    </tr>\n",
              "    <tr>\n",
              "      <th>100461</th>\n",
              "      <td>1975-01-04 00:00:00</td>\n",
              "      <td>0.0</td>\n",
              "    </tr>\n",
              "    <tr>\n",
              "      <th>100462</th>\n",
              "      <td>1975-01-05 00:00:00</td>\n",
              "      <td>0.0</td>\n",
              "    </tr>\n",
              "    <tr>\n",
              "      <th>100463</th>\n",
              "      <td>1975-01-06 00:00:00</td>\n",
              "      <td>0.0</td>\n",
              "    </tr>\n",
              "    <tr>\n",
              "      <th>100464</th>\n",
              "      <td>1975-01-07 00:00:00</td>\n",
              "      <td>0.0</td>\n",
              "    </tr>\n",
              "  </tbody>\n",
              "</table>\n",
              "</div>"
            ],
            "text/plain": [
              "                 Unnamed: 0  Unnamed: 1\n",
              "100460  1975-01-03 00:00:00         0.0\n",
              "100461  1975-01-04 00:00:00         0.0\n",
              "100462  1975-01-05 00:00:00         0.0\n",
              "100463  1975-01-06 00:00:00         0.0\n",
              "100464  1975-01-07 00:00:00         0.0"
            ]
          },
          "metadata": {
            "tags": []
          },
          "execution_count": 9
        }
      ]
    },
    {
      "cell_type": "code",
      "metadata": {
        "id": "8lT9ZtR0mBO1",
        "colab_type": "code",
        "colab": {}
      },
      "source": [
        "Cuddalore.columns = ['Date', 'Rainfall']\n",
        "Panruti.columns= ['Date', 'Rainfall']\n",
        "Dharmapuri.columns= ['Date', 'Rainfall']\n",
        "Harur.columns= ['Date', 'Rainfall']\n",
        "Palacode.columns= ['Date', 'Rainfall']\n",
        "Pennagaram.columns= ['Date', 'Rainfall']\n",
        "Chengam.columns= ['Date', 'Rainfall']\n",
        "Sathanur.columns= ['Date', 'Rainfall']\n",
        "Tiruvanamalai.columns= ['Date', 'Rainfall']\n",
        "Sankarapuram.columns= ['Date', 'Rainfall']\n",
        "Tirukoilur.columns= ['Date', 'Rainfall']\n",
        "ulundurpet.columns= ['Date', 'Rainfall']\n",
        "Villupuram.columns= ['Date', 'Rainfall']\n",
        "Denkanikottai.columns= ['Date', 'Rainfall']\n",
        "Hosur.columns= ['Date', 'Rainfall']\n",
        "Krishnagiri.columns= ['Date', 'Rainfall']\n",
        "Marandahalli.columns= ['Date', 'Rainfall']\n",
        "Rayakottai.columns= ['Date', 'Rainfall']\n",
        "Uthangarai.columns= ['Date', 'Rainfall']"
      ],
      "execution_count": 0,
      "outputs": []
    },
    {
      "cell_type": "code",
      "metadata": {
        "id": "ot2FqhbOm6dJ",
        "colab_type": "code",
        "colab": {}
      },
      "source": [
        "train=Cuddalore[0:15000]\n",
        "test=Cuddalore[15000:19004]\n",
        "train1=Panruti[0:12000]\n",
        "test1=Panruti[12000:15705]\n",
        "train2=Dharmapuri[0:12000]\n",
        "test2=Dharmapuri[12000:15674]\n",
        "train3=Harur[0:12000]\n",
        "test3=Harur[12000:15704]\n",
        "train4=Palacode[0:12000]\n",
        "test4=Palacode[12000:15646]\n",
        "train5=Pennagaram[0:12000]\n",
        "test5=Pennagaram[12000:15705]\n",
        "train6=Chengam[0:12000]\n",
        "test6=Chengam[12000:15705]\n",
        "train7=Sathanur[0:12000]\n",
        "test7=Sathanur[12000:15705]\n",
        "train8=Tiruvanamalai[0:12000]\n",
        "test8=Tiruvanamalai[12000:15165]\n",
        "train9=Sankarapuram[0:12000]\n",
        "test9=Sankarapuram[12000:15705]\n",
        "train10=Tirukoilur[0:12000]\n",
        "test10=Tirukoilur[12000:15705]\n",
        "train11=ulundurpet[0:12000]\n",
        "test11=ulundurpet[12000:15345]\n",
        "train12=Villupuram[0:12000]\n",
        "test12=Villupuram[12000:15705]\n",
        "train13=Denkanikottai[0:12000]\n",
        "test13=Denkanikottai[12000:15705]\n",
        "train14=Hosur[0:12000]\n",
        "test14=Hosur[12000:15678]\n",
        "train15=Krishnagiri[0:12000]\n",
        "test15=Krishnagiri[12000:15705]\n",
        "train16=Marandahalli[0:12000]\n",
        "test16=Marandahalli[12000:15705]\n",
        "train17=Rayakottai[0:12000]\n",
        "test17=Rayakottai[12000:15705]\n",
        "train18=Uthangarai[0:12000]\n",
        "test18=Uthangarai[12000:15705]"
      ],
      "execution_count": 0,
      "outputs": []
    },
    {
      "cell_type": "code",
      "metadata": {
        "id": "eWdgMaVPnV7A",
        "colab_type": "code",
        "colab": {}
      },
      "source": [
        "X_train=train['Rainfall']\n",
        "X_test=test['Rainfall']\n",
        "X_train1=train1['Rainfall']\n",
        "X_test1=test1['Rainfall']\n",
        "X_train2=train2['Rainfall']\n",
        "X_test2=test2['Rainfall']\n",
        "X_train3=train3['Rainfall']\n",
        "X_test3=test3['Rainfall']\n",
        "X_train4=train4['Rainfall']\n",
        "X_test4=test4['Rainfall']\n",
        "X_train5=train5['Rainfall']\n",
        "X_test5=test5['Rainfall']\n",
        "X_train6=train6['Rainfall']\n",
        "X_test6=test6['Rainfall']\n",
        "X_train7=train7['Rainfall']\n",
        "X_test7=test7['Rainfall']\n",
        "X_train8=train8['Rainfall']\n",
        "X_test8=test8['Rainfall']\n",
        "X_train9=train9['Rainfall']\n",
        "X_test9=test9['Rainfall']\n",
        "X_train10=train10['Rainfall']\n",
        "X_test10=test10['Rainfall']\n",
        "X_train11=train11['Rainfall']\n",
        "X_test11=test11['Rainfall']\n",
        "X_train12=train12['Rainfall']\n",
        "X_test12=test12['Rainfall']\n",
        "X_train13=train13['Rainfall']\n",
        "X_test13=test13['Rainfall']\n",
        "X_train14=train14['Rainfall']\n",
        "X_test14=test14['Rainfall']\n",
        "X_train15=train15['Rainfall']\n",
        "X_test15=test15['Rainfall']\n",
        "X_train16=train16['Rainfall']\n",
        "X_test16=test16['Rainfall']\n",
        "X_train17=train17['Rainfall']\n",
        "X_test17=test17['Rainfall']\n",
        "X_train18=train18['Rainfall']\n",
        "X_test18=test18['Rainfall']\n"
      ],
      "execution_count": 0,
      "outputs": []
    },
    {
      "cell_type": "code",
      "metadata": {
        "id": "QdTZBwX0mnEs",
        "colab_type": "code",
        "colab": {}
      },
      "source": [
        "min_max_scaler = preprocessing.MinMaxScaler()\n",
        "\n",
        "x_scaled = min_max_scaler.fit_transform(X_train.values.reshape(-1,1))\n",
        "X_train = pd.DataFrame(x_scaled)\n",
        "\n",
        "x_scaled1 = min_max_scaler.fit_transform(X_train1.values.reshape(-1,1))\n",
        "X_train1 = pd.DataFrame(x_scaled1)\n",
        "\n",
        "x_scaled2 = min_max_scaler.fit_transform(X_train2.values.reshape(-1,1))\n",
        "X_train2 = pd.DataFrame(x_scaled2)\n",
        "\n",
        "x_scaled3 = min_max_scaler.fit_transform(X_train3.values.reshape(-1,1))\n",
        "X_train3 = pd.DataFrame(x_scaled3)\n",
        "\n",
        "x_scaled4 = min_max_scaler.fit_transform(X_train4.values.reshape(-1,1))\n",
        "X_train4 = pd.DataFrame(x_scaled4)\n",
        "\n",
        "x_scaled5 = min_max_scaler.fit_transform(X_train5.values.reshape(-1,1))\n",
        "X_train5 = pd.DataFrame(x_scaled5)\n",
        "\n",
        "x_scaled6 = min_max_scaler.fit_transform(X_train6.values.reshape(-1,1))\n",
        "X_train6 = pd.DataFrame(x_scaled6)\n",
        "\n",
        "x_scaled7 = min_max_scaler.fit_transform(X_train7.values.reshape(-1,1))\n",
        "X_train7 = pd.DataFrame(x_scaled7)\n",
        "\n",
        "x_scaled8 = min_max_scaler.fit_transform(X_train8.values.reshape(-1,1))\n",
        "X_train8 = pd.DataFrame(x_scaled8)\n",
        "\n",
        "x_scaled9 = min_max_scaler.fit_transform(X_train9.values.reshape(-1,1))\n",
        "X_train9 = pd.DataFrame(x_scaled9)\n",
        "\n",
        "x_scaled10 = min_max_scaler.fit_transform(X_train10.values.reshape(-1,1))\n",
        "X_train10 = pd.DataFrame(x_scaled10)\n",
        "\n",
        "x_scaled11 = min_max_scaler.fit_transform(X_train11.values.reshape(-1,1))\n",
        "X_train11 = pd.DataFrame(x_scaled11)\n",
        "\n",
        "x_scaled1112 = min_max_scaler.fit_transform(X_train12.values.reshape(-1,1))\n",
        "X_train12 = pd.DataFrame(x_scaled1112)\n",
        "\n",
        "x_scaled13 = min_max_scaler.fit_transform(X_train13.values.reshape(-1,1))\n",
        "X_train13 = pd.DataFrame(x_scaled13)\n",
        "\n",
        "x_scaled14 = min_max_scaler.fit_transform(X_train14.values.reshape(-1,1))\n",
        "X_train14 = pd.DataFrame(x_scaled14)\n",
        "\n",
        "x_scaled15 = min_max_scaler.fit_transform(X_train15.values.reshape(-1,1))\n",
        "X_train15 = pd.DataFrame(x_scaled15)\n",
        "\n",
        "x_scaled16 = min_max_scaler.fit_transform(X_train16.values.reshape(-1,1))\n",
        "X_train16 = pd.DataFrame(x_scaled16)\n",
        "\n",
        "x_scaled17 = min_max_scaler.fit_transform(X_train17.values.reshape(-1,1))\n",
        "X_train17 = pd.DataFrame(x_scaled17)\n",
        "\n",
        "x_scaled18 = min_max_scaler.fit_transform(X_train18.values.reshape(-1,1))\n",
        "X_train18 = pd.DataFrame(x_scaled18)\n",
        "\n"
      ],
      "execution_count": 0,
      "outputs": []
    },
    {
      "cell_type": "code",
      "metadata": {
        "id": "CxbM6N2-oCPd",
        "colab_type": "code",
        "colab": {}
      },
      "source": [
        "x_scaled1 = min_max_scaler.fit_transform(X_test.values.reshape(-1,1))\n",
        "X_test = pd.DataFrame(x_scaled1)\n",
        "\n",
        "x_scaled11 = min_max_scaler.fit_transform(X_test1.values.reshape(-1,1))\n",
        "X_test1 = pd.DataFrame(x_scaled11)\n",
        "\n",
        "x_scaled12 = min_max_scaler.fit_transform(X_test2.values.reshape(-1,1))\n",
        "X_test2 = pd.DataFrame(x_scaled12)\n",
        "\n",
        "x_scaled13 = min_max_scaler.fit_transform(X_test3.values.reshape(-1,1))\n",
        "X_test3 = pd.DataFrame(x_scaled13)\n",
        "\n",
        "x_scaled14 = min_max_scaler.fit_transform(X_test4.values.reshape(-1,1))\n",
        "X_test4 = pd.DataFrame(x_scaled14)\n",
        "\n",
        "x_scaled15 = min_max_scaler.fit_transform(X_test5.values.reshape(-1,1))\n",
        "X_test5 = pd.DataFrame(x_scaled15)\n",
        "\n",
        "x_scaled16 = min_max_scaler.fit_transform(X_test6.values.reshape(-1,1))\n",
        "X_test6 = pd.DataFrame(x_scaled16)\n",
        "\n",
        "x_scaled17 = min_max_scaler.fit_transform(X_test7.values.reshape(-1,1))\n",
        "X_test7 = pd.DataFrame(x_scaled17)\n",
        "\n",
        "x_scaled18 = min_max_scaler.fit_transform(X_test8.values.reshape(-1,1))\n",
        "X_test8 = pd.DataFrame(x_scaled18)\n",
        "\n",
        "x_scaled19 = min_max_scaler.fit_transform(X_test9.values.reshape(-1,1))\n",
        "X_test9 = pd.DataFrame(x_scaled19)\n",
        "\n",
        "x_scaled110 = min_max_scaler.fit_transform(X_test10.values.reshape(-1,1))\n",
        "X_test10 = pd.DataFrame(x_scaled110)\n",
        "\n",
        "x_scaled111 = min_max_scaler.fit_transform(X_test11.values.reshape(-1,1))\n",
        "X_test11 = pd.DataFrame(x_scaled111)\n",
        "\n",
        "x_scaled112 = min_max_scaler.fit_transform(X_test12.values.reshape(-1,1))\n",
        "X_test12 = pd.DataFrame(x_scaled112)\n",
        "\n",
        "x_scaled113 = min_max_scaler.fit_transform(X_test13.values.reshape(-1,1))\n",
        "X_test13 = pd.DataFrame(x_scaled113)\n",
        "\n",
        "x_scaled114 = min_max_scaler.fit_transform(X_test14.values.reshape(-1,1))\n",
        "X_test14 = pd.DataFrame(x_scaled114)\n",
        "\n",
        "x_scaled115= min_max_scaler.fit_transform(X_test15.values.reshape(-1,1))\n",
        "X_test15 = pd.DataFrame(x_scaled115)\n",
        "\n",
        "x_scaled116 = min_max_scaler.fit_transform(X_test16.values.reshape(-1,1))\n",
        "X_test16 = pd.DataFrame(x_scaled116)\n",
        "\n",
        "x_scaled117 = min_max_scaler.fit_transform(X_test17.values.reshape(-1,1))\n",
        "X_test17 = pd.DataFrame(x_scaled117)\n",
        "\n",
        "x_scaled118 = min_max_scaler.fit_transform(X_test18.values.reshape(-1,1))\n",
        "X_test18 = pd.DataFrame(x_scaled118)\n"
      ],
      "execution_count": 0,
      "outputs": []
    },
    {
      "cell_type": "code",
      "metadata": {
        "id": "VZNCwdZhrTQD",
        "colab_type": "code",
        "colab": {}
      },
      "source": [
        "in_seq = np.array([X_train[0]])\n",
        "in_seqtest1 = np.array([X_test[0]])\n",
        "\n",
        "in_seq1 = np.array([X_train1[0]])\n",
        "in_seqt11 = np.array([X_test1[0]])\n",
        "\n",
        "in_seq12 = np.array([X_train2[0]])\n",
        "in_seqt112 = np.array([X_test2[0]])\n",
        "\n",
        "in_seq13 = np.array([X_train3[0]])\n",
        "in_seqt113 = np.array([X_test3[0]])\n",
        "\n",
        "in_seq14 = np.array([X_train4[0]])\n",
        "in_seqt114 = np.array([X_test4[0]])\n",
        "\n",
        "in_seq15 = np.array([X_train5[0]])\n",
        "in_seqt115 = np.array([X_test5[0]])\n",
        "\n",
        "in_seq16 = np.array([X_train6[0]])\n",
        "in_seqt116 = np.array([X_test6[0]])\n",
        "\n",
        "in_seq17 = np.array([X_train7[0]])\n",
        "in_seqt117 = np.array([X_test7[0]])\n",
        "\n",
        "in_seq18 = np.array([X_train8[0]])\n",
        "in_seqt118 = np.array([X_test8[0]])\n",
        "\n",
        "in_seq19 = np.array([X_train9[0]])\n",
        "in_seqt119 = np.array([X_test9[0]])\n",
        "\n",
        "in_seq110 = np.array([X_train10[0]])\n",
        "in_seqt1110 = np.array([X_test10[0]])\n",
        "\n",
        "in_seq111 = np.array([X_train11[0]])\n",
        "in_seqt1111 = np.array([X_test11[0]])\n",
        "\n",
        "in_seq112 = np.array([X_train12[0]])\n",
        "in_seqt1112 = np.array([X_test12[0]])\n",
        "\n",
        "in_seq113 = np.array([X_train13[0]])\n",
        "in_seqt1113 = np.array([X_test13[0]])\n",
        "\n",
        "in_seq114 = np.array([X_train14[0]])\n",
        "in_seqt1114 = np.array([X_test14[0]])\n",
        "\n",
        "in_seq115 = np.array([X_train15[0]])\n",
        "in_seqt1115 = np.array([X_test15[0]])\n",
        "\n",
        "in_seq116 = np.array([X_train16[0]])\n",
        "in_seqt1116 = np.array([X_test16[0]])\n",
        "\n",
        "in_seq117 = np.array([X_train17[0]])\n",
        "in_seqt1117 = np.array([X_test17[0]])\n",
        "\n",
        "in_seq118 = np.array([X_train18[0]])\n",
        "in_seqt1118 = np.array([X_test18[0]])\n"
      ],
      "execution_count": 0,
      "outputs": []
    },
    {
      "cell_type": "code",
      "metadata": {
        "id": "2vtw9-GtrbhY",
        "colab_type": "code",
        "colab": {}
      },
      "source": [
        "in_seq = in_seq.reshape((15000, 1))\n",
        "in_seqtest1 = in_seqtest1.reshape((4004, 1))\n",
        "\n",
        "in_seq1 = in_seq1.reshape((12000, 1))\n",
        "in_seqt11 = in_seqt11.reshape((3705, 1))\n",
        "\n",
        "in_seq12 = in_seq12.reshape((12000, 1))\n",
        "in_seqt112 = in_seqt112.reshape((3674, 1))\n",
        "\n",
        "in_seq13 = in_seq13.reshape((12000, 1))\n",
        "in_seqt113 = in_seqt113.reshape((3704, 1))\n",
        "\n",
        "in_seq14 = in_seq14.reshape((12000, 1))\n",
        "in_seqt114 = in_seqt114.reshape((3646, 1))\n",
        "\n",
        "in_seq15 = in_seq15.reshape((12000, 1))\n",
        "in_seqt115 = in_seqt115.reshape((3705, 1))\n",
        "\n",
        "in_seq16 = in_seq16.reshape((12000, 1))\n",
        "in_seqt116 = in_seqt116.reshape((3705, 1))\n",
        "\n",
        "in_seq17 = in_seq17.reshape((12000, 1))\n",
        "in_seqt117 = in_seqt117.reshape((3705, 1))\n",
        "\n",
        "in_seq18 = in_seq18.reshape((12000, 1))\n",
        "in_seqt118 = in_seqt118.reshape((3165, 1))\n",
        "\n",
        "in_seq19 = in_seq19.reshape((12000, 1))\n",
        "in_seqt119 = in_seqt119.reshape((3705, 1))\n",
        "\n",
        "in_seq110 = in_seq110.reshape((12000, 1))\n",
        "in_seqt1110 = in_seqt1110.reshape((3705, 1))\n",
        "\n",
        "in_seq111 = in_seq111.reshape((12000, 1))\n",
        "in_seqt1111 = in_seqt1111.reshape((3345, 1))\n",
        "\n",
        "in_seq112 = in_seq112.reshape((12000, 1))\n",
        "in_seqt1112 = in_seqt1112.reshape((3705, 1))\n",
        "\n",
        "in_seq113 = in_seq113.reshape((12000, 1))\n",
        "in_seqt1113 = in_seqt1113.reshape((3705, 1))\n",
        "\n",
        "in_seq114 = in_seq114.reshape((12000, 1))\n",
        "in_seqt1114 = in_seqt1114.reshape((3678, 1))\n",
        "\n",
        "in_seq115 = in_seq115.reshape((12000, 1))\n",
        "in_seqt1115 = in_seqt1115.reshape((3705, 1))\n",
        "\n",
        "in_seq116 = in_seq116.reshape((12000, 1))\n",
        "in_seqt1116 = in_seqt1116.reshape((3705, 1))\n",
        "\n",
        "in_seq117 = in_seq117.reshape((12000, 1))\n",
        "in_seqt1117 = in_seqt1117.reshape((3705, 1))\n",
        "\n",
        "in_seq118 = in_seq118.reshape((12000, 1))\n",
        "in_seqt1118 = in_seqt1118.reshape((3704, 1))\n",
        "\n"
      ],
      "execution_count": 0,
      "outputs": []
    },
    {
      "cell_type": "code",
      "metadata": {
        "id": "dcthfPpSoN2u",
        "colab_type": "code",
        "colab": {}
      },
      "source": [
        "def split_sequence(sequence, n_steps):\n",
        "\tX, y = list(), list()\n",
        "\tfor i in range(len(sequence)):\n",
        "\t\t# find the end of this pattern\n",
        "\t\tend_ix = i + n_steps\n",
        "\t\t# check if we are beyond the sequence\n",
        "\t\tif end_ix > len(sequence)-1:\n",
        "\t\t\tbreak\n",
        "\t\t# gather input and output parts of the pattern\n",
        "\t\tseq_x, seq_y = sequence[i:end_ix], sequence[end_ix]\n",
        "\t\tX.append(seq_x)\n",
        "\t\ty.append(seq_y)\n",
        "\treturn np.array(X), np.array(y)"
      ],
      "execution_count": 0,
      "outputs": []
    },
    {
      "cell_type": "code",
      "metadata": {
        "id": "NLCLOXnyptMN",
        "colab_type": "code",
        "colab": {}
      },
      "source": [
        "cuddataset1 = hstack((in_seqtest1))\n",
        "cuddataset = hstack((in_seq))\n",
        "\n",
        "pandataset1 = hstack((in_seqt11))\n",
        "pandataset = hstack((in_seq1))\n",
        "\n",
        "dhadataset1 = hstack((in_seqt112))\n",
        "dhadataset = hstack((in_seq12))\n",
        "\n",
        "hardataset1 = hstack((in_seqt113))\n",
        "hardataset = hstack((in_seq13))\n",
        "\n",
        "paldataset1 = hstack((in_seqt114))\n",
        "paldataset = hstack((in_seq14))\n",
        "\n",
        "pendataset1 = hstack((in_seqt115))\n",
        "pendataset = hstack((in_seq15))\n",
        "\n",
        "chedataset1 = hstack((in_seqt116))\n",
        "chedataset = hstack((in_seq16))\n",
        "\n",
        "satdataset1 = hstack((in_seqt117))\n",
        "satdataset = hstack((in_seq17))\n",
        "\n",
        "Tirdataset1 = hstack((in_seqt118))\n",
        "Tirdataset = hstack((in_seq18))\n",
        "\n",
        "Sandataset1 = hstack((in_seqt119))\n",
        "Sandataset = hstack((in_seq19))\n",
        "\n",
        "Tirudataset1 = hstack((in_seqt1110))\n",
        "Tirudataset = hstack((in_seq110))\n",
        "\n",
        "uludataset1 = hstack((in_seqt1111))\n",
        "uludataset = hstack((in_seq111))\n",
        "\n",
        "vildataset1 = hstack((in_seqt1112))\n",
        "vildataset = hstack((in_seq112))\n",
        "\n",
        "bardataset1 = hstack((in_seqt1113))\n",
        "bardataset = hstack((in_seq113))\n",
        "\n",
        "Dendataset1 = hstack((in_seqt1114))\n",
        "Dendataset = hstack((in_seq114))\n",
        "\n",
        "kridataset1 = hstack((in_seqt1115))\n",
        "kridataset = hstack((in_seq115))\n",
        "\n",
        "mardataset1 = hstack((in_seqt1116))\n",
        "mardataset = hstack((in_seq116))\n",
        "\n",
        "raydataset1 = hstack((in_seqt1117))\n",
        "raydataset = hstack((in_seq117))\n",
        "\n",
        "uthdataset1 = hstack((in_seqt1118))\n",
        "uthdataset = hstack((in_seq118))\n"
      ],
      "execution_count": 0,
      "outputs": []
    },
    {
      "cell_type": "code",
      "metadata": {
        "id": "VXevl6Wdrz2e",
        "colab_type": "code",
        "colab": {}
      },
      "source": [
        "n_steps = 3\n",
        "# convert into input/output\n",
        "X, y = split_sequence(cuddataset, n_steps)\n",
        "X1 , y1 = split_sequence(pandataset, n_steps)\n",
        "X2 , y2 = split_sequence(dhadataset, n_steps)\n",
        "X3 , y3 = split_sequence(hardataset, n_steps)\n",
        "X4 , y4 = split_sequence(paldataset, n_steps)\n",
        "X5 , y5 = split_sequence(pendataset, n_steps)\n",
        "X6, y6 = split_sequence(chedataset, n_steps)\n",
        "X7, y7 = split_sequence(satdataset, n_steps)\n",
        "X8, y8 = split_sequence(Tirdataset, n_steps)\n",
        "X9, y9 = split_sequence(Sandataset, n_steps)\n",
        "X10, y10 = split_sequence(Tirudataset, n_steps)\n",
        "X11, y11 = split_sequence(uludataset, n_steps)\n",
        "X12 , y12 = split_sequence(vildataset, n_steps)\n",
        "X13, y13 = split_sequence(bardataset, n_steps)\n",
        "X14, y14 = split_sequence(Dendataset, n_steps)\n",
        "X15, y15 = split_sequence(kridataset, n_steps)\n",
        "X16, y16 = split_sequence(mardataset, n_steps)\n",
        "X17, y17 = split_sequence(raydataset, n_steps)\n",
        "X18, y18 = split_sequence(uthdataset, n_steps)"
      ],
      "execution_count": 0,
      "outputs": []
    },
    {
      "cell_type": "code",
      "metadata": {
        "id": "wChOw-PbTin3",
        "colab_type": "code",
        "colab": {}
      },
      "source": [
        "X_test,y_test = split_sequence(cuddataset, n_steps)\n",
        "X_test1,y_test1 = split_sequence(pandataset, n_steps)\n",
        "X_test2,y_test2= split_sequence(dhadataset, n_steps)\n",
        "X_test3,y_test3 = split_sequence(hardataset, n_steps)\n",
        "X_test4,y_test4 = split_sequence(paldataset, n_steps)\n",
        "X_test5,y_test5 = split_sequence(pendataset, n_steps)\n",
        "X_test6,y_test6 = split_sequence(chedataset, n_steps)\n",
        "X_test7,y_test7 = split_sequence(satdataset, n_steps)\n",
        "X_test8,y_test8 = split_sequence(Tirdataset, n_steps)\n",
        "X_test9,y_test9 = split_sequence(Sandataset, n_steps)\n",
        "X_test10,y_test10 = split_sequence(Tirudataset, n_steps)\n",
        "X_test11,y_test11= split_sequence(uludataset, n_steps)\n",
        "X_test12,y_test12 = split_sequence(vildataset, n_steps)\n",
        "X_test13,y_test13 = split_sequence(bardataset, n_steps)\n",
        "X_test14,y_test14 = split_sequence(Dendataset, n_steps)\n",
        "X_test15,y_test15 = split_sequence(kridataset, n_steps)\n",
        "X_test16,y_test16 = split_sequence(mardataset, n_steps)\n",
        "X_test17,y_test17= split_sequence(raydataset, n_steps)\n",
        "X_test18,y_test18= split_sequence(uthdataset, n_steps)"
      ],
      "execution_count": 0,
      "outputs": []
    },
    {
      "cell_type": "code",
      "metadata": {
        "id": "8zmd12H9K3iu",
        "colab_type": "code",
        "outputId": "0dd0a689-efd5-4a1b-b20e-9f07f0232954",
        "colab": {
          "base_uri": "https://localhost:8080/",
          "height": 34
        }
      },
      "source": [
        "X.shape"
      ],
      "execution_count": 21,
      "outputs": [
        {
          "output_type": "execute_result",
          "data": {
            "text/plain": [
              "(14997, 3)"
            ]
          },
          "metadata": {
            "tags": []
          },
          "execution_count": 21
        }
      ]
    },
    {
      "cell_type": "code",
      "metadata": {
        "id": "feOCg2VVLLfe",
        "colab_type": "code",
        "outputId": "a95aac02-770c-4ffc-cad5-a01ff537280a",
        "colab": {
          "base_uri": "https://localhost:8080/",
          "height": 34
        }
      },
      "source": [
        "y.shape"
      ],
      "execution_count": 22,
      "outputs": [
        {
          "output_type": "execute_result",
          "data": {
            "text/plain": [
              "(14997,)"
            ]
          },
          "metadata": {
            "tags": []
          },
          "execution_count": 22
        }
      ]
    },
    {
      "cell_type": "code",
      "metadata": {
        "id": "sV15YyHcQ2vj",
        "colab_type": "code",
        "outputId": "8c396b9d-3cd1-4ef2-9981-c1f337248d2f",
        "colab": {
          "base_uri": "https://localhost:8080/",
          "height": 50
        }
      },
      "source": [
        "from sklearn import linear_model\n",
        "reg = linear_model.Ridge(alpha=.5)\n",
        "reg.fit(X,y)"
      ],
      "execution_count": 23,
      "outputs": [
        {
          "output_type": "execute_result",
          "data": {
            "text/plain": [
              "Ridge(alpha=0.5, copy_X=True, fit_intercept=True, max_iter=None,\n",
              "      normalize=False, random_state=None, solver='auto', tol=0.001)"
            ]
          },
          "metadata": {
            "tags": []
          },
          "execution_count": 23
        }
      ]
    },
    {
      "cell_type": "code",
      "metadata": {
        "id": "AvagXvUsREvQ",
        "colab_type": "code",
        "outputId": "1203003a-9615-4b99-aaf2-ccca04a35ac2",
        "colab": {
          "base_uri": "https://localhost:8080/",
          "height": 34
        }
      },
      "source": [
        "reg.coef_"
      ],
      "execution_count": 24,
      "outputs": [
        {
          "output_type": "execute_result",
          "data": {
            "text/plain": [
              "array([0.05428126, 0.07527647, 0.29610117])"
            ]
          },
          "metadata": {
            "tags": []
          },
          "execution_count": 24
        }
      ]
    },
    {
      "cell_type": "code",
      "metadata": {
        "id": "jX4gtpjmSnDz",
        "colab_type": "code",
        "colab": {}
      },
      "source": [
        "Station=reg.predict(X)"
      ],
      "execution_count": 0,
      "outputs": []
    },
    {
      "cell_type": "code",
      "metadata": {
        "id": "DF81OVdzRPEq",
        "colab_type": "code",
        "colab": {}
      },
      "source": [
        "Stationtest=reg.predict(X_test)"
      ],
      "execution_count": 0,
      "outputs": []
    },
    {
      "cell_type": "code",
      "metadata": {
        "id": "ci7ExtrgSNlB",
        "colab_type": "code",
        "outputId": "c3852424-a45a-4b32-f3be-1a9efa5f44d7",
        "colab": {
          "base_uri": "https://localhost:8080/",
          "height": 34
        }
      },
      "source": [
        "from sklearn.metrics import mean_squared_error\n",
        "mean_squared_error(y_test, Stationtest)"
      ],
      "execution_count": 72,
      "outputs": [
        {
          "output_type": "execute_result",
          "data": {
            "text/plain": [
              "0.0013190704790605266"
            ]
          },
          "metadata": {
            "tags": []
          },
          "execution_count": 72
        }
      ]
    },
    {
      "cell_type": "code",
      "metadata": {
        "id": "bR5Bg6PoSuRZ",
        "colab_type": "code",
        "outputId": "b2a10a84-f839-4571-ac26-9c39f95bb5c7",
        "colab": {
          "base_uri": "https://localhost:8080/",
          "height": 34
        }
      },
      "source": [
        "mean_squared_error(y, Station)"
      ],
      "execution_count": 73,
      "outputs": [
        {
          "output_type": "execute_result",
          "data": {
            "text/plain": [
              "0.0013190704790605266"
            ]
          },
          "metadata": {
            "tags": []
          },
          "execution_count": 73
        }
      ]
    },
    {
      "cell_type": "code",
      "metadata": {
        "id": "WVso5i0YSciR",
        "colab_type": "code",
        "outputId": "7fa0a928-f6bb-4b53-9a66-6342a162b09f",
        "colab": {
          "base_uri": "https://localhost:8080/",
          "height": 34
        }
      },
      "source": [
        " from sklearn.metrics import r2_score\n",
        " r2_score(y_test,Stationtest)"
      ],
      "execution_count": 74,
      "outputs": [
        {
          "output_type": "execute_result",
          "data": {
            "text/plain": [
              "0.10975418434317408"
            ]
          },
          "metadata": {
            "tags": []
          },
          "execution_count": 74
        }
      ]
    },
    {
      "cell_type": "code",
      "metadata": {
        "id": "N31rAn-kS3LG",
        "colab_type": "code",
        "outputId": "16d04981-ac6b-4913-aeda-c86fce14fee8",
        "colab": {
          "base_uri": "https://localhost:8080/",
          "height": 34
        }
      },
      "source": [
        " r2_score(y,Station)"
      ],
      "execution_count": 75,
      "outputs": [
        {
          "output_type": "execute_result",
          "data": {
            "text/plain": [
              "0.10975418434317408"
            ]
          },
          "metadata": {
            "tags": []
          },
          "execution_count": 75
        }
      ]
    },
    {
      "cell_type": "code",
      "metadata": {
        "id": "e0oWS2a2HSV2",
        "colab_type": "code",
        "outputId": "88ce8a75-0b98-44f2-9512-6656d932418e",
        "colab": {
          "base_uri": "https://localhost:8080/",
          "height": 50
        }
      },
      "source": [
        "from sklearn import linear_model\n",
        "reg = linear_model.Ridge(alpha=.5)\n",
        "reg.fit(X1,y1)"
      ],
      "execution_count": 31,
      "outputs": [
        {
          "output_type": "execute_result",
          "data": {
            "text/plain": [
              "Ridge(alpha=0.5, copy_X=True, fit_intercept=True, max_iter=None,\n",
              "      normalize=False, random_state=None, solver='auto', tol=0.001)"
            ]
          },
          "metadata": {
            "tags": []
          },
          "execution_count": 31
        }
      ]
    },
    {
      "cell_type": "code",
      "metadata": {
        "id": "e12wvbpnHlt4",
        "colab_type": "code",
        "colab": {}
      },
      "source": [
        "Station1=reg.predict(X1)\n",
        "Station1test=reg.predict(X_test1)"
      ],
      "execution_count": 0,
      "outputs": []
    },
    {
      "cell_type": "code",
      "metadata": {
        "id": "6Ghtc5L5H8eX",
        "colab_type": "code",
        "outputId": "8c55e3b2-322f-46b1-fba7-519015b804fe",
        "colab": {
          "base_uri": "https://localhost:8080/",
          "height": 34
        }
      },
      "source": [
        "mean_squared_error(y_test1, Station1test)"
      ],
      "execution_count": 33,
      "outputs": [
        {
          "output_type": "execute_result",
          "data": {
            "text/plain": [
              "0.0014640849942206032"
            ]
          },
          "metadata": {
            "tags": []
          },
          "execution_count": 33
        }
      ]
    },
    {
      "cell_type": "code",
      "metadata": {
        "id": "epygHk_tIthF",
        "colab_type": "code",
        "outputId": "a0e4c5e4-ac08-4091-cd61-7b847ee45d15",
        "colab": {
          "base_uri": "https://localhost:8080/",
          "height": 34
        }
      },
      "source": [
        " r2_score(y_test1,Station1test)"
      ],
      "execution_count": 34,
      "outputs": [
        {
          "output_type": "execute_result",
          "data": {
            "text/plain": [
              "0.11335078063709547"
            ]
          },
          "metadata": {
            "tags": []
          },
          "execution_count": 34
        }
      ]
    },
    {
      "cell_type": "code",
      "metadata": {
        "id": "61KmudDqH_8S",
        "colab_type": "code",
        "outputId": "d4866a93-3d6f-4691-f44b-ce020205cc00",
        "colab": {
          "base_uri": "https://localhost:8080/",
          "height": 34
        }
      },
      "source": [
        "mean_squared_error(y1, Station1)"
      ],
      "execution_count": 35,
      "outputs": [
        {
          "output_type": "execute_result",
          "data": {
            "text/plain": [
              "0.0014640849942206032"
            ]
          },
          "metadata": {
            "tags": []
          },
          "execution_count": 35
        }
      ]
    },
    {
      "cell_type": "code",
      "metadata": {
        "id": "0mLzi688I2Gt",
        "colab_type": "code",
        "outputId": "e9edf1c5-3160-4874-bebc-70264ab9436d",
        "colab": {
          "base_uri": "https://localhost:8080/",
          "height": 34
        }
      },
      "source": [
        "r2_score(y1,Station1)"
      ],
      "execution_count": 36,
      "outputs": [
        {
          "output_type": "execute_result",
          "data": {
            "text/plain": [
              "0.11335078063709547"
            ]
          },
          "metadata": {
            "tags": []
          },
          "execution_count": 36
        }
      ]
    },
    {
      "cell_type": "code",
      "metadata": {
        "id": "TOrXpPJsIGpW",
        "colab_type": "code",
        "outputId": "927e44a8-755b-4763-d0c8-6b921767316b",
        "colab": {
          "base_uri": "https://localhost:8080/",
          "height": 50
        }
      },
      "source": [
        "from sklearn import linear_model\n",
        "reg = linear_model.Ridge(alpha=.5)\n",
        "reg.fit(X2,y2)"
      ],
      "execution_count": 37,
      "outputs": [
        {
          "output_type": "execute_result",
          "data": {
            "text/plain": [
              "Ridge(alpha=0.5, copy_X=True, fit_intercept=True, max_iter=None,\n",
              "      normalize=False, random_state=None, solver='auto', tol=0.001)"
            ]
          },
          "metadata": {
            "tags": []
          },
          "execution_count": 37
        }
      ]
    },
    {
      "cell_type": "code",
      "metadata": {
        "id": "u7oUUVBgIY-U",
        "colab_type": "code",
        "colab": {}
      },
      "source": [
        "Station2=reg.predict(X2)\n",
        "Station2test=reg.predict(X_test2)"
      ],
      "execution_count": 0,
      "outputs": []
    },
    {
      "cell_type": "code",
      "metadata": {
        "id": "6srjltieIcCZ",
        "colab_type": "code",
        "outputId": "4e5a54b1-6353-495f-a94a-afc304d41a8e",
        "colab": {
          "base_uri": "https://localhost:8080/",
          "height": 34
        }
      },
      "source": [
        "mean_squared_error(y_test2, Station2test)"
      ],
      "execution_count": 39,
      "outputs": [
        {
          "output_type": "execute_result",
          "data": {
            "text/plain": [
              "0.004758449382068188"
            ]
          },
          "metadata": {
            "tags": []
          },
          "execution_count": 39
        }
      ]
    },
    {
      "cell_type": "code",
      "metadata": {
        "id": "etTZW_1nIfyf",
        "colab_type": "code",
        "outputId": "ab256115-3157-4976-c322-754e1ff845ec",
        "colab": {
          "base_uri": "https://localhost:8080/",
          "height": 34
        }
      },
      "source": [
        "mean_squared_error(y2, Station2)"
      ],
      "execution_count": 40,
      "outputs": [
        {
          "output_type": "execute_result",
          "data": {
            "text/plain": [
              "0.004758449382068188"
            ]
          },
          "metadata": {
            "tags": []
          },
          "execution_count": 40
        }
      ]
    },
    {
      "cell_type": "code",
      "metadata": {
        "id": "uoVxsrebIpT-",
        "colab_type": "code",
        "outputId": "07dfa8ad-0ef5-4d20-c4b6-bfc6a7269255",
        "colab": {
          "base_uri": "https://localhost:8080/",
          "height": 34
        }
      },
      "source": [
        "r2_score(y2,Station2)"
      ],
      "execution_count": 41,
      "outputs": [
        {
          "output_type": "execute_result",
          "data": {
            "text/plain": [
              "0.0461322726305089"
            ]
          },
          "metadata": {
            "tags": []
          },
          "execution_count": 41
        }
      ]
    },
    {
      "cell_type": "code",
      "metadata": {
        "id": "MfN_X25HI_-U",
        "colab_type": "code",
        "outputId": "38ad7393-548b-4023-eb87-46f6f6bcbc2d",
        "colab": {
          "base_uri": "https://localhost:8080/",
          "height": 34
        }
      },
      "source": [
        "r2_score(y_test2,Station2test)"
      ],
      "execution_count": 42,
      "outputs": [
        {
          "output_type": "execute_result",
          "data": {
            "text/plain": [
              "0.0461322726305089"
            ]
          },
          "metadata": {
            "tags": []
          },
          "execution_count": 42
        }
      ]
    },
    {
      "cell_type": "markdown",
      "metadata": {
        "id": "onMORMPoJHnc",
        "colab_type": "text"
      },
      "source": [
        ""
      ]
    },
    {
      "cell_type": "code",
      "metadata": {
        "id": "CrgaGMyfJGWX",
        "colab_type": "code",
        "outputId": "72648cdb-70cd-4e81-948e-93c24a8a381a",
        "colab": {
          "base_uri": "https://localhost:8080/",
          "height": 50
        }
      },
      "source": [
        "from sklearn import linear_model\n",
        "reg = linear_model.Ridge(alpha=.5)\n",
        "reg.fit(X3,y3)"
      ],
      "execution_count": 43,
      "outputs": [
        {
          "output_type": "execute_result",
          "data": {
            "text/plain": [
              "Ridge(alpha=0.5, copy_X=True, fit_intercept=True, max_iter=None,\n",
              "      normalize=False, random_state=None, solver='auto', tol=0.001)"
            ]
          },
          "metadata": {
            "tags": []
          },
          "execution_count": 43
        }
      ]
    },
    {
      "cell_type": "code",
      "metadata": {
        "id": "9fPoegjHJh71",
        "colab_type": "code",
        "colab": {}
      },
      "source": [
        "Station3=reg.predict(X3)\n",
        "Station3test=reg.predict(X_test3)"
      ],
      "execution_count": 0,
      "outputs": []
    },
    {
      "cell_type": "code",
      "metadata": {
        "id": "1g3RApY4Jnzd",
        "colab_type": "code",
        "outputId": "190b700a-429e-450a-ef50-c8f4768d9d7c",
        "colab": {
          "base_uri": "https://localhost:8080/",
          "height": 34
        }
      },
      "source": [
        "r2_score(y3,Station3)"
      ],
      "execution_count": 45,
      "outputs": [
        {
          "output_type": "execute_result",
          "data": {
            "text/plain": [
              "0.052697315443085535"
            ]
          },
          "metadata": {
            "tags": []
          },
          "execution_count": 45
        }
      ]
    },
    {
      "cell_type": "code",
      "metadata": {
        "id": "SHxiubcEJrCU",
        "colab_type": "code",
        "outputId": "2ad5ac65-4fa5-4185-f86a-92f0bf33478e",
        "colab": {
          "base_uri": "https://localhost:8080/",
          "height": 34
        }
      },
      "source": [
        "r2_score(y_test3,Station3test)"
      ],
      "execution_count": 46,
      "outputs": [
        {
          "output_type": "execute_result",
          "data": {
            "text/plain": [
              "0.052697315443085535"
            ]
          },
          "metadata": {
            "tags": []
          },
          "execution_count": 46
        }
      ]
    },
    {
      "cell_type": "markdown",
      "metadata": {
        "id": "b0PXVnPiJw78",
        "colab_type": "text"
      },
      "source": [
        ""
      ]
    },
    {
      "cell_type": "code",
      "metadata": {
        "id": "8VWpgScqJu29",
        "colab_type": "code",
        "outputId": "721f737e-a572-47e5-86a3-f7f79f44da7a",
        "colab": {
          "base_uri": "https://localhost:8080/",
          "height": 50
        }
      },
      "source": [
        "from sklearn import linear_model\n",
        "reg = linear_model.Ridge(alpha=.5)\n",
        "reg.fit(X4,y4)"
      ],
      "execution_count": 47,
      "outputs": [
        {
          "output_type": "execute_result",
          "data": {
            "text/plain": [
              "Ridge(alpha=0.5, copy_X=True, fit_intercept=True, max_iter=None,\n",
              "      normalize=False, random_state=None, solver='auto', tol=0.001)"
            ]
          },
          "metadata": {
            "tags": []
          },
          "execution_count": 47
        }
      ]
    },
    {
      "cell_type": "code",
      "metadata": {
        "id": "gl2k1F-cJzxk",
        "colab_type": "code",
        "colab": {}
      },
      "source": [
        "Station4=reg.predict(X4)\n",
        "Station4test=reg.predict(X_test4)"
      ],
      "execution_count": 0,
      "outputs": []
    },
    {
      "cell_type": "code",
      "metadata": {
        "id": "xQbVZwtjJ3EQ",
        "colab_type": "code",
        "outputId": "40ba3dde-b2a7-4a5d-a98c-36813b8f808b",
        "colab": {
          "base_uri": "https://localhost:8080/",
          "height": 34
        }
      },
      "source": [
        "r2_score(y4,Station4)"
      ],
      "execution_count": 49,
      "outputs": [
        {
          "output_type": "execute_result",
          "data": {
            "text/plain": [
              "0.068660407773667"
            ]
          },
          "metadata": {
            "tags": []
          },
          "execution_count": 49
        }
      ]
    },
    {
      "cell_type": "code",
      "metadata": {
        "id": "lTL8MpRqJ6El",
        "colab_type": "code",
        "outputId": "f9e15556-6752-485f-dbdb-c3f440c894e4",
        "colab": {
          "base_uri": "https://localhost:8080/",
          "height": 34
        }
      },
      "source": [
        "r2_score(y_test4,Station4test)"
      ],
      "execution_count": 50,
      "outputs": [
        {
          "output_type": "execute_result",
          "data": {
            "text/plain": [
              "0.068660407773667"
            ]
          },
          "metadata": {
            "tags": []
          },
          "execution_count": 50
        }
      ]
    },
    {
      "cell_type": "markdown",
      "metadata": {
        "id": "vy7__MV8J_LD",
        "colab_type": "text"
      },
      "source": [
        ""
      ]
    },
    {
      "cell_type": "code",
      "metadata": {
        "id": "RrowjLFxJ9Wj",
        "colab_type": "code",
        "outputId": "1be8288b-3c3e-426a-8325-4a71f501138f",
        "colab": {
          "base_uri": "https://localhost:8080/",
          "height": 50
        }
      },
      "source": [
        "from sklearn import linear_model\n",
        "reg = linear_model.Ridge(alpha=.5)\n",
        "reg.fit(X5,y5)"
      ],
      "execution_count": 51,
      "outputs": [
        {
          "output_type": "execute_result",
          "data": {
            "text/plain": [
              "Ridge(alpha=0.5, copy_X=True, fit_intercept=True, max_iter=None,\n",
              "      normalize=False, random_state=None, solver='auto', tol=0.001)"
            ]
          },
          "metadata": {
            "tags": []
          },
          "execution_count": 51
        }
      ]
    },
    {
      "cell_type": "code",
      "metadata": {
        "id": "ZL-KUlaSKBd-",
        "colab_type": "code",
        "colab": {}
      },
      "source": [
        "Station5=reg.predict(X5)\n",
        "Station5test=reg.predict(X_test5)"
      ],
      "execution_count": 0,
      "outputs": []
    },
    {
      "cell_type": "code",
      "metadata": {
        "id": "Ol96KuvdKEKL",
        "colab_type": "code",
        "outputId": "741ff3ee-a6b9-4164-ab93-1090daf0b773",
        "colab": {
          "base_uri": "https://localhost:8080/",
          "height": 34
        }
      },
      "source": [
        "mean_squared_error(y5,Station5)"
      ],
      "execution_count": 53,
      "outputs": [
        {
          "output_type": "execute_result",
          "data": {
            "text/plain": [
              "0.001779803668741571"
            ]
          },
          "metadata": {
            "tags": []
          },
          "execution_count": 53
        }
      ]
    },
    {
      "cell_type": "code",
      "metadata": {
        "id": "iJJTc9s5KLLp",
        "colab_type": "code",
        "outputId": "788c0593-76a1-4833-ade5-5a726b94372c",
        "colab": {
          "base_uri": "https://localhost:8080/",
          "height": 34
        }
      },
      "source": [
        "mean_squared_error(y_test5,Station5test)"
      ],
      "execution_count": 54,
      "outputs": [
        {
          "output_type": "execute_result",
          "data": {
            "text/plain": [
              "0.001779803668741571"
            ]
          },
          "metadata": {
            "tags": []
          },
          "execution_count": 54
        }
      ]
    },
    {
      "cell_type": "code",
      "metadata": {
        "id": "10PxmkIRKPpR",
        "colab_type": "code",
        "outputId": "be1c74ab-15d0-4cf7-a668-1aff05197696",
        "colab": {
          "base_uri": "https://localhost:8080/",
          "height": 34
        }
      },
      "source": [
        "r2_score(y5,Station5)"
      ],
      "execution_count": 55,
      "outputs": [
        {
          "output_type": "execute_result",
          "data": {
            "text/plain": [
              "0.04131284822414172"
            ]
          },
          "metadata": {
            "tags": []
          },
          "execution_count": 55
        }
      ]
    },
    {
      "cell_type": "code",
      "metadata": {
        "id": "kyYAI4YGKVBR",
        "colab_type": "code",
        "outputId": "36bc1dd5-3a76-4038-adb1-d209577ca63c",
        "colab": {
          "base_uri": "https://localhost:8080/",
          "height": 34
        }
      },
      "source": [
        "r2_score(y_test5,Station5test)"
      ],
      "execution_count": 56,
      "outputs": [
        {
          "output_type": "execute_result",
          "data": {
            "text/plain": [
              "0.04131284822414172"
            ]
          },
          "metadata": {
            "tags": []
          },
          "execution_count": 56
        }
      ]
    },
    {
      "cell_type": "markdown",
      "metadata": {
        "id": "vhQFmtJDKfFO",
        "colab_type": "text"
      },
      "source": [
        ""
      ]
    },
    {
      "cell_type": "code",
      "metadata": {
        "id": "3ZfdDR2RKY3g",
        "colab_type": "code",
        "outputId": "b46ee791-ee15-4ebb-a420-15c1818cefc0",
        "colab": {
          "base_uri": "https://localhost:8080/",
          "height": 50
        }
      },
      "source": [
        "from sklearn import linear_model\n",
        "reg = linear_model.Ridge(alpha=.5)\n",
        "reg.fit(X6,y6)"
      ],
      "execution_count": 57,
      "outputs": [
        {
          "output_type": "execute_result",
          "data": {
            "text/plain": [
              "Ridge(alpha=0.5, copy_X=True, fit_intercept=True, max_iter=None,\n",
              "      normalize=False, random_state=None, solver='auto', tol=0.001)"
            ]
          },
          "metadata": {
            "tags": []
          },
          "execution_count": 57
        }
      ]
    },
    {
      "cell_type": "code",
      "metadata": {
        "id": "X50GiIsoKg3z",
        "colab_type": "code",
        "colab": {}
      },
      "source": [
        "Station6=reg.predict(X6)\n",
        "Station6test=reg.predict(X_test6)"
      ],
      "execution_count": 0,
      "outputs": []
    },
    {
      "cell_type": "code",
      "metadata": {
        "id": "0oJ51x8ZKljD",
        "colab_type": "code",
        "outputId": "d1737fa1-8ffd-469b-ff60-29cae7151002",
        "colab": {
          "base_uri": "https://localhost:8080/",
          "height": 34
        }
      },
      "source": [
        "mean_squared_error(y_test6,Station6test)"
      ],
      "execution_count": 59,
      "outputs": [
        {
          "output_type": "execute_result",
          "data": {
            "text/plain": [
              "0.003123420970422942"
            ]
          },
          "metadata": {
            "tags": []
          },
          "execution_count": 59
        }
      ]
    },
    {
      "cell_type": "code",
      "metadata": {
        "id": "3urI3tUJKpEU",
        "colab_type": "code",
        "outputId": "6dcf7581-6b72-4cd8-feda-f3d051f1c61d",
        "colab": {
          "base_uri": "https://localhost:8080/",
          "height": 34
        }
      },
      "source": [
        "mean_squared_error(y6,Station6)"
      ],
      "execution_count": 60,
      "outputs": [
        {
          "output_type": "execute_result",
          "data": {
            "text/plain": [
              "0.003123420970422942"
            ]
          },
          "metadata": {
            "tags": []
          },
          "execution_count": 60
        }
      ]
    },
    {
      "cell_type": "code",
      "metadata": {
        "id": "r299o65EKt1M",
        "colab_type": "code",
        "outputId": "cc2996bd-db6e-4e28-8c8f-9d8c0d548d1a",
        "colab": {
          "base_uri": "https://localhost:8080/",
          "height": 34
        }
      },
      "source": [
        "r2_score(y_test6,Station6test)"
      ],
      "execution_count": 61,
      "outputs": [
        {
          "output_type": "execute_result",
          "data": {
            "text/plain": [
              "0.07502621596000714"
            ]
          },
          "metadata": {
            "tags": []
          },
          "execution_count": 61
        }
      ]
    },
    {
      "cell_type": "code",
      "metadata": {
        "id": "yLuUwwwxKxo6",
        "colab_type": "code",
        "outputId": "ebc18644-0538-4e35-8990-e9683ddd8b06",
        "colab": {
          "base_uri": "https://localhost:8080/",
          "height": 34
        }
      },
      "source": [
        "r2_score(y6,Station6)"
      ],
      "execution_count": 62,
      "outputs": [
        {
          "output_type": "execute_result",
          "data": {
            "text/plain": [
              "0.07502621596000714"
            ]
          },
          "metadata": {
            "tags": []
          },
          "execution_count": 62
        }
      ]
    },
    {
      "cell_type": "markdown",
      "metadata": {
        "id": "9hoxLwahK2Bw",
        "colab_type": "text"
      },
      "source": [
        ""
      ]
    },
    {
      "cell_type": "code",
      "metadata": {
        "id": "FARhlbtwK1P-",
        "colab_type": "code",
        "outputId": "3b0c59dc-637b-48b5-e9a0-861d84efcffa",
        "colab": {
          "base_uri": "https://localhost:8080/",
          "height": 50
        }
      },
      "source": [
        "from sklearn import linear_model\n",
        "reg = linear_model.Ridge(alpha=.5)\n",
        "reg.fit(X7,y7)"
      ],
      "execution_count": 63,
      "outputs": [
        {
          "output_type": "execute_result",
          "data": {
            "text/plain": [
              "Ridge(alpha=0.5, copy_X=True, fit_intercept=True, max_iter=None,\n",
              "      normalize=False, random_state=None, solver='auto', tol=0.001)"
            ]
          },
          "metadata": {
            "tags": []
          },
          "execution_count": 63
        }
      ]
    },
    {
      "cell_type": "code",
      "metadata": {
        "id": "AU24RhQvK5YG",
        "colab_type": "code",
        "colab": {}
      },
      "source": [
        "Station7=reg.predict(X7)\n",
        "Station7test=reg.predict(X_test7)"
      ],
      "execution_count": 0,
      "outputs": []
    },
    {
      "cell_type": "code",
      "metadata": {
        "id": "mr9N0aIIK9y4",
        "colab_type": "code",
        "outputId": "9c6e427b-8e6e-4a0a-eb88-da73f41243c1",
        "colab": {
          "base_uri": "https://localhost:8080/",
          "height": 34
        }
      },
      "source": [
        "mean_squared_error(y7,Station7)"
      ],
      "execution_count": 65,
      "outputs": [
        {
          "output_type": "execute_result",
          "data": {
            "text/plain": [
              "0.003484335114741754"
            ]
          },
          "metadata": {
            "tags": []
          },
          "execution_count": 65
        }
      ]
    },
    {
      "cell_type": "code",
      "metadata": {
        "id": "8jOLt7v7LELm",
        "colab_type": "code",
        "outputId": "bf15eb62-eac3-4404-f978-1597790dd8e9",
        "colab": {
          "base_uri": "https://localhost:8080/",
          "height": 34
        }
      },
      "source": [
        "mean_squared_error(y_test7,Station7test)"
      ],
      "execution_count": 66,
      "outputs": [
        {
          "output_type": "execute_result",
          "data": {
            "text/plain": [
              "0.003484335114741754"
            ]
          },
          "metadata": {
            "tags": []
          },
          "execution_count": 66
        }
      ]
    },
    {
      "cell_type": "code",
      "metadata": {
        "id": "jYC0vqMRLJNo",
        "colab_type": "code",
        "outputId": "b9afe253-199b-4f03-ff77-1fde162adce2",
        "colab": {
          "base_uri": "https://localhost:8080/",
          "height": 34
        }
      },
      "source": [
        "r2_score(y7,Station7)"
      ],
      "execution_count": 67,
      "outputs": [
        {
          "output_type": "execute_result",
          "data": {
            "text/plain": [
              "0.09084377277141753"
            ]
          },
          "metadata": {
            "tags": []
          },
          "execution_count": 67
        }
      ]
    },
    {
      "cell_type": "code",
      "metadata": {
        "id": "1K-loA-mLdj9",
        "colab_type": "code",
        "outputId": "2f8d67bb-b131-4ed8-8f1e-969630055f86",
        "colab": {
          "base_uri": "https://localhost:8080/",
          "height": 34
        }
      },
      "source": [
        "r2_score(y_test7,Station7test)"
      ],
      "execution_count": 68,
      "outputs": [
        {
          "output_type": "execute_result",
          "data": {
            "text/plain": [
              "0.09084377277141753"
            ]
          },
          "metadata": {
            "tags": []
          },
          "execution_count": 68
        }
      ]
    },
    {
      "cell_type": "code",
      "metadata": {
        "id": "iBMfaNgbojD1",
        "colab_type": "code",
        "colab": {}
      },
      "source": [
        "from sklearn.metrics import mean_absolute_error"
      ],
      "execution_count": 0,
      "outputs": []
    },
    {
      "cell_type": "code",
      "metadata": {
        "id": "5vVcN0FGolMH",
        "colab_type": "code",
        "colab": {
          "base_uri": "https://localhost:8080/",
          "height": 34
        },
        "outputId": "667617ed-4e64-4c43-a2ff-94e8c5810d07"
      },
      "source": [
        "mean_absolute_error(y,Station)"
      ],
      "execution_count": 76,
      "outputs": [
        {
          "output_type": "execute_result",
          "data": {
            "text/plain": [
              "0.016947980615403372"
            ]
          },
          "metadata": {
            "tags": []
          },
          "execution_count": 76
        }
      ]
    },
    {
      "cell_type": "code",
      "metadata": {
        "id": "XzKaFfGyo231",
        "colab_type": "code",
        "colab": {
          "base_uri": "https://localhost:8080/",
          "height": 34
        },
        "outputId": "9e6a5aba-fa72-46cf-bcd5-ff80f791a26f"
      },
      "source": [
        "mean_absolute_error(y_test,Stationtest)"
      ],
      "execution_count": 77,
      "outputs": [
        {
          "output_type": "execute_result",
          "data": {
            "text/plain": [
              "0.016947980615403372"
            ]
          },
          "metadata": {
            "tags": []
          },
          "execution_count": 77
        }
      ]
    },
    {
      "cell_type": "code",
      "metadata": {
        "id": "Lzuxqi3JpiZu",
        "colab_type": "code",
        "colab": {
          "base_uri": "https://localhost:8080/",
          "height": 34
        },
        "outputId": "d0014ad7-9c11-4566-be04-139779a09114"
      },
      "source": [
        "mean_absolute_error(y_test1,Station1test)"
      ],
      "execution_count": 78,
      "outputs": [
        {
          "output_type": "execute_result",
          "data": {
            "text/plain": [
              "0.014223421712193771"
            ]
          },
          "metadata": {
            "tags": []
          },
          "execution_count": 78
        }
      ]
    },
    {
      "cell_type": "code",
      "metadata": {
        "id": "PTDjDy4YplJO",
        "colab_type": "code",
        "colab": {
          "base_uri": "https://localhost:8080/",
          "height": 34
        },
        "outputId": "fbcb07ba-9181-4ed9-c7d8-b6b638e2117a"
      },
      "source": [
        "mean_absolute_error(y1,Station1)"
      ],
      "execution_count": 79,
      "outputs": [
        {
          "output_type": "execute_result",
          "data": {
            "text/plain": [
              "0.014223421712193771"
            ]
          },
          "metadata": {
            "tags": []
          },
          "execution_count": 79
        }
      ]
    },
    {
      "cell_type": "code",
      "metadata": {
        "id": "S2W1PBxkpniS",
        "colab_type": "code",
        "colab": {
          "base_uri": "https://localhost:8080/",
          "height": 34
        },
        "outputId": "4b98f8fd-f2ae-4a13-88bb-5d4f4d89d1c7"
      },
      "source": [
        "mean_absolute_error(y2,Station2)"
      ],
      "execution_count": 80,
      "outputs": [
        {
          "output_type": "execute_result",
          "data": {
            "text/plain": [
              "0.029063682573805157"
            ]
          },
          "metadata": {
            "tags": []
          },
          "execution_count": 80
        }
      ]
    },
    {
      "cell_type": "code",
      "metadata": {
        "id": "cQRO6EIzppxY",
        "colab_type": "code",
        "colab": {
          "base_uri": "https://localhost:8080/",
          "height": 34
        },
        "outputId": "ca0e3ab3-74f9-4877-a6ee-fff26f188baa"
      },
      "source": [
        "mean_absolute_error(y_test2,Station2test)"
      ],
      "execution_count": 82,
      "outputs": [
        {
          "output_type": "execute_result",
          "data": {
            "text/plain": [
              "0.029063682573805157"
            ]
          },
          "metadata": {
            "tags": []
          },
          "execution_count": 82
        }
      ]
    },
    {
      "cell_type": "code",
      "metadata": {
        "id": "b6iwJ5uhptoo",
        "colab_type": "code",
        "colab": {
          "base_uri": "https://localhost:8080/",
          "height": 34
        },
        "outputId": "de7b3a73-1f5b-4319-f4e2-829f5e4ad0d6"
      },
      "source": [
        "mean_absolute_error(y3,Station3)"
      ],
      "execution_count": 83,
      "outputs": [
        {
          "output_type": "execute_result",
          "data": {
            "text/plain": [
              "0.02472796595425598"
            ]
          },
          "metadata": {
            "tags": []
          },
          "execution_count": 83
        }
      ]
    },
    {
      "cell_type": "code",
      "metadata": {
        "id": "tejwsBV4pzCF",
        "colab_type": "code",
        "colab": {
          "base_uri": "https://localhost:8080/",
          "height": 34
        },
        "outputId": "b8bfd43d-5d27-44f6-ca7f-5b3a4a4176c9"
      },
      "source": [
        "mean_absolute_error(y_test3,Station3test)"
      ],
      "execution_count": 84,
      "outputs": [
        {
          "output_type": "execute_result",
          "data": {
            "text/plain": [
              "0.02472796595425598"
            ]
          },
          "metadata": {
            "tags": []
          },
          "execution_count": 84
        }
      ]
    },
    {
      "cell_type": "code",
      "metadata": {
        "id": "t7e6GvPJp1k2",
        "colab_type": "code",
        "colab": {
          "base_uri": "https://localhost:8080/",
          "height": 34
        },
        "outputId": "aa4110b0-b39a-4ae1-c803-1c060fa39a95"
      },
      "source": [
        "mean_absolute_error(y4,Station4)"
      ],
      "execution_count": 85,
      "outputs": [
        {
          "output_type": "execute_result",
          "data": {
            "text/plain": [
              "0.022052385219561675"
            ]
          },
          "metadata": {
            "tags": []
          },
          "execution_count": 85
        }
      ]
    },
    {
      "cell_type": "code",
      "metadata": {
        "id": "dv3FvCbqp5pu",
        "colab_type": "code",
        "colab": {
          "base_uri": "https://localhost:8080/",
          "height": 34
        },
        "outputId": "f642a7a7-fc5a-4c53-b884-e5e3c9bc1907"
      },
      "source": [
        "mean_absolute_error(y_test4,Station4test)"
      ],
      "execution_count": 86,
      "outputs": [
        {
          "output_type": "execute_result",
          "data": {
            "text/plain": [
              "0.022052385219561675"
            ]
          },
          "metadata": {
            "tags": []
          },
          "execution_count": 86
        }
      ]
    },
    {
      "cell_type": "code",
      "metadata": {
        "id": "rEa3O-zyp9Jz",
        "colab_type": "code",
        "colab": {
          "base_uri": "https://localhost:8080/",
          "height": 34
        },
        "outputId": "0024fa86-65ca-4088-c840-19e4244269d5"
      },
      "source": [
        "mean_absolute_error(y5,Station5)"
      ],
      "execution_count": 87,
      "outputs": [
        {
          "output_type": "execute_result",
          "data": {
            "text/plain": [
              "0.017107501567161586"
            ]
          },
          "metadata": {
            "tags": []
          },
          "execution_count": 87
        }
      ]
    },
    {
      "cell_type": "code",
      "metadata": {
        "id": "yT42H_Nsp_P2",
        "colab_type": "code",
        "colab": {
          "base_uri": "https://localhost:8080/",
          "height": 34
        },
        "outputId": "4559329c-8d29-4476-bb1c-d30e811490cc"
      },
      "source": [
        "mean_absolute_error(y_test5,Station5test)"
      ],
      "execution_count": 88,
      "outputs": [
        {
          "output_type": "execute_result",
          "data": {
            "text/plain": [
              "0.017107501567161586"
            ]
          },
          "metadata": {
            "tags": []
          },
          "execution_count": 88
        }
      ]
    },
    {
      "cell_type": "code",
      "metadata": {
        "id": "EXEskW3rqDA6",
        "colab_type": "code",
        "colab": {
          "base_uri": "https://localhost:8080/",
          "height": 34
        },
        "outputId": "954283b3-4a0a-43d4-a9af-b287310d28c9"
      },
      "source": [
        "mean_absolute_error(y6,Station6)"
      ],
      "execution_count": 89,
      "outputs": [
        {
          "output_type": "execute_result",
          "data": {
            "text/plain": [
              "0.025659736292499288"
            ]
          },
          "metadata": {
            "tags": []
          },
          "execution_count": 89
        }
      ]
    },
    {
      "cell_type": "code",
      "metadata": {
        "id": "V3u_UccOqFGh",
        "colab_type": "code",
        "colab": {
          "base_uri": "https://localhost:8080/",
          "height": 34
        },
        "outputId": "a059622c-a9a0-47f1-c894-55a09b91f425"
      },
      "source": [
        "mean_absolute_error(y_test6,Station6test)"
      ],
      "execution_count": 90,
      "outputs": [
        {
          "output_type": "execute_result",
          "data": {
            "text/plain": [
              "0.025659736292499288"
            ]
          },
          "metadata": {
            "tags": []
          },
          "execution_count": 90
        }
      ]
    },
    {
      "cell_type": "code",
      "metadata": {
        "id": "QIALvvSFqHV0",
        "colab_type": "code",
        "colab": {
          "base_uri": "https://localhost:8080/",
          "height": 34
        },
        "outputId": "8b2a500c-b109-4899-aacb-9b24b075f2e7"
      },
      "source": [
        "mean_absolute_error(y_test7,Station7test)"
      ],
      "execution_count": 91,
      "outputs": [
        {
          "output_type": "execute_result",
          "data": {
            "text/plain": [
              "0.024549619291383946"
            ]
          },
          "metadata": {
            "tags": []
          },
          "execution_count": 91
        }
      ]
    },
    {
      "cell_type": "code",
      "metadata": {
        "id": "YDKlRp-QqKtE",
        "colab_type": "code",
        "colab": {}
      },
      "source": [
        ""
      ],
      "execution_count": 0,
      "outputs": []
    }
  ]
}