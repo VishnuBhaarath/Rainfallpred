{
  "nbformat": 4,
  "nbformat_minor": 0,
  "metadata": {
    "colab": {
      "name": "MLR1first7.ipynb",
      "provenance": [],
      "collapsed_sections": [],
      "authorship_tag": "ABX9TyNqc+K9bmC9gHkUXSFHsj5P",
      "include_colab_link": true
    },
    "kernelspec": {
      "name": "python3",
      "display_name": "Python 3"
    }
  },
  "cells": [
    {
      "cell_type": "markdown",
      "metadata": {
        "id": "view-in-github",
        "colab_type": "text"
      },
      "source": [
        "<a href=\"https://colab.research.google.com/github/VishnuBhaarath/Rainfallpred/blob/master/MLR1first7.ipynb\" target=\"_parent\"><img src=\"https://colab.research.google.com/assets/colab-badge.svg\" alt=\"Open In Colab\"/></a>"
      ]
    },
    {
      "cell_type": "code",
      "metadata": {
        "id": "5YGfJ9tYkM94",
        "colab_type": "code",
        "colab": {}
      },
      "source": [
        "from numpy.random import seed\n",
        "seed(1)\n",
        "from tensorflow import set_random_seed\n",
        "set_random_seed(2)\n",
        "from sklearn.metrics import r2_score"
      ],
      "execution_count": 0,
      "outputs": []
    },
    {
      "cell_type": "code",
      "metadata": {
        "id": "cou_fBaEkP6G",
        "colab_type": "code",
        "colab": {}
      },
      "source": [
        "import pandas as pd\n",
        "from pandas import DataFrame\n",
        "import numpy as np\n",
        "from numpy import hstack\n",
        "import tensorflow as tf\n",
        "from tensorflow import keras\n",
        "from sklearn import preprocessing"
      ],
      "execution_count": 0,
      "outputs": []
    },
    {
      "cell_type": "code",
      "metadata": {
        "id": "ACH71at4kV9t",
        "colab_type": "code",
        "colab": {}
      },
      "source": [
        "df=pd.read_excel('trend_anna_imd_21.xlsx')"
      ],
      "execution_count": 0,
      "outputs": []
    },
    {
      "cell_type": "code",
      "metadata": {
        "id": "2hp4FJfQkk9o",
        "colab_type": "code",
        "outputId": "5e1d3fd5-d3be-4863-d25a-b36574e2c59e",
        "colab": {
          "base_uri": "https://localhost:8080/",
          "height": 195
        }
      },
      "source": [
        "df.head()"
      ],
      "execution_count": 95,
      "outputs": [
        {
          "output_type": "execute_result",
          "data": {
            "text/html": [
              "<div>\n",
              "<style scoped>\n",
              "    .dataframe tbody tr th:only-of-type {\n",
              "        vertical-align: middle;\n",
              "    }\n",
              "\n",
              "    .dataframe tbody tr th {\n",
              "        vertical-align: top;\n",
              "    }\n",
              "\n",
              "    .dataframe thead th {\n",
              "        text-align: right;\n",
              "    }\n",
              "</style>\n",
              "<table border=\"1\" class=\"dataframe\">\n",
              "  <thead>\n",
              "    <tr style=\"text-align: right;\">\n",
              "      <th></th>\n",
              "      <th>Unnamed: 0</th>\n",
              "      <th>Unnamed: 1</th>\n",
              "    </tr>\n",
              "  </thead>\n",
              "  <tbody>\n",
              "    <tr>\n",
              "      <th>0</th>\n",
              "      <td>1. Cuddalore</td>\n",
              "      <td>NaN</td>\n",
              "    </tr>\n",
              "    <tr>\n",
              "      <th>1</th>\n",
              "      <td>1965-01-01 00:00:00</td>\n",
              "      <td>10.6</td>\n",
              "    </tr>\n",
              "    <tr>\n",
              "      <th>2</th>\n",
              "      <td>1965-01-02 00:00:00</td>\n",
              "      <td>0.0</td>\n",
              "    </tr>\n",
              "    <tr>\n",
              "      <th>3</th>\n",
              "      <td>1965-01-03 00:00:00</td>\n",
              "      <td>13.0</td>\n",
              "    </tr>\n",
              "    <tr>\n",
              "      <th>4</th>\n",
              "      <td>1965-01-04 00:00:00</td>\n",
              "      <td>0.0</td>\n",
              "    </tr>\n",
              "  </tbody>\n",
              "</table>\n",
              "</div>"
            ],
            "text/plain": [
              "            Unnamed: 0  Unnamed: 1\n",
              "0         1. Cuddalore         NaN\n",
              "1  1965-01-01 00:00:00        10.6\n",
              "2  1965-01-02 00:00:00         0.0\n",
              "3  1965-01-03 00:00:00        13.0\n",
              "4  1965-01-04 00:00:00         0.0"
            ]
          },
          "metadata": {
            "tags": []
          },
          "execution_count": 95
        }
      ]
    },
    {
      "cell_type": "code",
      "metadata": {
        "id": "RB9D0KOIkl-g",
        "colab_type": "code",
        "colab": {}
      },
      "source": [
        "Cuddalore=df[3:19360]\n",
        "Panruti=df[23016:38721]\n",
        "Dharmapuri=df[42408:58082]\n",
        "Harur=df[61738:77443]\n",
        "Palacode=df[81158:96804]\n",
        "Pennagaram=df[100460:116165]\n",
        "Chengam=df[119821:135526]\n",
        "Sathanur=df[138817:154522]\n",
        "Tiruvanamalai=df[158178:173883]\n",
        "Sankarapuram=df[177539:193244]\n",
        "Tirukoilur=df[196899:212604]\n",
        "ulundurpet=df[216260:231965]\n",
        "Villupuram=df[235621:251326]\n",
        "Denkanikottai=df[274343:290048]\n",
        "Hosur=df[293703:309408]\n",
        "Krishnagiri=df[313063:328768]\n",
        "Marandahalli=df[332059:347764]\n",
        "Rayakottai=df[353250:368955]\n",
        "Uthangarai=df[372611:388316]\n"
      ],
      "execution_count": 0,
      "outputs": []
    },
    {
      "cell_type": "code",
      "metadata": {
        "id": "z7bqZet_0j0n",
        "colab_type": "code",
        "outputId": "9d9270e0-aabf-42eb-b98a-df0a56339e2a",
        "colab": {
          "base_uri": "https://localhost:8080/",
          "height": 195
        }
      },
      "source": [
        "Pennagaram.head()"
      ],
      "execution_count": 97,
      "outputs": [
        {
          "output_type": "execute_result",
          "data": {
            "text/html": [
              "<div>\n",
              "<style scoped>\n",
              "    .dataframe tbody tr th:only-of-type {\n",
              "        vertical-align: middle;\n",
              "    }\n",
              "\n",
              "    .dataframe tbody tr th {\n",
              "        vertical-align: top;\n",
              "    }\n",
              "\n",
              "    .dataframe thead th {\n",
              "        text-align: right;\n",
              "    }\n",
              "</style>\n",
              "<table border=\"1\" class=\"dataframe\">\n",
              "  <thead>\n",
              "    <tr style=\"text-align: right;\">\n",
              "      <th></th>\n",
              "      <th>Unnamed: 0</th>\n",
              "      <th>Unnamed: 1</th>\n",
              "    </tr>\n",
              "  </thead>\n",
              "  <tbody>\n",
              "    <tr>\n",
              "      <th>100460</th>\n",
              "      <td>1975-01-03 00:00:00</td>\n",
              "      <td>0.0</td>\n",
              "    </tr>\n",
              "    <tr>\n",
              "      <th>100461</th>\n",
              "      <td>1975-01-04 00:00:00</td>\n",
              "      <td>0.0</td>\n",
              "    </tr>\n",
              "    <tr>\n",
              "      <th>100462</th>\n",
              "      <td>1975-01-05 00:00:00</td>\n",
              "      <td>0.0</td>\n",
              "    </tr>\n",
              "    <tr>\n",
              "      <th>100463</th>\n",
              "      <td>1975-01-06 00:00:00</td>\n",
              "      <td>0.0</td>\n",
              "    </tr>\n",
              "    <tr>\n",
              "      <th>100464</th>\n",
              "      <td>1975-01-07 00:00:00</td>\n",
              "      <td>0.0</td>\n",
              "    </tr>\n",
              "  </tbody>\n",
              "</table>\n",
              "</div>"
            ],
            "text/plain": [
              "                 Unnamed: 0  Unnamed: 1\n",
              "100460  1975-01-03 00:00:00         0.0\n",
              "100461  1975-01-04 00:00:00         0.0\n",
              "100462  1975-01-05 00:00:00         0.0\n",
              "100463  1975-01-06 00:00:00         0.0\n",
              "100464  1975-01-07 00:00:00         0.0"
            ]
          },
          "metadata": {
            "tags": []
          },
          "execution_count": 97
        }
      ]
    },
    {
      "cell_type": "code",
      "metadata": {
        "id": "8lT9ZtR0mBO1",
        "colab_type": "code",
        "colab": {}
      },
      "source": [
        "Cuddalore.columns = ['Date', 'Rainfall']\n",
        "Panruti.columns= ['Date', 'Rainfall']\n",
        "Dharmapuri.columns= ['Date', 'Rainfall']\n",
        "Harur.columns= ['Date', 'Rainfall']\n",
        "Palacode.columns= ['Date', 'Rainfall']\n",
        "Pennagaram.columns= ['Date', 'Rainfall']\n",
        "Chengam.columns= ['Date', 'Rainfall']\n",
        "Sathanur.columns= ['Date', 'Rainfall']\n",
        "Tiruvanamalai.columns= ['Date', 'Rainfall']\n",
        "Sankarapuram.columns= ['Date', 'Rainfall']\n",
        "Tirukoilur.columns= ['Date', 'Rainfall']\n",
        "ulundurpet.columns= ['Date', 'Rainfall']\n",
        "Villupuram.columns= ['Date', 'Rainfall']\n",
        "Denkanikottai.columns= ['Date', 'Rainfall']\n",
        "Hosur.columns= ['Date', 'Rainfall']\n",
        "Krishnagiri.columns= ['Date', 'Rainfall']\n",
        "Marandahalli.columns= ['Date', 'Rainfall']\n",
        "Rayakottai.columns= ['Date', 'Rainfall']\n",
        "Uthangarai.columns= ['Date', 'Rainfall']"
      ],
      "execution_count": 0,
      "outputs": []
    },
    {
      "cell_type": "code",
      "metadata": {
        "id": "ot2FqhbOm6dJ",
        "colab_type": "code",
        "colab": {}
      },
      "source": [
        "train=Cuddalore[0:15000]\n",
        "test=Cuddalore[15000:19004]\n",
        "train1=Panruti[0:12000]\n",
        "test1=Panruti[12000:15705]\n",
        "train2=Dharmapuri[0:12000]\n",
        "test2=Dharmapuri[12000:15674]\n",
        "train3=Harur[0:12000]\n",
        "test3=Harur[12000:15704]\n",
        "train4=Palacode[0:12000]\n",
        "test4=Palacode[12000:15646]\n",
        "train5=Pennagaram[0:12000]\n",
        "test5=Pennagaram[12000:15705]\n",
        "train6=Chengam[0:12000]\n",
        "test6=Chengam[12000:15705]\n",
        "train7=Sathanur[0:12000]\n",
        "test7=Sathanur[12000:15705]\n",
        "train8=Tiruvanamalai[0:12000]\n",
        "test8=Tiruvanamalai[12000:15165]\n",
        "train9=Sankarapuram[0:12000]\n",
        "test9=Sankarapuram[12000:15705]\n",
        "train10=Tirukoilur[0:12000]\n",
        "test10=Tirukoilur[12000:15705]\n",
        "train11=ulundurpet[0:12000]\n",
        "test11=ulundurpet[12000:15345]\n",
        "train12=Villupuram[0:12000]\n",
        "test12=Villupuram[12000:15705]\n",
        "train13=Denkanikottai[0:12000]\n",
        "test13=Denkanikottai[12000:15705]\n",
        "train14=Hosur[0:12000]\n",
        "test14=Hosur[12000:15678]\n",
        "train15=Krishnagiri[0:12000]\n",
        "test15=Krishnagiri[12000:15705]\n",
        "train16=Marandahalli[0:12000]\n",
        "test16=Marandahalli[12000:15705]\n",
        "train17=Rayakottai[0:12000]\n",
        "test17=Rayakottai[12000:15705]\n",
        "train18=Uthangarai[0:12000]\n",
        "test18=Uthangarai[12000:15705]"
      ],
      "execution_count": 0,
      "outputs": []
    },
    {
      "cell_type": "code",
      "metadata": {
        "id": "eWdgMaVPnV7A",
        "colab_type": "code",
        "colab": {}
      },
      "source": [
        "X_train=train['Rainfall']\n",
        "X_test=test['Rainfall']\n",
        "X_train1=train1['Rainfall']\n",
        "X_test1=test1['Rainfall']\n",
        "X_train2=train2['Rainfall']\n",
        "X_test2=test2['Rainfall']\n",
        "X_train3=train3['Rainfall']\n",
        "X_test3=test3['Rainfall']\n",
        "X_train4=train4['Rainfall']\n",
        "X_test4=test4['Rainfall']\n",
        "X_train5=train5['Rainfall']\n",
        "X_test5=test5['Rainfall']\n",
        "X_train6=train6['Rainfall']\n",
        "X_test6=test6['Rainfall']\n",
        "X_train7=train7['Rainfall']\n",
        "X_test7=test7['Rainfall']\n",
        "X_train8=train8['Rainfall']\n",
        "X_test8=test8['Rainfall']\n",
        "X_train9=train9['Rainfall']\n",
        "X_test9=test9['Rainfall']\n",
        "X_train10=train10['Rainfall']\n",
        "X_test10=test10['Rainfall']\n",
        "X_train11=train11['Rainfall']\n",
        "X_test11=test11['Rainfall']\n",
        "X_train12=train12['Rainfall']\n",
        "X_test12=test12['Rainfall']\n",
        "X_train13=train13['Rainfall']\n",
        "X_test13=test13['Rainfall']\n",
        "X_train14=train14['Rainfall']\n",
        "X_test14=test14['Rainfall']\n",
        "X_train15=train15['Rainfall']\n",
        "X_test15=test15['Rainfall']\n",
        "X_train16=train16['Rainfall']\n",
        "X_test16=test16['Rainfall']\n",
        "X_train17=train17['Rainfall']\n",
        "X_test17=test17['Rainfall']\n",
        "X_train18=train18['Rainfall']\n",
        "X_test18=test18['Rainfall']\n"
      ],
      "execution_count": 0,
      "outputs": []
    },
    {
      "cell_type": "code",
      "metadata": {
        "id": "QdTZBwX0mnEs",
        "colab_type": "code",
        "colab": {}
      },
      "source": [
        "min_max_scaler = preprocessing.MinMaxScaler()\n",
        "\n",
        "x_scaled = min_max_scaler.fit_transform(X_train.values.reshape(-1,1))\n",
        "X_train = pd.DataFrame(x_scaled)\n",
        "\n",
        "x_scaled1 = min_max_scaler.fit_transform(X_train1.values.reshape(-1,1))\n",
        "X_train1 = pd.DataFrame(x_scaled1)\n",
        "\n",
        "x_scaled2 = min_max_scaler.fit_transform(X_train2.values.reshape(-1,1))\n",
        "X_train2 = pd.DataFrame(x_scaled2)\n",
        "\n",
        "x_scaled3 = min_max_scaler.fit_transform(X_train3.values.reshape(-1,1))\n",
        "X_train3 = pd.DataFrame(x_scaled3)\n",
        "\n",
        "x_scaled4 = min_max_scaler.fit_transform(X_train4.values.reshape(-1,1))\n",
        "X_train4 = pd.DataFrame(x_scaled4)\n",
        "\n",
        "x_scaled5 = min_max_scaler.fit_transform(X_train5.values.reshape(-1,1))\n",
        "X_train5 = pd.DataFrame(x_scaled5)\n",
        "\n",
        "x_scaled6 = min_max_scaler.fit_transform(X_train6.values.reshape(-1,1))\n",
        "X_train6 = pd.DataFrame(x_scaled6)\n",
        "\n",
        "x_scaled7 = min_max_scaler.fit_transform(X_train7.values.reshape(-1,1))\n",
        "X_train7 = pd.DataFrame(x_scaled7)\n",
        "\n",
        "x_scaled8 = min_max_scaler.fit_transform(X_train8.values.reshape(-1,1))\n",
        "X_train8 = pd.DataFrame(x_scaled8)\n",
        "\n",
        "x_scaled9 = min_max_scaler.fit_transform(X_train9.values.reshape(-1,1))\n",
        "X_train9 = pd.DataFrame(x_scaled9)\n",
        "\n",
        "x_scaled10 = min_max_scaler.fit_transform(X_train10.values.reshape(-1,1))\n",
        "X_train10 = pd.DataFrame(x_scaled10)\n",
        "\n",
        "x_scaled11 = min_max_scaler.fit_transform(X_train11.values.reshape(-1,1))\n",
        "X_train11 = pd.DataFrame(x_scaled11)\n",
        "\n",
        "x_scaled1112 = min_max_scaler.fit_transform(X_train12.values.reshape(-1,1))\n",
        "X_train12 = pd.DataFrame(x_scaled1112)\n",
        "\n",
        "x_scaled13 = min_max_scaler.fit_transform(X_train13.values.reshape(-1,1))\n",
        "X_train13 = pd.DataFrame(x_scaled13)\n",
        "\n",
        "x_scaled14 = min_max_scaler.fit_transform(X_train14.values.reshape(-1,1))\n",
        "X_train14 = pd.DataFrame(x_scaled14)\n",
        "\n",
        "x_scaled15 = min_max_scaler.fit_transform(X_train15.values.reshape(-1,1))\n",
        "X_train15 = pd.DataFrame(x_scaled15)\n",
        "\n",
        "x_scaled16 = min_max_scaler.fit_transform(X_train16.values.reshape(-1,1))\n",
        "X_train16 = pd.DataFrame(x_scaled16)\n",
        "\n",
        "x_scaled17 = min_max_scaler.fit_transform(X_train17.values.reshape(-1,1))\n",
        "X_train17 = pd.DataFrame(x_scaled17)\n",
        "\n",
        "x_scaled18 = min_max_scaler.fit_transform(X_train18.values.reshape(-1,1))\n",
        "X_train18 = pd.DataFrame(x_scaled18)\n",
        "\n"
      ],
      "execution_count": 0,
      "outputs": []
    },
    {
      "cell_type": "code",
      "metadata": {
        "id": "CxbM6N2-oCPd",
        "colab_type": "code",
        "colab": {}
      },
      "source": [
        "x_scaled1 = min_max_scaler.fit_transform(X_test.values.reshape(-1,1))\n",
        "X_test = pd.DataFrame(x_scaled1)\n",
        "\n",
        "x_scaled11 = min_max_scaler.fit_transform(X_test1.values.reshape(-1,1))\n",
        "X_test1 = pd.DataFrame(x_scaled11)\n",
        "\n",
        "x_scaled12 = min_max_scaler.fit_transform(X_test2.values.reshape(-1,1))\n",
        "X_test2 = pd.DataFrame(x_scaled12)\n",
        "\n",
        "x_scaled13 = min_max_scaler.fit_transform(X_test3.values.reshape(-1,1))\n",
        "X_test3 = pd.DataFrame(x_scaled13)\n",
        "\n",
        "x_scaled14 = min_max_scaler.fit_transform(X_test4.values.reshape(-1,1))\n",
        "X_test4 = pd.DataFrame(x_scaled14)\n",
        "\n",
        "x_scaled15 = min_max_scaler.fit_transform(X_test5.values.reshape(-1,1))\n",
        "X_test5 = pd.DataFrame(x_scaled15)\n",
        "\n",
        "x_scaled16 = min_max_scaler.fit_transform(X_test6.values.reshape(-1,1))\n",
        "X_test6 = pd.DataFrame(x_scaled16)\n",
        "\n",
        "x_scaled17 = min_max_scaler.fit_transform(X_test7.values.reshape(-1,1))\n",
        "X_test7 = pd.DataFrame(x_scaled17)\n",
        "\n",
        "x_scaled18 = min_max_scaler.fit_transform(X_test8.values.reshape(-1,1))\n",
        "X_test8 = pd.DataFrame(x_scaled18)\n",
        "\n",
        "x_scaled19 = min_max_scaler.fit_transform(X_test9.values.reshape(-1,1))\n",
        "X_test9 = pd.DataFrame(x_scaled19)\n",
        "\n",
        "x_scaled110 = min_max_scaler.fit_transform(X_test10.values.reshape(-1,1))\n",
        "X_test10 = pd.DataFrame(x_scaled110)\n",
        "\n",
        "x_scaled111 = min_max_scaler.fit_transform(X_test11.values.reshape(-1,1))\n",
        "X_test11 = pd.DataFrame(x_scaled111)\n",
        "\n",
        "x_scaled112 = min_max_scaler.fit_transform(X_test12.values.reshape(-1,1))\n",
        "X_test12 = pd.DataFrame(x_scaled112)\n",
        "\n",
        "x_scaled113 = min_max_scaler.fit_transform(X_test13.values.reshape(-1,1))\n",
        "X_test13 = pd.DataFrame(x_scaled113)\n",
        "\n",
        "x_scaled114 = min_max_scaler.fit_transform(X_test14.values.reshape(-1,1))\n",
        "X_test14 = pd.DataFrame(x_scaled114)\n",
        "\n",
        "x_scaled115= min_max_scaler.fit_transform(X_test15.values.reshape(-1,1))\n",
        "X_test15 = pd.DataFrame(x_scaled115)\n",
        "\n",
        "x_scaled116 = min_max_scaler.fit_transform(X_test16.values.reshape(-1,1))\n",
        "X_test16 = pd.DataFrame(x_scaled116)\n",
        "\n",
        "x_scaled117 = min_max_scaler.fit_transform(X_test17.values.reshape(-1,1))\n",
        "X_test17 = pd.DataFrame(x_scaled117)\n",
        "\n",
        "x_scaled118 = min_max_scaler.fit_transform(X_test18.values.reshape(-1,1))\n",
        "X_test18 = pd.DataFrame(x_scaled118)\n"
      ],
      "execution_count": 0,
      "outputs": []
    },
    {
      "cell_type": "code",
      "metadata": {
        "id": "VZNCwdZhrTQD",
        "colab_type": "code",
        "colab": {}
      },
      "source": [
        "in_seq = np.array([X_train[0]])\n",
        "in_seqtest1 = np.array([X_test[0]])\n",
        "\n",
        "in_seq1 = np.array([X_train1[0]])\n",
        "in_seqt11 = np.array([X_test1[0]])\n",
        "\n",
        "in_seq12 = np.array([X_train2[0]])\n",
        "in_seqt112 = np.array([X_test2[0]])\n",
        "\n",
        "in_seq13 = np.array([X_train3[0]])\n",
        "in_seqt113 = np.array([X_test3[0]])\n",
        "\n",
        "in_seq14 = np.array([X_train4[0]])\n",
        "in_seqt114 = np.array([X_test4[0]])\n",
        "\n",
        "in_seq15 = np.array([X_train5[0]])\n",
        "in_seqt115 = np.array([X_test5[0]])\n",
        "\n",
        "in_seq16 = np.array([X_train6[0]])\n",
        "in_seqt116 = np.array([X_test6[0]])\n",
        "\n",
        "in_seq17 = np.array([X_train7[0]])\n",
        "in_seqt117 = np.array([X_test7[0]])\n",
        "\n",
        "in_seq18 = np.array([X_train8[0]])\n",
        "in_seqt118 = np.array([X_test8[0]])\n",
        "\n",
        "in_seq19 = np.array([X_train9[0]])\n",
        "in_seqt119 = np.array([X_test9[0]])\n",
        "\n",
        "in_seq110 = np.array([X_train10[0]])\n",
        "in_seqt1110 = np.array([X_test10[0]])\n",
        "\n",
        "in_seq111 = np.array([X_train11[0]])\n",
        "in_seqt1111 = np.array([X_test11[0]])\n",
        "\n",
        "in_seq112 = np.array([X_train12[0]])\n",
        "in_seqt1112 = np.array([X_test12[0]])\n",
        "\n",
        "in_seq113 = np.array([X_train13[0]])\n",
        "in_seqt1113 = np.array([X_test13[0]])\n",
        "\n",
        "in_seq114 = np.array([X_train14[0]])\n",
        "in_seqt1114 = np.array([X_test14[0]])\n",
        "\n",
        "in_seq115 = np.array([X_train15[0]])\n",
        "in_seqt1115 = np.array([X_test15[0]])\n",
        "\n",
        "in_seq116 = np.array([X_train16[0]])\n",
        "in_seqt1116 = np.array([X_test16[0]])\n",
        "\n",
        "in_seq117 = np.array([X_train17[0]])\n",
        "in_seqt1117 = np.array([X_test17[0]])\n",
        "\n",
        "in_seq118 = np.array([X_train18[0]])\n",
        "in_seqt1118 = np.array([X_test18[0]])\n"
      ],
      "execution_count": 0,
      "outputs": []
    },
    {
      "cell_type": "code",
      "metadata": {
        "id": "2vtw9-GtrbhY",
        "colab_type": "code",
        "colab": {}
      },
      "source": [
        "in_seq = in_seq.reshape((15000, 1))\n",
        "in_seqtest1 = in_seqtest1.reshape((4004, 1))\n",
        "\n",
        "in_seq1 = in_seq1.reshape((12000, 1))\n",
        "in_seqt11 = in_seqt11.reshape((3705, 1))\n",
        "\n",
        "in_seq12 = in_seq12.reshape((12000, 1))\n",
        "in_seqt112 = in_seqt112.reshape((3674, 1))\n",
        "\n",
        "in_seq13 = in_seq13.reshape((12000, 1))\n",
        "in_seqt113 = in_seqt113.reshape((3704, 1))\n",
        "\n",
        "in_seq14 = in_seq14.reshape((12000, 1))\n",
        "in_seqt114 = in_seqt114.reshape((3646, 1))\n",
        "\n",
        "in_seq15 = in_seq15.reshape((12000, 1))\n",
        "in_seqt115 = in_seqt115.reshape((3705, 1))\n",
        "\n",
        "in_seq16 = in_seq16.reshape((12000, 1))\n",
        "in_seqt116 = in_seqt116.reshape((3705, 1))\n",
        "\n",
        "in_seq17 = in_seq17.reshape((12000, 1))\n",
        "in_seqt117 = in_seqt117.reshape((3705, 1))\n",
        "\n",
        "in_seq18 = in_seq18.reshape((12000, 1))\n",
        "in_seqt118 = in_seqt118.reshape((3165, 1))\n",
        "\n",
        "in_seq19 = in_seq19.reshape((12000, 1))\n",
        "in_seqt119 = in_seqt119.reshape((3705, 1))\n",
        "\n",
        "in_seq110 = in_seq110.reshape((12000, 1))\n",
        "in_seqt1110 = in_seqt1110.reshape((3705, 1))\n",
        "\n",
        "in_seq111 = in_seq111.reshape((12000, 1))\n",
        "in_seqt1111 = in_seqt1111.reshape((3345, 1))\n",
        "\n",
        "in_seq112 = in_seq112.reshape((12000, 1))\n",
        "in_seqt1112 = in_seqt1112.reshape((3705, 1))\n",
        "\n",
        "in_seq113 = in_seq113.reshape((12000, 1))\n",
        "in_seqt1113 = in_seqt1113.reshape((3705, 1))\n",
        "\n",
        "in_seq114 = in_seq114.reshape((12000, 1))\n",
        "in_seqt1114 = in_seqt1114.reshape((3678, 1))\n",
        "\n",
        "in_seq115 = in_seq115.reshape((12000, 1))\n",
        "in_seqt1115 = in_seqt1115.reshape((3705, 1))\n",
        "\n",
        "in_seq116 = in_seq116.reshape((12000, 1))\n",
        "in_seqt1116 = in_seqt1116.reshape((3705, 1))\n",
        "\n",
        "in_seq117 = in_seq117.reshape((12000, 1))\n",
        "in_seqt1117 = in_seqt1117.reshape((3705, 1))\n",
        "\n",
        "in_seq118 = in_seq118.reshape((12000, 1))\n",
        "in_seqt1118 = in_seqt1118.reshape((3704, 1))\n",
        "\n"
      ],
      "execution_count": 0,
      "outputs": []
    },
    {
      "cell_type": "code",
      "metadata": {
        "id": "dcthfPpSoN2u",
        "colab_type": "code",
        "colab": {}
      },
      "source": [
        "def split_sequence(sequence, n_steps):\n",
        "\tX, y = list(), list()\n",
        "\tfor i in range(len(sequence)):\n",
        "\t\t# find the end of this pattern\n",
        "\t\tend_ix = i + n_steps\n",
        "\t\t# check if we are beyond the sequence\n",
        "\t\tif end_ix > len(sequence)-1:\n",
        "\t\t\tbreak\n",
        "\t\t# gather input and output parts of the pattern\n",
        "\t\tseq_x, seq_y = sequence[i:end_ix], sequence[end_ix]\n",
        "\t\tX.append(seq_x)\n",
        "\t\ty.append(seq_y)\n",
        "\treturn np.array(X), np.array(y)"
      ],
      "execution_count": 0,
      "outputs": []
    },
    {
      "cell_type": "code",
      "metadata": {
        "id": "NLCLOXnyptMN",
        "colab_type": "code",
        "colab": {}
      },
      "source": [
        "cuddataset1 = hstack((in_seqtest1))\n",
        "cuddataset = hstack((in_seq))\n",
        "\n",
        "pandataset1 = hstack((in_seqt11))\n",
        "pandataset = hstack((in_seq1))\n",
        "\n",
        "dhadataset1 = hstack((in_seqt112))\n",
        "dhadataset = hstack((in_seq12))\n",
        "\n",
        "hardataset1 = hstack((in_seqt113))\n",
        "hardataset = hstack((in_seq13))\n",
        "\n",
        "paldataset1 = hstack((in_seqt114))\n",
        "paldataset = hstack((in_seq14))\n",
        "\n",
        "pendataset1 = hstack((in_seqt115))\n",
        "pendataset = hstack((in_seq15))\n",
        "\n",
        "chedataset1 = hstack((in_seqt116))\n",
        "chedataset = hstack((in_seq16))\n",
        "\n",
        "satdataset1 = hstack((in_seqt117))\n",
        "satdataset = hstack((in_seq17))\n",
        "\n",
        "Tirdataset1 = hstack((in_seqt118))\n",
        "Tirdataset = hstack((in_seq18))\n",
        "\n",
        "Sandataset1 = hstack((in_seqt119))\n",
        "Sandataset = hstack((in_seq19))\n",
        "\n",
        "Tirudataset1 = hstack((in_seqt1110))\n",
        "Tirudataset = hstack((in_seq110))\n",
        "\n",
        "uludataset1 = hstack((in_seqt1111))\n",
        "uludataset = hstack((in_seq111))\n",
        "\n",
        "vildataset1 = hstack((in_seqt1112))\n",
        "vildataset = hstack((in_seq112))\n",
        "\n",
        "bardataset1 = hstack((in_seqt1113))\n",
        "bardataset = hstack((in_seq113))\n",
        "\n",
        "Dendataset1 = hstack((in_seqt1114))\n",
        "Dendataset = hstack((in_seq114))\n",
        "\n",
        "kridataset1 = hstack((in_seqt1115))\n",
        "kridataset = hstack((in_seq115))\n",
        "\n",
        "mardataset1 = hstack((in_seqt1116))\n",
        "mardataset = hstack((in_seq116))\n",
        "\n",
        "raydataset1 = hstack((in_seqt1117))\n",
        "raydataset = hstack((in_seq117))\n",
        "\n",
        "uthdataset1 = hstack((in_seqt1118))\n",
        "uthdataset = hstack((in_seq118))\n"
      ],
      "execution_count": 0,
      "outputs": []
    },
    {
      "cell_type": "code",
      "metadata": {
        "id": "VXevl6Wdrz2e",
        "colab_type": "code",
        "colab": {}
      },
      "source": [
        "n_steps = 1\n",
        "# convert into input/output\n",
        "X, y = split_sequence(cuddataset, n_steps)\n",
        "X1 , y1 = split_sequence(pandataset, n_steps)\n",
        "X2 , y2 = split_sequence(dhadataset, n_steps)\n",
        "X3 , y3 = split_sequence(hardataset, n_steps)\n",
        "X4 , y4 = split_sequence(paldataset, n_steps)\n",
        "X5 , y5 = split_sequence(pendataset, n_steps)\n",
        "X6, y6 = split_sequence(chedataset, n_steps)\n",
        "X7, y7 = split_sequence(satdataset, n_steps)\n",
        "X8, y8 = split_sequence(Tirdataset, n_steps)\n",
        "X9, y9 = split_sequence(Sandataset, n_steps)\n",
        "X10, y10 = split_sequence(Tirudataset, n_steps)\n",
        "X11, y11 = split_sequence(uludataset, n_steps)\n",
        "X12 , y12 = split_sequence(vildataset, n_steps)\n",
        "X13, y13 = split_sequence(bardataset, n_steps)\n",
        "X14, y14 = split_sequence(Dendataset, n_steps)\n",
        "X15, y15 = split_sequence(kridataset, n_steps)\n",
        "X16, y16 = split_sequence(mardataset, n_steps)\n",
        "X17, y17 = split_sequence(raydataset, n_steps)\n",
        "X18, y18 = split_sequence(uthdataset, n_steps)"
      ],
      "execution_count": 0,
      "outputs": []
    },
    {
      "cell_type": "code",
      "metadata": {
        "id": "wChOw-PbTin3",
        "colab_type": "code",
        "colab": {}
      },
      "source": [
        "X_test,y_test = split_sequence(cuddataset, n_steps)\n",
        "X_test1,y_test1 = split_sequence(pandataset, n_steps)\n",
        "X_test2,y_test2= split_sequence(dhadataset, n_steps)\n",
        "X_test3,y_test3 = split_sequence(hardataset, n_steps)\n",
        "X_test4,y_test4 = split_sequence(paldataset, n_steps)\n",
        "X_test5,y_test5 = split_sequence(pendataset, n_steps)\n",
        "X_test6,y_test6 = split_sequence(chedataset, n_steps)\n",
        "X_test7,y_test7 = split_sequence(satdataset, n_steps)\n",
        "X_test8,y_test8 = split_sequence(Tirdataset, n_steps)\n",
        "X_test9,y_test9 = split_sequence(Sandataset, n_steps)\n",
        "X_test10,y_test10 = split_sequence(Tirudataset, n_steps)\n",
        "X_test11,y_test11= split_sequence(uludataset, n_steps)\n",
        "X_test12,y_test12 = split_sequence(vildataset, n_steps)\n",
        "X_test13,y_test13 = split_sequence(bardataset, n_steps)\n",
        "X_test14,y_test14 = split_sequence(Dendataset, n_steps)\n",
        "X_test15,y_test15 = split_sequence(kridataset, n_steps)\n",
        "X_test16,y_test16 = split_sequence(mardataset, n_steps)\n",
        "X_test17,y_test17= split_sequence(raydataset, n_steps)\n",
        "X_test18,y_test18= split_sequence(uthdataset, n_steps)"
      ],
      "execution_count": 0,
      "outputs": []
    },
    {
      "cell_type": "code",
      "metadata": {
        "id": "8zmd12H9K3iu",
        "colab_type": "code",
        "outputId": "dd660efd-a461-4f22-f8a0-a628da4c9c72",
        "colab": {
          "base_uri": "https://localhost:8080/",
          "height": 34
        }
      },
      "source": [
        "X.shape"
      ],
      "execution_count": 175,
      "outputs": [
        {
          "output_type": "execute_result",
          "data": {
            "text/plain": [
              "(14999, 1)"
            ]
          },
          "metadata": {
            "tags": []
          },
          "execution_count": 175
        }
      ]
    },
    {
      "cell_type": "code",
      "metadata": {
        "id": "feOCg2VVLLfe",
        "colab_type": "code",
        "outputId": "f78f5683-b868-4f4e-9923-124fc27803b5",
        "colab": {
          "base_uri": "https://localhost:8080/",
          "height": 34
        }
      },
      "source": [
        "y.shape"
      ],
      "execution_count": 176,
      "outputs": [
        {
          "output_type": "execute_result",
          "data": {
            "text/plain": [
              "(14999,)"
            ]
          },
          "metadata": {
            "tags": []
          },
          "execution_count": 176
        }
      ]
    },
    {
      "cell_type": "code",
      "metadata": {
        "id": "sV15YyHcQ2vj",
        "colab_type": "code",
        "outputId": "875fd2df-aad8-4ae8-b0e1-aea2e7391420",
        "colab": {
          "base_uri": "https://localhost:8080/",
          "height": 50
        }
      },
      "source": [
        "from sklearn import linear_model\n",
        "reg = linear_model.Ridge(alpha=.5)\n",
        "reg.fit(X,y)"
      ],
      "execution_count": 177,
      "outputs": [
        {
          "output_type": "execute_result",
          "data": {
            "text/plain": [
              "Ridge(alpha=0.5, copy_X=True, fit_intercept=True, max_iter=None,\n",
              "      normalize=False, random_state=None, solver='auto', tol=0.001)"
            ]
          },
          "metadata": {
            "tags": []
          },
          "execution_count": 177
        }
      ]
    },
    {
      "cell_type": "code",
      "metadata": {
        "id": "AvagXvUsREvQ",
        "colab_type": "code",
        "outputId": "c732212b-d988-4264-8479-12b32e980d58",
        "colab": {
          "base_uri": "https://localhost:8080/",
          "height": 34
        }
      },
      "source": [
        "reg.coef_"
      ],
      "execution_count": 178,
      "outputs": [
        {
          "output_type": "execute_result",
          "data": {
            "text/plain": [
              "array([0.3314235])"
            ]
          },
          "metadata": {
            "tags": []
          },
          "execution_count": 178
        }
      ]
    },
    {
      "cell_type": "code",
      "metadata": {
        "id": "jX4gtpjmSnDz",
        "colab_type": "code",
        "colab": {}
      },
      "source": [
        "Station=reg.predict(X)"
      ],
      "execution_count": 0,
      "outputs": []
    },
    {
      "cell_type": "code",
      "metadata": {
        "id": "DF81OVdzRPEq",
        "colab_type": "code",
        "colab": {}
      },
      "source": [
        "Stationtest=reg.predict(X_test)"
      ],
      "execution_count": 0,
      "outputs": []
    },
    {
      "cell_type": "code",
      "metadata": {
        "id": "ci7ExtrgSNlB",
        "colab_type": "code",
        "outputId": "a6afc633-04d3-4734-e36f-ef91d7bcc98e",
        "colab": {
          "base_uri": "https://localhost:8080/",
          "height": 34
        }
      },
      "source": [
        "from sklearn.metrics import mean_squared_error\n",
        "mean_squared_error(y_test, Stationtest)"
      ],
      "execution_count": 181,
      "outputs": [
        {
          "output_type": "execute_result",
          "data": {
            "text/plain": [
              "0.0013114483853529392"
            ]
          },
          "metadata": {
            "tags": []
          },
          "execution_count": 181
        }
      ]
    },
    {
      "cell_type": "code",
      "metadata": {
        "id": "bR5Bg6PoSuRZ",
        "colab_type": "code",
        "outputId": "05c13519-2d85-484e-e7a0-23c78eaa42f6",
        "colab": {
          "base_uri": "https://localhost:8080/",
          "height": 34
        }
      },
      "source": [
        "mean_squared_error(y, Station)"
      ],
      "execution_count": 182,
      "outputs": [
        {
          "output_type": "execute_result",
          "data": {
            "text/plain": [
              "0.0013114483853529392"
            ]
          },
          "metadata": {
            "tags": []
          },
          "execution_count": 182
        }
      ]
    },
    {
      "cell_type": "code",
      "metadata": {
        "id": "WVso5i0YSciR",
        "colab_type": "code",
        "outputId": "3153b81d-067a-494f-fd16-0f3af34c5e5b",
        "colab": {
          "base_uri": "https://localhost:8080/",
          "height": 34
        }
      },
      "source": [
        " from sklearn.metrics import r2_score\n",
        " r2_score(y_test,Stationtest)"
      ],
      "execution_count": 183,
      "outputs": [
        {
          "output_type": "execute_result",
          "data": {
            "text/plain": [
              "0.11478721059987085"
            ]
          },
          "metadata": {
            "tags": []
          },
          "execution_count": 183
        }
      ]
    },
    {
      "cell_type": "code",
      "metadata": {
        "id": "N31rAn-kS3LG",
        "colab_type": "code",
        "outputId": "ca54509b-8ea4-452b-983a-16e2578f631a",
        "colab": {
          "base_uri": "https://localhost:8080/",
          "height": 34
        }
      },
      "source": [
        " r2_score(y,Station)"
      ],
      "execution_count": 184,
      "outputs": [
        {
          "output_type": "execute_result",
          "data": {
            "text/plain": [
              "0.11478721059987085"
            ]
          },
          "metadata": {
            "tags": []
          },
          "execution_count": 184
        }
      ]
    },
    {
      "cell_type": "code",
      "metadata": {
        "id": "e0oWS2a2HSV2",
        "colab_type": "code",
        "outputId": "a4fabaf8-7cfc-4dac-9785-c924d53cd20e",
        "colab": {
          "base_uri": "https://localhost:8080/",
          "height": 50
        }
      },
      "source": [
        "from sklearn import linear_model\n",
        "reg = linear_model.Ridge(alpha=.5)\n",
        "reg.fit(X1,y1)"
      ],
      "execution_count": 185,
      "outputs": [
        {
          "output_type": "execute_result",
          "data": {
            "text/plain": [
              "Ridge(alpha=0.5, copy_X=True, fit_intercept=True, max_iter=None,\n",
              "      normalize=False, random_state=None, solver='auto', tol=0.001)"
            ]
          },
          "metadata": {
            "tags": []
          },
          "execution_count": 185
        }
      ]
    },
    {
      "cell_type": "code",
      "metadata": {
        "id": "e12wvbpnHlt4",
        "colab_type": "code",
        "colab": {}
      },
      "source": [
        "Station1=reg.predict(X1)\n",
        "Station1test=reg.predict(X_test1)"
      ],
      "execution_count": 0,
      "outputs": []
    },
    {
      "cell_type": "code",
      "metadata": {
        "id": "6Ghtc5L5H8eX",
        "colab_type": "code",
        "outputId": "d43181a2-bce6-4cf0-8a23-55da0c1a8915",
        "colab": {
          "base_uri": "https://localhost:8080/",
          "height": 34
        }
      },
      "source": [
        "mean_squared_error(y_test1, Station1test)"
      ],
      "execution_count": 187,
      "outputs": [
        {
          "output_type": "execute_result",
          "data": {
            "text/plain": [
              "0.0014790416855696125"
            ]
          },
          "metadata": {
            "tags": []
          },
          "execution_count": 187
        }
      ]
    },
    {
      "cell_type": "code",
      "metadata": {
        "id": "epygHk_tIthF",
        "colab_type": "code",
        "outputId": "d7dc0897-772f-44e9-c394-19e6f17719f1",
        "colab": {
          "base_uri": "https://localhost:8080/",
          "height": 34
        }
      },
      "source": [
        " r2_score(y_test1,Station1test)"
      ],
      "execution_count": 188,
      "outputs": [
        {
          "output_type": "execute_result",
          "data": {
            "text/plain": [
              "0.10415147025630489"
            ]
          },
          "metadata": {
            "tags": []
          },
          "execution_count": 188
        }
      ]
    },
    {
      "cell_type": "code",
      "metadata": {
        "id": "61KmudDqH_8S",
        "colab_type": "code",
        "outputId": "f41332a8-504b-45ff-931a-b81894edfa95",
        "colab": {
          "base_uri": "https://localhost:8080/",
          "height": 34
        }
      },
      "source": [
        "mean_squared_error(y1, Station1)"
      ],
      "execution_count": 189,
      "outputs": [
        {
          "output_type": "execute_result",
          "data": {
            "text/plain": [
              "0.0014790416855696125"
            ]
          },
          "metadata": {
            "tags": []
          },
          "execution_count": 189
        }
      ]
    },
    {
      "cell_type": "code",
      "metadata": {
        "id": "0mLzi688I2Gt",
        "colab_type": "code",
        "outputId": "dd7ceeed-153f-4c0c-c024-2b3989fefe5a",
        "colab": {
          "base_uri": "https://localhost:8080/",
          "height": 34
        }
      },
      "source": [
        "r2_score(y1,Station1)"
      ],
      "execution_count": 190,
      "outputs": [
        {
          "output_type": "execute_result",
          "data": {
            "text/plain": [
              "0.10415147025630489"
            ]
          },
          "metadata": {
            "tags": []
          },
          "execution_count": 190
        }
      ]
    },
    {
      "cell_type": "code",
      "metadata": {
        "id": "TOrXpPJsIGpW",
        "colab_type": "code",
        "outputId": "7e6552c1-aa61-4d10-b28d-eec73834173e",
        "colab": {
          "base_uri": "https://localhost:8080/",
          "height": 50
        }
      },
      "source": [
        "from sklearn import linear_model\n",
        "reg = linear_model.Ridge(alpha=.5)\n",
        "reg.fit(X2,y2)"
      ],
      "execution_count": 191,
      "outputs": [
        {
          "output_type": "execute_result",
          "data": {
            "text/plain": [
              "Ridge(alpha=0.5, copy_X=True, fit_intercept=True, max_iter=None,\n",
              "      normalize=False, random_state=None, solver='auto', tol=0.001)"
            ]
          },
          "metadata": {
            "tags": []
          },
          "execution_count": 191
        }
      ]
    },
    {
      "cell_type": "code",
      "metadata": {
        "id": "u7oUUVBgIY-U",
        "colab_type": "code",
        "colab": {}
      },
      "source": [
        "Station2=reg.predict(X2)\n",
        "Station2test=reg.predict(X_test2)"
      ],
      "execution_count": 0,
      "outputs": []
    },
    {
      "cell_type": "code",
      "metadata": {
        "id": "6srjltieIcCZ",
        "colab_type": "code",
        "outputId": "e06b7cdd-aeaf-4968-d57a-e29baaa07305",
        "colab": {
          "base_uri": "https://localhost:8080/",
          "height": 34
        }
      },
      "source": [
        "mean_squared_error(y_test2, Station2test)"
      ],
      "execution_count": 193,
      "outputs": [
        {
          "output_type": "execute_result",
          "data": {
            "text/plain": [
              "0.004786647330658337"
            ]
          },
          "metadata": {
            "tags": []
          },
          "execution_count": 193
        }
      ]
    },
    {
      "cell_type": "code",
      "metadata": {
        "id": "etTZW_1nIfyf",
        "colab_type": "code",
        "outputId": "cca11989-1e50-4ee2-a3ff-6e1785ab3558",
        "colab": {
          "base_uri": "https://localhost:8080/",
          "height": 34
        }
      },
      "source": [
        "mean_squared_error(y2, Station2)"
      ],
      "execution_count": 194,
      "outputs": [
        {
          "output_type": "execute_result",
          "data": {
            "text/plain": [
              "0.004786647330658337"
            ]
          },
          "metadata": {
            "tags": []
          },
          "execution_count": 194
        }
      ]
    },
    {
      "cell_type": "code",
      "metadata": {
        "id": "uoVxsrebIpT-",
        "colab_type": "code",
        "outputId": "d7670332-1b81-4cfe-c8c8-ccb98d2b3f88",
        "colab": {
          "base_uri": "https://localhost:8080/",
          "height": 34
        }
      },
      "source": [
        "r2_score(y2,Station2)"
      ],
      "execution_count": 195,
      "outputs": [
        {
          "output_type": "execute_result",
          "data": {
            "text/plain": [
              "0.0403302439878932"
            ]
          },
          "metadata": {
            "tags": []
          },
          "execution_count": 195
        }
      ]
    },
    {
      "cell_type": "code",
      "metadata": {
        "id": "MfN_X25HI_-U",
        "colab_type": "code",
        "outputId": "8b0664b7-987e-49e0-805c-8da6c0d9616d",
        "colab": {
          "base_uri": "https://localhost:8080/",
          "height": 34
        }
      },
      "source": [
        "r2_score(y_test2,Station2test)"
      ],
      "execution_count": 196,
      "outputs": [
        {
          "output_type": "execute_result",
          "data": {
            "text/plain": [
              "0.0403302439878932"
            ]
          },
          "metadata": {
            "tags": []
          },
          "execution_count": 196
        }
      ]
    },
    {
      "cell_type": "markdown",
      "metadata": {
        "id": "onMORMPoJHnc",
        "colab_type": "text"
      },
      "source": [
        ""
      ]
    },
    {
      "cell_type": "code",
      "metadata": {
        "id": "CrgaGMyfJGWX",
        "colab_type": "code",
        "outputId": "02bf78a1-41b6-45d1-a909-1ea48edf307d",
        "colab": {
          "base_uri": "https://localhost:8080/",
          "height": 50
        }
      },
      "source": [
        "from sklearn import linear_model\n",
        "reg = linear_model.Ridge(alpha=.5)\n",
        "reg.fit(X3,y3)"
      ],
      "execution_count": 197,
      "outputs": [
        {
          "output_type": "execute_result",
          "data": {
            "text/plain": [
              "Ridge(alpha=0.5, copy_X=True, fit_intercept=True, max_iter=None,\n",
              "      normalize=False, random_state=None, solver='auto', tol=0.001)"
            ]
          },
          "metadata": {
            "tags": []
          },
          "execution_count": 197
        }
      ]
    },
    {
      "cell_type": "code",
      "metadata": {
        "id": "9fPoegjHJh71",
        "colab_type": "code",
        "colab": {}
      },
      "source": [
        "Station3=reg.predict(X3)\n",
        "Station3test=reg.predict(X_test3)"
      ],
      "execution_count": 0,
      "outputs": []
    },
    {
      "cell_type": "code",
      "metadata": {
        "id": "1g3RApY4Jnzd",
        "colab_type": "code",
        "outputId": "d6290daf-67fa-4d27-9674-4ed7fb5d8c43",
        "colab": {
          "base_uri": "https://localhost:8080/",
          "height": 34
        }
      },
      "source": [
        "r2_score(y3,Station3)"
      ],
      "execution_count": 199,
      "outputs": [
        {
          "output_type": "execute_result",
          "data": {
            "text/plain": [
              "0.04438555383812692"
            ]
          },
          "metadata": {
            "tags": []
          },
          "execution_count": 199
        }
      ]
    },
    {
      "cell_type": "code",
      "metadata": {
        "id": "SHxiubcEJrCU",
        "colab_type": "code",
        "outputId": "ac94ea66-be1c-4f52-9f06-1369ef3667f6",
        "colab": {
          "base_uri": "https://localhost:8080/",
          "height": 34
        }
      },
      "source": [
        "r2_score(y_test3,Station3test)"
      ],
      "execution_count": 200,
      "outputs": [
        {
          "output_type": "execute_result",
          "data": {
            "text/plain": [
              "0.04438555383812692"
            ]
          },
          "metadata": {
            "tags": []
          },
          "execution_count": 200
        }
      ]
    },
    {
      "cell_type": "markdown",
      "metadata": {
        "id": "b0PXVnPiJw78",
        "colab_type": "text"
      },
      "source": [
        ""
      ]
    },
    {
      "cell_type": "code",
      "metadata": {
        "id": "8VWpgScqJu29",
        "colab_type": "code",
        "outputId": "bce5a6d9-a7bf-48e5-faf1-4f979926c025",
        "colab": {
          "base_uri": "https://localhost:8080/",
          "height": 50
        }
      },
      "source": [
        "from sklearn import linear_model\n",
        "reg = linear_model.Ridge(alpha=.5)\n",
        "reg.fit(X4,y4)"
      ],
      "execution_count": 201,
      "outputs": [
        {
          "output_type": "execute_result",
          "data": {
            "text/plain": [
              "Ridge(alpha=0.5, copy_X=True, fit_intercept=True, max_iter=None,\n",
              "      normalize=False, random_state=None, solver='auto', tol=0.001)"
            ]
          },
          "metadata": {
            "tags": []
          },
          "execution_count": 201
        }
      ]
    },
    {
      "cell_type": "code",
      "metadata": {
        "id": "gl2k1F-cJzxk",
        "colab_type": "code",
        "colab": {}
      },
      "source": [
        "Station4=reg.predict(X4)\n",
        "Station4test=reg.predict(X_test4)"
      ],
      "execution_count": 0,
      "outputs": []
    },
    {
      "cell_type": "code",
      "metadata": {
        "id": "xQbVZwtjJ3EQ",
        "colab_type": "code",
        "outputId": "f2beb204-a594-4808-c3ee-520a4aa4fcac",
        "colab": {
          "base_uri": "https://localhost:8080/",
          "height": 34
        }
      },
      "source": [
        "r2_score(y4,Station4)"
      ],
      "execution_count": 203,
      "outputs": [
        {
          "output_type": "execute_result",
          "data": {
            "text/plain": [
              "0.05920316046476182"
            ]
          },
          "metadata": {
            "tags": []
          },
          "execution_count": 203
        }
      ]
    },
    {
      "cell_type": "code",
      "metadata": {
        "id": "lTL8MpRqJ6El",
        "colab_type": "code",
        "outputId": "371f3602-59bc-462e-db33-59ede4399282",
        "colab": {
          "base_uri": "https://localhost:8080/",
          "height": 34
        }
      },
      "source": [
        "r2_score(y_test4,Station4test)"
      ],
      "execution_count": 204,
      "outputs": [
        {
          "output_type": "execute_result",
          "data": {
            "text/plain": [
              "0.05920316046476182"
            ]
          },
          "metadata": {
            "tags": []
          },
          "execution_count": 204
        }
      ]
    },
    {
      "cell_type": "markdown",
      "metadata": {
        "id": "vy7__MV8J_LD",
        "colab_type": "text"
      },
      "source": [
        ""
      ]
    },
    {
      "cell_type": "code",
      "metadata": {
        "id": "RrowjLFxJ9Wj",
        "colab_type": "code",
        "outputId": "b411ff65-0474-4cbb-8617-ece2b14bbd48",
        "colab": {
          "base_uri": "https://localhost:8080/",
          "height": 50
        }
      },
      "source": [
        "from sklearn import linear_model\n",
        "reg = linear_model.Ridge(alpha=.5)\n",
        "reg.fit(X5,y5)"
      ],
      "execution_count": 205,
      "outputs": [
        {
          "output_type": "execute_result",
          "data": {
            "text/plain": [
              "Ridge(alpha=0.5, copy_X=True, fit_intercept=True, max_iter=None,\n",
              "      normalize=False, random_state=None, solver='auto', tol=0.001)"
            ]
          },
          "metadata": {
            "tags": []
          },
          "execution_count": 205
        }
      ]
    },
    {
      "cell_type": "code",
      "metadata": {
        "id": "ZL-KUlaSKBd-",
        "colab_type": "code",
        "colab": {}
      },
      "source": [
        "Station5=reg.predict(X5)\n",
        "Station5test=reg.predict(X_test5)"
      ],
      "execution_count": 0,
      "outputs": []
    },
    {
      "cell_type": "code",
      "metadata": {
        "id": "Ol96KuvdKEKL",
        "colab_type": "code",
        "outputId": "9eeec917-c7cf-4a9f-97b6-11873902dfbc",
        "colab": {
          "base_uri": "https://localhost:8080/",
          "height": 34
        }
      },
      "source": [
        "mean_squared_error(y5,Station5)"
      ],
      "execution_count": 207,
      "outputs": [
        {
          "output_type": "execute_result",
          "data": {
            "text/plain": [
              "0.0018024027817005327"
            ]
          },
          "metadata": {
            "tags": []
          },
          "execution_count": 207
        }
      ]
    },
    {
      "cell_type": "code",
      "metadata": {
        "id": "iJJTc9s5KLLp",
        "colab_type": "code",
        "outputId": "2d84fc1f-a528-4b5f-fe28-c9bc343178c4",
        "colab": {
          "base_uri": "https://localhost:8080/",
          "height": 34
        }
      },
      "source": [
        "mean_squared_error(y_test5,Station5test)"
      ],
      "execution_count": 208,
      "outputs": [
        {
          "output_type": "execute_result",
          "data": {
            "text/plain": [
              "0.0018024027817005327"
            ]
          },
          "metadata": {
            "tags": []
          },
          "execution_count": 208
        }
      ]
    },
    {
      "cell_type": "code",
      "metadata": {
        "id": "10PxmkIRKPpR",
        "colab_type": "code",
        "outputId": "855dbf23-c7f4-4c73-e222-86344e982f82",
        "colab": {
          "base_uri": "https://localhost:8080/",
          "height": 34
        }
      },
      "source": [
        "r2_score(y5,Station5)"
      ],
      "execution_count": 209,
      "outputs": [
        {
          "output_type": "execute_result",
          "data": {
            "text/plain": [
              "0.02898785804118076"
            ]
          },
          "metadata": {
            "tags": []
          },
          "execution_count": 209
        }
      ]
    },
    {
      "cell_type": "code",
      "metadata": {
        "id": "kyYAI4YGKVBR",
        "colab_type": "code",
        "outputId": "5f22f98d-bb68-4354-9ef6-2e2d9a61b12b",
        "colab": {
          "base_uri": "https://localhost:8080/",
          "height": 34
        }
      },
      "source": [
        "r2_score(y_test5,Station5test)"
      ],
      "execution_count": 210,
      "outputs": [
        {
          "output_type": "execute_result",
          "data": {
            "text/plain": [
              "0.02898785804118076"
            ]
          },
          "metadata": {
            "tags": []
          },
          "execution_count": 210
        }
      ]
    },
    {
      "cell_type": "markdown",
      "metadata": {
        "id": "vhQFmtJDKfFO",
        "colab_type": "text"
      },
      "source": [
        ""
      ]
    },
    {
      "cell_type": "code",
      "metadata": {
        "id": "3ZfdDR2RKY3g",
        "colab_type": "code",
        "outputId": "e80eb6a1-2d6e-4e0f-9f9c-47eb83bbada6",
        "colab": {
          "base_uri": "https://localhost:8080/",
          "height": 50
        }
      },
      "source": [
        "from sklearn import linear_model\n",
        "reg = linear_model.Ridge(alpha=.5)\n",
        "reg.fit(X6,y6)"
      ],
      "execution_count": 211,
      "outputs": [
        {
          "output_type": "execute_result",
          "data": {
            "text/plain": [
              "Ridge(alpha=0.5, copy_X=True, fit_intercept=True, max_iter=None,\n",
              "      normalize=False, random_state=None, solver='auto', tol=0.001)"
            ]
          },
          "metadata": {
            "tags": []
          },
          "execution_count": 211
        }
      ]
    },
    {
      "cell_type": "code",
      "metadata": {
        "id": "X50GiIsoKg3z",
        "colab_type": "code",
        "colab": {}
      },
      "source": [
        "Station6=reg.predict(X6)\n",
        "Station6test=reg.predict(X_test6)"
      ],
      "execution_count": 0,
      "outputs": []
    },
    {
      "cell_type": "code",
      "metadata": {
        "id": "0oJ51x8ZKljD",
        "colab_type": "code",
        "outputId": "75d4c80f-d56d-48ed-fb62-77531438a50f",
        "colab": {
          "base_uri": "https://localhost:8080/",
          "height": 34
        }
      },
      "source": [
        "mean_squared_error(y_test6,Station6test)"
      ],
      "execution_count": 213,
      "outputs": [
        {
          "output_type": "execute_result",
          "data": {
            "text/plain": [
              "0.0031939633080628254"
            ]
          },
          "metadata": {
            "tags": []
          },
          "execution_count": 213
        }
      ]
    },
    {
      "cell_type": "code",
      "metadata": {
        "id": "3urI3tUJKpEU",
        "colab_type": "code",
        "outputId": "5004eb38-272f-4760-c411-275c32f75b5f",
        "colab": {
          "base_uri": "https://localhost:8080/",
          "height": 34
        }
      },
      "source": [
        "mean_squared_error(y6,Station6)"
      ],
      "execution_count": 214,
      "outputs": [
        {
          "output_type": "execute_result",
          "data": {
            "text/plain": [
              "0.0031939633080628254"
            ]
          },
          "metadata": {
            "tags": []
          },
          "execution_count": 214
        }
      ]
    },
    {
      "cell_type": "code",
      "metadata": {
        "id": "r299o65EKt1M",
        "colab_type": "code",
        "outputId": "63cfb2ab-0b6e-4c6d-d8eb-a144bab784c2",
        "colab": {
          "base_uri": "https://localhost:8080/",
          "height": 34
        }
      },
      "source": [
        "r2_score(y_test6,Station6test)"
      ],
      "execution_count": 215,
      "outputs": [
        {
          "output_type": "execute_result",
          "data": {
            "text/plain": [
              "0.05399147552458872"
            ]
          },
          "metadata": {
            "tags": []
          },
          "execution_count": 215
        }
      ]
    },
    {
      "cell_type": "code",
      "metadata": {
        "id": "yLuUwwwxKxo6",
        "colab_type": "code",
        "outputId": "1f670557-8288-4b52-fda1-07cc90fa0438",
        "colab": {
          "base_uri": "https://localhost:8080/",
          "height": 34
        }
      },
      "source": [
        "r2_score(y6,Station6)"
      ],
      "execution_count": 216,
      "outputs": [
        {
          "output_type": "execute_result",
          "data": {
            "text/plain": [
              "0.05399147552458872"
            ]
          },
          "metadata": {
            "tags": []
          },
          "execution_count": 216
        }
      ]
    },
    {
      "cell_type": "markdown",
      "metadata": {
        "id": "9hoxLwahK2Bw",
        "colab_type": "text"
      },
      "source": [
        ""
      ]
    },
    {
      "cell_type": "code",
      "metadata": {
        "id": "FARhlbtwK1P-",
        "colab_type": "code",
        "outputId": "1b2aef32-9e6f-49b9-fa8f-3c2ff432f5b2",
        "colab": {
          "base_uri": "https://localhost:8080/",
          "height": 50
        }
      },
      "source": [
        "from sklearn import linear_model\n",
        "reg = linear_model.Ridge(alpha=.5)\n",
        "reg.fit(X7,y7)"
      ],
      "execution_count": 217,
      "outputs": [
        {
          "output_type": "execute_result",
          "data": {
            "text/plain": [
              "Ridge(alpha=0.5, copy_X=True, fit_intercept=True, max_iter=None,\n",
              "      normalize=False, random_state=None, solver='auto', tol=0.001)"
            ]
          },
          "metadata": {
            "tags": []
          },
          "execution_count": 217
        }
      ]
    },
    {
      "cell_type": "code",
      "metadata": {
        "id": "AU24RhQvK5YG",
        "colab_type": "code",
        "colab": {}
      },
      "source": [
        "Station7=reg.predict(X7)\n",
        "Station7test=reg.predict(X_test7)"
      ],
      "execution_count": 0,
      "outputs": []
    },
    {
      "cell_type": "code",
      "metadata": {
        "id": "mr9N0aIIK9y4",
        "colab_type": "code",
        "outputId": "935334fe-cca7-4043-94a9-b1afd7530ff8",
        "colab": {
          "base_uri": "https://localhost:8080/",
          "height": 34
        }
      },
      "source": [
        "mean_squared_error(y7,Station7)"
      ],
      "execution_count": 219,
      "outputs": [
        {
          "output_type": "execute_result",
          "data": {
            "text/plain": [
              "0.003529716287861894"
            ]
          },
          "metadata": {
            "tags": []
          },
          "execution_count": 219
        }
      ]
    },
    {
      "cell_type": "code",
      "metadata": {
        "id": "8jOLt7v7LELm",
        "colab_type": "code",
        "outputId": "6ce89b5f-60ae-4f0f-c3ab-c9ffcc3a3048",
        "colab": {
          "base_uri": "https://localhost:8080/",
          "height": 34
        }
      },
      "source": [
        "mean_squared_error(y_test7,Station7test)"
      ],
      "execution_count": 220,
      "outputs": [
        {
          "output_type": "execute_result",
          "data": {
            "text/plain": [
              "0.003529716287861894"
            ]
          },
          "metadata": {
            "tags": []
          },
          "execution_count": 220
        }
      ]
    },
    {
      "cell_type": "code",
      "metadata": {
        "id": "jYC0vqMRLJNo",
        "colab_type": "code",
        "outputId": "1909187b-9d81-4e13-ed91-dd25f6e93ad5",
        "colab": {
          "base_uri": "https://localhost:8080/",
          "height": 34
        }
      },
      "source": [
        "r2_score(y7,Station7)"
      ],
      "execution_count": 221,
      "outputs": [
        {
          "output_type": "execute_result",
          "data": {
            "text/plain": [
              "0.07885956668301641"
            ]
          },
          "metadata": {
            "tags": []
          },
          "execution_count": 221
        }
      ]
    },
    {
      "cell_type": "code",
      "metadata": {
        "id": "1K-loA-mLdj9",
        "colab_type": "code",
        "outputId": "bdc97954-fe7d-4ddc-e89a-1e4cc01a63e1",
        "colab": {
          "base_uri": "https://localhost:8080/",
          "height": 34
        }
      },
      "source": [
        "r2_score(y_test7,Station7test)"
      ],
      "execution_count": 222,
      "outputs": [
        {
          "output_type": "execute_result",
          "data": {
            "text/plain": [
              "0.07885956668301641"
            ]
          },
          "metadata": {
            "tags": []
          },
          "execution_count": 222
        }
      ]
    },
    {
      "cell_type": "code",
      "metadata": {
        "id": "iBMfaNgbojD1",
        "colab_type": "code",
        "colab": {}
      },
      "source": [
        "from sklearn.metrics import mean_absolute_error"
      ],
      "execution_count": 0,
      "outputs": []
    },
    {
      "cell_type": "code",
      "metadata": {
        "id": "5vVcN0FGolMH",
        "colab_type": "code",
        "colab": {
          "base_uri": "https://localhost:8080/",
          "height": 34
        },
        "outputId": "c35a6138-9794-49b7-b2ef-8dd94acaff6c"
      },
      "source": [
        "mean_absolute_error(y,Station)"
      ],
      "execution_count": 224,
      "outputs": [
        {
          "output_type": "execute_result",
          "data": {
            "text/plain": [
              "0.013735160732643466"
            ]
          },
          "metadata": {
            "tags": []
          },
          "execution_count": 224
        }
      ]
    },
    {
      "cell_type": "code",
      "metadata": {
        "id": "XzKaFfGyo231",
        "colab_type": "code",
        "colab": {
          "base_uri": "https://localhost:8080/",
          "height": 34
        },
        "outputId": "c94ca82b-7926-4e76-9bcd-eaf357b6cba8"
      },
      "source": [
        "mean_absolute_error(y_test,Stationtest)"
      ],
      "execution_count": 225,
      "outputs": [
        {
          "output_type": "execute_result",
          "data": {
            "text/plain": [
              "0.013735160732643466"
            ]
          },
          "metadata": {
            "tags": []
          },
          "execution_count": 225
        }
      ]
    },
    {
      "cell_type": "code",
      "metadata": {
        "id": "Lzuxqi3JpiZu",
        "colab_type": "code",
        "colab": {
          "base_uri": "https://localhost:8080/",
          "height": 34
        },
        "outputId": "270175fc-7a8f-4d3b-cd11-a3378613987d"
      },
      "source": [
        "mean_absolute_error(y_test1,Station1test)"
      ],
      "execution_count": 226,
      "outputs": [
        {
          "output_type": "execute_result",
          "data": {
            "text/plain": [
              "0.01444189878029534"
            ]
          },
          "metadata": {
            "tags": []
          },
          "execution_count": 226
        }
      ]
    },
    {
      "cell_type": "code",
      "metadata": {
        "id": "PTDjDy4YplJO",
        "colab_type": "code",
        "colab": {
          "base_uri": "https://localhost:8080/",
          "height": 34
        },
        "outputId": "4b0f260c-97a0-4a5a-c02c-10f810e74195"
      },
      "source": [
        "mean_absolute_error(y1,Station1)"
      ],
      "execution_count": 227,
      "outputs": [
        {
          "output_type": "execute_result",
          "data": {
            "text/plain": [
              "0.01444189878029534"
            ]
          },
          "metadata": {
            "tags": []
          },
          "execution_count": 227
        }
      ]
    },
    {
      "cell_type": "code",
      "metadata": {
        "id": "S2W1PBxkpniS",
        "colab_type": "code",
        "colab": {
          "base_uri": "https://localhost:8080/",
          "height": 34
        },
        "outputId": "e62be3ae-703d-4894-b09e-aed4d756f26d"
      },
      "source": [
        "mean_absolute_error(y2,Station2)"
      ],
      "execution_count": 228,
      "outputs": [
        {
          "output_type": "execute_result",
          "data": {
            "text/plain": [
              "0.029427725022678597"
            ]
          },
          "metadata": {
            "tags": []
          },
          "execution_count": 228
        }
      ]
    },
    {
      "cell_type": "code",
      "metadata": {
        "id": "cQRO6EIzppxY",
        "colab_type": "code",
        "colab": {
          "base_uri": "https://localhost:8080/",
          "height": 34
        },
        "outputId": "67fb538a-cdd0-4aa5-e19f-e939b5f95f01"
      },
      "source": [
        "mean_absolute_error(y_test2,Station2test)"
      ],
      "execution_count": 229,
      "outputs": [
        {
          "output_type": "execute_result",
          "data": {
            "text/plain": [
              "0.029427725022678597"
            ]
          },
          "metadata": {
            "tags": []
          },
          "execution_count": 229
        }
      ]
    },
    {
      "cell_type": "code",
      "metadata": {
        "id": "b6iwJ5uhptoo",
        "colab_type": "code",
        "colab": {
          "base_uri": "https://localhost:8080/",
          "height": 34
        },
        "outputId": "f55f8f88-e7cb-4cf4-dc77-dadf55dc5c75"
      },
      "source": [
        "mean_absolute_error(y3,Station3)"
      ],
      "execution_count": 230,
      "outputs": [
        {
          "output_type": "execute_result",
          "data": {
            "text/plain": [
              "0.025104208543407155"
            ]
          },
          "metadata": {
            "tags": []
          },
          "execution_count": 230
        }
      ]
    },
    {
      "cell_type": "code",
      "metadata": {
        "id": "tejwsBV4pzCF",
        "colab_type": "code",
        "colab": {
          "base_uri": "https://localhost:8080/",
          "height": 34
        },
        "outputId": "877c5522-2180-432b-e280-a0d18f0cd571"
      },
      "source": [
        "mean_absolute_error(y_test3,Station3test)"
      ],
      "execution_count": 231,
      "outputs": [
        {
          "output_type": "execute_result",
          "data": {
            "text/plain": [
              "0.025104208543407155"
            ]
          },
          "metadata": {
            "tags": []
          },
          "execution_count": 231
        }
      ]
    },
    {
      "cell_type": "code",
      "metadata": {
        "id": "t7e6GvPJp1k2",
        "colab_type": "code",
        "colab": {
          "base_uri": "https://localhost:8080/",
          "height": 34
        },
        "outputId": "b39a7190-bb28-4058-abb7-abc9793eb803"
      },
      "source": [
        "mean_absolute_error(y4,Station4)"
      ],
      "execution_count": 232,
      "outputs": [
        {
          "output_type": "execute_result",
          "data": {
            "text/plain": [
              "0.02241398887436537"
            ]
          },
          "metadata": {
            "tags": []
          },
          "execution_count": 232
        }
      ]
    },
    {
      "cell_type": "code",
      "metadata": {
        "id": "dv3FvCbqp5pu",
        "colab_type": "code",
        "colab": {
          "base_uri": "https://localhost:8080/",
          "height": 34
        },
        "outputId": "bcbe6d7b-5d03-478c-e9c4-faf148db1d55"
      },
      "source": [
        "mean_absolute_error(y_test4,Station4test)"
      ],
      "execution_count": 233,
      "outputs": [
        {
          "output_type": "execute_result",
          "data": {
            "text/plain": [
              "0.02241398887436537"
            ]
          },
          "metadata": {
            "tags": []
          },
          "execution_count": 233
        }
      ]
    },
    {
      "cell_type": "code",
      "metadata": {
        "id": "rEa3O-zyp9Jz",
        "colab_type": "code",
        "colab": {
          "base_uri": "https://localhost:8080/",
          "height": 34
        },
        "outputId": "9980fb04-1e04-449e-946b-f5eb06e39f32"
      },
      "source": [
        "mean_absolute_error(y5,Station5)"
      ],
      "execution_count": 234,
      "outputs": [
        {
          "output_type": "execute_result",
          "data": {
            "text/plain": [
              "0.017445617818987926"
            ]
          },
          "metadata": {
            "tags": []
          },
          "execution_count": 234
        }
      ]
    },
    {
      "cell_type": "code",
      "metadata": {
        "id": "yT42H_Nsp_P2",
        "colab_type": "code",
        "colab": {
          "base_uri": "https://localhost:8080/",
          "height": 34
        },
        "outputId": "850c8066-169b-4aa0-f082-05c485b3284a"
      },
      "source": [
        "mean_absolute_error(y_test5,Station5test)"
      ],
      "execution_count": 235,
      "outputs": [
        {
          "output_type": "execute_result",
          "data": {
            "text/plain": [
              "0.017445617818987926"
            ]
          },
          "metadata": {
            "tags": []
          },
          "execution_count": 235
        }
      ]
    },
    {
      "cell_type": "code",
      "metadata": {
        "id": "EXEskW3rqDA6",
        "colab_type": "code",
        "colab": {
          "base_uri": "https://localhost:8080/",
          "height": 34
        },
        "outputId": "134fab5b-480c-4a2f-eef4-c7dfc6af24e0"
      },
      "source": [
        "mean_absolute_error(y6,Station6)"
      ],
      "execution_count": 236,
      "outputs": [
        {
          "output_type": "execute_result",
          "data": {
            "text/plain": [
              "0.026362855431310804"
            ]
          },
          "metadata": {
            "tags": []
          },
          "execution_count": 236
        }
      ]
    },
    {
      "cell_type": "code",
      "metadata": {
        "id": "V3u_UccOqFGh",
        "colab_type": "code",
        "colab": {
          "base_uri": "https://localhost:8080/",
          "height": 34
        },
        "outputId": "2d14d863-4481-4a1f-fc36-7ebcd356f153"
      },
      "source": [
        "mean_absolute_error(y_test6,Station6test)"
      ],
      "execution_count": 237,
      "outputs": [
        {
          "output_type": "execute_result",
          "data": {
            "text/plain": [
              "0.026362855431310804"
            ]
          },
          "metadata": {
            "tags": []
          },
          "execution_count": 237
        }
      ]
    },
    {
      "cell_type": "code",
      "metadata": {
        "id": "QIALvvSFqHV0",
        "colab_type": "code",
        "colab": {
          "base_uri": "https://localhost:8080/",
          "height": 34
        },
        "outputId": "79f1968b-d6c7-48aa-a1c1-69a857c38aeb"
      },
      "source": [
        "mean_absolute_error(y_test7,Station7test)"
      ],
      "execution_count": 238,
      "outputs": [
        {
          "output_type": "execute_result",
          "data": {
            "text/plain": [
              "0.025061542819712318"
            ]
          },
          "metadata": {
            "tags": []
          },
          "execution_count": 238
        }
      ]
    },
    {
      "cell_type": "code",
      "metadata": {
        "id": "YDKlRp-QqKtE",
        "colab_type": "code",
        "colab": {}
      },
      "source": [
        ""
      ],
      "execution_count": 0,
      "outputs": []
    }
  ]
}