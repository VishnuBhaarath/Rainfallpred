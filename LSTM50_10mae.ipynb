{
  "nbformat": 4,
  "nbformat_minor": 0,
  "metadata": {
    "colab": {
      "name": "LSTM50/10mae.ipynb",
      "provenance": [],
      "collapsed_sections": [],
      "authorship_tag": "ABX9TyP0sIXOqkwn4ETxo3Mpf4Ok",
      "include_colab_link": true
    },
    "kernelspec": {
      "name": "python3",
      "display_name": "Python 3"
    }
  },
  "cells": [
    {
      "cell_type": "markdown",
      "metadata": {
        "id": "view-in-github",
        "colab_type": "text"
      },
      "source": [
        "<a href=\"https://colab.research.google.com/github/VishnuBhaarath/Rainfallpred/blob/master/LSTM50_10mae.ipynb\" target=\"_parent\"><img src=\"https://colab.research.google.com/assets/colab-badge.svg\" alt=\"Open In Colab\"/></a>"
      ]
    },
    {
      "cell_type": "code",
      "metadata": {
        "id": "5YGfJ9tYkM94",
        "colab_type": "code",
        "outputId": "5a123b60-44af-41b8-f7a5-fdf7185afd96",
        "colab": {
          "base_uri": "https://localhost:8080/",
          "height": 62
        }
      },
      "source": [
        "from numpy.random import seed\n",
        "seed(1)\n",
        "from tensorflow import set_random_seed\n",
        "set_random_seed(2)\n",
        "from sklearn.metrics import r2_score"
      ],
      "execution_count": 0,
      "outputs": [
        {
          "output_type": "display_data",
          "data": {
            "text/html": [
              "<p style=\"color: red;\">\n",
              "The default version of TensorFlow in Colab will soon switch to TensorFlow 2.x.<br>\n",
              "We recommend you <a href=\"https://www.tensorflow.org/guide/migrate\" target=\"_blank\">upgrade</a> now \n",
              "or ensure your notebook will continue to use TensorFlow 1.x via the <code>%tensorflow_version 1.x</code> magic:\n",
              "<a href=\"https://colab.research.google.com/notebooks/tensorflow_version.ipynb\" target=\"_blank\">more info</a>.</p>\n"
            ],
            "text/plain": [
              "<IPython.core.display.HTML object>"
            ]
          },
          "metadata": {
            "tags": []
          }
        }
      ]
    },
    {
      "cell_type": "code",
      "metadata": {
        "id": "cou_fBaEkP6G",
        "colab_type": "code",
        "colab": {}
      },
      "source": [
        "import pandas as pd\n",
        "from pandas import DataFrame\n",
        "import numpy as np\n",
        "from numpy import hstack\n",
        "import tensorflow as tf\n",
        "from tensorflow import keras\n",
        "from sklearn import preprocessing"
      ],
      "execution_count": 0,
      "outputs": []
    },
    {
      "cell_type": "code",
      "metadata": {
        "id": "ACH71at4kV9t",
        "colab_type": "code",
        "colab": {}
      },
      "source": [
        "df=pd.read_excel('trend_anna_imd_21.xlsx')"
      ],
      "execution_count": 0,
      "outputs": []
    },
    {
      "cell_type": "code",
      "metadata": {
        "id": "2hp4FJfQkk9o",
        "colab_type": "code",
        "outputId": "5e76b0c3-2ab5-4e05-a0aa-60a7cdfba6da",
        "colab": {
          "base_uri": "https://localhost:8080/",
          "height": 195
        }
      },
      "source": [
        "df.head()"
      ],
      "execution_count": 0,
      "outputs": [
        {
          "output_type": "execute_result",
          "data": {
            "text/html": [
              "<div>\n",
              "<style scoped>\n",
              "    .dataframe tbody tr th:only-of-type {\n",
              "        vertical-align: middle;\n",
              "    }\n",
              "\n",
              "    .dataframe tbody tr th {\n",
              "        vertical-align: top;\n",
              "    }\n",
              "\n",
              "    .dataframe thead th {\n",
              "        text-align: right;\n",
              "    }\n",
              "</style>\n",
              "<table border=\"1\" class=\"dataframe\">\n",
              "  <thead>\n",
              "    <tr style=\"text-align: right;\">\n",
              "      <th></th>\n",
              "      <th>Unnamed: 0</th>\n",
              "      <th>Unnamed: 1</th>\n",
              "    </tr>\n",
              "  </thead>\n",
              "  <tbody>\n",
              "    <tr>\n",
              "      <th>0</th>\n",
              "      <td>1. Cuddalore</td>\n",
              "      <td>NaN</td>\n",
              "    </tr>\n",
              "    <tr>\n",
              "      <th>1</th>\n",
              "      <td>1965-01-01 00:00:00</td>\n",
              "      <td>10.6</td>\n",
              "    </tr>\n",
              "    <tr>\n",
              "      <th>2</th>\n",
              "      <td>1965-01-02 00:00:00</td>\n",
              "      <td>0.0</td>\n",
              "    </tr>\n",
              "    <tr>\n",
              "      <th>3</th>\n",
              "      <td>1965-01-03 00:00:00</td>\n",
              "      <td>13.0</td>\n",
              "    </tr>\n",
              "    <tr>\n",
              "      <th>4</th>\n",
              "      <td>1965-01-04 00:00:00</td>\n",
              "      <td>0.0</td>\n",
              "    </tr>\n",
              "  </tbody>\n",
              "</table>\n",
              "</div>"
            ],
            "text/plain": [
              "            Unnamed: 0  Unnamed: 1\n",
              "0         1. Cuddalore         NaN\n",
              "1  1965-01-01 00:00:00        10.6\n",
              "2  1965-01-02 00:00:00         0.0\n",
              "3  1965-01-03 00:00:00        13.0\n",
              "4  1965-01-04 00:00:00         0.0"
            ]
          },
          "metadata": {
            "tags": []
          },
          "execution_count": 4
        }
      ]
    },
    {
      "cell_type": "code",
      "metadata": {
        "id": "RB9D0KOIkl-g",
        "colab_type": "code",
        "colab": {}
      },
      "source": [
        "Cuddalore=df[3655:19360]\n",
        "Panruti=df[23016:38721]\n",
        "Dharmapuri=df[42408:58082]\n",
        "Harur=df[61738:77443]\n",
        "Palacode=df[81158:96804]\n",
        "Pennagaram=df[100460:116165]\n",
        "Chengam=df[119821:135526]\n",
        "Sathanur=df[138817:154522]\n",
        "Tiruvanamalai=df[158178:173883]\n",
        "Sankarapuram=df[177539:193244]\n",
        "Tirukoilur=df[196899:212604]\n",
        "ulundurpet=df[216260:231965]\n",
        "Villupuram=df[235621:251326]\n",
        "Denkanikottai=df[274343:290048]\n",
        "Hosur=df[293703:309408]\n",
        "Krishnagiri=df[313063:328768]\n",
        "Marandahalli=df[332059:347764]\n",
        "Rayakottai=df[353250:368955]\n",
        "Uthangarai=df[372611:388316]\n"
      ],
      "execution_count": 0,
      "outputs": []
    },
    {
      "cell_type": "code",
      "metadata": {
        "id": "8lT9ZtR0mBO1",
        "colab_type": "code",
        "colab": {}
      },
      "source": [
        "Cuddalore.columns = ['Date', 'Rainfall']\n",
        "Panruti.columns= ['Date', 'Rainfall']\n",
        "Dharmapuri.columns= ['Date', 'Rainfall']\n",
        "Harur.columns= ['Date', 'Rainfall']\n",
        "Palacode.columns= ['Date', 'Rainfall']\n",
        "Pennagaram.columns= ['Date', 'Rainfall']\n",
        "Chengam.columns= ['Date', 'Rainfall']\n",
        "Sathanur.columns= ['Date', 'Rainfall']\n",
        "Tiruvanamalai.columns= ['Date', 'Rainfall']\n",
        "Sankarapuram.columns= ['Date', 'Rainfall']\n",
        "Tirukoilur.columns= ['Date', 'Rainfall']\n",
        "ulundurpet.columns= ['Date', 'Rainfall']\n",
        "Villupuram.columns= ['Date', 'Rainfall']\n",
        "Denkanikottai.columns= ['Date', 'Rainfall']\n",
        "Hosur.columns= ['Date', 'Rainfall']\n",
        "Krishnagiri.columns= ['Date', 'Rainfall']\n",
        "Marandahalli.columns= ['Date', 'Rainfall']\n",
        "Rayakottai.columns= ['Date', 'Rainfall']\n",
        "Uthangarai.columns= ['Date', 'Rainfall']"
      ],
      "execution_count": 0,
      "outputs": []
    },
    {
      "cell_type": "code",
      "metadata": {
        "id": "ot2FqhbOm6dJ",
        "colab_type": "code",
        "colab": {}
      },
      "source": [
        "train=Cuddalore[0:12000]\n",
        "test=Cuddalore[12000:15704]\n",
        "train1=Panruti[0:12000]\n",
        "test1=Panruti[12000:15705]\n",
        "train2=Dharmapuri[0:12000]\n",
        "test2=Dharmapuri[12000:15674]\n",
        "train3=Harur[0:12000]\n",
        "test3=Harur[12000:15704]\n",
        "train4=Palacode[0:12000]\n",
        "test4=Palacode[12000:15646]\n",
        "train5=Pennagaram[0:12000]\n",
        "test5=Pennagaram[12000:15705]\n",
        "train6=Chengam[0:12000]\n",
        "test6=Chengam[12000:15705]\n",
        "train7=Sathanur[0:12000]\n",
        "test7=Sathanur[12000:15705]\n",
        "train8=Tiruvanamalai[0:12000]\n",
        "test8=Tiruvanamalai[12000:15165]\n",
        "train9=Sankarapuram[0:12000]\n",
        "test9=Sankarapuram[12000:15705]\n",
        "train10=Tirukoilur[0:12000]\n",
        "test10=Tirukoilur[12000:15705]\n",
        "train11=ulundurpet[0:12000]\n",
        "test11=ulundurpet[12000:15345]\n",
        "train12=Villupuram[0:12000]\n",
        "test12=Villupuram[12000:15705]\n",
        "train13=Denkanikottai[0:12000]\n",
        "test13=Denkanikottai[12000:15705]\n",
        "train14=Hosur[0:12000]\n",
        "test14=Hosur[12000:15678]\n",
        "train15=Krishnagiri[0:12000]\n",
        "test15=Krishnagiri[12000:15705]\n",
        "train16=Marandahalli[0:12000]\n",
        "test16=Marandahalli[12000:15705]\n",
        "train17=Rayakottai[0:12000]\n",
        "test17=Rayakottai[12000:15705]\n",
        "train18=Uthangarai[0:12000]\n",
        "test18=Uthangarai[12000:15705]"
      ],
      "execution_count": 0,
      "outputs": []
    },
    {
      "cell_type": "code",
      "metadata": {
        "id": "eWdgMaVPnV7A",
        "colab_type": "code",
        "colab": {}
      },
      "source": [
        "X_train=train['Rainfall']\n",
        "X_test=test['Rainfall']\n",
        "X_train1=train1['Rainfall']\n",
        "X_test1=test1['Rainfall']\n",
        "X_train2=train2['Rainfall']\n",
        "X_test2=test2['Rainfall']\n",
        "X_train3=train3['Rainfall']\n",
        "X_test3=test3['Rainfall']\n",
        "X_train4=train4['Rainfall']\n",
        "X_test4=test4['Rainfall']\n",
        "X_train5=train5['Rainfall']\n",
        "X_test5=test5['Rainfall']\n",
        "X_train6=train6['Rainfall']\n",
        "X_test6=test6['Rainfall']\n",
        "X_train7=train7['Rainfall']\n",
        "X_test7=test7['Rainfall']\n",
        "X_train8=train8['Rainfall']\n",
        "X_test8=test8['Rainfall']\n",
        "X_train9=train9['Rainfall']\n",
        "X_test9=test9['Rainfall']\n",
        "X_train10=train10['Rainfall']\n",
        "X_test10=test10['Rainfall']\n",
        "X_train11=train11['Rainfall']\n",
        "X_test11=test11['Rainfall']\n",
        "X_train12=train12['Rainfall']\n",
        "X_test12=test12['Rainfall']\n",
        "X_train13=train13['Rainfall']\n",
        "X_test13=test13['Rainfall']\n",
        "X_train14=train14['Rainfall']\n",
        "X_test14=test14['Rainfall']\n",
        "X_train15=train15['Rainfall']\n",
        "X_test15=test15['Rainfall']\n",
        "X_train16=train16['Rainfall']\n",
        "X_test16=test16['Rainfall']\n",
        "X_train17=train17['Rainfall']\n",
        "X_test17=test17['Rainfall']\n",
        "X_train18=train18['Rainfall']\n",
        "X_test18=test18['Rainfall']\n"
      ],
      "execution_count": 0,
      "outputs": []
    },
    {
      "cell_type": "code",
      "metadata": {
        "id": "QdTZBwX0mnEs",
        "colab_type": "code",
        "colab": {}
      },
      "source": [
        "min_max_scaler = preprocessing.MinMaxScaler()\n",
        "\n",
        "x_scaled = min_max_scaler.fit_transform(X_train.values.reshape(-1,1))\n",
        "X_train = pd.DataFrame(x_scaled)\n",
        "\n",
        "x_scaled1 = min_max_scaler.fit_transform(X_train1.values.reshape(-1,1))\n",
        "X_train1 = pd.DataFrame(x_scaled1)\n",
        "\n",
        "x_scaled2 = min_max_scaler.fit_transform(X_train2.values.reshape(-1,1))\n",
        "X_train2 = pd.DataFrame(x_scaled2)\n",
        "\n",
        "x_scaled3 = min_max_scaler.fit_transform(X_train3.values.reshape(-1,1))\n",
        "X_train3 = pd.DataFrame(x_scaled3)\n",
        "\n",
        "x_scaled4 = min_max_scaler.fit_transform(X_train4.values.reshape(-1,1))\n",
        "X_train4 = pd.DataFrame(x_scaled4)\n",
        "\n",
        "x_scaled5 = min_max_scaler.fit_transform(X_train5.values.reshape(-1,1))\n",
        "X_train5 = pd.DataFrame(x_scaled5)\n",
        "\n",
        "x_scaled6 = min_max_scaler.fit_transform(X_train6.values.reshape(-1,1))\n",
        "X_train6 = pd.DataFrame(x_scaled6)\n",
        "\n",
        "x_scaled7 = min_max_scaler.fit_transform(X_train7.values.reshape(-1,1))\n",
        "X_train7 = pd.DataFrame(x_scaled7)\n",
        "\n",
        "x_scaled8 = min_max_scaler.fit_transform(X_train8.values.reshape(-1,1))\n",
        "X_train8 = pd.DataFrame(x_scaled8)\n",
        "\n",
        "x_scaled9 = min_max_scaler.fit_transform(X_train9.values.reshape(-1,1))\n",
        "X_train9 = pd.DataFrame(x_scaled9)\n",
        "\n",
        "x_scaled10 = min_max_scaler.fit_transform(X_train10.values.reshape(-1,1))\n",
        "X_train10 = pd.DataFrame(x_scaled10)\n",
        "\n",
        "x_scaled11 = min_max_scaler.fit_transform(X_train11.values.reshape(-1,1))\n",
        "X_train11 = pd.DataFrame(x_scaled11)\n",
        "\n",
        "x_scaled1112 = min_max_scaler.fit_transform(X_train12.values.reshape(-1,1))\n",
        "X_train12 = pd.DataFrame(x_scaled1112)\n",
        "\n",
        "x_scaled13 = min_max_scaler.fit_transform(X_train13.values.reshape(-1,1))\n",
        "X_train13 = pd.DataFrame(x_scaled13)\n",
        "\n",
        "x_scaled14 = min_max_scaler.fit_transform(X_train14.values.reshape(-1,1))\n",
        "X_train14 = pd.DataFrame(x_scaled14)\n",
        "\n",
        "x_scaled15 = min_max_scaler.fit_transform(X_train15.values.reshape(-1,1))\n",
        "X_train15 = pd.DataFrame(x_scaled15)\n",
        "\n",
        "x_scaled16 = min_max_scaler.fit_transform(X_train16.values.reshape(-1,1))\n",
        "X_train16 = pd.DataFrame(x_scaled16)\n",
        "\n",
        "x_scaled17 = min_max_scaler.fit_transform(X_train17.values.reshape(-1,1))\n",
        "X_train17 = pd.DataFrame(x_scaled17)\n",
        "\n",
        "x_scaled18 = min_max_scaler.fit_transform(X_train18.values.reshape(-1,1))\n",
        "X_train18 = pd.DataFrame(x_scaled18)\n",
        "\n"
      ],
      "execution_count": 0,
      "outputs": []
    },
    {
      "cell_type": "code",
      "metadata": {
        "id": "CxbM6N2-oCPd",
        "colab_type": "code",
        "colab": {}
      },
      "source": [
        "x_scaled1 = min_max_scaler.fit_transform(X_test.values.reshape(-1,1))\n",
        "X_test = pd.DataFrame(x_scaled1)\n",
        "\n",
        "x_scaled11 = min_max_scaler.fit_transform(X_test1.values.reshape(-1,1))\n",
        "X_test1 = pd.DataFrame(x_scaled11)\n",
        "\n",
        "x_scaled12 = min_max_scaler.fit_transform(X_test2.values.reshape(-1,1))\n",
        "X_test2 = pd.DataFrame(x_scaled12)\n",
        "\n",
        "x_scaled13 = min_max_scaler.fit_transform(X_test3.values.reshape(-1,1))\n",
        "X_test3 = pd.DataFrame(x_scaled13)\n",
        "\n",
        "x_scaled14 = min_max_scaler.fit_transform(X_test4.values.reshape(-1,1))\n",
        "X_test4 = pd.DataFrame(x_scaled14)\n",
        "\n",
        "x_scaled15 = min_max_scaler.fit_transform(X_test5.values.reshape(-1,1))\n",
        "X_test5 = pd.DataFrame(x_scaled15)\n",
        "\n",
        "x_scaled16 = min_max_scaler.fit_transform(X_test6.values.reshape(-1,1))\n",
        "X_test6 = pd.DataFrame(x_scaled16)\n",
        "\n",
        "x_scaled17 = min_max_scaler.fit_transform(X_test7.values.reshape(-1,1))\n",
        "X_test7 = pd.DataFrame(x_scaled17)\n",
        "\n",
        "x_scaled18 = min_max_scaler.fit_transform(X_test8.values.reshape(-1,1))\n",
        "X_test8 = pd.DataFrame(x_scaled18)\n",
        "\n",
        "x_scaled19 = min_max_scaler.fit_transform(X_test9.values.reshape(-1,1))\n",
        "X_test9 = pd.DataFrame(x_scaled19)\n",
        "\n",
        "x_scaled110 = min_max_scaler.fit_transform(X_test10.values.reshape(-1,1))\n",
        "X_test10 = pd.DataFrame(x_scaled110)\n",
        "\n",
        "x_scaled111 = min_max_scaler.fit_transform(X_test11.values.reshape(-1,1))\n",
        "X_test11 = pd.DataFrame(x_scaled111)\n",
        "\n",
        "x_scaled112 = min_max_scaler.fit_transform(X_test12.values.reshape(-1,1))\n",
        "X_test12 = pd.DataFrame(x_scaled112)\n",
        "\n",
        "x_scaled113 = min_max_scaler.fit_transform(X_test13.values.reshape(-1,1))\n",
        "X_test13 = pd.DataFrame(x_scaled113)\n",
        "\n",
        "x_scaled114 = min_max_scaler.fit_transform(X_test14.values.reshape(-1,1))\n",
        "X_test14 = pd.DataFrame(x_scaled114)\n",
        "\n",
        "x_scaled115= min_max_scaler.fit_transform(X_test15.values.reshape(-1,1))\n",
        "X_test15 = pd.DataFrame(x_scaled115)\n",
        "\n",
        "x_scaled116 = min_max_scaler.fit_transform(X_test16.values.reshape(-1,1))\n",
        "X_test16 = pd.DataFrame(x_scaled116)\n",
        "\n",
        "x_scaled117 = min_max_scaler.fit_transform(X_test17.values.reshape(-1,1))\n",
        "X_test17 = pd.DataFrame(x_scaled117)\n",
        "\n",
        "x_scaled118 = min_max_scaler.fit_transform(X_test18.values.reshape(-1,1))\n",
        "X_test18 = pd.DataFrame(x_scaled118)\n"
      ],
      "execution_count": 0,
      "outputs": []
    },
    {
      "cell_type": "code",
      "metadata": {
        "id": "VZNCwdZhrTQD",
        "colab_type": "code",
        "colab": {}
      },
      "source": [
        "in_seq = np.array([X_train[0]])\n",
        "in_seqtest1 = np.array([X_test[0]])\n",
        "\n",
        "in_seq1 = np.array([X_train1[0]])\n",
        "in_seqt11 = np.array([X_test1[0]])\n",
        "\n",
        "in_seq12 = np.array([X_train2[0]])\n",
        "in_seqt112 = np.array([X_test2[0]])\n",
        "\n",
        "in_seq13 = np.array([X_train3[0]])\n",
        "in_seqt113 = np.array([X_test3[0]])\n",
        "\n",
        "in_seq14 = np.array([X_train4[0]])\n",
        "in_seqt114 = np.array([X_test4[0]])\n",
        "\n",
        "in_seq15 = np.array([X_train5[0]])\n",
        "in_seqt115 = np.array([X_test5[0]])\n",
        "\n",
        "in_seq16 = np.array([X_train6[0]])\n",
        "in_seqt116 = np.array([X_test6[0]])\n",
        "\n",
        "in_seq17 = np.array([X_train7[0]])\n",
        "in_seqt117 = np.array([X_test7[0]])\n",
        "\n",
        "in_seq18 = np.array([X_train8[0]])\n",
        "in_seqt118 = np.array([X_test8[0]])\n",
        "\n",
        "in_seq19 = np.array([X_train9[0]])\n",
        "in_seqt119 = np.array([X_test9[0]])\n",
        "\n",
        "in_seq110 = np.array([X_train10[0]])\n",
        "in_seqt1110 = np.array([X_test10[0]])\n",
        "\n",
        "in_seq111 = np.array([X_train11[0]])\n",
        "in_seqt1111 = np.array([X_test11[0]])\n",
        "\n",
        "in_seq112 = np.array([X_train12[0]])\n",
        "in_seqt1112 = np.array([X_test12[0]])\n",
        "\n",
        "in_seq113 = np.array([X_train13[0]])\n",
        "in_seqt1113 = np.array([X_test13[0]])\n",
        "\n",
        "in_seq114 = np.array([X_train14[0]])\n",
        "in_seqt1114 = np.array([X_test14[0]])\n",
        "\n",
        "in_seq115 = np.array([X_train15[0]])\n",
        "in_seqt1115 = np.array([X_test15[0]])\n",
        "\n",
        "in_seq116 = np.array([X_train16[0]])\n",
        "in_seqt1116 = np.array([X_test16[0]])\n",
        "\n",
        "in_seq117 = np.array([X_train17[0]])\n",
        "in_seqt1117 = np.array([X_test17[0]])\n",
        "\n",
        "in_seq118 = np.array([X_train18[0]])\n",
        "in_seqt1118 = np.array([X_test18[0]])\n"
      ],
      "execution_count": 0,
      "outputs": []
    },
    {
      "cell_type": "code",
      "metadata": {
        "id": "2vtw9-GtrbhY",
        "colab_type": "code",
        "colab": {}
      },
      "source": [
        "in_seq = in_seq.reshape((12000, 1))\n",
        "in_seqtest1 = in_seqtest1.reshape((3704, 1))\n",
        "\n",
        "in_seq1 = in_seq1.reshape((12000, 1))\n",
        "in_seqt11 = in_seqt11.reshape((3705, 1))\n",
        "\n",
        "in_seq12 = in_seq12.reshape((12000, 1))\n",
        "in_seqt112 = in_seqt112.reshape((3674, 1))\n",
        "\n",
        "in_seq13 = in_seq13.reshape((12000, 1))\n",
        "in_seqt113 = in_seqt113.reshape((3704, 1))\n",
        "\n",
        "in_seq14 = in_seq14.reshape((12000, 1))\n",
        "in_seqt114 = in_seqt114.reshape((3646, 1))\n",
        "\n",
        "in_seq15 = in_seq15.reshape((12000, 1))\n",
        "in_seqt115 = in_seqt115.reshape((3705, 1))\n",
        "\n",
        "in_seq16 = in_seq16.reshape((12000, 1))\n",
        "in_seqt116 = in_seqt116.reshape((3705, 1))\n",
        "\n",
        "in_seq17 = in_seq17.reshape((12000, 1))\n",
        "in_seqt117 = in_seqt117.reshape((3705, 1))\n",
        "\n",
        "in_seq18 = in_seq18.reshape((12000, 1))\n",
        "in_seqt118 = in_seqt118.reshape((3165, 1))\n",
        "\n",
        "in_seq19 = in_seq19.reshape((12000, 1))\n",
        "in_seqt119 = in_seqt119.reshape((3705, 1))\n",
        "\n",
        "in_seq110 = in_seq110.reshape((12000, 1))\n",
        "in_seqt1110 = in_seqt1110.reshape((3705, 1))\n",
        "\n",
        "in_seq111 = in_seq111.reshape((12000, 1))\n",
        "in_seqt1111 = in_seqt1111.reshape((3345, 1))\n",
        "\n",
        "in_seq112 = in_seq112.reshape((12000, 1))\n",
        "in_seqt1112 = in_seqt1112.reshape((3705, 1))\n",
        "\n",
        "in_seq113 = in_seq113.reshape((12000, 1))\n",
        "in_seqt1113 = in_seqt1113.reshape((3705, 1))\n",
        "\n",
        "in_seq114 = in_seq114.reshape((12000, 1))\n",
        "in_seqt1114 = in_seqt1114.reshape((3678, 1))\n",
        "\n",
        "in_seq115 = in_seq115.reshape((12000, 1))\n",
        "in_seqt1115 = in_seqt1115.reshape((3705, 1))\n",
        "\n",
        "in_seq116 = in_seq116.reshape((12000, 1))\n",
        "in_seqt1116 = in_seqt1116.reshape((3705, 1))\n",
        "\n",
        "in_seq117 = in_seq117.reshape((12000, 1))\n",
        "in_seqt1117 = in_seqt1117.reshape((3705, 1))\n",
        "\n",
        "in_seq118 = in_seq118.reshape((12000, 1))\n",
        "in_seqt1118 = in_seqt1118.reshape((3704, 1))\n",
        "\n"
      ],
      "execution_count": 0,
      "outputs": []
    },
    {
      "cell_type": "code",
      "metadata": {
        "id": "dcthfPpSoN2u",
        "colab_type": "code",
        "colab": {}
      },
      "source": [
        "def split_sequence(sequence, n_steps):\n",
        "\tX, y = list(), list()\n",
        "\tfor i in range(len(sequence)):\n",
        "\t\t# find the end of this pattern\n",
        "\t\tend_ix = i + n_steps\n",
        "\t\t# check if we are beyond the sequence\n",
        "\t\tif end_ix > len(sequence)-1:\n",
        "\t\t\tbreak\n",
        "\t\t# gather input and output parts of the pattern\n",
        "\t\tseq_x, seq_y = sequence[i:end_ix], sequence[end_ix]\n",
        "\t\tX.append(seq_x)\n",
        "\t\ty.append(seq_y)\n",
        "\treturn np.array(X), np.array(y)"
      ],
      "execution_count": 0,
      "outputs": []
    },
    {
      "cell_type": "code",
      "metadata": {
        "id": "NLCLOXnyptMN",
        "colab_type": "code",
        "colab": {}
      },
      "source": [
        "cuddataset1 = hstack((in_seqtest1))\n",
        "cuddataset = hstack((in_seq))\n",
        "\n",
        "pandataset1 = hstack((in_seqt11))\n",
        "pandataset = hstack((in_seq1))\n",
        "\n",
        "dhadataset1 = hstack((in_seqt112))\n",
        "dhadataset = hstack((in_seq12))\n",
        "\n",
        "hardataset1 = hstack((in_seqt113))\n",
        "hardataset = hstack((in_seq13))\n",
        "\n",
        "paldataset1 = hstack((in_seqt114))\n",
        "paldataset = hstack((in_seq14))\n",
        "\n",
        "pendataset1 = hstack((in_seqt115))\n",
        "pendataset = hstack((in_seq15))\n",
        "\n",
        "chedataset1 = hstack((in_seqt116))\n",
        "chedataset = hstack((in_seq16))\n",
        "\n",
        "satdataset1 = hstack((in_seqt117))\n",
        "satdataset = hstack((in_seq17))\n",
        "\n",
        "Tirdataset1 = hstack((in_seqt118))\n",
        "Tirdataset = hstack((in_seq18))\n",
        "\n",
        "Sandataset1 = hstack((in_seqt119))\n",
        "Sandataset = hstack((in_seq19))\n",
        "\n",
        "Tirudataset1 = hstack((in_seqt1110))\n",
        "Tirudataset = hstack((in_seq110))\n",
        "\n",
        "uludataset1 = hstack((in_seqt1111))\n",
        "uludataset = hstack((in_seq111))\n",
        "\n",
        "vildataset1 = hstack((in_seqt1112))\n",
        "vildataset = hstack((in_seq112))\n",
        "\n",
        "bardataset1 = hstack((in_seqt1113))\n",
        "bardataset = hstack((in_seq113))\n",
        "\n",
        "Dendataset1 = hstack((in_seqt1114))\n",
        "Dendataset = hstack((in_seq114))\n",
        "\n",
        "kridataset1 = hstack((in_seqt1115))\n",
        "kridataset = hstack((in_seq115))\n",
        "\n",
        "mardataset1 = hstack((in_seqt1116))\n",
        "mardataset = hstack((in_seq116))\n",
        "\n",
        "raydataset1 = hstack((in_seqt1117))\n",
        "raydataset = hstack((in_seq117))\n",
        "\n",
        "uthdataset1 = hstack((in_seqt1118))\n",
        "uthdataset = hstack((in_seq118))\n"
      ],
      "execution_count": 0,
      "outputs": []
    },
    {
      "cell_type": "code",
      "metadata": {
        "id": "VXevl6Wdrz2e",
        "colab_type": "code",
        "colab": {}
      },
      "source": [
        "n_steps = 3\n",
        "# convert into input/output\n",
        "X, y = split_sequence(cuddataset, n_steps)\n",
        "X1 , y1 = split_sequence(pandataset, n_steps)\n",
        "X2 , y2 = split_sequence(dhadataset, n_steps)\n",
        "X3 , y3 = split_sequence(hardataset, n_steps)\n",
        "X4 , y4 = split_sequence(paldataset, n_steps)\n",
        "X5 , y5 = split_sequence(pendataset, n_steps)\n",
        "X6, y6 = split_sequence(chedataset, n_steps)\n",
        "X7, y7 = split_sequence(satdataset, n_steps)\n",
        "X8, y8 = split_sequence(Tirdataset, n_steps)\n",
        "X9, y9 = split_sequence(Sandataset, n_steps)\n",
        "X10, y10 = split_sequence(Tirudataset, n_steps)\n",
        "X11, y11 = split_sequence(uludataset, n_steps)\n",
        "X12 , y12 = split_sequence(vildataset, n_steps)\n",
        "X13, y13 = split_sequence(bardataset, n_steps)\n",
        "X14, y14 = split_sequence(Dendataset, n_steps)\n",
        "X15, y15 = split_sequence(kridataset, n_steps)\n",
        "X16, y16 = split_sequence(mardataset, n_steps)\n",
        "X17, y17 = split_sequence(raydataset, n_steps)\n",
        "X18, y18 = split_sequence(uthdataset, n_steps)"
      ],
      "execution_count": 0,
      "outputs": []
    },
    {
      "cell_type": "code",
      "metadata": {
        "id": "CcgWCIqIr44M",
        "colab_type": "code",
        "colab": {}
      },
      "source": [
        "X_test,y_test = split_sequence(cuddataset, n_steps)\n",
        "X_test1,y_test1 = split_sequence(pandataset, n_steps)\n",
        "X_test2,y_test2= split_sequence(dhadataset, n_steps)\n",
        "X_test3,y_test3 = split_sequence(hardataset, n_steps)\n",
        "X_test4,y_test4 = split_sequence(paldataset, n_steps)\n",
        "X_test5,y_test5 = split_sequence(pendataset, n_steps)\n",
        "X_test6,y_test6 = split_sequence(chedataset, n_steps)\n",
        "X_test7,y_test7 = split_sequence(satdataset, n_steps)\n",
        "X_test8,y_test8 = split_sequence(Tirdataset, n_steps)\n",
        "X_test9,y_test9 = split_sequence(Sandataset, n_steps)\n",
        "X_test10,y_test10 = split_sequence(Tirudataset, n_steps)\n",
        "X_test11,y_test11= split_sequence(uludataset, n_steps)\n",
        "X_test12,y_test12 = split_sequence(vildataset, n_steps)\n",
        "X_test13,y_test13 = split_sequence(bardataset, n_steps)\n",
        "X_test14,y_test14 = split_sequence(Dendataset, n_steps)\n",
        "X_test15,y_test15 = split_sequence(kridataset, n_steps)\n",
        "X_test16,y_test16 = split_sequence(mardataset, n_steps)\n",
        "X_test17,y_test17= split_sequence(raydataset, n_steps)\n",
        "X_test18,y_test18= split_sequence(uthdataset, n_steps)"
      ],
      "execution_count": 0,
      "outputs": []
    },
    {
      "cell_type": "code",
      "metadata": {
        "id": "lZ26OGqHr95T",
        "colab_type": "code",
        "outputId": "c073588d-f6df-486e-a163-4670582a594f",
        "colab": {
          "base_uri": "https://localhost:8080/",
          "height": 87
        }
      },
      "source": [
        "model = keras.Sequential()\n",
        "model.add(keras.layers.LSTM(50, activation='relu',return_sequences=True, input_shape=(n_steps, 1)))\n",
        "model.add(keras.layers.LSTM(10, activation='relu'))\n",
        "model.add(keras.layers.Dense(1))\n",
        "model.compile(optimizer='adam', loss='mse',metrics=['accuracy'])"
      ],
      "execution_count": 0,
      "outputs": [
        {
          "output_type": "stream",
          "text": [
            "WARNING:tensorflow:From /tensorflow-1.15.0/python3.6/tensorflow_core/python/ops/resource_variable_ops.py:1630: calling BaseResourceVariable.__init__ (from tensorflow.python.ops.resource_variable_ops) with constraint is deprecated and will be removed in a future version.\n",
            "Instructions for updating:\n",
            "If using Keras pass *_constraint arguments to layers.\n"
          ],
          "name": "stdout"
        }
      ]
    },
    {
      "cell_type": "code",
      "metadata": {
        "id": "HUwsDYObsG7O",
        "colab_type": "code",
        "colab": {}
      },
      "source": [
        "X = X.reshape((X.shape[0], X.shape[1], 1))\n",
        "X1 = X1.reshape((X1.shape[0], X1.shape[1], 1))\n",
        "X2 = X2.reshape((X2.shape[0], X2.shape[1], 1))\n",
        "X3 = X3.reshape((X3.shape[0], X3.shape[1], 1))\n",
        "X4 = X4.reshape((X4.shape[0], X4.shape[1], 1))\n",
        "X5 = X5.reshape((X5.shape[0], X5.shape[1], 1))\n",
        "X6 = X6.reshape((X6.shape[0], X6.shape[1], 1))\n",
        "X7 = X7.reshape((X7.shape[0], X7.shape[1], 1))\n",
        "X8 = X8.reshape((X8.shape[0], X8.shape[1], 1))\n",
        "X9 = X9.reshape((X9.shape[0], X9.shape[1], 1))\n",
        "X10 = X10.reshape((X10.shape[0], X10.shape[1], 1))\n",
        "X11 = X11.reshape((X11.shape[0], X11.shape[1], 1))\n",
        "X12 = X12.reshape((X12.shape[0], X12.shape[1], 1))\n",
        "X13 = X13.reshape((X13.shape[0], X13.shape[1], 1))\n",
        "X14 = X14.reshape((X14.shape[0], X14.shape[1], 1))\n",
        "X15 = X15.reshape((X15.shape[0], X15.shape[1], 1))\n",
        "X16 = X16.reshape((X16.shape[0], X16.shape[1], 1))\n",
        "X17 = X17.reshape((X17.shape[0], X17.shape[1], 1))\n",
        "X18 = X18.reshape((X18.shape[0], X18.shape[1], 1))\n"
      ],
      "execution_count": 0,
      "outputs": []
    },
    {
      "cell_type": "code",
      "metadata": {
        "id": "Y3GPbJFSslfM",
        "colab_type": "code",
        "colab": {}
      },
      "source": [
        "X_test=X_test.reshape((X_test.shape[0], X_test.shape[1], 1))\n",
        "X_test1=X_test1.reshape((X_test1.shape[0], X_test1.shape[1], 1))\n",
        "X_test2=X_test2.reshape((X_test2.shape[0], X_test2.shape[1], 1))\n",
        "X_test3=X_test3.reshape((X_test3.shape[0], X_test3.shape[1], 1))\n",
        "X_test4=X_test4.reshape((X_test4.shape[0], X_test4.shape[1], 1))\n",
        "X_test5=X_test5.reshape((X_test5.shape[0], X_test5.shape[1], 1))\n",
        "X_test6=X_test6.reshape((X_test6.shape[0], X_test6.shape[1], 1))\n",
        "X_test7=X_test7.reshape((X_test7.shape[0], X_test7.shape[1], 1))\n",
        "X_test8=X_test8.reshape((X_test8.shape[0], X_test8.shape[1], 1))\n",
        "X_test9=X_test9.reshape((X_test9.shape[0], X_test9.shape[1], 1))\n",
        "X_test10=X_test10.reshape((X_test10.shape[0], X_test10.shape[1], 1))\n",
        "X_test11=X_test11.reshape((X_test11.shape[0], X_test11.shape[1], 1))\n",
        "X_test12=X_test12.reshape((X_test12.shape[0], X_test12.shape[1], 1))\n",
        "X_test13=X_test13.reshape((X_test13.shape[0], X_test13.shape[1], 1))\n",
        "X_test14=X_test14.reshape((X_test14.shape[0], X_test14.shape[1], 1))\n",
        "X_test15=X_test15.reshape((X_test15.shape[0], X_test15.shape[1], 1))\n",
        "\n",
        "X_test16=X_test16.reshape((X_test16.shape[0], X_test16.shape[1], 1))\n",
        "X_test17=X_test17.reshape((X_test17.shape[0], X_test17.shape[1], 1))\n",
        "X_test18=X_test18.reshape((X_test18.shape[0], X_test18.shape[1], 1))\n"
      ],
      "execution_count": 0,
      "outputs": []
    },
    {
      "cell_type": "code",
      "metadata": {
        "id": "CJ0AjGmYsCUs",
        "colab_type": "code",
        "outputId": "d5456d6a-f01b-432d-a7d8-5b44e983ee05",
        "colab": {
          "base_uri": "https://localhost:8080/",
          "height": 1000
        }
      },
      "source": [
        "model.fit(X, y, validation_data=(X_test,y_test),epochs=50)"
      ],
      "execution_count": 0,
      "outputs": [
        {
          "output_type": "stream",
          "text": [
            "WARNING:tensorflow:From /tensorflow-1.15.0/python3.6/tensorflow_core/python/ops/math_grad.py:1424: where (from tensorflow.python.ops.array_ops) is deprecated and will be removed in a future version.\n",
            "Instructions for updating:\n",
            "Use tf.where in 2.0, which has the same broadcast rule as np.where\n",
            "Train on 11997 samples, validate on 11997 samples\n",
            "Epoch 1/50\n",
            "11997/11997 [==============================] - 4s 352us/sample - loss: 0.0012 - acc: 0.7724 - val_loss: 0.0012 - val_acc: 0.7724\n",
            "Epoch 2/50\n",
            "11997/11997 [==============================] - 3s 270us/sample - loss: 0.0012 - acc: 0.7724 - val_loss: 0.0011 - val_acc: 0.7724\n",
            "Epoch 3/50\n",
            "11997/11997 [==============================] - 3s 271us/sample - loss: 0.0011 - acc: 0.7724 - val_loss: 0.0012 - val_acc: 0.7724\n",
            "Epoch 4/50\n",
            "11997/11997 [==============================] - 3s 265us/sample - loss: 0.0011 - acc: 0.7724 - val_loss: 0.0011 - val_acc: 0.7724\n",
            "Epoch 5/50\n",
            "11997/11997 [==============================] - 3s 273us/sample - loss: 0.0011 - acc: 0.7724 - val_loss: 0.0011 - val_acc: 0.7724\n",
            "Epoch 6/50\n",
            "11997/11997 [==============================] - 3s 266us/sample - loss: 0.0011 - acc: 0.7724 - val_loss: 0.0011 - val_acc: 0.7724\n",
            "Epoch 7/50\n",
            "11997/11997 [==============================] - 3s 270us/sample - loss: 0.0011 - acc: 0.7724 - val_loss: 0.0011 - val_acc: 0.7724\n",
            "Epoch 8/50\n",
            "11997/11997 [==============================] - 3s 269us/sample - loss: 0.0011 - acc: 0.7724 - val_loss: 0.0011 - val_acc: 0.7724\n",
            "Epoch 9/50\n",
            "11997/11997 [==============================] - 3s 272us/sample - loss: 0.0011 - acc: 0.7724 - val_loss: 0.0011 - val_acc: 0.7724\n",
            "Epoch 10/50\n",
            "11997/11997 [==============================] - 3s 273us/sample - loss: 0.0011 - acc: 0.7724 - val_loss: 0.0011 - val_acc: 0.7724\n",
            "Epoch 11/50\n",
            "11997/11997 [==============================] - 3s 279us/sample - loss: 0.0011 - acc: 0.7724 - val_loss: 0.0011 - val_acc: 0.7724\n",
            "Epoch 12/50\n",
            "11997/11997 [==============================] - 3s 272us/sample - loss: 0.0011 - acc: 0.7724 - val_loss: 0.0011 - val_acc: 0.7724\n",
            "Epoch 13/50\n",
            "11997/11997 [==============================] - 3s 272us/sample - loss: 0.0011 - acc: 0.7724 - val_loss: 0.0011 - val_acc: 0.7724\n",
            "Epoch 14/50\n",
            "11997/11997 [==============================] - 3s 274us/sample - loss: 0.0011 - acc: 0.7724 - val_loss: 0.0011 - val_acc: 0.7724\n",
            "Epoch 15/50\n",
            "11997/11997 [==============================] - 3s 285us/sample - loss: 0.0011 - acc: 0.7724 - val_loss: 0.0011 - val_acc: 0.7724\n",
            "Epoch 16/50\n",
            "11997/11997 [==============================] - 3s 279us/sample - loss: 0.0011 - acc: 0.7724 - val_loss: 0.0011 - val_acc: 0.7724\n",
            "Epoch 17/50\n",
            "11997/11997 [==============================] - 3s 274us/sample - loss: 0.0011 - acc: 0.7724 - val_loss: 0.0011 - val_acc: 0.7724\n",
            "Epoch 18/50\n",
            "11997/11997 [==============================] - 3s 282us/sample - loss: 0.0011 - acc: 0.7724 - val_loss: 0.0011 - val_acc: 0.7724\n",
            "Epoch 19/50\n",
            "11997/11997 [==============================] - 3s 268us/sample - loss: 0.0011 - acc: 0.7724 - val_loss: 0.0011 - val_acc: 0.7724\n",
            "Epoch 20/50\n",
            "11997/11997 [==============================] - 3s 278us/sample - loss: 0.0011 - acc: 0.7724 - val_loss: 0.0011 - val_acc: 0.7724\n",
            "Epoch 21/50\n",
            "11997/11997 [==============================] - 3s 282us/sample - loss: 0.0011 - acc: 0.7724 - val_loss: 0.0011 - val_acc: 0.7724\n",
            "Epoch 22/50\n",
            "11997/11997 [==============================] - 3s 272us/sample - loss: 0.0011 - acc: 0.7724 - val_loss: 0.0011 - val_acc: 0.7724\n",
            "Epoch 23/50\n",
            "11997/11997 [==============================] - 3s 274us/sample - loss: 0.0011 - acc: 0.7724 - val_loss: 0.0011 - val_acc: 0.7724\n",
            "Epoch 24/50\n",
            "11997/11997 [==============================] - 3s 272us/sample - loss: 0.0011 - acc: 0.7724 - val_loss: 0.0011 - val_acc: 0.7724\n",
            "Epoch 25/50\n",
            "11997/11997 [==============================] - 3s 281us/sample - loss: 0.0011 - acc: 0.7724 - val_loss: 0.0011 - val_acc: 0.7724\n",
            "Epoch 26/50\n",
            "11997/11997 [==============================] - 3s 272us/sample - loss: 0.0011 - acc: 0.7724 - val_loss: 0.0011 - val_acc: 0.7724\n",
            "Epoch 27/50\n",
            "11997/11997 [==============================] - 3s 269us/sample - loss: 0.0011 - acc: 0.7724 - val_loss: 0.0011 - val_acc: 0.7724\n",
            "Epoch 28/50\n",
            "11997/11997 [==============================] - 3s 273us/sample - loss: 0.0011 - acc: 0.7724 - val_loss: 0.0011 - val_acc: 0.7724\n",
            "Epoch 29/50\n",
            "11997/11997 [==============================] - 3s 271us/sample - loss: 0.0011 - acc: 0.7724 - val_loss: 0.0011 - val_acc: 0.7724\n",
            "Epoch 30/50\n",
            "11997/11997 [==============================] - 3s 268us/sample - loss: 0.0011 - acc: 0.7724 - val_loss: 0.0011 - val_acc: 0.7724\n",
            "Epoch 31/50\n",
            "11997/11997 [==============================] - 3s 266us/sample - loss: 0.0011 - acc: 0.7724 - val_loss: 0.0011 - val_acc: 0.7724\n",
            "Epoch 32/50\n",
            "11997/11997 [==============================] - 3s 266us/sample - loss: 0.0011 - acc: 0.7724 - val_loss: 0.0011 - val_acc: 0.7724\n",
            "Epoch 33/50\n",
            "11997/11997 [==============================] - 3s 267us/sample - loss: 0.0011 - acc: 0.7724 - val_loss: 0.0011 - val_acc: 0.7724\n",
            "Epoch 34/50\n",
            "11997/11997 [==============================] - 3s 264us/sample - loss: 0.0011 - acc: 0.7724 - val_loss: 0.0011 - val_acc: 0.7724\n",
            "Epoch 35/50\n",
            "11997/11997 [==============================] - 3s 267us/sample - loss: 0.0011 - acc: 0.7724 - val_loss: 0.0011 - val_acc: 0.7724\n",
            "Epoch 36/50\n",
            "11997/11997 [==============================] - 3s 262us/sample - loss: 0.0011 - acc: 0.7724 - val_loss: 0.0011 - val_acc: 0.7724\n",
            "Epoch 37/50\n",
            "11997/11997 [==============================] - 3s 264us/sample - loss: 0.0011 - acc: 0.7724 - val_loss: 0.0011 - val_acc: 0.7724\n",
            "Epoch 38/50\n",
            "11997/11997 [==============================] - 3s 265us/sample - loss: 0.0011 - acc: 0.7724 - val_loss: 0.0011 - val_acc: 0.7724\n",
            "Epoch 39/50\n",
            "11997/11997 [==============================] - 3s 266us/sample - loss: 0.0011 - acc: 0.7724 - val_loss: 0.0011 - val_acc: 0.7724\n",
            "Epoch 40/50\n",
            "11997/11997 [==============================] - 3s 264us/sample - loss: 0.0011 - acc: 0.7724 - val_loss: 0.0011 - val_acc: 0.7724\n",
            "Epoch 41/50\n",
            "11997/11997 [==============================] - 3s 267us/sample - loss: 0.0011 - acc: 0.7724 - val_loss: 0.0011 - val_acc: 0.7724\n",
            "Epoch 42/50\n",
            "11997/11997 [==============================] - 3s 271us/sample - loss: 0.0011 - acc: 0.7724 - val_loss: 0.0011 - val_acc: 0.7724\n",
            "Epoch 43/50\n",
            "11997/11997 [==============================] - 3s 266us/sample - loss: 0.0011 - acc: 0.7724 - val_loss: 0.0011 - val_acc: 0.7724\n",
            "Epoch 44/50\n",
            "11997/11997 [==============================] - 3s 269us/sample - loss: 0.0011 - acc: 0.7724 - val_loss: 0.0011 - val_acc: 0.7724\n",
            "Epoch 45/50\n",
            "11997/11997 [==============================] - 3s 272us/sample - loss: 0.0011 - acc: 0.7724 - val_loss: 0.0011 - val_acc: 0.7724\n",
            "Epoch 46/50\n",
            "11997/11997 [==============================] - 3s 267us/sample - loss: 0.0011 - acc: 0.7724 - val_loss: 0.0011 - val_acc: 0.7724\n",
            "Epoch 47/50\n",
            "11997/11997 [==============================] - 3s 266us/sample - loss: 0.0011 - acc: 0.7724 - val_loss: 0.0011 - val_acc: 0.7724\n",
            "Epoch 48/50\n",
            "11997/11997 [==============================] - 3s 269us/sample - loss: 0.0011 - acc: 0.7724 - val_loss: 0.0011 - val_acc: 0.7724\n",
            "Epoch 49/50\n",
            "11997/11997 [==============================] - 3s 264us/sample - loss: 0.0011 - acc: 0.7724 - val_loss: 0.0011 - val_acc: 0.7724\n",
            "Epoch 50/50\n",
            "11997/11997 [==============================] - 3s 267us/sample - loss: 0.0011 - acc: 0.7724 - val_loss: 0.0011 - val_acc: 0.7724\n"
          ],
          "name": "stdout"
        },
        {
          "output_type": "execute_result",
          "data": {
            "text/plain": [
              "<tensorflow.python.keras.callbacks.History at 0x7fdf49510fd0>"
            ]
          },
          "metadata": {
            "tags": []
          },
          "execution_count": 20
        }
      ]
    },
    {
      "cell_type": "code",
      "metadata": {
        "id": "qW849L-NsFhU",
        "colab_type": "code",
        "outputId": "16a6efbb-fbd3-4104-e432-b7f448e6e13d",
        "colab": {
          "base_uri": "https://localhost:8080/",
          "height": 50
        }
      },
      "source": [
        "ypred = model.predict(X)\n",
        "s=pd.DataFrame(ypred)\n",
        "s1=pd.DataFrame(y)\n",
        "s1.corrwith(s, axis = 0) "
      ],
      "execution_count": 0,
      "outputs": [
        {
          "output_type": "execute_result",
          "data": {
            "text/plain": [
              "0    0.415089\n",
              "dtype: float64"
            ]
          },
          "metadata": {
            "tags": []
          },
          "execution_count": 21
        }
      ]
    },
    {
      "cell_type": "code",
      "metadata": {
        "id": "noGIobrktgmd",
        "colab_type": "code",
        "outputId": "7ddfe33c-a052-4bf2-cfe7-c1e1862e5f9d",
        "colab": {
          "base_uri": "https://localhost:8080/",
          "height": 50
        }
      },
      "source": [
        "ypred1=model.predict(X_test)\n",
        "s=pd.DataFrame(ypred1)\n",
        "s1=pd.DataFrame(y_test)\n",
        "s1.corrwith(s,axis=0)"
      ],
      "execution_count": 0,
      "outputs": [
        {
          "output_type": "execute_result",
          "data": {
            "text/plain": [
              "0    0.415089\n",
              "dtype: float64"
            ]
          },
          "metadata": {
            "tags": []
          },
          "execution_count": 22
        }
      ]
    },
    {
      "cell_type": "code",
      "metadata": {
        "id": "KAqZPa33aTfo",
        "colab_type": "code",
        "colab": {}
      },
      "source": [
        "from sklearn.metrics import mean_absolute_error"
      ],
      "execution_count": 0,
      "outputs": []
    },
    {
      "cell_type": "code",
      "metadata": {
        "id": "GpEoHv92aYGB",
        "colab_type": "code",
        "outputId": "a6195a73-4bdf-46ce-d3ae-763495a928bd",
        "colab": {
          "base_uri": "https://localhost:8080/",
          "height": 34
        }
      },
      "source": [
        "mean_absolute_error(y,ypred)"
      ],
      "execution_count": 0,
      "outputs": [
        {
          "output_type": "execute_result",
          "data": {
            "text/plain": [
              "0.013608076866065985"
            ]
          },
          "metadata": {
            "tags": []
          },
          "execution_count": 24
        }
      ]
    },
    {
      "cell_type": "code",
      "metadata": {
        "id": "UutDAI0Oaah6",
        "colab_type": "code",
        "outputId": "390977b9-5780-4d83-b8bc-446899f74fcb",
        "colab": {
          "base_uri": "https://localhost:8080/",
          "height": 34
        }
      },
      "source": [
        "mean_absolute_error(y_test,ypred1)"
      ],
      "execution_count": 0,
      "outputs": [
        {
          "output_type": "execute_result",
          "data": {
            "text/plain": [
              "0.013608076866065985"
            ]
          },
          "metadata": {
            "tags": []
          },
          "execution_count": 25
        }
      ]
    },
    {
      "cell_type": "code",
      "metadata": {
        "id": "xg8kvCOYtkrq",
        "colab_type": "code",
        "outputId": "90126b17-936c-40ad-c078-518d9fe8ef60",
        "colab": {
          "base_uri": "https://localhost:8080/",
          "height": 34
        }
      },
      "source": [
        " from sklearn.metrics import r2_score\n",
        " r2_score(y,ypred)"
      ],
      "execution_count": 0,
      "outputs": [
        {
          "output_type": "execute_result",
          "data": {
            "text/plain": [
              "0.17011587084397006"
            ]
          },
          "metadata": {
            "tags": []
          },
          "execution_count": 26
        }
      ]
    },
    {
      "cell_type": "code",
      "metadata": {
        "id": "j7rV7tCmtn70",
        "colab_type": "code",
        "outputId": "1054d456-acb5-490c-8dea-55cbf1e7894b",
        "colab": {
          "base_uri": "https://localhost:8080/",
          "height": 34
        }
      },
      "source": [
        "r2_score(y_test,ypred1)"
      ],
      "execution_count": 0,
      "outputs": [
        {
          "output_type": "execute_result",
          "data": {
            "text/plain": [
              "0.17011587084397006"
            ]
          },
          "metadata": {
            "tags": []
          },
          "execution_count": 27
        }
      ]
    },
    {
      "cell_type": "code",
      "metadata": {
        "id": "RpGZF90Nw8oU",
        "colab_type": "code",
        "outputId": "bb2542e3-c8ea-41b9-9812-bc1d108bd74f",
        "colab": {
          "base_uri": "https://localhost:8080/",
          "height": 1000
        }
      },
      "source": [
        "model.fit(X1, y1, validation_data=(X_test1,y_test1),epochs=50)"
      ],
      "execution_count": 0,
      "outputs": [
        {
          "output_type": "stream",
          "text": [
            "Train on 11997 samples, validate on 11997 samples\n",
            "Epoch 1/50\n",
            "11997/11997 [==============================] - 3s 273us/sample - loss: 0.0015 - acc: 0.8519 - val_loss: 0.0015 - val_acc: 0.8519\n",
            "Epoch 2/50\n",
            "11997/11997 [==============================] - 3s 270us/sample - loss: 0.0015 - acc: 0.8519 - val_loss: 0.0014 - val_acc: 0.8519\n",
            "Epoch 3/50\n",
            "11997/11997 [==============================] - 3s 270us/sample - loss: 0.0015 - acc: 0.8519 - val_loss: 0.0014 - val_acc: 0.8519\n",
            "Epoch 4/50\n",
            "11997/11997 [==============================] - 3s 269us/sample - loss: 0.0014 - acc: 0.8519 - val_loss: 0.0014 - val_acc: 0.8519\n",
            "Epoch 5/50\n",
            "11997/11997 [==============================] - 3s 271us/sample - loss: 0.0014 - acc: 0.8519 - val_loss: 0.0014 - val_acc: 0.8519\n",
            "Epoch 6/50\n",
            "11997/11997 [==============================] - 3s 268us/sample - loss: 0.0014 - acc: 0.8519 - val_loss: 0.0014 - val_acc: 0.8519\n",
            "Epoch 7/50\n",
            "11997/11997 [==============================] - 3s 272us/sample - loss: 0.0014 - acc: 0.8519 - val_loss: 0.0014 - val_acc: 0.8519\n",
            "Epoch 8/50\n",
            "11997/11997 [==============================] - 3s 273us/sample - loss: 0.0014 - acc: 0.8519 - val_loss: 0.0014 - val_acc: 0.8519\n",
            "Epoch 9/50\n",
            "11997/11997 [==============================] - 3s 268us/sample - loss: 0.0014 - acc: 0.8519 - val_loss: 0.0014 - val_acc: 0.8519\n",
            "Epoch 10/50\n",
            "11997/11997 [==============================] - 3s 268us/sample - loss: 0.0014 - acc: 0.8519 - val_loss: 0.0014 - val_acc: 0.8519\n",
            "Epoch 11/50\n",
            "11997/11997 [==============================] - 3s 274us/sample - loss: 0.0014 - acc: 0.8519 - val_loss: 0.0015 - val_acc: 0.8519\n",
            "Epoch 12/50\n",
            "11997/11997 [==============================] - 3s 276us/sample - loss: 0.0014 - acc: 0.8519 - val_loss: 0.0014 - val_acc: 0.8519\n",
            "Epoch 13/50\n",
            "11997/11997 [==============================] - 3s 273us/sample - loss: 0.0014 - acc: 0.8519 - val_loss: 0.0014 - val_acc: 0.8519\n",
            "Epoch 14/50\n",
            "11997/11997 [==============================] - 3s 274us/sample - loss: 0.0014 - acc: 0.8519 - val_loss: 0.0014 - val_acc: 0.8519\n",
            "Epoch 15/50\n",
            "11997/11997 [==============================] - 3s 275us/sample - loss: 0.0014 - acc: 0.8519 - val_loss: 0.0014 - val_acc: 0.8519\n",
            "Epoch 16/50\n",
            "11997/11997 [==============================] - 3s 269us/sample - loss: 0.0014 - acc: 0.8519 - val_loss: 0.0014 - val_acc: 0.8519\n",
            "Epoch 17/50\n",
            "11997/11997 [==============================] - 3s 275us/sample - loss: 0.0014 - acc: 0.8519 - val_loss: 0.0014 - val_acc: 0.8519\n",
            "Epoch 18/50\n",
            "11997/11997 [==============================] - 3s 275us/sample - loss: 0.0014 - acc: 0.8519 - val_loss: 0.0014 - val_acc: 0.8519\n",
            "Epoch 19/50\n",
            "11997/11997 [==============================] - 3s 272us/sample - loss: 0.0014 - acc: 0.8519 - val_loss: 0.0014 - val_acc: 0.8519\n",
            "Epoch 20/50\n",
            "11997/11997 [==============================] - 3s 271us/sample - loss: 0.0014 - acc: 0.8519 - val_loss: 0.0015 - val_acc: 0.8519\n",
            "Epoch 21/50\n",
            "11997/11997 [==============================] - 3s 274us/sample - loss: 0.0014 - acc: 0.8519 - val_loss: 0.0014 - val_acc: 0.8519\n",
            "Epoch 22/50\n",
            "11997/11997 [==============================] - 3s 272us/sample - loss: 0.0014 - acc: 0.8519 - val_loss: 0.0014 - val_acc: 0.8519\n",
            "Epoch 23/50\n",
            "11997/11997 [==============================] - 3s 277us/sample - loss: 0.0014 - acc: 0.8519 - val_loss: 0.0014 - val_acc: 0.8519\n",
            "Epoch 24/50\n",
            "11997/11997 [==============================] - 3s 279us/sample - loss: 0.0014 - acc: 0.8519 - val_loss: 0.0014 - val_acc: 0.8519\n",
            "Epoch 25/50\n",
            "11997/11997 [==============================] - 3s 273us/sample - loss: 0.0014 - acc: 0.8519 - val_loss: 0.0014 - val_acc: 0.8519\n",
            "Epoch 26/50\n",
            "11997/11997 [==============================] - 3s 273us/sample - loss: 0.0014 - acc: 0.8519 - val_loss: 0.0014 - val_acc: 0.8519\n",
            "Epoch 27/50\n",
            "11997/11997 [==============================] - 3s 271us/sample - loss: 0.0014 - acc: 0.8519 - val_loss: 0.0014 - val_acc: 0.8519\n",
            "Epoch 28/50\n",
            "11997/11997 [==============================] - 3s 273us/sample - loss: 0.0014 - acc: 0.8519 - val_loss: 0.0014 - val_acc: 0.8519\n",
            "Epoch 29/50\n",
            "11997/11997 [==============================] - 3s 270us/sample - loss: 0.0014 - acc: 0.8519 - val_loss: 0.0014 - val_acc: 0.8519\n",
            "Epoch 30/50\n",
            "11997/11997 [==============================] - 3s 273us/sample - loss: 0.0014 - acc: 0.8519 - val_loss: 0.0014 - val_acc: 0.8519\n",
            "Epoch 31/50\n",
            "11997/11997 [==============================] - 3s 273us/sample - loss: 0.0014 - acc: 0.8519 - val_loss: 0.0014 - val_acc: 0.8519\n",
            "Epoch 32/50\n",
            "11997/11997 [==============================] - 3s 268us/sample - loss: 0.0014 - acc: 0.8519 - val_loss: 0.0014 - val_acc: 0.8519\n",
            "Epoch 33/50\n",
            "11997/11997 [==============================] - 3s 271us/sample - loss: 0.0014 - acc: 0.8519 - val_loss: 0.0014 - val_acc: 0.8519\n",
            "Epoch 34/50\n",
            "11997/11997 [==============================] - 3s 284us/sample - loss: 0.0014 - acc: 0.8519 - val_loss: 0.0014 - val_acc: 0.8519\n",
            "Epoch 35/50\n",
            "11997/11997 [==============================] - 3s 280us/sample - loss: 0.0014 - acc: 0.8519 - val_loss: 0.0014 - val_acc: 0.8519\n",
            "Epoch 36/50\n",
            "11997/11997 [==============================] - 3s 285us/sample - loss: 0.0014 - acc: 0.8519 - val_loss: 0.0014 - val_acc: 0.8519\n",
            "Epoch 37/50\n",
            "11997/11997 [==============================] - 3s 287us/sample - loss: 0.0014 - acc: 0.8519 - val_loss: 0.0014 - val_acc: 0.8519\n",
            "Epoch 38/50\n",
            "11997/11997 [==============================] - 3s 282us/sample - loss: 0.0014 - acc: 0.8519 - val_loss: 0.0014 - val_acc: 0.8519\n",
            "Epoch 39/50\n",
            "11997/11997 [==============================] - 3s 283us/sample - loss: 0.0014 - acc: 0.8519 - val_loss: 0.0014 - val_acc: 0.8519\n",
            "Epoch 40/50\n",
            "11997/11997 [==============================] - 3s 288us/sample - loss: 0.0014 - acc: 0.8519 - val_loss: 0.0014 - val_acc: 0.8519\n",
            "Epoch 41/50\n",
            "11997/11997 [==============================] - 3s 283us/sample - loss: 0.0014 - acc: 0.8519 - val_loss: 0.0014 - val_acc: 0.8519\n",
            "Epoch 42/50\n",
            "11997/11997 [==============================] - 3s 272us/sample - loss: 0.0014 - acc: 0.8519 - val_loss: 0.0014 - val_acc: 0.8519\n",
            "Epoch 43/50\n",
            "11997/11997 [==============================] - 3s 276us/sample - loss: 0.0014 - acc: 0.8519 - val_loss: 0.0015 - val_acc: 0.8519\n",
            "Epoch 44/50\n",
            "11997/11997 [==============================] - 3s 281us/sample - loss: 0.0014 - acc: 0.8519 - val_loss: 0.0014 - val_acc: 0.8519\n",
            "Epoch 45/50\n",
            "11997/11997 [==============================] - 3s 273us/sample - loss: 0.0014 - acc: 0.8519 - val_loss: 0.0014 - val_acc: 0.8519\n",
            "Epoch 46/50\n",
            "11997/11997 [==============================] - 3s 279us/sample - loss: 0.0014 - acc: 0.8519 - val_loss: 0.0014 - val_acc: 0.8519\n",
            "Epoch 47/50\n",
            "11997/11997 [==============================] - 4s 294us/sample - loss: 0.0014 - acc: 0.8519 - val_loss: 0.0014 - val_acc: 0.8519\n",
            "Epoch 48/50\n",
            "11997/11997 [==============================] - 3s 282us/sample - loss: 0.0014 - acc: 0.8519 - val_loss: 0.0014 - val_acc: 0.8519\n",
            "Epoch 49/50\n",
            "11997/11997 [==============================] - 3s 284us/sample - loss: 0.0014 - acc: 0.8519 - val_loss: 0.0014 - val_acc: 0.8519\n",
            "Epoch 50/50\n",
            "11997/11997 [==============================] - 3s 290us/sample - loss: 0.0014 - acc: 0.8519 - val_loss: 0.0014 - val_acc: 0.8519\n"
          ],
          "name": "stdout"
        },
        {
          "output_type": "execute_result",
          "data": {
            "text/plain": [
              "<tensorflow.python.keras.callbacks.History at 0x7fdf48eac940>"
            ]
          },
          "metadata": {
            "tags": []
          },
          "execution_count": 28
        }
      ]
    },
    {
      "cell_type": "code",
      "metadata": {
        "id": "wbC1-ArQHzOa",
        "colab_type": "code",
        "outputId": "9c5945a7-473e-4d3b-a589-961039d8f9af",
        "colab": {
          "base_uri": "https://localhost:8080/",
          "height": 50
        }
      },
      "source": [
        "ypred = model.predict(X1)\n",
        "s=pd.DataFrame(ypred)\n",
        "s1=pd.DataFrame(y1)\n",
        "s1.corrwith(s, axis = 0) "
      ],
      "execution_count": 0,
      "outputs": [
        {
          "output_type": "execute_result",
          "data": {
            "text/plain": [
              "0    0.389945\n",
              "dtype: float64"
            ]
          },
          "metadata": {
            "tags": []
          },
          "execution_count": 29
        }
      ]
    },
    {
      "cell_type": "code",
      "metadata": {
        "id": "RjJslfLMJEbs",
        "colab_type": "code",
        "outputId": "acf9363f-7964-4d56-db21-5047ace328a4",
        "colab": {
          "base_uri": "https://localhost:8080/",
          "height": 50
        }
      },
      "source": [
        "ypred1=model.predict(X_test1)\n",
        "s=pd.DataFrame(ypred1)\n",
        "s1=pd.DataFrame(y_test1)\n",
        "s1.corrwith(s,axis=0)"
      ],
      "execution_count": 0,
      "outputs": [
        {
          "output_type": "execute_result",
          "data": {
            "text/plain": [
              "0    0.389945\n",
              "dtype: float64"
            ]
          },
          "metadata": {
            "tags": []
          },
          "execution_count": 30
        }
      ]
    },
    {
      "cell_type": "code",
      "metadata": {
        "id": "iot6np04aiT_",
        "colab_type": "code",
        "outputId": "c261de7a-79b9-4950-a3ff-88a1851d5284",
        "colab": {
          "base_uri": "https://localhost:8080/",
          "height": 34
        }
      },
      "source": [
        "mean_absolute_error(y1,ypred)"
      ],
      "execution_count": 0,
      "outputs": [
        {
          "output_type": "execute_result",
          "data": {
            "text/plain": [
              "0.013613901145556865"
            ]
          },
          "metadata": {
            "tags": []
          },
          "execution_count": 31
        }
      ]
    },
    {
      "cell_type": "code",
      "metadata": {
        "id": "a8iPWieZam7l",
        "colab_type": "code",
        "outputId": "c226547f-3539-47c4-cc30-fe71e5d053f1",
        "colab": {
          "base_uri": "https://localhost:8080/",
          "height": 34
        }
      },
      "source": [
        "mean_absolute_error(y_test1,ypred1)"
      ],
      "execution_count": 0,
      "outputs": [
        {
          "output_type": "execute_result",
          "data": {
            "text/plain": [
              "0.013613901145556865"
            ]
          },
          "metadata": {
            "tags": []
          },
          "execution_count": 32
        }
      ]
    },
    {
      "cell_type": "code",
      "metadata": {
        "id": "IbLt0Hz1Mop2",
        "colab_type": "code",
        "outputId": "171cc94b-89ad-4847-ea32-790bd297d000",
        "colab": {
          "base_uri": "https://localhost:8080/",
          "height": 34
        }
      },
      "source": [
        "r2_score(y1,ypred)"
      ],
      "execution_count": 0,
      "outputs": [
        {
          "output_type": "execute_result",
          "data": {
            "text/plain": [
              "0.15203656936773602"
            ]
          },
          "metadata": {
            "tags": []
          },
          "execution_count": 33
        }
      ]
    },
    {
      "cell_type": "code",
      "metadata": {
        "id": "X7U_mkgGMrxT",
        "colab_type": "code",
        "outputId": "58d8e61a-2190-40a5-a2bb-e0bc912bed18",
        "colab": {
          "base_uri": "https://localhost:8080/",
          "height": 34
        }
      },
      "source": [
        "r2_score(y_test1,ypred1)"
      ],
      "execution_count": 0,
      "outputs": [
        {
          "output_type": "execute_result",
          "data": {
            "text/plain": [
              "0.15203656936773602"
            ]
          },
          "metadata": {
            "tags": []
          },
          "execution_count": 34
        }
      ]
    },
    {
      "cell_type": "code",
      "metadata": {
        "id": "dyKBYmkUtKUU",
        "colab_type": "code",
        "outputId": "f7260c57-0ca8-43f1-b0b5-bf7ceae3fd61",
        "colab": {
          "base_uri": "https://localhost:8080/",
          "height": 1000
        }
      },
      "source": [
        "model.fit(X2, y2, validation_data=(X_test2,y_test2),epochs=50)"
      ],
      "execution_count": 0,
      "outputs": [
        {
          "output_type": "stream",
          "text": [
            "Train on 11997 samples, validate on 11997 samples\n",
            "Epoch 1/50\n",
            "11997/11997 [==============================] - 3s 292us/sample - loss: 0.0048 - acc: 0.8414 - val_loss: 0.0047 - val_acc: 0.8414\n",
            "Epoch 2/50\n",
            "11997/11997 [==============================] - 3s 288us/sample - loss: 0.0047 - acc: 0.8414 - val_loss: 0.0047 - val_acc: 0.8414\n",
            "Epoch 3/50\n",
            "11997/11997 [==============================] - 3s 291us/sample - loss: 0.0047 - acc: 0.8414 - val_loss: 0.0047 - val_acc: 0.8414\n",
            "Epoch 4/50\n",
            "11997/11997 [==============================] - 3s 288us/sample - loss: 0.0047 - acc: 0.8414 - val_loss: 0.0047 - val_acc: 0.8414\n",
            "Epoch 5/50\n",
            "11997/11997 [==============================] - 3s 287us/sample - loss: 0.0047 - acc: 0.8414 - val_loss: 0.0047 - val_acc: 0.8414\n",
            "Epoch 6/50\n",
            "11997/11997 [==============================] - 3s 282us/sample - loss: 0.0047 - acc: 0.8414 - val_loss: 0.0047 - val_acc: 0.8414\n",
            "Epoch 7/50\n",
            "11997/11997 [==============================] - 3s 279us/sample - loss: 0.0047 - acc: 0.8414 - val_loss: 0.0047 - val_acc: 0.8414\n",
            "Epoch 8/50\n",
            "11997/11997 [==============================] - 3s 277us/sample - loss: 0.0047 - acc: 0.8414 - val_loss: 0.0047 - val_acc: 0.8414\n",
            "Epoch 9/50\n",
            "11997/11997 [==============================] - 3s 285us/sample - loss: 0.0047 - acc: 0.8414 - val_loss: 0.0047 - val_acc: 0.8414\n",
            "Epoch 10/50\n",
            "11997/11997 [==============================] - 3s 290us/sample - loss: 0.0047 - acc: 0.8414 - val_loss: 0.0047 - val_acc: 0.8414\n",
            "Epoch 11/50\n",
            "11997/11997 [==============================] - 4s 293us/sample - loss: 0.0047 - acc: 0.8414 - val_loss: 0.0047 - val_acc: 0.8414\n",
            "Epoch 12/50\n",
            "11997/11997 [==============================] - 3s 287us/sample - loss: 0.0047 - acc: 0.8414 - val_loss: 0.0047 - val_acc: 0.8414\n",
            "Epoch 13/50\n",
            "11997/11997 [==============================] - 4s 293us/sample - loss: 0.0047 - acc: 0.8414 - val_loss: 0.0047 - val_acc: 0.8414\n",
            "Epoch 14/50\n",
            "11997/11997 [==============================] - 3s 287us/sample - loss: 0.0047 - acc: 0.8414 - val_loss: 0.0047 - val_acc: 0.8414\n",
            "Epoch 15/50\n",
            "11997/11997 [==============================] - 3s 290us/sample - loss: 0.0047 - acc: 0.8414 - val_loss: 0.0047 - val_acc: 0.8414\n",
            "Epoch 16/50\n",
            "11997/11997 [==============================] - 4s 294us/sample - loss: 0.0047 - acc: 0.8414 - val_loss: 0.0047 - val_acc: 0.8414\n",
            "Epoch 17/50\n",
            "11997/11997 [==============================] - 3s 291us/sample - loss: 0.0047 - acc: 0.8414 - val_loss: 0.0047 - val_acc: 0.8414\n",
            "Epoch 18/50\n",
            "11997/11997 [==============================] - 3s 290us/sample - loss: 0.0047 - acc: 0.8414 - val_loss: 0.0047 - val_acc: 0.8414\n",
            "Epoch 19/50\n",
            "11997/11997 [==============================] - 3s 291us/sample - loss: 0.0047 - acc: 0.8414 - val_loss: 0.0047 - val_acc: 0.8414\n",
            "Epoch 20/50\n",
            "11997/11997 [==============================] - 3s 291us/sample - loss: 0.0047 - acc: 0.8414 - val_loss: 0.0047 - val_acc: 0.8414\n",
            "Epoch 21/50\n",
            "11997/11997 [==============================] - 3s 285us/sample - loss: 0.0047 - acc: 0.8414 - val_loss: 0.0047 - val_acc: 0.8414\n",
            "Epoch 22/50\n",
            "11997/11997 [==============================] - 3s 290us/sample - loss: 0.0047 - acc: 0.8414 - val_loss: 0.0046 - val_acc: 0.8414\n",
            "Epoch 23/50\n",
            "11997/11997 [==============================] - 3s 289us/sample - loss: 0.0047 - acc: 0.8414 - val_loss: 0.0047 - val_acc: 0.8414\n",
            "Epoch 24/50\n",
            "11997/11997 [==============================] - 3s 288us/sample - loss: 0.0047 - acc: 0.8414 - val_loss: 0.0047 - val_acc: 0.8414\n",
            "Epoch 25/50\n",
            "11997/11997 [==============================] - 3s 291us/sample - loss: 0.0047 - acc: 0.8414 - val_loss: 0.0046 - val_acc: 0.8414\n",
            "Epoch 26/50\n",
            "11997/11997 [==============================] - 3s 288us/sample - loss: 0.0047 - acc: 0.8414 - val_loss: 0.0046 - val_acc: 0.8414\n",
            "Epoch 27/50\n",
            "11997/11997 [==============================] - 3s 292us/sample - loss: 0.0047 - acc: 0.8414 - val_loss: 0.0046 - val_acc: 0.8414\n",
            "Epoch 28/50\n",
            "11997/11997 [==============================] - 4s 292us/sample - loss: 0.0047 - acc: 0.8414 - val_loss: 0.0047 - val_acc: 0.8414\n",
            "Epoch 29/50\n",
            "11997/11997 [==============================] - 3s 290us/sample - loss: 0.0047 - acc: 0.8414 - val_loss: 0.0047 - val_acc: 0.8414\n",
            "Epoch 30/50\n",
            "11997/11997 [==============================] - 3s 290us/sample - loss: 0.0047 - acc: 0.8414 - val_loss: 0.0046 - val_acc: 0.8414\n",
            "Epoch 31/50\n",
            "11997/11997 [==============================] - 4s 304us/sample - loss: 0.0046 - acc: 0.8414 - val_loss: 0.0047 - val_acc: 0.8414\n",
            "Epoch 32/50\n",
            "11997/11997 [==============================] - 4s 299us/sample - loss: 0.0046 - acc: 0.8414 - val_loss: 0.0046 - val_acc: 0.8414\n",
            "Epoch 33/50\n",
            "11997/11997 [==============================] - 4s 297us/sample - loss: 0.0047 - acc: 0.8414 - val_loss: 0.0046 - val_acc: 0.8414\n",
            "Epoch 34/50\n",
            "11997/11997 [==============================] - 4s 303us/sample - loss: 0.0047 - acc: 0.8414 - val_loss: 0.0046 - val_acc: 0.8414\n",
            "Epoch 35/50\n",
            "11997/11997 [==============================] - 4s 298us/sample - loss: 0.0047 - acc: 0.8414 - val_loss: 0.0046 - val_acc: 0.8414\n",
            "Epoch 36/50\n",
            "11997/11997 [==============================] - 4s 302us/sample - loss: 0.0046 - acc: 0.8414 - val_loss: 0.0046 - val_acc: 0.8414\n",
            "Epoch 37/50\n",
            "11997/11997 [==============================] - 4s 302us/sample - loss: 0.0046 - acc: 0.8414 - val_loss: 0.0046 - val_acc: 0.8414\n",
            "Epoch 38/50\n",
            "11997/11997 [==============================] - 4s 302us/sample - loss: 0.0046 - acc: 0.8414 - val_loss: 0.0046 - val_acc: 0.8414\n",
            "Epoch 39/50\n",
            "11997/11997 [==============================] - 4s 302us/sample - loss: 0.0047 - acc: 0.8414 - val_loss: 0.0046 - val_acc: 0.8414\n",
            "Epoch 40/50\n",
            "11997/11997 [==============================] - 4s 298us/sample - loss: 0.0046 - acc: 0.8414 - val_loss: 0.0046 - val_acc: 0.8414\n",
            "Epoch 41/50\n",
            "11997/11997 [==============================] - 4s 298us/sample - loss: 0.0046 - acc: 0.8414 - val_loss: 0.0046 - val_acc: 0.8414\n",
            "Epoch 42/50\n",
            "11997/11997 [==============================] - 4s 296us/sample - loss: 0.0046 - acc: 0.8414 - val_loss: 0.0047 - val_acc: 0.8414\n",
            "Epoch 43/50\n",
            "11997/11997 [==============================] - 4s 297us/sample - loss: 0.0046 - acc: 0.8414 - val_loss: 0.0046 - val_acc: 0.8414\n",
            "Epoch 44/50\n",
            "11997/11997 [==============================] - 4s 295us/sample - loss: 0.0046 - acc: 0.8414 - val_loss: 0.0046 - val_acc: 0.8414\n",
            "Epoch 45/50\n",
            "11997/11997 [==============================] - 4s 298us/sample - loss: 0.0046 - acc: 0.8414 - val_loss: 0.0046 - val_acc: 0.8414\n",
            "Epoch 46/50\n",
            "11997/11997 [==============================] - 4s 299us/sample - loss: 0.0046 - acc: 0.8414 - val_loss: 0.0046 - val_acc: 0.8414\n",
            "Epoch 47/50\n",
            "11997/11997 [==============================] - 4s 298us/sample - loss: 0.0046 - acc: 0.8414 - val_loss: 0.0046 - val_acc: 0.8414\n",
            "Epoch 48/50\n",
            "11997/11997 [==============================] - 4s 296us/sample - loss: 0.0046 - acc: 0.8414 - val_loss: 0.0046 - val_acc: 0.8414\n",
            "Epoch 49/50\n",
            "11997/11997 [==============================] - 4s 302us/sample - loss: 0.0046 - acc: 0.8414 - val_loss: 0.0046 - val_acc: 0.8414\n",
            "Epoch 50/50\n",
            "11997/11997 [==============================] - 4s 299us/sample - loss: 0.0046 - acc: 0.8414 - val_loss: 0.0047 - val_acc: 0.8414\n"
          ],
          "name": "stdout"
        },
        {
          "output_type": "execute_result",
          "data": {
            "text/plain": [
              "<tensorflow.python.keras.callbacks.History at 0x7fdf48eac400>"
            ]
          },
          "metadata": {
            "tags": []
          },
          "execution_count": 35
        }
      ]
    },
    {
      "cell_type": "code",
      "metadata": {
        "id": "JEu6KMnhH0z8",
        "colab_type": "code",
        "outputId": "674d213c-f392-4619-f804-264d649bca13",
        "colab": {
          "base_uri": "https://localhost:8080/",
          "height": 50
        }
      },
      "source": [
        "ypred = model.predict(X2)\n",
        "s=pd.DataFrame(ypred)\n",
        "s1=pd.DataFrame(y2)\n",
        "s1.corrwith(s, axis = 0) "
      ],
      "execution_count": 0,
      "outputs": [
        {
          "output_type": "execute_result",
          "data": {
            "text/plain": [
              "0    0.27999\n",
              "dtype: float64"
            ]
          },
          "metadata": {
            "tags": []
          },
          "execution_count": 36
        }
      ]
    },
    {
      "cell_type": "code",
      "metadata": {
        "id": "zh49J42kJF0i",
        "colab_type": "code",
        "outputId": "eb5d7ea0-081d-4345-abbd-7f584fbbdbc9",
        "colab": {
          "base_uri": "https://localhost:8080/",
          "height": 50
        }
      },
      "source": [
        "ypred1=model.predict(X_test2)\n",
        "s=pd.DataFrame(ypred1)\n",
        "s1=pd.DataFrame(y_test2)\n",
        "s1.corrwith(s,axis=0)"
      ],
      "execution_count": 0,
      "outputs": [
        {
          "output_type": "execute_result",
          "data": {
            "text/plain": [
              "0    0.27999\n",
              "dtype: float64"
            ]
          },
          "metadata": {
            "tags": []
          },
          "execution_count": 37
        }
      ]
    },
    {
      "cell_type": "code",
      "metadata": {
        "id": "Xwk6R9otatSo",
        "colab_type": "code",
        "outputId": "c35cfede-7692-4d84-b62a-e9bdcde19d11",
        "colab": {
          "base_uri": "https://localhost:8080/",
          "height": 34
        }
      },
      "source": [
        "mean_absolute_error(y2,ypred)"
      ],
      "execution_count": 0,
      "outputs": [
        {
          "output_type": "execute_result",
          "data": {
            "text/plain": [
              "0.033636748133694126"
            ]
          },
          "metadata": {
            "tags": []
          },
          "execution_count": 38
        }
      ]
    },
    {
      "cell_type": "code",
      "metadata": {
        "id": "DqGICblJaxX-",
        "colab_type": "code",
        "outputId": "ab1b8065-a796-4d9c-f053-9bee7cedfe61",
        "colab": {
          "base_uri": "https://localhost:8080/",
          "height": 34
        }
      },
      "source": [
        "mean_absolute_error(y_test2,ypred1)"
      ],
      "execution_count": 0,
      "outputs": [
        {
          "output_type": "execute_result",
          "data": {
            "text/plain": [
              "0.033636748133694126"
            ]
          },
          "metadata": {
            "tags": []
          },
          "execution_count": 39
        }
      ]
    },
    {
      "cell_type": "code",
      "metadata": {
        "id": "jFG77mOGMjRL",
        "colab_type": "code",
        "outputId": "a9108529-d9a7-48b2-8c58-56e5a253e7f4",
        "colab": {
          "base_uri": "https://localhost:8080/",
          "height": 34
        }
      },
      "source": [
        "r2_score(y2,ypred)"
      ],
      "execution_count": 0,
      "outputs": [
        {
          "output_type": "execute_result",
          "data": {
            "text/plain": [
              "0.0673402759439401"
            ]
          },
          "metadata": {
            "tags": []
          },
          "execution_count": 40
        }
      ]
    },
    {
      "cell_type": "code",
      "metadata": {
        "id": "mOkYZ-wjMj_C",
        "colab_type": "code",
        "outputId": "5b651958-3cd5-4c4e-8495-194495352552",
        "colab": {
          "base_uri": "https://localhost:8080/",
          "height": 34
        }
      },
      "source": [
        "r2_score(y_test2,ypred1)"
      ],
      "execution_count": 0,
      "outputs": [
        {
          "output_type": "execute_result",
          "data": {
            "text/plain": [
              "0.0673402759439401"
            ]
          },
          "metadata": {
            "tags": []
          },
          "execution_count": 41
        }
      ]
    },
    {
      "cell_type": "code",
      "metadata": {
        "id": "VFNvtKzUtMus",
        "colab_type": "code",
        "outputId": "8fc14806-3bfe-40e4-c469-a4947b8b353b",
        "colab": {
          "base_uri": "https://localhost:8080/",
          "height": 1000
        }
      },
      "source": [
        "model.fit(X3, y3, validation_data=(X_test3,y_test3),epochs=50)"
      ],
      "execution_count": 0,
      "outputs": [
        {
          "output_type": "stream",
          "text": [
            "Train on 11997 samples, validate on 11997 samples\n",
            "Epoch 1/50\n",
            "11997/11997 [==============================] - 4s 301us/sample - loss: 0.0032 - acc: 0.8605 - val_loss: 0.0032 - val_acc: 0.8605\n",
            "Epoch 2/50\n",
            "11997/11997 [==============================] - 4s 296us/sample - loss: 0.0032 - acc: 0.8605 - val_loss: 0.0031 - val_acc: 0.8605\n",
            "Epoch 3/50\n",
            "11997/11997 [==============================] - 4s 296us/sample - loss: 0.0032 - acc: 0.8605 - val_loss: 0.0031 - val_acc: 0.8605\n",
            "Epoch 4/50\n",
            "11997/11997 [==============================] - 4s 295us/sample - loss: 0.0032 - acc: 0.8605 - val_loss: 0.0031 - val_acc: 0.8605\n",
            "Epoch 5/50\n",
            "11997/11997 [==============================] - 4s 296us/sample - loss: 0.0032 - acc: 0.8605 - val_loss: 0.0031 - val_acc: 0.8605\n",
            "Epoch 6/50\n",
            "11997/11997 [==============================] - 4s 294us/sample - loss: 0.0031 - acc: 0.8605 - val_loss: 0.0031 - val_acc: 0.8605\n",
            "Epoch 7/50\n",
            "11997/11997 [==============================] - 4s 295us/sample - loss: 0.0032 - acc: 0.8605 - val_loss: 0.0031 - val_acc: 0.8605\n",
            "Epoch 8/50\n",
            "11997/11997 [==============================] - 4s 296us/sample - loss: 0.0032 - acc: 0.8605 - val_loss: 0.0032 - val_acc: 0.8605\n",
            "Epoch 9/50\n",
            "11997/11997 [==============================] - 4s 296us/sample - loss: 0.0032 - acc: 0.8605 - val_loss: 0.0031 - val_acc: 0.8605\n",
            "Epoch 10/50\n",
            "11997/11997 [==============================] - 4s 294us/sample - loss: 0.0032 - acc: 0.8605 - val_loss: 0.0031 - val_acc: 0.8605\n",
            "Epoch 11/50\n",
            "11997/11997 [==============================] - 4s 295us/sample - loss: 0.0031 - acc: 0.8605 - val_loss: 0.0031 - val_acc: 0.8605\n",
            "Epoch 12/50\n",
            "11997/11997 [==============================] - 4s 296us/sample - loss: 0.0031 - acc: 0.8605 - val_loss: 0.0031 - val_acc: 0.8605\n",
            "Epoch 13/50\n",
            "11997/11997 [==============================] - 3s 290us/sample - loss: 0.0031 - acc: 0.8605 - val_loss: 0.0031 - val_acc: 0.8605\n",
            "Epoch 14/50\n",
            "11997/11997 [==============================] - 4s 297us/sample - loss: 0.0031 - acc: 0.8605 - val_loss: 0.0031 - val_acc: 0.8605\n",
            "Epoch 15/50\n",
            "11997/11997 [==============================] - 4s 297us/sample - loss: 0.0031 - acc: 0.8605 - val_loss: 0.0031 - val_acc: 0.8605\n",
            "Epoch 16/50\n",
            "11997/11997 [==============================] - 4s 295us/sample - loss: 0.0031 - acc: 0.8605 - val_loss: 0.0031 - val_acc: 0.8605\n",
            "Epoch 17/50\n",
            "11997/11997 [==============================] - 4s 293us/sample - loss: 0.0031 - acc: 0.8605 - val_loss: 0.0031 - val_acc: 0.8605\n",
            "Epoch 18/50\n",
            "11997/11997 [==============================] - 4s 296us/sample - loss: 0.0031 - acc: 0.8605 - val_loss: 0.0031 - val_acc: 0.8605\n",
            "Epoch 19/50\n",
            "11997/11997 [==============================] - 4s 294us/sample - loss: 0.0031 - acc: 0.8605 - val_loss: 0.0031 - val_acc: 0.8605\n",
            "Epoch 20/50\n",
            "11997/11997 [==============================] - 4s 297us/sample - loss: 0.0031 - acc: 0.8605 - val_loss: 0.0031 - val_acc: 0.8605\n",
            "Epoch 21/50\n",
            "11997/11997 [==============================] - 4s 300us/sample - loss: 0.0031 - acc: 0.8605 - val_loss: 0.0031 - val_acc: 0.8605\n",
            "Epoch 22/50\n",
            "11997/11997 [==============================] - 4s 295us/sample - loss: 0.0031 - acc: 0.8605 - val_loss: 0.0032 - val_acc: 0.8605\n",
            "Epoch 23/50\n",
            "11997/11997 [==============================] - 4s 295us/sample - loss: 0.0031 - acc: 0.8605 - val_loss: 0.0031 - val_acc: 0.8605\n",
            "Epoch 24/50\n",
            "11997/11997 [==============================] - 4s 310us/sample - loss: 0.0031 - acc: 0.8605 - val_loss: 0.0032 - val_acc: 0.8605\n",
            "Epoch 25/50\n",
            "11997/11997 [==============================] - 4s 305us/sample - loss: 0.0031 - acc: 0.8605 - val_loss: 0.0031 - val_acc: 0.8605\n",
            "Epoch 26/50\n",
            "11997/11997 [==============================] - 4s 306us/sample - loss: 0.0031 - acc: 0.8605 - val_loss: 0.0031 - val_acc: 0.8605\n",
            "Epoch 27/50\n",
            "11997/11997 [==============================] - 4s 299us/sample - loss: 0.0031 - acc: 0.8605 - val_loss: 0.0031 - val_acc: 0.8605\n",
            "Epoch 28/50\n",
            "11997/11997 [==============================] - 4s 295us/sample - loss: 0.0031 - acc: 0.8605 - val_loss: 0.0031 - val_acc: 0.8605\n",
            "Epoch 29/50\n",
            "11997/11997 [==============================] - 4s 296us/sample - loss: 0.0031 - acc: 0.8605 - val_loss: 0.0031 - val_acc: 0.8605\n",
            "Epoch 30/50\n",
            "11997/11997 [==============================] - 4s 297us/sample - loss: 0.0031 - acc: 0.8605 - val_loss: 0.0031 - val_acc: 0.8605\n",
            "Epoch 31/50\n",
            "11997/11997 [==============================] - 4s 294us/sample - loss: 0.0031 - acc: 0.8605 - val_loss: 0.0031 - val_acc: 0.8605\n",
            "Epoch 32/50\n",
            "11997/11997 [==============================] - 4s 293us/sample - loss: 0.0031 - acc: 0.8605 - val_loss: 0.0031 - val_acc: 0.8605\n",
            "Epoch 33/50\n",
            "11997/11997 [==============================] - 4s 297us/sample - loss: 0.0031 - acc: 0.8605 - val_loss: 0.0031 - val_acc: 0.8605\n",
            "Epoch 34/50\n",
            "11997/11997 [==============================] - 4s 294us/sample - loss: 0.0031 - acc: 0.8605 - val_loss: 0.0031 - val_acc: 0.8605\n",
            "Epoch 35/50\n",
            "11997/11997 [==============================] - 4s 292us/sample - loss: 0.0031 - acc: 0.8605 - val_loss: 0.0031 - val_acc: 0.8605\n",
            "Epoch 36/50\n",
            "11997/11997 [==============================] - 4s 292us/sample - loss: 0.0031 - acc: 0.8605 - val_loss: 0.0031 - val_acc: 0.8605\n",
            "Epoch 37/50\n",
            "11997/11997 [==============================] - 3s 291us/sample - loss: 0.0031 - acc: 0.8605 - val_loss: 0.0031 - val_acc: 0.8605\n",
            "Epoch 38/50\n",
            "11997/11997 [==============================] - 3s 292us/sample - loss: 0.0031 - acc: 0.8605 - val_loss: 0.0031 - val_acc: 0.8605\n",
            "Epoch 39/50\n",
            "11997/11997 [==============================] - 4s 295us/sample - loss: 0.0031 - acc: 0.8605 - val_loss: 0.0031 - val_acc: 0.8605\n",
            "Epoch 40/50\n",
            "11997/11997 [==============================] - 4s 293us/sample - loss: 0.0031 - acc: 0.8605 - val_loss: 0.0031 - val_acc: 0.8605\n",
            "Epoch 41/50\n",
            "11997/11997 [==============================] - 4s 293us/sample - loss: 0.0031 - acc: 0.8605 - val_loss: 0.0031 - val_acc: 0.8605\n",
            "Epoch 42/50\n",
            "11997/11997 [==============================] - 4s 295us/sample - loss: 0.0031 - acc: 0.8605 - val_loss: 0.0031 - val_acc: 0.8605\n",
            "Epoch 43/50\n",
            "11997/11997 [==============================] - 4s 294us/sample - loss: 0.0031 - acc: 0.8605 - val_loss: 0.0031 - val_acc: 0.8605\n",
            "Epoch 44/50\n",
            "11997/11997 [==============================] - 4s 293us/sample - loss: 0.0031 - acc: 0.8605 - val_loss: 0.0031 - val_acc: 0.8605\n",
            "Epoch 45/50\n",
            "11997/11997 [==============================] - 4s 292us/sample - loss: 0.0031 - acc: 0.8605 - val_loss: 0.0031 - val_acc: 0.8605\n",
            "Epoch 46/50\n",
            "11997/11997 [==============================] - 4s 293us/sample - loss: 0.0031 - acc: 0.8605 - val_loss: 0.0031 - val_acc: 0.8605\n",
            "Epoch 47/50\n",
            "11997/11997 [==============================] - 4s 294us/sample - loss: 0.0031 - acc: 0.8605 - val_loss: 0.0031 - val_acc: 0.8605\n",
            "Epoch 48/50\n",
            "11997/11997 [==============================] - 4s 297us/sample - loss: 0.0031 - acc: 0.8605 - val_loss: 0.0031 - val_acc: 0.8605\n",
            "Epoch 49/50\n",
            "11997/11997 [==============================] - 4s 294us/sample - loss: 0.0031 - acc: 0.8605 - val_loss: 0.0031 - val_acc: 0.8605\n",
            "Epoch 50/50\n",
            "11997/11997 [==============================] - 4s 293us/sample - loss: 0.0031 - acc: 0.8605 - val_loss: 0.0031 - val_acc: 0.8605\n"
          ],
          "name": "stdout"
        },
        {
          "output_type": "execute_result",
          "data": {
            "text/plain": [
              "<tensorflow.python.keras.callbacks.History at 0x7fdf48eaceb8>"
            ]
          },
          "metadata": {
            "tags": []
          },
          "execution_count": 42
        }
      ]
    },
    {
      "cell_type": "code",
      "metadata": {
        "id": "GkOlpfGdH2gZ",
        "colab_type": "code",
        "outputId": "195d50a7-f9b8-4bc9-87cd-56610cc0a99d",
        "colab": {
          "base_uri": "https://localhost:8080/",
          "height": 50
        }
      },
      "source": [
        "ypred = model.predict(X3)\n",
        "s=pd.DataFrame(ypred)\n",
        "s1=pd.DataFrame(y3)\n",
        "s1.corrwith(s, axis = 0) "
      ],
      "execution_count": 0,
      "outputs": [
        {
          "output_type": "execute_result",
          "data": {
            "text/plain": [
              "0    0.29578\n",
              "dtype: float64"
            ]
          },
          "metadata": {
            "tags": []
          },
          "execution_count": 43
        }
      ]
    },
    {
      "cell_type": "code",
      "metadata": {
        "id": "8DCzVU6iJHQ1",
        "colab_type": "code",
        "outputId": "4a2fca26-4341-4b1f-aad2-c253648a3849",
        "colab": {
          "base_uri": "https://localhost:8080/",
          "height": 50
        }
      },
      "source": [
        "ypred1=model.predict(X_test3)\n",
        "s=pd.DataFrame(ypred1)\n",
        "s1=pd.DataFrame(y_test3)\n",
        "s1.corrwith(s,axis=0)"
      ],
      "execution_count": 0,
      "outputs": [
        {
          "output_type": "execute_result",
          "data": {
            "text/plain": [
              "0    0.29578\n",
              "dtype: float64"
            ]
          },
          "metadata": {
            "tags": []
          },
          "execution_count": 44
        }
      ]
    },
    {
      "cell_type": "code",
      "metadata": {
        "id": "FO_LLgNyMcxl",
        "colab_type": "code",
        "outputId": "4a020ec1-02af-4742-a911-711b1a4172f5",
        "colab": {
          "base_uri": "https://localhost:8080/",
          "height": 34
        }
      },
      "source": [
        "r2_score(y3,ypred)"
      ],
      "execution_count": 0,
      "outputs": [
        {
          "output_type": "execute_result",
          "data": {
            "text/plain": [
              "0.0846564392616812"
            ]
          },
          "metadata": {
            "tags": []
          },
          "execution_count": 45
        }
      ]
    },
    {
      "cell_type": "code",
      "metadata": {
        "id": "3Dou4U6tMfBa",
        "colab_type": "code",
        "outputId": "b2215bf4-24d9-4786-b941-0c7e95a95b33",
        "colab": {
          "base_uri": "https://localhost:8080/",
          "height": 34
        }
      },
      "source": [
        "r2_score(y_test3,ypred1)"
      ],
      "execution_count": 0,
      "outputs": [
        {
          "output_type": "execute_result",
          "data": {
            "text/plain": [
              "0.0846564392616812"
            ]
          },
          "metadata": {
            "tags": []
          },
          "execution_count": 46
        }
      ]
    },
    {
      "cell_type": "code",
      "metadata": {
        "id": "vg9UDalba2r6",
        "colab_type": "code",
        "outputId": "602a8536-3a5c-4985-f9c5-9d1e4073af48",
        "colab": {
          "base_uri": "https://localhost:8080/",
          "height": 34
        }
      },
      "source": [
        "mean_absolute_error(y3,ypred)"
      ],
      "execution_count": 0,
      "outputs": [
        {
          "output_type": "execute_result",
          "data": {
            "text/plain": [
              "0.023305358310319425"
            ]
          },
          "metadata": {
            "tags": []
          },
          "execution_count": 47
        }
      ]
    },
    {
      "cell_type": "code",
      "metadata": {
        "id": "PKHNKah8a6y4",
        "colab_type": "code",
        "outputId": "4f7506e3-9f56-4fa6-e529-e89325c3b060",
        "colab": {
          "base_uri": "https://localhost:8080/",
          "height": 34
        }
      },
      "source": [
        "mean_absolute_error(y_test3,ypred1)"
      ],
      "execution_count": 0,
      "outputs": [
        {
          "output_type": "execute_result",
          "data": {
            "text/plain": [
              "0.023305358310319425"
            ]
          },
          "metadata": {
            "tags": []
          },
          "execution_count": 48
        }
      ]
    },
    {
      "cell_type": "code",
      "metadata": {
        "id": "SgByKfhitNMk",
        "colab_type": "code",
        "outputId": "82aef3fe-6cb3-41df-e051-6ec332072d67",
        "colab": {
          "base_uri": "https://localhost:8080/",
          "height": 1000
        }
      },
      "source": [
        "model.fit(X4, y4, validation_data=(X_test4,y_test4),epochs=50)"
      ],
      "execution_count": 0,
      "outputs": [
        {
          "output_type": "stream",
          "text": [
            "Train on 11997 samples, validate on 11997 samples\n",
            "Epoch 1/50\n",
            "11997/11997 [==============================] - 4s 301us/sample - loss: 0.0028 - acc: 0.8360 - val_loss: 0.0027 - val_acc: 0.8360\n",
            "Epoch 2/50\n",
            "11997/11997 [==============================] - 4s 301us/sample - loss: 0.0027 - acc: 0.8360 - val_loss: 0.0027 - val_acc: 0.8360\n",
            "Epoch 3/50\n",
            "11997/11997 [==============================] - 4s 294us/sample - loss: 0.0027 - acc: 0.8360 - val_loss: 0.0027 - val_acc: 0.8360\n",
            "Epoch 4/50\n",
            "11997/11997 [==============================] - 4s 299us/sample - loss: 0.0027 - acc: 0.8360 - val_loss: 0.0027 - val_acc: 0.8360\n",
            "Epoch 5/50\n",
            "11997/11997 [==============================] - 4s 297us/sample - loss: 0.0027 - acc: 0.8360 - val_loss: 0.0027 - val_acc: 0.8360\n",
            "Epoch 6/50\n",
            "11997/11997 [==============================] - 4s 297us/sample - loss: 0.0027 - acc: 0.8360 - val_loss: 0.0027 - val_acc: 0.8360\n",
            "Epoch 7/50\n",
            "11997/11997 [==============================] - 4s 303us/sample - loss: 0.0027 - acc: 0.8360 - val_loss: 0.0027 - val_acc: 0.8360\n",
            "Epoch 8/50\n",
            "11997/11997 [==============================] - 4s 295us/sample - loss: 0.0027 - acc: 0.8360 - val_loss: 0.0027 - val_acc: 0.8360\n",
            "Epoch 9/50\n",
            "11997/11997 [==============================] - 4s 297us/sample - loss: 0.0027 - acc: 0.8360 - val_loss: 0.0027 - val_acc: 0.8360\n",
            "Epoch 10/50\n",
            "11997/11997 [==============================] - 4s 300us/sample - loss: 0.0027 - acc: 0.8360 - val_loss: 0.0027 - val_acc: 0.8360\n",
            "Epoch 11/50\n",
            "11997/11997 [==============================] - 4s 298us/sample - loss: 0.0027 - acc: 0.8360 - val_loss: 0.0027 - val_acc: 0.8360\n",
            "Epoch 12/50\n",
            "11997/11997 [==============================] - 4s 299us/sample - loss: 0.0027 - acc: 0.8360 - val_loss: 0.0027 - val_acc: 0.8360\n",
            "Epoch 13/50\n",
            "11997/11997 [==============================] - 4s 302us/sample - loss: 0.0027 - acc: 0.8360 - val_loss: 0.0026 - val_acc: 0.8360\n",
            "Epoch 14/50\n",
            "11997/11997 [==============================] - 4s 300us/sample - loss: 0.0027 - acc: 0.8360 - val_loss: 0.0027 - val_acc: 0.8360\n",
            "Epoch 15/50\n",
            "11997/11997 [==============================] - 4s 302us/sample - loss: 0.0027 - acc: 0.8360 - val_loss: 0.0026 - val_acc: 0.8360\n",
            "Epoch 16/50\n",
            "11997/11997 [==============================] - 4s 300us/sample - loss: 0.0027 - acc: 0.8360 - val_loss: 0.0026 - val_acc: 0.8360\n",
            "Epoch 17/50\n",
            "11997/11997 [==============================] - 4s 296us/sample - loss: 0.0027 - acc: 0.8360 - val_loss: 0.0026 - val_acc: 0.8360\n",
            "Epoch 18/50\n",
            "11997/11997 [==============================] - 4s 296us/sample - loss: 0.0027 - acc: 0.8360 - val_loss: 0.0026 - val_acc: 0.8360\n",
            "Epoch 19/50\n",
            "11997/11997 [==============================] - 4s 297us/sample - loss: 0.0027 - acc: 0.8360 - val_loss: 0.0026 - val_acc: 0.8360\n",
            "Epoch 20/50\n",
            "11997/11997 [==============================] - 3s 291us/sample - loss: 0.0027 - acc: 0.8360 - val_loss: 0.0026 - val_acc: 0.8360\n",
            "Epoch 21/50\n",
            "11997/11997 [==============================] - 4s 297us/sample - loss: 0.0027 - acc: 0.8360 - val_loss: 0.0026 - val_acc: 0.8360\n",
            "Epoch 22/50\n",
            "11997/11997 [==============================] - 4s 292us/sample - loss: 0.0026 - acc: 0.8360 - val_loss: 0.0026 - val_acc: 0.8360\n",
            "Epoch 23/50\n",
            "11997/11997 [==============================] - 4s 293us/sample - loss: 0.0027 - acc: 0.8360 - val_loss: 0.0026 - val_acc: 0.8360\n",
            "Epoch 24/50\n",
            "11997/11997 [==============================] - 4s 302us/sample - loss: 0.0027 - acc: 0.8360 - val_loss: 0.0026 - val_acc: 0.8360\n",
            "Epoch 25/50\n",
            "11997/11997 [==============================] - 4s 305us/sample - loss: 0.0026 - acc: 0.8360 - val_loss: 0.0026 - val_acc: 0.8360\n",
            "Epoch 26/50\n",
            "11997/11997 [==============================] - 4s 300us/sample - loss: 0.0026 - acc: 0.8360 - val_loss: 0.0026 - val_acc: 0.8360\n",
            "Epoch 27/50\n",
            "11997/11997 [==============================] - 4s 300us/sample - loss: 0.0026 - acc: 0.8360 - val_loss: 0.0026 - val_acc: 0.8360\n",
            "Epoch 28/50\n",
            "11997/11997 [==============================] - 4s 309us/sample - loss: 0.0026 - acc: 0.8360 - val_loss: 0.0026 - val_acc: 0.8360\n",
            "Epoch 29/50\n",
            "11997/11997 [==============================] - 4s 302us/sample - loss: 0.0026 - acc: 0.8360 - val_loss: 0.0026 - val_acc: 0.8360\n",
            "Epoch 30/50\n",
            "11997/11997 [==============================] - 4s 304us/sample - loss: 0.0026 - acc: 0.8360 - val_loss: 0.0026 - val_acc: 0.8360\n",
            "Epoch 31/50\n",
            "11997/11997 [==============================] - 4s 298us/sample - loss: 0.0026 - acc: 0.8360 - val_loss: 0.0027 - val_acc: 0.8360\n",
            "Epoch 32/50\n",
            "11997/11997 [==============================] - 4s 304us/sample - loss: 0.0026 - acc: 0.8360 - val_loss: 0.0027 - val_acc: 0.8360\n",
            "Epoch 33/50\n",
            "11997/11997 [==============================] - 4s 304us/sample - loss: 0.0026 - acc: 0.8360 - val_loss: 0.0026 - val_acc: 0.8360\n",
            "Epoch 34/50\n",
            "11997/11997 [==============================] - 4s 307us/sample - loss: 0.0026 - acc: 0.8360 - val_loss: 0.0026 - val_acc: 0.8360\n",
            "Epoch 35/50\n",
            "11997/11997 [==============================] - 4s 302us/sample - loss: 0.0026 - acc: 0.8360 - val_loss: 0.0027 - val_acc: 0.8360\n",
            "Epoch 36/50\n",
            "11997/11997 [==============================] - 4s 301us/sample - loss: 0.0026 - acc: 0.8360 - val_loss: 0.0026 - val_acc: 0.8360\n",
            "Epoch 37/50\n",
            "11997/11997 [==============================] - 4s 300us/sample - loss: 0.0026 - acc: 0.8360 - val_loss: 0.0026 - val_acc: 0.8360\n",
            "Epoch 38/50\n",
            "11997/11997 [==============================] - 4s 300us/sample - loss: 0.0026 - acc: 0.8360 - val_loss: 0.0026 - val_acc: 0.8360\n",
            "Epoch 39/50\n",
            "11997/11997 [==============================] - 4s 300us/sample - loss: 0.0026 - acc: 0.8360 - val_loss: 0.0026 - val_acc: 0.8360\n",
            "Epoch 40/50\n",
            "11997/11997 [==============================] - 4s 304us/sample - loss: 0.0026 - acc: 0.8360 - val_loss: 0.0026 - val_acc: 0.8360\n",
            "Epoch 41/50\n",
            "11997/11997 [==============================] - 4s 298us/sample - loss: 0.0026 - acc: 0.8360 - val_loss: 0.0026 - val_acc: 0.8360\n",
            "Epoch 42/50\n",
            "11997/11997 [==============================] - 4s 298us/sample - loss: 0.0026 - acc: 0.8360 - val_loss: 0.0026 - val_acc: 0.8360\n",
            "Epoch 43/50\n",
            "11997/11997 [==============================] - 4s 303us/sample - loss: 0.0026 - acc: 0.8360 - val_loss: 0.0026 - val_acc: 0.8360\n",
            "Epoch 44/50\n",
            "11997/11997 [==============================] - 4s 298us/sample - loss: 0.0027 - acc: 0.8360 - val_loss: 0.0026 - val_acc: 0.8360\n",
            "Epoch 45/50\n",
            "11997/11997 [==============================] - 4s 300us/sample - loss: 0.0026 - acc: 0.8360 - val_loss: 0.0026 - val_acc: 0.8360\n",
            "Epoch 46/50\n",
            "11997/11997 [==============================] - 4s 301us/sample - loss: 0.0026 - acc: 0.8360 - val_loss: 0.0026 - val_acc: 0.8360\n",
            "Epoch 47/50\n",
            "11997/11997 [==============================] - 4s 299us/sample - loss: 0.0026 - acc: 0.8360 - val_loss: 0.0026 - val_acc: 0.8360\n",
            "Epoch 48/50\n",
            "11997/11997 [==============================] - 4s 304us/sample - loss: 0.0026 - acc: 0.8360 - val_loss: 0.0026 - val_acc: 0.8360\n",
            "Epoch 49/50\n",
            "11997/11997 [==============================] - 4s 302us/sample - loss: 0.0026 - acc: 0.8360 - val_loss: 0.0026 - val_acc: 0.8360\n",
            "Epoch 50/50\n",
            "11997/11997 [==============================] - 4s 306us/sample - loss: 0.0026 - acc: 0.8360 - val_loss: 0.0026 - val_acc: 0.8360\n"
          ],
          "name": "stdout"
        },
        {
          "output_type": "execute_result",
          "data": {
            "text/plain": [
              "<tensorflow.python.keras.callbacks.History at 0x7fdf48eef438>"
            ]
          },
          "metadata": {
            "tags": []
          },
          "execution_count": 49
        }
      ]
    },
    {
      "cell_type": "code",
      "metadata": {
        "id": "BsI-w74FH36K",
        "colab_type": "code",
        "outputId": "21fb6f41-ed3a-41f7-f54b-438fd5588449",
        "colab": {
          "base_uri": "https://localhost:8080/",
          "height": 50
        }
      },
      "source": [
        "ypred = model.predict(X4)\n",
        "s=pd.DataFrame(ypred)\n",
        "s1=pd.DataFrame(y4)\n",
        "s1.corrwith(s, axis = 0) "
      ],
      "execution_count": 0,
      "outputs": [
        {
          "output_type": "execute_result",
          "data": {
            "text/plain": [
              "0    0.360261\n",
              "dtype: float64"
            ]
          },
          "metadata": {
            "tags": []
          },
          "execution_count": 50
        }
      ]
    },
    {
      "cell_type": "code",
      "metadata": {
        "id": "BppViBEjJI1p",
        "colab_type": "code",
        "outputId": "bf47662b-4e63-4dbc-c512-cd8e7ee94a5b",
        "colab": {
          "base_uri": "https://localhost:8080/",
          "height": 50
        }
      },
      "source": [
        "ypred1=model.predict(X_test4)\n",
        "s=pd.DataFrame(ypred1)\n",
        "s1=pd.DataFrame(y_test4)\n",
        "s1.corrwith(s,axis=0)"
      ],
      "execution_count": 0,
      "outputs": [
        {
          "output_type": "execute_result",
          "data": {
            "text/plain": [
              "0    0.360261\n",
              "dtype: float64"
            ]
          },
          "metadata": {
            "tags": []
          },
          "execution_count": 51
        }
      ]
    },
    {
      "cell_type": "code",
      "metadata": {
        "id": "wd6c1LKXa_r6",
        "colab_type": "code",
        "outputId": "63421633-0c0d-40ce-f148-50a388fe8353",
        "colab": {
          "base_uri": "https://localhost:8080/",
          "height": 34
        }
      },
      "source": [
        "mean_absolute_error(y4,ypred)"
      ],
      "execution_count": 0,
      "outputs": [
        {
          "output_type": "execute_result",
          "data": {
            "text/plain": [
              "0.021706402635881084"
            ]
          },
          "metadata": {
            "tags": []
          },
          "execution_count": 52
        }
      ]
    },
    {
      "cell_type": "code",
      "metadata": {
        "id": "aYBttiDKbDd4",
        "colab_type": "code",
        "outputId": "ca8d1173-056a-40e6-85a5-69d23ea44538",
        "colab": {
          "base_uri": "https://localhost:8080/",
          "height": 34
        }
      },
      "source": [
        "mean_absolute_error(y_test4,ypred1)"
      ],
      "execution_count": 0,
      "outputs": [
        {
          "output_type": "execute_result",
          "data": {
            "text/plain": [
              "0.021706402635881084"
            ]
          },
          "metadata": {
            "tags": []
          },
          "execution_count": 53
        }
      ]
    },
    {
      "cell_type": "code",
      "metadata": {
        "id": "o7U3xQIlMU7j",
        "colab_type": "code",
        "outputId": "ffa151ac-5b4f-4772-8669-6a3cb38468e9",
        "colab": {
          "base_uri": "https://localhost:8080/",
          "height": 34
        }
      },
      "source": [
        "r2_score(y4,ypred)"
      ],
      "execution_count": 0,
      "outputs": [
        {
          "output_type": "execute_result",
          "data": {
            "text/plain": [
              "0.12928978167412963"
            ]
          },
          "metadata": {
            "tags": []
          },
          "execution_count": 54
        }
      ]
    },
    {
      "cell_type": "code",
      "metadata": {
        "id": "te0hYyPUMXwG",
        "colab_type": "code",
        "outputId": "5909d438-479d-4707-a1a6-2229eb074cb3",
        "colab": {
          "base_uri": "https://localhost:8080/",
          "height": 34
        }
      },
      "source": [
        "r2_score(y_test4,ypred1)"
      ],
      "execution_count": 0,
      "outputs": [
        {
          "output_type": "execute_result",
          "data": {
            "text/plain": [
              "0.12928978167412963"
            ]
          },
          "metadata": {
            "tags": []
          },
          "execution_count": 55
        }
      ]
    },
    {
      "cell_type": "code",
      "metadata": {
        "id": "Pwz3PEtJtNcq",
        "colab_type": "code",
        "outputId": "168e685a-1e56-4d58-8597-2a058375c013",
        "colab": {
          "base_uri": "https://localhost:8080/",
          "height": 1000
        }
      },
      "source": [
        "model.fit(X5, y5, validation_data=(X_test5,y_test5),epochs=50)"
      ],
      "execution_count": 0,
      "outputs": [
        {
          "output_type": "stream",
          "text": [
            "Train on 11997 samples, validate on 11997 samples\n",
            "Epoch 1/50\n",
            "11997/11997 [==============================] - 4s 307us/sample - loss: 0.0020 - acc: 0.8467 - val_loss: 0.0018 - val_acc: 0.8467\n",
            "Epoch 2/50\n",
            "11997/11997 [==============================] - 4s 295us/sample - loss: 0.0018 - acc: 0.8467 - val_loss: 0.0018 - val_acc: 0.8467\n",
            "Epoch 3/50\n",
            "11997/11997 [==============================] - 4s 303us/sample - loss: 0.0018 - acc: 0.8467 - val_loss: 0.0017 - val_acc: 0.8467\n",
            "Epoch 4/50\n",
            "11997/11997 [==============================] - 4s 299us/sample - loss: 0.0018 - acc: 0.8467 - val_loss: 0.0017 - val_acc: 0.8467\n",
            "Epoch 5/50\n",
            "11997/11997 [==============================] - 4s 299us/sample - loss: 0.0018 - acc: 0.8467 - val_loss: 0.0018 - val_acc: 0.8467\n",
            "Epoch 6/50\n",
            "11997/11997 [==============================] - 4s 298us/sample - loss: 0.0017 - acc: 0.8467 - val_loss: 0.0017 - val_acc: 0.8467\n",
            "Epoch 7/50\n",
            "11997/11997 [==============================] - 4s 298us/sample - loss: 0.0018 - acc: 0.8467 - val_loss: 0.0017 - val_acc: 0.8467\n",
            "Epoch 8/50\n",
            "11997/11997 [==============================] - 4s 305us/sample - loss: 0.0018 - acc: 0.8467 - val_loss: 0.0017 - val_acc: 0.8467\n",
            "Epoch 9/50\n",
            "11997/11997 [==============================] - 4s 296us/sample - loss: 0.0017 - acc: 0.8467 - val_loss: 0.0017 - val_acc: 0.8467\n",
            "Epoch 10/50\n",
            "11997/11997 [==============================] - 4s 312us/sample - loss: 0.0017 - acc: 0.8467 - val_loss: 0.0017 - val_acc: 0.8467\n",
            "Epoch 11/50\n",
            "11997/11997 [==============================] - 4s 315us/sample - loss: 0.0017 - acc: 0.8467 - val_loss: 0.0017 - val_acc: 0.8467\n",
            "Epoch 12/50\n",
            "11997/11997 [==============================] - 4s 308us/sample - loss: 0.0017 - acc: 0.8467 - val_loss: 0.0017 - val_acc: 0.8467\n",
            "Epoch 13/50\n",
            "11997/11997 [==============================] - 4s 296us/sample - loss: 0.0017 - acc: 0.8467 - val_loss: 0.0017 - val_acc: 0.8467\n",
            "Epoch 14/50\n",
            "11997/11997 [==============================] - 4s 297us/sample - loss: 0.0017 - acc: 0.8467 - val_loss: 0.0017 - val_acc: 0.8467\n",
            "Epoch 15/50\n",
            "11997/11997 [==============================] - 4s 296us/sample - loss: 0.0017 - acc: 0.8467 - val_loss: 0.0017 - val_acc: 0.8467\n",
            "Epoch 16/50\n",
            "11997/11997 [==============================] - 4s 300us/sample - loss: 0.0017 - acc: 0.8467 - val_loss: 0.0017 - val_acc: 0.8467\n",
            "Epoch 17/50\n",
            "11997/11997 [==============================] - 4s 297us/sample - loss: 0.0017 - acc: 0.8467 - val_loss: 0.0017 - val_acc: 0.8467\n",
            "Epoch 18/50\n",
            "11997/11997 [==============================] - 4s 296us/sample - loss: 0.0017 - acc: 0.8467 - val_loss: 0.0017 - val_acc: 0.8467\n",
            "Epoch 19/50\n",
            "11997/11997 [==============================] - 4s 295us/sample - loss: 0.0017 - acc: 0.8467 - val_loss: 0.0017 - val_acc: 0.8467\n",
            "Epoch 20/50\n",
            "11997/11997 [==============================] - 4s 295us/sample - loss: 0.0017 - acc: 0.8467 - val_loss: 0.0017 - val_acc: 0.8467\n",
            "Epoch 21/50\n",
            "11997/11997 [==============================] - 4s 299us/sample - loss: 0.0017 - acc: 0.8467 - val_loss: 0.0017 - val_acc: 0.8467\n",
            "Epoch 22/50\n",
            "11997/11997 [==============================] - 4s 301us/sample - loss: 0.0017 - acc: 0.8467 - val_loss: 0.0017 - val_acc: 0.8467\n",
            "Epoch 23/50\n",
            "11997/11997 [==============================] - 4s 297us/sample - loss: 0.0017 - acc: 0.8467 - val_loss: 0.0017 - val_acc: 0.8467\n",
            "Epoch 24/50\n",
            "11997/11997 [==============================] - 4s 298us/sample - loss: 0.0017 - acc: 0.8467 - val_loss: 0.0017 - val_acc: 0.8467\n",
            "Epoch 25/50\n",
            "11997/11997 [==============================] - 4s 302us/sample - loss: 0.0017 - acc: 0.8467 - val_loss: 0.0017 - val_acc: 0.8467\n",
            "Epoch 26/50\n",
            "11997/11997 [==============================] - 4s 298us/sample - loss: 0.0017 - acc: 0.8467 - val_loss: 0.0017 - val_acc: 0.8467\n",
            "Epoch 27/50\n",
            "11997/11997 [==============================] - 4s 298us/sample - loss: 0.0017 - acc: 0.8467 - val_loss: 0.0017 - val_acc: 0.8467\n",
            "Epoch 28/50\n",
            "11997/11997 [==============================] - 4s 300us/sample - loss: 0.0017 - acc: 0.8467 - val_loss: 0.0017 - val_acc: 0.8467\n",
            "Epoch 29/50\n",
            "11997/11997 [==============================] - 4s 300us/sample - loss: 0.0017 - acc: 0.8467 - val_loss: 0.0017 - val_acc: 0.8467\n",
            "Epoch 30/50\n",
            "11997/11997 [==============================] - 4s 293us/sample - loss: 0.0017 - acc: 0.8467 - val_loss: 0.0017 - val_acc: 0.8467\n",
            "Epoch 31/50\n",
            "11997/11997 [==============================] - 4s 298us/sample - loss: 0.0017 - acc: 0.8467 - val_loss: 0.0017 - val_acc: 0.8467\n",
            "Epoch 32/50\n",
            "11997/11997 [==============================] - 4s 297us/sample - loss: 0.0017 - acc: 0.8467 - val_loss: 0.0017 - val_acc: 0.8467\n",
            "Epoch 33/50\n",
            "11997/11997 [==============================] - 4s 294us/sample - loss: 0.0017 - acc: 0.8467 - val_loss: 0.0017 - val_acc: 0.8467\n",
            "Epoch 34/50\n",
            "11997/11997 [==============================] - 4s 295us/sample - loss: 0.0017 - acc: 0.8467 - val_loss: 0.0017 - val_acc: 0.8467\n",
            "Epoch 35/50\n",
            "11997/11997 [==============================] - 4s 296us/sample - loss: 0.0017 - acc: 0.8467 - val_loss: 0.0017 - val_acc: 0.8467\n",
            "Epoch 36/50\n",
            "11997/11997 [==============================] - 4s 299us/sample - loss: 0.0017 - acc: 0.8467 - val_loss: 0.0017 - val_acc: 0.8467\n",
            "Epoch 37/50\n",
            "11997/11997 [==============================] - 4s 303us/sample - loss: 0.0017 - acc: 0.8467 - val_loss: 0.0017 - val_acc: 0.8467\n",
            "Epoch 38/50\n",
            "11997/11997 [==============================] - 4s 296us/sample - loss: 0.0017 - acc: 0.8467 - val_loss: 0.0017 - val_acc: 0.8467\n",
            "Epoch 39/50\n",
            "11997/11997 [==============================] - 3s 290us/sample - loss: 0.0017 - acc: 0.8467 - val_loss: 0.0017 - val_acc: 0.8467\n",
            "Epoch 40/50\n",
            "11997/11997 [==============================] - 4s 294us/sample - loss: 0.0017 - acc: 0.8467 - val_loss: 0.0017 - val_acc: 0.8467\n",
            "Epoch 41/50\n",
            "11997/11997 [==============================] - 4s 298us/sample - loss: 0.0017 - acc: 0.8467 - val_loss: 0.0017 - val_acc: 0.8467\n",
            "Epoch 42/50\n",
            "11997/11997 [==============================] - 4s 292us/sample - loss: 0.0017 - acc: 0.8467 - val_loss: 0.0017 - val_acc: 0.8467\n",
            "Epoch 43/50\n",
            "11997/11997 [==============================] - 4s 294us/sample - loss: 0.0017 - acc: 0.8467 - val_loss: 0.0017 - val_acc: 0.8467\n",
            "Epoch 44/50\n",
            "11997/11997 [==============================] - 4s 294us/sample - loss: 0.0017 - acc: 0.8467 - val_loss: 0.0017 - val_acc: 0.8467\n",
            "Epoch 45/50\n",
            "11997/11997 [==============================] - 4s 294us/sample - loss: 0.0017 - acc: 0.8467 - val_loss: 0.0017 - val_acc: 0.8467\n",
            "Epoch 46/50\n",
            "11997/11997 [==============================] - 4s 298us/sample - loss: 0.0017 - acc: 0.8467 - val_loss: 0.0017 - val_acc: 0.8467\n",
            "Epoch 47/50\n",
            "11997/11997 [==============================] - 4s 296us/sample - loss: 0.0017 - acc: 0.8467 - val_loss: 0.0017 - val_acc: 0.8467\n",
            "Epoch 48/50\n",
            "11997/11997 [==============================] - 4s 296us/sample - loss: 0.0017 - acc: 0.8467 - val_loss: 0.0017 - val_acc: 0.8467\n",
            "Epoch 49/50\n",
            "11997/11997 [==============================] - 4s 294us/sample - loss: 0.0017 - acc: 0.8467 - val_loss: 0.0017 - val_acc: 0.8467\n",
            "Epoch 50/50\n",
            "11997/11997 [==============================] - 4s 295us/sample - loss: 0.0017 - acc: 0.8467 - val_loss: 0.0017 - val_acc: 0.8467\n"
          ],
          "name": "stdout"
        },
        {
          "output_type": "execute_result",
          "data": {
            "text/plain": [
              "<tensorflow.python.keras.callbacks.History at 0x7fdf48eefd68>"
            ]
          },
          "metadata": {
            "tags": []
          },
          "execution_count": 56
        }
      ]
    },
    {
      "cell_type": "code",
      "metadata": {
        "id": "jK30TTmsH5Xa",
        "colab_type": "code",
        "outputId": "50468d9d-ac73-425a-bdd4-7e17c9540010",
        "colab": {
          "base_uri": "https://localhost:8080/",
          "height": 50
        }
      },
      "source": [
        "ypred = model.predict(X5)\n",
        "s=pd.DataFrame(ypred)\n",
        "s1=pd.DataFrame(y5)\n",
        "s1.corrwith(s, axis = 0) "
      ],
      "execution_count": 0,
      "outputs": [
        {
          "output_type": "execute_result",
          "data": {
            "text/plain": [
              "0    0.279027\n",
              "dtype: float64"
            ]
          },
          "metadata": {
            "tags": []
          },
          "execution_count": 57
        }
      ]
    },
    {
      "cell_type": "code",
      "metadata": {
        "id": "ELbd5s3jML2y",
        "colab_type": "code",
        "outputId": "8db9cfb9-fee9-4baa-c0d2-1d48b96396f4",
        "colab": {
          "base_uri": "https://localhost:8080/",
          "height": 34
        }
      },
      "source": [
        "r2_score(y5,ypred)"
      ],
      "execution_count": 0,
      "outputs": [
        {
          "output_type": "execute_result",
          "data": {
            "text/plain": [
              "0.07384327041382832"
            ]
          },
          "metadata": {
            "tags": []
          },
          "execution_count": 58
        }
      ]
    },
    {
      "cell_type": "code",
      "metadata": {
        "id": "ixBEfQXVJKU4",
        "colab_type": "code",
        "outputId": "e2dd0512-afe4-4f66-b288-038a7fb75c9f",
        "colab": {
          "base_uri": "https://localhost:8080/",
          "height": 50
        }
      },
      "source": [
        "ypred1=model.predict(X_test5)\n",
        "s=pd.DataFrame(ypred1)\n",
        "s1=pd.DataFrame(y_test5)\n",
        "s1.corrwith(s,axis=0)"
      ],
      "execution_count": 0,
      "outputs": [
        {
          "output_type": "execute_result",
          "data": {
            "text/plain": [
              "0    0.279027\n",
              "dtype: float64"
            ]
          },
          "metadata": {
            "tags": []
          },
          "execution_count": 59
        }
      ]
    },
    {
      "cell_type": "code",
      "metadata": {
        "id": "KDE8ckrObIuQ",
        "colab_type": "code",
        "outputId": "bf3e1b7d-2172-408c-8afe-d8d02aa16c5d",
        "colab": {
          "base_uri": "https://localhost:8080/",
          "height": 34
        }
      },
      "source": [
        "mean_absolute_error(y5,ypred)"
      ],
      "execution_count": 0,
      "outputs": [
        {
          "output_type": "execute_result",
          "data": {
            "text/plain": [
              "0.014794669381409668"
            ]
          },
          "metadata": {
            "tags": []
          },
          "execution_count": 60
        }
      ]
    },
    {
      "cell_type": "code",
      "metadata": {
        "id": "PcrMGkNXbMX4",
        "colab_type": "code",
        "outputId": "65f01159-bdb8-4e53-fc2a-35015a765f3c",
        "colab": {
          "base_uri": "https://localhost:8080/",
          "height": 34
        }
      },
      "source": [
        "mean_absolute_error(y_test5,ypred1)"
      ],
      "execution_count": 0,
      "outputs": [
        {
          "output_type": "execute_result",
          "data": {
            "text/plain": [
              "0.014794669381409668"
            ]
          },
          "metadata": {
            "tags": []
          },
          "execution_count": 61
        }
      ]
    },
    {
      "cell_type": "code",
      "metadata": {
        "id": "70Aaq_luMOxY",
        "colab_type": "code",
        "outputId": "038a24f7-d920-4b90-8f6a-9e35e719aced",
        "colab": {
          "base_uri": "https://localhost:8080/",
          "height": 34
        }
      },
      "source": [
        "r2_score(y_test5,ypred1)"
      ],
      "execution_count": 0,
      "outputs": [
        {
          "output_type": "execute_result",
          "data": {
            "text/plain": [
              "0.07384327041382832"
            ]
          },
          "metadata": {
            "tags": []
          },
          "execution_count": 62
        }
      ]
    },
    {
      "cell_type": "code",
      "metadata": {
        "id": "mJL5gGhXtNqT",
        "colab_type": "code",
        "outputId": "81f385f4-412e-47e8-c467-5a5ded970e4a",
        "colab": {
          "base_uri": "https://localhost:8080/",
          "height": 1000
        }
      },
      "source": [
        "model.fit(X6, y6, validation_data=(X_test6,y_test6),epochs=50)"
      ],
      "execution_count": 0,
      "outputs": [
        {
          "output_type": "stream",
          "text": [
            "Train on 11997 samples, validate on 11997 samples\n",
            "Epoch 1/50\n",
            "11997/11997 [==============================] - 4s 297us/sample - loss: 0.0031 - acc: 0.8141 - val_loss: 0.0031 - val_acc: 0.8141\n",
            "Epoch 2/50\n",
            "11997/11997 [==============================] - 4s 298us/sample - loss: 0.0031 - acc: 0.8141 - val_loss: 0.0030 - val_acc: 0.8141\n",
            "Epoch 3/50\n",
            "11997/11997 [==============================] - 3s 290us/sample - loss: 0.0031 - acc: 0.8141 - val_loss: 0.0030 - val_acc: 0.8141\n",
            "Epoch 4/50\n",
            "11997/11997 [==============================] - 4s 296us/sample - loss: 0.0030 - acc: 0.8141 - val_loss: 0.0030 - val_acc: 0.8141\n",
            "Epoch 5/50\n",
            "11997/11997 [==============================] - 4s 303us/sample - loss: 0.0030 - acc: 0.8141 - val_loss: 0.0030 - val_acc: 0.8141\n",
            "Epoch 6/50\n",
            "11997/11997 [==============================] - 4s 293us/sample - loss: 0.0030 - acc: 0.8141 - val_loss: 0.0030 - val_acc: 0.8141\n",
            "Epoch 7/50\n",
            "11997/11997 [==============================] - 4s 294us/sample - loss: 0.0030 - acc: 0.8141 - val_loss: 0.0030 - val_acc: 0.8141\n",
            "Epoch 8/50\n",
            "11997/11997 [==============================] - 4s 296us/sample - loss: 0.0030 - acc: 0.8141 - val_loss: 0.0030 - val_acc: 0.8141\n",
            "Epoch 9/50\n",
            "11997/11997 [==============================] - 4s 301us/sample - loss: 0.0030 - acc: 0.8141 - val_loss: 0.0030 - val_acc: 0.8141\n",
            "Epoch 10/50\n",
            "11997/11997 [==============================] - 4s 294us/sample - loss: 0.0030 - acc: 0.8141 - val_loss: 0.0030 - val_acc: 0.8141\n",
            "Epoch 11/50\n",
            "11997/11997 [==============================] - 3s 286us/sample - loss: 0.0030 - acc: 0.8141 - val_loss: 0.0030 - val_acc: 0.8141\n",
            "Epoch 12/50\n",
            "11997/11997 [==============================] - 3s 288us/sample - loss: 0.0030 - acc: 0.8141 - val_loss: 0.0030 - val_acc: 0.8141\n",
            "Epoch 13/50\n",
            "11997/11997 [==============================] - 3s 291us/sample - loss: 0.0030 - acc: 0.8141 - val_loss: 0.0030 - val_acc: 0.8141\n",
            "Epoch 14/50\n",
            "11997/11997 [==============================] - 4s 296us/sample - loss: 0.0030 - acc: 0.8141 - val_loss: 0.0030 - val_acc: 0.8141\n",
            "Epoch 15/50\n",
            "11997/11997 [==============================] - 4s 301us/sample - loss: 0.0030 - acc: 0.8141 - val_loss: 0.0030 - val_acc: 0.8141\n",
            "Epoch 16/50\n",
            "11997/11997 [==============================] - 4s 298us/sample - loss: 0.0030 - acc: 0.8141 - val_loss: 0.0030 - val_acc: 0.8141\n",
            "Epoch 17/50\n",
            "11997/11997 [==============================] - 4s 294us/sample - loss: 0.0030 - acc: 0.8141 - val_loss: 0.0030 - val_acc: 0.8141\n",
            "Epoch 18/50\n",
            "11997/11997 [==============================] - 4s 298us/sample - loss: 0.0030 - acc: 0.8141 - val_loss: 0.0030 - val_acc: 0.8141\n",
            "Epoch 19/50\n",
            "11997/11997 [==============================] - 4s 294us/sample - loss: 0.0030 - acc: 0.8141 - val_loss: 0.0030 - val_acc: 0.8141\n",
            "Epoch 20/50\n",
            "11997/11997 [==============================] - 3s 291us/sample - loss: 0.0030 - acc: 0.8141 - val_loss: 0.0030 - val_acc: 0.8141\n",
            "Epoch 21/50\n",
            "11997/11997 [==============================] - 4s 297us/sample - loss: 0.0030 - acc: 0.8141 - val_loss: 0.0030 - val_acc: 0.8141\n",
            "Epoch 22/50\n",
            "11997/11997 [==============================] - 4s 298us/sample - loss: 0.0030 - acc: 0.8141 - val_loss: 0.0030 - val_acc: 0.8141\n",
            "Epoch 23/50\n",
            "11997/11997 [==============================] - 4s 295us/sample - loss: 0.0030 - acc: 0.8141 - val_loss: 0.0030 - val_acc: 0.8141\n",
            "Epoch 24/50\n",
            "11997/11997 [==============================] - 4s 298us/sample - loss: 0.0030 - acc: 0.8141 - val_loss: 0.0030 - val_acc: 0.8141\n",
            "Epoch 25/50\n",
            "11997/11997 [==============================] - 4s 295us/sample - loss: 0.0030 - acc: 0.8141 - val_loss: 0.0030 - val_acc: 0.8141\n",
            "Epoch 26/50\n",
            "11997/11997 [==============================] - 3s 291us/sample - loss: 0.0030 - acc: 0.8141 - val_loss: 0.0030 - val_acc: 0.8141\n",
            "Epoch 27/50\n",
            "11997/11997 [==============================] - 4s 298us/sample - loss: 0.0030 - acc: 0.8141 - val_loss: 0.0030 - val_acc: 0.8141\n",
            "Epoch 28/50\n",
            "11997/11997 [==============================] - 4s 294us/sample - loss: 0.0030 - acc: 0.8141 - val_loss: 0.0030 - val_acc: 0.8141\n",
            "Epoch 29/50\n",
            "11997/11997 [==============================] - 4s 294us/sample - loss: 0.0030 - acc: 0.8141 - val_loss: 0.0030 - val_acc: 0.8141\n",
            "Epoch 30/50\n",
            "11997/11997 [==============================] - 4s 297us/sample - loss: 0.0030 - acc: 0.8141 - val_loss: 0.0030 - val_acc: 0.8141\n",
            "Epoch 31/50\n",
            "11997/11997 [==============================] - 4s 295us/sample - loss: 0.0030 - acc: 0.8141 - val_loss: 0.0030 - val_acc: 0.8141\n",
            "Epoch 32/50\n",
            "11997/11997 [==============================] - 4s 297us/sample - loss: 0.0030 - acc: 0.8141 - val_loss: 0.0030 - val_acc: 0.8141\n",
            "Epoch 33/50\n",
            "11997/11997 [==============================] - 4s 300us/sample - loss: 0.0030 - acc: 0.8141 - val_loss: 0.0030 - val_acc: 0.8141\n",
            "Epoch 34/50\n",
            "11997/11997 [==============================] - 4s 294us/sample - loss: 0.0030 - acc: 0.8141 - val_loss: 0.0029 - val_acc: 0.8141\n",
            "Epoch 35/50\n",
            "11997/11997 [==============================] - 3s 290us/sample - loss: 0.0030 - acc: 0.8141 - val_loss: 0.0029 - val_acc: 0.8141\n",
            "Epoch 36/50\n",
            "11997/11997 [==============================] - 3s 282us/sample - loss: 0.0030 - acc: 0.8141 - val_loss: 0.0029 - val_acc: 0.8141\n",
            "Epoch 37/50\n",
            "11997/11997 [==============================] - 3s 282us/sample - loss: 0.0030 - acc: 0.8141 - val_loss: 0.0030 - val_acc: 0.8141\n",
            "Epoch 38/50\n",
            "11997/11997 [==============================] - 3s 284us/sample - loss: 0.0030 - acc: 0.8141 - val_loss: 0.0030 - val_acc: 0.8141\n",
            "Epoch 39/50\n",
            "11997/11997 [==============================] - 3s 285us/sample - loss: 0.0030 - acc: 0.8141 - val_loss: 0.0029 - val_acc: 0.8141\n",
            "Epoch 40/50\n",
            "11997/11997 [==============================] - 3s 287us/sample - loss: 0.0030 - acc: 0.8141 - val_loss: 0.0029 - val_acc: 0.8141\n",
            "Epoch 41/50\n",
            "11997/11997 [==============================] - 3s 287us/sample - loss: 0.0030 - acc: 0.8141 - val_loss: 0.0029 - val_acc: 0.8141\n",
            "Epoch 42/50\n",
            "11997/11997 [==============================] - 3s 285us/sample - loss: 0.0030 - acc: 0.8141 - val_loss: 0.0029 - val_acc: 0.8141\n",
            "Epoch 43/50\n",
            "11997/11997 [==============================] - 3s 289us/sample - loss: 0.0030 - acc: 0.8141 - val_loss: 0.0030 - val_acc: 0.8141\n",
            "Epoch 44/50\n",
            "11997/11997 [==============================] - 3s 287us/sample - loss: 0.0030 - acc: 0.8141 - val_loss: 0.0029 - val_acc: 0.8141\n",
            "Epoch 45/50\n",
            "11997/11997 [==============================] - 3s 290us/sample - loss: 0.0030 - acc: 0.8141 - val_loss: 0.0029 - val_acc: 0.8141\n",
            "Epoch 46/50\n",
            "11997/11997 [==============================] - 3s 292us/sample - loss: 0.0030 - acc: 0.8141 - val_loss: 0.0030 - val_acc: 0.8141\n",
            "Epoch 47/50\n",
            "11997/11997 [==============================] - 4s 298us/sample - loss: 0.0030 - acc: 0.8141 - val_loss: 0.0030 - val_acc: 0.8141\n",
            "Epoch 48/50\n",
            "11997/11997 [==============================] - 4s 305us/sample - loss: 0.0030 - acc: 0.8141 - val_loss: 0.0029 - val_acc: 0.8141\n",
            "Epoch 49/50\n",
            "11997/11997 [==============================] - 4s 304us/sample - loss: 0.0030 - acc: 0.8141 - val_loss: 0.0029 - val_acc: 0.8141\n",
            "Epoch 50/50\n",
            "11997/11997 [==============================] - 4s 293us/sample - loss: 0.0030 - acc: 0.8141 - val_loss: 0.0030 - val_acc: 0.8141\n"
          ],
          "name": "stdout"
        },
        {
          "output_type": "execute_result",
          "data": {
            "text/plain": [
              "<tensorflow.python.keras.callbacks.History at 0x7fdf48ee92b0>"
            ]
          },
          "metadata": {
            "tags": []
          },
          "execution_count": 63
        }
      ]
    },
    {
      "cell_type": "code",
      "metadata": {
        "id": "jtgC2LPgH7Gj",
        "colab_type": "code",
        "outputId": "5e18c228-1434-48e1-8920-93956c353bdc",
        "colab": {
          "base_uri": "https://localhost:8080/",
          "height": 50
        }
      },
      "source": [
        "ypred = model.predict(X6)\n",
        "s=pd.DataFrame(ypred)\n",
        "s1=pd.DataFrame(y6)\n",
        "s1.corrwith(s, axis = 0) "
      ],
      "execution_count": 0,
      "outputs": [
        {
          "output_type": "execute_result",
          "data": {
            "text/plain": [
              "0    0.360699\n",
              "dtype: float64"
            ]
          },
          "metadata": {
            "tags": []
          },
          "execution_count": 64
        }
      ]
    },
    {
      "cell_type": "code",
      "metadata": {
        "id": "0pz7S13uMF-1",
        "colab_type": "code",
        "outputId": "42e248ae-d839-4d9d-92f1-63840b4a675a",
        "colab": {
          "base_uri": "https://localhost:8080/",
          "height": 34
        }
      },
      "source": [
        "r2_score(y6,ypred)"
      ],
      "execution_count": 0,
      "outputs": [
        {
          "output_type": "execute_result",
          "data": {
            "text/plain": [
              "0.12519307287481818"
            ]
          },
          "metadata": {
            "tags": []
          },
          "execution_count": 65
        }
      ]
    },
    {
      "cell_type": "code",
      "metadata": {
        "id": "YnWGLzXNJMYO",
        "colab_type": "code",
        "outputId": "d4038ce1-02a2-4aff-84f0-3b5c279cdfe3",
        "colab": {
          "base_uri": "https://localhost:8080/",
          "height": 50
        }
      },
      "source": [
        "ypred1=model.predict(X_test6)\n",
        "s=pd.DataFrame(ypred1)\n",
        "s1=pd.DataFrame(y_test6)\n",
        "s1.corrwith(s,axis=0)"
      ],
      "execution_count": 0,
      "outputs": [
        {
          "output_type": "execute_result",
          "data": {
            "text/plain": [
              "0    0.360699\n",
              "dtype: float64"
            ]
          },
          "metadata": {
            "tags": []
          },
          "execution_count": 66
        }
      ]
    },
    {
      "cell_type": "code",
      "metadata": {
        "id": "G_sfckB5bT_O",
        "colab_type": "code",
        "outputId": "f01f92ad-a84e-4c39-dacf-960ef2fd6b2f",
        "colab": {
          "base_uri": "https://localhost:8080/",
          "height": 34
        }
      },
      "source": [
        "mean_absolute_error(y6,ypred)"
      ],
      "execution_count": 0,
      "outputs": [
        {
          "output_type": "execute_result",
          "data": {
            "text/plain": [
              "0.026769907279306674"
            ]
          },
          "metadata": {
            "tags": []
          },
          "execution_count": 67
        }
      ]
    },
    {
      "cell_type": "code",
      "metadata": {
        "id": "UcZfNKSYbXj6",
        "colab_type": "code",
        "outputId": "e22620c1-8108-4b5e-f45a-6d4919de30d6",
        "colab": {
          "base_uri": "https://localhost:8080/",
          "height": 34
        }
      },
      "source": [
        "mean_absolute_error(y_test6,ypred1)"
      ],
      "execution_count": 0,
      "outputs": [
        {
          "output_type": "execute_result",
          "data": {
            "text/plain": [
              "0.026769907279306674"
            ]
          },
          "metadata": {
            "tags": []
          },
          "execution_count": 68
        }
      ]
    },
    {
      "cell_type": "code",
      "metadata": {
        "id": "vHt09FiPMHsf",
        "colab_type": "code",
        "outputId": "1b4b05fd-8ca6-43f9-c805-6c314363ac1a",
        "colab": {
          "base_uri": "https://localhost:8080/",
          "height": 34
        }
      },
      "source": [
        "r2_score(y_test6,ypred1)"
      ],
      "execution_count": 0,
      "outputs": [
        {
          "output_type": "execute_result",
          "data": {
            "text/plain": [
              "0.12519307287481818"
            ]
          },
          "metadata": {
            "tags": []
          },
          "execution_count": 69
        }
      ]
    },
    {
      "cell_type": "code",
      "metadata": {
        "id": "GMeE8OZ5tN17",
        "colab_type": "code",
        "outputId": "25021661-48bf-438d-9a9c-48fcc64d53ee",
        "colab": {
          "base_uri": "https://localhost:8080/",
          "height": 1000
        }
      },
      "source": [
        "model.fit(X7, y7, validation_data=(X_test7,y_test7),epochs=50)"
      ],
      "execution_count": 0,
      "outputs": [
        {
          "output_type": "stream",
          "text": [
            "Train on 11997 samples, validate on 11997 samples\n",
            "Epoch 1/50\n",
            "11997/11997 [==============================] - 4s 299us/sample - loss: 0.0035 - acc: 0.8332 - val_loss: 0.0034 - val_acc: 0.8333\n",
            "Epoch 2/50\n",
            "11997/11997 [==============================] - 3s 289us/sample - loss: 0.0034 - acc: 0.8333 - val_loss: 0.0034 - val_acc: 0.8333\n",
            "Epoch 3/50\n",
            "11997/11997 [==============================] - 4s 292us/sample - loss: 0.0034 - acc: 0.8333 - val_loss: 0.0034 - val_acc: 0.8333\n",
            "Epoch 4/50\n",
            "11997/11997 [==============================] - 3s 287us/sample - loss: 0.0034 - acc: 0.8333 - val_loss: 0.0034 - val_acc: 0.8333\n",
            "Epoch 5/50\n",
            "11997/11997 [==============================] - 3s 287us/sample - loss: 0.0034 - acc: 0.8333 - val_loss: 0.0034 - val_acc: 0.8333\n",
            "Epoch 6/50\n",
            "11997/11997 [==============================] - 3s 291us/sample - loss: 0.0034 - acc: 0.8333 - val_loss: 0.0034 - val_acc: 0.8333\n",
            "Epoch 7/50\n",
            "11997/11997 [==============================] - 4s 294us/sample - loss: 0.0034 - acc: 0.8333 - val_loss: 0.0033 - val_acc: 0.8333\n",
            "Epoch 8/50\n",
            "11997/11997 [==============================] - 3s 290us/sample - loss: 0.0034 - acc: 0.8333 - val_loss: 0.0034 - val_acc: 0.8333\n",
            "Epoch 9/50\n",
            "11997/11997 [==============================] - 3s 288us/sample - loss: 0.0034 - acc: 0.8333 - val_loss: 0.0033 - val_acc: 0.8333\n",
            "Epoch 10/50\n",
            "11997/11997 [==============================] - 3s 288us/sample - loss: 0.0034 - acc: 0.8333 - val_loss: 0.0033 - val_acc: 0.8333\n",
            "Epoch 11/50\n",
            "11997/11997 [==============================] - 3s 288us/sample - loss: 0.0033 - acc: 0.8333 - val_loss: 0.0033 - val_acc: 0.8333\n",
            "Epoch 12/50\n",
            "11997/11997 [==============================] - 3s 286us/sample - loss: 0.0033 - acc: 0.8333 - val_loss: 0.0033 - val_acc: 0.8333\n",
            "Epoch 13/50\n",
            "11997/11997 [==============================] - 3s 287us/sample - loss: 0.0033 - acc: 0.8333 - val_loss: 0.0033 - val_acc: 0.8333\n",
            "Epoch 14/50\n",
            "11997/11997 [==============================] - 4s 293us/sample - loss: 0.0033 - acc: 0.8333 - val_loss: 0.0033 - val_acc: 0.8333\n",
            "Epoch 15/50\n",
            "11997/11997 [==============================] - 3s 287us/sample - loss: 0.0033 - acc: 0.8333 - val_loss: 0.0033 - val_acc: 0.8333\n",
            "Epoch 16/50\n",
            "11997/11997 [==============================] - 3s 285us/sample - loss: 0.0033 - acc: 0.8333 - val_loss: 0.0033 - val_acc: 0.8333\n",
            "Epoch 17/50\n",
            "11997/11997 [==============================] - 4s 292us/sample - loss: 0.0033 - acc: 0.8333 - val_loss: 0.0033 - val_acc: 0.8333\n",
            "Epoch 18/50\n",
            "11997/11997 [==============================] - 3s 291us/sample - loss: 0.0033 - acc: 0.8333 - val_loss: 0.0033 - val_acc: 0.8333\n",
            "Epoch 19/50\n",
            "11997/11997 [==============================] - 3s 286us/sample - loss: 0.0033 - acc: 0.8333 - val_loss: 0.0033 - val_acc: 0.8333\n",
            "Epoch 20/50\n",
            "11997/11997 [==============================] - 3s 290us/sample - loss: 0.0033 - acc: 0.8333 - val_loss: 0.0033 - val_acc: 0.8333\n",
            "Epoch 21/50\n",
            "11997/11997 [==============================] - 3s 285us/sample - loss: 0.0033 - acc: 0.8333 - val_loss: 0.0033 - val_acc: 0.8333\n",
            "Epoch 22/50\n",
            "11997/11997 [==============================] - 3s 287us/sample - loss: 0.0033 - acc: 0.8333 - val_loss: 0.0033 - val_acc: 0.8333\n",
            "Epoch 23/50\n",
            "11997/11997 [==============================] - 4s 299us/sample - loss: 0.0033 - acc: 0.8333 - val_loss: 0.0033 - val_acc: 0.8333\n",
            "Epoch 24/50\n",
            "11997/11997 [==============================] - 3s 292us/sample - loss: 0.0033 - acc: 0.8333 - val_loss: 0.0033 - val_acc: 0.8333\n",
            "Epoch 25/50\n",
            "11997/11997 [==============================] - 3s 286us/sample - loss: 0.0033 - acc: 0.8333 - val_loss: 0.0033 - val_acc: 0.8333\n",
            "Epoch 26/50\n",
            "11997/11997 [==============================] - 3s 290us/sample - loss: 0.0033 - acc: 0.8333 - val_loss: 0.0033 - val_acc: 0.8333\n",
            "Epoch 27/50\n",
            "11997/11997 [==============================] - 3s 289us/sample - loss: 0.0033 - acc: 0.8333 - val_loss: 0.0032 - val_acc: 0.8333\n",
            "Epoch 28/50\n",
            "11997/11997 [==============================] - 3s 284us/sample - loss: 0.0033 - acc: 0.8333 - val_loss: 0.0033 - val_acc: 0.8333\n",
            "Epoch 29/50\n",
            "11997/11997 [==============================] - 3s 289us/sample - loss: 0.0033 - acc: 0.8333 - val_loss: 0.0033 - val_acc: 0.8333\n",
            "Epoch 30/50\n",
            "11997/11997 [==============================] - 3s 285us/sample - loss: 0.0033 - acc: 0.8333 - val_loss: 0.0032 - val_acc: 0.8333\n",
            "Epoch 31/50\n",
            "11997/11997 [==============================] - 3s 288us/sample - loss: 0.0033 - acc: 0.8333 - val_loss: 0.0032 - val_acc: 0.8333\n",
            "Epoch 32/50\n",
            "11997/11997 [==============================] - 3s 290us/sample - loss: 0.0033 - acc: 0.8333 - val_loss: 0.0032 - val_acc: 0.8333\n",
            "Epoch 33/50\n",
            "11997/11997 [==============================] - 3s 289us/sample - loss: 0.0033 - acc: 0.8333 - val_loss: 0.0033 - val_acc: 0.8333\n",
            "Epoch 34/50\n",
            "11997/11997 [==============================] - 3s 286us/sample - loss: 0.0033 - acc: 0.8333 - val_loss: 0.0033 - val_acc: 0.8333\n",
            "Epoch 35/50\n",
            "11997/11997 [==============================] - 3s 292us/sample - loss: 0.0033 - acc: 0.8333 - val_loss: 0.0032 - val_acc: 0.8333\n",
            "Epoch 36/50\n",
            "11997/11997 [==============================] - 3s 287us/sample - loss: 0.0033 - acc: 0.8333 - val_loss: 0.0032 - val_acc: 0.8333\n",
            "Epoch 37/50\n",
            "11997/11997 [==============================] - 3s 286us/sample - loss: 0.0033 - acc: 0.8333 - val_loss: 0.0032 - val_acc: 0.8333\n",
            "Epoch 38/50\n",
            "11997/11997 [==============================] - 3s 287us/sample - loss: 0.0033 - acc: 0.8333 - val_loss: 0.0032 - val_acc: 0.8333\n",
            "Epoch 39/50\n",
            "11997/11997 [==============================] - 3s 287us/sample - loss: 0.0032 - acc: 0.8333 - val_loss: 0.0032 - val_acc: 0.8333\n",
            "Epoch 40/50\n",
            "11997/11997 [==============================] - 3s 288us/sample - loss: 0.0033 - acc: 0.8333 - val_loss: 0.0032 - val_acc: 0.8333\n",
            "Epoch 41/50\n",
            "11997/11997 [==============================] - 3s 286us/sample - loss: 0.0032 - acc: 0.8333 - val_loss: 0.0032 - val_acc: 0.8333\n",
            "Epoch 42/50\n",
            "11997/11997 [==============================] - 3s 292us/sample - loss: 0.0033 - acc: 0.8333 - val_loss: 0.0032 - val_acc: 0.8333\n",
            "Epoch 43/50\n",
            "11997/11997 [==============================] - 3s 286us/sample - loss: 0.0032 - acc: 0.8333 - val_loss: 0.0032 - val_acc: 0.8333\n",
            "Epoch 44/50\n",
            "11997/11997 [==============================] - 3s 289us/sample - loss: 0.0032 - acc: 0.8333 - val_loss: 0.0032 - val_acc: 0.8333\n",
            "Epoch 45/50\n",
            "11997/11997 [==============================] - 3s 287us/sample - loss: 0.0032 - acc: 0.8333 - val_loss: 0.0032 - val_acc: 0.8333\n",
            "Epoch 46/50\n",
            "11997/11997 [==============================] - 3s 290us/sample - loss: 0.0032 - acc: 0.8333 - val_loss: 0.0032 - val_acc: 0.8333\n",
            "Epoch 47/50\n",
            "11997/11997 [==============================] - 3s 285us/sample - loss: 0.0032 - acc: 0.8333 - val_loss: 0.0032 - val_acc: 0.8333\n",
            "Epoch 48/50\n",
            "11997/11997 [==============================] - 3s 289us/sample - loss: 0.0032 - acc: 0.8333 - val_loss: 0.0032 - val_acc: 0.8333\n",
            "Epoch 49/50\n",
            "11997/11997 [==============================] - 3s 286us/sample - loss: 0.0032 - acc: 0.8333 - val_loss: 0.0032 - val_acc: 0.8333\n",
            "Epoch 50/50\n",
            "11997/11997 [==============================] - 3s 287us/sample - loss: 0.0032 - acc: 0.8333 - val_loss: 0.0033 - val_acc: 0.8333\n"
          ],
          "name": "stdout"
        },
        {
          "output_type": "execute_result",
          "data": {
            "text/plain": [
              "<tensorflow.python.keras.callbacks.History at 0x7fdf48ee9e80>"
            ]
          },
          "metadata": {
            "tags": []
          },
          "execution_count": 70
        }
      ]
    },
    {
      "cell_type": "code",
      "metadata": {
        "id": "HgPagHEqH8-M",
        "colab_type": "code",
        "outputId": "ba94157f-633a-476b-ef29-888d9fdbb189",
        "colab": {
          "base_uri": "https://localhost:8080/",
          "height": 50
        }
      },
      "source": [
        "ypred = model.predict(X7)\n",
        "s=pd.DataFrame(ypred)\n",
        "s1=pd.DataFrame(y7)\n",
        "s1.corrwith(s, axis = 0) "
      ],
      "execution_count": 0,
      "outputs": [
        {
          "output_type": "execute_result",
          "data": {
            "text/plain": [
              "0    0.398901\n",
              "dtype: float64"
            ]
          },
          "metadata": {
            "tags": []
          },
          "execution_count": 71
        }
      ]
    },
    {
      "cell_type": "code",
      "metadata": {
        "id": "H6a79eEsL-Bp",
        "colab_type": "code",
        "outputId": "8d023eb8-0721-4a59-e811-42a7e1dc71a3",
        "colab": {
          "base_uri": "https://localhost:8080/",
          "height": 34
        }
      },
      "source": [
        "r2_score(y7,ypred)"
      ],
      "execution_count": 0,
      "outputs": [
        {
          "output_type": "execute_result",
          "data": {
            "text/plain": [
              "0.14520189415783658"
            ]
          },
          "metadata": {
            "tags": []
          },
          "execution_count": 72
        }
      ]
    },
    {
      "cell_type": "code",
      "metadata": {
        "id": "wcKAsBAdJNw0",
        "colab_type": "code",
        "outputId": "8445d30f-92e6-4b17-bd9c-614e4e4b909d",
        "colab": {
          "base_uri": "https://localhost:8080/",
          "height": 50
        }
      },
      "source": [
        "ypred1=model.predict(X_test7)\n",
        "s=pd.DataFrame(ypred1)\n",
        "s1=pd.DataFrame(y_test7)\n",
        "s1.corrwith(s,axis=0)"
      ],
      "execution_count": 0,
      "outputs": [
        {
          "output_type": "execute_result",
          "data": {
            "text/plain": [
              "0    0.398901\n",
              "dtype: float64"
            ]
          },
          "metadata": {
            "tags": []
          },
          "execution_count": 73
        }
      ]
    },
    {
      "cell_type": "code",
      "metadata": {
        "id": "B7lPJIH0MBZQ",
        "colab_type": "code",
        "outputId": "ba2c6dba-bb01-45bf-d92f-bf81bd13e5d5",
        "colab": {
          "base_uri": "https://localhost:8080/",
          "height": 34
        }
      },
      "source": [
        "r2_score(y_test7,ypred1)"
      ],
      "execution_count": 0,
      "outputs": [
        {
          "output_type": "execute_result",
          "data": {
            "text/plain": [
              "0.14520189415783658"
            ]
          },
          "metadata": {
            "tags": []
          },
          "execution_count": 74
        }
      ]
    },
    {
      "cell_type": "code",
      "metadata": {
        "id": "hiVfe-7WbeVn",
        "colab_type": "code",
        "outputId": "38336cad-dd7c-4500-da17-9401dc66eedf",
        "colab": {
          "base_uri": "https://localhost:8080/",
          "height": 34
        }
      },
      "source": [
        "mean_absolute_error(y7,ypred)"
      ],
      "execution_count": 0,
      "outputs": [
        {
          "output_type": "execute_result",
          "data": {
            "text/plain": [
              "0.028130638692557847"
            ]
          },
          "metadata": {
            "tags": []
          },
          "execution_count": 75
        }
      ]
    },
    {
      "cell_type": "code",
      "metadata": {
        "id": "yDQLYQrKbjHy",
        "colab_type": "code",
        "outputId": "a3382a87-c799-4615-bb23-d2fb0ac95e5d",
        "colab": {
          "base_uri": "https://localhost:8080/",
          "height": 34
        }
      },
      "source": [
        "mean_absolute_error(y_test7,ypred1)"
      ],
      "execution_count": 0,
      "outputs": [
        {
          "output_type": "execute_result",
          "data": {
            "text/plain": [
              "0.028130638692557847"
            ]
          },
          "metadata": {
            "tags": []
          },
          "execution_count": 76
        }
      ]
    },
    {
      "cell_type": "code",
      "metadata": {
        "id": "9Oi8Ac5UtOAC",
        "colab_type": "code",
        "outputId": "e643ecd6-7f58-4fe1-ef4d-7cf03312b706",
        "colab": {
          "base_uri": "https://localhost:8080/",
          "height": 1000
        }
      },
      "source": [
        "model.fit(X8, y8, validation_data=(X_test8,y_test8),epochs=50)"
      ],
      "execution_count": 0,
      "outputs": [
        {
          "output_type": "stream",
          "text": [
            "Train on 11997 samples, validate on 11997 samples\n",
            "Epoch 1/50\n",
            "11997/11997 [==============================] - 4s 293us/sample - loss: 0.0037 - acc: 0.8384 - val_loss: 0.0036 - val_acc: 0.8384\n",
            "Epoch 2/50\n",
            "11997/11997 [==============================] - 3s 291us/sample - loss: 0.0036 - acc: 0.8384 - val_loss: 0.0035 - val_acc: 0.8384\n",
            "Epoch 3/50\n",
            "11997/11997 [==============================] - 3s 291us/sample - loss: 0.0036 - acc: 0.8384 - val_loss: 0.0035 - val_acc: 0.8384\n",
            "Epoch 4/50\n",
            "11997/11997 [==============================] - 3s 291us/sample - loss: 0.0036 - acc: 0.8384 - val_loss: 0.0035 - val_acc: 0.8384\n",
            "Epoch 5/50\n",
            "11997/11997 [==============================] - 3s 288us/sample - loss: 0.0036 - acc: 0.8384 - val_loss: 0.0035 - val_acc: 0.8384\n",
            "Epoch 6/50\n",
            "11997/11997 [==============================] - 3s 286us/sample - loss: 0.0035 - acc: 0.8384 - val_loss: 0.0035 - val_acc: 0.8384\n",
            "Epoch 7/50\n",
            "11997/11997 [==============================] - 3s 288us/sample - loss: 0.0035 - acc: 0.8384 - val_loss: 0.0035 - val_acc: 0.8384\n",
            "Epoch 8/50\n",
            "11997/11997 [==============================] - 3s 286us/sample - loss: 0.0035 - acc: 0.8384 - val_loss: 0.0035 - val_acc: 0.8384\n",
            "Epoch 9/50\n",
            "11997/11997 [==============================] - 3s 290us/sample - loss: 0.0035 - acc: 0.8384 - val_loss: 0.0035 - val_acc: 0.8384\n",
            "Epoch 10/50\n",
            "11997/11997 [==============================] - 3s 289us/sample - loss: 0.0035 - acc: 0.8384 - val_loss: 0.0035 - val_acc: 0.8384\n",
            "Epoch 11/50\n",
            "11997/11997 [==============================] - 3s 287us/sample - loss: 0.0035 - acc: 0.8384 - val_loss: 0.0035 - val_acc: 0.8384\n",
            "Epoch 12/50\n",
            "11997/11997 [==============================] - 3s 290us/sample - loss: 0.0035 - acc: 0.8384 - val_loss: 0.0035 - val_acc: 0.8384\n",
            "Epoch 13/50\n",
            "11997/11997 [==============================] - 3s 286us/sample - loss: 0.0035 - acc: 0.8384 - val_loss: 0.0035 - val_acc: 0.8384\n",
            "Epoch 14/50\n",
            "11997/11997 [==============================] - 3s 288us/sample - loss: 0.0035 - acc: 0.8384 - val_loss: 0.0035 - val_acc: 0.8384\n",
            "Epoch 15/50\n",
            "11997/11997 [==============================] - 3s 287us/sample - loss: 0.0035 - acc: 0.8384 - val_loss: 0.0035 - val_acc: 0.8384\n",
            "Epoch 16/50\n",
            "11997/11997 [==============================] - 3s 288us/sample - loss: 0.0035 - acc: 0.8384 - val_loss: 0.0035 - val_acc: 0.8384\n",
            "Epoch 17/50\n",
            "11997/11997 [==============================] - 3s 290us/sample - loss: 0.0035 - acc: 0.8384 - val_loss: 0.0035 - val_acc: 0.8384\n",
            "Epoch 18/50\n",
            "11997/11997 [==============================] - 3s 287us/sample - loss: 0.0035 - acc: 0.8384 - val_loss: 0.0035 - val_acc: 0.8384\n",
            "Epoch 19/50\n",
            "11997/11997 [==============================] - 3s 287us/sample - loss: 0.0035 - acc: 0.8384 - val_loss: 0.0035 - val_acc: 0.8384\n",
            "Epoch 20/50\n",
            "11997/11997 [==============================] - 4s 293us/sample - loss: 0.0035 - acc: 0.8384 - val_loss: 0.0035 - val_acc: 0.8384\n",
            "Epoch 21/50\n",
            "11997/11997 [==============================] - 3s 285us/sample - loss: 0.0035 - acc: 0.8384 - val_loss: 0.0035 - val_acc: 0.8384\n",
            "Epoch 22/50\n",
            "11997/11997 [==============================] - 3s 288us/sample - loss: 0.0035 - acc: 0.8384 - val_loss: 0.0035 - val_acc: 0.8384\n",
            "Epoch 23/50\n",
            "11997/11997 [==============================] - 4s 293us/sample - loss: 0.0035 - acc: 0.8384 - val_loss: 0.0035 - val_acc: 0.8384\n",
            "Epoch 24/50\n",
            "11997/11997 [==============================] - 3s 292us/sample - loss: 0.0035 - acc: 0.8384 - val_loss: 0.0035 - val_acc: 0.8384\n",
            "Epoch 25/50\n",
            "11997/11997 [==============================] - 4s 292us/sample - loss: 0.0035 - acc: 0.8384 - val_loss: 0.0034 - val_acc: 0.8384\n",
            "Epoch 26/50\n",
            "11997/11997 [==============================] - 4s 299us/sample - loss: 0.0035 - acc: 0.8384 - val_loss: 0.0034 - val_acc: 0.8384\n",
            "Epoch 27/50\n",
            "11997/11997 [==============================] - 4s 293us/sample - loss: 0.0035 - acc: 0.8384 - val_loss: 0.0035 - val_acc: 0.8384\n",
            "Epoch 28/50\n",
            "11997/11997 [==============================] - 3s 290us/sample - loss: 0.0035 - acc: 0.8384 - val_loss: 0.0035 - val_acc: 0.8384\n",
            "Epoch 29/50\n",
            "11997/11997 [==============================] - 3s 291us/sample - loss: 0.0035 - acc: 0.8384 - val_loss: 0.0034 - val_acc: 0.8384\n",
            "Epoch 30/50\n",
            "11997/11997 [==============================] - 3s 289us/sample - loss: 0.0035 - acc: 0.8384 - val_loss: 0.0035 - val_acc: 0.8384\n",
            "Epoch 31/50\n",
            "11997/11997 [==============================] - 3s 291us/sample - loss: 0.0035 - acc: 0.8384 - val_loss: 0.0035 - val_acc: 0.8384\n",
            "Epoch 32/50\n",
            "11997/11997 [==============================] - 3s 289us/sample - loss: 0.0035 - acc: 0.8384 - val_loss: 0.0035 - val_acc: 0.8384\n",
            "Epoch 33/50\n",
            "11997/11997 [==============================] - 3s 289us/sample - loss: 0.0035 - acc: 0.8384 - val_loss: 0.0034 - val_acc: 0.8384\n",
            "Epoch 34/50\n",
            "11997/11997 [==============================] - 4s 295us/sample - loss: 0.0035 - acc: 0.8384 - val_loss: 0.0034 - val_acc: 0.8384\n",
            "Epoch 35/50\n",
            "11997/11997 [==============================] - 3s 290us/sample - loss: 0.0035 - acc: 0.8384 - val_loss: 0.0035 - val_acc: 0.8384\n",
            "Epoch 36/50\n",
            "11997/11997 [==============================] - 4s 301us/sample - loss: 0.0035 - acc: 0.8384 - val_loss: 0.0034 - val_acc: 0.8384\n",
            "Epoch 37/50\n",
            "11997/11997 [==============================] - 4s 306us/sample - loss: 0.0035 - acc: 0.8384 - val_loss: 0.0034 - val_acc: 0.8384\n",
            "Epoch 38/50\n",
            "11997/11997 [==============================] - 4s 308us/sample - loss: 0.0035 - acc: 0.8384 - val_loss: 0.0034 - val_acc: 0.8384\n",
            "Epoch 39/50\n",
            "11997/11997 [==============================] - 3s 291us/sample - loss: 0.0035 - acc: 0.8384 - val_loss: 0.0034 - val_acc: 0.8384\n",
            "Epoch 40/50\n",
            "11997/11997 [==============================] - 3s 288us/sample - loss: 0.0035 - acc: 0.8384 - val_loss: 0.0034 - val_acc: 0.8384\n",
            "Epoch 41/50\n",
            "11997/11997 [==============================] - 4s 292us/sample - loss: 0.0035 - acc: 0.8384 - val_loss: 0.0034 - val_acc: 0.8384\n",
            "Epoch 42/50\n",
            "11997/11997 [==============================] - 4s 293us/sample - loss: 0.0035 - acc: 0.8384 - val_loss: 0.0034 - val_acc: 0.8384\n",
            "Epoch 43/50\n",
            "11997/11997 [==============================] - 3s 290us/sample - loss: 0.0035 - acc: 0.8384 - val_loss: 0.0034 - val_acc: 0.8384\n",
            "Epoch 44/50\n",
            "11997/11997 [==============================] - 4s 293us/sample - loss: 0.0034 - acc: 0.8384 - val_loss: 0.0034 - val_acc: 0.8384\n",
            "Epoch 45/50\n",
            "11997/11997 [==============================] - 4s 296us/sample - loss: 0.0034 - acc: 0.8384 - val_loss: 0.0034 - val_acc: 0.8384\n",
            "Epoch 46/50\n",
            "11997/11997 [==============================] - 3s 290us/sample - loss: 0.0035 - acc: 0.8384 - val_loss: 0.0034 - val_acc: 0.8384\n",
            "Epoch 47/50\n",
            "11997/11997 [==============================] - 3s 290us/sample - loss: 0.0034 - acc: 0.8384 - val_loss: 0.0034 - val_acc: 0.8384\n",
            "Epoch 48/50\n",
            "11997/11997 [==============================] - 4s 294us/sample - loss: 0.0034 - acc: 0.8384 - val_loss: 0.0034 - val_acc: 0.8384\n",
            "Epoch 49/50\n",
            "11997/11997 [==============================] - 3s 291us/sample - loss: 0.0034 - acc: 0.8384 - val_loss: 0.0034 - val_acc: 0.8384\n",
            "Epoch 50/50\n",
            "11997/11997 [==============================] - 3s 292us/sample - loss: 0.0034 - acc: 0.8384 - val_loss: 0.0034 - val_acc: 0.8384\n"
          ],
          "name": "stdout"
        },
        {
          "output_type": "execute_result",
          "data": {
            "text/plain": [
              "<tensorflow.python.keras.callbacks.History at 0x7fdf48ea9400>"
            ]
          },
          "metadata": {
            "tags": []
          },
          "execution_count": 77
        }
      ]
    },
    {
      "cell_type": "code",
      "metadata": {
        "id": "eMLxjFOLH-PS",
        "colab_type": "code",
        "outputId": "a59c2fb1-aa5b-4c96-e54c-31cec0c30afd",
        "colab": {
          "base_uri": "https://localhost:8080/",
          "height": 50
        }
      },
      "source": [
        "ypred = model.predict(X8)\n",
        "s=pd.DataFrame(ypred)\n",
        "s1=pd.DataFrame(y8)\n",
        "s1.corrwith(s, axis = 0) "
      ],
      "execution_count": 0,
      "outputs": [
        {
          "output_type": "execute_result",
          "data": {
            "text/plain": [
              "0    0.369371\n",
              "dtype: float64"
            ]
          },
          "metadata": {
            "tags": []
          },
          "execution_count": 78
        }
      ]
    },
    {
      "cell_type": "code",
      "metadata": {
        "id": "BmVt8ALiL4ae",
        "colab_type": "code",
        "outputId": "7464f40c-9802-48d7-fa01-f33741b7f511",
        "colab": {
          "base_uri": "https://localhost:8080/",
          "height": 34
        }
      },
      "source": [
        "r2_score(y8,ypred)"
      ],
      "execution_count": 0,
      "outputs": [
        {
          "output_type": "execute_result",
          "data": {
            "text/plain": [
              "0.13582500239115836"
            ]
          },
          "metadata": {
            "tags": []
          },
          "execution_count": 79
        }
      ]
    },
    {
      "cell_type": "code",
      "metadata": {
        "id": "ysPaeNMUJP6D",
        "colab_type": "code",
        "outputId": "7dba1faf-d82a-4679-c7ac-031f8095b566",
        "colab": {
          "base_uri": "https://localhost:8080/",
          "height": 50
        }
      },
      "source": [
        "ypred1=model.predict(X_test8)\n",
        "s=pd.DataFrame(ypred1)\n",
        "s1=pd.DataFrame(y_test8)\n",
        "s1.corrwith(s,axis=0)"
      ],
      "execution_count": 0,
      "outputs": [
        {
          "output_type": "execute_result",
          "data": {
            "text/plain": [
              "0    0.369371\n",
              "dtype: float64"
            ]
          },
          "metadata": {
            "tags": []
          },
          "execution_count": 80
        }
      ]
    },
    {
      "cell_type": "code",
      "metadata": {
        "id": "f7bVrtCdbq_p",
        "colab_type": "code",
        "outputId": "d101e586-551e-4ff1-f43b-939c0207a49c",
        "colab": {
          "base_uri": "https://localhost:8080/",
          "height": 34
        }
      },
      "source": [
        "mean_absolute_error(y8,ypred)"
      ],
      "execution_count": 0,
      "outputs": [
        {
          "output_type": "execute_result",
          "data": {
            "text/plain": [
              "0.024791937684774897"
            ]
          },
          "metadata": {
            "tags": []
          },
          "execution_count": 81
        }
      ]
    },
    {
      "cell_type": "code",
      "metadata": {
        "id": "Bdk4ywxAbsZF",
        "colab_type": "code",
        "outputId": "8c965928-a4ca-453d-fea4-f05d8a8b0208",
        "colab": {
          "base_uri": "https://localhost:8080/",
          "height": 34
        }
      },
      "source": [
        "mean_absolute_error(y_test8,ypred1)"
      ],
      "execution_count": 0,
      "outputs": [
        {
          "output_type": "execute_result",
          "data": {
            "text/plain": [
              "0.024791937684774897"
            ]
          },
          "metadata": {
            "tags": []
          },
          "execution_count": 82
        }
      ]
    },
    {
      "cell_type": "code",
      "metadata": {
        "id": "VdoqG1uCL6Up",
        "colab_type": "code",
        "outputId": "b676f0b4-6bd5-4584-b01d-06cbdd888455",
        "colab": {
          "base_uri": "https://localhost:8080/",
          "height": 34
        }
      },
      "source": [
        "r2_score(y_test8,ypred1)"
      ],
      "execution_count": 0,
      "outputs": [
        {
          "output_type": "execute_result",
          "data": {
            "text/plain": [
              "0.13582500239115836"
            ]
          },
          "metadata": {
            "tags": []
          },
          "execution_count": 83
        }
      ]
    },
    {
      "cell_type": "code",
      "metadata": {
        "id": "SLn0vU66tOKK",
        "colab_type": "code",
        "outputId": "01b37894-e328-4cff-aaa4-5463de7b5fb2",
        "colab": {
          "base_uri": "https://localhost:8080/",
          "height": 1000
        }
      },
      "source": [
        "model.fit(X9, y9, validation_data=(X_test9,y_test9),epochs=50)"
      ],
      "execution_count": 0,
      "outputs": [
        {
          "output_type": "stream",
          "text": [
            "Train on 11997 samples, validate on 11997 samples\n",
            "Epoch 1/50\n",
            "11997/11997 [==============================] - 4s 296us/sample - loss: 3.6590e-04 - acc: 0.8766 - val_loss: 3.5804e-04 - val_acc: 0.8766\n",
            "Epoch 2/50\n",
            "11997/11997 [==============================] - 3s 290us/sample - loss: 3.5891e-04 - acc: 0.8766 - val_loss: 3.5643e-04 - val_acc: 0.8766\n",
            "Epoch 3/50\n",
            "11997/11997 [==============================] - 4s 292us/sample - loss: 3.5783e-04 - acc: 0.8766 - val_loss: 3.5615e-04 - val_acc: 0.8766\n",
            "Epoch 4/50\n",
            "11997/11997 [==============================] - 4s 293us/sample - loss: 3.5678e-04 - acc: 0.8766 - val_loss: 3.5650e-04 - val_acc: 0.8766\n",
            "Epoch 5/50\n",
            "11997/11997 [==============================] - 3s 288us/sample - loss: 3.5683e-04 - acc: 0.8766 - val_loss: 3.5412e-04 - val_acc: 0.8766\n",
            "Epoch 6/50\n",
            "11997/11997 [==============================] - 3s 289us/sample - loss: 3.5631e-04 - acc: 0.8766 - val_loss: 3.5933e-04 - val_acc: 0.8766\n",
            "Epoch 7/50\n",
            "11997/11997 [==============================] - 3s 290us/sample - loss: 3.5541e-04 - acc: 0.8766 - val_loss: 3.5318e-04 - val_acc: 0.8766\n",
            "Epoch 8/50\n",
            "11997/11997 [==============================] - 3s 288us/sample - loss: 3.5521e-04 - acc: 0.8766 - val_loss: 3.5202e-04 - val_acc: 0.8766\n",
            "Epoch 9/50\n",
            "11997/11997 [==============================] - 4s 298us/sample - loss: 3.5587e-04 - acc: 0.8766 - val_loss: 3.5803e-04 - val_acc: 0.8766\n",
            "Epoch 10/50\n",
            "11997/11997 [==============================] - 4s 301us/sample - loss: 3.5543e-04 - acc: 0.8766 - val_loss: 3.5285e-04 - val_acc: 0.8766\n",
            "Epoch 11/50\n",
            "11997/11997 [==============================] - 4s 296us/sample - loss: 3.5556e-04 - acc: 0.8766 - val_loss: 3.6257e-04 - val_acc: 0.8766\n",
            "Epoch 12/50\n",
            "11997/11997 [==============================] - 3s 289us/sample - loss: 3.5486e-04 - acc: 0.8766 - val_loss: 3.5167e-04 - val_acc: 0.8766\n",
            "Epoch 13/50\n",
            "11997/11997 [==============================] - 4s 292us/sample - loss: 3.5511e-04 - acc: 0.8766 - val_loss: 3.5439e-04 - val_acc: 0.8766\n",
            "Epoch 14/50\n",
            "11997/11997 [==============================] - 3s 286us/sample - loss: 3.5522e-04 - acc: 0.8766 - val_loss: 3.5259e-04 - val_acc: 0.8766\n",
            "Epoch 15/50\n",
            "11997/11997 [==============================] - 3s 283us/sample - loss: 3.5450e-04 - acc: 0.8766 - val_loss: 3.5545e-04 - val_acc: 0.8766\n",
            "Epoch 16/50\n",
            "11997/11997 [==============================] - 3s 279us/sample - loss: 3.5869e-04 - acc: 0.8766 - val_loss: 3.5260e-04 - val_acc: 0.8766\n",
            "Epoch 17/50\n",
            "11997/11997 [==============================] - 3s 277us/sample - loss: 3.5474e-04 - acc: 0.8766 - val_loss: 3.5734e-04 - val_acc: 0.8766\n",
            "Epoch 18/50\n",
            "11997/11997 [==============================] - 3s 282us/sample - loss: 3.5550e-04 - acc: 0.8766 - val_loss: 3.5122e-04 - val_acc: 0.8766\n",
            "Epoch 19/50\n",
            "11997/11997 [==============================] - 3s 280us/sample - loss: 3.5539e-04 - acc: 0.8766 - val_loss: 3.5482e-04 - val_acc: 0.8766\n",
            "Epoch 20/50\n",
            "11997/11997 [==============================] - 3s 279us/sample - loss: 3.5443e-04 - acc: 0.8766 - val_loss: 3.5280e-04 - val_acc: 0.8766\n",
            "Epoch 21/50\n",
            "11997/11997 [==============================] - 3s 283us/sample - loss: 3.5425e-04 - acc: 0.8766 - val_loss: 3.5121e-04 - val_acc: 0.8766\n",
            "Epoch 22/50\n",
            "11997/11997 [==============================] - 3s 289us/sample - loss: 3.5340e-04 - acc: 0.8766 - val_loss: 3.5129e-04 - val_acc: 0.8766\n",
            "Epoch 23/50\n",
            "11997/11997 [==============================] - 3s 287us/sample - loss: 3.5450e-04 - acc: 0.8766 - val_loss: 3.5028e-04 - val_acc: 0.8766\n",
            "Epoch 24/50\n",
            "11997/11997 [==============================] - 3s 280us/sample - loss: 3.5366e-04 - acc: 0.8766 - val_loss: 3.5097e-04 - val_acc: 0.8766\n",
            "Epoch 25/50\n",
            "11997/11997 [==============================] - 3s 282us/sample - loss: 3.5286e-04 - acc: 0.8766 - val_loss: 3.5033e-04 - val_acc: 0.8766\n",
            "Epoch 26/50\n",
            "11997/11997 [==============================] - 3s 277us/sample - loss: 3.5389e-04 - acc: 0.8766 - val_loss: 3.5233e-04 - val_acc: 0.8766\n",
            "Epoch 27/50\n",
            "11997/11997 [==============================] - 3s 274us/sample - loss: 3.5217e-04 - acc: 0.8766 - val_loss: 3.5160e-04 - val_acc: 0.8766\n",
            "Epoch 28/50\n",
            "11997/11997 [==============================] - 3s 273us/sample - loss: 3.5415e-04 - acc: 0.8766 - val_loss: 3.4946e-04 - val_acc: 0.8766\n",
            "Epoch 29/50\n",
            "11997/11997 [==============================] - 3s 279us/sample - loss: 3.5262e-04 - acc: 0.8766 - val_loss: 3.4962e-04 - val_acc: 0.8766\n",
            "Epoch 30/50\n",
            "11997/11997 [==============================] - 3s 277us/sample - loss: 3.5367e-04 - acc: 0.8766 - val_loss: 3.5011e-04 - val_acc: 0.8766\n",
            "Epoch 31/50\n",
            "11997/11997 [==============================] - 3s 280us/sample - loss: 3.5434e-04 - acc: 0.8766 - val_loss: 3.5437e-04 - val_acc: 0.8766\n",
            "Epoch 32/50\n",
            "11997/11997 [==============================] - 3s 278us/sample - loss: 3.5247e-04 - acc: 0.8766 - val_loss: 3.5094e-04 - val_acc: 0.8766\n",
            "Epoch 33/50\n",
            "11997/11997 [==============================] - 3s 280us/sample - loss: 3.5471e-04 - acc: 0.8766 - val_loss: 3.4900e-04 - val_acc: 0.8766\n",
            "Epoch 34/50\n",
            "11997/11997 [==============================] - 3s 277us/sample - loss: 3.5251e-04 - acc: 0.8766 - val_loss: 3.4896e-04 - val_acc: 0.8766\n",
            "Epoch 35/50\n",
            "11997/11997 [==============================] - 3s 284us/sample - loss: 3.5300e-04 - acc: 0.8766 - val_loss: 3.4844e-04 - val_acc: 0.8766\n",
            "Epoch 36/50\n",
            "11997/11997 [==============================] - 3s 283us/sample - loss: 3.5226e-04 - acc: 0.8766 - val_loss: 3.5092e-04 - val_acc: 0.8766\n",
            "Epoch 37/50\n",
            "11997/11997 [==============================] - 3s 280us/sample - loss: 3.5236e-04 - acc: 0.8766 - val_loss: 3.5004e-04 - val_acc: 0.8766\n",
            "Epoch 38/50\n",
            "11997/11997 [==============================] - 3s 286us/sample - loss: 3.5178e-04 - acc: 0.8766 - val_loss: 3.4964e-04 - val_acc: 0.8766\n",
            "Epoch 39/50\n",
            "11997/11997 [==============================] - 3s 281us/sample - loss: 3.5194e-04 - acc: 0.8766 - val_loss: 3.4840e-04 - val_acc: 0.8766\n",
            "Epoch 40/50\n",
            "11997/11997 [==============================] - 3s 281us/sample - loss: 3.5124e-04 - acc: 0.8766 - val_loss: 3.4905e-04 - val_acc: 0.8766\n",
            "Epoch 41/50\n",
            "11997/11997 [==============================] - 3s 275us/sample - loss: 3.5085e-04 - acc: 0.8766 - val_loss: 3.5068e-04 - val_acc: 0.8766\n",
            "Epoch 42/50\n",
            "11997/11997 [==============================] - 3s 278us/sample - loss: 3.5084e-04 - acc: 0.8766 - val_loss: 3.4788e-04 - val_acc: 0.8766\n",
            "Epoch 43/50\n",
            "11997/11997 [==============================] - 3s 273us/sample - loss: 3.5142e-04 - acc: 0.8766 - val_loss: 3.4773e-04 - val_acc: 0.8766\n",
            "Epoch 44/50\n",
            "11997/11997 [==============================] - 3s 280us/sample - loss: 3.5051e-04 - acc: 0.8766 - val_loss: 3.5165e-04 - val_acc: 0.8766\n",
            "Epoch 45/50\n",
            "11997/11997 [==============================] - 3s 277us/sample - loss: 3.5385e-04 - acc: 0.8766 - val_loss: 3.5919e-04 - val_acc: 0.8766\n",
            "Epoch 46/50\n",
            "11997/11997 [==============================] - 3s 283us/sample - loss: 3.5339e-04 - acc: 0.8766 - val_loss: 3.4928e-04 - val_acc: 0.8766\n",
            "Epoch 47/50\n",
            "11997/11997 [==============================] - 3s 278us/sample - loss: 3.5139e-04 - acc: 0.8766 - val_loss: 3.4785e-04 - val_acc: 0.8766\n",
            "Epoch 48/50\n",
            "11997/11997 [==============================] - 3s 279us/sample - loss: 3.5104e-04 - acc: 0.8766 - val_loss: 3.4983e-04 - val_acc: 0.8766\n",
            "Epoch 49/50\n",
            "11997/11997 [==============================] - 3s 284us/sample - loss: 3.5115e-04 - acc: 0.8766 - val_loss: 3.4885e-04 - val_acc: 0.8766\n",
            "Epoch 50/50\n",
            "11997/11997 [==============================] - 3s 278us/sample - loss: 3.5047e-04 - acc: 0.8766 - val_loss: 3.5143e-04 - val_acc: 0.8766\n"
          ],
          "name": "stdout"
        },
        {
          "output_type": "execute_result",
          "data": {
            "text/plain": [
              "<tensorflow.python.keras.callbacks.History at 0x7fdf48e82908>"
            ]
          },
          "metadata": {
            "tags": []
          },
          "execution_count": 84
        }
      ]
    },
    {
      "cell_type": "code",
      "metadata": {
        "id": "zQ5v6HwLH_Wh",
        "colab_type": "code",
        "outputId": "ecb11909-c923-498c-e258-6a384c462c08",
        "colab": {
          "base_uri": "https://localhost:8080/",
          "height": 50
        }
      },
      "source": [
        "ypred = model.predict(X9)\n",
        "s=pd.DataFrame(ypred)\n",
        "s1=pd.DataFrame(y9)\n",
        "s1.corrwith(s, axis = 0) "
      ],
      "execution_count": 0,
      "outputs": [
        {
          "output_type": "execute_result",
          "data": {
            "text/plain": [
              "0    0.342732\n",
              "dtype: float64"
            ]
          },
          "metadata": {
            "tags": []
          },
          "execution_count": 85
        }
      ]
    },
    {
      "cell_type": "code",
      "metadata": {
        "id": "Up6_NVQoLi3n",
        "colab_type": "code",
        "outputId": "03d93434-e889-43d5-b95d-bcbc8fd11e6b",
        "colab": {
          "base_uri": "https://localhost:8080/",
          "height": 34
        }
      },
      "source": [
        "r2_score(y9,ypred)"
      ],
      "execution_count": 0,
      "outputs": [
        {
          "output_type": "execute_result",
          "data": {
            "text/plain": [
              "0.10611870353197472"
            ]
          },
          "metadata": {
            "tags": []
          },
          "execution_count": 86
        }
      ]
    },
    {
      "cell_type": "code",
      "metadata": {
        "id": "f3IOE5BCJRSK",
        "colab_type": "code",
        "outputId": "2929112b-1d14-410f-c726-17224f515a95",
        "colab": {
          "base_uri": "https://localhost:8080/",
          "height": 50
        }
      },
      "source": [
        "ypred1=model.predict(X_test9)\n",
        "s=pd.DataFrame(ypred1)\n",
        "s1=pd.DataFrame(y_test9)\n",
        "s1.corrwith(s,axis=0)"
      ],
      "execution_count": 0,
      "outputs": [
        {
          "output_type": "execute_result",
          "data": {
            "text/plain": [
              "0    0.342732\n",
              "dtype: float64"
            ]
          },
          "metadata": {
            "tags": []
          },
          "execution_count": 87
        }
      ]
    },
    {
      "cell_type": "code",
      "metadata": {
        "id": "_FDKRSVwLkoD",
        "colab_type": "code",
        "outputId": "59fbe347-72ed-4852-f331-8e1725a32962",
        "colab": {
          "base_uri": "https://localhost:8080/",
          "height": 34
        }
      },
      "source": [
        "r2_score(y_test9,ypred1)"
      ],
      "execution_count": 0,
      "outputs": [
        {
          "output_type": "execute_result",
          "data": {
            "text/plain": [
              "0.10611870353197472"
            ]
          },
          "metadata": {
            "tags": []
          },
          "execution_count": 88
        }
      ]
    },
    {
      "cell_type": "code",
      "metadata": {
        "id": "A4HYV_dDbxDs",
        "colab_type": "code",
        "outputId": "0a3359d2-721d-4027-eb15-b658a246ef07",
        "colab": {
          "base_uri": "https://localhost:8080/",
          "height": 34
        }
      },
      "source": [
        "mean_absolute_error(y8,ypred)"
      ],
      "execution_count": 0,
      "outputs": [
        {
          "output_type": "execute_result",
          "data": {
            "text/plain": [
              "0.019695988315946256"
            ]
          },
          "metadata": {
            "tags": []
          },
          "execution_count": 89
        }
      ]
    },
    {
      "cell_type": "code",
      "metadata": {
        "id": "_WPfFs1Pbx7w",
        "colab_type": "code",
        "outputId": "461b61db-d813-4312-c95c-ffb490c3b927",
        "colab": {
          "base_uri": "https://localhost:8080/",
          "height": 34
        }
      },
      "source": [
        "mean_absolute_error(y_test9,ypred1)"
      ],
      "execution_count": 0,
      "outputs": [
        {
          "output_type": "execute_result",
          "data": {
            "text/plain": [
              "0.007770364604220688"
            ]
          },
          "metadata": {
            "tags": []
          },
          "execution_count": 90
        }
      ]
    },
    {
      "cell_type": "code",
      "metadata": {
        "id": "X4tac5LntOTz",
        "colab_type": "code",
        "outputId": "c190f9b8-dc52-408d-cc2e-1ad9f2f44229",
        "colab": {
          "base_uri": "https://localhost:8080/",
          "height": 1000
        }
      },
      "source": [
        "model.fit(X10, y10, validation_data=(X_test10,y_test10),epochs=50)"
      ],
      "execution_count": 0,
      "outputs": [
        {
          "output_type": "stream",
          "text": [
            "Train on 11997 samples, validate on 11997 samples\n",
            "Epoch 1/50\n",
            "11997/11997 [==============================] - 3s 287us/sample - loss: 0.0027 - acc: 0.8375 - val_loss: 0.0027 - val_acc: 0.8375\n",
            "Epoch 2/50\n",
            "11997/11997 [==============================] - 3s 280us/sample - loss: 0.0027 - acc: 0.8375 - val_loss: 0.0026 - val_acc: 0.8375\n",
            "Epoch 3/50\n",
            "11997/11997 [==============================] - 3s 286us/sample - loss: 0.0026 - acc: 0.8375 - val_loss: 0.0026 - val_acc: 0.8375\n",
            "Epoch 4/50\n",
            "11997/11997 [==============================] - 3s 283us/sample - loss: 0.0026 - acc: 0.8375 - val_loss: 0.0026 - val_acc: 0.8375\n",
            "Epoch 5/50\n",
            "11997/11997 [==============================] - 3s 280us/sample - loss: 0.0026 - acc: 0.8375 - val_loss: 0.0026 - val_acc: 0.8375\n",
            "Epoch 6/50\n",
            "11997/11997 [==============================] - 3s 279us/sample - loss: 0.0026 - acc: 0.8375 - val_loss: 0.0026 - val_acc: 0.8375\n",
            "Epoch 7/50\n",
            "11997/11997 [==============================] - 3s 286us/sample - loss: 0.0026 - acc: 0.8375 - val_loss: 0.0026 - val_acc: 0.8375\n",
            "Epoch 8/50\n",
            "11997/11997 [==============================] - 3s 286us/sample - loss: 0.0026 - acc: 0.8375 - val_loss: 0.0026 - val_acc: 0.8375\n",
            "Epoch 9/50\n",
            "11997/11997 [==============================] - 3s 287us/sample - loss: 0.0026 - acc: 0.8375 - val_loss: 0.0026 - val_acc: 0.8375\n",
            "Epoch 10/50\n",
            "11997/11997 [==============================] - 3s 283us/sample - loss: 0.0026 - acc: 0.8375 - val_loss: 0.0026 - val_acc: 0.8375\n",
            "Epoch 11/50\n",
            "11997/11997 [==============================] - 3s 280us/sample - loss: 0.0026 - acc: 0.8375 - val_loss: 0.0026 - val_acc: 0.8375\n",
            "Epoch 12/50\n",
            "11997/11997 [==============================] - 3s 281us/sample - loss: 0.0026 - acc: 0.8375 - val_loss: 0.0025 - val_acc: 0.8375\n",
            "Epoch 13/50\n",
            "11997/11997 [==============================] - 3s 280us/sample - loss: 0.0026 - acc: 0.8375 - val_loss: 0.0025 - val_acc: 0.8375\n",
            "Epoch 14/50\n",
            "11997/11997 [==============================] - 3s 286us/sample - loss: 0.0026 - acc: 0.8375 - val_loss: 0.0025 - val_acc: 0.8375\n",
            "Epoch 15/50\n",
            "11997/11997 [==============================] - 3s 277us/sample - loss: 0.0026 - acc: 0.8375 - val_loss: 0.0026 - val_acc: 0.8375\n",
            "Epoch 16/50\n",
            "11997/11997 [==============================] - 3s 278us/sample - loss: 0.0026 - acc: 0.8375 - val_loss: 0.0025 - val_acc: 0.8375\n",
            "Epoch 17/50\n",
            "11997/11997 [==============================] - 3s 282us/sample - loss: 0.0026 - acc: 0.8375 - val_loss: 0.0025 - val_acc: 0.8375\n",
            "Epoch 18/50\n",
            "11997/11997 [==============================] - 3s 277us/sample - loss: 0.0025 - acc: 0.8375 - val_loss: 0.0025 - val_acc: 0.8375\n",
            "Epoch 19/50\n",
            "11997/11997 [==============================] - 3s 278us/sample - loss: 0.0025 - acc: 0.8375 - val_loss: 0.0025 - val_acc: 0.8375\n",
            "Epoch 20/50\n",
            "11997/11997 [==============================] - 3s 289us/sample - loss: 0.0025 - acc: 0.8375 - val_loss: 0.0026 - val_acc: 0.8375\n",
            "Epoch 21/50\n",
            "11997/11997 [==============================] - 3s 288us/sample - loss: 0.0025 - acc: 0.8375 - val_loss: 0.0025 - val_acc: 0.8375\n",
            "Epoch 22/50\n",
            "11997/11997 [==============================] - 3s 288us/sample - loss: 0.0025 - acc: 0.8375 - val_loss: 0.0025 - val_acc: 0.8375\n",
            "Epoch 23/50\n",
            "11997/11997 [==============================] - 3s 285us/sample - loss: 0.0025 - acc: 0.8375 - val_loss: 0.0025 - val_acc: 0.8375\n",
            "Epoch 24/50\n",
            "11997/11997 [==============================] - 3s 283us/sample - loss: 0.0025 - acc: 0.8375 - val_loss: 0.0025 - val_acc: 0.8375\n",
            "Epoch 25/50\n",
            "11997/11997 [==============================] - 3s 289us/sample - loss: 0.0025 - acc: 0.8375 - val_loss: 0.0025 - val_acc: 0.8375\n",
            "Epoch 26/50\n",
            "11997/11997 [==============================] - 3s 291us/sample - loss: 0.0025 - acc: 0.8375 - val_loss: 0.0025 - val_acc: 0.8375\n",
            "Epoch 27/50\n",
            "11997/11997 [==============================] - 4s 301us/sample - loss: 0.0025 - acc: 0.8375 - val_loss: 0.0025 - val_acc: 0.8375\n",
            "Epoch 28/50\n",
            "11997/11997 [==============================] - 4s 296us/sample - loss: 0.0025 - acc: 0.8375 - val_loss: 0.0025 - val_acc: 0.8375\n",
            "Epoch 29/50\n",
            "11997/11997 [==============================] - 3s 291us/sample - loss: 0.0025 - acc: 0.8375 - val_loss: 0.0025 - val_acc: 0.8375\n",
            "Epoch 30/50\n",
            "11997/11997 [==============================] - 3s 290us/sample - loss: 0.0025 - acc: 0.8375 - val_loss: 0.0025 - val_acc: 0.8375\n",
            "Epoch 31/50\n",
            "11997/11997 [==============================] - 3s 285us/sample - loss: 0.0025 - acc: 0.8375 - val_loss: 0.0025 - val_acc: 0.8375\n",
            "Epoch 32/50\n",
            "11997/11997 [==============================] - 3s 286us/sample - loss: 0.0025 - acc: 0.8375 - val_loss: 0.0025 - val_acc: 0.8375\n",
            "Epoch 33/50\n",
            "11997/11997 [==============================] - 4s 292us/sample - loss: 0.0025 - acc: 0.8375 - val_loss: 0.0025 - val_acc: 0.8375\n",
            "Epoch 34/50\n",
            "11997/11997 [==============================] - 3s 287us/sample - loss: 0.0025 - acc: 0.8375 - val_loss: 0.0025 - val_acc: 0.8375\n",
            "Epoch 35/50\n",
            "11997/11997 [==============================] - 3s 281us/sample - loss: 0.0025 - acc: 0.8375 - val_loss: 0.0025 - val_acc: 0.8375\n",
            "Epoch 36/50\n",
            "11997/11997 [==============================] - 3s 291us/sample - loss: 0.0025 - acc: 0.8375 - val_loss: 0.0025 - val_acc: 0.8375\n",
            "Epoch 37/50\n",
            "11997/11997 [==============================] - 3s 285us/sample - loss: 0.0025 - acc: 0.8375 - val_loss: 0.0025 - val_acc: 0.8375\n",
            "Epoch 38/50\n",
            "11997/11997 [==============================] - 3s 280us/sample - loss: 0.0025 - acc: 0.8375 - val_loss: 0.0025 - val_acc: 0.8375\n",
            "Epoch 39/50\n",
            "11997/11997 [==============================] - 3s 287us/sample - loss: 0.0025 - acc: 0.8375 - val_loss: 0.0025 - val_acc: 0.8375\n",
            "Epoch 40/50\n",
            "11997/11997 [==============================] - 3s 282us/sample - loss: 0.0025 - acc: 0.8375 - val_loss: 0.0025 - val_acc: 0.8375\n",
            "Epoch 41/50\n",
            "11997/11997 [==============================] - 3s 285us/sample - loss: 0.0025 - acc: 0.8375 - val_loss: 0.0025 - val_acc: 0.8375\n",
            "Epoch 42/50\n",
            "11997/11997 [==============================] - 4s 295us/sample - loss: 0.0025 - acc: 0.8375 - val_loss: 0.0025 - val_acc: 0.8375\n",
            "Epoch 43/50\n",
            "11997/11997 [==============================] - 3s 289us/sample - loss: 0.0025 - acc: 0.8375 - val_loss: 0.0025 - val_acc: 0.8375\n",
            "Epoch 44/50\n",
            "11997/11997 [==============================] - 3s 286us/sample - loss: 0.0025 - acc: 0.8375 - val_loss: 0.0025 - val_acc: 0.8375\n",
            "Epoch 45/50\n",
            "11997/11997 [==============================] - 4s 293us/sample - loss: 0.0025 - acc: 0.8375 - val_loss: 0.0025 - val_acc: 0.8375\n",
            "Epoch 46/50\n",
            "11997/11997 [==============================] - 3s 284us/sample - loss: 0.0025 - acc: 0.8375 - val_loss: 0.0025 - val_acc: 0.8375\n",
            "Epoch 47/50\n",
            "11997/11997 [==============================] - 4s 292us/sample - loss: 0.0025 - acc: 0.8375 - val_loss: 0.0025 - val_acc: 0.8375\n",
            "Epoch 48/50\n",
            "11997/11997 [==============================] - 3s 282us/sample - loss: 0.0025 - acc: 0.8375 - val_loss: 0.0025 - val_acc: 0.8375\n",
            "Epoch 49/50\n",
            "11997/11997 [==============================] - 4s 298us/sample - loss: 0.0025 - acc: 0.8375 - val_loss: 0.0024 - val_acc: 0.8375\n",
            "Epoch 50/50\n",
            "11997/11997 [==============================] - 4s 295us/sample - loss: 0.0025 - acc: 0.8375 - val_loss: 0.0024 - val_acc: 0.8375\n"
          ],
          "name": "stdout"
        },
        {
          "output_type": "execute_result",
          "data": {
            "text/plain": [
              "<tensorflow.python.keras.callbacks.History at 0x7fdf48e39cc0>"
            ]
          },
          "metadata": {
            "tags": []
          },
          "execution_count": 91
        }
      ]
    },
    {
      "cell_type": "code",
      "metadata": {
        "id": "i7iVtOzuIAff",
        "colab_type": "code",
        "outputId": "c533992d-28b4-4abc-c7eb-2f61fe021778",
        "colab": {
          "base_uri": "https://localhost:8080/",
          "height": 50
        }
      },
      "source": [
        "ypred = model.predict(X10)\n",
        "s=pd.DataFrame(ypred)\n",
        "s1=pd.DataFrame(y10)\n",
        "s1.corrwith(s, axis = 0) "
      ],
      "execution_count": 0,
      "outputs": [
        {
          "output_type": "execute_result",
          "data": {
            "text/plain": [
              "0    0.407734\n",
              "dtype: float64"
            ]
          },
          "metadata": {
            "tags": []
          },
          "execution_count": 92
        }
      ]
    },
    {
      "cell_type": "code",
      "metadata": {
        "id": "ZzIyxgSKLcls",
        "colab_type": "code",
        "outputId": "a31fd3e7-ea25-4f75-ac97-5825129b0986",
        "colab": {
          "base_uri": "https://localhost:8080/",
          "height": 34
        }
      },
      "source": [
        "r2_score(y10,ypred)"
      ],
      "execution_count": 0,
      "outputs": [
        {
          "output_type": "execute_result",
          "data": {
            "text/plain": [
              "0.16576215202313382"
            ]
          },
          "metadata": {
            "tags": []
          },
          "execution_count": 93
        }
      ]
    },
    {
      "cell_type": "code",
      "metadata": {
        "id": "Vz0yUtDVJSqy",
        "colab_type": "code",
        "outputId": "94276729-ec0e-45ac-9f1c-d206e71782cd",
        "colab": {
          "base_uri": "https://localhost:8080/",
          "height": 50
        }
      },
      "source": [
        "ypred1=model.predict(X_test10)\n",
        "s=pd.DataFrame(ypred1)\n",
        "s1=pd.DataFrame(y_test10)\n",
        "s1.corrwith(s,axis=0)"
      ],
      "execution_count": 0,
      "outputs": [
        {
          "output_type": "execute_result",
          "data": {
            "text/plain": [
              "0    0.407734\n",
              "dtype: float64"
            ]
          },
          "metadata": {
            "tags": []
          },
          "execution_count": 94
        }
      ]
    },
    {
      "cell_type": "code",
      "metadata": {
        "id": "3OvG7PKCLeB2",
        "colab_type": "code",
        "outputId": "834c92f4-df39-4de7-ceb8-bbf486789241",
        "colab": {
          "base_uri": "https://localhost:8080/",
          "height": 34
        }
      },
      "source": [
        "r2_score(y_test10,ypred1)"
      ],
      "execution_count": 0,
      "outputs": [
        {
          "output_type": "execute_result",
          "data": {
            "text/plain": [
              "0.16576215202313382"
            ]
          },
          "metadata": {
            "tags": []
          },
          "execution_count": 95
        }
      ]
    },
    {
      "cell_type": "code",
      "metadata": {
        "id": "9e2RJz20b4JB",
        "colab_type": "code",
        "outputId": "8b8ff9b7-bef2-4411-f422-4381c02c8ca4",
        "colab": {
          "base_uri": "https://localhost:8080/",
          "height": 34
        }
      },
      "source": [
        "mean_absolute_error(y_test10,ypred1)"
      ],
      "execution_count": 0,
      "outputs": [
        {
          "output_type": "execute_result",
          "data": {
            "text/plain": [
              "0.020017314230414487"
            ]
          },
          "metadata": {
            "tags": []
          },
          "execution_count": 96
        }
      ]
    },
    {
      "cell_type": "code",
      "metadata": {
        "id": "lSHbLk8Lb5Bo",
        "colab_type": "code",
        "outputId": "60f6be71-f0a5-44ba-d376-bacf68f9932d",
        "colab": {
          "base_uri": "https://localhost:8080/",
          "height": 34
        }
      },
      "source": [
        "mean_absolute_error(y10,ypred)"
      ],
      "execution_count": 0,
      "outputs": [
        {
          "output_type": "execute_result",
          "data": {
            "text/plain": [
              "0.020017314230414487"
            ]
          },
          "metadata": {
            "tags": []
          },
          "execution_count": 97
        }
      ]
    },
    {
      "cell_type": "code",
      "metadata": {
        "id": "WBFxiG7GtOdT",
        "colab_type": "code",
        "outputId": "c5d02e18-27a0-42cd-8348-f542194a6604",
        "colab": {
          "base_uri": "https://localhost:8080/",
          "height": 1000
        }
      },
      "source": [
        "model.fit(X11, y11, validation_data=(X_test11,y_test11),epochs=50)"
      ],
      "execution_count": 0,
      "outputs": [
        {
          "output_type": "stream",
          "text": [
            "Train on 11997 samples, validate on 11997 samples\n",
            "Epoch 1/50\n",
            "11997/11997 [==============================] - 4s 301us/sample - loss: 0.0028 - acc: 0.8450 - val_loss: 0.0027 - val_acc: 0.8450\n",
            "Epoch 2/50\n",
            "11997/11997 [==============================] - 4s 296us/sample - loss: 0.0027 - acc: 0.8450 - val_loss: 0.0027 - val_acc: 0.8450\n",
            "Epoch 3/50\n",
            "11997/11997 [==============================] - 4s 292us/sample - loss: 0.0027 - acc: 0.8450 - val_loss: 0.0027 - val_acc: 0.8450\n",
            "Epoch 4/50\n",
            "11997/11997 [==============================] - 4s 295us/sample - loss: 0.0027 - acc: 0.8450 - val_loss: 0.0027 - val_acc: 0.8450\n",
            "Epoch 5/50\n",
            "11997/11997 [==============================] - 4s 292us/sample - loss: 0.0027 - acc: 0.8450 - val_loss: 0.0026 - val_acc: 0.8450\n",
            "Epoch 6/50\n",
            "11997/11997 [==============================] - 3s 289us/sample - loss: 0.0027 - acc: 0.8450 - val_loss: 0.0026 - val_acc: 0.8450\n",
            "Epoch 7/50\n",
            "11997/11997 [==============================] - 3s 291us/sample - loss: 0.0027 - acc: 0.8450 - val_loss: 0.0026 - val_acc: 0.8450\n",
            "Epoch 8/50\n",
            "11997/11997 [==============================] - 3s 285us/sample - loss: 0.0026 - acc: 0.8450 - val_loss: 0.0026 - val_acc: 0.8450\n",
            "Epoch 9/50\n",
            "11997/11997 [==============================] - 3s 284us/sample - loss: 0.0026 - acc: 0.8450 - val_loss: 0.0026 - val_acc: 0.8450\n",
            "Epoch 10/50\n",
            "11997/11997 [==============================] - 3s 281us/sample - loss: 0.0026 - acc: 0.8450 - val_loss: 0.0026 - val_acc: 0.8450\n",
            "Epoch 11/50\n",
            "11997/11997 [==============================] - 3s 279us/sample - loss: 0.0026 - acc: 0.8450 - val_loss: 0.0026 - val_acc: 0.8450\n",
            "Epoch 12/50\n",
            "11997/11997 [==============================] - 3s 282us/sample - loss: 0.0026 - acc: 0.8450 - val_loss: 0.0026 - val_acc: 0.8450\n",
            "Epoch 13/50\n",
            "11997/11997 [==============================] - 3s 283us/sample - loss: 0.0026 - acc: 0.8450 - val_loss: 0.0026 - val_acc: 0.8450\n",
            "Epoch 14/50\n",
            "11997/11997 [==============================] - 3s 285us/sample - loss: 0.0026 - acc: 0.8450 - val_loss: 0.0026 - val_acc: 0.8450\n",
            "Epoch 15/50\n",
            "11997/11997 [==============================] - 3s 284us/sample - loss: 0.0026 - acc: 0.8450 - val_loss: 0.0026 - val_acc: 0.8450\n",
            "Epoch 16/50\n",
            "11997/11997 [==============================] - 3s 282us/sample - loss: 0.0026 - acc: 0.8450 - val_loss: 0.0026 - val_acc: 0.8450\n",
            "Epoch 17/50\n",
            "11997/11997 [==============================] - 3s 278us/sample - loss: 0.0026 - acc: 0.8450 - val_loss: 0.0026 - val_acc: 0.8450\n",
            "Epoch 18/50\n",
            "11997/11997 [==============================] - 3s 281us/sample - loss: 0.0026 - acc: 0.8450 - val_loss: 0.0026 - val_acc: 0.8450\n",
            "Epoch 19/50\n",
            "11997/11997 [==============================] - 3s 279us/sample - loss: 0.0026 - acc: 0.8450 - val_loss: 0.0026 - val_acc: 0.8450\n",
            "Epoch 20/50\n",
            "11997/11997 [==============================] - 3s 280us/sample - loss: 0.0026 - acc: 0.8450 - val_loss: 0.0026 - val_acc: 0.8450\n",
            "Epoch 21/50\n",
            "11997/11997 [==============================] - 3s 278us/sample - loss: 0.0026 - acc: 0.8450 - val_loss: 0.0026 - val_acc: 0.8450\n",
            "Epoch 22/50\n",
            "11997/11997 [==============================] - 3s 280us/sample - loss: 0.0026 - acc: 0.8450 - val_loss: 0.0026 - val_acc: 0.8450\n",
            "Epoch 23/50\n",
            "11997/11997 [==============================] - 3s 286us/sample - loss: 0.0026 - acc: 0.8450 - val_loss: 0.0026 - val_acc: 0.8450\n",
            "Epoch 24/50\n",
            "11997/11997 [==============================] - 4s 298us/sample - loss: 0.0026 - acc: 0.8450 - val_loss: 0.0026 - val_acc: 0.8450\n",
            "Epoch 25/50\n",
            "11997/11997 [==============================] - 4s 295us/sample - loss: 0.0026 - acc: 0.8450 - val_loss: 0.0026 - val_acc: 0.8450\n",
            "Epoch 26/50\n",
            "11997/11997 [==============================] - 4s 297us/sample - loss: 0.0026 - acc: 0.8450 - val_loss: 0.0026 - val_acc: 0.8450\n",
            "Epoch 27/50\n",
            "11997/11997 [==============================] - 4s 293us/sample - loss: 0.0026 - acc: 0.8450 - val_loss: 0.0026 - val_acc: 0.8450\n",
            "Epoch 28/50\n",
            "11997/11997 [==============================] - 4s 293us/sample - loss: 0.0026 - acc: 0.8450 - val_loss: 0.0026 - val_acc: 0.8450\n",
            "Epoch 29/50\n",
            "11997/11997 [==============================] - 4s 293us/sample - loss: 0.0026 - acc: 0.8450 - val_loss: 0.0026 - val_acc: 0.8450\n",
            "Epoch 30/50\n",
            "11997/11997 [==============================] - 3s 291us/sample - loss: 0.0026 - acc: 0.8450 - val_loss: 0.0026 - val_acc: 0.8450\n",
            "Epoch 31/50\n",
            "11997/11997 [==============================] - 4s 296us/sample - loss: 0.0026 - acc: 0.8450 - val_loss: 0.0026 - val_acc: 0.8450\n",
            "Epoch 32/50\n",
            "11997/11997 [==============================] - 4s 301us/sample - loss: 0.0026 - acc: 0.8450 - val_loss: 0.0026 - val_acc: 0.8450\n",
            "Epoch 33/50\n",
            "11997/11997 [==============================] - 4s 299us/sample - loss: 0.0026 - acc: 0.8450 - val_loss: 0.0026 - val_acc: 0.8450\n",
            "Epoch 34/50\n",
            "11997/11997 [==============================] - 4s 296us/sample - loss: 0.0026 - acc: 0.8450 - val_loss: 0.0026 - val_acc: 0.8450\n",
            "Epoch 35/50\n",
            "11997/11997 [==============================] - 4s 298us/sample - loss: 0.0026 - acc: 0.8450 - val_loss: 0.0026 - val_acc: 0.8450\n",
            "Epoch 36/50\n",
            "11997/11997 [==============================] - 4s 297us/sample - loss: 0.0026 - acc: 0.8450 - val_loss: 0.0026 - val_acc: 0.8450\n",
            "Epoch 37/50\n",
            "11997/11997 [==============================] - 4s 297us/sample - loss: 0.0026 - acc: 0.8450 - val_loss: 0.0026 - val_acc: 0.8450\n",
            "Epoch 38/50\n",
            "11997/11997 [==============================] - 4s 299us/sample - loss: 0.0026 - acc: 0.8450 - val_loss: 0.0026 - val_acc: 0.8450\n",
            "Epoch 39/50\n",
            "11997/11997 [==============================] - 4s 294us/sample - loss: 0.0026 - acc: 0.8450 - val_loss: 0.0026 - val_acc: 0.8450\n",
            "Epoch 40/50\n",
            "11997/11997 [==============================] - 4s 297us/sample - loss: 0.0026 - acc: 0.8450 - val_loss: 0.0026 - val_acc: 0.8450\n",
            "Epoch 41/50\n",
            "11997/11997 [==============================] - 4s 295us/sample - loss: 0.0026 - acc: 0.8450 - val_loss: 0.0026 - val_acc: 0.8450\n",
            "Epoch 42/50\n",
            "11997/11997 [==============================] - 4s 296us/sample - loss: 0.0026 - acc: 0.8450 - val_loss: 0.0026 - val_acc: 0.8450\n",
            "Epoch 43/50\n",
            "11997/11997 [==============================] - 4s 296us/sample - loss: 0.0026 - acc: 0.8450 - val_loss: 0.0026 - val_acc: 0.8450\n",
            "Epoch 44/50\n",
            "11997/11997 [==============================] - 4s 297us/sample - loss: 0.0026 - acc: 0.8450 - val_loss: 0.0026 - val_acc: 0.8450\n",
            "Epoch 45/50\n",
            "11997/11997 [==============================] - 4s 297us/sample - loss: 0.0026 - acc: 0.8450 - val_loss: 0.0026 - val_acc: 0.8450\n",
            "Epoch 46/50\n",
            "11997/11997 [==============================] - 3s 291us/sample - loss: 0.0026 - acc: 0.8450 - val_loss: 0.0026 - val_acc: 0.8450\n",
            "Epoch 47/50\n",
            "11997/11997 [==============================] - 4s 296us/sample - loss: 0.0026 - acc: 0.8450 - val_loss: 0.0026 - val_acc: 0.8450\n",
            "Epoch 48/50\n",
            "11997/11997 [==============================] - 4s 297us/sample - loss: 0.0026 - acc: 0.8450 - val_loss: 0.0026 - val_acc: 0.8450\n",
            "Epoch 49/50\n",
            "11997/11997 [==============================] - 4s 300us/sample - loss: 0.0026 - acc: 0.8450 - val_loss: 0.0026 - val_acc: 0.8450\n",
            "Epoch 50/50\n",
            "11997/11997 [==============================] - 4s 297us/sample - loss: 0.0026 - acc: 0.8450 - val_loss: 0.0026 - val_acc: 0.8450\n"
          ],
          "name": "stdout"
        },
        {
          "output_type": "execute_result",
          "data": {
            "text/plain": [
              "<tensorflow.python.keras.callbacks.History at 0x7fdf48e39f60>"
            ]
          },
          "metadata": {
            "tags": []
          },
          "execution_count": 98
        }
      ]
    },
    {
      "cell_type": "code",
      "metadata": {
        "id": "TOytGCJYIByT",
        "colab_type": "code",
        "outputId": "43753673-4641-49fd-b2d1-63925fd355ae",
        "colab": {
          "base_uri": "https://localhost:8080/",
          "height": 50
        }
      },
      "source": [
        "ypred = model.predict(X11)\n",
        "s=pd.DataFrame(ypred)\n",
        "s1=pd.DataFrame(y11)\n",
        "s1.corrwith(s, axis = 0) "
      ],
      "execution_count": 0,
      "outputs": [
        {
          "output_type": "execute_result",
          "data": {
            "text/plain": [
              "0    0.363946\n",
              "dtype: float64"
            ]
          },
          "metadata": {
            "tags": []
          },
          "execution_count": 99
        }
      ]
    },
    {
      "cell_type": "code",
      "metadata": {
        "id": "iINdBIwoLTXh",
        "colab_type": "code",
        "outputId": "83f23f1c-aef0-4f4c-f7e4-83c1b8b4f3ea",
        "colab": {
          "base_uri": "https://localhost:8080/",
          "height": 34
        }
      },
      "source": [
        "r2_score(y11,ypred)"
      ],
      "execution_count": 0,
      "outputs": [
        {
          "output_type": "execute_result",
          "data": {
            "text/plain": [
              "0.13004061673986544"
            ]
          },
          "metadata": {
            "tags": []
          },
          "execution_count": 100
        }
      ]
    },
    {
      "cell_type": "code",
      "metadata": {
        "id": "4WAXVRGRJUGH",
        "colab_type": "code",
        "outputId": "5a2f1cab-90ae-4191-e057-cfc0b62e57d8",
        "colab": {
          "base_uri": "https://localhost:8080/",
          "height": 50
        }
      },
      "source": [
        "ypred1=model.predict(X_test11)\n",
        "s=pd.DataFrame(ypred1)\n",
        "s1=pd.DataFrame(y_test11)\n",
        "s1.corrwith(s,axis=0)"
      ],
      "execution_count": 0,
      "outputs": [
        {
          "output_type": "execute_result",
          "data": {
            "text/plain": [
              "0    0.363946\n",
              "dtype: float64"
            ]
          },
          "metadata": {
            "tags": []
          },
          "execution_count": 101
        }
      ]
    },
    {
      "cell_type": "code",
      "metadata": {
        "id": "IteaW7lyLXic",
        "colab_type": "code",
        "outputId": "d2145764-659f-4d44-fe5a-2024cef42cd2",
        "colab": {
          "base_uri": "https://localhost:8080/",
          "height": 34
        }
      },
      "source": [
        "r2_score(y_test11,ypred1)"
      ],
      "execution_count": 0,
      "outputs": [
        {
          "output_type": "execute_result",
          "data": {
            "text/plain": [
              "0.13004061673986544"
            ]
          },
          "metadata": {
            "tags": []
          },
          "execution_count": 102
        }
      ]
    },
    {
      "cell_type": "code",
      "metadata": {
        "id": "dR8eWYdab9x0",
        "colab_type": "code",
        "outputId": "5e16bf7b-1352-4a87-dbe4-0c2a3214742b",
        "colab": {
          "base_uri": "https://localhost:8080/",
          "height": 34
        }
      },
      "source": [
        "mean_absolute_error(y_test11,ypred1)"
      ],
      "execution_count": 0,
      "outputs": [
        {
          "output_type": "execute_result",
          "data": {
            "text/plain": [
              "0.021960208153782978"
            ]
          },
          "metadata": {
            "tags": []
          },
          "execution_count": 103
        }
      ]
    },
    {
      "cell_type": "code",
      "metadata": {
        "id": "EQmn_nV5b_wQ",
        "colab_type": "code",
        "outputId": "5bd2c8f5-0148-45ce-aea8-fcfca557c31e",
        "colab": {
          "base_uri": "https://localhost:8080/",
          "height": 34
        }
      },
      "source": [
        "mean_absolute_error(y11,ypred)"
      ],
      "execution_count": 0,
      "outputs": [
        {
          "output_type": "execute_result",
          "data": {
            "text/plain": [
              "0.021960208153782978"
            ]
          },
          "metadata": {
            "tags": []
          },
          "execution_count": 104
        }
      ]
    },
    {
      "cell_type": "code",
      "metadata": {
        "id": "uin8xQNXB74p",
        "colab_type": "code",
        "outputId": "3ea23f97-82e7-4eac-9193-272873a6af3d",
        "colab": {
          "base_uri": "https://localhost:8080/",
          "height": 1000
        }
      },
      "source": [
        "model.fit(X12, y12, validation_data=(X_test12,y_test12),epochs=50)"
      ],
      "execution_count": 0,
      "outputs": [
        {
          "output_type": "stream",
          "text": [
            "Train on 11997 samples, validate on 11997 samples\n",
            "Epoch 1/50\n",
            "11997/11997 [==============================] - 4s 302us/sample - loss: 0.0018 - acc: 0.8385 - val_loss: 0.0017 - val_acc: 0.8385\n",
            "Epoch 2/50\n",
            "11997/11997 [==============================] - 4s 294us/sample - loss: 0.0017 - acc: 0.8385 - val_loss: 0.0017 - val_acc: 0.8385\n",
            "Epoch 3/50\n",
            "11997/11997 [==============================] - 4s 297us/sample - loss: 0.0017 - acc: 0.8385 - val_loss: 0.0017 - val_acc: 0.8385\n",
            "Epoch 4/50\n",
            "11997/11997 [==============================] - 4s 292us/sample - loss: 0.0017 - acc: 0.8385 - val_loss: 0.0017 - val_acc: 0.8385\n",
            "Epoch 5/50\n",
            "11997/11997 [==============================] - 4s 295us/sample - loss: 0.0017 - acc: 0.8385 - val_loss: 0.0017 - val_acc: 0.8385\n",
            "Epoch 6/50\n",
            "11997/11997 [==============================] - 4s 298us/sample - loss: 0.0017 - acc: 0.8385 - val_loss: 0.0017 - val_acc: 0.8385\n",
            "Epoch 7/50\n",
            "11997/11997 [==============================] - 4s 295us/sample - loss: 0.0017 - acc: 0.8385 - val_loss: 0.0017 - val_acc: 0.8385\n",
            "Epoch 8/50\n",
            "11997/11997 [==============================] - 4s 293us/sample - loss: 0.0017 - acc: 0.8385 - val_loss: 0.0017 - val_acc: 0.8385\n",
            "Epoch 9/50\n",
            "11997/11997 [==============================] - 3s 292us/sample - loss: 0.0017 - acc: 0.8385 - val_loss: 0.0017 - val_acc: 0.8385\n",
            "Epoch 10/50\n",
            "11997/11997 [==============================] - 4s 298us/sample - loss: 0.0017 - acc: 0.8385 - val_loss: 0.0017 - val_acc: 0.8385\n",
            "Epoch 11/50\n",
            "11997/11997 [==============================] - 4s 297us/sample - loss: 0.0017 - acc: 0.8385 - val_loss: 0.0017 - val_acc: 0.8385\n",
            "Epoch 12/50\n",
            "11997/11997 [==============================] - 4s 297us/sample - loss: 0.0017 - acc: 0.8385 - val_loss: 0.0017 - val_acc: 0.8385\n",
            "Epoch 13/50\n",
            "11997/11997 [==============================] - 4s 300us/sample - loss: 0.0017 - acc: 0.8385 - val_loss: 0.0016 - val_acc: 0.8385\n",
            "Epoch 14/50\n",
            "11997/11997 [==============================] - 4s 302us/sample - loss: 0.0017 - acc: 0.8385 - val_loss: 0.0017 - val_acc: 0.8385\n",
            "Epoch 15/50\n",
            "11997/11997 [==============================] - 4s 311us/sample - loss: 0.0017 - acc: 0.8385 - val_loss: 0.0017 - val_acc: 0.8385\n",
            "Epoch 16/50\n",
            "11997/11997 [==============================] - 4s 317us/sample - loss: 0.0017 - acc: 0.8385 - val_loss: 0.0017 - val_acc: 0.8385\n",
            "Epoch 17/50\n",
            "11997/11997 [==============================] - 4s 297us/sample - loss: 0.0017 - acc: 0.8385 - val_loss: 0.0016 - val_acc: 0.8385\n",
            "Epoch 18/50\n",
            "11997/11997 [==============================] - 4s 295us/sample - loss: 0.0017 - acc: 0.8385 - val_loss: 0.0017 - val_acc: 0.8385\n",
            "Epoch 19/50\n",
            "11997/11997 [==============================] - 4s 299us/sample - loss: 0.0017 - acc: 0.8385 - val_loss: 0.0016 - val_acc: 0.8385\n",
            "Epoch 20/50\n",
            "11997/11997 [==============================] - 4s 297us/sample - loss: 0.0017 - acc: 0.8385 - val_loss: 0.0016 - val_acc: 0.8385\n",
            "Epoch 21/50\n",
            "11997/11997 [==============================] - 4s 295us/sample - loss: 0.0017 - acc: 0.8385 - val_loss: 0.0017 - val_acc: 0.8385\n",
            "Epoch 22/50\n",
            "11997/11997 [==============================] - 3s 291us/sample - loss: 0.0017 - acc: 0.8385 - val_loss: 0.0016 - val_acc: 0.8385\n",
            "Epoch 23/50\n",
            "11997/11997 [==============================] - 4s 294us/sample - loss: 0.0016 - acc: 0.8385 - val_loss: 0.0016 - val_acc: 0.8385\n",
            "Epoch 24/50\n",
            "11997/11997 [==============================] - 4s 295us/sample - loss: 0.0016 - acc: 0.8385 - val_loss: 0.0017 - val_acc: 0.8385\n",
            "Epoch 25/50\n",
            "11997/11997 [==============================] - 4s 297us/sample - loss: 0.0017 - acc: 0.8385 - val_loss: 0.0016 - val_acc: 0.8385\n",
            "Epoch 26/50\n",
            "11997/11997 [==============================] - 4s 292us/sample - loss: 0.0016 - acc: 0.8385 - val_loss: 0.0016 - val_acc: 0.8385\n",
            "Epoch 27/50\n",
            "11997/11997 [==============================] - 4s 296us/sample - loss: 0.0016 - acc: 0.8385 - val_loss: 0.0016 - val_acc: 0.8385\n",
            "Epoch 28/50\n",
            "11997/11997 [==============================] - 4s 302us/sample - loss: 0.0016 - acc: 0.8385 - val_loss: 0.0016 - val_acc: 0.8385\n",
            "Epoch 29/50\n",
            "11997/11997 [==============================] - 4s 296us/sample - loss: 0.0016 - acc: 0.8385 - val_loss: 0.0016 - val_acc: 0.8385\n",
            "Epoch 30/50\n",
            "11997/11997 [==============================] - 4s 294us/sample - loss: 0.0016 - acc: 0.8385 - val_loss: 0.0016 - val_acc: 0.8385\n",
            "Epoch 31/50\n",
            "11997/11997 [==============================] - 4s 297us/sample - loss: 0.0016 - acc: 0.8385 - val_loss: 0.0016 - val_acc: 0.8385\n",
            "Epoch 32/50\n",
            "11997/11997 [==============================] - 4s 295us/sample - loss: 0.0016 - acc: 0.8385 - val_loss: 0.0016 - val_acc: 0.8385\n",
            "Epoch 33/50\n",
            "11997/11997 [==============================] - 4s 294us/sample - loss: 0.0016 - acc: 0.8385 - val_loss: 0.0016 - val_acc: 0.8385\n",
            "Epoch 34/50\n",
            "11997/11997 [==============================] - 4s 297us/sample - loss: 0.0016 - acc: 0.8385 - val_loss: 0.0016 - val_acc: 0.8385\n",
            "Epoch 35/50\n",
            "11997/11997 [==============================] - 4s 299us/sample - loss: 0.0016 - acc: 0.8385 - val_loss: 0.0016 - val_acc: 0.8385\n",
            "Epoch 36/50\n",
            "11997/11997 [==============================] - 4s 301us/sample - loss: 0.0016 - acc: 0.8385 - val_loss: 0.0016 - val_acc: 0.8385\n",
            "Epoch 37/50\n",
            "11997/11997 [==============================] - 4s 294us/sample - loss: 0.0016 - acc: 0.8385 - val_loss: 0.0016 - val_acc: 0.8385\n",
            "Epoch 38/50\n",
            "11997/11997 [==============================] - 4s 292us/sample - loss: 0.0016 - acc: 0.8385 - val_loss: 0.0016 - val_acc: 0.8385\n",
            "Epoch 39/50\n",
            "11997/11997 [==============================] - 4s 292us/sample - loss: 0.0016 - acc: 0.8385 - val_loss: 0.0016 - val_acc: 0.8385\n",
            "Epoch 40/50\n",
            "11997/11997 [==============================] - 4s 292us/sample - loss: 0.0016 - acc: 0.8385 - val_loss: 0.0016 - val_acc: 0.8385\n",
            "Epoch 41/50\n",
            "11997/11997 [==============================] - 4s 292us/sample - loss: 0.0016 - acc: 0.8385 - val_loss: 0.0016 - val_acc: 0.8385\n",
            "Epoch 42/50\n",
            "11997/11997 [==============================] - 4s 294us/sample - loss: 0.0016 - acc: 0.8385 - val_loss: 0.0016 - val_acc: 0.8385\n",
            "Epoch 43/50\n",
            "11997/11997 [==============================] - 4s 293us/sample - loss: 0.0016 - acc: 0.8385 - val_loss: 0.0016 - val_acc: 0.8385\n",
            "Epoch 44/50\n",
            "11997/11997 [==============================] - 4s 292us/sample - loss: 0.0016 - acc: 0.8385 - val_loss: 0.0016 - val_acc: 0.8385\n",
            "Epoch 45/50\n",
            "11997/11997 [==============================] - 4s 294us/sample - loss: 0.0016 - acc: 0.8385 - val_loss: 0.0016 - val_acc: 0.8385\n",
            "Epoch 46/50\n",
            "11997/11997 [==============================] - 4s 295us/sample - loss: 0.0016 - acc: 0.8385 - val_loss: 0.0016 - val_acc: 0.8385\n",
            "Epoch 47/50\n",
            "11997/11997 [==============================] - 4s 292us/sample - loss: 0.0016 - acc: 0.8385 - val_loss: 0.0016 - val_acc: 0.8385\n",
            "Epoch 48/50\n",
            "11997/11997 [==============================] - 3s 288us/sample - loss: 0.0016 - acc: 0.8385 - val_loss: 0.0016 - val_acc: 0.8385\n",
            "Epoch 49/50\n",
            "11997/11997 [==============================] - 4s 296us/sample - loss: 0.0016 - acc: 0.8385 - val_loss: 0.0016 - val_acc: 0.8385\n",
            "Epoch 50/50\n",
            "11997/11997 [==============================] - 4s 293us/sample - loss: 0.0016 - acc: 0.8385 - val_loss: 0.0016 - val_acc: 0.8385\n"
          ],
          "name": "stdout"
        },
        {
          "output_type": "execute_result",
          "data": {
            "text/plain": [
              "<tensorflow.python.keras.callbacks.History at 0x7fdf48ea9ef0>"
            ]
          },
          "metadata": {
            "tags": []
          },
          "execution_count": 105
        }
      ]
    },
    {
      "cell_type": "code",
      "metadata": {
        "id": "cdlcVaWfIDEI",
        "colab_type": "code",
        "outputId": "2057b791-cc67-4b7e-af5e-834d4b7f588f",
        "colab": {
          "base_uri": "https://localhost:8080/",
          "height": 50
        }
      },
      "source": [
        "ypred = model.predict(X12)\n",
        "s=pd.DataFrame(ypred)\n",
        "s1=pd.DataFrame(y12)\n",
        "s1.corrwith(s, axis = 0) "
      ],
      "execution_count": 0,
      "outputs": [
        {
          "output_type": "execute_result",
          "data": {
            "text/plain": [
              "0    0.435704\n",
              "dtype: float64"
            ]
          },
          "metadata": {
            "tags": []
          },
          "execution_count": 106
        }
      ]
    },
    {
      "cell_type": "code",
      "metadata": {
        "id": "lcIK1vV7LH0l",
        "colab_type": "code",
        "outputId": "ea219f6d-a4fe-4de7-fe8d-f5472bdea56c",
        "colab": {
          "base_uri": "https://localhost:8080/",
          "height": 34
        }
      },
      "source": [
        "r2_score(y12,ypred)"
      ],
      "execution_count": 0,
      "outputs": [
        {
          "output_type": "execute_result",
          "data": {
            "text/plain": [
              "0.18787185907128146"
            ]
          },
          "metadata": {
            "tags": []
          },
          "execution_count": 107
        }
      ]
    },
    {
      "cell_type": "code",
      "metadata": {
        "id": "C1dAhjw5JWAB",
        "colab_type": "code",
        "outputId": "cd939f6e-cac6-4df7-8361-828492099c15",
        "colab": {
          "base_uri": "https://localhost:8080/",
          "height": 50
        }
      },
      "source": [
        "ypred1=model.predict(X_test12)\n",
        "s=pd.DataFrame(ypred1)\n",
        "s1=pd.DataFrame(y_test12)\n",
        "s1.corrwith(s,axis=0)"
      ],
      "execution_count": 0,
      "outputs": [
        {
          "output_type": "execute_result",
          "data": {
            "text/plain": [
              "0    0.435704\n",
              "dtype: float64"
            ]
          },
          "metadata": {
            "tags": []
          },
          "execution_count": 108
        }
      ]
    },
    {
      "cell_type": "code",
      "metadata": {
        "id": "SUu9HNNALKXT",
        "colab_type": "code",
        "outputId": "608948cb-9992-4f4f-b4e2-20e15596860a",
        "colab": {
          "base_uri": "https://localhost:8080/",
          "height": 34
        }
      },
      "source": [
        "r2_score(y_test12,ypred1)"
      ],
      "execution_count": 0,
      "outputs": [
        {
          "output_type": "execute_result",
          "data": {
            "text/plain": [
              "0.18787185907128146"
            ]
          },
          "metadata": {
            "tags": []
          },
          "execution_count": 109
        }
      ]
    },
    {
      "cell_type": "code",
      "metadata": {
        "id": "h2tbAJ9kcHAn",
        "colab_type": "code",
        "outputId": "f86a2469-c62c-443f-80b9-ef904a712a27",
        "colab": {
          "base_uri": "https://localhost:8080/",
          "height": 34
        }
      },
      "source": [
        "mean_absolute_error(y_test12,ypred1)"
      ],
      "execution_count": 0,
      "outputs": [
        {
          "output_type": "execute_result",
          "data": {
            "text/plain": [
              "0.014595528874820855"
            ]
          },
          "metadata": {
            "tags": []
          },
          "execution_count": 110
        }
      ]
    },
    {
      "cell_type": "code",
      "metadata": {
        "id": "mH7-ROQ-cJPL",
        "colab_type": "code",
        "outputId": "2ff4e5b5-6036-4321-e54f-d09f66226a04",
        "colab": {
          "base_uri": "https://localhost:8080/",
          "height": 34
        }
      },
      "source": [
        "mean_absolute_error(y12,ypred)"
      ],
      "execution_count": 0,
      "outputs": [
        {
          "output_type": "execute_result",
          "data": {
            "text/plain": [
              "0.014595528874820855"
            ]
          },
          "metadata": {
            "tags": []
          },
          "execution_count": 111
        }
      ]
    },
    {
      "cell_type": "code",
      "metadata": {
        "id": "q24UogQuB8LN",
        "colab_type": "code",
        "outputId": "5113137a-8f6c-4279-f972-053a6b9c040b",
        "colab": {
          "base_uri": "https://localhost:8080/",
          "height": 1000
        }
      },
      "source": [
        "model.fit(X13, y13, validation_data=(X_test13,y_test13),epochs=50)"
      ],
      "execution_count": 0,
      "outputs": [
        {
          "output_type": "stream",
          "text": [
            "Train on 11997 samples, validate on 11997 samples\n",
            "Epoch 1/50\n",
            "11997/11997 [==============================] - 4s 294us/sample - loss: 0.0027 - acc: 0.8430 - val_loss: 0.0026 - val_acc: 0.8430\n",
            "Epoch 2/50\n",
            "11997/11997 [==============================] - 4s 295us/sample - loss: 0.0026 - acc: 0.8430 - val_loss: 0.0026 - val_acc: 0.8430\n",
            "Epoch 3/50\n",
            "11997/11997 [==============================] - 4s 293us/sample - loss: 0.0026 - acc: 0.8430 - val_loss: 0.0026 - val_acc: 0.8430\n",
            "Epoch 4/50\n",
            "11997/11997 [==============================] - 4s 296us/sample - loss: 0.0026 - acc: 0.8430 - val_loss: 0.0026 - val_acc: 0.8430\n",
            "Epoch 5/50\n",
            "11997/11997 [==============================] - 4s 297us/sample - loss: 0.0026 - acc: 0.8430 - val_loss: 0.0026 - val_acc: 0.8430\n",
            "Epoch 6/50\n",
            "11997/11997 [==============================] - 4s 296us/sample - loss: 0.0026 - acc: 0.8430 - val_loss: 0.0026 - val_acc: 0.8430\n",
            "Epoch 7/50\n",
            "11997/11997 [==============================] - 4s 294us/sample - loss: 0.0026 - acc: 0.8430 - val_loss: 0.0026 - val_acc: 0.8430\n",
            "Epoch 8/50\n",
            "11997/11997 [==============================] - 4s 299us/sample - loss: 0.0026 - acc: 0.8430 - val_loss: 0.0026 - val_acc: 0.8430\n",
            "Epoch 9/50\n",
            "11997/11997 [==============================] - 4s 292us/sample - loss: 0.0026 - acc: 0.8430 - val_loss: 0.0026 - val_acc: 0.8430\n",
            "Epoch 10/50\n",
            "11997/11997 [==============================] - 4s 293us/sample - loss: 0.0026 - acc: 0.8430 - val_loss: 0.0026 - val_acc: 0.8430\n",
            "Epoch 11/50\n",
            "11997/11997 [==============================] - 4s 293us/sample - loss: 0.0026 - acc: 0.8430 - val_loss: 0.0026 - val_acc: 0.8430\n",
            "Epoch 12/50\n",
            "11997/11997 [==============================] - 3s 290us/sample - loss: 0.0026 - acc: 0.8430 - val_loss: 0.0026 - val_acc: 0.8430\n",
            "Epoch 13/50\n",
            "11997/11997 [==============================] - 4s 295us/sample - loss: 0.0026 - acc: 0.8430 - val_loss: 0.0026 - val_acc: 0.8430\n",
            "Epoch 14/50\n",
            "11997/11997 [==============================] - 3s 290us/sample - loss: 0.0026 - acc: 0.8430 - val_loss: 0.0026 - val_acc: 0.8430\n",
            "Epoch 15/50\n",
            "11997/11997 [==============================] - 3s 291us/sample - loss: 0.0026 - acc: 0.8430 - val_loss: 0.0026 - val_acc: 0.8430\n",
            "Epoch 16/50\n",
            "11997/11997 [==============================] - 4s 293us/sample - loss: 0.0026 - acc: 0.8430 - val_loss: 0.0025 - val_acc: 0.8430\n",
            "Epoch 17/50\n",
            "11997/11997 [==============================] - 4s 293us/sample - loss: 0.0026 - acc: 0.8430 - val_loss: 0.0026 - val_acc: 0.8430\n",
            "Epoch 18/50\n",
            "11997/11997 [==============================] - 4s 294us/sample - loss: 0.0026 - acc: 0.8430 - val_loss: 0.0026 - val_acc: 0.8430\n",
            "Epoch 19/50\n",
            "11997/11997 [==============================] - 4s 293us/sample - loss: 0.0026 - acc: 0.8430 - val_loss: 0.0026 - val_acc: 0.8430\n",
            "Epoch 20/50\n",
            "11997/11997 [==============================] - 3s 289us/sample - loss: 0.0026 - acc: 0.8430 - val_loss: 0.0025 - val_acc: 0.8430\n",
            "Epoch 21/50\n",
            "11997/11997 [==============================] - 3s 290us/sample - loss: 0.0026 - acc: 0.8430 - val_loss: 0.0025 - val_acc: 0.8430\n",
            "Epoch 22/50\n",
            "11997/11997 [==============================] - 3s 288us/sample - loss: 0.0026 - acc: 0.8430 - val_loss: 0.0025 - val_acc: 0.8430\n",
            "Epoch 23/50\n",
            "11997/11997 [==============================] - 3s 290us/sample - loss: 0.0026 - acc: 0.8430 - val_loss: 0.0025 - val_acc: 0.8430\n",
            "Epoch 24/50\n",
            "11997/11997 [==============================] - 3s 290us/sample - loss: 0.0026 - acc: 0.8430 - val_loss: 0.0025 - val_acc: 0.8430\n",
            "Epoch 25/50\n",
            "11997/11997 [==============================] - 3s 287us/sample - loss: 0.0026 - acc: 0.8430 - val_loss: 0.0025 - val_acc: 0.8430\n",
            "Epoch 26/50\n",
            "11997/11997 [==============================] - 4s 293us/sample - loss: 0.0026 - acc: 0.8430 - val_loss: 0.0026 - val_acc: 0.8430\n",
            "Epoch 27/50\n",
            "11997/11997 [==============================] - 4s 300us/sample - loss: 0.0026 - acc: 0.8430 - val_loss: 0.0025 - val_acc: 0.8430\n",
            "Epoch 28/50\n",
            "11997/11997 [==============================] - 4s 301us/sample - loss: 0.0026 - acc: 0.8430 - val_loss: 0.0025 - val_acc: 0.8430\n",
            "Epoch 29/50\n",
            "11997/11997 [==============================] - 4s 305us/sample - loss: 0.0026 - acc: 0.8430 - val_loss: 0.0025 - val_acc: 0.8430\n",
            "Epoch 30/50\n",
            "11997/11997 [==============================] - 4s 297us/sample - loss: 0.0026 - acc: 0.8430 - val_loss: 0.0025 - val_acc: 0.8430\n",
            "Epoch 31/50\n",
            "11997/11997 [==============================] - 4s 298us/sample - loss: 0.0026 - acc: 0.8430 - val_loss: 0.0025 - val_acc: 0.8430\n",
            "Epoch 32/50\n",
            "11997/11997 [==============================] - 4s 306us/sample - loss: 0.0026 - acc: 0.8430 - val_loss: 0.0025 - val_acc: 0.8430\n",
            "Epoch 33/50\n",
            "11997/11997 [==============================] - 4s 304us/sample - loss: 0.0026 - acc: 0.8430 - val_loss: 0.0025 - val_acc: 0.8430\n",
            "Epoch 34/50\n",
            "11997/11997 [==============================] - 4s 299us/sample - loss: 0.0025 - acc: 0.8430 - val_loss: 0.0025 - val_acc: 0.8430\n",
            "Epoch 35/50\n",
            "11997/11997 [==============================] - 4s 299us/sample - loss: 0.0025 - acc: 0.8430 - val_loss: 0.0025 - val_acc: 0.8430\n",
            "Epoch 36/50\n",
            "11997/11997 [==============================] - 4s 301us/sample - loss: 0.0025 - acc: 0.8430 - val_loss: 0.0026 - val_acc: 0.8430\n",
            "Epoch 37/50\n",
            "11997/11997 [==============================] - 3s 291us/sample - loss: 0.0026 - acc: 0.8430 - val_loss: 0.0025 - val_acc: 0.8430\n",
            "Epoch 38/50\n",
            "11997/11997 [==============================] - 4s 294us/sample - loss: 0.0025 - acc: 0.8430 - val_loss: 0.0025 - val_acc: 0.8430\n",
            "Epoch 39/50\n",
            "11997/11997 [==============================] - 4s 293us/sample - loss: 0.0025 - acc: 0.8430 - val_loss: 0.0026 - val_acc: 0.8430\n",
            "Epoch 40/50\n",
            "11997/11997 [==============================] - 4s 292us/sample - loss: 0.0025 - acc: 0.8430 - val_loss: 0.0026 - val_acc: 0.8430\n",
            "Epoch 41/50\n",
            "11997/11997 [==============================] - 4s 295us/sample - loss: 0.0025 - acc: 0.8430 - val_loss: 0.0025 - val_acc: 0.8430\n",
            "Epoch 42/50\n",
            "11997/11997 [==============================] - 4s 296us/sample - loss: 0.0025 - acc: 0.8430 - val_loss: 0.0025 - val_acc: 0.8430\n",
            "Epoch 43/50\n",
            "11997/11997 [==============================] - 4s 297us/sample - loss: 0.0025 - acc: 0.8430 - val_loss: 0.0025 - val_acc: 0.8430\n",
            "Epoch 44/50\n",
            "11997/11997 [==============================] - 4s 296us/sample - loss: 0.0025 - acc: 0.8430 - val_loss: 0.0025 - val_acc: 0.8430\n",
            "Epoch 45/50\n",
            "11997/11997 [==============================] - 4s 297us/sample - loss: 0.0025 - acc: 0.8430 - val_loss: 0.0025 - val_acc: 0.8430\n",
            "Epoch 46/50\n",
            "11997/11997 [==============================] - 4s 297us/sample - loss: 0.0025 - acc: 0.8430 - val_loss: 0.0025 - val_acc: 0.8430\n",
            "Epoch 47/50\n",
            "11997/11997 [==============================] - 4s 297us/sample - loss: 0.0025 - acc: 0.8430 - val_loss: 0.0025 - val_acc: 0.8430\n",
            "Epoch 48/50\n",
            "11997/11997 [==============================] - 3s 292us/sample - loss: 0.0025 - acc: 0.8430 - val_loss: 0.0025 - val_acc: 0.8430\n",
            "Epoch 49/50\n",
            "11997/11997 [==============================] - 4s 293us/sample - loss: 0.0025 - acc: 0.8430 - val_loss: 0.0025 - val_acc: 0.8430\n",
            "Epoch 50/50\n",
            "11997/11997 [==============================] - 4s 297us/sample - loss: 0.0025 - acc: 0.8430 - val_loss: 0.0025 - val_acc: 0.8430\n"
          ],
          "name": "stdout"
        },
        {
          "output_type": "execute_result",
          "data": {
            "text/plain": [
              "<tensorflow.python.keras.callbacks.History at 0x7fdf48e578d0>"
            ]
          },
          "metadata": {
            "tags": []
          },
          "execution_count": 112
        }
      ]
    },
    {
      "cell_type": "code",
      "metadata": {
        "id": "VhNbhU3fIE3L",
        "colab_type": "code",
        "outputId": "bf6fefff-224c-494f-ed73-2296e5d52528",
        "colab": {
          "base_uri": "https://localhost:8080/",
          "height": 50
        }
      },
      "source": [
        "ypred = model.predict(X13)\n",
        "s=pd.DataFrame(ypred)\n",
        "s1=pd.DataFrame(y13)\n",
        "s1.corrwith(s, axis = 0) "
      ],
      "execution_count": 0,
      "outputs": [
        {
          "output_type": "execute_result",
          "data": {
            "text/plain": [
              "0    0.387629\n",
              "dtype: float64"
            ]
          },
          "metadata": {
            "tags": []
          },
          "execution_count": 113
        }
      ]
    },
    {
      "cell_type": "code",
      "metadata": {
        "id": "rDtK58AIK8cY",
        "colab_type": "code",
        "outputId": "1fca7c71-c570-47ba-d6c4-56184ed4bb06",
        "colab": {
          "base_uri": "https://localhost:8080/",
          "height": 34
        }
      },
      "source": [
        "r2_score(y13,ypred)"
      ],
      "execution_count": 0,
      "outputs": [
        {
          "output_type": "execute_result",
          "data": {
            "text/plain": [
              "0.14855341609634465"
            ]
          },
          "metadata": {
            "tags": []
          },
          "execution_count": 114
        }
      ]
    },
    {
      "cell_type": "code",
      "metadata": {
        "id": "aRT60eIMJXc9",
        "colab_type": "code",
        "outputId": "4a106b4f-f897-427b-9fdb-96d25e7095d3",
        "colab": {
          "base_uri": "https://localhost:8080/",
          "height": 50
        }
      },
      "source": [
        "ypred1=model.predict(X_test13)\n",
        "s=pd.DataFrame(ypred1)\n",
        "s1=pd.DataFrame(y_test13)\n",
        "s1.corrwith(s,axis=0)"
      ],
      "execution_count": 0,
      "outputs": [
        {
          "output_type": "execute_result",
          "data": {
            "text/plain": [
              "0    0.387629\n",
              "dtype: float64"
            ]
          },
          "metadata": {
            "tags": []
          },
          "execution_count": 115
        }
      ]
    },
    {
      "cell_type": "code",
      "metadata": {
        "id": "5xh4_heUK-xf",
        "colab_type": "code",
        "outputId": "05640152-b2cb-4a40-8d74-c1f2b7276695",
        "colab": {
          "base_uri": "https://localhost:8080/",
          "height": 34
        }
      },
      "source": [
        "r2_score(y_test13,ypred1)"
      ],
      "execution_count": 0,
      "outputs": [
        {
          "output_type": "execute_result",
          "data": {
            "text/plain": [
              "0.14855341609634465"
            ]
          },
          "metadata": {
            "tags": []
          },
          "execution_count": 116
        }
      ]
    },
    {
      "cell_type": "code",
      "metadata": {
        "id": "KFzCJDbpcMx8",
        "colab_type": "code",
        "outputId": "688f6cb6-a60c-4dc0-eef9-f377a91cca67",
        "colab": {
          "base_uri": "https://localhost:8080/",
          "height": 34
        }
      },
      "source": [
        "mean_absolute_error(y_test13,ypred1)"
      ],
      "execution_count": 0,
      "outputs": [
        {
          "output_type": "execute_result",
          "data": {
            "text/plain": [
              "0.021429910154602893"
            ]
          },
          "metadata": {
            "tags": []
          },
          "execution_count": 117
        }
      ]
    },
    {
      "cell_type": "code",
      "metadata": {
        "id": "O41sYTw2cO27",
        "colab_type": "code",
        "outputId": "6efac109-3964-412a-b26a-2e6c99ee0d0b",
        "colab": {
          "base_uri": "https://localhost:8080/",
          "height": 34
        }
      },
      "source": [
        "mean_absolute_error(y13,ypred)"
      ],
      "execution_count": 0,
      "outputs": [
        {
          "output_type": "execute_result",
          "data": {
            "text/plain": [
              "0.021429910154602893"
            ]
          },
          "metadata": {
            "tags": []
          },
          "execution_count": 118
        }
      ]
    },
    {
      "cell_type": "code",
      "metadata": {
        "id": "ZOiZXqKJB8jC",
        "colab_type": "code",
        "outputId": "cf60bad7-a0cc-4f05-e4ac-a0e4bfd8ed80",
        "colab": {
          "base_uri": "https://localhost:8080/",
          "height": 1000
        }
      },
      "source": [
        "model.fit(X14, y14, validation_data=(X_test14,y_test14),epochs=50)"
      ],
      "execution_count": 0,
      "outputs": [
        {
          "output_type": "stream",
          "text": [
            "Train on 11997 samples, validate on 11997 samples\n",
            "Epoch 1/50\n",
            "11997/11997 [==============================] - 4s 308us/sample - loss: 0.0026 - acc: 0.8338 - val_loss: 0.0025 - val_acc: 0.8338\n",
            "Epoch 2/50\n",
            "11997/11997 [==============================] - 4s 312us/sample - loss: 0.0025 - acc: 0.8338 - val_loss: 0.0025 - val_acc: 0.8338\n",
            "Epoch 3/50\n",
            "11997/11997 [==============================] - 4s 311us/sample - loss: 0.0025 - acc: 0.8338 - val_loss: 0.0024 - val_acc: 0.8338\n",
            "Epoch 4/50\n",
            "11997/11997 [==============================] - 4s 294us/sample - loss: 0.0025 - acc: 0.8338 - val_loss: 0.0025 - val_acc: 0.8338\n",
            "Epoch 5/50\n",
            "11997/11997 [==============================] - 4s 301us/sample - loss: 0.0025 - acc: 0.8338 - val_loss: 0.0024 - val_acc: 0.8338\n",
            "Epoch 6/50\n",
            "11997/11997 [==============================] - 4s 302us/sample - loss: 0.0024 - acc: 0.8338 - val_loss: 0.0024 - val_acc: 0.8338\n",
            "Epoch 7/50\n",
            "11997/11997 [==============================] - 4s 296us/sample - loss: 0.0024 - acc: 0.8338 - val_loss: 0.0024 - val_acc: 0.8338\n",
            "Epoch 8/50\n",
            "11997/11997 [==============================] - 4s 296us/sample - loss: 0.0024 - acc: 0.8338 - val_loss: 0.0024 - val_acc: 0.8338\n",
            "Epoch 9/50\n",
            "11997/11997 [==============================] - 4s 299us/sample - loss: 0.0024 - acc: 0.8338 - val_loss: 0.0024 - val_acc: 0.8338\n",
            "Epoch 10/50\n",
            "11997/11997 [==============================] - 4s 296us/sample - loss: 0.0024 - acc: 0.8338 - val_loss: 0.0024 - val_acc: 0.8338\n",
            "Epoch 11/50\n",
            "11997/11997 [==============================] - 4s 299us/sample - loss: 0.0024 - acc: 0.8338 - val_loss: 0.0024 - val_acc: 0.8338\n",
            "Epoch 12/50\n",
            "11997/11997 [==============================] - 4s 302us/sample - loss: 0.0024 - acc: 0.8338 - val_loss: 0.0024 - val_acc: 0.8338\n",
            "Epoch 13/50\n",
            "11997/11997 [==============================] - 4s 299us/sample - loss: 0.0024 - acc: 0.8338 - val_loss: 0.0024 - val_acc: 0.8338\n",
            "Epoch 14/50\n",
            "11997/11997 [==============================] - 4s 298us/sample - loss: 0.0024 - acc: 0.8338 - val_loss: 0.0024 - val_acc: 0.8338\n",
            "Epoch 15/50\n",
            "11997/11997 [==============================] - 4s 299us/sample - loss: 0.0024 - acc: 0.8338 - val_loss: 0.0024 - val_acc: 0.8338\n",
            "Epoch 16/50\n",
            "11997/11997 [==============================] - 4s 298us/sample - loss: 0.0024 - acc: 0.8338 - val_loss: 0.0024 - val_acc: 0.8338\n",
            "Epoch 17/50\n",
            "11997/11997 [==============================] - 4s 298us/sample - loss: 0.0024 - acc: 0.8338 - val_loss: 0.0024 - val_acc: 0.8338\n",
            "Epoch 18/50\n",
            "11997/11997 [==============================] - 4s 297us/sample - loss: 0.0024 - acc: 0.8338 - val_loss: 0.0024 - val_acc: 0.8338\n",
            "Epoch 19/50\n",
            "11997/11997 [==============================] - 4s 296us/sample - loss: 0.0024 - acc: 0.8338 - val_loss: 0.0024 - val_acc: 0.8338\n",
            "Epoch 20/50\n",
            "11997/11997 [==============================] - 4s 300us/sample - loss: 0.0024 - acc: 0.8338 - val_loss: 0.0023 - val_acc: 0.8338\n",
            "Epoch 21/50\n",
            "11997/11997 [==============================] - 4s 311us/sample - loss: 0.0024 - acc: 0.8338 - val_loss: 0.0023 - val_acc: 0.8338\n",
            "Epoch 22/50\n",
            "11997/11997 [==============================] - 4s 292us/sample - loss: 0.0024 - acc: 0.8338 - val_loss: 0.0023 - val_acc: 0.8338\n",
            "Epoch 23/50\n",
            "11997/11997 [==============================] - 4s 295us/sample - loss: 0.0024 - acc: 0.8338 - val_loss: 0.0024 - val_acc: 0.8338\n",
            "Epoch 24/50\n",
            "11997/11997 [==============================] - 4s 296us/sample - loss: 0.0024 - acc: 0.8338 - val_loss: 0.0023 - val_acc: 0.8338\n",
            "Epoch 25/50\n",
            "11997/11997 [==============================] - 4s 296us/sample - loss: 0.0024 - acc: 0.8338 - val_loss: 0.0023 - val_acc: 0.8338\n",
            "Epoch 26/50\n",
            "11997/11997 [==============================] - 4s 296us/sample - loss: 0.0024 - acc: 0.8338 - val_loss: 0.0024 - val_acc: 0.8338\n",
            "Epoch 27/50\n",
            "11997/11997 [==============================] - 4s 301us/sample - loss: 0.0024 - acc: 0.8338 - val_loss: 0.0023 - val_acc: 0.8338\n",
            "Epoch 28/50\n",
            "11997/11997 [==============================] - 4s 296us/sample - loss: 0.0024 - acc: 0.8338 - val_loss: 0.0023 - val_acc: 0.8338\n",
            "Epoch 29/50\n",
            "11997/11997 [==============================] - 4s 298us/sample - loss: 0.0024 - acc: 0.8338 - val_loss: 0.0023 - val_acc: 0.8338\n",
            "Epoch 30/50\n",
            "11997/11997 [==============================] - 4s 299us/sample - loss: 0.0024 - acc: 0.8338 - val_loss: 0.0023 - val_acc: 0.8338\n",
            "Epoch 31/50\n",
            "11997/11997 [==============================] - 4s 296us/sample - loss: 0.0024 - acc: 0.8338 - val_loss: 0.0024 - val_acc: 0.8338\n",
            "Epoch 32/50\n",
            "11997/11997 [==============================] - 4s 295us/sample - loss: 0.0024 - acc: 0.8338 - val_loss: 0.0023 - val_acc: 0.8338\n",
            "Epoch 33/50\n",
            "11997/11997 [==============================] - 4s 302us/sample - loss: 0.0024 - acc: 0.8338 - val_loss: 0.0023 - val_acc: 0.8338\n",
            "Epoch 34/50\n",
            "11997/11997 [==============================] - 4s 299us/sample - loss: 0.0024 - acc: 0.8338 - val_loss: 0.0023 - val_acc: 0.8338\n",
            "Epoch 35/50\n",
            "11997/11997 [==============================] - 4s 295us/sample - loss: 0.0023 - acc: 0.8338 - val_loss: 0.0023 - val_acc: 0.8338\n",
            "Epoch 36/50\n",
            "11997/11997 [==============================] - 4s 294us/sample - loss: 0.0024 - acc: 0.8338 - val_loss: 0.0024 - val_acc: 0.8338\n",
            "Epoch 37/50\n",
            "11997/11997 [==============================] - 4s 297us/sample - loss: 0.0024 - acc: 0.8338 - val_loss: 0.0023 - val_acc: 0.8338\n",
            "Epoch 38/50\n",
            "11997/11997 [==============================] - 4s 293us/sample - loss: 0.0023 - acc: 0.8338 - val_loss: 0.0024 - val_acc: 0.8338\n",
            "Epoch 39/50\n",
            "11997/11997 [==============================] - 3s 291us/sample - loss: 0.0024 - acc: 0.8338 - val_loss: 0.0023 - val_acc: 0.8338\n",
            "Epoch 40/50\n",
            "11997/11997 [==============================] - 4s 294us/sample - loss: 0.0024 - acc: 0.8338 - val_loss: 0.0023 - val_acc: 0.8338\n",
            "Epoch 41/50\n",
            "11997/11997 [==============================] - 4s 293us/sample - loss: 0.0023 - acc: 0.8338 - val_loss: 0.0023 - val_acc: 0.8338\n",
            "Epoch 42/50\n",
            "11997/11997 [==============================] - 4s 294us/sample - loss: 0.0023 - acc: 0.8338 - val_loss: 0.0023 - val_acc: 0.8338\n",
            "Epoch 43/50\n",
            "11997/11997 [==============================] - 4s 295us/sample - loss: 0.0023 - acc: 0.8338 - val_loss: 0.0023 - val_acc: 0.8338\n",
            "Epoch 44/50\n",
            "11997/11997 [==============================] - 4s 293us/sample - loss: 0.0023 - acc: 0.8338 - val_loss: 0.0023 - val_acc: 0.8338\n",
            "Epoch 45/50\n",
            "11997/11997 [==============================] - 3s 290us/sample - loss: 0.0023 - acc: 0.8338 - val_loss: 0.0024 - val_acc: 0.8338\n",
            "Epoch 46/50\n",
            "11997/11997 [==============================] - 4s 295us/sample - loss: 0.0023 - acc: 0.8338 - val_loss: 0.0023 - val_acc: 0.8338\n",
            "Epoch 47/50\n",
            "11997/11997 [==============================] - 3s 291us/sample - loss: 0.0023 - acc: 0.8338 - val_loss: 0.0023 - val_acc: 0.8338\n",
            "Epoch 48/50\n",
            "11997/11997 [==============================] - 4s 292us/sample - loss: 0.0023 - acc: 0.8338 - val_loss: 0.0023 - val_acc: 0.8338\n",
            "Epoch 49/50\n",
            "11997/11997 [==============================] - 4s 296us/sample - loss: 0.0023 - acc: 0.8338 - val_loss: 0.0024 - val_acc: 0.8338\n",
            "Epoch 50/50\n",
            "11997/11997 [==============================] - 4s 293us/sample - loss: 0.0023 - acc: 0.8338 - val_loss: 0.0023 - val_acc: 0.8338\n"
          ],
          "name": "stdout"
        },
        {
          "output_type": "execute_result",
          "data": {
            "text/plain": [
              "<tensorflow.python.keras.callbacks.History at 0x7fdf48e39a20>"
            ]
          },
          "metadata": {
            "tags": []
          },
          "execution_count": 119
        }
      ]
    },
    {
      "cell_type": "code",
      "metadata": {
        "id": "0Ky-EMUEIGq6",
        "colab_type": "code",
        "outputId": "cced7dce-aa38-41f8-b70c-25f8a010bbf9",
        "colab": {
          "base_uri": "https://localhost:8080/",
          "height": 50
        }
      },
      "source": [
        "ypred = model.predict(X14)\n",
        "s=pd.DataFrame(ypred)\n",
        "s1=pd.DataFrame(y14)\n",
        "s1.corrwith(s, axis = 0) "
      ],
      "execution_count": 0,
      "outputs": [
        {
          "output_type": "execute_result",
          "data": {
            "text/plain": [
              "0    0.371736\n",
              "dtype: float64"
            ]
          },
          "metadata": {
            "tags": []
          },
          "execution_count": 120
        }
      ]
    },
    {
      "cell_type": "code",
      "metadata": {
        "id": "kow20CjpKwRA",
        "colab_type": "code",
        "outputId": "aa8c0181-d304-483d-a8ec-915f6b2f17b2",
        "colab": {
          "base_uri": "https://localhost:8080/",
          "height": 34
        }
      },
      "source": [
        "from sklearn.metrics import r2_score\n",
        "r2_score(y14,ypred)"
      ],
      "execution_count": 0,
      "outputs": [
        {
          "output_type": "execute_result",
          "data": {
            "text/plain": [
              "0.1338406004345779"
            ]
          },
          "metadata": {
            "tags": []
          },
          "execution_count": 121
        }
      ]
    },
    {
      "cell_type": "code",
      "metadata": {
        "id": "-YoTtOaYJY6P",
        "colab_type": "code",
        "outputId": "4f1ce4c1-99f0-4e08-d4b4-fffbb53f61ea",
        "colab": {
          "base_uri": "https://localhost:8080/",
          "height": 50
        }
      },
      "source": [
        "ypred1=model.predict(X_test14)\n",
        "s=pd.DataFrame(ypred1)\n",
        "s1=pd.DataFrame(y_test14)\n",
        "s1.corrwith(s,axis=0)"
      ],
      "execution_count": 0,
      "outputs": [
        {
          "output_type": "execute_result",
          "data": {
            "text/plain": [
              "0    0.371736\n",
              "dtype: float64"
            ]
          },
          "metadata": {
            "tags": []
          },
          "execution_count": 122
        }
      ]
    },
    {
      "cell_type": "code",
      "metadata": {
        "id": "esTMyuJ3Kzmj",
        "colab_type": "code",
        "outputId": "b67712f6-fe64-4bbf-8b75-7686bf5b3cdb",
        "colab": {
          "base_uri": "https://localhost:8080/",
          "height": 34
        }
      },
      "source": [
        "r2_score(y_test14,ypred1)"
      ],
      "execution_count": 0,
      "outputs": [
        {
          "output_type": "execute_result",
          "data": {
            "text/plain": [
              "0.1338406004345779"
            ]
          },
          "metadata": {
            "tags": []
          },
          "execution_count": 123
        }
      ]
    },
    {
      "cell_type": "code",
      "metadata": {
        "id": "7qVcX82RcWAs",
        "colab_type": "code",
        "outputId": "6f4183e0-43e3-46fd-abe0-1a9748728c95",
        "colab": {
          "base_uri": "https://localhost:8080/",
          "height": 34
        }
      },
      "source": [
        "mean_absolute_error(y_test14,ypred1)"
      ],
      "execution_count": 0,
      "outputs": [
        {
          "output_type": "execute_result",
          "data": {
            "text/plain": [
              "0.0222093827459451"
            ]
          },
          "metadata": {
            "tags": []
          },
          "execution_count": 124
        }
      ]
    },
    {
      "cell_type": "code",
      "metadata": {
        "id": "SFHNwtqAcX1O",
        "colab_type": "code",
        "outputId": "266b8f05-2ffd-4270-bb8c-fa5e48afd9c2",
        "colab": {
          "base_uri": "https://localhost:8080/",
          "height": 34
        }
      },
      "source": [
        "mean_absolute_error(y14,ypred)"
      ],
      "execution_count": 0,
      "outputs": [
        {
          "output_type": "execute_result",
          "data": {
            "text/plain": [
              "0.0222093827459451"
            ]
          },
          "metadata": {
            "tags": []
          },
          "execution_count": 125
        }
      ]
    },
    {
      "cell_type": "code",
      "metadata": {
        "id": "31sa5rlXB9BA",
        "colab_type": "code",
        "outputId": "aa328bb4-cdef-4938-a9cb-3a5cf54fe10f",
        "colab": {
          "base_uri": "https://localhost:8080/",
          "height": 1000
        }
      },
      "source": [
        "model.fit(X15, y15, validation_data=(X_test15,y_test15),epochs=50)"
      ],
      "execution_count": 0,
      "outputs": [
        {
          "output_type": "stream",
          "text": [
            "Train on 11997 samples, validate on 11997 samples\n",
            "Epoch 1/50\n",
            "11997/11997 [==============================] - 4s 294us/sample - loss: 0.0031 - acc: 0.8192 - val_loss: 0.0031 - val_acc: 0.8192\n",
            "Epoch 2/50\n",
            "11997/11997 [==============================] - 4s 298us/sample - loss: 0.0031 - acc: 0.8192 - val_loss: 0.0030 - val_acc: 0.8192\n",
            "Epoch 3/50\n",
            "11997/11997 [==============================] - 3s 290us/sample - loss: 0.0030 - acc: 0.8192 - val_loss: 0.0030 - val_acc: 0.8192\n",
            "Epoch 4/50\n",
            "11997/11997 [==============================] - 4s 295us/sample - loss: 0.0030 - acc: 0.8192 - val_loss: 0.0030 - val_acc: 0.8192\n",
            "Epoch 5/50\n",
            "11997/11997 [==============================] - 4s 293us/sample - loss: 0.0030 - acc: 0.8192 - val_loss: 0.0030 - val_acc: 0.8192\n",
            "Epoch 6/50\n",
            "11997/11997 [==============================] - 3s 290us/sample - loss: 0.0030 - acc: 0.8192 - val_loss: 0.0030 - val_acc: 0.8192\n",
            "Epoch 7/50\n",
            "11997/11997 [==============================] - 4s 293us/sample - loss: 0.0030 - acc: 0.8192 - val_loss: 0.0030 - val_acc: 0.8192\n",
            "Epoch 8/50\n",
            "11997/11997 [==============================] - 4s 293us/sample - loss: 0.0030 - acc: 0.8192 - val_loss: 0.0030 - val_acc: 0.8192\n",
            "Epoch 9/50\n",
            "11997/11997 [==============================] - 3s 290us/sample - loss: 0.0030 - acc: 0.8192 - val_loss: 0.0030 - val_acc: 0.8192\n",
            "Epoch 10/50\n",
            "11997/11997 [==============================] - 4s 294us/sample - loss: 0.0030 - acc: 0.8192 - val_loss: 0.0030 - val_acc: 0.8192\n",
            "Epoch 11/50\n",
            "11997/11997 [==============================] - 4s 293us/sample - loss: 0.0030 - acc: 0.8192 - val_loss: 0.0030 - val_acc: 0.8192\n",
            "Epoch 12/50\n",
            "11997/11997 [==============================] - 4s 293us/sample - loss: 0.0030 - acc: 0.8192 - val_loss: 0.0030 - val_acc: 0.8192\n",
            "Epoch 13/50\n",
            "11997/11997 [==============================] - 3s 289us/sample - loss: 0.0030 - acc: 0.8192 - val_loss: 0.0030 - val_acc: 0.8192\n",
            "Epoch 14/50\n",
            "11997/11997 [==============================] - 4s 294us/sample - loss: 0.0030 - acc: 0.8192 - val_loss: 0.0030 - val_acc: 0.8192\n",
            "Epoch 15/50\n",
            "11997/11997 [==============================] - 3s 288us/sample - loss: 0.0030 - acc: 0.8192 - val_loss: 0.0030 - val_acc: 0.8192\n",
            "Epoch 16/50\n",
            "11997/11997 [==============================] - 3s 289us/sample - loss: 0.0030 - acc: 0.8192 - val_loss: 0.0030 - val_acc: 0.8192\n",
            "Epoch 17/50\n",
            "11997/11997 [==============================] - 4s 293us/sample - loss: 0.0030 - acc: 0.8192 - val_loss: 0.0030 - val_acc: 0.8192\n",
            "Epoch 18/50\n",
            "11997/11997 [==============================] - 3s 290us/sample - loss: 0.0030 - acc: 0.8192 - val_loss: 0.0030 - val_acc: 0.8192\n",
            "Epoch 19/50\n",
            "11997/11997 [==============================] - 3s 288us/sample - loss: 0.0030 - acc: 0.8192 - val_loss: 0.0030 - val_acc: 0.8192\n",
            "Epoch 20/50\n",
            "11997/11997 [==============================] - 4s 292us/sample - loss: 0.0030 - acc: 0.8192 - val_loss: 0.0030 - val_acc: 0.8192\n",
            "Epoch 21/50\n",
            "11997/11997 [==============================] - 3s 289us/sample - loss: 0.0030 - acc: 0.8192 - val_loss: 0.0030 - val_acc: 0.8192\n",
            "Epoch 22/50\n",
            "11997/11997 [==============================] - 3s 290us/sample - loss: 0.0030 - acc: 0.8192 - val_loss: 0.0030 - val_acc: 0.8192\n",
            "Epoch 23/50\n",
            "11997/11997 [==============================] - 3s 289us/sample - loss: 0.0030 - acc: 0.8192 - val_loss: 0.0030 - val_acc: 0.8192\n",
            "Epoch 24/50\n",
            "11997/11997 [==============================] - 3s 286us/sample - loss: 0.0030 - acc: 0.8192 - val_loss: 0.0030 - val_acc: 0.8192\n",
            "Epoch 25/50\n",
            "11997/11997 [==============================] - 3s 288us/sample - loss: 0.0030 - acc: 0.8192 - val_loss: 0.0030 - val_acc: 0.8192\n",
            "Epoch 26/50\n",
            "11997/11997 [==============================] - 3s 286us/sample - loss: 0.0030 - acc: 0.8192 - val_loss: 0.0030 - val_acc: 0.8192\n",
            "Epoch 27/50\n",
            "11997/11997 [==============================] - 3s 290us/sample - loss: 0.0030 - acc: 0.8192 - val_loss: 0.0030 - val_acc: 0.8192\n",
            "Epoch 28/50\n",
            "11997/11997 [==============================] - 3s 286us/sample - loss: 0.0030 - acc: 0.8192 - val_loss: 0.0030 - val_acc: 0.8192\n",
            "Epoch 29/50\n",
            "11997/11997 [==============================] - 3s 288us/sample - loss: 0.0030 - acc: 0.8192 - val_loss: 0.0030 - val_acc: 0.8192\n",
            "Epoch 30/50\n",
            "11997/11997 [==============================] - 3s 289us/sample - loss: 0.0030 - acc: 0.8192 - val_loss: 0.0030 - val_acc: 0.8192\n",
            "Epoch 31/50\n",
            "11997/11997 [==============================] - 3s 289us/sample - loss: 0.0030 - acc: 0.8192 - val_loss: 0.0030 - val_acc: 0.8192\n",
            "Epoch 32/50\n",
            "11997/11997 [==============================] - 3s 289us/sample - loss: 0.0030 - acc: 0.8192 - val_loss: 0.0030 - val_acc: 0.8192\n",
            "Epoch 33/50\n",
            "11997/11997 [==============================] - 4s 294us/sample - loss: 0.0030 - acc: 0.8192 - val_loss: 0.0030 - val_acc: 0.8192\n",
            "Epoch 34/50\n",
            "11997/11997 [==============================] - 3s 290us/sample - loss: 0.0030 - acc: 0.8192 - val_loss: 0.0030 - val_acc: 0.8192\n",
            "Epoch 35/50\n",
            "11997/11997 [==============================] - 4s 293us/sample - loss: 0.0030 - acc: 0.8192 - val_loss: 0.0030 - val_acc: 0.8192\n",
            "Epoch 36/50\n",
            "11997/11997 [==============================] - 3s 292us/sample - loss: 0.0030 - acc: 0.8192 - val_loss: 0.0030 - val_acc: 0.8192\n",
            "Epoch 37/50\n",
            "11997/11997 [==============================] - 4s 293us/sample - loss: 0.0030 - acc: 0.8192 - val_loss: 0.0030 - val_acc: 0.8192\n",
            "Epoch 38/50\n",
            "11997/11997 [==============================] - 4s 293us/sample - loss: 0.0030 - acc: 0.8192 - val_loss: 0.0030 - val_acc: 0.8192\n",
            "Epoch 39/50\n",
            "11997/11997 [==============================] - 4s 309us/sample - loss: 0.0030 - acc: 0.8192 - val_loss: 0.0030 - val_acc: 0.8192\n",
            "Epoch 40/50\n",
            "11997/11997 [==============================] - 4s 306us/sample - loss: 0.0030 - acc: 0.8192 - val_loss: 0.0030 - val_acc: 0.8192\n",
            "Epoch 41/50\n",
            "11997/11997 [==============================] - 4s 313us/sample - loss: 0.0030 - acc: 0.8192 - val_loss: 0.0030 - val_acc: 0.8192\n",
            "Epoch 42/50\n",
            "11997/11997 [==============================] - 4s 300us/sample - loss: 0.0030 - acc: 0.8192 - val_loss: 0.0030 - val_acc: 0.8192\n",
            "Epoch 43/50\n",
            "11997/11997 [==============================] - 4s 293us/sample - loss: 0.0030 - acc: 0.8192 - val_loss: 0.0030 - val_acc: 0.8192\n",
            "Epoch 44/50\n",
            "11997/11997 [==============================] - 4s 293us/sample - loss: 0.0030 - acc: 0.8192 - val_loss: 0.0029 - val_acc: 0.8192\n",
            "Epoch 45/50\n",
            "11997/11997 [==============================] - 4s 293us/sample - loss: 0.0030 - acc: 0.8192 - val_loss: 0.0030 - val_acc: 0.8192\n",
            "Epoch 46/50\n",
            "11997/11997 [==============================] - 3s 289us/sample - loss: 0.0030 - acc: 0.8192 - val_loss: 0.0030 - val_acc: 0.8192\n",
            "Epoch 47/50\n",
            "11997/11997 [==============================] - 4s 295us/sample - loss: 0.0030 - acc: 0.8192 - val_loss: 0.0030 - val_acc: 0.8192\n",
            "Epoch 48/50\n",
            "11997/11997 [==============================] - 4s 298us/sample - loss: 0.0030 - acc: 0.8192 - val_loss: 0.0029 - val_acc: 0.8192\n",
            "Epoch 49/50\n",
            "11997/11997 [==============================] - 4s 295us/sample - loss: 0.0030 - acc: 0.8192 - val_loss: 0.0029 - val_acc: 0.8192\n",
            "Epoch 50/50\n",
            "11997/11997 [==============================] - 4s 295us/sample - loss: 0.0030 - acc: 0.8192 - val_loss: 0.0029 - val_acc: 0.8192\n"
          ],
          "name": "stdout"
        },
        {
          "output_type": "execute_result",
          "data": {
            "text/plain": [
              "<tensorflow.python.keras.callbacks.History at 0x7fdf3e49b2b0>"
            ]
          },
          "metadata": {
            "tags": []
          },
          "execution_count": 126
        }
      ]
    },
    {
      "cell_type": "code",
      "metadata": {
        "id": "x783mmAYIIMe",
        "colab_type": "code",
        "outputId": "a484ea1b-a2fb-4096-cfae-d1207b862982",
        "colab": {
          "base_uri": "https://localhost:8080/",
          "height": 50
        }
      },
      "source": [
        "ypred = model.predict(X15)\n",
        "s=pd.DataFrame(ypred)\n",
        "s1=pd.DataFrame(y15)\n",
        "s1.corrwith(s, axis = 0) "
      ],
      "execution_count": 0,
      "outputs": [
        {
          "output_type": "execute_result",
          "data": {
            "text/plain": [
              "0    0.317243\n",
              "dtype: float64"
            ]
          },
          "metadata": {
            "tags": []
          },
          "execution_count": 127
        }
      ]
    },
    {
      "cell_type": "code",
      "metadata": {
        "id": "NHuQ0617KncF",
        "colab_type": "code",
        "outputId": "6946ec41-3080-485d-ff10-3f266b5ec975",
        "colab": {
          "base_uri": "https://localhost:8080/",
          "height": 34
        }
      },
      "source": [
        "from sklearn.metrics import r2_score\n",
        "r2_score(y15,ypred)"
      ],
      "execution_count": 0,
      "outputs": [
        {
          "output_type": "execute_result",
          "data": {
            "text/plain": [
              "0.09839524906922725"
            ]
          },
          "metadata": {
            "tags": []
          },
          "execution_count": 128
        }
      ]
    },
    {
      "cell_type": "code",
      "metadata": {
        "id": "G7dQRGRnJb-H",
        "colab_type": "code",
        "outputId": "884f4a8f-7a0e-4187-b945-4d9558997c3e",
        "colab": {
          "base_uri": "https://localhost:8080/",
          "height": 50
        }
      },
      "source": [
        "ypred1=model.predict(X_test15)\n",
        "s=pd.DataFrame(ypred1)\n",
        "s1=pd.DataFrame(y_test15)\n",
        "s1.corrwith(s,axis=0)"
      ],
      "execution_count": 0,
      "outputs": [
        {
          "output_type": "execute_result",
          "data": {
            "text/plain": [
              "0    0.317243\n",
              "dtype: float64"
            ]
          },
          "metadata": {
            "tags": []
          },
          "execution_count": 129
        }
      ]
    },
    {
      "cell_type": "code",
      "metadata": {
        "id": "7MsXJBffKsBU",
        "colab_type": "code",
        "outputId": "cd3eee6d-6180-4c55-c79b-206bd8072bc3",
        "colab": {
          "base_uri": "https://localhost:8080/",
          "height": 34
        }
      },
      "source": [
        "from sklearn.metrics import r2_score\n",
        "r2_score(y_test15,ypred1)"
      ],
      "execution_count": 0,
      "outputs": [
        {
          "output_type": "execute_result",
          "data": {
            "text/plain": [
              "0.09839524906922725"
            ]
          },
          "metadata": {
            "tags": []
          },
          "execution_count": 130
        }
      ]
    },
    {
      "cell_type": "code",
      "metadata": {
        "id": "oqpc6rGJccsh",
        "colab_type": "code",
        "outputId": "297c906b-bf40-4261-dae0-8cfea3c45b99",
        "colab": {
          "base_uri": "https://localhost:8080/",
          "height": 34
        }
      },
      "source": [
        "mean_absolute_error(y_test15,ypred1)"
      ],
      "execution_count": 0,
      "outputs": [
        {
          "output_type": "execute_result",
          "data": {
            "text/plain": [
              "0.0205756933392065"
            ]
          },
          "metadata": {
            "tags": []
          },
          "execution_count": 131
        }
      ]
    },
    {
      "cell_type": "code",
      "metadata": {
        "id": "TBuDDwkTce4X",
        "colab_type": "code",
        "outputId": "98ffa722-0b74-47f5-bffa-119b48c0ca40",
        "colab": {
          "base_uri": "https://localhost:8080/",
          "height": 34
        }
      },
      "source": [
        "mean_absolute_error(y15,ypred)"
      ],
      "execution_count": 0,
      "outputs": [
        {
          "output_type": "execute_result",
          "data": {
            "text/plain": [
              "0.0205756933392065"
            ]
          },
          "metadata": {
            "tags": []
          },
          "execution_count": 132
        }
      ]
    },
    {
      "cell_type": "code",
      "metadata": {
        "id": "ddVXEmYRB9TB",
        "colab_type": "code",
        "outputId": "a6910a9c-5cc7-4ab9-a107-39350c5aeffd",
        "colab": {
          "base_uri": "https://localhost:8080/",
          "height": 1000
        }
      },
      "source": [
        "model.fit(X16, y16, validation_data=(X_test16,y_test16),epochs=50)"
      ],
      "execution_count": 0,
      "outputs": [
        {
          "output_type": "stream",
          "text": [
            "Train on 11997 samples, validate on 11997 samples\n",
            "Epoch 1/50\n",
            "11997/11997 [==============================] - 4s 299us/sample - loss: 0.0025 - acc: 0.8464 - val_loss: 0.0025 - val_acc: 0.8464\n",
            "Epoch 2/50\n",
            "11997/11997 [==============================] - 4s 293us/sample - loss: 0.0025 - acc: 0.8464 - val_loss: 0.0024 - val_acc: 0.8464\n",
            "Epoch 3/50\n",
            "11997/11997 [==============================] - 3s 291us/sample - loss: 0.0025 - acc: 0.8464 - val_loss: 0.0025 - val_acc: 0.8464\n",
            "Epoch 4/50\n",
            "11997/11997 [==============================] - 4s 299us/sample - loss: 0.0025 - acc: 0.8464 - val_loss: 0.0024 - val_acc: 0.8464\n",
            "Epoch 5/50\n",
            "11997/11997 [==============================] - 4s 293us/sample - loss: 0.0024 - acc: 0.8464 - val_loss: 0.0024 - val_acc: 0.8464\n",
            "Epoch 6/50\n",
            "11997/11997 [==============================] - 4s 295us/sample - loss: 0.0025 - acc: 0.8464 - val_loss: 0.0024 - val_acc: 0.8464\n",
            "Epoch 7/50\n",
            "11997/11997 [==============================] - 4s 307us/sample - loss: 0.0024 - acc: 0.8464 - val_loss: 0.0024 - val_acc: 0.8464\n",
            "Epoch 8/50\n",
            "11997/11997 [==============================] - 4s 296us/sample - loss: 0.0024 - acc: 0.8464 - val_loss: 0.0024 - val_acc: 0.8464\n",
            "Epoch 9/50\n",
            "11997/11997 [==============================] - 4s 297us/sample - loss: 0.0024 - acc: 0.8464 - val_loss: 0.0024 - val_acc: 0.8464\n",
            "Epoch 10/50\n",
            "11997/11997 [==============================] - 4s 304us/sample - loss: 0.0024 - acc: 0.8464 - val_loss: 0.0024 - val_acc: 0.8464\n",
            "Epoch 11/50\n",
            "11997/11997 [==============================] - 4s 298us/sample - loss: 0.0024 - acc: 0.8464 - val_loss: 0.0024 - val_acc: 0.8464\n",
            "Epoch 12/50\n",
            "11997/11997 [==============================] - 4s 298us/sample - loss: 0.0024 - acc: 0.8464 - val_loss: 0.0024 - val_acc: 0.8464\n",
            "Epoch 13/50\n",
            "11997/11997 [==============================] - 4s 300us/sample - loss: 0.0024 - acc: 0.8464 - val_loss: 0.0024 - val_acc: 0.8464\n",
            "Epoch 14/50\n",
            "11997/11997 [==============================] - 4s 300us/sample - loss: 0.0024 - acc: 0.8464 - val_loss: 0.0024 - val_acc: 0.8464\n",
            "Epoch 15/50\n",
            "11997/11997 [==============================] - 4s 299us/sample - loss: 0.0024 - acc: 0.8464 - val_loss: 0.0024 - val_acc: 0.8464\n",
            "Epoch 16/50\n",
            "11997/11997 [==============================] - 4s 301us/sample - loss: 0.0024 - acc: 0.8464 - val_loss: 0.0024 - val_acc: 0.8464\n",
            "Epoch 17/50\n",
            "11997/11997 [==============================] - 4s 296us/sample - loss: 0.0024 - acc: 0.8464 - val_loss: 0.0024 - val_acc: 0.8464\n",
            "Epoch 18/50\n",
            "11997/11997 [==============================] - 4s 298us/sample - loss: 0.0024 - acc: 0.8464 - val_loss: 0.0024 - val_acc: 0.8464\n",
            "Epoch 19/50\n",
            "11997/11997 [==============================] - 4s 297us/sample - loss: 0.0024 - acc: 0.8464 - val_loss: 0.0024 - val_acc: 0.8464\n",
            "Epoch 20/50\n",
            "11997/11997 [==============================] - 4s 298us/sample - loss: 0.0024 - acc: 0.8464 - val_loss: 0.0024 - val_acc: 0.8464\n",
            "Epoch 21/50\n",
            "11997/11997 [==============================] - 4s 295us/sample - loss: 0.0024 - acc: 0.8464 - val_loss: 0.0024 - val_acc: 0.8464\n",
            "Epoch 22/50\n",
            "11997/11997 [==============================] - 4s 297us/sample - loss: 0.0024 - acc: 0.8464 - val_loss: 0.0024 - val_acc: 0.8464\n",
            "Epoch 23/50\n",
            "11997/11997 [==============================] - 4s 298us/sample - loss: 0.0024 - acc: 0.8464 - val_loss: 0.0024 - val_acc: 0.8464\n",
            "Epoch 24/50\n",
            "11997/11997 [==============================] - 4s 298us/sample - loss: 0.0024 - acc: 0.8464 - val_loss: 0.0024 - val_acc: 0.8464\n",
            "Epoch 25/50\n",
            "11997/11997 [==============================] - 4s 300us/sample - loss: 0.0024 - acc: 0.8464 - val_loss: 0.0024 - val_acc: 0.8464\n",
            "Epoch 26/50\n",
            "11997/11997 [==============================] - 4s 297us/sample - loss: 0.0024 - acc: 0.8464 - val_loss: 0.0024 - val_acc: 0.8464\n",
            "Epoch 27/50\n",
            "11997/11997 [==============================] - 4s 299us/sample - loss: 0.0024 - acc: 0.8464 - val_loss: 0.0024 - val_acc: 0.8464\n",
            "Epoch 28/50\n",
            "11997/11997 [==============================] - 4s 299us/sample - loss: 0.0024 - acc: 0.8464 - val_loss: 0.0024 - val_acc: 0.8464\n",
            "Epoch 29/50\n",
            "11997/11997 [==============================] - 4s 297us/sample - loss: 0.0024 - acc: 0.8464 - val_loss: 0.0024 - val_acc: 0.8464\n",
            "Epoch 30/50\n",
            "11997/11997 [==============================] - 4s 297us/sample - loss: 0.0024 - acc: 0.8464 - val_loss: 0.0024 - val_acc: 0.8464\n",
            "Epoch 31/50\n",
            "11997/11997 [==============================] - 4s 297us/sample - loss: 0.0024 - acc: 0.8464 - val_loss: 0.0024 - val_acc: 0.8464\n",
            "Epoch 32/50\n",
            "11997/11997 [==============================] - 4s 296us/sample - loss: 0.0024 - acc: 0.8464 - val_loss: 0.0024 - val_acc: 0.8464\n",
            "Epoch 33/50\n",
            "11997/11997 [==============================] - 4s 296us/sample - loss: 0.0024 - acc: 0.8464 - val_loss: 0.0024 - val_acc: 0.8464\n",
            "Epoch 34/50\n",
            "11997/11997 [==============================] - 4s 300us/sample - loss: 0.0024 - acc: 0.8464 - val_loss: 0.0024 - val_acc: 0.8464\n",
            "Epoch 35/50\n",
            "11997/11997 [==============================] - 4s 299us/sample - loss: 0.0024 - acc: 0.8464 - val_loss: 0.0024 - val_acc: 0.8464\n",
            "Epoch 36/50\n",
            "11997/11997 [==============================] - 4s 298us/sample - loss: 0.0024 - acc: 0.8464 - val_loss: 0.0024 - val_acc: 0.8464\n",
            "Epoch 37/50\n",
            "11997/11997 [==============================] - 4s 296us/sample - loss: 0.0024 - acc: 0.8464 - val_loss: 0.0024 - val_acc: 0.8464\n",
            "Epoch 38/50\n",
            "11997/11997 [==============================] - 4s 294us/sample - loss: 0.0024 - acc: 0.8464 - val_loss: 0.0024 - val_acc: 0.8464\n",
            "Epoch 39/50\n",
            "11997/11997 [==============================] - 4s 294us/sample - loss: 0.0024 - acc: 0.8464 - val_loss: 0.0024 - val_acc: 0.8464\n",
            "Epoch 40/50\n",
            "11997/11997 [==============================] - 4s 299us/sample - loss: 0.0024 - acc: 0.8464 - val_loss: 0.0024 - val_acc: 0.8464\n",
            "Epoch 41/50\n",
            "11997/11997 [==============================] - 4s 296us/sample - loss: 0.0024 - acc: 0.8464 - val_loss: 0.0024 - val_acc: 0.8464\n",
            "Epoch 42/50\n",
            "11997/11997 [==============================] - 4s 297us/sample - loss: 0.0024 - acc: 0.8464 - val_loss: 0.0024 - val_acc: 0.8464\n",
            "Epoch 43/50\n",
            "11997/11997 [==============================] - 4s 300us/sample - loss: 0.0024 - acc: 0.8464 - val_loss: 0.0024 - val_acc: 0.8464\n",
            "Epoch 44/50\n",
            "11997/11997 [==============================] - 4s 295us/sample - loss: 0.0024 - acc: 0.8464 - val_loss: 0.0024 - val_acc: 0.8464\n",
            "Epoch 45/50\n",
            "11997/11997 [==============================] - 4s 295us/sample - loss: 0.0024 - acc: 0.8464 - val_loss: 0.0024 - val_acc: 0.8464\n",
            "Epoch 46/50\n",
            "11997/11997 [==============================] - 4s 297us/sample - loss: 0.0024 - acc: 0.8464 - val_loss: 0.0024 - val_acc: 0.8464\n",
            "Epoch 47/50\n",
            "11997/11997 [==============================] - 4s 295us/sample - loss: 0.0024 - acc: 0.8464 - val_loss: 0.0024 - val_acc: 0.8464\n",
            "Epoch 48/50\n",
            "11997/11997 [==============================] - 4s 292us/sample - loss: 0.0024 - acc: 0.8464 - val_loss: 0.0024 - val_acc: 0.8464\n",
            "Epoch 49/50\n",
            "11997/11997 [==============================] - 4s 297us/sample - loss: 0.0024 - acc: 0.8464 - val_loss: 0.0024 - val_acc: 0.8464\n",
            "Epoch 50/50\n",
            "11997/11997 [==============================] - 3s 289us/sample - loss: 0.0024 - acc: 0.8464 - val_loss: 0.0024 - val_acc: 0.8464\n"
          ],
          "name": "stdout"
        },
        {
          "output_type": "execute_result",
          "data": {
            "text/plain": [
              "<tensorflow.python.keras.callbacks.History at 0x7fdf3e49b898>"
            ]
          },
          "metadata": {
            "tags": []
          },
          "execution_count": 133
        }
      ]
    },
    {
      "cell_type": "code",
      "metadata": {
        "id": "fBzu8k-rIJfj",
        "colab_type": "code",
        "outputId": "04b6b15f-f649-4fd3-f24c-2ea28521668f",
        "colab": {
          "base_uri": "https://localhost:8080/",
          "height": 50
        }
      },
      "source": [
        "ypred = model.predict(X16)\n",
        "s=pd.DataFrame(ypred)\n",
        "s1=pd.DataFrame(y16)\n",
        "s1.corrwith(s, axis = 0) "
      ],
      "execution_count": 0,
      "outputs": [
        {
          "output_type": "execute_result",
          "data": {
            "text/plain": [
              "0    0.327876\n",
              "dtype: float64"
            ]
          },
          "metadata": {
            "tags": []
          },
          "execution_count": 134
        }
      ]
    },
    {
      "cell_type": "code",
      "metadata": {
        "id": "oa8m9LhKKdqO",
        "colab_type": "code",
        "outputId": "a499cf2b-0143-4e7a-b5dd-11376a532bfc",
        "colab": {
          "base_uri": "https://localhost:8080/",
          "height": 34
        }
      },
      "source": [
        "from sklearn.metrics import r2_score\n",
        "r2_score(y16,ypred)"
      ],
      "execution_count": 0,
      "outputs": [
        {
          "output_type": "execute_result",
          "data": {
            "text/plain": [
              "0.1022687231321332"
            ]
          },
          "metadata": {
            "tags": []
          },
          "execution_count": 135
        }
      ]
    },
    {
      "cell_type": "code",
      "metadata": {
        "id": "NCjU5wnqJdhv",
        "colab_type": "code",
        "outputId": "78b022bb-1df3-468b-819a-d7e3e75eb37f",
        "colab": {
          "base_uri": "https://localhost:8080/",
          "height": 50
        }
      },
      "source": [
        "ypred1=model.predict(X_test16)\n",
        "s=pd.DataFrame(ypred1)\n",
        "s1=pd.DataFrame(y_test16)\n",
        "s1.corrwith(s,axis=0)"
      ],
      "execution_count": 0,
      "outputs": [
        {
          "output_type": "execute_result",
          "data": {
            "text/plain": [
              "0    0.327876\n",
              "dtype: float64"
            ]
          },
          "metadata": {
            "tags": []
          },
          "execution_count": 136
        }
      ]
    },
    {
      "cell_type": "code",
      "metadata": {
        "id": "UY6rtmdyKjSa",
        "colab_type": "code",
        "outputId": "9a73d73d-312c-4391-9933-f84d6c9cb1bf",
        "colab": {
          "base_uri": "https://localhost:8080/",
          "height": 34
        }
      },
      "source": [
        "r2_score(y_test16,ypred1)"
      ],
      "execution_count": 0,
      "outputs": [
        {
          "output_type": "execute_result",
          "data": {
            "text/plain": [
              "0.1022687231321332"
            ]
          },
          "metadata": {
            "tags": []
          },
          "execution_count": 137
        }
      ]
    },
    {
      "cell_type": "code",
      "metadata": {
        "id": "U9Ef0FuxciMB",
        "colab_type": "code",
        "outputId": "31d5fdfd-ca35-4faf-e68f-aa8e97f43957",
        "colab": {
          "base_uri": "https://localhost:8080/",
          "height": 34
        }
      },
      "source": [
        "mean_absolute_error(y_test16,ypred1)"
      ],
      "execution_count": 0,
      "outputs": [
        {
          "output_type": "execute_result",
          "data": {
            "text/plain": [
              "0.016614673187499034"
            ]
          },
          "metadata": {
            "tags": []
          },
          "execution_count": 138
        }
      ]
    },
    {
      "cell_type": "code",
      "metadata": {
        "id": "82kqJKkTcj7i",
        "colab_type": "code",
        "outputId": "54c68577-fe50-4761-823e-747ace287229",
        "colab": {
          "base_uri": "https://localhost:8080/",
          "height": 34
        }
      },
      "source": [
        "mean_absolute_error(y16,ypred)"
      ],
      "execution_count": 0,
      "outputs": [
        {
          "output_type": "execute_result",
          "data": {
            "text/plain": [
              "0.016614673187499034"
            ]
          },
          "metadata": {
            "tags": []
          },
          "execution_count": 139
        }
      ]
    },
    {
      "cell_type": "code",
      "metadata": {
        "id": "PIErxCqcB9uC",
        "colab_type": "code",
        "outputId": "1f6ec996-7145-44a9-9197-c12d994ec385",
        "colab": {
          "base_uri": "https://localhost:8080/",
          "height": 1000
        }
      },
      "source": [
        "model.fit(X17, y17, validation_data=(X_test17,y_test17),epochs=50)"
      ],
      "execution_count": 0,
      "outputs": [
        {
          "output_type": "stream",
          "text": [
            "Train on 11997 samples, validate on 11997 samples\n",
            "Epoch 1/50\n",
            "11997/11997 [==============================] - 4s 296us/sample - loss: 0.0026 - acc: 0.8949 - val_loss: 0.0025 - val_acc: 0.8949\n",
            "Epoch 2/50\n",
            "11997/11997 [==============================] - 4s 296us/sample - loss: 0.0025 - acc: 0.8949 - val_loss: 0.0025 - val_acc: 0.8949\n",
            "Epoch 3/50\n",
            "11997/11997 [==============================] - 4s 292us/sample - loss: 0.0025 - acc: 0.8949 - val_loss: 0.0025 - val_acc: 0.8949\n",
            "Epoch 4/50\n",
            "11997/11997 [==============================] - 3s 289us/sample - loss: 0.0025 - acc: 0.8949 - val_loss: 0.0025 - val_acc: 0.8949\n",
            "Epoch 5/50\n",
            "11997/11997 [==============================] - 3s 291us/sample - loss: 0.0025 - acc: 0.8949 - val_loss: 0.0024 - val_acc: 0.8949\n",
            "Epoch 6/50\n",
            "11997/11997 [==============================] - 3s 288us/sample - loss: 0.0025 - acc: 0.8949 - val_loss: 0.0024 - val_acc: 0.8949\n",
            "Epoch 7/50\n",
            "11997/11997 [==============================] - 4s 293us/sample - loss: 0.0025 - acc: 0.8949 - val_loss: 0.0024 - val_acc: 0.8949\n",
            "Epoch 8/50\n",
            "11997/11997 [==============================] - 4s 300us/sample - loss: 0.0025 - acc: 0.8949 - val_loss: 0.0025 - val_acc: 0.8949\n",
            "Epoch 9/50\n",
            "11997/11997 [==============================] - 4s 296us/sample - loss: 0.0024 - acc: 0.8949 - val_loss: 0.0024 - val_acc: 0.8949\n",
            "Epoch 10/50\n",
            "11997/11997 [==============================] - 4s 296us/sample - loss: 0.0025 - acc: 0.8949 - val_loss: 0.0024 - val_acc: 0.8949\n",
            "Epoch 11/50\n",
            "11997/11997 [==============================] - 4s 299us/sample - loss: 0.0024 - acc: 0.8949 - val_loss: 0.0024 - val_acc: 0.8949\n",
            "Epoch 12/50\n",
            "11997/11997 [==============================] - 4s 296us/sample - loss: 0.0024 - acc: 0.8949 - val_loss: 0.0024 - val_acc: 0.8949\n",
            "Epoch 13/50\n",
            "11997/11997 [==============================] - 4s 298us/sample - loss: 0.0024 - acc: 0.8949 - val_loss: 0.0024 - val_acc: 0.8949\n",
            "Epoch 14/50\n",
            "11997/11997 [==============================] - 4s 294us/sample - loss: 0.0024 - acc: 0.8949 - val_loss: 0.0024 - val_acc: 0.8949\n",
            "Epoch 15/50\n",
            "11997/11997 [==============================] - 4s 293us/sample - loss: 0.0024 - acc: 0.8949 - val_loss: 0.0024 - val_acc: 0.8949\n",
            "Epoch 16/50\n",
            "11997/11997 [==============================] - 4s 295us/sample - loss: 0.0024 - acc: 0.8949 - val_loss: 0.0024 - val_acc: 0.8949\n",
            "Epoch 17/50\n",
            "11997/11997 [==============================] - 4s 297us/sample - loss: 0.0024 - acc: 0.8949 - val_loss: 0.0024 - val_acc: 0.8949\n",
            "Epoch 18/50\n",
            "11997/11997 [==============================] - 4s 294us/sample - loss: 0.0024 - acc: 0.8949 - val_loss: 0.0024 - val_acc: 0.8949\n",
            "Epoch 19/50\n",
            "11997/11997 [==============================] - 4s 294us/sample - loss: 0.0024 - acc: 0.8949 - val_loss: 0.0024 - val_acc: 0.8949\n",
            "Epoch 20/50\n",
            "11997/11997 [==============================] - 4s 294us/sample - loss: 0.0024 - acc: 0.8949 - val_loss: 0.0024 - val_acc: 0.8949\n",
            "Epoch 21/50\n",
            "11997/11997 [==============================] - 4s 293us/sample - loss: 0.0024 - acc: 0.8949 - val_loss: 0.0024 - val_acc: 0.8949\n",
            "Epoch 22/50\n",
            "11997/11997 [==============================] - 4s 293us/sample - loss: 0.0024 - acc: 0.8949 - val_loss: 0.0024 - val_acc: 0.8949\n",
            "Epoch 23/50\n",
            "11997/11997 [==============================] - 4s 295us/sample - loss: 0.0024 - acc: 0.8949 - val_loss: 0.0024 - val_acc: 0.8949\n",
            "Epoch 24/50\n",
            "11997/11997 [==============================] - 4s 292us/sample - loss: 0.0024 - acc: 0.8949 - val_loss: 0.0024 - val_acc: 0.8949\n",
            "Epoch 25/50\n",
            "11997/11997 [==============================] - 4s 298us/sample - loss: 0.0024 - acc: 0.8949 - val_loss: 0.0024 - val_acc: 0.8949\n",
            "Epoch 26/50\n",
            "11997/11997 [==============================] - 4s 308us/sample - loss: 0.0024 - acc: 0.8949 - val_loss: 0.0024 - val_acc: 0.8949\n",
            "Epoch 27/50\n",
            "11997/11997 [==============================] - 4s 308us/sample - loss: 0.0024 - acc: 0.8949 - val_loss: 0.0024 - val_acc: 0.8949\n",
            "Epoch 28/50\n",
            "11997/11997 [==============================] - 4s 300us/sample - loss: 0.0024 - acc: 0.8949 - val_loss: 0.0024 - val_acc: 0.8949\n",
            "Epoch 29/50\n",
            "11997/11997 [==============================] - 4s 295us/sample - loss: 0.0024 - acc: 0.8949 - val_loss: 0.0024 - val_acc: 0.8949\n",
            "Epoch 30/50\n",
            "11997/11997 [==============================] - 4s 294us/sample - loss: 0.0024 - acc: 0.8949 - val_loss: 0.0024 - val_acc: 0.8949\n",
            "Epoch 31/50\n",
            "11997/11997 [==============================] - 4s 296us/sample - loss: 0.0024 - acc: 0.8949 - val_loss: 0.0024 - val_acc: 0.8949\n",
            "Epoch 32/50\n",
            "11997/11997 [==============================] - 4s 298us/sample - loss: 0.0024 - acc: 0.8949 - val_loss: 0.0024 - val_acc: 0.8949\n",
            "Epoch 33/50\n",
            "11997/11997 [==============================] - 4s 298us/sample - loss: 0.0024 - acc: 0.8949 - val_loss: 0.0024 - val_acc: 0.8949\n",
            "Epoch 34/50\n",
            "11997/11997 [==============================] - 4s 296us/sample - loss: 0.0024 - acc: 0.8949 - val_loss: 0.0024 - val_acc: 0.8949\n",
            "Epoch 35/50\n",
            "11997/11997 [==============================] - 4s 297us/sample - loss: 0.0024 - acc: 0.8949 - val_loss: 0.0024 - val_acc: 0.8949\n",
            "Epoch 36/50\n",
            "11997/11997 [==============================] - 4s 295us/sample - loss: 0.0024 - acc: 0.8949 - val_loss: 0.0024 - val_acc: 0.8949\n",
            "Epoch 37/50\n",
            "11997/11997 [==============================] - 4s 293us/sample - loss: 0.0024 - acc: 0.8949 - val_loss: 0.0024 - val_acc: 0.8949\n",
            "Epoch 38/50\n",
            "11997/11997 [==============================] - 4s 294us/sample - loss: 0.0024 - acc: 0.8949 - val_loss: 0.0024 - val_acc: 0.8949\n",
            "Epoch 39/50\n",
            "11997/11997 [==============================] - 4s 294us/sample - loss: 0.0024 - acc: 0.8949 - val_loss: 0.0024 - val_acc: 0.8949\n",
            "Epoch 40/50\n",
            "11997/11997 [==============================] - 3s 291us/sample - loss: 0.0024 - acc: 0.8949 - val_loss: 0.0024 - val_acc: 0.8949\n",
            "Epoch 41/50\n",
            "11997/11997 [==============================] - 4s 294us/sample - loss: 0.0024 - acc: 0.8949 - val_loss: 0.0024 - val_acc: 0.8949\n",
            "Epoch 42/50\n",
            "11997/11997 [==============================] - 4s 301us/sample - loss: 0.0024 - acc: 0.8949 - val_loss: 0.0024 - val_acc: 0.8949\n",
            "Epoch 43/50\n",
            "11997/11997 [==============================] - 4s 299us/sample - loss: 0.0024 - acc: 0.8949 - val_loss: 0.0024 - val_acc: 0.8949\n",
            "Epoch 44/50\n",
            "11997/11997 [==============================] - 4s 300us/sample - loss: 0.0024 - acc: 0.8949 - val_loss: 0.0023 - val_acc: 0.8949\n",
            "Epoch 45/50\n",
            "11997/11997 [==============================] - 3s 291us/sample - loss: 0.0024 - acc: 0.8949 - val_loss: 0.0024 - val_acc: 0.8949\n",
            "Epoch 46/50\n",
            "11997/11997 [==============================] - 3s 290us/sample - loss: 0.0024 - acc: 0.8949 - val_loss: 0.0024 - val_acc: 0.8949\n",
            "Epoch 47/50\n",
            "11997/11997 [==============================] - 4s 296us/sample - loss: 0.0024 - acc: 0.8949 - val_loss: 0.0024 - val_acc: 0.8949\n",
            "Epoch 48/50\n",
            "11997/11997 [==============================] - 4s 295us/sample - loss: 0.0024 - acc: 0.8949 - val_loss: 0.0024 - val_acc: 0.8949\n",
            "Epoch 49/50\n",
            "11997/11997 [==============================] - 4s 296us/sample - loss: 0.0024 - acc: 0.8949 - val_loss: 0.0023 - val_acc: 0.8949\n",
            "Epoch 50/50\n",
            "11997/11997 [==============================] - 4s 297us/sample - loss: 0.0024 - acc: 0.8949 - val_loss: 0.0023 - val_acc: 0.8949\n"
          ],
          "name": "stdout"
        },
        {
          "output_type": "execute_result",
          "data": {
            "text/plain": [
              "<tensorflow.python.keras.callbacks.History at 0x7fdf3e4296d8>"
            ]
          },
          "metadata": {
            "tags": []
          },
          "execution_count": 140
        }
      ]
    },
    {
      "cell_type": "code",
      "metadata": {
        "id": "q_cqFEZyIK_5",
        "colab_type": "code",
        "outputId": "908744a7-b617-47e7-95f2-ee86d55d1b03",
        "colab": {
          "base_uri": "https://localhost:8080/",
          "height": 50
        }
      },
      "source": [
        "ypred = model.predict(X17)\n",
        "s=pd.DataFrame(ypred)\n",
        "s1=pd.DataFrame(y17)\n",
        "s1.corrwith(s, axis = 0) "
      ],
      "execution_count": 0,
      "outputs": [
        {
          "output_type": "execute_result",
          "data": {
            "text/plain": [
              "0    0.356124\n",
              "dtype: float64"
            ]
          },
          "metadata": {
            "tags": []
          },
          "execution_count": 141
        }
      ]
    },
    {
      "cell_type": "code",
      "metadata": {
        "id": "iNUMrec5KInu",
        "colab_type": "code",
        "outputId": "e7d2e7f1-8db5-46d4-aee2-ea7e43e63ed9",
        "colab": {
          "base_uri": "https://localhost:8080/",
          "height": 34
        }
      },
      "source": [
        "from sklearn.metrics import r2_score\n",
        "r2_score(y17,ypred)"
      ],
      "execution_count": 0,
      "outputs": [
        {
          "output_type": "execute_result",
          "data": {
            "text/plain": [
              "0.1254490414455648"
            ]
          },
          "metadata": {
            "tags": []
          },
          "execution_count": 142
        }
      ]
    },
    {
      "cell_type": "code",
      "metadata": {
        "id": "UJ7Wc3CIJerO",
        "colab_type": "code",
        "outputId": "6f131867-4842-4f4e-f150-fd0aa86e7520",
        "colab": {
          "base_uri": "https://localhost:8080/",
          "height": 50
        }
      },
      "source": [
        "ypred1=model.predict(X_test17)\n",
        "s=pd.DataFrame(ypred1)\n",
        "s1=pd.DataFrame(y_test17)\n",
        "s1.corrwith(s,axis=0)"
      ],
      "execution_count": 0,
      "outputs": [
        {
          "output_type": "execute_result",
          "data": {
            "text/plain": [
              "0    0.356124\n",
              "dtype: float64"
            ]
          },
          "metadata": {
            "tags": []
          },
          "execution_count": 143
        }
      ]
    },
    {
      "cell_type": "code",
      "metadata": {
        "id": "qKYoL8cDKKmZ",
        "colab_type": "code",
        "outputId": "e970b8d0-506d-4c93-ece9-de4832dd08fc",
        "colab": {
          "base_uri": "https://localhost:8080/",
          "height": 34
        }
      },
      "source": [
        "r2_score(y_test17,ypred1)"
      ],
      "execution_count": 0,
      "outputs": [
        {
          "output_type": "execute_result",
          "data": {
            "text/plain": [
              "0.1254490414455648"
            ]
          },
          "metadata": {
            "tags": []
          },
          "execution_count": 144
        }
      ]
    },
    {
      "cell_type": "code",
      "metadata": {
        "id": "sqMbanyDcoVD",
        "colab_type": "code",
        "outputId": "5fa80459-11a7-427f-cf9f-0ef7b4c6e0ce",
        "colab": {
          "base_uri": "https://localhost:8080/",
          "height": 34
        }
      },
      "source": [
        "mean_absolute_error(y_test17,ypred1)"
      ],
      "execution_count": 0,
      "outputs": [
        {
          "output_type": "execute_result",
          "data": {
            "text/plain": [
              "0.0158339260510189"
            ]
          },
          "metadata": {
            "tags": []
          },
          "execution_count": 145
        }
      ]
    },
    {
      "cell_type": "code",
      "metadata": {
        "id": "4z--E3OPcqLB",
        "colab_type": "code",
        "outputId": "40e8ded0-7383-4490-e2bc-e7dabd30ed82",
        "colab": {
          "base_uri": "https://localhost:8080/",
          "height": 34
        }
      },
      "source": [
        "mean_absolute_error(y17,ypred)"
      ],
      "execution_count": 0,
      "outputs": [
        {
          "output_type": "execute_result",
          "data": {
            "text/plain": [
              "0.0158339260510189"
            ]
          },
          "metadata": {
            "tags": []
          },
          "execution_count": 146
        }
      ]
    },
    {
      "cell_type": "code",
      "metadata": {
        "id": "bnBS9J1vB-JJ",
        "colab_type": "code",
        "outputId": "7802b9e0-ec64-4a78-a993-cf50485f3e5a",
        "colab": {
          "base_uri": "https://localhost:8080/",
          "height": 1000
        }
      },
      "source": [
        "model.fit(X18, y18, validation_data=(X_test18,y_test18),epochs=50)"
      ],
      "execution_count": 0,
      "outputs": [
        {
          "output_type": "stream",
          "text": [
            "Train on 11997 samples, validate on 11997 samples\n",
            "Epoch 1/50\n",
            "11997/11997 [==============================] - 4s 297us/sample - loss: 1.8635e-04 - acc: 0.8540 - val_loss: 1.6426e-04 - val_acc: 0.8540\n",
            "Epoch 2/50\n",
            "11997/11997 [==============================] - 3s 285us/sample - loss: 1.6330e-04 - acc: 0.8540 - val_loss: 1.6204e-04 - val_acc: 0.8540\n",
            "Epoch 3/50\n",
            "11997/11997 [==============================] - 3s 282us/sample - loss: 1.6094e-04 - acc: 0.8540 - val_loss: 1.5887e-04 - val_acc: 0.8540\n",
            "Epoch 4/50\n",
            "11997/11997 [==============================] - 3s 286us/sample - loss: 1.5982e-04 - acc: 0.8540 - val_loss: 1.5948e-04 - val_acc: 0.8540\n",
            "Epoch 5/50\n",
            "11997/11997 [==============================] - 3s 281us/sample - loss: 1.5940e-04 - acc: 0.8540 - val_loss: 1.5677e-04 - val_acc: 0.8540\n",
            "Epoch 6/50\n",
            "11997/11997 [==============================] - 3s 282us/sample - loss: 1.5764e-04 - acc: 0.8540 - val_loss: 1.5633e-04 - val_acc: 0.8540\n",
            "Epoch 7/50\n",
            "11997/11997 [==============================] - 3s 283us/sample - loss: 1.5759e-04 - acc: 0.8540 - val_loss: 1.5794e-04 - val_acc: 0.8540\n",
            "Epoch 8/50\n",
            "11997/11997 [==============================] - 3s 284us/sample - loss: 1.5742e-04 - acc: 0.8540 - val_loss: 1.5796e-04 - val_acc: 0.8540\n",
            "Epoch 9/50\n",
            "11997/11997 [==============================] - 3s 281us/sample - loss: 1.5681e-04 - acc: 0.8540 - val_loss: 1.5588e-04 - val_acc: 0.8540\n",
            "Epoch 10/50\n",
            "11997/11997 [==============================] - 3s 288us/sample - loss: 1.5739e-04 - acc: 0.8540 - val_loss: 1.5528e-04 - val_acc: 0.8540\n",
            "Epoch 11/50\n",
            "11997/11997 [==============================] - 3s 291us/sample - loss: 1.5669e-04 - acc: 0.8540 - val_loss: 1.6162e-04 - val_acc: 0.8540\n",
            "Epoch 12/50\n",
            "11997/11997 [==============================] - 3s 286us/sample - loss: 1.5720e-04 - acc: 0.8540 - val_loss: 1.5358e-04 - val_acc: 0.8540\n",
            "Epoch 13/50\n",
            "11997/11997 [==============================] - 3s 281us/sample - loss: 1.5532e-04 - acc: 0.8540 - val_loss: 1.5461e-04 - val_acc: 0.8540\n",
            "Epoch 14/50\n",
            "11997/11997 [==============================] - 3s 286us/sample - loss: 1.5582e-04 - acc: 0.8540 - val_loss: 1.5451e-04 - val_acc: 0.8540\n",
            "Epoch 15/50\n",
            "11997/11997 [==============================] - 3s 291us/sample - loss: 1.5561e-04 - acc: 0.8540 - val_loss: 1.5411e-04 - val_acc: 0.8540\n",
            "Epoch 16/50\n",
            "11997/11997 [==============================] - 3s 289us/sample - loss: 1.5531e-04 - acc: 0.8540 - val_loss: 1.5416e-04 - val_acc: 0.8540\n",
            "Epoch 17/50\n",
            "11997/11997 [==============================] - 3s 291us/sample - loss: 1.5495e-04 - acc: 0.8540 - val_loss: 1.5345e-04 - val_acc: 0.8540\n",
            "Epoch 18/50\n",
            "11997/11997 [==============================] - 3s 288us/sample - loss: 1.5594e-04 - acc: 0.8540 - val_loss: 1.5408e-04 - val_acc: 0.8540\n",
            "Epoch 19/50\n",
            "11997/11997 [==============================] - 4s 293us/sample - loss: 1.5667e-04 - acc: 0.8540 - val_loss: 1.5424e-04 - val_acc: 0.8540\n",
            "Epoch 20/50\n",
            "11997/11997 [==============================] - 3s 286us/sample - loss: 1.5579e-04 - acc: 0.8540 - val_loss: 1.5329e-04 - val_acc: 0.8540\n",
            "Epoch 21/50\n",
            "11997/11997 [==============================] - 3s 287us/sample - loss: 1.5563e-04 - acc: 0.8540 - val_loss: 1.5324e-04 - val_acc: 0.8540\n",
            "Epoch 22/50\n",
            "11997/11997 [==============================] - 3s 283us/sample - loss: 1.5578e-04 - acc: 0.8540 - val_loss: 1.5358e-04 - val_acc: 0.8540\n",
            "Epoch 23/50\n",
            "11997/11997 [==============================] - 3s 291us/sample - loss: 1.5549e-04 - acc: 0.8540 - val_loss: 1.5580e-04 - val_acc: 0.8540\n",
            "Epoch 24/50\n",
            "11997/11997 [==============================] - 3s 284us/sample - loss: 1.5743e-04 - acc: 0.8540 - val_loss: 1.5399e-04 - val_acc: 0.8540\n",
            "Epoch 25/50\n",
            "11997/11997 [==============================] - 3s 287us/sample - loss: 1.5582e-04 - acc: 0.8540 - val_loss: 1.5519e-04 - val_acc: 0.8540\n",
            "Epoch 26/50\n",
            "11997/11997 [==============================] - 3s 284us/sample - loss: 1.5561e-04 - acc: 0.8540 - val_loss: 1.5314e-04 - val_acc: 0.8540\n",
            "Epoch 27/50\n",
            "11997/11997 [==============================] - 3s 279us/sample - loss: 1.5400e-04 - acc: 0.8540 - val_loss: 1.8568e-04 - val_acc: 0.8540\n",
            "Epoch 28/50\n",
            "11997/11997 [==============================] - 4s 292us/sample - loss: 1.5588e-04 - acc: 0.8540 - val_loss: 1.5275e-04 - val_acc: 0.8540\n",
            "Epoch 29/50\n",
            "11997/11997 [==============================] - 3s 286us/sample - loss: 1.5396e-04 - acc: 0.8540 - val_loss: 1.5527e-04 - val_acc: 0.8540\n",
            "Epoch 30/50\n",
            "11997/11997 [==============================] - 3s 290us/sample - loss: 1.5490e-04 - acc: 0.8540 - val_loss: 1.5451e-04 - val_acc: 0.8540\n",
            "Epoch 31/50\n",
            "11997/11997 [==============================] - 3s 286us/sample - loss: 1.5475e-04 - acc: 0.8540 - val_loss: 1.5341e-04 - val_acc: 0.8540\n",
            "Epoch 32/50\n",
            "11997/11997 [==============================] - 3s 286us/sample - loss: 1.5537e-04 - acc: 0.8540 - val_loss: 1.5295e-04 - val_acc: 0.8540\n",
            "Epoch 33/50\n",
            "11997/11997 [==============================] - 3s 286us/sample - loss: 1.5485e-04 - acc: 0.8540 - val_loss: 1.5301e-04 - val_acc: 0.8540\n",
            "Epoch 34/50\n",
            "11997/11997 [==============================] - 3s 287us/sample - loss: 1.5456e-04 - acc: 0.8540 - val_loss: 1.5558e-04 - val_acc: 0.8540\n",
            "Epoch 35/50\n",
            "11997/11997 [==============================] - 3s 287us/sample - loss: 1.5458e-04 - acc: 0.8540 - val_loss: 1.5702e-04 - val_acc: 0.8540\n",
            "Epoch 36/50\n",
            "11997/11997 [==============================] - 3s 284us/sample - loss: 1.5501e-04 - acc: 0.8540 - val_loss: 1.5289e-04 - val_acc: 0.8540\n",
            "Epoch 37/50\n",
            "11997/11997 [==============================] - 3s 286us/sample - loss: 1.5463e-04 - acc: 0.8540 - val_loss: 1.5489e-04 - val_acc: 0.8540\n",
            "Epoch 38/50\n",
            "11997/11997 [==============================] - 3s 288us/sample - loss: 1.5519e-04 - acc: 0.8540 - val_loss: 1.5361e-04 - val_acc: 0.8540\n",
            "Epoch 39/50\n",
            "11997/11997 [==============================] - 3s 283us/sample - loss: 1.5523e-04 - acc: 0.8540 - val_loss: 1.5319e-04 - val_acc: 0.8540\n",
            "Epoch 40/50\n",
            "11997/11997 [==============================] - 3s 289us/sample - loss: 1.5534e-04 - acc: 0.8540 - val_loss: 1.5372e-04 - val_acc: 0.8540\n",
            "Epoch 41/50\n",
            "11997/11997 [==============================] - 3s 283us/sample - loss: 1.5485e-04 - acc: 0.8540 - val_loss: 1.5313e-04 - val_acc: 0.8540\n",
            "Epoch 42/50\n",
            "11997/11997 [==============================] - 3s 284us/sample - loss: 1.5565e-04 - acc: 0.8540 - val_loss: 1.5734e-04 - val_acc: 0.8540\n",
            "Epoch 43/50\n",
            "11997/11997 [==============================] - 3s 280us/sample - loss: 1.5476e-04 - acc: 0.8540 - val_loss: 1.5410e-04 - val_acc: 0.8540\n",
            "Epoch 44/50\n",
            "11997/11997 [==============================] - 3s 287us/sample - loss: 1.5461e-04 - acc: 0.8540 - val_loss: 1.5285e-04 - val_acc: 0.8540\n",
            "Epoch 45/50\n",
            "11997/11997 [==============================] - 3s 284us/sample - loss: 1.5464e-04 - acc: 0.8540 - val_loss: 1.5278e-04 - val_acc: 0.8540\n",
            "Epoch 46/50\n",
            "11997/11997 [==============================] - 3s 287us/sample - loss: 1.5463e-04 - acc: 0.8540 - val_loss: 1.5302e-04 - val_acc: 0.8540\n",
            "Epoch 47/50\n",
            "11997/11997 [==============================] - 3s 289us/sample - loss: 1.5486e-04 - acc: 0.8540 - val_loss: 1.5293e-04 - val_acc: 0.8540\n",
            "Epoch 48/50\n",
            "11997/11997 [==============================] - 3s 285us/sample - loss: 1.5518e-04 - acc: 0.8540 - val_loss: 1.5476e-04 - val_acc: 0.8540\n",
            "Epoch 49/50\n",
            "11997/11997 [==============================] - 3s 284us/sample - loss: 1.5493e-04 - acc: 0.8540 - val_loss: 1.5288e-04 - val_acc: 0.8540\n",
            "Epoch 50/50\n",
            "11997/11997 [==============================] - 3s 286us/sample - loss: 1.5504e-04 - acc: 0.8540 - val_loss: 1.5333e-04 - val_acc: 0.8540\n"
          ],
          "name": "stdout"
        },
        {
          "output_type": "execute_result",
          "data": {
            "text/plain": [
              "<tensorflow.python.keras.callbacks.History at 0x7fdf48e39940>"
            ]
          },
          "metadata": {
            "tags": []
          },
          "execution_count": 147
        }
      ]
    },
    {
      "cell_type": "code",
      "metadata": {
        "id": "4dm66DTdIMJ8",
        "colab_type": "code",
        "outputId": "d1934631-7de5-4bde-d2a2-e5d1f9fa9534",
        "colab": {
          "base_uri": "https://localhost:8080/",
          "height": 50
        }
      },
      "source": [
        "ypred = model.predict(X18)\n",
        "s=pd.DataFrame(ypred)\n",
        "s1=pd.DataFrame(y18)\n",
        "s1.corrwith(s, axis = 0) "
      ],
      "execution_count": 0,
      "outputs": [
        {
          "output_type": "execute_result",
          "data": {
            "text/plain": [
              "0    0.189219\n",
              "dtype: float64"
            ]
          },
          "metadata": {
            "tags": []
          },
          "execution_count": 148
        }
      ]
    },
    {
      "cell_type": "code",
      "metadata": {
        "id": "yVgkRVW42TsQ",
        "colab_type": "code",
        "outputId": "65213d45-5849-4f3b-9a98-7dc66e5b96dd",
        "colab": {
          "base_uri": "https://localhost:8080/",
          "height": 34
        }
      },
      "source": [
        "from sklearn.metrics import r2_score\n",
        "r2_score(y18,ypred)"
      ],
      "execution_count": 0,
      "outputs": [
        {
          "output_type": "execute_result",
          "data": {
            "text/plain": [
              "0.033201253533090336"
            ]
          },
          "metadata": {
            "tags": []
          },
          "execution_count": 149
        }
      ]
    },
    {
      "cell_type": "code",
      "metadata": {
        "id": "rtcP5oF9J_Ae",
        "colab_type": "code",
        "outputId": "a00bb480-f430-456a-cb55-a05ab64b7f06",
        "colab": {
          "base_uri": "https://localhost:8080/",
          "height": 50
        }
      },
      "source": [
        "ypred1 = model.predict(X_test18)\n",
        "s=pd.DataFrame(ypred1)\n",
        "s1=pd.DataFrame(y_test18)\n",
        "s1.corrwith(s, axis = 0) "
      ],
      "execution_count": 0,
      "outputs": [
        {
          "output_type": "execute_result",
          "data": {
            "text/plain": [
              "0    0.189219\n",
              "dtype: float64"
            ]
          },
          "metadata": {
            "tags": []
          },
          "execution_count": 150
        }
      ]
    },
    {
      "cell_type": "code",
      "metadata": {
        "id": "sUlUlZnL2tki",
        "colab_type": "code",
        "outputId": "0dfbad46-9fb2-47c7-d257-d8c28176782e",
        "colab": {
          "base_uri": "https://localhost:8080/",
          "height": 34
        }
      },
      "source": [
        "r2_score(y_test18,ypred1)"
      ],
      "execution_count": 0,
      "outputs": [
        {
          "output_type": "execute_result",
          "data": {
            "text/plain": [
              "0.033201253533090336"
            ]
          },
          "metadata": {
            "tags": []
          },
          "execution_count": 151
        }
      ]
    },
    {
      "cell_type": "code",
      "metadata": {
        "id": "ClsczOxcct6d",
        "colab_type": "code",
        "outputId": "a92451c3-636d-4463-e1ae-29a75bc07dfd",
        "colab": {
          "base_uri": "https://localhost:8080/",
          "height": 34
        }
      },
      "source": [
        "mean_absolute_error(y_test18,ypred1)"
      ],
      "execution_count": 0,
      "outputs": [
        {
          "output_type": "execute_result",
          "data": {
            "text/plain": [
              "0.0029289086738769525"
            ]
          },
          "metadata": {
            "tags": []
          },
          "execution_count": 152
        }
      ]
    },
    {
      "cell_type": "code",
      "metadata": {
        "id": "pHM1dOQ3cx-y",
        "colab_type": "code",
        "outputId": "e1168c38-2eb7-42b1-f3d1-3ea606db9634",
        "colab": {
          "base_uri": "https://localhost:8080/",
          "height": 34
        }
      },
      "source": [
        "mean_absolute_error(y18,ypred)"
      ],
      "execution_count": 0,
      "outputs": [
        {
          "output_type": "execute_result",
          "data": {
            "text/plain": [
              "0.0029289086738769525"
            ]
          },
          "metadata": {
            "tags": []
          },
          "execution_count": 153
        }
      ]
    },
    {
      "cell_type": "code",
      "metadata": {
        "id": "3ijsw74pHv_A",
        "colab_type": "code",
        "colab": {}
      },
      "source": [
        ""
      ],
      "execution_count": 0,
      "outputs": []
    }
  ]
}