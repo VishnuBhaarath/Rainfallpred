{
  "nbformat": 4,
  "nbformat_minor": 0,
  "metadata": {
    "colab": {
      "name": "LSTMsinglelayermae100.ipynb",
      "provenance": [],
      "collapsed_sections": [],
      "authorship_tag": "ABX9TyPqgxuVcswN7fJkyepIThqh",
      "include_colab_link": true
    },
    "kernelspec": {
      "name": "python3",
      "display_name": "Python 3"
    }
  },
  "cells": [
    {
      "cell_type": "markdown",
      "metadata": {
        "id": "view-in-github",
        "colab_type": "text"
      },
      "source": [
        "<a href=\"https://colab.research.google.com/github/VishnuBhaarath/Rainfallpred/blob/master/LSTMsinglelayermae100.ipynb\" target=\"_parent\"><img src=\"https://colab.research.google.com/assets/colab-badge.svg\" alt=\"Open In Colab\"/></a>"
      ]
    },
    {
      "cell_type": "code",
      "metadata": {
        "id": "5YGfJ9tYkM94",
        "colab_type": "code",
        "colab": {
          "base_uri": "https://localhost:8080/",
          "height": 62
        },
        "outputId": "9b266eeb-2679-46e7-c247-322f730fda40"
      },
      "source": [
        "from numpy.random import seed\n",
        "seed(1)\n",
        "from tensorflow import set_random_seed\n",
        "set_random_seed(2)\n",
        "from sklearn.metrics import r2_score"
      ],
      "execution_count": 1,
      "outputs": [
        {
          "output_type": "display_data",
          "data": {
            "text/html": [
              "<p style=\"color: red;\">\n",
              "The default version of TensorFlow in Colab will soon switch to TensorFlow 2.x.<br>\n",
              "We recommend you <a href=\"https://www.tensorflow.org/guide/migrate\" target=\"_blank\">upgrade</a> now \n",
              "or ensure your notebook will continue to use TensorFlow 1.x via the <code>%tensorflow_version 1.x</code> magic:\n",
              "<a href=\"https://colab.research.google.com/notebooks/tensorflow_version.ipynb\" target=\"_blank\">more info</a>.</p>\n"
            ],
            "text/plain": [
              "<IPython.core.display.HTML object>"
            ]
          },
          "metadata": {
            "tags": []
          }
        }
      ]
    },
    {
      "cell_type": "code",
      "metadata": {
        "id": "cou_fBaEkP6G",
        "colab_type": "code",
        "colab": {}
      },
      "source": [
        "import pandas as pd\n",
        "from pandas import DataFrame\n",
        "import numpy as np\n",
        "from numpy import hstack\n",
        "import tensorflow as tf\n",
        "from tensorflow import keras\n",
        "import matplotlib.pyplot as plt\n",
        "from sklearn import preprocessing"
      ],
      "execution_count": 0,
      "outputs": []
    },
    {
      "cell_type": "code",
      "metadata": {
        "id": "ACH71at4kV9t",
        "colab_type": "code",
        "colab": {}
      },
      "source": [
        "df=pd.read_excel('trend_anna_imd_21.xlsx')"
      ],
      "execution_count": 0,
      "outputs": []
    },
    {
      "cell_type": "code",
      "metadata": {
        "id": "2hp4FJfQkk9o",
        "colab_type": "code",
        "outputId": "0f8f6fdf-a7a1-4389-8625-4189d804efb1",
        "colab": {
          "base_uri": "https://localhost:8080/",
          "height": 195
        }
      },
      "source": [
        "df.head()"
      ],
      "execution_count": 4,
      "outputs": [
        {
          "output_type": "execute_result",
          "data": {
            "text/html": [
              "<div>\n",
              "<style scoped>\n",
              "    .dataframe tbody tr th:only-of-type {\n",
              "        vertical-align: middle;\n",
              "    }\n",
              "\n",
              "    .dataframe tbody tr th {\n",
              "        vertical-align: top;\n",
              "    }\n",
              "\n",
              "    .dataframe thead th {\n",
              "        text-align: right;\n",
              "    }\n",
              "</style>\n",
              "<table border=\"1\" class=\"dataframe\">\n",
              "  <thead>\n",
              "    <tr style=\"text-align: right;\">\n",
              "      <th></th>\n",
              "      <th>Unnamed: 0</th>\n",
              "      <th>Unnamed: 1</th>\n",
              "    </tr>\n",
              "  </thead>\n",
              "  <tbody>\n",
              "    <tr>\n",
              "      <th>0</th>\n",
              "      <td>1. Cuddalore</td>\n",
              "      <td>NaN</td>\n",
              "    </tr>\n",
              "    <tr>\n",
              "      <th>1</th>\n",
              "      <td>1965-01-01 00:00:00</td>\n",
              "      <td>10.6</td>\n",
              "    </tr>\n",
              "    <tr>\n",
              "      <th>2</th>\n",
              "      <td>1965-01-02 00:00:00</td>\n",
              "      <td>0.0</td>\n",
              "    </tr>\n",
              "    <tr>\n",
              "      <th>3</th>\n",
              "      <td>1965-01-03 00:00:00</td>\n",
              "      <td>13.0</td>\n",
              "    </tr>\n",
              "    <tr>\n",
              "      <th>4</th>\n",
              "      <td>1965-01-04 00:00:00</td>\n",
              "      <td>0.0</td>\n",
              "    </tr>\n",
              "  </tbody>\n",
              "</table>\n",
              "</div>"
            ],
            "text/plain": [
              "            Unnamed: 0  Unnamed: 1\n",
              "0         1. Cuddalore         NaN\n",
              "1  1965-01-01 00:00:00        10.6\n",
              "2  1965-01-02 00:00:00         0.0\n",
              "3  1965-01-03 00:00:00        13.0\n",
              "4  1965-01-04 00:00:00         0.0"
            ]
          },
          "metadata": {
            "tags": []
          },
          "execution_count": 4
        }
      ]
    },
    {
      "cell_type": "code",
      "metadata": {
        "id": "RB9D0KOIkl-g",
        "colab_type": "code",
        "colab": {}
      },
      "source": [
        "Cuddalore=df[3655:19360]\n",
        "Panruti=df[23016:38720]\n",
        "Dharmapuri=df[42408:58082]\n",
        "Harur=df[61738:77443]\n",
        "Palacode=df[81158:96804]\n",
        "Pennagaram=df[100460:116165]\n",
        "Chengam=df[119821:135526]\n",
        "Sathanur=df[138817:154522]\n",
        "Tiruvanamalai=df[158178:173883]\n",
        "Sankarapuram=df[177539:193244]\n",
        "Tirukoilur=df[196899:212604]\n",
        "ulundurpet=df[216260:231965]\n",
        "Villupuram=df[235621:251326]\n",
        "Denkanikottai=df[274343:290048]\n",
        "Hosur=df[293703:309408]\n",
        "Krishnagiri=df[313063:328768]\n",
        "Marandahalli=df[332059:347764]\n",
        "Rayakottai=df[353250:368955]\n",
        "Uthangarai=df[372611:388316]\n"
      ],
      "execution_count": 0,
      "outputs": []
    },
    {
      "cell_type": "code",
      "metadata": {
        "id": "8lT9ZtR0mBO1",
        "colab_type": "code",
        "colab": {}
      },
      "source": [
        "Cuddalore.columns = ['Date', 'Rainfall']\n",
        "Panruti.columns= ['Date', 'Rainfall']\n",
        "Dharmapuri.columns= ['Date', 'Rainfall']\n",
        "Harur.columns= ['Date', 'Rainfall']\n",
        "Palacode.columns= ['Date', 'Rainfall']\n",
        "Pennagaram.columns= ['Date', 'Rainfall']\n",
        "Chengam.columns= ['Date', 'Rainfall']\n",
        "Sathanur.columns= ['Date', 'Rainfall']\n",
        "Tiruvanamalai.columns= ['Date', 'Rainfall']\n",
        "Sankarapuram.columns= ['Date', 'Rainfall']\n",
        "Tirukoilur.columns= ['Date', 'Rainfall']\n",
        "ulundurpet.columns= ['Date', 'Rainfall']\n",
        "Villupuram.columns= ['Date', 'Rainfall']\n",
        "Denkanikottai.columns= ['Date', 'Rainfall']\n",
        "Hosur.columns= ['Date', 'Rainfall']\n",
        "Krishnagiri.columns= ['Date', 'Rainfall']\n",
        "Marandahalli.columns= ['Date', 'Rainfall']\n",
        "Rayakottai.columns= ['Date', 'Rainfall']\n",
        "Uthangarai.columns= ['Date', 'Rainfall']"
      ],
      "execution_count": 0,
      "outputs": []
    },
    {
      "cell_type": "code",
      "metadata": {
        "id": "ot2FqhbOm6dJ",
        "colab_type": "code",
        "colab": {}
      },
      "source": [
        "train=Cuddalore[0:12000]\n",
        "test=Cuddalore[12000:15704]\n",
        "train1=Panruti[0:12000]\n",
        "test1=Panruti[12000:15705]\n",
        "train2=Dharmapuri[0:12000]\n",
        "test2=Dharmapuri[12000:15674]\n",
        "train3=Harur[0:12000]\n",
        "test3=Harur[12000:15704]\n",
        "train4=Palacode[0:12000]\n",
        "test4=Palacode[12000:15646]\n",
        "train5=Pennagaram[0:12000]\n",
        "test5=Pennagaram[12000:15705]\n",
        "train6=Chengam[0:12000]\n",
        "test6=Chengam[12000:15705]\n",
        "train7=Sathanur[0:12000]\n",
        "test7=Sathanur[12000:15705]\n",
        "train8=Tiruvanamalai[0:12000]\n",
        "test8=Tiruvanamalai[12000:15165]\n",
        "train9=Sankarapuram[0:12000]\n",
        "test9=Sankarapuram[12000:15705]\n",
        "train10=Tirukoilur[0:12000]\n",
        "test10=Tirukoilur[12000:15705]\n",
        "train11=ulundurpet[0:12000]\n",
        "test11=ulundurpet[12000:15345]\n",
        "train12=Villupuram[0:12000]\n",
        "test12=Villupuram[12000:15705]\n",
        "train13=Denkanikottai[0:12000]\n",
        "test13=Denkanikottai[12000:15705]\n",
        "train14=Hosur[0:12000]\n",
        "test14=Hosur[12000:15678]\n",
        "train15=Krishnagiri[0:12000]\n",
        "test15=Krishnagiri[12000:15705]\n",
        "train16=Marandahalli[0:12000]\n",
        "test16=Marandahalli[12000:15705]\n",
        "train17=Rayakottai[0:12000]\n",
        "test17=Rayakottai[12000:15705]\n",
        "train18=Uthangarai[0:12000]\n",
        "test18=Uthangarai[12000:15705]"
      ],
      "execution_count": 0,
      "outputs": []
    },
    {
      "cell_type": "code",
      "metadata": {
        "id": "eWdgMaVPnV7A",
        "colab_type": "code",
        "colab": {}
      },
      "source": [
        "X_train=train['Rainfall']\n",
        "X_test=test['Rainfall']\n",
        "X_train1=train1['Rainfall']\n",
        "X_test1=test1['Rainfall']\n",
        "X_train2=train2['Rainfall']\n",
        "X_test2=test2['Rainfall']\n",
        "X_train3=train3['Rainfall']\n",
        "X_test3=test3['Rainfall']\n",
        "X_train4=train4['Rainfall']\n",
        "X_test4=test4['Rainfall']\n",
        "X_train5=train5['Rainfall']\n",
        "X_test5=test5['Rainfall']\n",
        "X_train6=train6['Rainfall']\n",
        "X_test6=test6['Rainfall']\n",
        "X_train7=train7['Rainfall']\n",
        "X_test7=test7['Rainfall']\n",
        "X_train8=train8['Rainfall']\n",
        "X_test8=test8['Rainfall']\n",
        "X_train9=train9['Rainfall']\n",
        "X_test9=test9['Rainfall']\n",
        "X_train10=train10['Rainfall']\n",
        "X_test10=test10['Rainfall']\n",
        "X_train11=train11['Rainfall']\n",
        "X_test11=test11['Rainfall']\n",
        "X_train12=train12['Rainfall']\n",
        "X_test12=test12['Rainfall']\n",
        "X_train13=train13['Rainfall']\n",
        "X_test13=test13['Rainfall']\n",
        "X_train14=train14['Rainfall']\n",
        "X_test14=test14['Rainfall']\n",
        "X_train15=train15['Rainfall']\n",
        "X_test15=test15['Rainfall']\n",
        "X_train16=train16['Rainfall']\n",
        "X_test16=test16['Rainfall']\n",
        "X_train17=train17['Rainfall']\n",
        "X_test17=test17['Rainfall']\n",
        "X_train18=train18['Rainfall']\n",
        "X_test18=test18['Rainfall']\n"
      ],
      "execution_count": 0,
      "outputs": []
    },
    {
      "cell_type": "code",
      "metadata": {
        "id": "QdTZBwX0mnEs",
        "colab_type": "code",
        "colab": {}
      },
      "source": [
        "min_max_scaler = preprocessing.MinMaxScaler()\n",
        "\n",
        "x_scaled = min_max_scaler.fit_transform(X_train.values.reshape(-1,1))\n",
        "X_train = pd.DataFrame(x_scaled)\n",
        "\n",
        "x_scaled1 = min_max_scaler.fit_transform(X_train1.values.reshape(-1,1))\n",
        "X_train1 = pd.DataFrame(x_scaled1)\n",
        "\n",
        "x_scaled2 = min_max_scaler.fit_transform(X_train2.values.reshape(-1,1))\n",
        "X_train2 = pd.DataFrame(x_scaled2)\n",
        "\n",
        "x_scaled3 = min_max_scaler.fit_transform(X_train3.values.reshape(-1,1))\n",
        "X_train3 = pd.DataFrame(x_scaled3)\n",
        "\n",
        "x_scaled4 = min_max_scaler.fit_transform(X_train4.values.reshape(-1,1))\n",
        "X_train4 = pd.DataFrame(x_scaled4)\n",
        "\n",
        "x_scaled5 = min_max_scaler.fit_transform(X_train5.values.reshape(-1,1))\n",
        "X_train5 = pd.DataFrame(x_scaled5)\n",
        "\n",
        "x_scaled6 = min_max_scaler.fit_transform(X_train6.values.reshape(-1,1))\n",
        "X_train6 = pd.DataFrame(x_scaled6)\n",
        "\n",
        "x_scaled7 = min_max_scaler.fit_transform(X_train7.values.reshape(-1,1))\n",
        "X_train7 = pd.DataFrame(x_scaled7)\n",
        "\n",
        "x_scaled8 = min_max_scaler.fit_transform(X_train8.values.reshape(-1,1))\n",
        "X_train8 = pd.DataFrame(x_scaled8)\n",
        "\n",
        "x_scaled9 = min_max_scaler.fit_transform(X_train9.values.reshape(-1,1))\n",
        "X_train9 = pd.DataFrame(x_scaled9)\n",
        "\n",
        "x_scaled10 = min_max_scaler.fit_transform(X_train10.values.reshape(-1,1))\n",
        "X_train10 = pd.DataFrame(x_scaled10)\n",
        "\n",
        "x_scaled11 = min_max_scaler.fit_transform(X_train11.values.reshape(-1,1))\n",
        "X_train11 = pd.DataFrame(x_scaled11)\n",
        "\n",
        "x_scaled1112 = min_max_scaler.fit_transform(X_train12.values.reshape(-1,1))\n",
        "X_train12 = pd.DataFrame(x_scaled1112)\n",
        "\n",
        "x_scaled13 = min_max_scaler.fit_transform(X_train13.values.reshape(-1,1))\n",
        "X_train13 = pd.DataFrame(x_scaled13)\n",
        "\n",
        "x_scaled14 = min_max_scaler.fit_transform(X_train14.values.reshape(-1,1))\n",
        "X_train14 = pd.DataFrame(x_scaled14)\n",
        "\n",
        "x_scaled15 = min_max_scaler.fit_transform(X_train15.values.reshape(-1,1))\n",
        "X_train15 = pd.DataFrame(x_scaled15)\n",
        "\n",
        "x_scaled16 = min_max_scaler.fit_transform(X_train16.values.reshape(-1,1))\n",
        "X_train16 = pd.DataFrame(x_scaled16)\n",
        "\n",
        "x_scaled17 = min_max_scaler.fit_transform(X_train17.values.reshape(-1,1))\n",
        "X_train17 = pd.DataFrame(x_scaled17)\n",
        "\n",
        "x_scaled18 = min_max_scaler.fit_transform(X_train18.values.reshape(-1,1))\n",
        "X_train18 = pd.DataFrame(x_scaled18)\n",
        "\n"
      ],
      "execution_count": 0,
      "outputs": []
    },
    {
      "cell_type": "code",
      "metadata": {
        "id": "CxbM6N2-oCPd",
        "colab_type": "code",
        "colab": {}
      },
      "source": [
        "x_scaled1 = min_max_scaler.fit_transform(X_test.values.reshape(-1,1))\n",
        "X_test = pd.DataFrame(x_scaled1)\n",
        "\n",
        "x_scaled11 = min_max_scaler.fit_transform(X_test1.values.reshape(-1,1))\n",
        "X_test1 = pd.DataFrame(x_scaled11)\n",
        "\n",
        "x_scaled12 = min_max_scaler.fit_transform(X_test2.values.reshape(-1,1))\n",
        "X_test2 = pd.DataFrame(x_scaled12)\n",
        "\n",
        "x_scaled13 = min_max_scaler.fit_transform(X_test3.values.reshape(-1,1))\n",
        "X_test3 = pd.DataFrame(x_scaled13)\n",
        "\n",
        "x_scaled14 = min_max_scaler.fit_transform(X_test4.values.reshape(-1,1))\n",
        "X_test4 = pd.DataFrame(x_scaled14)\n",
        "\n",
        "x_scaled15 = min_max_scaler.fit_transform(X_test5.values.reshape(-1,1))\n",
        "X_test5 = pd.DataFrame(x_scaled15)\n",
        "\n",
        "x_scaled16 = min_max_scaler.fit_transform(X_test6.values.reshape(-1,1))\n",
        "X_test6 = pd.DataFrame(x_scaled16)\n",
        "\n",
        "x_scaled17 = min_max_scaler.fit_transform(X_test7.values.reshape(-1,1))\n",
        "X_test7 = pd.DataFrame(x_scaled17)\n",
        "\n",
        "x_scaled18 = min_max_scaler.fit_transform(X_test8.values.reshape(-1,1))\n",
        "X_test8 = pd.DataFrame(x_scaled18)\n",
        "\n",
        "x_scaled19 = min_max_scaler.fit_transform(X_test9.values.reshape(-1,1))\n",
        "X_test9 = pd.DataFrame(x_scaled19)\n",
        "\n",
        "x_scaled110 = min_max_scaler.fit_transform(X_test10.values.reshape(-1,1))\n",
        "X_test10 = pd.DataFrame(x_scaled110)\n",
        "\n",
        "x_scaled111 = min_max_scaler.fit_transform(X_test11.values.reshape(-1,1))\n",
        "X_test11 = pd.DataFrame(x_scaled111)\n",
        "\n",
        "x_scaled112 = min_max_scaler.fit_transform(X_test12.values.reshape(-1,1))\n",
        "X_test12 = pd.DataFrame(x_scaled112)\n",
        "\n",
        "x_scaled113 = min_max_scaler.fit_transform(X_test13.values.reshape(-1,1))\n",
        "X_test13 = pd.DataFrame(x_scaled113)\n",
        "\n",
        "x_scaled114 = min_max_scaler.fit_transform(X_test14.values.reshape(-1,1))\n",
        "X_test14 = pd.DataFrame(x_scaled114)\n",
        "\n",
        "x_scaled115= min_max_scaler.fit_transform(X_test15.values.reshape(-1,1))\n",
        "X_test15 = pd.DataFrame(x_scaled115)\n",
        "\n",
        "x_scaled116 = min_max_scaler.fit_transform(X_test16.values.reshape(-1,1))\n",
        "X_test16 = pd.DataFrame(x_scaled116)\n",
        "\n",
        "x_scaled117 = min_max_scaler.fit_transform(X_test17.values.reshape(-1,1))\n",
        "X_test17 = pd.DataFrame(x_scaled117)\n",
        "\n",
        "x_scaled118 = min_max_scaler.fit_transform(X_test18.values.reshape(-1,1))\n",
        "X_test18 = pd.DataFrame(x_scaled118)\n"
      ],
      "execution_count": 0,
      "outputs": []
    },
    {
      "cell_type": "code",
      "metadata": {
        "id": "VZNCwdZhrTQD",
        "colab_type": "code",
        "colab": {}
      },
      "source": [
        "in_seq = np.array([X_train[0]])\n",
        "in_seqtest1 = np.array([X_test[0]])\n",
        "\n",
        "in_seq1 = np.array([X_train1[0]])\n",
        "in_seqt11 = np.array([X_test1[0]])\n",
        "\n",
        "in_seq12 = np.array([X_train2[0]])\n",
        "in_seqt112 = np.array([X_test2[0]])\n",
        "\n",
        "in_seq13 = np.array([X_train3[0]])\n",
        "in_seqt113 = np.array([X_test3[0]])\n",
        "\n",
        "in_seq14 = np.array([X_train4[0]])\n",
        "in_seqt114 = np.array([X_test4[0]])\n",
        "\n",
        "in_seq15 = np.array([X_train5[0]])\n",
        "in_seqt115 = np.array([X_test5[0]])\n",
        "\n",
        "in_seq16 = np.array([X_train6[0]])\n",
        "in_seqt116 = np.array([X_test6[0]])\n",
        "\n",
        "in_seq17 = np.array([X_train7[0]])\n",
        "in_seqt117 = np.array([X_test7[0]])\n",
        "\n",
        "in_seq18 = np.array([X_train8[0]])\n",
        "in_seqt118 = np.array([X_test8[0]])\n",
        "\n",
        "in_seq19 = np.array([X_train9[0]])\n",
        "in_seqt119 = np.array([X_test9[0]])\n",
        "\n",
        "in_seq110 = np.array([X_train10[0]])\n",
        "in_seqt1110 = np.array([X_test10[0]])\n",
        "\n",
        "in_seq111 = np.array([X_train11[0]])\n",
        "in_seqt1111 = np.array([X_test11[0]])\n",
        "\n",
        "in_seq112 = np.array([X_train12[0]])\n",
        "in_seqt1112 = np.array([X_test12[0]])\n",
        "\n",
        "in_seq113 = np.array([X_train13[0]])\n",
        "in_seqt1113 = np.array([X_test13[0]])\n",
        "\n",
        "in_seq114 = np.array([X_train14[0]])\n",
        "in_seqt1114 = np.array([X_test14[0]])\n",
        "\n",
        "in_seq115 = np.array([X_train15[0]])\n",
        "in_seqt1115 = np.array([X_test15[0]])\n",
        "\n",
        "in_seq116 = np.array([X_train16[0]])\n",
        "in_seqt1116 = np.array([X_test16[0]])\n",
        "\n",
        "in_seq117 = np.array([X_train17[0]])\n",
        "in_seqt1117 = np.array([X_test17[0]])\n",
        "\n",
        "in_seq118 = np.array([X_train18[0]])\n",
        "in_seqt1118 = np.array([X_test18[0]])\n"
      ],
      "execution_count": 0,
      "outputs": []
    },
    {
      "cell_type": "code",
      "metadata": {
        "id": "2vtw9-GtrbhY",
        "colab_type": "code",
        "colab": {}
      },
      "source": [
        "in_seq = in_seq.reshape((12000, 1))\n",
        "in_seqtest1 = in_seqtest1.reshape((3704, 1))\n",
        "\n",
        "in_seq1 = in_seq1.reshape((12000, 1))\n",
        "in_seqt11 = in_seqt11.reshape((3704, 1))\n",
        "\n",
        "in_seq12 = in_seq12.reshape((12000, 1))\n",
        "in_seqt112 = in_seqt112.reshape((3674, 1))\n",
        "\n",
        "in_seq13 = in_seq13.reshape((12000, 1))\n",
        "in_seqt113 = in_seqt113.reshape((3704, 1))\n",
        "\n",
        "in_seq14 = in_seq14.reshape((12000, 1))\n",
        "in_seqt114 = in_seqt114.reshape((3646, 1))\n",
        "\n",
        "in_seq15 = in_seq15.reshape((12000, 1))\n",
        "in_seqt115 = in_seqt115.reshape((3705, 1))\n",
        "\n",
        "in_seq16 = in_seq16.reshape((12000, 1))\n",
        "in_seqt116 = in_seqt116.reshape((3705, 1))\n",
        "\n",
        "in_seq17 = in_seq17.reshape((12000, 1))\n",
        "in_seqt117 = in_seqt117.reshape((3705, 1))\n",
        "\n",
        "in_seq18 = in_seq18.reshape((12000, 1))\n",
        "in_seqt118 = in_seqt118.reshape((3165, 1))\n",
        "\n",
        "in_seq19 = in_seq19.reshape((12000, 1))\n",
        "in_seqt119 = in_seqt119.reshape((3705, 1))\n",
        "\n",
        "in_seq110 = in_seq110.reshape((12000, 1))\n",
        "in_seqt1110 = in_seqt1110.reshape((3705, 1))\n",
        "\n",
        "in_seq111 = in_seq111.reshape((12000, 1))\n",
        "in_seqt1111 = in_seqt1111.reshape((3345, 1))\n",
        "\n",
        "in_seq112 = in_seq112.reshape((12000, 1))\n",
        "in_seqt1112 = in_seqt1112.reshape((3705, 1))\n",
        "\n",
        "in_seq113 = in_seq113.reshape((12000, 1))\n",
        "in_seqt1113 = in_seqt1113.reshape((3705, 1))\n",
        "\n",
        "in_seq114 = in_seq114.reshape((12000, 1))\n",
        "in_seqt1114 = in_seqt1114.reshape((3678, 1))\n",
        "\n",
        "in_seq115 = in_seq115.reshape((12000, 1))\n",
        "in_seqt1115 = in_seqt1115.reshape((3705, 1))\n",
        "\n",
        "in_seq116 = in_seq116.reshape((12000, 1))\n",
        "in_seqt1116 = in_seqt1116.reshape((3705, 1))\n",
        "\n",
        "in_seq117 = in_seq117.reshape((12000, 1))\n",
        "in_seqt1117 = in_seqt1117.reshape((3705, 1))\n",
        "\n",
        "in_seq118 = in_seq118.reshape((12000, 1))\n",
        "in_seqt1118 = in_seqt1118.reshape((3704, 1))\n",
        "\n"
      ],
      "execution_count": 0,
      "outputs": []
    },
    {
      "cell_type": "code",
      "metadata": {
        "id": "dcthfPpSoN2u",
        "colab_type": "code",
        "colab": {}
      },
      "source": [
        "def split_sequence(sequence, n_steps):\n",
        "\tX, y = list(), list()\n",
        "\tfor i in range(len(sequence)):\n",
        "\t\t# find the end of this pattern\n",
        "\t\tend_ix = i + n_steps\n",
        "\t\t# check if we are beyond the sequence\n",
        "\t\tif end_ix > len(sequence)-1:\n",
        "\t\t\tbreak\n",
        "\t\t# gather input and output parts of the pattern\n",
        "\t\tseq_x, seq_y = sequence[i:end_ix], sequence[end_ix]\n",
        "\t\tX.append(seq_x)\n",
        "\t\ty.append(seq_y)\n",
        "\treturn np.array(X), np.array(y)"
      ],
      "execution_count": 0,
      "outputs": []
    },
    {
      "cell_type": "code",
      "metadata": {
        "id": "NLCLOXnyptMN",
        "colab_type": "code",
        "colab": {}
      },
      "source": [
        "cuddataset1 = hstack((in_seqtest1))\n",
        "cuddataset = hstack((in_seq))\n",
        "\n",
        "pandataset1 = hstack((in_seqt11))\n",
        "pandataset = hstack((in_seq1))\n",
        "\n",
        "dhadataset1 = hstack((in_seqt112))\n",
        "dhadataset = hstack((in_seq12))\n",
        "\n",
        "hardataset1 = hstack((in_seqt113))\n",
        "hardataset = hstack((in_seq13))\n",
        "\n",
        "paldataset1 = hstack((in_seqt114))\n",
        "paldataset = hstack((in_seq14))\n",
        "\n",
        "pendataset1 = hstack((in_seqt115))\n",
        "pendataset = hstack((in_seq15))\n",
        "\n",
        "chedataset1 = hstack((in_seqt116))\n",
        "chedataset = hstack((in_seq16))\n",
        "\n",
        "satdataset1 = hstack((in_seqt117))\n",
        "satdataset = hstack((in_seq17))\n",
        "\n",
        "Tirdataset1 = hstack((in_seqt118))\n",
        "Tirdataset = hstack((in_seq18))\n",
        "\n",
        "Sandataset1 = hstack((in_seqt119))\n",
        "Sandataset = hstack((in_seq19))\n",
        "\n",
        "Tirudataset1 = hstack((in_seqt1110))\n",
        "Tirudataset = hstack((in_seq110))\n",
        "\n",
        "uludataset1 = hstack((in_seqt1111))\n",
        "uludataset = hstack((in_seq111))\n",
        "\n",
        "vildataset1 = hstack((in_seqt1112))\n",
        "vildataset = hstack((in_seq112))\n",
        "\n",
        "bardataset1 = hstack((in_seqt1113))\n",
        "bardataset = hstack((in_seq113))\n",
        "\n",
        "Dendataset1 = hstack((in_seqt1114))\n",
        "Dendataset = hstack((in_seq114))\n",
        "\n",
        "kridataset1 = hstack((in_seqt1115))\n",
        "kridataset = hstack((in_seq115))\n",
        "\n",
        "mardataset1 = hstack((in_seqt1116))\n",
        "mardataset = hstack((in_seq116))\n",
        "\n",
        "raydataset1 = hstack((in_seqt1117))\n",
        "raydataset = hstack((in_seq117))\n",
        "\n",
        "uthdataset1 = hstack((in_seqt1118))\n",
        "uthdataset = hstack((in_seq118))\n"
      ],
      "execution_count": 0,
      "outputs": []
    },
    {
      "cell_type": "code",
      "metadata": {
        "id": "VXevl6Wdrz2e",
        "colab_type": "code",
        "colab": {}
      },
      "source": [
        "n_steps = 3\n",
        "# convert into input/output\n",
        "X, y = split_sequence(cuddataset, n_steps)\n",
        "X1 , y1 = split_sequence(pandataset, n_steps)\n",
        "X2 , y2 = split_sequence(dhadataset, n_steps)\n",
        "X3 , y3 = split_sequence(hardataset, n_steps)\n",
        "X4 , y4 = split_sequence(paldataset, n_steps)\n",
        "X5 , y5 = split_sequence(pendataset, n_steps)\n",
        "X6, y6 = split_sequence(chedataset, n_steps)\n",
        "X7, y7 = split_sequence(satdataset, n_steps)\n",
        "X8, y8 = split_sequence(Tirdataset, n_steps)\n",
        "X9, y9 = split_sequence(Sandataset, n_steps)\n",
        "X10, y10 = split_sequence(Tirudataset, n_steps)\n",
        "X11, y11 = split_sequence(uludataset, n_steps)\n",
        "X12 , y12 = split_sequence(vildataset, n_steps)\n",
        "X13, y13 = split_sequence(bardataset, n_steps)\n",
        "X14, y14 = split_sequence(Dendataset, n_steps)\n",
        "X15, y15 = split_sequence(kridataset, n_steps)\n",
        "X16, y16 = split_sequence(mardataset, n_steps)\n",
        "X17, y17 = split_sequence(raydataset, n_steps)\n",
        "X18, y18 = split_sequence(uthdataset, n_steps)"
      ],
      "execution_count": 0,
      "outputs": []
    },
    {
      "cell_type": "code",
      "metadata": {
        "id": "CcgWCIqIr44M",
        "colab_type": "code",
        "colab": {}
      },
      "source": [
        "X_test,y_test = split_sequence(cuddataset1, n_steps)\n",
        "X_test1,y_test1 = split_sequence(pandataset1, n_steps)\n",
        "X_test2,y_test2= split_sequence(dhadataset1, n_steps)\n",
        "X_test3,y_test3 = split_sequence(hardataset1, n_steps)\n",
        "X_test4,y_test4 = split_sequence(paldataset1, n_steps)\n",
        "X_test5,y_test5 = split_sequence(pendataset1, n_steps)\n",
        "X_test6,y_test6 = split_sequence(chedataset1, n_steps)\n",
        "X_test7,y_test7 = split_sequence(satdataset1, n_steps)\n",
        "X_test8,y_test8 = split_sequence(Tirdataset1, n_steps)\n",
        "X_test9,y_test9 = split_sequence(Sandataset1, n_steps)\n",
        "X_test10,y_test10 = split_sequence(Tirudataset1, n_steps)\n",
        "X_test11,y_test11= split_sequence(uludataset1, n_steps)\n",
        "X_test12,y_test12 = split_sequence(vildataset1, n_steps)\n",
        "X_test13,y_test13 = split_sequence(bardataset1, n_steps)\n",
        "X_test14,y_test14 = split_sequence(Dendataset1, n_steps)\n",
        "X_test15,y_test15 = split_sequence(kridataset1, n_steps)\n",
        "X_test16,y_test16 = split_sequence(mardataset1, n_steps)\n",
        "X_test17,y_test17= split_sequence(raydataset1, n_steps)\n",
        "X_test18,y_test18= split_sequence(uthdataset1, n_steps)"
      ],
      "execution_count": 0,
      "outputs": []
    },
    {
      "cell_type": "code",
      "metadata": {
        "id": "fDRANPMqG4am",
        "colab_type": "code",
        "colab": {}
      },
      "source": [
        "y_test=np.nan_to_num(y_test)\n",
        "y_test1=np.nan_to_num(y_test1)\n",
        "y_test2=np.nan_to_num(y_test2)\n",
        "y_test3=np.nan_to_num(y_test3)\n",
        "\n",
        "y_test4=np.nan_to_num(y_test4)\n",
        "y_test5=np.nan_to_num(y_test5)\n",
        "y_test6=np.nan_to_num(y_test6)\n",
        "y_test7=np.nan_to_num(y_test7)\n",
        "y_test8=np.nan_to_num(y_test8)\n",
        "y_test9=np.nan_to_num(y_test9)\n",
        "y_test10=np.nan_to_num(y_test10)\n",
        "y_test11=np.nan_to_num(y_test11)\n",
        "y_test12=np.nan_to_num(y_test12)\n",
        "y_test13=np.nan_to_num(y_test13)\n",
        "y_test14=np.nan_to_num(y_test14)\n",
        "y_test15=np.nan_to_num(y_test15)\n",
        "y_test16=np.nan_to_num(y_test16)\n",
        "y_test17=np.nan_to_num(y_test17)\n",
        "y_test18=np.nan_to_num(y_test18)\n"
      ],
      "execution_count": 0,
      "outputs": []
    },
    {
      "cell_type": "code",
      "metadata": {
        "id": "lZ26OGqHr95T",
        "colab_type": "code",
        "colab": {}
      },
      "source": [
        "model = keras.Sequential()\n",
        "model.add(keras.layers.LSTM(100, activation='relu', input_shape=(n_steps, 1)))\n",
        "model.add(keras.layers.Dense(1))\n",
        "model.compile(optimizer='adam', loss='mse',metrics=['accuracy'])"
      ],
      "execution_count": 0,
      "outputs": []
    },
    {
      "cell_type": "code",
      "metadata": {
        "id": "HUwsDYObsG7O",
        "colab_type": "code",
        "colab": {}
      },
      "source": [
        "X = X.reshape((X.shape[0], X.shape[1], 1))\n",
        "X1 = X1.reshape((X1.shape[0], X1.shape[1], 1))\n",
        "X2 = X2.reshape((X2.shape[0], X2.shape[1], 1))\n",
        "X3 = X3.reshape((X3.shape[0], X3.shape[1], 1))\n",
        "X4 = X4.reshape((X4.shape[0], X4.shape[1], 1))\n",
        "X5 = X5.reshape((X5.shape[0], X5.shape[1], 1))\n",
        "X6 = X6.reshape((X6.shape[0], X6.shape[1], 1))\n",
        "X7 = X7.reshape((X7.shape[0], X7.shape[1], 1))\n",
        "X8 = X8.reshape((X8.shape[0], X8.shape[1], 1))\n",
        "X9 = X9.reshape((X9.shape[0], X9.shape[1], 1))\n",
        "X10 = X10.reshape((X10.shape[0], X10.shape[1], 1))\n",
        "X11 = X11.reshape((X11.shape[0], X11.shape[1], 1))\n",
        "X12 = X12.reshape((X12.shape[0], X12.shape[1], 1))\n",
        "X13 = X13.reshape((X13.shape[0], X13.shape[1], 1))\n",
        "X14 = X14.reshape((X14.shape[0], X14.shape[1], 1))\n",
        "X15 = X15.reshape((X15.shape[0], X15.shape[1], 1))\n",
        "X16 = X16.reshape((X16.shape[0], X16.shape[1], 1))\n",
        "X17 = X17.reshape((X17.shape[0], X17.shape[1], 1))\n",
        "X18 = X18.reshape((X18.shape[0], X18.shape[1], 1))\n"
      ],
      "execution_count": 0,
      "outputs": []
    },
    {
      "cell_type": "code",
      "metadata": {
        "id": "Y3GPbJFSslfM",
        "colab_type": "code",
        "colab": {}
      },
      "source": [
        "X_test=X_test.reshape((X_test.shape[0], X_test.shape[1], 1))\n",
        "X_test1=X_test1.reshape((X_test1.shape[0], X_test1.shape[1], 1))\n",
        "X_test2=X_test2.reshape((X_test2.shape[0], X_test2.shape[1], 1))\n",
        "X_test3=X_test3.reshape((X_test3.shape[0], X_test3.shape[1], 1))\n",
        "X_test4=X_test4.reshape((X_test4.shape[0], X_test4.shape[1], 1))\n",
        "X_test5=X_test5.reshape((X_test5.shape[0], X_test5.shape[1], 1))\n",
        "X_test6=X_test6.reshape((X_test6.shape[0], X_test6.shape[1], 1))\n",
        "X_test7=X_test7.reshape((X_test7.shape[0], X_test7.shape[1], 1))\n",
        "X_test8=X_test8.reshape((X_test8.shape[0], X_test8.shape[1], 1))\n",
        "X_test9=X_test9.reshape((X_test9.shape[0], X_test9.shape[1], 1))\n",
        "X_test10=X_test10.reshape((X_test10.shape[0], X_test10.shape[1], 1))\n",
        "X_test11=X_test11.reshape((X_test11.shape[0], X_test11.shape[1], 1))\n",
        "X_test12=X_test12.reshape((X_test12.shape[0], X_test12.shape[1], 1))\n",
        "X_test13=X_test13.reshape((X_test13.shape[0], X_test13.shape[1], 1))\n",
        "X_test14=X_test14.reshape((X_test14.shape[0], X_test14.shape[1], 1))\n",
        "X_test15=X_test15.reshape((X_test15.shape[0], X_test15.shape[1], 1))\n",
        "\n",
        "X_test16=X_test16.reshape((X_test16.shape[0], X_test16.shape[1], 1))\n",
        "X_test17=X_test17.reshape((X_test17.shape[0], X_test17.shape[1], 1))\n",
        "X_test18=X_test18.reshape((X_test18.shape[0], X_test18.shape[1], 1))\n"
      ],
      "execution_count": 0,
      "outputs": []
    },
    {
      "cell_type": "code",
      "metadata": {
        "id": "CJ0AjGmYsCUs",
        "colab_type": "code",
        "outputId": "408cba81-8f3e-41d2-d93f-818ab176d509",
        "colab": {
          "base_uri": "https://localhost:8080/",
          "height": 1000
        }
      },
      "source": [
        "model.fit(X, y, validation_data=(X_test,y_test),epochs=50)"
      ],
      "execution_count": 237,
      "outputs": [
        {
          "output_type": "stream",
          "text": [
            "Train on 11997 samples, validate on 3701 samples\n",
            "Epoch 1/50\n",
            "11997/11997 [==============================] - 4s 337us/sample - loss: 0.0012 - acc: 0.7724 - val_loss: 0.0043 - val_acc: 0.7720\n",
            "Epoch 2/50\n",
            "11997/11997 [==============================] - 2s 208us/sample - loss: 0.0011 - acc: 0.7724 - val_loss: 0.0042 - val_acc: 0.7720\n",
            "Epoch 3/50\n",
            "11997/11997 [==============================] - 2s 203us/sample - loss: 0.0011 - acc: 0.7724 - val_loss: 0.0042 - val_acc: 0.7720\n",
            "Epoch 4/50\n",
            "11997/11997 [==============================] - 2s 207us/sample - loss: 0.0011 - acc: 0.7724 - val_loss: 0.0041 - val_acc: 0.7720\n",
            "Epoch 5/50\n",
            "11997/11997 [==============================] - 2s 206us/sample - loss: 0.0011 - acc: 0.7724 - val_loss: 0.0041 - val_acc: 0.7720\n",
            "Epoch 6/50\n",
            "11997/11997 [==============================] - 2s 205us/sample - loss: 0.0011 - acc: 0.7724 - val_loss: 0.0043 - val_acc: 0.7720\n",
            "Epoch 7/50\n",
            "11997/11997 [==============================] - 2s 200us/sample - loss: 0.0011 - acc: 0.7724 - val_loss: 0.0042 - val_acc: 0.7720\n",
            "Epoch 8/50\n",
            "11997/11997 [==============================] - 3s 211us/sample - loss: 0.0011 - acc: 0.7724 - val_loss: 0.0046 - val_acc: 0.7720\n",
            "Epoch 9/50\n",
            "11997/11997 [==============================] - 3s 209us/sample - loss: 0.0011 - acc: 0.7724 - val_loss: 0.0041 - val_acc: 0.7720\n",
            "Epoch 10/50\n",
            "11997/11997 [==============================] - 2s 200us/sample - loss: 0.0011 - acc: 0.7724 - val_loss: 0.0043 - val_acc: 0.7720\n",
            "Epoch 11/50\n",
            "11997/11997 [==============================] - 3s 209us/sample - loss: 0.0011 - acc: 0.7724 - val_loss: 0.0044 - val_acc: 0.7720\n",
            "Epoch 12/50\n",
            "11997/11997 [==============================] - 3s 211us/sample - loss: 0.0011 - acc: 0.7724 - val_loss: 0.0042 - val_acc: 0.7720\n",
            "Epoch 13/50\n",
            "11997/11997 [==============================] - 3s 209us/sample - loss: 0.0011 - acc: 0.7724 - val_loss: 0.0042 - val_acc: 0.7720\n",
            "Epoch 14/50\n",
            "11997/11997 [==============================] - 3s 213us/sample - loss: 0.0011 - acc: 0.7724 - val_loss: 0.0043 - val_acc: 0.7720\n",
            "Epoch 15/50\n",
            "11997/11997 [==============================] - 2s 208us/sample - loss: 0.0011 - acc: 0.7724 - val_loss: 0.0042 - val_acc: 0.7720\n",
            "Epoch 16/50\n",
            "11997/11997 [==============================] - 2s 203us/sample - loss: 0.0011 - acc: 0.7724 - val_loss: 0.0043 - val_acc: 0.7720\n",
            "Epoch 17/50\n",
            "11997/11997 [==============================] - 2s 203us/sample - loss: 0.0011 - acc: 0.7724 - val_loss: 0.0042 - val_acc: 0.7720\n",
            "Epoch 18/50\n",
            "11997/11997 [==============================] - 2s 204us/sample - loss: 0.0011 - acc: 0.7724 - val_loss: 0.0043 - val_acc: 0.7720\n",
            "Epoch 19/50\n",
            "11997/11997 [==============================] - 3s 211us/sample - loss: 0.0011 - acc: 0.7724 - val_loss: 0.0043 - val_acc: 0.7720\n",
            "Epoch 20/50\n",
            "11997/11997 [==============================] - 2s 208us/sample - loss: 0.0011 - acc: 0.7724 - val_loss: 0.0041 - val_acc: 0.7720\n",
            "Epoch 21/50\n",
            "11997/11997 [==============================] - 3s 210us/sample - loss: 0.0011 - acc: 0.7724 - val_loss: 0.0041 - val_acc: 0.7720\n",
            "Epoch 22/50\n",
            "11997/11997 [==============================] - 2s 207us/sample - loss: 0.0011 - acc: 0.7724 - val_loss: 0.0043 - val_acc: 0.7720\n",
            "Epoch 23/50\n",
            "11997/11997 [==============================] - 2s 206us/sample - loss: 0.0011 - acc: 0.7724 - val_loss: 0.0043 - val_acc: 0.7720\n",
            "Epoch 24/50\n",
            "11997/11997 [==============================] - 2s 203us/sample - loss: 0.0011 - acc: 0.7724 - val_loss: 0.0043 - val_acc: 0.7720\n",
            "Epoch 25/50\n",
            "11997/11997 [==============================] - 2s 205us/sample - loss: 0.0011 - acc: 0.7724 - val_loss: 0.0042 - val_acc: 0.7720\n",
            "Epoch 26/50\n",
            "11997/11997 [==============================] - 2s 206us/sample - loss: 0.0011 - acc: 0.7724 - val_loss: 0.0042 - val_acc: 0.7720\n",
            "Epoch 27/50\n",
            "11997/11997 [==============================] - 2s 205us/sample - loss: 0.0011 - acc: 0.7724 - val_loss: 0.0043 - val_acc: 0.7720\n",
            "Epoch 28/50\n",
            "11997/11997 [==============================] - 2s 202us/sample - loss: 0.0011 - acc: 0.7724 - val_loss: 0.0041 - val_acc: 0.7720\n",
            "Epoch 29/50\n",
            "11997/11997 [==============================] - 2s 200us/sample - loss: 0.0011 - acc: 0.7724 - val_loss: 0.0043 - val_acc: 0.7720\n",
            "Epoch 30/50\n",
            "11997/11997 [==============================] - 2s 201us/sample - loss: 0.0011 - acc: 0.7724 - val_loss: 0.0044 - val_acc: 0.7720\n",
            "Epoch 31/50\n",
            "11997/11997 [==============================] - 2s 205us/sample - loss: 0.0011 - acc: 0.7724 - val_loss: 0.0044 - val_acc: 0.7720\n",
            "Epoch 32/50\n",
            "11997/11997 [==============================] - 3s 209us/sample - loss: 0.0011 - acc: 0.7724 - val_loss: 0.0043 - val_acc: 0.7720\n",
            "Epoch 33/50\n",
            "11997/11997 [==============================] - 3s 209us/sample - loss: 0.0011 - acc: 0.7724 - val_loss: 0.0042 - val_acc: 0.7720\n",
            "Epoch 34/50\n",
            "11997/11997 [==============================] - 3s 209us/sample - loss: 0.0011 - acc: 0.7724 - val_loss: 0.0042 - val_acc: 0.7720\n",
            "Epoch 35/50\n",
            "11997/11997 [==============================] - 3s 209us/sample - loss: 0.0011 - acc: 0.7724 - val_loss: 0.0043 - val_acc: 0.7720\n",
            "Epoch 36/50\n",
            "11997/11997 [==============================] - 3s 224us/sample - loss: 0.0011 - acc: 0.7724 - val_loss: 0.0045 - val_acc: 0.7720\n",
            "Epoch 37/50\n",
            "11997/11997 [==============================] - 3s 224us/sample - loss: 0.0011 - acc: 0.7724 - val_loss: 0.0042 - val_acc: 0.7720\n",
            "Epoch 38/50\n",
            "11997/11997 [==============================] - 3s 225us/sample - loss: 0.0011 - acc: 0.7724 - val_loss: 0.0044 - val_acc: 0.7720\n",
            "Epoch 39/50\n",
            "11997/11997 [==============================] - 3s 220us/sample - loss: 0.0011 - acc: 0.7724 - val_loss: 0.0042 - val_acc: 0.7720\n",
            "Epoch 40/50\n",
            "11997/11997 [==============================] - 3s 209us/sample - loss: 0.0011 - acc: 0.7724 - val_loss: 0.0044 - val_acc: 0.7720\n",
            "Epoch 41/50\n",
            "11997/11997 [==============================] - 3s 213us/sample - loss: 0.0011 - acc: 0.7724 - val_loss: 0.0044 - val_acc: 0.7720\n",
            "Epoch 42/50\n",
            "11997/11997 [==============================] - 3s 215us/sample - loss: 0.0011 - acc: 0.7724 - val_loss: 0.0043 - val_acc: 0.7720\n",
            "Epoch 43/50\n",
            "11997/11997 [==============================] - 3s 213us/sample - loss: 0.0011 - acc: 0.7724 - val_loss: 0.0044 - val_acc: 0.7720\n",
            "Epoch 44/50\n",
            "11997/11997 [==============================] - 3s 217us/sample - loss: 0.0011 - acc: 0.7724 - val_loss: 0.0045 - val_acc: 0.7720\n",
            "Epoch 45/50\n",
            "11997/11997 [==============================] - 3s 218us/sample - loss: 0.0011 - acc: 0.7724 - val_loss: 0.0045 - val_acc: 0.7720\n",
            "Epoch 46/50\n",
            "11997/11997 [==============================] - 3s 217us/sample - loss: 0.0011 - acc: 0.7724 - val_loss: 0.0046 - val_acc: 0.7720\n",
            "Epoch 47/50\n",
            "11997/11997 [==============================] - 3s 219us/sample - loss: 0.0011 - acc: 0.7724 - val_loss: 0.0045 - val_acc: 0.7720\n",
            "Epoch 48/50\n",
            "11997/11997 [==============================] - 3s 214us/sample - loss: 0.0011 - acc: 0.7724 - val_loss: 0.0044 - val_acc: 0.7720\n",
            "Epoch 49/50\n",
            "11997/11997 [==============================] - 3s 215us/sample - loss: 0.0011 - acc: 0.7724 - val_loss: 0.0045 - val_acc: 0.7720\n",
            "Epoch 50/50\n",
            "11997/11997 [==============================] - 3s 222us/sample - loss: 0.0011 - acc: 0.7724 - val_loss: 0.0046 - val_acc: 0.7720\n"
          ],
          "name": "stdout"
        },
        {
          "output_type": "execute_result",
          "data": {
            "text/plain": [
              "<tensorflow.python.keras.callbacks.History at 0x7fbe8a894cc0>"
            ]
          },
          "metadata": {
            "tags": []
          },
          "execution_count": 237
        }
      ]
    },
    {
      "cell_type": "code",
      "metadata": {
        "id": "qW849L-NsFhU",
        "colab_type": "code",
        "outputId": "9ea9c251-e2f2-49be-98b5-52fa6335033a",
        "colab": {
          "base_uri": "https://localhost:8080/",
          "height": 50
        }
      },
      "source": [
        "ypred = model.predict(X)\n",
        "s=pd.DataFrame(ypred)\n",
        "s1=pd.DataFrame(y)\n",
        "s1.corrwith(s, axis = 0) "
      ],
      "execution_count": 238,
      "outputs": [
        {
          "output_type": "execute_result",
          "data": {
            "text/plain": [
              "0    0.413575\n",
              "dtype: float64"
            ]
          },
          "metadata": {
            "tags": []
          },
          "execution_count": 238
        }
      ]
    },
    {
      "cell_type": "code",
      "metadata": {
        "id": "noGIobrktgmd",
        "colab_type": "code",
        "outputId": "79aa5582-7b75-49fe-a5cb-0e5801e663f7",
        "colab": {
          "base_uri": "https://localhost:8080/",
          "height": 50
        }
      },
      "source": [
        "ypred1=model.predict(X_test)\n",
        "s=pd.DataFrame(ypred1)\n",
        "s1=pd.DataFrame(y_test)\n",
        "s1.corrwith(s,axis=0)"
      ],
      "execution_count": 239,
      "outputs": [
        {
          "output_type": "execute_result",
          "data": {
            "text/plain": [
              "0    0.39611\n",
              "dtype: float64"
            ]
          },
          "metadata": {
            "tags": []
          },
          "execution_count": 239
        }
      ]
    },
    {
      "cell_type": "code",
      "metadata": {
        "id": "2tRIWMvd8-ko",
        "colab_type": "code",
        "colab": {
          "base_uri": "https://localhost:8080/",
          "height": 34
        },
        "outputId": "a501af01-1187-4beb-e566-bf635cf9b1a9"
      },
      "source": [
        "type(ypred1)"
      ],
      "execution_count": 221,
      "outputs": [
        {
          "output_type": "execute_result",
          "data": {
            "text/plain": [
              "numpy.ndarray"
            ]
          },
          "metadata": {
            "tags": []
          },
          "execution_count": 221
        }
      ]
    },
    {
      "cell_type": "code",
      "metadata": {
        "id": "LVU0s0e68kwm",
        "colab_type": "code",
        "colab": {
          "base_uri": "https://localhost:8080/",
          "height": 668
        },
        "outputId": "8248e7de-9a98-4ed0-98ab-6313bdb3a390"
      },
      "source": [
        "plt.plot(y_test)\n",
        "plt.plot(ypred1)\n",
        "plt.legend(\"Actual\",\"predicted\")\n",
        "plt.show()"
      ],
      "execution_count": 242,
      "outputs": [
        {
          "output_type": "stream",
          "text": [
            "/usr/local/lib/python3.6/dist-packages/ipykernel_launcher.py:3: UserWarning: Legend does not support 'A' instances.\n",
            "A proxy artist may be used instead.\n",
            "See: http://matplotlib.org/users/legend_guide.html#creating-artists-specifically-for-adding-to-the-legend-aka-proxy-artists\n",
            "  This is separate from the ipykernel package so we can avoid doing imports until\n",
            "/usr/local/lib/python3.6/dist-packages/ipykernel_launcher.py:3: UserWarning: Legend does not support 'c' instances.\n",
            "A proxy artist may be used instead.\n",
            "See: http://matplotlib.org/users/legend_guide.html#creating-artists-specifically-for-adding-to-the-legend-aka-proxy-artists\n",
            "  This is separate from the ipykernel package so we can avoid doing imports until\n",
            "/usr/local/lib/python3.6/dist-packages/ipykernel_launcher.py:3: UserWarning: Legend does not support 't' instances.\n",
            "A proxy artist may be used instead.\n",
            "See: http://matplotlib.org/users/legend_guide.html#creating-artists-specifically-for-adding-to-the-legend-aka-proxy-artists\n",
            "  This is separate from the ipykernel package so we can avoid doing imports until\n",
            "/usr/local/lib/python3.6/dist-packages/ipykernel_launcher.py:3: UserWarning: Legend does not support 'u' instances.\n",
            "A proxy artist may be used instead.\n",
            "See: http://matplotlib.org/users/legend_guide.html#creating-artists-specifically-for-adding-to-the-legend-aka-proxy-artists\n",
            "  This is separate from the ipykernel package so we can avoid doing imports until\n",
            "/usr/local/lib/python3.6/dist-packages/ipykernel_launcher.py:3: UserWarning: Legend does not support 'a' instances.\n",
            "A proxy artist may be used instead.\n",
            "See: http://matplotlib.org/users/legend_guide.html#creating-artists-specifically-for-adding-to-the-legend-aka-proxy-artists\n",
            "  This is separate from the ipykernel package so we can avoid doing imports until\n",
            "/usr/local/lib/python3.6/dist-packages/ipykernel_launcher.py:3: UserWarning: Legend does not support 'l' instances.\n",
            "A proxy artist may be used instead.\n",
            "See: http://matplotlib.org/users/legend_guide.html#creating-artists-specifically-for-adding-to-the-legend-aka-proxy-artists\n",
            "  This is separate from the ipykernel package so we can avoid doing imports until\n"
          ],
          "name": "stderr"
        },
        {
          "output_type": "display_data",
          "data": {
            "image/png": "[encoded data removed]",
            "text/plain": [
              "<Figure size 432x288 with 1 Axes>"
            ]
          },
          "metadata": {
            "tags": []
          }
        }
      ]
    },
    {
      "cell_type": "code",
      "metadata": {
        "id": "_X9AxvZa6s4R",
        "colab_type": "code",
        "colab": {}
      },
      "source": [
        "ypred1[ypred1<0] = 0"
      ],
      "execution_count": 0,
      "outputs": []
    },
    {
      "cell_type": "code",
      "metadata": {
        "id": "KAqZPa33aTfo",
        "colab_type": "code",
        "colab": {}
      },
      "source": [
        "from sklearn.metrics import mean_absolute_error"
      ],
      "execution_count": 0,
      "outputs": []
    },
    {
      "cell_type": "code",
      "metadata": {
        "id": "GpEoHv92aYGB",
        "colab_type": "code",
        "outputId": "9e397956-a93b-4151-ca53-e6a95c35cb54",
        "colab": {
          "base_uri": "https://localhost:8080/",
          "height": 34
        }
      },
      "source": [
        "mean_absolute_error(y,ypred)"
      ],
      "execution_count": 55,
      "outputs": [
        {
          "output_type": "execute_result",
          "data": {
            "text/plain": [
              "0.010485030535203757"
            ]
          },
          "metadata": {
            "tags": []
          },
          "execution_count": 55
        }
      ]
    },
    {
      "cell_type": "code",
      "metadata": {
        "id": "UutDAI0Oaah6",
        "colab_type": "code",
        "outputId": "4595029a-d1df-4ab5-9bf8-5916435e681d",
        "colab": {
          "base_uri": "https://localhost:8080/",
          "height": 34
        }
      },
      "source": [
        "mean_absolute_error(y_test,ypred1)"
      ],
      "execution_count": 56,
      "outputs": [
        {
          "output_type": "execute_result",
          "data": {
            "text/plain": [
              "0.020547209870899894"
            ]
          },
          "metadata": {
            "tags": []
          },
          "execution_count": 56
        }
      ]
    },
    {
      "cell_type": "code",
      "metadata": {
        "id": "xg8kvCOYtkrq",
        "colab_type": "code",
        "outputId": "738fec72-45ff-44ea-9646-efa12712ec36",
        "colab": {
          "base_uri": "https://localhost:8080/",
          "height": 34
        }
      },
      "source": [
        " from sklearn.metrics import r2_score\n",
        " r2_score(y,ypred)"
      ],
      "execution_count": 244,
      "outputs": [
        {
          "output_type": "execute_result",
          "data": {
            "text/plain": [
              "0.16772388269776406"
            ]
          },
          "metadata": {
            "tags": []
          },
          "execution_count": 244
        }
      ]
    },
    {
      "cell_type": "code",
      "metadata": {
        "id": "j7rV7tCmtn70",
        "colab_type": "code",
        "outputId": "726bdb8d-6e8a-4470-bf4c-f7d1181c28cf",
        "colab": {
          "base_uri": "https://localhost:8080/",
          "height": 34
        }
      },
      "source": [
        "r2_score(y_test,ypred1)"
      ],
      "execution_count": 243,
      "outputs": [
        {
          "output_type": "execute_result",
          "data": {
            "text/plain": [
              "0.12094649865763718"
            ]
          },
          "metadata": {
            "tags": []
          },
          "execution_count": 243
        }
      ]
    },
    {
      "cell_type": "code",
      "metadata": {
        "id": "XzzkhWK5_pmA",
        "colab_type": "code",
        "colab": {}
      },
      "source": [
        "model = keras.Sequential()\n",
        "model.add(keras.layers.LSTM(100, activation='relu', input_shape=(n_steps, 1)))\n",
        "model.add(keras.layers.Dense(1))\n",
        "model.compile(optimizer='adam', loss='mse',metrics=['accuracy'])"
      ],
      "execution_count": 0,
      "outputs": []
    },
    {
      "cell_type": "code",
      "metadata": {
        "id": "RpGZF90Nw8oU",
        "colab_type": "code",
        "outputId": "58154130-8dda-4408-e73f-ead892346aaa",
        "colab": {
          "base_uri": "https://localhost:8080/",
          "height": 1000
        }
      },
      "source": [
        "model.fit(X1, y1, validation_data=(X_test1,y_test1),epochs=50)"
      ],
      "execution_count": 246,
      "outputs": [
        {
          "output_type": "stream",
          "text": [
            "Train on 11997 samples, validate on 3701 samples\n",
            "Epoch 1/50\n",
            "11997/11997 [==============================] - 5s 410us/sample - loss: 0.0015 - acc: 0.8519 - val_loss: 3.3888e-04 - val_acc: 0.8533\n",
            "Epoch 2/50\n",
            "11997/11997 [==============================] - 3s 238us/sample - loss: 0.0015 - acc: 0.8519 - val_loss: 2.8164e-04 - val_acc: 0.8533\n",
            "Epoch 3/50\n",
            "11997/11997 [==============================] - 3s 234us/sample - loss: 0.0015 - acc: 0.8519 - val_loss: 2.8359e-04 - val_acc: 0.8533\n",
            "Epoch 4/50\n",
            "11997/11997 [==============================] - 3s 239us/sample - loss: 0.0015 - acc: 0.8519 - val_loss: 3.5493e-04 - val_acc: 0.8533\n",
            "Epoch 5/50\n",
            "11997/11997 [==============================] - 3s 240us/sample - loss: 0.0015 - acc: 0.8519 - val_loss: 3.1169e-04 - val_acc: 0.8533\n",
            "Epoch 6/50\n",
            "11997/11997 [==============================] - 3s 240us/sample - loss: 0.0015 - acc: 0.8519 - val_loss: 3.3168e-04 - val_acc: 0.8533\n",
            "Epoch 7/50\n",
            "11997/11997 [==============================] - 3s 240us/sample - loss: 0.0015 - acc: 0.8519 - val_loss: 2.9116e-04 - val_acc: 0.8533\n",
            "Epoch 8/50\n",
            "11997/11997 [==============================] - 3s 240us/sample - loss: 0.0015 - acc: 0.8519 - val_loss: 2.8807e-04 - val_acc: 0.8533\n",
            "Epoch 9/50\n",
            "11997/11997 [==============================] - 3s 238us/sample - loss: 0.0015 - acc: 0.8519 - val_loss: 2.9003e-04 - val_acc: 0.8533\n",
            "Epoch 10/50\n",
            "11997/11997 [==============================] - 3s 242us/sample - loss: 0.0015 - acc: 0.8519 - val_loss: 3.0335e-04 - val_acc: 0.8533\n",
            "Epoch 11/50\n",
            "11997/11997 [==============================] - 3s 241us/sample - loss: 0.0015 - acc: 0.8519 - val_loss: 3.0946e-04 - val_acc: 0.8533\n",
            "Epoch 12/50\n",
            "11997/11997 [==============================] - 3s 236us/sample - loss: 0.0015 - acc: 0.8519 - val_loss: 2.8113e-04 - val_acc: 0.8533\n",
            "Epoch 13/50\n",
            "11997/11997 [==============================] - 3s 242us/sample - loss: 0.0015 - acc: 0.8519 - val_loss: 2.7812e-04 - val_acc: 0.8533\n",
            "Epoch 14/50\n",
            "11997/11997 [==============================] - 3s 245us/sample - loss: 0.0015 - acc: 0.8519 - val_loss: 3.3460e-04 - val_acc: 0.8533\n",
            "Epoch 15/50\n",
            "11997/11997 [==============================] - 3s 246us/sample - loss: 0.0014 - acc: 0.8519 - val_loss: 2.9972e-04 - val_acc: 0.8533\n",
            "Epoch 16/50\n",
            "11997/11997 [==============================] - 3s 249us/sample - loss: 0.0015 - acc: 0.8519 - val_loss: 3.1941e-04 - val_acc: 0.8533\n",
            "Epoch 17/50\n",
            "11997/11997 [==============================] - 3s 244us/sample - loss: 0.0014 - acc: 0.8519 - val_loss: 3.4461e-04 - val_acc: 0.8533\n",
            "Epoch 18/50\n",
            "11997/11997 [==============================] - 3s 241us/sample - loss: 0.0014 - acc: 0.8519 - val_loss: 2.7639e-04 - val_acc: 0.8533\n",
            "Epoch 19/50\n",
            "11997/11997 [==============================] - 3s 242us/sample - loss: 0.0014 - acc: 0.8519 - val_loss: 2.7636e-04 - val_acc: 0.8533\n",
            "Epoch 20/50\n",
            "11997/11997 [==============================] - 3s 247us/sample - loss: 0.0014 - acc: 0.8519 - val_loss: 2.7481e-04 - val_acc: 0.8533\n",
            "Epoch 21/50\n",
            "11997/11997 [==============================] - 3s 236us/sample - loss: 0.0014 - acc: 0.8519 - val_loss: 2.7754e-04 - val_acc: 0.8533\n",
            "Epoch 22/50\n",
            "11997/11997 [==============================] - 3s 239us/sample - loss: 0.0014 - acc: 0.8519 - val_loss: 2.7419e-04 - val_acc: 0.8533\n",
            "Epoch 23/50\n",
            "11997/11997 [==============================] - 3s 241us/sample - loss: 0.0014 - acc: 0.8519 - val_loss: 2.7132e-04 - val_acc: 0.8533\n",
            "Epoch 24/50\n",
            "11997/11997 [==============================] - 3s 238us/sample - loss: 0.0014 - acc: 0.8519 - val_loss: 2.8958e-04 - val_acc: 0.8533\n",
            "Epoch 25/50\n",
            "11997/11997 [==============================] - 3s 247us/sample - loss: 0.0014 - acc: 0.8519 - val_loss: 2.7095e-04 - val_acc: 0.8533\n",
            "Epoch 26/50\n",
            "11997/11997 [==============================] - 3s 235us/sample - loss: 0.0014 - acc: 0.8519 - val_loss: 2.7897e-04 - val_acc: 0.8533\n",
            "Epoch 27/50\n",
            "11997/11997 [==============================] - 3s 236us/sample - loss: 0.0014 - acc: 0.8519 - val_loss: 3.1916e-04 - val_acc: 0.8533\n",
            "Epoch 28/50\n",
            "11997/11997 [==============================] - 3s 237us/sample - loss: 0.0014 - acc: 0.8519 - val_loss: 3.2844e-04 - val_acc: 0.8533\n",
            "Epoch 29/50\n",
            "11997/11997 [==============================] - 3s 239us/sample - loss: 0.0014 - acc: 0.8519 - val_loss: 2.7913e-04 - val_acc: 0.8533\n",
            "Epoch 30/50\n",
            "11997/11997 [==============================] - 3s 239us/sample - loss: 0.0014 - acc: 0.8519 - val_loss: 2.8898e-04 - val_acc: 0.8533\n",
            "Epoch 31/50\n",
            "11997/11997 [==============================] - 3s 246us/sample - loss: 0.0014 - acc: 0.8519 - val_loss: 2.9856e-04 - val_acc: 0.8533\n",
            "Epoch 32/50\n",
            "11997/11997 [==============================] - 3s 244us/sample - loss: 0.0014 - acc: 0.8519 - val_loss: 3.0480e-04 - val_acc: 0.8533\n",
            "Epoch 33/50\n",
            "11997/11997 [==============================] - 3s 241us/sample - loss: 0.0014 - acc: 0.8519 - val_loss: 2.8046e-04 - val_acc: 0.8533\n",
            "Epoch 34/50\n",
            "11997/11997 [==============================] - 3s 234us/sample - loss: 0.0014 - acc: 0.8519 - val_loss: 2.9725e-04 - val_acc: 0.8533\n",
            "Epoch 35/50\n",
            "11997/11997 [==============================] - 3s 237us/sample - loss: 0.0014 - acc: 0.8519 - val_loss: 2.8068e-04 - val_acc: 0.8533\n",
            "Epoch 36/50\n",
            "11997/11997 [==============================] - 3s 224us/sample - loss: 0.0014 - acc: 0.8519 - val_loss: 2.7889e-04 - val_acc: 0.8533\n",
            "Epoch 37/50\n",
            "11997/11997 [==============================] - 3s 236us/sample - loss: 0.0014 - acc: 0.8519 - val_loss: 4.3101e-04 - val_acc: 0.8533\n",
            "Epoch 38/50\n",
            "11997/11997 [==============================] - 3s 235us/sample - loss: 0.0014 - acc: 0.8519 - val_loss: 3.1064e-04 - val_acc: 0.8533\n",
            "Epoch 39/50\n",
            "11997/11997 [==============================] - 3s 242us/sample - loss: 0.0014 - acc: 0.8519 - val_loss: 2.7838e-04 - val_acc: 0.8533\n",
            "Epoch 40/50\n",
            "11997/11997 [==============================] - 3s 234us/sample - loss: 0.0014 - acc: 0.8519 - val_loss: 2.7900e-04 - val_acc: 0.8533\n",
            "Epoch 41/50\n",
            "11997/11997 [==============================] - 3s 231us/sample - loss: 0.0014 - acc: 0.8519 - val_loss: 3.2371e-04 - val_acc: 0.8533\n",
            "Epoch 42/50\n",
            "11997/11997 [==============================] - 3s 237us/sample - loss: 0.0014 - acc: 0.8519 - val_loss: 2.7659e-04 - val_acc: 0.8533\n",
            "Epoch 43/50\n",
            "11997/11997 [==============================] - 3s 234us/sample - loss: 0.0014 - acc: 0.8519 - val_loss: 2.8405e-04 - val_acc: 0.8533\n",
            "Epoch 44/50\n",
            "11997/11997 [==============================] - 3s 242us/sample - loss: 0.0014 - acc: 0.8519 - val_loss: 2.9830e-04 - val_acc: 0.8533\n",
            "Epoch 45/50\n",
            "11997/11997 [==============================] - 3s 230us/sample - loss: 0.0014 - acc: 0.8519 - val_loss: 2.9859e-04 - val_acc: 0.8533\n",
            "Epoch 46/50\n",
            "11997/11997 [==============================] - 3s 234us/sample - loss: 0.0014 - acc: 0.8519 - val_loss: 3.4151e-04 - val_acc: 0.8533\n",
            "Epoch 47/50\n",
            "11997/11997 [==============================] - 3s 233us/sample - loss: 0.0014 - acc: 0.8519 - val_loss: 3.4418e-04 - val_acc: 0.8533\n",
            "Epoch 48/50\n",
            "11997/11997 [==============================] - 3s 237us/sample - loss: 0.0014 - acc: 0.8519 - val_loss: 3.2307e-04 - val_acc: 0.8533\n",
            "Epoch 49/50\n",
            "11997/11997 [==============================] - 3s 236us/sample - loss: 0.0014 - acc: 0.8519 - val_loss: 2.7824e-04 - val_acc: 0.8533\n",
            "Epoch 50/50\n",
            "11997/11997 [==============================] - 3s 233us/sample - loss: 0.0014 - acc: 0.8519 - val_loss: 2.7755e-04 - val_acc: 0.8533\n"
          ],
          "name": "stdout"
        },
        {
          "output_type": "execute_result",
          "data": {
            "text/plain": [
              "<tensorflow.python.keras.callbacks.History at 0x7fbe8a39a2b0>"
            ]
          },
          "metadata": {
            "tags": []
          },
          "execution_count": 246
        }
      ]
    },
    {
      "cell_type": "code",
      "metadata": {
        "id": "wbC1-ArQHzOa",
        "colab_type": "code",
        "outputId": "0bd23b28-7097-4b84-e9e6-0c04ea09afde",
        "colab": {
          "base_uri": "https://localhost:8080/",
          "height": 50
        }
      },
      "source": [
        "ypred = model.predict(X1)\n",
        "s=pd.DataFrame(ypred)\n",
        "s1=pd.DataFrame(y1)\n",
        "s1.corrwith(s, axis = 0) "
      ],
      "execution_count": 247,
      "outputs": [
        {
          "output_type": "execute_result",
          "data": {
            "text/plain": [
              "0    0.380658\n",
              "dtype: float64"
            ]
          },
          "metadata": {
            "tags": []
          },
          "execution_count": 247
        }
      ]
    },
    {
      "cell_type": "code",
      "metadata": {
        "id": "RjJslfLMJEbs",
        "colab_type": "code",
        "outputId": "50ab2917-c644-4671-d557-d642da4fa522",
        "colab": {
          "base_uri": "https://localhost:8080/",
          "height": 50
        }
      },
      "source": [
        "ypred1=model.predict(X_test1)\n",
        "s=pd.DataFrame(ypred1)\n",
        "s1=pd.DataFrame(y_test1)\n",
        "s1.corrwith(s,axis=0)"
      ],
      "execution_count": 248,
      "outputs": [
        {
          "output_type": "execute_result",
          "data": {
            "text/plain": [
              "0    0.00005\n",
              "dtype: float64"
            ]
          },
          "metadata": {
            "tags": []
          },
          "execution_count": 248
        }
      ]
    },
    {
      "cell_type": "code",
      "metadata": {
        "id": "iot6np04aiT_",
        "colab_type": "code",
        "outputId": "5f866f9a-d2c4-426a-c5be-8be5597ebb9a",
        "colab": {
          "base_uri": "https://localhost:8080/",
          "height": 34
        }
      },
      "source": [
        "mean_absolute_error(y1,ypred)"
      ],
      "execution_count": 207,
      "outputs": [
        {
          "output_type": "execute_result",
          "data": {
            "text/plain": [
              "0.01808453178719442"
            ]
          },
          "metadata": {
            "tags": []
          },
          "execution_count": 207
        }
      ]
    },
    {
      "cell_type": "code",
      "metadata": {
        "id": "a8iPWieZam7l",
        "colab_type": "code",
        "outputId": "c535d3d3-bfa5-4e29-89f8-47d858caf40d",
        "colab": {
          "base_uri": "https://localhost:8080/",
          "height": 34
        }
      },
      "source": [
        "mean_absolute_error(y_test1,ypred1)"
      ],
      "execution_count": 249,
      "outputs": [
        {
          "output_type": "execute_result",
          "data": {
            "text/plain": [
              "0.0024921779056665118"
            ]
          },
          "metadata": {
            "tags": []
          },
          "execution_count": 249
        }
      ]
    },
    {
      "cell_type": "code",
      "metadata": {
        "id": "IbLt0Hz1Mop2",
        "colab_type": "code",
        "outputId": "7cd3ac43-896e-425a-c978-6adcfd546b8f",
        "colab": {
          "base_uri": "https://localhost:8080/",
          "height": 34
        }
      },
      "source": [
        "r2_score(y1,ypred)"
      ],
      "execution_count": 250,
      "outputs": [
        {
          "output_type": "execute_result",
          "data": {
            "text/plain": [
              "0.14183768399091345"
            ]
          },
          "metadata": {
            "tags": []
          },
          "execution_count": 250
        }
      ]
    },
    {
      "cell_type": "code",
      "metadata": {
        "id": "X7U_mkgGMrxT",
        "colab_type": "code",
        "outputId": "19546477-d15f-4461-f92e-09cf8b2884c0",
        "colab": {
          "base_uri": "https://localhost:8080/",
          "height": 34
        }
      },
      "source": [
        "r2_score(y_test1,ypred1)"
      ],
      "execution_count": 251,
      "outputs": [
        {
          "output_type": "execute_result",
          "data": {
            "text/plain": [
              "-0.027502850308888105"
            ]
          },
          "metadata": {
            "tags": []
          },
          "execution_count": 251
        }
      ]
    },
    {
      "cell_type": "code",
      "metadata": {
        "id": "Kkan6_x79Z_Q",
        "colab_type": "code",
        "colab": {}
      },
      "source": [
        "ypred1[ypred1<0] = 0"
      ],
      "execution_count": 0,
      "outputs": []
    },
    {
      "cell_type": "code",
      "metadata": {
        "id": "mErys37k9lLz",
        "colab_type": "code",
        "colab": {
          "base_uri": "https://localhost:8080/",
          "height": 668
        },
        "outputId": "f9cd1403-0dcf-4545-9885-3157117e6c55"
      },
      "source": [
        "plt.plot(y_test1)\n",
        "plt.plot(ypred1)\n",
        "plt.legend(\"Actual\",\"predicted\")\n",
        "plt.show()"
      ],
      "execution_count": 253,
      "outputs": [
        {
          "output_type": "stream",
          "text": [
            "/usr/local/lib/python3.6/dist-packages/ipykernel_launcher.py:3: UserWarning: Legend does not support 'A' instances.\n",
            "A proxy artist may be used instead.\n",
            "See: http://matplotlib.org/users/legend_guide.html#creating-artists-specifically-for-adding-to-the-legend-aka-proxy-artists\n",
            "  This is separate from the ipykernel package so we can avoid doing imports until\n",
            "/usr/local/lib/python3.6/dist-packages/ipykernel_launcher.py:3: UserWarning: Legend does not support 'c' instances.\n",
            "A proxy artist may be used instead.\n",
            "See: http://matplotlib.org/users/legend_guide.html#creating-artists-specifically-for-adding-to-the-legend-aka-proxy-artists\n",
            "  This is separate from the ipykernel package so we can avoid doing imports until\n",
            "/usr/local/lib/python3.6/dist-packages/ipykernel_launcher.py:3: UserWarning: Legend does not support 't' instances.\n",
            "A proxy artist may be used instead.\n",
            "See: http://matplotlib.org/users/legend_guide.html#creating-artists-specifically-for-adding-to-the-legend-aka-proxy-artists\n",
            "  This is separate from the ipykernel package so we can avoid doing imports until\n",
            "/usr/local/lib/python3.6/dist-packages/ipykernel_launcher.py:3: UserWarning: Legend does not support 'u' instances.\n",
            "A proxy artist may be used instead.\n",
            "See: http://matplotlib.org/users/legend_guide.html#creating-artists-specifically-for-adding-to-the-legend-aka-proxy-artists\n",
            "  This is separate from the ipykernel package so we can avoid doing imports until\n",
            "/usr/local/lib/python3.6/dist-packages/ipykernel_launcher.py:3: UserWarning: Legend does not support 'a' instances.\n",
            "A proxy artist may be used instead.\n",
            "See: http://matplotlib.org/users/legend_guide.html#creating-artists-specifically-for-adding-to-the-legend-aka-proxy-artists\n",
            "  This is separate from the ipykernel package so we can avoid doing imports until\n",
            "/usr/local/lib/python3.6/dist-packages/ipykernel_launcher.py:3: UserWarning: Legend does not support 'l' instances.\n",
            "A proxy artist may be used instead.\n",
            "See: http://matplotlib.org/users/legend_guide.html#creating-artists-specifically-for-adding-to-the-legend-aka-proxy-artists\n",
            "  This is separate from the ipykernel package so we can avoid doing imports until\n"
          ],
          "name": "stderr"
        },
        {
          "output_type": "display_data",
          "data": {
            "image/png": "[encoded data removed]",
            "text/plain": [
              "<Figure size 432x288 with 1 Axes>"
            ]
          },
          "metadata": {
            "tags": []
          }
        }
      ]
    },
    {
      "cell_type": "code",
      "metadata": {
        "id": "N5tR-EOIB5Vp",
        "colab_type": "code",
        "colab": {
          "base_uri": "https://localhost:8080/",
          "height": 265
        },
        "outputId": "20b964b1-9404-4af1-882f-076cb33a602d"
      },
      "source": [
        "plt.plot(y_test1)\n",
        "plt.show()"
      ],
      "execution_count": 254,
      "outputs": [
        {
          "output_type": "display_data",
          "data": {
            "image/png": "[encoded data removed]",
            "text/plain": [
              "<Figure size 432x288 with 1 Axes>"
            ]
          },
          "metadata": {
            "tags": []
          }
        }
      ]
    },
    {
      "cell_type": "code",
      "metadata": {
        "id": "fzzy8_zt_9n-",
        "colab_type": "code",
        "colab": {}
      },
      "source": [
        "model = keras.Sequential()\n",
        "model.add(keras.layers.LSTM(100, activation='relu', input_shape=(n_steps, 1)))\n",
        "model.add(keras.layers.Dense(1))\n",
        "model.compile(optimizer='adam', loss='mse',metrics=['accuracy'])"
      ],
      "execution_count": 0,
      "outputs": []
    },
    {
      "cell_type": "code",
      "metadata": {
        "id": "dyKBYmkUtKUU",
        "colab_type": "code",
        "outputId": "19de9df3-a0f6-4a8a-ee3c-db6859dca42a",
        "colab": {
          "base_uri": "https://localhost:8080/",
          "height": 1000
        }
      },
      "source": [
        "model.fit(X2, y2, validation_data=(X_test2,y_test2),epochs=50)"
      ],
      "execution_count": 256,
      "outputs": [
        {
          "output_type": "stream",
          "text": [
            "Train on 11997 samples, validate on 3671 samples\n",
            "Epoch 1/50\n",
            "11997/11997 [==============================] - 5s 397us/sample - loss: 0.0049 - acc: 0.8414 - val_loss: 0.0023 - val_acc: 0.8635\n",
            "Epoch 2/50\n",
            "11997/11997 [==============================] - 3s 224us/sample - loss: 0.0048 - acc: 0.8414 - val_loss: 0.0023 - val_acc: 0.8635\n",
            "Epoch 3/50\n",
            "11997/11997 [==============================] - 3s 230us/sample - loss: 0.0048 - acc: 0.8414 - val_loss: 0.0024 - val_acc: 0.8635\n",
            "Epoch 4/50\n",
            "11997/11997 [==============================] - 3s 238us/sample - loss: 0.0048 - acc: 0.8414 - val_loss: 0.0023 - val_acc: 0.8635\n",
            "Epoch 5/50\n",
            "11997/11997 [==============================] - 3s 230us/sample - loss: 0.0048 - acc: 0.8414 - val_loss: 0.0023 - val_acc: 0.8635\n",
            "Epoch 6/50\n",
            "11997/11997 [==============================] - 3s 239us/sample - loss: 0.0047 - acc: 0.8414 - val_loss: 0.0023 - val_acc: 0.8635\n",
            "Epoch 7/50\n",
            "11997/11997 [==============================] - 3s 245us/sample - loss: 0.0047 - acc: 0.8414 - val_loss: 0.0023 - val_acc: 0.8635\n",
            "Epoch 8/50\n",
            "11997/11997 [==============================] - 3s 240us/sample - loss: 0.0047 - acc: 0.8414 - val_loss: 0.0023 - val_acc: 0.8635\n",
            "Epoch 9/50\n",
            "11997/11997 [==============================] - 3s 232us/sample - loss: 0.0047 - acc: 0.8414 - val_loss: 0.0023 - val_acc: 0.8635\n",
            "Epoch 10/50\n",
            "11997/11997 [==============================] - 3s 217us/sample - loss: 0.0047 - acc: 0.8414 - val_loss: 0.0023 - val_acc: 0.8635\n",
            "Epoch 11/50\n",
            "11997/11997 [==============================] - 3s 225us/sample - loss: 0.0047 - acc: 0.8414 - val_loss: 0.0023 - val_acc: 0.8635\n",
            "Epoch 12/50\n",
            "11997/11997 [==============================] - 3s 216us/sample - loss: 0.0047 - acc: 0.8414 - val_loss: 0.0024 - val_acc: 0.8635\n",
            "Epoch 13/50\n",
            "11997/11997 [==============================] - 3s 219us/sample - loss: 0.0047 - acc: 0.8414 - val_loss: 0.0023 - val_acc: 0.8635\n",
            "Epoch 14/50\n",
            "11997/11997 [==============================] - 3s 220us/sample - loss: 0.0047 - acc: 0.8414 - val_loss: 0.0024 - val_acc: 0.8635\n",
            "Epoch 15/50\n",
            "11997/11997 [==============================] - 3s 223us/sample - loss: 0.0047 - acc: 0.8414 - val_loss: 0.0023 - val_acc: 0.8635\n",
            "Epoch 16/50\n",
            "11997/11997 [==============================] - 3s 217us/sample - loss: 0.0047 - acc: 0.8414 - val_loss: 0.0023 - val_acc: 0.8635\n",
            "Epoch 17/50\n",
            "11997/11997 [==============================] - 3s 220us/sample - loss: 0.0047 - acc: 0.8414 - val_loss: 0.0023 - val_acc: 0.8635\n",
            "Epoch 18/50\n",
            "11997/11997 [==============================] - 3s 215us/sample - loss: 0.0047 - acc: 0.8414 - val_loss: 0.0023 - val_acc: 0.8635\n",
            "Epoch 19/50\n",
            "11997/11997 [==============================] - 3s 223us/sample - loss: 0.0047 - acc: 0.8414 - val_loss: 0.0023 - val_acc: 0.8635\n",
            "Epoch 20/50\n",
            "11997/11997 [==============================] - 3s 222us/sample - loss: 0.0047 - acc: 0.8414 - val_loss: 0.0024 - val_acc: 0.8635\n",
            "Epoch 21/50\n",
            "11997/11997 [==============================] - 3s 217us/sample - loss: 0.0047 - acc: 0.8414 - val_loss: 0.0023 - val_acc: 0.8635\n",
            "Epoch 22/50\n",
            "11997/11997 [==============================] - 3s 224us/sample - loss: 0.0047 - acc: 0.8414 - val_loss: 0.0023 - val_acc: 0.8635\n",
            "Epoch 23/50\n",
            "11997/11997 [==============================] - 2s 207us/sample - loss: 0.0047 - acc: 0.8414 - val_loss: 0.0024 - val_acc: 0.8635\n",
            "Epoch 24/50\n",
            "11997/11997 [==============================] - 3s 218us/sample - loss: 0.0047 - acc: 0.8414 - val_loss: 0.0023 - val_acc: 0.8635\n",
            "Epoch 25/50\n",
            "11997/11997 [==============================] - 3s 214us/sample - loss: 0.0047 - acc: 0.8414 - val_loss: 0.0023 - val_acc: 0.8635\n",
            "Epoch 26/50\n",
            "11997/11997 [==============================] - 3s 222us/sample - loss: 0.0047 - acc: 0.8414 - val_loss: 0.0023 - val_acc: 0.8635\n",
            "Epoch 27/50\n",
            "11997/11997 [==============================] - 3s 217us/sample - loss: 0.0047 - acc: 0.8414 - val_loss: 0.0023 - val_acc: 0.8635\n",
            "Epoch 28/50\n",
            "11997/11997 [==============================] - 3s 219us/sample - loss: 0.0047 - acc: 0.8414 - val_loss: 0.0023 - val_acc: 0.8635\n",
            "Epoch 29/50\n",
            "11997/11997 [==============================] - 3s 210us/sample - loss: 0.0047 - acc: 0.8414 - val_loss: 0.0023 - val_acc: 0.8635\n",
            "Epoch 30/50\n",
            "11997/11997 [==============================] - 3s 213us/sample - loss: 0.0047 - acc: 0.8414 - val_loss: 0.0023 - val_acc: 0.8635\n",
            "Epoch 31/50\n",
            "11997/11997 [==============================] - 3s 218us/sample - loss: 0.0047 - acc: 0.8414 - val_loss: 0.0023 - val_acc: 0.8635\n",
            "Epoch 32/50\n",
            "11997/11997 [==============================] - 3s 217us/sample - loss: 0.0047 - acc: 0.8414 - val_loss: 0.0023 - val_acc: 0.8635\n",
            "Epoch 33/50\n",
            "11997/11997 [==============================] - 3s 217us/sample - loss: 0.0047 - acc: 0.8414 - val_loss: 0.0023 - val_acc: 0.8635\n",
            "Epoch 34/50\n",
            "11997/11997 [==============================] - 3s 219us/sample - loss: 0.0047 - acc: 0.8414 - val_loss: 0.0023 - val_acc: 0.8635\n",
            "Epoch 35/50\n",
            "11997/11997 [==============================] - 3s 221us/sample - loss: 0.0047 - acc: 0.8414 - val_loss: 0.0023 - val_acc: 0.8635\n",
            "Epoch 36/50\n",
            "11997/11997 [==============================] - 3s 218us/sample - loss: 0.0047 - acc: 0.8414 - val_loss: 0.0023 - val_acc: 0.8635\n",
            "Epoch 37/50\n",
            "11997/11997 [==============================] - 3s 216us/sample - loss: 0.0047 - acc: 0.8414 - val_loss: 0.0023 - val_acc: 0.8635\n",
            "Epoch 38/50\n",
            "11997/11997 [==============================] - 3s 216us/sample - loss: 0.0047 - acc: 0.8414 - val_loss: 0.0025 - val_acc: 0.8635\n",
            "Epoch 39/50\n",
            "11997/11997 [==============================] - 3s 214us/sample - loss: 0.0047 - acc: 0.8414 - val_loss: 0.0023 - val_acc: 0.8635\n",
            "Epoch 40/50\n",
            "11997/11997 [==============================] - 3s 215us/sample - loss: 0.0047 - acc: 0.8414 - val_loss: 0.0023 - val_acc: 0.8635\n",
            "Epoch 41/50\n",
            "11997/11997 [==============================] - 3s 215us/sample - loss: 0.0047 - acc: 0.8414 - val_loss: 0.0023 - val_acc: 0.8635\n",
            "Epoch 42/50\n",
            "11997/11997 [==============================] - 3s 210us/sample - loss: 0.0047 - acc: 0.8414 - val_loss: 0.0023 - val_acc: 0.8635\n",
            "Epoch 43/50\n",
            "11997/11997 [==============================] - 3s 210us/sample - loss: 0.0047 - acc: 0.8414 - val_loss: 0.0023 - val_acc: 0.8635\n",
            "Epoch 44/50\n",
            "11997/11997 [==============================] - 3s 213us/sample - loss: 0.0047 - acc: 0.8414 - val_loss: 0.0024 - val_acc: 0.8635\n",
            "Epoch 45/50\n",
            "11997/11997 [==============================] - 3s 213us/sample - loss: 0.0047 - acc: 0.8414 - val_loss: 0.0023 - val_acc: 0.8635\n",
            "Epoch 46/50\n",
            "11997/11997 [==============================] - 3s 213us/sample - loss: 0.0047 - acc: 0.8414 - val_loss: 0.0023 - val_acc: 0.8635\n",
            "Epoch 47/50\n",
            "11997/11997 [==============================] - 3s 213us/sample - loss: 0.0047 - acc: 0.8414 - val_loss: 0.0023 - val_acc: 0.8635\n",
            "Epoch 48/50\n",
            "11997/11997 [==============================] - 3s 210us/sample - loss: 0.0047 - acc: 0.8414 - val_loss: 0.0023 - val_acc: 0.8635\n",
            "Epoch 49/50\n",
            "11997/11997 [==============================] - 3s 214us/sample - loss: 0.0047 - acc: 0.8414 - val_loss: 0.0023 - val_acc: 0.8635\n",
            "Epoch 50/50\n",
            "11997/11997 [==============================] - 3s 214us/sample - loss: 0.0047 - acc: 0.8414 - val_loss: 0.0023 - val_acc: 0.8635\n"
          ],
          "name": "stdout"
        },
        {
          "output_type": "execute_result",
          "data": {
            "text/plain": [
              "<tensorflow.python.keras.callbacks.History at 0x7fbe8a8856a0>"
            ]
          },
          "metadata": {
            "tags": []
          },
          "execution_count": 256
        }
      ]
    },
    {
      "cell_type": "code",
      "metadata": {
        "id": "JEu6KMnhH0z8",
        "colab_type": "code",
        "outputId": "ec9c7561-f05e-42e0-f965-26b5a71cd496",
        "colab": {
          "base_uri": "https://localhost:8080/",
          "height": 50
        }
      },
      "source": [
        "ypred = model.predict(X2)\n",
        "s=pd.DataFrame(ypred)\n",
        "s1=pd.DataFrame(y2)\n",
        "s1.corrwith(s, axis = 0) "
      ],
      "execution_count": 257,
      "outputs": [
        {
          "output_type": "execute_result",
          "data": {
            "text/plain": [
              "0    0.2595\n",
              "dtype: float64"
            ]
          },
          "metadata": {
            "tags": []
          },
          "execution_count": 257
        }
      ]
    },
    {
      "cell_type": "code",
      "metadata": {
        "id": "zh49J42kJF0i",
        "colab_type": "code",
        "outputId": "1ebcee8d-1a58-4a0d-aa0e-28ea350b4641",
        "colab": {
          "base_uri": "https://localhost:8080/",
          "height": 50
        }
      },
      "source": [
        "ypred1=model.predict(X_test2)\n",
        "s=pd.DataFrame(ypred1)\n",
        "s1=pd.DataFrame(y_test2)\n",
        "s1.corrwith(s,axis=0)"
      ],
      "execution_count": 258,
      "outputs": [
        {
          "output_type": "execute_result",
          "data": {
            "text/plain": [
              "0    0.199158\n",
              "dtype: float64"
            ]
          },
          "metadata": {
            "tags": []
          },
          "execution_count": 258
        }
      ]
    },
    {
      "cell_type": "code",
      "metadata": {
        "id": "Xwk6R9otatSo",
        "colab_type": "code",
        "outputId": "a2a99ed2-d4e5-4049-da00-0b4240f207bd",
        "colab": {
          "base_uri": "https://localhost:8080/",
          "height": 34
        }
      },
      "source": [
        "mean_absolute_error(y2,ypred)"
      ],
      "execution_count": 259,
      "outputs": [
        {
          "output_type": "execute_result",
          "data": {
            "text/plain": [
              "0.02685382220982146"
            ]
          },
          "metadata": {
            "tags": []
          },
          "execution_count": 259
        }
      ]
    },
    {
      "cell_type": "code",
      "metadata": {
        "id": "DqGICblJaxX-",
        "colab_type": "code",
        "outputId": "842d8d47-3563-4af2-f152-566cee0ebc5c",
        "colab": {
          "base_uri": "https://localhost:8080/",
          "height": 34
        }
      },
      "source": [
        "mean_absolute_error(y_test2,ypred1)"
      ],
      "execution_count": 260,
      "outputs": [
        {
          "output_type": "execute_result",
          "data": {
            "text/plain": [
              "0.02040870132802727"
            ]
          },
          "metadata": {
            "tags": []
          },
          "execution_count": 260
        }
      ]
    },
    {
      "cell_type": "code",
      "metadata": {
        "id": "kl2yflzLCtbp",
        "colab_type": "code",
        "colab": {
          "base_uri": "https://localhost:8080/",
          "height": 282
        },
        "outputId": "2d607333-a8c1-4d7c-a2f2-86b88751b437"
      },
      "source": [
        "plt.plot(y_test2)"
      ],
      "execution_count": 261,
      "outputs": [
        {
          "output_type": "execute_result",
          "data": {
            "text/plain": [
              "[<matplotlib.lines.Line2D at 0x7fbe89fc8d30>]"
            ]
          },
          "metadata": {
            "tags": []
          },
          "execution_count": 261
        },
        {
          "output_type": "display_data",
          "data": {
            "image/png": "[encoded data removed]",
            "text/plain": [
              "<Figure size 432x288 with 1 Axes>"
            ]
          },
          "metadata": {
            "tags": []
          }
        }
      ]
    },
    {
      "cell_type": "code",
      "metadata": {
        "id": "jFG77mOGMjRL",
        "colab_type": "code",
        "outputId": "fcf03768-aedd-4732-a5e5-c9489924ed8a",
        "colab": {
          "base_uri": "https://localhost:8080/",
          "height": 34
        }
      },
      "source": [
        "r2_score(y2,ypred)"
      ],
      "execution_count": 262,
      "outputs": [
        {
          "output_type": "execute_result",
          "data": {
            "text/plain": [
              "0.06653181067519831"
            ]
          },
          "metadata": {
            "tags": []
          },
          "execution_count": 262
        }
      ]
    },
    {
      "cell_type": "code",
      "metadata": {
        "id": "mOkYZ-wjMj_C",
        "colab_type": "code",
        "outputId": "b93830d9-43a0-4a8c-80be-00a0accb3a8c",
        "colab": {
          "base_uri": "https://localhost:8080/",
          "height": 34
        }
      },
      "source": [
        "r2_score(y_test2,ypred1)"
      ],
      "execution_count": 263,
      "outputs": [
        {
          "output_type": "execute_result",
          "data": {
            "text/plain": [
              "0.027986317045928688"
            ]
          },
          "metadata": {
            "tags": []
          },
          "execution_count": 263
        }
      ]
    },
    {
      "cell_type": "code",
      "metadata": {
        "id": "YWIsi4Xg9taO",
        "colab_type": "code",
        "colab": {}
      },
      "source": [
        "ypred1[ypred1<0]=0"
      ],
      "execution_count": 0,
      "outputs": []
    },
    {
      "cell_type": "code",
      "metadata": {
        "id": "rBN9ROyM9wSg",
        "colab_type": "code",
        "colab": {
          "base_uri": "https://localhost:8080/",
          "height": 668
        },
        "outputId": "58f41d6e-8b23-4ea6-99a0-9dd9f68158e0"
      },
      "source": [
        "plt.plot(y_test2)\n",
        "plt.plot(ypred1)\n",
        "plt.legend(\"Actual\",\"predicted\")\n",
        "plt.show()"
      ],
      "execution_count": 265,
      "outputs": [
        {
          "output_type": "stream",
          "text": [
            "/usr/local/lib/python3.6/dist-packages/ipykernel_launcher.py:3: UserWarning: Legend does not support 'A' instances.\n",
            "A proxy artist may be used instead.\n",
            "See: http://matplotlib.org/users/legend_guide.html#creating-artists-specifically-for-adding-to-the-legend-aka-proxy-artists\n",
            "  This is separate from the ipykernel package so we can avoid doing imports until\n",
            "/usr/local/lib/python3.6/dist-packages/ipykernel_launcher.py:3: UserWarning: Legend does not support 'c' instances.\n",
            "A proxy artist may be used instead.\n",
            "See: http://matplotlib.org/users/legend_guide.html#creating-artists-specifically-for-adding-to-the-legend-aka-proxy-artists\n",
            "  This is separate from the ipykernel package so we can avoid doing imports until\n",
            "/usr/local/lib/python3.6/dist-packages/ipykernel_launcher.py:3: UserWarning: Legend does not support 't' instances.\n",
            "A proxy artist may be used instead.\n",
            "See: http://matplotlib.org/users/legend_guide.html#creating-artists-specifically-for-adding-to-the-legend-aka-proxy-artists\n",
            "  This is separate from the ipykernel package so we can avoid doing imports until\n",
            "/usr/local/lib/python3.6/dist-packages/ipykernel_launcher.py:3: UserWarning: Legend does not support 'u' instances.\n",
            "A proxy artist may be used instead.\n",
            "See: http://matplotlib.org/users/legend_guide.html#creating-artists-specifically-for-adding-to-the-legend-aka-proxy-artists\n",
            "  This is separate from the ipykernel package so we can avoid doing imports until\n",
            "/usr/local/lib/python3.6/dist-packages/ipykernel_launcher.py:3: UserWarning: Legend does not support 'a' instances.\n",
            "A proxy artist may be used instead.\n",
            "See: http://matplotlib.org/users/legend_guide.html#creating-artists-specifically-for-adding-to-the-legend-aka-proxy-artists\n",
            "  This is separate from the ipykernel package so we can avoid doing imports until\n",
            "/usr/local/lib/python3.6/dist-packages/ipykernel_launcher.py:3: UserWarning: Legend does not support 'l' instances.\n",
            "A proxy artist may be used instead.\n",
            "See: http://matplotlib.org/users/legend_guide.html#creating-artists-specifically-for-adding-to-the-legend-aka-proxy-artists\n",
            "  This is separate from the ipykernel package so we can avoid doing imports until\n"
          ],
          "name": "stderr"
        },
        {
          "output_type": "display_data",
          "data": {
            "image/png": "[encoded data removed]",
            "text/plain": [
              "<Figure size 432x288 with 1 Axes>"
            ]
          },
          "metadata": {
            "tags": []
          }
        }
      ]
    },
    {
      "cell_type": "code",
      "metadata": {
        "id": "pnmeuR3m__yI",
        "colab_type": "code",
        "colab": {}
      },
      "source": [
        "model = keras.Sequential()\n",
        "model.add(keras.layers.LSTM(100, activation='relu', input_shape=(n_steps, 1)))\n",
        "model.add(keras.layers.Dense(1))\n",
        "model.compile(optimizer='adam', loss='mse',metrics=['accuracy'])"
      ],
      "execution_count": 0,
      "outputs": []
    },
    {
      "cell_type": "code",
      "metadata": {
        "id": "VFNvtKzUtMus",
        "colab_type": "code",
        "outputId": "8cd6fd6c-57ab-437b-9a22-efbf0742a734",
        "colab": {
          "base_uri": "https://localhost:8080/",
          "height": 1000
        }
      },
      "source": [
        "model.fit(X3, y3, validation_data=(X_test3,y_test3),epochs=50)"
      ],
      "execution_count": 141,
      "outputs": [
        {
          "output_type": "stream",
          "text": [
            "Train on 11997 samples, validate on 3701 samples\n",
            "Epoch 1/50\n",
            "11997/11997 [==============================] - 3s 263us/sample - loss: 0.0032 - acc: 0.8605 - val_loss: 0.0041 - val_acc: 0.8708\n",
            "Epoch 2/50\n",
            "11997/11997 [==============================] - 2s 206us/sample - loss: 0.0032 - acc: 0.8605 - val_loss: 0.0041 - val_acc: 0.8708\n",
            "Epoch 3/50\n",
            "11997/11997 [==============================] - 3s 209us/sample - loss: 0.0032 - acc: 0.8605 - val_loss: 0.0041 - val_acc: 0.8708\n",
            "Epoch 4/50\n",
            "11997/11997 [==============================] - 3s 215us/sample - loss: 0.0032 - acc: 0.8605 - val_loss: 0.0041 - val_acc: 0.8708\n",
            "Epoch 5/50\n",
            "11997/11997 [==============================] - 3s 213us/sample - loss: 0.0032 - acc: 0.8605 - val_loss: 0.0041 - val_acc: 0.8708\n",
            "Epoch 6/50\n",
            "11997/11997 [==============================] - 3s 212us/sample - loss: 0.0032 - acc: 0.8605 - val_loss: 0.0041 - val_acc: 0.8708\n",
            "Epoch 7/50\n",
            "11997/11997 [==============================] - 3s 214us/sample - loss: 0.0032 - acc: 0.8605 - val_loss: 0.0041 - val_acc: 0.8708\n",
            "Epoch 8/50\n",
            "11997/11997 [==============================] - 3s 210us/sample - loss: 0.0032 - acc: 0.8605 - val_loss: 0.0041 - val_acc: 0.8708\n",
            "Epoch 9/50\n",
            "11997/11997 [==============================] - 2s 201us/sample - loss: 0.0032 - acc: 0.8605 - val_loss: 0.0041 - val_acc: 0.8708\n",
            "Epoch 10/50\n",
            "11997/11997 [==============================] - 2s 204us/sample - loss: 0.0032 - acc: 0.8605 - val_loss: 0.0041 - val_acc: 0.8708\n",
            "Epoch 11/50\n",
            "11997/11997 [==============================] - 2s 205us/sample - loss: 0.0032 - acc: 0.8605 - val_loss: 0.0040 - val_acc: 0.8708\n",
            "Epoch 12/50\n",
            "11997/11997 [==============================] - 2s 204us/sample - loss: 0.0032 - acc: 0.8605 - val_loss: 0.0041 - val_acc: 0.8708\n",
            "Epoch 13/50\n",
            "11997/11997 [==============================] - 2s 207us/sample - loss: 0.0032 - acc: 0.8605 - val_loss: 0.0040 - val_acc: 0.8708\n",
            "Epoch 14/50\n",
            "11997/11997 [==============================] - 2s 204us/sample - loss: 0.0032 - acc: 0.8605 - val_loss: 0.0041 - val_acc: 0.8708\n",
            "Epoch 15/50\n",
            "11997/11997 [==============================] - 2s 205us/sample - loss: 0.0032 - acc: 0.8605 - val_loss: 0.0041 - val_acc: 0.8708\n",
            "Epoch 16/50\n",
            "11997/11997 [==============================] - 3s 211us/sample - loss: 0.0032 - acc: 0.8605 - val_loss: 0.0040 - val_acc: 0.8708\n",
            "Epoch 17/50\n",
            "11997/11997 [==============================] - 2s 206us/sample - loss: 0.0032 - acc: 0.8605 - val_loss: 0.0041 - val_acc: 0.8708\n",
            "Epoch 18/50\n",
            "11997/11997 [==============================] - 2s 202us/sample - loss: 0.0032 - acc: 0.8605 - val_loss: 0.0040 - val_acc: 0.8708\n",
            "Epoch 19/50\n",
            "11997/11997 [==============================] - 2s 205us/sample - loss: 0.0032 - acc: 0.8605 - val_loss: 0.0040 - val_acc: 0.8708\n",
            "Epoch 20/50\n",
            "11997/11997 [==============================] - 2s 208us/sample - loss: 0.0032 - acc: 0.8605 - val_loss: 0.0040 - val_acc: 0.8708\n",
            "Epoch 21/50\n",
            "11997/11997 [==============================] - 2s 206us/sample - loss: 0.0032 - acc: 0.8605 - val_loss: 0.0040 - val_acc: 0.8708\n",
            "Epoch 22/50\n",
            "11997/11997 [==============================] - 2s 206us/sample - loss: 0.0032 - acc: 0.8605 - val_loss: 0.0040 - val_acc: 0.8708\n",
            "Epoch 23/50\n",
            "11997/11997 [==============================] - 2s 206us/sample - loss: 0.0032 - acc: 0.8605 - val_loss: 0.0040 - val_acc: 0.8708\n",
            "Epoch 24/50\n",
            "11997/11997 [==============================] - 2s 204us/sample - loss: 0.0032 - acc: 0.8605 - val_loss: 0.0040 - val_acc: 0.8708\n",
            "Epoch 25/50\n",
            "11997/11997 [==============================] - 3s 210us/sample - loss: 0.0032 - acc: 0.8605 - val_loss: 0.0040 - val_acc: 0.8708\n",
            "Epoch 26/50\n",
            "11997/11997 [==============================] - 2s 204us/sample - loss: 0.0032 - acc: 0.8605 - val_loss: 0.0040 - val_acc: 0.8708\n",
            "Epoch 27/50\n",
            "11997/11997 [==============================] - 2s 205us/sample - loss: 0.0032 - acc: 0.8605 - val_loss: 0.0040 - val_acc: 0.8708\n",
            "Epoch 28/50\n",
            "11997/11997 [==============================] - 2s 205us/sample - loss: 0.0032 - acc: 0.8605 - val_loss: 0.0040 - val_acc: 0.8708\n",
            "Epoch 29/50\n",
            "11997/11997 [==============================] - 2s 205us/sample - loss: 0.0032 - acc: 0.8605 - val_loss: 0.0040 - val_acc: 0.8708\n",
            "Epoch 30/50\n",
            "11997/11997 [==============================] - 2s 203us/sample - loss: 0.0032 - acc: 0.8605 - val_loss: 0.0041 - val_acc: 0.8708\n",
            "Epoch 31/50\n",
            "11997/11997 [==============================] - 2s 200us/sample - loss: 0.0032 - acc: 0.8605 - val_loss: 0.0041 - val_acc: 0.8708\n",
            "Epoch 32/50\n",
            "11997/11997 [==============================] - 2s 207us/sample - loss: 0.0032 - acc: 0.8605 - val_loss: 0.0040 - val_acc: 0.8708\n",
            "Epoch 33/50\n",
            "11997/11997 [==============================] - 2s 205us/sample - loss: 0.0032 - acc: 0.8605 - val_loss: 0.0040 - val_acc: 0.8708\n",
            "Epoch 34/50\n",
            "11997/11997 [==============================] - 2s 203us/sample - loss: 0.0032 - acc: 0.8605 - val_loss: 0.0040 - val_acc: 0.8708\n",
            "Epoch 35/50\n",
            "11997/11997 [==============================] - 2s 204us/sample - loss: 0.0032 - acc: 0.8605 - val_loss: 0.0040 - val_acc: 0.8708\n",
            "Epoch 36/50\n",
            "11997/11997 [==============================] - 2s 203us/sample - loss: 0.0032 - acc: 0.8605 - val_loss: 0.0040 - val_acc: 0.8708\n",
            "Epoch 37/50\n",
            "11997/11997 [==============================] - 2s 202us/sample - loss: 0.0032 - acc: 0.8605 - val_loss: 0.0040 - val_acc: 0.8708\n",
            "Epoch 38/50\n",
            "11997/11997 [==============================] - 2s 208us/sample - loss: 0.0032 - acc: 0.8605 - val_loss: 0.0040 - val_acc: 0.8708\n",
            "Epoch 39/50\n",
            "11997/11997 [==============================] - 2s 204us/sample - loss: 0.0032 - acc: 0.8605 - val_loss: 0.0040 - val_acc: 0.8708\n",
            "Epoch 40/50\n",
            "11997/11997 [==============================] - 2s 204us/sample - loss: 0.0032 - acc: 0.8605 - val_loss: 0.0040 - val_acc: 0.8708\n",
            "Epoch 41/50\n",
            "11997/11997 [==============================] - 2s 206us/sample - loss: 0.0032 - acc: 0.8605 - val_loss: 0.0040 - val_acc: 0.8708\n",
            "Epoch 42/50\n",
            "11997/11997 [==============================] - 2s 208us/sample - loss: 0.0032 - acc: 0.8605 - val_loss: 0.0040 - val_acc: 0.8708\n",
            "Epoch 43/50\n",
            "11997/11997 [==============================] - 2s 203us/sample - loss: 0.0032 - acc: 0.8605 - val_loss: 0.0040 - val_acc: 0.8708\n",
            "Epoch 44/50\n",
            "11997/11997 [==============================] - 2s 202us/sample - loss: 0.0032 - acc: 0.8605 - val_loss: 0.0040 - val_acc: 0.8708\n",
            "Epoch 45/50\n",
            "11997/11997 [==============================] - 2s 202us/sample - loss: 0.0032 - acc: 0.8605 - val_loss: 0.0040 - val_acc: 0.8708\n",
            "Epoch 46/50\n",
            "11997/11997 [==============================] - 2s 205us/sample - loss: 0.0032 - acc: 0.8605 - val_loss: 0.0040 - val_acc: 0.8708\n",
            "Epoch 47/50\n",
            "11997/11997 [==============================] - 3s 209us/sample - loss: 0.0032 - acc: 0.8605 - val_loss: 0.0040 - val_acc: 0.8708\n",
            "Epoch 48/50\n",
            "11997/11997 [==============================] - 2s 206us/sample - loss: 0.0032 - acc: 0.8605 - val_loss: 0.0040 - val_acc: 0.8708\n",
            "Epoch 49/50\n",
            "11997/11997 [==============================] - 2s 205us/sample - loss: 0.0032 - acc: 0.8605 - val_loss: 0.0040 - val_acc: 0.8708\n",
            "Epoch 50/50\n",
            "11997/11997 [==============================] - 3s 209us/sample - loss: 0.0032 - acc: 0.8605 - val_loss: 0.0040 - val_acc: 0.8708\n"
          ],
          "name": "stdout"
        },
        {
          "output_type": "execute_result",
          "data": {
            "text/plain": [
              "<tensorflow.python.keras.callbacks.History at 0x7fbe859d5f28>"
            ]
          },
          "metadata": {
            "tags": []
          },
          "execution_count": 141
        }
      ]
    },
    {
      "cell_type": "code",
      "metadata": {
        "id": "GkOlpfGdH2gZ",
        "colab_type": "code",
        "outputId": "6e8ce3fc-43d7-4e01-b1d8-acb97300c9e5",
        "colab": {
          "base_uri": "https://localhost:8080/",
          "height": 50
        }
      },
      "source": [
        "ypred = model.predict(X3)\n",
        "s=pd.DataFrame(ypred)\n",
        "s1=pd.DataFrame(y3)\n",
        "s1.corrwith(s, axis = 0) "
      ],
      "execution_count": 142,
      "outputs": [
        {
          "output_type": "execute_result",
          "data": {
            "text/plain": [
              "0    0.260896\n",
              "dtype: float64"
            ]
          },
          "metadata": {
            "tags": []
          },
          "execution_count": 142
        }
      ]
    },
    {
      "cell_type": "code",
      "metadata": {
        "id": "8DCzVU6iJHQ1",
        "colab_type": "code",
        "outputId": "45305e52-11cf-4b56-ea01-a6a6e380db7b",
        "colab": {
          "base_uri": "https://localhost:8080/",
          "height": 50
        }
      },
      "source": [
        "ypred1=model.predict(X_test3)\n",
        "s=pd.DataFrame(ypred1)\n",
        "s1=pd.DataFrame(y_test3)\n",
        "s1.corrwith(s,axis=0)"
      ],
      "execution_count": 143,
      "outputs": [
        {
          "output_type": "execute_result",
          "data": {
            "text/plain": [
              "0    0.187699\n",
              "dtype: float64"
            ]
          },
          "metadata": {
            "tags": []
          },
          "execution_count": 143
        }
      ]
    },
    {
      "cell_type": "code",
      "metadata": {
        "id": "FO_LLgNyMcxl",
        "colab_type": "code",
        "outputId": "d53c776d-2727-4809-9e3a-30c764bf18b3",
        "colab": {
          "base_uri": "https://localhost:8080/",
          "height": 34
        }
      },
      "source": [
        "r2_score(y3,ypred)"
      ],
      "execution_count": 144,
      "outputs": [
        {
          "output_type": "execute_result",
          "data": {
            "text/plain": [
              "0.06579693900632388"
            ]
          },
          "metadata": {
            "tags": []
          },
          "execution_count": 144
        }
      ]
    },
    {
      "cell_type": "code",
      "metadata": {
        "id": "3Dou4U6tMfBa",
        "colab_type": "code",
        "outputId": "89c8b161-e0f0-4bd5-a5b8-49a6ff948ab8",
        "colab": {
          "base_uri": "https://localhost:8080/",
          "height": 34
        }
      },
      "source": [
        "r2_score(y_test3,ypred1)"
      ],
      "execution_count": 145,
      "outputs": [
        {
          "output_type": "execute_result",
          "data": {
            "text/plain": [
              "0.03079401919721303"
            ]
          },
          "metadata": {
            "tags": []
          },
          "execution_count": 145
        }
      ]
    },
    {
      "cell_type": "code",
      "metadata": {
        "id": "vg9UDalba2r6",
        "colab_type": "code",
        "outputId": "4b2e11d7-a3d1-428f-f4c6-c5be45cd5b72",
        "colab": {
          "base_uri": "https://localhost:8080/",
          "height": 34
        }
      },
      "source": [
        "mean_absolute_error(y3,ypred)"
      ],
      "execution_count": 146,
      "outputs": [
        {
          "output_type": "execute_result",
          "data": {
            "text/plain": [
              "0.022004832119353206"
            ]
          },
          "metadata": {
            "tags": []
          },
          "execution_count": 146
        }
      ]
    },
    {
      "cell_type": "code",
      "metadata": {
        "id": "PKHNKah8a6y4",
        "colab_type": "code",
        "outputId": "cff7f2f0-c5e1-43df-9f5d-9b11d3573607",
        "colab": {
          "base_uri": "https://localhost:8080/",
          "height": 34
        }
      },
      "source": [
        "mean_absolute_error(y_test3,ypred1)"
      ],
      "execution_count": 147,
      "outputs": [
        {
          "output_type": "execute_result",
          "data": {
            "text/plain": [
              "0.02241229461988656"
            ]
          },
          "metadata": {
            "tags": []
          },
          "execution_count": 147
        }
      ]
    },
    {
      "cell_type": "code",
      "metadata": {
        "id": "W9VmpEof93IB",
        "colab_type": "code",
        "colab": {}
      },
      "source": [
        "ypred1[ypred1<0]=0"
      ],
      "execution_count": 0,
      "outputs": []
    },
    {
      "cell_type": "code",
      "metadata": {
        "id": "WrxQkRaL9688",
        "colab_type": "code",
        "colab": {
          "base_uri": "https://localhost:8080/",
          "height": 668
        },
        "outputId": "31240a34-de20-42ef-dce3-37a63fbfe8e6"
      },
      "source": [
        "plt.plot(y_test3)\n",
        "plt.plot(ypred1)\n",
        "plt.legend(\"Actual\",\"predicted\")\n",
        "plt.show()"
      ],
      "execution_count": 149,
      "outputs": [
        {
          "output_type": "stream",
          "text": [
            "/usr/local/lib/python3.6/dist-packages/ipykernel_launcher.py:3: UserWarning: Legend does not support 'A' instances.\n",
            "A proxy artist may be used instead.\n",
            "See: http://matplotlib.org/users/legend_guide.html#creating-artists-specifically-for-adding-to-the-legend-aka-proxy-artists\n",
            "  This is separate from the ipykernel package so we can avoid doing imports until\n",
            "/usr/local/lib/python3.6/dist-packages/ipykernel_launcher.py:3: UserWarning: Legend does not support 'c' instances.\n",
            "A proxy artist may be used instead.\n",
            "See: http://matplotlib.org/users/legend_guide.html#creating-artists-specifically-for-adding-to-the-legend-aka-proxy-artists\n",
            "  This is separate from the ipykernel package so we can avoid doing imports until\n",
            "/usr/local/lib/python3.6/dist-packages/ipykernel_launcher.py:3: UserWarning: Legend does not support 't' instances.\n",
            "A proxy artist may be used instead.\n",
            "See: http://matplotlib.org/users/legend_guide.html#creating-artists-specifically-for-adding-to-the-legend-aka-proxy-artists\n",
            "  This is separate from the ipykernel package so we can avoid doing imports until\n",
            "/usr/local/lib/python3.6/dist-packages/ipykernel_launcher.py:3: UserWarning: Legend does not support 'u' instances.\n",
            "A proxy artist may be used instead.\n",
            "See: http://matplotlib.org/users/legend_guide.html#creating-artists-specifically-for-adding-to-the-legend-aka-proxy-artists\n",
            "  This is separate from the ipykernel package so we can avoid doing imports until\n",
            "/usr/local/lib/python3.6/dist-packages/ipykernel_launcher.py:3: UserWarning: Legend does not support 'a' instances.\n",
            "A proxy artist may be used instead.\n",
            "See: http://matplotlib.org/users/legend_guide.html#creating-artists-specifically-for-adding-to-the-legend-aka-proxy-artists\n",
            "  This is separate from the ipykernel package so we can avoid doing imports until\n",
            "/usr/local/lib/python3.6/dist-packages/ipykernel_launcher.py:3: UserWarning: Legend does not support 'l' instances.\n",
            "A proxy artist may be used instead.\n",
            "See: http://matplotlib.org/users/legend_guide.html#creating-artists-specifically-for-adding-to-the-legend-aka-proxy-artists\n",
            "  This is separate from the ipykernel package so we can avoid doing imports until\n"
          ],
          "name": "stderr"
        },
        {
          "output_type": "display_data",
          "data": {
            "image/png": "[encoded data removed]",
            "text/plain": [
              "<Figure size 432x288 with 1 Axes>"
            ]
          },
          "metadata": {
            "tags": []
          }
        }
      ]
    },
    {
      "cell_type": "code",
      "metadata": {
        "id": "bB2SYSREACTX",
        "colab_type": "code",
        "colab": {}
      },
      "source": [
        "model = keras.Sequential()\n",
        "model.add(keras.layers.LSTM(100, activation='relu', input_shape=(n_steps, 1)))\n",
        "model.add(keras.layers.Dense(1))\n",
        "model.compile(optimizer='adam', loss='mse',metrics=['accuracy'])"
      ],
      "execution_count": 0,
      "outputs": []
    },
    {
      "cell_type": "code",
      "metadata": {
        "id": "SgByKfhitNMk",
        "colab_type": "code",
        "outputId": "36abb4b1-f465-40ed-b9a2-ac53a2c8966d",
        "colab": {
          "base_uri": "https://localhost:8080/",
          "height": 1000
        }
      },
      "source": [
        "model.fit(X4, y4, validation_data=(X_test4,y_test4),epochs=50)"
      ],
      "execution_count": 268,
      "outputs": [
        {
          "output_type": "stream",
          "text": [
            "Train on 11997 samples, validate on 3643 samples\n",
            "Epoch 1/50\n",
            "11997/11997 [==============================] - 4s 374us/sample - loss: 0.0029 - acc: 0.8360 - val_loss: 0.0043 - val_acc: 0.8433\n",
            "Epoch 2/50\n",
            "11997/11997 [==============================] - 3s 221us/sample - loss: 0.0028 - acc: 0.8360 - val_loss: 0.0043 - val_acc: 0.8433\n",
            "Epoch 3/50\n",
            "11997/11997 [==============================] - 3s 215us/sample - loss: 0.0028 - acc: 0.8360 - val_loss: 0.0043 - val_acc: 0.8433\n",
            "Epoch 4/50\n",
            "11997/11997 [==============================] - 3s 222us/sample - loss: 0.0028 - acc: 0.8360 - val_loss: 0.0043 - val_acc: 0.8433\n",
            "Epoch 5/50\n",
            "11997/11997 [==============================] - 3s 220us/sample - loss: 0.0028 - acc: 0.8360 - val_loss: 0.0043 - val_acc: 0.8433\n",
            "Epoch 6/50\n",
            "11997/11997 [==============================] - 3s 213us/sample - loss: 0.0028 - acc: 0.8360 - val_loss: 0.0043 - val_acc: 0.8433\n",
            "Epoch 7/50\n",
            "11997/11997 [==============================] - 3s 216us/sample - loss: 0.0028 - acc: 0.8360 - val_loss: 0.0043 - val_acc: 0.8433\n",
            "Epoch 8/50\n",
            "11997/11997 [==============================] - 3s 220us/sample - loss: 0.0028 - acc: 0.8360 - val_loss: 0.0043 - val_acc: 0.8433\n",
            "Epoch 9/50\n",
            "11997/11997 [==============================] - 3s 212us/sample - loss: 0.0028 - acc: 0.8360 - val_loss: 0.0043 - val_acc: 0.8433\n",
            "Epoch 10/50\n",
            "11997/11997 [==============================] - 3s 216us/sample - loss: 0.0028 - acc: 0.8360 - val_loss: 0.0043 - val_acc: 0.8433\n",
            "Epoch 11/50\n",
            "11997/11997 [==============================] - 3s 214us/sample - loss: 0.0028 - acc: 0.8360 - val_loss: 0.0043 - val_acc: 0.8433\n",
            "Epoch 12/50\n",
            "11997/11997 [==============================] - 3s 219us/sample - loss: 0.0028 - acc: 0.8360 - val_loss: 0.0043 - val_acc: 0.8433\n",
            "Epoch 13/50\n",
            "11997/11997 [==============================] - 2s 207us/sample - loss: 0.0028 - acc: 0.8360 - val_loss: 0.0043 - val_acc: 0.8433\n",
            "Epoch 14/50\n",
            "11997/11997 [==============================] - 2s 205us/sample - loss: 0.0028 - acc: 0.8360 - val_loss: 0.0043 - val_acc: 0.8433\n",
            "Epoch 15/50\n",
            "11997/11997 [==============================] - 2s 207us/sample - loss: 0.0028 - acc: 0.8360 - val_loss: 0.0043 - val_acc: 0.8433\n",
            "Epoch 16/50\n",
            "11997/11997 [==============================] - 2s 206us/sample - loss: 0.0028 - acc: 0.8360 - val_loss: 0.0043 - val_acc: 0.8433\n",
            "Epoch 17/50\n",
            "11997/11997 [==============================] - 2s 207us/sample - loss: 0.0028 - acc: 0.8360 - val_loss: 0.0043 - val_acc: 0.8433\n",
            "Epoch 18/50\n",
            "11997/11997 [==============================] - 2s 207us/sample - loss: 0.0028 - acc: 0.8360 - val_loss: 0.0043 - val_acc: 0.8433\n",
            "Epoch 19/50\n",
            "11997/11997 [==============================] - 2s 207us/sample - loss: 0.0028 - acc: 0.8360 - val_loss: 0.0043 - val_acc: 0.8433\n",
            "Epoch 20/50\n",
            "11997/11997 [==============================] - 2s 205us/sample - loss: 0.0028 - acc: 0.8360 - val_loss: 0.0043 - val_acc: 0.8433\n",
            "Epoch 21/50\n",
            "11997/11997 [==============================] - 2s 205us/sample - loss: 0.0028 - acc: 0.8360 - val_loss: 0.0043 - val_acc: 0.8433\n",
            "Epoch 22/50\n",
            "11997/11997 [==============================] - 2s 207us/sample - loss: 0.0028 - acc: 0.8360 - val_loss: 0.0043 - val_acc: 0.8433\n",
            "Epoch 23/50\n",
            "11997/11997 [==============================] - 3s 219us/sample - loss: 0.0028 - acc: 0.8360 - val_loss: 0.0043 - val_acc: 0.8433\n",
            "Epoch 24/50\n",
            "11997/11997 [==============================] - 3s 214us/sample - loss: 0.0027 - acc: 0.8360 - val_loss: 0.0043 - val_acc: 0.8433\n",
            "Epoch 25/50\n",
            "11997/11997 [==============================] - 3s 209us/sample - loss: 0.0027 - acc: 0.8360 - val_loss: 0.0043 - val_acc: 0.8433\n",
            "Epoch 26/50\n",
            "11997/11997 [==============================] - 3s 212us/sample - loss: 0.0027 - acc: 0.8360 - val_loss: 0.0043 - val_acc: 0.8433\n",
            "Epoch 27/50\n",
            "11997/11997 [==============================] - 3s 214us/sample - loss: 0.0027 - acc: 0.8360 - val_loss: 0.0043 - val_acc: 0.8433\n",
            "Epoch 28/50\n",
            "11997/11997 [==============================] - 3s 215us/sample - loss: 0.0027 - acc: 0.8360 - val_loss: 0.0043 - val_acc: 0.8433\n",
            "Epoch 29/50\n",
            "11997/11997 [==============================] - 3s 215us/sample - loss: 0.0027 - acc: 0.8360 - val_loss: 0.0043 - val_acc: 0.8433\n",
            "Epoch 30/50\n",
            "11997/11997 [==============================] - 3s 214us/sample - loss: 0.0027 - acc: 0.8360 - val_loss: 0.0043 - val_acc: 0.8433\n",
            "Epoch 31/50\n",
            "11997/11997 [==============================] - 3s 215us/sample - loss: 0.0028 - acc: 0.8360 - val_loss: 0.0043 - val_acc: 0.8433\n",
            "Epoch 32/50\n",
            "11997/11997 [==============================] - 3s 218us/sample - loss: 0.0027 - acc: 0.8360 - val_loss: 0.0043 - val_acc: 0.8433\n",
            "Epoch 33/50\n",
            "11997/11997 [==============================] - 3s 220us/sample - loss: 0.0027 - acc: 0.8360 - val_loss: 0.0043 - val_acc: 0.8433\n",
            "Epoch 34/50\n",
            "11997/11997 [==============================] - 3s 212us/sample - loss: 0.0027 - acc: 0.8360 - val_loss: 0.0043 - val_acc: 0.8433\n",
            "Epoch 35/50\n",
            "11997/11997 [==============================] - 3s 217us/sample - loss: 0.0027 - acc: 0.8360 - val_loss: 0.0043 - val_acc: 0.8433\n",
            "Epoch 36/50\n",
            "11997/11997 [==============================] - 3s 215us/sample - loss: 0.0027 - acc: 0.8360 - val_loss: 0.0043 - val_acc: 0.8433\n",
            "Epoch 37/50\n",
            "11997/11997 [==============================] - 3s 212us/sample - loss: 0.0027 - acc: 0.8360 - val_loss: 0.0043 - val_acc: 0.8433\n",
            "Epoch 38/50\n",
            "11997/11997 [==============================] - 3s 212us/sample - loss: 0.0027 - acc: 0.8360 - val_loss: 0.0043 - val_acc: 0.8433\n",
            "Epoch 39/50\n",
            "11997/11997 [==============================] - 3s 211us/sample - loss: 0.0027 - acc: 0.8360 - val_loss: 0.0043 - val_acc: 0.8433\n",
            "Epoch 40/50\n",
            "11997/11997 [==============================] - 3s 209us/sample - loss: 0.0027 - acc: 0.8360 - val_loss: 0.0043 - val_acc: 0.8433\n",
            "Epoch 41/50\n",
            "11997/11997 [==============================] - 3s 216us/sample - loss: 0.0027 - acc: 0.8360 - val_loss: 0.0043 - val_acc: 0.8433\n",
            "Epoch 42/50\n",
            "11997/11997 [==============================] - 3s 215us/sample - loss: 0.0027 - acc: 0.8360 - val_loss: 0.0043 - val_acc: 0.8433\n",
            "Epoch 43/50\n",
            "11997/11997 [==============================] - 3s 212us/sample - loss: 0.0027 - acc: 0.8360 - val_loss: 0.0043 - val_acc: 0.8433\n",
            "Epoch 44/50\n",
            "11997/11997 [==============================] - 3s 211us/sample - loss: 0.0027 - acc: 0.8360 - val_loss: 0.0044 - val_acc: 0.8433\n",
            "Epoch 45/50\n",
            "11997/11997 [==============================] - 3s 211us/sample - loss: 0.0027 - acc: 0.8360 - val_loss: 0.0044 - val_acc: 0.8433\n",
            "Epoch 46/50\n",
            "11997/11997 [==============================] - 3s 216us/sample - loss: 0.0027 - acc: 0.8360 - val_loss: 0.0043 - val_acc: 0.8433\n",
            "Epoch 47/50\n",
            "11997/11997 [==============================] - 3s 213us/sample - loss: 0.0027 - acc: 0.8360 - val_loss: 0.0043 - val_acc: 0.8433\n",
            "Epoch 48/50\n",
            "11997/11997 [==============================] - 3s 213us/sample - loss: 0.0027 - acc: 0.8360 - val_loss: 0.0044 - val_acc: 0.8433\n",
            "Epoch 49/50\n",
            "11997/11997 [==============================] - 3s 212us/sample - loss: 0.0027 - acc: 0.8360 - val_loss: 0.0043 - val_acc: 0.8433\n",
            "Epoch 50/50\n",
            "11997/11997 [==============================] - 3s 226us/sample - loss: 0.0027 - acc: 0.8360 - val_loss: 0.0043 - val_acc: 0.8433\n"
          ],
          "name": "stdout"
        },
        {
          "output_type": "execute_result",
          "data": {
            "text/plain": [
              "<tensorflow.python.keras.callbacks.History at 0x7fbe8a0a5080>"
            ]
          },
          "metadata": {
            "tags": []
          },
          "execution_count": 268
        }
      ]
    },
    {
      "cell_type": "code",
      "metadata": {
        "id": "BsI-w74FH36K",
        "colab_type": "code",
        "outputId": "f67973a1-441c-421d-c239-f897f1804472",
        "colab": {
          "base_uri": "https://localhost:8080/",
          "height": 50
        }
      },
      "source": [
        "ypred = model.predict(X4)\n",
        "s=pd.DataFrame(ypred)\n",
        "s1=pd.DataFrame(y4)\n",
        "s1.corrwith(s, axis = 0) "
      ],
      "execution_count": 269,
      "outputs": [
        {
          "output_type": "execute_result",
          "data": {
            "text/plain": [
              "0    0.304448\n",
              "dtype: float64"
            ]
          },
          "metadata": {
            "tags": []
          },
          "execution_count": 269
        }
      ]
    },
    {
      "cell_type": "code",
      "metadata": {
        "id": "BppViBEjJI1p",
        "colab_type": "code",
        "outputId": "06f97fd5-5d81-44d7-e90d-09df8c8ae9ac",
        "colab": {
          "base_uri": "https://localhost:8080/",
          "height": 50
        }
      },
      "source": [
        "ypred1=model.predict(X_test4)\n",
        "s=pd.DataFrame(ypred1)\n",
        "s1=pd.DataFrame(y_test4)\n",
        "s1.corrwith(s,axis=0)"
      ],
      "execution_count": 270,
      "outputs": [
        {
          "output_type": "execute_result",
          "data": {
            "text/plain": [
              "0    0.182652\n",
              "dtype: float64"
            ]
          },
          "metadata": {
            "tags": []
          },
          "execution_count": 270
        }
      ]
    },
    {
      "cell_type": "code",
      "metadata": {
        "id": "wd6c1LKXa_r6",
        "colab_type": "code",
        "outputId": "f35aa5f6-8acc-4dc2-b610-25060bf58d0d",
        "colab": {
          "base_uri": "https://localhost:8080/",
          "height": 34
        }
      },
      "source": [
        "mean_absolute_error(y4,ypred)"
      ],
      "execution_count": 271,
      "outputs": [
        {
          "output_type": "execute_result",
          "data": {
            "text/plain": [
              "0.01986767704904677"
            ]
          },
          "metadata": {
            "tags": []
          },
          "execution_count": 271
        }
      ]
    },
    {
      "cell_type": "code",
      "metadata": {
        "id": "aYBttiDKbDd4",
        "colab_type": "code",
        "outputId": "cb4332db-136d-4378-9eb6-c415527d3d9d",
        "colab": {
          "base_uri": "https://localhost:8080/",
          "height": 34
        }
      },
      "source": [
        "mean_absolute_error(y_test4,ypred1)"
      ],
      "execution_count": 272,
      "outputs": [
        {
          "output_type": "execute_result",
          "data": {
            "text/plain": [
              "0.024276902214180242"
            ]
          },
          "metadata": {
            "tags": []
          },
          "execution_count": 272
        }
      ]
    },
    {
      "cell_type": "code",
      "metadata": {
        "id": "o7U3xQIlMU7j",
        "colab_type": "code",
        "outputId": "ed9c84e4-faef-434d-faa8-181e02a1b086",
        "colab": {
          "base_uri": "https://localhost:8080/",
          "height": 34
        }
      },
      "source": [
        "r2_score(y4,ypred)"
      ],
      "execution_count": 273,
      "outputs": [
        {
          "output_type": "execute_result",
          "data": {
            "text/plain": [
              "0.0911766015779848"
            ]
          },
          "metadata": {
            "tags": []
          },
          "execution_count": 273
        }
      ]
    },
    {
      "cell_type": "code",
      "metadata": {
        "id": "te0hYyPUMXwG",
        "colab_type": "code",
        "outputId": "f7dc2e6c-ddb0-459f-c932-ec66fb5a7dc7",
        "colab": {
          "base_uri": "https://localhost:8080/",
          "height": 34
        }
      },
      "source": [
        "r2_score(y_test4,ypred1)"
      ],
      "execution_count": 274,
      "outputs": [
        {
          "output_type": "execute_result",
          "data": {
            "text/plain": [
              "0.017449384726058503"
            ]
          },
          "metadata": {
            "tags": []
          },
          "execution_count": 274
        }
      ]
    },
    {
      "cell_type": "code",
      "metadata": {
        "id": "fSs5YDKW9-w6",
        "colab_type": "code",
        "colab": {}
      },
      "source": [
        "ypred1[ypred1<0]=0"
      ],
      "execution_count": 0,
      "outputs": []
    },
    {
      "cell_type": "code",
      "metadata": {
        "id": "D3BzAFgb-Ciw",
        "colab_type": "code",
        "colab": {
          "base_uri": "https://localhost:8080/",
          "height": 668
        },
        "outputId": "121b134a-8db6-4ba6-a8b5-f9bd5ebb61bd"
      },
      "source": [
        "plt.plot(y_test4)\n",
        "plt.plot(ypred1)\n",
        "plt.legend(\"Actual\",\"predicted\")\n",
        "plt.show()"
      ],
      "execution_count": 277,
      "outputs": [
        {
          "output_type": "stream",
          "text": [
            "/usr/local/lib/python3.6/dist-packages/ipykernel_launcher.py:3: UserWarning: Legend does not support 'A' instances.\n",
            "A proxy artist may be used instead.\n",
            "See: http://matplotlib.org/users/legend_guide.html#creating-artists-specifically-for-adding-to-the-legend-aka-proxy-artists\n",
            "  This is separate from the ipykernel package so we can avoid doing imports until\n",
            "/usr/local/lib/python3.6/dist-packages/ipykernel_launcher.py:3: UserWarning: Legend does not support 'c' instances.\n",
            "A proxy artist may be used instead.\n",
            "See: http://matplotlib.org/users/legend_guide.html#creating-artists-specifically-for-adding-to-the-legend-aka-proxy-artists\n",
            "  This is separate from the ipykernel package so we can avoid doing imports until\n",
            "/usr/local/lib/python3.6/dist-packages/ipykernel_launcher.py:3: UserWarning: Legend does not support 't' instances.\n",
            "A proxy artist may be used instead.\n",
            "See: http://matplotlib.org/users/legend_guide.html#creating-artists-specifically-for-adding-to-the-legend-aka-proxy-artists\n",
            "  This is separate from the ipykernel package so we can avoid doing imports until\n",
            "/usr/local/lib/python3.6/dist-packages/ipykernel_launcher.py:3: UserWarning: Legend does not support 'u' instances.\n",
            "A proxy artist may be used instead.\n",
            "See: http://matplotlib.org/users/legend_guide.html#creating-artists-specifically-for-adding-to-the-legend-aka-proxy-artists\n",
            "  This is separate from the ipykernel package so we can avoid doing imports until\n",
            "/usr/local/lib/python3.6/dist-packages/ipykernel_launcher.py:3: UserWarning: Legend does not support 'a' instances.\n",
            "A proxy artist may be used instead.\n",
            "See: http://matplotlib.org/users/legend_guide.html#creating-artists-specifically-for-adding-to-the-legend-aka-proxy-artists\n",
            "  This is separate from the ipykernel package so we can avoid doing imports until\n",
            "/usr/local/lib/python3.6/dist-packages/ipykernel_launcher.py:3: UserWarning: Legend does not support 'l' instances.\n",
            "A proxy artist may be used instead.\n",
            "See: http://matplotlib.org/users/legend_guide.html#creating-artists-specifically-for-adding-to-the-legend-aka-proxy-artists\n",
            "  This is separate from the ipykernel package so we can avoid doing imports until\n"
          ],
          "name": "stderr"
        },
        {
          "output_type": "display_data",
          "data": {
            "image/png": "[encoded data removed]",
            "text/plain": [
              "<Figure size 432x288 with 1 Axes>"
            ]
          },
          "metadata": {
            "tags": []
          }
        }
      ]
    },
    {
      "cell_type": "code",
      "metadata": {
        "id": "ok6MNWqeAErm",
        "colab_type": "code",
        "colab": {}
      },
      "source": [
        "model = keras.Sequential()\n",
        "model.add(keras.layers.LSTM(100, activation='relu', input_shape=(n_steps, 1)))\n",
        "model.add(keras.layers.Dense(1))\n",
        "model.compile(optimizer='adam', loss='mse',metrics=['accuracy'])"
      ],
      "execution_count": 0,
      "outputs": []
    },
    {
      "cell_type": "code",
      "metadata": {
        "id": "Pwz3PEtJtNcq",
        "colab_type": "code",
        "outputId": "a76af2f3-176a-4647-e549-65fea3f7acd6",
        "colab": {
          "base_uri": "https://localhost:8080/",
          "height": 1000
        }
      },
      "source": [
        "model.fit(X5, y5, validation_data=(X_test5,y_test5),epochs=50)"
      ],
      "execution_count": 279,
      "outputs": [
        {
          "output_type": "stream",
          "text": [
            "Train on 11997 samples, validate on 3702 samples\n",
            "Epoch 1/50\n",
            "11997/11997 [==============================] - 5s 411us/sample - loss: 0.0018 - acc: 0.8467 - val_loss: 0.0031 - val_acc: 0.8614\n",
            "Epoch 2/50\n",
            "11997/11997 [==============================] - 3s 226us/sample - loss: 0.0018 - acc: 0.8467 - val_loss: 0.0031 - val_acc: 0.8614\n",
            "Epoch 3/50\n",
            "11997/11997 [==============================] - 3s 226us/sample - loss: 0.0018 - acc: 0.8467 - val_loss: 0.0031 - val_acc: 0.8614\n",
            "Epoch 4/50\n",
            "11997/11997 [==============================] - 3s 225us/sample - loss: 0.0018 - acc: 0.8467 - val_loss: 0.0031 - val_acc: 0.8614\n",
            "Epoch 5/50\n",
            "11997/11997 [==============================] - 3s 222us/sample - loss: 0.0018 - acc: 0.8467 - val_loss: 0.0031 - val_acc: 0.8614\n",
            "Epoch 6/50\n",
            "11997/11997 [==============================] - 3s 223us/sample - loss: 0.0018 - acc: 0.8467 - val_loss: 0.0030 - val_acc: 0.8614\n",
            "Epoch 7/50\n",
            "11997/11997 [==============================] - 3s 224us/sample - loss: 0.0018 - acc: 0.8467 - val_loss: 0.0031 - val_acc: 0.8614\n",
            "Epoch 8/50\n",
            "11997/11997 [==============================] - 3s 225us/sample - loss: 0.0018 - acc: 0.8467 - val_loss: 0.0030 - val_acc: 0.8614\n",
            "Epoch 9/50\n",
            "11997/11997 [==============================] - 3s 216us/sample - loss: 0.0018 - acc: 0.8467 - val_loss: 0.0031 - val_acc: 0.8614\n",
            "Epoch 10/50\n",
            "11997/11997 [==============================] - 3s 217us/sample - loss: 0.0018 - acc: 0.8467 - val_loss: 0.0031 - val_acc: 0.8614\n",
            "Epoch 11/50\n",
            "11997/11997 [==============================] - 3s 213us/sample - loss: 0.0018 - acc: 0.8467 - val_loss: 0.0030 - val_acc: 0.8614\n",
            "Epoch 12/50\n",
            "11997/11997 [==============================] - 3s 224us/sample - loss: 0.0018 - acc: 0.8467 - val_loss: 0.0030 - val_acc: 0.8614\n",
            "Epoch 13/50\n",
            "11997/11997 [==============================] - 3s 234us/sample - loss: 0.0018 - acc: 0.8467 - val_loss: 0.0030 - val_acc: 0.8614\n",
            "Epoch 14/50\n",
            "11997/11997 [==============================] - 3s 221us/sample - loss: 0.0018 - acc: 0.8467 - val_loss: 0.0030 - val_acc: 0.8614\n",
            "Epoch 15/50\n",
            "11997/11997 [==============================] - 3s 211us/sample - loss: 0.0018 - acc: 0.8467 - val_loss: 0.0030 - val_acc: 0.8614\n",
            "Epoch 16/50\n",
            "11997/11997 [==============================] - 3s 209us/sample - loss: 0.0018 - acc: 0.8467 - val_loss: 0.0030 - val_acc: 0.8614\n",
            "Epoch 17/50\n",
            "11997/11997 [==============================] - 3s 212us/sample - loss: 0.0018 - acc: 0.8467 - val_loss: 0.0031 - val_acc: 0.8614\n",
            "Epoch 18/50\n",
            "11997/11997 [==============================] - 3s 210us/sample - loss: 0.0018 - acc: 0.8467 - val_loss: 0.0031 - val_acc: 0.8614\n",
            "Epoch 19/50\n",
            "11997/11997 [==============================] - 3s 211us/sample - loss: 0.0018 - acc: 0.8467 - val_loss: 0.0031 - val_acc: 0.8614\n",
            "Epoch 20/50\n",
            "11997/11997 [==============================] - 3s 209us/sample - loss: 0.0018 - acc: 0.8467 - val_loss: 0.0030 - val_acc: 0.8614\n",
            "Epoch 21/50\n",
            "11997/11997 [==============================] - 3s 209us/sample - loss: 0.0018 - acc: 0.8467 - val_loss: 0.0030 - val_acc: 0.8614\n",
            "Epoch 22/50\n",
            "11997/11997 [==============================] - 3s 209us/sample - loss: 0.0018 - acc: 0.8467 - val_loss: 0.0030 - val_acc: 0.8614\n",
            "Epoch 23/50\n",
            "11997/11997 [==============================] - 3s 212us/sample - loss: 0.0018 - acc: 0.8467 - val_loss: 0.0031 - val_acc: 0.8614\n",
            "Epoch 24/50\n",
            "11997/11997 [==============================] - 3s 213us/sample - loss: 0.0018 - acc: 0.8467 - val_loss: 0.0030 - val_acc: 0.8614\n",
            "Epoch 25/50\n",
            "11997/11997 [==============================] - 3s 211us/sample - loss: 0.0018 - acc: 0.8467 - val_loss: 0.0031 - val_acc: 0.8614\n",
            "Epoch 26/50\n",
            "11997/11997 [==============================] - 3s 210us/sample - loss: 0.0018 - acc: 0.8467 - val_loss: 0.0031 - val_acc: 0.8614\n",
            "Epoch 27/50\n",
            "11997/11997 [==============================] - 3s 210us/sample - loss: 0.0018 - acc: 0.8467 - val_loss: 0.0031 - val_acc: 0.8614\n",
            "Epoch 28/50\n",
            "11997/11997 [==============================] - 2s 205us/sample - loss: 0.0018 - acc: 0.8467 - val_loss: 0.0030 - val_acc: 0.8614\n",
            "Epoch 29/50\n",
            "11997/11997 [==============================] - 2s 206us/sample - loss: 0.0018 - acc: 0.8467 - val_loss: 0.0031 - val_acc: 0.8614\n",
            "Epoch 30/50\n",
            "11997/11997 [==============================] - 2s 206us/sample - loss: 0.0018 - acc: 0.8467 - val_loss: 0.0031 - val_acc: 0.8614\n",
            "Epoch 31/50\n",
            "11997/11997 [==============================] - 3s 215us/sample - loss: 0.0018 - acc: 0.8467 - val_loss: 0.0031 - val_acc: 0.8614\n",
            "Epoch 32/50\n",
            "11997/11997 [==============================] - 3s 216us/sample - loss: 0.0018 - acc: 0.8467 - val_loss: 0.0031 - val_acc: 0.8614\n",
            "Epoch 33/50\n",
            "11997/11997 [==============================] - 2s 208us/sample - loss: 0.0018 - acc: 0.8467 - val_loss: 0.0031 - val_acc: 0.8614\n",
            "Epoch 34/50\n",
            "11997/11997 [==============================] - 3s 209us/sample - loss: 0.0018 - acc: 0.8467 - val_loss: 0.0030 - val_acc: 0.8614\n",
            "Epoch 35/50\n",
            "11997/11997 [==============================] - 3s 210us/sample - loss: 0.0017 - acc: 0.8467 - val_loss: 0.0030 - val_acc: 0.8614\n",
            "Epoch 36/50\n",
            "11997/11997 [==============================] - 3s 209us/sample - loss: 0.0018 - acc: 0.8467 - val_loss: 0.0030 - val_acc: 0.8614\n",
            "Epoch 37/50\n",
            "11997/11997 [==============================] - 3s 209us/sample - loss: 0.0018 - acc: 0.8467 - val_loss: 0.0031 - val_acc: 0.8614\n",
            "Epoch 38/50\n",
            "11997/11997 [==============================] - 3s 210us/sample - loss: 0.0017 - acc: 0.8467 - val_loss: 0.0030 - val_acc: 0.8614\n",
            "Epoch 39/50\n",
            "11997/11997 [==============================] - 3s 210us/sample - loss: 0.0018 - acc: 0.8467 - val_loss: 0.0030 - val_acc: 0.8614\n",
            "Epoch 40/50\n",
            "11997/11997 [==============================] - 3s 212us/sample - loss: 0.0018 - acc: 0.8467 - val_loss: 0.0030 - val_acc: 0.8614\n",
            "Epoch 41/50\n",
            "11997/11997 [==============================] - 3s 211us/sample - loss: 0.0018 - acc: 0.8467 - val_loss: 0.0030 - val_acc: 0.8614\n",
            "Epoch 42/50\n",
            "11997/11997 [==============================] - 3s 216us/sample - loss: 0.0018 - acc: 0.8467 - val_loss: 0.0030 - val_acc: 0.8614\n",
            "Epoch 43/50\n",
            "11997/11997 [==============================] - 3s 213us/sample - loss: 0.0017 - acc: 0.8467 - val_loss: 0.0031 - val_acc: 0.8614\n",
            "Epoch 44/50\n",
            "11997/11997 [==============================] - 3s 213us/sample - loss: 0.0018 - acc: 0.8467 - val_loss: 0.0031 - val_acc: 0.8614\n",
            "Epoch 45/50\n",
            "11997/11997 [==============================] - 3s 209us/sample - loss: 0.0018 - acc: 0.8467 - val_loss: 0.0030 - val_acc: 0.8614\n",
            "Epoch 46/50\n",
            "11997/11997 [==============================] - 2s 207us/sample - loss: 0.0017 - acc: 0.8467 - val_loss: 0.0031 - val_acc: 0.8614\n",
            "Epoch 47/50\n",
            "11997/11997 [==============================] - 3s 212us/sample - loss: 0.0017 - acc: 0.8467 - val_loss: 0.0031 - val_acc: 0.8614\n",
            "Epoch 48/50\n",
            "11997/11997 [==============================] - 3s 210us/sample - loss: 0.0017 - acc: 0.8467 - val_loss: 0.0030 - val_acc: 0.8614\n",
            "Epoch 49/50\n",
            "11997/11997 [==============================] - 2s 206us/sample - loss: 0.0017 - acc: 0.8467 - val_loss: 0.0031 - val_acc: 0.8614\n",
            "Epoch 50/50\n",
            "11997/11997 [==============================] - 3s 211us/sample - loss: 0.0018 - acc: 0.8467 - val_loss: 0.0031 - val_acc: 0.8614\n"
          ],
          "name": "stdout"
        },
        {
          "output_type": "execute_result",
          "data": {
            "text/plain": [
              "<tensorflow.python.keras.callbacks.History at 0x7fbe8994c780>"
            ]
          },
          "metadata": {
            "tags": []
          },
          "execution_count": 279
        }
      ]
    },
    {
      "cell_type": "code",
      "metadata": {
        "id": "jK30TTmsH5Xa",
        "colab_type": "code",
        "outputId": "7a88d4da-5ccd-460b-a330-8d1043290f0f",
        "colab": {
          "base_uri": "https://localhost:8080/",
          "height": 50
        }
      },
      "source": [
        "ypred = model.predict(X5)\n",
        "s=pd.DataFrame(ypred)\n",
        "s1=pd.DataFrame(y5)\n",
        "s1.corrwith(s, axis = 0) "
      ],
      "execution_count": 280,
      "outputs": [
        {
          "output_type": "execute_result",
          "data": {
            "text/plain": [
              "0    0.255139\n",
              "dtype: float64"
            ]
          },
          "metadata": {
            "tags": []
          },
          "execution_count": 280
        }
      ]
    },
    {
      "cell_type": "code",
      "metadata": {
        "id": "ELbd5s3jML2y",
        "colab_type": "code",
        "outputId": "4500f3e9-8cb8-4225-fcf0-b857ed6bc974",
        "colab": {
          "base_uri": "https://localhost:8080/",
          "height": 34
        }
      },
      "source": [
        "r2_score(y5,ypred)"
      ],
      "execution_count": 281,
      "outputs": [
        {
          "output_type": "execute_result",
          "data": {
            "text/plain": [
              "0.053905421098069506"
            ]
          },
          "metadata": {
            "tags": []
          },
          "execution_count": 281
        }
      ]
    },
    {
      "cell_type": "code",
      "metadata": {
        "id": "ixBEfQXVJKU4",
        "colab_type": "code",
        "outputId": "41d33aa0-2b62-413a-9ac6-999f13ea0bc5",
        "colab": {
          "base_uri": "https://localhost:8080/",
          "height": 50
        }
      },
      "source": [
        "ypred1=model.predict(X_test5)\n",
        "s=pd.DataFrame(ypred1)\n",
        "s1=pd.DataFrame(y_test5)\n",
        "s1.corrwith(s,axis=0)"
      ],
      "execution_count": 282,
      "outputs": [
        {
          "output_type": "execute_result",
          "data": {
            "text/plain": [
              "0    0.166289\n",
              "dtype: float64"
            ]
          },
          "metadata": {
            "tags": []
          },
          "execution_count": 282
        }
      ]
    },
    {
      "cell_type": "code",
      "metadata": {
        "id": "KDE8ckrObIuQ",
        "colab_type": "code",
        "outputId": "3737305a-a5e6-431d-d4b9-1dfa30c9be4c",
        "colab": {
          "base_uri": "https://localhost:8080/",
          "height": 34
        }
      },
      "source": [
        "mean_absolute_error(y5,ypred)"
      ],
      "execution_count": 283,
      "outputs": [
        {
          "output_type": "execute_result",
          "data": {
            "text/plain": [
              "0.013047579938388223"
            ]
          },
          "metadata": {
            "tags": []
          },
          "execution_count": 283
        }
      ]
    },
    {
      "cell_type": "code",
      "metadata": {
        "id": "PcrMGkNXbMX4",
        "colab_type": "code",
        "outputId": "740896bd-16f9-4daa-87c8-9bf765d7fec8",
        "colab": {
          "base_uri": "https://localhost:8080/",
          "height": 34
        }
      },
      "source": [
        "mean_absolute_error(y_test5,ypred1)"
      ],
      "execution_count": 284,
      "outputs": [
        {
          "output_type": "execute_result",
          "data": {
            "text/plain": [
              "0.01709224565691579"
            ]
          },
          "metadata": {
            "tags": []
          },
          "execution_count": 284
        }
      ]
    },
    {
      "cell_type": "code",
      "metadata": {
        "id": "70Aaq_luMOxY",
        "colab_type": "code",
        "outputId": "50d8e42d-fc7e-4cc3-8148-5fbdd14b8704",
        "colab": {
          "base_uri": "https://localhost:8080/",
          "height": 34
        }
      },
      "source": [
        "r2_score(y_test5,ypred1)"
      ],
      "execution_count": 285,
      "outputs": [
        {
          "output_type": "execute_result",
          "data": {
            "text/plain": [
              "0.008178770927025791"
            ]
          },
          "metadata": {
            "tags": []
          },
          "execution_count": 285
        }
      ]
    },
    {
      "cell_type": "code",
      "metadata": {
        "id": "AGut_VYe-IBJ",
        "colab_type": "code",
        "colab": {}
      },
      "source": [
        "ypred1[ypred1<0]=0"
      ],
      "execution_count": 0,
      "outputs": []
    },
    {
      "cell_type": "code",
      "metadata": {
        "id": "8a9BssrQ-MNn",
        "colab_type": "code",
        "colab": {
          "base_uri": "https://localhost:8080/",
          "height": 668
        },
        "outputId": "fb6f5464-1e6d-4adf-b4b9-a21aa4aa1e55"
      },
      "source": [
        "plt.plot(y_test5)\n",
        "plt.plot(ypred1)\n",
        "plt.legend(\"Actual\",\"predicted\")\n",
        "plt.show()"
      ],
      "execution_count": 287,
      "outputs": [
        {
          "output_type": "stream",
          "text": [
            "/usr/local/lib/python3.6/dist-packages/ipykernel_launcher.py:3: UserWarning: Legend does not support 'A' instances.\n",
            "A proxy artist may be used instead.\n",
            "See: http://matplotlib.org/users/legend_guide.html#creating-artists-specifically-for-adding-to-the-legend-aka-proxy-artists\n",
            "  This is separate from the ipykernel package so we can avoid doing imports until\n",
            "/usr/local/lib/python3.6/dist-packages/ipykernel_launcher.py:3: UserWarning: Legend does not support 'c' instances.\n",
            "A proxy artist may be used instead.\n",
            "See: http://matplotlib.org/users/legend_guide.html#creating-artists-specifically-for-adding-to-the-legend-aka-proxy-artists\n",
            "  This is separate from the ipykernel package so we can avoid doing imports until\n",
            "/usr/local/lib/python3.6/dist-packages/ipykernel_launcher.py:3: UserWarning: Legend does not support 't' instances.\n",
            "A proxy artist may be used instead.\n",
            "See: http://matplotlib.org/users/legend_guide.html#creating-artists-specifically-for-adding-to-the-legend-aka-proxy-artists\n",
            "  This is separate from the ipykernel package so we can avoid doing imports until\n",
            "/usr/local/lib/python3.6/dist-packages/ipykernel_launcher.py:3: UserWarning: Legend does not support 'u' instances.\n",
            "A proxy artist may be used instead.\n",
            "See: http://matplotlib.org/users/legend_guide.html#creating-artists-specifically-for-adding-to-the-legend-aka-proxy-artists\n",
            "  This is separate from the ipykernel package so we can avoid doing imports until\n",
            "/usr/local/lib/python3.6/dist-packages/ipykernel_launcher.py:3: UserWarning: Legend does not support 'a' instances.\n",
            "A proxy artist may be used instead.\n",
            "See: http://matplotlib.org/users/legend_guide.html#creating-artists-specifically-for-adding-to-the-legend-aka-proxy-artists\n",
            "  This is separate from the ipykernel package so we can avoid doing imports until\n",
            "/usr/local/lib/python3.6/dist-packages/ipykernel_launcher.py:3: UserWarning: Legend does not support 'l' instances.\n",
            "A proxy artist may be used instead.\n",
            "See: http://matplotlib.org/users/legend_guide.html#creating-artists-specifically-for-adding-to-the-legend-aka-proxy-artists\n",
            "  This is separate from the ipykernel package so we can avoid doing imports until\n"
          ],
          "name": "stderr"
        },
        {
          "output_type": "display_data",
          "data": {
            "image/png": "[encoded data removed]",
            "text/plain": [
              "<Figure size 432x288 with 1 Axes>"
            ]
          },
          "metadata": {
            "tags": []
          }
        }
      ]
    },
    {
      "cell_type": "code",
      "metadata": {
        "id": "2nBQVwQdAG_m",
        "colab_type": "code",
        "colab": {}
      },
      "source": [
        "model = keras.Sequential()\n",
        "model.add(keras.layers.LSTM(100, activation='relu', input_shape=(n_steps, 1)))\n",
        "model.add(keras.layers.Dense(1))\n",
        "model.compile(optimizer='adam', loss='mse',metrics=['accuracy'])"
      ],
      "execution_count": 0,
      "outputs": []
    },
    {
      "cell_type": "code",
      "metadata": {
        "id": "mJL5gGhXtNqT",
        "colab_type": "code",
        "outputId": "26d89b3c-5d3e-43bc-c63c-98d52270f257",
        "colab": {
          "base_uri": "https://localhost:8080/",
          "height": 1000
        }
      },
      "source": [
        "model.fit(X6, y6, validation_data=(X_test6,y_test6),epochs=50)"
      ],
      "execution_count": 290,
      "outputs": [
        {
          "output_type": "stream",
          "text": [
            "Train on 11997 samples, validate on 3702 samples\n",
            "Epoch 1/50\n",
            "11997/11997 [==============================] - 5s 395us/sample - loss: 0.0032 - acc: 0.8141 - val_loss: 0.0038 - val_acc: 0.8350\n",
            "Epoch 2/50\n",
            "11997/11997 [==============================] - 3s 227us/sample - loss: 0.0031 - acc: 0.8141 - val_loss: 0.0038 - val_acc: 0.8350\n",
            "Epoch 3/50\n",
            "11997/11997 [==============================] - 3s 212us/sample - loss: 0.0031 - acc: 0.8141 - val_loss: 0.0038 - val_acc: 0.8350\n",
            "Epoch 4/50\n",
            "11997/11997 [==============================] - 2s 207us/sample - loss: 0.0031 - acc: 0.8141 - val_loss: 0.0038 - val_acc: 0.8350\n",
            "Epoch 5/50\n",
            "11997/11997 [==============================] - 2s 200us/sample - loss: 0.0031 - acc: 0.8141 - val_loss: 0.0038 - val_acc: 0.8350\n",
            "Epoch 6/50\n",
            "11997/11997 [==============================] - 2s 204us/sample - loss: 0.0031 - acc: 0.8141 - val_loss: 0.0038 - val_acc: 0.8350\n",
            "Epoch 7/50\n",
            "11997/11997 [==============================] - 2s 203us/sample - loss: 0.0031 - acc: 0.8141 - val_loss: 0.0038 - val_acc: 0.8350\n",
            "Epoch 8/50\n",
            "11997/11997 [==============================] - 2s 200us/sample - loss: 0.0031 - acc: 0.8141 - val_loss: 0.0038 - val_acc: 0.8350\n",
            "Epoch 9/50\n",
            "11997/11997 [==============================] - 2s 205us/sample - loss: 0.0031 - acc: 0.8141 - val_loss: 0.0038 - val_acc: 0.8350\n",
            "Epoch 10/50\n",
            "11997/11997 [==============================] - 3s 210us/sample - loss: 0.0031 - acc: 0.8141 - val_loss: 0.0037 - val_acc: 0.8350\n",
            "Epoch 11/50\n",
            "11997/11997 [==============================] - 3s 210us/sample - loss: 0.0031 - acc: 0.8141 - val_loss: 0.0038 - val_acc: 0.8350\n",
            "Epoch 12/50\n",
            "11997/11997 [==============================] - 3s 214us/sample - loss: 0.0031 - acc: 0.8141 - val_loss: 0.0038 - val_acc: 0.8350\n",
            "Epoch 13/50\n",
            "11997/11997 [==============================] - 3s 211us/sample - loss: 0.0031 - acc: 0.8141 - val_loss: 0.0038 - val_acc: 0.8350\n",
            "Epoch 14/50\n",
            "11997/11997 [==============================] - 2s 206us/sample - loss: 0.0031 - acc: 0.8141 - val_loss: 0.0037 - val_acc: 0.8350\n",
            "Epoch 15/50\n",
            "11997/11997 [==============================] - 2s 203us/sample - loss: 0.0031 - acc: 0.8141 - val_loss: 0.0038 - val_acc: 0.8350\n",
            "Epoch 16/50\n",
            "11997/11997 [==============================] - 2s 202us/sample - loss: 0.0031 - acc: 0.8141 - val_loss: 0.0038 - val_acc: 0.8350\n",
            "Epoch 17/50\n",
            "11997/11997 [==============================] - 2s 202us/sample - loss: 0.0031 - acc: 0.8141 - val_loss: 0.0038 - val_acc: 0.8350\n",
            "Epoch 18/50\n",
            "11997/11997 [==============================] - 2s 202us/sample - loss: 0.0031 - acc: 0.8141 - val_loss: 0.0037 - val_acc: 0.8350\n",
            "Epoch 19/50\n",
            "11997/11997 [==============================] - 2s 203us/sample - loss: 0.0031 - acc: 0.8141 - val_loss: 0.0038 - val_acc: 0.8350\n",
            "Epoch 20/50\n",
            "11997/11997 [==============================] - 2s 202us/sample - loss: 0.0031 - acc: 0.8141 - val_loss: 0.0038 - val_acc: 0.8350\n",
            "Epoch 21/50\n",
            "11997/11997 [==============================] - 2s 206us/sample - loss: 0.0031 - acc: 0.8141 - val_loss: 0.0037 - val_acc: 0.8350\n",
            "Epoch 22/50\n",
            "11997/11997 [==============================] - 2s 200us/sample - loss: 0.0031 - acc: 0.8141 - val_loss: 0.0037 - val_acc: 0.8350\n",
            "Epoch 23/50\n",
            "11997/11997 [==============================] - 2s 200us/sample - loss: 0.0031 - acc: 0.8141 - val_loss: 0.0038 - val_acc: 0.8350\n",
            "Epoch 24/50\n",
            "11997/11997 [==============================] - 2s 203us/sample - loss: 0.0031 - acc: 0.8141 - val_loss: 0.0037 - val_acc: 0.8350\n",
            "Epoch 25/50\n",
            "11997/11997 [==============================] - 2s 205us/sample - loss: 0.0031 - acc: 0.8141 - val_loss: 0.0038 - val_acc: 0.8350\n",
            "Epoch 26/50\n",
            "11997/11997 [==============================] - 3s 211us/sample - loss: 0.0031 - acc: 0.8141 - val_loss: 0.0037 - val_acc: 0.8350\n",
            "Epoch 27/50\n",
            "11997/11997 [==============================] - 2s 200us/sample - loss: 0.0031 - acc: 0.8141 - val_loss: 0.0038 - val_acc: 0.8350\n",
            "Epoch 28/50\n",
            "11997/11997 [==============================] - 2s 202us/sample - loss: 0.0031 - acc: 0.8141 - val_loss: 0.0037 - val_acc: 0.8350\n",
            "Epoch 29/50\n",
            "11997/11997 [==============================] - 2s 197us/sample - loss: 0.0031 - acc: 0.8141 - val_loss: 0.0037 - val_acc: 0.8350\n",
            "Epoch 30/50\n",
            "11997/11997 [==============================] - 2s 206us/sample - loss: 0.0031 - acc: 0.8141 - val_loss: 0.0037 - val_acc: 0.8350\n",
            "Epoch 31/50\n",
            "11997/11997 [==============================] - 2s 201us/sample - loss: 0.0031 - acc: 0.8141 - val_loss: 0.0037 - val_acc: 0.8350\n",
            "Epoch 32/50\n",
            "11997/11997 [==============================] - 2s 204us/sample - loss: 0.0030 - acc: 0.8141 - val_loss: 0.0038 - val_acc: 0.8350\n",
            "Epoch 33/50\n",
            "11997/11997 [==============================] - 2s 203us/sample - loss: 0.0031 - acc: 0.8141 - val_loss: 0.0037 - val_acc: 0.8350\n",
            "Epoch 34/50\n",
            "11997/11997 [==============================] - 2s 204us/sample - loss: 0.0031 - acc: 0.8141 - val_loss: 0.0037 - val_acc: 0.8350\n",
            "Epoch 35/50\n",
            "11997/11997 [==============================] - 2s 204us/sample - loss: 0.0031 - acc: 0.8141 - val_loss: 0.0037 - val_acc: 0.8350\n",
            "Epoch 36/50\n",
            "11997/11997 [==============================] - 2s 202us/sample - loss: 0.0031 - acc: 0.8141 - val_loss: 0.0037 - val_acc: 0.8350\n",
            "Epoch 37/50\n",
            "11997/11997 [==============================] - 2s 203us/sample - loss: 0.0031 - acc: 0.8141 - val_loss: 0.0037 - val_acc: 0.8350\n",
            "Epoch 38/50\n",
            "11997/11997 [==============================] - 2s 201us/sample - loss: 0.0031 - acc: 0.8141 - val_loss: 0.0037 - val_acc: 0.8350\n",
            "Epoch 39/50\n",
            "11997/11997 [==============================] - 2s 207us/sample - loss: 0.0031 - acc: 0.8141 - val_loss: 0.0037 - val_acc: 0.8350\n",
            "Epoch 40/50\n",
            "11997/11997 [==============================] - 2s 199us/sample - loss: 0.0031 - acc: 0.8141 - val_loss: 0.0038 - val_acc: 0.8350\n",
            "Epoch 41/50\n",
            "11997/11997 [==============================] - 2s 201us/sample - loss: 0.0031 - acc: 0.8141 - val_loss: 0.0038 - val_acc: 0.8350\n",
            "Epoch 42/50\n",
            "11997/11997 [==============================] - 2s 199us/sample - loss: 0.0031 - acc: 0.8141 - val_loss: 0.0037 - val_acc: 0.8350\n",
            "Epoch 43/50\n",
            "11997/11997 [==============================] - 2s 200us/sample - loss: 0.0031 - acc: 0.8141 - val_loss: 0.0037 - val_acc: 0.8350\n",
            "Epoch 44/50\n",
            "11997/11997 [==============================] - 2s 201us/sample - loss: 0.0031 - acc: 0.8141 - val_loss: 0.0037 - val_acc: 0.8350\n",
            "Epoch 45/50\n",
            "11997/11997 [==============================] - 2s 197us/sample - loss: 0.0031 - acc: 0.8141 - val_loss: 0.0037 - val_acc: 0.8350\n",
            "Epoch 46/50\n",
            "11997/11997 [==============================] - 2s 202us/sample - loss: 0.0031 - acc: 0.8141 - val_loss: 0.0037 - val_acc: 0.8350\n",
            "Epoch 47/50\n",
            "11997/11997 [==============================] - 2s 200us/sample - loss: 0.0031 - acc: 0.8141 - val_loss: 0.0037 - val_acc: 0.8350\n",
            "Epoch 48/50\n",
            "11997/11997 [==============================] - 2s 202us/sample - loss: 0.0031 - acc: 0.8141 - val_loss: 0.0038 - val_acc: 0.8350\n",
            "Epoch 49/50\n",
            "11997/11997 [==============================] - 2s 202us/sample - loss: 0.0031 - acc: 0.8141 - val_loss: 0.0037 - val_acc: 0.8350\n",
            "Epoch 50/50\n",
            "11997/11997 [==============================] - 2s 199us/sample - loss: 0.0031 - acc: 0.8141 - val_loss: 0.0038 - val_acc: 0.8350\n"
          ],
          "name": "stdout"
        },
        {
          "output_type": "execute_result",
          "data": {
            "text/plain": [
              "<tensorflow.python.keras.callbacks.History at 0x7fbe8a4197f0>"
            ]
          },
          "metadata": {
            "tags": []
          },
          "execution_count": 290
        }
      ]
    },
    {
      "cell_type": "code",
      "metadata": {
        "id": "jtgC2LPgH7Gj",
        "colab_type": "code",
        "outputId": "0b008697-a073-4ce6-d074-376fef3b94e5",
        "colab": {
          "base_uri": "https://localhost:8080/",
          "height": 50
        }
      },
      "source": [
        "ypred = model.predict(X6)\n",
        "s=pd.DataFrame(ypred)\n",
        "s1=pd.DataFrame(y6)\n",
        "s1.corrwith(s, axis = 0) "
      ],
      "execution_count": 291,
      "outputs": [
        {
          "output_type": "execute_result",
          "data": {
            "text/plain": [
              "0    0.318864\n",
              "dtype: float64"
            ]
          },
          "metadata": {
            "tags": []
          },
          "execution_count": 291
        }
      ]
    },
    {
      "cell_type": "code",
      "metadata": {
        "id": "0pz7S13uMF-1",
        "colab_type": "code",
        "outputId": "fc7293ba-56a7-4975-8dd8-77c8a35611aa",
        "colab": {
          "base_uri": "https://localhost:8080/",
          "height": 34
        }
      },
      "source": [
        "r2_score(y6,ypred)"
      ],
      "execution_count": 292,
      "outputs": [
        {
          "output_type": "execute_result",
          "data": {
            "text/plain": [
              "0.09120817077473364"
            ]
          },
          "metadata": {
            "tags": []
          },
          "execution_count": 292
        }
      ]
    },
    {
      "cell_type": "code",
      "metadata": {
        "id": "YnWGLzXNJMYO",
        "colab_type": "code",
        "outputId": "fa1a9e1c-1909-4e04-c56f-9e09283deb59",
        "colab": {
          "base_uri": "https://localhost:8080/",
          "height": 50
        }
      },
      "source": [
        "ypred1=model.predict(X_test6)\n",
        "s=pd.DataFrame(ypred1)\n",
        "s1=pd.DataFrame(y_test6)\n",
        "s1.corrwith(s,axis=0)"
      ],
      "execution_count": 293,
      "outputs": [
        {
          "output_type": "execute_result",
          "data": {
            "text/plain": [
              "0    0.266599\n",
              "dtype: float64"
            ]
          },
          "metadata": {
            "tags": []
          },
          "execution_count": 293
        }
      ]
    },
    {
      "cell_type": "code",
      "metadata": {
        "id": "G_sfckB5bT_O",
        "colab_type": "code",
        "outputId": "664810be-6c96-419e-d541-5698f5e16df7",
        "colab": {
          "base_uri": "https://localhost:8080/",
          "height": 34
        }
      },
      "source": [
        "mean_absolute_error(y6,ypred)"
      ],
      "execution_count": 294,
      "outputs": [
        {
          "output_type": "execute_result",
          "data": {
            "text/plain": [
              "0.021386706892469253"
            ]
          },
          "metadata": {
            "tags": []
          },
          "execution_count": 294
        }
      ]
    },
    {
      "cell_type": "code",
      "metadata": {
        "id": "UcZfNKSYbXj6",
        "colab_type": "code",
        "outputId": "93ff6bab-f0ec-4b6f-e631-673b956c6a40",
        "colab": {
          "base_uri": "https://localhost:8080/",
          "height": 34
        }
      },
      "source": [
        "mean_absolute_error(y_test6,ypred1)"
      ],
      "execution_count": 295,
      "outputs": [
        {
          "output_type": "execute_result",
          "data": {
            "text/plain": [
              "0.021489462912384946"
            ]
          },
          "metadata": {
            "tags": []
          },
          "execution_count": 295
        }
      ]
    },
    {
      "cell_type": "code",
      "metadata": {
        "id": "vHt09FiPMHsf",
        "colab_type": "code",
        "outputId": "f72c22af-6012-409c-bfbe-6c0f3bdd16c4",
        "colab": {
          "base_uri": "https://localhost:8080/",
          "height": 34
        }
      },
      "source": [
        "r2_score(y_test6,ypred1)"
      ],
      "execution_count": 296,
      "outputs": [
        {
          "output_type": "execute_result",
          "data": {
            "text/plain": [
              "0.0636785559018268"
            ]
          },
          "metadata": {
            "tags": []
          },
          "execution_count": 296
        }
      ]
    },
    {
      "cell_type": "code",
      "metadata": {
        "id": "_2xMz2w5-RYW",
        "colab_type": "code",
        "colab": {
          "base_uri": "https://localhost:8080/",
          "height": 668
        },
        "outputId": "1c1d56ad-f052-43c3-f5a3-5c9b2abd932d"
      },
      "source": [
        "plt.plot(y_test6)\n",
        "plt.plot(ypred1)\n",
        "plt.legend(\"Actual\",\"predicted\")\n",
        "plt.show()"
      ],
      "execution_count": 297,
      "outputs": [
        {
          "output_type": "stream",
          "text": [
            "/usr/local/lib/python3.6/dist-packages/ipykernel_launcher.py:3: UserWarning: Legend does not support 'A' instances.\n",
            "A proxy artist may be used instead.\n",
            "See: http://matplotlib.org/users/legend_guide.html#creating-artists-specifically-for-adding-to-the-legend-aka-proxy-artists\n",
            "  This is separate from the ipykernel package so we can avoid doing imports until\n",
            "/usr/local/lib/python3.6/dist-packages/ipykernel_launcher.py:3: UserWarning: Legend does not support 'c' instances.\n",
            "A proxy artist may be used instead.\n",
            "See: http://matplotlib.org/users/legend_guide.html#creating-artists-specifically-for-adding-to-the-legend-aka-proxy-artists\n",
            "  This is separate from the ipykernel package so we can avoid doing imports until\n",
            "/usr/local/lib/python3.6/dist-packages/ipykernel_launcher.py:3: UserWarning: Legend does not support 't' instances.\n",
            "A proxy artist may be used instead.\n",
            "See: http://matplotlib.org/users/legend_guide.html#creating-artists-specifically-for-adding-to-the-legend-aka-proxy-artists\n",
            "  This is separate from the ipykernel package so we can avoid doing imports until\n",
            "/usr/local/lib/python3.6/dist-packages/ipykernel_launcher.py:3: UserWarning: Legend does not support 'u' instances.\n",
            "A proxy artist may be used instead.\n",
            "See: http://matplotlib.org/users/legend_guide.html#creating-artists-specifically-for-adding-to-the-legend-aka-proxy-artists\n",
            "  This is separate from the ipykernel package so we can avoid doing imports until\n",
            "/usr/local/lib/python3.6/dist-packages/ipykernel_launcher.py:3: UserWarning: Legend does not support 'a' instances.\n",
            "A proxy artist may be used instead.\n",
            "See: http://matplotlib.org/users/legend_guide.html#creating-artists-specifically-for-adding-to-the-legend-aka-proxy-artists\n",
            "  This is separate from the ipykernel package so we can avoid doing imports until\n",
            "/usr/local/lib/python3.6/dist-packages/ipykernel_launcher.py:3: UserWarning: Legend does not support 'l' instances.\n",
            "A proxy artist may be used instead.\n",
            "See: http://matplotlib.org/users/legend_guide.html#creating-artists-specifically-for-adding-to-the-legend-aka-proxy-artists\n",
            "  This is separate from the ipykernel package so we can avoid doing imports until\n"
          ],
          "name": "stderr"
        },
        {
          "output_type": "display_data",
          "data": {
            "image/png": "[encoded data removed]",
            "text/plain": [
              "<Figure size 432x288 with 1 Axes>"
            ]
          },
          "metadata": {
            "tags": []
          }
        }
      ]
    },
    {
      "cell_type": "code",
      "metadata": {
        "id": "_-mTty8bAIzx",
        "colab_type": "code",
        "colab": {}
      },
      "source": [
        "model = keras.Sequential()\n",
        "model.add(keras.layers.LSTM(100, activation='relu', input_shape=(n_steps, 1)))\n",
        "model.add(keras.layers.Dense(1))\n",
        "model.compile(optimizer='adam', loss='mse',metrics=['accuracy'])"
      ],
      "execution_count": 0,
      "outputs": []
    },
    {
      "cell_type": "code",
      "metadata": {
        "id": "GMeE8OZ5tN17",
        "colab_type": "code",
        "outputId": "84a9de64-7994-41a3-ef32-070576c68d63",
        "colab": {
          "base_uri": "https://localhost:8080/",
          "height": 1000
        }
      },
      "source": [
        "model.fit(X7, y7, validation_data=(X_test7,y_test7),epochs=50)"
      ],
      "execution_count": 300,
      "outputs": [
        {
          "output_type": "stream",
          "text": [
            "Train on 11997 samples, validate on 3702 samples\n",
            "Epoch 1/50\n",
            "11997/11997 [==============================] - 5s 377us/sample - loss: 0.0036 - acc: 0.8333 - val_loss: 0.0028 - val_acc: 0.8293\n",
            "Epoch 2/50\n",
            "11997/11997 [==============================] - 2s 204us/sample - loss: 0.0035 - acc: 0.8333 - val_loss: 0.0027 - val_acc: 0.8293\n",
            "Epoch 3/50\n",
            "11997/11997 [==============================] - 2s 203us/sample - loss: 0.0035 - acc: 0.8333 - val_loss: 0.0027 - val_acc: 0.8293\n",
            "Epoch 4/50\n",
            "11997/11997 [==============================] - 2s 202us/sample - loss: 0.0035 - acc: 0.8333 - val_loss: 0.0027 - val_acc: 0.8293\n",
            "Epoch 5/50\n",
            "11997/11997 [==============================] - 2s 201us/sample - loss: 0.0035 - acc: 0.8333 - val_loss: 0.0028 - val_acc: 0.8293\n",
            "Epoch 6/50\n",
            "11997/11997 [==============================] - 2s 201us/sample - loss: 0.0035 - acc: 0.8333 - val_loss: 0.0027 - val_acc: 0.8293\n",
            "Epoch 7/50\n",
            "11997/11997 [==============================] - 2s 205us/sample - loss: 0.0035 - acc: 0.8333 - val_loss: 0.0027 - val_acc: 0.8293\n",
            "Epoch 8/50\n",
            "11997/11997 [==============================] - 2s 205us/sample - loss: 0.0035 - acc: 0.8333 - val_loss: 0.0027 - val_acc: 0.8293\n",
            "Epoch 9/50\n",
            "11997/11997 [==============================] - 2s 202us/sample - loss: 0.0035 - acc: 0.8333 - val_loss: 0.0027 - val_acc: 0.8293\n",
            "Epoch 10/50\n",
            "11997/11997 [==============================] - 3s 209us/sample - loss: 0.0034 - acc: 0.8333 - val_loss: 0.0026 - val_acc: 0.8293\n",
            "Epoch 11/50\n",
            "11997/11997 [==============================] - 2s 203us/sample - loss: 0.0034 - acc: 0.8333 - val_loss: 0.0026 - val_acc: 0.8293\n",
            "Epoch 12/50\n",
            "11997/11997 [==============================] - 2s 205us/sample - loss: 0.0034 - acc: 0.8333 - val_loss: 0.0027 - val_acc: 0.8293\n",
            "Epoch 13/50\n",
            "11997/11997 [==============================] - 2s 204us/sample - loss: 0.0034 - acc: 0.8333 - val_loss: 0.0026 - val_acc: 0.8293\n",
            "Epoch 14/50\n",
            "11997/11997 [==============================] - 2s 208us/sample - loss: 0.0034 - acc: 0.8333 - val_loss: 0.0027 - val_acc: 0.8293\n",
            "Epoch 15/50\n",
            "11997/11997 [==============================] - 2s 206us/sample - loss: 0.0034 - acc: 0.8333 - val_loss: 0.0027 - val_acc: 0.8293\n",
            "Epoch 16/50\n",
            "11997/11997 [==============================] - 3s 214us/sample - loss: 0.0034 - acc: 0.8333 - val_loss: 0.0027 - val_acc: 0.8293\n",
            "Epoch 17/50\n",
            "11997/11997 [==============================] - 3s 211us/sample - loss: 0.0034 - acc: 0.8333 - val_loss: 0.0026 - val_acc: 0.8293\n",
            "Epoch 18/50\n",
            "11997/11997 [==============================] - 3s 209us/sample - loss: 0.0034 - acc: 0.8333 - val_loss: 0.0027 - val_acc: 0.8293\n",
            "Epoch 19/50\n",
            "11997/11997 [==============================] - 2s 204us/sample - loss: 0.0034 - acc: 0.8333 - val_loss: 0.0027 - val_acc: 0.8293\n",
            "Epoch 20/50\n",
            "11997/11997 [==============================] - 3s 210us/sample - loss: 0.0034 - acc: 0.8333 - val_loss: 0.0026 - val_acc: 0.8293\n",
            "Epoch 21/50\n",
            "11997/11997 [==============================] - 2s 206us/sample - loss: 0.0034 - acc: 0.8333 - val_loss: 0.0027 - val_acc: 0.8293\n",
            "Epoch 22/50\n",
            "11997/11997 [==============================] - 3s 220us/sample - loss: 0.0034 - acc: 0.8333 - val_loss: 0.0026 - val_acc: 0.8293\n",
            "Epoch 23/50\n",
            "11997/11997 [==============================] - 2s 207us/sample - loss: 0.0034 - acc: 0.8333 - val_loss: 0.0027 - val_acc: 0.8293\n",
            "Epoch 24/50\n",
            "11997/11997 [==============================] - 2s 206us/sample - loss: 0.0034 - acc: 0.8333 - val_loss: 0.0027 - val_acc: 0.8293\n",
            "Epoch 25/50\n",
            "11997/11997 [==============================] - 2s 205us/sample - loss: 0.0034 - acc: 0.8333 - val_loss: 0.0027 - val_acc: 0.8293\n",
            "Epoch 26/50\n",
            "11997/11997 [==============================] - 3s 211us/sample - loss: 0.0034 - acc: 0.8333 - val_loss: 0.0026 - val_acc: 0.8293\n",
            "Epoch 27/50\n",
            "11997/11997 [==============================] - 3s 221us/sample - loss: 0.0034 - acc: 0.8333 - val_loss: 0.0027 - val_acc: 0.8293\n",
            "Epoch 28/50\n",
            "11997/11997 [==============================] - 3s 211us/sample - loss: 0.0034 - acc: 0.8333 - val_loss: 0.0027 - val_acc: 0.8293\n",
            "Epoch 29/50\n",
            "11997/11997 [==============================] - 3s 212us/sample - loss: 0.0034 - acc: 0.8333 - val_loss: 0.0027 - val_acc: 0.8293\n",
            "Epoch 30/50\n",
            "11997/11997 [==============================] - 3s 209us/sample - loss: 0.0034 - acc: 0.8333 - val_loss: 0.0027 - val_acc: 0.8293\n",
            "Epoch 31/50\n",
            "11997/11997 [==============================] - 3s 223us/sample - loss: 0.0034 - acc: 0.8333 - val_loss: 0.0027 - val_acc: 0.8293\n",
            "Epoch 32/50\n",
            "11997/11997 [==============================] - 3s 223us/sample - loss: 0.0034 - acc: 0.8333 - val_loss: 0.0027 - val_acc: 0.8293\n",
            "Epoch 33/50\n",
            "11997/11997 [==============================] - 3s 224us/sample - loss: 0.0034 - acc: 0.8333 - val_loss: 0.0027 - val_acc: 0.8293\n",
            "Epoch 34/50\n",
            "11997/11997 [==============================] - 3s 224us/sample - loss: 0.0034 - acc: 0.8333 - val_loss: 0.0027 - val_acc: 0.8293\n",
            "Epoch 35/50\n",
            "11997/11997 [==============================] - 3s 221us/sample - loss: 0.0034 - acc: 0.8333 - val_loss: 0.0027 - val_acc: 0.8293\n",
            "Epoch 36/50\n",
            "11997/11997 [==============================] - 3s 217us/sample - loss: 0.0034 - acc: 0.8333 - val_loss: 0.0027 - val_acc: 0.8293\n",
            "Epoch 37/50\n",
            "11997/11997 [==============================] - 3s 221us/sample - loss: 0.0034 - acc: 0.8333 - val_loss: 0.0027 - val_acc: 0.8293\n",
            "Epoch 38/50\n",
            "11997/11997 [==============================] - 3s 225us/sample - loss: 0.0034 - acc: 0.8333 - val_loss: 0.0027 - val_acc: 0.8293\n",
            "Epoch 39/50\n",
            "11997/11997 [==============================] - 3s 224us/sample - loss: 0.0034 - acc: 0.8333 - val_loss: 0.0027 - val_acc: 0.8293\n",
            "Epoch 40/50\n",
            "11997/11997 [==============================] - 3s 219us/sample - loss: 0.0034 - acc: 0.8333 - val_loss: 0.0027 - val_acc: 0.8293\n",
            "Epoch 41/50\n",
            "11997/11997 [==============================] - 3s 224us/sample - loss: 0.0034 - acc: 0.8333 - val_loss: 0.0027 - val_acc: 0.8293\n",
            "Epoch 42/50\n",
            "11997/11997 [==============================] - 3s 224us/sample - loss: 0.0034 - acc: 0.8333 - val_loss: 0.0027 - val_acc: 0.8293\n",
            "Epoch 43/50\n",
            "11997/11997 [==============================] - 3s 220us/sample - loss: 0.0034 - acc: 0.8333 - val_loss: 0.0027 - val_acc: 0.8293\n",
            "Epoch 44/50\n",
            "11997/11997 [==============================] - 3s 226us/sample - loss: 0.0034 - acc: 0.8333 - val_loss: 0.0027 - val_acc: 0.8293\n",
            "Epoch 45/50\n",
            "11997/11997 [==============================] - 3s 231us/sample - loss: 0.0034 - acc: 0.8333 - val_loss: 0.0028 - val_acc: 0.8293\n",
            "Epoch 46/50\n",
            "11997/11997 [==============================] - 3s 226us/sample - loss: 0.0034 - acc: 0.8333 - val_loss: 0.0027 - val_acc: 0.8293\n",
            "Epoch 47/50\n",
            "11997/11997 [==============================] - 3s 226us/sample - loss: 0.0034 - acc: 0.8333 - val_loss: 0.0028 - val_acc: 0.8293\n",
            "Epoch 48/50\n",
            "11997/11997 [==============================] - 3s 220us/sample - loss: 0.0034 - acc: 0.8333 - val_loss: 0.0027 - val_acc: 0.8293\n",
            "Epoch 49/50\n",
            "11997/11997 [==============================] - 3s 227us/sample - loss: 0.0034 - acc: 0.8333 - val_loss: 0.0028 - val_acc: 0.8293\n",
            "Epoch 50/50\n",
            "11997/11997 [==============================] - 3s 222us/sample - loss: 0.0034 - acc: 0.8333 - val_loss: 0.0027 - val_acc: 0.8293\n"
          ],
          "name": "stdout"
        },
        {
          "output_type": "execute_result",
          "data": {
            "text/plain": [
              "<tensorflow.python.keras.callbacks.History at 0x7fbe893ea860>"
            ]
          },
          "metadata": {
            "tags": []
          },
          "execution_count": 300
        }
      ]
    },
    {
      "cell_type": "code",
      "metadata": {
        "id": "HgPagHEqH8-M",
        "colab_type": "code",
        "outputId": "f5fa4a12-b1a3-4893-8e4b-b7dec78d45d1",
        "colab": {
          "base_uri": "https://localhost:8080/",
          "height": 50
        }
      },
      "source": [
        "ypred = model.predict(X7)\n",
        "s=pd.DataFrame(ypred)\n",
        "s1=pd.DataFrame(y7)\n",
        "s1.corrwith(s, axis = 0) "
      ],
      "execution_count": 301,
      "outputs": [
        {
          "output_type": "execute_result",
          "data": {
            "text/plain": [
              "0    0.348241\n",
              "dtype: float64"
            ]
          },
          "metadata": {
            "tags": []
          },
          "execution_count": 301
        }
      ]
    },
    {
      "cell_type": "code",
      "metadata": {
        "id": "H6a79eEsL-Bp",
        "colab_type": "code",
        "outputId": "a2d77bcd-ba6d-49d9-a6b4-756f400dd540",
        "colab": {
          "base_uri": "https://localhost:8080/",
          "height": 34
        }
      },
      "source": [
        "r2_score(y7,ypred)"
      ],
      "execution_count": 302,
      "outputs": [
        {
          "output_type": "execute_result",
          "data": {
            "text/plain": [
              "0.11971364923016747"
            ]
          },
          "metadata": {
            "tags": []
          },
          "execution_count": 302
        }
      ]
    },
    {
      "cell_type": "code",
      "metadata": {
        "id": "wcKAsBAdJNw0",
        "colab_type": "code",
        "outputId": "a7d5865a-0f43-4130-f481-568dd1f3e4ab",
        "colab": {
          "base_uri": "https://localhost:8080/",
          "height": 50
        }
      },
      "source": [
        "ypred1=model.predict(X_test7)\n",
        "s=pd.DataFrame(ypred1)\n",
        "s1=pd.DataFrame(y_test7)\n",
        "s1.corrwith(s,axis=0)"
      ],
      "execution_count": 303,
      "outputs": [
        {
          "output_type": "execute_result",
          "data": {
            "text/plain": [
              "0    0.191727\n",
              "dtype: float64"
            ]
          },
          "metadata": {
            "tags": []
          },
          "execution_count": 303
        }
      ]
    },
    {
      "cell_type": "code",
      "metadata": {
        "id": "B7lPJIH0MBZQ",
        "colab_type": "code",
        "outputId": "658dcdb7-8371-4a3c-f071-1b516023d3ad",
        "colab": {
          "base_uri": "https://localhost:8080/",
          "height": 34
        }
      },
      "source": [
        "r2_score(y_test7,ypred1)"
      ],
      "execution_count": 304,
      "outputs": [
        {
          "output_type": "execute_result",
          "data": {
            "text/plain": [
              "0.003234366658747656"
            ]
          },
          "metadata": {
            "tags": []
          },
          "execution_count": 304
        }
      ]
    },
    {
      "cell_type": "code",
      "metadata": {
        "id": "hiVfe-7WbeVn",
        "colab_type": "code",
        "outputId": "4b850d79-72fc-4aee-86cf-81e01c1f69f2",
        "colab": {
          "base_uri": "https://localhost:8080/",
          "height": 34
        }
      },
      "source": [
        "mean_absolute_error(y7,ypred)"
      ],
      "execution_count": 305,
      "outputs": [
        {
          "output_type": "execute_result",
          "data": {
            "text/plain": [
              "0.02154161933847987"
            ]
          },
          "metadata": {
            "tags": []
          },
          "execution_count": 305
        }
      ]
    },
    {
      "cell_type": "code",
      "metadata": {
        "id": "yDQLYQrKbjHy",
        "colab_type": "code",
        "outputId": "e3694f29-e2c5-473a-a148-832361ed1d09",
        "colab": {
          "base_uri": "https://localhost:8080/",
          "height": 34
        }
      },
      "source": [
        "mean_absolute_error(y_test7,ypred1)"
      ],
      "execution_count": 306,
      "outputs": [
        {
          "output_type": "execute_result",
          "data": {
            "text/plain": [
              "0.019516059913162218"
            ]
          },
          "metadata": {
            "tags": []
          },
          "execution_count": 306
        }
      ]
    },
    {
      "cell_type": "code",
      "metadata": {
        "id": "5FN1wL5j-Y_K",
        "colab_type": "code",
        "colab": {}
      },
      "source": [
        "ypred1[ypred1<0]=0"
      ],
      "execution_count": 0,
      "outputs": []
    },
    {
      "cell_type": "code",
      "metadata": {
        "id": "t-t6VAJ6-bq8",
        "colab_type": "code",
        "colab": {
          "base_uri": "https://localhost:8080/",
          "height": 668
        },
        "outputId": "0ef0a1ea-d98e-4d76-86c5-a655bb19b44a"
      },
      "source": [
        "plt.plot(y_test7)\n",
        "plt.plot(ypred1)\n",
        "plt.legend(\"Actual\",\"predicted\")\n",
        "plt.show()"
      ],
      "execution_count": 308,
      "outputs": [
        {
          "output_type": "stream",
          "text": [
            "/usr/local/lib/python3.6/dist-packages/ipykernel_launcher.py:3: UserWarning: Legend does not support 'A' instances.\n",
            "A proxy artist may be used instead.\n",
            "See: http://matplotlib.org/users/legend_guide.html#creating-artists-specifically-for-adding-to-the-legend-aka-proxy-artists\n",
            "  This is separate from the ipykernel package so we can avoid doing imports until\n",
            "/usr/local/lib/python3.6/dist-packages/ipykernel_launcher.py:3: UserWarning: Legend does not support 'c' instances.\n",
            "A proxy artist may be used instead.\n",
            "See: http://matplotlib.org/users/legend_guide.html#creating-artists-specifically-for-adding-to-the-legend-aka-proxy-artists\n",
            "  This is separate from the ipykernel package so we can avoid doing imports until\n",
            "/usr/local/lib/python3.6/dist-packages/ipykernel_launcher.py:3: UserWarning: Legend does not support 't' instances.\n",
            "A proxy artist may be used instead.\n",
            "See: http://matplotlib.org/users/legend_guide.html#creating-artists-specifically-for-adding-to-the-legend-aka-proxy-artists\n",
            "  This is separate from the ipykernel package so we can avoid doing imports until\n",
            "/usr/local/lib/python3.6/dist-packages/ipykernel_launcher.py:3: UserWarning: Legend does not support 'u' instances.\n",
            "A proxy artist may be used instead.\n",
            "See: http://matplotlib.org/users/legend_guide.html#creating-artists-specifically-for-adding-to-the-legend-aka-proxy-artists\n",
            "  This is separate from the ipykernel package so we can avoid doing imports until\n",
            "/usr/local/lib/python3.6/dist-packages/ipykernel_launcher.py:3: UserWarning: Legend does not support 'a' instances.\n",
            "A proxy artist may be used instead.\n",
            "See: http://matplotlib.org/users/legend_guide.html#creating-artists-specifically-for-adding-to-the-legend-aka-proxy-artists\n",
            "  This is separate from the ipykernel package so we can avoid doing imports until\n",
            "/usr/local/lib/python3.6/dist-packages/ipykernel_launcher.py:3: UserWarning: Legend does not support 'l' instances.\n",
            "A proxy artist may be used instead.\n",
            "See: http://matplotlib.org/users/legend_guide.html#creating-artists-specifically-for-adding-to-the-legend-aka-proxy-artists\n",
            "  This is separate from the ipykernel package so we can avoid doing imports until\n"
          ],
          "name": "stderr"
        },
        {
          "output_type": "display_data",
          "data": {
            "image/png": "[encoded data removed]",
            "text/plain": [
              "<Figure size 432x288 with 1 Axes>"
            ]
          },
          "metadata": {
            "tags": []
          }
        }
      ]
    },
    {
      "cell_type": "code",
      "metadata": {
        "id": "cw0IV_ERALCY",
        "colab_type": "code",
        "colab": {}
      },
      "source": [
        "model = keras.Sequential()\n",
        "model.add(keras.layers.LSTM(100, activation='relu', input_shape=(n_steps, 1)))\n",
        "model.add(keras.layers.Dense(1))\n",
        "model.compile(optimizer='adam', loss='mse',metrics=['accuracy'])"
      ],
      "execution_count": 0,
      "outputs": []
    },
    {
      "cell_type": "code",
      "metadata": {
        "id": "9Oi8Ac5UtOAC",
        "colab_type": "code",
        "outputId": "c54da721-8a04-40d9-c970-452fe6c3d096",
        "colab": {
          "base_uri": "https://localhost:8080/",
          "height": 1000
        }
      },
      "source": [
        "model.fit(X8, y8, validation_data=(X_test8,y_test8),epochs=50)"
      ],
      "execution_count": 310,
      "outputs": [
        {
          "output_type": "stream",
          "text": [
            "Train on 11997 samples, validate on 3162 samples\n",
            "Epoch 1/50\n",
            "11997/11997 [==============================] - 5s 427us/sample - loss: 0.0037 - acc: 0.8384 - val_loss: 0.0039 - val_acc: 0.8447\n",
            "Epoch 2/50\n",
            "11997/11997 [==============================] - 3s 224us/sample - loss: 0.0037 - acc: 0.8384 - val_loss: 0.0039 - val_acc: 0.8447\n",
            "Epoch 3/50\n",
            "11997/11997 [==============================] - 3s 225us/sample - loss: 0.0037 - acc: 0.8384 - val_loss: 0.0039 - val_acc: 0.8447\n",
            "Epoch 4/50\n",
            "11997/11997 [==============================] - 3s 227us/sample - loss: 0.0036 - acc: 0.8384 - val_loss: 0.0039 - val_acc: 0.8447\n",
            "Epoch 5/50\n",
            "11997/11997 [==============================] - 3s 234us/sample - loss: 0.0036 - acc: 0.8384 - val_loss: 0.0039 - val_acc: 0.8447\n",
            "Epoch 6/50\n",
            "11997/11997 [==============================] - 3s 232us/sample - loss: 0.0036 - acc: 0.8384 - val_loss: 0.0039 - val_acc: 0.8447\n",
            "Epoch 7/50\n",
            "11997/11997 [==============================] - 3s 235us/sample - loss: 0.0036 - acc: 0.8384 - val_loss: 0.0039 - val_acc: 0.8447\n",
            "Epoch 8/50\n",
            "11997/11997 [==============================] - 3s 228us/sample - loss: 0.0036 - acc: 0.8384 - val_loss: 0.0039 - val_acc: 0.8447\n",
            "Epoch 9/50\n",
            "11997/11997 [==============================] - 3s 229us/sample - loss: 0.0036 - acc: 0.8384 - val_loss: 0.0039 - val_acc: 0.8447\n",
            "Epoch 10/50\n",
            "11997/11997 [==============================] - 3s 235us/sample - loss: 0.0036 - acc: 0.8384 - val_loss: 0.0038 - val_acc: 0.8447\n",
            "Epoch 11/50\n",
            "11997/11997 [==============================] - 3s 225us/sample - loss: 0.0036 - acc: 0.8384 - val_loss: 0.0039 - val_acc: 0.8447\n",
            "Epoch 12/50\n",
            "11997/11997 [==============================] - 3s 231us/sample - loss: 0.0036 - acc: 0.8384 - val_loss: 0.0039 - val_acc: 0.8447\n",
            "Epoch 13/50\n",
            "11997/11997 [==============================] - 3s 237us/sample - loss: 0.0036 - acc: 0.8384 - val_loss: 0.0039 - val_acc: 0.8447\n",
            "Epoch 14/50\n",
            "11997/11997 [==============================] - 3s 233us/sample - loss: 0.0036 - acc: 0.8384 - val_loss: 0.0039 - val_acc: 0.8447\n",
            "Epoch 15/50\n",
            "11997/11997 [==============================] - 3s 224us/sample - loss: 0.0036 - acc: 0.8384 - val_loss: 0.0039 - val_acc: 0.8447\n",
            "Epoch 16/50\n",
            "11997/11997 [==============================] - 3s 230us/sample - loss: 0.0036 - acc: 0.8384 - val_loss: 0.0039 - val_acc: 0.8447\n",
            "Epoch 17/50\n",
            "11997/11997 [==============================] - 3s 232us/sample - loss: 0.0036 - acc: 0.8384 - val_loss: 0.0039 - val_acc: 0.8447\n",
            "Epoch 18/50\n",
            "11997/11997 [==============================] - 3s 225us/sample - loss: 0.0036 - acc: 0.8384 - val_loss: 0.0038 - val_acc: 0.8447\n",
            "Epoch 19/50\n",
            "11997/11997 [==============================] - 3s 225us/sample - loss: 0.0036 - acc: 0.8384 - val_loss: 0.0038 - val_acc: 0.8447\n",
            "Epoch 20/50\n",
            "11997/11997 [==============================] - 3s 230us/sample - loss: 0.0036 - acc: 0.8384 - val_loss: 0.0038 - val_acc: 0.8447\n",
            "Epoch 21/50\n",
            "11997/11997 [==============================] - 3s 227us/sample - loss: 0.0036 - acc: 0.8384 - val_loss: 0.0038 - val_acc: 0.8447\n",
            "Epoch 22/50\n",
            "11997/11997 [==============================] - 3s 226us/sample - loss: 0.0036 - acc: 0.8384 - val_loss: 0.0039 - val_acc: 0.8447\n",
            "Epoch 23/50\n",
            "11997/11997 [==============================] - 3s 227us/sample - loss: 0.0036 - acc: 0.8384 - val_loss: 0.0039 - val_acc: 0.8447\n",
            "Epoch 24/50\n",
            "11997/11997 [==============================] - 3s 235us/sample - loss: 0.0036 - acc: 0.8384 - val_loss: 0.0039 - val_acc: 0.8447\n",
            "Epoch 25/50\n",
            "11997/11997 [==============================] - 3s 243us/sample - loss: 0.0036 - acc: 0.8384 - val_loss: 0.0038 - val_acc: 0.8447\n",
            "Epoch 26/50\n",
            "11997/11997 [==============================] - 3s 247us/sample - loss: 0.0036 - acc: 0.8384 - val_loss: 0.0038 - val_acc: 0.8447\n",
            "Epoch 27/50\n",
            "11997/11997 [==============================] - 3s 245us/sample - loss: 0.0036 - acc: 0.8384 - val_loss: 0.0038 - val_acc: 0.8447\n",
            "Epoch 28/50\n",
            "11997/11997 [==============================] - 3s 229us/sample - loss: 0.0036 - acc: 0.8384 - val_loss: 0.0039 - val_acc: 0.8447\n",
            "Epoch 29/50\n",
            "11997/11997 [==============================] - 3s 224us/sample - loss: 0.0036 - acc: 0.8384 - val_loss: 0.0039 - val_acc: 0.8447\n",
            "Epoch 30/50\n",
            "11997/11997 [==============================] - 3s 228us/sample - loss: 0.0036 - acc: 0.8384 - val_loss: 0.0039 - val_acc: 0.8447\n",
            "Epoch 31/50\n",
            "11997/11997 [==============================] - 3s 227us/sample - loss: 0.0036 - acc: 0.8384 - val_loss: 0.0038 - val_acc: 0.8447\n",
            "Epoch 32/50\n",
            "11997/11997 [==============================] - 3s 225us/sample - loss: 0.0036 - acc: 0.8384 - val_loss: 0.0039 - val_acc: 0.8447\n",
            "Epoch 33/50\n",
            "11997/11997 [==============================] - 3s 229us/sample - loss: 0.0036 - acc: 0.8384 - val_loss: 0.0039 - val_acc: 0.8447\n",
            "Epoch 34/50\n",
            "11997/11997 [==============================] - 3s 231us/sample - loss: 0.0036 - acc: 0.8384 - val_loss: 0.0039 - val_acc: 0.8447\n",
            "Epoch 35/50\n",
            "11997/11997 [==============================] - 3s 241us/sample - loss: 0.0036 - acc: 0.8384 - val_loss: 0.0038 - val_acc: 0.8447\n",
            "Epoch 36/50\n",
            "11997/11997 [==============================] - 3s 231us/sample - loss: 0.0036 - acc: 0.8384 - val_loss: 0.0038 - val_acc: 0.8447\n",
            "Epoch 37/50\n",
            "11997/11997 [==============================] - 3s 232us/sample - loss: 0.0036 - acc: 0.8384 - val_loss: 0.0039 - val_acc: 0.8447\n",
            "Epoch 38/50\n",
            "11997/11997 [==============================] - 3s 227us/sample - loss: 0.0036 - acc: 0.8384 - val_loss: 0.0039 - val_acc: 0.8447\n",
            "Epoch 39/50\n",
            "11997/11997 [==============================] - 3s 211us/sample - loss: 0.0036 - acc: 0.8384 - val_loss: 0.0039 - val_acc: 0.8447\n",
            "Epoch 40/50\n",
            "11997/11997 [==============================] - 3s 211us/sample - loss: 0.0036 - acc: 0.8384 - val_loss: 0.0039 - val_acc: 0.8447\n",
            "Epoch 41/50\n",
            "11997/11997 [==============================] - 3s 209us/sample - loss: 0.0036 - acc: 0.8384 - val_loss: 0.0038 - val_acc: 0.8447\n",
            "Epoch 42/50\n",
            "11997/11997 [==============================] - 3s 214us/sample - loss: 0.0036 - acc: 0.8384 - val_loss: 0.0039 - val_acc: 0.8447\n",
            "Epoch 43/50\n",
            "11997/11997 [==============================] - 3s 216us/sample - loss: 0.0036 - acc: 0.8384 - val_loss: 0.0039 - val_acc: 0.8447\n",
            "Epoch 44/50\n",
            "11997/11997 [==============================] - 3s 214us/sample - loss: 0.0036 - acc: 0.8384 - val_loss: 0.0039 - val_acc: 0.8447\n",
            "Epoch 45/50\n",
            "11997/11997 [==============================] - 3s 209us/sample - loss: 0.0036 - acc: 0.8384 - val_loss: 0.0039 - val_acc: 0.8447\n",
            "Epoch 46/50\n",
            "11997/11997 [==============================] - 3s 210us/sample - loss: 0.0036 - acc: 0.8384 - val_loss: 0.0038 - val_acc: 0.8447\n",
            "Epoch 47/50\n",
            "11997/11997 [==============================] - 3s 213us/sample - loss: 0.0036 - acc: 0.8384 - val_loss: 0.0039 - val_acc: 0.8447\n",
            "Epoch 48/50\n",
            "11997/11997 [==============================] - 3s 215us/sample - loss: 0.0036 - acc: 0.8384 - val_loss: 0.0039 - val_acc: 0.8447\n",
            "Epoch 49/50\n",
            "11997/11997 [==============================] - 3s 212us/sample - loss: 0.0036 - acc: 0.8384 - val_loss: 0.0039 - val_acc: 0.8447\n",
            "Epoch 50/50\n",
            "11997/11997 [==============================] - 3s 212us/sample - loss: 0.0036 - acc: 0.8384 - val_loss: 0.0038 - val_acc: 0.8447\n"
          ],
          "name": "stdout"
        },
        {
          "output_type": "execute_result",
          "data": {
            "text/plain": [
              "<tensorflow.python.keras.callbacks.History at 0x7fbe88ff90b8>"
            ]
          },
          "metadata": {
            "tags": []
          },
          "execution_count": 310
        }
      ]
    },
    {
      "cell_type": "code",
      "metadata": {
        "id": "eMLxjFOLH-PS",
        "colab_type": "code",
        "outputId": "a7c67f18-27ab-4a1a-ef90-0054bb1670b6",
        "colab": {
          "base_uri": "https://localhost:8080/",
          "height": 50
        }
      },
      "source": [
        "ypred = model.predict(X8)\n",
        "s=pd.DataFrame(ypred)\n",
        "s1=pd.DataFrame(y8)\n",
        "s1.corrwith(s, axis = 0) "
      ],
      "execution_count": 311,
      "outputs": [
        {
          "output_type": "execute_result",
          "data": {
            "text/plain": [
              "0    0.310832\n",
              "dtype: float64"
            ]
          },
          "metadata": {
            "tags": []
          },
          "execution_count": 311
        }
      ]
    },
    {
      "cell_type": "code",
      "metadata": {
        "id": "BmVt8ALiL4ae",
        "colab_type": "code",
        "outputId": "c8874cb2-fee7-4afb-ff20-7a1bd78c24d7",
        "colab": {
          "base_uri": "https://localhost:8080/",
          "height": 34
        }
      },
      "source": [
        "r2_score(y8,ypred)"
      ],
      "execution_count": 312,
      "outputs": [
        {
          "output_type": "execute_result",
          "data": {
            "text/plain": [
              "0.09605503067024079"
            ]
          },
          "metadata": {
            "tags": []
          },
          "execution_count": 312
        }
      ]
    },
    {
      "cell_type": "code",
      "metadata": {
        "id": "ysPaeNMUJP6D",
        "colab_type": "code",
        "outputId": "9e88dbab-a347-4ffa-b38a-80e08c07ed35",
        "colab": {
          "base_uri": "https://localhost:8080/",
          "height": 50
        }
      },
      "source": [
        "ypred1=model.predict(X_test8)\n",
        "s=pd.DataFrame(ypred1)\n",
        "s1=pd.DataFrame(y_test8)\n",
        "s1.corrwith(s,axis=0)"
      ],
      "execution_count": 313,
      "outputs": [
        {
          "output_type": "execute_result",
          "data": {
            "text/plain": [
              "0    0.247525\n",
              "dtype: float64"
            ]
          },
          "metadata": {
            "tags": []
          },
          "execution_count": 313
        }
      ]
    },
    {
      "cell_type": "code",
      "metadata": {
        "id": "f7bVrtCdbq_p",
        "colab_type": "code",
        "outputId": "ea2bbaa7-a201-47d2-e6b4-cc57c9d37e88",
        "colab": {
          "base_uri": "https://localhost:8080/",
          "height": 34
        }
      },
      "source": [
        "mean_absolute_error(y8,ypred)"
      ],
      "execution_count": 314,
      "outputs": [
        {
          "output_type": "execute_result",
          "data": {
            "text/plain": [
              "0.024921469855087277"
            ]
          },
          "metadata": {
            "tags": []
          },
          "execution_count": 314
        }
      ]
    },
    {
      "cell_type": "code",
      "metadata": {
        "id": "Bdk4ywxAbsZF",
        "colab_type": "code",
        "outputId": "f96e488a-63c1-4b9c-aeaa-6d1b6f15eaa5",
        "colab": {
          "base_uri": "https://localhost:8080/",
          "height": 34
        }
      },
      "source": [
        "mean_absolute_error(y_test8,ypred1)"
      ],
      "execution_count": 315,
      "outputs": [
        {
          "output_type": "execute_result",
          "data": {
            "text/plain": [
              "0.0256276205361213"
            ]
          },
          "metadata": {
            "tags": []
          },
          "execution_count": 315
        }
      ]
    },
    {
      "cell_type": "code",
      "metadata": {
        "id": "VdoqG1uCL6Up",
        "colab_type": "code",
        "outputId": "38235499-c3bd-4d97-8b09-7fc950d3f7d8",
        "colab": {
          "base_uri": "https://localhost:8080/",
          "height": 34
        }
      },
      "source": [
        "r2_score(y_test8,ypred1)"
      ],
      "execution_count": 316,
      "outputs": [
        {
          "output_type": "execute_result",
          "data": {
            "text/plain": [
              "0.060220203567069364"
            ]
          },
          "metadata": {
            "tags": []
          },
          "execution_count": 316
        }
      ]
    },
    {
      "cell_type": "code",
      "metadata": {
        "id": "9FG2LyYR-hpI",
        "colab_type": "code",
        "colab": {}
      },
      "source": [
        "ypred1[ypred1<0]=0"
      ],
      "execution_count": 0,
      "outputs": []
    },
    {
      "cell_type": "code",
      "metadata": {
        "id": "cix6MRc8-kSQ",
        "colab_type": "code",
        "colab": {
          "base_uri": "https://localhost:8080/",
          "height": 668
        },
        "outputId": "66d5d03a-851b-4dfc-b427-e4645aafa0bf"
      },
      "source": [
        "plt.plot(y_test8)\n",
        "plt.plot(ypred1)\n",
        "plt.legend(\"Actual\",\"predicted\")\n",
        "plt.show()"
      ],
      "execution_count": 318,
      "outputs": [
        {
          "output_type": "stream",
          "text": [
            "/usr/local/lib/python3.6/dist-packages/ipykernel_launcher.py:3: UserWarning: Legend does not support 'A' instances.\n",
            "A proxy artist may be used instead.\n",
            "See: http://matplotlib.org/users/legend_guide.html#creating-artists-specifically-for-adding-to-the-legend-aka-proxy-artists\n",
            "  This is separate from the ipykernel package so we can avoid doing imports until\n",
            "/usr/local/lib/python3.6/dist-packages/ipykernel_launcher.py:3: UserWarning: Legend does not support 'c' instances.\n",
            "A proxy artist may be used instead.\n",
            "See: http://matplotlib.org/users/legend_guide.html#creating-artists-specifically-for-adding-to-the-legend-aka-proxy-artists\n",
            "  This is separate from the ipykernel package so we can avoid doing imports until\n",
            "/usr/local/lib/python3.6/dist-packages/ipykernel_launcher.py:3: UserWarning: Legend does not support 't' instances.\n",
            "A proxy artist may be used instead.\n",
            "See: http://matplotlib.org/users/legend_guide.html#creating-artists-specifically-for-adding-to-the-legend-aka-proxy-artists\n",
            "  This is separate from the ipykernel package so we can avoid doing imports until\n",
            "/usr/local/lib/python3.6/dist-packages/ipykernel_launcher.py:3: UserWarning: Legend does not support 'u' instances.\n",
            "A proxy artist may be used instead.\n",
            "See: http://matplotlib.org/users/legend_guide.html#creating-artists-specifically-for-adding-to-the-legend-aka-proxy-artists\n",
            "  This is separate from the ipykernel package so we can avoid doing imports until\n",
            "/usr/local/lib/python3.6/dist-packages/ipykernel_launcher.py:3: UserWarning: Legend does not support 'a' instances.\n",
            "A proxy artist may be used instead.\n",
            "See: http://matplotlib.org/users/legend_guide.html#creating-artists-specifically-for-adding-to-the-legend-aka-proxy-artists\n",
            "  This is separate from the ipykernel package so we can avoid doing imports until\n",
            "/usr/local/lib/python3.6/dist-packages/ipykernel_launcher.py:3: UserWarning: Legend does not support 'l' instances.\n",
            "A proxy artist may be used instead.\n",
            "See: http://matplotlib.org/users/legend_guide.html#creating-artists-specifically-for-adding-to-the-legend-aka-proxy-artists\n",
            "  This is separate from the ipykernel package so we can avoid doing imports until\n"
          ],
          "name": "stderr"
        },
        {
          "output_type": "display_data",
          "data": {
            "image/png": "[encoded data removed]",
            "text/plain": [
              "<Figure size 432x288 with 1 Axes>"
            ]
          },
          "metadata": {
            "tags": []
          }
        }
      ]
    },
    {
      "cell_type": "code",
      "metadata": {
        "id": "O4qY9b4wASoM",
        "colab_type": "code",
        "colab": {}
      },
      "source": [
        "model = keras.Sequential()\n",
        "model.add(keras.layers.LSTM(100, activation='relu', input_shape=(n_steps, 1)))\n",
        "model.add(keras.layers.Dense(1))\n",
        "model.compile(optimizer='adam', loss='mse',metrics=['accuracy'])"
      ],
      "execution_count": 0,
      "outputs": []
    },
    {
      "cell_type": "code",
      "metadata": {
        "id": "SLn0vU66tOKK",
        "colab_type": "code",
        "outputId": "b32682f0-9bd1-4609-9237-7e993c3e869f",
        "colab": {
          "base_uri": "https://localhost:8080/",
          "height": 1000
        }
      },
      "source": [
        "model.fit(X9, y9, validation_data=(X_test9,y_test9),epochs=50)"
      ],
      "execution_count": 320,
      "outputs": [
        {
          "output_type": "stream",
          "text": [
            "Train on 11997 samples, validate on 3702 samples\n",
            "Epoch 1/50\n",
            "11997/11997 [==============================] - 5s 428us/sample - loss: 3.7858e-04 - acc: 0.8766 - val_loss: 2.7536e-04 - val_acc: 0.8439\n",
            "Epoch 2/50\n",
            "11997/11997 [==============================] - 3s 216us/sample - loss: 3.7191e-04 - acc: 0.8766 - val_loss: 2.8237e-04 - val_acc: 0.8439\n",
            "Epoch 3/50\n",
            "11997/11997 [==============================] - 3s 221us/sample - loss: 3.6964e-04 - acc: 0.8766 - val_loss: 2.8335e-04 - val_acc: 0.8439\n",
            "Epoch 4/50\n",
            "11997/11997 [==============================] - 3s 231us/sample - loss: 3.6743e-04 - acc: 0.8766 - val_loss: 2.7355e-04 - val_acc: 0.8439\n",
            "Epoch 5/50\n",
            "11997/11997 [==============================] - 3s 223us/sample - loss: 3.6723e-04 - acc: 0.8766 - val_loss: 2.7357e-04 - val_acc: 0.8439\n",
            "Epoch 6/50\n",
            "11997/11997 [==============================] - 3s 211us/sample - loss: 3.6509e-04 - acc: 0.8766 - val_loss: 2.7536e-04 - val_acc: 0.8439\n",
            "Epoch 7/50\n",
            "11997/11997 [==============================] - 3s 217us/sample - loss: 3.6332e-04 - acc: 0.8766 - val_loss: 2.7383e-04 - val_acc: 0.8439\n",
            "Epoch 8/50\n",
            "11997/11997 [==============================] - 3s 212us/sample - loss: 3.6184e-04 - acc: 0.8766 - val_loss: 2.8585e-04 - val_acc: 0.8439\n",
            "Epoch 9/50\n",
            "11997/11997 [==============================] - 2s 206us/sample - loss: 3.6012e-04 - acc: 0.8766 - val_loss: 2.7731e-04 - val_acc: 0.8439\n",
            "Epoch 10/50\n",
            "11997/11997 [==============================] - 2s 207us/sample - loss: 3.6043e-04 - acc: 0.8766 - val_loss: 2.7337e-04 - val_acc: 0.8439\n",
            "Epoch 11/50\n",
            "11997/11997 [==============================] - 3s 213us/sample - loss: 3.5997e-04 - acc: 0.8766 - val_loss: 2.7954e-04 - val_acc: 0.8439\n",
            "Epoch 12/50\n",
            "11997/11997 [==============================] - 2s 207us/sample - loss: 3.5984e-04 - acc: 0.8766 - val_loss: 3.0484e-04 - val_acc: 0.8439\n",
            "Epoch 13/50\n",
            "11997/11997 [==============================] - 2s 205us/sample - loss: 3.6075e-04 - acc: 0.8766 - val_loss: 2.8341e-04 - val_acc: 0.8439\n",
            "Epoch 14/50\n",
            "11997/11997 [==============================] - 2s 207us/sample - loss: 3.6010e-04 - acc: 0.8766 - val_loss: 2.7376e-04 - val_acc: 0.8439\n",
            "Epoch 15/50\n",
            "11997/11997 [==============================] - 3s 211us/sample - loss: 3.5990e-04 - acc: 0.8766 - val_loss: 2.7141e-04 - val_acc: 0.8439\n",
            "Epoch 16/50\n",
            "11997/11997 [==============================] - 2s 207us/sample - loss: 3.5816e-04 - acc: 0.8766 - val_loss: 2.7138e-04 - val_acc: 0.8439\n",
            "Epoch 17/50\n",
            "11997/11997 [==============================] - 3s 211us/sample - loss: 3.5902e-04 - acc: 0.8766 - val_loss: 2.7014e-04 - val_acc: 0.8439\n",
            "Epoch 18/50\n",
            "11997/11997 [==============================] - 2s 207us/sample - loss: 3.5845e-04 - acc: 0.8766 - val_loss: 2.7134e-04 - val_acc: 0.8439\n",
            "Epoch 19/50\n",
            "11997/11997 [==============================] - 2s 207us/sample - loss: 3.5809e-04 - acc: 0.8766 - val_loss: 2.7022e-04 - val_acc: 0.8439\n",
            "Epoch 20/50\n",
            "11997/11997 [==============================] - 2s 207us/sample - loss: 3.5855e-04 - acc: 0.8766 - val_loss: 2.7527e-04 - val_acc: 0.8439\n",
            "Epoch 21/50\n",
            "11997/11997 [==============================] - 3s 211us/sample - loss: 3.5724e-04 - acc: 0.8766 - val_loss: 2.7069e-04 - val_acc: 0.8439\n",
            "Epoch 22/50\n",
            "11997/11997 [==============================] - 2s 208us/sample - loss: 3.5699e-04 - acc: 0.8766 - val_loss: 2.7184e-04 - val_acc: 0.8439\n",
            "Epoch 23/50\n",
            "11997/11997 [==============================] - 3s 209us/sample - loss: 3.5716e-04 - acc: 0.8766 - val_loss: 2.7120e-04 - val_acc: 0.8439\n",
            "Epoch 24/50\n",
            "11997/11997 [==============================] - 2s 208us/sample - loss: 3.5843e-04 - acc: 0.8766 - val_loss: 2.9298e-04 - val_acc: 0.8439\n",
            "Epoch 25/50\n",
            "11997/11997 [==============================] - 3s 212us/sample - loss: 3.5883e-04 - acc: 0.8766 - val_loss: 2.7589e-04 - val_acc: 0.8439\n",
            "Epoch 26/50\n",
            "11997/11997 [==============================] - 3s 210us/sample - loss: 3.5767e-04 - acc: 0.8766 - val_loss: 2.7184e-04 - val_acc: 0.8439\n",
            "Epoch 27/50\n",
            "11997/11997 [==============================] - 3s 214us/sample - loss: 3.5665e-04 - acc: 0.8766 - val_loss: 2.7171e-04 - val_acc: 0.8439\n",
            "Epoch 28/50\n",
            "11997/11997 [==============================] - 3s 224us/sample - loss: 3.5668e-04 - acc: 0.8766 - val_loss: 2.7120e-04 - val_acc: 0.8439\n",
            "Epoch 29/50\n",
            "11997/11997 [==============================] - 3s 211us/sample - loss: 3.5850e-04 - acc: 0.8766 - val_loss: 2.7212e-04 - val_acc: 0.8439\n",
            "Epoch 30/50\n",
            "11997/11997 [==============================] - 3s 211us/sample - loss: 3.5803e-04 - acc: 0.8766 - val_loss: 2.7113e-04 - val_acc: 0.8439\n",
            "Epoch 31/50\n",
            "11997/11997 [==============================] - 3s 212us/sample - loss: 3.5694e-04 - acc: 0.8766 - val_loss: 2.7098e-04 - val_acc: 0.8439\n",
            "Epoch 32/50\n",
            "11997/11997 [==============================] - 2s 207us/sample - loss: 3.5699e-04 - acc: 0.8766 - val_loss: 2.7305e-04 - val_acc: 0.8439\n",
            "Epoch 33/50\n",
            "11997/11997 [==============================] - 3s 221us/sample - loss: 3.5734e-04 - acc: 0.8766 - val_loss: 2.7155e-04 - val_acc: 0.8439\n",
            "Epoch 34/50\n",
            "11997/11997 [==============================] - 2s 204us/sample - loss: 3.5720e-04 - acc: 0.8766 - val_loss: 2.7121e-04 - val_acc: 0.8439\n",
            "Epoch 35/50\n",
            "11997/11997 [==============================] - 3s 212us/sample - loss: 3.5726e-04 - acc: 0.8766 - val_loss: 2.7496e-04 - val_acc: 0.8439\n",
            "Epoch 36/50\n",
            "11997/11997 [==============================] - 3s 211us/sample - loss: 3.5616e-04 - acc: 0.8766 - val_loss: 2.7019e-04 - val_acc: 0.8439\n",
            "Epoch 37/50\n",
            "11997/11997 [==============================] - 3s 209us/sample - loss: 3.5797e-04 - acc: 0.8766 - val_loss: 2.8298e-04 - val_acc: 0.8439\n",
            "Epoch 38/50\n",
            "11997/11997 [==============================] - 3s 210us/sample - loss: 3.5582e-04 - acc: 0.8766 - val_loss: 2.9890e-04 - val_acc: 0.8439\n",
            "Epoch 39/50\n",
            "11997/11997 [==============================] - 2s 207us/sample - loss: 3.5683e-04 - acc: 0.8766 - val_loss: 2.7070e-04 - val_acc: 0.8439\n",
            "Epoch 40/50\n",
            "11997/11997 [==============================] - 3s 211us/sample - loss: 3.5635e-04 - acc: 0.8766 - val_loss: 2.7103e-04 - val_acc: 0.8439\n",
            "Epoch 41/50\n",
            "11997/11997 [==============================] - 3s 213us/sample - loss: 3.5589e-04 - acc: 0.8766 - val_loss: 2.7118e-04 - val_acc: 0.8439\n",
            "Epoch 42/50\n",
            "11997/11997 [==============================] - 2s 208us/sample - loss: 3.5537e-04 - acc: 0.8766 - val_loss: 2.8177e-04 - val_acc: 0.8439\n",
            "Epoch 43/50\n",
            "11997/11997 [==============================] - 2s 205us/sample - loss: 3.5649e-04 - acc: 0.8766 - val_loss: 2.7948e-04 - val_acc: 0.8439\n",
            "Epoch 44/50\n",
            "11997/11997 [==============================] - 2s 208us/sample - loss: 3.5683e-04 - acc: 0.8766 - val_loss: 2.7124e-04 - val_acc: 0.8439\n",
            "Epoch 45/50\n",
            "11997/11997 [==============================] - 2s 207us/sample - loss: 3.5620e-04 - acc: 0.8766 - val_loss: 2.7141e-04 - val_acc: 0.8439\n",
            "Epoch 46/50\n",
            "11997/11997 [==============================] - 3s 209us/sample - loss: 3.5599e-04 - acc: 0.8766 - val_loss: 2.7035e-04 - val_acc: 0.8439\n",
            "Epoch 47/50\n",
            "11997/11997 [==============================] - 3s 210us/sample - loss: 3.5560e-04 - acc: 0.8766 - val_loss: 2.7032e-04 - val_acc: 0.8439\n",
            "Epoch 48/50\n",
            "11997/11997 [==============================] - 3s 210us/sample - loss: 3.5607e-04 - acc: 0.8766 - val_loss: 2.7100e-04 - val_acc: 0.8439\n",
            "Epoch 49/50\n",
            "11997/11997 [==============================] - 3s 215us/sample - loss: 3.5633e-04 - acc: 0.8766 - val_loss: 2.7144e-04 - val_acc: 0.8439\n",
            "Epoch 50/50\n",
            "11997/11997 [==============================] - 3s 209us/sample - loss: 3.5589e-04 - acc: 0.8766 - val_loss: 2.7311e-04 - val_acc: 0.8439\n"
          ],
          "name": "stdout"
        },
        {
          "output_type": "execute_result",
          "data": {
            "text/plain": [
              "<tensorflow.python.keras.callbacks.History at 0x7fbe89886cc0>"
            ]
          },
          "metadata": {
            "tags": []
          },
          "execution_count": 320
        }
      ]
    },
    {
      "cell_type": "code",
      "metadata": {
        "id": "zQ5v6HwLH_Wh",
        "colab_type": "code",
        "outputId": "89e11863-86f6-46b6-871c-324665ee67fa",
        "colab": {
          "base_uri": "https://localhost:8080/",
          "height": 50
        }
      },
      "source": [
        "ypred = model.predict(X9)\n",
        "s=pd.DataFrame(ypred)\n",
        "s1=pd.DataFrame(y9)\n",
        "s1.corrwith(s, axis = 0) "
      ],
      "execution_count": 321,
      "outputs": [
        {
          "output_type": "execute_result",
          "data": {
            "text/plain": [
              "0    0.319171\n",
              "dtype: float64"
            ]
          },
          "metadata": {
            "tags": []
          },
          "execution_count": 321
        }
      ]
    },
    {
      "cell_type": "code",
      "metadata": {
        "id": "Up6_NVQoLi3n",
        "colab_type": "code",
        "outputId": "0cec0a30-5b6b-4218-d95e-048111a8f744",
        "colab": {
          "base_uri": "https://localhost:8080/",
          "height": 34
        }
      },
      "source": [
        "r2_score(y9,ypred)"
      ],
      "execution_count": 322,
      "outputs": [
        {
          "output_type": "execute_result",
          "data": {
            "text/plain": [
              "0.10109381583604049"
            ]
          },
          "metadata": {
            "tags": []
          },
          "execution_count": 322
        }
      ]
    },
    {
      "cell_type": "code",
      "metadata": {
        "id": "f3IOE5BCJRSK",
        "colab_type": "code",
        "outputId": "caa80170-1d9e-44c0-fad8-496d4e94d09d",
        "colab": {
          "base_uri": "https://localhost:8080/",
          "height": 50
        }
      },
      "source": [
        "ypred1=model.predict(X_test9)\n",
        "s=pd.DataFrame(ypred1)\n",
        "s1=pd.DataFrame(y_test9)\n",
        "s1.corrwith(s,axis=0)"
      ],
      "execution_count": 323,
      "outputs": [
        {
          "output_type": "execute_result",
          "data": {
            "text/plain": [
              "0    0.000308\n",
              "dtype: float64"
            ]
          },
          "metadata": {
            "tags": []
          },
          "execution_count": 323
        }
      ]
    },
    {
      "cell_type": "code",
      "metadata": {
        "id": "_FDKRSVwLkoD",
        "colab_type": "code",
        "outputId": "0f241f4a-62ee-4b6f-be5a-b23922194591",
        "colab": {
          "base_uri": "https://localhost:8080/",
          "height": 34
        }
      },
      "source": [
        "r2_score(y_test9,ypred1)"
      ],
      "execution_count": 324,
      "outputs": [
        {
          "output_type": "execute_result",
          "data": {
            "text/plain": [
              "-0.01135372119216016"
            ]
          },
          "metadata": {
            "tags": []
          },
          "execution_count": 324
        }
      ]
    },
    {
      "cell_type": "code",
      "metadata": {
        "id": "uKkippngDscR",
        "colab_type": "code",
        "colab": {
          "base_uri": "https://localhost:8080/",
          "height": 34
        },
        "outputId": "030ffd3e-91c7-49cc-b673-e7922d3ad228"
      },
      "source": [
        "mean_absolute_error(y9,ypred)"
      ],
      "execution_count": 325,
      "outputs": [
        {
          "output_type": "execute_result",
          "data": {
            "text/plain": [
              "0.006125944903211532"
            ]
          },
          "metadata": {
            "tags": []
          },
          "execution_count": 325
        }
      ]
    },
    {
      "cell_type": "code",
      "metadata": {
        "id": "_WPfFs1Pbx7w",
        "colab_type": "code",
        "outputId": "401ebc20-6ccc-4019-d4b6-47db467c170c",
        "colab": {
          "base_uri": "https://localhost:8080/",
          "height": 34
        }
      },
      "source": [
        "mean_absolute_error(y_test9,ypred1)"
      ],
      "execution_count": 326,
      "outputs": [
        {
          "output_type": "execute_result",
          "data": {
            "text/plain": [
              "0.0021464346242975915"
            ]
          },
          "metadata": {
            "tags": []
          },
          "execution_count": 326
        }
      ]
    },
    {
      "cell_type": "code",
      "metadata": {
        "id": "ja4CmlyKA9q8",
        "colab_type": "code",
        "colab": {}
      },
      "source": [
        "ypred1[ypred1<0]=0"
      ],
      "execution_count": 0,
      "outputs": []
    },
    {
      "cell_type": "code",
      "metadata": {
        "id": "9pcIJFwQBDVi",
        "colab_type": "code",
        "colab": {
          "base_uri": "https://localhost:8080/",
          "height": 668
        },
        "outputId": "c5c438aa-7e1c-47ad-fff5-2b746f6b28a4"
      },
      "source": [
        "plt.plot(y_test9)\n",
        "plt.plot(ypred1)\n",
        "plt.legend(\"Actual\",\"predicted\")\n",
        "plt.show()"
      ],
      "execution_count": 328,
      "outputs": [
        {
          "output_type": "stream",
          "text": [
            "/usr/local/lib/python3.6/dist-packages/ipykernel_launcher.py:3: UserWarning: Legend does not support 'A' instances.\n",
            "A proxy artist may be used instead.\n",
            "See: http://matplotlib.org/users/legend_guide.html#creating-artists-specifically-for-adding-to-the-legend-aka-proxy-artists\n",
            "  This is separate from the ipykernel package so we can avoid doing imports until\n",
            "/usr/local/lib/python3.6/dist-packages/ipykernel_launcher.py:3: UserWarning: Legend does not support 'c' instances.\n",
            "A proxy artist may be used instead.\n",
            "See: http://matplotlib.org/users/legend_guide.html#creating-artists-specifically-for-adding-to-the-legend-aka-proxy-artists\n",
            "  This is separate from the ipykernel package so we can avoid doing imports until\n",
            "/usr/local/lib/python3.6/dist-packages/ipykernel_launcher.py:3: UserWarning: Legend does not support 't' instances.\n",
            "A proxy artist may be used instead.\n",
            "See: http://matplotlib.org/users/legend_guide.html#creating-artists-specifically-for-adding-to-the-legend-aka-proxy-artists\n",
            "  This is separate from the ipykernel package so we can avoid doing imports until\n",
            "/usr/local/lib/python3.6/dist-packages/ipykernel_launcher.py:3: UserWarning: Legend does not support 'u' instances.\n",
            "A proxy artist may be used instead.\n",
            "See: http://matplotlib.org/users/legend_guide.html#creating-artists-specifically-for-adding-to-the-legend-aka-proxy-artists\n",
            "  This is separate from the ipykernel package so we can avoid doing imports until\n",
            "/usr/local/lib/python3.6/dist-packages/ipykernel_launcher.py:3: UserWarning: Legend does not support 'a' instances.\n",
            "A proxy artist may be used instead.\n",
            "See: http://matplotlib.org/users/legend_guide.html#creating-artists-specifically-for-adding-to-the-legend-aka-proxy-artists\n",
            "  This is separate from the ipykernel package so we can avoid doing imports until\n",
            "/usr/local/lib/python3.6/dist-packages/ipykernel_launcher.py:3: UserWarning: Legend does not support 'l' instances.\n",
            "A proxy artist may be used instead.\n",
            "See: http://matplotlib.org/users/legend_guide.html#creating-artists-specifically-for-adding-to-the-legend-aka-proxy-artists\n",
            "  This is separate from the ipykernel package so we can avoid doing imports until\n"
          ],
          "name": "stderr"
        },
        {
          "output_type": "display_data",
          "data": {
            "image/png": "[encoded data removed]",
            "text/plain": [
              "<Figure size 432x288 with 1 Axes>"
            ]
          },
          "metadata": {
            "tags": []
          }
        }
      ]
    },
    {
      "cell_type": "code",
      "metadata": {
        "id": "IuCVxE4lDw5r",
        "colab_type": "code",
        "colab": {
          "base_uri": "https://localhost:8080/",
          "height": 265
        },
        "outputId": "1fc295e8-8471-4bc4-dda6-bce39fe4df71"
      },
      "source": [
        "plt.plot(y_test9)\n",
        "plt.show()"
      ],
      "execution_count": 329,
      "outputs": [
        {
          "output_type": "display_data",
          "data": {
            "image/png": "[encoded data removed]",
            "text/plain": [
              "<Figure size 432x288 with 1 Axes>"
            ]
          },
          "metadata": {
            "tags": []
          }
        }
      ]
    },
    {
      "cell_type": "code",
      "metadata": {
        "id": "8PHZ8Nf3AU67",
        "colab_type": "code",
        "colab": {}
      },
      "source": [
        "model = keras.Sequential()\n",
        "model.add(keras.layers.LSTM(100, activation='relu', input_shape=(n_steps, 1)))\n",
        "model.add(keras.layers.Dense(1))\n",
        "model.compile(optimizer='adam', loss='mse',metrics=['accuracy'])"
      ],
      "execution_count": 0,
      "outputs": []
    },
    {
      "cell_type": "code",
      "metadata": {
        "id": "X4tac5LntOTz",
        "colab_type": "code",
        "outputId": "8d388afd-1357-4168-cd20-5d1a16d6a158",
        "colab": {
          "base_uri": "https://localhost:8080/",
          "height": 1000
        }
      },
      "source": [
        "model.fit(X10, y10, validation_data=(X_test10,y_test10),epochs=50)"
      ],
      "execution_count": 331,
      "outputs": [
        {
          "output_type": "stream",
          "text": [
            "Train on 11997 samples, validate on 3702 samples\n",
            "Epoch 1/50\n",
            "11997/11997 [==============================] - 5s 420us/sample - loss: 0.0028 - acc: 0.8375 - val_loss: 3.6000e-04 - val_acc: 0.8501\n",
            "Epoch 2/50\n",
            "11997/11997 [==============================] - 3s 209us/sample - loss: 0.0027 - acc: 0.8375 - val_loss: 4.0560e-04 - val_acc: 0.8501\n",
            "Epoch 3/50\n",
            "11997/11997 [==============================] - 3s 214us/sample - loss: 0.0027 - acc: 0.8375 - val_loss: 4.1485e-04 - val_acc: 0.8501\n",
            "Epoch 4/50\n",
            "11997/11997 [==============================] - 3s 211us/sample - loss: 0.0027 - acc: 0.8375 - val_loss: 3.8273e-04 - val_acc: 0.8501\n",
            "Epoch 5/50\n",
            "11997/11997 [==============================] - 3s 216us/sample - loss: 0.0027 - acc: 0.8375 - val_loss: 3.3831e-04 - val_acc: 0.8501\n",
            "Epoch 6/50\n",
            "11997/11997 [==============================] - 3s 212us/sample - loss: 0.0027 - acc: 0.8375 - val_loss: 4.0701e-04 - val_acc: 0.8501\n",
            "Epoch 7/50\n",
            "11997/11997 [==============================] - 3s 214us/sample - loss: 0.0027 - acc: 0.8375 - val_loss: 4.0341e-04 - val_acc: 0.8501\n",
            "Epoch 8/50\n",
            "11997/11997 [==============================] - 3s 213us/sample - loss: 0.0027 - acc: 0.8375 - val_loss: 4.1580e-04 - val_acc: 0.8501\n",
            "Epoch 9/50\n",
            "11997/11997 [==============================] - 3s 211us/sample - loss: 0.0027 - acc: 0.8375 - val_loss: 2.7997e-04 - val_acc: 0.8501\n",
            "Epoch 10/50\n",
            "11997/11997 [==============================] - 2s 207us/sample - loss: 0.0027 - acc: 0.8375 - val_loss: 4.2023e-04 - val_acc: 0.8501\n",
            "Epoch 11/50\n",
            "11997/11997 [==============================] - 2s 204us/sample - loss: 0.0027 - acc: 0.8375 - val_loss: 3.1176e-04 - val_acc: 0.8501\n",
            "Epoch 12/50\n",
            "11997/11997 [==============================] - 2s 203us/sample - loss: 0.0027 - acc: 0.8375 - val_loss: 3.0312e-04 - val_acc: 0.8501\n",
            "Epoch 13/50\n",
            "11997/11997 [==============================] - 2s 200us/sample - loss: 0.0027 - acc: 0.8375 - val_loss: 4.2804e-04 - val_acc: 0.8501\n",
            "Epoch 14/50\n",
            "11997/11997 [==============================] - 2s 200us/sample - loss: 0.0027 - acc: 0.8375 - val_loss: 3.3290e-04 - val_acc: 0.8501\n",
            "Epoch 15/50\n",
            "11997/11997 [==============================] - 2s 202us/sample - loss: 0.0027 - acc: 0.8375 - val_loss: 3.1118e-04 - val_acc: 0.8501\n",
            "Epoch 16/50\n",
            "11997/11997 [==============================] - 2s 204us/sample - loss: 0.0027 - acc: 0.8375 - val_loss: 3.7403e-04 - val_acc: 0.8501\n",
            "Epoch 17/50\n",
            "11997/11997 [==============================] - 2s 201us/sample - loss: 0.0027 - acc: 0.8375 - val_loss: 2.9081e-04 - val_acc: 0.8501\n",
            "Epoch 18/50\n",
            "11997/11997 [==============================] - 2s 203us/sample - loss: 0.0027 - acc: 0.8375 - val_loss: 3.1063e-04 - val_acc: 0.8501\n",
            "Epoch 19/50\n",
            "11997/11997 [==============================] - 2s 204us/sample - loss: 0.0027 - acc: 0.8375 - val_loss: 2.9445e-04 - val_acc: 0.8501\n",
            "Epoch 20/50\n",
            "11997/11997 [==============================] - 2s 204us/sample - loss: 0.0026 - acc: 0.8375 - val_loss: 3.6599e-04 - val_acc: 0.8501\n",
            "Epoch 21/50\n",
            "11997/11997 [==============================] - 2s 204us/sample - loss: 0.0026 - acc: 0.8375 - val_loss: 2.8578e-04 - val_acc: 0.8501\n",
            "Epoch 22/50\n",
            "11997/11997 [==============================] - 3s 213us/sample - loss: 0.0026 - acc: 0.8375 - val_loss: 2.8790e-04 - val_acc: 0.8501\n",
            "Epoch 23/50\n",
            "11997/11997 [==============================] - 2s 200us/sample - loss: 0.0027 - acc: 0.8375 - val_loss: 3.3303e-04 - val_acc: 0.8501\n",
            "Epoch 24/50\n",
            "11997/11997 [==============================] - 2s 201us/sample - loss: 0.0026 - acc: 0.8375 - val_loss: 2.8881e-04 - val_acc: 0.8501\n",
            "Epoch 25/50\n",
            "11997/11997 [==============================] - 2s 202us/sample - loss: 0.0026 - acc: 0.8375 - val_loss: 3.1562e-04 - val_acc: 0.8501\n",
            "Epoch 26/50\n",
            "11997/11997 [==============================] - 2s 202us/sample - loss: 0.0026 - acc: 0.8375 - val_loss: 3.6783e-04 - val_acc: 0.8501\n",
            "Epoch 27/50\n",
            "11997/11997 [==============================] - 2s 202us/sample - loss: 0.0026 - acc: 0.8375 - val_loss: 2.9961e-04 - val_acc: 0.8501\n",
            "Epoch 28/50\n",
            "11997/11997 [==============================] - 2s 201us/sample - loss: 0.0026 - acc: 0.8375 - val_loss: 3.4329e-04 - val_acc: 0.8501\n",
            "Epoch 29/50\n",
            "11997/11997 [==============================] - 2s 206us/sample - loss: 0.0026 - acc: 0.8375 - val_loss: 3.3067e-04 - val_acc: 0.8501\n",
            "Epoch 30/50\n",
            "11997/11997 [==============================] - 2s 203us/sample - loss: 0.0026 - acc: 0.8375 - val_loss: 2.9368e-04 - val_acc: 0.8501\n",
            "Epoch 31/50\n",
            "11997/11997 [==============================] - 2s 203us/sample - loss: 0.0026 - acc: 0.8375 - val_loss: 2.7551e-04 - val_acc: 0.8501\n",
            "Epoch 32/50\n",
            "11997/11997 [==============================] - 2s 205us/sample - loss: 0.0026 - acc: 0.8375 - val_loss: 3.0480e-04 - val_acc: 0.8501\n",
            "Epoch 33/50\n",
            "11997/11997 [==============================] - 2s 206us/sample - loss: 0.0026 - acc: 0.8375 - val_loss: 3.0549e-04 - val_acc: 0.8501\n",
            "Epoch 34/50\n",
            "11997/11997 [==============================] - 2s 199us/sample - loss: 0.0026 - acc: 0.8375 - val_loss: 2.8509e-04 - val_acc: 0.8501\n",
            "Epoch 35/50\n",
            "11997/11997 [==============================] - 2s 204us/sample - loss: 0.0026 - acc: 0.8375 - val_loss: 2.7621e-04 - val_acc: 0.8501\n",
            "Epoch 36/50\n",
            "11997/11997 [==============================] - 2s 204us/sample - loss: 0.0026 - acc: 0.8375 - val_loss: 3.0848e-04 - val_acc: 0.8501\n",
            "Epoch 37/50\n",
            "11997/11997 [==============================] - 2s 205us/sample - loss: 0.0026 - acc: 0.8375 - val_loss: 3.2247e-04 - val_acc: 0.8501\n",
            "Epoch 38/50\n",
            "11997/11997 [==============================] - 3s 212us/sample - loss: 0.0026 - acc: 0.8375 - val_loss: 3.3477e-04 - val_acc: 0.8501\n",
            "Epoch 39/50\n",
            "11997/11997 [==============================] - 3s 218us/sample - loss: 0.0026 - acc: 0.8375 - val_loss: 3.7055e-04 - val_acc: 0.8501\n",
            "Epoch 40/50\n",
            "11997/11997 [==============================] - 3s 212us/sample - loss: 0.0026 - acc: 0.8375 - val_loss: 3.1757e-04 - val_acc: 0.8501\n",
            "Epoch 41/50\n",
            "11997/11997 [==============================] - 3s 219us/sample - loss: 0.0026 - acc: 0.8375 - val_loss: 3.2400e-04 - val_acc: 0.8501\n",
            "Epoch 42/50\n",
            "11997/11997 [==============================] - 3s 216us/sample - loss: 0.0026 - acc: 0.8375 - val_loss: 3.4761e-04 - val_acc: 0.8501\n",
            "Epoch 43/50\n",
            "11997/11997 [==============================] - 2s 206us/sample - loss: 0.0026 - acc: 0.8375 - val_loss: 3.3437e-04 - val_acc: 0.8501\n",
            "Epoch 44/50\n",
            "11997/11997 [==============================] - 2s 206us/sample - loss: 0.0026 - acc: 0.8375 - val_loss: 2.9037e-04 - val_acc: 0.8501\n",
            "Epoch 45/50\n",
            "11997/11997 [==============================] - 2s 207us/sample - loss: 0.0026 - acc: 0.8375 - val_loss: 3.1546e-04 - val_acc: 0.8501\n",
            "Epoch 46/50\n",
            "11997/11997 [==============================] - 3s 213us/sample - loss: 0.0026 - acc: 0.8375 - val_loss: 3.8598e-04 - val_acc: 0.8501\n",
            "Epoch 47/50\n",
            "11997/11997 [==============================] - 2s 205us/sample - loss: 0.0026 - acc: 0.8375 - val_loss: 3.4623e-04 - val_acc: 0.8501\n",
            "Epoch 48/50\n",
            "11997/11997 [==============================] - 2s 205us/sample - loss: 0.0026 - acc: 0.8375 - val_loss: 2.8391e-04 - val_acc: 0.8501\n",
            "Epoch 49/50\n",
            "11997/11997 [==============================] - 2s 205us/sample - loss: 0.0026 - acc: 0.8375 - val_loss: 2.9273e-04 - val_acc: 0.8501\n",
            "Epoch 50/50\n",
            "11997/11997 [==============================] - 2s 207us/sample - loss: 0.0026 - acc: 0.8375 - val_loss: 3.2326e-04 - val_acc: 0.8501\n"
          ],
          "name": "stdout"
        },
        {
          "output_type": "execute_result",
          "data": {
            "text/plain": [
              "<tensorflow.python.keras.callbacks.History at 0x7fbe8a779dd8>"
            ]
          },
          "metadata": {
            "tags": []
          },
          "execution_count": 331
        }
      ]
    },
    {
      "cell_type": "code",
      "metadata": {
        "id": "i7iVtOzuIAff",
        "colab_type": "code",
        "outputId": "d512b3ce-45b5-4b43-8f7b-f67d358488de",
        "colab": {
          "base_uri": "https://localhost:8080/",
          "height": 50
        }
      },
      "source": [
        "ypred = model.predict(X10)\n",
        "s=pd.DataFrame(ypred)\n",
        "s1=pd.DataFrame(y10)\n",
        "s1.corrwith(s, axis = 0) "
      ],
      "execution_count": 332,
      "outputs": [
        {
          "output_type": "execute_result",
          "data": {
            "text/plain": [
              "0    0.33695\n",
              "dtype: float64"
            ]
          },
          "metadata": {
            "tags": []
          },
          "execution_count": 332
        }
      ]
    },
    {
      "cell_type": "code",
      "metadata": {
        "id": "ZzIyxgSKLcls",
        "colab_type": "code",
        "outputId": "d0e4bab7-4c3a-4339-a587-cd1d1a70d9f1",
        "colab": {
          "base_uri": "https://localhost:8080/",
          "height": 34
        }
      },
      "source": [
        "r2_score(y10,ypred)"
      ],
      "execution_count": 333,
      "outputs": [
        {
          "output_type": "execute_result",
          "data": {
            "text/plain": [
              "0.11348873205966681"
            ]
          },
          "metadata": {
            "tags": []
          },
          "execution_count": 333
        }
      ]
    },
    {
      "cell_type": "code",
      "metadata": {
        "id": "Vz0yUtDVJSqy",
        "colab_type": "code",
        "outputId": "9f0aa3f8-56b7-435a-e97e-88ea7700656a",
        "colab": {
          "base_uri": "https://localhost:8080/",
          "height": 50
        }
      },
      "source": [
        "ypred1=model.predict(X_test10)\n",
        "s=pd.DataFrame(ypred1)\n",
        "s1=pd.DataFrame(y_test10)\n",
        "s1.corrwith(s,axis=0)"
      ],
      "execution_count": 334,
      "outputs": [
        {
          "output_type": "execute_result",
          "data": {
            "text/plain": [
              "0   -0.000462\n",
              "dtype: float64"
            ]
          },
          "metadata": {
            "tags": []
          },
          "execution_count": 334
        }
      ]
    },
    {
      "cell_type": "code",
      "metadata": {
        "id": "3OvG7PKCLeB2",
        "colab_type": "code",
        "outputId": "2e16d154-5a70-4d35-ae77-08291e25a40b",
        "colab": {
          "base_uri": "https://localhost:8080/",
          "height": 34
        }
      },
      "source": [
        "r2_score(y_test10,ypred1)"
      ],
      "execution_count": 335,
      "outputs": [
        {
          "output_type": "execute_result",
          "data": {
            "text/plain": [
              "-0.19706519668635591"
            ]
          },
          "metadata": {
            "tags": []
          },
          "execution_count": 335
        }
      ]
    },
    {
      "cell_type": "code",
      "metadata": {
        "id": "9e2RJz20b4JB",
        "colab_type": "code",
        "outputId": "63d5557d-e115-40d0-da05-35f02c64558f",
        "colab": {
          "base_uri": "https://localhost:8080/",
          "height": 34
        }
      },
      "source": [
        "mean_absolute_error(y_test10,ypred1)"
      ],
      "execution_count": 336,
      "outputs": [
        {
          "output_type": "execute_result",
          "data": {
            "text/plain": [
              "0.007170882713324374"
            ]
          },
          "metadata": {
            "tags": []
          },
          "execution_count": 336
        }
      ]
    },
    {
      "cell_type": "code",
      "metadata": {
        "id": "lSHbLk8Lb5Bo",
        "colab_type": "code",
        "outputId": "e878473f-cecd-41bb-c715-c07bb3b8b6ac",
        "colab": {
          "base_uri": "https://localhost:8080/",
          "height": 34
        }
      },
      "source": [
        "mean_absolute_error(y10,ypred)"
      ],
      "execution_count": 337,
      "outputs": [
        {
          "output_type": "execute_result",
          "data": {
            "text/plain": [
              "0.021344000369672534"
            ]
          },
          "metadata": {
            "tags": []
          },
          "execution_count": 337
        }
      ]
    },
    {
      "cell_type": "code",
      "metadata": {
        "id": "_PcWYtGNBLUX",
        "colab_type": "code",
        "colab": {}
      },
      "source": [
        "ypred1[ypred1<0]=0"
      ],
      "execution_count": 0,
      "outputs": []
    },
    {
      "cell_type": "code",
      "metadata": {
        "id": "MoipscUeBRvV",
        "colab_type": "code",
        "colab": {
          "base_uri": "https://localhost:8080/",
          "height": 668
        },
        "outputId": "2dbe4b0c-2db3-45e2-a459-281a3fb0252c"
      },
      "source": [
        "plt.plot(y_test10)\n",
        "plt.plot(ypred1)\n",
        "plt.legend(\"Actual\",\"predicted\")\n",
        "plt.show()"
      ],
      "execution_count": 339,
      "outputs": [
        {
          "output_type": "stream",
          "text": [
            "/usr/local/lib/python3.6/dist-packages/ipykernel_launcher.py:3: UserWarning: Legend does not support 'A' instances.\n",
            "A proxy artist may be used instead.\n",
            "See: http://matplotlib.org/users/legend_guide.html#creating-artists-specifically-for-adding-to-the-legend-aka-proxy-artists\n",
            "  This is separate from the ipykernel package so we can avoid doing imports until\n",
            "/usr/local/lib/python3.6/dist-packages/ipykernel_launcher.py:3: UserWarning: Legend does not support 'c' instances.\n",
            "A proxy artist may be used instead.\n",
            "See: http://matplotlib.org/users/legend_guide.html#creating-artists-specifically-for-adding-to-the-legend-aka-proxy-artists\n",
            "  This is separate from the ipykernel package so we can avoid doing imports until\n",
            "/usr/local/lib/python3.6/dist-packages/ipykernel_launcher.py:3: UserWarning: Legend does not support 't' instances.\n",
            "A proxy artist may be used instead.\n",
            "See: http://matplotlib.org/users/legend_guide.html#creating-artists-specifically-for-adding-to-the-legend-aka-proxy-artists\n",
            "  This is separate from the ipykernel package so we can avoid doing imports until\n",
            "/usr/local/lib/python3.6/dist-packages/ipykernel_launcher.py:3: UserWarning: Legend does not support 'u' instances.\n",
            "A proxy artist may be used instead.\n",
            "See: http://matplotlib.org/users/legend_guide.html#creating-artists-specifically-for-adding-to-the-legend-aka-proxy-artists\n",
            "  This is separate from the ipykernel package so we can avoid doing imports until\n",
            "/usr/local/lib/python3.6/dist-packages/ipykernel_launcher.py:3: UserWarning: Legend does not support 'a' instances.\n",
            "A proxy artist may be used instead.\n",
            "See: http://matplotlib.org/users/legend_guide.html#creating-artists-specifically-for-adding-to-the-legend-aka-proxy-artists\n",
            "  This is separate from the ipykernel package so we can avoid doing imports until\n",
            "/usr/local/lib/python3.6/dist-packages/ipykernel_launcher.py:3: UserWarning: Legend does not support 'l' instances.\n",
            "A proxy artist may be used instead.\n",
            "See: http://matplotlib.org/users/legend_guide.html#creating-artists-specifically-for-adding-to-the-legend-aka-proxy-artists\n",
            "  This is separate from the ipykernel package so we can avoid doing imports until\n"
          ],
          "name": "stderr"
        },
        {
          "output_type": "display_data",
          "data": {
            "image/png": "[encoded data removed]",
            "text/plain": [
              "<Figure size 432x288 with 1 Axes>"
            ]
          },
          "metadata": {
            "tags": []
          }
        }
      ]
    },
    {
      "cell_type": "code",
      "metadata": {
        "id": "ET6lVrLQD4zX",
        "colab_type": "code",
        "colab": {
          "base_uri": "https://localhost:8080/",
          "height": 265
        },
        "outputId": "1efc0226-219b-4bf0-8cbb-1e11975baa3e"
      },
      "source": [
        "plt.plot(y_test10)\n",
        "plt.show()"
      ],
      "execution_count": 340,
      "outputs": [
        {
          "output_type": "display_data",
          "data": {
            "image/png": "[encoded data removed]",
            "text/plain": [
              "<Figure size 432x288 with 1 Axes>"
            ]
          },
          "metadata": {
            "tags": []
          }
        }
      ]
    },
    {
      "cell_type": "code",
      "metadata": {
        "id": "r_u3MsgsAXD4",
        "colab_type": "code",
        "colab": {}
      },
      "source": [
        "model = keras.Sequential()\n",
        "model.add(keras.layers.LSTM(100, activation='relu', input_shape=(n_steps, 1)))\n",
        "model.add(keras.layers.Dense(1))\n",
        "model.compile(optimizer='adam', loss='mse',metrics=['accuracy'])"
      ],
      "execution_count": 0,
      "outputs": []
    },
    {
      "cell_type": "code",
      "metadata": {
        "id": "WBFxiG7GtOdT",
        "colab_type": "code",
        "outputId": "06041681-f76c-4072-c9d8-77d1f269b7fb",
        "colab": {
          "base_uri": "https://localhost:8080/",
          "height": 1000
        }
      },
      "source": [
        "model.fit(X11, y11, validation_data=(X_test11,y_test11),epochs=50)"
      ],
      "execution_count": 342,
      "outputs": [
        {
          "output_type": "stream",
          "text": [
            "Train on 11997 samples, validate on 3342 samples\n",
            "Epoch 1/50\n",
            "11997/11997 [==============================] - 5s 421us/sample - loss: 0.0028 - acc: 0.8450 - val_loss: 3.2207e-04 - val_acc: 0.8606\n",
            "Epoch 2/50\n",
            "11997/11997 [==============================] - 2s 205us/sample - loss: 0.0027 - acc: 0.8450 - val_loss: 4.5865e-04 - val_acc: 0.8606\n",
            "Epoch 3/50\n",
            "11997/11997 [==============================] - 2s 204us/sample - loss: 0.0027 - acc: 0.8450 - val_loss: 4.1620e-04 - val_acc: 0.8606\n",
            "Epoch 4/50\n",
            "11997/11997 [==============================] - 2s 204us/sample - loss: 0.0027 - acc: 0.8450 - val_loss: 3.3798e-04 - val_acc: 0.8606\n",
            "Epoch 5/50\n",
            "11997/11997 [==============================] - 2s 203us/sample - loss: 0.0027 - acc: 0.8450 - val_loss: 3.4825e-04 - val_acc: 0.8606\n",
            "Epoch 6/50\n",
            "11997/11997 [==============================] - 2s 198us/sample - loss: 0.0027 - acc: 0.8450 - val_loss: 3.5970e-04 - val_acc: 0.8606\n",
            "Epoch 7/50\n",
            "11997/11997 [==============================] - 2s 206us/sample - loss: 0.0027 - acc: 0.8450 - val_loss: 3.1429e-04 - val_acc: 0.8606\n",
            "Epoch 8/50\n",
            "11997/11997 [==============================] - 2s 201us/sample - loss: 0.0027 - acc: 0.8450 - val_loss: 3.5452e-04 - val_acc: 0.8606\n",
            "Epoch 9/50\n",
            "11997/11997 [==============================] - 2s 202us/sample - loss: 0.0027 - acc: 0.8450 - val_loss: 3.3278e-04 - val_acc: 0.8606\n",
            "Epoch 10/50\n",
            "11997/11997 [==============================] - 2s 201us/sample - loss: 0.0027 - acc: 0.8450 - val_loss: 3.5262e-04 - val_acc: 0.8606\n",
            "Epoch 11/50\n",
            "11997/11997 [==============================] - 2s 201us/sample - loss: 0.0027 - acc: 0.8450 - val_loss: 4.0757e-04 - val_acc: 0.8606\n",
            "Epoch 12/50\n",
            "11997/11997 [==============================] - 2s 199us/sample - loss: 0.0027 - acc: 0.8450 - val_loss: 3.2752e-04 - val_acc: 0.8606\n",
            "Epoch 13/50\n",
            "11997/11997 [==============================] - 2s 204us/sample - loss: 0.0027 - acc: 0.8450 - val_loss: 4.1244e-04 - val_acc: 0.8606\n",
            "Epoch 14/50\n",
            "11997/11997 [==============================] - 2s 203us/sample - loss: 0.0027 - acc: 0.8450 - val_loss: 3.4728e-04 - val_acc: 0.8606\n",
            "Epoch 15/50\n",
            "11997/11997 [==============================] - 2s 203us/sample - loss: 0.0027 - acc: 0.8450 - val_loss: 4.0781e-04 - val_acc: 0.8606\n",
            "Epoch 16/50\n",
            "11997/11997 [==============================] - 3s 212us/sample - loss: 0.0027 - acc: 0.8450 - val_loss: 3.6447e-04 - val_acc: 0.8606\n",
            "Epoch 17/50\n",
            "11997/11997 [==============================] - 2s 208us/sample - loss: 0.0027 - acc: 0.8450 - val_loss: 4.0213e-04 - val_acc: 0.8606\n",
            "Epoch 18/50\n",
            "11997/11997 [==============================] - 2s 201us/sample - loss: 0.0027 - acc: 0.8450 - val_loss: 4.1990e-04 - val_acc: 0.8606\n",
            "Epoch 19/50\n",
            "11997/11997 [==============================] - 2s 203us/sample - loss: 0.0027 - acc: 0.8450 - val_loss: 4.4965e-04 - val_acc: 0.8606\n",
            "Epoch 20/50\n",
            "11997/11997 [==============================] - 2s 206us/sample - loss: 0.0027 - acc: 0.8450 - val_loss: 3.3918e-04 - val_acc: 0.8606\n",
            "Epoch 21/50\n",
            "11997/11997 [==============================] - 2s 202us/sample - loss: 0.0027 - acc: 0.8450 - val_loss: 3.9214e-04 - val_acc: 0.8606\n",
            "Epoch 22/50\n",
            "11997/11997 [==============================] - 2s 199us/sample - loss: 0.0027 - acc: 0.8450 - val_loss: 3.0375e-04 - val_acc: 0.8606\n",
            "Epoch 23/50\n",
            "11997/11997 [==============================] - 2s 199us/sample - loss: 0.0027 - acc: 0.8450 - val_loss: 3.6775e-04 - val_acc: 0.8606\n",
            "Epoch 24/50\n",
            "11997/11997 [==============================] - 2s 203us/sample - loss: 0.0027 - acc: 0.8450 - val_loss: 3.2547e-04 - val_acc: 0.8606\n",
            "Epoch 25/50\n",
            "11997/11997 [==============================] - 2s 201us/sample - loss: 0.0027 - acc: 0.8450 - val_loss: 4.0706e-04 - val_acc: 0.8606\n",
            "Epoch 26/50\n",
            "11997/11997 [==============================] - 2s 203us/sample - loss: 0.0027 - acc: 0.8450 - val_loss: 3.1018e-04 - val_acc: 0.8606\n",
            "Epoch 27/50\n",
            "11997/11997 [==============================] - 2s 202us/sample - loss: 0.0027 - acc: 0.8450 - val_loss: 3.3901e-04 - val_acc: 0.8606\n",
            "Epoch 28/50\n",
            "11997/11997 [==============================] - 2s 201us/sample - loss: 0.0027 - acc: 0.8450 - val_loss: 4.0658e-04 - val_acc: 0.8606\n",
            "Epoch 29/50\n",
            "11997/11997 [==============================] - 2s 202us/sample - loss: 0.0027 - acc: 0.8450 - val_loss: 3.1949e-04 - val_acc: 0.8606\n",
            "Epoch 30/50\n",
            "11997/11997 [==============================] - 2s 199us/sample - loss: 0.0027 - acc: 0.8450 - val_loss: 3.1106e-04 - val_acc: 0.8606\n",
            "Epoch 31/50\n",
            "11997/11997 [==============================] - 2s 204us/sample - loss: 0.0027 - acc: 0.8450 - val_loss: 3.4158e-04 - val_acc: 0.8606\n",
            "Epoch 32/50\n",
            "11997/11997 [==============================] - 2s 199us/sample - loss: 0.0027 - acc: 0.8450 - val_loss: 3.1948e-04 - val_acc: 0.8606\n",
            "Epoch 33/50\n",
            "11997/11997 [==============================] - 2s 201us/sample - loss: 0.0027 - acc: 0.8450 - val_loss: 3.2197e-04 - val_acc: 0.8606\n",
            "Epoch 34/50\n",
            "11997/11997 [==============================] - 2s 202us/sample - loss: 0.0027 - acc: 0.8450 - val_loss: 4.2458e-04 - val_acc: 0.8606\n",
            "Epoch 35/50\n",
            "11997/11997 [==============================] - 2s 204us/sample - loss: 0.0027 - acc: 0.8450 - val_loss: 3.4665e-04 - val_acc: 0.8606\n",
            "Epoch 36/50\n",
            "11997/11997 [==============================] - 2s 207us/sample - loss: 0.0027 - acc: 0.8450 - val_loss: 3.5404e-04 - val_acc: 0.8606\n",
            "Epoch 37/50\n",
            "11997/11997 [==============================] - 3s 210us/sample - loss: 0.0027 - acc: 0.8450 - val_loss: 3.1961e-04 - val_acc: 0.8606\n",
            "Epoch 38/50\n",
            "11997/11997 [==============================] - 3s 209us/sample - loss: 0.0027 - acc: 0.8450 - val_loss: 3.1513e-04 - val_acc: 0.8606\n",
            "Epoch 39/50\n",
            "11997/11997 [==============================] - 3s 211us/sample - loss: 0.0027 - acc: 0.8450 - val_loss: 3.1624e-04 - val_acc: 0.8606\n",
            "Epoch 40/50\n",
            "11997/11997 [==============================] - 3s 209us/sample - loss: 0.0027 - acc: 0.8450 - val_loss: 4.4687e-04 - val_acc: 0.8606\n",
            "Epoch 41/50\n",
            "11997/11997 [==============================] - 3s 221us/sample - loss: 0.0027 - acc: 0.8450 - val_loss: 3.6251e-04 - val_acc: 0.8606\n",
            "Epoch 42/50\n",
            "11997/11997 [==============================] - 2s 205us/sample - loss: 0.0027 - acc: 0.8450 - val_loss: 3.3016e-04 - val_acc: 0.8606\n",
            "Epoch 43/50\n",
            "11997/11997 [==============================] - 2s 205us/sample - loss: 0.0027 - acc: 0.8450 - val_loss: 3.0673e-04 - val_acc: 0.8606\n",
            "Epoch 44/50\n",
            "11997/11997 [==============================] - 3s 211us/sample - loss: 0.0027 - acc: 0.8450 - val_loss: 3.6568e-04 - val_acc: 0.8606\n",
            "Epoch 45/50\n",
            "11997/11997 [==============================] - 3s 225us/sample - loss: 0.0027 - acc: 0.8450 - val_loss: 3.3706e-04 - val_acc: 0.8606\n",
            "Epoch 46/50\n",
            "11997/11997 [==============================] - 3s 236us/sample - loss: 0.0027 - acc: 0.8450 - val_loss: 3.3229e-04 - val_acc: 0.8606\n",
            "Epoch 47/50\n",
            "11997/11997 [==============================] - 3s 221us/sample - loss: 0.0027 - acc: 0.8450 - val_loss: 3.2895e-04 - val_acc: 0.8606\n",
            "Epoch 48/50\n",
            "11997/11997 [==============================] - 3s 220us/sample - loss: 0.0027 - acc: 0.8450 - val_loss: 3.3690e-04 - val_acc: 0.8606\n",
            "Epoch 49/50\n",
            "11997/11997 [==============================] - 3s 215us/sample - loss: 0.0027 - acc: 0.8450 - val_loss: 3.2565e-04 - val_acc: 0.8606\n",
            "Epoch 50/50\n",
            "11997/11997 [==============================] - 3s 217us/sample - loss: 0.0027 - acc: 0.8450 - val_loss: 3.3294e-04 - val_acc: 0.8606\n"
          ],
          "name": "stdout"
        },
        {
          "output_type": "execute_result",
          "data": {
            "text/plain": [
              "<tensorflow.python.keras.callbacks.History at 0x7fbe8a380860>"
            ]
          },
          "metadata": {
            "tags": []
          },
          "execution_count": 342
        }
      ]
    },
    {
      "cell_type": "code",
      "metadata": {
        "id": "TOytGCJYIByT",
        "colab_type": "code",
        "outputId": "a8daa086-f2bb-4f7c-fb44-ce9338f46271",
        "colab": {
          "base_uri": "https://localhost:8080/",
          "height": 50
        }
      },
      "source": [
        "ypred = model.predict(X11)\n",
        "s=pd.DataFrame(ypred)\n",
        "s1=pd.DataFrame(y11)\n",
        "s1.corrwith(s, axis = 0) "
      ],
      "execution_count": 343,
      "outputs": [
        {
          "output_type": "execute_result",
          "data": {
            "text/plain": [
              "0    0.315293\n",
              "dtype: float64"
            ]
          },
          "metadata": {
            "tags": []
          },
          "execution_count": 343
        }
      ]
    },
    {
      "cell_type": "code",
      "metadata": {
        "id": "iINdBIwoLTXh",
        "colab_type": "code",
        "outputId": "9bd92ff2-bb9b-4d2f-aea3-db123731be45",
        "colab": {
          "base_uri": "https://localhost:8080/",
          "height": 34
        }
      },
      "source": [
        "r2_score(y11,ypred)"
      ],
      "execution_count": 344,
      "outputs": [
        {
          "output_type": "execute_result",
          "data": {
            "text/plain": [
              "0.09893305461725621"
            ]
          },
          "metadata": {
            "tags": []
          },
          "execution_count": 344
        }
      ]
    },
    {
      "cell_type": "code",
      "metadata": {
        "id": "4WAXVRGRJUGH",
        "colab_type": "code",
        "outputId": "8b6f8007-a701-4408-cb86-ecc92de3820d",
        "colab": {
          "base_uri": "https://localhost:8080/",
          "height": 50
        }
      },
      "source": [
        "ypred1=model.predict(X_test11)\n",
        "s=pd.DataFrame(ypred1)\n",
        "s1=pd.DataFrame(y_test11)\n",
        "s1.corrwith(s,axis=0)"
      ],
      "execution_count": 345,
      "outputs": [
        {
          "output_type": "execute_result",
          "data": {
            "text/plain": [
              "0   -0.000596\n",
              "dtype: float64"
            ]
          },
          "metadata": {
            "tags": []
          },
          "execution_count": 345
        }
      ]
    },
    {
      "cell_type": "code",
      "metadata": {
        "id": "IteaW7lyLXic",
        "colab_type": "code",
        "outputId": "a866b36f-4e36-4413-adb6-6ddd59bda55f",
        "colab": {
          "base_uri": "https://localhost:8080/",
          "height": 34
        }
      },
      "source": [
        "r2_score(y_test11,ypred1)"
      ],
      "execution_count": 346,
      "outputs": [
        {
          "output_type": "execute_result",
          "data": {
            "text/plain": [
              "-0.11303341525532762"
            ]
          },
          "metadata": {
            "tags": []
          },
          "execution_count": 346
        }
      ]
    },
    {
      "cell_type": "code",
      "metadata": {
        "id": "dR8eWYdab9x0",
        "colab_type": "code",
        "outputId": "960f363e-8fdd-4ad0-d44a-c51ae93a7f29",
        "colab": {
          "base_uri": "https://localhost:8080/",
          "height": 34
        }
      },
      "source": [
        "mean_absolute_error(y_test11,ypred1)"
      ],
      "execution_count": 347,
      "outputs": [
        {
          "output_type": "execute_result",
          "data": {
            "text/plain": [
              "0.006016060437849211"
            ]
          },
          "metadata": {
            "tags": []
          },
          "execution_count": 347
        }
      ]
    },
    {
      "cell_type": "code",
      "metadata": {
        "id": "EQmn_nV5b_wQ",
        "colab_type": "code",
        "outputId": "a5a3bf71-1d5d-4062-b273-d5d02970ce7f",
        "colab": {
          "base_uri": "https://localhost:8080/",
          "height": 34
        }
      },
      "source": [
        "mean_absolute_error(y11,ypred)"
      ],
      "execution_count": 348,
      "outputs": [
        {
          "output_type": "execute_result",
          "data": {
            "text/plain": [
              "0.020134800350505782"
            ]
          },
          "metadata": {
            "tags": []
          },
          "execution_count": 348
        }
      ]
    },
    {
      "cell_type": "code",
      "metadata": {
        "id": "C3VrCmzEBWJ6",
        "colab_type": "code",
        "colab": {}
      },
      "source": [
        "ypred1[ypred1<0]=0"
      ],
      "execution_count": 0,
      "outputs": []
    },
    {
      "cell_type": "code",
      "metadata": {
        "id": "5y473PjaBY8X",
        "colab_type": "code",
        "colab": {
          "base_uri": "https://localhost:8080/",
          "height": 668
        },
        "outputId": "2c51c3da-0e2c-4f8d-f05f-3afdb2de3301"
      },
      "source": [
        "plt.plot(y_test11)\n",
        "plt.plot(ypred1)\n",
        "plt.legend(\"Actual\",\"predicted\")\n",
        "plt.show()"
      ],
      "execution_count": 350,
      "outputs": [
        {
          "output_type": "stream",
          "text": [
            "/usr/local/lib/python3.6/dist-packages/ipykernel_launcher.py:3: UserWarning: Legend does not support 'A' instances.\n",
            "A proxy artist may be used instead.\n",
            "See: http://matplotlib.org/users/legend_guide.html#creating-artists-specifically-for-adding-to-the-legend-aka-proxy-artists\n",
            "  This is separate from the ipykernel package so we can avoid doing imports until\n",
            "/usr/local/lib/python3.6/dist-packages/ipykernel_launcher.py:3: UserWarning: Legend does not support 'c' instances.\n",
            "A proxy artist may be used instead.\n",
            "See: http://matplotlib.org/users/legend_guide.html#creating-artists-specifically-for-adding-to-the-legend-aka-proxy-artists\n",
            "  This is separate from the ipykernel package so we can avoid doing imports until\n",
            "/usr/local/lib/python3.6/dist-packages/ipykernel_launcher.py:3: UserWarning: Legend does not support 't' instances.\n",
            "A proxy artist may be used instead.\n",
            "See: http://matplotlib.org/users/legend_guide.html#creating-artists-specifically-for-adding-to-the-legend-aka-proxy-artists\n",
            "  This is separate from the ipykernel package so we can avoid doing imports until\n",
            "/usr/local/lib/python3.6/dist-packages/ipykernel_launcher.py:3: UserWarning: Legend does not support 'u' instances.\n",
            "A proxy artist may be used instead.\n",
            "See: http://matplotlib.org/users/legend_guide.html#creating-artists-specifically-for-adding-to-the-legend-aka-proxy-artists\n",
            "  This is separate from the ipykernel package so we can avoid doing imports until\n",
            "/usr/local/lib/python3.6/dist-packages/ipykernel_launcher.py:3: UserWarning: Legend does not support 'a' instances.\n",
            "A proxy artist may be used instead.\n",
            "See: http://matplotlib.org/users/legend_guide.html#creating-artists-specifically-for-adding-to-the-legend-aka-proxy-artists\n",
            "  This is separate from the ipykernel package so we can avoid doing imports until\n",
            "/usr/local/lib/python3.6/dist-packages/ipykernel_launcher.py:3: UserWarning: Legend does not support 'l' instances.\n",
            "A proxy artist may be used instead.\n",
            "See: http://matplotlib.org/users/legend_guide.html#creating-artists-specifically-for-adding-to-the-legend-aka-proxy-artists\n",
            "  This is separate from the ipykernel package so we can avoid doing imports until\n"
          ],
          "name": "stderr"
        },
        {
          "output_type": "display_data",
          "data": {
            "image/png": "[encoded data removed]",
            "text/plain": [
              "<Figure size 432x288 with 1 Axes>"
            ]
          },
          "metadata": {
            "tags": []
          }
        }
      ]
    },
    {
      "cell_type": "code",
      "metadata": {
        "id": "ZT0k3rSuAZPN",
        "colab_type": "code",
        "colab": {}
      },
      "source": [
        "model = keras.Sequential()\n",
        "model.add(keras.layers.LSTM(100, activation='relu', input_shape=(n_steps, 1)))\n",
        "model.add(keras.layers.Dense(1))\n",
        "model.compile(optimizer='adam', loss='mse',metrics=['accuracy'])"
      ],
      "execution_count": 0,
      "outputs": []
    },
    {
      "cell_type": "code",
      "metadata": {
        "id": "uin8xQNXB74p",
        "colab_type": "code",
        "outputId": "c3193be0-c311-43e0-d4b9-418a3eb2de71",
        "colab": {
          "base_uri": "https://localhost:8080/",
          "height": 1000
        }
      },
      "source": [
        "model.fit(X12, y12, validation_data=(X_test12,y_test12),epochs=50)"
      ],
      "execution_count": 353,
      "outputs": [
        {
          "output_type": "stream",
          "text": [
            "Train on 11997 samples, validate on 3702 samples\n",
            "Epoch 1/50\n",
            "11997/11997 [==============================] - 5s 424us/sample - loss: 0.0018 - acc: 0.8385 - val_loss: 2.8717e-04 - val_acc: 0.8379\n",
            "Epoch 2/50\n",
            "11997/11997 [==============================] - 2s 203us/sample - loss: 0.0018 - acc: 0.8385 - val_loss: 4.0677e-04 - val_acc: 0.8379\n",
            "Epoch 3/50\n",
            "11997/11997 [==============================] - 2s 200us/sample - loss: 0.0018 - acc: 0.8385 - val_loss: 2.9719e-04 - val_acc: 0.8379\n",
            "Epoch 4/50\n",
            "11997/11997 [==============================] - 2s 200us/sample - loss: 0.0018 - acc: 0.8385 - val_loss: 3.3177e-04 - val_acc: 0.8379\n",
            "Epoch 5/50\n",
            "11997/11997 [==============================] - 2s 200us/sample - loss: 0.0018 - acc: 0.8385 - val_loss: 2.8321e-04 - val_acc: 0.8379\n",
            "Epoch 6/50\n",
            "11997/11997 [==============================] - 2s 199us/sample - loss: 0.0018 - acc: 0.8385 - val_loss: 3.2310e-04 - val_acc: 0.8379\n",
            "Epoch 7/50\n",
            "11997/11997 [==============================] - 2s 202us/sample - loss: 0.0017 - acc: 0.8385 - val_loss: 2.9429e-04 - val_acc: 0.8379\n",
            "Epoch 8/50\n",
            "11997/11997 [==============================] - 2s 200us/sample - loss: 0.0018 - acc: 0.8385 - val_loss: 2.8109e-04 - val_acc: 0.8379\n",
            "Epoch 9/50\n",
            "11997/11997 [==============================] - 3s 215us/sample - loss: 0.0018 - acc: 0.8385 - val_loss: 3.0496e-04 - val_acc: 0.8379\n",
            "Epoch 10/50\n",
            "11997/11997 [==============================] - 2s 207us/sample - loss: 0.0018 - acc: 0.8385 - val_loss: 3.4005e-04 - val_acc: 0.8379\n",
            "Epoch 11/50\n",
            "11997/11997 [==============================] - 2s 205us/sample - loss: 0.0017 - acc: 0.8385 - val_loss: 2.7940e-04 - val_acc: 0.8379\n",
            "Epoch 12/50\n",
            "11997/11997 [==============================] - 2s 204us/sample - loss: 0.0017 - acc: 0.8385 - val_loss: 2.9453e-04 - val_acc: 0.8379\n",
            "Epoch 13/50\n",
            "11997/11997 [==============================] - 2s 208us/sample - loss: 0.0017 - acc: 0.8385 - val_loss: 3.6795e-04 - val_acc: 0.8379\n",
            "Epoch 14/50\n",
            "11997/11997 [==============================] - 2s 203us/sample - loss: 0.0017 - acc: 0.8385 - val_loss: 3.8250e-04 - val_acc: 0.8379\n",
            "Epoch 15/50\n",
            "11997/11997 [==============================] - 2s 207us/sample - loss: 0.0017 - acc: 0.8385 - val_loss: 3.1230e-04 - val_acc: 0.8379\n",
            "Epoch 16/50\n",
            "11997/11997 [==============================] - 3s 212us/sample - loss: 0.0017 - acc: 0.8385 - val_loss: 3.2671e-04 - val_acc: 0.8379\n",
            "Epoch 17/50\n",
            "11997/11997 [==============================] - 3s 210us/sample - loss: 0.0017 - acc: 0.8385 - val_loss: 3.2118e-04 - val_acc: 0.8379\n",
            "Epoch 18/50\n",
            "11997/11997 [==============================] - 2s 207us/sample - loss: 0.0017 - acc: 0.8385 - val_loss: 3.3926e-04 - val_acc: 0.8379\n",
            "Epoch 19/50\n",
            "11997/11997 [==============================] - 3s 212us/sample - loss: 0.0017 - acc: 0.8385 - val_loss: 2.8738e-04 - val_acc: 0.8379\n",
            "Epoch 20/50\n",
            "11997/11997 [==============================] - 2s 206us/sample - loss: 0.0017 - acc: 0.8385 - val_loss: 2.9238e-04 - val_acc: 0.8379\n",
            "Epoch 21/50\n",
            "11997/11997 [==============================] - 3s 213us/sample - loss: 0.0017 - acc: 0.8385 - val_loss: 3.3310e-04 - val_acc: 0.8379\n",
            "Epoch 22/50\n",
            "11997/11997 [==============================] - 3s 209us/sample - loss: 0.0017 - acc: 0.8385 - val_loss: 3.3788e-04 - val_acc: 0.8379\n",
            "Epoch 23/50\n",
            "11997/11997 [==============================] - 2s 206us/sample - loss: 0.0017 - acc: 0.8385 - val_loss: 3.6718e-04 - val_acc: 0.8379\n",
            "Epoch 24/50\n",
            "11997/11997 [==============================] - 2s 203us/sample - loss: 0.0017 - acc: 0.8385 - val_loss: 2.9089e-04 - val_acc: 0.8379\n",
            "Epoch 25/50\n",
            "11997/11997 [==============================] - 2s 206us/sample - loss: 0.0017 - acc: 0.8385 - val_loss: 2.7685e-04 - val_acc: 0.8379\n",
            "Epoch 26/50\n",
            "11997/11997 [==============================] - 2s 200us/sample - loss: 0.0017 - acc: 0.8385 - val_loss: 2.9583e-04 - val_acc: 0.8379\n",
            "Epoch 27/50\n",
            "11997/11997 [==============================] - 2s 205us/sample - loss: 0.0017 - acc: 0.8385 - val_loss: 2.7871e-04 - val_acc: 0.8379\n",
            "Epoch 28/50\n",
            "11997/11997 [==============================] - 2s 207us/sample - loss: 0.0017 - acc: 0.8385 - val_loss: 2.7760e-04 - val_acc: 0.8379\n",
            "Epoch 29/50\n",
            "11997/11997 [==============================] - 2s 203us/sample - loss: 0.0017 - acc: 0.8385 - val_loss: 3.1649e-04 - val_acc: 0.8379\n",
            "Epoch 30/50\n",
            "11997/11997 [==============================] - 2s 202us/sample - loss: 0.0017 - acc: 0.8385 - val_loss: 2.7704e-04 - val_acc: 0.8379\n",
            "Epoch 31/50\n",
            "11997/11997 [==============================] - 2s 205us/sample - loss: 0.0017 - acc: 0.8385 - val_loss: 3.1132e-04 - val_acc: 0.8379\n",
            "Epoch 32/50\n",
            "11997/11997 [==============================] - 2s 205us/sample - loss: 0.0017 - acc: 0.8385 - val_loss: 2.8925e-04 - val_acc: 0.8379\n",
            "Epoch 33/50\n",
            "11997/11997 [==============================] - 3s 211us/sample - loss: 0.0017 - acc: 0.8385 - val_loss: 2.9495e-04 - val_acc: 0.8379\n",
            "Epoch 34/50\n",
            "11997/11997 [==============================] - 4s 337us/sample - loss: 0.0017 - acc: 0.8385 - val_loss: 2.9872e-04 - val_acc: 0.8379\n",
            "Epoch 35/50\n",
            "11997/11997 [==============================] - 3s 289us/sample - loss: 0.0017 - acc: 0.8385 - val_loss: 3.1597e-04 - val_acc: 0.8379\n",
            "Epoch 36/50\n",
            "11997/11997 [==============================] - 2s 207us/sample - loss: 0.0017 - acc: 0.8385 - val_loss: 2.8686e-04 - val_acc: 0.8379\n",
            "Epoch 37/50\n",
            "11997/11997 [==============================] - 3s 220us/sample - loss: 0.0017 - acc: 0.8385 - val_loss: 2.9778e-04 - val_acc: 0.8379\n",
            "Epoch 38/50\n",
            "11997/11997 [==============================] - 3s 213us/sample - loss: 0.0017 - acc: 0.8385 - val_loss: 2.8896e-04 - val_acc: 0.8379\n",
            "Epoch 39/50\n",
            "11997/11997 [==============================] - 2s 208us/sample - loss: 0.0017 - acc: 0.8385 - val_loss: 3.2104e-04 - val_acc: 0.8379\n",
            "Epoch 40/50\n",
            "11997/11997 [==============================] - 2s 205us/sample - loss: 0.0017 - acc: 0.8385 - val_loss: 2.7559e-04 - val_acc: 0.8379\n",
            "Epoch 41/50\n",
            "11997/11997 [==============================] - 2s 208us/sample - loss: 0.0017 - acc: 0.8385 - val_loss: 3.0884e-04 - val_acc: 0.8379\n",
            "Epoch 42/50\n",
            "11997/11997 [==============================] - 2s 208us/sample - loss: 0.0017 - acc: 0.8385 - val_loss: 3.1986e-04 - val_acc: 0.8379\n",
            "Epoch 43/50\n",
            "11997/11997 [==============================] - 2s 203us/sample - loss: 0.0017 - acc: 0.8385 - val_loss: 3.2032e-04 - val_acc: 0.8379\n",
            "Epoch 44/50\n",
            "11997/11997 [==============================] - 2s 205us/sample - loss: 0.0017 - acc: 0.8385 - val_loss: 3.2425e-04 - val_acc: 0.8379\n",
            "Epoch 45/50\n",
            "11997/11997 [==============================] - 3s 211us/sample - loss: 0.0017 - acc: 0.8385 - val_loss: 3.4606e-04 - val_acc: 0.8379\n",
            "Epoch 46/50\n",
            "11997/11997 [==============================] - 3s 214us/sample - loss: 0.0017 - acc: 0.8385 - val_loss: 3.1493e-04 - val_acc: 0.8379\n",
            "Epoch 47/50\n",
            "11997/11997 [==============================] - 3s 211us/sample - loss: 0.0017 - acc: 0.8385 - val_loss: 3.6446e-04 - val_acc: 0.8379\n",
            "Epoch 48/50\n",
            "11997/11997 [==============================] - 2s 205us/sample - loss: 0.0017 - acc: 0.8385 - val_loss: 3.6181e-04 - val_acc: 0.8379\n",
            "Epoch 49/50\n",
            "11997/11997 [==============================] - 2s 208us/sample - loss: 0.0017 - acc: 0.8385 - val_loss: 3.2025e-04 - val_acc: 0.8379\n",
            "Epoch 50/50\n",
            "11997/11997 [==============================] - 2s 201us/sample - loss: 0.0017 - acc: 0.8385 - val_loss: 3.1851e-04 - val_acc: 0.8379\n"
          ],
          "name": "stdout"
        },
        {
          "output_type": "execute_result",
          "data": {
            "text/plain": [
              "<tensorflow.python.keras.callbacks.History at 0x7fbe88453c18>"
            ]
          },
          "metadata": {
            "tags": []
          },
          "execution_count": 353
        }
      ]
    },
    {
      "cell_type": "code",
      "metadata": {
        "id": "cdlcVaWfIDEI",
        "colab_type": "code",
        "outputId": "b42e2075-41ef-4155-b937-23e906f77575",
        "colab": {
          "base_uri": "https://localhost:8080/",
          "height": 50
        }
      },
      "source": [
        "ypred = model.predict(X12)\n",
        "s=pd.DataFrame(ypred)\n",
        "s1=pd.DataFrame(y12)\n",
        "s1.corrwith(s, axis = 0) "
      ],
      "execution_count": 354,
      "outputs": [
        {
          "output_type": "execute_result",
          "data": {
            "text/plain": [
              "0    0.364602\n",
              "dtype: float64"
            ]
          },
          "metadata": {
            "tags": []
          },
          "execution_count": 354
        }
      ]
    },
    {
      "cell_type": "code",
      "metadata": {
        "id": "lcIK1vV7LH0l",
        "colab_type": "code",
        "outputId": "221f46d8-1727-4736-a75f-4100f3028ca3",
        "colab": {
          "base_uri": "https://localhost:8080/",
          "height": 34
        }
      },
      "source": [
        "r2_score(y12,ypred)"
      ],
      "execution_count": 355,
      "outputs": [
        {
          "output_type": "execute_result",
          "data": {
            "text/plain": [
              "0.13221849518096385"
            ]
          },
          "metadata": {
            "tags": []
          },
          "execution_count": 355
        }
      ]
    },
    {
      "cell_type": "code",
      "metadata": {
        "id": "C1dAhjw5JWAB",
        "colab_type": "code",
        "outputId": "04d7089a-d84f-4f85-d4c6-94449cd1f44b",
        "colab": {
          "base_uri": "https://localhost:8080/",
          "height": 50
        }
      },
      "source": [
        "ypred1=model.predict(X_test12)\n",
        "s=pd.DataFrame(ypred1)\n",
        "s1=pd.DataFrame(y_test12)\n",
        "s1.corrwith(s,axis=0)"
      ],
      "execution_count": 356,
      "outputs": [
        {
          "output_type": "execute_result",
          "data": {
            "text/plain": [
              "0   -0.000207\n",
              "dtype: float64"
            ]
          },
          "metadata": {
            "tags": []
          },
          "execution_count": 356
        }
      ]
    },
    {
      "cell_type": "code",
      "metadata": {
        "id": "SUu9HNNALKXT",
        "colab_type": "code",
        "outputId": "2fb954b7-067f-47b6-b487-66b0cbe114ee",
        "colab": {
          "base_uri": "https://localhost:8080/",
          "height": 34
        }
      },
      "source": [
        "r2_score(y_test12,ypred1)"
      ],
      "execution_count": 357,
      "outputs": [
        {
          "output_type": "execute_result",
          "data": {
            "text/plain": [
              "-0.1794430657022752"
            ]
          },
          "metadata": {
            "tags": []
          },
          "execution_count": 357
        }
      ]
    },
    {
      "cell_type": "code",
      "metadata": {
        "id": "h2tbAJ9kcHAn",
        "colab_type": "code",
        "outputId": "77554656-71af-4d06-db8f-556e22d3bb5c",
        "colab": {
          "base_uri": "https://localhost:8080/",
          "height": 34
        }
      },
      "source": [
        "mean_absolute_error(y_test12,ypred1)"
      ],
      "execution_count": 358,
      "outputs": [
        {
          "output_type": "execute_result",
          "data": {
            "text/plain": [
              "0.007070013846746588"
            ]
          },
          "metadata": {
            "tags": []
          },
          "execution_count": 358
        }
      ]
    },
    {
      "cell_type": "code",
      "metadata": {
        "id": "mH7-ROQ-cJPL",
        "colab_type": "code",
        "outputId": "db30f584-d92d-4b16-b75f-896dc485998c",
        "colab": {
          "base_uri": "https://localhost:8080/",
          "height": 34
        }
      },
      "source": [
        "mean_absolute_error(y12,ypred)"
      ],
      "execution_count": 359,
      "outputs": [
        {
          "output_type": "execute_result",
          "data": {
            "text/plain": [
              "0.017318185105018088"
            ]
          },
          "metadata": {
            "tags": []
          },
          "execution_count": 359
        }
      ]
    },
    {
      "cell_type": "code",
      "metadata": {
        "id": "o5M7bLWABcXr",
        "colab_type": "code",
        "colab": {}
      },
      "source": [
        "ypred1[ypred1<0]=0"
      ],
      "execution_count": 0,
      "outputs": []
    },
    {
      "cell_type": "code",
      "metadata": {
        "id": "eG8AxXttBiKC",
        "colab_type": "code",
        "colab": {
          "base_uri": "https://localhost:8080/",
          "height": 668
        },
        "outputId": "16203401-ff7c-45fb-8a7d-100464088476"
      },
      "source": [
        "plt.plot(y_test12)\n",
        "plt.plot(ypred1)\n",
        "plt.legend(\"Actual\",\"predicted\")\n",
        "plt.show()"
      ],
      "execution_count": 361,
      "outputs": [
        {
          "output_type": "stream",
          "text": [
            "/usr/local/lib/python3.6/dist-packages/ipykernel_launcher.py:3: UserWarning: Legend does not support 'A' instances.\n",
            "A proxy artist may be used instead.\n",
            "See: http://matplotlib.org/users/legend_guide.html#creating-artists-specifically-for-adding-to-the-legend-aka-proxy-artists\n",
            "  This is separate from the ipykernel package so we can avoid doing imports until\n",
            "/usr/local/lib/python3.6/dist-packages/ipykernel_launcher.py:3: UserWarning: Legend does not support 'c' instances.\n",
            "A proxy artist may be used instead.\n",
            "See: http://matplotlib.org/users/legend_guide.html#creating-artists-specifically-for-adding-to-the-legend-aka-proxy-artists\n",
            "  This is separate from the ipykernel package so we can avoid doing imports until\n",
            "/usr/local/lib/python3.6/dist-packages/ipykernel_launcher.py:3: UserWarning: Legend does not support 't' instances.\n",
            "A proxy artist may be used instead.\n",
            "See: http://matplotlib.org/users/legend_guide.html#creating-artists-specifically-for-adding-to-the-legend-aka-proxy-artists\n",
            "  This is separate from the ipykernel package so we can avoid doing imports until\n",
            "/usr/local/lib/python3.6/dist-packages/ipykernel_launcher.py:3: UserWarning: Legend does not support 'u' instances.\n",
            "A proxy artist may be used instead.\n",
            "See: http://matplotlib.org/users/legend_guide.html#creating-artists-specifically-for-adding-to-the-legend-aka-proxy-artists\n",
            "  This is separate from the ipykernel package so we can avoid doing imports until\n",
            "/usr/local/lib/python3.6/dist-packages/ipykernel_launcher.py:3: UserWarning: Legend does not support 'a' instances.\n",
            "A proxy artist may be used instead.\n",
            "See: http://matplotlib.org/users/legend_guide.html#creating-artists-specifically-for-adding-to-the-legend-aka-proxy-artists\n",
            "  This is separate from the ipykernel package so we can avoid doing imports until\n",
            "/usr/local/lib/python3.6/dist-packages/ipykernel_launcher.py:3: UserWarning: Legend does not support 'l' instances.\n",
            "A proxy artist may be used instead.\n",
            "See: http://matplotlib.org/users/legend_guide.html#creating-artists-specifically-for-adding-to-the-legend-aka-proxy-artists\n",
            "  This is separate from the ipykernel package so we can avoid doing imports until\n"
          ],
          "name": "stderr"
        },
        {
          "output_type": "display_data",
          "data": {
            "image/png": "[encoded data removed]",
            "text/plain": [
              "<Figure size 432x288 with 1 Axes>"
            ]
          },
          "metadata": {
            "tags": []
          }
        }
      ]
    },
    {
      "cell_type": "code",
      "metadata": {
        "id": "fHWybRsJEHsn",
        "colab_type": "code",
        "colab": {
          "base_uri": "https://localhost:8080/",
          "height": 265
        },
        "outputId": "3db4f510-efde-4eef-f261-5885e26c5bfd"
      },
      "source": [
        "plt.plot(y_test12)\n",
        "plt.show()"
      ],
      "execution_count": 362,
      "outputs": [
        {
          "output_type": "display_data",
          "data": {
            "image/png": "[encoded data removed]",
            "text/plain": [
              "<Figure size 432x288 with 1 Axes>"
            ]
          },
          "metadata": {
            "tags": []
          }
        }
      ]
    },
    {
      "cell_type": "code",
      "metadata": {
        "id": "yaULxKXzAbWw",
        "colab_type": "code",
        "colab": {}
      },
      "source": [
        "model = keras.Sequential()\n",
        "model.add(keras.layers.LSTM(100, activation='relu', input_shape=(n_steps, 1)))\n",
        "model.add(keras.layers.Dense(1))\n",
        "model.compile(optimizer='adam', loss='mse',metrics=['accuracy'])"
      ],
      "execution_count": 0,
      "outputs": []
    },
    {
      "cell_type": "code",
      "metadata": {
        "id": "q24UogQuB8LN",
        "colab_type": "code",
        "outputId": "68f256a4-f24e-4729-d7b1-2fe2794cf133",
        "colab": {
          "base_uri": "https://localhost:8080/",
          "height": 1000
        }
      },
      "source": [
        "model.fit(X13, y13, validation_data=(X_test13,y_test13),epochs=50)"
      ],
      "execution_count": 364,
      "outputs": [
        {
          "output_type": "stream",
          "text": [
            "Train on 11997 samples, validate on 3702 samples\n",
            "Epoch 1/50\n",
            "11997/11997 [==============================] - 5s 451us/sample - loss: 0.0028 - acc: 0.8430 - val_loss: 4.7241e-04 - val_acc: 0.8598\n",
            "Epoch 2/50\n",
            "11997/11997 [==============================] - 3s 224us/sample - loss: 0.0027 - acc: 0.8430 - val_loss: 2.9753e-04 - val_acc: 0.8598\n",
            "Epoch 3/50\n",
            "11997/11997 [==============================] - 3s 213us/sample - loss: 0.0027 - acc: 0.8430 - val_loss: 3.8425e-04 - val_acc: 0.8598\n",
            "Epoch 4/50\n",
            "11997/11997 [==============================] - 3s 212us/sample - loss: 0.0027 - acc: 0.8430 - val_loss: 2.9454e-04 - val_acc: 0.8598\n",
            "Epoch 5/50\n",
            "11997/11997 [==============================] - 3s 212us/sample - loss: 0.0027 - acc: 0.8430 - val_loss: 3.5844e-04 - val_acc: 0.8598\n",
            "Epoch 6/50\n",
            "11997/11997 [==============================] - 3s 212us/sample - loss: 0.0027 - acc: 0.8430 - val_loss: 2.8428e-04 - val_acc: 0.8598\n",
            "Epoch 7/50\n",
            "11997/11997 [==============================] - 3s 211us/sample - loss: 0.0027 - acc: 0.8430 - val_loss: 3.1182e-04 - val_acc: 0.8598\n",
            "Epoch 8/50\n",
            "11997/11997 [==============================] - 3s 216us/sample - loss: 0.0027 - acc: 0.8430 - val_loss: 4.0267e-04 - val_acc: 0.8598\n",
            "Epoch 9/50\n",
            "11997/11997 [==============================] - 3s 210us/sample - loss: 0.0027 - acc: 0.8430 - val_loss: 3.3263e-04 - val_acc: 0.8598\n",
            "Epoch 10/50\n",
            "11997/11997 [==============================] - 3s 209us/sample - loss: 0.0027 - acc: 0.8430 - val_loss: 3.2603e-04 - val_acc: 0.8598\n",
            "Epoch 11/50\n",
            "11997/11997 [==============================] - 3s 210us/sample - loss: 0.0027 - acc: 0.8430 - val_loss: 3.2405e-04 - val_acc: 0.8598\n",
            "Epoch 12/50\n",
            "11997/11997 [==============================] - 3s 212us/sample - loss: 0.0027 - acc: 0.8430 - val_loss: 4.1794e-04 - val_acc: 0.8598\n",
            "Epoch 13/50\n",
            "11997/11997 [==============================] - 3s 210us/sample - loss: 0.0027 - acc: 0.8430 - val_loss: 3.5367e-04 - val_acc: 0.8598\n",
            "Epoch 14/50\n",
            "11997/11997 [==============================] - 3s 212us/sample - loss: 0.0027 - acc: 0.8430 - val_loss: 3.0030e-04 - val_acc: 0.8598\n",
            "Epoch 15/50\n",
            "11997/11997 [==============================] - 2s 207us/sample - loss: 0.0027 - acc: 0.8430 - val_loss: 2.8990e-04 - val_acc: 0.8598\n",
            "Epoch 16/50\n",
            "11997/11997 [==============================] - 2s 204us/sample - loss: 0.0027 - acc: 0.8430 - val_loss: 3.2098e-04 - val_acc: 0.8598\n",
            "Epoch 17/50\n",
            "11997/11997 [==============================] - 2s 206us/sample - loss: 0.0027 - acc: 0.8430 - val_loss: 3.5138e-04 - val_acc: 0.8598\n",
            "Epoch 18/50\n",
            "11997/11997 [==============================] - 2s 204us/sample - loss: 0.0027 - acc: 0.8430 - val_loss: 3.2402e-04 - val_acc: 0.8598\n",
            "Epoch 19/50\n",
            "11997/11997 [==============================] - 3s 210us/sample - loss: 0.0027 - acc: 0.8430 - val_loss: 3.1631e-04 - val_acc: 0.8598\n",
            "Epoch 20/50\n",
            "11997/11997 [==============================] - 2s 205us/sample - loss: 0.0027 - acc: 0.8430 - val_loss: 2.9721e-04 - val_acc: 0.8598\n",
            "Epoch 21/50\n",
            "11997/11997 [==============================] - 3s 211us/sample - loss: 0.0027 - acc: 0.8430 - val_loss: 3.8567e-04 - val_acc: 0.8598\n",
            "Epoch 22/50\n",
            "11997/11997 [==============================] - 2s 207us/sample - loss: 0.0027 - acc: 0.8430 - val_loss: 2.9574e-04 - val_acc: 0.8598\n",
            "Epoch 23/50\n",
            "11997/11997 [==============================] - 3s 210us/sample - loss: 0.0027 - acc: 0.8430 - val_loss: 3.7452e-04 - val_acc: 0.8598\n",
            "Epoch 24/50\n",
            "11997/11997 [==============================] - 3s 211us/sample - loss: 0.0027 - acc: 0.8430 - val_loss: 3.0977e-04 - val_acc: 0.8598\n",
            "Epoch 25/50\n",
            "11997/11997 [==============================] - 3s 215us/sample - loss: 0.0027 - acc: 0.8430 - val_loss: 2.8895e-04 - val_acc: 0.8598\n",
            "Epoch 26/50\n",
            "11997/11997 [==============================] - 3s 224us/sample - loss: 0.0027 - acc: 0.8430 - val_loss: 2.8291e-04 - val_acc: 0.8598\n",
            "Epoch 27/50\n",
            "11997/11997 [==============================] - 2s 208us/sample - loss: 0.0027 - acc: 0.8430 - val_loss: 2.9752e-04 - val_acc: 0.8598\n",
            "Epoch 28/50\n",
            "11997/11997 [==============================] - 3s 216us/sample - loss: 0.0027 - acc: 0.8430 - val_loss: 2.9540e-04 - val_acc: 0.8598\n",
            "Epoch 29/50\n",
            "11997/11997 [==============================] - 2s 206us/sample - loss: 0.0027 - acc: 0.8430 - val_loss: 2.8564e-04 - val_acc: 0.8598\n",
            "Epoch 30/50\n",
            "11997/11997 [==============================] - 3s 211us/sample - loss: 0.0027 - acc: 0.8430 - val_loss: 2.7350e-04 - val_acc: 0.8598\n",
            "Epoch 31/50\n",
            "11997/11997 [==============================] - 2s 208us/sample - loss: 0.0027 - acc: 0.8430 - val_loss: 3.2164e-04 - val_acc: 0.8598\n",
            "Epoch 32/50\n",
            "11997/11997 [==============================] - 3s 209us/sample - loss: 0.0027 - acc: 0.8430 - val_loss: 2.9360e-04 - val_acc: 0.8598\n",
            "Epoch 33/50\n",
            "11997/11997 [==============================] - 2s 205us/sample - loss: 0.0027 - acc: 0.8430 - val_loss: 3.1546e-04 - val_acc: 0.8598\n",
            "Epoch 34/50\n",
            "11997/11997 [==============================] - 2s 205us/sample - loss: 0.0027 - acc: 0.8430 - val_loss: 3.2256e-04 - val_acc: 0.8598\n",
            "Epoch 35/50\n",
            "11997/11997 [==============================] - 2s 207us/sample - loss: 0.0027 - acc: 0.8430 - val_loss: 4.1377e-04 - val_acc: 0.8598\n",
            "Epoch 36/50\n",
            "11997/11997 [==============================] - 2s 205us/sample - loss: 0.0027 - acc: 0.8430 - val_loss: 3.0241e-04 - val_acc: 0.8598\n",
            "Epoch 37/50\n",
            "11997/11997 [==============================] - 2s 203us/sample - loss: 0.0027 - acc: 0.8430 - val_loss: 3.0928e-04 - val_acc: 0.8598\n",
            "Epoch 38/50\n",
            "11997/11997 [==============================] - 3s 209us/sample - loss: 0.0027 - acc: 0.8430 - val_loss: 4.6603e-04 - val_acc: 0.8598\n",
            "Epoch 39/50\n",
            "11997/11997 [==============================] - 2s 205us/sample - loss: 0.0027 - acc: 0.8430 - val_loss: 3.2096e-04 - val_acc: 0.8598\n",
            "Epoch 40/50\n",
            "11997/11997 [==============================] - 3s 212us/sample - loss: 0.0027 - acc: 0.8430 - val_loss: 2.8856e-04 - val_acc: 0.8598\n",
            "Epoch 41/50\n",
            "11997/11997 [==============================] - 3s 217us/sample - loss: 0.0027 - acc: 0.8430 - val_loss: 2.9962e-04 - val_acc: 0.8598\n",
            "Epoch 42/50\n",
            "11997/11997 [==============================] - 3s 219us/sample - loss: 0.0027 - acc: 0.8430 - val_loss: 3.1319e-04 - val_acc: 0.8598\n",
            "Epoch 43/50\n",
            "11997/11997 [==============================] - 2s 206us/sample - loss: 0.0027 - acc: 0.8430 - val_loss: 3.0466e-04 - val_acc: 0.8598\n",
            "Epoch 44/50\n",
            "11997/11997 [==============================] - 3s 212us/sample - loss: 0.0027 - acc: 0.8430 - val_loss: 3.9523e-04 - val_acc: 0.8598\n",
            "Epoch 45/50\n",
            "11997/11997 [==============================] - 3s 209us/sample - loss: 0.0027 - acc: 0.8430 - val_loss: 3.0200e-04 - val_acc: 0.8598\n",
            "Epoch 46/50\n",
            "11997/11997 [==============================] - 3s 210us/sample - loss: 0.0027 - acc: 0.8430 - val_loss: 2.7731e-04 - val_acc: 0.8598\n",
            "Epoch 47/50\n",
            "11997/11997 [==============================] - 3s 210us/sample - loss: 0.0027 - acc: 0.8430 - val_loss: 3.1203e-04 - val_acc: 0.8598\n",
            "Epoch 48/50\n",
            "11997/11997 [==============================] - 3s 219us/sample - loss: 0.0027 - acc: 0.8430 - val_loss: 2.9051e-04 - val_acc: 0.8598\n",
            "Epoch 49/50\n",
            "11997/11997 [==============================] - 3s 221us/sample - loss: 0.0027 - acc: 0.8430 - val_loss: 2.9933e-04 - val_acc: 0.8598\n",
            "Epoch 50/50\n",
            "11997/11997 [==============================] - 3s 220us/sample - loss: 0.0027 - acc: 0.8430 - val_loss: 3.6354e-04 - val_acc: 0.8598\n"
          ],
          "name": "stdout"
        },
        {
          "output_type": "execute_result",
          "data": {
            "text/plain": [
              "<tensorflow.python.keras.callbacks.History at 0x7fbe885d5320>"
            ]
          },
          "metadata": {
            "tags": []
          },
          "execution_count": 364
        }
      ]
    },
    {
      "cell_type": "code",
      "metadata": {
        "id": "VhNbhU3fIE3L",
        "colab_type": "code",
        "outputId": "b6e5acfe-32a0-4d2c-e3c8-d757bb79f90b",
        "colab": {
          "base_uri": "https://localhost:8080/",
          "height": 50
        }
      },
      "source": [
        "ypred = model.predict(X13)\n",
        "s=pd.DataFrame(ypred)\n",
        "s1=pd.DataFrame(y13)\n",
        "s1.corrwith(s, axis = 0) "
      ],
      "execution_count": 365,
      "outputs": [
        {
          "output_type": "execute_result",
          "data": {
            "text/plain": [
              "0    0.316085\n",
              "dtype: float64"
            ]
          },
          "metadata": {
            "tags": []
          },
          "execution_count": 365
        }
      ]
    },
    {
      "cell_type": "code",
      "metadata": {
        "id": "rDtK58AIK8cY",
        "colab_type": "code",
        "outputId": "47a29c85-63ed-436f-85ce-8120e443dd22",
        "colab": {
          "base_uri": "https://localhost:8080/",
          "height": 34
        }
      },
      "source": [
        "r2_score(y13,ypred)"
      ],
      "execution_count": 366,
      "outputs": [
        {
          "output_type": "execute_result",
          "data": {
            "text/plain": [
              "0.09665115474485608"
            ]
          },
          "metadata": {
            "tags": []
          },
          "execution_count": 366
        }
      ]
    },
    {
      "cell_type": "code",
      "metadata": {
        "id": "aRT60eIMJXc9",
        "colab_type": "code",
        "outputId": "db8fc4e9-9654-4c65-ab03-74338b02b650",
        "colab": {
          "base_uri": "https://localhost:8080/",
          "height": 50
        }
      },
      "source": [
        "ypred1=model.predict(X_test13)\n",
        "s=pd.DataFrame(ypred1)\n",
        "s1=pd.DataFrame(y_test13)\n",
        "s1.corrwith(s,axis=0)"
      ],
      "execution_count": 367,
      "outputs": [
        {
          "output_type": "execute_result",
          "data": {
            "text/plain": [
              "0   -0.00054\n",
              "dtype: float64"
            ]
          },
          "metadata": {
            "tags": []
          },
          "execution_count": 367
        }
      ]
    },
    {
      "cell_type": "code",
      "metadata": {
        "id": "5xh4_heUK-xf",
        "colab_type": "code",
        "outputId": "de310237-27f8-4fe6-f8e1-15de4a9c8deb",
        "colab": {
          "base_uri": "https://localhost:8080/",
          "height": 34
        }
      },
      "source": [
        "r2_score(y_test13,ypred1)"
      ],
      "execution_count": 368,
      "outputs": [
        {
          "output_type": "execute_result",
          "data": {
            "text/plain": [
              "-0.34619952158671086"
            ]
          },
          "metadata": {
            "tags": []
          },
          "execution_count": 368
        }
      ]
    },
    {
      "cell_type": "code",
      "metadata": {
        "id": "KFzCJDbpcMx8",
        "colab_type": "code",
        "outputId": "f1d5572b-13cc-430e-b500-b272d1c9f7a0",
        "colab": {
          "base_uri": "https://localhost:8080/",
          "height": 34
        }
      },
      "source": [
        "mean_absolute_error(y_test13,ypred1)"
      ],
      "execution_count": 369,
      "outputs": [
        {
          "output_type": "execute_result",
          "data": {
            "text/plain": [
              "0.009970447918549567"
            ]
          },
          "metadata": {
            "tags": []
          },
          "execution_count": 369
        }
      ]
    },
    {
      "cell_type": "code",
      "metadata": {
        "id": "O41sYTw2cO27",
        "colab_type": "code",
        "outputId": "fc8f7ffd-c0b2-4732-9ec0-514f6bdf7688",
        "colab": {
          "base_uri": "https://localhost:8080/",
          "height": 34
        }
      },
      "source": [
        "mean_absolute_error(y13,ypred)"
      ],
      "execution_count": 370,
      "outputs": [
        {
          "output_type": "execute_result",
          "data": {
            "text/plain": [
              "0.02300573595029764"
            ]
          },
          "metadata": {
            "tags": []
          },
          "execution_count": 370
        }
      ]
    },
    {
      "cell_type": "code",
      "metadata": {
        "id": "SiCVlu24Bl9p",
        "colab_type": "code",
        "colab": {}
      },
      "source": [
        "ypred1[ypred1<0]=0"
      ],
      "execution_count": 0,
      "outputs": []
    },
    {
      "cell_type": "code",
      "metadata": {
        "id": "C86kf3D8Bp0O",
        "colab_type": "code",
        "colab": {
          "base_uri": "https://localhost:8080/",
          "height": 668
        },
        "outputId": "4c12463f-6fb5-4483-adff-8facc757ab9f"
      },
      "source": [
        "plt.plot(y_test13)\n",
        "plt.plot(ypred1)\n",
        "plt.legend(\"Actual\",\"predicted\")\n",
        "plt.show()"
      ],
      "execution_count": 372,
      "outputs": [
        {
          "output_type": "stream",
          "text": [
            "/usr/local/lib/python3.6/dist-packages/ipykernel_launcher.py:3: UserWarning: Legend does not support 'A' instances.\n",
            "A proxy artist may be used instead.\n",
            "See: http://matplotlib.org/users/legend_guide.html#creating-artists-specifically-for-adding-to-the-legend-aka-proxy-artists\n",
            "  This is separate from the ipykernel package so we can avoid doing imports until\n",
            "/usr/local/lib/python3.6/dist-packages/ipykernel_launcher.py:3: UserWarning: Legend does not support 'c' instances.\n",
            "A proxy artist may be used instead.\n",
            "See: http://matplotlib.org/users/legend_guide.html#creating-artists-specifically-for-adding-to-the-legend-aka-proxy-artists\n",
            "  This is separate from the ipykernel package so we can avoid doing imports until\n",
            "/usr/local/lib/python3.6/dist-packages/ipykernel_launcher.py:3: UserWarning: Legend does not support 't' instances.\n",
            "A proxy artist may be used instead.\n",
            "See: http://matplotlib.org/users/legend_guide.html#creating-artists-specifically-for-adding-to-the-legend-aka-proxy-artists\n",
            "  This is separate from the ipykernel package so we can avoid doing imports until\n",
            "/usr/local/lib/python3.6/dist-packages/ipykernel_launcher.py:3: UserWarning: Legend does not support 'u' instances.\n",
            "A proxy artist may be used instead.\n",
            "See: http://matplotlib.org/users/legend_guide.html#creating-artists-specifically-for-adding-to-the-legend-aka-proxy-artists\n",
            "  This is separate from the ipykernel package so we can avoid doing imports until\n",
            "/usr/local/lib/python3.6/dist-packages/ipykernel_launcher.py:3: UserWarning: Legend does not support 'a' instances.\n",
            "A proxy artist may be used instead.\n",
            "See: http://matplotlib.org/users/legend_guide.html#creating-artists-specifically-for-adding-to-the-legend-aka-proxy-artists\n",
            "  This is separate from the ipykernel package so we can avoid doing imports until\n",
            "/usr/local/lib/python3.6/dist-packages/ipykernel_launcher.py:3: UserWarning: Legend does not support 'l' instances.\n",
            "A proxy artist may be used instead.\n",
            "See: http://matplotlib.org/users/legend_guide.html#creating-artists-specifically-for-adding-to-the-legend-aka-proxy-artists\n",
            "  This is separate from the ipykernel package so we can avoid doing imports until\n"
          ],
          "name": "stderr"
        },
        {
          "output_type": "display_data",
          "data": {
            "image/png": "[encoded data removed]",
            "text/plain": [
              "<Figure size 432x288 with 1 Axes>"
            ]
          },
          "metadata": {
            "tags": []
          }
        }
      ]
    },
    {
      "cell_type": "code",
      "metadata": {
        "id": "3DRKxbXfEN4T",
        "colab_type": "code",
        "colab": {
          "base_uri": "https://localhost:8080/",
          "height": 265
        },
        "outputId": "f6f54a2e-ed8f-4f32-927f-547ad8a7f3d5"
      },
      "source": [
        "plt.plot(y_test13)\n",
        "plt.show()"
      ],
      "execution_count": 373,
      "outputs": [
        {
          "output_type": "display_data",
          "data": {
            "image/png": "[encoded data removed]",
            "text/plain": [
              "<Figure size 432x288 with 1 Axes>"
            ]
          },
          "metadata": {
            "tags": []
          }
        }
      ]
    },
    {
      "cell_type": "code",
      "metadata": {
        "id": "eEhjvgnJAdfb",
        "colab_type": "code",
        "colab": {}
      },
      "source": [
        "model = keras.Sequential()\n",
        "model.add(keras.layers.LSTM(100, activation='relu', input_shape=(n_steps, 1)))\n",
        "model.add(keras.layers.Dense(1))\n",
        "model.compile(optimizer='adam', loss='mse',metrics=['accuracy'])"
      ],
      "execution_count": 0,
      "outputs": []
    },
    {
      "cell_type": "code",
      "metadata": {
        "id": "ZOiZXqKJB8jC",
        "colab_type": "code",
        "outputId": "27950efa-90d3-4db0-99a3-dea233d90f5c",
        "colab": {
          "base_uri": "https://localhost:8080/",
          "height": 1000
        }
      },
      "source": [
        "model.fit(X14, y14, validation_data=(X_test14,y_test14),epochs=50)"
      ],
      "execution_count": 375,
      "outputs": [
        {
          "output_type": "stream",
          "text": [
            "Train on 11997 samples, validate on 3675 samples\n",
            "Epoch 1/50\n",
            "11997/11997 [==============================] - 6s 492us/sample - loss: 0.0026 - acc: 0.8338 - val_loss: 0.0040 - val_acc: 0.8465\n",
            "Epoch 2/50\n",
            "11997/11997 [==============================] - 3s 224us/sample - loss: 0.0025 - acc: 0.8338 - val_loss: 0.0039 - val_acc: 0.8465\n",
            "Epoch 3/50\n",
            "11997/11997 [==============================] - 3s 221us/sample - loss: 0.0025 - acc: 0.8338 - val_loss: 0.0040 - val_acc: 0.8465\n",
            "Epoch 4/50\n",
            "11997/11997 [==============================] - 3s 224us/sample - loss: 0.0025 - acc: 0.8338 - val_loss: 0.0040 - val_acc: 0.8465\n",
            "Epoch 5/50\n",
            "11997/11997 [==============================] - 3s 224us/sample - loss: 0.0025 - acc: 0.8338 - val_loss: 0.0040 - val_acc: 0.8465\n",
            "Epoch 6/50\n",
            "11997/11997 [==============================] - 3s 232us/sample - loss: 0.0025 - acc: 0.8338 - val_loss: 0.0040 - val_acc: 0.8465\n",
            "Epoch 7/50\n",
            "11997/11997 [==============================] - 3s 228us/sample - loss: 0.0025 - acc: 0.8338 - val_loss: 0.0040 - val_acc: 0.8465\n",
            "Epoch 8/50\n",
            "11997/11997 [==============================] - 3s 237us/sample - loss: 0.0025 - acc: 0.8338 - val_loss: 0.0040 - val_acc: 0.8465\n",
            "Epoch 9/50\n",
            "11997/11997 [==============================] - 3s 224us/sample - loss: 0.0025 - acc: 0.8338 - val_loss: 0.0040 - val_acc: 0.8465\n",
            "Epoch 10/50\n",
            "11997/11997 [==============================] - 3s 221us/sample - loss: 0.0025 - acc: 0.8338 - val_loss: 0.0040 - val_acc: 0.8465\n",
            "Epoch 11/50\n",
            "11997/11997 [==============================] - 3s 227us/sample - loss: 0.0025 - acc: 0.8338 - val_loss: 0.0040 - val_acc: 0.8465\n",
            "Epoch 12/50\n",
            "11997/11997 [==============================] - 3s 228us/sample - loss: 0.0025 - acc: 0.8338 - val_loss: 0.0040 - val_acc: 0.8465\n",
            "Epoch 13/50\n",
            "11997/11997 [==============================] - 3s 216us/sample - loss: 0.0025 - acc: 0.8338 - val_loss: 0.0040 - val_acc: 0.8465\n",
            "Epoch 14/50\n",
            "11997/11997 [==============================] - 3s 220us/sample - loss: 0.0025 - acc: 0.8338 - val_loss: 0.0039 - val_acc: 0.8465\n",
            "Epoch 15/50\n",
            "11997/11997 [==============================] - 3s 219us/sample - loss: 0.0025 - acc: 0.8338 - val_loss: 0.0040 - val_acc: 0.8465\n",
            "Epoch 16/50\n",
            "11997/11997 [==============================] - 3s 221us/sample - loss: 0.0025 - acc: 0.8338 - val_loss: 0.0040 - val_acc: 0.8465\n",
            "Epoch 17/50\n",
            "11997/11997 [==============================] - 3s 226us/sample - loss: 0.0025 - acc: 0.8338 - val_loss: 0.0040 - val_acc: 0.8465\n",
            "Epoch 18/50\n",
            "11997/11997 [==============================] - 3s 228us/sample - loss: 0.0025 - acc: 0.8338 - val_loss: 0.0039 - val_acc: 0.8465\n",
            "Epoch 19/50\n",
            "11997/11997 [==============================] - 3s 218us/sample - loss: 0.0025 - acc: 0.8338 - val_loss: 0.0040 - val_acc: 0.8465\n",
            "Epoch 20/50\n",
            "11997/11997 [==============================] - 3s 223us/sample - loss: 0.0025 - acc: 0.8338 - val_loss: 0.0040 - val_acc: 0.8465\n",
            "Epoch 21/50\n",
            "11997/11997 [==============================] - 3s 216us/sample - loss: 0.0025 - acc: 0.8338 - val_loss: 0.0040 - val_acc: 0.8465\n",
            "Epoch 22/50\n",
            "11997/11997 [==============================] - 3s 225us/sample - loss: 0.0025 - acc: 0.8338 - val_loss: 0.0040 - val_acc: 0.8465\n",
            "Epoch 23/50\n",
            "11997/11997 [==============================] - 3s 226us/sample - loss: 0.0025 - acc: 0.8338 - val_loss: 0.0039 - val_acc: 0.8465\n",
            "Epoch 24/50\n",
            "11997/11997 [==============================] - 3s 223us/sample - loss: 0.0025 - acc: 0.8338 - val_loss: 0.0040 - val_acc: 0.8465\n",
            "Epoch 25/50\n",
            "11997/11997 [==============================] - 3s 220us/sample - loss: 0.0025 - acc: 0.8338 - val_loss: 0.0039 - val_acc: 0.8465\n",
            "Epoch 26/50\n",
            "11997/11997 [==============================] - 3s 228us/sample - loss: 0.0025 - acc: 0.8338 - val_loss: 0.0040 - val_acc: 0.8465\n",
            "Epoch 27/50\n",
            "11997/11997 [==============================] - 3s 232us/sample - loss: 0.0025 - acc: 0.8338 - val_loss: 0.0040 - val_acc: 0.8465\n",
            "Epoch 28/50\n",
            "11997/11997 [==============================] - 3s 226us/sample - loss: 0.0025 - acc: 0.8338 - val_loss: 0.0040 - val_acc: 0.8465\n",
            "Epoch 29/50\n",
            "11997/11997 [==============================] - 3s 224us/sample - loss: 0.0025 - acc: 0.8338 - val_loss: 0.0039 - val_acc: 0.8465\n",
            "Epoch 30/50\n",
            "11997/11997 [==============================] - 3s 219us/sample - loss: 0.0025 - acc: 0.8338 - val_loss: 0.0040 - val_acc: 0.8465\n",
            "Epoch 31/50\n",
            "11997/11997 [==============================] - 3s 231us/sample - loss: 0.0025 - acc: 0.8338 - val_loss: 0.0040 - val_acc: 0.8465\n",
            "Epoch 32/50\n",
            "11997/11997 [==============================] - 3s 223us/sample - loss: 0.0025 - acc: 0.8338 - val_loss: 0.0039 - val_acc: 0.8465\n",
            "Epoch 33/50\n",
            "11997/11997 [==============================] - 3s 218us/sample - loss: 0.0025 - acc: 0.8338 - val_loss: 0.0040 - val_acc: 0.8465\n",
            "Epoch 34/50\n",
            "11997/11997 [==============================] - 3s 218us/sample - loss: 0.0025 - acc: 0.8338 - val_loss: 0.0039 - val_acc: 0.8465\n",
            "Epoch 35/50\n",
            "11997/11997 [==============================] - 3s 220us/sample - loss: 0.0025 - acc: 0.8338 - val_loss: 0.0040 - val_acc: 0.8465\n",
            "Epoch 36/50\n",
            "11997/11997 [==============================] - 3s 216us/sample - loss: 0.0025 - acc: 0.8338 - val_loss: 0.0040 - val_acc: 0.8465\n",
            "Epoch 37/50\n",
            "11997/11997 [==============================] - 3s 219us/sample - loss: 0.0025 - acc: 0.8338 - val_loss: 0.0040 - val_acc: 0.8465\n",
            "Epoch 38/50\n",
            "11997/11997 [==============================] - 3s 217us/sample - loss: 0.0025 - acc: 0.8338 - val_loss: 0.0040 - val_acc: 0.8465\n",
            "Epoch 39/50\n",
            "11997/11997 [==============================] - 3s 215us/sample - loss: 0.0025 - acc: 0.8338 - val_loss: 0.0039 - val_acc: 0.8465\n",
            "Epoch 40/50\n",
            "11997/11997 [==============================] - 3s 217us/sample - loss: 0.0025 - acc: 0.8338 - val_loss: 0.0040 - val_acc: 0.8465\n",
            "Epoch 41/50\n",
            "11997/11997 [==============================] - 3s 219us/sample - loss: 0.0025 - acc: 0.8338 - val_loss: 0.0039 - val_acc: 0.8465\n",
            "Epoch 42/50\n",
            "11997/11997 [==============================] - 3s 220us/sample - loss: 0.0025 - acc: 0.8338 - val_loss: 0.0040 - val_acc: 0.8465\n",
            "Epoch 43/50\n",
            "11997/11997 [==============================] - 3s 221us/sample - loss: 0.0025 - acc: 0.8338 - val_loss: 0.0040 - val_acc: 0.8465\n",
            "Epoch 44/50\n",
            "11997/11997 [==============================] - 3s 231us/sample - loss: 0.0025 - acc: 0.8338 - val_loss: 0.0039 - val_acc: 0.8465\n",
            "Epoch 45/50\n",
            "11997/11997 [==============================] - 3s 228us/sample - loss: 0.0025 - acc: 0.8338 - val_loss: 0.0039 - val_acc: 0.8465\n",
            "Epoch 46/50\n",
            "11997/11997 [==============================] - 3s 223us/sample - loss: 0.0025 - acc: 0.8338 - val_loss: 0.0039 - val_acc: 0.8465\n",
            "Epoch 47/50\n",
            "11997/11997 [==============================] - 3s 232us/sample - loss: 0.0025 - acc: 0.8338 - val_loss: 0.0040 - val_acc: 0.8465\n",
            "Epoch 48/50\n",
            "11997/11997 [==============================] - 3s 225us/sample - loss: 0.0025 - acc: 0.8338 - val_loss: 0.0039 - val_acc: 0.8465\n",
            "Epoch 49/50\n",
            "11997/11997 [==============================] - 3s 224us/sample - loss: 0.0025 - acc: 0.8338 - val_loss: 0.0039 - val_acc: 0.8465\n",
            "Epoch 50/50\n",
            "11997/11997 [==============================] - 3s 214us/sample - loss: 0.0025 - acc: 0.8338 - val_loss: 0.0040 - val_acc: 0.8465\n"
          ],
          "name": "stdout"
        },
        {
          "output_type": "execute_result",
          "data": {
            "text/plain": [
              "<tensorflow.python.keras.callbacks.History at 0x7fbe87a5fd30>"
            ]
          },
          "metadata": {
            "tags": []
          },
          "execution_count": 375
        }
      ]
    },
    {
      "cell_type": "code",
      "metadata": {
        "id": "0Ky-EMUEIGq6",
        "colab_type": "code",
        "outputId": "ffc03b9f-f7a6-4f0f-a3d8-23d8f2f7ed02",
        "colab": {
          "base_uri": "https://localhost:8080/",
          "height": 50
        }
      },
      "source": [
        "ypred = model.predict(X14)\n",
        "s=pd.DataFrame(ypred)\n",
        "s1=pd.DataFrame(y14)\n",
        "s1.corrwith(s, axis = 0) "
      ],
      "execution_count": 376,
      "outputs": [
        {
          "output_type": "execute_result",
          "data": {
            "text/plain": [
              "0    0.292231\n",
              "dtype: float64"
            ]
          },
          "metadata": {
            "tags": []
          },
          "execution_count": 376
        }
      ]
    },
    {
      "cell_type": "code",
      "metadata": {
        "id": "kow20CjpKwRA",
        "colab_type": "code",
        "outputId": "760a5e54-14b9-4daa-b548-105409b2760d",
        "colab": {
          "base_uri": "https://localhost:8080/",
          "height": 34
        }
      },
      "source": [
        "from sklearn.metrics import r2_score\n",
        "r2_score(y14,ypred)"
      ],
      "execution_count": 377,
      "outputs": [
        {
          "output_type": "execute_result",
          "data": {
            "text/plain": [
              "0.08506457754995367"
            ]
          },
          "metadata": {
            "tags": []
          },
          "execution_count": 377
        }
      ]
    },
    {
      "cell_type": "code",
      "metadata": {
        "id": "-YoTtOaYJY6P",
        "colab_type": "code",
        "outputId": "eebf77a7-796a-4926-e4b5-7418ed196504",
        "colab": {
          "base_uri": "https://localhost:8080/",
          "height": 50
        }
      },
      "source": [
        "ypred1=model.predict(X_test14)\n",
        "s=pd.DataFrame(ypred1)\n",
        "s1=pd.DataFrame(y_test14)\n",
        "s1.corrwith(s,axis=0)"
      ],
      "execution_count": 378,
      "outputs": [
        {
          "output_type": "execute_result",
          "data": {
            "text/plain": [
              "0    0.209401\n",
              "dtype: float64"
            ]
          },
          "metadata": {
            "tags": []
          },
          "execution_count": 378
        }
      ]
    },
    {
      "cell_type": "code",
      "metadata": {
        "id": "esTMyuJ3Kzmj",
        "colab_type": "code",
        "outputId": "0cdb2027-060d-4226-ee53-03f16bde15a1",
        "colab": {
          "base_uri": "https://localhost:8080/",
          "height": 34
        }
      },
      "source": [
        "r2_score(y_test14,ypred1)"
      ],
      "execution_count": 379,
      "outputs": [
        {
          "output_type": "execute_result",
          "data": {
            "text/plain": [
              "0.04054501897681484"
            ]
          },
          "metadata": {
            "tags": []
          },
          "execution_count": 379
        }
      ]
    },
    {
      "cell_type": "code",
      "metadata": {
        "id": "7qVcX82RcWAs",
        "colab_type": "code",
        "outputId": "e6fd695c-6a55-4a93-d88c-744bfe7779a8",
        "colab": {
          "base_uri": "https://localhost:8080/",
          "height": 34
        }
      },
      "source": [
        "mean_absolute_error(y_test14,ypred1)"
      ],
      "execution_count": 380,
      "outputs": [
        {
          "output_type": "execute_result",
          "data": {
            "text/plain": [
              "0.02453584910092482"
            ]
          },
          "metadata": {
            "tags": []
          },
          "execution_count": 380
        }
      ]
    },
    {
      "cell_type": "code",
      "metadata": {
        "id": "SFHNwtqAcX1O",
        "colab_type": "code",
        "outputId": "595e6eaa-dbff-436d-8d54-e8a0cc4193e0",
        "colab": {
          "base_uri": "https://localhost:8080/",
          "height": 34
        }
      },
      "source": [
        "mean_absolute_error(y14,ypred)"
      ],
      "execution_count": 381,
      "outputs": [
        {
          "output_type": "execute_result",
          "data": {
            "text/plain": [
              "0.020587524983575294"
            ]
          },
          "metadata": {
            "tags": []
          },
          "execution_count": 381
        }
      ]
    },
    {
      "cell_type": "code",
      "metadata": {
        "id": "eHgbQqZyBuN9",
        "colab_type": "code",
        "colab": {}
      },
      "source": [
        "ypred1[ypred1<0]=0"
      ],
      "execution_count": 0,
      "outputs": []
    },
    {
      "cell_type": "code",
      "metadata": {
        "id": "UjeAy53AEcua",
        "colab_type": "code",
        "colab": {
          "base_uri": "https://localhost:8080/",
          "height": 668
        },
        "outputId": "d46241a5-ceca-4377-c8dc-4dfa544f6559"
      },
      "source": [
        "plt.plot(y_test14)\n",
        "plt.plot(ypred1)\n",
        "plt.legend(\"Actual\",\"predicted\")\n",
        "plt.show()"
      ],
      "execution_count": 383,
      "outputs": [
        {
          "output_type": "stream",
          "text": [
            "/usr/local/lib/python3.6/dist-packages/ipykernel_launcher.py:3: UserWarning: Legend does not support 'A' instances.\n",
            "A proxy artist may be used instead.\n",
            "See: http://matplotlib.org/users/legend_guide.html#creating-artists-specifically-for-adding-to-the-legend-aka-proxy-artists\n",
            "  This is separate from the ipykernel package so we can avoid doing imports until\n",
            "/usr/local/lib/python3.6/dist-packages/ipykernel_launcher.py:3: UserWarning: Legend does not support 'c' instances.\n",
            "A proxy artist may be used instead.\n",
            "See: http://matplotlib.org/users/legend_guide.html#creating-artists-specifically-for-adding-to-the-legend-aka-proxy-artists\n",
            "  This is separate from the ipykernel package so we can avoid doing imports until\n",
            "/usr/local/lib/python3.6/dist-packages/ipykernel_launcher.py:3: UserWarning: Legend does not support 't' instances.\n",
            "A proxy artist may be used instead.\n",
            "See: http://matplotlib.org/users/legend_guide.html#creating-artists-specifically-for-adding-to-the-legend-aka-proxy-artists\n",
            "  This is separate from the ipykernel package so we can avoid doing imports until\n",
            "/usr/local/lib/python3.6/dist-packages/ipykernel_launcher.py:3: UserWarning: Legend does not support 'u' instances.\n",
            "A proxy artist may be used instead.\n",
            "See: http://matplotlib.org/users/legend_guide.html#creating-artists-specifically-for-adding-to-the-legend-aka-proxy-artists\n",
            "  This is separate from the ipykernel package so we can avoid doing imports until\n",
            "/usr/local/lib/python3.6/dist-packages/ipykernel_launcher.py:3: UserWarning: Legend does not support 'a' instances.\n",
            "A proxy artist may be used instead.\n",
            "See: http://matplotlib.org/users/legend_guide.html#creating-artists-specifically-for-adding-to-the-legend-aka-proxy-artists\n",
            "  This is separate from the ipykernel package so we can avoid doing imports until\n",
            "/usr/local/lib/python3.6/dist-packages/ipykernel_launcher.py:3: UserWarning: Legend does not support 'l' instances.\n",
            "A proxy artist may be used instead.\n",
            "See: http://matplotlib.org/users/legend_guide.html#creating-artists-specifically-for-adding-to-the-legend-aka-proxy-artists\n",
            "  This is separate from the ipykernel package so we can avoid doing imports until\n"
          ],
          "name": "stderr"
        },
        {
          "output_type": "display_data",
          "data": {
            "image/png": "[encoded data removed]",
            "text/plain": [
              "<Figure size 432x288 with 1 Axes>"
            ]
          },
          "metadata": {
            "tags": []
          }
        }
      ]
    },
    {
      "cell_type": "code",
      "metadata": {
        "id": "hRdCUQlKEeuH",
        "colab_type": "code",
        "colab": {
          "base_uri": "https://localhost:8080/",
          "height": 265
        },
        "outputId": "d0f49d18-b678-4575-ce92-77491af35b36"
      },
      "source": [
        "plt.plot(y_test14)\n",
        "plt.show()"
      ],
      "execution_count": 384,
      "outputs": [
        {
          "output_type": "display_data",
          "data": {
            "image/png": "[encoded data removed]",
            "text/plain": [
              "<Figure size 432x288 with 1 Axes>"
            ]
          },
          "metadata": {
            "tags": []
          }
        }
      ]
    },
    {
      "cell_type": "code",
      "metadata": {
        "id": "vU6fH7NdAfMi",
        "colab_type": "code",
        "colab": {}
      },
      "source": [
        "model = keras.Sequential()\n",
        "model.add(keras.layers.LSTM(100, activation='relu', input_shape=(n_steps, 1)))\n",
        "model.add(keras.layers.Dense(1))\n",
        "model.compile(optimizer='adam', loss='mse',metrics=['accuracy'])"
      ],
      "execution_count": 0,
      "outputs": []
    },
    {
      "cell_type": "code",
      "metadata": {
        "id": "31sa5rlXB9BA",
        "colab_type": "code",
        "outputId": "73e1b93f-9d77-4869-dfc6-882caec298c8",
        "colab": {
          "base_uri": "https://localhost:8080/",
          "height": 1000
        }
      },
      "source": [
        "model.fit(X15, y15, validation_data=(X_test15,y_test15),epochs=50)"
      ],
      "execution_count": 386,
      "outputs": [
        {
          "output_type": "stream",
          "text": [
            "Train on 11997 samples, validate on 3702 samples\n",
            "Epoch 1/50\n",
            "11997/11997 [==============================] - 6s 493us/sample - loss: 0.0032 - acc: 0.8192 - val_loss: 0.0042 - val_acc: 0.8339\n",
            "Epoch 2/50\n",
            "11997/11997 [==============================] - 3s 215us/sample - loss: 0.0031 - acc: 0.8192 - val_loss: 0.0043 - val_acc: 0.8339\n",
            "Epoch 3/50\n",
            "11997/11997 [==============================] - 3s 213us/sample - loss: 0.0031 - acc: 0.8192 - val_loss: 0.0043 - val_acc: 0.8339\n",
            "Epoch 4/50\n",
            "11997/11997 [==============================] - 3s 213us/sample - loss: 0.0031 - acc: 0.8192 - val_loss: 0.0043 - val_acc: 0.8339\n",
            "Epoch 5/50\n",
            "11997/11997 [==============================] - 3s 221us/sample - loss: 0.0031 - acc: 0.8192 - val_loss: 0.0042 - val_acc: 0.8339\n",
            "Epoch 6/50\n",
            "11997/11997 [==============================] - 3s 217us/sample - loss: 0.0031 - acc: 0.8192 - val_loss: 0.0042 - val_acc: 0.8339\n",
            "Epoch 7/50\n",
            "11997/11997 [==============================] - 3s 222us/sample - loss: 0.0031 - acc: 0.8192 - val_loss: 0.0042 - val_acc: 0.8339\n",
            "Epoch 8/50\n",
            "11997/11997 [==============================] - 3s 236us/sample - loss: 0.0031 - acc: 0.8192 - val_loss: 0.0042 - val_acc: 0.8339\n",
            "Epoch 9/50\n",
            "11997/11997 [==============================] - 3s 220us/sample - loss: 0.0031 - acc: 0.8192 - val_loss: 0.0042 - val_acc: 0.8339\n",
            "Epoch 10/50\n",
            "11997/11997 [==============================] - 3s 221us/sample - loss: 0.0031 - acc: 0.8192 - val_loss: 0.0042 - val_acc: 0.8339\n",
            "Epoch 11/50\n",
            "11997/11997 [==============================] - 3s 225us/sample - loss: 0.0031 - acc: 0.8192 - val_loss: 0.0042 - val_acc: 0.8339\n",
            "Epoch 12/50\n",
            "11997/11997 [==============================] - 3s 220us/sample - loss: 0.0031 - acc: 0.8192 - val_loss: 0.0042 - val_acc: 0.8339\n",
            "Epoch 13/50\n",
            "11997/11997 [==============================] - 3s 229us/sample - loss: 0.0031 - acc: 0.8192 - val_loss: 0.0042 - val_acc: 0.8339\n",
            "Epoch 14/50\n",
            "11997/11997 [==============================] - 3s 223us/sample - loss: 0.0031 - acc: 0.8192 - val_loss: 0.0042 - val_acc: 0.8339\n",
            "Epoch 15/50\n",
            "11997/11997 [==============================] - 3s 221us/sample - loss: 0.0031 - acc: 0.8192 - val_loss: 0.0042 - val_acc: 0.8339\n",
            "Epoch 16/50\n",
            "11997/11997 [==============================] - 3s 227us/sample - loss: 0.0031 - acc: 0.8192 - val_loss: 0.0042 - val_acc: 0.8339\n",
            "Epoch 17/50\n",
            "11997/11997 [==============================] - 3s 225us/sample - loss: 0.0031 - acc: 0.8192 - val_loss: 0.0042 - val_acc: 0.8339\n",
            "Epoch 18/50\n",
            "11997/11997 [==============================] - 3s 225us/sample - loss: 0.0031 - acc: 0.8192 - val_loss: 0.0042 - val_acc: 0.8339\n",
            "Epoch 19/50\n",
            "11997/11997 [==============================] - 3s 218us/sample - loss: 0.0031 - acc: 0.8192 - val_loss: 0.0042 - val_acc: 0.8339\n",
            "Epoch 20/50\n",
            "11997/11997 [==============================] - 3s 216us/sample - loss: 0.0031 - acc: 0.8192 - val_loss: 0.0042 - val_acc: 0.8339\n",
            "Epoch 21/50\n",
            "11997/11997 [==============================] - 3s 219us/sample - loss: 0.0031 - acc: 0.8192 - val_loss: 0.0042 - val_acc: 0.8339\n",
            "Epoch 22/50\n",
            "11997/11997 [==============================] - 3s 217us/sample - loss: 0.0031 - acc: 0.8192 - val_loss: 0.0042 - val_acc: 0.8339\n",
            "Epoch 23/50\n",
            "11997/11997 [==============================] - 3s 216us/sample - loss: 0.0031 - acc: 0.8192 - val_loss: 0.0042 - val_acc: 0.8339\n",
            "Epoch 24/50\n",
            "11997/11997 [==============================] - 3s 214us/sample - loss: 0.0031 - acc: 0.8192 - val_loss: 0.0042 - val_acc: 0.8339\n",
            "Epoch 25/50\n",
            "11997/11997 [==============================] - 3s 217us/sample - loss: 0.0031 - acc: 0.8192 - val_loss: 0.0042 - val_acc: 0.8339\n",
            "Epoch 26/50\n",
            "11997/11997 [==============================] - 3s 215us/sample - loss: 0.0031 - acc: 0.8192 - val_loss: 0.0042 - val_acc: 0.8339\n",
            "Epoch 27/50\n",
            "11997/11997 [==============================] - 3s 210us/sample - loss: 0.0031 - acc: 0.8192 - val_loss: 0.0042 - val_acc: 0.8339\n",
            "Epoch 28/50\n",
            "11997/11997 [==============================] - 3s 213us/sample - loss: 0.0031 - acc: 0.8192 - val_loss: 0.0042 - val_acc: 0.8339\n",
            "Epoch 29/50\n",
            "11997/11997 [==============================] - 3s 214us/sample - loss: 0.0031 - acc: 0.8192 - val_loss: 0.0042 - val_acc: 0.8339\n",
            "Epoch 30/50\n",
            "11997/11997 [==============================] - 3s 217us/sample - loss: 0.0031 - acc: 0.8192 - val_loss: 0.0042 - val_acc: 0.8339\n",
            "Epoch 31/50\n",
            "11997/11997 [==============================] - 3s 219us/sample - loss: 0.0031 - acc: 0.8192 - val_loss: 0.0042 - val_acc: 0.8339\n",
            "Epoch 32/50\n",
            "11997/11997 [==============================] - 3s 215us/sample - loss: 0.0031 - acc: 0.8192 - val_loss: 0.0042 - val_acc: 0.8339\n",
            "Epoch 33/50\n",
            "11997/11997 [==============================] - 3s 213us/sample - loss: 0.0031 - acc: 0.8192 - val_loss: 0.0042 - val_acc: 0.8339\n",
            "Epoch 34/50\n",
            "11997/11997 [==============================] - 3s 211us/sample - loss: 0.0031 - acc: 0.8192 - val_loss: 0.0042 - val_acc: 0.8339\n",
            "Epoch 35/50\n",
            "11997/11997 [==============================] - 3s 218us/sample - loss: 0.0031 - acc: 0.8192 - val_loss: 0.0042 - val_acc: 0.8339\n",
            "Epoch 36/50\n",
            "11997/11997 [==============================] - 3s 215us/sample - loss: 0.0031 - acc: 0.8192 - val_loss: 0.0042 - val_acc: 0.8339\n",
            "Epoch 37/50\n",
            "11997/11997 [==============================] - 3s 214us/sample - loss: 0.0031 - acc: 0.8192 - val_loss: 0.0042 - val_acc: 0.8339\n",
            "Epoch 38/50\n",
            "11997/11997 [==============================] - 3s 212us/sample - loss: 0.0031 - acc: 0.8192 - val_loss: 0.0042 - val_acc: 0.8339\n",
            "Epoch 39/50\n",
            "11997/11997 [==============================] - 3s 216us/sample - loss: 0.0031 - acc: 0.8192 - val_loss: 0.0042 - val_acc: 0.8339\n",
            "Epoch 40/50\n",
            "11997/11997 [==============================] - 3s 211us/sample - loss: 0.0031 - acc: 0.8192 - val_loss: 0.0042 - val_acc: 0.8339\n",
            "Epoch 41/50\n",
            "11997/11997 [==============================] - 3s 210us/sample - loss: 0.0031 - acc: 0.8192 - val_loss: 0.0042 - val_acc: 0.8339\n",
            "Epoch 42/50\n",
            "11997/11997 [==============================] - 3s 211us/sample - loss: 0.0030 - acc: 0.8192 - val_loss: 0.0042 - val_acc: 0.8339\n",
            "Epoch 43/50\n",
            "11997/11997 [==============================] - 3s 213us/sample - loss: 0.0030 - acc: 0.8192 - val_loss: 0.0042 - val_acc: 0.8339\n",
            "Epoch 44/50\n",
            "11997/11997 [==============================] - 3s 209us/sample - loss: 0.0030 - acc: 0.8192 - val_loss: 0.0042 - val_acc: 0.8339\n",
            "Epoch 45/50\n",
            "11997/11997 [==============================] - 3s 212us/sample - loss: 0.0030 - acc: 0.8192 - val_loss: 0.0042 - val_acc: 0.8339\n",
            "Epoch 46/50\n",
            "11997/11997 [==============================] - 2s 208us/sample - loss: 0.0031 - acc: 0.8192 - val_loss: 0.0042 - val_acc: 0.8339\n",
            "Epoch 47/50\n",
            "11997/11997 [==============================] - 2s 207us/sample - loss: 0.0030 - acc: 0.8192 - val_loss: 0.0042 - val_acc: 0.8339\n",
            "Epoch 48/50\n",
            "11997/11997 [==============================] - 3s 212us/sample - loss: 0.0031 - acc: 0.8192 - val_loss: 0.0042 - val_acc: 0.8339\n",
            "Epoch 49/50\n",
            "11997/11997 [==============================] - 3s 211us/sample - loss: 0.0030 - acc: 0.8192 - val_loss: 0.0042 - val_acc: 0.8339\n",
            "Epoch 50/50\n",
            "11997/11997 [==============================] - 3s 215us/sample - loss: 0.0030 - acc: 0.8192 - val_loss: 0.0042 - val_acc: 0.8339\n"
          ],
          "name": "stdout"
        },
        {
          "output_type": "execute_result",
          "data": {
            "text/plain": [
              "<tensorflow.python.keras.callbacks.History at 0x7fbe8799f828>"
            ]
          },
          "metadata": {
            "tags": []
          },
          "execution_count": 386
        }
      ]
    },
    {
      "cell_type": "code",
      "metadata": {
        "id": "x783mmAYIIMe",
        "colab_type": "code",
        "outputId": "e7c119de-0314-4ad4-84bf-00e406b1bc98",
        "colab": {
          "base_uri": "https://localhost:8080/",
          "height": 50
        }
      },
      "source": [
        "ypred = model.predict(X15)\n",
        "s=pd.DataFrame(ypred)\n",
        "s1=pd.DataFrame(y15)\n",
        "s1.corrwith(s, axis = 0) "
      ],
      "execution_count": 387,
      "outputs": [
        {
          "output_type": "execute_result",
          "data": {
            "text/plain": [
              "0    0.263956\n",
              "dtype: float64"
            ]
          },
          "metadata": {
            "tags": []
          },
          "execution_count": 387
        }
      ]
    },
    {
      "cell_type": "code",
      "metadata": {
        "id": "NHuQ0617KncF",
        "colab_type": "code",
        "outputId": "28b86ce1-2657-4cc6-d17f-8e8cd31ee5fb",
        "colab": {
          "base_uri": "https://localhost:8080/",
          "height": 34
        }
      },
      "source": [
        "from sklearn.metrics import r2_score\n",
        "r2_score(y15,ypred)"
      ],
      "execution_count": 388,
      "outputs": [
        {
          "output_type": "execute_result",
          "data": {
            "text/plain": [
              "0.06944400189659516"
            ]
          },
          "metadata": {
            "tags": []
          },
          "execution_count": 388
        }
      ]
    },
    {
      "cell_type": "code",
      "metadata": {
        "id": "G7dQRGRnJb-H",
        "colab_type": "code",
        "outputId": "1fddba33-b9ce-4c5f-bdd3-b5de1a1368ff",
        "colab": {
          "base_uri": "https://localhost:8080/",
          "height": 50
        }
      },
      "source": [
        "ypred1=model.predict(X_test15)\n",
        "s=pd.DataFrame(ypred1)\n",
        "s1=pd.DataFrame(y_test15)\n",
        "s1.corrwith(s,axis=0)"
      ],
      "execution_count": 389,
      "outputs": [
        {
          "output_type": "execute_result",
          "data": {
            "text/plain": [
              "0    0.225934\n",
              "dtype: float64"
            ]
          },
          "metadata": {
            "tags": []
          },
          "execution_count": 389
        }
      ]
    },
    {
      "cell_type": "code",
      "metadata": {
        "id": "7MsXJBffKsBU",
        "colab_type": "code",
        "outputId": "179bb2b5-d2a6-4f0d-9ca6-c8d909cfd27f",
        "colab": {
          "base_uri": "https://localhost:8080/",
          "height": 34
        }
      },
      "source": [
        "from sklearn.metrics import r2_score\n",
        "r2_score(y_test15,ypred1)"
      ],
      "execution_count": 390,
      "outputs": [
        {
          "output_type": "execute_result",
          "data": {
            "text/plain": [
              "0.04852797590775515"
            ]
          },
          "metadata": {
            "tags": []
          },
          "execution_count": 390
        }
      ]
    },
    {
      "cell_type": "code",
      "metadata": {
        "id": "oqpc6rGJccsh",
        "colab_type": "code",
        "outputId": "db59f342-9f91-4ce8-ff42-6f567454dbf8",
        "colab": {
          "base_uri": "https://localhost:8080/",
          "height": 34
        }
      },
      "source": [
        "mean_absolute_error(y_test15,ypred1)"
      ],
      "execution_count": 391,
      "outputs": [
        {
          "output_type": "execute_result",
          "data": {
            "text/plain": [
              "0.025881710672552648"
            ]
          },
          "metadata": {
            "tags": []
          },
          "execution_count": 391
        }
      ]
    },
    {
      "cell_type": "code",
      "metadata": {
        "id": "TBuDDwkTce4X",
        "colab_type": "code",
        "outputId": "54c010b4-625b-4d46-cc80-58f19c4785fd",
        "colab": {
          "base_uri": "https://localhost:8080/",
          "height": 34
        }
      },
      "source": [
        "mean_absolute_error(y15,ypred)"
      ],
      "execution_count": 392,
      "outputs": [
        {
          "output_type": "execute_result",
          "data": {
            "text/plain": [
              "0.022292173215808477"
            ]
          },
          "metadata": {
            "tags": []
          },
          "execution_count": 392
        }
      ]
    },
    {
      "cell_type": "code",
      "metadata": {
        "id": "1jZAV7lzEkPx",
        "colab_type": "code",
        "colab": {}
      },
      "source": [
        "ypred1[ypred1<0]=0"
      ],
      "execution_count": 0,
      "outputs": []
    },
    {
      "cell_type": "code",
      "metadata": {
        "id": "TEox5ADfEqIA",
        "colab_type": "code",
        "colab": {
          "base_uri": "https://localhost:8080/",
          "height": 668
        },
        "outputId": "c18e467a-3c7d-4ef7-eb66-e7db130abcf5"
      },
      "source": [
        "plt.plot(y_test15)\n",
        "plt.plot(ypred1)\n",
        "plt.legend(\"Actual\",\"predicted\")\n",
        "plt.show()"
      ],
      "execution_count": 394,
      "outputs": [
        {
          "output_type": "stream",
          "text": [
            "/usr/local/lib/python3.6/dist-packages/ipykernel_launcher.py:3: UserWarning: Legend does not support 'A' instances.\n",
            "A proxy artist may be used instead.\n",
            "See: http://matplotlib.org/users/legend_guide.html#creating-artists-specifically-for-adding-to-the-legend-aka-proxy-artists\n",
            "  This is separate from the ipykernel package so we can avoid doing imports until\n",
            "/usr/local/lib/python3.6/dist-packages/ipykernel_launcher.py:3: UserWarning: Legend does not support 'c' instances.\n",
            "A proxy artist may be used instead.\n",
            "See: http://matplotlib.org/users/legend_guide.html#creating-artists-specifically-for-adding-to-the-legend-aka-proxy-artists\n",
            "  This is separate from the ipykernel package so we can avoid doing imports until\n",
            "/usr/local/lib/python3.6/dist-packages/ipykernel_launcher.py:3: UserWarning: Legend does not support 't' instances.\n",
            "A proxy artist may be used instead.\n",
            "See: http://matplotlib.org/users/legend_guide.html#creating-artists-specifically-for-adding-to-the-legend-aka-proxy-artists\n",
            "  This is separate from the ipykernel package so we can avoid doing imports until\n",
            "/usr/local/lib/python3.6/dist-packages/ipykernel_launcher.py:3: UserWarning: Legend does not support 'u' instances.\n",
            "A proxy artist may be used instead.\n",
            "See: http://matplotlib.org/users/legend_guide.html#creating-artists-specifically-for-adding-to-the-legend-aka-proxy-artists\n",
            "  This is separate from the ipykernel package so we can avoid doing imports until\n",
            "/usr/local/lib/python3.6/dist-packages/ipykernel_launcher.py:3: UserWarning: Legend does not support 'a' instances.\n",
            "A proxy artist may be used instead.\n",
            "See: http://matplotlib.org/users/legend_guide.html#creating-artists-specifically-for-adding-to-the-legend-aka-proxy-artists\n",
            "  This is separate from the ipykernel package so we can avoid doing imports until\n",
            "/usr/local/lib/python3.6/dist-packages/ipykernel_launcher.py:3: UserWarning: Legend does not support 'l' instances.\n",
            "A proxy artist may be used instead.\n",
            "See: http://matplotlib.org/users/legend_guide.html#creating-artists-specifically-for-adding-to-the-legend-aka-proxy-artists\n",
            "  This is separate from the ipykernel package so we can avoid doing imports until\n"
          ],
          "name": "stderr"
        },
        {
          "output_type": "display_data",
          "data": {
            "image/png": "[encoded data removed]",
            "text/plain": [
              "<Figure size 432x288 with 1 Axes>"
            ]
          },
          "metadata": {
            "tags": []
          }
        }
      ]
    },
    {
      "cell_type": "code",
      "metadata": {
        "id": "H1q5Hq1jEsEO",
        "colab_type": "code",
        "colab": {
          "base_uri": "https://localhost:8080/",
          "height": 265
        },
        "outputId": "e9675520-9784-4550-a6e1-cd9f73dd056b"
      },
      "source": [
        "plt.plot(y_test15)\n",
        "plt.show()"
      ],
      "execution_count": 395,
      "outputs": [
        {
          "output_type": "display_data",
          "data": {
            "image/png": "[encoded data removed]",
            "text/plain": [
              "<Figure size 432x288 with 1 Axes>"
            ]
          },
          "metadata": {
            "tags": []
          }
        }
      ]
    },
    {
      "cell_type": "code",
      "metadata": {
        "id": "iqqVGsIfAhJz",
        "colab_type": "code",
        "colab": {}
      },
      "source": [
        "model = keras.Sequential()\n",
        "model.add(keras.layers.LSTM(100, activation='relu', input_shape=(n_steps, 1)))\n",
        "model.add(keras.layers.Dense(1))\n",
        "model.compile(optimizer='adam', loss='mse',metrics=['accuracy'])"
      ],
      "execution_count": 0,
      "outputs": []
    },
    {
      "cell_type": "code",
      "metadata": {
        "id": "ddVXEmYRB9TB",
        "colab_type": "code",
        "outputId": "a5bdf3e6-c003-4725-8867-059a81a51484",
        "colab": {
          "base_uri": "https://localhost:8080/",
          "height": 1000
        }
      },
      "source": [
        "model.fit(X16, y16, validation_data=(X_test16,y_test16),epochs=100)"
      ],
      "execution_count": 397,
      "outputs": [
        {
          "output_type": "stream",
          "text": [
            "Train on 11997 samples, validate on 3702 samples\n",
            "Epoch 1/100\n",
            "11997/11997 [==============================] - 6s 479us/sample - loss: 0.0026 - acc: 0.8464 - val_loss: 0.0026 - val_acc: 0.8760\n",
            "Epoch 2/100\n",
            "11997/11997 [==============================] - 3s 210us/sample - loss: 0.0025 - acc: 0.8464 - val_loss: 0.0026 - val_acc: 0.8760\n",
            "Epoch 3/100\n",
            "11997/11997 [==============================] - 3s 210us/sample - loss: 0.0025 - acc: 0.8464 - val_loss: 0.0026 - val_acc: 0.8760\n",
            "Epoch 4/100\n",
            "11997/11997 [==============================] - 3s 221us/sample - loss: 0.0025 - acc: 0.8464 - val_loss: 0.0026 - val_acc: 0.8760\n",
            "Epoch 5/100\n",
            "11997/11997 [==============================] - 3s 220us/sample - loss: 0.0025 - acc: 0.8464 - val_loss: 0.0026 - val_acc: 0.8760\n",
            "Epoch 6/100\n",
            "11997/11997 [==============================] - 3s 220us/sample - loss: 0.0025 - acc: 0.8464 - val_loss: 0.0027 - val_acc: 0.8760\n",
            "Epoch 7/100\n",
            "11997/11997 [==============================] - 3s 219us/sample - loss: 0.0025 - acc: 0.8464 - val_loss: 0.0026 - val_acc: 0.8760\n",
            "Epoch 8/100\n",
            "11997/11997 [==============================] - 3s 223us/sample - loss: 0.0025 - acc: 0.8464 - val_loss: 0.0026 - val_acc: 0.8760\n",
            "Epoch 9/100\n",
            "11997/11997 [==============================] - 2s 206us/sample - loss: 0.0025 - acc: 0.8464 - val_loss: 0.0026 - val_acc: 0.8760\n",
            "Epoch 10/100\n",
            "11997/11997 [==============================] - 2s 205us/sample - loss: 0.0025 - acc: 0.8464 - val_loss: 0.0026 - val_acc: 0.8760\n",
            "Epoch 11/100\n",
            "11997/11997 [==============================] - 3s 210us/sample - loss: 0.0025 - acc: 0.8464 - val_loss: 0.0026 - val_acc: 0.8760\n",
            "Epoch 12/100\n",
            "11997/11997 [==============================] - 3s 220us/sample - loss: 0.0025 - acc: 0.8464 - val_loss: 0.0026 - val_acc: 0.8760\n",
            "Epoch 13/100\n",
            "11997/11997 [==============================] - 3s 210us/sample - loss: 0.0025 - acc: 0.8464 - val_loss: 0.0026 - val_acc: 0.8760\n",
            "Epoch 14/100\n",
            "11997/11997 [==============================] - 3s 210us/sample - loss: 0.0025 - acc: 0.8464 - val_loss: 0.0026 - val_acc: 0.8760\n",
            "Epoch 15/100\n",
            "11997/11997 [==============================] - 3s 214us/sample - loss: 0.0025 - acc: 0.8464 - val_loss: 0.0026 - val_acc: 0.8760\n",
            "Epoch 16/100\n",
            "11997/11997 [==============================] - 3s 209us/sample - loss: 0.0025 - acc: 0.8464 - val_loss: 0.0026 - val_acc: 0.8760\n",
            "Epoch 17/100\n",
            "11997/11997 [==============================] - 3s 213us/sample - loss: 0.0025 - acc: 0.8464 - val_loss: 0.0027 - val_acc: 0.8760\n",
            "Epoch 18/100\n",
            "11997/11997 [==============================] - 3s 209us/sample - loss: 0.0025 - acc: 0.8464 - val_loss: 0.0026 - val_acc: 0.8760\n",
            "Epoch 19/100\n",
            "11997/11997 [==============================] - 3s 217us/sample - loss: 0.0025 - acc: 0.8464 - val_loss: 0.0026 - val_acc: 0.8760\n",
            "Epoch 20/100\n",
            "11997/11997 [==============================] - 3s 218us/sample - loss: 0.0025 - acc: 0.8464 - val_loss: 0.0026 - val_acc: 0.8760\n",
            "Epoch 21/100\n",
            "11997/11997 [==============================] - 3s 212us/sample - loss: 0.0025 - acc: 0.8464 - val_loss: 0.0026 - val_acc: 0.8760\n",
            "Epoch 22/100\n",
            "11997/11997 [==============================] - 3s 221us/sample - loss: 0.0025 - acc: 0.8464 - val_loss: 0.0026 - val_acc: 0.8760\n",
            "Epoch 23/100\n",
            "11997/11997 [==============================] - 3s 221us/sample - loss: 0.0025 - acc: 0.8464 - val_loss: 0.0026 - val_acc: 0.8760\n",
            "Epoch 24/100\n",
            "11997/11997 [==============================] - 3s 214us/sample - loss: 0.0025 - acc: 0.8464 - val_loss: 0.0026 - val_acc: 0.8760\n",
            "Epoch 25/100\n",
            "11997/11997 [==============================] - 3s 226us/sample - loss: 0.0025 - acc: 0.8464 - val_loss: 0.0026 - val_acc: 0.8760\n",
            "Epoch 26/100\n",
            "11997/11997 [==============================] - 3s 231us/sample - loss: 0.0025 - acc: 0.8464 - val_loss: 0.0026 - val_acc: 0.8760\n",
            "Epoch 27/100\n",
            "11997/11997 [==============================] - 3s 221us/sample - loss: 0.0025 - acc: 0.8464 - val_loss: 0.0026 - val_acc: 0.8760\n",
            "Epoch 28/100\n",
            "11997/11997 [==============================] - 3s 222us/sample - loss: 0.0025 - acc: 0.8464 - val_loss: 0.0026 - val_acc: 0.8760\n",
            "Epoch 29/100\n",
            "11997/11997 [==============================] - 3s 225us/sample - loss: 0.0025 - acc: 0.8464 - val_loss: 0.0026 - val_acc: 0.8760\n",
            "Epoch 30/100\n",
            "11997/11997 [==============================] - 3s 222us/sample - loss: 0.0025 - acc: 0.8464 - val_loss: 0.0026 - val_acc: 0.8760\n",
            "Epoch 31/100\n",
            "11997/11997 [==============================] - 3s 225us/sample - loss: 0.0025 - acc: 0.8464 - val_loss: 0.0026 - val_acc: 0.8760\n",
            "Epoch 32/100\n",
            "11997/11997 [==============================] - 3s 224us/sample - loss: 0.0025 - acc: 0.8464 - val_loss: 0.0026 - val_acc: 0.8760\n",
            "Epoch 33/100\n",
            "11997/11997 [==============================] - 3s 223us/sample - loss: 0.0025 - acc: 0.8464 - val_loss: 0.0026 - val_acc: 0.8760\n",
            "Epoch 34/100\n",
            "11997/11997 [==============================] - 3s 232us/sample - loss: 0.0025 - acc: 0.8464 - val_loss: 0.0026 - val_acc: 0.8760\n",
            "Epoch 35/100\n",
            "11997/11997 [==============================] - 3s 228us/sample - loss: 0.0025 - acc: 0.8464 - val_loss: 0.0026 - val_acc: 0.8760\n",
            "Epoch 36/100\n",
            "11997/11997 [==============================] - 3s 230us/sample - loss: 0.0025 - acc: 0.8464 - val_loss: 0.0026 - val_acc: 0.8760\n",
            "Epoch 37/100\n",
            "11997/11997 [==============================] - 3s 220us/sample - loss: 0.0025 - acc: 0.8464 - val_loss: 0.0026 - val_acc: 0.8760\n",
            "Epoch 38/100\n",
            "11997/11997 [==============================] - 3s 221us/sample - loss: 0.0025 - acc: 0.8464 - val_loss: 0.0026 - val_acc: 0.8760\n",
            "Epoch 39/100\n",
            "11997/11997 [==============================] - 3s 223us/sample - loss: 0.0025 - acc: 0.8464 - val_loss: 0.0026 - val_acc: 0.8760\n",
            "Epoch 40/100\n",
            "11997/11997 [==============================] - 3s 223us/sample - loss: 0.0025 - acc: 0.8464 - val_loss: 0.0026 - val_acc: 0.8760\n",
            "Epoch 41/100\n",
            "11997/11997 [==============================] - 3s 230us/sample - loss: 0.0025 - acc: 0.8464 - val_loss: 0.0026 - val_acc: 0.8760\n",
            "Epoch 42/100\n",
            "11997/11997 [==============================] - 3s 235us/sample - loss: 0.0025 - acc: 0.8464 - val_loss: 0.0026 - val_acc: 0.8760\n",
            "Epoch 43/100\n",
            "11997/11997 [==============================] - 3s 234us/sample - loss: 0.0025 - acc: 0.8464 - val_loss: 0.0026 - val_acc: 0.8760\n",
            "Epoch 44/100\n",
            "11997/11997 [==============================] - 3s 231us/sample - loss: 0.0025 - acc: 0.8464 - val_loss: 0.0026 - val_acc: 0.8760\n",
            "Epoch 45/100\n",
            "11997/11997 [==============================] - 3s 242us/sample - loss: 0.0025 - acc: 0.8464 - val_loss: 0.0026 - val_acc: 0.8760\n",
            "Epoch 46/100\n",
            "11997/11997 [==============================] - 3s 227us/sample - loss: 0.0025 - acc: 0.8464 - val_loss: 0.0026 - val_acc: 0.8760\n",
            "Epoch 47/100\n",
            "11997/11997 [==============================] - 3s 234us/sample - loss: 0.0025 - acc: 0.8464 - val_loss: 0.0026 - val_acc: 0.8760\n",
            "Epoch 48/100\n",
            "11997/11997 [==============================] - 3s 235us/sample - loss: 0.0025 - acc: 0.8464 - val_loss: 0.0026 - val_acc: 0.8760\n",
            "Epoch 49/100\n",
            "11997/11997 [==============================] - 3s 250us/sample - loss: 0.0025 - acc: 0.8464 - val_loss: 0.0026 - val_acc: 0.8760\n",
            "Epoch 50/100\n",
            "11997/11997 [==============================] - 3s 229us/sample - loss: 0.0025 - acc: 0.8464 - val_loss: 0.0026 - val_acc: 0.8760\n",
            "Epoch 51/100\n",
            "11997/11997 [==============================] - 3s 228us/sample - loss: 0.0025 - acc: 0.8464 - val_loss: 0.0026 - val_acc: 0.8760\n",
            "Epoch 52/100\n",
            "11997/11997 [==============================] - 3s 220us/sample - loss: 0.0025 - acc: 0.8464 - val_loss: 0.0026 - val_acc: 0.8760\n",
            "Epoch 53/100\n",
            "11997/11997 [==============================] - 3s 227us/sample - loss: 0.0025 - acc: 0.8464 - val_loss: 0.0026 - val_acc: 0.8760\n",
            "Epoch 54/100\n",
            "11997/11997 [==============================] - 3s 213us/sample - loss: 0.0025 - acc: 0.8464 - val_loss: 0.0026 - val_acc: 0.8760\n",
            "Epoch 55/100\n",
            "11997/11997 [==============================] - 3s 218us/sample - loss: 0.0025 - acc: 0.8464 - val_loss: 0.0026 - val_acc: 0.8760\n",
            "Epoch 56/100\n",
            "11997/11997 [==============================] - 3s 222us/sample - loss: 0.0025 - acc: 0.8464 - val_loss: 0.0026 - val_acc: 0.8760\n",
            "Epoch 57/100\n",
            "11997/11997 [==============================] - 3s 219us/sample - loss: 0.0025 - acc: 0.8464 - val_loss: 0.0026 - val_acc: 0.8760\n",
            "Epoch 58/100\n",
            "11997/11997 [==============================] - 3s 221us/sample - loss: 0.0025 - acc: 0.8464 - val_loss: 0.0026 - val_acc: 0.8760\n",
            "Epoch 59/100\n",
            "11997/11997 [==============================] - 3s 219us/sample - loss: 0.0025 - acc: 0.8464 - val_loss: 0.0026 - val_acc: 0.8760\n",
            "Epoch 60/100\n",
            "11997/11997 [==============================] - 3s 224us/sample - loss: 0.0025 - acc: 0.8464 - val_loss: 0.0026 - val_acc: 0.8760\n",
            "Epoch 61/100\n",
            "11997/11997 [==============================] - 3s 227us/sample - loss: 0.0025 - acc: 0.8464 - val_loss: 0.0026 - val_acc: 0.8760\n",
            "Epoch 62/100\n",
            "11997/11997 [==============================] - 3s 216us/sample - loss: 0.0025 - acc: 0.8464 - val_loss: 0.0026 - val_acc: 0.8760\n",
            "Epoch 63/100\n",
            "11997/11997 [==============================] - 3s 217us/sample - loss: 0.0025 - acc: 0.8464 - val_loss: 0.0026 - val_acc: 0.8760\n",
            "Epoch 64/100\n",
            "11997/11997 [==============================] - 3s 215us/sample - loss: 0.0025 - acc: 0.8464 - val_loss: 0.0026 - val_acc: 0.8760\n",
            "Epoch 65/100\n",
            "11997/11997 [==============================] - 3s 220us/sample - loss: 0.0025 - acc: 0.8464 - val_loss: 0.0026 - val_acc: 0.8760\n",
            "Epoch 66/100\n",
            "11997/11997 [==============================] - 3s 218us/sample - loss: 0.0025 - acc: 0.8464 - val_loss: 0.0026 - val_acc: 0.8760\n",
            "Epoch 67/100\n",
            "11997/11997 [==============================] - 3s 231us/sample - loss: 0.0025 - acc: 0.8464 - val_loss: 0.0026 - val_acc: 0.8760\n",
            "Epoch 68/100\n",
            "11997/11997 [==============================] - 3s 214us/sample - loss: 0.0025 - acc: 0.8464 - val_loss: 0.0026 - val_acc: 0.8760\n",
            "Epoch 69/100\n",
            "11997/11997 [==============================] - 3s 215us/sample - loss: 0.0025 - acc: 0.8464 - val_loss: 0.0026 - val_acc: 0.8760\n",
            "Epoch 70/100\n",
            "11997/11997 [==============================] - 3s 219us/sample - loss: 0.0025 - acc: 0.8464 - val_loss: 0.0026 - val_acc: 0.8760\n",
            "Epoch 71/100\n",
            "11997/11997 [==============================] - 3s 221us/sample - loss: 0.0025 - acc: 0.8464 - val_loss: 0.0026 - val_acc: 0.8760\n",
            "Epoch 72/100\n",
            "11997/11997 [==============================] - 3s 223us/sample - loss: 0.0025 - acc: 0.8464 - val_loss: 0.0026 - val_acc: 0.8760\n",
            "Epoch 73/100\n",
            "11997/11997 [==============================] - 3s 218us/sample - loss: 0.0025 - acc: 0.8464 - val_loss: 0.0026 - val_acc: 0.8760\n",
            "Epoch 74/100\n",
            "11997/11997 [==============================] - 3s 221us/sample - loss: 0.0025 - acc: 0.8464 - val_loss: 0.0026 - val_acc: 0.8760\n",
            "Epoch 75/100\n",
            "11997/11997 [==============================] - 3s 219us/sample - loss: 0.0025 - acc: 0.8464 - val_loss: 0.0026 - val_acc: 0.8760\n",
            "Epoch 76/100\n",
            "11997/11997 [==============================] - 3s 221us/sample - loss: 0.0025 - acc: 0.8464 - val_loss: 0.0026 - val_acc: 0.8760\n",
            "Epoch 77/100\n",
            "11997/11997 [==============================] - 3s 219us/sample - loss: 0.0025 - acc: 0.8464 - val_loss: 0.0026 - val_acc: 0.8760\n",
            "Epoch 78/100\n",
            "11997/11997 [==============================] - 3s 215us/sample - loss: 0.0025 - acc: 0.8464 - val_loss: 0.0026 - val_acc: 0.8760\n",
            "Epoch 79/100\n",
            "11997/11997 [==============================] - 3s 216us/sample - loss: 0.0025 - acc: 0.8464 - val_loss: 0.0026 - val_acc: 0.8760\n",
            "Epoch 80/100\n",
            "11997/11997 [==============================] - 3s 219us/sample - loss: 0.0025 - acc: 0.8464 - val_loss: 0.0026 - val_acc: 0.8760\n",
            "Epoch 81/100\n",
            "11997/11997 [==============================] - 3s 223us/sample - loss: 0.0025 - acc: 0.8464 - val_loss: 0.0026 - val_acc: 0.8760\n",
            "Epoch 82/100\n",
            "11997/11997 [==============================] - 3s 227us/sample - loss: 0.0025 - acc: 0.8464 - val_loss: 0.0026 - val_acc: 0.8760\n",
            "Epoch 83/100\n",
            "11997/11997 [==============================] - 3s 228us/sample - loss: 0.0025 - acc: 0.8464 - val_loss: 0.0026 - val_acc: 0.8760\n",
            "Epoch 84/100\n",
            "11997/11997 [==============================] - 3s 232us/sample - loss: 0.0025 - acc: 0.8464 - val_loss: 0.0027 - val_acc: 0.8760\n",
            "Epoch 85/100\n",
            "11997/11997 [==============================] - 3s 216us/sample - loss: 0.0025 - acc: 0.8464 - val_loss: 0.0026 - val_acc: 0.8760\n",
            "Epoch 86/100\n",
            "11997/11997 [==============================] - 3s 218us/sample - loss: 0.0025 - acc: 0.8464 - val_loss: 0.0026 - val_acc: 0.8760\n",
            "Epoch 87/100\n",
            "11997/11997 [==============================] - 3s 226us/sample - loss: 0.0025 - acc: 0.8464 - val_loss: 0.0026 - val_acc: 0.8760\n",
            "Epoch 88/100\n",
            "11997/11997 [==============================] - 3s 225us/sample - loss: 0.0025 - acc: 0.8464 - val_loss: 0.0026 - val_acc: 0.8760\n",
            "Epoch 89/100\n",
            "11997/11997 [==============================] - 3s 232us/sample - loss: 0.0025 - acc: 0.8464 - val_loss: 0.0026 - val_acc: 0.8760\n",
            "Epoch 90/100\n",
            "11997/11997 [==============================] - 3s 230us/sample - loss: 0.0025 - acc: 0.8464 - val_loss: 0.0026 - val_acc: 0.8760\n",
            "Epoch 91/100\n",
            "11997/11997 [==============================] - 3s 217us/sample - loss: 0.0025 - acc: 0.8464 - val_loss: 0.0026 - val_acc: 0.8760\n",
            "Epoch 92/100\n",
            "11997/11997 [==============================] - 3s 222us/sample - loss: 0.0025 - acc: 0.8464 - val_loss: 0.0026 - val_acc: 0.8760\n",
            "Epoch 93/100\n",
            "11997/11997 [==============================] - 3s 222us/sample - loss: 0.0025 - acc: 0.8464 - val_loss: 0.0026 - val_acc: 0.8760\n",
            "Epoch 94/100\n",
            "11997/11997 [==============================] - 3s 221us/sample - loss: 0.0025 - acc: 0.8464 - val_loss: 0.0026 - val_acc: 0.8760\n",
            "Epoch 95/100\n",
            "11997/11997 [==============================] - 3s 224us/sample - loss: 0.0025 - acc: 0.8464 - val_loss: 0.0027 - val_acc: 0.8760\n",
            "Epoch 96/100\n",
            "11997/11997 [==============================] - 3s 220us/sample - loss: 0.0025 - acc: 0.8464 - val_loss: 0.0026 - val_acc: 0.8760\n",
            "Epoch 97/100\n",
            "11997/11997 [==============================] - 3s 213us/sample - loss: 0.0025 - acc: 0.8464 - val_loss: 0.0026 - val_acc: 0.8760\n",
            "Epoch 98/100\n",
            "11997/11997 [==============================] - 3s 216us/sample - loss: 0.0025 - acc: 0.8464 - val_loss: 0.0026 - val_acc: 0.8760\n",
            "Epoch 99/100\n",
            "11997/11997 [==============================] - 3s 220us/sample - loss: 0.0025 - acc: 0.8464 - val_loss: 0.0026 - val_acc: 0.8760\n",
            "Epoch 100/100\n",
            "11997/11997 [==============================] - 3s 211us/sample - loss: 0.0025 - acc: 0.8464 - val_loss: 0.0026 - val_acc: 0.8760\n"
          ],
          "name": "stdout"
        },
        {
          "output_type": "execute_result",
          "data": {
            "text/plain": [
              "<tensorflow.python.keras.callbacks.History at 0x7fbe874fb2b0>"
            ]
          },
          "metadata": {
            "tags": []
          },
          "execution_count": 397
        }
      ]
    },
    {
      "cell_type": "code",
      "metadata": {
        "id": "fBzu8k-rIJfj",
        "colab_type": "code",
        "outputId": "ca5a70f5-030a-49cd-87b1-d8f8c5c2f26c",
        "colab": {
          "base_uri": "https://localhost:8080/",
          "height": 50
        }
      },
      "source": [
        "ypred = model.predict(X16)\n",
        "s=pd.DataFrame(ypred)\n",
        "s1=pd.DataFrame(y16)\n",
        "s1.corrwith(s, axis = 0) "
      ],
      "execution_count": 398,
      "outputs": [
        {
          "output_type": "execute_result",
          "data": {
            "text/plain": [
              "0    0.276835\n",
              "dtype: float64"
            ]
          },
          "metadata": {
            "tags": []
          },
          "execution_count": 398
        }
      ]
    },
    {
      "cell_type": "code",
      "metadata": {
        "id": "oa8m9LhKKdqO",
        "colab_type": "code",
        "outputId": "f0e46586-4177-4f58-d6f8-8c81ae80b550",
        "colab": {
          "base_uri": "https://localhost:8080/",
          "height": 34
        }
      },
      "source": [
        "from sklearn.metrics import r2_score\n",
        "r2_score(y16,ypred)"
      ],
      "execution_count": 399,
      "outputs": [
        {
          "output_type": "execute_result",
          "data": {
            "text/plain": [
              "0.07536690898826592"
            ]
          },
          "metadata": {
            "tags": []
          },
          "execution_count": 399
        }
      ]
    },
    {
      "cell_type": "code",
      "metadata": {
        "id": "NCjU5wnqJdhv",
        "colab_type": "code",
        "outputId": "c1b9be1a-1565-413b-b4e3-ce67d8baed43",
        "colab": {
          "base_uri": "https://localhost:8080/",
          "height": 50
        }
      },
      "source": [
        "ypred1=model.predict(X_test16)\n",
        "s=pd.DataFrame(ypred1)\n",
        "s1=pd.DataFrame(y_test16)\n",
        "s1.corrwith(s,axis=0)"
      ],
      "execution_count": 400,
      "outputs": [
        {
          "output_type": "execute_result",
          "data": {
            "text/plain": [
              "0    0.211769\n",
              "dtype: float64"
            ]
          },
          "metadata": {
            "tags": []
          },
          "execution_count": 400
        }
      ]
    },
    {
      "cell_type": "code",
      "metadata": {
        "id": "UY6rtmdyKjSa",
        "colab_type": "code",
        "outputId": "c027ee0e-c9a8-4795-e99a-092d63ea274a",
        "colab": {
          "base_uri": "https://localhost:8080/",
          "height": 34
        }
      },
      "source": [
        "r2_score(y_test16,ypred1)"
      ],
      "execution_count": 401,
      "outputs": [
        {
          "output_type": "execute_result",
          "data": {
            "text/plain": [
              "0.04377041461970843"
            ]
          },
          "metadata": {
            "tags": []
          },
          "execution_count": 401
        }
      ]
    },
    {
      "cell_type": "code",
      "metadata": {
        "id": "U9Ef0FuxciMB",
        "colab_type": "code",
        "outputId": "e80ab096-baee-4bbc-b7c5-6b4a93857476",
        "colab": {
          "base_uri": "https://localhost:8080/",
          "height": 34
        }
      },
      "source": [
        "mean_absolute_error(y_test16,ypred1)"
      ],
      "execution_count": 402,
      "outputs": [
        {
          "output_type": "execute_result",
          "data": {
            "text/plain": [
              "0.01993251246883298"
            ]
          },
          "metadata": {
            "tags": []
          },
          "execution_count": 402
        }
      ]
    },
    {
      "cell_type": "code",
      "metadata": {
        "id": "82kqJKkTcj7i",
        "colab_type": "code",
        "outputId": "4fc836a7-6a97-45c6-9f91-55bb1f041c41",
        "colab": {
          "base_uri": "https://localhost:8080/",
          "height": 34
        }
      },
      "source": [
        "mean_absolute_error(y16,ypred)"
      ],
      "execution_count": 403,
      "outputs": [
        {
          "output_type": "execute_result",
          "data": {
            "text/plain": [
              "0.020799796994419723"
            ]
          },
          "metadata": {
            "tags": []
          },
          "execution_count": 403
        }
      ]
    },
    {
      "cell_type": "code",
      "metadata": {
        "id": "vAaJxAWFEzb3",
        "colab_type": "code",
        "colab": {}
      },
      "source": [
        "ypred1[ypred1<0]=0"
      ],
      "execution_count": 0,
      "outputs": []
    },
    {
      "cell_type": "code",
      "metadata": {
        "id": "DQXr9dAYExb7",
        "colab_type": "code",
        "colab": {
          "base_uri": "https://localhost:8080/",
          "height": 668
        },
        "outputId": "caaa0c45-a3fa-4920-d2b1-6b079187d97b"
      },
      "source": [
        "plt.plot(y_test16)\n",
        "plt.plot(ypred1)\n",
        "plt.legend(\"Actual\",\"predicted\")\n",
        "plt.show()"
      ],
      "execution_count": 405,
      "outputs": [
        {
          "output_type": "stream",
          "text": [
            "/usr/local/lib/python3.6/dist-packages/ipykernel_launcher.py:3: UserWarning: Legend does not support 'A' instances.\n",
            "A proxy artist may be used instead.\n",
            "See: http://matplotlib.org/users/legend_guide.html#creating-artists-specifically-for-adding-to-the-legend-aka-proxy-artists\n",
            "  This is separate from the ipykernel package so we can avoid doing imports until\n",
            "/usr/local/lib/python3.6/dist-packages/ipykernel_launcher.py:3: UserWarning: Legend does not support 'c' instances.\n",
            "A proxy artist may be used instead.\n",
            "See: http://matplotlib.org/users/legend_guide.html#creating-artists-specifically-for-adding-to-the-legend-aka-proxy-artists\n",
            "  This is separate from the ipykernel package so we can avoid doing imports until\n",
            "/usr/local/lib/python3.6/dist-packages/ipykernel_launcher.py:3: UserWarning: Legend does not support 't' instances.\n",
            "A proxy artist may be used instead.\n",
            "See: http://matplotlib.org/users/legend_guide.html#creating-artists-specifically-for-adding-to-the-legend-aka-proxy-artists\n",
            "  This is separate from the ipykernel package so we can avoid doing imports until\n",
            "/usr/local/lib/python3.6/dist-packages/ipykernel_launcher.py:3: UserWarning: Legend does not support 'u' instances.\n",
            "A proxy artist may be used instead.\n",
            "See: http://matplotlib.org/users/legend_guide.html#creating-artists-specifically-for-adding-to-the-legend-aka-proxy-artists\n",
            "  This is separate from the ipykernel package so we can avoid doing imports until\n",
            "/usr/local/lib/python3.6/dist-packages/ipykernel_launcher.py:3: UserWarning: Legend does not support 'a' instances.\n",
            "A proxy artist may be used instead.\n",
            "See: http://matplotlib.org/users/legend_guide.html#creating-artists-specifically-for-adding-to-the-legend-aka-proxy-artists\n",
            "  This is separate from the ipykernel package so we can avoid doing imports until\n",
            "/usr/local/lib/python3.6/dist-packages/ipykernel_launcher.py:3: UserWarning: Legend does not support 'l' instances.\n",
            "A proxy artist may be used instead.\n",
            "See: http://matplotlib.org/users/legend_guide.html#creating-artists-specifically-for-adding-to-the-legend-aka-proxy-artists\n",
            "  This is separate from the ipykernel package so we can avoid doing imports until\n"
          ],
          "name": "stderr"
        },
        {
          "output_type": "display_data",
          "data": {
            "image/png": "[encoded data removed]",
            "text/plain": [
              "<Figure size 432x288 with 1 Axes>"
            ]
          },
          "metadata": {
            "tags": []
          }
        }
      ]
    },
    {
      "cell_type": "code",
      "metadata": {
        "id": "wj8EH_dTE4kD",
        "colab_type": "code",
        "colab": {
          "base_uri": "https://localhost:8080/",
          "height": 265
        },
        "outputId": "1e30170d-df8e-494f-b128-b259daadcd95"
      },
      "source": [
        "plt.plot(y_test16)\n",
        "plt.show()"
      ],
      "execution_count": 406,
      "outputs": [
        {
          "output_type": "display_data",
          "data": {
            "image/png": "[encoded data removed]",
            "text/plain": [
              "<Figure size 432x288 with 1 Axes>"
            ]
          },
          "metadata": {
            "tags": []
          }
        }
      ]
    },
    {
      "cell_type": "code",
      "metadata": {
        "id": "fNQOZectAjO2",
        "colab_type": "code",
        "colab": {}
      },
      "source": [
        "model = keras.Sequential()\n",
        "model.add(keras.layers.LSTM(100, activation='relu', input_shape=(n_steps, 1)))\n",
        "model.add(keras.layers.Dense(1))\n",
        "model.compile(optimizer='adam', loss='mse',metrics=['accuracy'])"
      ],
      "execution_count": 0,
      "outputs": []
    },
    {
      "cell_type": "code",
      "metadata": {
        "id": "PIErxCqcB9uC",
        "colab_type": "code",
        "outputId": "fb8619b3-2e24-4754-f452-8cf618af2850",
        "colab": {
          "base_uri": "https://localhost:8080/",
          "height": 1000
        }
      },
      "source": [
        "model.fit(X17, y17, validation_data=(X_test17,y_test17),epochs=50)"
      ],
      "execution_count": 408,
      "outputs": [
        {
          "output_type": "stream",
          "text": [
            "Train on 11997 samples, validate on 3702 samples\n",
            "Epoch 1/50\n",
            "11997/11997 [==============================] - 6s 501us/sample - loss: 0.0026 - acc: 0.8949 - val_loss: 0.0083 - val_acc: 0.8947\n",
            "Epoch 2/50\n",
            "11997/11997 [==============================] - 3s 219us/sample - loss: 0.0025 - acc: 0.8949 - val_loss: 0.0081 - val_acc: 0.8947\n",
            "Epoch 3/50\n",
            "11997/11997 [==============================] - 3s 219us/sample - loss: 0.0025 - acc: 0.8949 - val_loss: 0.0081 - val_acc: 0.8947\n",
            "Epoch 4/50\n",
            "11997/11997 [==============================] - 3s 218us/sample - loss: 0.0025 - acc: 0.8949 - val_loss: 0.0082 - val_acc: 0.8947\n",
            "Epoch 5/50\n",
            "11997/11997 [==============================] - 3s 219us/sample - loss: 0.0025 - acc: 0.8949 - val_loss: 0.0080 - val_acc: 0.8947\n",
            "Epoch 6/50\n",
            "11997/11997 [==============================] - 3s 214us/sample - loss: 0.0025 - acc: 0.8949 - val_loss: 0.0081 - val_acc: 0.8947\n",
            "Epoch 7/50\n",
            "11997/11997 [==============================] - 3s 227us/sample - loss: 0.0025 - acc: 0.8949 - val_loss: 0.0080 - val_acc: 0.8947\n",
            "Epoch 8/50\n",
            "11997/11997 [==============================] - 3s 227us/sample - loss: 0.0025 - acc: 0.8949 - val_loss: 0.0081 - val_acc: 0.8947\n",
            "Epoch 9/50\n",
            "11997/11997 [==============================] - 3s 214us/sample - loss: 0.0025 - acc: 0.8949 - val_loss: 0.0080 - val_acc: 0.8947\n",
            "Epoch 10/50\n",
            "11997/11997 [==============================] - 3s 213us/sample - loss: 0.0025 - acc: 0.8949 - val_loss: 0.0082 - val_acc: 0.8947\n",
            "Epoch 11/50\n",
            "11997/11997 [==============================] - 3s 221us/sample - loss: 0.0025 - acc: 0.8949 - val_loss: 0.0081 - val_acc: 0.8947\n",
            "Epoch 12/50\n",
            "11997/11997 [==============================] - 3s 226us/sample - loss: 0.0025 - acc: 0.8949 - val_loss: 0.0080 - val_acc: 0.8947\n",
            "Epoch 13/50\n",
            "11997/11997 [==============================] - 3s 218us/sample - loss: 0.0025 - acc: 0.8949 - val_loss: 0.0081 - val_acc: 0.8947\n",
            "Epoch 14/50\n",
            "11997/11997 [==============================] - 3s 221us/sample - loss: 0.0025 - acc: 0.8949 - val_loss: 0.0081 - val_acc: 0.8947\n",
            "Epoch 15/50\n",
            "11997/11997 [==============================] - 3s 223us/sample - loss: 0.0025 - acc: 0.8949 - val_loss: 0.0080 - val_acc: 0.8947\n",
            "Epoch 16/50\n",
            "11997/11997 [==============================] - 3s 223us/sample - loss: 0.0025 - acc: 0.8949 - val_loss: 0.0081 - val_acc: 0.8947\n",
            "Epoch 17/50\n",
            "11997/11997 [==============================] - 3s 239us/sample - loss: 0.0025 - acc: 0.8949 - val_loss: 0.0080 - val_acc: 0.8947\n",
            "Epoch 18/50\n",
            "11997/11997 [==============================] - 3s 231us/sample - loss: 0.0025 - acc: 0.8949 - val_loss: 0.0080 - val_acc: 0.8947\n",
            "Epoch 19/50\n",
            "11997/11997 [==============================] - 3s 225us/sample - loss: 0.0025 - acc: 0.8949 - val_loss: 0.0081 - val_acc: 0.8947\n",
            "Epoch 20/50\n",
            "11997/11997 [==============================] - 3s 226us/sample - loss: 0.0025 - acc: 0.8949 - val_loss: 0.0081 - val_acc: 0.8947\n",
            "Epoch 21/50\n",
            "11997/11997 [==============================] - 3s 218us/sample - loss: 0.0025 - acc: 0.8949 - val_loss: 0.0081 - val_acc: 0.8947\n",
            "Epoch 22/50\n",
            "11997/11997 [==============================] - 3s 223us/sample - loss: 0.0025 - acc: 0.8949 - val_loss: 0.0081 - val_acc: 0.8947\n",
            "Epoch 23/50\n",
            "11997/11997 [==============================] - 3s 223us/sample - loss: 0.0025 - acc: 0.8949 - val_loss: 0.0081 - val_acc: 0.8947\n",
            "Epoch 24/50\n",
            "11997/11997 [==============================] - 3s 225us/sample - loss: 0.0025 - acc: 0.8949 - val_loss: 0.0081 - val_acc: 0.8947\n",
            "Epoch 25/50\n",
            "11997/11997 [==============================] - 3s 219us/sample - loss: 0.0025 - acc: 0.8949 - val_loss: 0.0080 - val_acc: 0.8947\n",
            "Epoch 26/50\n",
            "11997/11997 [==============================] - 3s 223us/sample - loss: 0.0025 - acc: 0.8949 - val_loss: 0.0081 - val_acc: 0.8947\n",
            "Epoch 27/50\n",
            "11997/11997 [==============================] - 3s 224us/sample - loss: 0.0025 - acc: 0.8949 - val_loss: 0.0082 - val_acc: 0.8947\n",
            "Epoch 28/50\n",
            "11997/11997 [==============================] - 3s 235us/sample - loss: 0.0025 - acc: 0.8949 - val_loss: 0.0081 - val_acc: 0.8947\n",
            "Epoch 29/50\n",
            "11997/11997 [==============================] - 3s 232us/sample - loss: 0.0025 - acc: 0.8949 - val_loss: 0.0082 - val_acc: 0.8947\n",
            "Epoch 30/50\n",
            "11997/11997 [==============================] - 3s 238us/sample - loss: 0.0025 - acc: 0.8949 - val_loss: 0.0081 - val_acc: 0.8947\n",
            "Epoch 31/50\n",
            "11997/11997 [==============================] - 3s 224us/sample - loss: 0.0025 - acc: 0.8949 - val_loss: 0.0081 - val_acc: 0.8947\n",
            "Epoch 32/50\n",
            "11997/11997 [==============================] - 3s 217us/sample - loss: 0.0025 - acc: 0.8949 - val_loss: 0.0080 - val_acc: 0.8947\n",
            "Epoch 33/50\n",
            "11997/11997 [==============================] - 3s 221us/sample - loss: 0.0025 - acc: 0.8949 - val_loss: 0.0081 - val_acc: 0.8947\n",
            "Epoch 34/50\n",
            "11997/11997 [==============================] - 3s 217us/sample - loss: 0.0025 - acc: 0.8949 - val_loss: 0.0081 - val_acc: 0.8947\n",
            "Epoch 35/50\n",
            "11997/11997 [==============================] - 3s 227us/sample - loss: 0.0025 - acc: 0.8949 - val_loss: 0.0080 - val_acc: 0.8947\n",
            "Epoch 36/50\n",
            "11997/11997 [==============================] - 3s 241us/sample - loss: 0.0025 - acc: 0.8949 - val_loss: 0.0081 - val_acc: 0.8947\n",
            "Epoch 37/50\n",
            "11997/11997 [==============================] - 3s 247us/sample - loss: 0.0025 - acc: 0.8949 - val_loss: 0.0081 - val_acc: 0.8947\n",
            "Epoch 38/50\n",
            "11997/11997 [==============================] - 3s 238us/sample - loss: 0.0025 - acc: 0.8949 - val_loss: 0.0082 - val_acc: 0.8947\n",
            "Epoch 39/50\n",
            "11997/11997 [==============================] - 3s 243us/sample - loss: 0.0025 - acc: 0.8949 - val_loss: 0.0081 - val_acc: 0.8947\n",
            "Epoch 40/50\n",
            "11997/11997 [==============================] - 3s 235us/sample - loss: 0.0025 - acc: 0.8949 - val_loss: 0.0081 - val_acc: 0.8947\n",
            "Epoch 41/50\n",
            "11997/11997 [==============================] - 3s 235us/sample - loss: 0.0025 - acc: 0.8949 - val_loss: 0.0082 - val_acc: 0.8947\n",
            "Epoch 42/50\n",
            "11997/11997 [==============================] - 3s 227us/sample - loss: 0.0025 - acc: 0.8949 - val_loss: 0.0082 - val_acc: 0.8947\n",
            "Epoch 43/50\n",
            "11997/11997 [==============================] - 3s 226us/sample - loss: 0.0025 - acc: 0.8949 - val_loss: 0.0081 - val_acc: 0.8947\n",
            "Epoch 44/50\n",
            "11997/11997 [==============================] - 3s 232us/sample - loss: 0.0025 - acc: 0.8949 - val_loss: 0.0082 - val_acc: 0.8947\n",
            "Epoch 45/50\n",
            "11997/11997 [==============================] - 3s 250us/sample - loss: 0.0025 - acc: 0.8949 - val_loss: 0.0081 - val_acc: 0.8947\n",
            "Epoch 46/50\n",
            "11997/11997 [==============================] - 3s 248us/sample - loss: 0.0025 - acc: 0.8949 - val_loss: 0.0081 - val_acc: 0.8947\n",
            "Epoch 47/50\n",
            "11997/11997 [==============================] - 3s 254us/sample - loss: 0.0025 - acc: 0.8949 - val_loss: 0.0081 - val_acc: 0.8947\n",
            "Epoch 48/50\n",
            "11997/11997 [==============================] - 3s 250us/sample - loss: 0.0025 - acc: 0.8949 - val_loss: 0.0081 - val_acc: 0.8947\n",
            "Epoch 49/50\n",
            "11997/11997 [==============================] - 3s 250us/sample - loss: 0.0025 - acc: 0.8949 - val_loss: 0.0081 - val_acc: 0.8947\n",
            "Epoch 50/50\n",
            "11997/11997 [==============================] - 3s 250us/sample - loss: 0.0025 - acc: 0.8949 - val_loss: 0.0081 - val_acc: 0.8947\n"
          ],
          "name": "stdout"
        },
        {
          "output_type": "execute_result",
          "data": {
            "text/plain": [
              "<tensorflow.python.keras.callbacks.History at 0x7fbe87123eb8>"
            ]
          },
          "metadata": {
            "tags": []
          },
          "execution_count": 408
        }
      ]
    },
    {
      "cell_type": "code",
      "metadata": {
        "id": "q_cqFEZyIK_5",
        "colab_type": "code",
        "outputId": "6db8baae-f251-41f5-860f-364696acab5f",
        "colab": {
          "base_uri": "https://localhost:8080/",
          "height": 50
        }
      },
      "source": [
        "ypred = model.predict(X17)\n",
        "s=pd.DataFrame(ypred)\n",
        "s1=pd.DataFrame(y17)\n",
        "s1.corrwith(s, axis = 0) "
      ],
      "execution_count": 409,
      "outputs": [
        {
          "output_type": "execute_result",
          "data": {
            "text/plain": [
              "0    0.286753\n",
              "dtype: float64"
            ]
          },
          "metadata": {
            "tags": []
          },
          "execution_count": 409
        }
      ]
    },
    {
      "cell_type": "code",
      "metadata": {
        "id": "iNUMrec5KInu",
        "colab_type": "code",
        "outputId": "876e01f6-3f42-472b-f5c0-f8fd8cca8284",
        "colab": {
          "base_uri": "https://localhost:8080/",
          "height": 34
        }
      },
      "source": [
        "from sklearn.metrics import r2_score\n",
        "r2_score(y17,ypred)"
      ],
      "execution_count": 410,
      "outputs": [
        {
          "output_type": "execute_result",
          "data": {
            "text/plain": [
              "0.08048536949036145"
            ]
          },
          "metadata": {
            "tags": []
          },
          "execution_count": 410
        }
      ]
    },
    {
      "cell_type": "code",
      "metadata": {
        "id": "UJ7Wc3CIJerO",
        "colab_type": "code",
        "outputId": "0482eeb7-f481-4658-8524-cdd9a03ed9a3",
        "colab": {
          "base_uri": "https://localhost:8080/",
          "height": 50
        }
      },
      "source": [
        "ypred1=model.predict(X_test17)\n",
        "s=pd.DataFrame(ypred1)\n",
        "s1=pd.DataFrame(y_test17)\n",
        "s1.corrwith(s,axis=0)"
      ],
      "execution_count": 411,
      "outputs": [
        {
          "output_type": "execute_result",
          "data": {
            "text/plain": [
              "0    0.190129\n",
              "dtype: float64"
            ]
          },
          "metadata": {
            "tags": []
          },
          "execution_count": 411
        }
      ]
    },
    {
      "cell_type": "code",
      "metadata": {
        "id": "qKYoL8cDKKmZ",
        "colab_type": "code",
        "outputId": "c803d0d7-a0d9-46b2-dabb-92aef3767da9",
        "colab": {
          "base_uri": "https://localhost:8080/",
          "height": 34
        }
      },
      "source": [
        "r2_score(y_test17,ypred1)"
      ],
      "execution_count": 412,
      "outputs": [
        {
          "output_type": "execute_result",
          "data": {
            "text/plain": [
              "0.026637523139255825"
            ]
          },
          "metadata": {
            "tags": []
          },
          "execution_count": 412
        }
      ]
    },
    {
      "cell_type": "code",
      "metadata": {
        "id": "sqMbanyDcoVD",
        "colab_type": "code",
        "outputId": "de5b6e09-0453-4f1b-aeff-047b9fdd60ac",
        "colab": {
          "base_uri": "https://localhost:8080/",
          "height": 34
        }
      },
      "source": [
        "mean_absolute_error(y_test17,ypred1)"
      ],
      "execution_count": 413,
      "outputs": [
        {
          "output_type": "execute_result",
          "data": {
            "text/plain": [
              "0.0306611005984226"
            ]
          },
          "metadata": {
            "tags": []
          },
          "execution_count": 413
        }
      ]
    },
    {
      "cell_type": "code",
      "metadata": {
        "id": "4z--E3OPcqLB",
        "colab_type": "code",
        "outputId": "00380855-1ada-486a-8b97-200ab8cc0fc7",
        "colab": {
          "base_uri": "https://localhost:8080/",
          "height": 34
        }
      },
      "source": [
        "mean_absolute_error(y17,ypred)"
      ],
      "execution_count": 414,
      "outputs": [
        {
          "output_type": "execute_result",
          "data": {
            "text/plain": [
              "0.01764593808973321"
            ]
          },
          "metadata": {
            "tags": []
          },
          "execution_count": 414
        }
      ]
    },
    {
      "cell_type": "code",
      "metadata": {
        "id": "q9_OIW7kFC2R",
        "colab_type": "code",
        "colab": {}
      },
      "source": [
        "ypred1[ypred1<0]=0"
      ],
      "execution_count": 0,
      "outputs": []
    },
    {
      "cell_type": "code",
      "metadata": {
        "id": "uFnKD_tZFGhK",
        "colab_type": "code",
        "colab": {
          "base_uri": "https://localhost:8080/",
          "height": 668
        },
        "outputId": "996d85c6-09d7-42c5-dc3d-a9e9ef33697a"
      },
      "source": [
        "plt.plot(y_test17)\n",
        "plt.plot(ypred1)\n",
        "plt.legend(\"Actual\",\"predicted\")\n",
        "plt.show()"
      ],
      "execution_count": 416,
      "outputs": [
        {
          "output_type": "stream",
          "text": [
            "/usr/local/lib/python3.6/dist-packages/ipykernel_launcher.py:3: UserWarning: Legend does not support 'A' instances.\n",
            "A proxy artist may be used instead.\n",
            "See: http://matplotlib.org/users/legend_guide.html#creating-artists-specifically-for-adding-to-the-legend-aka-proxy-artists\n",
            "  This is separate from the ipykernel package so we can avoid doing imports until\n",
            "/usr/local/lib/python3.6/dist-packages/ipykernel_launcher.py:3: UserWarning: Legend does not support 'c' instances.\n",
            "A proxy artist may be used instead.\n",
            "See: http://matplotlib.org/users/legend_guide.html#creating-artists-specifically-for-adding-to-the-legend-aka-proxy-artists\n",
            "  This is separate from the ipykernel package so we can avoid doing imports until\n",
            "/usr/local/lib/python3.6/dist-packages/ipykernel_launcher.py:3: UserWarning: Legend does not support 't' instances.\n",
            "A proxy artist may be used instead.\n",
            "See: http://matplotlib.org/users/legend_guide.html#creating-artists-specifically-for-adding-to-the-legend-aka-proxy-artists\n",
            "  This is separate from the ipykernel package so we can avoid doing imports until\n",
            "/usr/local/lib/python3.6/dist-packages/ipykernel_launcher.py:3: UserWarning: Legend does not support 'u' instances.\n",
            "A proxy artist may be used instead.\n",
            "See: http://matplotlib.org/users/legend_guide.html#creating-artists-specifically-for-adding-to-the-legend-aka-proxy-artists\n",
            "  This is separate from the ipykernel package so we can avoid doing imports until\n",
            "/usr/local/lib/python3.6/dist-packages/ipykernel_launcher.py:3: UserWarning: Legend does not support 'a' instances.\n",
            "A proxy artist may be used instead.\n",
            "See: http://matplotlib.org/users/legend_guide.html#creating-artists-specifically-for-adding-to-the-legend-aka-proxy-artists\n",
            "  This is separate from the ipykernel package so we can avoid doing imports until\n",
            "/usr/local/lib/python3.6/dist-packages/ipykernel_launcher.py:3: UserWarning: Legend does not support 'l' instances.\n",
            "A proxy artist may be used instead.\n",
            "See: http://matplotlib.org/users/legend_guide.html#creating-artists-specifically-for-adding-to-the-legend-aka-proxy-artists\n",
            "  This is separate from the ipykernel package so we can avoid doing imports until\n"
          ],
          "name": "stderr"
        },
        {
          "output_type": "display_data",
          "data": {
            "image/png": "[encoded data removed]",
            "text/plain": [
              "<Figure size 432x288 with 1 Axes>"
            ]
          },
          "metadata": {
            "tags": []
          }
        }
      ]
    },
    {
      "cell_type": "code",
      "metadata": {
        "id": "FZm3glcYFQVi",
        "colab_type": "code",
        "colab": {
          "base_uri": "https://localhost:8080/",
          "height": 265
        },
        "outputId": "cfec8c65-82db-4553-f414-cb33b7a2111c"
      },
      "source": [
        "plt.plot(y_test17)\n",
        "plt.show()"
      ],
      "execution_count": 417,
      "outputs": [
        {
          "output_type": "display_data",
          "data": {
            "image/png": "[encoded data removed]",
            "text/plain": [
              "<Figure size 432x288 with 1 Axes>"
            ]
          },
          "metadata": {
            "tags": []
          }
        }
      ]
    },
    {
      "cell_type": "code",
      "metadata": {
        "id": "_Nn16KFdAlzL",
        "colab_type": "code",
        "colab": {}
      },
      "source": [
        "model = keras.Sequential()\n",
        "model.add(keras.layers.LSTM(100, activation='relu', input_shape=(n_steps, 1)))\n",
        "model.add(keras.layers.Dense(1))\n",
        "model.compile(optimizer='adam', loss='mse',metrics=['accuracy'])"
      ],
      "execution_count": 0,
      "outputs": []
    },
    {
      "cell_type": "code",
      "metadata": {
        "id": "bnBS9J1vB-JJ",
        "colab_type": "code",
        "outputId": "667d061d-6849-402a-b164-dfc84456aeb8",
        "colab": {
          "base_uri": "https://localhost:8080/",
          "height": 1000
        }
      },
      "source": [
        "model.fit(X18, y18, validation_data=(X_test18,y_test18),epochs=100)"
      ],
      "execution_count": 419,
      "outputs": [
        {
          "output_type": "stream",
          "text": [
            "Train on 11997 samples, validate on 3701 samples\n",
            "Epoch 1/100\n",
            "11997/11997 [==============================] - 7s 578us/sample - loss: 1.5777e-04 - acc: 0.8540 - val_loss: 0.0024 - val_acc: 0.8646\n",
            "Epoch 2/100\n",
            "11997/11997 [==============================] - 3s 253us/sample - loss: 1.5849e-04 - acc: 0.8540 - val_loss: 0.0024 - val_acc: 0.8646\n",
            "Epoch 3/100\n",
            "11997/11997 [==============================] - 3s 256us/sample - loss: 1.5650e-04 - acc: 0.8540 - val_loss: 0.0024 - val_acc: 0.8646\n",
            "Epoch 4/100\n",
            "11997/11997 [==============================] - 3s 252us/sample - loss: 1.5719e-04 - acc: 0.8540 - val_loss: 0.0023 - val_acc: 0.8646\n",
            "Epoch 5/100\n",
            "11997/11997 [==============================] - 3s 257us/sample - loss: 1.5604e-04 - acc: 0.8540 - val_loss: 0.0024 - val_acc: 0.8646\n",
            "Epoch 6/100\n",
            "11997/11997 [==============================] - 3s 249us/sample - loss: 1.5685e-04 - acc: 0.8540 - val_loss: 0.0023 - val_acc: 0.8646\n",
            "Epoch 7/100\n",
            "11997/11997 [==============================] - 3s 248us/sample - loss: 1.5578e-04 - acc: 0.8540 - val_loss: 0.0023 - val_acc: 0.8646\n",
            "Epoch 8/100\n",
            "11997/11997 [==============================] - 3s 245us/sample - loss: 1.5603e-04 - acc: 0.8540 - val_loss: 0.0023 - val_acc: 0.8646\n",
            "Epoch 9/100\n",
            "11997/11997 [==============================] - 3s 240us/sample - loss: 1.5600e-04 - acc: 0.8540 - val_loss: 0.0024 - val_acc: 0.8646\n",
            "Epoch 10/100\n",
            "11997/11997 [==============================] - 3s 246us/sample - loss: 1.5628e-04 - acc: 0.8540 - val_loss: 0.0024 - val_acc: 0.8646\n",
            "Epoch 11/100\n",
            "11997/11997 [==============================] - 3s 254us/sample - loss: 1.5644e-04 - acc: 0.8540 - val_loss: 0.0024 - val_acc: 0.8646\n",
            "Epoch 12/100\n",
            "11997/11997 [==============================] - 3s 245us/sample - loss: 1.5539e-04 - acc: 0.8540 - val_loss: 0.0023 - val_acc: 0.8646\n",
            "Epoch 13/100\n",
            "11997/11997 [==============================] - 3s 251us/sample - loss: 1.5575e-04 - acc: 0.8540 - val_loss: 0.0024 - val_acc: 0.8646\n",
            "Epoch 14/100\n",
            "11997/11997 [==============================] - 3s 242us/sample - loss: 1.5597e-04 - acc: 0.8540 - val_loss: 0.0024 - val_acc: 0.8646\n",
            "Epoch 15/100\n",
            "11997/11997 [==============================] - 3s 250us/sample - loss: 1.5555e-04 - acc: 0.8540 - val_loss: 0.0024 - val_acc: 0.8646\n",
            "Epoch 16/100\n",
            "11997/11997 [==============================] - 3s 252us/sample - loss: 1.5567e-04 - acc: 0.8540 - val_loss: 0.0024 - val_acc: 0.8646\n",
            "Epoch 17/100\n",
            "11997/11997 [==============================] - 3s 247us/sample - loss: 1.5513e-04 - acc: 0.8540 - val_loss: 0.0024 - val_acc: 0.8646\n",
            "Epoch 18/100\n",
            "11997/11997 [==============================] - 3s 240us/sample - loss: 1.5558e-04 - acc: 0.8540 - val_loss: 0.0024 - val_acc: 0.8646\n",
            "Epoch 19/100\n",
            "11997/11997 [==============================] - 3s 230us/sample - loss: 1.5521e-04 - acc: 0.8540 - val_loss: 0.0024 - val_acc: 0.8646\n",
            "Epoch 20/100\n",
            "11997/11997 [==============================] - 3s 235us/sample - loss: 1.5542e-04 - acc: 0.8540 - val_loss: 0.0024 - val_acc: 0.8646\n",
            "Epoch 21/100\n",
            "11997/11997 [==============================] - 3s 233us/sample - loss: 1.5494e-04 - acc: 0.8540 - val_loss: 0.0024 - val_acc: 0.8646\n",
            "Epoch 22/100\n",
            "11997/11997 [==============================] - 3s 229us/sample - loss: 1.5477e-04 - acc: 0.8540 - val_loss: 0.0024 - val_acc: 0.8646\n",
            "Epoch 23/100\n",
            "11997/11997 [==============================] - 3s 229us/sample - loss: 1.5523e-04 - acc: 0.8540 - val_loss: 0.0024 - val_acc: 0.8646\n",
            "Epoch 24/100\n",
            "11997/11997 [==============================] - 3s 226us/sample - loss: 1.5535e-04 - acc: 0.8540 - val_loss: 0.0024 - val_acc: 0.8646\n",
            "Epoch 25/100\n",
            "11997/11997 [==============================] - 3s 230us/sample - loss: 1.5510e-04 - acc: 0.8540 - val_loss: 0.0024 - val_acc: 0.8646\n",
            "Epoch 26/100\n",
            "11997/11997 [==============================] - 3s 227us/sample - loss: 1.5444e-04 - acc: 0.8540 - val_loss: 0.0024 - val_acc: 0.8646\n",
            "Epoch 27/100\n",
            "11997/11997 [==============================] - 3s 228us/sample - loss: 1.5524e-04 - acc: 0.8540 - val_loss: 0.0024 - val_acc: 0.8646\n",
            "Epoch 28/100\n",
            "11997/11997 [==============================] - 3s 227us/sample - loss: 1.5542e-04 - acc: 0.8540 - val_loss: 0.0023 - val_acc: 0.8646\n",
            "Epoch 29/100\n",
            "11997/11997 [==============================] - 3s 221us/sample - loss: 1.5502e-04 - acc: 0.8540 - val_loss: 0.0024 - val_acc: 0.8646\n",
            "Epoch 30/100\n",
            "11997/11997 [==============================] - 3s 226us/sample - loss: 1.5521e-04 - acc: 0.8540 - val_loss: 0.0024 - val_acc: 0.8646\n",
            "Epoch 31/100\n",
            "11997/11997 [==============================] - 3s 227us/sample - loss: 1.5498e-04 - acc: 0.8540 - val_loss: 0.0023 - val_acc: 0.8646\n",
            "Epoch 32/100\n",
            "11997/11997 [==============================] - 3s 229us/sample - loss: 1.5502e-04 - acc: 0.8540 - val_loss: 0.0024 - val_acc: 0.8646\n",
            "Epoch 33/100\n",
            "11997/11997 [==============================] - 3s 228us/sample - loss: 1.5489e-04 - acc: 0.8540 - val_loss: 0.0024 - val_acc: 0.8646\n",
            "Epoch 34/100\n",
            "11997/11997 [==============================] - 3s 229us/sample - loss: 1.5528e-04 - acc: 0.8540 - val_loss: 0.0024 - val_acc: 0.8646\n",
            "Epoch 35/100\n",
            "11997/11997 [==============================] - 3s 233us/sample - loss: 1.5434e-04 - acc: 0.8540 - val_loss: 0.0023 - val_acc: 0.8646\n",
            "Epoch 36/100\n",
            "11997/11997 [==============================] - 3s 234us/sample - loss: 1.5630e-04 - acc: 0.8540 - val_loss: 0.0024 - val_acc: 0.8646\n",
            "Epoch 37/100\n",
            "11997/11997 [==============================] - 3s 240us/sample - loss: 1.5519e-04 - acc: 0.8540 - val_loss: 0.0024 - val_acc: 0.8646\n",
            "Epoch 38/100\n",
            "11997/11997 [==============================] - 3s 243us/sample - loss: 1.5505e-04 - acc: 0.8540 - val_loss: 0.0024 - val_acc: 0.8646\n",
            "Epoch 39/100\n",
            "11997/11997 [==============================] - 3s 233us/sample - loss: 1.5483e-04 - acc: 0.8540 - val_loss: 0.0024 - val_acc: 0.8646\n",
            "Epoch 40/100\n",
            "11997/11997 [==============================] - 3s 235us/sample - loss: 1.5498e-04 - acc: 0.8540 - val_loss: 0.0024 - val_acc: 0.8646\n",
            "Epoch 41/100\n",
            "11997/11997 [==============================] - 3s 228us/sample - loss: 1.5556e-04 - acc: 0.8540 - val_loss: 0.0024 - val_acc: 0.8646\n",
            "Epoch 42/100\n",
            "11997/11997 [==============================] - 3s 243us/sample - loss: 1.5478e-04 - acc: 0.8540 - val_loss: 0.0024 - val_acc: 0.8646\n",
            "Epoch 43/100\n",
            "11997/11997 [==============================] - 3s 246us/sample - loss: 1.5494e-04 - acc: 0.8540 - val_loss: 0.0025 - val_acc: 0.8646\n",
            "Epoch 44/100\n",
            "11997/11997 [==============================] - 3s 246us/sample - loss: 1.5541e-04 - acc: 0.8540 - val_loss: 0.0024 - val_acc: 0.8646\n",
            "Epoch 45/100\n",
            "11997/11997 [==============================] - 3s 243us/sample - loss: 1.5468e-04 - acc: 0.8540 - val_loss: 0.0024 - val_acc: 0.8646\n",
            "Epoch 46/100\n",
            "11997/11997 [==============================] - 3s 245us/sample - loss: 1.5512e-04 - acc: 0.8540 - val_loss: 0.0024 - val_acc: 0.8646\n",
            "Epoch 47/100\n",
            "11997/11997 [==============================] - 3s 233us/sample - loss: 1.5522e-04 - acc: 0.8540 - val_loss: 0.0024 - val_acc: 0.8646\n",
            "Epoch 48/100\n",
            "11997/11997 [==============================] - 3s 247us/sample - loss: 1.5502e-04 - acc: 0.8540 - val_loss: 0.0024 - val_acc: 0.8646\n",
            "Epoch 49/100\n",
            "11997/11997 [==============================] - 3s 239us/sample - loss: 1.5444e-04 - acc: 0.8540 - val_loss: 0.0024 - val_acc: 0.8646\n",
            "Epoch 50/100\n",
            "11997/11997 [==============================] - 3s 241us/sample - loss: 1.5474e-04 - acc: 0.8540 - val_loss: 0.0024 - val_acc: 0.8646\n",
            "Epoch 51/100\n",
            "11997/11997 [==============================] - 3s 242us/sample - loss: 1.5467e-04 - acc: 0.8540 - val_loss: 0.0024 - val_acc: 0.8646\n",
            "Epoch 52/100\n",
            "11997/11997 [==============================] - 3s 249us/sample - loss: 1.5536e-04 - acc: 0.8540 - val_loss: 0.0024 - val_acc: 0.8646\n",
            "Epoch 53/100\n",
            "11997/11997 [==============================] - 3s 238us/sample - loss: 1.5452e-04 - acc: 0.8540 - val_loss: 0.0024 - val_acc: 0.8646\n",
            "Epoch 54/100\n",
            "11997/11997 [==============================] - 3s 238us/sample - loss: 1.5482e-04 - acc: 0.8540 - val_loss: 0.0024 - val_acc: 0.8646\n",
            "Epoch 55/100\n",
            "11997/11997 [==============================] - 3s 230us/sample - loss: 1.5443e-04 - acc: 0.8540 - val_loss: 0.0024 - val_acc: 0.8646\n",
            "Epoch 56/100\n",
            "11997/11997 [==============================] - 3s 226us/sample - loss: 1.5500e-04 - acc: 0.8540 - val_loss: 0.0024 - val_acc: 0.8646\n",
            "Epoch 57/100\n",
            "11997/11997 [==============================] - 3s 229us/sample - loss: 1.5528e-04 - acc: 0.8540 - val_loss: 0.0024 - val_acc: 0.8646\n",
            "Epoch 58/100\n",
            "11997/11997 [==============================] - 3s 223us/sample - loss: 1.5431e-04 - acc: 0.8540 - val_loss: 0.0024 - val_acc: 0.8646\n",
            "Epoch 59/100\n",
            "11997/11997 [==============================] - 3s 237us/sample - loss: 1.5503e-04 - acc: 0.8540 - val_loss: 0.0024 - val_acc: 0.8646\n",
            "Epoch 60/100\n",
            "11997/11997 [==============================] - 3s 248us/sample - loss: 1.5528e-04 - acc: 0.8540 - val_loss: 0.0024 - val_acc: 0.8646\n",
            "Epoch 61/100\n",
            "11997/11997 [==============================] - 3s 238us/sample - loss: 1.5464e-04 - acc: 0.8540 - val_loss: 0.0024 - val_acc: 0.8646\n",
            "Epoch 62/100\n",
            "11997/11997 [==============================] - 3s 238us/sample - loss: 1.5511e-04 - acc: 0.8540 - val_loss: 0.0024 - val_acc: 0.8646\n",
            "Epoch 63/100\n",
            "11997/11997 [==============================] - 3s 226us/sample - loss: 1.5472e-04 - acc: 0.8540 - val_loss: 0.0024 - val_acc: 0.8646\n",
            "Epoch 64/100\n",
            "11997/11997 [==============================] - 3s 223us/sample - loss: 1.5524e-04 - acc: 0.8540 - val_loss: 0.0024 - val_acc: 0.8646\n",
            "Epoch 65/100\n",
            "11997/11997 [==============================] - 3s 225us/sample - loss: 1.5442e-04 - acc: 0.8540 - val_loss: 0.0023 - val_acc: 0.8646\n",
            "Epoch 66/100\n",
            "11997/11997 [==============================] - 3s 224us/sample - loss: 1.5521e-04 - acc: 0.8540 - val_loss: 0.0024 - val_acc: 0.8646\n",
            "Epoch 67/100\n",
            "11997/11997 [==============================] - 3s 234us/sample - loss: 1.5509e-04 - acc: 0.8540 - val_loss: 0.0024 - val_acc: 0.8646\n",
            "Epoch 68/100\n",
            "11997/11997 [==============================] - 3s 229us/sample - loss: 1.5461e-04 - acc: 0.8540 - val_loss: 0.0024 - val_acc: 0.8646\n",
            "Epoch 69/100\n",
            "11997/11997 [==============================] - 3s 237us/sample - loss: 1.5465e-04 - acc: 0.8540 - val_loss: 0.0024 - val_acc: 0.8646\n",
            "Epoch 70/100\n",
            "11997/11997 [==============================] - 3s 235us/sample - loss: 1.5443e-04 - acc: 0.8540 - val_loss: 0.0024 - val_acc: 0.8646\n",
            "Epoch 71/100\n",
            "11997/11997 [==============================] - 3s 250us/sample - loss: 1.5512e-04 - acc: 0.8540 - val_loss: 0.0024 - val_acc: 0.8646\n",
            "Epoch 72/100\n",
            "11997/11997 [==============================] - 3s 253us/sample - loss: 1.5427e-04 - acc: 0.8540 - val_loss: 0.0023 - val_acc: 0.8646\n",
            "Epoch 73/100\n",
            "11997/11997 [==============================] - 3s 248us/sample - loss: 1.5489e-04 - acc: 0.8540 - val_loss: 0.0024 - val_acc: 0.8646\n",
            "Epoch 74/100\n",
            "11997/11997 [==============================] - 3s 250us/sample - loss: 1.5466e-04 - acc: 0.8540 - val_loss: 0.0024 - val_acc: 0.8646\n",
            "Epoch 75/100\n",
            "11997/11997 [==============================] - 3s 248us/sample - loss: 1.5471e-04 - acc: 0.8540 - val_loss: 0.0024 - val_acc: 0.8646\n",
            "Epoch 76/100\n",
            "11997/11997 [==============================] - 3s 238us/sample - loss: 1.5480e-04 - acc: 0.8540 - val_loss: 0.0024 - val_acc: 0.8646\n",
            "Epoch 77/100\n",
            "11997/11997 [==============================] - 3s 236us/sample - loss: 1.5469e-04 - acc: 0.8540 - val_loss: 0.0024 - val_acc: 0.8646\n",
            "Epoch 78/100\n",
            "11997/11997 [==============================] - 3s 236us/sample - loss: 1.5487e-04 - acc: 0.8540 - val_loss: 0.0024 - val_acc: 0.8646\n",
            "Epoch 79/100\n",
            "11997/11997 [==============================] - 3s 242us/sample - loss: 1.5445e-04 - acc: 0.8540 - val_loss: 0.0024 - val_acc: 0.8646\n",
            "Epoch 80/100\n",
            "11997/11997 [==============================] - 3s 237us/sample - loss: 1.5471e-04 - acc: 0.8540 - val_loss: 0.0024 - val_acc: 0.8646\n",
            "Epoch 81/100\n",
            "11997/11997 [==============================] - 3s 239us/sample - loss: 1.5486e-04 - acc: 0.8540 - val_loss: 0.0024 - val_acc: 0.8646\n",
            "Epoch 82/100\n",
            "11997/11997 [==============================] - 3s 234us/sample - loss: 1.5461e-04 - acc: 0.8540 - val_loss: 0.0024 - val_acc: 0.8646\n",
            "Epoch 83/100\n",
            "11997/11997 [==============================] - 3s 237us/sample - loss: 1.5484e-04 - acc: 0.8540 - val_loss: 0.0024 - val_acc: 0.8646\n",
            "Epoch 84/100\n",
            "11997/11997 [==============================] - 3s 229us/sample - loss: 1.5424e-04 - acc: 0.8540 - val_loss: 0.0024 - val_acc: 0.8646\n",
            "Epoch 85/100\n",
            "11997/11997 [==============================] - 3s 235us/sample - loss: 1.5456e-04 - acc: 0.8540 - val_loss: 0.0024 - val_acc: 0.8646\n",
            "Epoch 86/100\n",
            "11997/11997 [==============================] - 3s 244us/sample - loss: 1.5443e-04 - acc: 0.8540 - val_loss: 0.0024 - val_acc: 0.8646\n",
            "Epoch 87/100\n",
            "11997/11997 [==============================] - 3s 244us/sample - loss: 1.5472e-04 - acc: 0.8540 - val_loss: 0.0024 - val_acc: 0.8646\n",
            "Epoch 88/100\n",
            "11997/11997 [==============================] - 3s 240us/sample - loss: 1.5428e-04 - acc: 0.8540 - val_loss: 0.0024 - val_acc: 0.8646\n",
            "Epoch 89/100\n",
            "11997/11997 [==============================] - 3s 234us/sample - loss: 1.5533e-04 - acc: 0.8540 - val_loss: 0.0024 - val_acc: 0.8646\n",
            "Epoch 90/100\n",
            "11997/11997 [==============================] - 3s 243us/sample - loss: 1.5475e-04 - acc: 0.8540 - val_loss: 0.0024 - val_acc: 0.8646\n",
            "Epoch 91/100\n",
            "11997/11997 [==============================] - 3s 235us/sample - loss: 1.5482e-04 - acc: 0.8540 - val_loss: 0.0024 - val_acc: 0.8646\n",
            "Epoch 92/100\n",
            "11997/11997 [==============================] - 3s 235us/sample - loss: 1.5447e-04 - acc: 0.8540 - val_loss: 0.0024 - val_acc: 0.8646\n",
            "Epoch 93/100\n",
            "11997/11997 [==============================] - 3s 237us/sample - loss: 1.5447e-04 - acc: 0.8540 - val_loss: 0.0024 - val_acc: 0.8646\n",
            "Epoch 94/100\n",
            "11997/11997 [==============================] - 3s 235us/sample - loss: 1.5433e-04 - acc: 0.8540 - val_loss: 0.0024 - val_acc: 0.8646\n",
            "Epoch 95/100\n",
            "11997/11997 [==============================] - 3s 225us/sample - loss: 1.5458e-04 - acc: 0.8540 - val_loss: 0.0024 - val_acc: 0.8646\n",
            "Epoch 96/100\n",
            "11997/11997 [==============================] - 3s 229us/sample - loss: 1.5461e-04 - acc: 0.8540 - val_loss: 0.0024 - val_acc: 0.8646\n",
            "Epoch 97/100\n",
            "11997/11997 [==============================] - 3s 222us/sample - loss: 1.5470e-04 - acc: 0.8540 - val_loss: 0.0024 - val_acc: 0.8646\n",
            "Epoch 98/100\n",
            "11997/11997 [==============================] - 3s 242us/sample - loss: 1.5428e-04 - acc: 0.8540 - val_loss: 0.0024 - val_acc: 0.8646\n",
            "Epoch 99/100\n",
            "11997/11997 [==============================] - 3s 237us/sample - loss: 1.5526e-04 - acc: 0.8540 - val_loss: 0.0024 - val_acc: 0.8646\n",
            "Epoch 100/100\n",
            "11997/11997 [==============================] - 3s 235us/sample - loss: 1.5416e-04 - acc: 0.8540 - val_loss: 0.0024 - val_acc: 0.8646\n"
          ],
          "name": "stdout"
        },
        {
          "output_type": "execute_result",
          "data": {
            "text/plain": [
              "<tensorflow.python.keras.callbacks.History at 0x7fbe879e1e48>"
            ]
          },
          "metadata": {
            "tags": []
          },
          "execution_count": 419
        }
      ]
    },
    {
      "cell_type": "code",
      "metadata": {
        "id": "4dm66DTdIMJ8",
        "colab_type": "code",
        "outputId": "72ed756e-1e6b-4b37-be35-143d8a6c1f62",
        "colab": {
          "base_uri": "https://localhost:8080/",
          "height": 50
        }
      },
      "source": [
        "ypred = model.predict(X18)\n",
        "s=pd.DataFrame(ypred)\n",
        "s1=pd.DataFrame(y18)\n",
        "s1.corrwith(s, axis = 0) "
      ],
      "execution_count": 420,
      "outputs": [
        {
          "output_type": "execute_result",
          "data": {
            "text/plain": [
              "0    0.186974\n",
              "dtype: float64"
            ]
          },
          "metadata": {
            "tags": []
          },
          "execution_count": 420
        }
      ]
    },
    {
      "cell_type": "code",
      "metadata": {
        "id": "yVgkRVW42TsQ",
        "colab_type": "code",
        "outputId": "704c4985-ab0c-448a-a919-0867287afb47",
        "colab": {
          "base_uri": "https://localhost:8080/",
          "height": 34
        }
      },
      "source": [
        "from sklearn.metrics import r2_score\n",
        "r2_score(y18,ypred)"
      ],
      "execution_count": 421,
      "outputs": [
        {
          "output_type": "execute_result",
          "data": {
            "text/plain": [
              "0.0330759644754558"
            ]
          },
          "metadata": {
            "tags": []
          },
          "execution_count": 421
        }
      ]
    },
    {
      "cell_type": "code",
      "metadata": {
        "id": "rtcP5oF9J_Ae",
        "colab_type": "code",
        "outputId": "3d7c4be9-a729-4371-dca9-07de433c4b9f",
        "colab": {
          "base_uri": "https://localhost:8080/",
          "height": 50
        }
      },
      "source": [
        "ypred1 = model.predict(X_test18)\n",
        "s=pd.DataFrame(ypred1)\n",
        "s1=pd.DataFrame(y_test18)\n",
        "s1.corrwith(s, axis = 0) "
      ],
      "execution_count": 422,
      "outputs": [
        {
          "output_type": "execute_result",
          "data": {
            "text/plain": [
              "0    0.191336\n",
              "dtype: float64"
            ]
          },
          "metadata": {
            "tags": []
          },
          "execution_count": 422
        }
      ]
    },
    {
      "cell_type": "code",
      "metadata": {
        "id": "sUlUlZnL2tki",
        "colab_type": "code",
        "outputId": "2dce65af-6c59-4ef5-a5f5-42b8021609f3",
        "colab": {
          "base_uri": "https://localhost:8080/",
          "height": 34
        }
      },
      "source": [
        "r2_score(y_test18,ypred1)"
      ],
      "execution_count": 423,
      "outputs": [
        {
          "output_type": "execute_result",
          "data": {
            "text/plain": [
              "-0.020726288906547374"
            ]
          },
          "metadata": {
            "tags": []
          },
          "execution_count": 423
        }
      ]
    },
    {
      "cell_type": "code",
      "metadata": {
        "id": "ClsczOxcct6d",
        "colab_type": "code",
        "outputId": "444d4ac9-124e-4901-8503-3878c8a312e0",
        "colab": {
          "base_uri": "https://localhost:8080/",
          "height": 34
        }
      },
      "source": [
        "mean_absolute_error(y_test18,ypred1)"
      ],
      "execution_count": 424,
      "outputs": [
        {
          "output_type": "execute_result",
          "data": {
            "text/plain": [
              "0.0125228526261066"
            ]
          },
          "metadata": {
            "tags": []
          },
          "execution_count": 424
        }
      ]
    },
    {
      "cell_type": "code",
      "metadata": {
        "id": "pHM1dOQ3cx-y",
        "colab_type": "code",
        "outputId": "474b73b6-cf9c-46f6-aeaf-9a3791d663a4",
        "colab": {
          "base_uri": "https://localhost:8080/",
          "height": 34
        }
      },
      "source": [
        "mean_absolute_error(y18,ypred)"
      ],
      "execution_count": 425,
      "outputs": [
        {
          "output_type": "execute_result",
          "data": {
            "text/plain": [
              "0.003046358106818243"
            ]
          },
          "metadata": {
            "tags": []
          },
          "execution_count": 425
        }
      ]
    },
    {
      "cell_type": "code",
      "metadata": {
        "id": "UzV4lXViFSzy",
        "colab_type": "code",
        "colab": {}
      },
      "source": [
        "ypred1[ypred1<0]=0"
      ],
      "execution_count": 0,
      "outputs": []
    },
    {
      "cell_type": "code",
      "metadata": {
        "id": "exBj2A25FVcs",
        "colab_type": "code",
        "colab": {
          "base_uri": "https://localhost:8080/",
          "height": 668
        },
        "outputId": "84c8192b-b500-452c-9594-e75956b8cb02"
      },
      "source": [
        "plt.plot(y_test18)\n",
        "plt.plot(ypred1)\n",
        "plt.legend(\"Actual\",\"predicted\")\n",
        "plt.show()"
      ],
      "execution_count": 427,
      "outputs": [
        {
          "output_type": "stream",
          "text": [
            "/usr/local/lib/python3.6/dist-packages/ipykernel_launcher.py:3: UserWarning: Legend does not support 'A' instances.\n",
            "A proxy artist may be used instead.\n",
            "See: http://matplotlib.org/users/legend_guide.html#creating-artists-specifically-for-adding-to-the-legend-aka-proxy-artists\n",
            "  This is separate from the ipykernel package so we can avoid doing imports until\n",
            "/usr/local/lib/python3.6/dist-packages/ipykernel_launcher.py:3: UserWarning: Legend does not support 'c' instances.\n",
            "A proxy artist may be used instead.\n",
            "See: http://matplotlib.org/users/legend_guide.html#creating-artists-specifically-for-adding-to-the-legend-aka-proxy-artists\n",
            "  This is separate from the ipykernel package so we can avoid doing imports until\n",
            "/usr/local/lib/python3.6/dist-packages/ipykernel_launcher.py:3: UserWarning: Legend does not support 't' instances.\n",
            "A proxy artist may be used instead.\n",
            "See: http://matplotlib.org/users/legend_guide.html#creating-artists-specifically-for-adding-to-the-legend-aka-proxy-artists\n",
            "  This is separate from the ipykernel package so we can avoid doing imports until\n",
            "/usr/local/lib/python3.6/dist-packages/ipykernel_launcher.py:3: UserWarning: Legend does not support 'u' instances.\n",
            "A proxy artist may be used instead.\n",
            "See: http://matplotlib.org/users/legend_guide.html#creating-artists-specifically-for-adding-to-the-legend-aka-proxy-artists\n",
            "  This is separate from the ipykernel package so we can avoid doing imports until\n",
            "/usr/local/lib/python3.6/dist-packages/ipykernel_launcher.py:3: UserWarning: Legend does not support 'a' instances.\n",
            "A proxy artist may be used instead.\n",
            "See: http://matplotlib.org/users/legend_guide.html#creating-artists-specifically-for-adding-to-the-legend-aka-proxy-artists\n",
            "  This is separate from the ipykernel package so we can avoid doing imports until\n",
            "/usr/local/lib/python3.6/dist-packages/ipykernel_launcher.py:3: UserWarning: Legend does not support 'l' instances.\n",
            "A proxy artist may be used instead.\n",
            "See: http://matplotlib.org/users/legend_guide.html#creating-artists-specifically-for-adding-to-the-legend-aka-proxy-artists\n",
            "  This is separate from the ipykernel package so we can avoid doing imports until\n"
          ],
          "name": "stderr"
        },
        {
          "output_type": "display_data",
          "data": {
            "image/png": "[encoded data removed]",
            "text/plain": [
              "<Figure size 432x288 with 1 Axes>"
            ]
          },
          "metadata": {
            "tags": []
          }
        }
      ]
    },
    {
      "cell_type": "code",
      "metadata": {
        "id": "FxkZKEWqFcY5",
        "colab_type": "code",
        "colab": {
          "base_uri": "https://localhost:8080/",
          "height": 265
        },
        "outputId": "ff90b233-ddc2-49e0-a2b1-c816e34aa6f8"
      },
      "source": [
        "plt.plot(y_test18)\n",
        "plt.show()"
      ],
      "execution_count": 428,
      "outputs": [
        {
          "output_type": "display_data",
          "data": {
            "image/png": "[encoded data removed]",
            "text/plain": [
              "<Figure size 432x288 with 1 Axes>"
            ]
          },
          "metadata": {
            "tags": []
          }
        }
      ]
    }
  ]
}