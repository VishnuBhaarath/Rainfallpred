{
  "nbformat": 4,
  "nbformat_minor": 0,
  "metadata": {
    "colab": {
      "name": "MLR2f15.ipynb",
      "provenance": [],
      "collapsed_sections": [],
      "authorship_tag": "ABX9TyM4Gq0FtBZgnQqjuCsrqk97",
      "include_colab_link": true
    },
    "kernelspec": {
      "name": "python3",
      "display_name": "Python 3"
    }
  },
  "cells": [
    {
      "cell_type": "markdown",
      "metadata": {
        "id": "view-in-github",
        "colab_type": "text"
      },
      "source": [
        "<a href=\"https://colab.research.google.com/github/VishnuBhaarath/Rainfallpred/blob/master/MLR2f15.ipynb\" target=\"_parent\"><img src=\"https://colab.research.google.com/assets/colab-badge.svg\" alt=\"Open In Colab\"/></a>"
      ]
    },
    {
      "cell_type": "code",
      "metadata": {
        "id": "5YGfJ9tYkM94",
        "colab_type": "code",
        "outputId": "aeef8cbf-a167-427d-a51f-32e5ae61aaec",
        "colab": {
          "base_uri": "https://localhost:8080/",
          "height": 62
        }
      },
      "source": [
        "from numpy.random import seed\n",
        "seed(1)\n",
        "from tensorflow import set_random_seed\n",
        "set_random_seed(2)\n",
        "from sklearn.metrics import r2_score"
      ],
      "execution_count": 1,
      "outputs": [
        {
          "output_type": "display_data",
          "data": {
            "text/html": [
              "<p style=\"color: red;\">\n",
              "The default version of TensorFlow in Colab will soon switch to TensorFlow 2.x.<br>\n",
              "We recommend you <a href=\"https://www.tensorflow.org/guide/migrate\" target=\"_blank\">upgrade</a> now \n",
              "or ensure your notebook will continue to use TensorFlow 1.x via the <code>%tensorflow_version 1.x</code> magic:\n",
              "<a href=\"https://colab.research.google.com/notebooks/tensorflow_version.ipynb\" target=\"_blank\">more info</a>.</p>\n"
            ],
            "text/plain": [
              "<IPython.core.display.HTML object>"
            ]
          },
          "metadata": {
            "tags": []
          }
        }
      ]
    },
    {
      "cell_type": "code",
      "metadata": {
        "id": "cou_fBaEkP6G",
        "colab_type": "code",
        "colab": {}
      },
      "source": [
        "import pandas as pd\n",
        "from pandas import DataFrame\n",
        "import numpy as np\n",
        "from numpy import hstack\n",
        "import tensorflow as tf\n",
        "from tensorflow import keras\n",
        "from sklearn import preprocessing"
      ],
      "execution_count": 0,
      "outputs": []
    },
    {
      "cell_type": "code",
      "metadata": {
        "id": "ACH71at4kV9t",
        "colab_type": "code",
        "colab": {}
      },
      "source": [
        "df=pd.read_excel('trend_anna_imd_21.xlsx')"
      ],
      "execution_count": 0,
      "outputs": []
    },
    {
      "cell_type": "code",
      "metadata": {
        "id": "2hp4FJfQkk9o",
        "colab_type": "code",
        "outputId": "2d30d4b9-f5bf-451a-b104-90ca31086f89",
        "colab": {
          "base_uri": "https://localhost:8080/",
          "height": 195
        }
      },
      "source": [
        "df.head()"
      ],
      "execution_count": 112,
      "outputs": [
        {
          "output_type": "execute_result",
          "data": {
            "text/html": [
              "<div>\n",
              "<style scoped>\n",
              "    .dataframe tbody tr th:only-of-type {\n",
              "        vertical-align: middle;\n",
              "    }\n",
              "\n",
              "    .dataframe tbody tr th {\n",
              "        vertical-align: top;\n",
              "    }\n",
              "\n",
              "    .dataframe thead th {\n",
              "        text-align: right;\n",
              "    }\n",
              "</style>\n",
              "<table border=\"1\" class=\"dataframe\">\n",
              "  <thead>\n",
              "    <tr style=\"text-align: right;\">\n",
              "      <th></th>\n",
              "      <th>Unnamed: 0</th>\n",
              "      <th>Unnamed: 1</th>\n",
              "    </tr>\n",
              "  </thead>\n",
              "  <tbody>\n",
              "    <tr>\n",
              "      <th>0</th>\n",
              "      <td>1. Cuddalore</td>\n",
              "      <td>NaN</td>\n",
              "    </tr>\n",
              "    <tr>\n",
              "      <th>1</th>\n",
              "      <td>1965-01-01 00:00:00</td>\n",
              "      <td>10.6</td>\n",
              "    </tr>\n",
              "    <tr>\n",
              "      <th>2</th>\n",
              "      <td>1965-01-02 00:00:00</td>\n",
              "      <td>0.0</td>\n",
              "    </tr>\n",
              "    <tr>\n",
              "      <th>3</th>\n",
              "      <td>1965-01-03 00:00:00</td>\n",
              "      <td>13.0</td>\n",
              "    </tr>\n",
              "    <tr>\n",
              "      <th>4</th>\n",
              "      <td>1965-01-04 00:00:00</td>\n",
              "      <td>0.0</td>\n",
              "    </tr>\n",
              "  </tbody>\n",
              "</table>\n",
              "</div>"
            ],
            "text/plain": [
              "            Unnamed: 0  Unnamed: 1\n",
              "0         1. Cuddalore         NaN\n",
              "1  1965-01-01 00:00:00        10.6\n",
              "2  1965-01-02 00:00:00         0.0\n",
              "3  1965-01-03 00:00:00        13.0\n",
              "4  1965-01-04 00:00:00         0.0"
            ]
          },
          "metadata": {
            "tags": []
          },
          "execution_count": 112
        }
      ]
    },
    {
      "cell_type": "code",
      "metadata": {
        "id": "RB9D0KOIkl-g",
        "colab_type": "code",
        "colab": {}
      },
      "source": [
        "Cuddalore=df[3:19360]\n",
        "Panruti=df[23016:38721]\n",
        "Dharmapuri=df[42408:58082]\n",
        "Harur=df[61738:77443]\n",
        "Palacode=df[81158:96804]\n",
        "Pennagaram=df[100460:116165]\n",
        "Chengam=df[119821:135526]\n",
        "Sathanur=df[138817:154522]\n",
        "Tiruvanamalai=df[158178:173883]\n",
        "Sankarapuram=df[177539:193244]\n",
        "Tirukoilur=df[196899:212604]\n",
        "ulundurpet=df[216260:231965]\n",
        "Villupuram=df[235621:251326]\n",
        "Denkanikottai=df[274343:290048]\n",
        "Hosur=df[293703:309408]\n",
        "Krishnagiri=df[313063:328768]\n",
        "Marandahalli=df[332059:347764]\n",
        "Rayakottai=df[353250:368955]\n",
        "Uthangarai=df[372611:388316]\n"
      ],
      "execution_count": 0,
      "outputs": []
    },
    {
      "cell_type": "code",
      "metadata": {
        "id": "z7bqZet_0j0n",
        "colab_type": "code",
        "outputId": "85467b65-144b-4679-c31d-81034447ead6",
        "colab": {
          "base_uri": "https://localhost:8080/",
          "height": 195
        }
      },
      "source": [
        "Pennagaram.head()"
      ],
      "execution_count": 114,
      "outputs": [
        {
          "output_type": "execute_result",
          "data": {
            "text/html": [
              "<div>\n",
              "<style scoped>\n",
              "    .dataframe tbody tr th:only-of-type {\n",
              "        vertical-align: middle;\n",
              "    }\n",
              "\n",
              "    .dataframe tbody tr th {\n",
              "        vertical-align: top;\n",
              "    }\n",
              "\n",
              "    .dataframe thead th {\n",
              "        text-align: right;\n",
              "    }\n",
              "</style>\n",
              "<table border=\"1\" class=\"dataframe\">\n",
              "  <thead>\n",
              "    <tr style=\"text-align: right;\">\n",
              "      <th></th>\n",
              "      <th>Unnamed: 0</th>\n",
              "      <th>Unnamed: 1</th>\n",
              "    </tr>\n",
              "  </thead>\n",
              "  <tbody>\n",
              "    <tr>\n",
              "      <th>100460</th>\n",
              "      <td>1975-01-03 00:00:00</td>\n",
              "      <td>0.0</td>\n",
              "    </tr>\n",
              "    <tr>\n",
              "      <th>100461</th>\n",
              "      <td>1975-01-04 00:00:00</td>\n",
              "      <td>0.0</td>\n",
              "    </tr>\n",
              "    <tr>\n",
              "      <th>100462</th>\n",
              "      <td>1975-01-05 00:00:00</td>\n",
              "      <td>0.0</td>\n",
              "    </tr>\n",
              "    <tr>\n",
              "      <th>100463</th>\n",
              "      <td>1975-01-06 00:00:00</td>\n",
              "      <td>0.0</td>\n",
              "    </tr>\n",
              "    <tr>\n",
              "      <th>100464</th>\n",
              "      <td>1975-01-07 00:00:00</td>\n",
              "      <td>0.0</td>\n",
              "    </tr>\n",
              "  </tbody>\n",
              "</table>\n",
              "</div>"
            ],
            "text/plain": [
              "                 Unnamed: 0  Unnamed: 1\n",
              "100460  1975-01-03 00:00:00         0.0\n",
              "100461  1975-01-04 00:00:00         0.0\n",
              "100462  1975-01-05 00:00:00         0.0\n",
              "100463  1975-01-06 00:00:00         0.0\n",
              "100464  1975-01-07 00:00:00         0.0"
            ]
          },
          "metadata": {
            "tags": []
          },
          "execution_count": 114
        }
      ]
    },
    {
      "cell_type": "code",
      "metadata": {
        "id": "8lT9ZtR0mBO1",
        "colab_type": "code",
        "colab": {}
      },
      "source": [
        "Cuddalore.columns = ['Date', 'Rainfall']\n",
        "Panruti.columns= ['Date', 'Rainfall']\n",
        "Dharmapuri.columns= ['Date', 'Rainfall']\n",
        "Harur.columns= ['Date', 'Rainfall']\n",
        "Palacode.columns= ['Date', 'Rainfall']\n",
        "Pennagaram.columns= ['Date', 'Rainfall']\n",
        "Chengam.columns= ['Date', 'Rainfall']\n",
        "Sathanur.columns= ['Date', 'Rainfall']\n",
        "Tiruvanamalai.columns= ['Date', 'Rainfall']\n",
        "Sankarapuram.columns= ['Date', 'Rainfall']\n",
        "Tirukoilur.columns= ['Date', 'Rainfall']\n",
        "ulundurpet.columns= ['Date', 'Rainfall']\n",
        "Villupuram.columns= ['Date', 'Rainfall']\n",
        "Denkanikottai.columns= ['Date', 'Rainfall']\n",
        "Hosur.columns= ['Date', 'Rainfall']\n",
        "Krishnagiri.columns= ['Date', 'Rainfall']\n",
        "Marandahalli.columns= ['Date', 'Rainfall']\n",
        "Rayakottai.columns= ['Date', 'Rainfall']\n",
        "Uthangarai.columns= ['Date', 'Rainfall']"
      ],
      "execution_count": 0,
      "outputs": []
    },
    {
      "cell_type": "code",
      "metadata": {
        "id": "ot2FqhbOm6dJ",
        "colab_type": "code",
        "colab": {}
      },
      "source": [
        "train=Cuddalore[0:15000]\n",
        "test=Cuddalore[15000:19004]\n",
        "train1=Panruti[0:12000]\n",
        "test1=Panruti[12000:15705]\n",
        "train2=Dharmapuri[0:12000]\n",
        "test2=Dharmapuri[12000:15674]\n",
        "train3=Harur[0:12000]\n",
        "test3=Harur[12000:15704]\n",
        "train4=Palacode[0:12000]\n",
        "test4=Palacode[12000:15646]\n",
        "train5=Pennagaram[0:12000]\n",
        "test5=Pennagaram[12000:15705]\n",
        "train6=Chengam[0:12000]\n",
        "test6=Chengam[12000:15705]\n",
        "train7=Sathanur[0:12000]\n",
        "test7=Sathanur[12000:15705]\n",
        "train8=Tiruvanamalai[0:12000]\n",
        "test8=Tiruvanamalai[12000:15165]\n",
        "train9=Sankarapuram[0:12000]\n",
        "test9=Sankarapuram[12000:15705]\n",
        "train10=Tirukoilur[0:12000]\n",
        "test10=Tirukoilur[12000:15705]\n",
        "train11=ulundurpet[0:12000]\n",
        "test11=ulundurpet[12000:15345]\n",
        "train12=Villupuram[0:12000]\n",
        "test12=Villupuram[12000:15705]\n",
        "train13=Denkanikottai[0:12000]\n",
        "test13=Denkanikottai[12000:15705]\n",
        "train14=Hosur[0:12000]\n",
        "test14=Hosur[12000:15678]\n",
        "train15=Krishnagiri[0:12000]\n",
        "test15=Krishnagiri[12000:15705]\n",
        "train16=Marandahalli[0:12000]\n",
        "test16=Marandahalli[12000:15705]\n",
        "train17=Rayakottai[0:12000]\n",
        "test17=Rayakottai[12000:15705]\n",
        "train18=Uthangarai[0:12000]\n",
        "test18=Uthangarai[12000:15705]"
      ],
      "execution_count": 0,
      "outputs": []
    },
    {
      "cell_type": "code",
      "metadata": {
        "id": "eWdgMaVPnV7A",
        "colab_type": "code",
        "colab": {}
      },
      "source": [
        "X_train=train['Rainfall']\n",
        "X_test=test['Rainfall']\n",
        "X_train1=train1['Rainfall']\n",
        "X_test1=test1['Rainfall']\n",
        "X_train2=train2['Rainfall']\n",
        "X_test2=test2['Rainfall']\n",
        "X_train3=train3['Rainfall']\n",
        "X_test3=test3['Rainfall']\n",
        "X_train4=train4['Rainfall']\n",
        "X_test4=test4['Rainfall']\n",
        "X_train5=train5['Rainfall']\n",
        "X_test5=test5['Rainfall']\n",
        "X_train6=train6['Rainfall']\n",
        "X_test6=test6['Rainfall']\n",
        "X_train7=train7['Rainfall']\n",
        "X_test7=test7['Rainfall']\n",
        "X_train8=train8['Rainfall']\n",
        "X_test8=test8['Rainfall']\n",
        "X_train9=train9['Rainfall']\n",
        "X_test9=test9['Rainfall']\n",
        "X_train10=train10['Rainfall']\n",
        "X_test10=test10['Rainfall']\n",
        "X_train11=train11['Rainfall']\n",
        "X_test11=test11['Rainfall']\n",
        "X_train12=train12['Rainfall']\n",
        "X_test12=test12['Rainfall']\n",
        "X_train13=train13['Rainfall']\n",
        "X_test13=test13['Rainfall']\n",
        "X_train14=train14['Rainfall']\n",
        "X_test14=test14['Rainfall']\n",
        "X_train15=train15['Rainfall']\n",
        "X_test15=test15['Rainfall']\n",
        "X_train16=train16['Rainfall']\n",
        "X_test16=test16['Rainfall']\n",
        "X_train17=train17['Rainfall']\n",
        "X_test17=test17['Rainfall']\n",
        "X_train18=train18['Rainfall']\n",
        "X_test18=test18['Rainfall']\n"
      ],
      "execution_count": 0,
      "outputs": []
    },
    {
      "cell_type": "code",
      "metadata": {
        "id": "QdTZBwX0mnEs",
        "colab_type": "code",
        "colab": {}
      },
      "source": [
        "min_max_scaler = preprocessing.MinMaxScaler()\n",
        "\n",
        "x_scaled = min_max_scaler.fit_transform(X_train.values.reshape(-1,1))\n",
        "X_train = pd.DataFrame(x_scaled)\n",
        "\n",
        "x_scaled1 = min_max_scaler.fit_transform(X_train1.values.reshape(-1,1))\n",
        "X_train1 = pd.DataFrame(x_scaled1)\n",
        "\n",
        "x_scaled2 = min_max_scaler.fit_transform(X_train2.values.reshape(-1,1))\n",
        "X_train2 = pd.DataFrame(x_scaled2)\n",
        "\n",
        "x_scaled3 = min_max_scaler.fit_transform(X_train3.values.reshape(-1,1))\n",
        "X_train3 = pd.DataFrame(x_scaled3)\n",
        "\n",
        "x_scaled4 = min_max_scaler.fit_transform(X_train4.values.reshape(-1,1))\n",
        "X_train4 = pd.DataFrame(x_scaled4)\n",
        "\n",
        "x_scaled5 = min_max_scaler.fit_transform(X_train5.values.reshape(-1,1))\n",
        "X_train5 = pd.DataFrame(x_scaled5)\n",
        "\n",
        "x_scaled6 = min_max_scaler.fit_transform(X_train6.values.reshape(-1,1))\n",
        "X_train6 = pd.DataFrame(x_scaled6)\n",
        "\n",
        "x_scaled7 = min_max_scaler.fit_transform(X_train7.values.reshape(-1,1))\n",
        "X_train7 = pd.DataFrame(x_scaled7)\n",
        "\n",
        "x_scaled8 = min_max_scaler.fit_transform(X_train8.values.reshape(-1,1))\n",
        "X_train8 = pd.DataFrame(x_scaled8)\n",
        "\n",
        "x_scaled9 = min_max_scaler.fit_transform(X_train9.values.reshape(-1,1))\n",
        "X_train9 = pd.DataFrame(x_scaled9)\n",
        "\n",
        "x_scaled10 = min_max_scaler.fit_transform(X_train10.values.reshape(-1,1))\n",
        "X_train10 = pd.DataFrame(x_scaled10)\n",
        "\n",
        "x_scaled11 = min_max_scaler.fit_transform(X_train11.values.reshape(-1,1))\n",
        "X_train11 = pd.DataFrame(x_scaled11)\n",
        "\n",
        "x_scaled1112 = min_max_scaler.fit_transform(X_train12.values.reshape(-1,1))\n",
        "X_train12 = pd.DataFrame(x_scaled1112)\n",
        "\n",
        "x_scaled13 = min_max_scaler.fit_transform(X_train13.values.reshape(-1,1))\n",
        "X_train13 = pd.DataFrame(x_scaled13)\n",
        "\n",
        "x_scaled14 = min_max_scaler.fit_transform(X_train14.values.reshape(-1,1))\n",
        "X_train14 = pd.DataFrame(x_scaled14)\n",
        "\n",
        "x_scaled15 = min_max_scaler.fit_transform(X_train15.values.reshape(-1,1))\n",
        "X_train15 = pd.DataFrame(x_scaled15)\n",
        "\n",
        "x_scaled16 = min_max_scaler.fit_transform(X_train16.values.reshape(-1,1))\n",
        "X_train16 = pd.DataFrame(x_scaled16)\n",
        "\n",
        "x_scaled17 = min_max_scaler.fit_transform(X_train17.values.reshape(-1,1))\n",
        "X_train17 = pd.DataFrame(x_scaled17)\n",
        "\n",
        "x_scaled18 = min_max_scaler.fit_transform(X_train18.values.reshape(-1,1))\n",
        "X_train18 = pd.DataFrame(x_scaled18)\n",
        "\n"
      ],
      "execution_count": 0,
      "outputs": []
    },
    {
      "cell_type": "code",
      "metadata": {
        "id": "CxbM6N2-oCPd",
        "colab_type": "code",
        "colab": {}
      },
      "source": [
        "x_scaled1 = min_max_scaler.fit_transform(X_test.values.reshape(-1,1))\n",
        "X_test = pd.DataFrame(x_scaled1)\n",
        "\n",
        "x_scaled11 = min_max_scaler.fit_transform(X_test1.values.reshape(-1,1))\n",
        "X_test1 = pd.DataFrame(x_scaled11)\n",
        "\n",
        "x_scaled12 = min_max_scaler.fit_transform(X_test2.values.reshape(-1,1))\n",
        "X_test2 = pd.DataFrame(x_scaled12)\n",
        "\n",
        "x_scaled13 = min_max_scaler.fit_transform(X_test3.values.reshape(-1,1))\n",
        "X_test3 = pd.DataFrame(x_scaled13)\n",
        "\n",
        "x_scaled14 = min_max_scaler.fit_transform(X_test4.values.reshape(-1,1))\n",
        "X_test4 = pd.DataFrame(x_scaled14)\n",
        "\n",
        "x_scaled15 = min_max_scaler.fit_transform(X_test5.values.reshape(-1,1))\n",
        "X_test5 = pd.DataFrame(x_scaled15)\n",
        "\n",
        "x_scaled16 = min_max_scaler.fit_transform(X_test6.values.reshape(-1,1))\n",
        "X_test6 = pd.DataFrame(x_scaled16)\n",
        "\n",
        "x_scaled17 = min_max_scaler.fit_transform(X_test7.values.reshape(-1,1))\n",
        "X_test7 = pd.DataFrame(x_scaled17)\n",
        "\n",
        "x_scaled18 = min_max_scaler.fit_transform(X_test8.values.reshape(-1,1))\n",
        "X_test8 = pd.DataFrame(x_scaled18)\n",
        "\n",
        "x_scaled19 = min_max_scaler.fit_transform(X_test9.values.reshape(-1,1))\n",
        "X_test9 = pd.DataFrame(x_scaled19)\n",
        "\n",
        "x_scaled110 = min_max_scaler.fit_transform(X_test10.values.reshape(-1,1))\n",
        "X_test10 = pd.DataFrame(x_scaled110)\n",
        "\n",
        "x_scaled111 = min_max_scaler.fit_transform(X_test11.values.reshape(-1,1))\n",
        "X_test11 = pd.DataFrame(x_scaled111)\n",
        "\n",
        "x_scaled112 = min_max_scaler.fit_transform(X_test12.values.reshape(-1,1))\n",
        "X_test12 = pd.DataFrame(x_scaled112)\n",
        "\n",
        "x_scaled113 = min_max_scaler.fit_transform(X_test13.values.reshape(-1,1))\n",
        "X_test13 = pd.DataFrame(x_scaled113)\n",
        "\n",
        "x_scaled114 = min_max_scaler.fit_transform(X_test14.values.reshape(-1,1))\n",
        "X_test14 = pd.DataFrame(x_scaled114)\n",
        "\n",
        "x_scaled115= min_max_scaler.fit_transform(X_test15.values.reshape(-1,1))\n",
        "X_test15 = pd.DataFrame(x_scaled115)\n",
        "\n",
        "x_scaled116 = min_max_scaler.fit_transform(X_test16.values.reshape(-1,1))\n",
        "X_test16 = pd.DataFrame(x_scaled116)\n",
        "\n",
        "x_scaled117 = min_max_scaler.fit_transform(X_test17.values.reshape(-1,1))\n",
        "X_test17 = pd.DataFrame(x_scaled117)\n",
        "\n",
        "x_scaled118 = min_max_scaler.fit_transform(X_test18.values.reshape(-1,1))\n",
        "X_test18 = pd.DataFrame(x_scaled118)\n"
      ],
      "execution_count": 0,
      "outputs": []
    },
    {
      "cell_type": "code",
      "metadata": {
        "id": "VZNCwdZhrTQD",
        "colab_type": "code",
        "colab": {}
      },
      "source": [
        "in_seq = np.array([X_train[0]])\n",
        "in_seqtest1 = np.array([X_test[0]])\n",
        "\n",
        "in_seq1 = np.array([X_train1[0]])\n",
        "in_seqt11 = np.array([X_test1[0]])\n",
        "\n",
        "in_seq12 = np.array([X_train2[0]])\n",
        "in_seqt112 = np.array([X_test2[0]])\n",
        "\n",
        "in_seq13 = np.array([X_train3[0]])\n",
        "in_seqt113 = np.array([X_test3[0]])\n",
        "\n",
        "in_seq14 = np.array([X_train4[0]])\n",
        "in_seqt114 = np.array([X_test4[0]])\n",
        "\n",
        "in_seq15 = np.array([X_train5[0]])\n",
        "in_seqt115 = np.array([X_test5[0]])\n",
        "\n",
        "in_seq16 = np.array([X_train6[0]])\n",
        "in_seqt116 = np.array([X_test6[0]])\n",
        "\n",
        "in_seq17 = np.array([X_train7[0]])\n",
        "in_seqt117 = np.array([X_test7[0]])\n",
        "\n",
        "in_seq18 = np.array([X_train8[0]])\n",
        "in_seqt118 = np.array([X_test8[0]])\n",
        "\n",
        "in_seq19 = np.array([X_train9[0]])\n",
        "in_seqt119 = np.array([X_test9[0]])\n",
        "\n",
        "in_seq110 = np.array([X_train10[0]])\n",
        "in_seqt1110 = np.array([X_test10[0]])\n",
        "\n",
        "in_seq111 = np.array([X_train11[0]])\n",
        "in_seqt1111 = np.array([X_test11[0]])\n",
        "\n",
        "in_seq112 = np.array([X_train12[0]])\n",
        "in_seqt1112 = np.array([X_test12[0]])\n",
        "\n",
        "in_seq113 = np.array([X_train13[0]])\n",
        "in_seqt1113 = np.array([X_test13[0]])\n",
        "\n",
        "in_seq114 = np.array([X_train14[0]])\n",
        "in_seqt1114 = np.array([X_test14[0]])\n",
        "\n",
        "in_seq115 = np.array([X_train15[0]])\n",
        "in_seqt1115 = np.array([X_test15[0]])\n",
        "\n",
        "in_seq116 = np.array([X_train16[0]])\n",
        "in_seqt1116 = np.array([X_test16[0]])\n",
        "\n",
        "in_seq117 = np.array([X_train17[0]])\n",
        "in_seqt1117 = np.array([X_test17[0]])\n",
        "\n",
        "in_seq118 = np.array([X_train18[0]])\n",
        "in_seqt1118 = np.array([X_test18[0]])\n"
      ],
      "execution_count": 0,
      "outputs": []
    },
    {
      "cell_type": "code",
      "metadata": {
        "id": "2vtw9-GtrbhY",
        "colab_type": "code",
        "colab": {}
      },
      "source": [
        "in_seq = in_seq.reshape((15000, 1))\n",
        "in_seqtest1 = in_seqtest1.reshape((4004, 1))\n",
        "\n",
        "in_seq1 = in_seq1.reshape((12000, 1))\n",
        "in_seqt11 = in_seqt11.reshape((3705, 1))\n",
        "\n",
        "in_seq12 = in_seq12.reshape((12000, 1))\n",
        "in_seqt112 = in_seqt112.reshape((3674, 1))\n",
        "\n",
        "in_seq13 = in_seq13.reshape((12000, 1))\n",
        "in_seqt113 = in_seqt113.reshape((3704, 1))\n",
        "\n",
        "in_seq14 = in_seq14.reshape((12000, 1))\n",
        "in_seqt114 = in_seqt114.reshape((3646, 1))\n",
        "\n",
        "in_seq15 = in_seq15.reshape((12000, 1))\n",
        "in_seqt115 = in_seqt115.reshape((3705, 1))\n",
        "\n",
        "in_seq16 = in_seq16.reshape((12000, 1))\n",
        "in_seqt116 = in_seqt116.reshape((3705, 1))\n",
        "\n",
        "in_seq17 = in_seq17.reshape((12000, 1))\n",
        "in_seqt117 = in_seqt117.reshape((3705, 1))\n",
        "\n",
        "in_seq18 = in_seq18.reshape((12000, 1))\n",
        "in_seqt118 = in_seqt118.reshape((3165, 1))\n",
        "\n",
        "in_seq19 = in_seq19.reshape((12000, 1))\n",
        "in_seqt119 = in_seqt119.reshape((3705, 1))\n",
        "\n",
        "in_seq110 = in_seq110.reshape((12000, 1))\n",
        "in_seqt1110 = in_seqt1110.reshape((3705, 1))\n",
        "\n",
        "in_seq111 = in_seq111.reshape((12000, 1))\n",
        "in_seqt1111 = in_seqt1111.reshape((3345, 1))\n",
        "\n",
        "in_seq112 = in_seq112.reshape((12000, 1))\n",
        "in_seqt1112 = in_seqt1112.reshape((3705, 1))\n",
        "\n",
        "in_seq113 = in_seq113.reshape((12000, 1))\n",
        "in_seqt1113 = in_seqt1113.reshape((3705, 1))\n",
        "\n",
        "in_seq114 = in_seq114.reshape((12000, 1))\n",
        "in_seqt1114 = in_seqt1114.reshape((3678, 1))\n",
        "\n",
        "in_seq115 = in_seq115.reshape((12000, 1))\n",
        "in_seqt1115 = in_seqt1115.reshape((3705, 1))\n",
        "\n",
        "in_seq116 = in_seq116.reshape((12000, 1))\n",
        "in_seqt1116 = in_seqt1116.reshape((3705, 1))\n",
        "\n",
        "in_seq117 = in_seq117.reshape((12000, 1))\n",
        "in_seqt1117 = in_seqt1117.reshape((3705, 1))\n",
        "\n",
        "in_seq118 = in_seq118.reshape((12000, 1))\n",
        "in_seqt1118 = in_seqt1118.reshape((3704, 1))\n",
        "\n"
      ],
      "execution_count": 0,
      "outputs": []
    },
    {
      "cell_type": "code",
      "metadata": {
        "id": "dcthfPpSoN2u",
        "colab_type": "code",
        "colab": {}
      },
      "source": [
        "def split_sequence(sequence, n_steps):\n",
        "\tX, y = list(), list()\n",
        "\tfor i in range(len(sequence)):\n",
        "\t\t# find the end of this pattern\n",
        "\t\tend_ix = i + n_steps\n",
        "\t\t# check if we are beyond the sequence\n",
        "\t\tif end_ix > len(sequence)-1:\n",
        "\t\t\tbreak\n",
        "\t\t# gather input and output parts of the pattern\n",
        "\t\tseq_x, seq_y = sequence[i:end_ix], sequence[end_ix]\n",
        "\t\tX.append(seq_x)\n",
        "\t\ty.append(seq_y)\n",
        "\treturn np.array(X), np.array(y)"
      ],
      "execution_count": 0,
      "outputs": []
    },
    {
      "cell_type": "code",
      "metadata": {
        "id": "NLCLOXnyptMN",
        "colab_type": "code",
        "colab": {}
      },
      "source": [
        "cuddataset1 = hstack((in_seqtest1))\n",
        "cuddataset = hstack((in_seq))\n",
        "\n",
        "pandataset1 = hstack((in_seqt11))\n",
        "pandataset = hstack((in_seq1))\n",
        "\n",
        "dhadataset1 = hstack((in_seqt112))\n",
        "dhadataset = hstack((in_seq12))\n",
        "\n",
        "hardataset1 = hstack((in_seqt113))\n",
        "hardataset = hstack((in_seq13))\n",
        "\n",
        "paldataset1 = hstack((in_seqt114))\n",
        "paldataset = hstack((in_seq14))\n",
        "\n",
        "pendataset1 = hstack((in_seqt115))\n",
        "pendataset = hstack((in_seq15))\n",
        "\n",
        "chedataset1 = hstack((in_seqt116))\n",
        "chedataset = hstack((in_seq16))\n",
        "\n",
        "satdataset1 = hstack((in_seqt117))\n",
        "satdataset = hstack((in_seq17))\n",
        "\n",
        "Tirdataset1 = hstack((in_seqt118))\n",
        "Tirdataset = hstack((in_seq18))\n",
        "\n",
        "Sandataset1 = hstack((in_seqt119))\n",
        "Sandataset = hstack((in_seq19))\n",
        "\n",
        "Tirudataset1 = hstack((in_seqt1110))\n",
        "Tirudataset = hstack((in_seq110))\n",
        "\n",
        "uludataset1 = hstack((in_seqt1111))\n",
        "uludataset = hstack((in_seq111))\n",
        "\n",
        "vildataset1 = hstack((in_seqt1112))\n",
        "vildataset = hstack((in_seq112))\n",
        "\n",
        "bardataset1 = hstack((in_seqt1113))\n",
        "bardataset = hstack((in_seq113))\n",
        "\n",
        "Dendataset1 = hstack((in_seqt1114))\n",
        "Dendataset = hstack((in_seq114))\n",
        "\n",
        "kridataset1 = hstack((in_seqt1115))\n",
        "kridataset = hstack((in_seq115))\n",
        "\n",
        "mardataset1 = hstack((in_seqt1116))\n",
        "mardataset = hstack((in_seq116))\n",
        "\n",
        "raydataset1 = hstack((in_seqt1117))\n",
        "raydataset = hstack((in_seq117))\n",
        "\n",
        "uthdataset1 = hstack((in_seqt1118))\n",
        "uthdataset = hstack((in_seq118))\n"
      ],
      "execution_count": 0,
      "outputs": []
    },
    {
      "cell_type": "code",
      "metadata": {
        "id": "VXevl6Wdrz2e",
        "colab_type": "code",
        "colab": {}
      },
      "source": [
        "n_steps = 2\n",
        "# convert into input/output\n",
        "X, y = split_sequence(cuddataset, n_steps)\n",
        "X1 , y1 = split_sequence(pandataset, n_steps)\n",
        "X2 , y2 = split_sequence(dhadataset, n_steps)\n",
        "X3 , y3 = split_sequence(hardataset, n_steps)\n",
        "X4 , y4 = split_sequence(paldataset, n_steps)\n",
        "X5 , y5 = split_sequence(pendataset, n_steps)\n",
        "X6, y6 = split_sequence(chedataset, n_steps)\n",
        "X7, y7 = split_sequence(satdataset, n_steps)\n",
        "X8, y8 = split_sequence(Tirdataset, n_steps)\n",
        "X9, y9 = split_sequence(Sandataset, n_steps)\n",
        "X10, y10 = split_sequence(Tirudataset, n_steps)\n",
        "X11, y11 = split_sequence(uludataset, n_steps)\n",
        "X12 , y12 = split_sequence(vildataset, n_steps)\n",
        "X13, y13 = split_sequence(bardataset, n_steps)\n",
        "X14, y14 = split_sequence(Dendataset, n_steps)\n",
        "X15, y15 = split_sequence(kridataset, n_steps)\n",
        "X16, y16 = split_sequence(mardataset, n_steps)\n",
        "X17, y17 = split_sequence(raydataset, n_steps)\n",
        "X18, y18 = split_sequence(uthdataset, n_steps)"
      ],
      "execution_count": 0,
      "outputs": []
    },
    {
      "cell_type": "code",
      "metadata": {
        "id": "wChOw-PbTin3",
        "colab_type": "code",
        "colab": {}
      },
      "source": [
        "X_test,y_test = split_sequence(cuddataset, n_steps)\n",
        "X_test1,y_test1 = split_sequence(pandataset, n_steps)\n",
        "X_test2,y_test2= split_sequence(dhadataset, n_steps)\n",
        "X_test3,y_test3 = split_sequence(hardataset, n_steps)\n",
        "X_test4,y_test4 = split_sequence(paldataset, n_steps)\n",
        "X_test5,y_test5 = split_sequence(pendataset, n_steps)\n",
        "X_test6,y_test6 = split_sequence(chedataset, n_steps)\n",
        "X_test7,y_test7 = split_sequence(satdataset, n_steps)\n",
        "X_test8,y_test8 = split_sequence(Tirdataset, n_steps)\n",
        "X_test9,y_test9 = split_sequence(Sandataset, n_steps)\n",
        "X_test10,y_test10 = split_sequence(Tirudataset, n_steps)\n",
        "X_test11,y_test11= split_sequence(uludataset, n_steps)\n",
        "X_test12,y_test12 = split_sequence(vildataset, n_steps)\n",
        "X_test13,y_test13 = split_sequence(bardataset, n_steps)\n",
        "X_test14,y_test14 = split_sequence(Dendataset, n_steps)\n",
        "X_test15,y_test15 = split_sequence(kridataset, n_steps)\n",
        "X_test16,y_test16 = split_sequence(mardataset, n_steps)\n",
        "X_test17,y_test17= split_sequence(raydataset, n_steps)\n",
        "X_test18,y_test18= split_sequence(uthdataset, n_steps)"
      ],
      "execution_count": 0,
      "outputs": []
    },
    {
      "cell_type": "code",
      "metadata": {
        "id": "8zmd12H9K3iu",
        "colab_type": "code",
        "outputId": "9da08c78-f226-4ecf-94ff-d2e5dcf5a181",
        "colab": {
          "base_uri": "https://localhost:8080/",
          "height": 34
        }
      },
      "source": [
        "X.shape"
      ],
      "execution_count": 126,
      "outputs": [
        {
          "output_type": "execute_result",
          "data": {
            "text/plain": [
              "(14998, 2)"
            ]
          },
          "metadata": {
            "tags": []
          },
          "execution_count": 126
        }
      ]
    },
    {
      "cell_type": "code",
      "metadata": {
        "id": "feOCg2VVLLfe",
        "colab_type": "code",
        "outputId": "01ae8844-e2e2-4065-9d83-af1ccfd334fb",
        "colab": {
          "base_uri": "https://localhost:8080/",
          "height": 34
        }
      },
      "source": [
        "y.shape"
      ],
      "execution_count": 127,
      "outputs": [
        {
          "output_type": "execute_result",
          "data": {
            "text/plain": [
              "(14998,)"
            ]
          },
          "metadata": {
            "tags": []
          },
          "execution_count": 127
        }
      ]
    },
    {
      "cell_type": "code",
      "metadata": {
        "id": "sV15YyHcQ2vj",
        "colab_type": "code",
        "outputId": "278f6f45-ad77-4ad2-c904-66546e4afc06",
        "colab": {
          "base_uri": "https://localhost:8080/",
          "height": 50
        }
      },
      "source": [
        "from sklearn import linear_model\n",
        "reg = linear_model.Ridge(alpha=.5)\n",
        "reg.fit(X8,y8)"
      ],
      "execution_count": 128,
      "outputs": [
        {
          "output_type": "execute_result",
          "data": {
            "text/plain": [
              "Ridge(alpha=0.5, copy_X=True, fit_intercept=True, max_iter=None,\n",
              "      normalize=False, random_state=None, solver='auto', tol=0.001)"
            ]
          },
          "metadata": {
            "tags": []
          },
          "execution_count": 128
        }
      ]
    },
    {
      "cell_type": "code",
      "metadata": {
        "id": "AvagXvUsREvQ",
        "colab_type": "code",
        "outputId": "c63aad97-d2f7-4b6b-b671-cddc142d4deb",
        "colab": {
          "base_uri": "https://localhost:8080/",
          "height": 34
        }
      },
      "source": [
        "reg.coef_"
      ],
      "execution_count": 129,
      "outputs": [
        {
          "output_type": "execute_result",
          "data": {
            "text/plain": [
              "array([0.13482978, 0.19740671])"
            ]
          },
          "metadata": {
            "tags": []
          },
          "execution_count": 129
        }
      ]
    },
    {
      "cell_type": "code",
      "metadata": {
        "id": "jX4gtpjmSnDz",
        "colab_type": "code",
        "colab": {}
      },
      "source": [
        "Station8=reg.predict(X8)"
      ],
      "execution_count": 0,
      "outputs": []
    },
    {
      "cell_type": "code",
      "metadata": {
        "id": "DF81OVdzRPEq",
        "colab_type": "code",
        "colab": {}
      },
      "source": [
        "Station8test=reg.predict(X_test8)"
      ],
      "execution_count": 0,
      "outputs": []
    },
    {
      "cell_type": "code",
      "metadata": {
        "id": "ci7ExtrgSNlB",
        "colab_type": "code",
        "outputId": "07867de8-6bb3-408c-cabf-0bdf2512c62e",
        "colab": {
          "base_uri": "https://localhost:8080/",
          "height": 34
        }
      },
      "source": [
        "from sklearn.metrics import mean_squared_error\n",
        "mean_squared_error(y_test8,Station8test )"
      ],
      "execution_count": 132,
      "outputs": [
        {
          "output_type": "execute_result",
          "data": {
            "text/plain": [
              "0.0036768393761606832"
            ]
          },
          "metadata": {
            "tags": []
          },
          "execution_count": 132
        }
      ]
    },
    {
      "cell_type": "code",
      "metadata": {
        "id": "bR5Bg6PoSuRZ",
        "colab_type": "code",
        "outputId": "ab88dca6-8568-4187-d222-132d955869fe",
        "colab": {
          "base_uri": "https://localhost:8080/",
          "height": 34
        }
      },
      "source": [
        "mean_squared_error(y8, Station8)"
      ],
      "execution_count": 133,
      "outputs": [
        {
          "output_type": "execute_result",
          "data": {
            "text/plain": [
              "0.0036768393761606832"
            ]
          },
          "metadata": {
            "tags": []
          },
          "execution_count": 133
        }
      ]
    },
    {
      "cell_type": "code",
      "metadata": {
        "id": "WVso5i0YSciR",
        "colab_type": "code",
        "outputId": "1e27ee85-3dd5-425e-cad4-4d2b304b989d",
        "colab": {
          "base_uri": "https://localhost:8080/",
          "height": 34
        }
      },
      "source": [
        " from sklearn.metrics import r2_score\n",
        " r2_score(y_test8,Station8test)"
      ],
      "execution_count": 134,
      "outputs": [
        {
          "output_type": "execute_result",
          "data": {
            "text/plain": [
              "0.07062651423391775"
            ]
          },
          "metadata": {
            "tags": []
          },
          "execution_count": 134
        }
      ]
    },
    {
      "cell_type": "code",
      "metadata": {
        "id": "N31rAn-kS3LG",
        "colab_type": "code",
        "outputId": "97379007-8aba-4b72-fd8f-852233b70089",
        "colab": {
          "base_uri": "https://localhost:8080/",
          "height": 34
        }
      },
      "source": [
        " r2_score(y8,Station8)"
      ],
      "execution_count": 135,
      "outputs": [
        {
          "output_type": "execute_result",
          "data": {
            "text/plain": [
              "0.07062651423391775"
            ]
          },
          "metadata": {
            "tags": []
          },
          "execution_count": 135
        }
      ]
    },
    {
      "cell_type": "code",
      "metadata": {
        "id": "e0oWS2a2HSV2",
        "colab_type": "code",
        "outputId": "a2f2645b-5bb4-4708-dbbf-f4b4168bf533",
        "colab": {
          "base_uri": "https://localhost:8080/",
          "height": 50
        }
      },
      "source": [
        "from sklearn import linear_model\n",
        "reg = linear_model.Ridge(alpha=.5)\n",
        "reg.fit(X9,y9)"
      ],
      "execution_count": 136,
      "outputs": [
        {
          "output_type": "execute_result",
          "data": {
            "text/plain": [
              "Ridge(alpha=0.5, copy_X=True, fit_intercept=True, max_iter=None,\n",
              "      normalize=False, random_state=None, solver='auto', tol=0.001)"
            ]
          },
          "metadata": {
            "tags": []
          },
          "execution_count": 136
        }
      ]
    },
    {
      "cell_type": "code",
      "metadata": {
        "id": "e12wvbpnHlt4",
        "colab_type": "code",
        "colab": {}
      },
      "source": [
        "Station9=reg.predict(X9)\n",
        "Station9test=reg.predict(X_test9)"
      ],
      "execution_count": 0,
      "outputs": []
    },
    {
      "cell_type": "code",
      "metadata": {
        "id": "6Ghtc5L5H8eX",
        "colab_type": "code",
        "outputId": "33f71f25-1236-49c8-88c4-78eff2045eec",
        "colab": {
          "base_uri": "https://localhost:8080/",
          "height": 34
        }
      },
      "source": [
        "mean_squared_error(y_test9, Station9test)"
      ],
      "execution_count": 138,
      "outputs": [
        {
          "output_type": "execute_result",
          "data": {
            "text/plain": [
              "0.00036872794787722545"
            ]
          },
          "metadata": {
            "tags": []
          },
          "execution_count": 138
        }
      ]
    },
    {
      "cell_type": "code",
      "metadata": {
        "id": "epygHk_tIthF",
        "colab_type": "code",
        "outputId": "e0813d9d-8469-4114-bdd4-4b48ea4fd694",
        "colab": {
          "base_uri": "https://localhost:8080/",
          "height": 34
        }
      },
      "source": [
        " r2_score(y_test9,Station9test)"
      ],
      "execution_count": 139,
      "outputs": [
        {
          "output_type": "execute_result",
          "data": {
            "text/plain": [
              "0.062049761637356315"
            ]
          },
          "metadata": {
            "tags": []
          },
          "execution_count": 139
        }
      ]
    },
    {
      "cell_type": "code",
      "metadata": {
        "id": "61KmudDqH_8S",
        "colab_type": "code",
        "outputId": "01fa423d-4e78-4d0c-c106-f01968484ac1",
        "colab": {
          "base_uri": "https://localhost:8080/",
          "height": 34
        }
      },
      "source": [
        "mean_squared_error(y9, Station9)"
      ],
      "execution_count": 140,
      "outputs": [
        {
          "output_type": "execute_result",
          "data": {
            "text/plain": [
              "0.00036872794787722545"
            ]
          },
          "metadata": {
            "tags": []
          },
          "execution_count": 140
        }
      ]
    },
    {
      "cell_type": "code",
      "metadata": {
        "id": "0mLzi688I2Gt",
        "colab_type": "code",
        "outputId": "af5484da-6ea3-47c4-ad87-4afa8debc530",
        "colab": {
          "base_uri": "https://localhost:8080/",
          "height": 34
        }
      },
      "source": [
        "r2_score(y9,Station9)"
      ],
      "execution_count": 141,
      "outputs": [
        {
          "output_type": "execute_result",
          "data": {
            "text/plain": [
              "0.062049761637356315"
            ]
          },
          "metadata": {
            "tags": []
          },
          "execution_count": 141
        }
      ]
    },
    {
      "cell_type": "code",
      "metadata": {
        "id": "TOrXpPJsIGpW",
        "colab_type": "code",
        "outputId": "2278998a-d3fa-4adb-d25e-eecad3273c40",
        "colab": {
          "base_uri": "https://localhost:8080/",
          "height": 50
        }
      },
      "source": [
        "from sklearn import linear_model\n",
        "reg = linear_model.Ridge(alpha=.5)\n",
        "reg.fit(X10,y10)"
      ],
      "execution_count": 142,
      "outputs": [
        {
          "output_type": "execute_result",
          "data": {
            "text/plain": [
              "Ridge(alpha=0.5, copy_X=True, fit_intercept=True, max_iter=None,\n",
              "      normalize=False, random_state=None, solver='auto', tol=0.001)"
            ]
          },
          "metadata": {
            "tags": []
          },
          "execution_count": 142
        }
      ]
    },
    {
      "cell_type": "code",
      "metadata": {
        "id": "u7oUUVBgIY-U",
        "colab_type": "code",
        "colab": {}
      },
      "source": [
        "Station10=reg.predict(X10)\n",
        "Station10test=reg.predict(X_test10)"
      ],
      "execution_count": 0,
      "outputs": []
    },
    {
      "cell_type": "code",
      "metadata": {
        "id": "6srjltieIcCZ",
        "colab_type": "code",
        "outputId": "94ff36f5-3693-448e-cafe-e583c6fc1fa0",
        "colab": {
          "base_uri": "https://localhost:8080/",
          "height": 34
        }
      },
      "source": [
        "mean_squared_error(y_test10, Station10test)"
      ],
      "execution_count": 144,
      "outputs": [
        {
          "output_type": "execute_result",
          "data": {
            "text/plain": [
              "0.0026906558796144496"
            ]
          },
          "metadata": {
            "tags": []
          },
          "execution_count": 144
        }
      ]
    },
    {
      "cell_type": "code",
      "metadata": {
        "id": "etTZW_1nIfyf",
        "colab_type": "code",
        "outputId": "3de8a244-e177-48ea-9fdd-f5cc4df6d7f8",
        "colab": {
          "base_uri": "https://localhost:8080/",
          "height": 34
        }
      },
      "source": [
        "mean_squared_error(y10, Station10)"
      ],
      "execution_count": 145,
      "outputs": [
        {
          "output_type": "execute_result",
          "data": {
            "text/plain": [
              "0.0026906558796144496"
            ]
          },
          "metadata": {
            "tags": []
          },
          "execution_count": 145
        }
      ]
    },
    {
      "cell_type": "code",
      "metadata": {
        "id": "uoVxsrebIpT-",
        "colab_type": "code",
        "outputId": "85e7b8d6-e28b-45eb-d87a-a73d1c9344b0",
        "colab": {
          "base_uri": "https://localhost:8080/",
          "height": 34
        }
      },
      "source": [
        "r2_score(y10,Station10)"
      ],
      "execution_count": 146,
      "outputs": [
        {
          "output_type": "execute_result",
          "data": {
            "text/plain": [
              "0.08191718450375773"
            ]
          },
          "metadata": {
            "tags": []
          },
          "execution_count": 146
        }
      ]
    },
    {
      "cell_type": "code",
      "metadata": {
        "id": "MfN_X25HI_-U",
        "colab_type": "code",
        "outputId": "2da5af4b-0ef4-4406-e0f9-ea6f5ada7509",
        "colab": {
          "base_uri": "https://localhost:8080/",
          "height": 34
        }
      },
      "source": [
        "r2_score(y_test10,Station10test)"
      ],
      "execution_count": 147,
      "outputs": [
        {
          "output_type": "execute_result",
          "data": {
            "text/plain": [
              "0.08191718450375773"
            ]
          },
          "metadata": {
            "tags": []
          },
          "execution_count": 147
        }
      ]
    },
    {
      "cell_type": "code",
      "metadata": {
        "id": "CrgaGMyfJGWX",
        "colab_type": "code",
        "outputId": "8c47bf06-7fed-474c-9798-18e33c0fb461",
        "colab": {
          "base_uri": "https://localhost:8080/",
          "height": 50
        }
      },
      "source": [
        "from sklearn import linear_model\n",
        "reg = linear_model.Ridge(alpha=.5)\n",
        "reg.fit(X11,y11)"
      ],
      "execution_count": 148,
      "outputs": [
        {
          "output_type": "execute_result",
          "data": {
            "text/plain": [
              "Ridge(alpha=0.5, copy_X=True, fit_intercept=True, max_iter=None,\n",
              "      normalize=False, random_state=None, solver='auto', tol=0.001)"
            ]
          },
          "metadata": {
            "tags": []
          },
          "execution_count": 148
        }
      ]
    },
    {
      "cell_type": "code",
      "metadata": {
        "id": "9fPoegjHJh71",
        "colab_type": "code",
        "colab": {}
      },
      "source": [
        "Station11=reg.predict(X11)\n",
        "Station11test=reg.predict(X_test11)"
      ],
      "execution_count": 0,
      "outputs": []
    },
    {
      "cell_type": "code",
      "metadata": {
        "id": "1g3RApY4Jnzd",
        "colab_type": "code",
        "outputId": "c62854fe-4c5d-4a22-b7fe-0dcc7a717c97",
        "colab": {
          "base_uri": "https://localhost:8080/",
          "height": 34
        }
      },
      "source": [
        "r2_score(y11,Station11)"
      ],
      "execution_count": 150,
      "outputs": [
        {
          "output_type": "execute_result",
          "data": {
            "text/plain": [
              "0.07358492208359668"
            ]
          },
          "metadata": {
            "tags": []
          },
          "execution_count": 150
        }
      ]
    },
    {
      "cell_type": "code",
      "metadata": {
        "id": "SHxiubcEJrCU",
        "colab_type": "code",
        "outputId": "0201841b-94a4-429d-c293-f718b59a8dd4",
        "colab": {
          "base_uri": "https://localhost:8080/",
          "height": 34
        }
      },
      "source": [
        "r2_score(y_test11,Station11test)"
      ],
      "execution_count": 151,
      "outputs": [
        {
          "output_type": "execute_result",
          "data": {
            "text/plain": [
              "0.07358492208359668"
            ]
          },
          "metadata": {
            "tags": []
          },
          "execution_count": 151
        }
      ]
    },
    {
      "cell_type": "markdown",
      "metadata": {
        "id": "b0PXVnPiJw78",
        "colab_type": "text"
      },
      "source": [
        ""
      ]
    },
    {
      "cell_type": "code",
      "metadata": {
        "id": "8VWpgScqJu29",
        "colab_type": "code",
        "outputId": "f5a5f599-af80-4815-b691-2ae523d4f519",
        "colab": {
          "base_uri": "https://localhost:8080/",
          "height": 50
        }
      },
      "source": [
        "from sklearn import linear_model\n",
        "reg = linear_model.Ridge(alpha=.5)\n",
        "reg.fit(X12,y12)"
      ],
      "execution_count": 152,
      "outputs": [
        {
          "output_type": "execute_result",
          "data": {
            "text/plain": [
              "Ridge(alpha=0.5, copy_X=True, fit_intercept=True, max_iter=None,\n",
              "      normalize=False, random_state=None, solver='auto', tol=0.001)"
            ]
          },
          "metadata": {
            "tags": []
          },
          "execution_count": 152
        }
      ]
    },
    {
      "cell_type": "code",
      "metadata": {
        "id": "gl2k1F-cJzxk",
        "colab_type": "code",
        "colab": {}
      },
      "source": [
        "Station12=reg.predict(X12)\n",
        "Station12test=reg.predict(X_test12)"
      ],
      "execution_count": 0,
      "outputs": []
    },
    {
      "cell_type": "code",
      "metadata": {
        "id": "xQbVZwtjJ3EQ",
        "colab_type": "code",
        "outputId": "633234b3-0fb0-41fc-8f2f-83e5267ccb03",
        "colab": {
          "base_uri": "https://localhost:8080/",
          "height": 34
        }
      },
      "source": [
        "r2_score(y12,Station12)"
      ],
      "execution_count": 154,
      "outputs": [
        {
          "output_type": "execute_result",
          "data": {
            "text/plain": [
              "0.1046874923562452"
            ]
          },
          "metadata": {
            "tags": []
          },
          "execution_count": 154
        }
      ]
    },
    {
      "cell_type": "code",
      "metadata": {
        "id": "lTL8MpRqJ6El",
        "colab_type": "code",
        "outputId": "d446faaf-8e24-42d6-c89f-d731ff38c3c5",
        "colab": {
          "base_uri": "https://localhost:8080/",
          "height": 34
        }
      },
      "source": [
        "r2_score(y_test12,Station12test)"
      ],
      "execution_count": 155,
      "outputs": [
        {
          "output_type": "execute_result",
          "data": {
            "text/plain": [
              "0.1046874923562452"
            ]
          },
          "metadata": {
            "tags": []
          },
          "execution_count": 155
        }
      ]
    },
    {
      "cell_type": "markdown",
      "metadata": {
        "id": "vy7__MV8J_LD",
        "colab_type": "text"
      },
      "source": [
        ""
      ]
    },
    {
      "cell_type": "code",
      "metadata": {
        "id": "RrowjLFxJ9Wj",
        "colab_type": "code",
        "outputId": "2861afbc-a6c7-422e-abe0-5ed3ba0a4a10",
        "colab": {
          "base_uri": "https://localhost:8080/",
          "height": 50
        }
      },
      "source": [
        "from sklearn import linear_model\n",
        "reg = linear_model.Ridge(alpha=.5)\n",
        "reg.fit(X13,y13)"
      ],
      "execution_count": 156,
      "outputs": [
        {
          "output_type": "execute_result",
          "data": {
            "text/plain": [
              "Ridge(alpha=0.5, copy_X=True, fit_intercept=True, max_iter=None,\n",
              "      normalize=False, random_state=None, solver='auto', tol=0.001)"
            ]
          },
          "metadata": {
            "tags": []
          },
          "execution_count": 156
        }
      ]
    },
    {
      "cell_type": "code",
      "metadata": {
        "id": "ZL-KUlaSKBd-",
        "colab_type": "code",
        "colab": {}
      },
      "source": [
        "Station13=reg.predict(X13)\n",
        "Station13test=reg.predict(X_test13)"
      ],
      "execution_count": 0,
      "outputs": []
    },
    {
      "cell_type": "code",
      "metadata": {
        "id": "Ol96KuvdKEKL",
        "colab_type": "code",
        "outputId": "21069884-7f12-4ea7-820d-bb691275dc01",
        "colab": {
          "base_uri": "https://localhost:8080/",
          "height": 34
        }
      },
      "source": [
        "mean_squared_error(y13,Station13)"
      ],
      "execution_count": 158,
      "outputs": [
        {
          "output_type": "execute_result",
          "data": {
            "text/plain": [
              "0.0027253764383948506"
            ]
          },
          "metadata": {
            "tags": []
          },
          "execution_count": 158
        }
      ]
    },
    {
      "cell_type": "code",
      "metadata": {
        "id": "iJJTc9s5KLLp",
        "colab_type": "code",
        "outputId": "26b708d6-824d-41bb-8081-0c896a2e23ef",
        "colab": {
          "base_uri": "https://localhost:8080/",
          "height": 34
        }
      },
      "source": [
        "mean_squared_error(y_test13,Station13test)"
      ],
      "execution_count": 159,
      "outputs": [
        {
          "output_type": "execute_result",
          "data": {
            "text/plain": [
              "0.0027253764383948506"
            ]
          },
          "metadata": {
            "tags": []
          },
          "execution_count": 159
        }
      ]
    },
    {
      "cell_type": "code",
      "metadata": {
        "id": "10PxmkIRKPpR",
        "colab_type": "code",
        "outputId": "76e02ba9-81a4-45c7-c65d-0bf2bf425527",
        "colab": {
          "base_uri": "https://localhost:8080/",
          "height": 34
        }
      },
      "source": [
        "r2_score(y13,Station13)"
      ],
      "execution_count": 160,
      "outputs": [
        {
          "output_type": "execute_result",
          "data": {
            "text/plain": [
              "0.07308819926642907"
            ]
          },
          "metadata": {
            "tags": []
          },
          "execution_count": 160
        }
      ]
    },
    {
      "cell_type": "code",
      "metadata": {
        "id": "kyYAI4YGKVBR",
        "colab_type": "code",
        "outputId": "79346976-4596-4a04-df3f-67b4924db46b",
        "colab": {
          "base_uri": "https://localhost:8080/",
          "height": 34
        }
      },
      "source": [
        "r2_score(y_test13,Station13test)"
      ],
      "execution_count": 161,
      "outputs": [
        {
          "output_type": "execute_result",
          "data": {
            "text/plain": [
              "0.07308819926642907"
            ]
          },
          "metadata": {
            "tags": []
          },
          "execution_count": 161
        }
      ]
    },
    {
      "cell_type": "markdown",
      "metadata": {
        "id": "vhQFmtJDKfFO",
        "colab_type": "text"
      },
      "source": [
        ""
      ]
    },
    {
      "cell_type": "code",
      "metadata": {
        "id": "3ZfdDR2RKY3g",
        "colab_type": "code",
        "outputId": "dda83af3-cdc3-4f35-a7b0-de7c3bc45a38",
        "colab": {
          "base_uri": "https://localhost:8080/",
          "height": 50
        }
      },
      "source": [
        "from sklearn import linear_model\n",
        "reg = linear_model.Ridge(alpha=.5)\n",
        "reg.fit(X14,y14)"
      ],
      "execution_count": 162,
      "outputs": [
        {
          "output_type": "execute_result",
          "data": {
            "text/plain": [
              "Ridge(alpha=0.5, copy_X=True, fit_intercept=True, max_iter=None,\n",
              "      normalize=False, random_state=None, solver='auto', tol=0.001)"
            ]
          },
          "metadata": {
            "tags": []
          },
          "execution_count": 162
        }
      ]
    },
    {
      "cell_type": "code",
      "metadata": {
        "id": "X50GiIsoKg3z",
        "colab_type": "code",
        "colab": {}
      },
      "source": [
        "Station14=reg.predict(X14)\n",
        "Station14test=reg.predict(X_test14)"
      ],
      "execution_count": 0,
      "outputs": []
    },
    {
      "cell_type": "code",
      "metadata": {
        "id": "0oJ51x8ZKljD",
        "colab_type": "code",
        "outputId": "a0386caf-0193-41fb-e4f7-d36812beb745",
        "colab": {
          "base_uri": "https://localhost:8080/",
          "height": 34
        }
      },
      "source": [
        "mean_squared_error(y_test14,Station14test)"
      ],
      "execution_count": 164,
      "outputs": [
        {
          "output_type": "execute_result",
          "data": {
            "text/plain": [
              "0.002505227039988342"
            ]
          },
          "metadata": {
            "tags": []
          },
          "execution_count": 164
        }
      ]
    },
    {
      "cell_type": "code",
      "metadata": {
        "id": "3urI3tUJKpEU",
        "colab_type": "code",
        "outputId": "a5006749-5b03-4152-82c8-3ff0e2a17507",
        "colab": {
          "base_uri": "https://localhost:8080/",
          "height": 34
        }
      },
      "source": [
        "mean_squared_error(y14,Station14)"
      ],
      "execution_count": 165,
      "outputs": [
        {
          "output_type": "execute_result",
          "data": {
            "text/plain": [
              "0.002505227039988342"
            ]
          },
          "metadata": {
            "tags": []
          },
          "execution_count": 165
        }
      ]
    },
    {
      "cell_type": "code",
      "metadata": {
        "id": "r299o65EKt1M",
        "colab_type": "code",
        "outputId": "4ceb9c16-4223-4582-98c5-e00afd8006a7",
        "colab": {
          "base_uri": "https://localhost:8080/",
          "height": 34
        }
      },
      "source": [
        "r2_score(y_test14,Station14test)"
      ],
      "execution_count": 166,
      "outputs": [
        {
          "output_type": "execute_result",
          "data": {
            "text/plain": [
              "0.06555224896435285"
            ]
          },
          "metadata": {
            "tags": []
          },
          "execution_count": 166
        }
      ]
    },
    {
      "cell_type": "code",
      "metadata": {
        "id": "yLuUwwwxKxo6",
        "colab_type": "code",
        "outputId": "0cd6dc5b-146f-4264-ee4d-af7d019d3ee0",
        "colab": {
          "base_uri": "https://localhost:8080/",
          "height": 34
        }
      },
      "source": [
        "r2_score(y14,Station14)"
      ],
      "execution_count": 167,
      "outputs": [
        {
          "output_type": "execute_result",
          "data": {
            "text/plain": [
              "0.06555224896435285"
            ]
          },
          "metadata": {
            "tags": []
          },
          "execution_count": 167
        }
      ]
    },
    {
      "cell_type": "markdown",
      "metadata": {
        "id": "9hoxLwahK2Bw",
        "colab_type": "text"
      },
      "source": [
        ""
      ]
    },
    {
      "cell_type": "code",
      "metadata": {
        "id": "FARhlbtwK1P-",
        "colab_type": "code",
        "outputId": "63f2f8ee-42da-430a-b344-1dba3285eab9",
        "colab": {
          "base_uri": "https://localhost:8080/",
          "height": 50
        }
      },
      "source": [
        "from sklearn import linear_model\n",
        "reg = linear_model.Ridge(alpha=.5)\n",
        "reg.fit(X15,y15)"
      ],
      "execution_count": 168,
      "outputs": [
        {
          "output_type": "execute_result",
          "data": {
            "text/plain": [
              "Ridge(alpha=0.5, copy_X=True, fit_intercept=True, max_iter=None,\n",
              "      normalize=False, random_state=None, solver='auto', tol=0.001)"
            ]
          },
          "metadata": {
            "tags": []
          },
          "execution_count": 168
        }
      ]
    },
    {
      "cell_type": "code",
      "metadata": {
        "id": "AU24RhQvK5YG",
        "colab_type": "code",
        "colab": {}
      },
      "source": [
        "Station15=reg.predict(X15)\n",
        "Station15test=reg.predict(X_test15)"
      ],
      "execution_count": 0,
      "outputs": []
    },
    {
      "cell_type": "code",
      "metadata": {
        "id": "mr9N0aIIK9y4",
        "colab_type": "code",
        "outputId": "0788a3f0-4581-4d67-9142-a6cd647afcfc",
        "colab": {
          "base_uri": "https://localhost:8080/",
          "height": 34
        }
      },
      "source": [
        "mean_squared_error(y15,Station15)"
      ],
      "execution_count": 170,
      "outputs": [
        {
          "output_type": "execute_result",
          "data": {
            "text/plain": [
              "0.0031042065117012794"
            ]
          },
          "metadata": {
            "tags": []
          },
          "execution_count": 170
        }
      ]
    },
    {
      "cell_type": "code",
      "metadata": {
        "id": "8jOLt7v7LELm",
        "colab_type": "code",
        "outputId": "0dd919fd-75ec-4ddc-8ecb-ca6142561b69",
        "colab": {
          "base_uri": "https://localhost:8080/",
          "height": 34
        }
      },
      "source": [
        "mean_squared_error(y_test15,Station15test)"
      ],
      "execution_count": 171,
      "outputs": [
        {
          "output_type": "execute_result",
          "data": {
            "text/plain": [
              "0.0031042065117012794"
            ]
          },
          "metadata": {
            "tags": []
          },
          "execution_count": 171
        }
      ]
    },
    {
      "cell_type": "code",
      "metadata": {
        "id": "jYC0vqMRLJNo",
        "colab_type": "code",
        "colab": {
          "base_uri": "https://localhost:8080/",
          "height": 34
        },
        "outputId": "658a884b-64ae-4472-da57-3da57eb9d316"
      },
      "source": [
        "r2_score(y_test15,Station15test)"
      ],
      "execution_count": 172,
      "outputs": [
        {
          "output_type": "execute_result",
          "data": {
            "text/plain": [
              "0.04733693322411525"
            ]
          },
          "metadata": {
            "tags": []
          },
          "execution_count": 172
        }
      ]
    },
    {
      "cell_type": "code",
      "metadata": {
        "id": "p4bRvqpMePAD",
        "colab_type": "code",
        "colab": {
          "base_uri": "https://localhost:8080/",
          "height": 34
        },
        "outputId": "11cea6e4-5dab-4bee-88e4-74ebca227bbd"
      },
      "source": [
        "r2_score(y15,Station15)"
      ],
      "execution_count": 173,
      "outputs": [
        {
          "output_type": "execute_result",
          "data": {
            "text/plain": [
              "0.04733693322411525"
            ]
          },
          "metadata": {
            "tags": []
          },
          "execution_count": 173
        }
      ]
    },
    {
      "cell_type": "code",
      "metadata": {
        "id": "Epe0LAwneWVq",
        "colab_type": "code",
        "colab": {
          "base_uri": "https://localhost:8080/",
          "height": 50
        },
        "outputId": "14b2fac9-d6aa-43fa-e14e-6c1bb2bcc79b"
      },
      "source": [
        "from sklearn import linear_model\n",
        "reg = linear_model.Ridge(alpha=.5)\n",
        "reg.fit(X16,y16)"
      ],
      "execution_count": 174,
      "outputs": [
        {
          "output_type": "execute_result",
          "data": {
            "text/plain": [
              "Ridge(alpha=0.5, copy_X=True, fit_intercept=True, max_iter=None,\n",
              "      normalize=False, random_state=None, solver='auto', tol=0.001)"
            ]
          },
          "metadata": {
            "tags": []
          },
          "execution_count": 174
        }
      ]
    },
    {
      "cell_type": "code",
      "metadata": {
        "id": "kEtCzh0Zea1Q",
        "colab_type": "code",
        "colab": {}
      },
      "source": [
        "Station16=reg.predict(X16)\n",
        "Station16test=reg.predict(X_test16)"
      ],
      "execution_count": 0,
      "outputs": []
    },
    {
      "cell_type": "code",
      "metadata": {
        "id": "d__nNjHBee0c",
        "colab_type": "code",
        "colab": {
          "base_uri": "https://localhost:8080/",
          "height": 34
        },
        "outputId": "92993765-83ce-4e94-f4e5-50baf110ae38"
      },
      "source": [
        "mean_squared_error(y16,Station16)"
      ],
      "execution_count": 176,
      "outputs": [
        {
          "output_type": "execute_result",
          "data": {
            "text/plain": [
              "0.0025264519605659634"
            ]
          },
          "metadata": {
            "tags": []
          },
          "execution_count": 176
        }
      ]
    },
    {
      "cell_type": "code",
      "metadata": {
        "id": "7gXIp4w6ehzY",
        "colab_type": "code",
        "colab": {
          "base_uri": "https://localhost:8080/",
          "height": 34
        },
        "outputId": "f766e262-22ee-4f83-f0ab-bc329e3dd09d"
      },
      "source": [
        "mean_squared_error(y_test16,Station16test)"
      ],
      "execution_count": 177,
      "outputs": [
        {
          "output_type": "execute_result",
          "data": {
            "text/plain": [
              "0.0025264519605659634"
            ]
          },
          "metadata": {
            "tags": []
          },
          "execution_count": 177
        }
      ]
    },
    {
      "cell_type": "code",
      "metadata": {
        "id": "eqF2CzEaely8",
        "colab_type": "code",
        "colab": {
          "base_uri": "https://localhost:8080/",
          "height": 34
        },
        "outputId": "e545664a-527f-40a2-97bc-095271379c9d"
      },
      "source": [
        "r2_score(y16,Station16)"
      ],
      "execution_count": 178,
      "outputs": [
        {
          "output_type": "execute_result",
          "data": {
            "text/plain": [
              "0.047795473762775265"
            ]
          },
          "metadata": {
            "tags": []
          },
          "execution_count": 178
        }
      ]
    },
    {
      "cell_type": "code",
      "metadata": {
        "id": "oQJNM6Hpeoo-",
        "colab_type": "code",
        "colab": {
          "base_uri": "https://localhost:8080/",
          "height": 34
        },
        "outputId": "b015d755-d6dd-4d5c-d1a0-00e23269f0da"
      },
      "source": [
        "r2_score(y_test16,Station16test)"
      ],
      "execution_count": 179,
      "outputs": [
        {
          "output_type": "execute_result",
          "data": {
            "text/plain": [
              "0.047795473762775265"
            ]
          },
          "metadata": {
            "tags": []
          },
          "execution_count": 179
        }
      ]
    },
    {
      "cell_type": "code",
      "metadata": {
        "id": "OTsNsb0cewNj",
        "colab_type": "code",
        "colab": {
          "base_uri": "https://localhost:8080/",
          "height": 50
        },
        "outputId": "bb5c0d58-059b-4c25-f518-fb31536400e0"
      },
      "source": [
        "from sklearn import linear_model\n",
        "reg = linear_model.Ridge(alpha=.5)\n",
        "reg.fit(X17,y17)"
      ],
      "execution_count": 180,
      "outputs": [
        {
          "output_type": "execute_result",
          "data": {
            "text/plain": [
              "Ridge(alpha=0.5, copy_X=True, fit_intercept=True, max_iter=None,\n",
              "      normalize=False, random_state=None, solver='auto', tol=0.001)"
            ]
          },
          "metadata": {
            "tags": []
          },
          "execution_count": 180
        }
      ]
    },
    {
      "cell_type": "code",
      "metadata": {
        "id": "o-z4yErUe1SJ",
        "colab_type": "code",
        "colab": {}
      },
      "source": [
        "Station17=reg.predict(X17)\n",
        "Station17test=reg.predict(X_test17)"
      ],
      "execution_count": 0,
      "outputs": []
    },
    {
      "cell_type": "code",
      "metadata": {
        "id": "9kr4ej6Pe5Xq",
        "colab_type": "code",
        "colab": {
          "base_uri": "https://localhost:8080/",
          "height": 34
        },
        "outputId": "087f367b-874c-4182-a166-979367299e7e"
      },
      "source": [
        "mean_squared_error(y17,Station17)"
      ],
      "execution_count": 182,
      "outputs": [
        {
          "output_type": "execute_result",
          "data": {
            "text/plain": [
              "0.0025170336138352982"
            ]
          },
          "metadata": {
            "tags": []
          },
          "execution_count": 182
        }
      ]
    },
    {
      "cell_type": "code",
      "metadata": {
        "id": "WXSNWquPe8tR",
        "colab_type": "code",
        "colab": {
          "base_uri": "https://localhost:8080/",
          "height": 34
        },
        "outputId": "46b36476-43d1-4ced-9cc4-3d74756e76c3"
      },
      "source": [
        "mean_squared_error(y_test17,Station17test)"
      ],
      "execution_count": 183,
      "outputs": [
        {
          "output_type": "execute_result",
          "data": {
            "text/plain": [
              "0.0025170336138352982"
            ]
          },
          "metadata": {
            "tags": []
          },
          "execution_count": 183
        }
      ]
    },
    {
      "cell_type": "code",
      "metadata": {
        "id": "pPlbPfb6fBWW",
        "colab_type": "code",
        "colab": {
          "base_uri": "https://localhost:8080/",
          "height": 34
        },
        "outputId": "98cac6c4-0b10-48d0-e605-03e87fd5b16a"
      },
      "source": [
        "r2_score(y17,Station17)"
      ],
      "execution_count": 184,
      "outputs": [
        {
          "output_type": "execute_result",
          "data": {
            "text/plain": [
              "0.061910639746241225"
            ]
          },
          "metadata": {
            "tags": []
          },
          "execution_count": 184
        }
      ]
    },
    {
      "cell_type": "code",
      "metadata": {
        "id": "SsNIB251fFBX",
        "colab_type": "code",
        "colab": {
          "base_uri": "https://localhost:8080/",
          "height": 34
        },
        "outputId": "4ed2fa84-06c8-4cef-d032-8286501ae8cf"
      },
      "source": [
        "r2_score(y_test17,Station17test)"
      ],
      "execution_count": 185,
      "outputs": [
        {
          "output_type": "execute_result",
          "data": {
            "text/plain": [
              "0.061910639746241225"
            ]
          },
          "metadata": {
            "tags": []
          },
          "execution_count": 185
        }
      ]
    },
    {
      "cell_type": "code",
      "metadata": {
        "id": "3L_-aVDIfIG4",
        "colab_type": "code",
        "colab": {
          "base_uri": "https://localhost:8080/",
          "height": 50
        },
        "outputId": "ddc99768-e78e-4d07-a38b-2edbfadabd55"
      },
      "source": [
        "from sklearn import linear_model\n",
        "reg = linear_model.Ridge(alpha=.5)\n",
        "reg.fit(X18,y18)"
      ],
      "execution_count": 186,
      "outputs": [
        {
          "output_type": "execute_result",
          "data": {
            "text/plain": [
              "Ridge(alpha=0.5, copy_X=True, fit_intercept=True, max_iter=None,\n",
              "      normalize=False, random_state=None, solver='auto', tol=0.001)"
            ]
          },
          "metadata": {
            "tags": []
          },
          "execution_count": 186
        }
      ]
    },
    {
      "cell_type": "code",
      "metadata": {
        "id": "AeSFxHo9fMe6",
        "colab_type": "code",
        "colab": {}
      },
      "source": [
        "Station18=reg.predict(X18)\n",
        "Station18test=reg.predict(X_test18)"
      ],
      "execution_count": 0,
      "outputs": []
    },
    {
      "cell_type": "code",
      "metadata": {
        "id": "0irp1w8sfP-W",
        "colab_type": "code",
        "colab": {
          "base_uri": "https://localhost:8080/",
          "height": 34
        },
        "outputId": "59158320-9a99-44bc-f39c-89835995c6a2"
      },
      "source": [
        "mean_squared_error(y18,Station18)"
      ],
      "execution_count": 188,
      "outputs": [
        {
          "output_type": "execute_result",
          "data": {
            "text/plain": [
              "0.0001570778656111503"
            ]
          },
          "metadata": {
            "tags": []
          },
          "execution_count": 188
        }
      ]
    },
    {
      "cell_type": "code",
      "metadata": {
        "id": "W8NNvtbLfS4z",
        "colab_type": "code",
        "colab": {
          "base_uri": "https://localhost:8080/",
          "height": 34
        },
        "outputId": "630d6436-ce86-4466-e2ff-2bacbe263155"
      },
      "source": [
        "mean_squared_error(y_test18,Station18test)"
      ],
      "execution_count": 189,
      "outputs": [
        {
          "output_type": "execute_result",
          "data": {
            "text/plain": [
              "0.0001570778656111503"
            ]
          },
          "metadata": {
            "tags": []
          },
          "execution_count": 189
        }
      ]
    },
    {
      "cell_type": "code",
      "metadata": {
        "id": "DHbhn-rFfWnw",
        "colab_type": "code",
        "colab": {
          "base_uri": "https://localhost:8080/",
          "height": 34
        },
        "outputId": "7645735c-3efa-4549-b876-a15d76ec1032"
      },
      "source": [
        "r2_score(y18,Station18)"
      ],
      "execution_count": 190,
      "outputs": [
        {
          "output_type": "execute_result",
          "data": {
            "text/plain": [
              "0.00946254522186607"
            ]
          },
          "metadata": {
            "tags": []
          },
          "execution_count": 190
        }
      ]
    },
    {
      "cell_type": "code",
      "metadata": {
        "id": "I68KysRefZ0F",
        "colab_type": "code",
        "colab": {
          "base_uri": "https://localhost:8080/",
          "height": 34
        },
        "outputId": "343351fd-f0ab-4ce9-a2d6-a2379bfa12a5"
      },
      "source": [
        "r2_score(y_test18,Station18test)"
      ],
      "execution_count": 191,
      "outputs": [
        {
          "output_type": "execute_result",
          "data": {
            "text/plain": [
              "0.00946254522186607"
            ]
          },
          "metadata": {
            "tags": []
          },
          "execution_count": 191
        }
      ]
    },
    {
      "cell_type": "code",
      "metadata": {
        "id": "ZiH6c58wfnm_",
        "colab_type": "code",
        "colab": {}
      },
      "source": [
        "from sklearn.metrics import mean_absolute_error"
      ],
      "execution_count": 0,
      "outputs": []
    },
    {
      "cell_type": "code",
      "metadata": {
        "id": "l6GEwQRkgBn2",
        "colab_type": "code",
        "colab": {
          "base_uri": "https://localhost:8080/",
          "height": 34
        },
        "outputId": "5edd7625-7e15-4dfa-e519-7430bd2cdd94"
      },
      "source": [
        "mean_absolute_error(y8,Station8)"
      ],
      "execution_count": 193,
      "outputs": [
        {
          "output_type": "execute_result",
          "data": {
            "text/plain": [
              "0.025701632409521745"
            ]
          },
          "metadata": {
            "tags": []
          },
          "execution_count": 193
        }
      ]
    },
    {
      "cell_type": "code",
      "metadata": {
        "id": "k3H5Orw_gIho",
        "colab_type": "code",
        "colab": {
          "base_uri": "https://localhost:8080/",
          "height": 34
        },
        "outputId": "c6840d90-069f-4375-846f-bdaebf94c578"
      },
      "source": [
        "mean_absolute_error(y_test8,Station8test)"
      ],
      "execution_count": 194,
      "outputs": [
        {
          "output_type": "execute_result",
          "data": {
            "text/plain": [
              "0.025701632409521745"
            ]
          },
          "metadata": {
            "tags": []
          },
          "execution_count": 194
        }
      ]
    },
    {
      "cell_type": "code",
      "metadata": {
        "id": "0JVHHLwNgM7E",
        "colab_type": "code",
        "colab": {
          "base_uri": "https://localhost:8080/",
          "height": 34
        },
        "outputId": "73cee60b-0f1a-4a1e-9ddd-8043261e562b"
      },
      "source": [
        "mean_absolute_error(y9,Station9)"
      ],
      "execution_count": 195,
      "outputs": [
        {
          "output_type": "execute_result",
          "data": {
            "text/plain": [
              "0.006638154203568645"
            ]
          },
          "metadata": {
            "tags": []
          },
          "execution_count": 195
        }
      ]
    },
    {
      "cell_type": "code",
      "metadata": {
        "id": "7O-65BCvgP_W",
        "colab_type": "code",
        "colab": {
          "base_uri": "https://localhost:8080/",
          "height": 34
        },
        "outputId": "3d95b372-da01-4da8-e5e9-f3d56f88e0c3"
      },
      "source": [
        "mean_absolute_error(y_test9,Station9test)"
      ],
      "execution_count": 196,
      "outputs": [
        {
          "output_type": "execute_result",
          "data": {
            "text/plain": [
              "0.006638154203568645"
            ]
          },
          "metadata": {
            "tags": []
          },
          "execution_count": 196
        }
      ]
    },
    {
      "cell_type": "code",
      "metadata": {
        "id": "gCWS7E63gT8r",
        "colab_type": "code",
        "colab": {
          "base_uri": "https://localhost:8080/",
          "height": 34
        },
        "outputId": "811af79f-04b2-43a4-a412-9766273f6766"
      },
      "source": [
        "mean_absolute_error(y10,Station10)"
      ],
      "execution_count": 197,
      "outputs": [
        {
          "output_type": "execute_result",
          "data": {
            "text/plain": [
              "0.02201644012737965"
            ]
          },
          "metadata": {
            "tags": []
          },
          "execution_count": 197
        }
      ]
    },
    {
      "cell_type": "code",
      "metadata": {
        "id": "rZKI8PjZgXdB",
        "colab_type": "code",
        "colab": {
          "base_uri": "https://localhost:8080/",
          "height": 34
        },
        "outputId": "77ed1a26-e447-4b43-f4dd-d7c95830a9da"
      },
      "source": [
        "mean_absolute_error(y_test10,Station10test)"
      ],
      "execution_count": 198,
      "outputs": [
        {
          "output_type": "execute_result",
          "data": {
            "text/plain": [
              "0.02201644012737965"
            ]
          },
          "metadata": {
            "tags": []
          },
          "execution_count": 198
        }
      ]
    },
    {
      "cell_type": "code",
      "metadata": {
        "id": "C8_K6XGqgbBA",
        "colab_type": "code",
        "colab": {
          "base_uri": "https://localhost:8080/",
          "height": 34
        },
        "outputId": "db17f491-e6a1-437b-e1e2-923babc41ffc"
      },
      "source": [
        "mean_absolute_error(y11,Station11)"
      ],
      "execution_count": 199,
      "outputs": [
        {
          "output_type": "execute_result",
          "data": {
            "text/plain": [
              "0.0213424490705496"
            ]
          },
          "metadata": {
            "tags": []
          },
          "execution_count": 199
        }
      ]
    },
    {
      "cell_type": "code",
      "metadata": {
        "id": "c5hbgqOogdiH",
        "colab_type": "code",
        "colab": {
          "base_uri": "https://localhost:8080/",
          "height": 34
        },
        "outputId": "c0c24ecc-444f-4102-efde-54f795e50f43"
      },
      "source": [
        "mean_absolute_error(y11,Station11test)"
      ],
      "execution_count": 200,
      "outputs": [
        {
          "output_type": "execute_result",
          "data": {
            "text/plain": [
              "0.0213424490705496"
            ]
          },
          "metadata": {
            "tags": []
          },
          "execution_count": 200
        }
      ]
    },
    {
      "cell_type": "code",
      "metadata": {
        "id": "KHhriJ9Oggy7",
        "colab_type": "code",
        "colab": {
          "base_uri": "https://localhost:8080/",
          "height": 34
        },
        "outputId": "9f9ca590-3737-4d50-8d04-8fc351e0d0fe"
      },
      "source": [
        "mean_absolute_error(y11,Station11)"
      ],
      "execution_count": 201,
      "outputs": [
        {
          "output_type": "execute_result",
          "data": {
            "text/plain": [
              "0.0213424490705496"
            ]
          },
          "metadata": {
            "tags": []
          },
          "execution_count": 201
        }
      ]
    },
    {
      "cell_type": "code",
      "metadata": {
        "id": "bo8eZtb4m4bh",
        "colab_type": "code",
        "colab": {
          "base_uri": "https://localhost:8080/",
          "height": 34
        },
        "outputId": "edee60e7-2714-47d8-c7ee-fdf9933ec7de"
      },
      "source": [
        "mean_absolute_error(y_test11,Station11test)"
      ],
      "execution_count": 202,
      "outputs": [
        {
          "output_type": "execute_result",
          "data": {
            "text/plain": [
              "0.0213424490705496"
            ]
          },
          "metadata": {
            "tags": []
          },
          "execution_count": 202
        }
      ]
    },
    {
      "cell_type": "code",
      "metadata": {
        "id": "KiriDospm7vw",
        "colab_type": "code",
        "colab": {
          "base_uri": "https://localhost:8080/",
          "height": 34
        },
        "outputId": "c47bf6cf-3436-4537-fa1d-57555546036c"
      },
      "source": [
        "mean_absolute_error(y12,Station12)"
      ],
      "execution_count": 203,
      "outputs": [
        {
          "output_type": "execute_result",
          "data": {
            "text/plain": [
              "0.01715993279782065"
            ]
          },
          "metadata": {
            "tags": []
          },
          "execution_count": 203
        }
      ]
    },
    {
      "cell_type": "code",
      "metadata": {
        "id": "teGy_xFmm-Si",
        "colab_type": "code",
        "colab": {
          "base_uri": "https://localhost:8080/",
          "height": 34
        },
        "outputId": "7bcd3b43-520d-47e2-9d76-8c114aa1dd6a"
      },
      "source": [
        "mean_absolute_error(y_test12,Station12test)"
      ],
      "execution_count": 204,
      "outputs": [
        {
          "output_type": "execute_result",
          "data": {
            "text/plain": [
              "0.01715993279782065"
            ]
          },
          "metadata": {
            "tags": []
          },
          "execution_count": 204
        }
      ]
    },
    {
      "cell_type": "code",
      "metadata": {
        "id": "zi0tA59DnB9C",
        "colab_type": "code",
        "colab": {
          "base_uri": "https://localhost:8080/",
          "height": 34
        },
        "outputId": "55e3859c-9107-4183-b2c9-2aebc8d007e3"
      },
      "source": [
        "mean_absolute_error(y13,Station13)"
      ],
      "execution_count": 205,
      "outputs": [
        {
          "output_type": "execute_result",
          "data": {
            "text/plain": [
              "0.021453877014134214"
            ]
          },
          "metadata": {
            "tags": []
          },
          "execution_count": 205
        }
      ]
    },
    {
      "cell_type": "code",
      "metadata": {
        "id": "4ukLy8UTnGzw",
        "colab_type": "code",
        "colab": {
          "base_uri": "https://localhost:8080/",
          "height": 34
        },
        "outputId": "3c8926e1-f173-443a-d9e5-a79af955c8b0"
      },
      "source": [
        "mean_absolute_error(y_test13,Station13test)"
      ],
      "execution_count": 206,
      "outputs": [
        {
          "output_type": "execute_result",
          "data": {
            "text/plain": [
              "0.021453877014134214"
            ]
          },
          "metadata": {
            "tags": []
          },
          "execution_count": 206
        }
      ]
    },
    {
      "cell_type": "code",
      "metadata": {
        "id": "Vz-x1-DLnKoy",
        "colab_type": "code",
        "colab": {
          "base_uri": "https://localhost:8080/",
          "height": 34
        },
        "outputId": "aff322e0-ddfa-4248-d859-8d4282b994a3"
      },
      "source": [
        "mean_absolute_error(y14,Station14)"
      ],
      "execution_count": 207,
      "outputs": [
        {
          "output_type": "execute_result",
          "data": {
            "text/plain": [
              "0.020713033434568477"
            ]
          },
          "metadata": {
            "tags": []
          },
          "execution_count": 207
        }
      ]
    },
    {
      "cell_type": "code",
      "metadata": {
        "id": "dmJDiCbqnNEp",
        "colab_type": "code",
        "colab": {
          "base_uri": "https://localhost:8080/",
          "height": 34
        },
        "outputId": "f4c305a1-91e5-4549-89dc-d9721a0b09ec"
      },
      "source": [
        "mean_absolute_error(y_test14,Station14test)"
      ],
      "execution_count": 208,
      "outputs": [
        {
          "output_type": "execute_result",
          "data": {
            "text/plain": [
              "0.020713033434568477"
            ]
          },
          "metadata": {
            "tags": []
          },
          "execution_count": 208
        }
      ]
    },
    {
      "cell_type": "code",
      "metadata": {
        "id": "c7sAhI-NnQKD",
        "colab_type": "code",
        "colab": {
          "base_uri": "https://localhost:8080/",
          "height": 34
        },
        "outputId": "5369b9c6-b0d0-4c10-ef0f-9fd3e9943fca"
      },
      "source": [
        "mean_absolute_error(y15,Station15)"
      ],
      "execution_count": 209,
      "outputs": [
        {
          "output_type": "execute_result",
          "data": {
            "text/plain": [
              "0.023028044927860657"
            ]
          },
          "metadata": {
            "tags": []
          },
          "execution_count": 209
        }
      ]
    },
    {
      "cell_type": "code",
      "metadata": {
        "id": "p94y5AkJnSh2",
        "colab_type": "code",
        "colab": {
          "base_uri": "https://localhost:8080/",
          "height": 34
        },
        "outputId": "923425b9-5be0-49d9-c506-0c4ad5433f13"
      },
      "source": [
        "mean_absolute_error(y_test15,Station15test)"
      ],
      "execution_count": 210,
      "outputs": [
        {
          "output_type": "execute_result",
          "data": {
            "text/plain": [
              "0.023028044927860657"
            ]
          },
          "metadata": {
            "tags": []
          },
          "execution_count": 210
        }
      ]
    },
    {
      "cell_type": "code",
      "metadata": {
        "id": "ST1m7yB4nVoS",
        "colab_type": "code",
        "colab": {
          "base_uri": "https://localhost:8080/",
          "height": 34
        },
        "outputId": "08ec96e4-2953-4048-cd45-f8d39ee672f8"
      },
      "source": [
        "mean_absolute_error(y16,Station16)"
      ],
      "execution_count": 211,
      "outputs": [
        {
          "output_type": "execute_result",
          "data": {
            "text/plain": [
              "0.02101663043731413"
            ]
          },
          "metadata": {
            "tags": []
          },
          "execution_count": 211
        }
      ]
    },
    {
      "cell_type": "code",
      "metadata": {
        "id": "i6YyUcsNnX6s",
        "colab_type": "code",
        "colab": {
          "base_uri": "https://localhost:8080/",
          "height": 34
        },
        "outputId": "18bb9e40-765f-4b10-f149-284f2095bdfd"
      },
      "source": [
        "mean_absolute_error(y_test16,Station16test)"
      ],
      "execution_count": 212,
      "outputs": [
        {
          "output_type": "execute_result",
          "data": {
            "text/plain": [
              "0.02101663043731413"
            ]
          },
          "metadata": {
            "tags": []
          },
          "execution_count": 212
        }
      ]
    },
    {
      "cell_type": "code",
      "metadata": {
        "id": "hNiDk92LncEr",
        "colab_type": "code",
        "colab": {
          "base_uri": "https://localhost:8080/",
          "height": 34
        },
        "outputId": "bcfaa741-23ad-4f0e-88e2-361052f26886"
      },
      "source": [
        "mean_absolute_error(y17,Station17)"
      ],
      "execution_count": 213,
      "outputs": [
        {
          "output_type": "execute_result",
          "data": {
            "text/plain": [
              "0.01790973788909145"
            ]
          },
          "metadata": {
            "tags": []
          },
          "execution_count": 213
        }
      ]
    },
    {
      "cell_type": "code",
      "metadata": {
        "id": "8IOV3DM_neIN",
        "colab_type": "code",
        "colab": {
          "base_uri": "https://localhost:8080/",
          "height": 34
        },
        "outputId": "6961647d-56f4-41be-a559-9be2389816c2"
      },
      "source": [
        "mean_absolute_error(y_test17,Station17test)"
      ],
      "execution_count": 214,
      "outputs": [
        {
          "output_type": "execute_result",
          "data": {
            "text/plain": [
              "0.01790973788909145"
            ]
          },
          "metadata": {
            "tags": []
          },
          "execution_count": 214
        }
      ]
    },
    {
      "cell_type": "code",
      "metadata": {
        "id": "6YpERRQEnhbY",
        "colab_type": "code",
        "colab": {
          "base_uri": "https://localhost:8080/",
          "height": 34
        },
        "outputId": "ca669cc8-103e-4706-bff2-5c04df8b957b"
      },
      "source": [
        "mean_absolute_error(y18,Station18)"
      ],
      "execution_count": 215,
      "outputs": [
        {
          "output_type": "execute_result",
          "data": {
            "text/plain": [
              "0.00371714984505401"
            ]
          },
          "metadata": {
            "tags": []
          },
          "execution_count": 215
        }
      ]
    },
    {
      "cell_type": "code",
      "metadata": {
        "id": "wPXGXtb5njtJ",
        "colab_type": "code",
        "colab": {
          "base_uri": "https://localhost:8080/",
          "height": 34
        },
        "outputId": "67f36b31-42b9-46f2-e1a3-851e52108c8f"
      },
      "source": [
        "mean_absolute_error(y_test18,Station18test)"
      ],
      "execution_count": 216,
      "outputs": [
        {
          "output_type": "execute_result",
          "data": {
            "text/plain": [
              "0.00371714984505401"
            ]
          },
          "metadata": {
            "tags": []
          },
          "execution_count": 216
        }
      ]
    }
  ]
}