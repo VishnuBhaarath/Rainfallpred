{
  "nbformat": 4,
  "nbformat_minor": 0,
  "metadata": {
    "colab": {
      "name": "LSTMsinglelayer10.ipynb",
      "provenance": [],
      "collapsed_sections": [],
      "authorship_tag": "ABX9TyPTithJNtXSu4SaUPY3TQUs",
      "include_colab_link": true
    },
    "kernelspec": {
      "name": "python3",
      "display_name": "Python 3"
    }
  },
  "cells": [
    {
      "cell_type": "markdown",
      "metadata": {
        "id": "view-in-github",
        "colab_type": "text"
      },
      "source": [
        "<a href=\"https://colab.research.google.com/github/VishnuBhaarath/Rainfallpred/blob/master/LSTMsinglelayer10.ipynb\" target=\"_parent\"><img src=\"https://colab.research.google.com/assets/colab-badge.svg\" alt=\"Open In Colab\"/></a>"
      ]
    },
    {
      "cell_type": "code",
      "metadata": {
        "id": "5YGfJ9tYkM94",
        "colab_type": "code",
        "outputId": "abbabede-8b56-4f26-8917-94e883982f17",
        "colab": {
          "base_uri": "https://localhost:8080/",
          "height": 62
        }
      },
      "source": [
        "from numpy.random import seed\n",
        "seed(1)\n",
        "from tensorflow import set_random_seed\n",
        "set_random_seed(2)\n",
        "from sklearn.metrics import r2_score"
      ],
      "execution_count": 2,
      "outputs": [
        {
          "output_type": "display_data",
          "data": {
            "text/html": [
              "<p style=\"color: red;\">\n",
              "The default version of TensorFlow in Colab will soon switch to TensorFlow 2.x.<br>\n",
              "We recommend you <a href=\"https://www.tensorflow.org/guide/migrate\" target=\"_blank\">upgrade</a> now \n",
              "or ensure your notebook will continue to use TensorFlow 1.x via the <code>%tensorflow_version 1.x</code> magic:\n",
              "<a href=\"https://colab.research.google.com/notebooks/tensorflow_version.ipynb\" target=\"_blank\">more info</a>.</p>\n"
            ],
            "text/plain": [
              "<IPython.core.display.HTML object>"
            ]
          },
          "metadata": {
            "tags": []
          }
        }
      ]
    },
    {
      "cell_type": "code",
      "metadata": {
        "id": "cou_fBaEkP6G",
        "colab_type": "code",
        "colab": {}
      },
      "source": [
        "import pandas as pd\n",
        "from pandas import DataFrame\n",
        "import numpy as np\n",
        "from numpy import hstack\n",
        "import tensorflow as tf\n",
        "from tensorflow import keras\n",
        "from sklearn import preprocessing"
      ],
      "execution_count": 0,
      "outputs": []
    },
    {
      "cell_type": "code",
      "metadata": {
        "id": "ACH71at4kV9t",
        "colab_type": "code",
        "colab": {}
      },
      "source": [
        "df=pd.read_excel('trend_anna_imd_21.xlsx')"
      ],
      "execution_count": 0,
      "outputs": []
    },
    {
      "cell_type": "code",
      "metadata": {
        "id": "2hp4FJfQkk9o",
        "colab_type": "code",
        "outputId": "3864da00-5764-4a65-8837-01cc503c3335",
        "colab": {
          "base_uri": "https://localhost:8080/",
          "height": 195
        }
      },
      "source": [
        "df.head()"
      ],
      "execution_count": 0,
      "outputs": [
        {
          "output_type": "execute_result",
          "data": {
            "text/html": [
              "<div>\n",
              "<style scoped>\n",
              "    .dataframe tbody tr th:only-of-type {\n",
              "        vertical-align: middle;\n",
              "    }\n",
              "\n",
              "    .dataframe tbody tr th {\n",
              "        vertical-align: top;\n",
              "    }\n",
              "\n",
              "    .dataframe thead th {\n",
              "        text-align: right;\n",
              "    }\n",
              "</style>\n",
              "<table border=\"1\" class=\"dataframe\">\n",
              "  <thead>\n",
              "    <tr style=\"text-align: right;\">\n",
              "      <th></th>\n",
              "      <th>Unnamed: 0</th>\n",
              "      <th>Unnamed: 1</th>\n",
              "    </tr>\n",
              "  </thead>\n",
              "  <tbody>\n",
              "    <tr>\n",
              "      <th>0</th>\n",
              "      <td>1. Cuddalore</td>\n",
              "      <td>NaN</td>\n",
              "    </tr>\n",
              "    <tr>\n",
              "      <th>1</th>\n",
              "      <td>1965-01-01 00:00:00</td>\n",
              "      <td>10.6</td>\n",
              "    </tr>\n",
              "    <tr>\n",
              "      <th>2</th>\n",
              "      <td>1965-01-02 00:00:00</td>\n",
              "      <td>0.0</td>\n",
              "    </tr>\n",
              "    <tr>\n",
              "      <th>3</th>\n",
              "      <td>1965-01-03 00:00:00</td>\n",
              "      <td>13.0</td>\n",
              "    </tr>\n",
              "    <tr>\n",
              "      <th>4</th>\n",
              "      <td>1965-01-04 00:00:00</td>\n",
              "      <td>0.0</td>\n",
              "    </tr>\n",
              "  </tbody>\n",
              "</table>\n",
              "</div>"
            ],
            "text/plain": [
              "            Unnamed: 0  Unnamed: 1\n",
              "0         1. Cuddalore         NaN\n",
              "1  1965-01-01 00:00:00        10.6\n",
              "2  1965-01-02 00:00:00         0.0\n",
              "3  1965-01-03 00:00:00        13.0\n",
              "4  1965-01-04 00:00:00         0.0"
            ]
          },
          "metadata": {
            "tags": []
          },
          "execution_count": 248
        }
      ]
    },
    {
      "cell_type": "code",
      "metadata": {
        "id": "RB9D0KOIkl-g",
        "colab_type": "code",
        "colab": {}
      },
      "source": [
        "Cuddalore=df[3655:19360]\n",
        "Panruti=df[23016:38721]\n",
        "Dharmapuri=df[42408:58082]\n",
        "Harur=df[61738:77443]\n",
        "Palacode=df[81158:96804]\n",
        "Pennagaram=df[100460:116165]\n",
        "Chengam=df[119821:135526]\n",
        "Sathanur=df[138817:154522]\n",
        "Tiruvanamalai=df[158178:173883]\n",
        "Sankarapuram=df[177539:193244]\n",
        "Tirukoilur=df[196899:212604]\n",
        "ulundurpet=df[216260:231965]\n",
        "Villupuram=df[235621:251326]\n",
        "Denkanikottai=df[274343:290048]\n",
        "Hosur=df[293703:309408]\n",
        "Krishnagiri=df[313063:328768]\n",
        "Marandahalli=df[332059:347764]\n",
        "Rayakottai=df[353250:368955]\n",
        "Uthangarai=df[372611:388316]\n"
      ],
      "execution_count": 0,
      "outputs": []
    },
    {
      "cell_type": "code",
      "metadata": {
        "id": "8lT9ZtR0mBO1",
        "colab_type": "code",
        "colab": {}
      },
      "source": [
        "Cuddalore.columns = ['Date', 'Rainfall']\n",
        "Panruti.columns= ['Date', 'Rainfall']\n",
        "Dharmapuri.columns= ['Date', 'Rainfall']\n",
        "Harur.columns= ['Date', 'Rainfall']\n",
        "Palacode.columns= ['Date', 'Rainfall']\n",
        "Pennagaram.columns= ['Date', 'Rainfall']\n",
        "Chengam.columns= ['Date', 'Rainfall']\n",
        "Sathanur.columns= ['Date', 'Rainfall']\n",
        "Tiruvanamalai.columns= ['Date', 'Rainfall']\n",
        "Sankarapuram.columns= ['Date', 'Rainfall']\n",
        "Tirukoilur.columns= ['Date', 'Rainfall']\n",
        "ulundurpet.columns= ['Date', 'Rainfall']\n",
        "Villupuram.columns= ['Date', 'Rainfall']\n",
        "Denkanikottai.columns= ['Date', 'Rainfall']\n",
        "Hosur.columns= ['Date', 'Rainfall']\n",
        "Krishnagiri.columns= ['Date', 'Rainfall']\n",
        "Marandahalli.columns= ['Date', 'Rainfall']\n",
        "Rayakottai.columns= ['Date', 'Rainfall']\n",
        "Uthangarai.columns= ['Date', 'Rainfall']"
      ],
      "execution_count": 0,
      "outputs": []
    },
    {
      "cell_type": "code",
      "metadata": {
        "id": "ot2FqhbOm6dJ",
        "colab_type": "code",
        "colab": {}
      },
      "source": [
        "train=Cuddalore[0:12000]\n",
        "test=Cuddalore[12000:15704]\n",
        "train1=Panruti[0:12000]\n",
        "test1=Panruti[12000:15705]\n",
        "train2=Dharmapuri[0:12000]\n",
        "test2=Dharmapuri[12000:15674]\n",
        "train3=Harur[0:12000]\n",
        "test3=Harur[12000:15704]\n",
        "train4=Palacode[0:12000]\n",
        "test4=Palacode[12000:15646]\n",
        "train5=Pennagaram[0:12000]\n",
        "test5=Pennagaram[12000:15705]\n",
        "train6=Chengam[0:12000]\n",
        "test6=Chengam[12000:15705]\n",
        "train7=Sathanur[0:12000]\n",
        "test7=Sathanur[12000:15705]\n",
        "train8=Tiruvanamalai[0:12000]\n",
        "test8=Tiruvanamalai[12000:15165]\n",
        "train9=Sankarapuram[0:12000]\n",
        "test9=Sankarapuram[12000:15705]\n",
        "train10=Tirukoilur[0:12000]\n",
        "test10=Tirukoilur[12000:15705]\n",
        "train11=ulundurpet[0:12000]\n",
        "test11=ulundurpet[12000:15345]\n",
        "train12=Villupuram[0:12000]\n",
        "test12=Villupuram[12000:15705]\n",
        "train13=Denkanikottai[0:12000]\n",
        "test13=Denkanikottai[12000:15705]\n",
        "train14=Hosur[0:12000]\n",
        "test14=Hosur[12000:15678]\n",
        "train15=Krishnagiri[0:12000]\n",
        "test15=Krishnagiri[12000:15705]\n",
        "train16=Marandahalli[0:12000]\n",
        "test16=Marandahalli[12000:15705]\n",
        "train17=Rayakottai[0:12000]\n",
        "test17=Rayakottai[12000:15705]\n",
        "train18=Uthangarai[0:12000]\n",
        "test18=Uthangarai[12000:15705]"
      ],
      "execution_count": 0,
      "outputs": []
    },
    {
      "cell_type": "code",
      "metadata": {
        "id": "eWdgMaVPnV7A",
        "colab_type": "code",
        "colab": {}
      },
      "source": [
        "X_train=train['Rainfall']\n",
        "X_test=test['Rainfall']\n",
        "X_train1=train1['Rainfall']\n",
        "X_test1=test1['Rainfall']\n",
        "X_train2=train2['Rainfall']\n",
        "X_test2=test2['Rainfall']\n",
        "X_train3=train3['Rainfall']\n",
        "X_test3=test3['Rainfall']\n",
        "X_train4=train4['Rainfall']\n",
        "X_test4=test4['Rainfall']\n",
        "X_train5=train5['Rainfall']\n",
        "X_test5=test5['Rainfall']\n",
        "X_train6=train6['Rainfall']\n",
        "X_test6=test6['Rainfall']\n",
        "X_train7=train7['Rainfall']\n",
        "X_test7=test7['Rainfall']\n",
        "X_train8=train8['Rainfall']\n",
        "X_test8=test8['Rainfall']\n",
        "X_train9=train9['Rainfall']\n",
        "X_test9=test9['Rainfall']\n",
        "X_train10=train10['Rainfall']\n",
        "X_test10=test10['Rainfall']\n",
        "X_train11=train11['Rainfall']\n",
        "X_test11=test11['Rainfall']\n",
        "X_train12=train12['Rainfall']\n",
        "X_test12=test12['Rainfall']\n",
        "X_train13=train13['Rainfall']\n",
        "X_test13=test13['Rainfall']\n",
        "X_train14=train14['Rainfall']\n",
        "X_test14=test14['Rainfall']\n",
        "X_train15=train15['Rainfall']\n",
        "X_test15=test15['Rainfall']\n",
        "X_train16=train16['Rainfall']\n",
        "X_test16=test16['Rainfall']\n",
        "X_train17=train17['Rainfall']\n",
        "X_test17=test17['Rainfall']\n",
        "X_train18=train18['Rainfall']\n",
        "X_test18=test18['Rainfall']\n"
      ],
      "execution_count": 0,
      "outputs": []
    },
    {
      "cell_type": "code",
      "metadata": {
        "id": "QdTZBwX0mnEs",
        "colab_type": "code",
        "colab": {}
      },
      "source": [
        "min_max_scaler = preprocessing.MinMaxScaler()\n",
        "\n",
        "x_scaled = min_max_scaler.fit_transform(X_train.values.reshape(-1,1))\n",
        "X_train = pd.DataFrame(x_scaled)\n",
        "\n",
        "x_scaled1 = min_max_scaler.fit_transform(X_train1.values.reshape(-1,1))\n",
        "X_train1 = pd.DataFrame(x_scaled1)\n",
        "\n",
        "x_scaled2 = min_max_scaler.fit_transform(X_train2.values.reshape(-1,1))\n",
        "X_train2 = pd.DataFrame(x_scaled2)\n",
        "\n",
        "x_scaled3 = min_max_scaler.fit_transform(X_train3.values.reshape(-1,1))\n",
        "X_train3 = pd.DataFrame(x_scaled3)\n",
        "\n",
        "x_scaled4 = min_max_scaler.fit_transform(X_train4.values.reshape(-1,1))\n",
        "X_train4 = pd.DataFrame(x_scaled4)\n",
        "\n",
        "x_scaled5 = min_max_scaler.fit_transform(X_train5.values.reshape(-1,1))\n",
        "X_train5 = pd.DataFrame(x_scaled5)\n",
        "\n",
        "x_scaled6 = min_max_scaler.fit_transform(X_train6.values.reshape(-1,1))\n",
        "X_train6 = pd.DataFrame(x_scaled6)\n",
        "\n",
        "x_scaled7 = min_max_scaler.fit_transform(X_train7.values.reshape(-1,1))\n",
        "X_train7 = pd.DataFrame(x_scaled7)\n",
        "\n",
        "x_scaled8 = min_max_scaler.fit_transform(X_train8.values.reshape(-1,1))\n",
        "X_train8 = pd.DataFrame(x_scaled8)\n",
        "\n",
        "x_scaled9 = min_max_scaler.fit_transform(X_train9.values.reshape(-1,1))\n",
        "X_train9 = pd.DataFrame(x_scaled9)\n",
        "\n",
        "x_scaled10 = min_max_scaler.fit_transform(X_train10.values.reshape(-1,1))\n",
        "X_train10 = pd.DataFrame(x_scaled10)\n",
        "\n",
        "x_scaled11 = min_max_scaler.fit_transform(X_train11.values.reshape(-1,1))\n",
        "X_train11 = pd.DataFrame(x_scaled11)\n",
        "\n",
        "x_scaled1112 = min_max_scaler.fit_transform(X_train12.values.reshape(-1,1))\n",
        "X_train12 = pd.DataFrame(x_scaled1112)\n",
        "\n",
        "x_scaled13 = min_max_scaler.fit_transform(X_train13.values.reshape(-1,1))\n",
        "X_train13 = pd.DataFrame(x_scaled13)\n",
        "\n",
        "x_scaled14 = min_max_scaler.fit_transform(X_train14.values.reshape(-1,1))\n",
        "X_train14 = pd.DataFrame(x_scaled14)\n",
        "\n",
        "x_scaled15 = min_max_scaler.fit_transform(X_train15.values.reshape(-1,1))\n",
        "X_train15 = pd.DataFrame(x_scaled15)\n",
        "\n",
        "x_scaled16 = min_max_scaler.fit_transform(X_train16.values.reshape(-1,1))\n",
        "X_train16 = pd.DataFrame(x_scaled16)\n",
        "\n",
        "x_scaled17 = min_max_scaler.fit_transform(X_train17.values.reshape(-1,1))\n",
        "X_train17 = pd.DataFrame(x_scaled17)\n",
        "\n",
        "x_scaled18 = min_max_scaler.fit_transform(X_train18.values.reshape(-1,1))\n",
        "X_train18 = pd.DataFrame(x_scaled18)\n",
        "\n"
      ],
      "execution_count": 0,
      "outputs": []
    },
    {
      "cell_type": "code",
      "metadata": {
        "id": "CxbM6N2-oCPd",
        "colab_type": "code",
        "colab": {}
      },
      "source": [
        "x_scaled1 = min_max_scaler.fit_transform(X_test.values.reshape(-1,1))\n",
        "X_test = pd.DataFrame(x_scaled1)\n",
        "\n",
        "x_scaled11 = min_max_scaler.fit_transform(X_test1.values.reshape(-1,1))\n",
        "X_test1 = pd.DataFrame(x_scaled11)\n",
        "\n",
        "x_scaled12 = min_max_scaler.fit_transform(X_test2.values.reshape(-1,1))\n",
        "X_test2 = pd.DataFrame(x_scaled12)\n",
        "\n",
        "x_scaled13 = min_max_scaler.fit_transform(X_test3.values.reshape(-1,1))\n",
        "X_test3 = pd.DataFrame(x_scaled13)\n",
        "\n",
        "x_scaled14 = min_max_scaler.fit_transform(X_test4.values.reshape(-1,1))\n",
        "X_test4 = pd.DataFrame(x_scaled14)\n",
        "\n",
        "x_scaled15 = min_max_scaler.fit_transform(X_test5.values.reshape(-1,1))\n",
        "X_test5 = pd.DataFrame(x_scaled15)\n",
        "\n",
        "x_scaled16 = min_max_scaler.fit_transform(X_test6.values.reshape(-1,1))\n",
        "X_test6 = pd.DataFrame(x_scaled16)\n",
        "\n",
        "x_scaled17 = min_max_scaler.fit_transform(X_test7.values.reshape(-1,1))\n",
        "X_test7 = pd.DataFrame(x_scaled17)\n",
        "\n",
        "x_scaled18 = min_max_scaler.fit_transform(X_test8.values.reshape(-1,1))\n",
        "X_test8 = pd.DataFrame(x_scaled18)\n",
        "\n",
        "x_scaled19 = min_max_scaler.fit_transform(X_test9.values.reshape(-1,1))\n",
        "X_test9 = pd.DataFrame(x_scaled19)\n",
        "\n",
        "x_scaled110 = min_max_scaler.fit_transform(X_test10.values.reshape(-1,1))\n",
        "X_test10 = pd.DataFrame(x_scaled110)\n",
        "\n",
        "x_scaled111 = min_max_scaler.fit_transform(X_test11.values.reshape(-1,1))\n",
        "X_test11 = pd.DataFrame(x_scaled111)\n",
        "\n",
        "x_scaled112 = min_max_scaler.fit_transform(X_test12.values.reshape(-1,1))\n",
        "X_test12 = pd.DataFrame(x_scaled112)\n",
        "\n",
        "x_scaled113 = min_max_scaler.fit_transform(X_test13.values.reshape(-1,1))\n",
        "X_test13 = pd.DataFrame(x_scaled113)\n",
        "\n",
        "x_scaled114 = min_max_scaler.fit_transform(X_test14.values.reshape(-1,1))\n",
        "X_test14 = pd.DataFrame(x_scaled114)\n",
        "\n",
        "x_scaled115= min_max_scaler.fit_transform(X_test15.values.reshape(-1,1))\n",
        "X_test15 = pd.DataFrame(x_scaled115)\n",
        "\n",
        "x_scaled116 = min_max_scaler.fit_transform(X_test16.values.reshape(-1,1))\n",
        "X_test16 = pd.DataFrame(x_scaled116)\n",
        "\n",
        "x_scaled117 = min_max_scaler.fit_transform(X_test17.values.reshape(-1,1))\n",
        "X_test17 = pd.DataFrame(x_scaled117)\n",
        "\n",
        "x_scaled118 = min_max_scaler.fit_transform(X_test18.values.reshape(-1,1))\n",
        "X_test18 = pd.DataFrame(x_scaled118)\n"
      ],
      "execution_count": 0,
      "outputs": []
    },
    {
      "cell_type": "code",
      "metadata": {
        "id": "VZNCwdZhrTQD",
        "colab_type": "code",
        "colab": {}
      },
      "source": [
        "in_seq = np.array([X_train[0]])\n",
        "in_seqtest1 = np.array([X_test[0]])\n",
        "\n",
        "in_seq1 = np.array([X_train1[0]])\n",
        "in_seqt11 = np.array([X_test1[0]])\n",
        "\n",
        "in_seq12 = np.array([X_train2[0]])\n",
        "in_seqt112 = np.array([X_test2[0]])\n",
        "\n",
        "in_seq13 = np.array([X_train3[0]])\n",
        "in_seqt113 = np.array([X_test3[0]])\n",
        "\n",
        "in_seq14 = np.array([X_train4[0]])\n",
        "in_seqt114 = np.array([X_test4[0]])\n",
        "\n",
        "in_seq15 = np.array([X_train5[0]])\n",
        "in_seqt115 = np.array([X_test5[0]])\n",
        "\n",
        "in_seq16 = np.array([X_train6[0]])\n",
        "in_seqt116 = np.array([X_test6[0]])\n",
        "\n",
        "in_seq17 = np.array([X_train7[0]])\n",
        "in_seqt117 = np.array([X_test7[0]])\n",
        "\n",
        "in_seq18 = np.array([X_train8[0]])\n",
        "in_seqt118 = np.array([X_test8[0]])\n",
        "\n",
        "in_seq19 = np.array([X_train9[0]])\n",
        "in_seqt119 = np.array([X_test9[0]])\n",
        "\n",
        "in_seq110 = np.array([X_train10[0]])\n",
        "in_seqt1110 = np.array([X_test10[0]])\n",
        "\n",
        "in_seq111 = np.array([X_train11[0]])\n",
        "in_seqt1111 = np.array([X_test11[0]])\n",
        "\n",
        "in_seq112 = np.array([X_train12[0]])\n",
        "in_seqt1112 = np.array([X_test12[0]])\n",
        "\n",
        "in_seq113 = np.array([X_train13[0]])\n",
        "in_seqt1113 = np.array([X_test13[0]])\n",
        "\n",
        "in_seq114 = np.array([X_train14[0]])\n",
        "in_seqt1114 = np.array([X_test14[0]])\n",
        "\n",
        "in_seq115 = np.array([X_train15[0]])\n",
        "in_seqt1115 = np.array([X_test15[0]])\n",
        "\n",
        "in_seq116 = np.array([X_train16[0]])\n",
        "in_seqt1116 = np.array([X_test16[0]])\n",
        "\n",
        "in_seq117 = np.array([X_train17[0]])\n",
        "in_seqt1117 = np.array([X_test17[0]])\n",
        "\n",
        "in_seq118 = np.array([X_train18[0]])\n",
        "in_seqt1118 = np.array([X_test18[0]])\n"
      ],
      "execution_count": 0,
      "outputs": []
    },
    {
      "cell_type": "code",
      "metadata": {
        "id": "2vtw9-GtrbhY",
        "colab_type": "code",
        "colab": {}
      },
      "source": [
        "in_seq = in_seq.reshape((12000, 1))\n",
        "in_seqtest1 = in_seqtest1.reshape((3704, 1))\n",
        "\n",
        "in_seq1 = in_seq1.reshape((12000, 1))\n",
        "in_seqt11 = in_seqt11.reshape((3705, 1))\n",
        "\n",
        "in_seq12 = in_seq12.reshape((12000, 1))\n",
        "in_seqt112 = in_seqt112.reshape((3674, 1))\n",
        "\n",
        "in_seq13 = in_seq13.reshape((12000, 1))\n",
        "in_seqt113 = in_seqt113.reshape((3704, 1))\n",
        "\n",
        "in_seq14 = in_seq14.reshape((12000, 1))\n",
        "in_seqt114 = in_seqt114.reshape((3646, 1))\n",
        "\n",
        "in_seq15 = in_seq15.reshape((12000, 1))\n",
        "in_seqt115 = in_seqt115.reshape((3705, 1))\n",
        "\n",
        "in_seq16 = in_seq16.reshape((12000, 1))\n",
        "in_seqt116 = in_seqt116.reshape((3705, 1))\n",
        "\n",
        "in_seq17 = in_seq17.reshape((12000, 1))\n",
        "in_seqt117 = in_seqt117.reshape((3705, 1))\n",
        "\n",
        "in_seq18 = in_seq18.reshape((12000, 1))\n",
        "in_seqt118 = in_seqt118.reshape((3165, 1))\n",
        "\n",
        "in_seq19 = in_seq19.reshape((12000, 1))\n",
        "in_seqt119 = in_seqt119.reshape((3705, 1))\n",
        "\n",
        "in_seq110 = in_seq110.reshape((12000, 1))\n",
        "in_seqt1110 = in_seqt1110.reshape((3705, 1))\n",
        "\n",
        "in_seq111 = in_seq111.reshape((12000, 1))\n",
        "in_seqt1111 = in_seqt1111.reshape((3345, 1))\n",
        "\n",
        "in_seq112 = in_seq112.reshape((12000, 1))\n",
        "in_seqt1112 = in_seqt1112.reshape((3705, 1))\n",
        "\n",
        "in_seq113 = in_seq113.reshape((12000, 1))\n",
        "in_seqt1113 = in_seqt1113.reshape((3705, 1))\n",
        "\n",
        "in_seq114 = in_seq114.reshape((12000, 1))\n",
        "in_seqt1114 = in_seqt1114.reshape((3678, 1))\n",
        "\n",
        "in_seq115 = in_seq115.reshape((12000, 1))\n",
        "in_seqt1115 = in_seqt1115.reshape((3705, 1))\n",
        "\n",
        "in_seq116 = in_seq116.reshape((12000, 1))\n",
        "in_seqt1116 = in_seqt1116.reshape((3705, 1))\n",
        "\n",
        "in_seq117 = in_seq117.reshape((12000, 1))\n",
        "in_seqt1117 = in_seqt1117.reshape((3705, 1))\n",
        "\n",
        "in_seq118 = in_seq118.reshape((12000, 1))\n",
        "in_seqt1118 = in_seqt1118.reshape((3704, 1))\n",
        "\n"
      ],
      "execution_count": 0,
      "outputs": []
    },
    {
      "cell_type": "code",
      "metadata": {
        "id": "dcthfPpSoN2u",
        "colab_type": "code",
        "colab": {}
      },
      "source": [
        "def split_sequence(sequence, n_steps):\n",
        "\tX, y = list(), list()\n",
        "\tfor i in range(len(sequence)):\n",
        "\t\t# find the end of this pattern\n",
        "\t\tend_ix = i + n_steps\n",
        "\t\t# check if we are beyond the sequence\n",
        "\t\tif end_ix > len(sequence)-1:\n",
        "\t\t\tbreak\n",
        "\t\t# gather input and output parts of the pattern\n",
        "\t\tseq_x, seq_y = sequence[i:end_ix], sequence[end_ix]\n",
        "\t\tX.append(seq_x)\n",
        "\t\ty.append(seq_y)\n",
        "\treturn np.array(X), np.array(y)"
      ],
      "execution_count": 0,
      "outputs": []
    },
    {
      "cell_type": "code",
      "metadata": {
        "id": "NLCLOXnyptMN",
        "colab_type": "code",
        "colab": {}
      },
      "source": [
        "cuddataset1 = hstack((in_seqtest1))\n",
        "cuddataset = hstack((in_seq))\n",
        "\n",
        "pandataset1 = hstack((in_seqt11))\n",
        "pandataset = hstack((in_seq1))\n",
        "\n",
        "dhadataset1 = hstack((in_seqt112))\n",
        "dhadataset = hstack((in_seq12))\n",
        "\n",
        "hardataset1 = hstack((in_seqt113))\n",
        "hardataset = hstack((in_seq13))\n",
        "\n",
        "paldataset1 = hstack((in_seqt114))\n",
        "paldataset = hstack((in_seq14))\n",
        "\n",
        "pendataset1 = hstack((in_seqt115))\n",
        "pendataset = hstack((in_seq15))\n",
        "\n",
        "chedataset1 = hstack((in_seqt116))\n",
        "chedataset = hstack((in_seq16))\n",
        "\n",
        "satdataset1 = hstack((in_seqt117))\n",
        "satdataset = hstack((in_seq17))\n",
        "\n",
        "Tirdataset1 = hstack((in_seqt118))\n",
        "Tirdataset = hstack((in_seq18))\n",
        "\n",
        "Sandataset1 = hstack((in_seqt119))\n",
        "Sandataset = hstack((in_seq19))\n",
        "\n",
        "Tirudataset1 = hstack((in_seqt1110))\n",
        "Tirudataset = hstack((in_seq110))\n",
        "\n",
        "uludataset1 = hstack((in_seqt1111))\n",
        "uludataset = hstack((in_seq111))\n",
        "\n",
        "vildataset1 = hstack((in_seqt1112))\n",
        "vildataset = hstack((in_seq112))\n",
        "\n",
        "bardataset1 = hstack((in_seqt1113))\n",
        "bardataset = hstack((in_seq113))\n",
        "\n",
        "Dendataset1 = hstack((in_seqt1114))\n",
        "Dendataset = hstack((in_seq114))\n",
        "\n",
        "kridataset1 = hstack((in_seqt1115))\n",
        "kridataset = hstack((in_seq115))\n",
        "\n",
        "mardataset1 = hstack((in_seqt1116))\n",
        "mardataset = hstack((in_seq116))\n",
        "\n",
        "raydataset1 = hstack((in_seqt1117))\n",
        "raydataset = hstack((in_seq117))\n",
        "\n",
        "uthdataset1 = hstack((in_seqt1118))\n",
        "uthdataset = hstack((in_seq118))\n"
      ],
      "execution_count": 0,
      "outputs": []
    },
    {
      "cell_type": "code",
      "metadata": {
        "id": "VXevl6Wdrz2e",
        "colab_type": "code",
        "colab": {}
      },
      "source": [
        "n_steps = 3\n",
        "# convert into input/output\n",
        "X, y = split_sequence(cuddataset, n_steps)\n",
        "X1 , y1 = split_sequence(pandataset, n_steps)\n",
        "X2 , y2 = split_sequence(dhadataset, n_steps)\n",
        "X3 , y3 = split_sequence(hardataset, n_steps)\n",
        "X4 , y4 = split_sequence(paldataset, n_steps)\n",
        "X5 , y5 = split_sequence(pendataset, n_steps)\n",
        "X6, y6 = split_sequence(chedataset, n_steps)\n",
        "X7, y7 = split_sequence(satdataset, n_steps)\n",
        "X8, y8 = split_sequence(Tirdataset, n_steps)\n",
        "X9, y9 = split_sequence(Sandataset, n_steps)\n",
        "X10, y10 = split_sequence(Tirudataset, n_steps)\n",
        "X11, y11 = split_sequence(uludataset, n_steps)\n",
        "X12 , y12 = split_sequence(vildataset, n_steps)\n",
        "X13, y13 = split_sequence(bardataset, n_steps)\n",
        "X14, y14 = split_sequence(Dendataset, n_steps)\n",
        "X15, y15 = split_sequence(kridataset, n_steps)\n",
        "X16, y16 = split_sequence(mardataset, n_steps)\n",
        "X17, y17 = split_sequence(raydataset, n_steps)\n",
        "X18, y18 = split_sequence(uthdataset, n_steps)"
      ],
      "execution_count": 0,
      "outputs": []
    },
    {
      "cell_type": "code",
      "metadata": {
        "id": "CcgWCIqIr44M",
        "colab_type": "code",
        "colab": {}
      },
      "source": [
        "X_test,y_test = split_sequence(cuddataset, n_steps)\n",
        "X_test1,y_test1 = split_sequence(pandataset, n_steps)\n",
        "X_test2,y_test2= split_sequence(dhadataset, n_steps)\n",
        "X_test3,y_test3 = split_sequence(hardataset, n_steps)\n",
        "X_test4,y_test4 = split_sequence(paldataset, n_steps)\n",
        "X_test5,y_test5 = split_sequence(pendataset, n_steps)\n",
        "X_test6,y_test6 = split_sequence(chedataset, n_steps)\n",
        "X_test7,y_test7 = split_sequence(satdataset, n_steps)\n",
        "X_test8,y_test8 = split_sequence(Tirdataset, n_steps)\n",
        "X_test9,y_test9 = split_sequence(Sandataset, n_steps)\n",
        "X_test10,y_test10 = split_sequence(Tirudataset, n_steps)\n",
        "X_test11,y_test11= split_sequence(uludataset, n_steps)\n",
        "X_test12,y_test12 = split_sequence(vildataset, n_steps)\n",
        "X_test13,y_test13 = split_sequence(bardataset, n_steps)\n",
        "X_test14,y_test14 = split_sequence(Dendataset, n_steps)\n",
        "X_test15,y_test15 = split_sequence(kridataset, n_steps)\n",
        "X_test16,y_test16 = split_sequence(mardataset, n_steps)\n",
        "X_test17,y_test17= split_sequence(raydataset, n_steps)\n",
        "X_test18,y_test18= split_sequence(uthdataset, n_steps)"
      ],
      "execution_count": 0,
      "outputs": []
    },
    {
      "cell_type": "code",
      "metadata": {
        "id": "lZ26OGqHr95T",
        "colab_type": "code",
        "colab": {
          "base_uri": "https://localhost:8080/",
          "height": 87
        },
        "outputId": "a126724e-6cc5-4bec-d2c6-914ae94fe318"
      },
      "source": [
        "model = keras.Sequential()\n",
        "model.add(keras.layers.LSTM(10, activation='relu', input_shape=(n_steps, 1)))\n",
        "model.add(keras.layers.Dense(1))\n",
        "model.compile(optimizer='adam', loss='mse',metrics=['accuracy'])"
      ],
      "execution_count": 18,
      "outputs": [
        {
          "output_type": "stream",
          "text": [
            "WARNING:tensorflow:From /tensorflow-1.15.0/python3.6/tensorflow_core/python/ops/resource_variable_ops.py:1630: calling BaseResourceVariable.__init__ (from tensorflow.python.ops.resource_variable_ops) with constraint is deprecated and will be removed in a future version.\n",
            "Instructions for updating:\n",
            "If using Keras pass *_constraint arguments to layers.\n"
          ],
          "name": "stdout"
        }
      ]
    },
    {
      "cell_type": "code",
      "metadata": {
        "id": "HUwsDYObsG7O",
        "colab_type": "code",
        "colab": {}
      },
      "source": [
        "X = X.reshape((X.shape[0], X.shape[1], 1))\n",
        "X1 = X1.reshape((X1.shape[0], X1.shape[1], 1))\n",
        "X2 = X2.reshape((X2.shape[0], X2.shape[1], 1))\n",
        "X3 = X3.reshape((X3.shape[0], X3.shape[1], 1))\n",
        "X4 = X4.reshape((X4.shape[0], X4.shape[1], 1))\n",
        "X5 = X5.reshape((X5.shape[0], X5.shape[1], 1))\n",
        "X6 = X6.reshape((X6.shape[0], X6.shape[1], 1))\n",
        "X7 = X7.reshape((X7.shape[0], X7.shape[1], 1))\n",
        "X8 = X8.reshape((X8.shape[0], X8.shape[1], 1))\n",
        "X9 = X9.reshape((X9.shape[0], X9.shape[1], 1))\n",
        "X10 = X10.reshape((X10.shape[0], X10.shape[1], 1))\n",
        "X11 = X11.reshape((X11.shape[0], X11.shape[1], 1))\n",
        "X12 = X12.reshape((X12.shape[0], X12.shape[1], 1))\n",
        "X13 = X13.reshape((X13.shape[0], X13.shape[1], 1))\n",
        "X14 = X14.reshape((X14.shape[0], X14.shape[1], 1))\n",
        "X15 = X15.reshape((X15.shape[0], X15.shape[1], 1))\n",
        "X16 = X16.reshape((X16.shape[0], X16.shape[1], 1))\n",
        "X17 = X17.reshape((X17.shape[0], X17.shape[1], 1))\n",
        "X18 = X18.reshape((X18.shape[0], X18.shape[1], 1))\n"
      ],
      "execution_count": 0,
      "outputs": []
    },
    {
      "cell_type": "code",
      "metadata": {
        "id": "Y3GPbJFSslfM",
        "colab_type": "code",
        "colab": {}
      },
      "source": [
        "X_test=X_test.reshape((X_test.shape[0], X_test.shape[1], 1))\n",
        "X_test1=X_test1.reshape((X_test1.shape[0], X_test1.shape[1], 1))\n",
        "X_test2=X_test2.reshape((X_test2.shape[0], X_test2.shape[1], 1))\n",
        "X_test3=X_test3.reshape((X_test3.shape[0], X_test3.shape[1], 1))\n",
        "X_test4=X_test4.reshape((X_test4.shape[0], X_test4.shape[1], 1))\n",
        "X_test5=X_test5.reshape((X_test5.shape[0], X_test5.shape[1], 1))\n",
        "X_test6=X_test6.reshape((X_test6.shape[0], X_test6.shape[1], 1))\n",
        "X_test7=X_test7.reshape((X_test7.shape[0], X_test7.shape[1], 1))\n",
        "X_test8=X_test8.reshape((X_test8.shape[0], X_test8.shape[1], 1))\n",
        "X_test9=X_test9.reshape((X_test9.shape[0], X_test9.shape[1], 1))\n",
        "X_test10=X_test10.reshape((X_test10.shape[0], X_test10.shape[1], 1))\n",
        "X_test11=X_test11.reshape((X_test11.shape[0], X_test11.shape[1], 1))\n",
        "X_test12=X_test12.reshape((X_test12.shape[0], X_test12.shape[1], 1))\n",
        "X_test13=X_test13.reshape((X_test13.shape[0], X_test13.shape[1], 1))\n",
        "X_test14=X_test14.reshape((X_test14.shape[0], X_test14.shape[1], 1))\n",
        "X_test15=X_test15.reshape((X_test15.shape[0], X_test15.shape[1], 1))\n",
        "\n",
        "X_test16=X_test16.reshape((X_test16.shape[0], X_test16.shape[1], 1))\n",
        "X_test17=X_test17.reshape((X_test17.shape[0], X_test17.shape[1], 1))\n",
        "X_test18=X_test18.reshape((X_test18.shape[0], X_test18.shape[1], 1))\n"
      ],
      "execution_count": 0,
      "outputs": []
    },
    {
      "cell_type": "code",
      "metadata": {
        "id": "CJ0AjGmYsCUs",
        "colab_type": "code",
        "outputId": "a6b7eba9-4c55-4af9-e94a-5ccf5c60fdfb",
        "colab": {
          "base_uri": "https://localhost:8080/",
          "height": 1000
        }
      },
      "source": [
        "model.fit(X, y, validation_data=(X_test,y_test),epochs=50)"
      ],
      "execution_count": 21,
      "outputs": [
        {
          "output_type": "stream",
          "text": [
            "WARNING:tensorflow:From /tensorflow-1.15.0/python3.6/tensorflow_core/python/ops/math_grad.py:1424: where (from tensorflow.python.ops.array_ops) is deprecated and will be removed in a future version.\n",
            "Instructions for updating:\n",
            "Use tf.where in 2.0, which has the same broadcast rule as np.where\n",
            "Train on 11997 samples, validate on 11997 samples\n",
            "Epoch 1/50\n",
            "11997/11997 [==============================] - 3s 212us/sample - loss: 0.0012 - acc: 0.7724 - val_loss: 0.0011 - val_acc: 0.7724\n",
            "Epoch 2/50\n",
            "11997/11997 [==============================] - 2s 153us/sample - loss: 0.0011 - acc: 0.7724 - val_loss: 0.0011 - val_acc: 0.7724\n",
            "Epoch 3/50\n",
            "11997/11997 [==============================] - 2s 160us/sample - loss: 0.0011 - acc: 0.7724 - val_loss: 0.0011 - val_acc: 0.7724\n",
            "Epoch 4/50\n",
            "11997/11997 [==============================] - 2s 160us/sample - loss: 0.0011 - acc: 0.7724 - val_loss: 0.0011 - val_acc: 0.7724\n",
            "Epoch 5/50\n",
            "11997/11997 [==============================] - 2s 152us/sample - loss: 0.0011 - acc: 0.7724 - val_loss: 0.0011 - val_acc: 0.7724\n",
            "Epoch 6/50\n",
            "11997/11997 [==============================] - 2s 145us/sample - loss: 0.0011 - acc: 0.7724 - val_loss: 0.0011 - val_acc: 0.7724\n",
            "Epoch 7/50\n",
            "11997/11997 [==============================] - 2s 148us/sample - loss: 0.0011 - acc: 0.7724 - val_loss: 0.0011 - val_acc: 0.7724\n",
            "Epoch 8/50\n",
            "11997/11997 [==============================] - 2s 154us/sample - loss: 0.0011 - acc: 0.7724 - val_loss: 0.0011 - val_acc: 0.7724\n",
            "Epoch 9/50\n",
            "11997/11997 [==============================] - 2s 150us/sample - loss: 0.0011 - acc: 0.7724 - val_loss: 0.0011 - val_acc: 0.7724\n",
            "Epoch 10/50\n",
            "11997/11997 [==============================] - 2s 149us/sample - loss: 0.0011 - acc: 0.7724 - val_loss: 0.0011 - val_acc: 0.7724\n",
            "Epoch 11/50\n",
            "11997/11997 [==============================] - 2s 153us/sample - loss: 0.0011 - acc: 0.7724 - val_loss: 0.0011 - val_acc: 0.7724\n",
            "Epoch 12/50\n",
            "11997/11997 [==============================] - 2s 151us/sample - loss: 0.0011 - acc: 0.7724 - val_loss: 0.0011 - val_acc: 0.7724\n",
            "Epoch 13/50\n",
            "11997/11997 [==============================] - 2s 153us/sample - loss: 0.0011 - acc: 0.7724 - val_loss: 0.0011 - val_acc: 0.7724\n",
            "Epoch 14/50\n",
            "11997/11997 [==============================] - 2s 160us/sample - loss: 0.0011 - acc: 0.7724 - val_loss: 0.0011 - val_acc: 0.7724\n",
            "Epoch 15/50\n",
            "11997/11997 [==============================] - 2s 163us/sample - loss: 0.0011 - acc: 0.7724 - val_loss: 0.0011 - val_acc: 0.7724\n",
            "Epoch 16/50\n",
            "11997/11997 [==============================] - 2s 159us/sample - loss: 0.0011 - acc: 0.7724 - val_loss: 0.0011 - val_acc: 0.7724\n",
            "Epoch 17/50\n",
            "11997/11997 [==============================] - 2s 153us/sample - loss: 0.0011 - acc: 0.7724 - val_loss: 0.0011 - val_acc: 0.7724\n",
            "Epoch 18/50\n",
            "11997/11997 [==============================] - 2s 153us/sample - loss: 0.0011 - acc: 0.7724 - val_loss: 0.0011 - val_acc: 0.7724\n",
            "Epoch 19/50\n",
            "11997/11997 [==============================] - 2s 154us/sample - loss: 0.0011 - acc: 0.7724 - val_loss: 0.0011 - val_acc: 0.7724\n",
            "Epoch 20/50\n",
            "11997/11997 [==============================] - 2s 155us/sample - loss: 0.0011 - acc: 0.7724 - val_loss: 0.0011 - val_acc: 0.7724\n",
            "Epoch 21/50\n",
            "11997/11997 [==============================] - 2s 153us/sample - loss: 0.0011 - acc: 0.7724 - val_loss: 0.0011 - val_acc: 0.7724\n",
            "Epoch 22/50\n",
            "11997/11997 [==============================] - 2s 152us/sample - loss: 0.0011 - acc: 0.7724 - val_loss: 0.0011 - val_acc: 0.7724\n",
            "Epoch 23/50\n",
            "11997/11997 [==============================] - 2s 153us/sample - loss: 0.0011 - acc: 0.7724 - val_loss: 0.0011 - val_acc: 0.7724\n",
            "Epoch 24/50\n",
            "11997/11997 [==============================] - 2s 152us/sample - loss: 0.0011 - acc: 0.7724 - val_loss: 0.0011 - val_acc: 0.7724\n",
            "Epoch 25/50\n",
            "11997/11997 [==============================] - 2s 153us/sample - loss: 0.0011 - acc: 0.7724 - val_loss: 0.0011 - val_acc: 0.7724\n",
            "Epoch 26/50\n",
            "11997/11997 [==============================] - 2s 153us/sample - loss: 0.0011 - acc: 0.7724 - val_loss: 0.0011 - val_acc: 0.7724\n",
            "Epoch 27/50\n",
            "11997/11997 [==============================] - 2s 156us/sample - loss: 0.0011 - acc: 0.7724 - val_loss: 0.0011 - val_acc: 0.7724\n",
            "Epoch 28/50\n",
            "11997/11997 [==============================] - 2s 156us/sample - loss: 0.0011 - acc: 0.7724 - val_loss: 0.0011 - val_acc: 0.7724\n",
            "Epoch 29/50\n",
            "11997/11997 [==============================] - 2s 157us/sample - loss: 0.0011 - acc: 0.7724 - val_loss: 0.0011 - val_acc: 0.7724\n",
            "Epoch 30/50\n",
            "11997/11997 [==============================] - 2s 155us/sample - loss: 0.0011 - acc: 0.7724 - val_loss: 0.0011 - val_acc: 0.7724\n",
            "Epoch 31/50\n",
            "11997/11997 [==============================] - 2s 151us/sample - loss: 0.0011 - acc: 0.7724 - val_loss: 0.0011 - val_acc: 0.7724\n",
            "Epoch 32/50\n",
            "11997/11997 [==============================] - 2s 154us/sample - loss: 0.0011 - acc: 0.7724 - val_loss: 0.0011 - val_acc: 0.7724\n",
            "Epoch 33/50\n",
            "11997/11997 [==============================] - 2s 157us/sample - loss: 0.0011 - acc: 0.7724 - val_loss: 0.0011 - val_acc: 0.7724\n",
            "Epoch 34/50\n",
            "11997/11997 [==============================] - 2s 151us/sample - loss: 0.0011 - acc: 0.7724 - val_loss: 0.0011 - val_acc: 0.7724\n",
            "Epoch 35/50\n",
            "11997/11997 [==============================] - 2s 150us/sample - loss: 0.0011 - acc: 0.7724 - val_loss: 0.0011 - val_acc: 0.7724\n",
            "Epoch 36/50\n",
            "11997/11997 [==============================] - 2s 152us/sample - loss: 0.0011 - acc: 0.7724 - val_loss: 0.0011 - val_acc: 0.7724\n",
            "Epoch 37/50\n",
            "11997/11997 [==============================] - 2s 149us/sample - loss: 0.0011 - acc: 0.7724 - val_loss: 0.0011 - val_acc: 0.7724\n",
            "Epoch 38/50\n",
            "11997/11997 [==============================] - 2s 155us/sample - loss: 0.0011 - acc: 0.7724 - val_loss: 0.0011 - val_acc: 0.7724\n",
            "Epoch 39/50\n",
            "11997/11997 [==============================] - 2s 152us/sample - loss: 0.0011 - acc: 0.7724 - val_loss: 0.0011 - val_acc: 0.7724\n",
            "Epoch 40/50\n",
            "11997/11997 [==============================] - 2s 146us/sample - loss: 0.0011 - acc: 0.7724 - val_loss: 0.0011 - val_acc: 0.7724\n",
            "Epoch 41/50\n",
            "11997/11997 [==============================] - 2s 149us/sample - loss: 0.0011 - acc: 0.7724 - val_loss: 0.0011 - val_acc: 0.7724\n",
            "Epoch 42/50\n",
            "11997/11997 [==============================] - 2s 149us/sample - loss: 0.0011 - acc: 0.7724 - val_loss: 0.0011 - val_acc: 0.7724\n",
            "Epoch 43/50\n",
            "11997/11997 [==============================] - 2s 156us/sample - loss: 0.0011 - acc: 0.7724 - val_loss: 0.0011 - val_acc: 0.7724\n",
            "Epoch 44/50\n",
            "11997/11997 [==============================] - 2s 154us/sample - loss: 0.0011 - acc: 0.7724 - val_loss: 0.0011 - val_acc: 0.7724\n",
            "Epoch 45/50\n",
            "11997/11997 [==============================] - 2s 151us/sample - loss: 0.0011 - acc: 0.7724 - val_loss: 0.0011 - val_acc: 0.7724\n",
            "Epoch 46/50\n",
            "11997/11997 [==============================] - 2s 153us/sample - loss: 0.0011 - acc: 0.7724 - val_loss: 0.0011 - val_acc: 0.7724\n",
            "Epoch 47/50\n",
            "11997/11997 [==============================] - 2s 154us/sample - loss: 0.0011 - acc: 0.7724 - val_loss: 0.0011 - val_acc: 0.7724\n",
            "Epoch 48/50\n",
            "11997/11997 [==============================] - 2s 146us/sample - loss: 0.0011 - acc: 0.7724 - val_loss: 0.0011 - val_acc: 0.7724\n",
            "Epoch 49/50\n",
            "11997/11997 [==============================] - 2s 151us/sample - loss: 0.0011 - acc: 0.7724 - val_loss: 0.0011 - val_acc: 0.7724\n",
            "Epoch 50/50\n",
            "11997/11997 [==============================] - 2s 153us/sample - loss: 0.0011 - acc: 0.7724 - val_loss: 0.0011 - val_acc: 0.7724\n"
          ],
          "name": "stdout"
        },
        {
          "output_type": "execute_result",
          "data": {
            "text/plain": [
              "<tensorflow.python.keras.callbacks.History at 0x7fdfab71ef28>"
            ]
          },
          "metadata": {
            "tags": []
          },
          "execution_count": 21
        }
      ]
    },
    {
      "cell_type": "code",
      "metadata": {
        "id": "qW849L-NsFhU",
        "colab_type": "code",
        "outputId": "19ebf9c7-d513-41a7-a28c-c4c8dd477a3d",
        "colab": {
          "base_uri": "https://localhost:8080/",
          "height": 50
        }
      },
      "source": [
        "ypred = model.predict(X)\n",
        "s=pd.DataFrame(ypred)\n",
        "s1=pd.DataFrame(y)\n",
        "s1.corrwith(s, axis = 0) "
      ],
      "execution_count": 22,
      "outputs": [
        {
          "output_type": "execute_result",
          "data": {
            "text/plain": [
              "0    0.408719\n",
              "dtype: float64"
            ]
          },
          "metadata": {
            "tags": []
          },
          "execution_count": 22
        }
      ]
    },
    {
      "cell_type": "code",
      "metadata": {
        "id": "noGIobrktgmd",
        "colab_type": "code",
        "outputId": "f4ef3cd4-773b-4d26-f72e-2ec3cde4a618",
        "colab": {
          "base_uri": "https://localhost:8080/",
          "height": 50
        }
      },
      "source": [
        "ypred1=model.predict(X_test)\n",
        "s=pd.DataFrame(ypred1)\n",
        "s1=pd.DataFrame(y_test)\n",
        "s1.corrwith(s,axis=0)"
      ],
      "execution_count": 23,
      "outputs": [
        {
          "output_type": "execute_result",
          "data": {
            "text/plain": [
              "0    0.408719\n",
              "dtype: float64"
            ]
          },
          "metadata": {
            "tags": []
          },
          "execution_count": 23
        }
      ]
    },
    {
      "cell_type": "code",
      "metadata": {
        "id": "KAqZPa33aTfo",
        "colab_type": "code",
        "colab": {}
      },
      "source": [
        "from sklearn.metrics import mean_absolute_error"
      ],
      "execution_count": 0,
      "outputs": []
    },
    {
      "cell_type": "code",
      "metadata": {
        "id": "GpEoHv92aYGB",
        "colab_type": "code",
        "colab": {
          "base_uri": "https://localhost:8080/",
          "height": 34
        },
        "outputId": "4f78038e-755a-4f4d-8434-ce9f9ab509da"
      },
      "source": [
        "mean_absolute_error(y,ypred)"
      ],
      "execution_count": 25,
      "outputs": [
        {
          "output_type": "execute_result",
          "data": {
            "text/plain": [
              "0.012910455435808295"
            ]
          },
          "metadata": {
            "tags": []
          },
          "execution_count": 25
        }
      ]
    },
    {
      "cell_type": "code",
      "metadata": {
        "id": "UutDAI0Oaah6",
        "colab_type": "code",
        "colab": {
          "base_uri": "https://localhost:8080/",
          "height": 34
        },
        "outputId": "3c3bf3d4-3a01-4233-bad0-23a5d51e83c8"
      },
      "source": [
        "mean_absolute_error(y_test,ypred1)"
      ],
      "execution_count": 26,
      "outputs": [
        {
          "output_type": "execute_result",
          "data": {
            "text/plain": [
              "0.012910455435808295"
            ]
          },
          "metadata": {
            "tags": []
          },
          "execution_count": 26
        }
      ]
    },
    {
      "cell_type": "code",
      "metadata": {
        "id": "xg8kvCOYtkrq",
        "colab_type": "code",
        "outputId": "beadaa3c-1c7b-4988-f1de-2a5f7e370d86",
        "colab": {
          "base_uri": "https://localhost:8080/",
          "height": 34
        }
      },
      "source": [
        " from sklearn.metrics import r2_score\n",
        " r2_score(y,ypred)"
      ],
      "execution_count": 27,
      "outputs": [
        {
          "output_type": "execute_result",
          "data": {
            "text/plain": [
              "0.16661238921609"
            ]
          },
          "metadata": {
            "tags": []
          },
          "execution_count": 27
        }
      ]
    },
    {
      "cell_type": "code",
      "metadata": {
        "id": "j7rV7tCmtn70",
        "colab_type": "code",
        "outputId": "4bfc4313-c591-4b2a-a866-59480a40fb47",
        "colab": {
          "base_uri": "https://localhost:8080/",
          "height": 34
        }
      },
      "source": [
        "r2_score(y_test,ypred1)"
      ],
      "execution_count": 28,
      "outputs": [
        {
          "output_type": "execute_result",
          "data": {
            "text/plain": [
              "0.16661238921609"
            ]
          },
          "metadata": {
            "tags": []
          },
          "execution_count": 28
        }
      ]
    },
    {
      "cell_type": "code",
      "metadata": {
        "id": "RpGZF90Nw8oU",
        "colab_type": "code",
        "outputId": "f64b8066-a18e-4187-90fd-ca1172a74377",
        "colab": {
          "base_uri": "https://localhost:8080/",
          "height": 1000
        }
      },
      "source": [
        "model.fit(X1, y1, validation_data=(X_test1,y_test1),epochs=50)"
      ],
      "execution_count": 29,
      "outputs": [
        {
          "output_type": "stream",
          "text": [
            "Train on 11997 samples, validate on 11997 samples\n",
            "Epoch 1/50\n",
            "11997/11997 [==============================] - 2s 157us/sample - loss: 0.0015 - acc: 0.8519 - val_loss: 0.0015 - val_acc: 0.8519\n",
            "Epoch 2/50\n",
            "11997/11997 [==============================] - 2s 160us/sample - loss: 0.0015 - acc: 0.8519 - val_loss: 0.0014 - val_acc: 0.8519\n",
            "Epoch 3/50\n",
            "11997/11997 [==============================] - 2s 175us/sample - loss: 0.0015 - acc: 0.8519 - val_loss: 0.0014 - val_acc: 0.8519\n",
            "Epoch 4/50\n",
            "11997/11997 [==============================] - 2s 175us/sample - loss: 0.0015 - acc: 0.8519 - val_loss: 0.0014 - val_acc: 0.8519\n",
            "Epoch 5/50\n",
            "11997/11997 [==============================] - 2s 174us/sample - loss: 0.0014 - acc: 0.8519 - val_loss: 0.0014 - val_acc: 0.8519\n",
            "Epoch 6/50\n",
            "11997/11997 [==============================] - 2s 175us/sample - loss: 0.0014 - acc: 0.8519 - val_loss: 0.0014 - val_acc: 0.8519\n",
            "Epoch 7/50\n",
            "11997/11997 [==============================] - 2s 169us/sample - loss: 0.0014 - acc: 0.8519 - val_loss: 0.0014 - val_acc: 0.8519\n",
            "Epoch 8/50\n",
            "11997/11997 [==============================] - 2s 157us/sample - loss: 0.0015 - acc: 0.8519 - val_loss: 0.0014 - val_acc: 0.8519\n",
            "Epoch 9/50\n",
            "11997/11997 [==============================] - 2s 159us/sample - loss: 0.0014 - acc: 0.8519 - val_loss: 0.0014 - val_acc: 0.8519\n",
            "Epoch 10/50\n",
            "11997/11997 [==============================] - 2s 151us/sample - loss: 0.0015 - acc: 0.8519 - val_loss: 0.0014 - val_acc: 0.8519\n",
            "Epoch 11/50\n",
            "11997/11997 [==============================] - 2s 147us/sample - loss: 0.0014 - acc: 0.8519 - val_loss: 0.0015 - val_acc: 0.8519\n",
            "Epoch 12/50\n",
            "11997/11997 [==============================] - 2s 150us/sample - loss: 0.0014 - acc: 0.8519 - val_loss: 0.0014 - val_acc: 0.8519\n",
            "Epoch 13/50\n",
            "11997/11997 [==============================] - 2s 152us/sample - loss: 0.0014 - acc: 0.8519 - val_loss: 0.0014 - val_acc: 0.8519\n",
            "Epoch 14/50\n",
            "11997/11997 [==============================] - 2s 149us/sample - loss: 0.0014 - acc: 0.8519 - val_loss: 0.0014 - val_acc: 0.8519\n",
            "Epoch 15/50\n",
            "11997/11997 [==============================] - 2s 150us/sample - loss: 0.0014 - acc: 0.8519 - val_loss: 0.0014 - val_acc: 0.8519\n",
            "Epoch 16/50\n",
            "11997/11997 [==============================] - 2s 151us/sample - loss: 0.0014 - acc: 0.8519 - val_loss: 0.0014 - val_acc: 0.8519\n",
            "Epoch 17/50\n",
            "11997/11997 [==============================] - 2s 147us/sample - loss: 0.0014 - acc: 0.8519 - val_loss: 0.0014 - val_acc: 0.8519\n",
            "Epoch 18/50\n",
            "11997/11997 [==============================] - 2s 148us/sample - loss: 0.0014 - acc: 0.8519 - val_loss: 0.0014 - val_acc: 0.8519\n",
            "Epoch 19/50\n",
            "11997/11997 [==============================] - 2s 150us/sample - loss: 0.0014 - acc: 0.8519 - val_loss: 0.0014 - val_acc: 0.8519\n",
            "Epoch 20/50\n",
            "11997/11997 [==============================] - 2s 148us/sample - loss: 0.0014 - acc: 0.8519 - val_loss: 0.0015 - val_acc: 0.8519\n",
            "Epoch 21/50\n",
            "11997/11997 [==============================] - 2s 147us/sample - loss: 0.0014 - acc: 0.8519 - val_loss: 0.0014 - val_acc: 0.8519\n",
            "Epoch 22/50\n",
            "11997/11997 [==============================] - 2s 149us/sample - loss: 0.0014 - acc: 0.8519 - val_loss: 0.0014 - val_acc: 0.8519\n",
            "Epoch 23/50\n",
            "11997/11997 [==============================] - 2s 149us/sample - loss: 0.0014 - acc: 0.8519 - val_loss: 0.0014 - val_acc: 0.8519\n",
            "Epoch 24/50\n",
            "11997/11997 [==============================] - 2s 149us/sample - loss: 0.0014 - acc: 0.8519 - val_loss: 0.0014 - val_acc: 0.8519\n",
            "Epoch 25/50\n",
            "11997/11997 [==============================] - 2s 145us/sample - loss: 0.0014 - acc: 0.8519 - val_loss: 0.0014 - val_acc: 0.8519\n",
            "Epoch 26/50\n",
            "11997/11997 [==============================] - 2s 147us/sample - loss: 0.0014 - acc: 0.8519 - val_loss: 0.0014 - val_acc: 0.8519\n",
            "Epoch 27/50\n",
            "11997/11997 [==============================] - 2s 147us/sample - loss: 0.0014 - acc: 0.8519 - val_loss: 0.0014 - val_acc: 0.8519\n",
            "Epoch 28/50\n",
            "11997/11997 [==============================] - 2s 147us/sample - loss: 0.0014 - acc: 0.8519 - val_loss: 0.0014 - val_acc: 0.8519\n",
            "Epoch 29/50\n",
            "11997/11997 [==============================] - 2s 151us/sample - loss: 0.0014 - acc: 0.8519 - val_loss: 0.0014 - val_acc: 0.8519\n",
            "Epoch 30/50\n",
            "11997/11997 [==============================] - 2s 149us/sample - loss: 0.0014 - acc: 0.8519 - val_loss: 0.0014 - val_acc: 0.8519\n",
            "Epoch 31/50\n",
            "11997/11997 [==============================] - 2s 147us/sample - loss: 0.0014 - acc: 0.8519 - val_loss: 0.0014 - val_acc: 0.8519\n",
            "Epoch 32/50\n",
            "11997/11997 [==============================] - 2s 150us/sample - loss: 0.0014 - acc: 0.8519 - val_loss: 0.0014 - val_acc: 0.8519\n",
            "Epoch 33/50\n",
            "11997/11997 [==============================] - 2s 149us/sample - loss: 0.0014 - acc: 0.8519 - val_loss: 0.0014 - val_acc: 0.8519\n",
            "Epoch 34/50\n",
            "11997/11997 [==============================] - 2s 153us/sample - loss: 0.0014 - acc: 0.8519 - val_loss: 0.0014 - val_acc: 0.8519\n",
            "Epoch 35/50\n",
            "11997/11997 [==============================] - 2s 159us/sample - loss: 0.0014 - acc: 0.8519 - val_loss: 0.0014 - val_acc: 0.8519\n",
            "Epoch 36/50\n",
            "11997/11997 [==============================] - 2s 153us/sample - loss: 0.0014 - acc: 0.8519 - val_loss: 0.0014 - val_acc: 0.8519\n",
            "Epoch 37/50\n",
            "11997/11997 [==============================] - 2s 153us/sample - loss: 0.0014 - acc: 0.8519 - val_loss: 0.0014 - val_acc: 0.8519\n",
            "Epoch 38/50\n",
            "11997/11997 [==============================] - 2s 152us/sample - loss: 0.0014 - acc: 0.8519 - val_loss: 0.0014 - val_acc: 0.8519\n",
            "Epoch 39/50\n",
            "11997/11997 [==============================] - 2s 152us/sample - loss: 0.0014 - acc: 0.8519 - val_loss: 0.0014 - val_acc: 0.8519\n",
            "Epoch 40/50\n",
            "11997/11997 [==============================] - 2s 149us/sample - loss: 0.0014 - acc: 0.8519 - val_loss: 0.0014 - val_acc: 0.8519\n",
            "Epoch 41/50\n",
            "11997/11997 [==============================] - 2s 150us/sample - loss: 0.0014 - acc: 0.8519 - val_loss: 0.0014 - val_acc: 0.8519\n",
            "Epoch 42/50\n",
            "11997/11997 [==============================] - 2s 151us/sample - loss: 0.0014 - acc: 0.8519 - val_loss: 0.0014 - val_acc: 0.8519\n",
            "Epoch 43/50\n",
            "11997/11997 [==============================] - 2s 151us/sample - loss: 0.0014 - acc: 0.8519 - val_loss: 0.0015 - val_acc: 0.8519\n",
            "Epoch 44/50\n",
            "11997/11997 [==============================] - 2s 148us/sample - loss: 0.0014 - acc: 0.8519 - val_loss: 0.0014 - val_acc: 0.8519\n",
            "Epoch 45/50\n",
            "11997/11997 [==============================] - 2s 147us/sample - loss: 0.0014 - acc: 0.8519 - val_loss: 0.0014 - val_acc: 0.8519\n",
            "Epoch 46/50\n",
            "11997/11997 [==============================] - 2s 147us/sample - loss: 0.0014 - acc: 0.8519 - val_loss: 0.0014 - val_acc: 0.8519\n",
            "Epoch 47/50\n",
            "11997/11997 [==============================] - 2s 148us/sample - loss: 0.0014 - acc: 0.8519 - val_loss: 0.0014 - val_acc: 0.8519\n",
            "Epoch 48/50\n",
            "11997/11997 [==============================] - 2s 149us/sample - loss: 0.0014 - acc: 0.8519 - val_loss: 0.0014 - val_acc: 0.8519\n",
            "Epoch 49/50\n",
            "11997/11997 [==============================] - 2s 144us/sample - loss: 0.0014 - acc: 0.8519 - val_loss: 0.0014 - val_acc: 0.8519\n",
            "Epoch 50/50\n",
            "11997/11997 [==============================] - 2s 145us/sample - loss: 0.0014 - acc: 0.8519 - val_loss: 0.0014 - val_acc: 0.8519\n"
          ],
          "name": "stdout"
        },
        {
          "output_type": "execute_result",
          "data": {
            "text/plain": [
              "<tensorflow.python.keras.callbacks.History at 0x7fdfab397ef0>"
            ]
          },
          "metadata": {
            "tags": []
          },
          "execution_count": 29
        }
      ]
    },
    {
      "cell_type": "code",
      "metadata": {
        "id": "wbC1-ArQHzOa",
        "colab_type": "code",
        "outputId": "62c5da51-6a67-49ce-b109-59f3882984a4",
        "colab": {
          "base_uri": "https://localhost:8080/",
          "height": 50
        }
      },
      "source": [
        "ypred = model.predict(X1)\n",
        "s=pd.DataFrame(ypred)\n",
        "s1=pd.DataFrame(y1)\n",
        "s1.corrwith(s, axis = 0) "
      ],
      "execution_count": 30,
      "outputs": [
        {
          "output_type": "execute_result",
          "data": {
            "text/plain": [
              "0    0.377215\n",
              "dtype: float64"
            ]
          },
          "metadata": {
            "tags": []
          },
          "execution_count": 30
        }
      ]
    },
    {
      "cell_type": "code",
      "metadata": {
        "id": "RjJslfLMJEbs",
        "colab_type": "code",
        "outputId": "37cc86b7-508d-453a-82e5-1484fb188418",
        "colab": {
          "base_uri": "https://localhost:8080/",
          "height": 50
        }
      },
      "source": [
        "ypred1=model.predict(X_test1)\n",
        "s=pd.DataFrame(ypred1)\n",
        "s1=pd.DataFrame(y_test1)\n",
        "s1.corrwith(s,axis=0)"
      ],
      "execution_count": 31,
      "outputs": [
        {
          "output_type": "execute_result",
          "data": {
            "text/plain": [
              "0    0.377215\n",
              "dtype: float64"
            ]
          },
          "metadata": {
            "tags": []
          },
          "execution_count": 31
        }
      ]
    },
    {
      "cell_type": "code",
      "metadata": {
        "id": "iot6np04aiT_",
        "colab_type": "code",
        "colab": {
          "base_uri": "https://localhost:8080/",
          "height": 34
        },
        "outputId": "a3b4e3e1-1bcb-4a24-cd36-2a0f6aaa8c10"
      },
      "source": [
        "mean_absolute_error(y1,ypred)"
      ],
      "execution_count": 33,
      "outputs": [
        {
          "output_type": "execute_result",
          "data": {
            "text/plain": [
              "0.01399054469164963"
            ]
          },
          "metadata": {
            "tags": []
          },
          "execution_count": 33
        }
      ]
    },
    {
      "cell_type": "code",
      "metadata": {
        "id": "a8iPWieZam7l",
        "colab_type": "code",
        "colab": {
          "base_uri": "https://localhost:8080/",
          "height": 34
        },
        "outputId": "9ed32710-0fca-4d51-9d43-0345cbd1bb2f"
      },
      "source": [
        "mean_absolute_error(y_test1,ypred1)"
      ],
      "execution_count": 34,
      "outputs": [
        {
          "output_type": "execute_result",
          "data": {
            "text/plain": [
              "0.01399054469164963"
            ]
          },
          "metadata": {
            "tags": []
          },
          "execution_count": 34
        }
      ]
    },
    {
      "cell_type": "code",
      "metadata": {
        "id": "IbLt0Hz1Mop2",
        "colab_type": "code",
        "outputId": "d3c75c57-5fee-4b9f-c973-e4d1ef4c8158",
        "colab": {
          "base_uri": "https://localhost:8080/",
          "height": 34
        }
      },
      "source": [
        "r2_score(y1,ypred)"
      ],
      "execution_count": 35,
      "outputs": [
        {
          "output_type": "execute_result",
          "data": {
            "text/plain": [
              "0.1422197701794723"
            ]
          },
          "metadata": {
            "tags": []
          },
          "execution_count": 35
        }
      ]
    },
    {
      "cell_type": "code",
      "metadata": {
        "id": "X7U_mkgGMrxT",
        "colab_type": "code",
        "outputId": "08979535-b578-406a-9e9d-96bf3e95b624",
        "colab": {
          "base_uri": "https://localhost:8080/",
          "height": 34
        }
      },
      "source": [
        "r2_score(y_test1,ypred1)"
      ],
      "execution_count": 36,
      "outputs": [
        {
          "output_type": "execute_result",
          "data": {
            "text/plain": [
              "0.1422197701794723"
            ]
          },
          "metadata": {
            "tags": []
          },
          "execution_count": 36
        }
      ]
    },
    {
      "cell_type": "code",
      "metadata": {
        "id": "dyKBYmkUtKUU",
        "colab_type": "code",
        "outputId": "c59c3392-f1f5-4e1c-e071-611425bea253",
        "colab": {
          "base_uri": "https://localhost:8080/",
          "height": 1000
        }
      },
      "source": [
        "model.fit(X2, y2, validation_data=(X_test2,y_test2),epochs=50)"
      ],
      "execution_count": 37,
      "outputs": [
        {
          "output_type": "stream",
          "text": [
            "Train on 11997 samples, validate on 11997 samples\n",
            "Epoch 1/50\n",
            "11997/11997 [==============================] - 2s 149us/sample - loss: 0.0048 - acc: 0.8414 - val_loss: 0.0047 - val_acc: 0.8414\n",
            "Epoch 2/50\n",
            "11997/11997 [==============================] - 2s 148us/sample - loss: 0.0047 - acc: 0.8414 - val_loss: 0.0047 - val_acc: 0.8414\n",
            "Epoch 3/50\n",
            "11997/11997 [==============================] - 2s 150us/sample - loss: 0.0047 - acc: 0.8414 - val_loss: 0.0047 - val_acc: 0.8414\n",
            "Epoch 4/50\n",
            "11997/11997 [==============================] - 2s 148us/sample - loss: 0.0047 - acc: 0.8414 - val_loss: 0.0047 - val_acc: 0.8414\n",
            "Epoch 5/50\n",
            "11997/11997 [==============================] - 2s 152us/sample - loss: 0.0047 - acc: 0.8414 - val_loss: 0.0047 - val_acc: 0.8414\n",
            "Epoch 6/50\n",
            "11997/11997 [==============================] - 2s 146us/sample - loss: 0.0047 - acc: 0.8414 - val_loss: 0.0047 - val_acc: 0.8414\n",
            "Epoch 7/50\n",
            "11997/11997 [==============================] - 2s 142us/sample - loss: 0.0047 - acc: 0.8414 - val_loss: 0.0047 - val_acc: 0.8414\n",
            "Epoch 8/50\n",
            "11997/11997 [==============================] - 2s 145us/sample - loss: 0.0047 - acc: 0.8414 - val_loss: 0.0047 - val_acc: 0.8414\n",
            "Epoch 9/50\n",
            "11997/11997 [==============================] - 2s 143us/sample - loss: 0.0047 - acc: 0.8414 - val_loss: 0.0047 - val_acc: 0.8414\n",
            "Epoch 10/50\n",
            "11997/11997 [==============================] - 2s 143us/sample - loss: 0.0047 - acc: 0.8414 - val_loss: 0.0047 - val_acc: 0.8414\n",
            "Epoch 11/50\n",
            "11997/11997 [==============================] - 2s 145us/sample - loss: 0.0047 - acc: 0.8414 - val_loss: 0.0047 - val_acc: 0.8414\n",
            "Epoch 12/50\n",
            "11997/11997 [==============================] - 2s 146us/sample - loss: 0.0047 - acc: 0.8414 - val_loss: 0.0047 - val_acc: 0.8414\n",
            "Epoch 13/50\n",
            "11997/11997 [==============================] - 2s 145us/sample - loss: 0.0047 - acc: 0.8414 - val_loss: 0.0047 - val_acc: 0.8414\n",
            "Epoch 14/50\n",
            "11997/11997 [==============================] - 2s 146us/sample - loss: 0.0047 - acc: 0.8414 - val_loss: 0.0047 - val_acc: 0.8414\n",
            "Epoch 15/50\n",
            "11997/11997 [==============================] - 2s 143us/sample - loss: 0.0047 - acc: 0.8414 - val_loss: 0.0047 - val_acc: 0.8414\n",
            "Epoch 16/50\n",
            "11997/11997 [==============================] - 2s 146us/sample - loss: 0.0047 - acc: 0.8414 - val_loss: 0.0047 - val_acc: 0.8414\n",
            "Epoch 17/50\n",
            "11997/11997 [==============================] - 2s 146us/sample - loss: 0.0047 - acc: 0.8414 - val_loss: 0.0047 - val_acc: 0.8414\n",
            "Epoch 18/50\n",
            "11997/11997 [==============================] - 2s 147us/sample - loss: 0.0047 - acc: 0.8414 - val_loss: 0.0047 - val_acc: 0.8414\n",
            "Epoch 19/50\n",
            "11997/11997 [==============================] - 2s 143us/sample - loss: 0.0047 - acc: 0.8414 - val_loss: 0.0047 - val_acc: 0.8414\n",
            "Epoch 20/50\n",
            "11997/11997 [==============================] - 2s 145us/sample - loss: 0.0047 - acc: 0.8414 - val_loss: 0.0047 - val_acc: 0.8414\n",
            "Epoch 21/50\n",
            "11997/11997 [==============================] - 2s 147us/sample - loss: 0.0047 - acc: 0.8414 - val_loss: 0.0047 - val_acc: 0.8414\n",
            "Epoch 22/50\n",
            "11997/11997 [==============================] - 2s 149us/sample - loss: 0.0047 - acc: 0.8414 - val_loss: 0.0047 - val_acc: 0.8414\n",
            "Epoch 23/50\n",
            "11997/11997 [==============================] - 2s 147us/sample - loss: 0.0047 - acc: 0.8414 - val_loss: 0.0047 - val_acc: 0.8414\n",
            "Epoch 24/50\n",
            "11997/11997 [==============================] - 2s 145us/sample - loss: 0.0047 - acc: 0.8414 - val_loss: 0.0047 - val_acc: 0.8414\n",
            "Epoch 25/50\n",
            "11997/11997 [==============================] - 2s 145us/sample - loss: 0.0047 - acc: 0.8414 - val_loss: 0.0047 - val_acc: 0.8414\n",
            "Epoch 26/50\n",
            "11997/11997 [==============================] - 2s 150us/sample - loss: 0.0047 - acc: 0.8414 - val_loss: 0.0047 - val_acc: 0.8414\n",
            "Epoch 27/50\n",
            "11997/11997 [==============================] - 2s 148us/sample - loss: 0.0047 - acc: 0.8414 - val_loss: 0.0047 - val_acc: 0.8414\n",
            "Epoch 28/50\n",
            "11997/11997 [==============================] - 2s 147us/sample - loss: 0.0047 - acc: 0.8414 - val_loss: 0.0047 - val_acc: 0.8414\n",
            "Epoch 29/50\n",
            "11997/11997 [==============================] - 2s 149us/sample - loss: 0.0047 - acc: 0.8414 - val_loss: 0.0047 - val_acc: 0.8414\n",
            "Epoch 30/50\n",
            "11997/11997 [==============================] - 2s 144us/sample - loss: 0.0047 - acc: 0.8414 - val_loss: 0.0047 - val_acc: 0.8414\n",
            "Epoch 31/50\n",
            "11997/11997 [==============================] - 2s 144us/sample - loss: 0.0047 - acc: 0.8414 - val_loss: 0.0047 - val_acc: 0.8414\n",
            "Epoch 32/50\n",
            "11997/11997 [==============================] - 2s 146us/sample - loss: 0.0047 - acc: 0.8414 - val_loss: 0.0047 - val_acc: 0.8414\n",
            "Epoch 33/50\n",
            "11997/11997 [==============================] - 2s 146us/sample - loss: 0.0047 - acc: 0.8414 - val_loss: 0.0047 - val_acc: 0.8414\n",
            "Epoch 34/50\n",
            "11997/11997 [==============================] - 2s 146us/sample - loss: 0.0047 - acc: 0.8414 - val_loss: 0.0047 - val_acc: 0.8414\n",
            "Epoch 35/50\n",
            "11997/11997 [==============================] - 2s 146us/sample - loss: 0.0047 - acc: 0.8414 - val_loss: 0.0047 - val_acc: 0.8414\n",
            "Epoch 36/50\n",
            "11997/11997 [==============================] - 2s 145us/sample - loss: 0.0047 - acc: 0.8414 - val_loss: 0.0047 - val_acc: 0.8414\n",
            "Epoch 37/50\n",
            "11997/11997 [==============================] - 2s 147us/sample - loss: 0.0047 - acc: 0.8414 - val_loss: 0.0047 - val_acc: 0.8414\n",
            "Epoch 38/50\n",
            "11997/11997 [==============================] - 2s 145us/sample - loss: 0.0047 - acc: 0.8414 - val_loss: 0.0047 - val_acc: 0.8414\n",
            "Epoch 39/50\n",
            "11997/11997 [==============================] - 2s 146us/sample - loss: 0.0047 - acc: 0.8414 - val_loss: 0.0047 - val_acc: 0.8414\n",
            "Epoch 40/50\n",
            "11997/11997 [==============================] - 2s 146us/sample - loss: 0.0047 - acc: 0.8414 - val_loss: 0.0047 - val_acc: 0.8414\n",
            "Epoch 41/50\n",
            "11997/11997 [==============================] - 2s 145us/sample - loss: 0.0047 - acc: 0.8414 - val_loss: 0.0047 - val_acc: 0.8414\n",
            "Epoch 42/50\n",
            "11997/11997 [==============================] - 2s 144us/sample - loss: 0.0047 - acc: 0.8414 - val_loss: 0.0047 - val_acc: 0.8414\n",
            "Epoch 43/50\n",
            "11997/11997 [==============================] - 2s 144us/sample - loss: 0.0047 - acc: 0.8414 - val_loss: 0.0047 - val_acc: 0.8414\n",
            "Epoch 44/50\n",
            "11997/11997 [==============================] - 2s 144us/sample - loss: 0.0047 - acc: 0.8414 - val_loss: 0.0047 - val_acc: 0.8414\n",
            "Epoch 45/50\n",
            "11997/11997 [==============================] - 2s 144us/sample - loss: 0.0047 - acc: 0.8414 - val_loss: 0.0047 - val_acc: 0.8414\n",
            "Epoch 46/50\n",
            "11997/11997 [==============================] - 2s 146us/sample - loss: 0.0047 - acc: 0.8414 - val_loss: 0.0047 - val_acc: 0.8414\n",
            "Epoch 47/50\n",
            "11997/11997 [==============================] - 2s 145us/sample - loss: 0.0047 - acc: 0.8414 - val_loss: 0.0047 - val_acc: 0.8414\n",
            "Epoch 48/50\n",
            "11997/11997 [==============================] - 2s 143us/sample - loss: 0.0047 - acc: 0.8414 - val_loss: 0.0047 - val_acc: 0.8414\n",
            "Epoch 49/50\n",
            "11997/11997 [==============================] - 2s 146us/sample - loss: 0.0047 - acc: 0.8414 - val_loss: 0.0047 - val_acc: 0.8414\n",
            "Epoch 50/50\n",
            "11997/11997 [==============================] - 2s 147us/sample - loss: 0.0047 - acc: 0.8414 - val_loss: 0.0047 - val_acc: 0.8414\n"
          ],
          "name": "stdout"
        },
        {
          "output_type": "execute_result",
          "data": {
            "text/plain": [
              "<tensorflow.python.keras.callbacks.History at 0x7fdfab339dd8>"
            ]
          },
          "metadata": {
            "tags": []
          },
          "execution_count": 37
        }
      ]
    },
    {
      "cell_type": "code",
      "metadata": {
        "id": "JEu6KMnhH0z8",
        "colab_type": "code",
        "outputId": "645fe0d6-0e34-4a92-d5b6-1a1b33499659",
        "colab": {
          "base_uri": "https://localhost:8080/",
          "height": 50
        }
      },
      "source": [
        "ypred = model.predict(X2)\n",
        "s=pd.DataFrame(ypred)\n",
        "s1=pd.DataFrame(y2)\n",
        "s1.corrwith(s, axis = 0) "
      ],
      "execution_count": 38,
      "outputs": [
        {
          "output_type": "execute_result",
          "data": {
            "text/plain": [
              "0    0.25677\n",
              "dtype: float64"
            ]
          },
          "metadata": {
            "tags": []
          },
          "execution_count": 38
        }
      ]
    },
    {
      "cell_type": "code",
      "metadata": {
        "id": "zh49J42kJF0i",
        "colab_type": "code",
        "outputId": "60aab738-5ba4-4057-ed2e-fd77a852a12a",
        "colab": {
          "base_uri": "https://localhost:8080/",
          "height": 50
        }
      },
      "source": [
        "ypred1=model.predict(X_test2)\n",
        "s=pd.DataFrame(ypred1)\n",
        "s1=pd.DataFrame(y_test2)\n",
        "s1.corrwith(s,axis=0)"
      ],
      "execution_count": 39,
      "outputs": [
        {
          "output_type": "execute_result",
          "data": {
            "text/plain": [
              "0    0.25677\n",
              "dtype: float64"
            ]
          },
          "metadata": {
            "tags": []
          },
          "execution_count": 39
        }
      ]
    },
    {
      "cell_type": "code",
      "metadata": {
        "id": "Xwk6R9otatSo",
        "colab_type": "code",
        "colab": {
          "base_uri": "https://localhost:8080/",
          "height": 34
        },
        "outputId": "ab1af1ce-06e3-471b-f025-2d11c9dc4c19"
      },
      "source": [
        "mean_absolute_error(y2,ypred)"
      ],
      "execution_count": 40,
      "outputs": [
        {
          "output_type": "execute_result",
          "data": {
            "text/plain": [
              "0.03340628370183758"
            ]
          },
          "metadata": {
            "tags": []
          },
          "execution_count": 40
        }
      ]
    },
    {
      "cell_type": "code",
      "metadata": {
        "id": "DqGICblJaxX-",
        "colab_type": "code",
        "colab": {
          "base_uri": "https://localhost:8080/",
          "height": 34
        },
        "outputId": "2a38b237-d743-48e8-87d6-5b91ab33c047"
      },
      "source": [
        "mean_absolute_error(y_test2,ypred1)"
      ],
      "execution_count": 41,
      "outputs": [
        {
          "output_type": "execute_result",
          "data": {
            "text/plain": [
              "0.03340628370183758"
            ]
          },
          "metadata": {
            "tags": []
          },
          "execution_count": 41
        }
      ]
    },
    {
      "cell_type": "code",
      "metadata": {
        "id": "jFG77mOGMjRL",
        "colab_type": "code",
        "outputId": "769d49fd-4e2b-44f6-e9f7-87a3a7c9463a",
        "colab": {
          "base_uri": "https://localhost:8080/",
          "height": 34
        }
      },
      "source": [
        "r2_score(y2,ypred)"
      ],
      "execution_count": 42,
      "outputs": [
        {
          "output_type": "execute_result",
          "data": {
            "text/plain": [
              "0.05674478915181835"
            ]
          },
          "metadata": {
            "tags": []
          },
          "execution_count": 42
        }
      ]
    },
    {
      "cell_type": "code",
      "metadata": {
        "id": "mOkYZ-wjMj_C",
        "colab_type": "code",
        "outputId": "04be2f96-afb5-4fe4-ab1c-e589050ffd4c",
        "colab": {
          "base_uri": "https://localhost:8080/",
          "height": 34
        }
      },
      "source": [
        "r2_score(y_test2,ypred1)"
      ],
      "execution_count": 43,
      "outputs": [
        {
          "output_type": "execute_result",
          "data": {
            "text/plain": [
              "0.05674478915181835"
            ]
          },
          "metadata": {
            "tags": []
          },
          "execution_count": 43
        }
      ]
    },
    {
      "cell_type": "code",
      "metadata": {
        "id": "VFNvtKzUtMus",
        "colab_type": "code",
        "outputId": "e555a72d-a699-487c-9017-642316a8e9d2",
        "colab": {
          "base_uri": "https://localhost:8080/",
          "height": 1000
        }
      },
      "source": [
        "model.fit(X3, y3, validation_data=(X_test3,y_test3),epochs=50)"
      ],
      "execution_count": 44,
      "outputs": [
        {
          "output_type": "stream",
          "text": [
            "Train on 11997 samples, validate on 11997 samples\n",
            "Epoch 1/50\n",
            "11997/11997 [==============================] - 2s 148us/sample - loss: 0.0032 - acc: 0.8605 - val_loss: 0.0032 - val_acc: 0.8605\n",
            "Epoch 2/50\n",
            "11997/11997 [==============================] - 2s 149us/sample - loss: 0.0032 - acc: 0.8605 - val_loss: 0.0032 - val_acc: 0.8605\n",
            "Epoch 3/50\n",
            "11997/11997 [==============================] - 2s 152us/sample - loss: 0.0032 - acc: 0.8605 - val_loss: 0.0032 - val_acc: 0.8605\n",
            "Epoch 4/50\n",
            "11997/11997 [==============================] - 2s 154us/sample - loss: 0.0032 - acc: 0.8605 - val_loss: 0.0031 - val_acc: 0.8605\n",
            "Epoch 5/50\n",
            "11997/11997 [==============================] - 2s 151us/sample - loss: 0.0032 - acc: 0.8605 - val_loss: 0.0032 - val_acc: 0.8605\n",
            "Epoch 6/50\n",
            "11997/11997 [==============================] - 2s 150us/sample - loss: 0.0032 - acc: 0.8605 - val_loss: 0.0032 - val_acc: 0.8605\n",
            "Epoch 7/50\n",
            "11997/11997 [==============================] - 2s 146us/sample - loss: 0.0032 - acc: 0.8605 - val_loss: 0.0031 - val_acc: 0.8605\n",
            "Epoch 8/50\n",
            "11997/11997 [==============================] - 2s 145us/sample - loss: 0.0032 - acc: 0.8605 - val_loss: 0.0032 - val_acc: 0.8605\n",
            "Epoch 9/50\n",
            "11997/11997 [==============================] - 2s 148us/sample - loss: 0.0032 - acc: 0.8605 - val_loss: 0.0032 - val_acc: 0.8605\n",
            "Epoch 10/50\n",
            "11997/11997 [==============================] - 2s 147us/sample - loss: 0.0032 - acc: 0.8605 - val_loss: 0.0031 - val_acc: 0.8605\n",
            "Epoch 11/50\n",
            "11997/11997 [==============================] - 2s 146us/sample - loss: 0.0032 - acc: 0.8605 - val_loss: 0.0031 - val_acc: 0.8605\n",
            "Epoch 12/50\n",
            "11997/11997 [==============================] - 2s 147us/sample - loss: 0.0032 - acc: 0.8605 - val_loss: 0.0031 - val_acc: 0.8605\n",
            "Epoch 13/50\n",
            "11997/11997 [==============================] - 2s 147us/sample - loss: 0.0032 - acc: 0.8605 - val_loss: 0.0032 - val_acc: 0.8605\n",
            "Epoch 14/50\n",
            "11997/11997 [==============================] - 2s 147us/sample - loss: 0.0032 - acc: 0.8605 - val_loss: 0.0032 - val_acc: 0.8605\n",
            "Epoch 15/50\n",
            "11997/11997 [==============================] - 2s 144us/sample - loss: 0.0032 - acc: 0.8605 - val_loss: 0.0031 - val_acc: 0.8605\n",
            "Epoch 16/50\n",
            "11997/11997 [==============================] - 2s 144us/sample - loss: 0.0032 - acc: 0.8605 - val_loss: 0.0031 - val_acc: 0.8605\n",
            "Epoch 17/50\n",
            "11997/11997 [==============================] - 2s 150us/sample - loss: 0.0032 - acc: 0.8605 - val_loss: 0.0032 - val_acc: 0.8605\n",
            "Epoch 18/50\n",
            "11997/11997 [==============================] - 2s 149us/sample - loss: 0.0032 - acc: 0.8605 - val_loss: 0.0032 - val_acc: 0.8605\n",
            "Epoch 19/50\n",
            "11997/11997 [==============================] - 2s 150us/sample - loss: 0.0032 - acc: 0.8605 - val_loss: 0.0031 - val_acc: 0.8605\n",
            "Epoch 20/50\n",
            "11997/11997 [==============================] - 2s 149us/sample - loss: 0.0032 - acc: 0.8605 - val_loss: 0.0032 - val_acc: 0.8605\n",
            "Epoch 21/50\n",
            "11997/11997 [==============================] - 2s 148us/sample - loss: 0.0032 - acc: 0.8605 - val_loss: 0.0032 - val_acc: 0.8605\n",
            "Epoch 22/50\n",
            "11997/11997 [==============================] - 2s 147us/sample - loss: 0.0032 - acc: 0.8605 - val_loss: 0.0032 - val_acc: 0.8605\n",
            "Epoch 23/50\n",
            "11997/11997 [==============================] - 2s 149us/sample - loss: 0.0032 - acc: 0.8605 - val_loss: 0.0031 - val_acc: 0.8605\n",
            "Epoch 24/50\n",
            "11997/11997 [==============================] - 2s 145us/sample - loss: 0.0032 - acc: 0.8605 - val_loss: 0.0032 - val_acc: 0.8605\n",
            "Epoch 25/50\n",
            "11997/11997 [==============================] - 2s 143us/sample - loss: 0.0032 - acc: 0.8605 - val_loss: 0.0032 - val_acc: 0.8605\n",
            "Epoch 26/50\n",
            "11997/11997 [==============================] - 2s 145us/sample - loss: 0.0032 - acc: 0.8605 - val_loss: 0.0031 - val_acc: 0.8605\n",
            "Epoch 27/50\n",
            "11997/11997 [==============================] - 2s 147us/sample - loss: 0.0032 - acc: 0.8605 - val_loss: 0.0032 - val_acc: 0.8605\n",
            "Epoch 28/50\n",
            "11997/11997 [==============================] - 2s 146us/sample - loss: 0.0032 - acc: 0.8605 - val_loss: 0.0031 - val_acc: 0.8605\n",
            "Epoch 29/50\n",
            "11997/11997 [==============================] - 2s 145us/sample - loss: 0.0032 - acc: 0.8605 - val_loss: 0.0032 - val_acc: 0.8605\n",
            "Epoch 30/50\n",
            "11997/11997 [==============================] - 2s 147us/sample - loss: 0.0032 - acc: 0.8605 - val_loss: 0.0031 - val_acc: 0.8605\n",
            "Epoch 31/50\n",
            "11997/11997 [==============================] - 2s 155us/sample - loss: 0.0032 - acc: 0.8605 - val_loss: 0.0032 - val_acc: 0.8605\n",
            "Epoch 32/50\n",
            "11997/11997 [==============================] - 2s 151us/sample - loss: 0.0032 - acc: 0.8605 - val_loss: 0.0031 - val_acc: 0.8605\n",
            "Epoch 33/50\n",
            "11997/11997 [==============================] - 2s 153us/sample - loss: 0.0032 - acc: 0.8605 - val_loss: 0.0031 - val_acc: 0.8605\n",
            "Epoch 34/50\n",
            "11997/11997 [==============================] - 2s 152us/sample - loss: 0.0032 - acc: 0.8605 - val_loss: 0.0031 - val_acc: 0.8605\n",
            "Epoch 35/50\n",
            "11997/11997 [==============================] - 2s 152us/sample - loss: 0.0032 - acc: 0.8605 - val_loss: 0.0031 - val_acc: 0.8605\n",
            "Epoch 36/50\n",
            "11997/11997 [==============================] - 2s 151us/sample - loss: 0.0032 - acc: 0.8605 - val_loss: 0.0031 - val_acc: 0.8605\n",
            "Epoch 37/50\n",
            "11997/11997 [==============================] - 2s 151us/sample - loss: 0.0032 - acc: 0.8605 - val_loss: 0.0032 - val_acc: 0.8605\n",
            "Epoch 38/50\n",
            "11997/11997 [==============================] - 2s 153us/sample - loss: 0.0032 - acc: 0.8605 - val_loss: 0.0032 - val_acc: 0.8605\n",
            "Epoch 39/50\n",
            "11997/11997 [==============================] - 2s 162us/sample - loss: 0.0032 - acc: 0.8605 - val_loss: 0.0031 - val_acc: 0.8605\n",
            "Epoch 40/50\n",
            "11997/11997 [==============================] - 2s 158us/sample - loss: 0.0032 - acc: 0.8605 - val_loss: 0.0032 - val_acc: 0.8605\n",
            "Epoch 41/50\n",
            "11997/11997 [==============================] - 2s 153us/sample - loss: 0.0031 - acc: 0.8605 - val_loss: 0.0032 - val_acc: 0.8605\n",
            "Epoch 42/50\n",
            "11997/11997 [==============================] - 2s 152us/sample - loss: 0.0032 - acc: 0.8605 - val_loss: 0.0031 - val_acc: 0.8605\n",
            "Epoch 43/50\n",
            "11997/11997 [==============================] - 2s 155us/sample - loss: 0.0032 - acc: 0.8605 - val_loss: 0.0031 - val_acc: 0.8605\n",
            "Epoch 44/50\n",
            "11997/11997 [==============================] - 2s 152us/sample - loss: 0.0032 - acc: 0.8605 - val_loss: 0.0031 - val_acc: 0.8605\n",
            "Epoch 45/50\n",
            "11997/11997 [==============================] - 2s 159us/sample - loss: 0.0031 - acc: 0.8605 - val_loss: 0.0032 - val_acc: 0.8605\n",
            "Epoch 46/50\n",
            "11997/11997 [==============================] - 2s 168us/sample - loss: 0.0032 - acc: 0.8605 - val_loss: 0.0032 - val_acc: 0.8605\n",
            "Epoch 47/50\n",
            "11997/11997 [==============================] - 2s 162us/sample - loss: 0.0032 - acc: 0.8605 - val_loss: 0.0031 - val_acc: 0.8605\n",
            "Epoch 48/50\n",
            "11997/11997 [==============================] - 2s 162us/sample - loss: 0.0031 - acc: 0.8605 - val_loss: 0.0031 - val_acc: 0.8605\n",
            "Epoch 49/50\n",
            "11997/11997 [==============================] - 2s 160us/sample - loss: 0.0032 - acc: 0.8605 - val_loss: 0.0031 - val_acc: 0.8605\n",
            "Epoch 50/50\n",
            "11997/11997 [==============================] - 2s 161us/sample - loss: 0.0032 - acc: 0.8605 - val_loss: 0.0031 - val_acc: 0.8605\n"
          ],
          "name": "stdout"
        },
        {
          "output_type": "execute_result",
          "data": {
            "text/plain": [
              "<tensorflow.python.keras.callbacks.History at 0x7fdfab326748>"
            ]
          },
          "metadata": {
            "tags": []
          },
          "execution_count": 44
        }
      ]
    },
    {
      "cell_type": "code",
      "metadata": {
        "id": "GkOlpfGdH2gZ",
        "colab_type": "code",
        "outputId": "c4c47faa-3868-43a0-96c5-ecde6a352f0b",
        "colab": {
          "base_uri": "https://localhost:8080/",
          "height": 50
        }
      },
      "source": [
        "ypred = model.predict(X3)\n",
        "s=pd.DataFrame(ypred)\n",
        "s1=pd.DataFrame(y3)\n",
        "s1.corrwith(s, axis = 0) "
      ],
      "execution_count": 45,
      "outputs": [
        {
          "output_type": "execute_result",
          "data": {
            "text/plain": [
              "0    0.261768\n",
              "dtype: float64"
            ]
          },
          "metadata": {
            "tags": []
          },
          "execution_count": 45
        }
      ]
    },
    {
      "cell_type": "code",
      "metadata": {
        "id": "8DCzVU6iJHQ1",
        "colab_type": "code",
        "outputId": "db0dc040-8865-4c49-91b4-559409c12d1f",
        "colab": {
          "base_uri": "https://localhost:8080/",
          "height": 50
        }
      },
      "source": [
        "ypred1=model.predict(X_test3)\n",
        "s=pd.DataFrame(ypred1)\n",
        "s1=pd.DataFrame(y_test3)\n",
        "s1.corrwith(s,axis=0)"
      ],
      "execution_count": 46,
      "outputs": [
        {
          "output_type": "execute_result",
          "data": {
            "text/plain": [
              "0    0.261768\n",
              "dtype: float64"
            ]
          },
          "metadata": {
            "tags": []
          },
          "execution_count": 46
        }
      ]
    },
    {
      "cell_type": "code",
      "metadata": {
        "id": "FO_LLgNyMcxl",
        "colab_type": "code",
        "outputId": "ed9f684a-0f13-44b6-d8cd-ade2078578e9",
        "colab": {
          "base_uri": "https://localhost:8080/",
          "height": 34
        }
      },
      "source": [
        "r2_score(y3,ypred)"
      ],
      "execution_count": 47,
      "outputs": [
        {
          "output_type": "execute_result",
          "data": {
            "text/plain": [
              "0.06831400283805922"
            ]
          },
          "metadata": {
            "tags": []
          },
          "execution_count": 47
        }
      ]
    },
    {
      "cell_type": "code",
      "metadata": {
        "id": "3Dou4U6tMfBa",
        "colab_type": "code",
        "outputId": "6ab8afa1-7f47-4129-849a-7ecb6f7879c7",
        "colab": {
          "base_uri": "https://localhost:8080/",
          "height": 34
        }
      },
      "source": [
        "r2_score(y_test3,ypred1)"
      ],
      "execution_count": 48,
      "outputs": [
        {
          "output_type": "execute_result",
          "data": {
            "text/plain": [
              "0.06831400283805922"
            ]
          },
          "metadata": {
            "tags": []
          },
          "execution_count": 48
        }
      ]
    },
    {
      "cell_type": "code",
      "metadata": {
        "id": "vg9UDalba2r6",
        "colab_type": "code",
        "colab": {
          "base_uri": "https://localhost:8080/",
          "height": 34
        },
        "outputId": "334a43eb-72c1-46cc-bd28-4296294823f2"
      },
      "source": [
        "mean_absolute_error(y3,ypred)"
      ],
      "execution_count": 152,
      "outputs": [
        {
          "output_type": "execute_result",
          "data": {
            "text/plain": [
              "0.015757054274228893"
            ]
          },
          "metadata": {
            "tags": []
          },
          "execution_count": 152
        }
      ]
    },
    {
      "cell_type": "code",
      "metadata": {
        "id": "PKHNKah8a6y4",
        "colab_type": "code",
        "colab": {
          "base_uri": "https://localhost:8080/",
          "height": 34
        },
        "outputId": "e9c3206d-d3b7-4646-cebf-1a126c853d08"
      },
      "source": [
        "mean_absolute_error(y_test3,ypred1)"
      ],
      "execution_count": 153,
      "outputs": [
        {
          "output_type": "execute_result",
          "data": {
            "text/plain": [
              "0.015757054274228893"
            ]
          },
          "metadata": {
            "tags": []
          },
          "execution_count": 153
        }
      ]
    },
    {
      "cell_type": "code",
      "metadata": {
        "id": "SgByKfhitNMk",
        "colab_type": "code",
        "outputId": "3fce5628-328d-465b-c2fe-ea89fabd21fe",
        "colab": {
          "base_uri": "https://localhost:8080/",
          "height": 1000
        }
      },
      "source": [
        "model.fit(X4, y4, validation_data=(X_test4,y_test4),epochs=50)"
      ],
      "execution_count": 154,
      "outputs": [
        {
          "output_type": "stream",
          "text": [
            "Train on 11997 samples, validate on 11997 samples\n",
            "Epoch 1/50\n",
            "11997/11997 [==============================] - 2s 156us/sample - loss: 0.0028 - acc: 0.8360 - val_loss: 0.0027 - val_acc: 0.8360\n",
            "Epoch 2/50\n",
            "11997/11997 [==============================] - 2s 163us/sample - loss: 0.0027 - acc: 0.8360 - val_loss: 0.0028 - val_acc: 0.8360\n",
            "Epoch 3/50\n",
            "11997/11997 [==============================] - 2s 169us/sample - loss: 0.0028 - acc: 0.8360 - val_loss: 0.0027 - val_acc: 0.8360\n",
            "Epoch 4/50\n",
            "11997/11997 [==============================] - 2s 172us/sample - loss: 0.0027 - acc: 0.8360 - val_loss: 0.0027 - val_acc: 0.8360\n",
            "Epoch 5/50\n",
            "11997/11997 [==============================] - 2s 172us/sample - loss: 0.0027 - acc: 0.8360 - val_loss: 0.0027 - val_acc: 0.8360\n",
            "Epoch 6/50\n",
            "11997/11997 [==============================] - 2s 168us/sample - loss: 0.0027 - acc: 0.8360 - val_loss: 0.0027 - val_acc: 0.8360\n",
            "Epoch 7/50\n",
            "11997/11997 [==============================] - 2s 162us/sample - loss: 0.0027 - acc: 0.8360 - val_loss: 0.0027 - val_acc: 0.8360\n",
            "Epoch 8/50\n",
            "11997/11997 [==============================] - 2s 158us/sample - loss: 0.0027 - acc: 0.8360 - val_loss: 0.0027 - val_acc: 0.8360\n",
            "Epoch 9/50\n",
            "11997/11997 [==============================] - 2s 159us/sample - loss: 0.0027 - acc: 0.8360 - val_loss: 0.0027 - val_acc: 0.8360\n",
            "Epoch 10/50\n",
            "11997/11997 [==============================] - 2s 162us/sample - loss: 0.0027 - acc: 0.8360 - val_loss: 0.0027 - val_acc: 0.8360\n",
            "Epoch 11/50\n",
            "11997/11997 [==============================] - 2s 159us/sample - loss: 0.0027 - acc: 0.8360 - val_loss: 0.0027 - val_acc: 0.8360\n",
            "Epoch 12/50\n",
            "11997/11997 [==============================] - 2s 156us/sample - loss: 0.0027 - acc: 0.8360 - val_loss: 0.0027 - val_acc: 0.8360\n",
            "Epoch 13/50\n",
            "11997/11997 [==============================] - 2s 156us/sample - loss: 0.0027 - acc: 0.8360 - val_loss: 0.0027 - val_acc: 0.8360\n",
            "Epoch 14/50\n",
            "11997/11997 [==============================] - 2s 154us/sample - loss: 0.0028 - acc: 0.8360 - val_loss: 0.0027 - val_acc: 0.8360\n",
            "Epoch 15/50\n",
            "11997/11997 [==============================] - 2s 154us/sample - loss: 0.0027 - acc: 0.8360 - val_loss: 0.0027 - val_acc: 0.8360\n",
            "Epoch 16/50\n",
            "11997/11997 [==============================] - 2s 156us/sample - loss: 0.0027 - acc: 0.8360 - val_loss: 0.0027 - val_acc: 0.8360\n",
            "Epoch 17/50\n",
            "11997/11997 [==============================] - 2s 148us/sample - loss: 0.0027 - acc: 0.8360 - val_loss: 0.0027 - val_acc: 0.8360\n",
            "Epoch 18/50\n",
            "11997/11997 [==============================] - 2s 148us/sample - loss: 0.0027 - acc: 0.8360 - val_loss: 0.0027 - val_acc: 0.8360\n",
            "Epoch 19/50\n",
            "11997/11997 [==============================] - 2s 147us/sample - loss: 0.0027 - acc: 0.8360 - val_loss: 0.0027 - val_acc: 0.8360\n",
            "Epoch 20/50\n",
            "11997/11997 [==============================] - 2s 147us/sample - loss: 0.0027 - acc: 0.8360 - val_loss: 0.0027 - val_acc: 0.8360\n",
            "Epoch 21/50\n",
            "11997/11997 [==============================] - 2s 150us/sample - loss: 0.0027 - acc: 0.8360 - val_loss: 0.0027 - val_acc: 0.8360\n",
            "Epoch 22/50\n",
            "11997/11997 [==============================] - 2s 150us/sample - loss: 0.0027 - acc: 0.8360 - val_loss: 0.0027 - val_acc: 0.8360\n",
            "Epoch 23/50\n",
            "11997/11997 [==============================] - 2s 146us/sample - loss: 0.0027 - acc: 0.8360 - val_loss: 0.0027 - val_acc: 0.8360\n",
            "Epoch 24/50\n",
            "11997/11997 [==============================] - 2s 149us/sample - loss: 0.0027 - acc: 0.8360 - val_loss: 0.0027 - val_acc: 0.8360\n",
            "Epoch 25/50\n",
            "11997/11997 [==============================] - 2s 151us/sample - loss: 0.0027 - acc: 0.8360 - val_loss: 0.0027 - val_acc: 0.8360\n",
            "Epoch 26/50\n",
            "11997/11997 [==============================] - 2s 148us/sample - loss: 0.0027 - acc: 0.8360 - val_loss: 0.0027 - val_acc: 0.8360\n",
            "Epoch 27/50\n",
            "11997/11997 [==============================] - 2s 150us/sample - loss: 0.0027 - acc: 0.8360 - val_loss: 0.0027 - val_acc: 0.8360\n",
            "Epoch 28/50\n",
            "11997/11997 [==============================] - 2s 147us/sample - loss: 0.0027 - acc: 0.8360 - val_loss: 0.0027 - val_acc: 0.8360\n",
            "Epoch 29/50\n",
            "11997/11997 [==============================] - 2s 152us/sample - loss: 0.0027 - acc: 0.8360 - val_loss: 0.0027 - val_acc: 0.8360\n",
            "Epoch 30/50\n",
            "11997/11997 [==============================] - 2s 152us/sample - loss: 0.0027 - acc: 0.8360 - val_loss: 0.0027 - val_acc: 0.8360\n",
            "Epoch 31/50\n",
            "11997/11997 [==============================] - 2s 154us/sample - loss: 0.0027 - acc: 0.8360 - val_loss: 0.0027 - val_acc: 0.8360\n",
            "Epoch 32/50\n",
            "11997/11997 [==============================] - 2s 151us/sample - loss: 0.0027 - acc: 0.8360 - val_loss: 0.0027 - val_acc: 0.8360\n",
            "Epoch 33/50\n",
            "11997/11997 [==============================] - 2s 149us/sample - loss: 0.0027 - acc: 0.8360 - val_loss: 0.0027 - val_acc: 0.8360\n",
            "Epoch 34/50\n",
            "11997/11997 [==============================] - 2s 152us/sample - loss: 0.0027 - acc: 0.8360 - val_loss: 0.0027 - val_acc: 0.8360\n",
            "Epoch 35/50\n",
            "11997/11997 [==============================] - 2s 166us/sample - loss: 0.0027 - acc: 0.8360 - val_loss: 0.0027 - val_acc: 0.8360\n",
            "Epoch 36/50\n",
            "11997/11997 [==============================] - 2s 157us/sample - loss: 0.0027 - acc: 0.8360 - val_loss: 0.0027 - val_acc: 0.8360\n",
            "Epoch 37/50\n",
            "11997/11997 [==============================] - 2s 156us/sample - loss: 0.0027 - acc: 0.8360 - val_loss: 0.0027 - val_acc: 0.8360\n",
            "Epoch 38/50\n",
            "11997/11997 [==============================] - 2s 153us/sample - loss: 0.0027 - acc: 0.8360 - val_loss: 0.0027 - val_acc: 0.8360\n",
            "Epoch 39/50\n",
            "11997/11997 [==============================] - 2s 153us/sample - loss: 0.0027 - acc: 0.8360 - val_loss: 0.0028 - val_acc: 0.8360\n",
            "Epoch 40/50\n",
            "11997/11997 [==============================] - 2s 151us/sample - loss: 0.0027 - acc: 0.8360 - val_loss: 0.0027 - val_acc: 0.8360\n",
            "Epoch 41/50\n",
            "11997/11997 [==============================] - 2s 151us/sample - loss: 0.0027 - acc: 0.8360 - val_loss: 0.0027 - val_acc: 0.8360\n",
            "Epoch 42/50\n",
            "11997/11997 [==============================] - 2s 153us/sample - loss: 0.0027 - acc: 0.8360 - val_loss: 0.0027 - val_acc: 0.8360\n",
            "Epoch 43/50\n",
            "11997/11997 [==============================] - 2s 157us/sample - loss: 0.0027 - acc: 0.8360 - val_loss: 0.0027 - val_acc: 0.8360\n",
            "Epoch 44/50\n",
            "11997/11997 [==============================] - 2s 158us/sample - loss: 0.0027 - acc: 0.8360 - val_loss: 0.0027 - val_acc: 0.8360\n",
            "Epoch 45/50\n",
            "11997/11997 [==============================] - 2s 158us/sample - loss: 0.0027 - acc: 0.8360 - val_loss: 0.0027 - val_acc: 0.8360\n",
            "Epoch 46/50\n",
            "11997/11997 [==============================] - 2s 148us/sample - loss: 0.0027 - acc: 0.8360 - val_loss: 0.0027 - val_acc: 0.8360\n",
            "Epoch 47/50\n",
            "11997/11997 [==============================] - 2s 145us/sample - loss: 0.0027 - acc: 0.8360 - val_loss: 0.0027 - val_acc: 0.8360\n",
            "Epoch 48/50\n",
            "11997/11997 [==============================] - 2s 148us/sample - loss: 0.0027 - acc: 0.8360 - val_loss: 0.0027 - val_acc: 0.8360\n",
            "Epoch 49/50\n",
            "11997/11997 [==============================] - 2s 146us/sample - loss: 0.0027 - acc: 0.8360 - val_loss: 0.0027 - val_acc: 0.8360\n",
            "Epoch 50/50\n",
            "11997/11997 [==============================] - 2s 147us/sample - loss: 0.0027 - acc: 0.8360 - val_loss: 0.0027 - val_acc: 0.8360\n"
          ],
          "name": "stdout"
        },
        {
          "output_type": "execute_result",
          "data": {
            "text/plain": [
              "<tensorflow.python.keras.callbacks.History at 0x7fdfa1b77e48>"
            ]
          },
          "metadata": {
            "tags": []
          },
          "execution_count": 154
        }
      ]
    },
    {
      "cell_type": "code",
      "metadata": {
        "id": "BsI-w74FH36K",
        "colab_type": "code",
        "outputId": "1b64ca1b-9fc5-417b-a35f-5369f4334589",
        "colab": {
          "base_uri": "https://localhost:8080/",
          "height": 50
        }
      },
      "source": [
        "ypred = model.predict(X4)\n",
        "s=pd.DataFrame(ypred)\n",
        "s1=pd.DataFrame(y4)\n",
        "s1.corrwith(s, axis = 0) "
      ],
      "execution_count": 155,
      "outputs": [
        {
          "output_type": "execute_result",
          "data": {
            "text/plain": [
              "0    0.291735\n",
              "dtype: float64"
            ]
          },
          "metadata": {
            "tags": []
          },
          "execution_count": 155
        }
      ]
    },
    {
      "cell_type": "code",
      "metadata": {
        "id": "BppViBEjJI1p",
        "colab_type": "code",
        "outputId": "1e72d758-4574-42c3-ca60-4401e65d7146",
        "colab": {
          "base_uri": "https://localhost:8080/",
          "height": 50
        }
      },
      "source": [
        "ypred1=model.predict(X_test4)\n",
        "s=pd.DataFrame(ypred1)\n",
        "s1=pd.DataFrame(y_test4)\n",
        "s1.corrwith(s,axis=0)"
      ],
      "execution_count": 156,
      "outputs": [
        {
          "output_type": "execute_result",
          "data": {
            "text/plain": [
              "0    0.291735\n",
              "dtype: float64"
            ]
          },
          "metadata": {
            "tags": []
          },
          "execution_count": 156
        }
      ]
    },
    {
      "cell_type": "code",
      "metadata": {
        "id": "wd6c1LKXa_r6",
        "colab_type": "code",
        "colab": {
          "base_uri": "https://localhost:8080/",
          "height": 34
        },
        "outputId": "dbb80bbd-de35-4393-a585-c8704d8edd1b"
      },
      "source": [
        "mean_absolute_error(y4,ypred)"
      ],
      "execution_count": 157,
      "outputs": [
        {
          "output_type": "execute_result",
          "data": {
            "text/plain": [
              "0.02176552173605713"
            ]
          },
          "metadata": {
            "tags": []
          },
          "execution_count": 157
        }
      ]
    },
    {
      "cell_type": "code",
      "metadata": {
        "id": "aYBttiDKbDd4",
        "colab_type": "code",
        "colab": {
          "base_uri": "https://localhost:8080/",
          "height": 34
        },
        "outputId": "f354e4a8-4304-43bd-e411-1fecf7534e5f"
      },
      "source": [
        "mean_absolute_error(y_test4,ypred1)"
      ],
      "execution_count": 158,
      "outputs": [
        {
          "output_type": "execute_result",
          "data": {
            "text/plain": [
              "0.02176552173605713"
            ]
          },
          "metadata": {
            "tags": []
          },
          "execution_count": 158
        }
      ]
    },
    {
      "cell_type": "code",
      "metadata": {
        "id": "o7U3xQIlMU7j",
        "colab_type": "code",
        "outputId": "5237be90-f783-4abe-b445-ef0b0596dfa8",
        "colab": {
          "base_uri": "https://localhost:8080/",
          "height": 34
        }
      },
      "source": [
        "r2_score(y4,ypred)"
      ],
      "execution_count": 159,
      "outputs": [
        {
          "output_type": "execute_result",
          "data": {
            "text/plain": [
              "0.08492472693900921"
            ]
          },
          "metadata": {
            "tags": []
          },
          "execution_count": 159
        }
      ]
    },
    {
      "cell_type": "code",
      "metadata": {
        "id": "te0hYyPUMXwG",
        "colab_type": "code",
        "outputId": "bc6813ac-87c5-436c-fa74-b1a0c4989180",
        "colab": {
          "base_uri": "https://localhost:8080/",
          "height": 34
        }
      },
      "source": [
        "r2_score(y_test4,ypred1)"
      ],
      "execution_count": 160,
      "outputs": [
        {
          "output_type": "execute_result",
          "data": {
            "text/plain": [
              "0.08492472693900921"
            ]
          },
          "metadata": {
            "tags": []
          },
          "execution_count": 160
        }
      ]
    },
    {
      "cell_type": "code",
      "metadata": {
        "id": "Pwz3PEtJtNcq",
        "colab_type": "code",
        "outputId": "4eb86418-956d-4ad9-fbe1-67b4e54f6bf3",
        "colab": {
          "base_uri": "https://localhost:8080/",
          "height": 1000
        }
      },
      "source": [
        "model.fit(X5, y5, validation_data=(X_test5,y_test5),epochs=50)"
      ],
      "execution_count": 161,
      "outputs": [
        {
          "output_type": "stream",
          "text": [
            "Train on 11997 samples, validate on 11997 samples\n",
            "Epoch 1/50\n",
            "11997/11997 [==============================] - 2s 152us/sample - loss: 0.0018 - acc: 0.8467 - val_loss: 0.0018 - val_acc: 0.8467\n",
            "Epoch 2/50\n",
            "11997/11997 [==============================] - 2s 148us/sample - loss: 0.0018 - acc: 0.8467 - val_loss: 0.0018 - val_acc: 0.8467\n",
            "Epoch 3/50\n",
            "11997/11997 [==============================] - 2s 148us/sample - loss: 0.0018 - acc: 0.8467 - val_loss: 0.0018 - val_acc: 0.8467\n",
            "Epoch 4/50\n",
            "11997/11997 [==============================] - 2s 148us/sample - loss: 0.0018 - acc: 0.8467 - val_loss: 0.0018 - val_acc: 0.8467\n",
            "Epoch 5/50\n",
            "11997/11997 [==============================] - 2s 146us/sample - loss: 0.0018 - acc: 0.8467 - val_loss: 0.0017 - val_acc: 0.8467\n",
            "Epoch 6/50\n",
            "11997/11997 [==============================] - 2s 146us/sample - loss: 0.0018 - acc: 0.8467 - val_loss: 0.0017 - val_acc: 0.8467\n",
            "Epoch 7/50\n",
            "11997/11997 [==============================] - 2s 146us/sample - loss: 0.0018 - acc: 0.8467 - val_loss: 0.0018 - val_acc: 0.8467\n",
            "Epoch 8/50\n",
            "11997/11997 [==============================] - 2s 148us/sample - loss: 0.0018 - acc: 0.8467 - val_loss: 0.0017 - val_acc: 0.8467\n",
            "Epoch 9/50\n",
            "11997/11997 [==============================] - 2s 147us/sample - loss: 0.0018 - acc: 0.8467 - val_loss: 0.0017 - val_acc: 0.8467\n",
            "Epoch 10/50\n",
            "11997/11997 [==============================] - 2s 151us/sample - loss: 0.0018 - acc: 0.8467 - val_loss: 0.0018 - val_acc: 0.8467\n",
            "Epoch 11/50\n",
            "11997/11997 [==============================] - 2s 149us/sample - loss: 0.0018 - acc: 0.8467 - val_loss: 0.0018 - val_acc: 0.8467\n",
            "Epoch 12/50\n",
            "11997/11997 [==============================] - 2s 148us/sample - loss: 0.0018 - acc: 0.8467 - val_loss: 0.0017 - val_acc: 0.8467\n",
            "Epoch 13/50\n",
            "11997/11997 [==============================] - 2s 149us/sample - loss: 0.0018 - acc: 0.8467 - val_loss: 0.0017 - val_acc: 0.8467\n",
            "Epoch 14/50\n",
            "11997/11997 [==============================] - 2s 151us/sample - loss: 0.0018 - acc: 0.8467 - val_loss: 0.0017 - val_acc: 0.8467\n",
            "Epoch 15/50\n",
            "11997/11997 [==============================] - 2s 152us/sample - loss: 0.0018 - acc: 0.8467 - val_loss: 0.0018 - val_acc: 0.8467\n",
            "Epoch 16/50\n",
            "11997/11997 [==============================] - 2s 149us/sample - loss: 0.0018 - acc: 0.8467 - val_loss: 0.0018 - val_acc: 0.8467\n",
            "Epoch 17/50\n",
            "11997/11997 [==============================] - 2s 149us/sample - loss: 0.0017 - acc: 0.8467 - val_loss: 0.0017 - val_acc: 0.8467\n",
            "Epoch 18/50\n",
            "11997/11997 [==============================] - 2s 154us/sample - loss: 0.0017 - acc: 0.8467 - val_loss: 0.0017 - val_acc: 0.8467\n",
            "Epoch 19/50\n",
            "11997/11997 [==============================] - 2s 156us/sample - loss: 0.0017 - acc: 0.8467 - val_loss: 0.0017 - val_acc: 0.8467\n",
            "Epoch 20/50\n",
            "11997/11997 [==============================] - 2s 156us/sample - loss: 0.0018 - acc: 0.8467 - val_loss: 0.0017 - val_acc: 0.8467\n",
            "Epoch 21/50\n",
            "11997/11997 [==============================] - 2s 156us/sample - loss: 0.0018 - acc: 0.8467 - val_loss: 0.0017 - val_acc: 0.8467\n",
            "Epoch 22/50\n",
            "11997/11997 [==============================] - 2s 160us/sample - loss: 0.0017 - acc: 0.8467 - val_loss: 0.0017 - val_acc: 0.8467\n",
            "Epoch 23/50\n",
            "11997/11997 [==============================] - 2s 154us/sample - loss: 0.0017 - acc: 0.8467 - val_loss: 0.0017 - val_acc: 0.8467\n",
            "Epoch 24/50\n",
            "11997/11997 [==============================] - 2s 156us/sample - loss: 0.0017 - acc: 0.8467 - val_loss: 0.0018 - val_acc: 0.8467\n",
            "Epoch 25/50\n",
            "11997/11997 [==============================] - 2s 158us/sample - loss: 0.0017 - acc: 0.8467 - val_loss: 0.0017 - val_acc: 0.8467\n",
            "Epoch 26/50\n",
            "11997/11997 [==============================] - 2s 155us/sample - loss: 0.0017 - acc: 0.8467 - val_loss: 0.0017 - val_acc: 0.8467\n",
            "Epoch 27/50\n",
            "11997/11997 [==============================] - 2s 156us/sample - loss: 0.0017 - acc: 0.8467 - val_loss: 0.0017 - val_acc: 0.8467\n",
            "Epoch 28/50\n",
            "11997/11997 [==============================] - 2s 149us/sample - loss: 0.0017 - acc: 0.8467 - val_loss: 0.0017 - val_acc: 0.8467\n",
            "Epoch 29/50\n",
            "11997/11997 [==============================] - 2s 152us/sample - loss: 0.0017 - acc: 0.8467 - val_loss: 0.0017 - val_acc: 0.8467\n",
            "Epoch 30/50\n",
            "11997/11997 [==============================] - 2s 149us/sample - loss: 0.0017 - acc: 0.8467 - val_loss: 0.0017 - val_acc: 0.8467\n",
            "Epoch 31/50\n",
            "11997/11997 [==============================] - 2s 153us/sample - loss: 0.0017 - acc: 0.8467 - val_loss: 0.0017 - val_acc: 0.8467\n",
            "Epoch 32/50\n",
            "11997/11997 [==============================] - 2s 154us/sample - loss: 0.0017 - acc: 0.8467 - val_loss: 0.0017 - val_acc: 0.8467\n",
            "Epoch 33/50\n",
            "11997/11997 [==============================] - 2s 152us/sample - loss: 0.0017 - acc: 0.8467 - val_loss: 0.0017 - val_acc: 0.8467\n",
            "Epoch 34/50\n",
            "11997/11997 [==============================] - 2s 154us/sample - loss: 0.0017 - acc: 0.8467 - val_loss: 0.0017 - val_acc: 0.8467\n",
            "Epoch 35/50\n",
            "11997/11997 [==============================] - 2s 154us/sample - loss: 0.0017 - acc: 0.8467 - val_loss: 0.0017 - val_acc: 0.8467\n",
            "Epoch 36/50\n",
            "11997/11997 [==============================] - 2s 154us/sample - loss: 0.0018 - acc: 0.8467 - val_loss: 0.0018 - val_acc: 0.8467\n",
            "Epoch 37/50\n",
            "11997/11997 [==============================] - 2s 153us/sample - loss: 0.0017 - acc: 0.8467 - val_loss: 0.0017 - val_acc: 0.8467\n",
            "Epoch 38/50\n",
            "11997/11997 [==============================] - 2s 152us/sample - loss: 0.0017 - acc: 0.8467 - val_loss: 0.0017 - val_acc: 0.8467\n",
            "Epoch 39/50\n",
            "11997/11997 [==============================] - 2s 152us/sample - loss: 0.0017 - acc: 0.8467 - val_loss: 0.0018 - val_acc: 0.8467\n",
            "Epoch 40/50\n",
            "11997/11997 [==============================] - 2s 154us/sample - loss: 0.0017 - acc: 0.8467 - val_loss: 0.0017 - val_acc: 0.8467\n",
            "Epoch 41/50\n",
            "11997/11997 [==============================] - 2s 152us/sample - loss: 0.0017 - acc: 0.8467 - val_loss: 0.0017 - val_acc: 0.8467\n",
            "Epoch 42/50\n",
            "11997/11997 [==============================] - 2s 149us/sample - loss: 0.0017 - acc: 0.8467 - val_loss: 0.0017 - val_acc: 0.8467\n",
            "Epoch 43/50\n",
            "11997/11997 [==============================] - 2s 150us/sample - loss: 0.0017 - acc: 0.8467 - val_loss: 0.0017 - val_acc: 0.8467\n",
            "Epoch 44/50\n",
            "11997/11997 [==============================] - 2s 156us/sample - loss: 0.0017 - acc: 0.8467 - val_loss: 0.0017 - val_acc: 0.8467\n",
            "Epoch 45/50\n",
            "11997/11997 [==============================] - 2s 152us/sample - loss: 0.0017 - acc: 0.8467 - val_loss: 0.0017 - val_acc: 0.8467\n",
            "Epoch 46/50\n",
            "11997/11997 [==============================] - 2s 150us/sample - loss: 0.0017 - acc: 0.8467 - val_loss: 0.0018 - val_acc: 0.8467\n",
            "Epoch 47/50\n",
            "11997/11997 [==============================] - 2s 149us/sample - loss: 0.0017 - acc: 0.8467 - val_loss: 0.0018 - val_acc: 0.8467\n",
            "Epoch 48/50\n",
            "11997/11997 [==============================] - 2s 147us/sample - loss: 0.0017 - acc: 0.8467 - val_loss: 0.0017 - val_acc: 0.8467\n",
            "Epoch 49/50\n",
            "11997/11997 [==============================] - 2s 152us/sample - loss: 0.0017 - acc: 0.8467 - val_loss: 0.0017 - val_acc: 0.8467\n",
            "Epoch 50/50\n",
            "11997/11997 [==============================] - 2s 160us/sample - loss: 0.0017 - acc: 0.8467 - val_loss: 0.0017 - val_acc: 0.8467\n"
          ],
          "name": "stdout"
        },
        {
          "output_type": "execute_result",
          "data": {
            "text/plain": [
              "<tensorflow.python.keras.callbacks.History at 0x7fdfa1b5f438>"
            ]
          },
          "metadata": {
            "tags": []
          },
          "execution_count": 161
        }
      ]
    },
    {
      "cell_type": "code",
      "metadata": {
        "id": "jK30TTmsH5Xa",
        "colab_type": "code",
        "outputId": "a4b42fbe-6e49-4627-826b-c7a81e827d54",
        "colab": {
          "base_uri": "https://localhost:8080/",
          "height": 50
        }
      },
      "source": [
        "ypred = model.predict(X5)\n",
        "s=pd.DataFrame(ypred)\n",
        "s1=pd.DataFrame(y5)\n",
        "s1.corrwith(s, axis = 0) "
      ],
      "execution_count": 162,
      "outputs": [
        {
          "output_type": "execute_result",
          "data": {
            "text/plain": [
              "0    0.250546\n",
              "dtype: float64"
            ]
          },
          "metadata": {
            "tags": []
          },
          "execution_count": 162
        }
      ]
    },
    {
      "cell_type": "code",
      "metadata": {
        "id": "ELbd5s3jML2y",
        "colab_type": "code",
        "outputId": "15b63bda-415b-447c-acd3-8aa55bda7230",
        "colab": {
          "base_uri": "https://localhost:8080/",
          "height": 34
        }
      },
      "source": [
        "r2_score(y5,ypred)"
      ],
      "execution_count": 163,
      "outputs": [
        {
          "output_type": "execute_result",
          "data": {
            "text/plain": [
              "0.06013278724095561"
            ]
          },
          "metadata": {
            "tags": []
          },
          "execution_count": 163
        }
      ]
    },
    {
      "cell_type": "code",
      "metadata": {
        "id": "ixBEfQXVJKU4",
        "colab_type": "code",
        "outputId": "1a65024c-6b7b-4165-e027-b4bcf93c6e68",
        "colab": {
          "base_uri": "https://localhost:8080/",
          "height": 50
        }
      },
      "source": [
        "ypred1=model.predict(X_test5)\n",
        "s=pd.DataFrame(ypred1)\n",
        "s1=pd.DataFrame(y_test5)\n",
        "s1.corrwith(s,axis=0)"
      ],
      "execution_count": 164,
      "outputs": [
        {
          "output_type": "execute_result",
          "data": {
            "text/plain": [
              "0    0.250546\n",
              "dtype: float64"
            ]
          },
          "metadata": {
            "tags": []
          },
          "execution_count": 164
        }
      ]
    },
    {
      "cell_type": "code",
      "metadata": {
        "id": "KDE8ckrObIuQ",
        "colab_type": "code",
        "colab": {
          "base_uri": "https://localhost:8080/",
          "height": 34
        },
        "outputId": "50c66c6f-09d7-46aa-f09c-22f939c7a71b"
      },
      "source": [
        "mean_absolute_error(y5,ypred)"
      ],
      "execution_count": 165,
      "outputs": [
        {
          "output_type": "execute_result",
          "data": {
            "text/plain": [
              "0.018214066420204327"
            ]
          },
          "metadata": {
            "tags": []
          },
          "execution_count": 165
        }
      ]
    },
    {
      "cell_type": "code",
      "metadata": {
        "id": "PcrMGkNXbMX4",
        "colab_type": "code",
        "colab": {
          "base_uri": "https://localhost:8080/",
          "height": 34
        },
        "outputId": "2214edd1-214f-46cb-ab3c-eb11a4242b4c"
      },
      "source": [
        "mean_absolute_error(y_test5,ypred1)"
      ],
      "execution_count": 166,
      "outputs": [
        {
          "output_type": "execute_result",
          "data": {
            "text/plain": [
              "0.018214066420204327"
            ]
          },
          "metadata": {
            "tags": []
          },
          "execution_count": 166
        }
      ]
    },
    {
      "cell_type": "code",
      "metadata": {
        "id": "70Aaq_luMOxY",
        "colab_type": "code",
        "outputId": "db0f481a-796c-4e76-b5f7-603a0ae72f35",
        "colab": {
          "base_uri": "https://localhost:8080/",
          "height": 34
        }
      },
      "source": [
        "r2_score(y_test5,ypred1)"
      ],
      "execution_count": 167,
      "outputs": [
        {
          "output_type": "execute_result",
          "data": {
            "text/plain": [
              "0.06013278724095561"
            ]
          },
          "metadata": {
            "tags": []
          },
          "execution_count": 167
        }
      ]
    },
    {
      "cell_type": "code",
      "metadata": {
        "id": "mJL5gGhXtNqT",
        "colab_type": "code",
        "outputId": "d1304951-453c-464a-e0f5-5f45e82f7287",
        "colab": {
          "base_uri": "https://localhost:8080/",
          "height": 1000
        }
      },
      "source": [
        "model.fit(X6, y6, validation_data=(X_test6,y_test6),epochs=50)"
      ],
      "execution_count": 168,
      "outputs": [
        {
          "output_type": "stream",
          "text": [
            "Train on 11997 samples, validate on 11997 samples\n",
            "Epoch 1/50\n",
            "11997/11997 [==============================] - 2s 161us/sample - loss: 0.0031 - acc: 0.8141 - val_loss: 0.0031 - val_acc: 0.8141\n",
            "Epoch 2/50\n",
            "11997/11997 [==============================] - 2s 156us/sample - loss: 0.0031 - acc: 0.8141 - val_loss: 0.0031 - val_acc: 0.8141\n",
            "Epoch 3/50\n",
            "11997/11997 [==============================] - 2s 154us/sample - loss: 0.0031 - acc: 0.8141 - val_loss: 0.0031 - val_acc: 0.8141\n",
            "Epoch 4/50\n",
            "11997/11997 [==============================] - 2s 152us/sample - loss: 0.0031 - acc: 0.8141 - val_loss: 0.0031 - val_acc: 0.8141\n",
            "Epoch 5/50\n",
            "11997/11997 [==============================] - 2s 152us/sample - loss: 0.0031 - acc: 0.8141 - val_loss: 0.0031 - val_acc: 0.8141\n",
            "Epoch 6/50\n",
            "11997/11997 [==============================] - 2s 150us/sample - loss: 0.0031 - acc: 0.8141 - val_loss: 0.0031 - val_acc: 0.8141\n",
            "Epoch 7/50\n",
            "11997/11997 [==============================] - 2s 154us/sample - loss: 0.0031 - acc: 0.8141 - val_loss: 0.0031 - val_acc: 0.8141\n",
            "Epoch 8/50\n",
            "11997/11997 [==============================] - 2s 150us/sample - loss: 0.0031 - acc: 0.8141 - val_loss: 0.0031 - val_acc: 0.8141\n",
            "Epoch 9/50\n",
            "11997/11997 [==============================] - 2s 152us/sample - loss: 0.0031 - acc: 0.8141 - val_loss: 0.0031 - val_acc: 0.8141\n",
            "Epoch 10/50\n",
            "11997/11997 [==============================] - 2s 152us/sample - loss: 0.0031 - acc: 0.8141 - val_loss: 0.0031 - val_acc: 0.8141\n",
            "Epoch 11/50\n",
            "11997/11997 [==============================] - 2s 153us/sample - loss: 0.0031 - acc: 0.8141 - val_loss: 0.0031 - val_acc: 0.8141\n",
            "Epoch 12/50\n",
            "11997/11997 [==============================] - 2s 154us/sample - loss: 0.0031 - acc: 0.8141 - val_loss: 0.0031 - val_acc: 0.8141\n",
            "Epoch 13/50\n",
            "11997/11997 [==============================] - 2s 148us/sample - loss: 0.0031 - acc: 0.8141 - val_loss: 0.0031 - val_acc: 0.8141\n",
            "Epoch 14/50\n",
            "11997/11997 [==============================] - 2s 155us/sample - loss: 0.0031 - acc: 0.8141 - val_loss: 0.0031 - val_acc: 0.8141\n",
            "Epoch 15/50\n",
            "11997/11997 [==============================] - 2s 149us/sample - loss: 0.0031 - acc: 0.8141 - val_loss: 0.0031 - val_acc: 0.8141\n",
            "Epoch 16/50\n",
            "11997/11997 [==============================] - 2s 153us/sample - loss: 0.0031 - acc: 0.8141 - val_loss: 0.0031 - val_acc: 0.8141\n",
            "Epoch 17/50\n",
            "11997/11997 [==============================] - 2s 149us/sample - loss: 0.0031 - acc: 0.8141 - val_loss: 0.0031 - val_acc: 0.8141\n",
            "Epoch 18/50\n",
            "11997/11997 [==============================] - 2s 153us/sample - loss: 0.0031 - acc: 0.8141 - val_loss: 0.0031 - val_acc: 0.8141\n",
            "Epoch 19/50\n",
            "11997/11997 [==============================] - 2s 152us/sample - loss: 0.0031 - acc: 0.8141 - val_loss: 0.0031 - val_acc: 0.8141\n",
            "Epoch 20/50\n",
            "11997/11997 [==============================] - 2s 154us/sample - loss: 0.0031 - acc: 0.8141 - val_loss: 0.0031 - val_acc: 0.8141\n",
            "Epoch 21/50\n",
            "11997/11997 [==============================] - 2s 154us/sample - loss: 0.0031 - acc: 0.8141 - val_loss: 0.0031 - val_acc: 0.8141\n",
            "Epoch 22/50\n",
            "11997/11997 [==============================] - 2s 152us/sample - loss: 0.0031 - acc: 0.8141 - val_loss: 0.0031 - val_acc: 0.8141\n",
            "Epoch 23/50\n",
            "11997/11997 [==============================] - 2s 151us/sample - loss: 0.0031 - acc: 0.8141 - val_loss: 0.0031 - val_acc: 0.8141\n",
            "Epoch 24/50\n",
            "11997/11997 [==============================] - 2s 155us/sample - loss: 0.0031 - acc: 0.8141 - val_loss: 0.0031 - val_acc: 0.8141\n",
            "Epoch 25/50\n",
            "11997/11997 [==============================] - 2s 158us/sample - loss: 0.0031 - acc: 0.8141 - val_loss: 0.0031 - val_acc: 0.8141\n",
            "Epoch 26/50\n",
            "11997/11997 [==============================] - 2s 152us/sample - loss: 0.0031 - acc: 0.8141 - val_loss: 0.0031 - val_acc: 0.8141\n",
            "Epoch 27/50\n",
            "11997/11997 [==============================] - 2s 156us/sample - loss: 0.0031 - acc: 0.8141 - val_loss: 0.0031 - val_acc: 0.8141\n",
            "Epoch 28/50\n",
            "11997/11997 [==============================] - 2s 156us/sample - loss: 0.0031 - acc: 0.8141 - val_loss: 0.0031 - val_acc: 0.8141\n",
            "Epoch 29/50\n",
            "11997/11997 [==============================] - 2s 152us/sample - loss: 0.0031 - acc: 0.8141 - val_loss: 0.0031 - val_acc: 0.8141\n",
            "Epoch 30/50\n",
            "11997/11997 [==============================] - 2s 161us/sample - loss: 0.0031 - acc: 0.8141 - val_loss: 0.0031 - val_acc: 0.8141\n",
            "Epoch 31/50\n",
            "11997/11997 [==============================] - 2s 155us/sample - loss: 0.0031 - acc: 0.8141 - val_loss: 0.0031 - val_acc: 0.8141\n",
            "Epoch 32/50\n",
            "11997/11997 [==============================] - 2s 160us/sample - loss: 0.0031 - acc: 0.8141 - val_loss: 0.0031 - val_acc: 0.8141\n",
            "Epoch 33/50\n",
            "11997/11997 [==============================] - 2s 163us/sample - loss: 0.0031 - acc: 0.8141 - val_loss: 0.0031 - val_acc: 0.8141\n",
            "Epoch 34/50\n",
            "11997/11997 [==============================] - 2s 166us/sample - loss: 0.0031 - acc: 0.8141 - val_loss: 0.0031 - val_acc: 0.8141\n",
            "Epoch 35/50\n",
            "11997/11997 [==============================] - 2s 174us/sample - loss: 0.0031 - acc: 0.8141 - val_loss: 0.0031 - val_acc: 0.8141\n",
            "Epoch 36/50\n",
            "11997/11997 [==============================] - 2s 170us/sample - loss: 0.0031 - acc: 0.8141 - val_loss: 0.0031 - val_acc: 0.8141\n",
            "Epoch 37/50\n",
            "11997/11997 [==============================] - 2s 169us/sample - loss: 0.0031 - acc: 0.8141 - val_loss: 0.0031 - val_acc: 0.8141\n",
            "Epoch 38/50\n",
            "11997/11997 [==============================] - 2s 160us/sample - loss: 0.0031 - acc: 0.8141 - val_loss: 0.0031 - val_acc: 0.8141\n",
            "Epoch 39/50\n",
            "11997/11997 [==============================] - 2s 163us/sample - loss: 0.0031 - acc: 0.8141 - val_loss: 0.0031 - val_acc: 0.8141\n",
            "Epoch 40/50\n",
            "11997/11997 [==============================] - 2s 165us/sample - loss: 0.0031 - acc: 0.8141 - val_loss: 0.0031 - val_acc: 0.8141\n",
            "Epoch 41/50\n",
            "11997/11997 [==============================] - 2s 164us/sample - loss: 0.0031 - acc: 0.8141 - val_loss: 0.0031 - val_acc: 0.8141\n",
            "Epoch 42/50\n",
            "11997/11997 [==============================] - 2s 168us/sample - loss: 0.0031 - acc: 0.8141 - val_loss: 0.0031 - val_acc: 0.8141\n",
            "Epoch 43/50\n",
            "11997/11997 [==============================] - 2s 162us/sample - loss: 0.0031 - acc: 0.8141 - val_loss: 0.0031 - val_acc: 0.8141\n",
            "Epoch 44/50\n",
            "11997/11997 [==============================] - 2s 163us/sample - loss: 0.0031 - acc: 0.8141 - val_loss: 0.0031 - val_acc: 0.8141\n",
            "Epoch 45/50\n",
            "11997/11997 [==============================] - 2s 163us/sample - loss: 0.0031 - acc: 0.8141 - val_loss: 0.0031 - val_acc: 0.8141\n",
            "Epoch 46/50\n",
            "11997/11997 [==============================] - 2s 163us/sample - loss: 0.0031 - acc: 0.8141 - val_loss: 0.0031 - val_acc: 0.8141\n",
            "Epoch 47/50\n",
            "11997/11997 [==============================] - 2s 165us/sample - loss: 0.0031 - acc: 0.8141 - val_loss: 0.0031 - val_acc: 0.8141\n",
            "Epoch 48/50\n",
            "11997/11997 [==============================] - 2s 161us/sample - loss: 0.0031 - acc: 0.8141 - val_loss: 0.0031 - val_acc: 0.8141\n",
            "Epoch 49/50\n",
            "11997/11997 [==============================] - 2s 164us/sample - loss: 0.0031 - acc: 0.8141 - val_loss: 0.0030 - val_acc: 0.8141\n",
            "Epoch 50/50\n",
            "11997/11997 [==============================] - 2s 157us/sample - loss: 0.0031 - acc: 0.8141 - val_loss: 0.0030 - val_acc: 0.8141\n"
          ],
          "name": "stdout"
        },
        {
          "output_type": "execute_result",
          "data": {
            "text/plain": [
              "<tensorflow.python.keras.callbacks.History at 0x7fdfa1b823c8>"
            ]
          },
          "metadata": {
            "tags": []
          },
          "execution_count": 168
        }
      ]
    },
    {
      "cell_type": "code",
      "metadata": {
        "id": "jtgC2LPgH7Gj",
        "colab_type": "code",
        "outputId": "244ffd6e-700b-437a-8b32-98c159837650",
        "colab": {
          "base_uri": "https://localhost:8080/",
          "height": 50
        }
      },
      "source": [
        "ypred = model.predict(X6)\n",
        "s=pd.DataFrame(ypred)\n",
        "s1=pd.DataFrame(y6)\n",
        "s1.corrwith(s, axis = 0) "
      ],
      "execution_count": 169,
      "outputs": [
        {
          "output_type": "execute_result",
          "data": {
            "text/plain": [
              "0    0.311475\n",
              "dtype: float64"
            ]
          },
          "metadata": {
            "tags": []
          },
          "execution_count": 169
        }
      ]
    },
    {
      "cell_type": "code",
      "metadata": {
        "id": "0pz7S13uMF-1",
        "colab_type": "code",
        "outputId": "9424e796-ffd3-4e5c-9e45-0e067e1d7b78",
        "colab": {
          "base_uri": "https://localhost:8080/",
          "height": 34
        }
      },
      "source": [
        "r2_score(y6,ypred)"
      ],
      "execution_count": 170,
      "outputs": [
        {
          "output_type": "execute_result",
          "data": {
            "text/plain": [
              "0.09690248200104978"
            ]
          },
          "metadata": {
            "tags": []
          },
          "execution_count": 170
        }
      ]
    },
    {
      "cell_type": "code",
      "metadata": {
        "id": "YnWGLzXNJMYO",
        "colab_type": "code",
        "outputId": "7724d9d4-fe5a-43af-fda5-b6517412f09b",
        "colab": {
          "base_uri": "https://localhost:8080/",
          "height": 50
        }
      },
      "source": [
        "ypred1=model.predict(X_test6)\n",
        "s=pd.DataFrame(ypred1)\n",
        "s1=pd.DataFrame(y_test6)\n",
        "s1.corrwith(s,axis=0)"
      ],
      "execution_count": 171,
      "outputs": [
        {
          "output_type": "execute_result",
          "data": {
            "text/plain": [
              "0    0.311475\n",
              "dtype: float64"
            ]
          },
          "metadata": {
            "tags": []
          },
          "execution_count": 171
        }
      ]
    },
    {
      "cell_type": "code",
      "metadata": {
        "id": "G_sfckB5bT_O",
        "colab_type": "code",
        "colab": {
          "base_uri": "https://localhost:8080/",
          "height": 34
        },
        "outputId": "f58d0e97-36e8-4bd8-922b-e84de78967ca"
      },
      "source": [
        "mean_absolute_error(y6,ypred)"
      ],
      "execution_count": 172,
      "outputs": [
        {
          "output_type": "execute_result",
          "data": {
            "text/plain": [
              "0.02416579618491788"
            ]
          },
          "metadata": {
            "tags": []
          },
          "execution_count": 172
        }
      ]
    },
    {
      "cell_type": "code",
      "metadata": {
        "id": "UcZfNKSYbXj6",
        "colab_type": "code",
        "colab": {
          "base_uri": "https://localhost:8080/",
          "height": 34
        },
        "outputId": "737192b6-90a7-4acc-a0ec-8913c3691d6e"
      },
      "source": [
        "mean_absolute_error(y_test6,ypred1)"
      ],
      "execution_count": 173,
      "outputs": [
        {
          "output_type": "execute_result",
          "data": {
            "text/plain": [
              "0.02416579618491788"
            ]
          },
          "metadata": {
            "tags": []
          },
          "execution_count": 173
        }
      ]
    },
    {
      "cell_type": "code",
      "metadata": {
        "id": "vHt09FiPMHsf",
        "colab_type": "code",
        "outputId": "9ed7cb0f-9924-4e38-c16c-64f65acbab9a",
        "colab": {
          "base_uri": "https://localhost:8080/",
          "height": 34
        }
      },
      "source": [
        "r2_score(y_test6,ypred1)"
      ],
      "execution_count": 174,
      "outputs": [
        {
          "output_type": "execute_result",
          "data": {
            "text/plain": [
              "0.09690248200104978"
            ]
          },
          "metadata": {
            "tags": []
          },
          "execution_count": 174
        }
      ]
    },
    {
      "cell_type": "code",
      "metadata": {
        "id": "GMeE8OZ5tN17",
        "colab_type": "code",
        "outputId": "3fe037af-e9e6-439d-d0c6-0ab8b305597d",
        "colab": {
          "base_uri": "https://localhost:8080/",
          "height": 1000
        }
      },
      "source": [
        "model.fit(X7, y7, validation_data=(X_test7,y_test7),epochs=50)"
      ],
      "execution_count": 175,
      "outputs": [
        {
          "output_type": "stream",
          "text": [
            "Train on 11997 samples, validate on 11997 samples\n",
            "Epoch 1/50\n",
            "11997/11997 [==============================] - 2s 167us/sample - loss: 0.0034 - acc: 0.8333 - val_loss: 0.0034 - val_acc: 0.8333\n",
            "Epoch 2/50\n",
            "11997/11997 [==============================] - 2s 161us/sample - loss: 0.0034 - acc: 0.8333 - val_loss: 0.0034 - val_acc: 0.8333\n",
            "Epoch 3/50\n",
            "11997/11997 [==============================] - 2s 158us/sample - loss: 0.0034 - acc: 0.8333 - val_loss: 0.0034 - val_acc: 0.8333\n",
            "Epoch 4/50\n",
            "11997/11997 [==============================] - 2s 164us/sample - loss: 0.0034 - acc: 0.8333 - val_loss: 0.0034 - val_acc: 0.8333\n",
            "Epoch 5/50\n",
            "11997/11997 [==============================] - 2s 161us/sample - loss: 0.0034 - acc: 0.8333 - val_loss: 0.0034 - val_acc: 0.8333\n",
            "Epoch 6/50\n",
            "11997/11997 [==============================] - 2s 160us/sample - loss: 0.0034 - acc: 0.8333 - val_loss: 0.0034 - val_acc: 0.8333\n",
            "Epoch 7/50\n",
            "11997/11997 [==============================] - 2s 161us/sample - loss: 0.0034 - acc: 0.8333 - val_loss: 0.0034 - val_acc: 0.8333\n",
            "Epoch 8/50\n",
            "11997/11997 [==============================] - 2s 163us/sample - loss: 0.0034 - acc: 0.8333 - val_loss: 0.0034 - val_acc: 0.8333\n",
            "Epoch 9/50\n",
            "11997/11997 [==============================] - 2s 159us/sample - loss: 0.0034 - acc: 0.8333 - val_loss: 0.0034 - val_acc: 0.8333\n",
            "Epoch 10/50\n",
            "11997/11997 [==============================] - 2s 155us/sample - loss: 0.0034 - acc: 0.8333 - val_loss: 0.0034 - val_acc: 0.8333\n",
            "Epoch 11/50\n",
            "11997/11997 [==============================] - 2s 154us/sample - loss: 0.0034 - acc: 0.8333 - val_loss: 0.0034 - val_acc: 0.8333\n",
            "Epoch 12/50\n",
            "11997/11997 [==============================] - 2s 160us/sample - loss: 0.0034 - acc: 0.8333 - val_loss: 0.0034 - val_acc: 0.8333\n",
            "Epoch 13/50\n",
            "11997/11997 [==============================] - 2s 163us/sample - loss: 0.0034 - acc: 0.8333 - val_loss: 0.0034 - val_acc: 0.8333\n",
            "Epoch 14/50\n",
            "11997/11997 [==============================] - 2s 163us/sample - loss: 0.0034 - acc: 0.8333 - val_loss: 0.0034 - val_acc: 0.8333\n",
            "Epoch 15/50\n",
            "11997/11997 [==============================] - 2s 156us/sample - loss: 0.0034 - acc: 0.8333 - val_loss: 0.0034 - val_acc: 0.8333\n",
            "Epoch 16/50\n",
            "11997/11997 [==============================] - 2s 157us/sample - loss: 0.0034 - acc: 0.8333 - val_loss: 0.0034 - val_acc: 0.8333\n",
            "Epoch 17/50\n",
            "11997/11997 [==============================] - 2s 168us/sample - loss: 0.0034 - acc: 0.8333 - val_loss: 0.0034 - val_acc: 0.8333\n",
            "Epoch 18/50\n",
            "11997/11997 [==============================] - 2s 168us/sample - loss: 0.0034 - acc: 0.8333 - val_loss: 0.0034 - val_acc: 0.8333\n",
            "Epoch 19/50\n",
            "11997/11997 [==============================] - 2s 167us/sample - loss: 0.0034 - acc: 0.8333 - val_loss: 0.0034 - val_acc: 0.8333\n",
            "Epoch 20/50\n",
            "11997/11997 [==============================] - 2s 169us/sample - loss: 0.0034 - acc: 0.8333 - val_loss: 0.0034 - val_acc: 0.8333\n",
            "Epoch 21/50\n",
            "11997/11997 [==============================] - 2s 168us/sample - loss: 0.0034 - acc: 0.8333 - val_loss: 0.0034 - val_acc: 0.8333\n",
            "Epoch 22/50\n",
            "11997/11997 [==============================] - 2s 165us/sample - loss: 0.0034 - acc: 0.8333 - val_loss: 0.0034 - val_acc: 0.8333\n",
            "Epoch 23/50\n",
            "11997/11997 [==============================] - 2s 159us/sample - loss: 0.0034 - acc: 0.8333 - val_loss: 0.0034 - val_acc: 0.8333\n",
            "Epoch 24/50\n",
            "11997/11997 [==============================] - 2s 158us/sample - loss: 0.0034 - acc: 0.8333 - val_loss: 0.0034 - val_acc: 0.8333\n",
            "Epoch 25/50\n",
            "11997/11997 [==============================] - 2s 156us/sample - loss: 0.0034 - acc: 0.8333 - val_loss: 0.0034 - val_acc: 0.8333\n",
            "Epoch 26/50\n",
            "11997/11997 [==============================] - 2s 153us/sample - loss: 0.0034 - acc: 0.8333 - val_loss: 0.0034 - val_acc: 0.8333\n",
            "Epoch 27/50\n",
            "11997/11997 [==============================] - 2s 151us/sample - loss: 0.0034 - acc: 0.8333 - val_loss: 0.0034 - val_acc: 0.8333\n",
            "Epoch 28/50\n",
            "11997/11997 [==============================] - 2s 154us/sample - loss: 0.0034 - acc: 0.8333 - val_loss: 0.0034 - val_acc: 0.8333\n",
            "Epoch 29/50\n",
            "11997/11997 [==============================] - 2s 154us/sample - loss: 0.0034 - acc: 0.8333 - val_loss: 0.0034 - val_acc: 0.8333\n",
            "Epoch 30/50\n",
            "11997/11997 [==============================] - 2s 153us/sample - loss: 0.0034 - acc: 0.8333 - val_loss: 0.0034 - val_acc: 0.8333\n",
            "Epoch 31/50\n",
            "11997/11997 [==============================] - 2s 150us/sample - loss: 0.0034 - acc: 0.8333 - val_loss: 0.0034 - val_acc: 0.8333\n",
            "Epoch 32/50\n",
            "11997/11997 [==============================] - 2s 151us/sample - loss: 0.0034 - acc: 0.8333 - val_loss: 0.0034 - val_acc: 0.8333\n",
            "Epoch 33/50\n",
            "11997/11997 [==============================] - 2s 150us/sample - loss: 0.0034 - acc: 0.8333 - val_loss: 0.0034 - val_acc: 0.8333\n",
            "Epoch 34/50\n",
            "11997/11997 [==============================] - 2s 151us/sample - loss: 0.0034 - acc: 0.8333 - val_loss: 0.0034 - val_acc: 0.8333\n",
            "Epoch 35/50\n",
            "11997/11997 [==============================] - 2s 151us/sample - loss: 0.0034 - acc: 0.8333 - val_loss: 0.0034 - val_acc: 0.8333\n",
            "Epoch 36/50\n",
            "11997/11997 [==============================] - 2s 151us/sample - loss: 0.0034 - acc: 0.8333 - val_loss: 0.0034 - val_acc: 0.8333\n",
            "Epoch 37/50\n",
            "11997/11997 [==============================] - 2s 151us/sample - loss: 0.0034 - acc: 0.8333 - val_loss: 0.0034 - val_acc: 0.8333\n",
            "Epoch 38/50\n",
            "11997/11997 [==============================] - 2s 151us/sample - loss: 0.0034 - acc: 0.8333 - val_loss: 0.0034 - val_acc: 0.8333\n",
            "Epoch 39/50\n",
            "11997/11997 [==============================] - 2s 151us/sample - loss: 0.0034 - acc: 0.8333 - val_loss: 0.0034 - val_acc: 0.8333\n",
            "Epoch 40/50\n",
            "11997/11997 [==============================] - 2s 153us/sample - loss: 0.0034 - acc: 0.8333 - val_loss: 0.0034 - val_acc: 0.8333\n",
            "Epoch 41/50\n",
            "11997/11997 [==============================] - 2s 155us/sample - loss: 0.0034 - acc: 0.8333 - val_loss: 0.0034 - val_acc: 0.8333\n",
            "Epoch 42/50\n",
            "11997/11997 [==============================] - 2s 152us/sample - loss: 0.0034 - acc: 0.8333 - val_loss: 0.0034 - val_acc: 0.8333\n",
            "Epoch 43/50\n",
            "11997/11997 [==============================] - 2s 155us/sample - loss: 0.0034 - acc: 0.8333 - val_loss: 0.0034 - val_acc: 0.8333\n",
            "Epoch 44/50\n",
            "11997/11997 [==============================] - 2s 157us/sample - loss: 0.0034 - acc: 0.8333 - val_loss: 0.0034 - val_acc: 0.8333\n",
            "Epoch 45/50\n",
            "11997/11997 [==============================] - 2s 163us/sample - loss: 0.0034 - acc: 0.8333 - val_loss: 0.0034 - val_acc: 0.8333\n",
            "Epoch 46/50\n",
            "11997/11997 [==============================] - 2s 154us/sample - loss: 0.0034 - acc: 0.8333 - val_loss: 0.0034 - val_acc: 0.8333\n",
            "Epoch 47/50\n",
            "11997/11997 [==============================] - 2s 154us/sample - loss: 0.0034 - acc: 0.8333 - val_loss: 0.0034 - val_acc: 0.8333\n",
            "Epoch 48/50\n",
            "11997/11997 [==============================] - 2s 154us/sample - loss: 0.0034 - acc: 0.8333 - val_loss: 0.0034 - val_acc: 0.8333\n",
            "Epoch 49/50\n",
            "11997/11997 [==============================] - 2s 157us/sample - loss: 0.0034 - acc: 0.8333 - val_loss: 0.0034 - val_acc: 0.8333\n",
            "Epoch 50/50\n",
            "11997/11997 [==============================] - 2s 152us/sample - loss: 0.0034 - acc: 0.8333 - val_loss: 0.0034 - val_acc: 0.8333\n"
          ],
          "name": "stdout"
        },
        {
          "output_type": "execute_result",
          "data": {
            "text/plain": [
              "<tensorflow.python.keras.callbacks.History at 0x7fdfa1b5f4e0>"
            ]
          },
          "metadata": {
            "tags": []
          },
          "execution_count": 175
        }
      ]
    },
    {
      "cell_type": "code",
      "metadata": {
        "id": "HgPagHEqH8-M",
        "colab_type": "code",
        "outputId": "b04a2e06-8bcd-485b-9728-427896f09682",
        "colab": {
          "base_uri": "https://localhost:8080/",
          "height": 50
        }
      },
      "source": [
        "ypred = model.predict(X7)\n",
        "s=pd.DataFrame(ypred)\n",
        "s1=pd.DataFrame(y7)\n",
        "s1.corrwith(s, axis = 0) "
      ],
      "execution_count": 176,
      "outputs": [
        {
          "output_type": "execute_result",
          "data": {
            "text/plain": [
              "0    0.337043\n",
              "dtype: float64"
            ]
          },
          "metadata": {
            "tags": []
          },
          "execution_count": 176
        }
      ]
    },
    {
      "cell_type": "code",
      "metadata": {
        "id": "H6a79eEsL-Bp",
        "colab_type": "code",
        "outputId": "7c399c89-7d88-43b4-b10b-9ced1c48eb7d",
        "colab": {
          "base_uri": "https://localhost:8080/",
          "height": 34
        }
      },
      "source": [
        "r2_score(y7,ypred)"
      ],
      "execution_count": 177,
      "outputs": [
        {
          "output_type": "execute_result",
          "data": {
            "text/plain": [
              "0.11352952849789255"
            ]
          },
          "metadata": {
            "tags": []
          },
          "execution_count": 177
        }
      ]
    },
    {
      "cell_type": "code",
      "metadata": {
        "id": "wcKAsBAdJNw0",
        "colab_type": "code",
        "outputId": "aad3d035-cbb5-4d94-d7f3-485d7125c659",
        "colab": {
          "base_uri": "https://localhost:8080/",
          "height": 50
        }
      },
      "source": [
        "ypred1=model.predict(X_test7)\n",
        "s=pd.DataFrame(ypred1)\n",
        "s1=pd.DataFrame(y_test7)\n",
        "s1.corrwith(s,axis=0)"
      ],
      "execution_count": 178,
      "outputs": [
        {
          "output_type": "execute_result",
          "data": {
            "text/plain": [
              "0    0.337043\n",
              "dtype: float64"
            ]
          },
          "metadata": {
            "tags": []
          },
          "execution_count": 178
        }
      ]
    },
    {
      "cell_type": "code",
      "metadata": {
        "id": "B7lPJIH0MBZQ",
        "colab_type": "code",
        "outputId": "ac68ca46-42ae-4b1b-a6ba-2160312d2274",
        "colab": {
          "base_uri": "https://localhost:8080/",
          "height": 34
        }
      },
      "source": [
        "r2_score(y_test7,ypred1)"
      ],
      "execution_count": 179,
      "outputs": [
        {
          "output_type": "execute_result",
          "data": {
            "text/plain": [
              "0.11352952849789255"
            ]
          },
          "metadata": {
            "tags": []
          },
          "execution_count": 179
        }
      ]
    },
    {
      "cell_type": "code",
      "metadata": {
        "id": "hiVfe-7WbeVn",
        "colab_type": "code",
        "colab": {
          "base_uri": "https://localhost:8080/",
          "height": 34
        },
        "outputId": "a732a67a-3328-4dc5-a273-010325679747"
      },
      "source": [
        "mean_absolute_error(y7,ypred)"
      ],
      "execution_count": 180,
      "outputs": [
        {
          "output_type": "execute_result",
          "data": {
            "text/plain": [
              "0.02357185335575758"
            ]
          },
          "metadata": {
            "tags": []
          },
          "execution_count": 180
        }
      ]
    },
    {
      "cell_type": "code",
      "metadata": {
        "id": "yDQLYQrKbjHy",
        "colab_type": "code",
        "colab": {
          "base_uri": "https://localhost:8080/",
          "height": 34
        },
        "outputId": "8729c95a-e6b1-435b-e885-0b96dad45a5b"
      },
      "source": [
        "mean_absolute_error(y_test7,ypred1)"
      ],
      "execution_count": 181,
      "outputs": [
        {
          "output_type": "execute_result",
          "data": {
            "text/plain": [
              "0.02357185335575758"
            ]
          },
          "metadata": {
            "tags": []
          },
          "execution_count": 181
        }
      ]
    },
    {
      "cell_type": "code",
      "metadata": {
        "id": "9Oi8Ac5UtOAC",
        "colab_type": "code",
        "outputId": "d6fee653-cc98-416d-e8d3-8dcbd4451ae7",
        "colab": {
          "base_uri": "https://localhost:8080/",
          "height": 1000
        }
      },
      "source": [
        "model.fit(X8, y8, validation_data=(X_test8,y_test8),epochs=50)"
      ],
      "execution_count": 182,
      "outputs": [
        {
          "output_type": "stream",
          "text": [
            "Train on 11997 samples, validate on 11997 samples\n",
            "Epoch 1/50\n",
            "11997/11997 [==============================] - 2s 162us/sample - loss: 0.0036 - acc: 0.8384 - val_loss: 0.0036 - val_acc: 0.8384\n",
            "Epoch 2/50\n",
            "11997/11997 [==============================] - 2s 153us/sample - loss: 0.0036 - acc: 0.8384 - val_loss: 0.0036 - val_acc: 0.8384\n",
            "Epoch 3/50\n",
            "11997/11997 [==============================] - 2s 154us/sample - loss: 0.0036 - acc: 0.8384 - val_loss: 0.0036 - val_acc: 0.8384\n",
            "Epoch 4/50\n",
            "11997/11997 [==============================] - 2s 149us/sample - loss: 0.0036 - acc: 0.8384 - val_loss: 0.0036 - val_acc: 0.8384\n",
            "Epoch 5/50\n",
            "11997/11997 [==============================] - 2s 163us/sample - loss: 0.0036 - acc: 0.8384 - val_loss: 0.0036 - val_acc: 0.8384\n",
            "Epoch 6/50\n",
            "11997/11997 [==============================] - 2s 164us/sample - loss: 0.0036 - acc: 0.8384 - val_loss: 0.0036 - val_acc: 0.8384\n",
            "Epoch 7/50\n",
            "11997/11997 [==============================] - 2s 167us/sample - loss: 0.0036 - acc: 0.8384 - val_loss: 0.0036 - val_acc: 0.8384\n",
            "Epoch 8/50\n",
            "11997/11997 [==============================] - 2s 156us/sample - loss: 0.0036 - acc: 0.8384 - val_loss: 0.0036 - val_acc: 0.8384\n",
            "Epoch 9/50\n",
            "11997/11997 [==============================] - 2s 154us/sample - loss: 0.0036 - acc: 0.8384 - val_loss: 0.0036 - val_acc: 0.8384\n",
            "Epoch 10/50\n",
            "11997/11997 [==============================] - 2s 154us/sample - loss: 0.0036 - acc: 0.8384 - val_loss: 0.0036 - val_acc: 0.8384\n",
            "Epoch 11/50\n",
            "11997/11997 [==============================] - 2s 157us/sample - loss: 0.0036 - acc: 0.8384 - val_loss: 0.0036 - val_acc: 0.8384\n",
            "Epoch 12/50\n",
            "11997/11997 [==============================] - 2s 153us/sample - loss: 0.0036 - acc: 0.8384 - val_loss: 0.0036 - val_acc: 0.8384\n",
            "Epoch 13/50\n",
            "11997/11997 [==============================] - 2s 154us/sample - loss: 0.0036 - acc: 0.8384 - val_loss: 0.0036 - val_acc: 0.8384\n",
            "Epoch 14/50\n",
            "11997/11997 [==============================] - 2s 157us/sample - loss: 0.0036 - acc: 0.8384 - val_loss: 0.0036 - val_acc: 0.8384\n",
            "Epoch 15/50\n",
            "11997/11997 [==============================] - 2s 155us/sample - loss: 0.0036 - acc: 0.8384 - val_loss: 0.0036 - val_acc: 0.8384\n",
            "Epoch 16/50\n",
            "11997/11997 [==============================] - 2s 155us/sample - loss: 0.0036 - acc: 0.8384 - val_loss: 0.0036 - val_acc: 0.8384\n",
            "Epoch 17/50\n",
            "11997/11997 [==============================] - 2s 156us/sample - loss: 0.0036 - acc: 0.8384 - val_loss: 0.0036 - val_acc: 0.8384\n",
            "Epoch 18/50\n",
            "11997/11997 [==============================] - 2s 157us/sample - loss: 0.0036 - acc: 0.8384 - val_loss: 0.0036 - val_acc: 0.8384\n",
            "Epoch 19/50\n",
            "11997/11997 [==============================] - 2s 156us/sample - loss: 0.0036 - acc: 0.8384 - val_loss: 0.0036 - val_acc: 0.8384\n",
            "Epoch 20/50\n",
            "11997/11997 [==============================] - 2s 159us/sample - loss: 0.0036 - acc: 0.8384 - val_loss: 0.0036 - val_acc: 0.8384\n",
            "Epoch 21/50\n",
            "11997/11997 [==============================] - 2s 153us/sample - loss: 0.0036 - acc: 0.8384 - val_loss: 0.0036 - val_acc: 0.8384\n",
            "Epoch 22/50\n",
            "11997/11997 [==============================] - 2s 152us/sample - loss: 0.0036 - acc: 0.8384 - val_loss: 0.0036 - val_acc: 0.8384\n",
            "Epoch 23/50\n",
            "11997/11997 [==============================] - 2s 149us/sample - loss: 0.0036 - acc: 0.8384 - val_loss: 0.0036 - val_acc: 0.8384\n",
            "Epoch 24/50\n",
            "11997/11997 [==============================] - 2s 155us/sample - loss: 0.0036 - acc: 0.8384 - val_loss: 0.0036 - val_acc: 0.8384\n",
            "Epoch 25/50\n",
            "11997/11997 [==============================] - 2s 157us/sample - loss: 0.0036 - acc: 0.8384 - val_loss: 0.0036 - val_acc: 0.8384\n",
            "Epoch 26/50\n",
            "11997/11997 [==============================] - 2s 162us/sample - loss: 0.0036 - acc: 0.8384 - val_loss: 0.0036 - val_acc: 0.8384\n",
            "Epoch 27/50\n",
            "11997/11997 [==============================] - 2s 162us/sample - loss: 0.0036 - acc: 0.8384 - val_loss: 0.0036 - val_acc: 0.8384\n",
            "Epoch 28/50\n",
            "11997/11997 [==============================] - 2s 156us/sample - loss: 0.0036 - acc: 0.8384 - val_loss: 0.0036 - val_acc: 0.8384\n",
            "Epoch 29/50\n",
            "11997/11997 [==============================] - 2s 153us/sample - loss: 0.0036 - acc: 0.8384 - val_loss: 0.0036 - val_acc: 0.8384\n",
            "Epoch 30/50\n",
            "11997/11997 [==============================] - 2s 158us/sample - loss: 0.0036 - acc: 0.8384 - val_loss: 0.0036 - val_acc: 0.8384\n",
            "Epoch 31/50\n",
            "11997/11997 [==============================] - 2s 161us/sample - loss: 0.0036 - acc: 0.8384 - val_loss: 0.0036 - val_acc: 0.8384\n",
            "Epoch 32/50\n",
            "11997/11997 [==============================] - 2s 165us/sample - loss: 0.0036 - acc: 0.8384 - val_loss: 0.0036 - val_acc: 0.8384\n",
            "Epoch 33/50\n",
            "11997/11997 [==============================] - 2s 161us/sample - loss: 0.0036 - acc: 0.8384 - val_loss: 0.0036 - val_acc: 0.8384\n",
            "Epoch 34/50\n",
            "11997/11997 [==============================] - 2s 157us/sample - loss: 0.0036 - acc: 0.8384 - val_loss: 0.0036 - val_acc: 0.8384\n",
            "Epoch 35/50\n",
            "11997/11997 [==============================] - 2s 160us/sample - loss: 0.0036 - acc: 0.8384 - val_loss: 0.0036 - val_acc: 0.8384\n",
            "Epoch 36/50\n",
            "11997/11997 [==============================] - 2s 157us/sample - loss: 0.0036 - acc: 0.8384 - val_loss: 0.0036 - val_acc: 0.8384\n",
            "Epoch 37/50\n",
            "11997/11997 [==============================] - 2s 160us/sample - loss: 0.0036 - acc: 0.8384 - val_loss: 0.0036 - val_acc: 0.8384\n",
            "Epoch 38/50\n",
            "11997/11997 [==============================] - 2s 160us/sample - loss: 0.0036 - acc: 0.8384 - val_loss: 0.0036 - val_acc: 0.8384\n",
            "Epoch 39/50\n",
            "11997/11997 [==============================] - 2s 161us/sample - loss: 0.0036 - acc: 0.8384 - val_loss: 0.0036 - val_acc: 0.8384\n",
            "Epoch 40/50\n",
            "11997/11997 [==============================] - 2s 158us/sample - loss: 0.0036 - acc: 0.8384 - val_loss: 0.0036 - val_acc: 0.8384\n",
            "Epoch 41/50\n",
            "11997/11997 [==============================] - 2s 164us/sample - loss: 0.0036 - acc: 0.8384 - val_loss: 0.0036 - val_acc: 0.8384\n",
            "Epoch 42/50\n",
            "11997/11997 [==============================] - 2s 162us/sample - loss: 0.0036 - acc: 0.8384 - val_loss: 0.0036 - val_acc: 0.8384\n",
            "Epoch 43/50\n",
            "11997/11997 [==============================] - 2s 164us/sample - loss: 0.0036 - acc: 0.8384 - val_loss: 0.0036 - val_acc: 0.8384\n",
            "Epoch 44/50\n",
            "11997/11997 [==============================] - 2s 156us/sample - loss: 0.0036 - acc: 0.8384 - val_loss: 0.0036 - val_acc: 0.8384\n",
            "Epoch 45/50\n",
            "11997/11997 [==============================] - 2s 157us/sample - loss: 0.0036 - acc: 0.8384 - val_loss: 0.0036 - val_acc: 0.8384\n",
            "Epoch 46/50\n",
            "11997/11997 [==============================] - 2s 161us/sample - loss: 0.0036 - acc: 0.8384 - val_loss: 0.0036 - val_acc: 0.8384\n",
            "Epoch 47/50\n",
            "11997/11997 [==============================] - 2s 161us/sample - loss: 0.0036 - acc: 0.8384 - val_loss: 0.0036 - val_acc: 0.8384\n",
            "Epoch 48/50\n",
            "11997/11997 [==============================] - 2s 163us/sample - loss: 0.0036 - acc: 0.8384 - val_loss: 0.0036 - val_acc: 0.8384\n",
            "Epoch 49/50\n",
            "11997/11997 [==============================] - 2s 165us/sample - loss: 0.0036 - acc: 0.8384 - val_loss: 0.0036 - val_acc: 0.8384\n",
            "Epoch 50/50\n",
            "11997/11997 [==============================] - 2s 163us/sample - loss: 0.0036 - acc: 0.8384 - val_loss: 0.0036 - val_acc: 0.8384\n"
          ],
          "name": "stdout"
        },
        {
          "output_type": "execute_result",
          "data": {
            "text/plain": [
              "<tensorflow.python.keras.callbacks.History at 0x7fdfa1b82240>"
            ]
          },
          "metadata": {
            "tags": []
          },
          "execution_count": 182
        }
      ]
    },
    {
      "cell_type": "code",
      "metadata": {
        "id": "eMLxjFOLH-PS",
        "colab_type": "code",
        "outputId": "3e799dbf-1730-42cb-e062-b6eebffbd545",
        "colab": {
          "base_uri": "https://localhost:8080/",
          "height": 50
        }
      },
      "source": [
        "ypred = model.predict(X8)\n",
        "s=pd.DataFrame(ypred)\n",
        "s1=pd.DataFrame(y8)\n",
        "s1.corrwith(s, axis = 0) "
      ],
      "execution_count": 183,
      "outputs": [
        {
          "output_type": "execute_result",
          "data": {
            "text/plain": [
              "0    0.310896\n",
              "dtype: float64"
            ]
          },
          "metadata": {
            "tags": []
          },
          "execution_count": 183
        }
      ]
    },
    {
      "cell_type": "code",
      "metadata": {
        "id": "BmVt8ALiL4ae",
        "colab_type": "code",
        "outputId": "1033056d-60f0-4098-ee53-5a42384e0c07",
        "colab": {
          "base_uri": "https://localhost:8080/",
          "height": 34
        }
      },
      "source": [
        "r2_score(y8,ypred)"
      ],
      "execution_count": 184,
      "outputs": [
        {
          "output_type": "execute_result",
          "data": {
            "text/plain": [
              "0.09488405790699872"
            ]
          },
          "metadata": {
            "tags": []
          },
          "execution_count": 184
        }
      ]
    },
    {
      "cell_type": "code",
      "metadata": {
        "id": "ysPaeNMUJP6D",
        "colab_type": "code",
        "outputId": "85b56a72-e81e-4793-dded-c532ab7e8329",
        "colab": {
          "base_uri": "https://localhost:8080/",
          "height": 50
        }
      },
      "source": [
        "ypred1=model.predict(X_test8)\n",
        "s=pd.DataFrame(ypred1)\n",
        "s1=pd.DataFrame(y_test8)\n",
        "s1.corrwith(s,axis=0)"
      ],
      "execution_count": 185,
      "outputs": [
        {
          "output_type": "execute_result",
          "data": {
            "text/plain": [
              "0    0.310896\n",
              "dtype: float64"
            ]
          },
          "metadata": {
            "tags": []
          },
          "execution_count": 185
        }
      ]
    },
    {
      "cell_type": "code",
      "metadata": {
        "id": "f7bVrtCdbq_p",
        "colab_type": "code",
        "colab": {
          "base_uri": "https://localhost:8080/",
          "height": 34
        },
        "outputId": "64c2830a-b76c-4110-f82e-37ff4c0d1093"
      },
      "source": [
        "mean_absolute_error(y8,ypred)"
      ],
      "execution_count": 186,
      "outputs": [
        {
          "output_type": "execute_result",
          "data": {
            "text/plain": [
              "0.026652926696047203"
            ]
          },
          "metadata": {
            "tags": []
          },
          "execution_count": 186
        }
      ]
    },
    {
      "cell_type": "code",
      "metadata": {
        "id": "Bdk4ywxAbsZF",
        "colab_type": "code",
        "colab": {
          "base_uri": "https://localhost:8080/",
          "height": 34
        },
        "outputId": "025c323d-09dd-47ac-a911-1b235fabaced"
      },
      "source": [
        "mean_absolute_error(y_test8,ypred1)"
      ],
      "execution_count": 187,
      "outputs": [
        {
          "output_type": "execute_result",
          "data": {
            "text/plain": [
              "0.026652926696047203"
            ]
          },
          "metadata": {
            "tags": []
          },
          "execution_count": 187
        }
      ]
    },
    {
      "cell_type": "code",
      "metadata": {
        "id": "VdoqG1uCL6Up",
        "colab_type": "code",
        "outputId": "9bf9c116-8447-4e07-af4f-135070b45a7c",
        "colab": {
          "base_uri": "https://localhost:8080/",
          "height": 34
        }
      },
      "source": [
        "r2_score(y_test8,ypred1)"
      ],
      "execution_count": 188,
      "outputs": [
        {
          "output_type": "execute_result",
          "data": {
            "text/plain": [
              "0.09488405790699872"
            ]
          },
          "metadata": {
            "tags": []
          },
          "execution_count": 188
        }
      ]
    },
    {
      "cell_type": "code",
      "metadata": {
        "id": "SLn0vU66tOKK",
        "colab_type": "code",
        "outputId": "396c3db1-e296-4ad5-9a75-79bbc4536ab1",
        "colab": {
          "base_uri": "https://localhost:8080/",
          "height": 1000
        }
      },
      "source": [
        "model.fit(X9, y9, validation_data=(X_test9,y_test9),epochs=50)"
      ],
      "execution_count": 189,
      "outputs": [
        {
          "output_type": "stream",
          "text": [
            "Train on 11997 samples, validate on 11997 samples\n",
            "Epoch 1/50\n",
            "11997/11997 [==============================] - 2s 160us/sample - loss: 3.7238e-04 - acc: 0.8766 - val_loss: 3.6352e-04 - val_acc: 0.8766\n",
            "Epoch 2/50\n",
            "11997/11997 [==============================] - 2s 162us/sample - loss: 3.6075e-04 - acc: 0.8766 - val_loss: 3.5831e-04 - val_acc: 0.8766\n",
            "Epoch 3/50\n",
            "11997/11997 [==============================] - 2s 158us/sample - loss: 3.5814e-04 - acc: 0.8766 - val_loss: 3.5648e-04 - val_acc: 0.8766\n",
            "Epoch 4/50\n",
            "11997/11997 [==============================] - 2s 157us/sample - loss: 3.5695e-04 - acc: 0.8766 - val_loss: 3.5624e-04 - val_acc: 0.8766\n",
            "Epoch 5/50\n",
            "11997/11997 [==============================] - 2s 155us/sample - loss: 3.5801e-04 - acc: 0.8766 - val_loss: 3.5685e-04 - val_acc: 0.8766\n",
            "Epoch 6/50\n",
            "11997/11997 [==============================] - 2s 158us/sample - loss: 3.5780e-04 - acc: 0.8766 - val_loss: 3.5601e-04 - val_acc: 0.8766\n",
            "Epoch 7/50\n",
            "11997/11997 [==============================] - 2s 162us/sample - loss: 3.5748e-04 - acc: 0.8766 - val_loss: 3.5587e-04 - val_acc: 0.8766\n",
            "Epoch 8/50\n",
            "11997/11997 [==============================] - 2s 160us/sample - loss: 3.5812e-04 - acc: 0.8766 - val_loss: 3.5885e-04 - val_acc: 0.8766\n",
            "Epoch 9/50\n",
            "11997/11997 [==============================] - 2s 158us/sample - loss: 3.5714e-04 - acc: 0.8766 - val_loss: 3.5710e-04 - val_acc: 0.8766\n",
            "Epoch 10/50\n",
            "11997/11997 [==============================] - 2s 156us/sample - loss: 3.5785e-04 - acc: 0.8766 - val_loss: 3.7410e-04 - val_acc: 0.8766\n",
            "Epoch 11/50\n",
            "11997/11997 [==============================] - 2s 158us/sample - loss: 3.5732e-04 - acc: 0.8766 - val_loss: 3.5528e-04 - val_acc: 0.8766\n",
            "Epoch 12/50\n",
            "11997/11997 [==============================] - 2s 157us/sample - loss: 3.5698e-04 - acc: 0.8766 - val_loss: 3.5655e-04 - val_acc: 0.8766\n",
            "Epoch 13/50\n",
            "11997/11997 [==============================] - 2s 156us/sample - loss: 3.5713e-04 - acc: 0.8766 - val_loss: 3.5553e-04 - val_acc: 0.8766\n",
            "Epoch 14/50\n",
            "11997/11997 [==============================] - 2s 158us/sample - loss: 3.5620e-04 - acc: 0.8766 - val_loss: 3.5582e-04 - val_acc: 0.8766\n",
            "Epoch 15/50\n",
            "11997/11997 [==============================] - 2s 156us/sample - loss: 3.5700e-04 - acc: 0.8766 - val_loss: 3.5524e-04 - val_acc: 0.8766\n",
            "Epoch 16/50\n",
            "11997/11997 [==============================] - 2s 156us/sample - loss: 3.5661e-04 - acc: 0.8766 - val_loss: 3.5447e-04 - val_acc: 0.8766\n",
            "Epoch 17/50\n",
            "11997/11997 [==============================] - 2s 152us/sample - loss: 3.5599e-04 - acc: 0.8766 - val_loss: 3.5436e-04 - val_acc: 0.8766\n",
            "Epoch 18/50\n",
            "11997/11997 [==============================] - 2s 153us/sample - loss: 3.5534e-04 - acc: 0.8766 - val_loss: 3.5544e-04 - val_acc: 0.8766\n",
            "Epoch 19/50\n",
            "11997/11997 [==============================] - 2s 148us/sample - loss: 3.5680e-04 - acc: 0.8766 - val_loss: 3.5436e-04 - val_acc: 0.8766\n",
            "Epoch 20/50\n",
            "11997/11997 [==============================] - 2s 153us/sample - loss: 3.5559e-04 - acc: 0.8766 - val_loss: 3.5373e-04 - val_acc: 0.8766\n",
            "Epoch 21/50\n",
            "11997/11997 [==============================] - 2s 150us/sample - loss: 3.5624e-04 - acc: 0.8766 - val_loss: 3.5577e-04 - val_acc: 0.8766\n",
            "Epoch 22/50\n",
            "11997/11997 [==============================] - 2s 155us/sample - loss: 3.5596e-04 - acc: 0.8766 - val_loss: 3.6304e-04 - val_acc: 0.8766\n",
            "Epoch 23/50\n",
            "11997/11997 [==============================] - 2s 150us/sample - loss: 3.5610e-04 - acc: 0.8766 - val_loss: 3.5336e-04 - val_acc: 0.8766\n",
            "Epoch 24/50\n",
            "11997/11997 [==============================] - 2s 155us/sample - loss: 3.5525e-04 - acc: 0.8766 - val_loss: 3.5309e-04 - val_acc: 0.8766\n",
            "Epoch 25/50\n",
            "11997/11997 [==============================] - 2s 152us/sample - loss: 3.5520e-04 - acc: 0.8766 - val_loss: 3.5351e-04 - val_acc: 0.8766\n",
            "Epoch 26/50\n",
            "11997/11997 [==============================] - 2s 151us/sample - loss: 3.5466e-04 - acc: 0.8766 - val_loss: 3.5318e-04 - val_acc: 0.8766\n",
            "Epoch 27/50\n",
            "11997/11997 [==============================] - 2s 151us/sample - loss: 3.5495e-04 - acc: 0.8766 - val_loss: 3.5932e-04 - val_acc: 0.8766\n",
            "Epoch 28/50\n",
            "11997/11997 [==============================] - 2s 151us/sample - loss: 3.5504e-04 - acc: 0.8766 - val_loss: 3.5259e-04 - val_acc: 0.8766\n",
            "Epoch 29/50\n",
            "11997/11997 [==============================] - 2s 152us/sample - loss: 3.5510e-04 - acc: 0.8766 - val_loss: 3.5273e-04 - val_acc: 0.8766\n",
            "Epoch 30/50\n",
            "11997/11997 [==============================] - 2s 153us/sample - loss: 3.5410e-04 - acc: 0.8766 - val_loss: 3.5233e-04 - val_acc: 0.8766\n",
            "Epoch 31/50\n",
            "11997/11997 [==============================] - 2s 155us/sample - loss: 3.5371e-04 - acc: 0.8766 - val_loss: 3.5281e-04 - val_acc: 0.8766\n",
            "Epoch 32/50\n",
            "11997/11997 [==============================] - 2s 149us/sample - loss: 3.5478e-04 - acc: 0.8766 - val_loss: 3.5272e-04 - val_acc: 0.8766\n",
            "Epoch 33/50\n",
            "11997/11997 [==============================] - 2s 151us/sample - loss: 3.5415e-04 - acc: 0.8766 - val_loss: 3.5197e-04 - val_acc: 0.8766\n",
            "Epoch 34/50\n",
            "11997/11997 [==============================] - 2s 151us/sample - loss: 3.5432e-04 - acc: 0.8766 - val_loss: 3.5182e-04 - val_acc: 0.8766\n",
            "Epoch 35/50\n",
            "11997/11997 [==============================] - 2s 156us/sample - loss: 3.5422e-04 - acc: 0.8766 - val_loss: 3.5288e-04 - val_acc: 0.8766\n",
            "Epoch 36/50\n",
            "11997/11997 [==============================] - 2s 150us/sample - loss: 3.5371e-04 - acc: 0.8766 - val_loss: 3.5181e-04 - val_acc: 0.8766\n",
            "Epoch 37/50\n",
            "11997/11997 [==============================] - 2s 150us/sample - loss: 3.5376e-04 - acc: 0.8766 - val_loss: 3.5253e-04 - val_acc: 0.8766\n",
            "Epoch 38/50\n",
            "11997/11997 [==============================] - 2s 152us/sample - loss: 3.5347e-04 - acc: 0.8766 - val_loss: 3.5401e-04 - val_acc: 0.8766\n",
            "Epoch 39/50\n",
            "11997/11997 [==============================] - 2s 155us/sample - loss: 3.5394e-04 - acc: 0.8766 - val_loss: 3.5166e-04 - val_acc: 0.8766\n",
            "Epoch 40/50\n",
            "11997/11997 [==============================] - 2s 159us/sample - loss: 3.5321e-04 - acc: 0.8766 - val_loss: 3.5529e-04 - val_acc: 0.8766\n",
            "Epoch 41/50\n",
            "11997/11997 [==============================] - 2s 153us/sample - loss: 3.5338e-04 - acc: 0.8766 - val_loss: 3.5163e-04 - val_acc: 0.8766\n",
            "Epoch 42/50\n",
            "11997/11997 [==============================] - 2s 151us/sample - loss: 3.5420e-04 - acc: 0.8766 - val_loss: 3.5241e-04 - val_acc: 0.8766\n",
            "Epoch 43/50\n",
            "11997/11997 [==============================] - 2s 152us/sample - loss: 3.5343e-04 - acc: 0.8766 - val_loss: 3.5794e-04 - val_acc: 0.8766\n",
            "Epoch 44/50\n",
            "11997/11997 [==============================] - 2s 152us/sample - loss: 3.5401e-04 - acc: 0.8766 - val_loss: 3.5133e-04 - val_acc: 0.8766\n",
            "Epoch 45/50\n",
            "11997/11997 [==============================] - 2s 156us/sample - loss: 3.5326e-04 - acc: 0.8766 - val_loss: 3.5302e-04 - val_acc: 0.8766\n",
            "Epoch 46/50\n",
            "11997/11997 [==============================] - 2s 157us/sample - loss: 3.5321e-04 - acc: 0.8766 - val_loss: 3.5719e-04 - val_acc: 0.8766\n",
            "Epoch 47/50\n",
            "11997/11997 [==============================] - 2s 157us/sample - loss: 3.5339e-04 - acc: 0.8766 - val_loss: 3.5149e-04 - val_acc: 0.8766\n",
            "Epoch 48/50\n",
            "11997/11997 [==============================] - 2s 155us/sample - loss: 3.5291e-04 - acc: 0.8766 - val_loss: 3.5570e-04 - val_acc: 0.8766\n",
            "Epoch 49/50\n",
            "11997/11997 [==============================] - 2s 153us/sample - loss: 3.5340e-04 - acc: 0.8766 - val_loss: 3.5116e-04 - val_acc: 0.8766\n",
            "Epoch 50/50\n",
            "11997/11997 [==============================] - 2s 155us/sample - loss: 3.5327e-04 - acc: 0.8766 - val_loss: 3.5426e-04 - val_acc: 0.8766\n"
          ],
          "name": "stdout"
        },
        {
          "output_type": "execute_result",
          "data": {
            "text/plain": [
              "<tensorflow.python.keras.callbacks.History at 0x7fdfa1b71780>"
            ]
          },
          "metadata": {
            "tags": []
          },
          "execution_count": 189
        }
      ]
    },
    {
      "cell_type": "code",
      "metadata": {
        "id": "zQ5v6HwLH_Wh",
        "colab_type": "code",
        "outputId": "2191c693-9016-4e15-bab2-56c65b785c4f",
        "colab": {
          "base_uri": "https://localhost:8080/",
          "height": 50
        }
      },
      "source": [
        "ypred = model.predict(X9)\n",
        "s=pd.DataFrame(ypred)\n",
        "s1=pd.DataFrame(y9)\n",
        "s1.corrwith(s, axis = 0) "
      ],
      "execution_count": 190,
      "outputs": [
        {
          "output_type": "execute_result",
          "data": {
            "text/plain": [
              "0    0.327658\n",
              "dtype: float64"
            ]
          },
          "metadata": {
            "tags": []
          },
          "execution_count": 190
        }
      ]
    },
    {
      "cell_type": "code",
      "metadata": {
        "id": "Up6_NVQoLi3n",
        "colab_type": "code",
        "outputId": "bcc22be7-9bf0-4dd2-b27f-81d4770ea2ae",
        "colab": {
          "base_uri": "https://localhost:8080/",
          "height": 34
        }
      },
      "source": [
        "r2_score(y9,ypred)"
      ],
      "execution_count": 191,
      "outputs": [
        {
          "output_type": "execute_result",
          "data": {
            "text/plain": [
              "0.09893148143609076"
            ]
          },
          "metadata": {
            "tags": []
          },
          "execution_count": 191
        }
      ]
    },
    {
      "cell_type": "code",
      "metadata": {
        "id": "f3IOE5BCJRSK",
        "colab_type": "code",
        "outputId": "ab29c0c4-aa52-48e9-aaf7-2ddda8e45a7b",
        "colab": {
          "base_uri": "https://localhost:8080/",
          "height": 50
        }
      },
      "source": [
        "ypred1=model.predict(X_test9)\n",
        "s=pd.DataFrame(ypred1)\n",
        "s1=pd.DataFrame(y_test9)\n",
        "s1.corrwith(s,axis=0)"
      ],
      "execution_count": 192,
      "outputs": [
        {
          "output_type": "execute_result",
          "data": {
            "text/plain": [
              "0    0.327658\n",
              "dtype: float64"
            ]
          },
          "metadata": {
            "tags": []
          },
          "execution_count": 192
        }
      ]
    },
    {
      "cell_type": "code",
      "metadata": {
        "id": "_FDKRSVwLkoD",
        "colab_type": "code",
        "outputId": "24570992-ad84-4d6e-92a0-2b05a42e4b8d",
        "colab": {
          "base_uri": "https://localhost:8080/",
          "height": 34
        }
      },
      "source": [
        "r2_score(y_test9,ypred1)"
      ],
      "execution_count": 193,
      "outputs": [
        {
          "output_type": "execute_result",
          "data": {
            "text/plain": [
              "0.09893148143609076"
            ]
          },
          "metadata": {
            "tags": []
          },
          "execution_count": 193
        }
      ]
    },
    {
      "cell_type": "code",
      "metadata": {
        "id": "A4HYV_dDbxDs",
        "colab_type": "code",
        "colab": {
          "base_uri": "https://localhost:8080/",
          "height": 34
        },
        "outputId": "8d45ee0c-795c-470b-840d-5889b7203189"
      },
      "source": [
        "mean_absolute_error(y8,ypred)"
      ],
      "execution_count": 194,
      "outputs": [
        {
          "output_type": "execute_result",
          "data": {
            "text/plain": [
              "0.019483841238088894"
            ]
          },
          "metadata": {
            "tags": []
          },
          "execution_count": 194
        }
      ]
    },
    {
      "cell_type": "code",
      "metadata": {
        "id": "_WPfFs1Pbx7w",
        "colab_type": "code",
        "colab": {
          "base_uri": "https://localhost:8080/",
          "height": 34
        },
        "outputId": "a3f05acd-704b-49a0-a1c6-3f6cec04d3ab"
      },
      "source": [
        "mean_absolute_error(y_test9,ypred1)"
      ],
      "execution_count": 195,
      "outputs": [
        {
          "output_type": "execute_result",
          "data": {
            "text/plain": [
              "0.007582706020924989"
            ]
          },
          "metadata": {
            "tags": []
          },
          "execution_count": 195
        }
      ]
    },
    {
      "cell_type": "code",
      "metadata": {
        "id": "X4tac5LntOTz",
        "colab_type": "code",
        "outputId": "2d4b1f9e-db43-41e0-8a1e-5f9227af7ee7",
        "colab": {
          "base_uri": "https://localhost:8080/",
          "height": 1000
        }
      },
      "source": [
        "model.fit(X10, y10, validation_data=(X_test10,y_test10),epochs=50)"
      ],
      "execution_count": 196,
      "outputs": [
        {
          "output_type": "stream",
          "text": [
            "Train on 11997 samples, validate on 11997 samples\n",
            "Epoch 1/50\n",
            "11997/11997 [==============================] - 2s 156us/sample - loss: 0.0027 - acc: 0.8375 - val_loss: 0.0027 - val_acc: 0.8375\n",
            "Epoch 2/50\n",
            "11997/11997 [==============================] - 2s 153us/sample - loss: 0.0027 - acc: 0.8375 - val_loss: 0.0027 - val_acc: 0.8375\n",
            "Epoch 3/50\n",
            "11997/11997 [==============================] - 2s 152us/sample - loss: 0.0027 - acc: 0.8375 - val_loss: 0.0027 - val_acc: 0.8375\n",
            "Epoch 4/50\n",
            "11997/11997 [==============================] - 2s 153us/sample - loss: 0.0027 - acc: 0.8375 - val_loss: 0.0027 - val_acc: 0.8375\n",
            "Epoch 5/50\n",
            "11997/11997 [==============================] - 2s 149us/sample - loss: 0.0027 - acc: 0.8375 - val_loss: 0.0027 - val_acc: 0.8375\n",
            "Epoch 6/50\n",
            "11997/11997 [==============================] - 2s 155us/sample - loss: 0.0027 - acc: 0.8375 - val_loss: 0.0026 - val_acc: 0.8375\n",
            "Epoch 7/50\n",
            "11997/11997 [==============================] - 2s 151us/sample - loss: 0.0027 - acc: 0.8375 - val_loss: 0.0026 - val_acc: 0.8375\n",
            "Epoch 8/50\n",
            "11997/11997 [==============================] - 2s 152us/sample - loss: 0.0027 - acc: 0.8375 - val_loss: 0.0027 - val_acc: 0.8375\n",
            "Epoch 9/50\n",
            "11997/11997 [==============================] - 2s 153us/sample - loss: 0.0027 - acc: 0.8375 - val_loss: 0.0026 - val_acc: 0.8375\n",
            "Epoch 10/50\n",
            "11997/11997 [==============================] - 2s 151us/sample - loss: 0.0026 - acc: 0.8375 - val_loss: 0.0026 - val_acc: 0.8375\n",
            "Epoch 11/50\n",
            "11997/11997 [==============================] - 2s 151us/sample - loss: 0.0026 - acc: 0.8375 - val_loss: 0.0026 - val_acc: 0.8375\n",
            "Epoch 12/50\n",
            "11997/11997 [==============================] - 2s 151us/sample - loss: 0.0026 - acc: 0.8375 - val_loss: 0.0026 - val_acc: 0.8375\n",
            "Epoch 13/50\n",
            "11997/11997 [==============================] - 2s 152us/sample - loss: 0.0026 - acc: 0.8375 - val_loss: 0.0027 - val_acc: 0.8375\n",
            "Epoch 14/50\n",
            "11997/11997 [==============================] - 2s 150us/sample - loss: 0.0026 - acc: 0.8375 - val_loss: 0.0026 - val_acc: 0.8375\n",
            "Epoch 15/50\n",
            "11997/11997 [==============================] - 2s 151us/sample - loss: 0.0026 - acc: 0.8375 - val_loss: 0.0026 - val_acc: 0.8375\n",
            "Epoch 16/50\n",
            "11997/11997 [==============================] - 2s 149us/sample - loss: 0.0026 - acc: 0.8375 - val_loss: 0.0026 - val_acc: 0.8375\n",
            "Epoch 17/50\n",
            "11997/11997 [==============================] - 2s 154us/sample - loss: 0.0026 - acc: 0.8375 - val_loss: 0.0026 - val_acc: 0.8375\n",
            "Epoch 18/50\n",
            "11997/11997 [==============================] - 2s 151us/sample - loss: 0.0026 - acc: 0.8375 - val_loss: 0.0026 - val_acc: 0.8375\n",
            "Epoch 19/50\n",
            "11997/11997 [==============================] - 2s 151us/sample - loss: 0.0026 - acc: 0.8375 - val_loss: 0.0027 - val_acc: 0.8375\n",
            "Epoch 20/50\n",
            "11997/11997 [==============================] - 2s 149us/sample - loss: 0.0026 - acc: 0.8375 - val_loss: 0.0027 - val_acc: 0.8375\n",
            "Epoch 21/50\n",
            "11997/11997 [==============================] - 2s 155us/sample - loss: 0.0026 - acc: 0.8375 - val_loss: 0.0026 - val_acc: 0.8375\n",
            "Epoch 22/50\n",
            "11997/11997 [==============================] - 2s 157us/sample - loss: 0.0026 - acc: 0.8375 - val_loss: 0.0026 - val_acc: 0.8375\n",
            "Epoch 23/50\n",
            "11997/11997 [==============================] - 2s 165us/sample - loss: 0.0026 - acc: 0.8375 - val_loss: 0.0026 - val_acc: 0.8375\n",
            "Epoch 24/50\n",
            "11997/11997 [==============================] - 2s 158us/sample - loss: 0.0026 - acc: 0.8375 - val_loss: 0.0026 - val_acc: 0.8375\n",
            "Epoch 25/50\n",
            "11997/11997 [==============================] - 2s 161us/sample - loss: 0.0026 - acc: 0.8375 - val_loss: 0.0026 - val_acc: 0.8375\n",
            "Epoch 26/50\n",
            "11997/11997 [==============================] - 2s 162us/sample - loss: 0.0026 - acc: 0.8375 - val_loss: 0.0026 - val_acc: 0.8375\n",
            "Epoch 27/50\n",
            "11997/11997 [==============================] - 2s 156us/sample - loss: 0.0026 - acc: 0.8375 - val_loss: 0.0026 - val_acc: 0.8375\n",
            "Epoch 28/50\n",
            "11997/11997 [==============================] - 2s 159us/sample - loss: 0.0026 - acc: 0.8375 - val_loss: 0.0026 - val_acc: 0.8375\n",
            "Epoch 29/50\n",
            "11997/11997 [==============================] - 2s 158us/sample - loss: 0.0026 - acc: 0.8375 - val_loss: 0.0026 - val_acc: 0.8375\n",
            "Epoch 30/50\n",
            "11997/11997 [==============================] - 2s 157us/sample - loss: 0.0026 - acc: 0.8375 - val_loss: 0.0026 - val_acc: 0.8375\n",
            "Epoch 31/50\n",
            "11997/11997 [==============================] - 2s 155us/sample - loss: 0.0026 - acc: 0.8375 - val_loss: 0.0026 - val_acc: 0.8375\n",
            "Epoch 32/50\n",
            "11997/11997 [==============================] - 2s 163us/sample - loss: 0.0026 - acc: 0.8375 - val_loss: 0.0026 - val_acc: 0.8375\n",
            "Epoch 33/50\n",
            "11997/11997 [==============================] - 2s 170us/sample - loss: 0.0026 - acc: 0.8375 - val_loss: 0.0026 - val_acc: 0.8375\n",
            "Epoch 34/50\n",
            "11997/11997 [==============================] - 2s 165us/sample - loss: 0.0026 - acc: 0.8375 - val_loss: 0.0026 - val_acc: 0.8375\n",
            "Epoch 35/50\n",
            "11997/11997 [==============================] - 2s 164us/sample - loss: 0.0026 - acc: 0.8375 - val_loss: 0.0026 - val_acc: 0.8375\n",
            "Epoch 36/50\n",
            "11997/11997 [==============================] - 2s 167us/sample - loss: 0.0026 - acc: 0.8375 - val_loss: 0.0026 - val_acc: 0.8375\n",
            "Epoch 37/50\n",
            "11997/11997 [==============================] - 2s 175us/sample - loss: 0.0026 - acc: 0.8375 - val_loss: 0.0026 - val_acc: 0.8375\n",
            "Epoch 38/50\n",
            "11997/11997 [==============================] - 2s 176us/sample - loss: 0.0026 - acc: 0.8375 - val_loss: 0.0026 - val_acc: 0.8375\n",
            "Epoch 39/50\n",
            "11997/11997 [==============================] - 2s 187us/sample - loss: 0.0026 - acc: 0.8375 - val_loss: 0.0026 - val_acc: 0.8375\n",
            "Epoch 40/50\n",
            "11997/11997 [==============================] - 2s 189us/sample - loss: 0.0026 - acc: 0.8375 - val_loss: 0.0026 - val_acc: 0.8375\n",
            "Epoch 41/50\n",
            "11997/11997 [==============================] - 2s 190us/sample - loss: 0.0026 - acc: 0.8375 - val_loss: 0.0026 - val_acc: 0.8375\n",
            "Epoch 42/50\n",
            "11997/11997 [==============================] - 2s 178us/sample - loss: 0.0026 - acc: 0.8375 - val_loss: 0.0026 - val_acc: 0.8375\n",
            "Epoch 43/50\n",
            "11997/11997 [==============================] - 2s 178us/sample - loss: 0.0026 - acc: 0.8375 - val_loss: 0.0026 - val_acc: 0.8375\n",
            "Epoch 44/50\n",
            "11997/11997 [==============================] - 2s 158us/sample - loss: 0.0026 - acc: 0.8375 - val_loss: 0.0026 - val_acc: 0.8375\n",
            "Epoch 45/50\n",
            "11997/11997 [==============================] - 2s 157us/sample - loss: 0.0026 - acc: 0.8375 - val_loss: 0.0026 - val_acc: 0.8375\n",
            "Epoch 46/50\n",
            "11997/11997 [==============================] - 2s 155us/sample - loss: 0.0026 - acc: 0.8375 - val_loss: 0.0026 - val_acc: 0.8375\n",
            "Epoch 47/50\n",
            "11997/11997 [==============================] - 2s 155us/sample - loss: 0.0026 - acc: 0.8375 - val_loss: 0.0026 - val_acc: 0.8375\n",
            "Epoch 48/50\n",
            "11997/11997 [==============================] - 2s 159us/sample - loss: 0.0026 - acc: 0.8375 - val_loss: 0.0026 - val_acc: 0.8375\n",
            "Epoch 49/50\n",
            "11997/11997 [==============================] - 2s 159us/sample - loss: 0.0026 - acc: 0.8375 - val_loss: 0.0026 - val_acc: 0.8375\n",
            "Epoch 50/50\n",
            "11997/11997 [==============================] - 2s 162us/sample - loss: 0.0026 - acc: 0.8375 - val_loss: 0.0026 - val_acc: 0.8375\n"
          ],
          "name": "stdout"
        },
        {
          "output_type": "execute_result",
          "data": {
            "text/plain": [
              "<tensorflow.python.keras.callbacks.History at 0x7fdfa1b715c0>"
            ]
          },
          "metadata": {
            "tags": []
          },
          "execution_count": 196
        }
      ]
    },
    {
      "cell_type": "code",
      "metadata": {
        "id": "i7iVtOzuIAff",
        "colab_type": "code",
        "outputId": "34689b1d-88b7-4703-c658-13a913af8a39",
        "colab": {
          "base_uri": "https://localhost:8080/",
          "height": 50
        }
      },
      "source": [
        "ypred = model.predict(X10)\n",
        "s=pd.DataFrame(ypred)\n",
        "s1=pd.DataFrame(y10)\n",
        "s1.corrwith(s, axis = 0) "
      ],
      "execution_count": 197,
      "outputs": [
        {
          "output_type": "execute_result",
          "data": {
            "text/plain": [
              "0    0.330231\n",
              "dtype: float64"
            ]
          },
          "metadata": {
            "tags": []
          },
          "execution_count": 197
        }
      ]
    },
    {
      "cell_type": "code",
      "metadata": {
        "id": "ZzIyxgSKLcls",
        "colab_type": "code",
        "outputId": "8bd9f5f3-431f-4a10-87dd-15f2a8ed0876",
        "colab": {
          "base_uri": "https://localhost:8080/",
          "height": 34
        }
      },
      "source": [
        "r2_score(y10,ypred)"
      ],
      "execution_count": 198,
      "outputs": [
        {
          "output_type": "execute_result",
          "data": {
            "text/plain": [
              "0.10900261407737966"
            ]
          },
          "metadata": {
            "tags": []
          },
          "execution_count": 198
        }
      ]
    },
    {
      "cell_type": "code",
      "metadata": {
        "id": "Vz0yUtDVJSqy",
        "colab_type": "code",
        "outputId": "714bdea6-830c-4ee0-d058-1b8d1ec146de",
        "colab": {
          "base_uri": "https://localhost:8080/",
          "height": 50
        }
      },
      "source": [
        "ypred1=model.predict(X_test10)\n",
        "s=pd.DataFrame(ypred1)\n",
        "s1=pd.DataFrame(y_test10)\n",
        "s1.corrwith(s,axis=0)"
      ],
      "execution_count": 199,
      "outputs": [
        {
          "output_type": "execute_result",
          "data": {
            "text/plain": [
              "0    0.330231\n",
              "dtype: float64"
            ]
          },
          "metadata": {
            "tags": []
          },
          "execution_count": 199
        }
      ]
    },
    {
      "cell_type": "code",
      "metadata": {
        "id": "3OvG7PKCLeB2",
        "colab_type": "code",
        "outputId": "6a515bc8-6045-447a-f110-4d1faa5c2019",
        "colab": {
          "base_uri": "https://localhost:8080/",
          "height": 34
        }
      },
      "source": [
        "r2_score(y_test10,ypred1)"
      ],
      "execution_count": 200,
      "outputs": [
        {
          "output_type": "execute_result",
          "data": {
            "text/plain": [
              "0.10900261407737966"
            ]
          },
          "metadata": {
            "tags": []
          },
          "execution_count": 200
        }
      ]
    },
    {
      "cell_type": "code",
      "metadata": {
        "id": "9e2RJz20b4JB",
        "colab_type": "code",
        "colab": {
          "base_uri": "https://localhost:8080/",
          "height": 34
        },
        "outputId": "25b8f2f2-409f-4748-e26b-bee399c7c200"
      },
      "source": [
        "mean_absolute_error(y_test9,ypred1)"
      ],
      "execution_count": 201,
      "outputs": [
        {
          "output_type": "execute_result",
          "data": {
            "text/plain": [
              "0.014301058215907608"
            ]
          },
          "metadata": {
            "tags": []
          },
          "execution_count": 201
        }
      ]
    },
    {
      "cell_type": "code",
      "metadata": {
        "id": "lSHbLk8Lb5Bo",
        "colab_type": "code",
        "colab": {
          "base_uri": "https://localhost:8080/",
          "height": 34
        },
        "outputId": "c0a97990-e088-45cd-cc45-92eaeaf162f1"
      },
      "source": [
        "mean_absolute_error(y9,ypred)"
      ],
      "execution_count": 202,
      "outputs": [
        {
          "output_type": "execute_result",
          "data": {
            "text/plain": [
              "0.014301058215907608"
            ]
          },
          "metadata": {
            "tags": []
          },
          "execution_count": 202
        }
      ]
    },
    {
      "cell_type": "code",
      "metadata": {
        "id": "WBFxiG7GtOdT",
        "colab_type": "code",
        "outputId": "0c37380f-ef86-46de-f340-34ad315d56a1",
        "colab": {
          "base_uri": "https://localhost:8080/",
          "height": 1000
        }
      },
      "source": [
        "model.fit(X11, y11, validation_data=(X_test11,y_test11),epochs=50)"
      ],
      "execution_count": 203,
      "outputs": [
        {
          "output_type": "stream",
          "text": [
            "Train on 11997 samples, validate on 11997 samples\n",
            "Epoch 1/50\n",
            "11997/11997 [==============================] - 2s 161us/sample - loss: 0.0027 - acc: 0.8450 - val_loss: 0.0027 - val_acc: 0.8450\n",
            "Epoch 2/50\n",
            "11997/11997 [==============================] - 2s 165us/sample - loss: 0.0027 - acc: 0.8450 - val_loss: 0.0027 - val_acc: 0.8450\n",
            "Epoch 3/50\n",
            "11997/11997 [==============================] - 2s 156us/sample - loss: 0.0027 - acc: 0.8450 - val_loss: 0.0027 - val_acc: 0.8450\n",
            "Epoch 4/50\n",
            "11997/11997 [==============================] - 2s 158us/sample - loss: 0.0027 - acc: 0.8450 - val_loss: 0.0027 - val_acc: 0.8450\n",
            "Epoch 5/50\n",
            "11997/11997 [==============================] - 2s 161us/sample - loss: 0.0027 - acc: 0.8450 - val_loss: 0.0027 - val_acc: 0.8450\n",
            "Epoch 6/50\n",
            "11997/11997 [==============================] - 2s 155us/sample - loss: 0.0027 - acc: 0.8450 - val_loss: 0.0026 - val_acc: 0.8450\n",
            "Epoch 7/50\n",
            "11997/11997 [==============================] - 2s 158us/sample - loss: 0.0027 - acc: 0.8450 - val_loss: 0.0027 - val_acc: 0.8450\n",
            "Epoch 8/50\n",
            "11997/11997 [==============================] - 2s 159us/sample - loss: 0.0027 - acc: 0.8450 - val_loss: 0.0026 - val_acc: 0.8450\n",
            "Epoch 9/50\n",
            "11997/11997 [==============================] - 2s 159us/sample - loss: 0.0027 - acc: 0.8450 - val_loss: 0.0027 - val_acc: 0.8450\n",
            "Epoch 10/50\n",
            "11997/11997 [==============================] - 2s 157us/sample - loss: 0.0027 - acc: 0.8450 - val_loss: 0.0026 - val_acc: 0.8450\n",
            "Epoch 11/50\n",
            "11997/11997 [==============================] - 2s 156us/sample - loss: 0.0026 - acc: 0.8450 - val_loss: 0.0026 - val_acc: 0.8450\n",
            "Epoch 12/50\n",
            "11997/11997 [==============================] - 2s 155us/sample - loss: 0.0027 - acc: 0.8450 - val_loss: 0.0026 - val_acc: 0.8450\n",
            "Epoch 13/50\n",
            "11997/11997 [==============================] - 2s 158us/sample - loss: 0.0027 - acc: 0.8450 - val_loss: 0.0026 - val_acc: 0.8450\n",
            "Epoch 14/50\n",
            "11997/11997 [==============================] - 2s 157us/sample - loss: 0.0026 - acc: 0.8450 - val_loss: 0.0026 - val_acc: 0.8450\n",
            "Epoch 15/50\n",
            "11997/11997 [==============================] - 2s 160us/sample - loss: 0.0026 - acc: 0.8450 - val_loss: 0.0027 - val_acc: 0.8450\n",
            "Epoch 16/50\n",
            "11997/11997 [==============================] - 2s 161us/sample - loss: 0.0026 - acc: 0.8450 - val_loss: 0.0026 - val_acc: 0.8450\n",
            "Epoch 17/50\n",
            "11997/11997 [==============================] - 2s 165us/sample - loss: 0.0026 - acc: 0.8450 - val_loss: 0.0026 - val_acc: 0.8450\n",
            "Epoch 18/50\n",
            "11997/11997 [==============================] - 2s 156us/sample - loss: 0.0026 - acc: 0.8450 - val_loss: 0.0026 - val_acc: 0.8450\n",
            "Epoch 19/50\n",
            "11997/11997 [==============================] - 2s 160us/sample - loss: 0.0026 - acc: 0.8450 - val_loss: 0.0026 - val_acc: 0.8450\n",
            "Epoch 20/50\n",
            "11997/11997 [==============================] - 2s 153us/sample - loss: 0.0026 - acc: 0.8450 - val_loss: 0.0026 - val_acc: 0.8450\n",
            "Epoch 21/50\n",
            "11997/11997 [==============================] - 2s 151us/sample - loss: 0.0026 - acc: 0.8450 - val_loss: 0.0027 - val_acc: 0.8450\n",
            "Epoch 22/50\n",
            "11997/11997 [==============================] - 2s 155us/sample - loss: 0.0026 - acc: 0.8450 - val_loss: 0.0026 - val_acc: 0.8450\n",
            "Epoch 23/50\n",
            "11997/11997 [==============================] - 2s 153us/sample - loss: 0.0026 - acc: 0.8450 - val_loss: 0.0026 - val_acc: 0.8450\n",
            "Epoch 24/50\n",
            "11997/11997 [==============================] - 2s 151us/sample - loss: 0.0026 - acc: 0.8450 - val_loss: 0.0026 - val_acc: 0.8450\n",
            "Epoch 25/50\n",
            "11997/11997 [==============================] - 2s 153us/sample - loss: 0.0026 - acc: 0.8450 - val_loss: 0.0026 - val_acc: 0.8450\n",
            "Epoch 26/50\n",
            "11997/11997 [==============================] - 2s 156us/sample - loss: 0.0026 - acc: 0.8450 - val_loss: 0.0026 - val_acc: 0.8450\n",
            "Epoch 27/50\n",
            "11997/11997 [==============================] - 2s 154us/sample - loss: 0.0026 - acc: 0.8450 - val_loss: 0.0026 - val_acc: 0.8450\n",
            "Epoch 28/50\n",
            "11997/11997 [==============================] - 2s 150us/sample - loss: 0.0026 - acc: 0.8450 - val_loss: 0.0027 - val_acc: 0.8450\n",
            "Epoch 29/50\n",
            "11997/11997 [==============================] - 2s 153us/sample - loss: 0.0026 - acc: 0.8450 - val_loss: 0.0026 - val_acc: 0.8450\n",
            "Epoch 30/50\n",
            "11997/11997 [==============================] - 2s 157us/sample - loss: 0.0026 - acc: 0.8450 - val_loss: 0.0026 - val_acc: 0.8450\n",
            "Epoch 31/50\n",
            "11997/11997 [==============================] - 2s 156us/sample - loss: 0.0026 - acc: 0.8450 - val_loss: 0.0026 - val_acc: 0.8450\n",
            "Epoch 32/50\n",
            "11997/11997 [==============================] - 2s 152us/sample - loss: 0.0026 - acc: 0.8450 - val_loss: 0.0026 - val_acc: 0.8450\n",
            "Epoch 33/50\n",
            "11997/11997 [==============================] - 2s 158us/sample - loss: 0.0026 - acc: 0.8450 - val_loss: 0.0026 - val_acc: 0.8450\n",
            "Epoch 34/50\n",
            "11997/11997 [==============================] - 2s 157us/sample - loss: 0.0026 - acc: 0.8450 - val_loss: 0.0026 - val_acc: 0.8450\n",
            "Epoch 35/50\n",
            "11997/11997 [==============================] - 2s 158us/sample - loss: 0.0026 - acc: 0.8450 - val_loss: 0.0026 - val_acc: 0.8450\n",
            "Epoch 36/50\n",
            "11997/11997 [==============================] - 2s 156us/sample - loss: 0.0026 - acc: 0.8450 - val_loss: 0.0026 - val_acc: 0.8450\n",
            "Epoch 37/50\n",
            "11997/11997 [==============================] - 2s 155us/sample - loss: 0.0026 - acc: 0.8450 - val_loss: 0.0026 - val_acc: 0.8450\n",
            "Epoch 38/50\n",
            "11997/11997 [==============================] - 2s 156us/sample - loss: 0.0026 - acc: 0.8450 - val_loss: 0.0026 - val_acc: 0.8450\n",
            "Epoch 39/50\n",
            "11997/11997 [==============================] - 2s 155us/sample - loss: 0.0026 - acc: 0.8450 - val_loss: 0.0027 - val_acc: 0.8450\n",
            "Epoch 40/50\n",
            "11997/11997 [==============================] - 2s 154us/sample - loss: 0.0026 - acc: 0.8450 - val_loss: 0.0026 - val_acc: 0.8450\n",
            "Epoch 41/50\n",
            "11997/11997 [==============================] - 2s 150us/sample - loss: 0.0026 - acc: 0.8450 - val_loss: 0.0026 - val_acc: 0.8450\n",
            "Epoch 42/50\n",
            "11997/11997 [==============================] - 2s 154us/sample - loss: 0.0026 - acc: 0.8450 - val_loss: 0.0027 - val_acc: 0.8450\n",
            "Epoch 43/50\n",
            "11997/11997 [==============================] - 2s 153us/sample - loss: 0.0026 - acc: 0.8450 - val_loss: 0.0026 - val_acc: 0.8450\n",
            "Epoch 44/50\n",
            "11997/11997 [==============================] - 2s 151us/sample - loss: 0.0026 - acc: 0.8450 - val_loss: 0.0026 - val_acc: 0.8450\n",
            "Epoch 45/50\n",
            "11997/11997 [==============================] - 2s 154us/sample - loss: 0.0026 - acc: 0.8450 - val_loss: 0.0026 - val_acc: 0.8450\n",
            "Epoch 46/50\n",
            "11997/11997 [==============================] - 2s 152us/sample - loss: 0.0026 - acc: 0.8450 - val_loss: 0.0026 - val_acc: 0.8450\n",
            "Epoch 47/50\n",
            "11997/11997 [==============================] - 2s 152us/sample - loss: 0.0026 - acc: 0.8450 - val_loss: 0.0026 - val_acc: 0.8450\n",
            "Epoch 48/50\n",
            "11997/11997 [==============================] - 2s 157us/sample - loss: 0.0026 - acc: 0.8450 - val_loss: 0.0026 - val_acc: 0.8450\n",
            "Epoch 49/50\n",
            "11997/11997 [==============================] - 2s 156us/sample - loss: 0.0026 - acc: 0.8450 - val_loss: 0.0026 - val_acc: 0.8450\n",
            "Epoch 50/50\n",
            "11997/11997 [==============================] - 2s 156us/sample - loss: 0.0026 - acc: 0.8450 - val_loss: 0.0026 - val_acc: 0.8450\n"
          ],
          "name": "stdout"
        },
        {
          "output_type": "execute_result",
          "data": {
            "text/plain": [
              "<tensorflow.python.keras.callbacks.History at 0x7fdfa1b71518>"
            ]
          },
          "metadata": {
            "tags": []
          },
          "execution_count": 203
        }
      ]
    },
    {
      "cell_type": "code",
      "metadata": {
        "id": "TOytGCJYIByT",
        "colab_type": "code",
        "outputId": "6b33688b-517c-478b-baa7-8164512f8700",
        "colab": {
          "base_uri": "https://localhost:8080/",
          "height": 50
        }
      },
      "source": [
        "ypred = model.predict(X11)\n",
        "s=pd.DataFrame(ypred)\n",
        "s1=pd.DataFrame(y11)\n",
        "s1.corrwith(s, axis = 0) "
      ],
      "execution_count": 204,
      "outputs": [
        {
          "output_type": "execute_result",
          "data": {
            "text/plain": [
              "0    0.329827\n",
              "dtype: float64"
            ]
          },
          "metadata": {
            "tags": []
          },
          "execution_count": 204
        }
      ]
    },
    {
      "cell_type": "code",
      "metadata": {
        "id": "iINdBIwoLTXh",
        "colab_type": "code",
        "outputId": "256ebf17-50b0-4ef5-b8e2-e61d01fe9079",
        "colab": {
          "base_uri": "https://localhost:8080/",
          "height": 34
        }
      },
      "source": [
        "r2_score(y11,ypred)"
      ],
      "execution_count": 205,
      "outputs": [
        {
          "output_type": "execute_result",
          "data": {
            "text/plain": [
              "0.1087397384140334"
            ]
          },
          "metadata": {
            "tags": []
          },
          "execution_count": 205
        }
      ]
    },
    {
      "cell_type": "code",
      "metadata": {
        "id": "4WAXVRGRJUGH",
        "colab_type": "code",
        "outputId": "483dac22-5a7e-4fcf-8d09-811ad7c5a963",
        "colab": {
          "base_uri": "https://localhost:8080/",
          "height": 50
        }
      },
      "source": [
        "ypred1=model.predict(X_test11)\n",
        "s=pd.DataFrame(ypred1)\n",
        "s1=pd.DataFrame(y_test11)\n",
        "s1.corrwith(s,axis=0)"
      ],
      "execution_count": 206,
      "outputs": [
        {
          "output_type": "execute_result",
          "data": {
            "text/plain": [
              "0    0.329827\n",
              "dtype: float64"
            ]
          },
          "metadata": {
            "tags": []
          },
          "execution_count": 206
        }
      ]
    },
    {
      "cell_type": "code",
      "metadata": {
        "id": "IteaW7lyLXic",
        "colab_type": "code",
        "outputId": "e7a8aca3-6175-4f87-fc80-df7928fddfd2",
        "colab": {
          "base_uri": "https://localhost:8080/",
          "height": 34
        }
      },
      "source": [
        "r2_score(y_test11,ypred1)"
      ],
      "execution_count": 207,
      "outputs": [
        {
          "output_type": "execute_result",
          "data": {
            "text/plain": [
              "0.1087397384140334"
            ]
          },
          "metadata": {
            "tags": []
          },
          "execution_count": 207
        }
      ]
    },
    {
      "cell_type": "code",
      "metadata": {
        "id": "dR8eWYdab9x0",
        "colab_type": "code",
        "colab": {
          "base_uri": "https://localhost:8080/",
          "height": 34
        },
        "outputId": "33e754ed-25d3-42bf-94df-35b6889adedc"
      },
      "source": [
        "mean_absolute_error(y_test11,ypred1)"
      ],
      "execution_count": 208,
      "outputs": [
        {
          "output_type": "execute_result",
          "data": {
            "text/plain": [
              "0.02001079686841274"
            ]
          },
          "metadata": {
            "tags": []
          },
          "execution_count": 208
        }
      ]
    },
    {
      "cell_type": "code",
      "metadata": {
        "id": "EQmn_nV5b_wQ",
        "colab_type": "code",
        "colab": {
          "base_uri": "https://localhost:8080/",
          "height": 34
        },
        "outputId": "4f4272c3-a2d1-4f0a-f057-4121c21c9df9"
      },
      "source": [
        "mean_absolute_error(y11,ypred)"
      ],
      "execution_count": 209,
      "outputs": [
        {
          "output_type": "execute_result",
          "data": {
            "text/plain": [
              "0.02001079686841274"
            ]
          },
          "metadata": {
            "tags": []
          },
          "execution_count": 209
        }
      ]
    },
    {
      "cell_type": "code",
      "metadata": {
        "id": "uin8xQNXB74p",
        "colab_type": "code",
        "outputId": "3d678bf3-64f2-4e29-bc37-a46c41263346",
        "colab": {
          "base_uri": "https://localhost:8080/",
          "height": 1000
        }
      },
      "source": [
        "model.fit(X12, y12, validation_data=(X_test12,y_test12),epochs=50)"
      ],
      "execution_count": 210,
      "outputs": [
        {
          "output_type": "stream",
          "text": [
            "Train on 11997 samples, validate on 11997 samples\n",
            "Epoch 1/50\n",
            "11997/11997 [==============================] - 2s 158us/sample - loss: 0.0017 - acc: 0.8385 - val_loss: 0.0017 - val_acc: 0.8385\n",
            "Epoch 2/50\n",
            "11997/11997 [==============================] - 2s 157us/sample - loss: 0.0017 - acc: 0.8385 - val_loss: 0.0017 - val_acc: 0.8385\n",
            "Epoch 3/50\n",
            "11997/11997 [==============================] - 2s 153us/sample - loss: 0.0017 - acc: 0.8385 - val_loss: 0.0017 - val_acc: 0.8385\n",
            "Epoch 4/50\n",
            "11997/11997 [==============================] - 2s 149us/sample - loss: 0.0017 - acc: 0.8385 - val_loss: 0.0017 - val_acc: 0.8385\n",
            "Epoch 5/50\n",
            "11997/11997 [==============================] - 2s 153us/sample - loss: 0.0017 - acc: 0.8385 - val_loss: 0.0017 - val_acc: 0.8385\n",
            "Epoch 6/50\n",
            "11997/11997 [==============================] - 2s 155us/sample - loss: 0.0017 - acc: 0.8385 - val_loss: 0.0017 - val_acc: 0.8385\n",
            "Epoch 7/50\n",
            "11997/11997 [==============================] - 2s 157us/sample - loss: 0.0017 - acc: 0.8385 - val_loss: 0.0017 - val_acc: 0.8385\n",
            "Epoch 8/50\n",
            "11997/11997 [==============================] - 2s 152us/sample - loss: 0.0017 - acc: 0.8385 - val_loss: 0.0017 - val_acc: 0.8385\n",
            "Epoch 9/50\n",
            "11997/11997 [==============================] - 2s 150us/sample - loss: 0.0017 - acc: 0.8385 - val_loss: 0.0017 - val_acc: 0.8385\n",
            "Epoch 10/50\n",
            "11997/11997 [==============================] - 2s 152us/sample - loss: 0.0017 - acc: 0.8385 - val_loss: 0.0017 - val_acc: 0.8385\n",
            "Epoch 11/50\n",
            "11997/11997 [==============================] - 2s 155us/sample - loss: 0.0017 - acc: 0.8385 - val_loss: 0.0017 - val_acc: 0.8385\n",
            "Epoch 12/50\n",
            "11997/11997 [==============================] - 2s 154us/sample - loss: 0.0017 - acc: 0.8385 - val_loss: 0.0017 - val_acc: 0.8385\n",
            "Epoch 13/50\n",
            "11997/11997 [==============================] - 2s 153us/sample - loss: 0.0017 - acc: 0.8385 - val_loss: 0.0017 - val_acc: 0.8385\n",
            "Epoch 14/50\n",
            "11997/11997 [==============================] - 2s 153us/sample - loss: 0.0017 - acc: 0.8385 - val_loss: 0.0017 - val_acc: 0.8385\n",
            "Epoch 15/50\n",
            "11997/11997 [==============================] - 2s 162us/sample - loss: 0.0017 - acc: 0.8385 - val_loss: 0.0017 - val_acc: 0.8385\n",
            "Epoch 16/50\n",
            "11997/11997 [==============================] - 2s 160us/sample - loss: 0.0017 - acc: 0.8385 - val_loss: 0.0017 - val_acc: 0.8385\n",
            "Epoch 17/50\n",
            "11997/11997 [==============================] - 2s 157us/sample - loss: 0.0017 - acc: 0.8385 - val_loss: 0.0017 - val_acc: 0.8385\n",
            "Epoch 18/50\n",
            "11997/11997 [==============================] - 2s 159us/sample - loss: 0.0017 - acc: 0.8385 - val_loss: 0.0017 - val_acc: 0.8385\n",
            "Epoch 19/50\n",
            "11997/11997 [==============================] - 2s 155us/sample - loss: 0.0017 - acc: 0.8385 - val_loss: 0.0017 - val_acc: 0.8385\n",
            "Epoch 20/50\n",
            "11997/11997 [==============================] - 2s 156us/sample - loss: 0.0017 - acc: 0.8385 - val_loss: 0.0017 - val_acc: 0.8385\n",
            "Epoch 21/50\n",
            "11997/11997 [==============================] - 2s 158us/sample - loss: 0.0017 - acc: 0.8385 - val_loss: 0.0017 - val_acc: 0.8385\n",
            "Epoch 22/50\n",
            "11997/11997 [==============================] - 2s 157us/sample - loss: 0.0017 - acc: 0.8385 - val_loss: 0.0017 - val_acc: 0.8385\n",
            "Epoch 23/50\n",
            "11997/11997 [==============================] - 2s 151us/sample - loss: 0.0017 - acc: 0.8385 - val_loss: 0.0017 - val_acc: 0.8385\n",
            "Epoch 24/50\n",
            "11997/11997 [==============================] - 2s 150us/sample - loss: 0.0017 - acc: 0.8385 - val_loss: 0.0017 - val_acc: 0.8385\n",
            "Epoch 25/50\n",
            "11997/11997 [==============================] - 2s 152us/sample - loss: 0.0017 - acc: 0.8385 - val_loss: 0.0017 - val_acc: 0.8385\n",
            "Epoch 26/50\n",
            "11997/11997 [==============================] - 2s 150us/sample - loss: 0.0017 - acc: 0.8385 - val_loss: 0.0017 - val_acc: 0.8385\n",
            "Epoch 27/50\n",
            "11997/11997 [==============================] - 2s 152us/sample - loss: 0.0017 - acc: 0.8385 - val_loss: 0.0017 - val_acc: 0.8385\n",
            "Epoch 28/50\n",
            "11997/11997 [==============================] - 2s 156us/sample - loss: 0.0017 - acc: 0.8385 - val_loss: 0.0017 - val_acc: 0.8385\n",
            "Epoch 29/50\n",
            "11997/11997 [==============================] - 2s 156us/sample - loss: 0.0017 - acc: 0.8385 - val_loss: 0.0017 - val_acc: 0.8385\n",
            "Epoch 30/50\n",
            "11997/11997 [==============================] - 2s 156us/sample - loss: 0.0017 - acc: 0.8385 - val_loss: 0.0017 - val_acc: 0.8385\n",
            "Epoch 31/50\n",
            "11997/11997 [==============================] - 2s 152us/sample - loss: 0.0017 - acc: 0.8385 - val_loss: 0.0017 - val_acc: 0.8385\n",
            "Epoch 32/50\n",
            "11997/11997 [==============================] - 2s 153us/sample - loss: 0.0017 - acc: 0.8385 - val_loss: 0.0017 - val_acc: 0.8385\n",
            "Epoch 33/50\n",
            "11997/11997 [==============================] - 2s 155us/sample - loss: 0.0017 - acc: 0.8385 - val_loss: 0.0017 - val_acc: 0.8385\n",
            "Epoch 34/50\n",
            "11997/11997 [==============================] - 2s 150us/sample - loss: 0.0017 - acc: 0.8385 - val_loss: 0.0017 - val_acc: 0.8385\n",
            "Epoch 35/50\n",
            "11997/11997 [==============================] - 2s 153us/sample - loss: 0.0017 - acc: 0.8385 - val_loss: 0.0017 - val_acc: 0.8385\n",
            "Epoch 36/50\n",
            "11997/11997 [==============================] - 2s 149us/sample - loss: 0.0017 - acc: 0.8385 - val_loss: 0.0017 - val_acc: 0.8385\n",
            "Epoch 37/50\n",
            "11997/11997 [==============================] - 2s 151us/sample - loss: 0.0017 - acc: 0.8385 - val_loss: 0.0017 - val_acc: 0.8385\n",
            "Epoch 38/50\n",
            "11997/11997 [==============================] - 2s 146us/sample - loss: 0.0017 - acc: 0.8385 - val_loss: 0.0017 - val_acc: 0.8385\n",
            "Epoch 39/50\n",
            "11997/11997 [==============================] - 2s 155us/sample - loss: 0.0017 - acc: 0.8385 - val_loss: 0.0017 - val_acc: 0.8385\n",
            "Epoch 40/50\n",
            "11997/11997 [==============================] - 2s 152us/sample - loss: 0.0017 - acc: 0.8385 - val_loss: 0.0017 - val_acc: 0.8385\n",
            "Epoch 41/50\n",
            "11997/11997 [==============================] - 2s 151us/sample - loss: 0.0017 - acc: 0.8385 - val_loss: 0.0017 - val_acc: 0.8385\n",
            "Epoch 42/50\n",
            "11997/11997 [==============================] - 2s 149us/sample - loss: 0.0017 - acc: 0.8385 - val_loss: 0.0017 - val_acc: 0.8385\n",
            "Epoch 43/50\n",
            "11997/11997 [==============================] - 2s 156us/sample - loss: 0.0017 - acc: 0.8385 - val_loss: 0.0017 - val_acc: 0.8385\n",
            "Epoch 44/50\n",
            "11997/11997 [==============================] - 2s 150us/sample - loss: 0.0017 - acc: 0.8385 - val_loss: 0.0017 - val_acc: 0.8385\n",
            "Epoch 45/50\n",
            "11997/11997 [==============================] - 2s 149us/sample - loss: 0.0017 - acc: 0.8385 - val_loss: 0.0017 - val_acc: 0.8385\n",
            "Epoch 46/50\n",
            "11997/11997 [==============================] - 2s 155us/sample - loss: 0.0017 - acc: 0.8385 - val_loss: 0.0017 - val_acc: 0.8385\n",
            "Epoch 47/50\n",
            "11997/11997 [==============================] - 2s 153us/sample - loss: 0.0017 - acc: 0.8385 - val_loss: 0.0017 - val_acc: 0.8385\n",
            "Epoch 48/50\n",
            "11997/11997 [==============================] - 2s 157us/sample - loss: 0.0017 - acc: 0.8385 - val_loss: 0.0017 - val_acc: 0.8385\n",
            "Epoch 49/50\n",
            "11997/11997 [==============================] - 2s 155us/sample - loss: 0.0017 - acc: 0.8385 - val_loss: 0.0017 - val_acc: 0.8385\n",
            "Epoch 50/50\n",
            "11997/11997 [==============================] - 2s 152us/sample - loss: 0.0017 - acc: 0.8385 - val_loss: 0.0017 - val_acc: 0.8385\n"
          ],
          "name": "stdout"
        },
        {
          "output_type": "execute_result",
          "data": {
            "text/plain": [
              "<tensorflow.python.keras.callbacks.History at 0x7fdfa1b6b0f0>"
            ]
          },
          "metadata": {
            "tags": []
          },
          "execution_count": 210
        }
      ]
    },
    {
      "cell_type": "code",
      "metadata": {
        "id": "cdlcVaWfIDEI",
        "colab_type": "code",
        "outputId": "43d92f9b-18d7-4d0d-8fb2-f21d04c9a023",
        "colab": {
          "base_uri": "https://localhost:8080/",
          "height": 50
        }
      },
      "source": [
        "ypred = model.predict(X12)\n",
        "s=pd.DataFrame(ypred)\n",
        "s1=pd.DataFrame(y12)\n",
        "s1.corrwith(s, axis = 0) "
      ],
      "execution_count": 211,
      "outputs": [
        {
          "output_type": "execute_result",
          "data": {
            "text/plain": [
              "0    0.37214\n",
              "dtype: float64"
            ]
          },
          "metadata": {
            "tags": []
          },
          "execution_count": 211
        }
      ]
    },
    {
      "cell_type": "code",
      "metadata": {
        "id": "lcIK1vV7LH0l",
        "colab_type": "code",
        "outputId": "454976bd-ed7c-4314-bcac-063dd3fc9888",
        "colab": {
          "base_uri": "https://localhost:8080/",
          "height": 34
        }
      },
      "source": [
        "r2_score(y12,ypred)"
      ],
      "execution_count": 212,
      "outputs": [
        {
          "output_type": "execute_result",
          "data": {
            "text/plain": [
              "0.1372167174635166"
            ]
          },
          "metadata": {
            "tags": []
          },
          "execution_count": 212
        }
      ]
    },
    {
      "cell_type": "code",
      "metadata": {
        "id": "C1dAhjw5JWAB",
        "colab_type": "code",
        "outputId": "1c658dcc-d148-43d0-82ef-1272e66a7802",
        "colab": {
          "base_uri": "https://localhost:8080/",
          "height": 50
        }
      },
      "source": [
        "ypred1=model.predict(X_test12)\n",
        "s=pd.DataFrame(ypred1)\n",
        "s1=pd.DataFrame(y_test12)\n",
        "s1.corrwith(s,axis=0)"
      ],
      "execution_count": 213,
      "outputs": [
        {
          "output_type": "execute_result",
          "data": {
            "text/plain": [
              "0    0.37214\n",
              "dtype: float64"
            ]
          },
          "metadata": {
            "tags": []
          },
          "execution_count": 213
        }
      ]
    },
    {
      "cell_type": "code",
      "metadata": {
        "id": "SUu9HNNALKXT",
        "colab_type": "code",
        "outputId": "bfec12d4-991f-4f93-fecd-a22546fc68ea",
        "colab": {
          "base_uri": "https://localhost:8080/",
          "height": 34
        }
      },
      "source": [
        "r2_score(y_test12,ypred1)"
      ],
      "execution_count": 214,
      "outputs": [
        {
          "output_type": "execute_result",
          "data": {
            "text/plain": [
              "0.1372167174635166"
            ]
          },
          "metadata": {
            "tags": []
          },
          "execution_count": 214
        }
      ]
    },
    {
      "cell_type": "code",
      "metadata": {
        "id": "h2tbAJ9kcHAn",
        "colab_type": "code",
        "colab": {
          "base_uri": "https://localhost:8080/",
          "height": 34
        },
        "outputId": "19f8682d-5940-437d-9c5c-a58864f0427f"
      },
      "source": [
        "mean_absolute_error(y_test12,ypred1)"
      ],
      "execution_count": 215,
      "outputs": [
        {
          "output_type": "execute_result",
          "data": {
            "text/plain": [
              "0.017706331560113295"
            ]
          },
          "metadata": {
            "tags": []
          },
          "execution_count": 215
        }
      ]
    },
    {
      "cell_type": "code",
      "metadata": {
        "id": "mH7-ROQ-cJPL",
        "colab_type": "code",
        "colab": {
          "base_uri": "https://localhost:8080/",
          "height": 34
        },
        "outputId": "1fa55ae3-ee6b-42ed-ee5b-53c3174ea59c"
      },
      "source": [
        "mean_absolute_error(y12,ypred)"
      ],
      "execution_count": 216,
      "outputs": [
        {
          "output_type": "execute_result",
          "data": {
            "text/plain": [
              "0.017706331560113295"
            ]
          },
          "metadata": {
            "tags": []
          },
          "execution_count": 216
        }
      ]
    },
    {
      "cell_type": "code",
      "metadata": {
        "id": "q24UogQuB8LN",
        "colab_type": "code",
        "outputId": "dd8eeca1-4b7e-4292-8e12-de7d0417ce4c",
        "colab": {
          "base_uri": "https://localhost:8080/",
          "height": 1000
        }
      },
      "source": [
        "model.fit(X13, y13, validation_data=(X_test13,y_test13),epochs=50)"
      ],
      "execution_count": 217,
      "outputs": [
        {
          "output_type": "stream",
          "text": [
            "Train on 11997 samples, validate on 11997 samples\n",
            "Epoch 1/50\n",
            "11997/11997 [==============================] - 2s 150us/sample - loss: 0.0027 - acc: 0.8430 - val_loss: 0.0027 - val_acc: 0.8430\n",
            "Epoch 2/50\n",
            "11997/11997 [==============================] - 2s 159us/sample - loss: 0.0026 - acc: 0.8430 - val_loss: 0.0026 - val_acc: 0.8430\n",
            "Epoch 3/50\n",
            "11997/11997 [==============================] - 2s 157us/sample - loss: 0.0026 - acc: 0.8430 - val_loss: 0.0026 - val_acc: 0.8430\n",
            "Epoch 4/50\n",
            "11997/11997 [==============================] - 2s 155us/sample - loss: 0.0026 - acc: 0.8430 - val_loss: 0.0027 - val_acc: 0.8430\n",
            "Epoch 5/50\n",
            "11997/11997 [==============================] - 2s 155us/sample - loss: 0.0026 - acc: 0.8430 - val_loss: 0.0026 - val_acc: 0.8430\n",
            "Epoch 6/50\n",
            "11997/11997 [==============================] - 2s 153us/sample - loss: 0.0026 - acc: 0.8430 - val_loss: 0.0026 - val_acc: 0.8430\n",
            "Epoch 7/50\n",
            "11997/11997 [==============================] - 2s 154us/sample - loss: 0.0026 - acc: 0.8430 - val_loss: 0.0026 - val_acc: 0.8430\n",
            "Epoch 8/50\n",
            "11997/11997 [==============================] - 2s 153us/sample - loss: 0.0026 - acc: 0.8430 - val_loss: 0.0026 - val_acc: 0.8430\n",
            "Epoch 9/50\n",
            "11997/11997 [==============================] - 2s 153us/sample - loss: 0.0026 - acc: 0.8430 - val_loss: 0.0026 - val_acc: 0.8430\n",
            "Epoch 10/50\n",
            "11997/11997 [==============================] - 2s 149us/sample - loss: 0.0026 - acc: 0.8430 - val_loss: 0.0026 - val_acc: 0.8430\n",
            "Epoch 11/50\n",
            "11997/11997 [==============================] - 2s 151us/sample - loss: 0.0026 - acc: 0.8430 - val_loss: 0.0026 - val_acc: 0.8430\n",
            "Epoch 12/50\n",
            "11997/11997 [==============================] - 2s 152us/sample - loss: 0.0026 - acc: 0.8430 - val_loss: 0.0026 - val_acc: 0.8430\n",
            "Epoch 13/50\n",
            "11997/11997 [==============================] - 2s 156us/sample - loss: 0.0026 - acc: 0.8430 - val_loss: 0.0026 - val_acc: 0.8430\n",
            "Epoch 14/50\n",
            "11997/11997 [==============================] - 2s 153us/sample - loss: 0.0026 - acc: 0.8430 - val_loss: 0.0026 - val_acc: 0.8430\n",
            "Epoch 15/50\n",
            "11997/11997 [==============================] - 2s 156us/sample - loss: 0.0026 - acc: 0.8430 - val_loss: 0.0026 - val_acc: 0.8430\n",
            "Epoch 16/50\n",
            "11997/11997 [==============================] - 2s 152us/sample - loss: 0.0026 - acc: 0.8430 - val_loss: 0.0026 - val_acc: 0.8430\n",
            "Epoch 17/50\n",
            "11997/11997 [==============================] - 2s 154us/sample - loss: 0.0026 - acc: 0.8430 - val_loss: 0.0026 - val_acc: 0.8430\n",
            "Epoch 18/50\n",
            "11997/11997 [==============================] - 2s 155us/sample - loss: 0.0026 - acc: 0.8430 - val_loss: 0.0026 - val_acc: 0.8430\n",
            "Epoch 19/50\n",
            "11997/11997 [==============================] - 2s 148us/sample - loss: 0.0026 - acc: 0.8430 - val_loss: 0.0026 - val_acc: 0.8430\n",
            "Epoch 20/50\n",
            "11997/11997 [==============================] - 2s 150us/sample - loss: 0.0026 - acc: 0.8430 - val_loss: 0.0026 - val_acc: 0.8430\n",
            "Epoch 21/50\n",
            "11997/11997 [==============================] - 2s 148us/sample - loss: 0.0026 - acc: 0.8430 - val_loss: 0.0026 - val_acc: 0.8430\n",
            "Epoch 22/50\n",
            "11997/11997 [==============================] - 2s 152us/sample - loss: 0.0026 - acc: 0.8430 - val_loss: 0.0026 - val_acc: 0.8430\n",
            "Epoch 23/50\n",
            "11997/11997 [==============================] - 2s 149us/sample - loss: 0.0026 - acc: 0.8430 - val_loss: 0.0026 - val_acc: 0.8430\n",
            "Epoch 24/50\n",
            "11997/11997 [==============================] - 2s 152us/sample - loss: 0.0026 - acc: 0.8430 - val_loss: 0.0026 - val_acc: 0.8430\n",
            "Epoch 25/50\n",
            "11997/11997 [==============================] - 2s 156us/sample - loss: 0.0026 - acc: 0.8430 - val_loss: 0.0026 - val_acc: 0.8430\n",
            "Epoch 26/50\n",
            "11997/11997 [==============================] - 2s 151us/sample - loss: 0.0026 - acc: 0.8430 - val_loss: 0.0026 - val_acc: 0.8430\n",
            "Epoch 27/50\n",
            "11997/11997 [==============================] - 2s 148us/sample - loss: 0.0026 - acc: 0.8430 - val_loss: 0.0026 - val_acc: 0.8430\n",
            "Epoch 28/50\n",
            "11997/11997 [==============================] - 2s 148us/sample - loss: 0.0026 - acc: 0.8430 - val_loss: 0.0026 - val_acc: 0.8430\n",
            "Epoch 29/50\n",
            "11997/11997 [==============================] - 2s 154us/sample - loss: 0.0026 - acc: 0.8430 - val_loss: 0.0026 - val_acc: 0.8430\n",
            "Epoch 30/50\n",
            "11997/11997 [==============================] - 2s 156us/sample - loss: 0.0026 - acc: 0.8430 - val_loss: 0.0026 - val_acc: 0.8430\n",
            "Epoch 31/50\n",
            "11997/11997 [==============================] - 2s 157us/sample - loss: 0.0026 - acc: 0.8430 - val_loss: 0.0026 - val_acc: 0.8430\n",
            "Epoch 32/50\n",
            "11997/11997 [==============================] - 2s 152us/sample - loss: 0.0026 - acc: 0.8430 - val_loss: 0.0026 - val_acc: 0.8430\n",
            "Epoch 33/50\n",
            "11997/11997 [==============================] - 2s 157us/sample - loss: 0.0026 - acc: 0.8430 - val_loss: 0.0026 - val_acc: 0.8430\n",
            "Epoch 34/50\n",
            "11997/11997 [==============================] - 2s 154us/sample - loss: 0.0026 - acc: 0.8430 - val_loss: 0.0026 - val_acc: 0.8430\n",
            "Epoch 35/50\n",
            "11997/11997 [==============================] - 2s 154us/sample - loss: 0.0026 - acc: 0.8430 - val_loss: 0.0026 - val_acc: 0.8430\n",
            "Epoch 36/50\n",
            "11997/11997 [==============================] - 2s 156us/sample - loss: 0.0026 - acc: 0.8430 - val_loss: 0.0026 - val_acc: 0.8430\n",
            "Epoch 37/50\n",
            "11997/11997 [==============================] - 2s 158us/sample - loss: 0.0026 - acc: 0.8430 - val_loss: 0.0026 - val_acc: 0.8430\n",
            "Epoch 38/50\n",
            "11997/11997 [==============================] - 2s 155us/sample - loss: 0.0026 - acc: 0.8430 - val_loss: 0.0026 - val_acc: 0.8430\n",
            "Epoch 39/50\n",
            "11997/11997 [==============================] - 2s 157us/sample - loss: 0.0026 - acc: 0.8430 - val_loss: 0.0026 - val_acc: 0.8430\n",
            "Epoch 40/50\n",
            "11997/11997 [==============================] - 2s 156us/sample - loss: 0.0026 - acc: 0.8430 - val_loss: 0.0026 - val_acc: 0.8430\n",
            "Epoch 41/50\n",
            "11997/11997 [==============================] - 2s 155us/sample - loss: 0.0026 - acc: 0.8430 - val_loss: 0.0026 - val_acc: 0.8430\n",
            "Epoch 42/50\n",
            "11997/11997 [==============================] - 2s 159us/sample - loss: 0.0026 - acc: 0.8430 - val_loss: 0.0026 - val_acc: 0.8430\n",
            "Epoch 43/50\n",
            "11997/11997 [==============================] - 2s 157us/sample - loss: 0.0026 - acc: 0.8430 - val_loss: 0.0026 - val_acc: 0.8430\n",
            "Epoch 44/50\n",
            "11997/11997 [==============================] - 2s 158us/sample - loss: 0.0026 - acc: 0.8430 - val_loss: 0.0026 - val_acc: 0.8430\n",
            "Epoch 45/50\n",
            "11997/11997 [==============================] - 2s 157us/sample - loss: 0.0026 - acc: 0.8430 - val_loss: 0.0026 - val_acc: 0.8430\n",
            "Epoch 46/50\n",
            "11997/11997 [==============================] - 2s 157us/sample - loss: 0.0026 - acc: 0.8430 - val_loss: 0.0027 - val_acc: 0.8430\n",
            "Epoch 47/50\n",
            "11997/11997 [==============================] - 2s 162us/sample - loss: 0.0026 - acc: 0.8430 - val_loss: 0.0026 - val_acc: 0.8430\n",
            "Epoch 48/50\n",
            "11997/11997 [==============================] - 2s 160us/sample - loss: 0.0026 - acc: 0.8430 - val_loss: 0.0026 - val_acc: 0.8430\n",
            "Epoch 49/50\n",
            "11997/11997 [==============================] - 2s 160us/sample - loss: 0.0026 - acc: 0.8430 - val_loss: 0.0026 - val_acc: 0.8430\n",
            "Epoch 50/50\n",
            "11997/11997 [==============================] - 2s 157us/sample - loss: 0.0026 - acc: 0.8430 - val_loss: 0.0026 - val_acc: 0.8430\n"
          ],
          "name": "stdout"
        },
        {
          "output_type": "execute_result",
          "data": {
            "text/plain": [
              "<tensorflow.python.keras.callbacks.History at 0x7fdfa1b6ba90>"
            ]
          },
          "metadata": {
            "tags": []
          },
          "execution_count": 217
        }
      ]
    },
    {
      "cell_type": "code",
      "metadata": {
        "id": "VhNbhU3fIE3L",
        "colab_type": "code",
        "outputId": "b9c7e42e-c358-4d22-bc42-d11c8fedbaa0",
        "colab": {
          "base_uri": "https://localhost:8080/",
          "height": 50
        }
      },
      "source": [
        "ypred = model.predict(X13)\n",
        "s=pd.DataFrame(ypred)\n",
        "s1=pd.DataFrame(y13)\n",
        "s1.corrwith(s, axis = 0) "
      ],
      "execution_count": 218,
      "outputs": [
        {
          "output_type": "execute_result",
          "data": {
            "text/plain": [
              "0    0.33379\n",
              "dtype: float64"
            ]
          },
          "metadata": {
            "tags": []
          },
          "execution_count": 218
        }
      ]
    },
    {
      "cell_type": "code",
      "metadata": {
        "id": "rDtK58AIK8cY",
        "colab_type": "code",
        "outputId": "524cb755-0825-4e6f-f803-d3d601b0056a",
        "colab": {
          "base_uri": "https://localhost:8080/",
          "height": 34
        }
      },
      "source": [
        "r2_score(y13,ypred)"
      ],
      "execution_count": 219,
      "outputs": [
        {
          "output_type": "execute_result",
          "data": {
            "text/plain": [
              "0.10603174307203456"
            ]
          },
          "metadata": {
            "tags": []
          },
          "execution_count": 219
        }
      ]
    },
    {
      "cell_type": "code",
      "metadata": {
        "id": "aRT60eIMJXc9",
        "colab_type": "code",
        "outputId": "2086ae1b-50e9-4473-f667-b22de082f477",
        "colab": {
          "base_uri": "https://localhost:8080/",
          "height": 50
        }
      },
      "source": [
        "ypred1=model.predict(X_test13)\n",
        "s=pd.DataFrame(ypred1)\n",
        "s1=pd.DataFrame(y_test13)\n",
        "s1.corrwith(s,axis=0)"
      ],
      "execution_count": 220,
      "outputs": [
        {
          "output_type": "execute_result",
          "data": {
            "text/plain": [
              "0    0.33379\n",
              "dtype: float64"
            ]
          },
          "metadata": {
            "tags": []
          },
          "execution_count": 220
        }
      ]
    },
    {
      "cell_type": "code",
      "metadata": {
        "id": "5xh4_heUK-xf",
        "colab_type": "code",
        "outputId": "e2e94a32-a5f7-4e1c-ebbf-c8bedc0994ac",
        "colab": {
          "base_uri": "https://localhost:8080/",
          "height": 34
        }
      },
      "source": [
        "r2_score(y_test13,ypred1)"
      ],
      "execution_count": 221,
      "outputs": [
        {
          "output_type": "execute_result",
          "data": {
            "text/plain": [
              "0.10603174307203456"
            ]
          },
          "metadata": {
            "tags": []
          },
          "execution_count": 221
        }
      ]
    },
    {
      "cell_type": "code",
      "metadata": {
        "id": "KFzCJDbpcMx8",
        "colab_type": "code",
        "colab": {
          "base_uri": "https://localhost:8080/",
          "height": 34
        },
        "outputId": "69e9a3e1-257d-461e-fd6a-ba26a749abb4"
      },
      "source": [
        "mean_absolute_error(y_test13,ypred1)"
      ],
      "execution_count": 222,
      "outputs": [
        {
          "output_type": "execute_result",
          "data": {
            "text/plain": [
              "0.02353833688351678"
            ]
          },
          "metadata": {
            "tags": []
          },
          "execution_count": 222
        }
      ]
    },
    {
      "cell_type": "code",
      "metadata": {
        "id": "O41sYTw2cO27",
        "colab_type": "code",
        "colab": {
          "base_uri": "https://localhost:8080/",
          "height": 34
        },
        "outputId": "0d52e3e7-4e3b-4efe-8758-9ca0c185b8ce"
      },
      "source": [
        "mean_absolute_error(y13,ypred)"
      ],
      "execution_count": 223,
      "outputs": [
        {
          "output_type": "execute_result",
          "data": {
            "text/plain": [
              "0.02353833688351678"
            ]
          },
          "metadata": {
            "tags": []
          },
          "execution_count": 223
        }
      ]
    },
    {
      "cell_type": "code",
      "metadata": {
        "id": "ZOiZXqKJB8jC",
        "colab_type": "code",
        "outputId": "6e365db7-9b2e-4238-c2f2-215bd3580e20",
        "colab": {
          "base_uri": "https://localhost:8080/",
          "height": 1000
        }
      },
      "source": [
        "model.fit(X14, y14, validation_data=(X_test14,y_test14),epochs=50)"
      ],
      "execution_count": 224,
      "outputs": [
        {
          "output_type": "stream",
          "text": [
            "Train on 11997 samples, validate on 11997 samples\n",
            "Epoch 1/50\n",
            "11997/11997 [==============================] - 2s 159us/sample - loss: 0.0026 - acc: 0.8338 - val_loss: 0.0025 - val_acc: 0.8338\n",
            "Epoch 2/50\n",
            "11997/11997 [==============================] - 2s 149us/sample - loss: 0.0025 - acc: 0.8338 - val_loss: 0.0025 - val_acc: 0.8338\n",
            "Epoch 3/50\n",
            "11997/11997 [==============================] - 2s 149us/sample - loss: 0.0025 - acc: 0.8338 - val_loss: 0.0025 - val_acc: 0.8338\n",
            "Epoch 4/50\n",
            "11997/11997 [==============================] - 2s 151us/sample - loss: 0.0025 - acc: 0.8338 - val_loss: 0.0025 - val_acc: 0.8338\n",
            "Epoch 5/50\n",
            "11997/11997 [==============================] - 2s 148us/sample - loss: 0.0025 - acc: 0.8338 - val_loss: 0.0025 - val_acc: 0.8338\n",
            "Epoch 6/50\n",
            "11997/11997 [==============================] - 2s 146us/sample - loss: 0.0025 - acc: 0.8338 - val_loss: 0.0025 - val_acc: 0.8338\n",
            "Epoch 7/50\n",
            "11997/11997 [==============================] - 2s 147us/sample - loss: 0.0025 - acc: 0.8338 - val_loss: 0.0025 - val_acc: 0.8338\n",
            "Epoch 8/50\n",
            "11997/11997 [==============================] - 2s 146us/sample - loss: 0.0025 - acc: 0.8338 - val_loss: 0.0025 - val_acc: 0.8338\n",
            "Epoch 9/50\n",
            "11997/11997 [==============================] - 2s 149us/sample - loss: 0.0025 - acc: 0.8338 - val_loss: 0.0025 - val_acc: 0.8338\n",
            "Epoch 10/50\n",
            "11997/11997 [==============================] - 2s 148us/sample - loss: 0.0025 - acc: 0.8338 - val_loss: 0.0025 - val_acc: 0.8338\n",
            "Epoch 11/50\n",
            "11997/11997 [==============================] - 2s 153us/sample - loss: 0.0025 - acc: 0.8338 - val_loss: 0.0025 - val_acc: 0.8338\n",
            "Epoch 12/50\n",
            "11997/11997 [==============================] - 2s 160us/sample - loss: 0.0025 - acc: 0.8338 - val_loss: 0.0025 - val_acc: 0.8338\n",
            "Epoch 13/50\n",
            "11997/11997 [==============================] - 2s 155us/sample - loss: 0.0025 - acc: 0.8338 - val_loss: 0.0025 - val_acc: 0.8338\n",
            "Epoch 14/50\n",
            "11997/11997 [==============================] - 2s 156us/sample - loss: 0.0025 - acc: 0.8338 - val_loss: 0.0025 - val_acc: 0.8338\n",
            "Epoch 15/50\n",
            "11997/11997 [==============================] - 2s 153us/sample - loss: 0.0025 - acc: 0.8338 - val_loss: 0.0025 - val_acc: 0.8338\n",
            "Epoch 16/50\n",
            "11997/11997 [==============================] - 2s 156us/sample - loss: 0.0025 - acc: 0.8338 - val_loss: 0.0025 - val_acc: 0.8338\n",
            "Epoch 17/50\n",
            "11997/11997 [==============================] - 2s 152us/sample - loss: 0.0025 - acc: 0.8338 - val_loss: 0.0025 - val_acc: 0.8338\n",
            "Epoch 18/50\n",
            "11997/11997 [==============================] - 2s 154us/sample - loss: 0.0025 - acc: 0.8338 - val_loss: 0.0025 - val_acc: 0.8338\n",
            "Epoch 19/50\n",
            "11997/11997 [==============================] - 2s 155us/sample - loss: 0.0025 - acc: 0.8338 - val_loss: 0.0025 - val_acc: 0.8338\n",
            "Epoch 20/50\n",
            "11997/11997 [==============================] - 2s 154us/sample - loss: 0.0025 - acc: 0.8338 - val_loss: 0.0025 - val_acc: 0.8338\n",
            "Epoch 21/50\n",
            "11997/11997 [==============================] - 2s 152us/sample - loss: 0.0025 - acc: 0.8338 - val_loss: 0.0025 - val_acc: 0.8338\n",
            "Epoch 22/50\n",
            "11997/11997 [==============================] - 2s 152us/sample - loss: 0.0025 - acc: 0.8338 - val_loss: 0.0025 - val_acc: 0.8338\n",
            "Epoch 23/50\n",
            "11997/11997 [==============================] - 2s 155us/sample - loss: 0.0025 - acc: 0.8338 - val_loss: 0.0025 - val_acc: 0.8338\n",
            "Epoch 24/50\n",
            "11997/11997 [==============================] - 2s 151us/sample - loss: 0.0025 - acc: 0.8338 - val_loss: 0.0025 - val_acc: 0.8338\n",
            "Epoch 25/50\n",
            "11997/11997 [==============================] - 2s 152us/sample - loss: 0.0025 - acc: 0.8338 - val_loss: 0.0025 - val_acc: 0.8338\n",
            "Epoch 26/50\n",
            "11997/11997 [==============================] - 2s 150us/sample - loss: 0.0025 - acc: 0.8338 - val_loss: 0.0025 - val_acc: 0.8338\n",
            "Epoch 27/50\n",
            "11997/11997 [==============================] - 2s 149us/sample - loss: 0.0025 - acc: 0.8338 - val_loss: 0.0024 - val_acc: 0.8338\n",
            "Epoch 28/50\n",
            "11997/11997 [==============================] - 2s 152us/sample - loss: 0.0025 - acc: 0.8338 - val_loss: 0.0025 - val_acc: 0.8338\n",
            "Epoch 29/50\n",
            "11997/11997 [==============================] - 2s 157us/sample - loss: 0.0025 - acc: 0.8338 - val_loss: 0.0024 - val_acc: 0.8338\n",
            "Epoch 30/50\n",
            "11997/11997 [==============================] - 2s 159us/sample - loss: 0.0025 - acc: 0.8338 - val_loss: 0.0024 - val_acc: 0.8338\n",
            "Epoch 31/50\n",
            "11997/11997 [==============================] - 2s 155us/sample - loss: 0.0025 - acc: 0.8338 - val_loss: 0.0024 - val_acc: 0.8338\n",
            "Epoch 32/50\n",
            "11997/11997 [==============================] - 2s 151us/sample - loss: 0.0025 - acc: 0.8338 - val_loss: 0.0025 - val_acc: 0.8338\n",
            "Epoch 33/50\n",
            "11997/11997 [==============================] - 2s 148us/sample - loss: 0.0025 - acc: 0.8338 - val_loss: 0.0024 - val_acc: 0.8338\n",
            "Epoch 34/50\n",
            "11997/11997 [==============================] - 2s 146us/sample - loss: 0.0025 - acc: 0.8338 - val_loss: 0.0024 - val_acc: 0.8338\n",
            "Epoch 35/50\n",
            "11997/11997 [==============================] - 2s 147us/sample - loss: 0.0025 - acc: 0.8338 - val_loss: 0.0024 - val_acc: 0.8338\n",
            "Epoch 36/50\n",
            "11997/11997 [==============================] - 2s 146us/sample - loss: 0.0025 - acc: 0.8338 - val_loss: 0.0024 - val_acc: 0.8338\n",
            "Epoch 37/50\n",
            "11997/11997 [==============================] - 2s 147us/sample - loss: 0.0025 - acc: 0.8338 - val_loss: 0.0024 - val_acc: 0.8338\n",
            "Epoch 38/50\n",
            "11997/11997 [==============================] - 2s 144us/sample - loss: 0.0025 - acc: 0.8338 - val_loss: 0.0024 - val_acc: 0.8338\n",
            "Epoch 39/50\n",
            "11997/11997 [==============================] - 2s 145us/sample - loss: 0.0024 - acc: 0.8338 - val_loss: 0.0024 - val_acc: 0.8338\n",
            "Epoch 40/50\n",
            "11997/11997 [==============================] - 2s 146us/sample - loss: 0.0025 - acc: 0.8338 - val_loss: 0.0024 - val_acc: 0.8338\n",
            "Epoch 41/50\n",
            "11997/11997 [==============================] - 2s 148us/sample - loss: 0.0025 - acc: 0.8338 - val_loss: 0.0024 - val_acc: 0.8338\n",
            "Epoch 42/50\n",
            "11997/11997 [==============================] - 2s 148us/sample - loss: 0.0024 - acc: 0.8338 - val_loss: 0.0024 - val_acc: 0.8338\n",
            "Epoch 43/50\n",
            "11997/11997 [==============================] - 2s 147us/sample - loss: 0.0024 - acc: 0.8338 - val_loss: 0.0024 - val_acc: 0.8338\n",
            "Epoch 44/50\n",
            "11997/11997 [==============================] - 2s 149us/sample - loss: 0.0024 - acc: 0.8338 - val_loss: 0.0024 - val_acc: 0.8338\n",
            "Epoch 45/50\n",
            "11997/11997 [==============================] - 2s 150us/sample - loss: 0.0024 - acc: 0.8338 - val_loss: 0.0024 - val_acc: 0.8338\n",
            "Epoch 46/50\n",
            "11997/11997 [==============================] - 2s 157us/sample - loss: 0.0024 - acc: 0.8338 - val_loss: 0.0025 - val_acc: 0.8338\n",
            "Epoch 47/50\n",
            "11997/11997 [==============================] - 2s 153us/sample - loss: 0.0024 - acc: 0.8338 - val_loss: 0.0024 - val_acc: 0.8338\n",
            "Epoch 48/50\n",
            "11997/11997 [==============================] - 2s 153us/sample - loss: 0.0024 - acc: 0.8338 - val_loss: 0.0024 - val_acc: 0.8338\n",
            "Epoch 49/50\n",
            "11997/11997 [==============================] - 2s 155us/sample - loss: 0.0024 - acc: 0.8338 - val_loss: 0.0024 - val_acc: 0.8338\n",
            "Epoch 50/50\n",
            "11997/11997 [==============================] - 2s 151us/sample - loss: 0.0024 - acc: 0.8338 - val_loss: 0.0024 - val_acc: 0.8338\n"
          ],
          "name": "stdout"
        },
        {
          "output_type": "execute_result",
          "data": {
            "text/plain": [
              "<tensorflow.python.keras.callbacks.History at 0x7fdfa1b71898>"
            ]
          },
          "metadata": {
            "tags": []
          },
          "execution_count": 224
        }
      ]
    },
    {
      "cell_type": "code",
      "metadata": {
        "id": "0Ky-EMUEIGq6",
        "colab_type": "code",
        "outputId": "c529e923-1be9-45de-b8ba-f1faad38a216",
        "colab": {
          "base_uri": "https://localhost:8080/",
          "height": 50
        }
      },
      "source": [
        "ypred = model.predict(X14)\n",
        "s=pd.DataFrame(ypred)\n",
        "s1=pd.DataFrame(y14)\n",
        "s1.corrwith(s, axis = 0) "
      ],
      "execution_count": 225,
      "outputs": [
        {
          "output_type": "execute_result",
          "data": {
            "text/plain": [
              "0    0.305572\n",
              "dtype: float64"
            ]
          },
          "metadata": {
            "tags": []
          },
          "execution_count": 225
        }
      ]
    },
    {
      "cell_type": "code",
      "metadata": {
        "id": "kow20CjpKwRA",
        "colab_type": "code",
        "outputId": "505868f4-2098-446a-d94d-e9fd17dd265f",
        "colab": {
          "base_uri": "https://localhost:8080/",
          "height": 34
        }
      },
      "source": [
        "from sklearn.metrics import r2_score\n",
        "r2_score(y14,ypred)"
      ],
      "execution_count": 226,
      "outputs": [
        {
          "output_type": "execute_result",
          "data": {
            "text/plain": [
              "0.09324372156641225"
            ]
          },
          "metadata": {
            "tags": []
          },
          "execution_count": 226
        }
      ]
    },
    {
      "cell_type": "code",
      "metadata": {
        "id": "-YoTtOaYJY6P",
        "colab_type": "code",
        "outputId": "b37d1865-4270-4abd-902c-64771b19168b",
        "colab": {
          "base_uri": "https://localhost:8080/",
          "height": 50
        }
      },
      "source": [
        "ypred1=model.predict(X_test14)\n",
        "s=pd.DataFrame(ypred1)\n",
        "s1=pd.DataFrame(y_test14)\n",
        "s1.corrwith(s,axis=0)"
      ],
      "execution_count": 227,
      "outputs": [
        {
          "output_type": "execute_result",
          "data": {
            "text/plain": [
              "0    0.305572\n",
              "dtype: float64"
            ]
          },
          "metadata": {
            "tags": []
          },
          "execution_count": 227
        }
      ]
    },
    {
      "cell_type": "code",
      "metadata": {
        "id": "esTMyuJ3Kzmj",
        "colab_type": "code",
        "outputId": "4b2ace64-47f3-4590-b06f-3118825c9cbe",
        "colab": {
          "base_uri": "https://localhost:8080/",
          "height": 34
        }
      },
      "source": [
        "r2_score(y_test14,ypred1)"
      ],
      "execution_count": 228,
      "outputs": [
        {
          "output_type": "execute_result",
          "data": {
            "text/plain": [
              "0.09324372156641225"
            ]
          },
          "metadata": {
            "tags": []
          },
          "execution_count": 228
        }
      ]
    },
    {
      "cell_type": "code",
      "metadata": {
        "id": "7qVcX82RcWAs",
        "colab_type": "code",
        "colab": {
          "base_uri": "https://localhost:8080/",
          "height": 34
        },
        "outputId": "4e1a8b29-017c-4ccc-bcfe-a9b50cb55133"
      },
      "source": [
        "mean_absolute_error(y_test14,ypred1)"
      ],
      "execution_count": 229,
      "outputs": [
        {
          "output_type": "execute_result",
          "data": {
            "text/plain": [
              "0.020447902823630147"
            ]
          },
          "metadata": {
            "tags": []
          },
          "execution_count": 229
        }
      ]
    },
    {
      "cell_type": "code",
      "metadata": {
        "id": "SFHNwtqAcX1O",
        "colab_type": "code",
        "colab": {
          "base_uri": "https://localhost:8080/",
          "height": 34
        },
        "outputId": "78c9f1dd-6ad6-446b-df8e-8a4610c962e6"
      },
      "source": [
        "mean_absolute_error(y14,ypred)"
      ],
      "execution_count": 230,
      "outputs": [
        {
          "output_type": "execute_result",
          "data": {
            "text/plain": [
              "0.020447902823630147"
            ]
          },
          "metadata": {
            "tags": []
          },
          "execution_count": 230
        }
      ]
    },
    {
      "cell_type": "code",
      "metadata": {
        "id": "31sa5rlXB9BA",
        "colab_type": "code",
        "outputId": "db34aa8e-b6f7-4e47-cec3-a6fc9f2b59b8",
        "colab": {
          "base_uri": "https://localhost:8080/",
          "height": 1000
        }
      },
      "source": [
        "model.fit(X15, y15, validation_data=(X_test15,y_test15),epochs=50)"
      ],
      "execution_count": 231,
      "outputs": [
        {
          "output_type": "stream",
          "text": [
            "Train on 11997 samples, validate on 11997 samples\n",
            "Epoch 1/50\n",
            "11997/11997 [==============================] - 2s 152us/sample - loss: 0.0031 - acc: 0.8192 - val_loss: 0.0031 - val_acc: 0.8192\n",
            "Epoch 2/50\n",
            "11997/11997 [==============================] - 2s 150us/sample - loss: 0.0031 - acc: 0.8192 - val_loss: 0.0031 - val_acc: 0.8192\n",
            "Epoch 3/50\n",
            "11997/11997 [==============================] - 2s 146us/sample - loss: 0.0031 - acc: 0.8192 - val_loss: 0.0031 - val_acc: 0.8192\n",
            "Epoch 4/50\n",
            "11997/11997 [==============================] - 2s 148us/sample - loss: 0.0031 - acc: 0.8192 - val_loss: 0.0031 - val_acc: 0.8192\n",
            "Epoch 5/50\n",
            "11997/11997 [==============================] - 2s 145us/sample - loss: 0.0031 - acc: 0.8192 - val_loss: 0.0031 - val_acc: 0.8192\n",
            "Epoch 6/50\n",
            "11997/11997 [==============================] - 2s 145us/sample - loss: 0.0031 - acc: 0.8192 - val_loss: 0.0030 - val_acc: 0.8192\n",
            "Epoch 7/50\n",
            "11997/11997 [==============================] - 2s 146us/sample - loss: 0.0031 - acc: 0.8192 - val_loss: 0.0030 - val_acc: 0.8192\n",
            "Epoch 8/50\n",
            "11997/11997 [==============================] - 2s 144us/sample - loss: 0.0031 - acc: 0.8192 - val_loss: 0.0030 - val_acc: 0.8192\n",
            "Epoch 9/50\n",
            "11997/11997 [==============================] - 2s 144us/sample - loss: 0.0030 - acc: 0.8192 - val_loss: 0.0030 - val_acc: 0.8192\n",
            "Epoch 10/50\n",
            "11997/11997 [==============================] - 2s 146us/sample - loss: 0.0030 - acc: 0.8192 - val_loss: 0.0030 - val_acc: 0.8192\n",
            "Epoch 11/50\n",
            "11997/11997 [==============================] - 2s 148us/sample - loss: 0.0030 - acc: 0.8192 - val_loss: 0.0030 - val_acc: 0.8192\n",
            "Epoch 12/50\n",
            "11997/11997 [==============================] - 2s 147us/sample - loss: 0.0030 - acc: 0.8192 - val_loss: 0.0030 - val_acc: 0.8192\n",
            "Epoch 13/50\n",
            "11997/11997 [==============================] - 2s 150us/sample - loss: 0.0030 - acc: 0.8192 - val_loss: 0.0030 - val_acc: 0.8192\n",
            "Epoch 14/50\n",
            "11997/11997 [==============================] - 2s 155us/sample - loss: 0.0030 - acc: 0.8192 - val_loss: 0.0030 - val_acc: 0.8192\n",
            "Epoch 15/50\n",
            "11997/11997 [==============================] - 2s 146us/sample - loss: 0.0030 - acc: 0.8192 - val_loss: 0.0030 - val_acc: 0.8192\n",
            "Epoch 16/50\n",
            "11997/11997 [==============================] - 2s 147us/sample - loss: 0.0030 - acc: 0.8192 - val_loss: 0.0030 - val_acc: 0.8192\n",
            "Epoch 17/50\n",
            "11997/11997 [==============================] - 2s 145us/sample - loss: 0.0030 - acc: 0.8192 - val_loss: 0.0030 - val_acc: 0.8192\n",
            "Epoch 18/50\n",
            "11997/11997 [==============================] - 2s 148us/sample - loss: 0.0030 - acc: 0.8192 - val_loss: 0.0030 - val_acc: 0.8192\n",
            "Epoch 19/50\n",
            "11997/11997 [==============================] - 2s 148us/sample - loss: 0.0030 - acc: 0.8192 - val_loss: 0.0030 - val_acc: 0.8192\n",
            "Epoch 20/50\n",
            "11997/11997 [==============================] - 2s 149us/sample - loss: 0.0030 - acc: 0.8192 - val_loss: 0.0030 - val_acc: 0.8192\n",
            "Epoch 21/50\n",
            "11997/11997 [==============================] - 2s 150us/sample - loss: 0.0030 - acc: 0.8192 - val_loss: 0.0030 - val_acc: 0.8192\n",
            "Epoch 22/50\n",
            "11997/11997 [==============================] - 2s 146us/sample - loss: 0.0030 - acc: 0.8192 - val_loss: 0.0030 - val_acc: 0.8192\n",
            "Epoch 23/50\n",
            "11997/11997 [==============================] - 2s 146us/sample - loss: 0.0030 - acc: 0.8192 - val_loss: 0.0030 - val_acc: 0.8192\n",
            "Epoch 24/50\n",
            "11997/11997 [==============================] - 2s 147us/sample - loss: 0.0030 - acc: 0.8192 - val_loss: 0.0030 - val_acc: 0.8192\n",
            "Epoch 25/50\n",
            "11997/11997 [==============================] - 2s 146us/sample - loss: 0.0030 - acc: 0.8192 - val_loss: 0.0030 - val_acc: 0.8192\n",
            "Epoch 26/50\n",
            "11997/11997 [==============================] - 2s 148us/sample - loss: 0.0030 - acc: 0.8192 - val_loss: 0.0030 - val_acc: 0.8192\n",
            "Epoch 27/50\n",
            "11997/11997 [==============================] - 2s 147us/sample - loss: 0.0030 - acc: 0.8192 - val_loss: 0.0030 - val_acc: 0.8192\n",
            "Epoch 28/50\n",
            "11997/11997 [==============================] - 2s 153us/sample - loss: 0.0030 - acc: 0.8192 - val_loss: 0.0030 - val_acc: 0.8192\n",
            "Epoch 29/50\n",
            "11997/11997 [==============================] - 2s 156us/sample - loss: 0.0030 - acc: 0.8192 - val_loss: 0.0030 - val_acc: 0.8192\n",
            "Epoch 30/50\n",
            "11997/11997 [==============================] - 2s 154us/sample - loss: 0.0030 - acc: 0.8192 - val_loss: 0.0030 - val_acc: 0.8192\n",
            "Epoch 31/50\n",
            "11997/11997 [==============================] - 2s 151us/sample - loss: 0.0030 - acc: 0.8192 - val_loss: 0.0030 - val_acc: 0.8192\n",
            "Epoch 32/50\n",
            "11997/11997 [==============================] - 2s 155us/sample - loss: 0.0030 - acc: 0.8192 - val_loss: 0.0030 - val_acc: 0.8192\n",
            "Epoch 33/50\n",
            "11997/11997 [==============================] - 2s 153us/sample - loss: 0.0030 - acc: 0.8192 - val_loss: 0.0030 - val_acc: 0.8192\n",
            "Epoch 34/50\n",
            "11997/11997 [==============================] - 2s 153us/sample - loss: 0.0030 - acc: 0.8192 - val_loss: 0.0030 - val_acc: 0.8192\n",
            "Epoch 35/50\n",
            "11997/11997 [==============================] - 2s 150us/sample - loss: 0.0030 - acc: 0.8192 - val_loss: 0.0030 - val_acc: 0.8192\n",
            "Epoch 36/50\n",
            "11997/11997 [==============================] - 2s 149us/sample - loss: 0.0030 - acc: 0.8192 - val_loss: 0.0030 - val_acc: 0.8192\n",
            "Epoch 37/50\n",
            "11997/11997 [==============================] - 2s 149us/sample - loss: 0.0030 - acc: 0.8192 - val_loss: 0.0030 - val_acc: 0.8192\n",
            "Epoch 38/50\n",
            "11997/11997 [==============================] - 2s 149us/sample - loss: 0.0030 - acc: 0.8192 - val_loss: 0.0030 - val_acc: 0.8192\n",
            "Epoch 39/50\n",
            "11997/11997 [==============================] - 2s 145us/sample - loss: 0.0030 - acc: 0.8192 - val_loss: 0.0030 - val_acc: 0.8192\n",
            "Epoch 40/50\n",
            "11997/11997 [==============================] - 2s 148us/sample - loss: 0.0030 - acc: 0.8192 - val_loss: 0.0030 - val_acc: 0.8192\n",
            "Epoch 41/50\n",
            "11997/11997 [==============================] - 2s 147us/sample - loss: 0.0030 - acc: 0.8192 - val_loss: 0.0030 - val_acc: 0.8192\n",
            "Epoch 42/50\n",
            "11997/11997 [==============================] - 2s 146us/sample - loss: 0.0030 - acc: 0.8192 - val_loss: 0.0030 - val_acc: 0.8192\n",
            "Epoch 43/50\n",
            "11997/11997 [==============================] - 2s 146us/sample - loss: 0.0030 - acc: 0.8192 - val_loss: 0.0030 - val_acc: 0.8192\n",
            "Epoch 44/50\n",
            "11997/11997 [==============================] - 2s 146us/sample - loss: 0.0030 - acc: 0.8192 - val_loss: 0.0030 - val_acc: 0.8192\n",
            "Epoch 45/50\n",
            "11997/11997 [==============================] - 2s 146us/sample - loss: 0.0030 - acc: 0.8192 - val_loss: 0.0030 - val_acc: 0.8192\n",
            "Epoch 46/50\n",
            "11997/11997 [==============================] - 2s 144us/sample - loss: 0.0030 - acc: 0.8192 - val_loss: 0.0030 - val_acc: 0.8192\n",
            "Epoch 47/50\n",
            "11997/11997 [==============================] - 2s 146us/sample - loss: 0.0030 - acc: 0.8192 - val_loss: 0.0030 - val_acc: 0.8192\n",
            "Epoch 48/50\n",
            "11997/11997 [==============================] - 2s 142us/sample - loss: 0.0030 - acc: 0.8192 - val_loss: 0.0030 - val_acc: 0.8192\n",
            "Epoch 49/50\n",
            "11997/11997 [==============================] - 2s 146us/sample - loss: 0.0030 - acc: 0.8192 - val_loss: 0.0030 - val_acc: 0.8192\n",
            "Epoch 50/50\n",
            "11997/11997 [==============================] - 2s 146us/sample - loss: 0.0030 - acc: 0.8192 - val_loss: 0.0030 - val_acc: 0.8192\n"
          ],
          "name": "stdout"
        },
        {
          "output_type": "execute_result",
          "data": {
            "text/plain": [
              "<tensorflow.python.keras.callbacks.History at 0x7fdfa1b10390>"
            ]
          },
          "metadata": {
            "tags": []
          },
          "execution_count": 231
        }
      ]
    },
    {
      "cell_type": "code",
      "metadata": {
        "id": "x783mmAYIIMe",
        "colab_type": "code",
        "outputId": "33c04827-a798-4113-f863-53e12987e0fc",
        "colab": {
          "base_uri": "https://localhost:8080/",
          "height": 50
        }
      },
      "source": [
        "ypred = model.predict(X15)\n",
        "s=pd.DataFrame(ypred)\n",
        "s1=pd.DataFrame(y15)\n",
        "s1.corrwith(s, axis = 0) "
      ],
      "execution_count": 232,
      "outputs": [
        {
          "output_type": "execute_result",
          "data": {
            "text/plain": [
              "0    0.266951\n",
              "dtype: float64"
            ]
          },
          "metadata": {
            "tags": []
          },
          "execution_count": 232
        }
      ]
    },
    {
      "cell_type": "code",
      "metadata": {
        "id": "NHuQ0617KncF",
        "colab_type": "code",
        "outputId": "17fc0241-cf20-4ce9-ef38-a022b25f55d5",
        "colab": {
          "base_uri": "https://localhost:8080/",
          "height": 34
        }
      },
      "source": [
        "from sklearn.metrics import r2_score\n",
        "r2_score(y15,ypred)"
      ],
      "execution_count": 233,
      "outputs": [
        {
          "output_type": "execute_result",
          "data": {
            "text/plain": [
              "0.07109688039522666"
            ]
          },
          "metadata": {
            "tags": []
          },
          "execution_count": 233
        }
      ]
    },
    {
      "cell_type": "code",
      "metadata": {
        "id": "G7dQRGRnJb-H",
        "colab_type": "code",
        "outputId": "369ee4d6-a8b4-49e6-9d01-1e444d3778fb",
        "colab": {
          "base_uri": "https://localhost:8080/",
          "height": 50
        }
      },
      "source": [
        "ypred1=model.predict(X_test15)\n",
        "s=pd.DataFrame(ypred1)\n",
        "s1=pd.DataFrame(y_test15)\n",
        "s1.corrwith(s,axis=0)"
      ],
      "execution_count": 234,
      "outputs": [
        {
          "output_type": "execute_result",
          "data": {
            "text/plain": [
              "0    0.266951\n",
              "dtype: float64"
            ]
          },
          "metadata": {
            "tags": []
          },
          "execution_count": 234
        }
      ]
    },
    {
      "cell_type": "code",
      "metadata": {
        "id": "7MsXJBffKsBU",
        "colab_type": "code",
        "outputId": "4ea08c4c-833e-440a-bfb8-ba02cee914a8",
        "colab": {
          "base_uri": "https://localhost:8080/",
          "height": 34
        }
      },
      "source": [
        "from sklearn.metrics import r2_score\n",
        "r2_score(y_test15,ypred1)"
      ],
      "execution_count": 235,
      "outputs": [
        {
          "output_type": "execute_result",
          "data": {
            "text/plain": [
              "0.07109688039522666"
            ]
          },
          "metadata": {
            "tags": []
          },
          "execution_count": 235
        }
      ]
    },
    {
      "cell_type": "code",
      "metadata": {
        "id": "oqpc6rGJccsh",
        "colab_type": "code",
        "colab": {
          "base_uri": "https://localhost:8080/",
          "height": 34
        },
        "outputId": "ae6c562b-4ea1-4310-dc1b-c414c69593cd"
      },
      "source": [
        "mean_absolute_error(y_test15,ypred1)"
      ],
      "execution_count": 236,
      "outputs": [
        {
          "output_type": "execute_result",
          "data": {
            "text/plain": [
              "0.0215423914069251"
            ]
          },
          "metadata": {
            "tags": []
          },
          "execution_count": 236
        }
      ]
    },
    {
      "cell_type": "code",
      "metadata": {
        "id": "TBuDDwkTce4X",
        "colab_type": "code",
        "colab": {
          "base_uri": "https://localhost:8080/",
          "height": 34
        },
        "outputId": "9dbd9abb-1128-44a3-b07d-7d14cf77cf9e"
      },
      "source": [
        "mean_absolute_error(y15,ypred)"
      ],
      "execution_count": 237,
      "outputs": [
        {
          "output_type": "execute_result",
          "data": {
            "text/plain": [
              "0.0215423914069251"
            ]
          },
          "metadata": {
            "tags": []
          },
          "execution_count": 237
        }
      ]
    },
    {
      "cell_type": "code",
      "metadata": {
        "id": "ddVXEmYRB9TB",
        "colab_type": "code",
        "outputId": "1bf3806b-eb2d-4670-dee4-4af0e9322f1c",
        "colab": {
          "base_uri": "https://localhost:8080/",
          "height": 1000
        }
      },
      "source": [
        "model.fit(X16, y16, validation_data=(X_test16,y_test16),epochs=50)"
      ],
      "execution_count": 238,
      "outputs": [
        {
          "output_type": "stream",
          "text": [
            "Train on 11997 samples, validate on 11997 samples\n",
            "Epoch 1/50\n",
            "11997/11997 [==============================] - 2s 148us/sample - loss: 0.0025 - acc: 0.8464 - val_loss: 0.0025 - val_acc: 0.8464\n",
            "Epoch 2/50\n",
            "11997/11997 [==============================] - 2s 147us/sample - loss: 0.0025 - acc: 0.8464 - val_loss: 0.0025 - val_acc: 0.8464\n",
            "Epoch 3/50\n",
            "11997/11997 [==============================] - 2s 145us/sample - loss: 0.0025 - acc: 0.8464 - val_loss: 0.0025 - val_acc: 0.8464\n",
            "Epoch 4/50\n",
            "11997/11997 [==============================] - 2s 145us/sample - loss: 0.0025 - acc: 0.8464 - val_loss: 0.0025 - val_acc: 0.8464\n",
            "Epoch 5/50\n",
            "11997/11997 [==============================] - 2s 145us/sample - loss: 0.0025 - acc: 0.8464 - val_loss: 0.0025 - val_acc: 0.8464\n",
            "Epoch 6/50\n",
            "11997/11997 [==============================] - 2s 144us/sample - loss: 0.0025 - acc: 0.8464 - val_loss: 0.0025 - val_acc: 0.8464\n",
            "Epoch 7/50\n",
            "11997/11997 [==============================] - 2s 144us/sample - loss: 0.0025 - acc: 0.8464 - val_loss: 0.0025 - val_acc: 0.8464\n",
            "Epoch 8/50\n",
            "11997/11997 [==============================] - 2s 146us/sample - loss: 0.0025 - acc: 0.8464 - val_loss: 0.0025 - val_acc: 0.8464\n",
            "Epoch 9/50\n",
            "11997/11997 [==============================] - 2s 144us/sample - loss: 0.0025 - acc: 0.8464 - val_loss: 0.0025 - val_acc: 0.8464\n",
            "Epoch 10/50\n",
            "11997/11997 [==============================] - 2s 146us/sample - loss: 0.0025 - acc: 0.8464 - val_loss: 0.0025 - val_acc: 0.8464\n",
            "Epoch 11/50\n",
            "11997/11997 [==============================] - 2s 150us/sample - loss: 0.0025 - acc: 0.8464 - val_loss: 0.0025 - val_acc: 0.8464\n",
            "Epoch 12/50\n",
            "11997/11997 [==============================] - 2s 148us/sample - loss: 0.0025 - acc: 0.8464 - val_loss: 0.0025 - val_acc: 0.8464\n",
            "Epoch 13/50\n",
            "11997/11997 [==============================] - 2s 150us/sample - loss: 0.0025 - acc: 0.8464 - val_loss: 0.0025 - val_acc: 0.8464\n",
            "Epoch 14/50\n",
            "11997/11997 [==============================] - 2s 146us/sample - loss: 0.0025 - acc: 0.8464 - val_loss: 0.0025 - val_acc: 0.8464\n",
            "Epoch 15/50\n",
            "11997/11997 [==============================] - 2s 148us/sample - loss: 0.0025 - acc: 0.8464 - val_loss: 0.0025 - val_acc: 0.8464\n",
            "Epoch 16/50\n",
            "11997/11997 [==============================] - 2s 145us/sample - loss: 0.0025 - acc: 0.8464 - val_loss: 0.0025 - val_acc: 0.8464\n",
            "Epoch 17/50\n",
            "11997/11997 [==============================] - 2s 146us/sample - loss: 0.0025 - acc: 0.8464 - val_loss: 0.0025 - val_acc: 0.8464\n",
            "Epoch 18/50\n",
            "11997/11997 [==============================] - 2s 145us/sample - loss: 0.0025 - acc: 0.8464 - val_loss: 0.0025 - val_acc: 0.8464\n",
            "Epoch 19/50\n",
            "11997/11997 [==============================] - 2s 147us/sample - loss: 0.0025 - acc: 0.8464 - val_loss: 0.0025 - val_acc: 0.8464\n",
            "Epoch 20/50\n",
            "11997/11997 [==============================] - 2s 143us/sample - loss: 0.0025 - acc: 0.8464 - val_loss: 0.0025 - val_acc: 0.8464\n",
            "Epoch 21/50\n",
            "11997/11997 [==============================] - 2s 145us/sample - loss: 0.0025 - acc: 0.8464 - val_loss: 0.0025 - val_acc: 0.8464\n",
            "Epoch 22/50\n",
            "11997/11997 [==============================] - 2s 142us/sample - loss: 0.0025 - acc: 0.8464 - val_loss: 0.0025 - val_acc: 0.8464\n",
            "Epoch 23/50\n",
            "11997/11997 [==============================] - 2s 147us/sample - loss: 0.0025 - acc: 0.8464 - val_loss: 0.0025 - val_acc: 0.8464\n",
            "Epoch 24/50\n",
            "11997/11997 [==============================] - 2s 144us/sample - loss: 0.0025 - acc: 0.8464 - val_loss: 0.0025 - val_acc: 0.8464\n",
            "Epoch 25/50\n",
            "11997/11997 [==============================] - 2s 143us/sample - loss: 0.0025 - acc: 0.8464 - val_loss: 0.0025 - val_acc: 0.8464\n",
            "Epoch 26/50\n",
            "11997/11997 [==============================] - 2s 144us/sample - loss: 0.0025 - acc: 0.8464 - val_loss: 0.0025 - val_acc: 0.8464\n",
            "Epoch 27/50\n",
            "11997/11997 [==============================] - 2s 142us/sample - loss: 0.0025 - acc: 0.8464 - val_loss: 0.0025 - val_acc: 0.8464\n",
            "Epoch 28/50\n",
            "11997/11997 [==============================] - 2s 144us/sample - loss: 0.0025 - acc: 0.8464 - val_loss: 0.0025 - val_acc: 0.8464\n",
            "Epoch 29/50\n",
            "11997/11997 [==============================] - 2s 143us/sample - loss: 0.0025 - acc: 0.8464 - val_loss: 0.0025 - val_acc: 0.8464\n",
            "Epoch 30/50\n",
            "11997/11997 [==============================] - 2s 143us/sample - loss: 0.0025 - acc: 0.8464 - val_loss: 0.0025 - val_acc: 0.8464\n",
            "Epoch 31/50\n",
            "11997/11997 [==============================] - 2s 147us/sample - loss: 0.0025 - acc: 0.8464 - val_loss: 0.0025 - val_acc: 0.8464\n",
            "Epoch 32/50\n",
            "11997/11997 [==============================] - 2s 142us/sample - loss: 0.0025 - acc: 0.8464 - val_loss: 0.0025 - val_acc: 0.8464\n",
            "Epoch 33/50\n",
            "11997/11997 [==============================] - 2s 144us/sample - loss: 0.0025 - acc: 0.8464 - val_loss: 0.0025 - val_acc: 0.8464\n",
            "Epoch 34/50\n",
            "11997/11997 [==============================] - 2s 143us/sample - loss: 0.0025 - acc: 0.8464 - val_loss: 0.0025 - val_acc: 0.8464\n",
            "Epoch 35/50\n",
            "11997/11997 [==============================] - 2s 142us/sample - loss: 0.0025 - acc: 0.8464 - val_loss: 0.0025 - val_acc: 0.8464\n",
            "Epoch 36/50\n",
            "11997/11997 [==============================] - 2s 144us/sample - loss: 0.0025 - acc: 0.8464 - val_loss: 0.0025 - val_acc: 0.8464\n",
            "Epoch 37/50\n",
            "11997/11997 [==============================] - 2s 145us/sample - loss: 0.0025 - acc: 0.8464 - val_loss: 0.0025 - val_acc: 0.8464\n",
            "Epoch 38/50\n",
            "11997/11997 [==============================] - 2s 144us/sample - loss: 0.0025 - acc: 0.8464 - val_loss: 0.0025 - val_acc: 0.8464\n",
            "Epoch 39/50\n",
            "11997/11997 [==============================] - 2s 145us/sample - loss: 0.0025 - acc: 0.8464 - val_loss: 0.0025 - val_acc: 0.8464\n",
            "Epoch 40/50\n",
            "11997/11997 [==============================] - 2s 143us/sample - loss: 0.0025 - acc: 0.8464 - val_loss: 0.0025 - val_acc: 0.8464\n",
            "Epoch 41/50\n",
            "11997/11997 [==============================] - 2s 143us/sample - loss: 0.0025 - acc: 0.8464 - val_loss: 0.0025 - val_acc: 0.8464\n",
            "Epoch 42/50\n",
            "11997/11997 [==============================] - 2s 147us/sample - loss: 0.0025 - acc: 0.8464 - val_loss: 0.0025 - val_acc: 0.8464\n",
            "Epoch 43/50\n",
            "11997/11997 [==============================] - 2s 143us/sample - loss: 0.0025 - acc: 0.8464 - val_loss: 0.0025 - val_acc: 0.8464\n",
            "Epoch 44/50\n",
            "11997/11997 [==============================] - 2s 143us/sample - loss: 0.0025 - acc: 0.8464 - val_loss: 0.0025 - val_acc: 0.8464\n",
            "Epoch 45/50\n",
            "11997/11997 [==============================] - 2s 148us/sample - loss: 0.0025 - acc: 0.8464 - val_loss: 0.0025 - val_acc: 0.8464\n",
            "Epoch 46/50\n",
            "11997/11997 [==============================] - 2s 151us/sample - loss: 0.0025 - acc: 0.8464 - val_loss: 0.0025 - val_acc: 0.8464\n",
            "Epoch 47/50\n",
            "11997/11997 [==============================] - 2s 148us/sample - loss: 0.0025 - acc: 0.8464 - val_loss: 0.0025 - val_acc: 0.8464\n",
            "Epoch 48/50\n",
            "11997/11997 [==============================] - 2s 147us/sample - loss: 0.0025 - acc: 0.8464 - val_loss: 0.0025 - val_acc: 0.8464\n",
            "Epoch 49/50\n",
            "11997/11997 [==============================] - 2s 146us/sample - loss: 0.0025 - acc: 0.8464 - val_loss: 0.0025 - val_acc: 0.8464\n",
            "Epoch 50/50\n",
            "11997/11997 [==============================] - 2s 146us/sample - loss: 0.0025 - acc: 0.8464 - val_loss: 0.0025 - val_acc: 0.8464\n"
          ],
          "name": "stdout"
        },
        {
          "output_type": "execute_result",
          "data": {
            "text/plain": [
              "<tensorflow.python.keras.callbacks.History at 0x7fdfa1b10940>"
            ]
          },
          "metadata": {
            "tags": []
          },
          "execution_count": 238
        }
      ]
    },
    {
      "cell_type": "code",
      "metadata": {
        "id": "fBzu8k-rIJfj",
        "colab_type": "code",
        "outputId": "402a5718-e454-4edd-cda4-a939e1f62b73",
        "colab": {
          "base_uri": "https://localhost:8080/",
          "height": 50
        }
      },
      "source": [
        "ypred = model.predict(X16)\n",
        "s=pd.DataFrame(ypred)\n",
        "s1=pd.DataFrame(y16)\n",
        "s1.corrwith(s, axis = 0) "
      ],
      "execution_count": 239,
      "outputs": [
        {
          "output_type": "execute_result",
          "data": {
            "text/plain": [
              "0    0.277041\n",
              "dtype: float64"
            ]
          },
          "metadata": {
            "tags": []
          },
          "execution_count": 239
        }
      ]
    },
    {
      "cell_type": "code",
      "metadata": {
        "id": "oa8m9LhKKdqO",
        "colab_type": "code",
        "outputId": "4281a8b9-ecb9-4ec0-979a-927683654b4d",
        "colab": {
          "base_uri": "https://localhost:8080/",
          "height": 34
        }
      },
      "source": [
        "from sklearn.metrics import r2_score\n",
        "r2_score(y16,ypred)"
      ],
      "execution_count": 240,
      "outputs": [
        {
          "output_type": "execute_result",
          "data": {
            "text/plain": [
              "0.07602424976987965"
            ]
          },
          "metadata": {
            "tags": []
          },
          "execution_count": 240
        }
      ]
    },
    {
      "cell_type": "code",
      "metadata": {
        "id": "NCjU5wnqJdhv",
        "colab_type": "code",
        "outputId": "6170f801-cab9-427e-be72-7c2a1a54e5aa",
        "colab": {
          "base_uri": "https://localhost:8080/",
          "height": 50
        }
      },
      "source": [
        "ypred1=model.predict(X_test16)\n",
        "s=pd.DataFrame(ypred1)\n",
        "s1=pd.DataFrame(y_test16)\n",
        "s1.corrwith(s,axis=0)"
      ],
      "execution_count": 241,
      "outputs": [
        {
          "output_type": "execute_result",
          "data": {
            "text/plain": [
              "0    0.277041\n",
              "dtype: float64"
            ]
          },
          "metadata": {
            "tags": []
          },
          "execution_count": 241
        }
      ]
    },
    {
      "cell_type": "code",
      "metadata": {
        "id": "UY6rtmdyKjSa",
        "colab_type": "code",
        "outputId": "26b20ab4-f9dc-437b-ed09-fb2dcae68a57",
        "colab": {
          "base_uri": "https://localhost:8080/",
          "height": 34
        }
      },
      "source": [
        "r2_score(y_test16,ypred1)"
      ],
      "execution_count": 242,
      "outputs": [
        {
          "output_type": "execute_result",
          "data": {
            "text/plain": [
              "0.07602424976987965"
            ]
          },
          "metadata": {
            "tags": []
          },
          "execution_count": 242
        }
      ]
    },
    {
      "cell_type": "code",
      "metadata": {
        "id": "U9Ef0FuxciMB",
        "colab_type": "code",
        "colab": {
          "base_uri": "https://localhost:8080/",
          "height": 34
        },
        "outputId": "e1205bbb-f894-46b7-efae-9e8fd7dc0224"
      },
      "source": [
        "mean_absolute_error(y_test16,ypred1)"
      ],
      "execution_count": 243,
      "outputs": [
        {
          "output_type": "execute_result",
          "data": {
            "text/plain": [
              "0.02105551295483172"
            ]
          },
          "metadata": {
            "tags": []
          },
          "execution_count": 243
        }
      ]
    },
    {
      "cell_type": "code",
      "metadata": {
        "id": "82kqJKkTcj7i",
        "colab_type": "code",
        "colab": {
          "base_uri": "https://localhost:8080/",
          "height": 34
        },
        "outputId": "3657be70-9c72-4179-f7db-74926af8cf3a"
      },
      "source": [
        "mean_absolute_error(y16,ypred)"
      ],
      "execution_count": 244,
      "outputs": [
        {
          "output_type": "execute_result",
          "data": {
            "text/plain": [
              "0.02105551295483172"
            ]
          },
          "metadata": {
            "tags": []
          },
          "execution_count": 244
        }
      ]
    },
    {
      "cell_type": "code",
      "metadata": {
        "id": "PIErxCqcB9uC",
        "colab_type": "code",
        "outputId": "1910663d-aca3-4eb1-f3bb-abf4a67e0414",
        "colab": {
          "base_uri": "https://localhost:8080/",
          "height": 1000
        }
      },
      "source": [
        "model.fit(X17, y17, validation_data=(X_test17,y_test17),epochs=50)"
      ],
      "execution_count": 245,
      "outputs": [
        {
          "output_type": "stream",
          "text": [
            "Train on 11997 samples, validate on 11997 samples\n",
            "Epoch 1/50\n",
            "11997/11997 [==============================] - 2s 148us/sample - loss: 0.0025 - acc: 0.8949 - val_loss: 0.0025 - val_acc: 0.8949\n",
            "Epoch 2/50\n",
            "11997/11997 [==============================] - 2s 147us/sample - loss: 0.0025 - acc: 0.8949 - val_loss: 0.0025 - val_acc: 0.8949\n",
            "Epoch 3/50\n",
            "11997/11997 [==============================] - 2s 146us/sample - loss: 0.0025 - acc: 0.8949 - val_loss: 0.0025 - val_acc: 0.8949\n",
            "Epoch 4/50\n",
            "11997/11997 [==============================] - 2s 146us/sample - loss: 0.0025 - acc: 0.8949 - val_loss: 0.0025 - val_acc: 0.8949\n",
            "Epoch 5/50\n",
            "11997/11997 [==============================] - 2s 148us/sample - loss: 0.0025 - acc: 0.8949 - val_loss: 0.0025 - val_acc: 0.8949\n",
            "Epoch 6/50\n",
            "11997/11997 [==============================] - 2s 145us/sample - loss: 0.0025 - acc: 0.8949 - val_loss: 0.0025 - val_acc: 0.8949\n",
            "Epoch 7/50\n",
            "11997/11997 [==============================] - 2s 144us/sample - loss: 0.0025 - acc: 0.8949 - val_loss: 0.0025 - val_acc: 0.8949\n",
            "Epoch 8/50\n",
            "11997/11997 [==============================] - 2s 147us/sample - loss: 0.0025 - acc: 0.8949 - val_loss: 0.0025 - val_acc: 0.8949\n",
            "Epoch 9/50\n",
            "11997/11997 [==============================] - 2s 145us/sample - loss: 0.0025 - acc: 0.8949 - val_loss: 0.0025 - val_acc: 0.8949\n",
            "Epoch 10/50\n",
            "11997/11997 [==============================] - 2s 147us/sample - loss: 0.0025 - acc: 0.8949 - val_loss: 0.0025 - val_acc: 0.8949\n",
            "Epoch 11/50\n",
            "11997/11997 [==============================] - 2s 146us/sample - loss: 0.0025 - acc: 0.8949 - val_loss: 0.0025 - val_acc: 0.8949\n",
            "Epoch 12/50\n",
            "11997/11997 [==============================] - 2s 147us/sample - loss: 0.0025 - acc: 0.8949 - val_loss: 0.0025 - val_acc: 0.8949\n",
            "Epoch 13/50\n",
            "11997/11997 [==============================] - 2s 146us/sample - loss: 0.0025 - acc: 0.8949 - val_loss: 0.0025 - val_acc: 0.8949\n",
            "Epoch 14/50\n",
            "11997/11997 [==============================] - 2s 146us/sample - loss: 0.0025 - acc: 0.8949 - val_loss: 0.0025 - val_acc: 0.8949\n",
            "Epoch 15/50\n",
            "11997/11997 [==============================] - 2s 146us/sample - loss: 0.0025 - acc: 0.8949 - val_loss: 0.0025 - val_acc: 0.8949\n",
            "Epoch 16/50\n",
            "11997/11997 [==============================] - 2s 144us/sample - loss: 0.0025 - acc: 0.8949 - val_loss: 0.0025 - val_acc: 0.8949\n",
            "Epoch 17/50\n",
            "11997/11997 [==============================] - 2s 147us/sample - loss: 0.0025 - acc: 0.8949 - val_loss: 0.0025 - val_acc: 0.8949\n",
            "Epoch 18/50\n",
            "11997/11997 [==============================] - 2s 143us/sample - loss: 0.0025 - acc: 0.8949 - val_loss: 0.0025 - val_acc: 0.8949\n",
            "Epoch 19/50\n",
            "11997/11997 [==============================] - 2s 147us/sample - loss: 0.0025 - acc: 0.8949 - val_loss: 0.0025 - val_acc: 0.8949\n",
            "Epoch 20/50\n",
            "11997/11997 [==============================] - 2s 160us/sample - loss: 0.0025 - acc: 0.8949 - val_loss: 0.0025 - val_acc: 0.8949\n",
            "Epoch 21/50\n",
            "11997/11997 [==============================] - 2s 156us/sample - loss: 0.0025 - acc: 0.8949 - val_loss: 0.0025 - val_acc: 0.8949\n",
            "Epoch 22/50\n",
            "11997/11997 [==============================] - 2s 155us/sample - loss: 0.0025 - acc: 0.8949 - val_loss: 0.0025 - val_acc: 0.8949\n",
            "Epoch 23/50\n",
            "11997/11997 [==============================] - 2s 155us/sample - loss: 0.0025 - acc: 0.8949 - val_loss: 0.0025 - val_acc: 0.8949\n",
            "Epoch 24/50\n",
            "11997/11997 [==============================] - 2s 155us/sample - loss: 0.0025 - acc: 0.8949 - val_loss: 0.0025 - val_acc: 0.8949\n",
            "Epoch 25/50\n",
            "11997/11997 [==============================] - 2s 152us/sample - loss: 0.0025 - acc: 0.8949 - val_loss: 0.0025 - val_acc: 0.8949\n",
            "Epoch 26/50\n",
            "11997/11997 [==============================] - 2s 147us/sample - loss: 0.0025 - acc: 0.8949 - val_loss: 0.0025 - val_acc: 0.8949\n",
            "Epoch 27/50\n",
            "11997/11997 [==============================] - 2s 148us/sample - loss: 0.0025 - acc: 0.8949 - val_loss: 0.0025 - val_acc: 0.8949\n",
            "Epoch 28/50\n",
            "11997/11997 [==============================] - 2s 144us/sample - loss: 0.0025 - acc: 0.8949 - val_loss: 0.0025 - val_acc: 0.8949\n",
            "Epoch 29/50\n",
            "11997/11997 [==============================] - 2s 152us/sample - loss: 0.0025 - acc: 0.8949 - val_loss: 0.0025 - val_acc: 0.8949\n",
            "Epoch 30/50\n",
            "11997/11997 [==============================] - 2s 155us/sample - loss: 0.0025 - acc: 0.8949 - val_loss: 0.0025 - val_acc: 0.8949\n",
            "Epoch 31/50\n",
            "11997/11997 [==============================] - 2s 147us/sample - loss: 0.0025 - acc: 0.8949 - val_loss: 0.0025 - val_acc: 0.8949\n",
            "Epoch 32/50\n",
            "11997/11997 [==============================] - 2s 148us/sample - loss: 0.0025 - acc: 0.8949 - val_loss: 0.0025 - val_acc: 0.8949\n",
            "Epoch 33/50\n",
            "11997/11997 [==============================] - 2s 148us/sample - loss: 0.0025 - acc: 0.8949 - val_loss: 0.0025 - val_acc: 0.8949\n",
            "Epoch 34/50\n",
            "11997/11997 [==============================] - 2s 152us/sample - loss: 0.0025 - acc: 0.8949 - val_loss: 0.0025 - val_acc: 0.8949\n",
            "Epoch 35/50\n",
            "11997/11997 [==============================] - 2s 147us/sample - loss: 0.0025 - acc: 0.8949 - val_loss: 0.0025 - val_acc: 0.8949\n",
            "Epoch 36/50\n",
            "11997/11997 [==============================] - 2s 146us/sample - loss: 0.0025 - acc: 0.8949 - val_loss: 0.0025 - val_acc: 0.8949\n",
            "Epoch 37/50\n",
            "11997/11997 [==============================] - 2s 150us/sample - loss: 0.0025 - acc: 0.8949 - val_loss: 0.0025 - val_acc: 0.8949\n",
            "Epoch 38/50\n",
            "11997/11997 [==============================] - 2s 145us/sample - loss: 0.0025 - acc: 0.8949 - val_loss: 0.0025 - val_acc: 0.8949\n",
            "Epoch 39/50\n",
            "11997/11997 [==============================] - 2s 145us/sample - loss: 0.0025 - acc: 0.8949 - val_loss: 0.0025 - val_acc: 0.8949\n",
            "Epoch 40/50\n",
            "11997/11997 [==============================] - 2s 146us/sample - loss: 0.0025 - acc: 0.8949 - val_loss: 0.0025 - val_acc: 0.8949\n",
            "Epoch 41/50\n",
            "11997/11997 [==============================] - 2s 145us/sample - loss: 0.0025 - acc: 0.8949 - val_loss: 0.0025 - val_acc: 0.8949\n",
            "Epoch 42/50\n",
            "11997/11997 [==============================] - 2s 149us/sample - loss: 0.0025 - acc: 0.8949 - val_loss: 0.0025 - val_acc: 0.8949\n",
            "Epoch 43/50\n",
            "11997/11997 [==============================] - 2s 145us/sample - loss: 0.0025 - acc: 0.8949 - val_loss: 0.0025 - val_acc: 0.8949\n",
            "Epoch 44/50\n",
            "11997/11997 [==============================] - 2s 148us/sample - loss: 0.0025 - acc: 0.8949 - val_loss: 0.0025 - val_acc: 0.8949\n",
            "Epoch 45/50\n",
            "11997/11997 [==============================] - 2s 146us/sample - loss: 0.0025 - acc: 0.8949 - val_loss: 0.0025 - val_acc: 0.8949\n",
            "Epoch 46/50\n",
            "11997/11997 [==============================] - 2s 147us/sample - loss: 0.0025 - acc: 0.8949 - val_loss: 0.0025 - val_acc: 0.8949\n",
            "Epoch 47/50\n",
            "11997/11997 [==============================] - 2s 147us/sample - loss: 0.0025 - acc: 0.8949 - val_loss: 0.0025 - val_acc: 0.8949\n",
            "Epoch 48/50\n",
            "11997/11997 [==============================] - 2s 151us/sample - loss: 0.0025 - acc: 0.8949 - val_loss: 0.0025 - val_acc: 0.8949\n",
            "Epoch 49/50\n",
            "11997/11997 [==============================] - 2s 148us/sample - loss: 0.0025 - acc: 0.8949 - val_loss: 0.0025 - val_acc: 0.8949\n",
            "Epoch 50/50\n",
            "11997/11997 [==============================] - 2s 145us/sample - loss: 0.0025 - acc: 0.8949 - val_loss: 0.0025 - val_acc: 0.8949\n"
          ],
          "name": "stdout"
        },
        {
          "output_type": "execute_result",
          "data": {
            "text/plain": [
              "<tensorflow.python.keras.callbacks.History at 0x7fdfa1b10e80>"
            ]
          },
          "metadata": {
            "tags": []
          },
          "execution_count": 245
        }
      ]
    },
    {
      "cell_type": "code",
      "metadata": {
        "id": "q_cqFEZyIK_5",
        "colab_type": "code",
        "outputId": "dac8898e-f25e-48fe-86ea-06b0a54f214c",
        "colab": {
          "base_uri": "https://localhost:8080/",
          "height": 50
        }
      },
      "source": [
        "ypred = model.predict(X17)\n",
        "s=pd.DataFrame(ypred)\n",
        "s1=pd.DataFrame(y17)\n",
        "s1.corrwith(s, axis = 0) "
      ],
      "execution_count": 246,
      "outputs": [
        {
          "output_type": "execute_result",
          "data": {
            "text/plain": [
              "0    0.274826\n",
              "dtype: float64"
            ]
          },
          "metadata": {
            "tags": []
          },
          "execution_count": 246
        }
      ]
    },
    {
      "cell_type": "code",
      "metadata": {
        "id": "iNUMrec5KInu",
        "colab_type": "code",
        "outputId": "5ed9c264-a213-4d9a-b29c-94a260fb2ac6",
        "colab": {
          "base_uri": "https://localhost:8080/",
          "height": 34
        }
      },
      "source": [
        "from sklearn.metrics import r2_score\n",
        "r2_score(y17,ypred)"
      ],
      "execution_count": 247,
      "outputs": [
        {
          "output_type": "execute_result",
          "data": {
            "text/plain": [
              "0.0729700238003832"
            ]
          },
          "metadata": {
            "tags": []
          },
          "execution_count": 247
        }
      ]
    },
    {
      "cell_type": "code",
      "metadata": {
        "id": "UJ7Wc3CIJerO",
        "colab_type": "code",
        "outputId": "38f8d682-defd-448a-dc7d-a2a409f34dc1",
        "colab": {
          "base_uri": "https://localhost:8080/",
          "height": 50
        }
      },
      "source": [
        "ypred1=model.predict(X_test17)\n",
        "s=pd.DataFrame(ypred1)\n",
        "s1=pd.DataFrame(y_test17)\n",
        "s1.corrwith(s,axis=0)"
      ],
      "execution_count": 248,
      "outputs": [
        {
          "output_type": "execute_result",
          "data": {
            "text/plain": [
              "0    0.274826\n",
              "dtype: float64"
            ]
          },
          "metadata": {
            "tags": []
          },
          "execution_count": 248
        }
      ]
    },
    {
      "cell_type": "code",
      "metadata": {
        "id": "qKYoL8cDKKmZ",
        "colab_type": "code",
        "outputId": "23770edc-c099-4f71-d92c-a7c8c3043b9c",
        "colab": {
          "base_uri": "https://localhost:8080/",
          "height": 34
        }
      },
      "source": [
        "r2_score(y_test17,ypred1)"
      ],
      "execution_count": 249,
      "outputs": [
        {
          "output_type": "execute_result",
          "data": {
            "text/plain": [
              "0.0729700238003832"
            ]
          },
          "metadata": {
            "tags": []
          },
          "execution_count": 249
        }
      ]
    },
    {
      "cell_type": "code",
      "metadata": {
        "id": "sqMbanyDcoVD",
        "colab_type": "code",
        "colab": {
          "base_uri": "https://localhost:8080/",
          "height": 34
        },
        "outputId": "37077af1-5344-4b69-8db0-8f0c044d7fe0"
      },
      "source": [
        "mean_absolute_error(y_test17,ypred1)"
      ],
      "execution_count": 250,
      "outputs": [
        {
          "output_type": "execute_result",
          "data": {
            "text/plain": [
              "0.0193708608316395"
            ]
          },
          "metadata": {
            "tags": []
          },
          "execution_count": 250
        }
      ]
    },
    {
      "cell_type": "code",
      "metadata": {
        "id": "4z--E3OPcqLB",
        "colab_type": "code",
        "colab": {
          "base_uri": "https://localhost:8080/",
          "height": 34
        },
        "outputId": "54177965-d031-4256-98f5-634cc011e820"
      },
      "source": [
        "mean_absolute_error(y17,ypred)"
      ],
      "execution_count": 251,
      "outputs": [
        {
          "output_type": "execute_result",
          "data": {
            "text/plain": [
              "0.0193708608316395"
            ]
          },
          "metadata": {
            "tags": []
          },
          "execution_count": 251
        }
      ]
    },
    {
      "cell_type": "code",
      "metadata": {
        "id": "bnBS9J1vB-JJ",
        "colab_type": "code",
        "outputId": "596b0b06-0cb0-4dee-8f7a-513a82fa88ed",
        "colab": {
          "base_uri": "https://localhost:8080/",
          "height": 1000
        }
      },
      "source": [
        "model.fit(X18, y18, validation_data=(X_test18,y_test18),epochs=50)"
      ],
      "execution_count": 252,
      "outputs": [
        {
          "output_type": "stream",
          "text": [
            "Train on 11997 samples, validate on 11997 samples\n",
            "Epoch 1/50\n",
            "11997/11997 [==============================] - 2s 155us/sample - loss: 1.6999e-04 - acc: 0.8540 - val_loss: 1.6164e-04 - val_acc: 0.8540\n",
            "Epoch 2/50\n",
            "11997/11997 [==============================] - 2s 156us/sample - loss: 1.5969e-04 - acc: 0.8540 - val_loss: 1.6043e-04 - val_acc: 0.8540\n",
            "Epoch 3/50\n",
            "11997/11997 [==============================] - 2s 151us/sample - loss: 1.5711e-04 - acc: 0.8540 - val_loss: 1.5586e-04 - val_acc: 0.8540\n",
            "Epoch 4/50\n",
            "11997/11997 [==============================] - 2s 146us/sample - loss: 1.5591e-04 - acc: 0.8540 - val_loss: 1.5532e-04 - val_acc: 0.8540\n",
            "Epoch 5/50\n",
            "11997/11997 [==============================] - 2s 147us/sample - loss: 1.5566e-04 - acc: 0.8540 - val_loss: 1.5592e-04 - val_acc: 0.8540\n",
            "Epoch 6/50\n",
            "11997/11997 [==============================] - 2s 147us/sample - loss: 1.5528e-04 - acc: 0.8540 - val_loss: 1.5451e-04 - val_acc: 0.8540\n",
            "Epoch 7/50\n",
            "11997/11997 [==============================] - 2s 148us/sample - loss: 1.5528e-04 - acc: 0.8540 - val_loss: 1.5481e-04 - val_acc: 0.8540\n",
            "Epoch 8/50\n",
            "11997/11997 [==============================] - 2s 148us/sample - loss: 1.5519e-04 - acc: 0.8540 - val_loss: 1.5446e-04 - val_acc: 0.8540\n",
            "Epoch 9/50\n",
            "11997/11997 [==============================] - 2s 150us/sample - loss: 1.5525e-04 - acc: 0.8540 - val_loss: 1.5428e-04 - val_acc: 0.8540\n",
            "Epoch 10/50\n",
            "11997/11997 [==============================] - 2s 147us/sample - loss: 1.5493e-04 - acc: 0.8540 - val_loss: 1.5382e-04 - val_acc: 0.8540\n",
            "Epoch 11/50\n",
            "11997/11997 [==============================] - 2s 146us/sample - loss: 1.5478e-04 - acc: 0.8540 - val_loss: 1.5485e-04 - val_acc: 0.8540\n",
            "Epoch 12/50\n",
            "11997/11997 [==============================] - 2s 151us/sample - loss: 1.5502e-04 - acc: 0.8540 - val_loss: 1.5370e-04 - val_acc: 0.8540\n",
            "Epoch 13/50\n",
            "11997/11997 [==============================] - 2s 153us/sample - loss: 1.5456e-04 - acc: 0.8540 - val_loss: 1.5349e-04 - val_acc: 0.8540\n",
            "Epoch 14/50\n",
            "11997/11997 [==============================] - 2s 151us/sample - loss: 1.5421e-04 - acc: 0.8540 - val_loss: 1.5473e-04 - val_acc: 0.8540\n",
            "Epoch 15/50\n",
            "11997/11997 [==============================] - 2s 150us/sample - loss: 1.5406e-04 - acc: 0.8540 - val_loss: 1.5396e-04 - val_acc: 0.8540\n",
            "Epoch 16/50\n",
            "11997/11997 [==============================] - 2s 151us/sample - loss: 1.5451e-04 - acc: 0.8540 - val_loss: 1.5652e-04 - val_acc: 0.8540\n",
            "Epoch 17/50\n",
            "11997/11997 [==============================] - 2s 154us/sample - loss: 1.5444e-04 - acc: 0.8540 - val_loss: 1.5319e-04 - val_acc: 0.8540\n",
            "Epoch 18/50\n",
            "11997/11997 [==============================] - 2s 151us/sample - loss: 1.5508e-04 - acc: 0.8540 - val_loss: 1.5321e-04 - val_acc: 0.8540\n",
            "Epoch 19/50\n",
            "11997/11997 [==============================] - 2s 148us/sample - loss: 1.5387e-04 - acc: 0.8540 - val_loss: 1.5809e-04 - val_acc: 0.8540\n",
            "Epoch 20/50\n",
            "11997/11997 [==============================] - 2s 151us/sample - loss: 1.5401e-04 - acc: 0.8540 - val_loss: 1.5311e-04 - val_acc: 0.8540\n",
            "Epoch 21/50\n",
            "11997/11997 [==============================] - 2s 149us/sample - loss: 1.5464e-04 - acc: 0.8540 - val_loss: 1.5400e-04 - val_acc: 0.8540\n",
            "Epoch 22/50\n",
            "11997/11997 [==============================] - 2s 149us/sample - loss: 1.5441e-04 - acc: 0.8540 - val_loss: 1.5408e-04 - val_acc: 0.8540\n",
            "Epoch 23/50\n",
            "11997/11997 [==============================] - 2s 147us/sample - loss: 1.5398e-04 - acc: 0.8540 - val_loss: 1.5383e-04 - val_acc: 0.8540\n",
            "Epoch 24/50\n",
            "11997/11997 [==============================] - 2s 148us/sample - loss: 1.5408e-04 - acc: 0.8540 - val_loss: 1.5427e-04 - val_acc: 0.8540\n",
            "Epoch 25/50\n",
            "11997/11997 [==============================] - 2s 145us/sample - loss: 1.5401e-04 - acc: 0.8540 - val_loss: 1.5480e-04 - val_acc: 0.8540\n",
            "Epoch 26/50\n",
            "11997/11997 [==============================] - 2s 147us/sample - loss: 1.5418e-04 - acc: 0.8540 - val_loss: 1.5374e-04 - val_acc: 0.8540\n",
            "Epoch 27/50\n",
            "11997/11997 [==============================] - 2s 146us/sample - loss: 1.5411e-04 - acc: 0.8540 - val_loss: 1.5296e-04 - val_acc: 0.8540\n",
            "Epoch 28/50\n",
            "11997/11997 [==============================] - 2s 145us/sample - loss: 1.5400e-04 - acc: 0.8540 - val_loss: 1.5453e-04 - val_acc: 0.8540\n",
            "Epoch 29/50\n",
            "11997/11997 [==============================] - 2s 146us/sample - loss: 1.5403e-04 - acc: 0.8540 - val_loss: 1.5393e-04 - val_acc: 0.8540\n",
            "Epoch 30/50\n",
            "11997/11997 [==============================] - 2s 148us/sample - loss: 1.5371e-04 - acc: 0.8540 - val_loss: 1.5338e-04 - val_acc: 0.8540\n",
            "Epoch 31/50\n",
            "11997/11997 [==============================] - 2s 144us/sample - loss: 1.5383e-04 - acc: 0.8540 - val_loss: 1.5405e-04 - val_acc: 0.8540\n",
            "Epoch 32/50\n",
            "11997/11997 [==============================] - 2s 146us/sample - loss: 1.5416e-04 - acc: 0.8540 - val_loss: 1.5302e-04 - val_acc: 0.8540\n",
            "Epoch 33/50\n",
            "11997/11997 [==============================] - 2s 144us/sample - loss: 1.5391e-04 - acc: 0.8540 - val_loss: 1.5313e-04 - val_acc: 0.8540\n",
            "Epoch 34/50\n",
            "11997/11997 [==============================] - 2s 144us/sample - loss: 1.5423e-04 - acc: 0.8540 - val_loss: 1.5321e-04 - val_acc: 0.8540\n",
            "Epoch 35/50\n",
            "11997/11997 [==============================] - 2s 146us/sample - loss: 1.5402e-04 - acc: 0.8540 - val_loss: 1.5289e-04 - val_acc: 0.8540\n",
            "Epoch 36/50\n",
            "11997/11997 [==============================] - 2s 144us/sample - loss: 1.5382e-04 - acc: 0.8540 - val_loss: 1.5398e-04 - val_acc: 0.8540\n",
            "Epoch 37/50\n",
            "11997/11997 [==============================] - 2s 148us/sample - loss: 1.5380e-04 - acc: 0.8540 - val_loss: 1.5291e-04 - val_acc: 0.8540\n",
            "Epoch 38/50\n",
            "11997/11997 [==============================] - 2s 145us/sample - loss: 1.5428e-04 - acc: 0.8540 - val_loss: 1.5340e-04 - val_acc: 0.8540\n",
            "Epoch 39/50\n",
            "11997/11997 [==============================] - 2s 145us/sample - loss: 1.5423e-04 - acc: 0.8540 - val_loss: 1.5289e-04 - val_acc: 0.8540\n",
            "Epoch 40/50\n",
            "11997/11997 [==============================] - 2s 144us/sample - loss: 1.5427e-04 - acc: 0.8540 - val_loss: 1.5359e-04 - val_acc: 0.8540\n",
            "Epoch 41/50\n",
            "11997/11997 [==============================] - 2s 147us/sample - loss: 1.5389e-04 - acc: 0.8540 - val_loss: 1.5291e-04 - val_acc: 0.8540\n",
            "Epoch 42/50\n",
            "11997/11997 [==============================] - 2s 146us/sample - loss: 1.5384e-04 - acc: 0.8540 - val_loss: 1.5294e-04 - val_acc: 0.8540\n",
            "Epoch 43/50\n",
            "11997/11997 [==============================] - 2s 146us/sample - loss: 1.5423e-04 - acc: 0.8540 - val_loss: 1.5299e-04 - val_acc: 0.8540\n",
            "Epoch 44/50\n",
            "11997/11997 [==============================] - 2s 146us/sample - loss: 1.5428e-04 - acc: 0.8540 - val_loss: 1.5316e-04 - val_acc: 0.8540\n",
            "Epoch 45/50\n",
            "11997/11997 [==============================] - 2s 147us/sample - loss: 1.5432e-04 - acc: 0.8540 - val_loss: 1.5288e-04 - val_acc: 0.8540\n",
            "Epoch 46/50\n",
            "11997/11997 [==============================] - 2s 149us/sample - loss: 1.5412e-04 - acc: 0.8540 - val_loss: 1.5310e-04 - val_acc: 0.8540\n",
            "Epoch 47/50\n",
            "11997/11997 [==============================] - 2s 152us/sample - loss: 1.5409e-04 - acc: 0.8540 - val_loss: 1.5336e-04 - val_acc: 0.8540\n",
            "Epoch 48/50\n",
            "11997/11997 [==============================] - 2s 148us/sample - loss: 1.5428e-04 - acc: 0.8540 - val_loss: 1.5295e-04 - val_acc: 0.8540\n",
            "Epoch 49/50\n",
            "11997/11997 [==============================] - 2s 147us/sample - loss: 1.5387e-04 - acc: 0.8540 - val_loss: 1.5290e-04 - val_acc: 0.8540\n",
            "Epoch 50/50\n",
            "11997/11997 [==============================] - 2s 146us/sample - loss: 1.5420e-04 - acc: 0.8540 - val_loss: 1.5315e-04 - val_acc: 0.8540\n"
          ],
          "name": "stdout"
        },
        {
          "output_type": "execute_result",
          "data": {
            "text/plain": [
              "<tensorflow.python.keras.callbacks.History at 0x7fdfa1b1e3c8>"
            ]
          },
          "metadata": {
            "tags": []
          },
          "execution_count": 252
        }
      ]
    },
    {
      "cell_type": "code",
      "metadata": {
        "id": "4dm66DTdIMJ8",
        "colab_type": "code",
        "outputId": "03bd15ad-f92a-4a92-be2c-0f620c703c0d",
        "colab": {
          "base_uri": "https://localhost:8080/",
          "height": 50
        }
      },
      "source": [
        "ypred = model.predict(X18)\n",
        "s=pd.DataFrame(ypred)\n",
        "s1=pd.DataFrame(y18)\n",
        "s1.corrwith(s, axis = 0) "
      ],
      "execution_count": 253,
      "outputs": [
        {
          "output_type": "execute_result",
          "data": {
            "text/plain": [
              "0    0.190277\n",
              "dtype: float64"
            ]
          },
          "metadata": {
            "tags": []
          },
          "execution_count": 253
        }
      ]
    },
    {
      "cell_type": "code",
      "metadata": {
        "id": "yVgkRVW42TsQ",
        "colab_type": "code",
        "outputId": "1ffd40ea-14e0-4a2e-95a1-b0cbaf09a69b",
        "colab": {
          "base_uri": "https://localhost:8080/",
          "height": 34
        }
      },
      "source": [
        "from sklearn.metrics import r2_score\n",
        "r2_score(y18,ypred)"
      ],
      "execution_count": 254,
      "outputs": [
        {
          "output_type": "execute_result",
          "data": {
            "text/plain": [
              "0.034323654134157056"
            ]
          },
          "metadata": {
            "tags": []
          },
          "execution_count": 254
        }
      ]
    },
    {
      "cell_type": "code",
      "metadata": {
        "id": "rtcP5oF9J_Ae",
        "colab_type": "code",
        "outputId": "926229c0-c01c-4e02-ee07-6779121c19bd",
        "colab": {
          "base_uri": "https://localhost:8080/",
          "height": 50
        }
      },
      "source": [
        "ypred1 = model.predict(X_test18)\n",
        "s=pd.DataFrame(ypred1)\n",
        "s1=pd.DataFrame(y_test18)\n",
        "s1.corrwith(s, axis = 0) "
      ],
      "execution_count": 255,
      "outputs": [
        {
          "output_type": "execute_result",
          "data": {
            "text/plain": [
              "0    0.190277\n",
              "dtype: float64"
            ]
          },
          "metadata": {
            "tags": []
          },
          "execution_count": 255
        }
      ]
    },
    {
      "cell_type": "code",
      "metadata": {
        "id": "sUlUlZnL2tki",
        "colab_type": "code",
        "outputId": "2872df46-f25d-4fef-fe1a-8927411c7145",
        "colab": {
          "base_uri": "https://localhost:8080/",
          "height": 34
        }
      },
      "source": [
        "r2_score(y_test18,ypred1)"
      ],
      "execution_count": 256,
      "outputs": [
        {
          "output_type": "execute_result",
          "data": {
            "text/plain": [
              "0.034323654134157056"
            ]
          },
          "metadata": {
            "tags": []
          },
          "execution_count": 256
        }
      ]
    },
    {
      "cell_type": "code",
      "metadata": {
        "id": "ClsczOxcct6d",
        "colab_type": "code",
        "colab": {
          "base_uri": "https://localhost:8080/",
          "height": 34
        },
        "outputId": "7fed68c2-7d17-41c6-988b-b25dd25162b8"
      },
      "source": [
        "mean_absolute_error(y_test18,ypred1)"
      ],
      "execution_count": 257,
      "outputs": [
        {
          "output_type": "execute_result",
          "data": {
            "text/plain": [
              "0.0029712014805561467"
            ]
          },
          "metadata": {
            "tags": []
          },
          "execution_count": 257
        }
      ]
    },
    {
      "cell_type": "code",
      "metadata": {
        "id": "pHM1dOQ3cx-y",
        "colab_type": "code",
        "colab": {
          "base_uri": "https://localhost:8080/",
          "height": 34
        },
        "outputId": "c14dbb50-0c0e-4ae0-c9ce-5f929de67988"
      },
      "source": [
        "mean_absolute_error(y18,ypred)"
      ],
      "execution_count": 258,
      "outputs": [
        {
          "output_type": "execute_result",
          "data": {
            "text/plain": [
              "0.0029712014805561467"
            ]
          },
          "metadata": {
            "tags": []
          },
          "execution_count": 258
        }
      ]
    }
  ]
}