{
  "nbformat": 4,
  "nbformat_minor": 0,
  "metadata": {
    "colab": {
      "name": "2layers(50/50) LSTM.ipynb",
      "provenance": [],
      "collapsed_sections": [],
      "authorship_tag": "ABX9TyPaoAyu/XXZBX7b8F45mjSf",
      "include_colab_link": true
    },
    "kernelspec": {
      "name": "python3",
      "display_name": "Python 3"
    }
  },
  "cells": [
    {
      "cell_type": "markdown",
      "metadata": {
        "id": "view-in-github",
        "colab_type": "text"
      },
      "source": [
        "<a href=\"https://colab.research.google.com/github/VishnuBhaarath/Rainfallpred/blob/LSTM2layers50%2F50/2layers(50_50)_LSTM.ipynb\" target=\"_parent\"><img src=\"https://colab.research.google.com/assets/colab-badge.svg\" alt=\"Open In Colab\"/></a>"
      ]
    },
    {
      "cell_type": "code",
      "metadata": {
        "id": "5YGfJ9tYkM94",
        "colab_type": "code",
        "colab": {}
      },
      "source": [
        "from numpy.random import seed\n",
        "seed(1)\n",
        "from tensorflow import set_random_seed\n",
        "set_random_seed(2)"
      ],
      "execution_count": 0,
      "outputs": []
    },
    {
      "cell_type": "code",
      "metadata": {
        "id": "cou_fBaEkP6G",
        "colab_type": "code",
        "colab": {}
      },
      "source": [
        "import pandas as pd\n",
        "from pandas import DataFrame\n",
        "import numpy as np\n",
        "from numpy import hstack\n",
        "import tensorflow as tf\n",
        "from tensorflow import keras\n",
        "from sklearn import preprocessing"
      ],
      "execution_count": 0,
      "outputs": []
    },
    {
      "cell_type": "code",
      "metadata": {
        "id": "ACH71at4kV9t",
        "colab_type": "code",
        "colab": {}
      },
      "source": [
        "df=pd.read_excel('trend_anna_imd_21.xlsx')"
      ],
      "execution_count": 0,
      "outputs": []
    },
    {
      "cell_type": "code",
      "metadata": {
        "id": "2hp4FJfQkk9o",
        "colab_type": "code",
        "outputId": "1f573f3b-cb67-4b13-ee89-0c112ab52354",
        "colab": {
          "base_uri": "https://localhost:8080/",
          "height": 204
        }
      },
      "source": [
        "df.head()"
      ],
      "execution_count": 6,
      "outputs": [
        {
          "output_type": "execute_result",
          "data": {
            "text/html": [
              "<div>\n",
              "<style scoped>\n",
              "    .dataframe tbody tr th:only-of-type {\n",
              "        vertical-align: middle;\n",
              "    }\n",
              "\n",
              "    .dataframe tbody tr th {\n",
              "        vertical-align: top;\n",
              "    }\n",
              "\n",
              "    .dataframe thead th {\n",
              "        text-align: right;\n",
              "    }\n",
              "</style>\n",
              "<table border=\"1\" class=\"dataframe\">\n",
              "  <thead>\n",
              "    <tr style=\"text-align: right;\">\n",
              "      <th></th>\n",
              "      <th>Unnamed: 0</th>\n",
              "      <th>Unnamed: 1</th>\n",
              "    </tr>\n",
              "  </thead>\n",
              "  <tbody>\n",
              "    <tr>\n",
              "      <th>0</th>\n",
              "      <td>1. Cuddalore</td>\n",
              "      <td>NaN</td>\n",
              "    </tr>\n",
              "    <tr>\n",
              "      <th>1</th>\n",
              "      <td>1965-01-01 00:00:00</td>\n",
              "      <td>10.6</td>\n",
              "    </tr>\n",
              "    <tr>\n",
              "      <th>2</th>\n",
              "      <td>1965-01-02 00:00:00</td>\n",
              "      <td>0.0</td>\n",
              "    </tr>\n",
              "    <tr>\n",
              "      <th>3</th>\n",
              "      <td>1965-01-03 00:00:00</td>\n",
              "      <td>13.0</td>\n",
              "    </tr>\n",
              "    <tr>\n",
              "      <th>4</th>\n",
              "      <td>1965-01-04 00:00:00</td>\n",
              "      <td>0.0</td>\n",
              "    </tr>\n",
              "  </tbody>\n",
              "</table>\n",
              "</div>"
            ],
            "text/plain": [
              "            Unnamed: 0  Unnamed: 1\n",
              "0         1. Cuddalore         NaN\n",
              "1  1965-01-01 00:00:00        10.6\n",
              "2  1965-01-02 00:00:00         0.0\n",
              "3  1965-01-03 00:00:00        13.0\n",
              "4  1965-01-04 00:00:00         0.0"
            ]
          },
          "metadata": {
            "tags": []
          },
          "execution_count": 6
        }
      ]
    },
    {
      "cell_type": "code",
      "metadata": {
        "id": "RB9D0KOIkl-g",
        "colab_type": "code",
        "colab": {}
      },
      "source": [
        "Cuddalore=df[3655:19360]\n",
        "Panruti=df[23016:38721]\n",
        "Dharmapuri=df[42408:58082]\n",
        "Harur=df[61738:77443]\n",
        "Palacode=df[81158:96804]\n",
        "Pennagaram=df[100460:116165]\n",
        "Chengam=df[119821:135526]\n",
        "Sathanur=df[138817:154522]\n",
        "Tiruvanamalai=df[158178:173883]\n",
        "Sankarapuram=df[177539:193244]\n",
        "Tirukoilur=df[196899:212604]\n",
        "ulundurpet=df[216260:231965]\n",
        "Villupuram=df[235621:251326]\n",
        "Denkanikottai=df[274343:290048]\n",
        "Hosur=df[293703:309408]\n",
        "Krishnagiri=df[313063:328768]\n",
        "Marandahalli=df[332059:347764]\n",
        "Rayakottai=df[353250:368955]\n",
        "Uthangarai=df[372611:388316]\n"
      ],
      "execution_count": 0,
      "outputs": []
    },
    {
      "cell_type": "code",
      "metadata": {
        "id": "8lT9ZtR0mBO1",
        "colab_type": "code",
        "colab": {}
      },
      "source": [
        "Cuddalore.columns = ['Date', 'Rainfall']\n",
        "Panruti.columns= ['Date', 'Rainfall']\n",
        "Dharmapuri.columns= ['Date', 'Rainfall']\n",
        "Harur.columns= ['Date', 'Rainfall']\n",
        "Palacode.columns= ['Date', 'Rainfall']\n",
        "Pennagaram.columns= ['Date', 'Rainfall']\n",
        "Chengam.columns= ['Date', 'Rainfall']\n",
        "Sathanur.columns= ['Date', 'Rainfall']\n",
        "Tiruvanamalai.columns= ['Date', 'Rainfall']\n",
        "Sankarapuram.columns= ['Date', 'Rainfall']\n",
        "Tirukoilur.columns= ['Date', 'Rainfall']\n",
        "ulundurpet.columns= ['Date', 'Rainfall']\n",
        "Villupuram.columns= ['Date', 'Rainfall']\n",
        "Denkanikottai.columns= ['Date', 'Rainfall']\n",
        "Hosur.columns= ['Date', 'Rainfall']\n",
        "Krishnagiri.columns= ['Date', 'Rainfall']\n",
        "Marandahalli.columns= ['Date', 'Rainfall']\n",
        "Rayakottai.columns= ['Date', 'Rainfall']\n",
        "Uthangarai.columns= ['Date', 'Rainfall']"
      ],
      "execution_count": 0,
      "outputs": []
    },
    {
      "cell_type": "code",
      "metadata": {
        "id": "ot2FqhbOm6dJ",
        "colab_type": "code",
        "colab": {}
      },
      "source": [
        "train=Cuddalore[0:12000]\n",
        "test=Cuddalore[12000:15704]\n",
        "train1=Panruti[0:12000]\n",
        "test1=Panruti[12000:15705]\n",
        "train2=Dharmapuri[0:12000]\n",
        "test2=Dharmapuri[12000:15674]\n",
        "train3=Harur[0:12000]\n",
        "test3=Harur[12000:15704]\n",
        "train4=Palacode[0:12000]\n",
        "test4=Palacode[12000:15646]\n",
        "train5=Pennagaram[0:12000]\n",
        "test5=Pennagaram[12000:15705]\n",
        "train6=Chengam[0:12000]\n",
        "test6=Chengam[12000:15705]\n",
        "train7=Sathanur[0:12000]\n",
        "test7=Sathanur[12000:15705]\n",
        "train8=Tiruvanamalai[0:12000]\n",
        "test8=Tiruvanamalai[12000:15165]\n",
        "train9=Sankarapuram[0:12000]\n",
        "test9=Sankarapuram[12000:15705]\n",
        "train10=Tirukoilur[0:12000]\n",
        "test10=Tirukoilur[12000:15705]\n",
        "train11=ulundurpet[0:12000]\n",
        "test11=ulundurpet[12000:15345]\n",
        "train12=Villupuram[0:12000]\n",
        "test12=Villupuram[12000:15705]\n",
        "train13=Denkanikottai[0:12000]\n",
        "test13=Denkanikottai[12000:15705]\n",
        "train14=Hosur[0:12000]\n",
        "test14=Hosur[12000:15678]\n",
        "train15=Krishnagiri[0:12000]\n",
        "test15=Krishnagiri[12000:15705]\n",
        "train16=Marandahalli[0:12000]\n",
        "test16=Marandahalli[12000:15705]\n",
        "train17=Rayakottai[0:12000]\n",
        "test17=Rayakottai[12000:15705]\n",
        "train18=Uthangarai[0:12000]\n",
        "test18=Uthangarai[12000:15705]"
      ],
      "execution_count": 0,
      "outputs": []
    },
    {
      "cell_type": "code",
      "metadata": {
        "id": "8_39XFUZ8bpb",
        "colab_type": "code",
        "outputId": "9354f394-7dec-41a3-c0e5-66e2ee56a562",
        "colab": {
          "base_uri": "https://localhost:8080/",
          "height": 419
        }
      },
      "source": [
        "train12"
      ],
      "execution_count": 10,
      "outputs": [
        {
          "output_type": "execute_result",
          "data": {
            "text/html": [
              "<div>\n",
              "<style scoped>\n",
              "    .dataframe tbody tr th:only-of-type {\n",
              "        vertical-align: middle;\n",
              "    }\n",
              "\n",
              "    .dataframe tbody tr th {\n",
              "        vertical-align: top;\n",
              "    }\n",
              "\n",
              "    .dataframe thead th {\n",
              "        text-align: right;\n",
              "    }\n",
              "</style>\n",
              "<table border=\"1\" class=\"dataframe\">\n",
              "  <thead>\n",
              "    <tr style=\"text-align: right;\">\n",
              "      <th></th>\n",
              "      <th>Date</th>\n",
              "      <th>Rainfall</th>\n",
              "    </tr>\n",
              "  </thead>\n",
              "  <tbody>\n",
              "    <tr>\n",
              "      <th>235621</th>\n",
              "      <td>1975-01-03 00:00:00</td>\n",
              "      <td>0.0</td>\n",
              "    </tr>\n",
              "    <tr>\n",
              "      <th>235622</th>\n",
              "      <td>1975-01-04 00:00:00</td>\n",
              "      <td>0.0</td>\n",
              "    </tr>\n",
              "    <tr>\n",
              "      <th>235623</th>\n",
              "      <td>1975-01-05 00:00:00</td>\n",
              "      <td>0.0</td>\n",
              "    </tr>\n",
              "    <tr>\n",
              "      <th>235624</th>\n",
              "      <td>1975-01-06 00:00:00</td>\n",
              "      <td>0.0</td>\n",
              "    </tr>\n",
              "    <tr>\n",
              "      <th>235625</th>\n",
              "      <td>1975-01-07 00:00:00</td>\n",
              "      <td>0.0</td>\n",
              "    </tr>\n",
              "    <tr>\n",
              "      <th>...</th>\n",
              "      <td>...</td>\n",
              "      <td>...</td>\n",
              "    </tr>\n",
              "    <tr>\n",
              "      <th>247616</th>\n",
              "      <td>2007-11-06 00:00:00</td>\n",
              "      <td>3.0</td>\n",
              "    </tr>\n",
              "    <tr>\n",
              "      <th>247617</th>\n",
              "      <td>2007-11-07 00:00:00</td>\n",
              "      <td>0.0</td>\n",
              "    </tr>\n",
              "    <tr>\n",
              "      <th>247618</th>\n",
              "      <td>2007-11-08 00:00:00</td>\n",
              "      <td>0.0</td>\n",
              "    </tr>\n",
              "    <tr>\n",
              "      <th>247619</th>\n",
              "      <td>2007-11-09 00:00:00</td>\n",
              "      <td>0.0</td>\n",
              "    </tr>\n",
              "    <tr>\n",
              "      <th>247620</th>\n",
              "      <td>2007-11-10 00:00:00</td>\n",
              "      <td>0.0</td>\n",
              "    </tr>\n",
              "  </tbody>\n",
              "</table>\n",
              "<p>12000 rows × 2 columns</p>\n",
              "</div>"
            ],
            "text/plain": [
              "                       Date  Rainfall\n",
              "235621  1975-01-03 00:00:00       0.0\n",
              "235622  1975-01-04 00:00:00       0.0\n",
              "235623  1975-01-05 00:00:00       0.0\n",
              "235624  1975-01-06 00:00:00       0.0\n",
              "235625  1975-01-07 00:00:00       0.0\n",
              "...                     ...       ...\n",
              "247616  2007-11-06 00:00:00       3.0\n",
              "247617  2007-11-07 00:00:00       0.0\n",
              "247618  2007-11-08 00:00:00       0.0\n",
              "247619  2007-11-09 00:00:00       0.0\n",
              "247620  2007-11-10 00:00:00       0.0\n",
              "\n",
              "[12000 rows x 2 columns]"
            ]
          },
          "metadata": {
            "tags": []
          },
          "execution_count": 10
        }
      ]
    },
    {
      "cell_type": "code",
      "metadata": {
        "id": "rotv5rfl8s9w",
        "colab_type": "code",
        "colab": {}
      },
      "source": [
        "X_train12=train12['Rainfall']"
      ],
      "execution_count": 0,
      "outputs": []
    },
    {
      "cell_type": "code",
      "metadata": {
        "id": "CGG9ZXON8uHf",
        "colab_type": "code",
        "colab": {
          "base_uri": "https://localhost:8080/",
          "height": 221
        },
        "outputId": "1a630a2a-0d18-461c-b949-12f3a12f85d2"
      },
      "source": [
        "X_train12"
      ],
      "execution_count": 12,
      "outputs": [
        {
          "output_type": "execute_result",
          "data": {
            "text/plain": [
              "235621    0.0\n",
              "235622    0.0\n",
              "235623    0.0\n",
              "235624    0.0\n",
              "235625    0.0\n",
              "         ... \n",
              "247616    3.0\n",
              "247617    0.0\n",
              "247618    0.0\n",
              "247619    0.0\n",
              "247620    0.0\n",
              "Name: Rainfall, Length: 12000, dtype: float64"
            ]
          },
          "metadata": {
            "tags": []
          },
          "execution_count": 12
        }
      ]
    },
    {
      "cell_type": "code",
      "metadata": {
        "id": "eWdgMaVPnV7A",
        "colab_type": "code",
        "colab": {}
      },
      "source": [
        "X_train=train['Rainfall']\n",
        "X_test=test['Rainfall']\n",
        "X_train1=train1['Rainfall']\n",
        "X_test1=test1['Rainfall']\n",
        "X_train2=train2['Rainfall']\n",
        "X_test2=test2['Rainfall']\n",
        "X_train3=train3['Rainfall']\n",
        "X_test3=test3['Rainfall']\n",
        "X_train4=train4['Rainfall']\n",
        "X_test4=test4['Rainfall']\n",
        "X_train5=train5['Rainfall']\n",
        "X_test5=test5['Rainfall']\n",
        "X_train6=train6['Rainfall']\n",
        "X_test6=test6['Rainfall']\n",
        "X_train7=train7['Rainfall']\n",
        "X_test7=test7['Rainfall']\n",
        "X_train8=train8['Rainfall']\n",
        "X_test8=test8['Rainfall']\n",
        "X_train9=train9['Rainfall']\n",
        "X_test9=test9['Rainfall']\n",
        "X_train10=train10['Rainfall']\n",
        "X_test10=test10['Rainfall']\n",
        "X_train11=train11['Rainfall']\n",
        "X_test11=test11['Rainfall']\n",
        "X_train12=train12['Rainfall']\n",
        "X_test12=test12['Rainfall']\n",
        "X_train13=train13['Rainfall']\n",
        "X_test13=test13['Rainfall']\n",
        "X_train14=train14['Rainfall']\n",
        "X_test14=test14['Rainfall']\n",
        "X_train15=train15['Rainfall']\n",
        "X_test15=test15['Rainfall']\n",
        "X_train16=train16['Rainfall']\n",
        "X_test16=test16['Rainfall']\n",
        "X_train17=train17['Rainfall']\n",
        "X_test17=test17['Rainfall']\n",
        "X_train18=train18['Rainfall']\n",
        "X_test18=test18['Rainfall']\n"
      ],
      "execution_count": 0,
      "outputs": []
    },
    {
      "cell_type": "code",
      "metadata": {
        "id": "9WXlbzCw8hBP",
        "colab_type": "code",
        "outputId": "e9e781b2-b92f-4d06-d322-2d1f955e69a3",
        "colab": {
          "base_uri": "https://localhost:8080/",
          "height": 221
        }
      },
      "source": [
        "X_train12"
      ],
      "execution_count": 14,
      "outputs": [
        {
          "output_type": "execute_result",
          "data": {
            "text/plain": [
              "235621    0.0\n",
              "235622    0.0\n",
              "235623    0.0\n",
              "235624    0.0\n",
              "235625    0.0\n",
              "         ... \n",
              "247616    3.0\n",
              "247617    0.0\n",
              "247618    0.0\n",
              "247619    0.0\n",
              "247620    0.0\n",
              "Name: Rainfall, Length: 12000, dtype: float64"
            ]
          },
          "metadata": {
            "tags": []
          },
          "execution_count": 14
        }
      ]
    },
    {
      "cell_type": "code",
      "metadata": {
        "id": "QdTZBwX0mnEs",
        "colab_type": "code",
        "colab": {}
      },
      "source": [
        "min_max_scaler = preprocessing.MinMaxScaler()\n",
        "\n",
        "x_scaled = min_max_scaler.fit_transform(X_train.values.reshape(-1,1))\n",
        "X_train = pd.DataFrame(x_scaled)\n",
        "\n",
        "x_scaled1 = min_max_scaler.fit_transform(X_train1.values.reshape(-1,1))\n",
        "X_train1 = pd.DataFrame(x_scaled1)\n",
        "\n",
        "x_scaled2 = min_max_scaler.fit_transform(X_train2.values.reshape(-1,1))\n",
        "X_train2 = pd.DataFrame(x_scaled2)\n",
        "\n",
        "x_scaled3 = min_max_scaler.fit_transform(X_train3.values.reshape(-1,1))\n",
        "X_train3 = pd.DataFrame(x_scaled3)\n",
        "\n",
        "x_scaled4 = min_max_scaler.fit_transform(X_train4.values.reshape(-1,1))\n",
        "X_train4 = pd.DataFrame(x_scaled4)\n",
        "\n",
        "x_scaled5 = min_max_scaler.fit_transform(X_train5.values.reshape(-1,1))\n",
        "X_train5 = pd.DataFrame(x_scaled5)\n",
        "\n",
        "x_scaled6 = min_max_scaler.fit_transform(X_train6.values.reshape(-1,1))\n",
        "X_train6 = pd.DataFrame(x_scaled6)\n",
        "\n",
        "x_scaled7 = min_max_scaler.fit_transform(X_train7.values.reshape(-1,1))\n",
        "X_train7 = pd.DataFrame(x_scaled7)\n",
        "\n",
        "x_scaled8 = min_max_scaler.fit_transform(X_train8.values.reshape(-1,1))\n",
        "X_train8 = pd.DataFrame(x_scaled8)\n",
        "\n",
        "x_scaled9 = min_max_scaler.fit_transform(X_train9.values.reshape(-1,1))\n",
        "X_train9 = pd.DataFrame(x_scaled9)\n",
        "\n",
        "x_scaled10 = min_max_scaler.fit_transform(X_train10.values.reshape(-1,1))\n",
        "X_train10 = pd.DataFrame(x_scaled10)\n",
        "\n",
        "x_scaled11 = min_max_scaler.fit_transform(X_train11.values.reshape(-1,1))\n",
        "X_train11 = pd.DataFrame(x_scaled11)\n",
        "\n",
        "x_scaled1112 = min_max_scaler.fit_transform(X_train12.values.reshape(-1,1))\n",
        "X_train12 = pd.DataFrame(x_scaled1112)\n",
        "\n",
        "x_scaled13 = min_max_scaler.fit_transform(X_train13.values.reshape(-1,1))\n",
        "X_train13 = pd.DataFrame(x_scaled13)\n",
        "\n",
        "x_scaled14 = min_max_scaler.fit_transform(X_train14.values.reshape(-1,1))\n",
        "X_train14 = pd.DataFrame(x_scaled14)\n",
        "\n",
        "x_scaled15 = min_max_scaler.fit_transform(X_train15.values.reshape(-1,1))\n",
        "X_train15 = pd.DataFrame(x_scaled15)\n",
        "\n",
        "x_scaled16 = min_max_scaler.fit_transform(X_train16.values.reshape(-1,1))\n",
        "X_train16 = pd.DataFrame(x_scaled16)\n",
        "\n",
        "x_scaled17 = min_max_scaler.fit_transform(X_train17.values.reshape(-1,1))\n",
        "X_train17 = pd.DataFrame(x_scaled17)\n",
        "\n",
        "x_scaled18 = min_max_scaler.fit_transform(X_train18.values.reshape(-1,1))\n",
        "X_train18 = pd.DataFrame(x_scaled18)\n",
        "\n"
      ],
      "execution_count": 0,
      "outputs": []
    },
    {
      "cell_type": "code",
      "metadata": {
        "id": "gTPPxnTX8U0X",
        "colab_type": "code",
        "outputId": "d56c95a8-70de-40f3-a615-b3db5e8c9e35",
        "colab": {
          "base_uri": "https://localhost:8080/",
          "height": 34
        }
      },
      "source": [
        "len(X_train12)"
      ],
      "execution_count": 16,
      "outputs": [
        {
          "output_type": "execute_result",
          "data": {
            "text/plain": [
              "12000"
            ]
          },
          "metadata": {
            "tags": []
          },
          "execution_count": 16
        }
      ]
    },
    {
      "cell_type": "code",
      "metadata": {
        "id": "CxbM6N2-oCPd",
        "colab_type": "code",
        "colab": {}
      },
      "source": [
        "x_scaled1 = min_max_scaler.fit_transform(X_test.values.reshape(-1,1))\n",
        "X_test = pd.DataFrame(x_scaled1)\n",
        "\n",
        "x_scaled11 = min_max_scaler.fit_transform(X_test1.values.reshape(-1,1))\n",
        "X_test1 = pd.DataFrame(x_scaled11)\n",
        "\n",
        "x_scaled12 = min_max_scaler.fit_transform(X_test2.values.reshape(-1,1))\n",
        "X_test2 = pd.DataFrame(x_scaled12)\n",
        "\n",
        "x_scaled13 = min_max_scaler.fit_transform(X_test3.values.reshape(-1,1))\n",
        "X_test3 = pd.DataFrame(x_scaled13)\n",
        "\n",
        "x_scaled14 = min_max_scaler.fit_transform(X_test4.values.reshape(-1,1))\n",
        "X_test4 = pd.DataFrame(x_scaled14)\n",
        "\n",
        "x_scaled15 = min_max_scaler.fit_transform(X_test5.values.reshape(-1,1))\n",
        "X_test5 = pd.DataFrame(x_scaled15)\n",
        "\n",
        "x_scaled16 = min_max_scaler.fit_transform(X_test6.values.reshape(-1,1))\n",
        "X_test6 = pd.DataFrame(x_scaled16)\n",
        "\n",
        "x_scaled17 = min_max_scaler.fit_transform(X_test7.values.reshape(-1,1))\n",
        "X_test7 = pd.DataFrame(x_scaled17)\n",
        "\n",
        "x_scaled18 = min_max_scaler.fit_transform(X_test8.values.reshape(-1,1))\n",
        "X_test8 = pd.DataFrame(x_scaled18)\n",
        "\n",
        "x_scaled19 = min_max_scaler.fit_transform(X_test9.values.reshape(-1,1))\n",
        "X_test9 = pd.DataFrame(x_scaled19)\n",
        "\n",
        "x_scaled110 = min_max_scaler.fit_transform(X_test10.values.reshape(-1,1))\n",
        "X_test10 = pd.DataFrame(x_scaled110)\n",
        "\n",
        "x_scaled111 = min_max_scaler.fit_transform(X_test11.values.reshape(-1,1))\n",
        "X_test11 = pd.DataFrame(x_scaled111)\n",
        "\n",
        "x_scaled112 = min_max_scaler.fit_transform(X_test12.values.reshape(-1,1))\n",
        "X_test12 = pd.DataFrame(x_scaled112)\n",
        "\n",
        "x_scaled113 = min_max_scaler.fit_transform(X_test13.values.reshape(-1,1))\n",
        "X_test13 = pd.DataFrame(x_scaled113)\n",
        "\n",
        "x_scaled114 = min_max_scaler.fit_transform(X_test14.values.reshape(-1,1))\n",
        "X_test14 = pd.DataFrame(x_scaled114)\n",
        "\n",
        "x_scaled115= min_max_scaler.fit_transform(X_test15.values.reshape(-1,1))\n",
        "X_test15 = pd.DataFrame(x_scaled115)\n",
        "\n",
        "x_scaled116 = min_max_scaler.fit_transform(X_test16.values.reshape(-1,1))\n",
        "X_test16 = pd.DataFrame(x_scaled116)\n",
        "\n",
        "x_scaled117 = min_max_scaler.fit_transform(X_test17.values.reshape(-1,1))\n",
        "X_test17 = pd.DataFrame(x_scaled117)\n",
        "\n",
        "x_scaled118 = min_max_scaler.fit_transform(X_test18.values.reshape(-1,1))\n",
        "X_test18 = pd.DataFrame(x_scaled118)\n"
      ],
      "execution_count": 0,
      "outputs": []
    },
    {
      "cell_type": "code",
      "metadata": {
        "id": "VZNCwdZhrTQD",
        "colab_type": "code",
        "colab": {}
      },
      "source": [
        "in_seq = np.array([X_train[0]])\n",
        "in_seqtest1 = np.array([X_test[0]])\n",
        "\n",
        "in_seq1 = np.array([X_train1[0]])\n",
        "in_seqt11 = np.array([X_test1[0]])\n",
        "\n",
        "in_seq12 = np.array([X_train2[0]])\n",
        "in_seqt112 = np.array([X_test2[0]])\n",
        "\n",
        "in_seq13 = np.array([X_train3[0]])\n",
        "in_seqt113 = np.array([X_test3[0]])\n",
        "\n",
        "in_seq14 = np.array([X_train4[0]])\n",
        "in_seqt114 = np.array([X_test4[0]])\n",
        "\n",
        "in_seq15 = np.array([X_train5[0]])\n",
        "in_seqt115 = np.array([X_test5[0]])\n",
        "\n",
        "in_seq16 = np.array([X_train6[0]])\n",
        "in_seqt116 = np.array([X_test6[0]])\n",
        "\n",
        "in_seq17 = np.array([X_train7[0]])\n",
        "in_seqt117 = np.array([X_test7[0]])\n",
        "\n",
        "in_seq18 = np.array([X_train8[0]])\n",
        "in_seqt118 = np.array([X_test8[0]])\n",
        "\n",
        "in_seq19 = np.array([X_train9[0]])\n",
        "in_seqt119 = np.array([X_test9[0]])\n",
        "\n",
        "in_seq110 = np.array([X_train10[0]])\n",
        "in_seqt1110 = np.array([X_test10[0]])\n",
        "\n",
        "in_seq111 = np.array([X_train11[0]])\n",
        "in_seqt1111 = np.array([X_test11[0]])\n",
        "\n",
        "in_seq112 = np.array([X_train12[0]])\n",
        "in_seqt1112 = np.array([X_test12[0]])\n",
        "\n",
        "in_seq113 = np.array([X_train13[0]])\n",
        "in_seqt1113 = np.array([X_test13[0]])\n",
        "\n",
        "in_seq114 = np.array([X_train14[0]])\n",
        "in_seqt1114 = np.array([X_test14[0]])\n",
        "\n",
        "in_seq115 = np.array([X_train15[0]])\n",
        "in_seqt1115 = np.array([X_test15[0]])\n",
        "\n",
        "in_seq116 = np.array([X_train16[0]])\n",
        "in_seqt1116 = np.array([X_test16[0]])\n",
        "\n",
        "in_seq117 = np.array([X_train17[0]])\n",
        "in_seqt1117 = np.array([X_test17[0]])\n",
        "\n",
        "in_seq118 = np.array([X_train18[0]])\n",
        "in_seqt1118 = np.array([X_test18[0]])\n"
      ],
      "execution_count": 0,
      "outputs": []
    },
    {
      "cell_type": "code",
      "metadata": {
        "id": "lZsc0XL19Pk-",
        "colab_type": "code",
        "outputId": "57d378a9-67bc-4829-9adc-6797b27f73b3",
        "colab": {
          "base_uri": "https://localhost:8080/",
          "height": 221
        }
      },
      "source": [
        "X_train12[0]"
      ],
      "execution_count": 19,
      "outputs": [
        {
          "output_type": "execute_result",
          "data": {
            "text/plain": [
              "0        0.000000\n",
              "1        0.000000\n",
              "2        0.000000\n",
              "3        0.000000\n",
              "4        0.000000\n",
              "           ...   \n",
              "11995    0.013453\n",
              "11996    0.000000\n",
              "11997    0.000000\n",
              "11998    0.000000\n",
              "11999    0.000000\n",
              "Name: 0, Length: 12000, dtype: float64"
            ]
          },
          "metadata": {
            "tags": []
          },
          "execution_count": 19
        }
      ]
    },
    {
      "cell_type": "code",
      "metadata": {
        "id": "kyrAuHZI8JOi",
        "colab_type": "code",
        "outputId": "2521f669-117a-4ae5-ad80-d368b92d904f",
        "colab": {
          "base_uri": "https://localhost:8080/",
          "height": 34
        }
      },
      "source": [
        "in_seq112"
      ],
      "execution_count": 20,
      "outputs": [
        {
          "output_type": "execute_result",
          "data": {
            "text/plain": [
              "array([[0., 0., 0., ..., 0., 0., 0.]])"
            ]
          },
          "metadata": {
            "tags": []
          },
          "execution_count": 20
        }
      ]
    },
    {
      "cell_type": "code",
      "metadata": {
        "id": "2vtw9-GtrbhY",
        "colab_type": "code",
        "colab": {}
      },
      "source": [
        "in_seq = in_seq.reshape((12000, 1))\n",
        "in_seqtest1 = in_seqtest1.reshape((3704, 1))\n",
        "\n",
        "in_seq1 = in_seq1.reshape((12000, 1))\n",
        "in_seqt11 = in_seqt11.reshape((3705, 1))\n",
        "\n",
        "in_seq12 = in_seq12.reshape((12000, 1))\n",
        "in_seqt112 = in_seqt112.reshape((3674, 1))\n",
        "\n",
        "in_seq13 = in_seq13.reshape((12000, 1))\n",
        "in_seqt113 = in_seqt113.reshape((3704, 1))\n",
        "\n",
        "in_seq14 = in_seq14.reshape((12000, 1))\n",
        "in_seqt114 = in_seqt114.reshape((3646, 1))\n",
        "\n",
        "in_seq15 = in_seq15.reshape((12000, 1))\n",
        "in_seqt115 = in_seqt115.reshape((3705, 1))\n",
        "\n",
        "in_seq16 = in_seq16.reshape((12000, 1))\n",
        "in_seqt116 = in_seqt116.reshape((3705, 1))\n",
        "\n",
        "in_seq17 = in_seq17.reshape((12000, 1))\n",
        "in_seqt117 = in_seqt117.reshape((3705, 1))\n",
        "\n",
        "in_seq18 = in_seq18.reshape((12000, 1))\n",
        "in_seqt118 = in_seqt118.reshape((3165, 1))\n",
        "\n",
        "in_seq19 = in_seq19.reshape((12000, 1))\n",
        "in_seqt119 = in_seqt119.reshape((3705, 1))\n",
        "\n",
        "in_seq110 = in_seq110.reshape((12000, 1))\n",
        "in_seqt1110 = in_seqt1110.reshape((3705, 1))\n",
        "\n",
        "in_seq111 = in_seq111.reshape((12000, 1))\n",
        "in_seqt1111 = in_seqt1111.reshape((3345, 1))\n",
        "\n",
        "in_seq112 = in_seq112.reshape((12000, 1))\n",
        "in_seqt1112 = in_seqt1112.reshape((3705, 1))\n",
        "\n",
        "in_seq113 = in_seq113.reshape((12000, 1))\n",
        "in_seqt1113 = in_seqt1113.reshape((3705, 1))\n",
        "\n",
        "in_seq114 = in_seq114.reshape((12000, 1))\n",
        "in_seqt1114 = in_seqt1114.reshape((3678, 1))\n",
        "\n",
        "in_seq115 = in_seq115.reshape((12000, 1))\n",
        "in_seqt1115 = in_seqt1115.reshape((3705, 1))\n",
        "\n",
        "in_seq116 = in_seq116.reshape((12000, 1))\n",
        "in_seqt1116 = in_seqt1116.reshape((3705, 1))\n",
        "\n",
        "in_seq117 = in_seq117.reshape((12000, 1))\n",
        "in_seqt1117 = in_seqt1117.reshape((3705, 1))\n",
        "\n",
        "in_seq118 = in_seq118.reshape((12000, 1))\n",
        "in_seqt1118 = in_seqt1118.reshape((3704, 1))\n",
        "\n"
      ],
      "execution_count": 0,
      "outputs": []
    },
    {
      "cell_type": "code",
      "metadata": {
        "id": "dcthfPpSoN2u",
        "colab_type": "code",
        "colab": {}
      },
      "source": [
        "def split_sequence(sequence, n_steps):\n",
        "\tX, y = list(), list()\n",
        "\tfor i in range(len(sequence)):\n",
        "\t\t# find the end of this pattern\n",
        "\t\tend_ix = i + n_steps\n",
        "\t\t# check if we are beyond the sequence\n",
        "\t\tif end_ix > len(sequence)-1:\n",
        "\t\t\tbreak\n",
        "\t\t# gather input and output parts of the pattern\n",
        "\t\tseq_x, seq_y = sequence[i:end_ix], sequence[end_ix]\n",
        "\t\tX.append(seq_x)\n",
        "\t\ty.append(seq_y)\n",
        "\treturn np.array(X), np.array(y)"
      ],
      "execution_count": 0,
      "outputs": []
    },
    {
      "cell_type": "code",
      "metadata": {
        "id": "NLCLOXnyptMN",
        "colab_type": "code",
        "colab": {}
      },
      "source": [
        "cuddataset1 = hstack((in_seqtest1))\n",
        "cuddataset = hstack((in_seq))\n",
        "\n",
        "pandataset1 = hstack((in_seqt11))\n",
        "pandataset = hstack((in_seq1))\n",
        "\n",
        "dhadataset1 = hstack((in_seqt112))\n",
        "dhadataset = hstack((in_seq12))\n",
        "\n",
        "hardataset1 = hstack((in_seqt113))\n",
        "hardataset = hstack((in_seq13))\n",
        "\n",
        "paldataset1 = hstack((in_seqt114))\n",
        "paldataset = hstack((in_seq14))\n",
        "\n",
        "pendataset1 = hstack((in_seqt115))\n",
        "pendataset = hstack((in_seq15))\n",
        "\n",
        "chedataset1 = hstack((in_seqt116))\n",
        "chedataset = hstack((in_seq16))\n",
        "\n",
        "satdataset1 = hstack((in_seqt117))\n",
        "satdataset = hstack((in_seq17))\n",
        "\n",
        "Tirdataset1 = hstack((in_seqt118))\n",
        "Tirdataset = hstack((in_seq18))\n",
        "\n",
        "Sandataset1 = hstack((in_seqt119))\n",
        "Sandataset = hstack((in_seq19))\n",
        "\n",
        "Tirudataset1 = hstack((in_seqt1110))\n",
        "Tirudataset = hstack((in_seq110))\n",
        "\n",
        "uludataset1 = hstack((in_seqt1111))\n",
        "uludataset = hstack((in_seq111))\n",
        "\n",
        "vildataset1 = hstack((in_seqt1112))\n",
        "vildataset = hstack((in_seq112))\n",
        "\n",
        "bardataset1 = hstack((in_seqt1113))\n",
        "bardataset = hstack((in_seq113))\n",
        "\n",
        "Dendataset1 = hstack((in_seqt1114))\n",
        "Dendataset = hstack((in_seq114))\n",
        "\n",
        "kridataset1 = hstack((in_seqt1115))\n",
        "kridataset = hstack((in_seq115))\n",
        "\n",
        "mardataset1 = hstack((in_seqt1116))\n",
        "mardataset = hstack((in_seq116))\n",
        "\n",
        "raydataset1 = hstack((in_seqt1117))\n",
        "raydataset = hstack((in_seq117))\n",
        "\n",
        "uthdataset1 = hstack((in_seqt1118))\n",
        "uthdataset = hstack((in_seq118))\n"
      ],
      "execution_count": 0,
      "outputs": []
    },
    {
      "cell_type": "code",
      "metadata": {
        "id": "VXevl6Wdrz2e",
        "colab_type": "code",
        "colab": {}
      },
      "source": [
        "n_steps = 3\n",
        "# convert into input/output\n",
        "X, y = split_sequence(cuddataset, n_steps)\n",
        "X1 , y1 = split_sequence(pandataset, n_steps)\n",
        "X2 , y2 = split_sequence(dhadataset, n_steps)\n",
        "X3 , y3 = split_sequence(hardataset, n_steps)\n",
        "X4 , y4 = split_sequence(paldataset, n_steps)\n",
        "X5 , y5 = split_sequence(pendataset, n_steps)\n",
        "X6, y6 = split_sequence(chedataset, n_steps)\n",
        "X7, y7 = split_sequence(satdataset, n_steps)\n",
        "X8, y8 = split_sequence(Tirdataset, n_steps)\n",
        "X9, y9 = split_sequence(Sandataset, n_steps)\n",
        "X10, y10 = split_sequence(Tirudataset, n_steps)\n",
        "X11, y11 = split_sequence(uludataset, n_steps)\n",
        "X12 , y12 = split_sequence(vildataset, n_steps)\n",
        "X13, y13 = split_sequence(bardataset, n_steps)\n",
        "X14, y14 = split_sequence(Dendataset, n_steps)\n",
        "X15, y15 = split_sequence(kridataset, n_steps)\n",
        "X16, y16 = split_sequence(mardataset, n_steps)\n",
        "X17, y17 = split_sequence(raydataset, n_steps)\n",
        "X18, y18 = split_sequence(uthdataset, n_steps)"
      ],
      "execution_count": 0,
      "outputs": []
    },
    {
      "cell_type": "code",
      "metadata": {
        "id": "CcgWCIqIr44M",
        "colab_type": "code",
        "colab": {}
      },
      "source": [
        "X_test,y_test = split_sequence(cuddataset, n_steps)\n",
        "X_test1,y_test1 = split_sequence(pandataset, n_steps)\n",
        "X_test2,y_test2= split_sequence(dhadataset, n_steps)\n",
        "X_test3,y_test3 = split_sequence(hardataset, n_steps)\n",
        "X_test4,y_test4 = split_sequence(paldataset, n_steps)\n",
        "X_test5,y_test5 = split_sequence(pendataset, n_steps)\n",
        "X_test6,y_test6 = split_sequence(chedataset, n_steps)\n",
        "X_test7,y_test7 = split_sequence(satdataset, n_steps)\n",
        "X_test8,y_test8 = split_sequence(Tirdataset, n_steps)\n",
        "X_test9,y_test9 = split_sequence(Sandataset, n_steps)\n",
        "X_test10,y_test10 = split_sequence(Tirudataset, n_steps)\n",
        "X_test11,y_test11= split_sequence(uludataset, n_steps)\n",
        "X_test12,y_test12 = split_sequence(vildataset, n_steps)\n",
        "X_test13,y_test13 = split_sequence(bardataset, n_steps)\n",
        "X_test14,y_test14 = split_sequence(Dendataset, n_steps)\n",
        "X_test15,y_test15 = split_sequence(kridataset, n_steps)\n",
        "X_test16,y_test16 = split_sequence(mardataset, n_steps)\n",
        "X_test17,y_test17= split_sequence(raydataset, n_steps)\n",
        "X_test18,y_test18= split_sequence(uthdataset, n_steps)"
      ],
      "execution_count": 0,
      "outputs": []
    },
    {
      "cell_type": "code",
      "metadata": {
        "id": "lZ26OGqHr95T",
        "colab_type": "code",
        "colab": {}
      },
      "source": [
        "model = keras.Sequential()\n",
        "model.add(keras.layers.LSTM(50, activation='relu', return_sequences=True, input_shape=(n_steps, 1)))\n",
        "model.add(keras.layers.LSTM(50, activation='relu'))\n",
        "model.add(keras.layers.Dense(1))\n",
        "model.compile(optimizer='adam', loss='mse',metrics=['accuracy'])"
      ],
      "execution_count": 0,
      "outputs": []
    },
    {
      "cell_type": "code",
      "metadata": {
        "id": "HUwsDYObsG7O",
        "colab_type": "code",
        "colab": {}
      },
      "source": [
        "X = X.reshape((X.shape[0], X.shape[1], 1))\n",
        "X1 = X1.reshape((X1.shape[0], X1.shape[1], 1))\n",
        "X2 = X2.reshape((X2.shape[0], X2.shape[1], 1))\n",
        "X3 = X3.reshape((X3.shape[0], X3.shape[1], 1))\n",
        "X4 = X4.reshape((X4.shape[0], X4.shape[1], 1))\n",
        "X5 = X5.reshape((X5.shape[0], X5.shape[1], 1))\n",
        "X6 = X6.reshape((X6.shape[0], X6.shape[1], 1))\n",
        "X7 = X7.reshape((X7.shape[0], X7.shape[1], 1))\n",
        "X8 = X8.reshape((X8.shape[0], X8.shape[1], 1))\n",
        "X9 = X9.reshape((X9.shape[0], X9.shape[1], 1))\n",
        "X10 = X10.reshape((X10.shape[0], X10.shape[1], 1))\n",
        "X11 = X11.reshape((X11.shape[0], X11.shape[1], 1))\n",
        "X12 = X12.reshape((X12.shape[0], X12.shape[1], 1))\n",
        "X13 = X13.reshape((X13.shape[0], X13.shape[1], 1))\n",
        "X14 = X14.reshape((X14.shape[0], X14.shape[1], 1))\n",
        "X15 = X15.reshape((X15.shape[0], X15.shape[1], 1))\n",
        "X16 = X16.reshape((X16.shape[0], X16.shape[1], 1))\n",
        "X17 = X17.reshape((X17.shape[0], X17.shape[1], 1))\n",
        "X18 = X18.reshape((X18.shape[0], X18.shape[1], 1))\n"
      ],
      "execution_count": 0,
      "outputs": []
    },
    {
      "cell_type": "code",
      "metadata": {
        "id": "Y3GPbJFSslfM",
        "colab_type": "code",
        "colab": {}
      },
      "source": [
        "X_test=X_test.reshape((X_test.shape[0], X_test.shape[1], 1))\n",
        "X_test1=X_test1.reshape((X_test1.shape[0], X_test1.shape[1], 1))\n",
        "X_test2=X_test2.reshape((X_test2.shape[0], X_test2.shape[1], 1))\n",
        "X_test3=X_test3.reshape((X_test3.shape[0], X_test3.shape[1], 1))\n",
        "X_test4=X_test4.reshape((X_test4.shape[0], X_test4.shape[1], 1))\n",
        "X_test5=X_test5.reshape((X_test5.shape[0], X_test5.shape[1], 1))\n",
        "X_test6=X_test6.reshape((X_test6.shape[0], X_test6.shape[1], 1))\n",
        "X_test7=X_test7.reshape((X_test7.shape[0], X_test7.shape[1], 1))\n",
        "X_test8=X_test8.reshape((X_test8.shape[0], X_test8.shape[1], 1))\n",
        "X_test9=X_test9.reshape((X_test9.shape[0], X_test9.shape[1], 1))\n",
        "X_test10=X_test10.reshape((X_test10.shape[0], X_test10.shape[1], 1))\n",
        "X_test11=X_test11.reshape((X_test11.shape[0], X_test11.shape[1], 1))\n",
        "X_test12=X_test12.reshape((X_test12.shape[0], X_test12.shape[1], 1))\n",
        "X_test13=X_test13.reshape((X_test13.shape[0], X_test13.shape[1], 1))\n",
        "X_test14=X_test14.reshape((X_test14.shape[0], X_test14.shape[1], 1))\n",
        "X_test15=X_test15.reshape((X_test15.shape[0], X_test15.shape[1], 1))\n",
        "\n",
        "X_test16=X_test16.reshape((X_test16.shape[0], X_test16.shape[1], 1))\n",
        "X_test17=X_test17.reshape((X_test17.shape[0], X_test17.shape[1], 1))\n",
        "X_test18=X_test18.reshape((X_test18.shape[0], X_test18.shape[1], 1))\n"
      ],
      "execution_count": 0,
      "outputs": []
    },
    {
      "cell_type": "code",
      "metadata": {
        "id": "CJ0AjGmYsCUs",
        "colab_type": "code",
        "outputId": "f52f9b1b-eb51-4d41-99b6-84baa602aff6",
        "colab": {
          "base_uri": "https://localhost:8080/",
          "height": 1000
        }
      },
      "source": [
        "model.fit(X, y, validation_data=(X_test,y_test),epochs=50)"
      ],
      "execution_count": 33,
      "outputs": [
        {
          "output_type": "stream",
          "text": [
            "WARNING:tensorflow:From /tensorflow-1.15.0/python3.6/tensorflow_core/python/ops/math_grad.py:1424: where (from tensorflow.python.ops.array_ops) is deprecated and will be removed in a future version.\n",
            "Instructions for updating:\n",
            "Use tf.where in 2.0, which has the same broadcast rule as np.where\n",
            "Train on 11997 samples, validate on 11997 samples\n",
            "Epoch 1/50\n",
            "11997/11997 [==============================] - 5s 391us/sample - loss: 0.0012 - acc: 0.7724 - val_loss: 0.0012 - val_acc: 0.7724\n",
            "Epoch 2/50\n",
            "11997/11997 [==============================] - 4s 310us/sample - loss: 0.0012 - acc: 0.7724 - val_loss: 0.0011 - val_acc: 0.7724\n",
            "Epoch 3/50\n",
            "11997/11997 [==============================] - 4s 310us/sample - loss: 0.0011 - acc: 0.7724 - val_loss: 0.0011 - val_acc: 0.7724\n",
            "Epoch 4/50\n",
            "11997/11997 [==============================] - 4s 301us/sample - loss: 0.0011 - acc: 0.7724 - val_loss: 0.0011 - val_acc: 0.7724\n",
            "Epoch 5/50\n",
            "11997/11997 [==============================] - 4s 306us/sample - loss: 0.0011 - acc: 0.7724 - val_loss: 0.0011 - val_acc: 0.7724\n",
            "Epoch 6/50\n",
            "11997/11997 [==============================] - 4s 309us/sample - loss: 0.0011 - acc: 0.7724 - val_loss: 0.0011 - val_acc: 0.7724\n",
            "Epoch 7/50\n",
            "11997/11997 [==============================] - 4s 304us/sample - loss: 0.0011 - acc: 0.7724 - val_loss: 0.0011 - val_acc: 0.7724\n",
            "Epoch 8/50\n",
            "11997/11997 [==============================] - 4s 303us/sample - loss: 0.0011 - acc: 0.7724 - val_loss: 0.0011 - val_acc: 0.7724\n",
            "Epoch 9/50\n",
            "11997/11997 [==============================] - 4s 298us/sample - loss: 0.0011 - acc: 0.7724 - val_loss: 0.0011 - val_acc: 0.7724\n",
            "Epoch 10/50\n",
            "11997/11997 [==============================] - 4s 309us/sample - loss: 0.0011 - acc: 0.7724 - val_loss: 0.0011 - val_acc: 0.7724\n",
            "Epoch 11/50\n",
            "11997/11997 [==============================] - 4s 296us/sample - loss: 0.0011 - acc: 0.7724 - val_loss: 0.0011 - val_acc: 0.7724\n",
            "Epoch 12/50\n",
            "11997/11997 [==============================] - 4s 298us/sample - loss: 0.0011 - acc: 0.7724 - val_loss: 0.0011 - val_acc: 0.7724\n",
            "Epoch 13/50\n",
            "11997/11997 [==============================] - 4s 298us/sample - loss: 0.0011 - acc: 0.7724 - val_loss: 0.0011 - val_acc: 0.7724\n",
            "Epoch 14/50\n",
            "11997/11997 [==============================] - 4s 305us/sample - loss: 0.0011 - acc: 0.7724 - val_loss: 0.0011 - val_acc: 0.7724\n",
            "Epoch 15/50\n",
            "11997/11997 [==============================] - 4s 301us/sample - loss: 0.0011 - acc: 0.7724 - val_loss: 0.0011 - val_acc: 0.7724\n",
            "Epoch 16/50\n",
            "11997/11997 [==============================] - 4s 300us/sample - loss: 0.0011 - acc: 0.7724 - val_loss: 0.0011 - val_acc: 0.7724\n",
            "Epoch 17/50\n",
            "11997/11997 [==============================] - 4s 302us/sample - loss: 0.0011 - acc: 0.7724 - val_loss: 0.0011 - val_acc: 0.7724\n",
            "Epoch 18/50\n",
            "11997/11997 [==============================] - 4s 303us/sample - loss: 0.0011 - acc: 0.7724 - val_loss: 0.0011 - val_acc: 0.7724\n",
            "Epoch 19/50\n",
            "11997/11997 [==============================] - 4s 297us/sample - loss: 0.0011 - acc: 0.7724 - val_loss: 0.0011 - val_acc: 0.7724\n",
            "Epoch 20/50\n",
            "11997/11997 [==============================] - 4s 295us/sample - loss: 0.0011 - acc: 0.7724 - val_loss: 0.0011 - val_acc: 0.7724\n",
            "Epoch 21/50\n",
            "11997/11997 [==============================] - 4s 297us/sample - loss: 0.0011 - acc: 0.7724 - val_loss: 0.0011 - val_acc: 0.7724\n",
            "Epoch 22/50\n",
            "11997/11997 [==============================] - 4s 301us/sample - loss: 0.0011 - acc: 0.7724 - val_loss: 0.0011 - val_acc: 0.7724\n",
            "Epoch 23/50\n",
            "11997/11997 [==============================] - 4s 304us/sample - loss: 0.0011 - acc: 0.7724 - val_loss: 0.0011 - val_acc: 0.7724\n",
            "Epoch 24/50\n",
            "11997/11997 [==============================] - 4s 304us/sample - loss: 0.0011 - acc: 0.7724 - val_loss: 0.0011 - val_acc: 0.7724\n",
            "Epoch 25/50\n",
            "11997/11997 [==============================] - 4s 304us/sample - loss: 0.0011 - acc: 0.7724 - val_loss: 0.0011 - val_acc: 0.7724\n",
            "Epoch 26/50\n",
            "11997/11997 [==============================] - 4s 307us/sample - loss: 0.0011 - acc: 0.7724 - val_loss: 0.0011 - val_acc: 0.7724\n",
            "Epoch 27/50\n",
            "11997/11997 [==============================] - 4s 305us/sample - loss: 0.0011 - acc: 0.7724 - val_loss: 0.0011 - val_acc: 0.7724\n",
            "Epoch 28/50\n",
            "11997/11997 [==============================] - 4s 303us/sample - loss: 0.0011 - acc: 0.7724 - val_loss: 0.0011 - val_acc: 0.7724\n",
            "Epoch 29/50\n",
            "11997/11997 [==============================] - 4s 304us/sample - loss: 0.0011 - acc: 0.7724 - val_loss: 0.0011 - val_acc: 0.7724\n",
            "Epoch 30/50\n",
            "11997/11997 [==============================] - 4s 300us/sample - loss: 0.0011 - acc: 0.7724 - val_loss: 0.0011 - val_acc: 0.7724\n",
            "Epoch 31/50\n",
            "11997/11997 [==============================] - 4s 302us/sample - loss: 0.0011 - acc: 0.7724 - val_loss: 0.0011 - val_acc: 0.7724\n",
            "Epoch 32/50\n",
            "11997/11997 [==============================] - 4s 304us/sample - loss: 0.0011 - acc: 0.7724 - val_loss: 0.0011 - val_acc: 0.7724\n",
            "Epoch 33/50\n",
            "11997/11997 [==============================] - 4s 304us/sample - loss: 0.0011 - acc: 0.7724 - val_loss: 0.0011 - val_acc: 0.7724\n",
            "Epoch 34/50\n",
            "11997/11997 [==============================] - 4s 301us/sample - loss: 0.0011 - acc: 0.7724 - val_loss: 0.0011 - val_acc: 0.7724\n",
            "Epoch 35/50\n",
            "11997/11997 [==============================] - 4s 306us/sample - loss: 0.0011 - acc: 0.7724 - val_loss: 0.0011 - val_acc: 0.7724\n",
            "Epoch 36/50\n",
            "11997/11997 [==============================] - 4s 308us/sample - loss: 0.0011 - acc: 0.7724 - val_loss: 0.0011 - val_acc: 0.7724\n",
            "Epoch 37/50\n",
            "11997/11997 [==============================] - 4s 301us/sample - loss: 0.0011 - acc: 0.7724 - val_loss: 0.0011 - val_acc: 0.7724\n",
            "Epoch 38/50\n",
            "11997/11997 [==============================] - 4s 302us/sample - loss: 0.0011 - acc: 0.7724 - val_loss: 0.0011 - val_acc: 0.7724\n",
            "Epoch 39/50\n",
            "11997/11997 [==============================] - 4s 303us/sample - loss: 0.0011 - acc: 0.7724 - val_loss: 0.0011 - val_acc: 0.7724\n",
            "Epoch 40/50\n",
            "11997/11997 [==============================] - 4s 300us/sample - loss: 0.0011 - acc: 0.7724 - val_loss: 0.0011 - val_acc: 0.7724\n",
            "Epoch 41/50\n",
            "11997/11997 [==============================] - 4s 303us/sample - loss: 0.0011 - acc: 0.7724 - val_loss: 0.0011 - val_acc: 0.7724\n",
            "Epoch 42/50\n",
            "11997/11997 [==============================] - 4s 306us/sample - loss: 0.0011 - acc: 0.7724 - val_loss: 0.0011 - val_acc: 0.7724\n",
            "Epoch 43/50\n",
            "11997/11997 [==============================] - 4s 309us/sample - loss: 0.0011 - acc: 0.7724 - val_loss: 0.0011 - val_acc: 0.7724\n",
            "Epoch 44/50\n",
            "11997/11997 [==============================] - 4s 302us/sample - loss: 0.0011 - acc: 0.7724 - val_loss: 0.0011 - val_acc: 0.7724\n",
            "Epoch 45/50\n",
            "11997/11997 [==============================] - 4s 298us/sample - loss: 0.0011 - acc: 0.7724 - val_loss: 0.0011 - val_acc: 0.7724\n",
            "Epoch 46/50\n",
            "11997/11997 [==============================] - 4s 298us/sample - loss: 0.0011 - acc: 0.7724 - val_loss: 0.0011 - val_acc: 0.7724\n",
            "Epoch 47/50\n",
            "11997/11997 [==============================] - 4s 300us/sample - loss: 0.0011 - acc: 0.7724 - val_loss: 0.0011 - val_acc: 0.7724\n",
            "Epoch 48/50\n",
            "11997/11997 [==============================] - 4s 293us/sample - loss: 0.0011 - acc: 0.7724 - val_loss: 0.0011 - val_acc: 0.7724\n",
            "Epoch 49/50\n",
            "11997/11997 [==============================] - 4s 303us/sample - loss: 0.0011 - acc: 0.7724 - val_loss: 0.0011 - val_acc: 0.7724\n",
            "Epoch 50/50\n",
            "11997/11997 [==============================] - 4s 309us/sample - loss: 0.0011 - acc: 0.7724 - val_loss: 0.0011 - val_acc: 0.7724\n"
          ],
          "name": "stdout"
        },
        {
          "output_type": "execute_result",
          "data": {
            "text/plain": [
              "<tensorflow.python.keras.callbacks.History at 0x7fc791662208>"
            ]
          },
          "metadata": {
            "tags": []
          },
          "execution_count": 33
        }
      ]
    },
    {
      "cell_type": "code",
      "metadata": {
        "id": "qW849L-NsFhU",
        "colab_type": "code",
        "outputId": "ede92bcf-1e98-4046-cf34-566fd0af8f1f",
        "colab": {
          "base_uri": "https://localhost:8080/",
          "height": 51
        }
      },
      "source": [
        "ypred = model.predict(X)\n",
        "s=pd.DataFrame(ypred)\n",
        "s1=pd.DataFrame(y)\n",
        "s1.corrwith(s, axis = 0) "
      ],
      "execution_count": 34,
      "outputs": [
        {
          "output_type": "execute_result",
          "data": {
            "text/plain": [
              "0    0.415444\n",
              "dtype: float64"
            ]
          },
          "metadata": {
            "tags": []
          },
          "execution_count": 34
        }
      ]
    },
    {
      "cell_type": "code",
      "metadata": {
        "id": "noGIobrktgmd",
        "colab_type": "code",
        "outputId": "98789268-6c61-4802-8f2e-0d7ec2c8b896",
        "colab": {
          "base_uri": "https://localhost:8080/",
          "height": 51
        }
      },
      "source": [
        "ypred1=model.predict(X_test)\n",
        "s=pd.DataFrame(ypred1)\n",
        "s1=pd.DataFrame(y_test)\n",
        "s1.corrwith(s,axis=0)"
      ],
      "execution_count": 35,
      "outputs": [
        {
          "output_type": "execute_result",
          "data": {
            "text/plain": [
              "0    0.415444\n",
              "dtype: float64"
            ]
          },
          "metadata": {
            "tags": []
          },
          "execution_count": 35
        }
      ]
    },
    {
      "cell_type": "code",
      "metadata": {
        "id": "xg8kvCOYtkrq",
        "colab_type": "code",
        "outputId": "c40ce529-fe9c-4c86-ff39-5ae3d854cab5",
        "colab": {
          "base_uri": "https://localhost:8080/",
          "height": 34
        }
      },
      "source": [
        " from sklearn.metrics import r2_score\n",
        " r2_score(y,ypred)"
      ],
      "execution_count": 36,
      "outputs": [
        {
          "output_type": "execute_result",
          "data": {
            "text/plain": [
              "0.17161844699714612"
            ]
          },
          "metadata": {
            "tags": []
          },
          "execution_count": 36
        }
      ]
    },
    {
      "cell_type": "code",
      "metadata": {
        "id": "j7rV7tCmtn70",
        "colab_type": "code",
        "outputId": "05475339-7030-4fb5-c024-3099e51f1fb6",
        "colab": {
          "base_uri": "https://localhost:8080/",
          "height": 34
        }
      },
      "source": [
        "r2_score(y_test,ypred1)"
      ],
      "execution_count": 37,
      "outputs": [
        {
          "output_type": "execute_result",
          "data": {
            "text/plain": [
              "0.17161844699714612"
            ]
          },
          "metadata": {
            "tags": []
          },
          "execution_count": 37
        }
      ]
    },
    {
      "cell_type": "code",
      "metadata": {
        "id": "RpGZF90Nw8oU",
        "colab_type": "code",
        "outputId": "922cd2ff-67fc-4045-e65d-37e2e9c91e6a",
        "colab": {
          "base_uri": "https://localhost:8080/",
          "height": 1000
        }
      },
      "source": [
        "model.fit(X1, y1, validation_data=(X_test1,y_test1),epochs=50)"
      ],
      "execution_count": 38,
      "outputs": [
        {
          "output_type": "stream",
          "text": [
            "Train on 11997 samples, validate on 11997 samples\n",
            "Epoch 1/50\n",
            "11997/11997 [==============================] - 4s 312us/sample - loss: 0.0015 - acc: 0.8519 - val_loss: 0.0015 - val_acc: 0.8519\n",
            "Epoch 2/50\n",
            "11997/11997 [==============================] - 4s 299us/sample - loss: 0.0015 - acc: 0.8519 - val_loss: 0.0014 - val_acc: 0.8519\n",
            "Epoch 3/50\n",
            "11997/11997 [==============================] - 4s 297us/sample - loss: 0.0015 - acc: 0.8519 - val_loss: 0.0015 - val_acc: 0.8519\n",
            "Epoch 4/50\n",
            "11997/11997 [==============================] - 4s 309us/sample - loss: 0.0014 - acc: 0.8519 - val_loss: 0.0014 - val_acc: 0.8519\n",
            "Epoch 5/50\n",
            "11997/11997 [==============================] - 4s 301us/sample - loss: 0.0014 - acc: 0.8519 - val_loss: 0.0014 - val_acc: 0.8519\n",
            "Epoch 6/50\n",
            "11997/11997 [==============================] - 4s 303us/sample - loss: 0.0014 - acc: 0.8519 - val_loss: 0.0014 - val_acc: 0.8519\n",
            "Epoch 7/50\n",
            "11997/11997 [==============================] - 4s 307us/sample - loss: 0.0014 - acc: 0.8519 - val_loss: 0.0014 - val_acc: 0.8519\n",
            "Epoch 8/50\n",
            "11997/11997 [==============================] - 4s 305us/sample - loss: 0.0014 - acc: 0.8519 - val_loss: 0.0014 - val_acc: 0.8519\n",
            "Epoch 9/50\n",
            "11997/11997 [==============================] - 4s 308us/sample - loss: 0.0014 - acc: 0.8519 - val_loss: 0.0015 - val_acc: 0.8519\n",
            "Epoch 10/50\n",
            "11997/11997 [==============================] - 4s 301us/sample - loss: 0.0014 - acc: 0.8519 - val_loss: 0.0014 - val_acc: 0.8519\n",
            "Epoch 11/50\n",
            "11997/11997 [==============================] - 4s 300us/sample - loss: 0.0014 - acc: 0.8519 - val_loss: 0.0015 - val_acc: 0.8519\n",
            "Epoch 12/50\n",
            "11997/11997 [==============================] - 4s 309us/sample - loss: 0.0014 - acc: 0.8519 - val_loss: 0.0014 - val_acc: 0.8519\n",
            "Epoch 13/50\n",
            "11997/11997 [==============================] - 4s 307us/sample - loss: 0.0014 - acc: 0.8519 - val_loss: 0.0014 - val_acc: 0.8519\n",
            "Epoch 14/50\n",
            "11997/11997 [==============================] - 4s 306us/sample - loss: 0.0014 - acc: 0.8519 - val_loss: 0.0014 - val_acc: 0.8519\n",
            "Epoch 15/50\n",
            "11997/11997 [==============================] - 4s 310us/sample - loss: 0.0014 - acc: 0.8519 - val_loss: 0.0014 - val_acc: 0.8519\n",
            "Epoch 16/50\n",
            "11997/11997 [==============================] - 4s 303us/sample - loss: 0.0014 - acc: 0.8519 - val_loss: 0.0014 - val_acc: 0.8519\n",
            "Epoch 17/50\n",
            "11997/11997 [==============================] - 4s 303us/sample - loss: 0.0014 - acc: 0.8519 - val_loss: 0.0014 - val_acc: 0.8519\n",
            "Epoch 18/50\n",
            "11997/11997 [==============================] - 4s 306us/sample - loss: 0.0014 - acc: 0.8519 - val_loss: 0.0014 - val_acc: 0.8519\n",
            "Epoch 19/50\n",
            "11997/11997 [==============================] - 4s 310us/sample - loss: 0.0014 - acc: 0.8519 - val_loss: 0.0014 - val_acc: 0.8519\n",
            "Epoch 20/50\n",
            "11997/11997 [==============================] - 4s 315us/sample - loss: 0.0014 - acc: 0.8519 - val_loss: 0.0015 - val_acc: 0.8519\n",
            "Epoch 21/50\n",
            "11997/11997 [==============================] - 4s 325us/sample - loss: 0.0014 - acc: 0.8519 - val_loss: 0.0014 - val_acc: 0.8519\n",
            "Epoch 22/50\n",
            "11997/11997 [==============================] - 4s 326us/sample - loss: 0.0014 - acc: 0.8519 - val_loss: 0.0014 - val_acc: 0.8519\n",
            "Epoch 23/50\n",
            "11997/11997 [==============================] - 4s 309us/sample - loss: 0.0014 - acc: 0.8519 - val_loss: 0.0014 - val_acc: 0.8519\n",
            "Epoch 24/50\n",
            "11997/11997 [==============================] - 4s 305us/sample - loss: 0.0014 - acc: 0.8519 - val_loss: 0.0014 - val_acc: 0.8519\n",
            "Epoch 25/50\n",
            "11997/11997 [==============================] - 4s 317us/sample - loss: 0.0014 - acc: 0.8519 - val_loss: 0.0014 - val_acc: 0.8519\n",
            "Epoch 26/50\n",
            "11997/11997 [==============================] - 4s 311us/sample - loss: 0.0014 - acc: 0.8519 - val_loss: 0.0014 - val_acc: 0.8519\n",
            "Epoch 27/50\n",
            "11997/11997 [==============================] - 4s 306us/sample - loss: 0.0014 - acc: 0.8519 - val_loss: 0.0014 - val_acc: 0.8519\n",
            "Epoch 28/50\n",
            "11997/11997 [==============================] - 4s 311us/sample - loss: 0.0014 - acc: 0.8519 - val_loss: 0.0014 - val_acc: 0.8519\n",
            "Epoch 29/50\n",
            "11997/11997 [==============================] - 4s 316us/sample - loss: 0.0014 - acc: 0.8519 - val_loss: 0.0014 - val_acc: 0.8519\n",
            "Epoch 30/50\n",
            "11997/11997 [==============================] - 4s 318us/sample - loss: 0.0014 - acc: 0.8519 - val_loss: 0.0014 - val_acc: 0.8519\n",
            "Epoch 31/50\n",
            "11997/11997 [==============================] - 4s 305us/sample - loss: 0.0014 - acc: 0.8519 - val_loss: 0.0014 - val_acc: 0.8519\n",
            "Epoch 32/50\n",
            "11997/11997 [==============================] - 4s 308us/sample - loss: 0.0014 - acc: 0.8519 - val_loss: 0.0014 - val_acc: 0.8519\n",
            "Epoch 33/50\n",
            "11997/11997 [==============================] - 4s 308us/sample - loss: 0.0014 - acc: 0.8519 - val_loss: 0.0014 - val_acc: 0.8519\n",
            "Epoch 34/50\n",
            "11997/11997 [==============================] - 4s 302us/sample - loss: 0.0014 - acc: 0.8519 - val_loss: 0.0014 - val_acc: 0.8519\n",
            "Epoch 35/50\n",
            "11997/11997 [==============================] - 4s 309us/sample - loss: 0.0014 - acc: 0.8519 - val_loss: 0.0014 - val_acc: 0.8519\n",
            "Epoch 36/50\n",
            "11997/11997 [==============================] - 4s 299us/sample - loss: 0.0014 - acc: 0.8519 - val_loss: 0.0014 - val_acc: 0.8519\n",
            "Epoch 37/50\n",
            "11997/11997 [==============================] - 4s 301us/sample - loss: 0.0014 - acc: 0.8519 - val_loss: 0.0014 - val_acc: 0.8519\n",
            "Epoch 38/50\n",
            "11997/11997 [==============================] - 4s 308us/sample - loss: 0.0014 - acc: 0.8519 - val_loss: 0.0014 - val_acc: 0.8519\n",
            "Epoch 39/50\n",
            "11997/11997 [==============================] - 4s 312us/sample - loss: 0.0014 - acc: 0.8519 - val_loss: 0.0014 - val_acc: 0.8519\n",
            "Epoch 40/50\n",
            "11997/11997 [==============================] - 4s 306us/sample - loss: 0.0014 - acc: 0.8519 - val_loss: 0.0014 - val_acc: 0.8519\n",
            "Epoch 41/50\n",
            "11997/11997 [==============================] - 4s 313us/sample - loss: 0.0014 - acc: 0.8519 - val_loss: 0.0014 - val_acc: 0.8519\n",
            "Epoch 42/50\n",
            "11997/11997 [==============================] - 4s 311us/sample - loss: 0.0014 - acc: 0.8519 - val_loss: 0.0014 - val_acc: 0.8519\n",
            "Epoch 43/50\n",
            "11997/11997 [==============================] - 4s 310us/sample - loss: 0.0014 - acc: 0.8519 - val_loss: 0.0014 - val_acc: 0.8519\n",
            "Epoch 44/50\n",
            "11997/11997 [==============================] - 4s 305us/sample - loss: 0.0014 - acc: 0.8519 - val_loss: 0.0014 - val_acc: 0.8519\n",
            "Epoch 45/50\n",
            "11997/11997 [==============================] - 4s 304us/sample - loss: 0.0014 - acc: 0.8519 - val_loss: 0.0014 - val_acc: 0.8519\n",
            "Epoch 46/50\n",
            "11997/11997 [==============================] - 4s 306us/sample - loss: 0.0014 - acc: 0.8519 - val_loss: 0.0014 - val_acc: 0.8519\n",
            "Epoch 47/50\n",
            "11997/11997 [==============================] - 4s 300us/sample - loss: 0.0014 - acc: 0.8519 - val_loss: 0.0014 - val_acc: 0.8519\n",
            "Epoch 48/50\n",
            "11997/11997 [==============================] - 4s 301us/sample - loss: 0.0014 - acc: 0.8519 - val_loss: 0.0014 - val_acc: 0.8519\n",
            "Epoch 49/50\n",
            "11997/11997 [==============================] - 4s 301us/sample - loss: 0.0014 - acc: 0.8519 - val_loss: 0.0014 - val_acc: 0.8519\n",
            "Epoch 50/50\n",
            "11997/11997 [==============================] - 4s 304us/sample - loss: 0.0014 - acc: 0.8519 - val_loss: 0.0014 - val_acc: 0.8519\n"
          ],
          "name": "stdout"
        },
        {
          "output_type": "execute_result",
          "data": {
            "text/plain": [
              "<tensorflow.python.keras.callbacks.History at 0x7fc7937f1e80>"
            ]
          },
          "metadata": {
            "tags": []
          },
          "execution_count": 38
        }
      ]
    },
    {
      "cell_type": "code",
      "metadata": {
        "id": "dyKBYmkUtKUU",
        "colab_type": "code",
        "outputId": "bd070d35-367c-46ce-cb48-60313e91a50e",
        "colab": {
          "base_uri": "https://localhost:8080/",
          "height": 1000
        }
      },
      "source": [
        "model.fit(X2, y2, validation_data=(X_test2,y_test2),epochs=50)"
      ],
      "execution_count": 39,
      "outputs": [
        {
          "output_type": "stream",
          "text": [
            "Train on 11997 samples, validate on 11997 samples\n",
            "Epoch 1/50\n",
            "11997/11997 [==============================] - 4s 306us/sample - loss: 0.0048 - acc: 0.8414 - val_loss: 0.0047 - val_acc: 0.8414\n",
            "Epoch 2/50\n",
            "11997/11997 [==============================] - 4s 301us/sample - loss: 0.0047 - acc: 0.8414 - val_loss: 0.0047 - val_acc: 0.8414\n",
            "Epoch 3/50\n",
            "11997/11997 [==============================] - 4s 300us/sample - loss: 0.0047 - acc: 0.8414 - val_loss: 0.0047 - val_acc: 0.8414\n",
            "Epoch 4/50\n",
            "11997/11997 [==============================] - 4s 304us/sample - loss: 0.0047 - acc: 0.8414 - val_loss: 0.0047 - val_acc: 0.8414\n",
            "Epoch 5/50\n",
            "11997/11997 [==============================] - 4s 307us/sample - loss: 0.0047 - acc: 0.8414 - val_loss: 0.0047 - val_acc: 0.8414\n",
            "Epoch 6/50\n",
            "11997/11997 [==============================] - 4s 303us/sample - loss: 0.0047 - acc: 0.8414 - val_loss: 0.0047 - val_acc: 0.8414\n",
            "Epoch 7/50\n",
            "11997/11997 [==============================] - 4s 306us/sample - loss: 0.0047 - acc: 0.8414 - val_loss: 0.0047 - val_acc: 0.8414\n",
            "Epoch 8/50\n",
            "11997/11997 [==============================] - 4s 307us/sample - loss: 0.0047 - acc: 0.8414 - val_loss: 0.0047 - val_acc: 0.8414\n",
            "Epoch 9/50\n",
            "11997/11997 [==============================] - 4s 305us/sample - loss: 0.0047 - acc: 0.8414 - val_loss: 0.0047 - val_acc: 0.8414\n",
            "Epoch 10/50\n",
            "11997/11997 [==============================] - 4s 304us/sample - loss: 0.0047 - acc: 0.8414 - val_loss: 0.0047 - val_acc: 0.8414\n",
            "Epoch 11/50\n",
            "11997/11997 [==============================] - 4s 302us/sample - loss: 0.0047 - acc: 0.8414 - val_loss: 0.0047 - val_acc: 0.8414\n",
            "Epoch 12/50\n",
            "11997/11997 [==============================] - 4s 304us/sample - loss: 0.0047 - acc: 0.8414 - val_loss: 0.0047 - val_acc: 0.8414\n",
            "Epoch 13/50\n",
            "11997/11997 [==============================] - 4s 300us/sample - loss: 0.0047 - acc: 0.8414 - val_loss: 0.0047 - val_acc: 0.8414\n",
            "Epoch 14/50\n",
            "11997/11997 [==============================] - 4s 303us/sample - loss: 0.0047 - acc: 0.8414 - val_loss: 0.0047 - val_acc: 0.8414\n",
            "Epoch 15/50\n",
            "11997/11997 [==============================] - 4s 305us/sample - loss: 0.0047 - acc: 0.8414 - val_loss: 0.0047 - val_acc: 0.8414\n",
            "Epoch 16/50\n",
            "11997/11997 [==============================] - 4s 300us/sample - loss: 0.0047 - acc: 0.8414 - val_loss: 0.0047 - val_acc: 0.8414\n",
            "Epoch 17/50\n",
            "11997/11997 [==============================] - 4s 303us/sample - loss: 0.0047 - acc: 0.8414 - val_loss: 0.0047 - val_acc: 0.8414\n",
            "Epoch 18/50\n",
            "11997/11997 [==============================] - 4s 298us/sample - loss: 0.0047 - acc: 0.8414 - val_loss: 0.0047 - val_acc: 0.8414\n",
            "Epoch 19/50\n",
            "11997/11997 [==============================] - 4s 297us/sample - loss: 0.0047 - acc: 0.8414 - val_loss: 0.0047 - val_acc: 0.8414\n",
            "Epoch 20/50\n",
            "11997/11997 [==============================] - 4s 300us/sample - loss: 0.0047 - acc: 0.8414 - val_loss: 0.0046 - val_acc: 0.8414\n",
            "Epoch 21/50\n",
            "11997/11997 [==============================] - 4s 300us/sample - loss: 0.0047 - acc: 0.8414 - val_loss: 0.0047 - val_acc: 0.8414\n",
            "Epoch 22/50\n",
            "11997/11997 [==============================] - 4s 300us/sample - loss: 0.0047 - acc: 0.8414 - val_loss: 0.0046 - val_acc: 0.8414\n",
            "Epoch 23/50\n",
            "11997/11997 [==============================] - 4s 298us/sample - loss: 0.0047 - acc: 0.8414 - val_loss: 0.0046 - val_acc: 0.8414\n",
            "Epoch 24/50\n",
            "11997/11997 [==============================] - 4s 308us/sample - loss: 0.0047 - acc: 0.8414 - val_loss: 0.0047 - val_acc: 0.8414\n",
            "Epoch 25/50\n",
            "11997/11997 [==============================] - 4s 304us/sample - loss: 0.0047 - acc: 0.8414 - val_loss: 0.0046 - val_acc: 0.8414\n",
            "Epoch 26/50\n",
            "11997/11997 [==============================] - 4s 301us/sample - loss: 0.0046 - acc: 0.8414 - val_loss: 0.0046 - val_acc: 0.8414\n",
            "Epoch 27/50\n",
            "11997/11997 [==============================] - 4s 299us/sample - loss: 0.0047 - acc: 0.8414 - val_loss: 0.0046 - val_acc: 0.8414\n",
            "Epoch 28/50\n",
            "11997/11997 [==============================] - 4s 299us/sample - loss: 0.0046 - acc: 0.8414 - val_loss: 0.0047 - val_acc: 0.8414\n",
            "Epoch 29/50\n",
            "11997/11997 [==============================] - 4s 302us/sample - loss: 0.0047 - acc: 0.8414 - val_loss: 0.0047 - val_acc: 0.8414\n",
            "Epoch 30/50\n",
            "11997/11997 [==============================] - 4s 304us/sample - loss: 0.0046 - acc: 0.8414 - val_loss: 0.0046 - val_acc: 0.8414\n",
            "Epoch 31/50\n",
            "11997/11997 [==============================] - 4s 301us/sample - loss: 0.0046 - acc: 0.8414 - val_loss: 0.0046 - val_acc: 0.8414\n",
            "Epoch 32/50\n",
            "11997/11997 [==============================] - 4s 301us/sample - loss: 0.0046 - acc: 0.8414 - val_loss: 0.0046 - val_acc: 0.8414\n",
            "Epoch 33/50\n",
            "11997/11997 [==============================] - 4s 300us/sample - loss: 0.0046 - acc: 0.8414 - val_loss: 0.0046 - val_acc: 0.8414\n",
            "Epoch 34/50\n",
            "11997/11997 [==============================] - 4s 308us/sample - loss: 0.0046 - acc: 0.8414 - val_loss: 0.0046 - val_acc: 0.8414\n",
            "Epoch 35/50\n",
            "11997/11997 [==============================] - 4s 299us/sample - loss: 0.0046 - acc: 0.8414 - val_loss: 0.0046 - val_acc: 0.8414\n",
            "Epoch 36/50\n",
            "11997/11997 [==============================] - 4s 298us/sample - loss: 0.0046 - acc: 0.8414 - val_loss: 0.0046 - val_acc: 0.8414\n",
            "Epoch 37/50\n",
            "11997/11997 [==============================] - 4s 297us/sample - loss: 0.0046 - acc: 0.8414 - val_loss: 0.0046 - val_acc: 0.8414\n",
            "Epoch 38/50\n",
            "11997/11997 [==============================] - 4s 298us/sample - loss: 0.0046 - acc: 0.8414 - val_loss: 0.0046 - val_acc: 0.8414\n",
            "Epoch 39/50\n",
            "11997/11997 [==============================] - 4s 305us/sample - loss: 0.0046 - acc: 0.8414 - val_loss: 0.0046 - val_acc: 0.8414\n",
            "Epoch 40/50\n",
            "11997/11997 [==============================] - 4s 297us/sample - loss: 0.0046 - acc: 0.8414 - val_loss: 0.0046 - val_acc: 0.8414\n",
            "Epoch 41/50\n",
            "11997/11997 [==============================] - 4s 312us/sample - loss: 0.0046 - acc: 0.8414 - val_loss: 0.0046 - val_acc: 0.8414\n",
            "Epoch 42/50\n",
            "11997/11997 [==============================] - 4s 306us/sample - loss: 0.0046 - acc: 0.8414 - val_loss: 0.0047 - val_acc: 0.8414\n",
            "Epoch 43/50\n",
            "11997/11997 [==============================] - 4s 303us/sample - loss: 0.0046 - acc: 0.8414 - val_loss: 0.0046 - val_acc: 0.8414\n",
            "Epoch 44/50\n",
            "11997/11997 [==============================] - 4s 308us/sample - loss: 0.0046 - acc: 0.8414 - val_loss: 0.0046 - val_acc: 0.8414\n",
            "Epoch 45/50\n",
            "11997/11997 [==============================] - 4s 303us/sample - loss: 0.0046 - acc: 0.8414 - val_loss: 0.0046 - val_acc: 0.8414\n",
            "Epoch 46/50\n",
            "11997/11997 [==============================] - 4s 303us/sample - loss: 0.0046 - acc: 0.8414 - val_loss: 0.0046 - val_acc: 0.8414\n",
            "Epoch 47/50\n",
            "11997/11997 [==============================] - 4s 299us/sample - loss: 0.0046 - acc: 0.8414 - val_loss: 0.0046 - val_acc: 0.8414\n",
            "Epoch 48/50\n",
            "11997/11997 [==============================] - 4s 305us/sample - loss: 0.0046 - acc: 0.8414 - val_loss: 0.0046 - val_acc: 0.8414\n",
            "Epoch 49/50\n",
            "11997/11997 [==============================] - 4s 303us/sample - loss: 0.0046 - acc: 0.8414 - val_loss: 0.0046 - val_acc: 0.8414\n",
            "Epoch 50/50\n",
            "11997/11997 [==============================] - 4s 306us/sample - loss: 0.0046 - acc: 0.8414 - val_loss: 0.0046 - val_acc: 0.8414\n"
          ],
          "name": "stdout"
        },
        {
          "output_type": "execute_result",
          "data": {
            "text/plain": [
              "<tensorflow.python.keras.callbacks.History at 0x7fc7936a6780>"
            ]
          },
          "metadata": {
            "tags": []
          },
          "execution_count": 39
        }
      ]
    },
    {
      "cell_type": "code",
      "metadata": {
        "id": "VFNvtKzUtMus",
        "colab_type": "code",
        "outputId": "a43bd87f-8f54-40f7-f9bd-ec488f748284",
        "colab": {
          "base_uri": "https://localhost:8080/",
          "height": 1000
        }
      },
      "source": [
        "model.fit(X3, y3, validation_data=(X_test3,y_test3),epochs=50)"
      ],
      "execution_count": 40,
      "outputs": [
        {
          "output_type": "stream",
          "text": [
            "Train on 11997 samples, validate on 11997 samples\n",
            "Epoch 1/50\n",
            "11997/11997 [==============================] - 4s 308us/sample - loss: 0.0032 - acc: 0.8605 - val_loss: 0.0032 - val_acc: 0.8605\n",
            "Epoch 2/50\n",
            "11997/11997 [==============================] - 4s 308us/sample - loss: 0.0032 - acc: 0.8605 - val_loss: 0.0031 - val_acc: 0.8605\n",
            "Epoch 3/50\n",
            "11997/11997 [==============================] - 4s 305us/sample - loss: 0.0032 - acc: 0.8605 - val_loss: 0.0031 - val_acc: 0.8605\n",
            "Epoch 4/50\n",
            "11997/11997 [==============================] - 4s 306us/sample - loss: 0.0032 - acc: 0.8605 - val_loss: 0.0031 - val_acc: 0.8605\n",
            "Epoch 5/50\n",
            "11997/11997 [==============================] - 4s 318us/sample - loss: 0.0032 - acc: 0.8605 - val_loss: 0.0031 - val_acc: 0.8605\n",
            "Epoch 6/50\n",
            "11997/11997 [==============================] - 4s 315us/sample - loss: 0.0031 - acc: 0.8605 - val_loss: 0.0032 - val_acc: 0.8605\n",
            "Epoch 7/50\n",
            "11997/11997 [==============================] - 4s 324us/sample - loss: 0.0031 - acc: 0.8605 - val_loss: 0.0031 - val_acc: 0.8605\n",
            "Epoch 8/50\n",
            "11997/11997 [==============================] - 4s 307us/sample - loss: 0.0031 - acc: 0.8605 - val_loss: 0.0032 - val_acc: 0.8605\n",
            "Epoch 9/50\n",
            "11997/11997 [==============================] - 4s 304us/sample - loss: 0.0031 - acc: 0.8605 - val_loss: 0.0031 - val_acc: 0.8605\n",
            "Epoch 10/50\n",
            "11997/11997 [==============================] - 4s 305us/sample - loss: 0.0031 - acc: 0.8605 - val_loss: 0.0031 - val_acc: 0.8605\n",
            "Epoch 11/50\n",
            "11997/11997 [==============================] - 4s 308us/sample - loss: 0.0031 - acc: 0.8605 - val_loss: 0.0031 - val_acc: 0.8605\n",
            "Epoch 12/50\n",
            "11997/11997 [==============================] - 4s 300us/sample - loss: 0.0031 - acc: 0.8605 - val_loss: 0.0031 - val_acc: 0.8605\n",
            "Epoch 13/50\n",
            "11997/11997 [==============================] - 4s 309us/sample - loss: 0.0031 - acc: 0.8605 - val_loss: 0.0031 - val_acc: 0.8605\n",
            "Epoch 14/50\n",
            "11997/11997 [==============================] - 4s 310us/sample - loss: 0.0031 - acc: 0.8605 - val_loss: 0.0031 - val_acc: 0.8605\n",
            "Epoch 15/50\n",
            "11997/11997 [==============================] - 4s 305us/sample - loss: 0.0031 - acc: 0.8605 - val_loss: 0.0031 - val_acc: 0.8605\n",
            "Epoch 16/50\n",
            "11997/11997 [==============================] - 4s 305us/sample - loss: 0.0031 - acc: 0.8605 - val_loss: 0.0031 - val_acc: 0.8605\n",
            "Epoch 17/50\n",
            "11997/11997 [==============================] - 4s 304us/sample - loss: 0.0031 - acc: 0.8605 - val_loss: 0.0031 - val_acc: 0.8605\n",
            "Epoch 18/50\n",
            "11997/11997 [==============================] - 4s 302us/sample - loss: 0.0031 - acc: 0.8605 - val_loss: 0.0031 - val_acc: 0.8605\n",
            "Epoch 19/50\n",
            "11997/11997 [==============================] - 4s 303us/sample - loss: 0.0031 - acc: 0.8605 - val_loss: 0.0031 - val_acc: 0.8605\n",
            "Epoch 20/50\n",
            "11997/11997 [==============================] - 4s 299us/sample - loss: 0.0031 - acc: 0.8605 - val_loss: 0.0031 - val_acc: 0.8605\n",
            "Epoch 21/50\n",
            "11997/11997 [==============================] - 4s 302us/sample - loss: 0.0031 - acc: 0.8605 - val_loss: 0.0031 - val_acc: 0.8605\n",
            "Epoch 22/50\n",
            "11997/11997 [==============================] - 4s 301us/sample - loss: 0.0031 - acc: 0.8605 - val_loss: 0.0031 - val_acc: 0.8605\n",
            "Epoch 23/50\n",
            "11997/11997 [==============================] - 4s 306us/sample - loss: 0.0031 - acc: 0.8605 - val_loss: 0.0031 - val_acc: 0.8605\n",
            "Epoch 24/50\n",
            "11997/11997 [==============================] - 4s 308us/sample - loss: 0.0031 - acc: 0.8605 - val_loss: 0.0032 - val_acc: 0.8605\n",
            "Epoch 25/50\n",
            "11997/11997 [==============================] - 4s 305us/sample - loss: 0.0031 - acc: 0.8605 - val_loss: 0.0031 - val_acc: 0.8605\n",
            "Epoch 26/50\n",
            "11997/11997 [==============================] - 4s 306us/sample - loss: 0.0031 - acc: 0.8605 - val_loss: 0.0031 - val_acc: 0.8605\n",
            "Epoch 27/50\n",
            "11997/11997 [==============================] - 4s 302us/sample - loss: 0.0031 - acc: 0.8605 - val_loss: 0.0031 - val_acc: 0.8605\n",
            "Epoch 28/50\n",
            "11997/11997 [==============================] - 4s 304us/sample - loss: 0.0031 - acc: 0.8605 - val_loss: 0.0031 - val_acc: 0.8605\n",
            "Epoch 29/50\n",
            "11997/11997 [==============================] - 4s 302us/sample - loss: 0.0031 - acc: 0.8605 - val_loss: 0.0031 - val_acc: 0.8605\n",
            "Epoch 30/50\n",
            "11997/11997 [==============================] - 4s 302us/sample - loss: 0.0031 - acc: 0.8605 - val_loss: 0.0031 - val_acc: 0.8605\n",
            "Epoch 31/50\n",
            "11997/11997 [==============================] - 4s 300us/sample - loss: 0.0031 - acc: 0.8605 - val_loss: 0.0031 - val_acc: 0.8605\n",
            "Epoch 32/50\n",
            "11997/11997 [==============================] - 4s 295us/sample - loss: 0.0031 - acc: 0.8605 - val_loss: 0.0031 - val_acc: 0.8605\n",
            "Epoch 33/50\n",
            "11997/11997 [==============================] - 4s 303us/sample - loss: 0.0031 - acc: 0.8605 - val_loss: 0.0031 - val_acc: 0.8605\n",
            "Epoch 34/50\n",
            "11997/11997 [==============================] - 4s 302us/sample - loss: 0.0031 - acc: 0.8605 - val_loss: 0.0031 - val_acc: 0.8605\n",
            "Epoch 35/50\n",
            "11997/11997 [==============================] - 4s 305us/sample - loss: 0.0031 - acc: 0.8605 - val_loss: 0.0031 - val_acc: 0.8605\n",
            "Epoch 36/50\n",
            "11997/11997 [==============================] - 4s 299us/sample - loss: 0.0031 - acc: 0.8605 - val_loss: 0.0031 - val_acc: 0.8605\n",
            "Epoch 37/50\n",
            "11997/11997 [==============================] - 4s 295us/sample - loss: 0.0031 - acc: 0.8605 - val_loss: 0.0031 - val_acc: 0.8605\n",
            "Epoch 38/50\n",
            "11997/11997 [==============================] - 4s 298us/sample - loss: 0.0031 - acc: 0.8605 - val_loss: 0.0031 - val_acc: 0.8605\n",
            "Epoch 39/50\n",
            "11997/11997 [==============================] - 4s 298us/sample - loss: 0.0031 - acc: 0.8605 - val_loss: 0.0031 - val_acc: 0.8605\n",
            "Epoch 40/50\n",
            "11997/11997 [==============================] - 4s 306us/sample - loss: 0.0031 - acc: 0.8605 - val_loss: 0.0031 - val_acc: 0.8605\n",
            "Epoch 41/50\n",
            "11997/11997 [==============================] - 4s 304us/sample - loss: 0.0031 - acc: 0.8605 - val_loss: 0.0031 - val_acc: 0.8605\n",
            "Epoch 42/50\n",
            "11997/11997 [==============================] - 4s 301us/sample - loss: 0.0031 - acc: 0.8605 - val_loss: 0.0031 - val_acc: 0.8605\n",
            "Epoch 43/50\n",
            "11997/11997 [==============================] - 4s 301us/sample - loss: 0.0031 - acc: 0.8605 - val_loss: 0.0031 - val_acc: 0.8605\n",
            "Epoch 44/50\n",
            "11997/11997 [==============================] - 4s 301us/sample - loss: 0.0031 - acc: 0.8605 - val_loss: 0.0031 - val_acc: 0.8605\n",
            "Epoch 45/50\n",
            "11997/11997 [==============================] - 4s 303us/sample - loss: 0.0031 - acc: 0.8605 - val_loss: 0.0031 - val_acc: 0.8605\n",
            "Epoch 46/50\n",
            "11997/11997 [==============================] - 4s 301us/sample - loss: 0.0031 - acc: 0.8605 - val_loss: 0.0031 - val_acc: 0.8605\n",
            "Epoch 47/50\n",
            "11997/11997 [==============================] - 4s 298us/sample - loss: 0.0031 - acc: 0.8605 - val_loss: 0.0031 - val_acc: 0.8605\n",
            "Epoch 48/50\n",
            "11997/11997 [==============================] - 4s 299us/sample - loss: 0.0031 - acc: 0.8605 - val_loss: 0.0031 - val_acc: 0.8605\n",
            "Epoch 49/50\n",
            "11997/11997 [==============================] - 4s 298us/sample - loss: 0.0031 - acc: 0.8605 - val_loss: 0.0031 - val_acc: 0.8605\n",
            "Epoch 50/50\n",
            "11997/11997 [==============================] - 4s 301us/sample - loss: 0.0031 - acc: 0.8605 - val_loss: 0.0031 - val_acc: 0.8605\n"
          ],
          "name": "stdout"
        },
        {
          "output_type": "execute_result",
          "data": {
            "text/plain": [
              "<tensorflow.python.keras.callbacks.History at 0x7fc7936a6a20>"
            ]
          },
          "metadata": {
            "tags": []
          },
          "execution_count": 40
        }
      ]
    },
    {
      "cell_type": "code",
      "metadata": {
        "id": "SgByKfhitNMk",
        "colab_type": "code",
        "outputId": "74f2b6df-51d1-4fc4-9251-5062d017b821",
        "colab": {
          "base_uri": "https://localhost:8080/",
          "height": 1000
        }
      },
      "source": [
        "model.fit(X4, y4, validation_data=(X_test4,y_test4),epochs=50)"
      ],
      "execution_count": 41,
      "outputs": [
        {
          "output_type": "stream",
          "text": [
            "Train on 11997 samples, validate on 11997 samples\n",
            "Epoch 1/50\n",
            "11997/11997 [==============================] - 4s 301us/sample - loss: 0.0028 - acc: 0.8360 - val_loss: 0.0027 - val_acc: 0.8360\n",
            "Epoch 2/50\n",
            "11997/11997 [==============================] - 4s 300us/sample - loss: 0.0027 - acc: 0.8360 - val_loss: 0.0027 - val_acc: 0.8360\n",
            "Epoch 3/50\n",
            "11997/11997 [==============================] - 4s 300us/sample - loss: 0.0027 - acc: 0.8360 - val_loss: 0.0027 - val_acc: 0.8360\n",
            "Epoch 4/50\n",
            "11997/11997 [==============================] - 4s 310us/sample - loss: 0.0027 - acc: 0.8360 - val_loss: 0.0027 - val_acc: 0.8360\n",
            "Epoch 5/50\n",
            "11997/11997 [==============================] - 4s 303us/sample - loss: 0.0027 - acc: 0.8360 - val_loss: 0.0027 - val_acc: 0.8360\n",
            "Epoch 6/50\n",
            "11997/11997 [==============================] - 4s 303us/sample - loss: 0.0027 - acc: 0.8360 - val_loss: 0.0027 - val_acc: 0.8360\n",
            "Epoch 7/50\n",
            "11997/11997 [==============================] - 4s 304us/sample - loss: 0.0027 - acc: 0.8360 - val_loss: 0.0027 - val_acc: 0.8360\n",
            "Epoch 8/50\n",
            "11997/11997 [==============================] - 4s 295us/sample - loss: 0.0027 - acc: 0.8360 - val_loss: 0.0027 - val_acc: 0.8360\n",
            "Epoch 9/50\n",
            "11997/11997 [==============================] - 4s 292us/sample - loss: 0.0027 - acc: 0.8360 - val_loss: 0.0027 - val_acc: 0.8360\n",
            "Epoch 10/50\n",
            "11997/11997 [==============================] - 4s 298us/sample - loss: 0.0027 - acc: 0.8360 - val_loss: 0.0027 - val_acc: 0.8360\n",
            "Epoch 11/50\n",
            "11997/11997 [==============================] - 4s 302us/sample - loss: 0.0027 - acc: 0.8360 - val_loss: 0.0027 - val_acc: 0.8360\n",
            "Epoch 12/50\n",
            "11997/11997 [==============================] - 4s 299us/sample - loss: 0.0027 - acc: 0.8360 - val_loss: 0.0027 - val_acc: 0.8360\n",
            "Epoch 13/50\n",
            "11997/11997 [==============================] - 4s 298us/sample - loss: 0.0027 - acc: 0.8360 - val_loss: 0.0027 - val_acc: 0.8360\n",
            "Epoch 14/50\n",
            "11997/11997 [==============================] - 4s 299us/sample - loss: 0.0027 - acc: 0.8360 - val_loss: 0.0027 - val_acc: 0.8360\n",
            "Epoch 15/50\n",
            "11997/11997 [==============================] - 4s 297us/sample - loss: 0.0027 - acc: 0.8360 - val_loss: 0.0027 - val_acc: 0.8360\n",
            "Epoch 16/50\n",
            "11997/11997 [==============================] - 4s 299us/sample - loss: 0.0027 - acc: 0.8360 - val_loss: 0.0027 - val_acc: 0.8360\n",
            "Epoch 17/50\n",
            "11997/11997 [==============================] - 4s 297us/sample - loss: 0.0027 - acc: 0.8360 - val_loss: 0.0027 - val_acc: 0.8360\n",
            "Epoch 18/50\n",
            "11997/11997 [==============================] - 3s 291us/sample - loss: 0.0027 - acc: 0.8360 - val_loss: 0.0026 - val_acc: 0.8360\n",
            "Epoch 19/50\n",
            "11997/11997 [==============================] - 4s 295us/sample - loss: 0.0027 - acc: 0.8360 - val_loss: 0.0026 - val_acc: 0.8360\n",
            "Epoch 20/50\n",
            "11997/11997 [==============================] - 4s 297us/sample - loss: 0.0027 - acc: 0.8360 - val_loss: 0.0026 - val_acc: 0.8360\n",
            "Epoch 21/50\n",
            "11997/11997 [==============================] - 4s 303us/sample - loss: 0.0027 - acc: 0.8360 - val_loss: 0.0026 - val_acc: 0.8360\n",
            "Epoch 22/50\n",
            "11997/11997 [==============================] - 4s 300us/sample - loss: 0.0026 - acc: 0.8360 - val_loss: 0.0027 - val_acc: 0.8360\n",
            "Epoch 23/50\n",
            "11997/11997 [==============================] - 4s 302us/sample - loss: 0.0027 - acc: 0.8360 - val_loss: 0.0026 - val_acc: 0.8360\n",
            "Epoch 24/50\n",
            "11997/11997 [==============================] - 4s 299us/sample - loss: 0.0027 - acc: 0.8360 - val_loss: 0.0026 - val_acc: 0.8360\n",
            "Epoch 25/50\n",
            "11997/11997 [==============================] - 4s 297us/sample - loss: 0.0027 - acc: 0.8360 - val_loss: 0.0026 - val_acc: 0.8360\n",
            "Epoch 26/50\n",
            "11997/11997 [==============================] - 4s 295us/sample - loss: 0.0027 - acc: 0.8360 - val_loss: 0.0026 - val_acc: 0.8360\n",
            "Epoch 27/50\n",
            "11997/11997 [==============================] - 4s 300us/sample - loss: 0.0026 - acc: 0.8360 - val_loss: 0.0026 - val_acc: 0.8360\n",
            "Epoch 28/50\n",
            "11997/11997 [==============================] - 4s 298us/sample - loss: 0.0027 - acc: 0.8360 - val_loss: 0.0026 - val_acc: 0.8360\n",
            "Epoch 29/50\n",
            "11997/11997 [==============================] - 4s 300us/sample - loss: 0.0026 - acc: 0.8360 - val_loss: 0.0026 - val_acc: 0.8360\n",
            "Epoch 30/50\n",
            "11997/11997 [==============================] - 4s 299us/sample - loss: 0.0026 - acc: 0.8360 - val_loss: 0.0026 - val_acc: 0.8360\n",
            "Epoch 31/50\n",
            "11997/11997 [==============================] - 4s 296us/sample - loss: 0.0027 - acc: 0.8360 - val_loss: 0.0027 - val_acc: 0.8360\n",
            "Epoch 32/50\n",
            "11997/11997 [==============================] - 4s 301us/sample - loss: 0.0026 - acc: 0.8360 - val_loss: 0.0027 - val_acc: 0.8360\n",
            "Epoch 33/50\n",
            "11997/11997 [==============================] - 4s 296us/sample - loss: 0.0027 - acc: 0.8360 - val_loss: 0.0026 - val_acc: 0.8360\n",
            "Epoch 34/50\n",
            "11997/11997 [==============================] - 4s 305us/sample - loss: 0.0026 - acc: 0.8360 - val_loss: 0.0026 - val_acc: 0.8360\n",
            "Epoch 35/50\n",
            "11997/11997 [==============================] - 4s 302us/sample - loss: 0.0026 - acc: 0.8360 - val_loss: 0.0027 - val_acc: 0.8360\n",
            "Epoch 36/50\n",
            "11997/11997 [==============================] - 4s 293us/sample - loss: 0.0026 - acc: 0.8360 - val_loss: 0.0026 - val_acc: 0.8360\n",
            "Epoch 37/50\n",
            "11997/11997 [==============================] - 4s 296us/sample - loss: 0.0026 - acc: 0.8360 - val_loss: 0.0026 - val_acc: 0.8360\n",
            "Epoch 38/50\n",
            "11997/11997 [==============================] - 4s 298us/sample - loss: 0.0026 - acc: 0.8360 - val_loss: 0.0026 - val_acc: 0.8360\n",
            "Epoch 39/50\n",
            "11997/11997 [==============================] - 4s 296us/sample - loss: 0.0026 - acc: 0.8360 - val_loss: 0.0026 - val_acc: 0.8360\n",
            "Epoch 40/50\n",
            "11997/11997 [==============================] - 4s 305us/sample - loss: 0.0026 - acc: 0.8360 - val_loss: 0.0026 - val_acc: 0.8360\n",
            "Epoch 41/50\n",
            "11997/11997 [==============================] - 4s 305us/sample - loss: 0.0027 - acc: 0.8360 - val_loss: 0.0026 - val_acc: 0.8360\n",
            "Epoch 42/50\n",
            "11997/11997 [==============================] - 4s 307us/sample - loss: 0.0026 - acc: 0.8360 - val_loss: 0.0027 - val_acc: 0.8360\n",
            "Epoch 43/50\n",
            "11997/11997 [==============================] - 4s 304us/sample - loss: 0.0027 - acc: 0.8360 - val_loss: 0.0026 - val_acc: 0.8360\n",
            "Epoch 44/50\n",
            "11997/11997 [==============================] - 4s 299us/sample - loss: 0.0026 - acc: 0.8360 - val_loss: 0.0026 - val_acc: 0.8360\n",
            "Epoch 45/50\n",
            "11997/11997 [==============================] - 4s 293us/sample - loss: 0.0026 - acc: 0.8360 - val_loss: 0.0026 - val_acc: 0.8360\n",
            "Epoch 46/50\n",
            "11997/11997 [==============================] - 4s 297us/sample - loss: 0.0026 - acc: 0.8360 - val_loss: 0.0026 - val_acc: 0.8360\n",
            "Epoch 47/50\n",
            "11997/11997 [==============================] - 4s 298us/sample - loss: 0.0026 - acc: 0.8360 - val_loss: 0.0026 - val_acc: 0.8360\n",
            "Epoch 48/50\n",
            "11997/11997 [==============================] - 4s 305us/sample - loss: 0.0026 - acc: 0.8360 - val_loss: 0.0026 - val_acc: 0.8360\n",
            "Epoch 49/50\n",
            "11997/11997 [==============================] - 4s 301us/sample - loss: 0.0026 - acc: 0.8360 - val_loss: 0.0026 - val_acc: 0.8360\n",
            "Epoch 50/50\n",
            "11997/11997 [==============================] - 4s 297us/sample - loss: 0.0026 - acc: 0.8360 - val_loss: 0.0026 - val_acc: 0.8360\n"
          ],
          "name": "stdout"
        },
        {
          "output_type": "execute_result",
          "data": {
            "text/plain": [
              "<tensorflow.python.keras.callbacks.History at 0x7fc7936a6b00>"
            ]
          },
          "metadata": {
            "tags": []
          },
          "execution_count": 41
        }
      ]
    },
    {
      "cell_type": "code",
      "metadata": {
        "id": "Pwz3PEtJtNcq",
        "colab_type": "code",
        "outputId": "c8d4b28a-837c-49db-9141-a908303e5db1",
        "colab": {
          "base_uri": "https://localhost:8080/",
          "height": 1000
        }
      },
      "source": [
        "model.fit(X5, y5, validation_data=(X_test5,y_test5),epochs=50)"
      ],
      "execution_count": 42,
      "outputs": [
        {
          "output_type": "stream",
          "text": [
            "Train on 11997 samples, validate on 11997 samples\n",
            "Epoch 1/50\n",
            "11997/11997 [==============================] - 4s 298us/sample - loss: 0.0019 - acc: 0.8467 - val_loss: 0.0018 - val_acc: 0.8467\n",
            "Epoch 2/50\n",
            "11997/11997 [==============================] - 4s 299us/sample - loss: 0.0018 - acc: 0.8467 - val_loss: 0.0017 - val_acc: 0.8467\n",
            "Epoch 3/50\n",
            "11997/11997 [==============================] - 4s 299us/sample - loss: 0.0018 - acc: 0.8467 - val_loss: 0.0017 - val_acc: 0.8467\n",
            "Epoch 4/50\n",
            "11997/11997 [==============================] - 4s 304us/sample - loss: 0.0018 - acc: 0.8467 - val_loss: 0.0017 - val_acc: 0.8467\n",
            "Epoch 5/50\n",
            "11997/11997 [==============================] - 4s 301us/sample - loss: 0.0017 - acc: 0.8467 - val_loss: 0.0018 - val_acc: 0.8467\n",
            "Epoch 6/50\n",
            "11997/11997 [==============================] - 4s 298us/sample - loss: 0.0017 - acc: 0.8467 - val_loss: 0.0017 - val_acc: 0.8467\n",
            "Epoch 7/50\n",
            "11997/11997 [==============================] - 4s 303us/sample - loss: 0.0017 - acc: 0.8467 - val_loss: 0.0017 - val_acc: 0.8467\n",
            "Epoch 8/50\n",
            "11997/11997 [==============================] - 4s 299us/sample - loss: 0.0017 - acc: 0.8467 - val_loss: 0.0017 - val_acc: 0.8467\n",
            "Epoch 9/50\n",
            "11997/11997 [==============================] - 4s 296us/sample - loss: 0.0017 - acc: 0.8467 - val_loss: 0.0017 - val_acc: 0.8467\n",
            "Epoch 10/50\n",
            "11997/11997 [==============================] - 4s 297us/sample - loss: 0.0017 - acc: 0.8467 - val_loss: 0.0017 - val_acc: 0.8467\n",
            "Epoch 11/50\n",
            "11997/11997 [==============================] - 4s 299us/sample - loss: 0.0017 - acc: 0.8467 - val_loss: 0.0017 - val_acc: 0.8467\n",
            "Epoch 12/50\n",
            "11997/11997 [==============================] - 3s 291us/sample - loss: 0.0017 - acc: 0.8467 - val_loss: 0.0017 - val_acc: 0.8467\n",
            "Epoch 13/50\n",
            "11997/11997 [==============================] - 4s 294us/sample - loss: 0.0017 - acc: 0.8467 - val_loss: 0.0017 - val_acc: 0.8467\n",
            "Epoch 14/50\n",
            "11997/11997 [==============================] - 3s 291us/sample - loss: 0.0017 - acc: 0.8467 - val_loss: 0.0017 - val_acc: 0.8467\n",
            "Epoch 15/50\n",
            "11997/11997 [==============================] - 4s 292us/sample - loss: 0.0017 - acc: 0.8467 - val_loss: 0.0017 - val_acc: 0.8467\n",
            "Epoch 16/50\n",
            "11997/11997 [==============================] - 4s 299us/sample - loss: 0.0017 - acc: 0.8467 - val_loss: 0.0017 - val_acc: 0.8467\n",
            "Epoch 17/50\n",
            "11997/11997 [==============================] - 4s 293us/sample - loss: 0.0017 - acc: 0.8467 - val_loss: 0.0017 - val_acc: 0.8467\n",
            "Epoch 18/50\n",
            "11997/11997 [==============================] - 4s 295us/sample - loss: 0.0017 - acc: 0.8467 - val_loss: 0.0017 - val_acc: 0.8467\n",
            "Epoch 19/50\n",
            "11997/11997 [==============================] - 4s 292us/sample - loss: 0.0017 - acc: 0.8467 - val_loss: 0.0018 - val_acc: 0.8467\n",
            "Epoch 20/50\n",
            "11997/11997 [==============================] - 3s 292us/sample - loss: 0.0017 - acc: 0.8467 - val_loss: 0.0017 - val_acc: 0.8467\n",
            "Epoch 21/50\n",
            "11997/11997 [==============================] - 4s 300us/sample - loss: 0.0017 - acc: 0.8467 - val_loss: 0.0017 - val_acc: 0.8467\n",
            "Epoch 22/50\n",
            "11997/11997 [==============================] - 4s 294us/sample - loss: 0.0017 - acc: 0.8467 - val_loss: 0.0017 - val_acc: 0.8467\n",
            "Epoch 23/50\n",
            "11997/11997 [==============================] - 4s 300us/sample - loss: 0.0017 - acc: 0.8467 - val_loss: 0.0017 - val_acc: 0.8467\n",
            "Epoch 24/50\n",
            "11997/11997 [==============================] - 4s 301us/sample - loss: 0.0017 - acc: 0.8467 - val_loss: 0.0017 - val_acc: 0.8467\n",
            "Epoch 25/50\n",
            "11997/11997 [==============================] - 4s 296us/sample - loss: 0.0017 - acc: 0.8467 - val_loss: 0.0017 - val_acc: 0.8467\n",
            "Epoch 26/50\n",
            "11997/11997 [==============================] - 4s 296us/sample - loss: 0.0017 - acc: 0.8467 - val_loss: 0.0017 - val_acc: 0.8467\n",
            "Epoch 27/50\n",
            "11997/11997 [==============================] - 4s 295us/sample - loss: 0.0017 - acc: 0.8467 - val_loss: 0.0017 - val_acc: 0.8467\n",
            "Epoch 28/50\n",
            "11997/11997 [==============================] - 3s 291us/sample - loss: 0.0017 - acc: 0.8467 - val_loss: 0.0017 - val_acc: 0.8467\n",
            "Epoch 29/50\n",
            "11997/11997 [==============================] - 4s 293us/sample - loss: 0.0017 - acc: 0.8467 - val_loss: 0.0017 - val_acc: 0.8467\n",
            "Epoch 30/50\n",
            "11997/11997 [==============================] - 4s 296us/sample - loss: 0.0017 - acc: 0.8467 - val_loss: 0.0017 - val_acc: 0.8467\n",
            "Epoch 31/50\n",
            "11997/11997 [==============================] - 4s 296us/sample - loss: 0.0017 - acc: 0.8467 - val_loss: 0.0017 - val_acc: 0.8467\n",
            "Epoch 32/50\n",
            "11997/11997 [==============================] - 3s 288us/sample - loss: 0.0017 - acc: 0.8467 - val_loss: 0.0017 - val_acc: 0.8467\n",
            "Epoch 33/50\n",
            "11997/11997 [==============================] - 4s 293us/sample - loss: 0.0017 - acc: 0.8467 - val_loss: 0.0017 - val_acc: 0.8467\n",
            "Epoch 34/50\n",
            "11997/11997 [==============================] - 3s 291us/sample - loss: 0.0017 - acc: 0.8467 - val_loss: 0.0017 - val_acc: 0.8467\n",
            "Epoch 35/50\n",
            "11997/11997 [==============================] - 3s 288us/sample - loss: 0.0017 - acc: 0.8467 - val_loss: 0.0017 - val_acc: 0.8467\n",
            "Epoch 36/50\n",
            "11997/11997 [==============================] - 3s 292us/sample - loss: 0.0017 - acc: 0.8467 - val_loss: 0.0017 - val_acc: 0.8467\n",
            "Epoch 37/50\n",
            "11997/11997 [==============================] - 4s 293us/sample - loss: 0.0017 - acc: 0.8467 - val_loss: 0.0017 - val_acc: 0.8467\n",
            "Epoch 38/50\n",
            "11997/11997 [==============================] - 4s 297us/sample - loss: 0.0017 - acc: 0.8467 - val_loss: 0.0017 - val_acc: 0.8467\n",
            "Epoch 39/50\n",
            "11997/11997 [==============================] - 4s 295us/sample - loss: 0.0017 - acc: 0.8467 - val_loss: 0.0017 - val_acc: 0.8467\n",
            "Epoch 40/50\n",
            "11997/11997 [==============================] - 4s 293us/sample - loss: 0.0017 - acc: 0.8467 - val_loss: 0.0017 - val_acc: 0.8467\n",
            "Epoch 41/50\n",
            "11997/11997 [==============================] - 4s 302us/sample - loss: 0.0017 - acc: 0.8467 - val_loss: 0.0017 - val_acc: 0.8467\n",
            "Epoch 42/50\n",
            "11997/11997 [==============================] - 4s 301us/sample - loss: 0.0017 - acc: 0.8467 - val_loss: 0.0017 - val_acc: 0.8467\n",
            "Epoch 43/50\n",
            "11997/11997 [==============================] - 4s 296us/sample - loss: 0.0017 - acc: 0.8467 - val_loss: 0.0017 - val_acc: 0.8467\n",
            "Epoch 44/50\n",
            "11997/11997 [==============================] - 4s 299us/sample - loss: 0.0017 - acc: 0.8467 - val_loss: 0.0017 - val_acc: 0.8467\n",
            "Epoch 45/50\n",
            "11997/11997 [==============================] - 4s 304us/sample - loss: 0.0017 - acc: 0.8467 - val_loss: 0.0017 - val_acc: 0.8467\n",
            "Epoch 46/50\n",
            "11997/11997 [==============================] - 4s 300us/sample - loss: 0.0017 - acc: 0.8467 - val_loss: 0.0017 - val_acc: 0.8467\n",
            "Epoch 47/50\n",
            "11997/11997 [==============================] - 4s 298us/sample - loss: 0.0017 - acc: 0.8467 - val_loss: 0.0017 - val_acc: 0.8467\n",
            "Epoch 48/50\n",
            "11997/11997 [==============================] - 4s 300us/sample - loss: 0.0017 - acc: 0.8467 - val_loss: 0.0017 - val_acc: 0.8467\n",
            "Epoch 49/50\n",
            "11997/11997 [==============================] - 4s 302us/sample - loss: 0.0017 - acc: 0.8467 - val_loss: 0.0017 - val_acc: 0.8467\n",
            "Epoch 50/50\n",
            "11997/11997 [==============================] - 4s 301us/sample - loss: 0.0017 - acc: 0.8467 - val_loss: 0.0017 - val_acc: 0.8467\n"
          ],
          "name": "stdout"
        },
        {
          "output_type": "execute_result",
          "data": {
            "text/plain": [
              "<tensorflow.python.keras.callbacks.History at 0x7fc7937f1240>"
            ]
          },
          "metadata": {
            "tags": []
          },
          "execution_count": 42
        }
      ]
    },
    {
      "cell_type": "code",
      "metadata": {
        "id": "mJL5gGhXtNqT",
        "colab_type": "code",
        "outputId": "1239eec3-c8c5-46d3-9631-3ce46cf51c87",
        "colab": {
          "base_uri": "https://localhost:8080/",
          "height": 1000
        }
      },
      "source": [
        "model.fit(X6, y6, validation_data=(X_test6,y_test6),epochs=50)"
      ],
      "execution_count": 43,
      "outputs": [
        {
          "output_type": "stream",
          "text": [
            "Train on 11997 samples, validate on 11997 samples\n",
            "Epoch 1/50\n",
            "11997/11997 [==============================] - 4s 295us/sample - loss: 0.0031 - acc: 0.8141 - val_loss: 0.0030 - val_acc: 0.8141\n",
            "Epoch 2/50\n",
            "11997/11997 [==============================] - 4s 300us/sample - loss: 0.0031 - acc: 0.8141 - val_loss: 0.0030 - val_acc: 0.8141\n",
            "Epoch 3/50\n",
            "11997/11997 [==============================] - 4s 309us/sample - loss: 0.0031 - acc: 0.8141 - val_loss: 0.0030 - val_acc: 0.8141\n",
            "Epoch 4/50\n",
            "11997/11997 [==============================] - 4s 309us/sample - loss: 0.0030 - acc: 0.8141 - val_loss: 0.0030 - val_acc: 0.8141\n",
            "Epoch 5/50\n",
            "11997/11997 [==============================] - 4s 313us/sample - loss: 0.0030 - acc: 0.8141 - val_loss: 0.0030 - val_acc: 0.8141\n",
            "Epoch 6/50\n",
            "11997/11997 [==============================] - 4s 311us/sample - loss: 0.0030 - acc: 0.8141 - val_loss: 0.0030 - val_acc: 0.8141\n",
            "Epoch 7/50\n",
            "11997/11997 [==============================] - 4s 312us/sample - loss: 0.0030 - acc: 0.8141 - val_loss: 0.0030 - val_acc: 0.8141\n",
            "Epoch 8/50\n",
            "11997/11997 [==============================] - 4s 313us/sample - loss: 0.0030 - acc: 0.8141 - val_loss: 0.0030 - val_acc: 0.8141\n",
            "Epoch 9/50\n",
            "11997/11997 [==============================] - 4s 321us/sample - loss: 0.0030 - acc: 0.8141 - val_loss: 0.0030 - val_acc: 0.8141\n",
            "Epoch 10/50\n",
            "11997/11997 [==============================] - 4s 307us/sample - loss: 0.0030 - acc: 0.8141 - val_loss: 0.0030 - val_acc: 0.8141\n",
            "Epoch 11/50\n",
            "11997/11997 [==============================] - 4s 305us/sample - loss: 0.0030 - acc: 0.8141 - val_loss: 0.0030 - val_acc: 0.8141\n",
            "Epoch 12/50\n",
            "11997/11997 [==============================] - 4s 308us/sample - loss: 0.0030 - acc: 0.8141 - val_loss: 0.0030 - val_acc: 0.8141\n",
            "Epoch 13/50\n",
            "11997/11997 [==============================] - 4s 312us/sample - loss: 0.0030 - acc: 0.8141 - val_loss: 0.0030 - val_acc: 0.8141\n",
            "Epoch 14/50\n",
            "11997/11997 [==============================] - 4s 306us/sample - loss: 0.0030 - acc: 0.8141 - val_loss: 0.0030 - val_acc: 0.8141\n",
            "Epoch 15/50\n",
            "11997/11997 [==============================] - 4s 312us/sample - loss: 0.0030 - acc: 0.8141 - val_loss: 0.0030 - val_acc: 0.8141\n",
            "Epoch 16/50\n",
            "11997/11997 [==============================] - 4s 314us/sample - loss: 0.0030 - acc: 0.8141 - val_loss: 0.0030 - val_acc: 0.8141\n",
            "Epoch 17/50\n",
            "11997/11997 [==============================] - 4s 319us/sample - loss: 0.0030 - acc: 0.8141 - val_loss: 0.0030 - val_acc: 0.8141\n",
            "Epoch 18/50\n",
            "11997/11997 [==============================] - 4s 312us/sample - loss: 0.0030 - acc: 0.8141 - val_loss: 0.0030 - val_acc: 0.8141\n",
            "Epoch 19/50\n",
            "11997/11997 [==============================] - 4s 308us/sample - loss: 0.0030 - acc: 0.8141 - val_loss: 0.0030 - val_acc: 0.8141\n",
            "Epoch 20/50\n",
            "11997/11997 [==============================] - 4s 302us/sample - loss: 0.0030 - acc: 0.8141 - val_loss: 0.0030 - val_acc: 0.8141\n",
            "Epoch 21/50\n",
            "11997/11997 [==============================] - 4s 306us/sample - loss: 0.0030 - acc: 0.8141 - val_loss: 0.0030 - val_acc: 0.8141\n",
            "Epoch 22/50\n",
            "11997/11997 [==============================] - 4s 303us/sample - loss: 0.0030 - acc: 0.8141 - val_loss: 0.0030 - val_acc: 0.8141\n",
            "Epoch 23/50\n",
            "11997/11997 [==============================] - 4s 311us/sample - loss: 0.0030 - acc: 0.8141 - val_loss: 0.0030 - val_acc: 0.8141\n",
            "Epoch 24/50\n",
            "11997/11997 [==============================] - 4s 305us/sample - loss: 0.0030 - acc: 0.8141 - val_loss: 0.0030 - val_acc: 0.8141\n",
            "Epoch 25/50\n",
            "11997/11997 [==============================] - 4s 301us/sample - loss: 0.0030 - acc: 0.8141 - val_loss: 0.0030 - val_acc: 0.8141\n",
            "Epoch 26/50\n",
            "11997/11997 [==============================] - 4s 309us/sample - loss: 0.0030 - acc: 0.8141 - val_loss: 0.0030 - val_acc: 0.8141\n",
            "Epoch 27/50\n",
            "11997/11997 [==============================] - 4s 314us/sample - loss: 0.0030 - acc: 0.8141 - val_loss: 0.0030 - val_acc: 0.8141\n",
            "Epoch 28/50\n",
            "11997/11997 [==============================] - 4s 320us/sample - loss: 0.0030 - acc: 0.8141 - val_loss: 0.0030 - val_acc: 0.8141\n",
            "Epoch 29/50\n",
            "11997/11997 [==============================] - 4s 321us/sample - loss: 0.0030 - acc: 0.8141 - val_loss: 0.0030 - val_acc: 0.8141\n",
            "Epoch 30/50\n",
            "11997/11997 [==============================] - 4s 307us/sample - loss: 0.0030 - acc: 0.8141 - val_loss: 0.0030 - val_acc: 0.8141\n",
            "Epoch 31/50\n",
            "11997/11997 [==============================] - 4s 307us/sample - loss: 0.0030 - acc: 0.8141 - val_loss: 0.0030 - val_acc: 0.8141\n",
            "Epoch 32/50\n",
            "11997/11997 [==============================] - 4s 324us/sample - loss: 0.0030 - acc: 0.8141 - val_loss: 0.0030 - val_acc: 0.8141\n",
            "Epoch 33/50\n",
            "11997/11997 [==============================] - 4s 317us/sample - loss: 0.0030 - acc: 0.8141 - val_loss: 0.0030 - val_acc: 0.8141\n",
            "Epoch 34/50\n",
            "11997/11997 [==============================] - 4s 304us/sample - loss: 0.0030 - acc: 0.8141 - val_loss: 0.0030 - val_acc: 0.8141\n",
            "Epoch 35/50\n",
            "11997/11997 [==============================] - 4s 306us/sample - loss: 0.0030 - acc: 0.8141 - val_loss: 0.0030 - val_acc: 0.8141\n",
            "Epoch 36/50\n",
            "11997/11997 [==============================] - 4s 303us/sample - loss: 0.0030 - acc: 0.8141 - val_loss: 0.0030 - val_acc: 0.8141\n",
            "Epoch 37/50\n",
            "11997/11997 [==============================] - 4s 308us/sample - loss: 0.0030 - acc: 0.8141 - val_loss: 0.0030 - val_acc: 0.8141\n",
            "Epoch 38/50\n",
            "11997/11997 [==============================] - 4s 299us/sample - loss: 0.0030 - acc: 0.8141 - val_loss: 0.0030 - val_acc: 0.8141\n",
            "Epoch 39/50\n",
            "11997/11997 [==============================] - 4s 305us/sample - loss: 0.0030 - acc: 0.8141 - val_loss: 0.0030 - val_acc: 0.8141\n",
            "Epoch 40/50\n",
            "11997/11997 [==============================] - 4s 312us/sample - loss: 0.0030 - acc: 0.8141 - val_loss: 0.0030 - val_acc: 0.8141\n",
            "Epoch 41/50\n",
            "11997/11997 [==============================] - 4s 302us/sample - loss: 0.0030 - acc: 0.8141 - val_loss: 0.0030 - val_acc: 0.8141\n",
            "Epoch 42/50\n",
            "11997/11997 [==============================] - 4s 303us/sample - loss: 0.0030 - acc: 0.8141 - val_loss: 0.0030 - val_acc: 0.8141\n",
            "Epoch 43/50\n",
            "11997/11997 [==============================] - 4s 310us/sample - loss: 0.0030 - acc: 0.8141 - val_loss: 0.0030 - val_acc: 0.8141\n",
            "Epoch 44/50\n",
            "11997/11997 [==============================] - 4s 301us/sample - loss: 0.0030 - acc: 0.8141 - val_loss: 0.0029 - val_acc: 0.8141\n",
            "Epoch 45/50\n",
            "11997/11997 [==============================] - 4s 304us/sample - loss: 0.0030 - acc: 0.8141 - val_loss: 0.0029 - val_acc: 0.8141\n",
            "Epoch 46/50\n",
            "11997/11997 [==============================] - 4s 305us/sample - loss: 0.0030 - acc: 0.8141 - val_loss: 0.0030 - val_acc: 0.8141\n",
            "Epoch 47/50\n",
            "11997/11997 [==============================] - 4s 304us/sample - loss: 0.0030 - acc: 0.8141 - val_loss: 0.0029 - val_acc: 0.8141\n",
            "Epoch 48/50\n",
            "11997/11997 [==============================] - 4s 302us/sample - loss: 0.0030 - acc: 0.8141 - val_loss: 0.0029 - val_acc: 0.8141\n",
            "Epoch 49/50\n",
            "11997/11997 [==============================] - 4s 304us/sample - loss: 0.0029 - acc: 0.8141 - val_loss: 0.0029 - val_acc: 0.8141\n",
            "Epoch 50/50\n",
            "11997/11997 [==============================] - 4s 304us/sample - loss: 0.0030 - acc: 0.8141 - val_loss: 0.0030 - val_acc: 0.8141\n"
          ],
          "name": "stdout"
        },
        {
          "output_type": "execute_result",
          "data": {
            "text/plain": [
              "<tensorflow.python.keras.callbacks.History at 0x7fc7936a6cf8>"
            ]
          },
          "metadata": {
            "tags": []
          },
          "execution_count": 43
        }
      ]
    },
    {
      "cell_type": "code",
      "metadata": {
        "id": "GMeE8OZ5tN17",
        "colab_type": "code",
        "outputId": "51b81421-197c-4405-b419-7f903a561450",
        "colab": {
          "base_uri": "https://localhost:8080/",
          "height": 1000
        }
      },
      "source": [
        "model.fit(X7, y7, validation_data=(X_test7,y_test7),epochs=50)"
      ],
      "execution_count": 44,
      "outputs": [
        {
          "output_type": "stream",
          "text": [
            "Train on 11997 samples, validate on 11997 samples\n",
            "Epoch 1/50\n",
            "11997/11997 [==============================] - 4s 305us/sample - loss: 0.0035 - acc: 0.8333 - val_loss: 0.0034 - val_acc: 0.8333\n",
            "Epoch 2/50\n",
            "11997/11997 [==============================] - 4s 305us/sample - loss: 0.0034 - acc: 0.8333 - val_loss: 0.0034 - val_acc: 0.8333\n",
            "Epoch 3/50\n",
            "11997/11997 [==============================] - 4s 309us/sample - loss: 0.0034 - acc: 0.8333 - val_loss: 0.0034 - val_acc: 0.8333\n",
            "Epoch 4/50\n",
            "11997/11997 [==============================] - 4s 303us/sample - loss: 0.0034 - acc: 0.8333 - val_loss: 0.0034 - val_acc: 0.8333\n",
            "Epoch 5/50\n",
            "11997/11997 [==============================] - 4s 307us/sample - loss: 0.0034 - acc: 0.8333 - val_loss: 0.0034 - val_acc: 0.8333\n",
            "Epoch 6/50\n",
            "11997/11997 [==============================] - 4s 308us/sample - loss: 0.0034 - acc: 0.8333 - val_loss: 0.0033 - val_acc: 0.8333\n",
            "Epoch 7/50\n",
            "11997/11997 [==============================] - 4s 303us/sample - loss: 0.0034 - acc: 0.8333 - val_loss: 0.0033 - val_acc: 0.8333\n",
            "Epoch 8/50\n",
            "11997/11997 [==============================] - 4s 306us/sample - loss: 0.0033 - acc: 0.8333 - val_loss: 0.0033 - val_acc: 0.8333\n",
            "Epoch 9/50\n",
            "11997/11997 [==============================] - 4s 304us/sample - loss: 0.0034 - acc: 0.8333 - val_loss: 0.0033 - val_acc: 0.8333\n",
            "Epoch 10/50\n",
            "11997/11997 [==============================] - 4s 306us/sample - loss: 0.0033 - acc: 0.8333 - val_loss: 0.0033 - val_acc: 0.8333\n",
            "Epoch 11/50\n",
            "11997/11997 [==============================] - 4s 305us/sample - loss: 0.0033 - acc: 0.8333 - val_loss: 0.0033 - val_acc: 0.8333\n",
            "Epoch 12/50\n",
            "11997/11997 [==============================] - 4s 306us/sample - loss: 0.0033 - acc: 0.8333 - val_loss: 0.0033 - val_acc: 0.8333\n",
            "Epoch 13/50\n",
            "11997/11997 [==============================] - 4s 305us/sample - loss: 0.0033 - acc: 0.8333 - val_loss: 0.0033 - val_acc: 0.8333\n",
            "Epoch 14/50\n",
            "11997/11997 [==============================] - 4s 305us/sample - loss: 0.0033 - acc: 0.8333 - val_loss: 0.0033 - val_acc: 0.8333\n",
            "Epoch 15/50\n",
            "11997/11997 [==============================] - 4s 303us/sample - loss: 0.0033 - acc: 0.8333 - val_loss: 0.0033 - val_acc: 0.8333\n",
            "Epoch 16/50\n",
            "11997/11997 [==============================] - 4s 304us/sample - loss: 0.0033 - acc: 0.8333 - val_loss: 0.0033 - val_acc: 0.8333\n",
            "Epoch 17/50\n",
            "11997/11997 [==============================] - 4s 302us/sample - loss: 0.0033 - acc: 0.8333 - val_loss: 0.0034 - val_acc: 0.8333\n",
            "Epoch 18/50\n",
            "11997/11997 [==============================] - 4s 305us/sample - loss: 0.0033 - acc: 0.8333 - val_loss: 0.0033 - val_acc: 0.8333\n",
            "Epoch 19/50\n",
            "11997/11997 [==============================] - 4s 303us/sample - loss: 0.0033 - acc: 0.8333 - val_loss: 0.0033 - val_acc: 0.8333\n",
            "Epoch 20/50\n",
            "11997/11997 [==============================] - 4s 312us/sample - loss: 0.0033 - acc: 0.8333 - val_loss: 0.0033 - val_acc: 0.8333\n",
            "Epoch 21/50\n",
            "11997/11997 [==============================] - 4s 303us/sample - loss: 0.0033 - acc: 0.8333 - val_loss: 0.0034 - val_acc: 0.8333\n",
            "Epoch 22/50\n",
            "11997/11997 [==============================] - 4s 314us/sample - loss: 0.0033 - acc: 0.8333 - val_loss: 0.0033 - val_acc: 0.8333\n",
            "Epoch 23/50\n",
            "11997/11997 [==============================] - 4s 304us/sample - loss: 0.0033 - acc: 0.8333 - val_loss: 0.0033 - val_acc: 0.8333\n",
            "Epoch 24/50\n",
            "11997/11997 [==============================] - 4s 305us/sample - loss: 0.0033 - acc: 0.8333 - val_loss: 0.0033 - val_acc: 0.8333\n",
            "Epoch 25/50\n",
            "11997/11997 [==============================] - 4s 304us/sample - loss: 0.0033 - acc: 0.8333 - val_loss: 0.0033 - val_acc: 0.8333\n",
            "Epoch 26/50\n",
            "11997/11997 [==============================] - 4s 305us/sample - loss: 0.0033 - acc: 0.8333 - val_loss: 0.0033 - val_acc: 0.8333\n",
            "Epoch 27/50\n",
            "11997/11997 [==============================] - 4s 304us/sample - loss: 0.0033 - acc: 0.8333 - val_loss: 0.0033 - val_acc: 0.8333\n",
            "Epoch 28/50\n",
            "11997/11997 [==============================] - 4s 310us/sample - loss: 0.0033 - acc: 0.8333 - val_loss: 0.0033 - val_acc: 0.8333\n",
            "Epoch 29/50\n",
            "11997/11997 [==============================] - 4s 301us/sample - loss: 0.0033 - acc: 0.8333 - val_loss: 0.0033 - val_acc: 0.8333\n",
            "Epoch 30/50\n",
            "11997/11997 [==============================] - 4s 307us/sample - loss: 0.0033 - acc: 0.8333 - val_loss: 0.0033 - val_acc: 0.8333\n",
            "Epoch 31/50\n",
            "11997/11997 [==============================] - 4s 305us/sample - loss: 0.0033 - acc: 0.8333 - val_loss: 0.0033 - val_acc: 0.8333\n",
            "Epoch 32/50\n",
            "11997/11997 [==============================] - 4s 302us/sample - loss: 0.0033 - acc: 0.8333 - val_loss: 0.0033 - val_acc: 0.8333\n",
            "Epoch 33/50\n",
            "11997/11997 [==============================] - 4s 306us/sample - loss: 0.0033 - acc: 0.8333 - val_loss: 0.0033 - val_acc: 0.8333\n",
            "Epoch 34/50\n",
            "11997/11997 [==============================] - 4s 305us/sample - loss: 0.0033 - acc: 0.8333 - val_loss: 0.0033 - val_acc: 0.8333\n",
            "Epoch 35/50\n",
            "11997/11997 [==============================] - 4s 306us/sample - loss: 0.0033 - acc: 0.8333 - val_loss: 0.0033 - val_acc: 0.8333\n",
            "Epoch 36/50\n",
            "11997/11997 [==============================] - 4s 312us/sample - loss: 0.0033 - acc: 0.8333 - val_loss: 0.0033 - val_acc: 0.8333\n",
            "Epoch 37/50\n",
            "11997/11997 [==============================] - 4s 302us/sample - loss: 0.0033 - acc: 0.8333 - val_loss: 0.0033 - val_acc: 0.8333\n",
            "Epoch 38/50\n",
            "11997/11997 [==============================] - 4s 307us/sample - loss: 0.0033 - acc: 0.8333 - val_loss: 0.0032 - val_acc: 0.8333\n",
            "Epoch 39/50\n",
            "11997/11997 [==============================] - 4s 308us/sample - loss: 0.0033 - acc: 0.8333 - val_loss: 0.0033 - val_acc: 0.8333\n",
            "Epoch 40/50\n",
            "11997/11997 [==============================] - 4s 304us/sample - loss: 0.0033 - acc: 0.8333 - val_loss: 0.0032 - val_acc: 0.8333\n",
            "Epoch 41/50\n",
            "11997/11997 [==============================] - 4s 302us/sample - loss: 0.0033 - acc: 0.8333 - val_loss: 0.0032 - val_acc: 0.8333\n",
            "Epoch 42/50\n",
            "11997/11997 [==============================] - 4s 304us/sample - loss: 0.0033 - acc: 0.8333 - val_loss: 0.0033 - val_acc: 0.8333\n",
            "Epoch 43/50\n",
            "11997/11997 [==============================] - 4s 305us/sample - loss: 0.0033 - acc: 0.8333 - val_loss: 0.0032 - val_acc: 0.8333\n",
            "Epoch 44/50\n",
            "11997/11997 [==============================] - 4s 307us/sample - loss: 0.0033 - acc: 0.8333 - val_loss: 0.0033 - val_acc: 0.8333\n",
            "Epoch 45/50\n",
            "11997/11997 [==============================] - 4s 302us/sample - loss: 0.0033 - acc: 0.8333 - val_loss: 0.0033 - val_acc: 0.8333\n",
            "Epoch 46/50\n",
            "11997/11997 [==============================] - 4s 302us/sample - loss: 0.0033 - acc: 0.8333 - val_loss: 0.0032 - val_acc: 0.8333\n",
            "Epoch 47/50\n",
            "11997/11997 [==============================] - 4s 305us/sample - loss: 0.0033 - acc: 0.8333 - val_loss: 0.0032 - val_acc: 0.8333\n",
            "Epoch 48/50\n",
            "11997/11997 [==============================] - 4s 304us/sample - loss: 0.0033 - acc: 0.8333 - val_loss: 0.0032 - val_acc: 0.8333\n",
            "Epoch 49/50\n",
            "11997/11997 [==============================] - 4s 311us/sample - loss: 0.0033 - acc: 0.8333 - val_loss: 0.0032 - val_acc: 0.8333\n",
            "Epoch 50/50\n",
            "11997/11997 [==============================] - 4s 312us/sample - loss: 0.0033 - acc: 0.8333 - val_loss: 0.0033 - val_acc: 0.8333\n"
          ],
          "name": "stdout"
        },
        {
          "output_type": "execute_result",
          "data": {
            "text/plain": [
              "<tensorflow.python.keras.callbacks.History at 0x7fc7938cab00>"
            ]
          },
          "metadata": {
            "tags": []
          },
          "execution_count": 44
        }
      ]
    },
    {
      "cell_type": "code",
      "metadata": {
        "id": "9Oi8Ac5UtOAC",
        "colab_type": "code",
        "outputId": "433dcd79-688c-4ec0-b947-daeca11e44f0",
        "colab": {
          "base_uri": "https://localhost:8080/",
          "height": 1000
        }
      },
      "source": [
        "model.fit(X8, y8, validation_data=(X_test8,y_test8),epochs=50)"
      ],
      "execution_count": 45,
      "outputs": [
        {
          "output_type": "stream",
          "text": [
            "Train on 11997 samples, validate on 11997 samples\n",
            "Epoch 1/50\n",
            "11997/11997 [==============================] - 4s 306us/sample - loss: 0.0037 - acc: 0.8384 - val_loss: 0.0036 - val_acc: 0.8384\n",
            "Epoch 2/50\n",
            "11997/11997 [==============================] - 4s 302us/sample - loss: 0.0036 - acc: 0.8384 - val_loss: 0.0036 - val_acc: 0.8384\n",
            "Epoch 3/50\n",
            "11997/11997 [==============================] - 4s 314us/sample - loss: 0.0036 - acc: 0.8384 - val_loss: 0.0036 - val_acc: 0.8384\n",
            "Epoch 4/50\n",
            "11997/11997 [==============================] - 4s 309us/sample - loss: 0.0036 - acc: 0.8384 - val_loss: 0.0036 - val_acc: 0.8384\n",
            "Epoch 5/50\n",
            "11997/11997 [==============================] - 4s 315us/sample - loss: 0.0036 - acc: 0.8384 - val_loss: 0.0036 - val_acc: 0.8384\n",
            "Epoch 6/50\n",
            "11997/11997 [==============================] - 4s 305us/sample - loss: 0.0036 - acc: 0.8384 - val_loss: 0.0036 - val_acc: 0.8384\n",
            "Epoch 7/50\n",
            "11997/11997 [==============================] - 4s 305us/sample - loss: 0.0036 - acc: 0.8384 - val_loss: 0.0036 - val_acc: 0.8384\n",
            "Epoch 8/50\n",
            "11997/11997 [==============================] - 4s 298us/sample - loss: 0.0036 - acc: 0.8384 - val_loss: 0.0035 - val_acc: 0.8384\n",
            "Epoch 9/50\n",
            "11997/11997 [==============================] - 4s 304us/sample - loss: 0.0036 - acc: 0.8384 - val_loss: 0.0035 - val_acc: 0.8384\n",
            "Epoch 10/50\n",
            "11997/11997 [==============================] - 4s 306us/sample - loss: 0.0036 - acc: 0.8384 - val_loss: 0.0035 - val_acc: 0.8384\n",
            "Epoch 11/50\n",
            "11997/11997 [==============================] - 4s 299us/sample - loss: 0.0035 - acc: 0.8384 - val_loss: 0.0035 - val_acc: 0.8384\n",
            "Epoch 12/50\n",
            "11997/11997 [==============================] - 4s 313us/sample - loss: 0.0035 - acc: 0.8384 - val_loss: 0.0035 - val_acc: 0.8384\n",
            "Epoch 13/50\n",
            "11997/11997 [==============================] - 4s 316us/sample - loss: 0.0035 - acc: 0.8384 - val_loss: 0.0035 - val_acc: 0.8384\n",
            "Epoch 14/50\n",
            "11997/11997 [==============================] - 4s 312us/sample - loss: 0.0035 - acc: 0.8384 - val_loss: 0.0035 - val_acc: 0.8384\n",
            "Epoch 15/50\n",
            "11997/11997 [==============================] - 4s 307us/sample - loss: 0.0035 - acc: 0.8384 - val_loss: 0.0035 - val_acc: 0.8384\n",
            "Epoch 16/50\n",
            "11997/11997 [==============================] - 4s 311us/sample - loss: 0.0035 - acc: 0.8384 - val_loss: 0.0035 - val_acc: 0.8384\n",
            "Epoch 17/50\n",
            "11997/11997 [==============================] - 4s 300us/sample - loss: 0.0035 - acc: 0.8384 - val_loss: 0.0035 - val_acc: 0.8384\n",
            "Epoch 18/50\n",
            "11997/11997 [==============================] - 4s 301us/sample - loss: 0.0035 - acc: 0.8384 - val_loss: 0.0035 - val_acc: 0.8384\n",
            "Epoch 19/50\n",
            "11997/11997 [==============================] - 4s 307us/sample - loss: 0.0035 - acc: 0.8384 - val_loss: 0.0035 - val_acc: 0.8384\n",
            "Epoch 20/50\n",
            "11997/11997 [==============================] - 4s 306us/sample - loss: 0.0035 - acc: 0.8384 - val_loss: 0.0035 - val_acc: 0.8384\n",
            "Epoch 21/50\n",
            "11997/11997 [==============================] - 4s 309us/sample - loss: 0.0035 - acc: 0.8384 - val_loss: 0.0035 - val_acc: 0.8384\n",
            "Epoch 22/50\n",
            "11997/11997 [==============================] - 4s 306us/sample - loss: 0.0035 - acc: 0.8384 - val_loss: 0.0035 - val_acc: 0.8384\n",
            "Epoch 23/50\n",
            "11997/11997 [==============================] - 4s 307us/sample - loss: 0.0035 - acc: 0.8384 - val_loss: 0.0035 - val_acc: 0.8384\n",
            "Epoch 24/50\n",
            "11997/11997 [==============================] - 4s 302us/sample - loss: 0.0035 - acc: 0.8384 - val_loss: 0.0035 - val_acc: 0.8384\n",
            "Epoch 25/50\n",
            "11997/11997 [==============================] - 4s 306us/sample - loss: 0.0035 - acc: 0.8384 - val_loss: 0.0035 - val_acc: 0.8384\n",
            "Epoch 26/50\n",
            "11997/11997 [==============================] - 4s 305us/sample - loss: 0.0035 - acc: 0.8384 - val_loss: 0.0035 - val_acc: 0.8384\n",
            "Epoch 27/50\n",
            "11997/11997 [==============================] - 4s 305us/sample - loss: 0.0035 - acc: 0.8384 - val_loss: 0.0035 - val_acc: 0.8384\n",
            "Epoch 28/50\n",
            "11997/11997 [==============================] - 4s 305us/sample - loss: 0.0035 - acc: 0.8384 - val_loss: 0.0035 - val_acc: 0.8384\n",
            "Epoch 29/50\n",
            "11997/11997 [==============================] - 4s 304us/sample - loss: 0.0035 - acc: 0.8384 - val_loss: 0.0034 - val_acc: 0.8384\n",
            "Epoch 30/50\n",
            "11997/11997 [==============================] - 4s 303us/sample - loss: 0.0035 - acc: 0.8384 - val_loss: 0.0035 - val_acc: 0.8384\n",
            "Epoch 31/50\n",
            "11997/11997 [==============================] - 4s 301us/sample - loss: 0.0035 - acc: 0.8384 - val_loss: 0.0035 - val_acc: 0.8384\n",
            "Epoch 32/50\n",
            "11997/11997 [==============================] - 4s 301us/sample - loss: 0.0035 - acc: 0.8384 - val_loss: 0.0034 - val_acc: 0.8384\n",
            "Epoch 33/50\n",
            "11997/11997 [==============================] - 4s 301us/sample - loss: 0.0035 - acc: 0.8384 - val_loss: 0.0034 - val_acc: 0.8384\n",
            "Epoch 34/50\n",
            "11997/11997 [==============================] - 4s 299us/sample - loss: 0.0035 - acc: 0.8384 - val_loss: 0.0034 - val_acc: 0.8384\n",
            "Epoch 35/50\n",
            "11997/11997 [==============================] - 4s 302us/sample - loss: 0.0035 - acc: 0.8384 - val_loss: 0.0034 - val_acc: 0.8384\n",
            "Epoch 36/50\n",
            "11997/11997 [==============================] - 4s 301us/sample - loss: 0.0035 - acc: 0.8384 - val_loss: 0.0035 - val_acc: 0.8384\n",
            "Epoch 37/50\n",
            "11997/11997 [==============================] - 4s 306us/sample - loss: 0.0035 - acc: 0.8384 - val_loss: 0.0034 - val_acc: 0.8384\n",
            "Epoch 38/50\n",
            "11997/11997 [==============================] - 4s 308us/sample - loss: 0.0035 - acc: 0.8384 - val_loss: 0.0034 - val_acc: 0.8384\n",
            "Epoch 39/50\n",
            "11997/11997 [==============================] - 4s 302us/sample - loss: 0.0034 - acc: 0.8384 - val_loss: 0.0034 - val_acc: 0.8384\n",
            "Epoch 40/50\n",
            "11997/11997 [==============================] - 4s 298us/sample - loss: 0.0034 - acc: 0.8384 - val_loss: 0.0034 - val_acc: 0.8384\n",
            "Epoch 41/50\n",
            "11997/11997 [==============================] - 4s 302us/sample - loss: 0.0034 - acc: 0.8384 - val_loss: 0.0034 - val_acc: 0.8384\n",
            "Epoch 42/50\n",
            "11997/11997 [==============================] - 4s 301us/sample - loss: 0.0034 - acc: 0.8384 - val_loss: 0.0034 - val_acc: 0.8384\n",
            "Epoch 43/50\n",
            "11997/11997 [==============================] - 4s 298us/sample - loss: 0.0034 - acc: 0.8384 - val_loss: 0.0034 - val_acc: 0.8384\n",
            "Epoch 44/50\n",
            "11997/11997 [==============================] - 4s 306us/sample - loss: 0.0034 - acc: 0.8384 - val_loss: 0.0035 - val_acc: 0.8384\n",
            "Epoch 45/50\n",
            "11997/11997 [==============================] - 4s 304us/sample - loss: 0.0034 - acc: 0.8384 - val_loss: 0.0035 - val_acc: 0.8384\n",
            "Epoch 46/50\n",
            "11997/11997 [==============================] - 4s 307us/sample - loss: 0.0034 - acc: 0.8384 - val_loss: 0.0034 - val_acc: 0.8383\n",
            "Epoch 47/50\n",
            "11997/11997 [==============================] - 4s 302us/sample - loss: 0.0034 - acc: 0.8384 - val_loss: 0.0034 - val_acc: 0.8384\n",
            "Epoch 48/50\n",
            "11997/11997 [==============================] - 4s 302us/sample - loss: 0.0034 - acc: 0.8384 - val_loss: 0.0034 - val_acc: 0.8384\n",
            "Epoch 49/50\n",
            "11997/11997 [==============================] - 4s 303us/sample - loss: 0.0034 - acc: 0.8384 - val_loss: 0.0034 - val_acc: 0.8384\n",
            "Epoch 50/50\n",
            "11997/11997 [==============================] - 4s 302us/sample - loss: 0.0034 - acc: 0.8384 - val_loss: 0.0034 - val_acc: 0.8384\n"
          ],
          "name": "stdout"
        },
        {
          "output_type": "execute_result",
          "data": {
            "text/plain": [
              "<tensorflow.python.keras.callbacks.History at 0x7fc7938cada0>"
            ]
          },
          "metadata": {
            "tags": []
          },
          "execution_count": 45
        }
      ]
    },
    {
      "cell_type": "code",
      "metadata": {
        "id": "SLn0vU66tOKK",
        "colab_type": "code",
        "outputId": "2568337f-da57-4349-f649-e1dbf5cd18c7",
        "colab": {
          "base_uri": "https://localhost:8080/",
          "height": 1000
        }
      },
      "source": [
        "model.fit(X9, y9, validation_data=(X_test9,y_test9),epochs=50)"
      ],
      "execution_count": 46,
      "outputs": [
        {
          "output_type": "stream",
          "text": [
            "Train on 11997 samples, validate on 11997 samples\n",
            "Epoch 1/50\n",
            "11997/11997 [==============================] - 4s 302us/sample - loss: 3.7473e-04 - acc: 0.8766 - val_loss: 3.6421e-04 - val_acc: 0.8766\n",
            "Epoch 2/50\n",
            "11997/11997 [==============================] - 4s 305us/sample - loss: 3.6435e-04 - acc: 0.8766 - val_loss: 3.6135e-04 - val_acc: 0.8766\n",
            "Epoch 3/50\n",
            "11997/11997 [==============================] - 4s 298us/sample - loss: 3.6216e-04 - acc: 0.8766 - val_loss: 3.5949e-04 - val_acc: 0.8766\n",
            "Epoch 4/50\n",
            "11997/11997 [==============================] - 4s 315us/sample - loss: 3.6089e-04 - acc: 0.8766 - val_loss: 3.5850e-04 - val_acc: 0.8766\n",
            "Epoch 5/50\n",
            "11997/11997 [==============================] - 4s 301us/sample - loss: 3.5994e-04 - acc: 0.8766 - val_loss: 3.5811e-04 - val_acc: 0.8766\n",
            "Epoch 6/50\n",
            "11997/11997 [==============================] - 4s 303us/sample - loss: 3.5873e-04 - acc: 0.8766 - val_loss: 3.6518e-04 - val_acc: 0.8766\n",
            "Epoch 7/50\n",
            "11997/11997 [==============================] - 4s 305us/sample - loss: 3.5735e-04 - acc: 0.8766 - val_loss: 3.5500e-04 - val_acc: 0.8766\n",
            "Epoch 8/50\n",
            "11997/11997 [==============================] - 4s 306us/sample - loss: 3.5625e-04 - acc: 0.8766 - val_loss: 3.5409e-04 - val_acc: 0.8766\n",
            "Epoch 9/50\n",
            "11997/11997 [==============================] - 4s 303us/sample - loss: 3.5717e-04 - acc: 0.8766 - val_loss: 3.5300e-04 - val_acc: 0.8766\n",
            "Epoch 10/50\n",
            "11997/11997 [==============================] - 4s 307us/sample - loss: 3.5578e-04 - acc: 0.8766 - val_loss: 3.5324e-04 - val_acc: 0.8766\n",
            "Epoch 11/50\n",
            "11997/11997 [==============================] - 4s 305us/sample - loss: 3.5684e-04 - acc: 0.8766 - val_loss: 3.6358e-04 - val_acc: 0.8766\n",
            "Epoch 12/50\n",
            "11997/11997 [==============================] - 4s 304us/sample - loss: 3.5600e-04 - acc: 0.8766 - val_loss: 3.5289e-04 - val_acc: 0.8766\n",
            "Epoch 13/50\n",
            "11997/11997 [==============================] - 4s 302us/sample - loss: 3.5590e-04 - acc: 0.8766 - val_loss: 3.5474e-04 - val_acc: 0.8766\n",
            "Epoch 14/50\n",
            "11997/11997 [==============================] - 4s 304us/sample - loss: 3.5527e-04 - acc: 0.8766 - val_loss: 3.5340e-04 - val_acc: 0.8766\n",
            "Epoch 15/50\n",
            "11997/11997 [==============================] - 4s 300us/sample - loss: 3.5392e-04 - acc: 0.8766 - val_loss: 3.5031e-04 - val_acc: 0.8766\n",
            "Epoch 16/50\n",
            "11997/11997 [==============================] - 4s 302us/sample - loss: 3.5397e-04 - acc: 0.8766 - val_loss: 3.5071e-04 - val_acc: 0.8766\n",
            "Epoch 17/50\n",
            "11997/11997 [==============================] - 4s 298us/sample - loss: 3.5416e-04 - acc: 0.8766 - val_loss: 3.5165e-04 - val_acc: 0.8766\n",
            "Epoch 18/50\n",
            "11997/11997 [==============================] - 4s 306us/sample - loss: 3.5467e-04 - acc: 0.8766 - val_loss: 3.5118e-04 - val_acc: 0.8766\n",
            "Epoch 19/50\n",
            "11997/11997 [==============================] - 4s 301us/sample - loss: 3.5498e-04 - acc: 0.8766 - val_loss: 3.5241e-04 - val_acc: 0.8766\n",
            "Epoch 20/50\n",
            "11997/11997 [==============================] - 4s 301us/sample - loss: 3.5441e-04 - acc: 0.8766 - val_loss: 3.5621e-04 - val_acc: 0.8766\n",
            "Epoch 21/50\n",
            "11997/11997 [==============================] - 4s 304us/sample - loss: 3.5475e-04 - acc: 0.8766 - val_loss: 3.4946e-04 - val_acc: 0.8766\n",
            "Epoch 22/50\n",
            "11997/11997 [==============================] - 4s 300us/sample - loss: 3.5251e-04 - acc: 0.8766 - val_loss: 3.5133e-04 - val_acc: 0.8766\n",
            "Epoch 23/50\n",
            "11997/11997 [==============================] - 4s 300us/sample - loss: 3.5322e-04 - acc: 0.8766 - val_loss: 3.5069e-04 - val_acc: 0.8766\n",
            "Epoch 24/50\n",
            "11997/11997 [==============================] - 4s 297us/sample - loss: 3.5380e-04 - acc: 0.8766 - val_loss: 3.4964e-04 - val_acc: 0.8766\n",
            "Epoch 25/50\n",
            "11997/11997 [==============================] - 4s 299us/sample - loss: 3.5207e-04 - acc: 0.8766 - val_loss: 3.5037e-04 - val_acc: 0.8766\n",
            "Epoch 26/50\n",
            "11997/11997 [==============================] - 4s 301us/sample - loss: 3.5283e-04 - acc: 0.8766 - val_loss: 3.5218e-04 - val_acc: 0.8766\n",
            "Epoch 27/50\n",
            "11997/11997 [==============================] - 4s 299us/sample - loss: 3.5123e-04 - acc: 0.8766 - val_loss: 3.5007e-04 - val_acc: 0.8766\n",
            "Epoch 28/50\n",
            "11997/11997 [==============================] - 4s 301us/sample - loss: 3.5261e-04 - acc: 0.8766 - val_loss: 3.5072e-04 - val_acc: 0.8766\n",
            "Epoch 29/50\n",
            "11997/11997 [==============================] - 4s 298us/sample - loss: 3.5138e-04 - acc: 0.8766 - val_loss: 3.4816e-04 - val_acc: 0.8766\n",
            "Epoch 30/50\n",
            "11997/11997 [==============================] - 4s 300us/sample - loss: 3.5155e-04 - acc: 0.8766 - val_loss: 3.4800e-04 - val_acc: 0.8766\n",
            "Epoch 31/50\n",
            "11997/11997 [==============================] - 4s 306us/sample - loss: 3.5232e-04 - acc: 0.8766 - val_loss: 3.5172e-04 - val_acc: 0.8766\n",
            "Epoch 32/50\n",
            "11997/11997 [==============================] - 4s 302us/sample - loss: 3.5081e-04 - acc: 0.8766 - val_loss: 3.5025e-04 - val_acc: 0.8766\n",
            "Epoch 33/50\n",
            "11997/11997 [==============================] - 4s 298us/sample - loss: 3.5463e-04 - acc: 0.8766 - val_loss: 3.4734e-04 - val_acc: 0.8766\n",
            "Epoch 34/50\n",
            "11997/11997 [==============================] - 4s 299us/sample - loss: 3.5130e-04 - acc: 0.8766 - val_loss: 3.4670e-04 - val_acc: 0.8766\n",
            "Epoch 35/50\n",
            "11997/11997 [==============================] - 4s 300us/sample - loss: 3.5103e-04 - acc: 0.8766 - val_loss: 3.4683e-04 - val_acc: 0.8766\n",
            "Epoch 36/50\n",
            "11997/11997 [==============================] - 4s 298us/sample - loss: 3.5046e-04 - acc: 0.8766 - val_loss: 3.4744e-04 - val_acc: 0.8766\n",
            "Epoch 37/50\n",
            "11997/11997 [==============================] - 4s 308us/sample - loss: 3.5131e-04 - acc: 0.8766 - val_loss: 3.4675e-04 - val_acc: 0.8766\n",
            "Epoch 38/50\n",
            "11997/11997 [==============================] - 4s 300us/sample - loss: 3.5033e-04 - acc: 0.8766 - val_loss: 3.5170e-04 - val_acc: 0.8766\n",
            "Epoch 39/50\n",
            "11997/11997 [==============================] - 4s 302us/sample - loss: 3.5079e-04 - acc: 0.8766 - val_loss: 3.4739e-04 - val_acc: 0.8766\n",
            "Epoch 40/50\n",
            "11997/11997 [==============================] - 4s 299us/sample - loss: 3.5091e-04 - acc: 0.8766 - val_loss: 3.4965e-04 - val_acc: 0.8766\n",
            "Epoch 41/50\n",
            "11997/11997 [==============================] - 4s 299us/sample - loss: 3.5131e-04 - acc: 0.8766 - val_loss: 3.4786e-04 - val_acc: 0.8766\n",
            "Epoch 42/50\n",
            "11997/11997 [==============================] - 4s 302us/sample - loss: 3.4986e-04 - acc: 0.8766 - val_loss: 3.4608e-04 - val_acc: 0.8766\n",
            "Epoch 43/50\n",
            "11997/11997 [==============================] - 4s 300us/sample - loss: 3.4929e-04 - acc: 0.8766 - val_loss: 3.4511e-04 - val_acc: 0.8766\n",
            "Epoch 44/50\n",
            "11997/11997 [==============================] - 4s 302us/sample - loss: 3.4866e-04 - acc: 0.8766 - val_loss: 3.4633e-04 - val_acc: 0.8766\n",
            "Epoch 45/50\n",
            "11997/11997 [==============================] - 4s 299us/sample - loss: 3.4935e-04 - acc: 0.8766 - val_loss: 3.4863e-04 - val_acc: 0.8766\n",
            "Epoch 46/50\n",
            "11997/11997 [==============================] - 4s 298us/sample - loss: 3.4991e-04 - acc: 0.8766 - val_loss: 3.4644e-04 - val_acc: 0.8766\n",
            "Epoch 47/50\n",
            "11997/11997 [==============================] - 4s 303us/sample - loss: 3.4965e-04 - acc: 0.8766 - val_loss: 3.4804e-04 - val_acc: 0.8766\n",
            "Epoch 48/50\n",
            "11997/11997 [==============================] - 4s 309us/sample - loss: 3.5083e-04 - acc: 0.8766 - val_loss: 3.4982e-04 - val_acc: 0.8766\n",
            "Epoch 49/50\n",
            "11997/11997 [==============================] - 4s 314us/sample - loss: 3.5056e-04 - acc: 0.8766 - val_loss: 3.4620e-04 - val_acc: 0.8766\n",
            "Epoch 50/50\n",
            "11997/11997 [==============================] - 4s 307us/sample - loss: 3.4933e-04 - acc: 0.8766 - val_loss: 3.5033e-04 - val_acc: 0.8766\n"
          ],
          "name": "stdout"
        },
        {
          "output_type": "execute_result",
          "data": {
            "text/plain": [
              "<tensorflow.python.keras.callbacks.History at 0x7fc7938cac88>"
            ]
          },
          "metadata": {
            "tags": []
          },
          "execution_count": 46
        }
      ]
    },
    {
      "cell_type": "code",
      "metadata": {
        "id": "X4tac5LntOTz",
        "colab_type": "code",
        "outputId": "434370c2-3b50-4eea-a5c8-2ad03801971d",
        "colab": {
          "base_uri": "https://localhost:8080/",
          "height": 1000
        }
      },
      "source": [
        "model.fit(X10, y10, validation_data=(X_test10,y_test10),epochs=50)"
      ],
      "execution_count": 47,
      "outputs": [
        {
          "output_type": "stream",
          "text": [
            "Train on 11997 samples, validate on 11997 samples\n",
            "Epoch 1/50\n",
            "11997/11997 [==============================] - 4s 301us/sample - loss: 0.0027 - acc: 0.8375 - val_loss: 0.0026 - val_acc: 0.8375\n",
            "Epoch 2/50\n",
            "11997/11997 [==============================] - 4s 301us/sample - loss: 0.0027 - acc: 0.8375 - val_loss: 0.0026 - val_acc: 0.8375\n",
            "Epoch 3/50\n",
            "11997/11997 [==============================] - 4s 298us/sample - loss: 0.0026 - acc: 0.8375 - val_loss: 0.0026 - val_acc: 0.8375\n",
            "Epoch 4/50\n",
            "11997/11997 [==============================] - 4s 309us/sample - loss: 0.0026 - acc: 0.8375 - val_loss: 0.0026 - val_acc: 0.8375\n",
            "Epoch 5/50\n",
            "11997/11997 [==============================] - 4s 300us/sample - loss: 0.0026 - acc: 0.8375 - val_loss: 0.0026 - val_acc: 0.8375\n",
            "Epoch 6/50\n",
            "11997/11997 [==============================] - 4s 298us/sample - loss: 0.0026 - acc: 0.8375 - val_loss: 0.0026 - val_acc: 0.8375\n",
            "Epoch 7/50\n",
            "11997/11997 [==============================] - 4s 296us/sample - loss: 0.0026 - acc: 0.8375 - val_loss: 0.0026 - val_acc: 0.8375\n",
            "Epoch 8/50\n",
            "11997/11997 [==============================] - 4s 296us/sample - loss: 0.0026 - acc: 0.8375 - val_loss: 0.0026 - val_acc: 0.8375\n",
            "Epoch 9/50\n",
            "11997/11997 [==============================] - 4s 295us/sample - loss: 0.0026 - acc: 0.8375 - val_loss: 0.0026 - val_acc: 0.8375\n",
            "Epoch 10/50\n",
            "11997/11997 [==============================] - 4s 299us/sample - loss: 0.0026 - acc: 0.8375 - val_loss: 0.0026 - val_acc: 0.8375\n",
            "Epoch 11/50\n",
            "11997/11997 [==============================] - 4s 298us/sample - loss: 0.0026 - acc: 0.8375 - val_loss: 0.0026 - val_acc: 0.8375\n",
            "Epoch 12/50\n",
            "11997/11997 [==============================] - 4s 301us/sample - loss: 0.0026 - acc: 0.8375 - val_loss: 0.0026 - val_acc: 0.8375\n",
            "Epoch 13/50\n",
            "11997/11997 [==============================] - 4s 303us/sample - loss: 0.0026 - acc: 0.8375 - val_loss: 0.0026 - val_acc: 0.8375\n",
            "Epoch 14/50\n",
            "11997/11997 [==============================] - 4s 299us/sample - loss: 0.0026 - acc: 0.8375 - val_loss: 0.0026 - val_acc: 0.8375\n",
            "Epoch 15/50\n",
            "11997/11997 [==============================] - 4s 302us/sample - loss: 0.0026 - acc: 0.8375 - val_loss: 0.0026 - val_acc: 0.8375\n",
            "Epoch 16/50\n",
            "11997/11997 [==============================] - 4s 301us/sample - loss: 0.0026 - acc: 0.8375 - val_loss: 0.0026 - val_acc: 0.8375\n",
            "Epoch 17/50\n",
            "11997/11997 [==============================] - 4s 297us/sample - loss: 0.0026 - acc: 0.8375 - val_loss: 0.0026 - val_acc: 0.8375\n",
            "Epoch 18/50\n",
            "11997/11997 [==============================] - 4s 302us/sample - loss: 0.0026 - acc: 0.8375 - val_loss: 0.0026 - val_acc: 0.8375\n",
            "Epoch 19/50\n",
            "11997/11997 [==============================] - 4s 302us/sample - loss: 0.0026 - acc: 0.8375 - val_loss: 0.0026 - val_acc: 0.8375\n",
            "Epoch 20/50\n",
            "11997/11997 [==============================] - 4s 303us/sample - loss: 0.0026 - acc: 0.8375 - val_loss: 0.0026 - val_acc: 0.8375\n",
            "Epoch 21/50\n",
            "11997/11997 [==============================] - 4s 303us/sample - loss: 0.0026 - acc: 0.8375 - val_loss: 0.0025 - val_acc: 0.8375\n",
            "Epoch 22/50\n",
            "11997/11997 [==============================] - 4s 306us/sample - loss: 0.0026 - acc: 0.8375 - val_loss: 0.0025 - val_acc: 0.8375\n",
            "Epoch 23/50\n",
            "11997/11997 [==============================] - 4s 298us/sample - loss: 0.0026 - acc: 0.8375 - val_loss: 0.0025 - val_acc: 0.8375\n",
            "Epoch 24/50\n",
            "11997/11997 [==============================] - 4s 301us/sample - loss: 0.0026 - acc: 0.8375 - val_loss: 0.0026 - val_acc: 0.8375\n",
            "Epoch 25/50\n",
            "11997/11997 [==============================] - 4s 304us/sample - loss: 0.0026 - acc: 0.8375 - val_loss: 0.0025 - val_acc: 0.8375\n",
            "Epoch 26/50\n",
            "11997/11997 [==============================] - 4s 302us/sample - loss: 0.0026 - acc: 0.8375 - val_loss: 0.0025 - val_acc: 0.8375\n",
            "Epoch 27/50\n",
            "11997/11997 [==============================] - 4s 302us/sample - loss: 0.0025 - acc: 0.8375 - val_loss: 0.0025 - val_acc: 0.8375\n",
            "Epoch 28/50\n",
            "11997/11997 [==============================] - 4s 301us/sample - loss: 0.0025 - acc: 0.8375 - val_loss: 0.0025 - val_acc: 0.8375\n",
            "Epoch 29/50\n",
            "11997/11997 [==============================] - 4s 305us/sample - loss: 0.0025 - acc: 0.8375 - val_loss: 0.0025 - val_acc: 0.8375\n",
            "Epoch 30/50\n",
            "11997/11997 [==============================] - 4s 305us/sample - loss: 0.0025 - acc: 0.8375 - val_loss: 0.0025 - val_acc: 0.8375\n",
            "Epoch 31/50\n",
            "11997/11997 [==============================] - 4s 296us/sample - loss: 0.0025 - acc: 0.8375 - val_loss: 0.0025 - val_acc: 0.8375\n",
            "Epoch 32/50\n",
            "11997/11997 [==============================] - 4s 301us/sample - loss: 0.0025 - acc: 0.8375 - val_loss: 0.0025 - val_acc: 0.8375\n",
            "Epoch 33/50\n",
            "11997/11997 [==============================] - 4s 299us/sample - loss: 0.0025 - acc: 0.8375 - val_loss: 0.0025 - val_acc: 0.8375\n",
            "Epoch 34/50\n",
            "11997/11997 [==============================] - 4s 302us/sample - loss: 0.0025 - acc: 0.8375 - val_loss: 0.0025 - val_acc: 0.8375\n",
            "Epoch 35/50\n",
            "11997/11997 [==============================] - 4s 306us/sample - loss: 0.0025 - acc: 0.8375 - val_loss: 0.0025 - val_acc: 0.8375\n",
            "Epoch 36/50\n",
            "11997/11997 [==============================] - 4s 302us/sample - loss: 0.0025 - acc: 0.8375 - val_loss: 0.0025 - val_acc: 0.8375\n",
            "Epoch 37/50\n",
            "11997/11997 [==============================] - 4s 306us/sample - loss: 0.0025 - acc: 0.8375 - val_loss: 0.0025 - val_acc: 0.8375\n",
            "Epoch 38/50\n",
            "11997/11997 [==============================] - 4s 302us/sample - loss: 0.0025 - acc: 0.8375 - val_loss: 0.0025 - val_acc: 0.8375\n",
            "Epoch 39/50\n",
            "11997/11997 [==============================] - 4s 299us/sample - loss: 0.0025 - acc: 0.8375 - val_loss: 0.0025 - val_acc: 0.8375\n",
            "Epoch 40/50\n",
            "11997/11997 [==============================] - 4s 303us/sample - loss: 0.0025 - acc: 0.8375 - val_loss: 0.0025 - val_acc: 0.8375\n",
            "Epoch 41/50\n",
            "11997/11997 [==============================] - 4s 304us/sample - loss: 0.0025 - acc: 0.8375 - val_loss: 0.0025 - val_acc: 0.8375\n",
            "Epoch 42/50\n",
            "11997/11997 [==============================] - 4s 299us/sample - loss: 0.0025 - acc: 0.8375 - val_loss: 0.0025 - val_acc: 0.8375\n",
            "Epoch 43/50\n",
            "11997/11997 [==============================] - 4s 304us/sample - loss: 0.0025 - acc: 0.8375 - val_loss: 0.0025 - val_acc: 0.8375\n",
            "Epoch 44/50\n",
            "11997/11997 [==============================] - 4s 300us/sample - loss: 0.0025 - acc: 0.8375 - val_loss: 0.0025 - val_acc: 0.8375\n",
            "Epoch 45/50\n",
            "11997/11997 [==============================] - 4s 302us/sample - loss: 0.0025 - acc: 0.8375 - val_loss: 0.0025 - val_acc: 0.8375\n",
            "Epoch 46/50\n",
            "11997/11997 [==============================] - 4s 304us/sample - loss: 0.0025 - acc: 0.8375 - val_loss: 0.0025 - val_acc: 0.8375\n",
            "Epoch 47/50\n",
            "11997/11997 [==============================] - 4s 301us/sample - loss: 0.0025 - acc: 0.8375 - val_loss: 0.0025 - val_acc: 0.8375\n",
            "Epoch 48/50\n",
            "11997/11997 [==============================] - 4s 299us/sample - loss: 0.0025 - acc: 0.8375 - val_loss: 0.0025 - val_acc: 0.8375\n",
            "Epoch 49/50\n",
            "11997/11997 [==============================] - 4s 302us/sample - loss: 0.0025 - acc: 0.8375 - val_loss: 0.0025 - val_acc: 0.8375\n",
            "Epoch 50/50\n",
            "11997/11997 [==============================] - 4s 306us/sample - loss: 0.0025 - acc: 0.8375 - val_loss: 0.0025 - val_acc: 0.8375\n"
          ],
          "name": "stdout"
        },
        {
          "output_type": "execute_result",
          "data": {
            "text/plain": [
              "<tensorflow.python.keras.callbacks.History at 0x7fc7938cae80>"
            ]
          },
          "metadata": {
            "tags": []
          },
          "execution_count": 47
        }
      ]
    },
    {
      "cell_type": "code",
      "metadata": {
        "id": "WBFxiG7GtOdT",
        "colab_type": "code",
        "outputId": "e13aa731-b3fd-4904-c5e8-9c6abe3c6014",
        "colab": {
          "base_uri": "https://localhost:8080/",
          "height": 357
        }
      },
      "source": [
        "model.fit(X11, y11, validation_data=(X_test11,y_test11),epochs=50)"
      ],
      "execution_count": 48,
      "outputs": [
        {
          "output_type": "stream",
          "text": [
            "Train on 11997 samples, validate on 11997 samples\n",
            "Epoch 1/50\n",
            " 8448/11997 [====================>.........] - ETA: 0s - loss: 0.0029 - acc: 0.8422"
          ],
          "name": "stdout"
        },
        {
          "output_type": "error",
          "ename": "KeyboardInterrupt",
          "evalue": "ignored",
          "traceback": [
            "\u001b[0;31m---------------------------------------------------------------------------\u001b[0m",
            "\u001b[0;31mKeyboardInterrupt\u001b[0m                         Traceback (most recent call last)",
            "\u001b[0;32m<ipython-input-48-22237f9c176e>\u001b[0m in \u001b[0;36m<module>\u001b[0;34m()\u001b[0m\n\u001b[0;32m----> 1\u001b[0;31m \u001b[0mmodel\u001b[0m\u001b[0;34m.\u001b[0m\u001b[0mfit\u001b[0m\u001b[0;34m(\u001b[0m\u001b[0mX11\u001b[0m\u001b[0;34m,\u001b[0m \u001b[0my11\u001b[0m\u001b[0;34m,\u001b[0m \u001b[0mvalidation_data\u001b[0m\u001b[0;34m=\u001b[0m\u001b[0;34m(\u001b[0m\u001b[0mX_test11\u001b[0m\u001b[0;34m,\u001b[0m\u001b[0my_test11\u001b[0m\u001b[0;34m)\u001b[0m\u001b[0;34m,\u001b[0m\u001b[0mepochs\u001b[0m\u001b[0;34m=\u001b[0m\u001b[0;36m50\u001b[0m\u001b[0;34m)\u001b[0m\u001b[0;34m\u001b[0m\u001b[0;34m\u001b[0m\u001b[0m\n\u001b[0m",
            "\u001b[0;32m/tensorflow-1.15.0/python3.6/tensorflow_core/python/keras/engine/training.py\u001b[0m in \u001b[0;36mfit\u001b[0;34m(self, x, y, batch_size, epochs, verbose, callbacks, validation_split, validation_data, shuffle, class_weight, sample_weight, initial_epoch, steps_per_epoch, validation_steps, validation_freq, max_queue_size, workers, use_multiprocessing, **kwargs)\u001b[0m\n\u001b[1;32m    725\u001b[0m         \u001b[0mmax_queue_size\u001b[0m\u001b[0;34m=\u001b[0m\u001b[0mmax_queue_size\u001b[0m\u001b[0;34m,\u001b[0m\u001b[0;34m\u001b[0m\u001b[0;34m\u001b[0m\u001b[0m\n\u001b[1;32m    726\u001b[0m         \u001b[0mworkers\u001b[0m\u001b[0;34m=\u001b[0m\u001b[0mworkers\u001b[0m\u001b[0;34m,\u001b[0m\u001b[0;34m\u001b[0m\u001b[0;34m\u001b[0m\u001b[0m\n\u001b[0;32m--> 727\u001b[0;31m         use_multiprocessing=use_multiprocessing)\n\u001b[0m\u001b[1;32m    728\u001b[0m \u001b[0;34m\u001b[0m\u001b[0m\n\u001b[1;32m    729\u001b[0m   def evaluate(self,\n",
            "\u001b[0;32m/tensorflow-1.15.0/python3.6/tensorflow_core/python/keras/engine/training_arrays.py\u001b[0m in \u001b[0;36mfit\u001b[0;34m(self, model, x, y, batch_size, epochs, verbose, callbacks, validation_split, validation_data, shuffle, class_weight, sample_weight, initial_epoch, steps_per_epoch, validation_steps, validation_freq, **kwargs)\u001b[0m\n\u001b[1;32m    673\u001b[0m         \u001b[0mvalidation_steps\u001b[0m\u001b[0;34m=\u001b[0m\u001b[0mvalidation_steps\u001b[0m\u001b[0;34m,\u001b[0m\u001b[0;34m\u001b[0m\u001b[0;34m\u001b[0m\u001b[0m\n\u001b[1;32m    674\u001b[0m         \u001b[0mvalidation_freq\u001b[0m\u001b[0;34m=\u001b[0m\u001b[0mvalidation_freq\u001b[0m\u001b[0;34m,\u001b[0m\u001b[0;34m\u001b[0m\u001b[0;34m\u001b[0m\u001b[0m\n\u001b[0;32m--> 675\u001b[0;31m         steps_name='steps_per_epoch')\n\u001b[0m\u001b[1;32m    676\u001b[0m \u001b[0;34m\u001b[0m\u001b[0m\n\u001b[1;32m    677\u001b[0m   def evaluate(self,\n",
            "\u001b[0;32m/tensorflow-1.15.0/python3.6/tensorflow_core/python/keras/engine/training_arrays.py\u001b[0m in \u001b[0;36mmodel_iteration\u001b[0;34m(model, inputs, targets, sample_weights, batch_size, epochs, verbose, callbacks, val_inputs, val_targets, val_sample_weights, shuffle, initial_epoch, steps_per_epoch, validation_steps, validation_freq, mode, validation_in_fit, prepared_feed_values_from_dataset, steps_name, **kwargs)\u001b[0m\n\u001b[1;32m    392\u001b[0m \u001b[0;34m\u001b[0m\u001b[0m\n\u001b[1;32m    393\u001b[0m         \u001b[0;31m# Get outputs.\u001b[0m\u001b[0;34m\u001b[0m\u001b[0;34m\u001b[0m\u001b[0;34m\u001b[0m\u001b[0m\n\u001b[0;32m--> 394\u001b[0;31m         \u001b[0mbatch_outs\u001b[0m \u001b[0;34m=\u001b[0m \u001b[0mf\u001b[0m\u001b[0;34m(\u001b[0m\u001b[0mins_batch\u001b[0m\u001b[0;34m)\u001b[0m\u001b[0;34m\u001b[0m\u001b[0;34m\u001b[0m\u001b[0m\n\u001b[0m\u001b[1;32m    395\u001b[0m         \u001b[0;32mif\u001b[0m \u001b[0;32mnot\u001b[0m \u001b[0misinstance\u001b[0m\u001b[0;34m(\u001b[0m\u001b[0mbatch_outs\u001b[0m\u001b[0;34m,\u001b[0m \u001b[0mlist\u001b[0m\u001b[0;34m)\u001b[0m\u001b[0;34m:\u001b[0m\u001b[0;34m\u001b[0m\u001b[0;34m\u001b[0m\u001b[0m\n\u001b[1;32m    396\u001b[0m           \u001b[0mbatch_outs\u001b[0m \u001b[0;34m=\u001b[0m \u001b[0;34m[\u001b[0m\u001b[0mbatch_outs\u001b[0m\u001b[0;34m]\u001b[0m\u001b[0;34m\u001b[0m\u001b[0;34m\u001b[0m\u001b[0m\n",
            "\u001b[0;32m/tensorflow-1.15.0/python3.6/tensorflow_core/python/keras/backend.py\u001b[0m in \u001b[0;36m__call__\u001b[0;34m(self, inputs)\u001b[0m\n\u001b[1;32m   3474\u001b[0m \u001b[0;34m\u001b[0m\u001b[0m\n\u001b[1;32m   3475\u001b[0m     fetched = self._callable_fn(*array_vals,\n\u001b[0;32m-> 3476\u001b[0;31m                                 run_metadata=self.run_metadata)\n\u001b[0m\u001b[1;32m   3477\u001b[0m     \u001b[0mself\u001b[0m\u001b[0;34m.\u001b[0m\u001b[0m_call_fetch_callbacks\u001b[0m\u001b[0;34m(\u001b[0m\u001b[0mfetched\u001b[0m\u001b[0;34m[\u001b[0m\u001b[0;34m-\u001b[0m\u001b[0mlen\u001b[0m\u001b[0;34m(\u001b[0m\u001b[0mself\u001b[0m\u001b[0;34m.\u001b[0m\u001b[0m_fetches\u001b[0m\u001b[0;34m)\u001b[0m\u001b[0;34m:\u001b[0m\u001b[0;34m]\u001b[0m\u001b[0;34m)\u001b[0m\u001b[0;34m\u001b[0m\u001b[0;34m\u001b[0m\u001b[0m\n\u001b[1;32m   3478\u001b[0m     output_structure = nest.pack_sequence_as(\n",
            "\u001b[0;32m/tensorflow-1.15.0/python3.6/tensorflow_core/python/client/session.py\u001b[0m in \u001b[0;36m__call__\u001b[0;34m(self, *args, **kwargs)\u001b[0m\n\u001b[1;32m   1470\u001b[0m         ret = tf_session.TF_SessionRunCallable(self._session._session,\n\u001b[1;32m   1471\u001b[0m                                                \u001b[0mself\u001b[0m\u001b[0;34m.\u001b[0m\u001b[0m_handle\u001b[0m\u001b[0;34m,\u001b[0m \u001b[0margs\u001b[0m\u001b[0;34m,\u001b[0m\u001b[0;34m\u001b[0m\u001b[0;34m\u001b[0m\u001b[0m\n\u001b[0;32m-> 1472\u001b[0;31m                                                run_metadata_ptr)\n\u001b[0m\u001b[1;32m   1473\u001b[0m         \u001b[0;32mif\u001b[0m \u001b[0mrun_metadata\u001b[0m\u001b[0;34m:\u001b[0m\u001b[0;34m\u001b[0m\u001b[0;34m\u001b[0m\u001b[0m\n\u001b[1;32m   1474\u001b[0m           \u001b[0mproto_data\u001b[0m \u001b[0;34m=\u001b[0m \u001b[0mtf_session\u001b[0m\u001b[0;34m.\u001b[0m\u001b[0mTF_GetBuffer\u001b[0m\u001b[0;34m(\u001b[0m\u001b[0mrun_metadata_ptr\u001b[0m\u001b[0;34m)\u001b[0m\u001b[0;34m\u001b[0m\u001b[0;34m\u001b[0m\u001b[0m\n",
            "\u001b[0;31mKeyboardInterrupt\u001b[0m: "
          ]
        }
      ]
    },
    {
      "cell_type": "code",
      "metadata": {
        "id": "uin8xQNXB74p",
        "colab_type": "code",
        "colab": {}
      },
      "source": [
        "model.fit(X12, y12, validation_data=(X_test12,y_test12),epochs=50)"
      ],
      "execution_count": 0,
      "outputs": []
    },
    {
      "cell_type": "code",
      "metadata": {
        "id": "q24UogQuB8LN",
        "colab_type": "code",
        "colab": {}
      },
      "source": [
        "model.fit(X13, y13, validation_data=(X_test13,y_test13),epochs=50)"
      ],
      "execution_count": 0,
      "outputs": []
    },
    {
      "cell_type": "code",
      "metadata": {
        "id": "ZOiZXqKJB8jC",
        "colab_type": "code",
        "colab": {}
      },
      "source": [
        "model.fit(X14, y14, validation_data=(X_test14,y_test14),epochs=50)"
      ],
      "execution_count": 0,
      "outputs": []
    },
    {
      "cell_type": "code",
      "metadata": {
        "id": "31sa5rlXB9BA",
        "colab_type": "code",
        "colab": {}
      },
      "source": [
        "model.fit(X15, y15, validation_data=(X_test15,y_test15),epochs=50)"
      ],
      "execution_count": 0,
      "outputs": []
    },
    {
      "cell_type": "code",
      "metadata": {
        "id": "ddVXEmYRB9TB",
        "colab_type": "code",
        "colab": {}
      },
      "source": [
        "model.fit(X16, y16, validation_data=(X_test16,y_test16),epochs=50)"
      ],
      "execution_count": 0,
      "outputs": []
    },
    {
      "cell_type": "code",
      "metadata": {
        "id": "PIErxCqcB9uC",
        "colab_type": "code",
        "colab": {}
      },
      "source": [
        "model.fit(X17, y17, validation_data=(X_test17,y_test17),epochs=50)"
      ],
      "execution_count": 0,
      "outputs": []
    },
    {
      "cell_type": "code",
      "metadata": {
        "id": "bnBS9J1vB-JJ",
        "colab_type": "code",
        "colab": {}
      },
      "source": [
        "model.fit(X18, y18, validation_data=(X_test18,y_test18),epochs=50)"
      ],
      "execution_count": 0,
      "outputs": []
    },
    {
      "cell_type": "code",
      "metadata": {
        "id": "OwhpkUFktOqW",
        "colab_type": "code",
        "outputId": "c48a7b86-fc66-4d70-9520-1d927c32d79d",
        "colab": {
          "base_uri": "https://localhost:8080/",
          "height": 51
        }
      },
      "source": [
        "ypred = model.predict(X1)\n",
        "s=pd.DataFrame(ypred)\n",
        "s1=pd.DataFrame(y1)\n",
        "s1.corrwith(s, axis = 0) "
      ],
      "execution_count": 49,
      "outputs": [
        {
          "output_type": "execute_result",
          "data": {
            "text/plain": [
              "0    0.3444\n",
              "dtype: float64"
            ]
          },
          "metadata": {
            "tags": []
          },
          "execution_count": 49
        }
      ]
    },
    {
      "cell_type": "code",
      "metadata": {
        "id": "yVgkRVW42TsQ",
        "colab_type": "code",
        "outputId": "fe3a66d7-32f6-43a3-eb8d-206cacccc0a3",
        "colab": {
          "base_uri": "https://localhost:8080/",
          "height": 34
        }
      },
      "source": [
        " from sklearn.metrics import r2_score\n",
        " r2_score(y1,ypred)"
      ],
      "execution_count": 50,
      "outputs": [
        {
          "output_type": "execute_result",
          "data": {
            "text/plain": [
              "0.11795677725411491"
            ]
          },
          "metadata": {
            "tags": []
          },
          "execution_count": 50
        }
      ]
    },
    {
      "cell_type": "code",
      "metadata": {
        "id": "upnaRWeftOvw",
        "colab_type": "code",
        "outputId": "60f190b6-c8f9-4a32-c457-86d839bfdac4",
        "colab": {
          "base_uri": "https://localhost:8080/",
          "height": 51
        }
      },
      "source": [
        "ypred = model.predict(X2)\n",
        "s=pd.DataFrame(ypred)\n",
        "s1=pd.DataFrame(y2)\n",
        "s1.corrwith(s, axis = 0) "
      ],
      "execution_count": 51,
      "outputs": [
        {
          "output_type": "execute_result",
          "data": {
            "text/plain": [
              "0    0.207031\n",
              "dtype: float64"
            ]
          },
          "metadata": {
            "tags": []
          },
          "execution_count": 51
        }
      ]
    },
    {
      "cell_type": "code",
      "metadata": {
        "id": "tlTzEl3-2U7y",
        "colab_type": "code",
        "outputId": "eacb3ed4-8b30-4ed8-c483-48ddb53ec564",
        "colab": {
          "base_uri": "https://localhost:8080/",
          "height": 34
        }
      },
      "source": [
        "r2_score(y2,ypred)"
      ],
      "execution_count": 52,
      "outputs": [
        {
          "output_type": "execute_result",
          "data": {
            "text/plain": [
              "0.03487791955161945"
            ]
          },
          "metadata": {
            "tags": []
          },
          "execution_count": 52
        }
      ]
    },
    {
      "cell_type": "code",
      "metadata": {
        "id": "XEYGfYmVtO0D",
        "colab_type": "code",
        "outputId": "eb970c6e-e453-40cf-cc5d-f6659c5d1a72",
        "colab": {
          "base_uri": "https://localhost:8080/",
          "height": 51
        }
      },
      "source": [
        "ypred = model.predict(X3)\n",
        "s=pd.DataFrame(ypred)\n",
        "s1=pd.DataFrame(y3)\n",
        "s1.corrwith(s, axis = 0) "
      ],
      "execution_count": 53,
      "outputs": [
        {
          "output_type": "execute_result",
          "data": {
            "text/plain": [
              "0    0.225259\n",
              "dtype: float64"
            ]
          },
          "metadata": {
            "tags": []
          },
          "execution_count": 53
        }
      ]
    },
    {
      "cell_type": "code",
      "metadata": {
        "id": "4J5AIRv72X6C",
        "colab_type": "code",
        "outputId": "6ed3e5dd-5725-4f5a-ce3d-0ed49e611565",
        "colab": {
          "base_uri": "https://localhost:8080/",
          "height": 34
        }
      },
      "source": [
        "r2_score(y3,ypred)"
      ],
      "execution_count": 54,
      "outputs": [
        {
          "output_type": "execute_result",
          "data": {
            "text/plain": [
              "0.04467105338581967"
            ]
          },
          "metadata": {
            "tags": []
          },
          "execution_count": 54
        }
      ]
    },
    {
      "cell_type": "code",
      "metadata": {
        "id": "wrRjg_zftO40",
        "colab_type": "code",
        "outputId": "af3675c8-b2f3-4002-afc0-a1de4d0ca7c2",
        "colab": {
          "base_uri": "https://localhost:8080/",
          "height": 51
        }
      },
      "source": [
        "ypred = model.predict(X4)\n",
        "s=pd.DataFrame(ypred)\n",
        "s1=pd.DataFrame(y4)\n",
        "s1.corrwith(s, axis = 0) "
      ],
      "execution_count": 55,
      "outputs": [
        {
          "output_type": "execute_result",
          "data": {
            "text/plain": [
              "0    0.234413\n",
              "dtype: float64"
            ]
          },
          "metadata": {
            "tags": []
          },
          "execution_count": 55
        }
      ]
    },
    {
      "cell_type": "code",
      "metadata": {
        "id": "AWnfNQly2ZkA",
        "colab_type": "code",
        "outputId": "567365b5-3e42-48ff-bab7-e5df840127e9",
        "colab": {
          "base_uri": "https://localhost:8080/",
          "height": 34
        }
      },
      "source": [
        "r2_score(y4,ypred)"
      ],
      "execution_count": 56,
      "outputs": [
        {
          "output_type": "execute_result",
          "data": {
            "text/plain": [
              "0.04992354644040464"
            ]
          },
          "metadata": {
            "tags": []
          },
          "execution_count": 56
        }
      ]
    },
    {
      "cell_type": "code",
      "metadata": {
        "id": "X-TznBSC0pxC",
        "colab_type": "code",
        "outputId": "a4cc0ff8-08fb-422f-9956-7a818f25fc26",
        "colab": {
          "base_uri": "https://localhost:8080/",
          "height": 51
        }
      },
      "source": [
        "ypred = model.predict(X5)\n",
        "s=pd.DataFrame(ypred)\n",
        "s1=pd.DataFrame(y5)\n",
        "s1.corrwith(s, axis = 0) "
      ],
      "execution_count": 57,
      "outputs": [
        {
          "output_type": "execute_result",
          "data": {
            "text/plain": [
              "0    0.217627\n",
              "dtype: float64"
            ]
          },
          "metadata": {
            "tags": []
          },
          "execution_count": 57
        }
      ]
    },
    {
      "cell_type": "code",
      "metadata": {
        "id": "Ki95t5yu2cV3",
        "colab_type": "code",
        "outputId": "91d36cce-0602-4d70-eaa6-44cc40aaca26",
        "colab": {
          "base_uri": "https://localhost:8080/",
          "height": 34
        }
      },
      "source": [
        "r2_score(y5,ypred)"
      ],
      "execution_count": 58,
      "outputs": [
        {
          "output_type": "execute_result",
          "data": {
            "text/plain": [
              "0.040583700614081675"
            ]
          },
          "metadata": {
            "tags": []
          },
          "execution_count": 58
        }
      ]
    },
    {
      "cell_type": "code",
      "metadata": {
        "id": "ZJeNgz3W0qF3",
        "colab_type": "code",
        "outputId": "b74f4b5e-ae64-4267-8001-05338ec937bb",
        "colab": {
          "base_uri": "https://localhost:8080/",
          "height": 51
        }
      },
      "source": [
        "ypred = model.predict(X6)\n",
        "s=pd.DataFrame(ypred)\n",
        "s1=pd.DataFrame(y6)\n",
        "s1.corrwith(s, axis = 0) "
      ],
      "execution_count": 59,
      "outputs": [
        {
          "output_type": "execute_result",
          "data": {
            "text/plain": [
              "0    0.268622\n",
              "dtype: float64"
            ]
          },
          "metadata": {
            "tags": []
          },
          "execution_count": 59
        }
      ]
    },
    {
      "cell_type": "code",
      "metadata": {
        "id": "3OuGs3vq2dGj",
        "colab_type": "code",
        "outputId": "f2310615-723d-4210-e8f0-66a554e6ce6e",
        "colab": {
          "base_uri": "https://localhost:8080/",
          "height": 34
        }
      },
      "source": [
        "r2_score(y6,ypred)"
      ],
      "execution_count": 60,
      "outputs": [
        {
          "output_type": "execute_result",
          "data": {
            "text/plain": [
              "0.06708031811740112"
            ]
          },
          "metadata": {
            "tags": []
          },
          "execution_count": 60
        }
      ]
    },
    {
      "cell_type": "code",
      "metadata": {
        "id": "zAWmCdTX0qld",
        "colab_type": "code",
        "outputId": "c7c38210-46b3-40d5-81cd-47d37936ce0e",
        "colab": {
          "base_uri": "https://localhost:8080/",
          "height": 51
        }
      },
      "source": [
        "ypred = model.predict(X7)\n",
        "s=pd.DataFrame(ypred)\n",
        "s1=pd.DataFrame(y7)\n",
        "s1.corrwith(s, axis = 0) "
      ],
      "execution_count": 61,
      "outputs": [
        {
          "output_type": "execute_result",
          "data": {
            "text/plain": [
              "0    0.283183\n",
              "dtype: float64"
            ]
          },
          "metadata": {
            "tags": []
          },
          "execution_count": 61
        }
      ]
    },
    {
      "cell_type": "code",
      "metadata": {
        "id": "cg3dWNeU2fJb",
        "colab_type": "code",
        "outputId": "dcb6f163-dadc-4128-8dbb-b1a341f89f94",
        "colab": {
          "base_uri": "https://localhost:8080/",
          "height": 34
        }
      },
      "source": [
        "r2_score(y7,ypred)"
      ],
      "execution_count": 62,
      "outputs": [
        {
          "output_type": "execute_result",
          "data": {
            "text/plain": [
              "0.07599842066505047"
            ]
          },
          "metadata": {
            "tags": []
          },
          "execution_count": 62
        }
      ]
    },
    {
      "cell_type": "code",
      "metadata": {
        "id": "zxrE5RN90tuo",
        "colab_type": "code",
        "outputId": "9efee2d2-a7ba-4738-cb5d-e6ea42b6859c",
        "colab": {
          "base_uri": "https://localhost:8080/",
          "height": 51
        }
      },
      "source": [
        "ypred = model.predict(X8)\n",
        "s=pd.DataFrame(ypred)\n",
        "s1=pd.DataFrame(y8)\n",
        "s1.corrwith(s, axis = 0) "
      ],
      "execution_count": 63,
      "outputs": [
        {
          "output_type": "execute_result",
          "data": {
            "text/plain": [
              "0    0.282589\n",
              "dtype: float64"
            ]
          },
          "metadata": {
            "tags": []
          },
          "execution_count": 63
        }
      ]
    },
    {
      "cell_type": "code",
      "metadata": {
        "id": "cqeSQDAg2gEb",
        "colab_type": "code",
        "outputId": "efaab4e7-30a6-434c-b1f0-75bdb7031418",
        "colab": {
          "base_uri": "https://localhost:8080/",
          "height": 34
        }
      },
      "source": [
        "r2_score(y8,ypred)"
      ],
      "execution_count": 64,
      "outputs": [
        {
          "output_type": "execute_result",
          "data": {
            "text/plain": [
              "0.07543850027731525"
            ]
          },
          "metadata": {
            "tags": []
          },
          "execution_count": 64
        }
      ]
    },
    {
      "cell_type": "code",
      "metadata": {
        "id": "AmOGnlWM0uPN",
        "colab_type": "code",
        "outputId": "81434fe7-b2d1-4e38-87d7-d1be3d3ca6b9",
        "colab": {
          "base_uri": "https://localhost:8080/",
          "height": 51
        }
      },
      "source": [
        "ypred = model.predict(X9)\n",
        "s=pd.DataFrame(ypred)\n",
        "s1=pd.DataFrame(y9)\n",
        "s1.corrwith(s, axis = 0) "
      ],
      "execution_count": 65,
      "outputs": [
        {
          "output_type": "execute_result",
          "data": {
            "text/plain": [
              "0    0.28349\n",
              "dtype: float64"
            ]
          },
          "metadata": {
            "tags": []
          },
          "execution_count": 65
        }
      ]
    },
    {
      "cell_type": "code",
      "metadata": {
        "id": "PtuVEdv92hhW",
        "colab_type": "code",
        "outputId": "b3e0dd4f-67ad-4077-f7bb-90b92849abed",
        "colab": {
          "base_uri": "https://localhost:8080/",
          "height": 34
        }
      },
      "source": [
        "r2_score(y9,ypred)"
      ],
      "execution_count": 66,
      "outputs": [
        {
          "output_type": "execute_result",
          "data": {
            "text/plain": [
              "0.015150835223425974"
            ]
          },
          "metadata": {
            "tags": []
          },
          "execution_count": 66
        }
      ]
    },
    {
      "cell_type": "code",
      "metadata": {
        "id": "ieAfAL2D0ujf",
        "colab_type": "code",
        "outputId": "7d828392-0119-498c-a92f-dac26912e36b",
        "colab": {
          "base_uri": "https://localhost:8080/",
          "height": 51
        }
      },
      "source": [
        "ypred = model.predict(X10)\n",
        "s=pd.DataFrame(ypred)\n",
        "s1=pd.DataFrame(y10)\n",
        "s1.corrwith(s, axis = 0) "
      ],
      "execution_count": 67,
      "outputs": [
        {
          "output_type": "execute_result",
          "data": {
            "text/plain": [
              "0    0.341204\n",
              "dtype: float64"
            ]
          },
          "metadata": {
            "tags": []
          },
          "execution_count": 67
        }
      ]
    },
    {
      "cell_type": "code",
      "metadata": {
        "id": "KcLqSP9C2iGp",
        "colab_type": "code",
        "outputId": "529d88b7-0ac6-4819-a7f2-2fd27da58adb",
        "colab": {
          "base_uri": "https://localhost:8080/",
          "height": 34
        }
      },
      "source": [
        "r2_score(y10,ypred)"
      ],
      "execution_count": 68,
      "outputs": [
        {
          "output_type": "execute_result",
          "data": {
            "text/plain": [
              "0.11371802710294021"
            ]
          },
          "metadata": {
            "tags": []
          },
          "execution_count": 68
        }
      ]
    },
    {
      "cell_type": "code",
      "metadata": {
        "id": "2m6z-TuB0vIV",
        "colab_type": "code",
        "colab": {}
      },
      "source": [
        "ypred = model.predict(X11)\n",
        "s=pd.DataFrame(ypred)\n",
        "s1=pd.DataFrame(y11)\n",
        "s1.corrwith(s, axis = 0) "
      ],
      "execution_count": 0,
      "outputs": []
    },
    {
      "cell_type": "code",
      "metadata": {
        "id": "XhzjqneI2ilD",
        "colab_type": "code",
        "colab": {}
      },
      "source": [
        "r2_score(y11,ypred)"
      ],
      "execution_count": 0,
      "outputs": []
    },
    {
      "cell_type": "code",
      "metadata": {
        "id": "DvW3aMTp0vn_",
        "colab_type": "code",
        "colab": {}
      },
      "source": [
        "ypred = model.predict(X12)\n",
        "s=pd.DataFrame(ypred)\n",
        "s1=pd.DataFrame(y12)\n",
        "s1.corrwith(s, axis = 0) "
      ],
      "execution_count": 0,
      "outputs": []
    },
    {
      "cell_type": "code",
      "metadata": {
        "id": "i5F0dCJD2jkq",
        "colab_type": "code",
        "colab": {}
      },
      "source": [
        "r2_score(y12,ypred)"
      ],
      "execution_count": 0,
      "outputs": []
    },
    {
      "cell_type": "code",
      "metadata": {
        "id": "AewWEjji0v19",
        "colab_type": "code",
        "colab": {}
      },
      "source": [
        "ypred = model.predict(X13)\n",
        "s=pd.DataFrame(ypred)\n",
        "s1=pd.DataFrame(y13)\n",
        "s1.corrwith(s, axis = 0) "
      ],
      "execution_count": 0,
      "outputs": []
    },
    {
      "cell_type": "code",
      "metadata": {
        "id": "IJrj8z-42kWW",
        "colab_type": "code",
        "colab": {}
      },
      "source": [
        "r2_score(y13,ypred)"
      ],
      "execution_count": 0,
      "outputs": []
    },
    {
      "cell_type": "code",
      "metadata": {
        "id": "t1PhtyNHCgcE",
        "colab_type": "code",
        "colab": {}
      },
      "source": [
        "ypred = model.predict(X14)\n",
        "s=pd.DataFrame(ypred)\n",
        "s1=pd.DataFrame(y14)\n",
        "s1.corrwith(s, axis = 0) "
      ],
      "execution_count": 0,
      "outputs": []
    },
    {
      "cell_type": "code",
      "metadata": {
        "id": "nqF3B-2FC2tT",
        "colab_type": "code",
        "colab": {}
      },
      "source": [
        "r2_score(y14,ypred)"
      ],
      "execution_count": 0,
      "outputs": []
    },
    {
      "cell_type": "code",
      "metadata": {
        "id": "cLUl30RjChJM",
        "colab_type": "code",
        "colab": {}
      },
      "source": [
        "ypred = model.predict(X15)\n",
        "s=pd.DataFrame(ypred)\n",
        "s1=pd.DataFrame(y15)\n",
        "s1.corrwith(s, axis = 0) "
      ],
      "execution_count": 0,
      "outputs": []
    },
    {
      "cell_type": "code",
      "metadata": {
        "id": "rlvgSUhoC3rJ",
        "colab_type": "code",
        "colab": {}
      },
      "source": [
        "r2_score(y15,ypred)"
      ],
      "execution_count": 0,
      "outputs": []
    },
    {
      "cell_type": "code",
      "metadata": {
        "id": "RTWy296GCho8",
        "colab_type": "code",
        "colab": {}
      },
      "source": [
        "ypred = model.predict(X16)\n",
        "s=pd.DataFrame(ypred)\n",
        "s1=pd.DataFrame(y16)\n",
        "s1.corrwith(s, axis = 0) "
      ],
      "execution_count": 0,
      "outputs": []
    },
    {
      "cell_type": "code",
      "metadata": {
        "id": "5_BR02GnC4Zz",
        "colab_type": "code",
        "colab": {}
      },
      "source": [
        "r2_score(y16,ypred)"
      ],
      "execution_count": 0,
      "outputs": []
    },
    {
      "cell_type": "code",
      "metadata": {
        "id": "t07AhxuUCiXV",
        "colab_type": "code",
        "colab": {}
      },
      "source": [
        "ypred = model.predict(X17)\n",
        "s=pd.DataFrame(ypred)\n",
        "s1=pd.DataFrame(y17)\n",
        "s1.corrwith(s, axis = 0) "
      ],
      "execution_count": 0,
      "outputs": []
    },
    {
      "cell_type": "code",
      "metadata": {
        "id": "ejrnzMscC6N6",
        "colab_type": "code",
        "colab": {}
      },
      "source": [
        "r2_score(y17,ypred)"
      ],
      "execution_count": 0,
      "outputs": []
    },
    {
      "cell_type": "code",
      "metadata": {
        "id": "S_uFfJu6Ci29",
        "colab_type": "code",
        "colab": {}
      },
      "source": [
        "ypred = model.predict(X18)\n",
        "s=pd.DataFrame(ypred)\n",
        "s1=pd.DataFrame(y18)\n",
        "s1.corrwith(s, axis = 0) "
      ],
      "execution_count": 0,
      "outputs": []
    },
    {
      "cell_type": "code",
      "metadata": {
        "id": "RwP_ltmqC64n",
        "colab_type": "code",
        "colab": {}
      },
      "source": [
        "r2_score(y18,ypred)"
      ],
      "execution_count": 0,
      "outputs": []
    },
    {
      "cell_type": "markdown",
      "metadata": {
        "id": "fQWY7xzN1XnW",
        "colab_type": "text"
      },
      "source": [
        ""
      ]
    },
    {
      "cell_type": "code",
      "metadata": {
        "id": "F1alOVKz0wEY",
        "colab_type": "code",
        "outputId": "f317f137-38e9-46c4-bce7-6dbea4eaff52",
        "colab": {
          "base_uri": "https://localhost:8080/",
          "height": 51
        }
      },
      "source": [
        "ypred1=model.predict(X_test)\n",
        "s=pd.DataFrame(ypred1)\n",
        "s1=pd.DataFrame(y_test)\n",
        "s1.corrwith(s,axis=0)"
      ],
      "execution_count": 69,
      "outputs": [
        {
          "output_type": "execute_result",
          "data": {
            "text/plain": [
              "0    0.386493\n",
              "dtype: float64"
            ]
          },
          "metadata": {
            "tags": []
          },
          "execution_count": 69
        }
      ]
    },
    {
      "cell_type": "code",
      "metadata": {
        "id": "sUlUlZnL2tki",
        "colab_type": "code",
        "outputId": "97390552-ed2e-4b0f-dc51-8debe981288d",
        "colab": {
          "base_uri": "https://localhost:8080/",
          "height": 34
        }
      },
      "source": [
        "r2_score(y_test,ypred1)"
      ],
      "execution_count": 70,
      "outputs": [
        {
          "output_type": "execute_result",
          "data": {
            "text/plain": [
              "0.1473796956394402"
            ]
          },
          "metadata": {
            "tags": []
          },
          "execution_count": 70
        }
      ]
    },
    {
      "cell_type": "code",
      "metadata": {
        "id": "lCOJ-5mA0wQt",
        "colab_type": "code",
        "outputId": "544034bd-9e63-488a-969c-d16eccab59be",
        "colab": {
          "base_uri": "https://localhost:8080/",
          "height": 51
        }
      },
      "source": [
        "ypred1=model.predict(X_test1)\n",
        "s=pd.DataFrame(ypred1)\n",
        "s1=pd.DataFrame(y_test1)\n",
        "s1.corrwith(s,axis=0)"
      ],
      "execution_count": 71,
      "outputs": [
        {
          "output_type": "execute_result",
          "data": {
            "text/plain": [
              "0    0.3444\n",
              "dtype: float64"
            ]
          },
          "metadata": {
            "tags": []
          },
          "execution_count": 71
        }
      ]
    },
    {
      "cell_type": "code",
      "metadata": {
        "id": "ZfWTGPYj2ujC",
        "colab_type": "code",
        "outputId": "f8145432-b6f9-463f-f803-a5cf27d5e99f",
        "colab": {
          "base_uri": "https://localhost:8080/",
          "height": 34
        }
      },
      "source": [
        "r2_score(y_test1,ypred1)"
      ],
      "execution_count": 72,
      "outputs": [
        {
          "output_type": "execute_result",
          "data": {
            "text/plain": [
              "0.11795677725411491"
            ]
          },
          "metadata": {
            "tags": []
          },
          "execution_count": 72
        }
      ]
    },
    {
      "cell_type": "code",
      "metadata": {
        "id": "tI-ZUDwN0wa1",
        "colab_type": "code",
        "outputId": "ab1caabe-3f71-47ba-f243-c420c5d2140c",
        "colab": {
          "base_uri": "https://localhost:8080/",
          "height": 51
        }
      },
      "source": [
        "ypred1=model.predict(X_test2)\n",
        "s=pd.DataFrame(ypred1)\n",
        "s1=pd.DataFrame(y_test2)\n",
        "s1.corrwith(s,axis=0)"
      ],
      "execution_count": 73,
      "outputs": [
        {
          "output_type": "execute_result",
          "data": {
            "text/plain": [
              "0    0.207031\n",
              "dtype: float64"
            ]
          },
          "metadata": {
            "tags": []
          },
          "execution_count": 73
        }
      ]
    },
    {
      "cell_type": "code",
      "metadata": {
        "id": "K4QtYP0S2vGK",
        "colab_type": "code",
        "outputId": "86006574-d3e0-4346-beeb-f292b25b4a5f",
        "colab": {
          "base_uri": "https://localhost:8080/",
          "height": 34
        }
      },
      "source": [
        "r2_score(y_test2,ypred1)"
      ],
      "execution_count": 74,
      "outputs": [
        {
          "output_type": "execute_result",
          "data": {
            "text/plain": [
              "0.03487791955161945"
            ]
          },
          "metadata": {
            "tags": []
          },
          "execution_count": 74
        }
      ]
    },
    {
      "cell_type": "code",
      "metadata": {
        "id": "1AtzY_bj0wh2",
        "colab_type": "code",
        "outputId": "cfdc0292-f293-4a49-83e9-260c01836824",
        "colab": {
          "base_uri": "https://localhost:8080/",
          "height": 51
        }
      },
      "source": [
        "ypred1=model.predict(X_test3)\n",
        "s=pd.DataFrame(ypred1)\n",
        "s1=pd.DataFrame(y_test3)\n",
        "s1.corrwith(s,axis=0)"
      ],
      "execution_count": 75,
      "outputs": [
        {
          "output_type": "execute_result",
          "data": {
            "text/plain": [
              "0    0.225259\n",
              "dtype: float64"
            ]
          },
          "metadata": {
            "tags": []
          },
          "execution_count": 75
        }
      ]
    },
    {
      "cell_type": "code",
      "metadata": {
        "id": "oZGue0im2w7O",
        "colab_type": "code",
        "outputId": "dcae7213-fb98-415f-e054-056a22f492de",
        "colab": {
          "base_uri": "https://localhost:8080/",
          "height": 34
        }
      },
      "source": [
        "r2_score(y_test3,ypred1)"
      ],
      "execution_count": 76,
      "outputs": [
        {
          "output_type": "execute_result",
          "data": {
            "text/plain": [
              "0.04467105338581967"
            ]
          },
          "metadata": {
            "tags": []
          },
          "execution_count": 76
        }
      ]
    },
    {
      "cell_type": "code",
      "metadata": {
        "id": "jTTF9xJu0wnX",
        "colab_type": "code",
        "outputId": "7cf6068d-0533-41ec-d6ae-ecce3dc80bfb",
        "colab": {
          "base_uri": "https://localhost:8080/",
          "height": 51
        }
      },
      "source": [
        "ypred1=model.predict(X_test4)\n",
        "s=pd.DataFrame(ypred1)\n",
        "s1=pd.DataFrame(y_test4)\n",
        "s1.corrwith(s,axis=0)"
      ],
      "execution_count": 77,
      "outputs": [
        {
          "output_type": "execute_result",
          "data": {
            "text/plain": [
              "0    0.234413\n",
              "dtype: float64"
            ]
          },
          "metadata": {
            "tags": []
          },
          "execution_count": 77
        }
      ]
    },
    {
      "cell_type": "code",
      "metadata": {
        "id": "5novMRmS2xk6",
        "colab_type": "code",
        "outputId": "ab10a594-e040-4fbd-955c-086d4488fe4b",
        "colab": {
          "base_uri": "https://localhost:8080/",
          "height": 34
        }
      },
      "source": [
        "r2_score(y_test4,ypred1)"
      ],
      "execution_count": 78,
      "outputs": [
        {
          "output_type": "execute_result",
          "data": {
            "text/plain": [
              "0.04992354644040464"
            ]
          },
          "metadata": {
            "tags": []
          },
          "execution_count": 78
        }
      ]
    },
    {
      "cell_type": "code",
      "metadata": {
        "id": "j5b4sicX0wrv",
        "colab_type": "code",
        "outputId": "a8959e0a-0ada-4a55-d923-dbc1a47fad83",
        "colab": {
          "base_uri": "https://localhost:8080/",
          "height": 51
        }
      },
      "source": [
        "ypred1=model.predict(X_test5)\n",
        "s=pd.DataFrame(ypred1)\n",
        "s1=pd.DataFrame(y_test5)\n",
        "s1.corrwith(s,axis=0)"
      ],
      "execution_count": 79,
      "outputs": [
        {
          "output_type": "execute_result",
          "data": {
            "text/plain": [
              "0    0.217627\n",
              "dtype: float64"
            ]
          },
          "metadata": {
            "tags": []
          },
          "execution_count": 79
        }
      ]
    },
    {
      "cell_type": "code",
      "metadata": {
        "id": "F9mlviBX2zmw",
        "colab_type": "code",
        "outputId": "6f07e167-b60e-457c-f654-634d11188e15",
        "colab": {
          "base_uri": "https://localhost:8080/",
          "height": 34
        }
      },
      "source": [
        "r2_score(y_test5,ypred1)"
      ],
      "execution_count": 80,
      "outputs": [
        {
          "output_type": "execute_result",
          "data": {
            "text/plain": [
              "0.040583700614081675"
            ]
          },
          "metadata": {
            "tags": []
          },
          "execution_count": 80
        }
      ]
    },
    {
      "cell_type": "code",
      "metadata": {
        "id": "skALIO_n0wvp",
        "colab_type": "code",
        "outputId": "978731d3-a614-4c51-df25-a72e7c52db61",
        "colab": {
          "base_uri": "https://localhost:8080/",
          "height": 51
        }
      },
      "source": [
        "ypred1=model.predict(X_test6)\n",
        "s=pd.DataFrame(ypred1)\n",
        "s1=pd.DataFrame(y_test6)\n",
        "s1.corrwith(s,axis=0)"
      ],
      "execution_count": 81,
      "outputs": [
        {
          "output_type": "execute_result",
          "data": {
            "text/plain": [
              "0    0.268622\n",
              "dtype: float64"
            ]
          },
          "metadata": {
            "tags": []
          },
          "execution_count": 81
        }
      ]
    },
    {
      "cell_type": "code",
      "metadata": {
        "id": "5muAmEr020RT",
        "colab_type": "code",
        "outputId": "259d6462-de4b-4a71-a4f5-fe9d4b6398d4",
        "colab": {
          "base_uri": "https://localhost:8080/",
          "height": 34
        }
      },
      "source": [
        "r2_score(y_test6,ypred1)"
      ],
      "execution_count": 82,
      "outputs": [
        {
          "output_type": "execute_result",
          "data": {
            "text/plain": [
              "0.06708031811740112"
            ]
          },
          "metadata": {
            "tags": []
          },
          "execution_count": 82
        }
      ]
    },
    {
      "cell_type": "code",
      "metadata": {
        "id": "6JdwZ39C1c5j",
        "colab_type": "code",
        "outputId": "ffe86e91-717a-4be9-9396-e73dd4016ca2",
        "colab": {
          "base_uri": "https://localhost:8080/",
          "height": 51
        }
      },
      "source": [
        "ypred1=model.predict(X_test7)\n",
        "s=pd.DataFrame(ypred1)\n",
        "s1=pd.DataFrame(y_test7)\n",
        "s1.corrwith(s,axis=0)"
      ],
      "execution_count": 83,
      "outputs": [
        {
          "output_type": "execute_result",
          "data": {
            "text/plain": [
              "0    0.283183\n",
              "dtype: float64"
            ]
          },
          "metadata": {
            "tags": []
          },
          "execution_count": 83
        }
      ]
    },
    {
      "cell_type": "code",
      "metadata": {
        "id": "wUDZI-i722V6",
        "colab_type": "code",
        "outputId": "a955ebe5-b5ef-4f07-e596-cd9820062fde",
        "colab": {
          "base_uri": "https://localhost:8080/",
          "height": 34
        }
      },
      "source": [
        "r2_score(y_test7,ypred1)"
      ],
      "execution_count": 84,
      "outputs": [
        {
          "output_type": "execute_result",
          "data": {
            "text/plain": [
              "0.07599842066505047"
            ]
          },
          "metadata": {
            "tags": []
          },
          "execution_count": 84
        }
      ]
    },
    {
      "cell_type": "code",
      "metadata": {
        "id": "Rt_XXJsq1c1l",
        "colab_type": "code",
        "outputId": "b1436d8a-2a9c-47c9-ad05-72f1c4ebec9c",
        "colab": {
          "base_uri": "https://localhost:8080/",
          "height": 51
        }
      },
      "source": [
        "ypred1=model.predict(X_test8)\n",
        "s=pd.DataFrame(ypred1)\n",
        "s1=pd.DataFrame(y_test8)\n",
        "s1.corrwith(s,axis=0)"
      ],
      "execution_count": 85,
      "outputs": [
        {
          "output_type": "execute_result",
          "data": {
            "text/plain": [
              "0    0.282589\n",
              "dtype: float64"
            ]
          },
          "metadata": {
            "tags": []
          },
          "execution_count": 85
        }
      ]
    },
    {
      "cell_type": "code",
      "metadata": {
        "id": "ubnyDugl23DM",
        "colab_type": "code",
        "outputId": "8a7251d0-dee1-40e5-b335-3bef24f309c2",
        "colab": {
          "base_uri": "https://localhost:8080/",
          "height": 34
        }
      },
      "source": [
        "r2_score(y_test8,ypred1)"
      ],
      "execution_count": 86,
      "outputs": [
        {
          "output_type": "execute_result",
          "data": {
            "text/plain": [
              "0.07543850027731525"
            ]
          },
          "metadata": {
            "tags": []
          },
          "execution_count": 86
        }
      ]
    },
    {
      "cell_type": "code",
      "metadata": {
        "id": "j-H3L47o1dV2",
        "colab_type": "code",
        "outputId": "531da5f2-293d-458d-c7ef-874c19576e4f",
        "colab": {
          "base_uri": "https://localhost:8080/",
          "height": 51
        }
      },
      "source": [
        "ypred1=model.predict(X_test9)\n",
        "s=pd.DataFrame(ypred1)\n",
        "s1=pd.DataFrame(y_test9)\n",
        "s1.corrwith(s,axis=0)"
      ],
      "execution_count": 87,
      "outputs": [
        {
          "output_type": "execute_result",
          "data": {
            "text/plain": [
              "0    0.28349\n",
              "dtype: float64"
            ]
          },
          "metadata": {
            "tags": []
          },
          "execution_count": 87
        }
      ]
    },
    {
      "cell_type": "code",
      "metadata": {
        "id": "j_tJUD7X23sa",
        "colab_type": "code",
        "outputId": "d1e3207a-9020-46f8-9c02-0397f0f433d3",
        "colab": {
          "base_uri": "https://localhost:8080/",
          "height": 34
        }
      },
      "source": [
        "r2_score(y_test9,ypred1)"
      ],
      "execution_count": 88,
      "outputs": [
        {
          "output_type": "execute_result",
          "data": {
            "text/plain": [
              "0.015150835223425974"
            ]
          },
          "metadata": {
            "tags": []
          },
          "execution_count": 88
        }
      ]
    },
    {
      "cell_type": "code",
      "metadata": {
        "id": "l4fOs8O21dzc",
        "colab_type": "code",
        "outputId": "60612d3e-f280-41ff-bed6-ab1b0ef0dc09",
        "colab": {
          "base_uri": "https://localhost:8080/",
          "height": 51
        }
      },
      "source": [
        "ypred1=model.predict(X_test10)\n",
        "s=pd.DataFrame(ypred1)\n",
        "s1=pd.DataFrame(y_test10)\n",
        "s1.corrwith(s,axis=0)"
      ],
      "execution_count": 89,
      "outputs": [
        {
          "output_type": "execute_result",
          "data": {
            "text/plain": [
              "0    0.341204\n",
              "dtype: float64"
            ]
          },
          "metadata": {
            "tags": []
          },
          "execution_count": 89
        }
      ]
    },
    {
      "cell_type": "code",
      "metadata": {
        "id": "exq3knle25Pd",
        "colab_type": "code",
        "outputId": "c64721e9-a720-4a02-8c30-b33aee96e790",
        "colab": {
          "base_uri": "https://localhost:8080/",
          "height": 34
        }
      },
      "source": [
        "r2_score(y_test10,ypred1)"
      ],
      "execution_count": 90,
      "outputs": [
        {
          "output_type": "execute_result",
          "data": {
            "text/plain": [
              "0.11371802710294021"
            ]
          },
          "metadata": {
            "tags": []
          },
          "execution_count": 90
        }
      ]
    },
    {
      "cell_type": "code",
      "metadata": {
        "id": "IYGHzrjL1eKT",
        "colab_type": "code",
        "outputId": "52870511-0af4-47a8-b497-964acb7903f3",
        "colab": {
          "base_uri": "https://localhost:8080/",
          "height": 51
        }
      },
      "source": [
        "ypred1=model.predict(X_test11)\n",
        "s=pd.DataFrame(ypred1)\n",
        "s1=pd.DataFrame(y_test11)\n",
        "s1.corrwith(s,axis=0)"
      ],
      "execution_count": 91,
      "outputs": [
        {
          "output_type": "execute_result",
          "data": {
            "text/plain": [
              "0    0.293318\n",
              "dtype: float64"
            ]
          },
          "metadata": {
            "tags": []
          },
          "execution_count": 91
        }
      ]
    },
    {
      "cell_type": "code",
      "metadata": {
        "id": "QXwKRcWc26Yh",
        "colab_type": "code",
        "outputId": "05ea7a0d-daed-4090-a8c9-c54b14a2d217",
        "colab": {
          "base_uri": "https://localhost:8080/",
          "height": 34
        }
      },
      "source": [
        "r2_score(y_test11,ypred1)"
      ],
      "execution_count": 92,
      "outputs": [
        {
          "output_type": "execute_result",
          "data": {
            "text/plain": [
              "0.08476310438796708"
            ]
          },
          "metadata": {
            "tags": []
          },
          "execution_count": 92
        }
      ]
    },
    {
      "cell_type": "code",
      "metadata": {
        "id": "_O7WPlbx1f2T",
        "colab_type": "code",
        "colab": {
          "base_uri": "https://localhost:8080/",
          "height": 51
        },
        "outputId": "6d5a23eb-e8c3-4535-b040-e21a83f03575"
      },
      "source": [
        "ypred1=model.predict(X_test12)\n",
        "s=pd.DataFrame(ypred1)\n",
        "s1=pd.DataFrame(y_test12)\n",
        "s1.corrwith(s,axis=0)"
      ],
      "execution_count": 93,
      "outputs": [
        {
          "output_type": "execute_result",
          "data": {
            "text/plain": [
              "0    0.340609\n",
              "dtype: float64"
            ]
          },
          "metadata": {
            "tags": []
          },
          "execution_count": 93
        }
      ]
    },
    {
      "cell_type": "code",
      "metadata": {
        "id": "fYfQTOWVDgQ7",
        "colab_type": "code",
        "colab": {
          "base_uri": "https://localhost:8080/",
          "height": 34
        },
        "outputId": "23b01e2f-3756-48b9-a38b-47fd246068b4"
      },
      "source": [
        "r2_score(y_test12,ypred1)"
      ],
      "execution_count": 94,
      "outputs": [
        {
          "output_type": "execute_result",
          "data": {
            "text/plain": [
              "0.11598872401679106"
            ]
          },
          "metadata": {
            "tags": []
          },
          "execution_count": 94
        }
      ]
    },
    {
      "cell_type": "code",
      "metadata": {
        "id": "gmzUxxrB1gDP",
        "colab_type": "code",
        "colab": {}
      },
      "source": [
        "ypred1=model.predict(X_test13)\n",
        "s=pd.DataFrame(ypred1)\n",
        "s1=pd.DataFrame(y_test13)\n",
        "s1.corrwith(s,axis=0)"
      ],
      "execution_count": 0,
      "outputs": []
    },
    {
      "cell_type": "code",
      "metadata": {
        "id": "57tcK6q3DjBL",
        "colab_type": "code",
        "colab": {}
      },
      "source": [
        "r2_score(y_test13,ypred1)"
      ],
      "execution_count": 0,
      "outputs": []
    },
    {
      "cell_type": "code",
      "metadata": {
        "id": "ZdjhqLuq2IVy",
        "colab_type": "code",
        "colab": {}
      },
      "source": [
        "ypred1=model.predict(X_test14)\n",
        "s=pd.DataFrame(ypred1)\n",
        "s1=pd.DataFrame(y_test14)\n",
        "s1.corrwith(s,axis=0)"
      ],
      "execution_count": 0,
      "outputs": []
    },
    {
      "cell_type": "code",
      "metadata": {
        "id": "wKJPtbtNDk5w",
        "colab_type": "code",
        "colab": {}
      },
      "source": [
        "r2_score(y_test14,ypred1)"
      ],
      "execution_count": 0,
      "outputs": []
    },
    {
      "cell_type": "code",
      "metadata": {
        "id": "dyVRQv3V2I7e",
        "colab_type": "code",
        "colab": {}
      },
      "source": [
        "ypred1=model.predict(X_test15)\n",
        "s=pd.DataFrame(ypred1)\n",
        "s1=pd.DataFrame(y_test15)\n",
        "s1.corrwith(s,axis=0)"
      ],
      "execution_count": 0,
      "outputs": []
    },
    {
      "cell_type": "code",
      "metadata": {
        "id": "IJ9mJr0pDno_",
        "colab_type": "code",
        "colab": {}
      },
      "source": [
        "r2_score(y_test15,ypred1)"
      ],
      "execution_count": 0,
      "outputs": []
    },
    {
      "cell_type": "code",
      "metadata": {
        "id": "qwIHkKs_2JH-",
        "colab_type": "code",
        "colab": {}
      },
      "source": [
        "ypred1=model.predict(X_test16)\n",
        "s=pd.DataFrame(ypred1)\n",
        "s1=pd.DataFrame(y_test16)\n",
        "s1.corrwith(s,axis=0)"
      ],
      "execution_count": 0,
      "outputs": []
    },
    {
      "cell_type": "code",
      "metadata": {
        "id": "9UUFpUzHDpY6",
        "colab_type": "code",
        "colab": {}
      },
      "source": [
        "r2_score(y_test16,ypred1)"
      ],
      "execution_count": 0,
      "outputs": []
    },
    {
      "cell_type": "code",
      "metadata": {
        "id": "zJnz9Kua2Jly",
        "colab_type": "code",
        "colab": {}
      },
      "source": [
        "ypred1=model.predict(X_test17)\n",
        "s=pd.DataFrame(ypred1)\n",
        "s1=pd.DataFrame(y_test17)\n",
        "s1.corrwith(s,axis=0)"
      ],
      "execution_count": 0,
      "outputs": []
    },
    {
      "cell_type": "code",
      "metadata": {
        "id": "9TTuTbE8DrKB",
        "colab_type": "code",
        "colab": {}
      },
      "source": [
        "r2_score(y_test17,ypred1)"
      ],
      "execution_count": 0,
      "outputs": []
    },
    {
      "cell_type": "code",
      "metadata": {
        "id": "NiazIJLZ2J5M",
        "colab_type": "code",
        "colab": {}
      },
      "source": [
        "ypred1=model.predict(X_test18)\n",
        "s=pd.DataFrame(ypred1)\n",
        "s1=pd.DataFrame(y_test18)\n",
        "s1.corrwith(s,axis=0)"
      ],
      "execution_count": 0,
      "outputs": []
    },
    {
      "cell_type": "code",
      "metadata": {
        "id": "bIOque1yDtrL",
        "colab_type": "code",
        "colab": {}
      },
      "source": [
        "r2_score(y_test18,ypred1)"
      ],
      "execution_count": 0,
      "outputs": []
    },
    {
      "cell_type": "code",
      "metadata": {
        "id": "NN1KXiS32KR9",
        "colab_type": "code",
        "colab": {}
      },
      "source": [
        "ypred1=model.predict(X_test)\n",
        "s=pd.DataFrame(ypred1)\n",
        "s1=pd.DataFrame(y_test)\n",
        "s1.corrwith(s,axis=0)"
      ],
      "execution_count": 0,
      "outputs": []
    },
    {
      "cell_type": "code",
      "metadata": {
        "id": "GEoTZoiq2Kmy",
        "colab_type": "code",
        "colab": {}
      },
      "source": [
        ""
      ],
      "execution_count": 0,
      "outputs": []
    },
    {
      "cell_type": "code",
      "metadata": {
        "id": "Ut9RsDLF2K_S",
        "colab_type": "code",
        "colab": {}
      },
      "source": [
        ""
      ],
      "execution_count": 0,
      "outputs": []
    },
    {
      "cell_type": "code",
      "metadata": {
        "id": "8b68LlCh2L19",
        "colab_type": "code",
        "colab": {}
      },
      "source": [
        ""
      ],
      "execution_count": 0,
      "outputs": []
    },
    {
      "cell_type": "code",
      "metadata": {
        "id": "RC7Ucbca2MJS",
        "colab_type": "code",
        "colab": {}
      },
      "source": [
        ""
      ],
      "execution_count": 0,
      "outputs": []
    }
  ]
}