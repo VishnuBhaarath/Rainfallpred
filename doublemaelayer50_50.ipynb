{
  "nbformat": 4,
  "nbformat_minor": 0,
  "metadata": {
    "colab": {
      "name": "doublemaelayer50/50.ipynb",
      "provenance": [],
      "collapsed_sections": [],
      "authorship_tag": "ABX9TyPllWe0YRh9thYizrCbbi6X",
      "include_colab_link": true
    },
    "kernelspec": {
      "name": "python3",
      "display_name": "Python 3"
    }
  },
  "cells": [
    {
      "cell_type": "markdown",
      "metadata": {
        "id": "view-in-github",
        "colab_type": "text"
      },
      "source": [
        "<a href=\"https://colab.research.google.com/github/VishnuBhaarath/Rainfallpred/blob/master/doublemaelayer50_50.ipynb\" target=\"_parent\"><img src=\"https://colab.research.google.com/assets/colab-badge.svg\" alt=\"Open In Colab\"/></a>"
      ]
    },
    {
      "cell_type": "code",
      "metadata": {
        "id": "5YGfJ9tYkM94",
        "colab_type": "code",
        "colab": {
          "base_uri": "https://localhost:8080/",
          "height": 62
        },
        "outputId": "6eec8625-a02c-4fab-80f4-e644e934392f"
      },
      "source": [
        "from numpy.random import seed\n",
        "seed(1)\n",
        "from tensorflow import set_random_seed\n",
        "set_random_seed(2)\n",
        "from sklearn.metrics import r2_score"
      ],
      "execution_count": 4,
      "outputs": [
        {
          "output_type": "display_data",
          "data": {
            "text/html": [
              "<p style=\"color: red;\">\n",
              "The default version of TensorFlow in Colab will soon switch to TensorFlow 2.x.<br>\n",
              "We recommend you <a href=\"https://www.tensorflow.org/guide/migrate\" target=\"_blank\">upgrade</a> now \n",
              "or ensure your notebook will continue to use TensorFlow 1.x via the <code>%tensorflow_version 1.x</code> magic:\n",
              "<a href=\"https://colab.research.google.com/notebooks/tensorflow_version.ipynb\" target=\"_blank\">more info</a>.</p>\n"
            ],
            "text/plain": [
              "<IPython.core.display.HTML object>"
            ]
          },
          "metadata": {
            "tags": []
          }
        }
      ]
    },
    {
      "cell_type": "code",
      "metadata": {
        "id": "cou_fBaEkP6G",
        "colab_type": "code",
        "colab": {}
      },
      "source": [
        "import pandas as pd\n",
        "from pandas import DataFrame\n",
        "import numpy as np\n",
        "from numpy import hstack\n",
        "import tensorflow as tf\n",
        "from tensorflow import keras\n",
        "from sklearn import preprocessing"
      ],
      "execution_count": 0,
      "outputs": []
    },
    {
      "cell_type": "code",
      "metadata": {
        "id": "ACH71at4kV9t",
        "colab_type": "code",
        "colab": {}
      },
      "source": [
        "df=pd.read_excel('trend_anna_imd_21.xlsx')"
      ],
      "execution_count": 0,
      "outputs": []
    },
    {
      "cell_type": "code",
      "metadata": {
        "id": "2hp4FJfQkk9o",
        "colab_type": "code",
        "outputId": "cc51845a-2791-4175-856f-ce6ebe29e601",
        "colab": {
          "base_uri": "https://localhost:8080/",
          "height": 195
        }
      },
      "source": [
        "df.head()"
      ],
      "execution_count": 307,
      "outputs": [
        {
          "output_type": "execute_result",
          "data": {
            "text/html": [
              "<div>\n",
              "<style scoped>\n",
              "    .dataframe tbody tr th:only-of-type {\n",
              "        vertical-align: middle;\n",
              "    }\n",
              "\n",
              "    .dataframe tbody tr th {\n",
              "        vertical-align: top;\n",
              "    }\n",
              "\n",
              "    .dataframe thead th {\n",
              "        text-align: right;\n",
              "    }\n",
              "</style>\n",
              "<table border=\"1\" class=\"dataframe\">\n",
              "  <thead>\n",
              "    <tr style=\"text-align: right;\">\n",
              "      <th></th>\n",
              "      <th>Unnamed: 0</th>\n",
              "      <th>Unnamed: 1</th>\n",
              "    </tr>\n",
              "  </thead>\n",
              "  <tbody>\n",
              "    <tr>\n",
              "      <th>0</th>\n",
              "      <td>1. Cuddalore</td>\n",
              "      <td>NaN</td>\n",
              "    </tr>\n",
              "    <tr>\n",
              "      <th>1</th>\n",
              "      <td>1965-01-01 00:00:00</td>\n",
              "      <td>10.6</td>\n",
              "    </tr>\n",
              "    <tr>\n",
              "      <th>2</th>\n",
              "      <td>1965-01-02 00:00:00</td>\n",
              "      <td>0.0</td>\n",
              "    </tr>\n",
              "    <tr>\n",
              "      <th>3</th>\n",
              "      <td>1965-01-03 00:00:00</td>\n",
              "      <td>13.0</td>\n",
              "    </tr>\n",
              "    <tr>\n",
              "      <th>4</th>\n",
              "      <td>1965-01-04 00:00:00</td>\n",
              "      <td>0.0</td>\n",
              "    </tr>\n",
              "  </tbody>\n",
              "</table>\n",
              "</div>"
            ],
            "text/plain": [
              "            Unnamed: 0  Unnamed: 1\n",
              "0         1. Cuddalore         NaN\n",
              "1  1965-01-01 00:00:00        10.6\n",
              "2  1965-01-02 00:00:00         0.0\n",
              "3  1965-01-03 00:00:00        13.0\n",
              "4  1965-01-04 00:00:00         0.0"
            ]
          },
          "metadata": {
            "tags": []
          },
          "execution_count": 307
        }
      ]
    },
    {
      "cell_type": "code",
      "metadata": {
        "id": "RB9D0KOIkl-g",
        "colab_type": "code",
        "colab": {}
      },
      "source": [
        "Cuddalore=df[3655:19360]\n",
        "Panruti=df[23016:38721]\n",
        "Dharmapuri=df[42408:58082]\n",
        "Harur=df[61738:77443]\n",
        "Palacode=df[81158:96804]\n",
        "Pennagaram=df[100460:116165]\n",
        "Chengam=df[119821:135526]\n",
        "Sathanur=df[138817:154522]\n",
        "Tiruvanamalai=df[158178:173883]\n",
        "Sankarapuram=df[177539:193244]\n",
        "Tirukoilur=df[196899:212604]\n",
        "ulundurpet=df[216260:231965]\n",
        "Villupuram=df[235621:251326]\n",
        "Denkanikottai=df[274343:290048]\n",
        "Hosur=df[293703:309408]\n",
        "Krishnagiri=df[313063:328768]\n",
        "Marandahalli=df[332059:347764]\n",
        "Rayakottai=df[353250:368955]\n",
        "Uthangarai=df[372611:388316]\n"
      ],
      "execution_count": 0,
      "outputs": []
    },
    {
      "cell_type": "code",
      "metadata": {
        "id": "8lT9ZtR0mBO1",
        "colab_type": "code",
        "colab": {}
      },
      "source": [
        "Cuddalore.columns = ['Date', 'Rainfall']\n",
        "Panruti.columns= ['Date', 'Rainfall']\n",
        "Dharmapuri.columns= ['Date', 'Rainfall']\n",
        "Harur.columns= ['Date', 'Rainfall']\n",
        "Palacode.columns= ['Date', 'Rainfall']\n",
        "Pennagaram.columns= ['Date', 'Rainfall']\n",
        "Chengam.columns= ['Date', 'Rainfall']\n",
        "Sathanur.columns= ['Date', 'Rainfall']\n",
        "Tiruvanamalai.columns= ['Date', 'Rainfall']\n",
        "Sankarapuram.columns= ['Date', 'Rainfall']\n",
        "Tirukoilur.columns= ['Date', 'Rainfall']\n",
        "ulundurpet.columns= ['Date', 'Rainfall']\n",
        "Villupuram.columns= ['Date', 'Rainfall']\n",
        "Denkanikottai.columns= ['Date', 'Rainfall']\n",
        "Hosur.columns= ['Date', 'Rainfall']\n",
        "Krishnagiri.columns= ['Date', 'Rainfall']\n",
        "Marandahalli.columns= ['Date', 'Rainfall']\n",
        "Rayakottai.columns= ['Date', 'Rainfall']\n",
        "Uthangarai.columns= ['Date', 'Rainfall']"
      ],
      "execution_count": 0,
      "outputs": []
    },
    {
      "cell_type": "code",
      "metadata": {
        "id": "ot2FqhbOm6dJ",
        "colab_type": "code",
        "colab": {}
      },
      "source": [
        "train=Cuddalore[0:12000]\n",
        "test=Cuddalore[12000:15704]\n",
        "train1=Panruti[0:12000]\n",
        "test1=Panruti[12000:15705]\n",
        "train2=Dharmapuri[0:12000]\n",
        "test2=Dharmapuri[12000:15674]\n",
        "train3=Harur[0:12000]\n",
        "test3=Harur[12000:15704]\n",
        "train4=Palacode[0:12000]\n",
        "test4=Palacode[12000:15646]\n",
        "train5=Pennagaram[0:12000]\n",
        "test5=Pennagaram[12000:15705]\n",
        "train6=Chengam[0:12000]\n",
        "test6=Chengam[12000:15705]\n",
        "train7=Sathanur[0:12000]\n",
        "test7=Sathanur[12000:15705]\n",
        "train8=Tiruvanamalai[0:12000]\n",
        "test8=Tiruvanamalai[12000:15165]\n",
        "train9=Sankarapuram[0:12000]\n",
        "test9=Sankarapuram[12000:15705]\n",
        "train10=Tirukoilur[0:12000]\n",
        "test10=Tirukoilur[12000:15705]\n",
        "train11=ulundurpet[0:12000]\n",
        "test11=ulundurpet[12000:15345]\n",
        "train12=Villupuram[0:12000]\n",
        "test12=Villupuram[12000:15705]\n",
        "train13=Denkanikottai[0:12000]\n",
        "test13=Denkanikottai[12000:15705]\n",
        "train14=Hosur[0:12000]\n",
        "test14=Hosur[12000:15678]\n",
        "train15=Krishnagiri[0:12000]\n",
        "test15=Krishnagiri[12000:15705]\n",
        "train16=Marandahalli[0:12000]\n",
        "test16=Marandahalli[12000:15705]\n",
        "train17=Rayakottai[0:12000]\n",
        "test17=Rayakottai[12000:15705]\n",
        "train18=Uthangarai[0:12000]\n",
        "test18=Uthangarai[12000:15705]"
      ],
      "execution_count": 0,
      "outputs": []
    },
    {
      "cell_type": "code",
      "metadata": {
        "id": "eWdgMaVPnV7A",
        "colab_type": "code",
        "colab": {}
      },
      "source": [
        "X_train=train['Rainfall']\n",
        "X_test=test['Rainfall']\n",
        "X_train1=train1['Rainfall']\n",
        "X_test1=test1['Rainfall']\n",
        "X_train2=train2['Rainfall']\n",
        "X_test2=test2['Rainfall']\n",
        "X_train3=train3['Rainfall']\n",
        "X_test3=test3['Rainfall']\n",
        "X_train4=train4['Rainfall']\n",
        "X_test4=test4['Rainfall']\n",
        "X_train5=train5['Rainfall']\n",
        "X_test5=test5['Rainfall']\n",
        "X_train6=train6['Rainfall']\n",
        "X_test6=test6['Rainfall']\n",
        "X_train7=train7['Rainfall']\n",
        "X_test7=test7['Rainfall']\n",
        "X_train8=train8['Rainfall']\n",
        "X_test8=test8['Rainfall']\n",
        "X_train9=train9['Rainfall']\n",
        "X_test9=test9['Rainfall']\n",
        "X_train10=train10['Rainfall']\n",
        "X_test10=test10['Rainfall']\n",
        "X_train11=train11['Rainfall']\n",
        "X_test11=test11['Rainfall']\n",
        "X_train12=train12['Rainfall']\n",
        "X_test12=test12['Rainfall']\n",
        "X_train13=train13['Rainfall']\n",
        "X_test13=test13['Rainfall']\n",
        "X_train14=train14['Rainfall']\n",
        "X_test14=test14['Rainfall']\n",
        "X_train15=train15['Rainfall']\n",
        "X_test15=test15['Rainfall']\n",
        "X_train16=train16['Rainfall']\n",
        "X_test16=test16['Rainfall']\n",
        "X_train17=train17['Rainfall']\n",
        "X_test17=test17['Rainfall']\n",
        "X_train18=train18['Rainfall']\n",
        "X_test18=test18['Rainfall']\n"
      ],
      "execution_count": 0,
      "outputs": []
    },
    {
      "cell_type": "code",
      "metadata": {
        "id": "QdTZBwX0mnEs",
        "colab_type": "code",
        "colab": {}
      },
      "source": [
        "min_max_scaler = preprocessing.MinMaxScaler()\n",
        "\n",
        "x_scaled = min_max_scaler.fit_transform(X_train.values.reshape(-1,1))\n",
        "X_train = pd.DataFrame(x_scaled)\n",
        "\n",
        "x_scaled1 = min_max_scaler.fit_transform(X_train1.values.reshape(-1,1))\n",
        "X_train1 = pd.DataFrame(x_scaled1)\n",
        "\n",
        "x_scaled2 = min_max_scaler.fit_transform(X_train2.values.reshape(-1,1))\n",
        "X_train2 = pd.DataFrame(x_scaled2)\n",
        "\n",
        "x_scaled3 = min_max_scaler.fit_transform(X_train3.values.reshape(-1,1))\n",
        "X_train3 = pd.DataFrame(x_scaled3)\n",
        "\n",
        "x_scaled4 = min_max_scaler.fit_transform(X_train4.values.reshape(-1,1))\n",
        "X_train4 = pd.DataFrame(x_scaled4)\n",
        "\n",
        "x_scaled5 = min_max_scaler.fit_transform(X_train5.values.reshape(-1,1))\n",
        "X_train5 = pd.DataFrame(x_scaled5)\n",
        "\n",
        "x_scaled6 = min_max_scaler.fit_transform(X_train6.values.reshape(-1,1))\n",
        "X_train6 = pd.DataFrame(x_scaled6)\n",
        "\n",
        "x_scaled7 = min_max_scaler.fit_transform(X_train7.values.reshape(-1,1))\n",
        "X_train7 = pd.DataFrame(x_scaled7)\n",
        "\n",
        "x_scaled8 = min_max_scaler.fit_transform(X_train8.values.reshape(-1,1))\n",
        "X_train8 = pd.DataFrame(x_scaled8)\n",
        "\n",
        "x_scaled9 = min_max_scaler.fit_transform(X_train9.values.reshape(-1,1))\n",
        "X_train9 = pd.DataFrame(x_scaled9)\n",
        "\n",
        "x_scaled10 = min_max_scaler.fit_transform(X_train10.values.reshape(-1,1))\n",
        "X_train10 = pd.DataFrame(x_scaled10)\n",
        "\n",
        "x_scaled11 = min_max_scaler.fit_transform(X_train11.values.reshape(-1,1))\n",
        "X_train11 = pd.DataFrame(x_scaled11)\n",
        "\n",
        "x_scaled1112 = min_max_scaler.fit_transform(X_train12.values.reshape(-1,1))\n",
        "X_train12 = pd.DataFrame(x_scaled1112)\n",
        "\n",
        "x_scaled13 = min_max_scaler.fit_transform(X_train13.values.reshape(-1,1))\n",
        "X_train13 = pd.DataFrame(x_scaled13)\n",
        "\n",
        "x_scaled14 = min_max_scaler.fit_transform(X_train14.values.reshape(-1,1))\n",
        "X_train14 = pd.DataFrame(x_scaled14)\n",
        "\n",
        "x_scaled15 = min_max_scaler.fit_transform(X_train15.values.reshape(-1,1))\n",
        "X_train15 = pd.DataFrame(x_scaled15)\n",
        "\n",
        "x_scaled16 = min_max_scaler.fit_transform(X_train16.values.reshape(-1,1))\n",
        "X_train16 = pd.DataFrame(x_scaled16)\n",
        "\n",
        "x_scaled17 = min_max_scaler.fit_transform(X_train17.values.reshape(-1,1))\n",
        "X_train17 = pd.DataFrame(x_scaled17)\n",
        "\n",
        "x_scaled18 = min_max_scaler.fit_transform(X_train18.values.reshape(-1,1))\n",
        "X_train18 = pd.DataFrame(x_scaled18)\n",
        "\n"
      ],
      "execution_count": 0,
      "outputs": []
    },
    {
      "cell_type": "code",
      "metadata": {
        "id": "CxbM6N2-oCPd",
        "colab_type": "code",
        "colab": {}
      },
      "source": [
        "x_scaled1 = min_max_scaler.fit_transform(X_test.values.reshape(-1,1))\n",
        "X_test = pd.DataFrame(x_scaled1)\n",
        "\n",
        "x_scaled11 = min_max_scaler.fit_transform(X_test1.values.reshape(-1,1))\n",
        "X_test1 = pd.DataFrame(x_scaled11)\n",
        "\n",
        "x_scaled12 = min_max_scaler.fit_transform(X_test2.values.reshape(-1,1))\n",
        "X_test2 = pd.DataFrame(x_scaled12)\n",
        "\n",
        "x_scaled13 = min_max_scaler.fit_transform(X_test3.values.reshape(-1,1))\n",
        "X_test3 = pd.DataFrame(x_scaled13)\n",
        "\n",
        "x_scaled14 = min_max_scaler.fit_transform(X_test4.values.reshape(-1,1))\n",
        "X_test4 = pd.DataFrame(x_scaled14)\n",
        "\n",
        "x_scaled15 = min_max_scaler.fit_transform(X_test5.values.reshape(-1,1))\n",
        "X_test5 = pd.DataFrame(x_scaled15)\n",
        "\n",
        "x_scaled16 = min_max_scaler.fit_transform(X_test6.values.reshape(-1,1))\n",
        "X_test6 = pd.DataFrame(x_scaled16)\n",
        "\n",
        "x_scaled17 = min_max_scaler.fit_transform(X_test7.values.reshape(-1,1))\n",
        "X_test7 = pd.DataFrame(x_scaled17)\n",
        "\n",
        "x_scaled18 = min_max_scaler.fit_transform(X_test8.values.reshape(-1,1))\n",
        "X_test8 = pd.DataFrame(x_scaled18)\n",
        "\n",
        "x_scaled19 = min_max_scaler.fit_transform(X_test9.values.reshape(-1,1))\n",
        "X_test9 = pd.DataFrame(x_scaled19)\n",
        "\n",
        "x_scaled110 = min_max_scaler.fit_transform(X_test10.values.reshape(-1,1))\n",
        "X_test10 = pd.DataFrame(x_scaled110)\n",
        "\n",
        "x_scaled111 = min_max_scaler.fit_transform(X_test11.values.reshape(-1,1))\n",
        "X_test11 = pd.DataFrame(x_scaled111)\n",
        "\n",
        "x_scaled112 = min_max_scaler.fit_transform(X_test12.values.reshape(-1,1))\n",
        "X_test12 = pd.DataFrame(x_scaled112)\n",
        "\n",
        "x_scaled113 = min_max_scaler.fit_transform(X_test13.values.reshape(-1,1))\n",
        "X_test13 = pd.DataFrame(x_scaled113)\n",
        "\n",
        "x_scaled114 = min_max_scaler.fit_transform(X_test14.values.reshape(-1,1))\n",
        "X_test14 = pd.DataFrame(x_scaled114)\n",
        "\n",
        "x_scaled115= min_max_scaler.fit_transform(X_test15.values.reshape(-1,1))\n",
        "X_test15 = pd.DataFrame(x_scaled115)\n",
        "\n",
        "x_scaled116 = min_max_scaler.fit_transform(X_test16.values.reshape(-1,1))\n",
        "X_test16 = pd.DataFrame(x_scaled116)\n",
        "\n",
        "x_scaled117 = min_max_scaler.fit_transform(X_test17.values.reshape(-1,1))\n",
        "X_test17 = pd.DataFrame(x_scaled117)\n",
        "\n",
        "x_scaled118 = min_max_scaler.fit_transform(X_test18.values.reshape(-1,1))\n",
        "X_test18 = pd.DataFrame(x_scaled118)\n"
      ],
      "execution_count": 0,
      "outputs": []
    },
    {
      "cell_type": "code",
      "metadata": {
        "id": "VZNCwdZhrTQD",
        "colab_type": "code",
        "colab": {}
      },
      "source": [
        "in_seq = np.array([X_train[0]])\n",
        "in_seqtest1 = np.array([X_test[0]])\n",
        "\n",
        "in_seq1 = np.array([X_train1[0]])\n",
        "in_seqt11 = np.array([X_test1[0]])\n",
        "\n",
        "in_seq12 = np.array([X_train2[0]])\n",
        "in_seqt112 = np.array([X_test2[0]])\n",
        "\n",
        "in_seq13 = np.array([X_train3[0]])\n",
        "in_seqt113 = np.array([X_test3[0]])\n",
        "\n",
        "in_seq14 = np.array([X_train4[0]])\n",
        "in_seqt114 = np.array([X_test4[0]])\n",
        "\n",
        "in_seq15 = np.array([X_train5[0]])\n",
        "in_seqt115 = np.array([X_test5[0]])\n",
        "\n",
        "in_seq16 = np.array([X_train6[0]])\n",
        "in_seqt116 = np.array([X_test6[0]])\n",
        "\n",
        "in_seq17 = np.array([X_train7[0]])\n",
        "in_seqt117 = np.array([X_test7[0]])\n",
        "\n",
        "in_seq18 = np.array([X_train8[0]])\n",
        "in_seqt118 = np.array([X_test8[0]])\n",
        "\n",
        "in_seq19 = np.array([X_train9[0]])\n",
        "in_seqt119 = np.array([X_test9[0]])\n",
        "\n",
        "in_seq110 = np.array([X_train10[0]])\n",
        "in_seqt1110 = np.array([X_test10[0]])\n",
        "\n",
        "in_seq111 = np.array([X_train11[0]])\n",
        "in_seqt1111 = np.array([X_test11[0]])\n",
        "\n",
        "in_seq112 = np.array([X_train12[0]])\n",
        "in_seqt1112 = np.array([X_test12[0]])\n",
        "\n",
        "in_seq113 = np.array([X_train13[0]])\n",
        "in_seqt1113 = np.array([X_test13[0]])\n",
        "\n",
        "in_seq114 = np.array([X_train14[0]])\n",
        "in_seqt1114 = np.array([X_test14[0]])\n",
        "\n",
        "in_seq115 = np.array([X_train15[0]])\n",
        "in_seqt1115 = np.array([X_test15[0]])\n",
        "\n",
        "in_seq116 = np.array([X_train16[0]])\n",
        "in_seqt1116 = np.array([X_test16[0]])\n",
        "\n",
        "in_seq117 = np.array([X_train17[0]])\n",
        "in_seqt1117 = np.array([X_test17[0]])\n",
        "\n",
        "in_seq118 = np.array([X_train18[0]])\n",
        "in_seqt1118 = np.array([X_test18[0]])\n"
      ],
      "execution_count": 0,
      "outputs": []
    },
    {
      "cell_type": "code",
      "metadata": {
        "id": "2vtw9-GtrbhY",
        "colab_type": "code",
        "colab": {}
      },
      "source": [
        "in_seq = in_seq.reshape((12000, 1))\n",
        "in_seqtest1 = in_seqtest1.reshape((3704, 1))\n",
        "\n",
        "in_seq1 = in_seq1.reshape((12000, 1))\n",
        "in_seqt11 = in_seqt11.reshape((3705, 1))\n",
        "\n",
        "in_seq12 = in_seq12.reshape((12000, 1))\n",
        "in_seqt112 = in_seqt112.reshape((3674, 1))\n",
        "\n",
        "in_seq13 = in_seq13.reshape((12000, 1))\n",
        "in_seqt113 = in_seqt113.reshape((3704, 1))\n",
        "\n",
        "in_seq14 = in_seq14.reshape((12000, 1))\n",
        "in_seqt114 = in_seqt114.reshape((3646, 1))\n",
        "\n",
        "in_seq15 = in_seq15.reshape((12000, 1))\n",
        "in_seqt115 = in_seqt115.reshape((3705, 1))\n",
        "\n",
        "in_seq16 = in_seq16.reshape((12000, 1))\n",
        "in_seqt116 = in_seqt116.reshape((3705, 1))\n",
        "\n",
        "in_seq17 = in_seq17.reshape((12000, 1))\n",
        "in_seqt117 = in_seqt117.reshape((3705, 1))\n",
        "\n",
        "in_seq18 = in_seq18.reshape((12000, 1))\n",
        "in_seqt118 = in_seqt118.reshape((3165, 1))\n",
        "\n",
        "in_seq19 = in_seq19.reshape((12000, 1))\n",
        "in_seqt119 = in_seqt119.reshape((3705, 1))\n",
        "\n",
        "in_seq110 = in_seq110.reshape((12000, 1))\n",
        "in_seqt1110 = in_seqt1110.reshape((3705, 1))\n",
        "\n",
        "in_seq111 = in_seq111.reshape((12000, 1))\n",
        "in_seqt1111 = in_seqt1111.reshape((3345, 1))\n",
        "\n",
        "in_seq112 = in_seq112.reshape((12000, 1))\n",
        "in_seqt1112 = in_seqt1112.reshape((3705, 1))\n",
        "\n",
        "in_seq113 = in_seq113.reshape((12000, 1))\n",
        "in_seqt1113 = in_seqt1113.reshape((3705, 1))\n",
        "\n",
        "in_seq114 = in_seq114.reshape((12000, 1))\n",
        "in_seqt1114 = in_seqt1114.reshape((3678, 1))\n",
        "\n",
        "in_seq115 = in_seq115.reshape((12000, 1))\n",
        "in_seqt1115 = in_seqt1115.reshape((3705, 1))\n",
        "\n",
        "in_seq116 = in_seq116.reshape((12000, 1))\n",
        "in_seqt1116 = in_seqt1116.reshape((3705, 1))\n",
        "\n",
        "in_seq117 = in_seq117.reshape((12000, 1))\n",
        "in_seqt1117 = in_seqt1117.reshape((3705, 1))\n",
        "\n",
        "in_seq118 = in_seq118.reshape((12000, 1))\n",
        "in_seqt1118 = in_seqt1118.reshape((3704, 1))\n",
        "\n"
      ],
      "execution_count": 0,
      "outputs": []
    },
    {
      "cell_type": "code",
      "metadata": {
        "id": "dcthfPpSoN2u",
        "colab_type": "code",
        "colab": {}
      },
      "source": [
        "def split_sequence(sequence, n_steps):\n",
        "\tX, y = list(), list()\n",
        "\tfor i in range(len(sequence)):\n",
        "\t\t# find the end of this pattern\n",
        "\t\tend_ix = i + n_steps\n",
        "\t\t# check if we are beyond the sequence\n",
        "\t\tif end_ix > len(sequence)-1:\n",
        "\t\t\tbreak\n",
        "\t\t# gather input and output parts of the pattern\n",
        "\t\tseq_x, seq_y = sequence[i:end_ix], sequence[end_ix]\n",
        "\t\tX.append(seq_x)\n",
        "\t\ty.append(seq_y)\n",
        "\treturn np.array(X), np.array(y)"
      ],
      "execution_count": 0,
      "outputs": []
    },
    {
      "cell_type": "code",
      "metadata": {
        "id": "NLCLOXnyptMN",
        "colab_type": "code",
        "colab": {}
      },
      "source": [
        "cuddataset1 = hstack((in_seqtest1))\n",
        "cuddataset = hstack((in_seq))\n",
        "\n",
        "pandataset1 = hstack((in_seqt11))\n",
        "pandataset = hstack((in_seq1))\n",
        "\n",
        "dhadataset1 = hstack((in_seqt112))\n",
        "dhadataset = hstack((in_seq12))\n",
        "\n",
        "hardataset1 = hstack((in_seqt113))\n",
        "hardataset = hstack((in_seq13))\n",
        "\n",
        "paldataset1 = hstack((in_seqt114))\n",
        "paldataset = hstack((in_seq14))\n",
        "\n",
        "pendataset1 = hstack((in_seqt115))\n",
        "pendataset = hstack((in_seq15))\n",
        "\n",
        "chedataset1 = hstack((in_seqt116))\n",
        "chedataset = hstack((in_seq16))\n",
        "\n",
        "satdataset1 = hstack((in_seqt117))\n",
        "satdataset = hstack((in_seq17))\n",
        "\n",
        "Tirdataset1 = hstack((in_seqt118))\n",
        "Tirdataset = hstack((in_seq18))\n",
        "\n",
        "Sandataset1 = hstack((in_seqt119))\n",
        "Sandataset = hstack((in_seq19))\n",
        "\n",
        "Tirudataset1 = hstack((in_seqt1110))\n",
        "Tirudataset = hstack((in_seq110))\n",
        "\n",
        "uludataset1 = hstack((in_seqt1111))\n",
        "uludataset = hstack((in_seq111))\n",
        "\n",
        "vildataset1 = hstack((in_seqt1112))\n",
        "vildataset = hstack((in_seq112))\n",
        "\n",
        "bardataset1 = hstack((in_seqt1113))\n",
        "bardataset = hstack((in_seq113))\n",
        "\n",
        "Dendataset1 = hstack((in_seqt1114))\n",
        "Dendataset = hstack((in_seq114))\n",
        "\n",
        "kridataset1 = hstack((in_seqt1115))\n",
        "kridataset = hstack((in_seq115))\n",
        "\n",
        "mardataset1 = hstack((in_seqt1116))\n",
        "mardataset = hstack((in_seq116))\n",
        "\n",
        "raydataset1 = hstack((in_seqt1117))\n",
        "raydataset = hstack((in_seq117))\n",
        "\n",
        "uthdataset1 = hstack((in_seqt1118))\n",
        "uthdataset = hstack((in_seq118))\n"
      ],
      "execution_count": 0,
      "outputs": []
    },
    {
      "cell_type": "code",
      "metadata": {
        "id": "VXevl6Wdrz2e",
        "colab_type": "code",
        "colab": {}
      },
      "source": [
        "n_steps = 3\n",
        "# convert into input/output\n",
        "X, y = split_sequence(cuddataset, n_steps)\n",
        "X1 , y1 = split_sequence(pandataset, n_steps)\n",
        "X2 , y2 = split_sequence(dhadataset, n_steps)\n",
        "X3 , y3 = split_sequence(hardataset, n_steps)\n",
        "X4 , y4 = split_sequence(paldataset, n_steps)\n",
        "X5 , y5 = split_sequence(pendataset, n_steps)\n",
        "X6, y6 = split_sequence(chedataset, n_steps)\n",
        "X7, y7 = split_sequence(satdataset, n_steps)\n",
        "X8, y8 = split_sequence(Tirdataset, n_steps)\n",
        "X9, y9 = split_sequence(Sandataset, n_steps)\n",
        "X10, y10 = split_sequence(Tirudataset, n_steps)\n",
        "X11, y11 = split_sequence(uludataset, n_steps)\n",
        "X12 , y12 = split_sequence(vildataset, n_steps)\n",
        "X13, y13 = split_sequence(bardataset, n_steps)\n",
        "X14, y14 = split_sequence(Dendataset, n_steps)\n",
        "X15, y15 = split_sequence(kridataset, n_steps)\n",
        "X16, y16 = split_sequence(mardataset, n_steps)\n",
        "X17, y17 = split_sequence(raydataset, n_steps)\n",
        "X18, y18 = split_sequence(uthdataset, n_steps)"
      ],
      "execution_count": 0,
      "outputs": []
    },
    {
      "cell_type": "code",
      "metadata": {
        "id": "CcgWCIqIr44M",
        "colab_type": "code",
        "colab": {}
      },
      "source": [
        "X_test,y_test = split_sequence(cuddataset, n_steps)\n",
        "X_test1,y_test1 = split_sequence(pandataset, n_steps)\n",
        "X_test2,y_test2= split_sequence(dhadataset, n_steps)\n",
        "X_test3,y_test3 = split_sequence(hardataset, n_steps)\n",
        "X_test4,y_test4 = split_sequence(paldataset, n_steps)\n",
        "X_test5,y_test5 = split_sequence(pendataset, n_steps)\n",
        "X_test6,y_test6 = split_sequence(chedataset, n_steps)\n",
        "X_test7,y_test7 = split_sequence(satdataset, n_steps)\n",
        "X_test8,y_test8 = split_sequence(Tirdataset, n_steps)\n",
        "X_test9,y_test9 = split_sequence(Sandataset, n_steps)\n",
        "X_test10,y_test10 = split_sequence(Tirudataset, n_steps)\n",
        "X_test11,y_test11= split_sequence(uludataset, n_steps)\n",
        "X_test12,y_test12 = split_sequence(vildataset, n_steps)\n",
        "X_test13,y_test13 = split_sequence(bardataset, n_steps)\n",
        "X_test14,y_test14 = split_sequence(Dendataset, n_steps)\n",
        "X_test15,y_test15 = split_sequence(kridataset, n_steps)\n",
        "X_test16,y_test16 = split_sequence(mardataset, n_steps)\n",
        "X_test17,y_test17= split_sequence(raydataset, n_steps)\n",
        "X_test18,y_test18= split_sequence(uthdataset, n_steps)"
      ],
      "execution_count": 0,
      "outputs": []
    },
    {
      "cell_type": "code",
      "metadata": {
        "id": "lZ26OGqHr95T",
        "colab_type": "code",
        "colab": {}
      },
      "source": [
        "model = keras.Sequential()\n",
        "model.add(keras.layers.LSTM(50, activation='relu',return_sequences=True, input_shape=(n_steps, 1)))\n",
        "model.add(keras.layers.LSTM(50, activation='relu'))\n",
        "model.add(keras.layers.Dense(1))\n",
        "model.compile(optimizer='adam', loss='mse',metrics=['accuracy'])"
      ],
      "execution_count": 0,
      "outputs": []
    },
    {
      "cell_type": "code",
      "metadata": {
        "id": "HUwsDYObsG7O",
        "colab_type": "code",
        "colab": {}
      },
      "source": [
        "X = X.reshape((X.shape[0], X.shape[1], 1))\n",
        "X1 = X1.reshape((X1.shape[0], X1.shape[1], 1))\n",
        "X2 = X2.reshape((X2.shape[0], X2.shape[1], 1))\n",
        "X3 = X3.reshape((X3.shape[0], X3.shape[1], 1))\n",
        "X4 = X4.reshape((X4.shape[0], X4.shape[1], 1))\n",
        "X5 = X5.reshape((X5.shape[0], X5.shape[1], 1))\n",
        "X6 = X6.reshape((X6.shape[0], X6.shape[1], 1))\n",
        "X7 = X7.reshape((X7.shape[0], X7.shape[1], 1))\n",
        "X8 = X8.reshape((X8.shape[0], X8.shape[1], 1))\n",
        "X9 = X9.reshape((X9.shape[0], X9.shape[1], 1))\n",
        "X10 = X10.reshape((X10.shape[0], X10.shape[1], 1))\n",
        "X11 = X11.reshape((X11.shape[0], X11.shape[1], 1))\n",
        "X12 = X12.reshape((X12.shape[0], X12.shape[1], 1))\n",
        "X13 = X13.reshape((X13.shape[0], X13.shape[1], 1))\n",
        "X14 = X14.reshape((X14.shape[0], X14.shape[1], 1))\n",
        "X15 = X15.reshape((X15.shape[0], X15.shape[1], 1))\n",
        "X16 = X16.reshape((X16.shape[0], X16.shape[1], 1))\n",
        "X17 = X17.reshape((X17.shape[0], X17.shape[1], 1))\n",
        "X18 = X18.reshape((X18.shape[0], X18.shape[1], 1))\n"
      ],
      "execution_count": 0,
      "outputs": []
    },
    {
      "cell_type": "code",
      "metadata": {
        "id": "Y3GPbJFSslfM",
        "colab_type": "code",
        "colab": {}
      },
      "source": [
        "X_test=X_test.reshape((X_test.shape[0], X_test.shape[1], 1))\n",
        "X_test1=X_test1.reshape((X_test1.shape[0], X_test1.shape[1], 1))\n",
        "X_test2=X_test2.reshape((X_test2.shape[0], X_test2.shape[1], 1))\n",
        "X_test3=X_test3.reshape((X_test3.shape[0], X_test3.shape[1], 1))\n",
        "X_test4=X_test4.reshape((X_test4.shape[0], X_test4.shape[1], 1))\n",
        "X_test5=X_test5.reshape((X_test5.shape[0], X_test5.shape[1], 1))\n",
        "X_test6=X_test6.reshape((X_test6.shape[0], X_test6.shape[1], 1))\n",
        "X_test7=X_test7.reshape((X_test7.shape[0], X_test7.shape[1], 1))\n",
        "X_test8=X_test8.reshape((X_test8.shape[0], X_test8.shape[1], 1))\n",
        "X_test9=X_test9.reshape((X_test9.shape[0], X_test9.shape[1], 1))\n",
        "X_test10=X_test10.reshape((X_test10.shape[0], X_test10.shape[1], 1))\n",
        "X_test11=X_test11.reshape((X_test11.shape[0], X_test11.shape[1], 1))\n",
        "X_test12=X_test12.reshape((X_test12.shape[0], X_test12.shape[1], 1))\n",
        "X_test13=X_test13.reshape((X_test13.shape[0], X_test13.shape[1], 1))\n",
        "X_test14=X_test14.reshape((X_test14.shape[0], X_test14.shape[1], 1))\n",
        "X_test15=X_test15.reshape((X_test15.shape[0], X_test15.shape[1], 1))\n",
        "\n",
        "X_test16=X_test16.reshape((X_test16.shape[0], X_test16.shape[1], 1))\n",
        "X_test17=X_test17.reshape((X_test17.shape[0], X_test17.shape[1], 1))\n",
        "X_test18=X_test18.reshape((X_test18.shape[0], X_test18.shape[1], 1))\n"
      ],
      "execution_count": 0,
      "outputs": []
    },
    {
      "cell_type": "code",
      "metadata": {
        "id": "CJ0AjGmYsCUs",
        "colab_type": "code",
        "outputId": "13adf4e7-bbda-43be-c9de-97bda9784610",
        "colab": {
          "base_uri": "https://localhost:8080/",
          "height": 1000
        }
      },
      "source": [
        "model.fit(X, y, validation_data=(X_test,y_test),epochs=50)"
      ],
      "execution_count": 323,
      "outputs": [
        {
          "output_type": "stream",
          "text": [
            "Train on 11997 samples, validate on 11997 samples\n",
            "Epoch 1/50\n",
            "11997/11997 [==============================] - 6s 512us/sample - loss: 0.0012 - acc: 0.7724 - val_loss: 0.0012 - val_acc: 0.7724\n",
            "Epoch 2/50\n",
            "11997/11997 [==============================] - 5s 401us/sample - loss: 0.0011 - acc: 0.7724 - val_loss: 0.0011 - val_acc: 0.7724\n",
            "Epoch 3/50\n",
            "11997/11997 [==============================] - 5s 387us/sample - loss: 0.0011 - acc: 0.7724 - val_loss: 0.0011 - val_acc: 0.7724\n",
            "Epoch 4/50\n",
            "11997/11997 [==============================] - 5s 395us/sample - loss: 0.0011 - acc: 0.7724 - val_loss: 0.0011 - val_acc: 0.7724\n",
            "Epoch 5/50\n",
            "11997/11997 [==============================] - 5s 390us/sample - loss: 0.0011 - acc: 0.7724 - val_loss: 0.0011 - val_acc: 0.7724\n",
            "Epoch 6/50\n",
            "11997/11997 [==============================] - 5s 383us/sample - loss: 0.0011 - acc: 0.7724 - val_loss: 0.0011 - val_acc: 0.7724\n",
            "Epoch 7/50\n",
            "11997/11997 [==============================] - 4s 375us/sample - loss: 0.0011 - acc: 0.7724 - val_loss: 0.0011 - val_acc: 0.7724\n",
            "Epoch 8/50\n",
            "11997/11997 [==============================] - 4s 369us/sample - loss: 0.0011 - acc: 0.7724 - val_loss: 0.0011 - val_acc: 0.7724\n",
            "Epoch 9/50\n",
            "11997/11997 [==============================] - 5s 379us/sample - loss: 0.0011 - acc: 0.7724 - val_loss: 0.0011 - val_acc: 0.7724\n",
            "Epoch 10/50\n",
            "11997/11997 [==============================] - 4s 374us/sample - loss: 0.0011 - acc: 0.7724 - val_loss: 0.0011 - val_acc: 0.7724\n",
            "Epoch 11/50\n",
            "11997/11997 [==============================] - 4s 375us/sample - loss: 0.0011 - acc: 0.7724 - val_loss: 0.0011 - val_acc: 0.7724\n",
            "Epoch 12/50\n",
            "11997/11997 [==============================] - 4s 373us/sample - loss: 0.0011 - acc: 0.7724 - val_loss: 0.0011 - val_acc: 0.7724\n",
            "Epoch 13/50\n",
            "11997/11997 [==============================] - 5s 378us/sample - loss: 0.0011 - acc: 0.7724 - val_loss: 0.0011 - val_acc: 0.7724\n",
            "Epoch 14/50\n",
            "11997/11997 [==============================] - 4s 368us/sample - loss: 0.0011 - acc: 0.7724 - val_loss: 0.0011 - val_acc: 0.7724\n",
            "Epoch 15/50\n",
            "11997/11997 [==============================] - 5s 377us/sample - loss: 0.0011 - acc: 0.7724 - val_loss: 0.0011 - val_acc: 0.7724\n",
            "Epoch 16/50\n",
            "11997/11997 [==============================] - 4s 373us/sample - loss: 0.0011 - acc: 0.7724 - val_loss: 0.0011 - val_acc: 0.7724\n",
            "Epoch 17/50\n",
            "11997/11997 [==============================] - 4s 348us/sample - loss: 0.0011 - acc: 0.7724 - val_loss: 0.0011 - val_acc: 0.7724\n",
            "Epoch 18/50\n",
            "11997/11997 [==============================] - 4s 368us/sample - loss: 0.0011 - acc: 0.7724 - val_loss: 0.0011 - val_acc: 0.7724\n",
            "Epoch 19/50\n",
            "11997/11997 [==============================] - 4s 373us/sample - loss: 0.0011 - acc: 0.7724 - val_loss: 0.0011 - val_acc: 0.7724\n",
            "Epoch 20/50\n",
            "11997/11997 [==============================] - 5s 407us/sample - loss: 0.0011 - acc: 0.7724 - val_loss: 0.0011 - val_acc: 0.7724\n",
            "Epoch 21/50\n",
            "11997/11997 [==============================] - 5s 407us/sample - loss: 0.0011 - acc: 0.7724 - val_loss: 0.0011 - val_acc: 0.7724\n",
            "Epoch 22/50\n",
            "11997/11997 [==============================] - 5s 391us/sample - loss: 0.0011 - acc: 0.7724 - val_loss: 0.0011 - val_acc: 0.7724\n",
            "Epoch 23/50\n",
            "11997/11997 [==============================] - 5s 385us/sample - loss: 0.0011 - acc: 0.7724 - val_loss: 0.0011 - val_acc: 0.7724\n",
            "Epoch 24/50\n",
            "11997/11997 [==============================] - 5s 398us/sample - loss: 0.0011 - acc: 0.7724 - val_loss: 0.0011 - val_acc: 0.7724\n",
            "Epoch 25/50\n",
            "11997/11997 [==============================] - 5s 416us/sample - loss: 0.0011 - acc: 0.7724 - val_loss: 0.0011 - val_acc: 0.7724\n",
            "Epoch 26/50\n",
            "11997/11997 [==============================] - 5s 397us/sample - loss: 0.0011 - acc: 0.7724 - val_loss: 0.0011 - val_acc: 0.7724\n",
            "Epoch 27/50\n",
            "11997/11997 [==============================] - 5s 398us/sample - loss: 0.0011 - acc: 0.7724 - val_loss: 0.0011 - val_acc: 0.7724\n",
            "Epoch 28/50\n",
            "11997/11997 [==============================] - 5s 388us/sample - loss: 0.0011 - acc: 0.7724 - val_loss: 0.0011 - val_acc: 0.7724\n",
            "Epoch 29/50\n",
            "11997/11997 [==============================] - 5s 377us/sample - loss: 0.0011 - acc: 0.7724 - val_loss: 0.0011 - val_acc: 0.7724\n",
            "Epoch 30/50\n",
            "11997/11997 [==============================] - 4s 347us/sample - loss: 0.0011 - acc: 0.7724 - val_loss: 0.0011 - val_acc: 0.7724\n",
            "Epoch 31/50\n",
            "11997/11997 [==============================] - 4s 352us/sample - loss: 0.0011 - acc: 0.7724 - val_loss: 0.0011 - val_acc: 0.7724\n",
            "Epoch 32/50\n",
            "11997/11997 [==============================] - 4s 328us/sample - loss: 0.0011 - acc: 0.7724 - val_loss: 0.0011 - val_acc: 0.7724\n",
            "Epoch 33/50\n",
            "11997/11997 [==============================] - 4s 322us/sample - loss: 0.0011 - acc: 0.7724 - val_loss: 0.0011 - val_acc: 0.7724\n",
            "Epoch 34/50\n",
            "11997/11997 [==============================] - 4s 331us/sample - loss: 0.0011 - acc: 0.7724 - val_loss: 0.0011 - val_acc: 0.7724\n",
            "Epoch 35/50\n",
            "11997/11997 [==============================] - 4s 335us/sample - loss: 0.0011 - acc: 0.7724 - val_loss: 0.0011 - val_acc: 0.7724\n",
            "Epoch 36/50\n",
            "11997/11997 [==============================] - 4s 352us/sample - loss: 0.0011 - acc: 0.7724 - val_loss: 0.0011 - val_acc: 0.7724\n",
            "Epoch 37/50\n",
            "11997/11997 [==============================] - 4s 352us/sample - loss: 0.0011 - acc: 0.7724 - val_loss: 0.0011 - val_acc: 0.7724\n",
            "Epoch 38/50\n",
            "11997/11997 [==============================] - 4s 364us/sample - loss: 0.0011 - acc: 0.7724 - val_loss: 0.0011 - val_acc: 0.7724\n",
            "Epoch 39/50\n",
            "11997/11997 [==============================] - 4s 366us/sample - loss: 0.0011 - acc: 0.7724 - val_loss: 0.0011 - val_acc: 0.7724\n",
            "Epoch 40/50\n",
            "11997/11997 [==============================] - 4s 369us/sample - loss: 0.0011 - acc: 0.7724 - val_loss: 0.0011 - val_acc: 0.7724\n",
            "Epoch 41/50\n",
            "11997/11997 [==============================] - 4s 365us/sample - loss: 0.0011 - acc: 0.7724 - val_loss: 0.0011 - val_acc: 0.7724\n",
            "Epoch 42/50\n",
            "11997/11997 [==============================] - 4s 369us/sample - loss: 0.0011 - acc: 0.7724 - val_loss: 0.0011 - val_acc: 0.7724\n",
            "Epoch 43/50\n",
            "11997/11997 [==============================] - 5s 391us/sample - loss: 0.0011 - acc: 0.7724 - val_loss: 0.0011 - val_acc: 0.7724\n",
            "Epoch 44/50\n",
            "11997/11997 [==============================] - 4s 369us/sample - loss: 0.0011 - acc: 0.7724 - val_loss: 0.0011 - val_acc: 0.7724\n",
            "Epoch 45/50\n",
            "11997/11997 [==============================] - 5s 386us/sample - loss: 0.0011 - acc: 0.7724 - val_loss: 0.0011 - val_acc: 0.7724\n",
            "Epoch 46/50\n",
            "11997/11997 [==============================] - 5s 376us/sample - loss: 0.0011 - acc: 0.7724 - val_loss: 0.0011 - val_acc: 0.7724\n",
            "Epoch 47/50\n",
            "11997/11997 [==============================] - 4s 370us/sample - loss: 0.0011 - acc: 0.7724 - val_loss: 0.0011 - val_acc: 0.7724\n",
            "Epoch 48/50\n",
            "11997/11997 [==============================] - 5s 376us/sample - loss: 0.0011 - acc: 0.7724 - val_loss: 0.0011 - val_acc: 0.7724\n",
            "Epoch 49/50\n",
            "11997/11997 [==============================] - 4s 357us/sample - loss: 0.0011 - acc: 0.7724 - val_loss: 0.0011 - val_acc: 0.7724\n",
            "Epoch 50/50\n",
            "11997/11997 [==============================] - 4s 334us/sample - loss: 0.0011 - acc: 0.7724 - val_loss: 0.0011 - val_acc: 0.7724\n"
          ],
          "name": "stdout"
        },
        {
          "output_type": "execute_result",
          "data": {
            "text/plain": [
              "<tensorflow.python.keras.callbacks.History at 0x7f86922a0a58>"
            ]
          },
          "metadata": {
            "tags": []
          },
          "execution_count": 323
        }
      ]
    },
    {
      "cell_type": "code",
      "metadata": {
        "id": "qW849L-NsFhU",
        "colab_type": "code",
        "colab": {
          "base_uri": "https://localhost:8080/",
          "height": 50
        },
        "outputId": "12c77764-542c-4ff8-9f5a-e694f5882b44"
      },
      "source": [
        "ypred = model.predict(X)\n",
        "s=pd.DataFrame(ypred)\n",
        "s1=pd.DataFrame(y)\n",
        "s1.corrwith(s, axis = 0) "
      ],
      "execution_count": 324,
      "outputs": [
        {
          "output_type": "execute_result",
          "data": {
            "text/plain": [
              "0    0.416393\n",
              "dtype: float64"
            ]
          },
          "metadata": {
            "tags": []
          },
          "execution_count": 324
        }
      ]
    },
    {
      "cell_type": "code",
      "metadata": {
        "id": "noGIobrktgmd",
        "colab_type": "code",
        "colab": {
          "base_uri": "https://localhost:8080/",
          "height": 50
        },
        "outputId": "263ad7af-91f4-4995-c230-926665a571dc"
      },
      "source": [
        "ypred1=model.predict(X_test)\n",
        "s=pd.DataFrame(ypred1)\n",
        "s1=pd.DataFrame(y_test)\n",
        "s1.corrwith(s,axis=0)"
      ],
      "execution_count": 325,
      "outputs": [
        {
          "output_type": "execute_result",
          "data": {
            "text/plain": [
              "0    0.416393\n",
              "dtype: float64"
            ]
          },
          "metadata": {
            "tags": []
          },
          "execution_count": 325
        }
      ]
    },
    {
      "cell_type": "code",
      "metadata": {
        "id": "KAqZPa33aTfo",
        "colab_type": "code",
        "colab": {}
      },
      "source": [
        "from sklearn.metrics import mean_absolute_error"
      ],
      "execution_count": 0,
      "outputs": []
    },
    {
      "cell_type": "code",
      "metadata": {
        "id": "GpEoHv92aYGB",
        "colab_type": "code",
        "colab": {
          "base_uri": "https://localhost:8080/",
          "height": 34
        },
        "outputId": "4f60cce3-3cc3-441c-92d1-8997753e2982"
      },
      "source": [
        "mean_absolute_error(y,ypred)"
      ],
      "execution_count": 327,
      "outputs": [
        {
          "output_type": "execute_result",
          "data": {
            "text/plain": [
              "0.012479269197884314"
            ]
          },
          "metadata": {
            "tags": []
          },
          "execution_count": 327
        }
      ]
    },
    {
      "cell_type": "code",
      "metadata": {
        "id": "UutDAI0Oaah6",
        "colab_type": "code",
        "colab": {
          "base_uri": "https://localhost:8080/",
          "height": 34
        },
        "outputId": "b66ae2af-c450-4ea1-b7e6-4be187a22390"
      },
      "source": [
        "mean_absolute_error(y_test,ypred1)"
      ],
      "execution_count": 328,
      "outputs": [
        {
          "output_type": "execute_result",
          "data": {
            "text/plain": [
              "0.012479269197884314"
            ]
          },
          "metadata": {
            "tags": []
          },
          "execution_count": 328
        }
      ]
    },
    {
      "cell_type": "code",
      "metadata": {
        "id": "xg8kvCOYtkrq",
        "colab_type": "code",
        "colab": {
          "base_uri": "https://localhost:8080/",
          "height": 34
        },
        "outputId": "fe8bbeb9-5e8e-496e-ebb5-e758b41eb0b9"
      },
      "source": [
        " from sklearn.metrics import r2_score\n",
        " r2_score(y,ypred)"
      ],
      "execution_count": 329,
      "outputs": [
        {
          "output_type": "execute_result",
          "data": {
            "text/plain": [
              "0.17237467605551182"
            ]
          },
          "metadata": {
            "tags": []
          },
          "execution_count": 329
        }
      ]
    },
    {
      "cell_type": "code",
      "metadata": {
        "id": "j7rV7tCmtn70",
        "colab_type": "code",
        "colab": {
          "base_uri": "https://localhost:8080/",
          "height": 34
        },
        "outputId": "9623452b-d3d0-432b-f685-cf86286631ba"
      },
      "source": [
        "r2_score(y_test,ypred1)"
      ],
      "execution_count": 330,
      "outputs": [
        {
          "output_type": "execute_result",
          "data": {
            "text/plain": [
              "0.17237467605551182"
            ]
          },
          "metadata": {
            "tags": []
          },
          "execution_count": 330
        }
      ]
    },
    {
      "cell_type": "code",
      "metadata": {
        "id": "RpGZF90Nw8oU",
        "colab_type": "code",
        "colab": {
          "base_uri": "https://localhost:8080/",
          "height": 1000
        },
        "outputId": "afa0fa28-0bf0-47e6-b111-457d2c491814"
      },
      "source": [
        "model.fit(X1, y1, validation_data=(X_test1,y_test1),epochs=50)"
      ],
      "execution_count": 331,
      "outputs": [
        {
          "output_type": "stream",
          "text": [
            "Train on 11997 samples, validate on 11997 samples\n",
            "Epoch 1/50\n",
            "11997/11997 [==============================] - 4s 345us/sample - loss: 0.0015 - acc: 0.8519 - val_loss: 0.0015 - val_acc: 0.8519\n",
            "Epoch 2/50\n",
            "11997/11997 [==============================] - 4s 343us/sample - loss: 0.0015 - acc: 0.8519 - val_loss: 0.0014 - val_acc: 0.8519\n",
            "Epoch 3/50\n",
            "11997/11997 [==============================] - 4s 359us/sample - loss: 0.0015 - acc: 0.8519 - val_loss: 0.0014 - val_acc: 0.8519\n",
            "Epoch 4/50\n",
            "11997/11997 [==============================] - 5s 376us/sample - loss: 0.0015 - acc: 0.8519 - val_loss: 0.0014 - val_acc: 0.8519\n",
            "Epoch 5/50\n",
            "11997/11997 [==============================] - 5s 390us/sample - loss: 0.0015 - acc: 0.8519 - val_loss: 0.0014 - val_acc: 0.8519\n",
            "Epoch 6/50\n",
            "11997/11997 [==============================] - 5s 385us/sample - loss: 0.0014 - acc: 0.8519 - val_loss: 0.0014 - val_acc: 0.8519\n",
            "Epoch 7/50\n",
            "11997/11997 [==============================] - 5s 381us/sample - loss: 0.0014 - acc: 0.8519 - val_loss: 0.0014 - val_acc: 0.8519\n",
            "Epoch 8/50\n",
            "11997/11997 [==============================] - 5s 392us/sample - loss: 0.0014 - acc: 0.8519 - val_loss: 0.0014 - val_acc: 0.8519\n",
            "Epoch 9/50\n",
            "11997/11997 [==============================] - 5s 385us/sample - loss: 0.0014 - acc: 0.8519 - val_loss: 0.0014 - val_acc: 0.8519\n",
            "Epoch 10/50\n",
            "11997/11997 [==============================] - 5s 383us/sample - loss: 0.0014 - acc: 0.8519 - val_loss: 0.0015 - val_acc: 0.8519\n",
            "Epoch 11/50\n",
            "11997/11997 [==============================] - 5s 375us/sample - loss: 0.0014 - acc: 0.8519 - val_loss: 0.0015 - val_acc: 0.8519\n",
            "Epoch 12/50\n",
            "11997/11997 [==============================] - 5s 376us/sample - loss: 0.0014 - acc: 0.8519 - val_loss: 0.0014 - val_acc: 0.8519\n",
            "Epoch 13/50\n",
            "11997/11997 [==============================] - 4s 371us/sample - loss: 0.0014 - acc: 0.8519 - val_loss: 0.0014 - val_acc: 0.8519\n",
            "Epoch 14/50\n",
            "11997/11997 [==============================] - 4s 339us/sample - loss: 0.0014 - acc: 0.8519 - val_loss: 0.0014 - val_acc: 0.8519\n",
            "Epoch 15/50\n",
            "11997/11997 [==============================] - 4s 333us/sample - loss: 0.0014 - acc: 0.8519 - val_loss: 0.0014 - val_acc: 0.8519\n",
            "Epoch 16/50\n",
            "11997/11997 [==============================] - 4s 337us/sample - loss: 0.0014 - acc: 0.8519 - val_loss: 0.0014 - val_acc: 0.8519\n",
            "Epoch 17/50\n",
            "11997/11997 [==============================] - 4s 333us/sample - loss: 0.0014 - acc: 0.8519 - val_loss: 0.0014 - val_acc: 0.8519\n",
            "Epoch 18/50\n",
            "11997/11997 [==============================] - 4s 342us/sample - loss: 0.0014 - acc: 0.8519 - val_loss: 0.0014 - val_acc: 0.8519\n",
            "Epoch 19/50\n",
            "11997/11997 [==============================] - 4s 335us/sample - loss: 0.0014 - acc: 0.8519 - val_loss: 0.0014 - val_acc: 0.8519\n",
            "Epoch 20/50\n",
            "11997/11997 [==============================] - 4s 331us/sample - loss: 0.0014 - acc: 0.8519 - val_loss: 0.0015 - val_acc: 0.8519\n",
            "Epoch 21/50\n",
            "11997/11997 [==============================] - 4s 328us/sample - loss: 0.0014 - acc: 0.8519 - val_loss: 0.0014 - val_acc: 0.8519\n",
            "Epoch 22/50\n",
            "11997/11997 [==============================] - 4s 340us/sample - loss: 0.0014 - acc: 0.8519 - val_loss: 0.0014 - val_acc: 0.8519\n",
            "Epoch 23/50\n",
            "11997/11997 [==============================] - 4s 340us/sample - loss: 0.0014 - acc: 0.8519 - val_loss: 0.0014 - val_acc: 0.8519\n",
            "Epoch 24/50\n",
            "11997/11997 [==============================] - 4s 352us/sample - loss: 0.0014 - acc: 0.8519 - val_loss: 0.0014 - val_acc: 0.8519\n",
            "Epoch 25/50\n",
            "11997/11997 [==============================] - 4s 362us/sample - loss: 0.0014 - acc: 0.8519 - val_loss: 0.0014 - val_acc: 0.8519\n",
            "Epoch 26/50\n",
            "11997/11997 [==============================] - 5s 393us/sample - loss: 0.0014 - acc: 0.8519 - val_loss: 0.0014 - val_acc: 0.8519\n",
            "Epoch 27/50\n",
            "11997/11997 [==============================] - 5s 437us/sample - loss: 0.0014 - acc: 0.8519 - val_loss: 0.0014 - val_acc: 0.8519\n",
            "Epoch 28/50\n",
            "11997/11997 [==============================] - 6s 501us/sample - loss: 0.0014 - acc: 0.8519 - val_loss: 0.0014 - val_acc: 0.8519\n",
            "Epoch 29/50\n",
            "11997/11997 [==============================] - 5s 387us/sample - loss: 0.0014 - acc: 0.8519 - val_loss: 0.0014 - val_acc: 0.8519\n",
            "Epoch 30/50\n",
            "11997/11997 [==============================] - 5s 375us/sample - loss: 0.0014 - acc: 0.8519 - val_loss: 0.0014 - val_acc: 0.8519\n",
            "Epoch 31/50\n",
            "11997/11997 [==============================] - 5s 375us/sample - loss: 0.0014 - acc: 0.8519 - val_loss: 0.0014 - val_acc: 0.8519\n",
            "Epoch 32/50\n",
            "11997/11997 [==============================] - 5s 380us/sample - loss: 0.0014 - acc: 0.8519 - val_loss: 0.0014 - val_acc: 0.8519\n",
            "Epoch 33/50\n",
            "11997/11997 [==============================] - 5s 381us/sample - loss: 0.0014 - acc: 0.8519 - val_loss: 0.0014 - val_acc: 0.8519\n",
            "Epoch 34/50\n",
            "11997/11997 [==============================] - 5s 393us/sample - loss: 0.0014 - acc: 0.8519 - val_loss: 0.0014 - val_acc: 0.8519\n",
            "Epoch 35/50\n",
            "11997/11997 [==============================] - 4s 359us/sample - loss: 0.0014 - acc: 0.8519 - val_loss: 0.0014 - val_acc: 0.8519\n",
            "Epoch 36/50\n",
            "11997/11997 [==============================] - 4s 336us/sample - loss: 0.0014 - acc: 0.8519 - val_loss: 0.0014 - val_acc: 0.8519\n",
            "Epoch 37/50\n",
            "11997/11997 [==============================] - 4s 347us/sample - loss: 0.0014 - acc: 0.8519 - val_loss: 0.0014 - val_acc: 0.8519\n",
            "Epoch 38/50\n",
            "11997/11997 [==============================] - 4s 340us/sample - loss: 0.0014 - acc: 0.8519 - val_loss: 0.0014 - val_acc: 0.8519\n",
            "Epoch 39/50\n",
            "11997/11997 [==============================] - 4s 346us/sample - loss: 0.0014 - acc: 0.8519 - val_loss: 0.0014 - val_acc: 0.8519\n",
            "Epoch 40/50\n",
            "11997/11997 [==============================] - 4s 333us/sample - loss: 0.0014 - acc: 0.8519 - val_loss: 0.0014 - val_acc: 0.8519\n",
            "Epoch 41/50\n",
            "11997/11997 [==============================] - 4s 351us/sample - loss: 0.0014 - acc: 0.8519 - val_loss: 0.0014 - val_acc: 0.8519\n",
            "Epoch 42/50\n",
            "11997/11997 [==============================] - 4s 333us/sample - loss: 0.0014 - acc: 0.8519 - val_loss: 0.0014 - val_acc: 0.8519\n",
            "Epoch 43/50\n",
            "11997/11997 [==============================] - 5s 379us/sample - loss: 0.0014 - acc: 0.8519 - val_loss: 0.0014 - val_acc: 0.8519\n",
            "Epoch 44/50\n",
            "11997/11997 [==============================] - 5s 376us/sample - loss: 0.0014 - acc: 0.8519 - val_loss: 0.0014 - val_acc: 0.8519\n",
            "Epoch 45/50\n",
            "11997/11997 [==============================] - 4s 374us/sample - loss: 0.0014 - acc: 0.8519 - val_loss: 0.0014 - val_acc: 0.8519\n",
            "Epoch 46/50\n",
            "11997/11997 [==============================] - 4s 369us/sample - loss: 0.0014 - acc: 0.8519 - val_loss: 0.0014 - val_acc: 0.8519\n",
            "Epoch 47/50\n",
            "11997/11997 [==============================] - 4s 373us/sample - loss: 0.0014 - acc: 0.8519 - val_loss: 0.0014 - val_acc: 0.8519\n",
            "Epoch 48/50\n",
            "11997/11997 [==============================] - 4s 374us/sample - loss: 0.0014 - acc: 0.8519 - val_loss: 0.0014 - val_acc: 0.8519\n",
            "Epoch 49/50\n",
            "11997/11997 [==============================] - 5s 408us/sample - loss: 0.0014 - acc: 0.8519 - val_loss: 0.0014 - val_acc: 0.8519\n",
            "Epoch 50/50\n",
            "11997/11997 [==============================] - 5s 405us/sample - loss: 0.0014 - acc: 0.8519 - val_loss: 0.0014 - val_acc: 0.8519\n"
          ],
          "name": "stdout"
        },
        {
          "output_type": "execute_result",
          "data": {
            "text/plain": [
              "<tensorflow.python.keras.callbacks.History at 0x7f869c911d68>"
            ]
          },
          "metadata": {
            "tags": []
          },
          "execution_count": 331
        }
      ]
    },
    {
      "cell_type": "code",
      "metadata": {
        "id": "wbC1-ArQHzOa",
        "colab_type": "code",
        "colab": {
          "base_uri": "https://localhost:8080/",
          "height": 50
        },
        "outputId": "b50d6beb-a118-45a3-cfb2-bce287fd9ee4"
      },
      "source": [
        "ypred = model.predict(X1)\n",
        "s=pd.DataFrame(ypred)\n",
        "s1=pd.DataFrame(y1)\n",
        "s1.corrwith(s, axis = 0) "
      ],
      "execution_count": 332,
      "outputs": [
        {
          "output_type": "execute_result",
          "data": {
            "text/plain": [
              "0    0.406541\n",
              "dtype: float64"
            ]
          },
          "metadata": {
            "tags": []
          },
          "execution_count": 332
        }
      ]
    },
    {
      "cell_type": "code",
      "metadata": {
        "id": "RjJslfLMJEbs",
        "colab_type": "code",
        "colab": {
          "base_uri": "https://localhost:8080/",
          "height": 50
        },
        "outputId": "aad7a3b4-e0f7-486b-8724-e64f16846cb8"
      },
      "source": [
        "ypred1=model.predict(X_test1)\n",
        "s=pd.DataFrame(ypred1)\n",
        "s1=pd.DataFrame(y_test1)\n",
        "s1.corrwith(s,axis=0)"
      ],
      "execution_count": 333,
      "outputs": [
        {
          "output_type": "execute_result",
          "data": {
            "text/plain": [
              "0    0.406541\n",
              "dtype: float64"
            ]
          },
          "metadata": {
            "tags": []
          },
          "execution_count": 333
        }
      ]
    },
    {
      "cell_type": "code",
      "metadata": {
        "id": "iot6np04aiT_",
        "colab_type": "code",
        "colab": {
          "base_uri": "https://localhost:8080/",
          "height": 34
        },
        "outputId": "71a9db88-bd94-4baf-fb95-a6caeae0d8a6"
      },
      "source": [
        "mean_absolute_error(y1,ypred)"
      ],
      "execution_count": 334,
      "outputs": [
        {
          "output_type": "execute_result",
          "data": {
            "text/plain": [
              "0.013920674649164523"
            ]
          },
          "metadata": {
            "tags": []
          },
          "execution_count": 334
        }
      ]
    },
    {
      "cell_type": "code",
      "metadata": {
        "id": "a8iPWieZam7l",
        "colab_type": "code",
        "colab": {
          "base_uri": "https://localhost:8080/",
          "height": 34
        },
        "outputId": "f21bc5df-6a49-4a1b-c317-1060309c2ab4"
      },
      "source": [
        "mean_absolute_error(y_test1,ypred1)"
      ],
      "execution_count": 335,
      "outputs": [
        {
          "output_type": "execute_result",
          "data": {
            "text/plain": [
              "0.013920674649164523"
            ]
          },
          "metadata": {
            "tags": []
          },
          "execution_count": 335
        }
      ]
    },
    {
      "cell_type": "code",
      "metadata": {
        "id": "IbLt0Hz1Mop2",
        "colab_type": "code",
        "colab": {
          "base_uri": "https://localhost:8080/",
          "height": 34
        },
        "outputId": "b9dbac55-5333-49c6-a5fb-f44c7829ceda"
      },
      "source": [
        "r2_score(y1,ypred)"
      ],
      "execution_count": 336,
      "outputs": [
        {
          "output_type": "execute_result",
          "data": {
            "text/plain": [
              "0.16426464131600682"
            ]
          },
          "metadata": {
            "tags": []
          },
          "execution_count": 336
        }
      ]
    },
    {
      "cell_type": "code",
      "metadata": {
        "id": "X7U_mkgGMrxT",
        "colab_type": "code",
        "colab": {
          "base_uri": "https://localhost:8080/",
          "height": 34
        },
        "outputId": "b448bcab-6319-474d-ef99-b76ff3aa0527"
      },
      "source": [
        "r2_score(y_test1,ypred1)"
      ],
      "execution_count": 337,
      "outputs": [
        {
          "output_type": "execute_result",
          "data": {
            "text/plain": [
              "0.16426464131600682"
            ]
          },
          "metadata": {
            "tags": []
          },
          "execution_count": 337
        }
      ]
    },
    {
      "cell_type": "code",
      "metadata": {
        "id": "dyKBYmkUtKUU",
        "colab_type": "code",
        "colab": {
          "base_uri": "https://localhost:8080/",
          "height": 1000
        },
        "outputId": "63134a18-f2ce-4f82-b8e5-d33f6741cd41"
      },
      "source": [
        "model.fit(X2, y2, validation_data=(X_test2,y_test2),epochs=50)"
      ],
      "execution_count": 338,
      "outputs": [
        {
          "output_type": "stream",
          "text": [
            "Train on 11997 samples, validate on 11997 samples\n",
            "Epoch 1/50\n",
            "11997/11997 [==============================] - 5s 409us/sample - loss: 0.0048 - acc: 0.8414 - val_loss: 0.0047 - val_acc: 0.8414\n",
            "Epoch 2/50\n",
            "11997/11997 [==============================] - 4s 368us/sample - loss: 0.0047 - acc: 0.8414 - val_loss: 0.0047 - val_acc: 0.8414\n",
            "Epoch 3/50\n",
            "11997/11997 [==============================] - 5s 392us/sample - loss: 0.0047 - acc: 0.8414 - val_loss: 0.0047 - val_acc: 0.8414\n",
            "Epoch 4/50\n",
            "11997/11997 [==============================] - 5s 387us/sample - loss: 0.0047 - acc: 0.8414 - val_loss: 0.0047 - val_acc: 0.8414\n",
            "Epoch 5/50\n",
            "11997/11997 [==============================] - 5s 382us/sample - loss: 0.0047 - acc: 0.8414 - val_loss: 0.0047 - val_acc: 0.8414\n",
            "Epoch 6/50\n",
            "11997/11997 [==============================] - 5s 383us/sample - loss: 0.0047 - acc: 0.8414 - val_loss: 0.0047 - val_acc: 0.8414\n",
            "Epoch 7/50\n",
            "11997/11997 [==============================] - 4s 359us/sample - loss: 0.0047 - acc: 0.8414 - val_loss: 0.0047 - val_acc: 0.8414\n",
            "Epoch 8/50\n",
            "11997/11997 [==============================] - 4s 352us/sample - loss: 0.0047 - acc: 0.8414 - val_loss: 0.0047 - val_acc: 0.8414\n",
            "Epoch 9/50\n",
            "11997/11997 [==============================] - 4s 344us/sample - loss: 0.0047 - acc: 0.8414 - val_loss: 0.0047 - val_acc: 0.8414\n",
            "Epoch 10/50\n",
            "11997/11997 [==============================] - 4s 346us/sample - loss: 0.0047 - acc: 0.8414 - val_loss: 0.0047 - val_acc: 0.8414\n",
            "Epoch 11/50\n",
            "11997/11997 [==============================] - 4s 327us/sample - loss: 0.0047 - acc: 0.8414 - val_loss: 0.0047 - val_acc: 0.8414\n",
            "Epoch 12/50\n",
            "11997/11997 [==============================] - 4s 333us/sample - loss: 0.0047 - acc: 0.8414 - val_loss: 0.0047 - val_acc: 0.8414\n",
            "Epoch 13/50\n",
            "11997/11997 [==============================] - 4s 335us/sample - loss: 0.0047 - acc: 0.8414 - val_loss: 0.0047 - val_acc: 0.8414\n",
            "Epoch 14/50\n",
            "11997/11997 [==============================] - 4s 336us/sample - loss: 0.0047 - acc: 0.8414 - val_loss: 0.0047 - val_acc: 0.8414\n",
            "Epoch 15/50\n",
            "11997/11997 [==============================] - 4s 347us/sample - loss: 0.0047 - acc: 0.8414 - val_loss: 0.0046 - val_acc: 0.8414\n",
            "Epoch 16/50\n",
            "11997/11997 [==============================] - 4s 347us/sample - loss: 0.0047 - acc: 0.8414 - val_loss: 0.0047 - val_acc: 0.8414\n",
            "Epoch 17/50\n",
            "11997/11997 [==============================] - 4s 349us/sample - loss: 0.0047 - acc: 0.8414 - val_loss: 0.0047 - val_acc: 0.8414\n",
            "Epoch 18/50\n",
            "11997/11997 [==============================] - 4s 369us/sample - loss: 0.0047 - acc: 0.8414 - val_loss: 0.0046 - val_acc: 0.8414\n",
            "Epoch 19/50\n",
            "11997/11997 [==============================] - 4s 363us/sample - loss: 0.0047 - acc: 0.8414 - val_loss: 0.0046 - val_acc: 0.8414\n",
            "Epoch 20/50\n",
            "11997/11997 [==============================] - 5s 376us/sample - loss: 0.0047 - acc: 0.8414 - val_loss: 0.0046 - val_acc: 0.8414\n",
            "Epoch 21/50\n",
            "11997/11997 [==============================] - 5s 382us/sample - loss: 0.0047 - acc: 0.8414 - val_loss: 0.0046 - val_acc: 0.8414\n",
            "Epoch 22/50\n",
            "11997/11997 [==============================] - 5s 376us/sample - loss: 0.0047 - acc: 0.8414 - val_loss: 0.0047 - val_acc: 0.8414\n",
            "Epoch 23/50\n",
            "11997/11997 [==============================] - 4s 371us/sample - loss: 0.0047 - acc: 0.8414 - val_loss: 0.0046 - val_acc: 0.8414\n",
            "Epoch 24/50\n",
            "11997/11997 [==============================] - 4s 371us/sample - loss: 0.0047 - acc: 0.8414 - val_loss: 0.0046 - val_acc: 0.8414\n",
            "Epoch 25/50\n",
            "11997/11997 [==============================] - 4s 370us/sample - loss: 0.0047 - acc: 0.8414 - val_loss: 0.0047 - val_acc: 0.8414\n",
            "Epoch 26/50\n",
            "11997/11997 [==============================] - 4s 370us/sample - loss: 0.0047 - acc: 0.8414 - val_loss: 0.0046 - val_acc: 0.8414\n",
            "Epoch 27/50\n",
            "11997/11997 [==============================] - 4s 372us/sample - loss: 0.0046 - acc: 0.8414 - val_loss: 0.0046 - val_acc: 0.8414\n",
            "Epoch 28/50\n",
            "11997/11997 [==============================] - 5s 376us/sample - loss: 0.0046 - acc: 0.8414 - val_loss: 0.0046 - val_acc: 0.8414\n",
            "Epoch 29/50\n",
            "11997/11997 [==============================] - 4s 367us/sample - loss: 0.0047 - acc: 0.8414 - val_loss: 0.0046 - val_acc: 0.8414\n",
            "Epoch 30/50\n",
            "11997/11997 [==============================] - 4s 369us/sample - loss: 0.0046 - acc: 0.8414 - val_loss: 0.0046 - val_acc: 0.8414\n",
            "Epoch 31/50\n",
            "11997/11997 [==============================] - 4s 353us/sample - loss: 0.0046 - acc: 0.8414 - val_loss: 0.0046 - val_acc: 0.8414\n",
            "Epoch 32/50\n",
            "11997/11997 [==============================] - 4s 351us/sample - loss: 0.0047 - acc: 0.8414 - val_loss: 0.0046 - val_acc: 0.8414\n",
            "Epoch 33/50\n",
            "11997/11997 [==============================] - 4s 327us/sample - loss: 0.0046 - acc: 0.8414 - val_loss: 0.0046 - val_acc: 0.8414\n",
            "Epoch 34/50\n",
            "11997/11997 [==============================] - 4s 328us/sample - loss: 0.0046 - acc: 0.8414 - val_loss: 0.0046 - val_acc: 0.8414\n",
            "Epoch 35/50\n",
            "11997/11997 [==============================] - 4s 337us/sample - loss: 0.0046 - acc: 0.8414 - val_loss: 0.0046 - val_acc: 0.8414\n",
            "Epoch 36/50\n",
            "11997/11997 [==============================] - 4s 356us/sample - loss: 0.0046 - acc: 0.8414 - val_loss: 0.0046 - val_acc: 0.8414\n",
            "Epoch 37/50\n",
            "11997/11997 [==============================] - 4s 356us/sample - loss: 0.0046 - acc: 0.8414 - val_loss: 0.0046 - val_acc: 0.8414\n",
            "Epoch 38/50\n",
            "11997/11997 [==============================] - 4s 359us/sample - loss: 0.0046 - acc: 0.8414 - val_loss: 0.0046 - val_acc: 0.8414\n",
            "Epoch 39/50\n",
            "11997/11997 [==============================] - 4s 349us/sample - loss: 0.0046 - acc: 0.8414 - val_loss: 0.0046 - val_acc: 0.8414\n",
            "Epoch 40/50\n",
            "11997/11997 [==============================] - 4s 356us/sample - loss: 0.0046 - acc: 0.8414 - val_loss: 0.0046 - val_acc: 0.8414\n",
            "Epoch 41/50\n",
            "11997/11997 [==============================] - 4s 357us/sample - loss: 0.0046 - acc: 0.8414 - val_loss: 0.0046 - val_acc: 0.8414\n",
            "Epoch 42/50\n",
            "11997/11997 [==============================] - 4s 349us/sample - loss: 0.0046 - acc: 0.8414 - val_loss: 0.0046 - val_acc: 0.8414\n",
            "Epoch 43/50\n",
            "11997/11997 [==============================] - 4s 359us/sample - loss: 0.0046 - acc: 0.8414 - val_loss: 0.0046 - val_acc: 0.8414\n",
            "Epoch 44/50\n",
            "11997/11997 [==============================] - 4s 370us/sample - loss: 0.0046 - acc: 0.8414 - val_loss: 0.0046 - val_acc: 0.8414\n",
            "Epoch 45/50\n",
            "11997/11997 [==============================] - 4s 362us/sample - loss: 0.0046 - acc: 0.8414 - val_loss: 0.0046 - val_acc: 0.8414\n",
            "Epoch 46/50\n",
            "11997/11997 [==============================] - 4s 363us/sample - loss: 0.0046 - acc: 0.8414 - val_loss: 0.0046 - val_acc: 0.8414\n",
            "Epoch 47/50\n",
            "11997/11997 [==============================] - 4s 360us/sample - loss: 0.0046 - acc: 0.8414 - val_loss: 0.0046 - val_acc: 0.8414\n",
            "Epoch 48/50\n",
            "11997/11997 [==============================] - 4s 321us/sample - loss: 0.0046 - acc: 0.8414 - val_loss: 0.0046 - val_acc: 0.8414\n",
            "Epoch 49/50\n",
            "11997/11997 [==============================] - 4s 341us/sample - loss: 0.0046 - acc: 0.8414 - val_loss: 0.0046 - val_acc: 0.8414\n",
            "Epoch 50/50\n",
            "11997/11997 [==============================] - 4s 330us/sample - loss: 0.0046 - acc: 0.8414 - val_loss: 0.0046 - val_acc: 0.8414\n"
          ],
          "name": "stdout"
        },
        {
          "output_type": "execute_result",
          "data": {
            "text/plain": [
              "<tensorflow.python.keras.callbacks.History at 0x7f86a13474e0>"
            ]
          },
          "metadata": {
            "tags": []
          },
          "execution_count": 338
        }
      ]
    },
    {
      "cell_type": "code",
      "metadata": {
        "id": "JEu6KMnhH0z8",
        "colab_type": "code",
        "colab": {
          "base_uri": "https://localhost:8080/",
          "height": 50
        },
        "outputId": "8ed8eae8-9078-4bfc-cb79-e263ed338b94"
      },
      "source": [
        "ypred = model.predict(X2)\n",
        "s=pd.DataFrame(ypred)\n",
        "s1=pd.DataFrame(y2)\n",
        "s1.corrwith(s, axis = 0) "
      ],
      "execution_count": 339,
      "outputs": [
        {
          "output_type": "execute_result",
          "data": {
            "text/plain": [
              "0    0.293369\n",
              "dtype: float64"
            ]
          },
          "metadata": {
            "tags": []
          },
          "execution_count": 339
        }
      ]
    },
    {
      "cell_type": "code",
      "metadata": {
        "id": "zh49J42kJF0i",
        "colab_type": "code",
        "colab": {
          "base_uri": "https://localhost:8080/",
          "height": 50
        },
        "outputId": "cf28de8e-8ad9-402d-9f9a-2f7fa4da1759"
      },
      "source": [
        "ypred1=model.predict(X_test2)\n",
        "s=pd.DataFrame(ypred1)\n",
        "s1=pd.DataFrame(y_test2)\n",
        "s1.corrwith(s,axis=0)"
      ],
      "execution_count": 340,
      "outputs": [
        {
          "output_type": "execute_result",
          "data": {
            "text/plain": [
              "0    0.293369\n",
              "dtype: float64"
            ]
          },
          "metadata": {
            "tags": []
          },
          "execution_count": 340
        }
      ]
    },
    {
      "cell_type": "code",
      "metadata": {
        "id": "Xwk6R9otatSo",
        "colab_type": "code",
        "colab": {
          "base_uri": "https://localhost:8080/",
          "height": 34
        },
        "outputId": "0786590e-9ebe-4115-9a91-df12abd4e7b4"
      },
      "source": [
        "mean_absolute_error(y2,ypred)"
      ],
      "execution_count": 341,
      "outputs": [
        {
          "output_type": "execute_result",
          "data": {
            "text/plain": [
              "0.027886632236081958"
            ]
          },
          "metadata": {
            "tags": []
          },
          "execution_count": 341
        }
      ]
    },
    {
      "cell_type": "code",
      "metadata": {
        "id": "DqGICblJaxX-",
        "colab_type": "code",
        "colab": {
          "base_uri": "https://localhost:8080/",
          "height": 34
        },
        "outputId": "d60a0791-ef8b-4cb5-cbc2-6b1cdb80c352"
      },
      "source": [
        "mean_absolute_error(y_test2,ypred1)"
      ],
      "execution_count": 342,
      "outputs": [
        {
          "output_type": "execute_result",
          "data": {
            "text/plain": [
              "0.027886632236081958"
            ]
          },
          "metadata": {
            "tags": []
          },
          "execution_count": 342
        }
      ]
    },
    {
      "cell_type": "code",
      "metadata": {
        "id": "jFG77mOGMjRL",
        "colab_type": "code",
        "colab": {
          "base_uri": "https://localhost:8080/",
          "height": 34
        },
        "outputId": "bac112bd-9cbf-42e0-f759-bee3f9100026"
      },
      "source": [
        "r2_score(y2,ypred)"
      ],
      "execution_count": 343,
      "outputs": [
        {
          "output_type": "execute_result",
          "data": {
            "text/plain": [
              "0.08602672859155158"
            ]
          },
          "metadata": {
            "tags": []
          },
          "execution_count": 343
        }
      ]
    },
    {
      "cell_type": "code",
      "metadata": {
        "id": "mOkYZ-wjMj_C",
        "colab_type": "code",
        "colab": {
          "base_uri": "https://localhost:8080/",
          "height": 34
        },
        "outputId": "478d04dc-ae52-4666-bbc8-d3890902a6e7"
      },
      "source": [
        "r2_score(y_test2,ypred1)"
      ],
      "execution_count": 344,
      "outputs": [
        {
          "output_type": "execute_result",
          "data": {
            "text/plain": [
              "0.08602672859155158"
            ]
          },
          "metadata": {
            "tags": []
          },
          "execution_count": 344
        }
      ]
    },
    {
      "cell_type": "code",
      "metadata": {
        "id": "VFNvtKzUtMus",
        "colab_type": "code",
        "colab": {
          "base_uri": "https://localhost:8080/",
          "height": 1000
        },
        "outputId": "7d183d19-ca8b-4518-84e6-f9ab3475edd6"
      },
      "source": [
        "model.fit(X3, y3, validation_data=(X_test3,y_test3),epochs=50)"
      ],
      "execution_count": 345,
      "outputs": [
        {
          "output_type": "stream",
          "text": [
            "Train on 11997 samples, validate on 11997 samples\n",
            "Epoch 1/50\n",
            "11997/11997 [==============================] - 4s 365us/sample - loss: 0.0032 - acc: 0.8605 - val_loss: 0.0032 - val_acc: 0.8605\n",
            "Epoch 2/50\n",
            "11997/11997 [==============================] - 4s 361us/sample - loss: 0.0032 - acc: 0.8605 - val_loss: 0.0032 - val_acc: 0.8605\n",
            "Epoch 3/50\n",
            "11997/11997 [==============================] - 4s 373us/sample - loss: 0.0032 - acc: 0.8605 - val_loss: 0.0031 - val_acc: 0.8605\n",
            "Epoch 4/50\n",
            "11997/11997 [==============================] - 4s 365us/sample - loss: 0.0032 - acc: 0.8605 - val_loss: 0.0031 - val_acc: 0.8605\n",
            "Epoch 5/50\n",
            "11997/11997 [==============================] - 4s 367us/sample - loss: 0.0032 - acc: 0.8605 - val_loss: 0.0031 - val_acc: 0.8605\n",
            "Epoch 6/50\n",
            "11997/11997 [==============================] - 4s 370us/sample - loss: 0.0032 - acc: 0.8605 - val_loss: 0.0032 - val_acc: 0.8605\n",
            "Epoch 7/50\n",
            "11997/11997 [==============================] - 4s 369us/sample - loss: 0.0031 - acc: 0.8605 - val_loss: 0.0031 - val_acc: 0.8605\n",
            "Epoch 8/50\n",
            "11997/11997 [==============================] - 4s 364us/sample - loss: 0.0032 - acc: 0.8605 - val_loss: 0.0032 - val_acc: 0.8605\n",
            "Epoch 9/50\n",
            "11997/11997 [==============================] - 4s 366us/sample - loss: 0.0031 - acc: 0.8605 - val_loss: 0.0031 - val_acc: 0.8605\n",
            "Epoch 10/50\n",
            "11997/11997 [==============================] - 4s 370us/sample - loss: 0.0031 - acc: 0.8605 - val_loss: 0.0031 - val_acc: 0.8605\n",
            "Epoch 11/50\n",
            "11997/11997 [==============================] - 4s 350us/sample - loss: 0.0031 - acc: 0.8605 - val_loss: 0.0031 - val_acc: 0.8605\n",
            "Epoch 12/50\n",
            "11997/11997 [==============================] - 4s 324us/sample - loss: 0.0031 - acc: 0.8605 - val_loss: 0.0031 - val_acc: 0.8605\n",
            "Epoch 13/50\n",
            "11997/11997 [==============================] - 4s 329us/sample - loss: 0.0031 - acc: 0.8605 - val_loss: 0.0031 - val_acc: 0.8605\n",
            "Epoch 14/50\n",
            "11997/11997 [==============================] - 4s 336us/sample - loss: 0.0031 - acc: 0.8605 - val_loss: 0.0031 - val_acc: 0.8605\n",
            "Epoch 15/50\n",
            "11997/11997 [==============================] - 4s 338us/sample - loss: 0.0031 - acc: 0.8605 - val_loss: 0.0031 - val_acc: 0.8605\n",
            "Epoch 16/50\n",
            "11997/11997 [==============================] - 4s 338us/sample - loss: 0.0031 - acc: 0.8605 - val_loss: 0.0031 - val_acc: 0.8605\n",
            "Epoch 17/50\n",
            "11997/11997 [==============================] - 4s 333us/sample - loss: 0.0031 - acc: 0.8605 - val_loss: 0.0031 - val_acc: 0.8605\n",
            "Epoch 18/50\n",
            "11997/11997 [==============================] - 4s 330us/sample - loss: 0.0031 - acc: 0.8605 - val_loss: 0.0031 - val_acc: 0.8605\n",
            "Epoch 19/50\n",
            "11997/11997 [==============================] - 4s 321us/sample - loss: 0.0031 - acc: 0.8605 - val_loss: 0.0031 - val_acc: 0.8605\n",
            "Epoch 20/50\n",
            "11997/11997 [==============================] - 4s 331us/sample - loss: 0.0031 - acc: 0.8605 - val_loss: 0.0031 - val_acc: 0.8605\n",
            "Epoch 21/50\n",
            "11997/11997 [==============================] - 4s 327us/sample - loss: 0.0031 - acc: 0.8605 - val_loss: 0.0031 - val_acc: 0.8605\n",
            "Epoch 22/50\n",
            "11997/11997 [==============================] - 4s 323us/sample - loss: 0.0031 - acc: 0.8605 - val_loss: 0.0031 - val_acc: 0.8605\n",
            "Epoch 23/50\n",
            "11997/11997 [==============================] - 4s 344us/sample - loss: 0.0031 - acc: 0.8605 - val_loss: 0.0031 - val_acc: 0.8605\n",
            "Epoch 24/50\n",
            "11997/11997 [==============================] - 4s 331us/sample - loss: 0.0031 - acc: 0.8605 - val_loss: 0.0032 - val_acc: 0.8605\n",
            "Epoch 25/50\n",
            "11997/11997 [==============================] - 4s 333us/sample - loss: 0.0031 - acc: 0.8605 - val_loss: 0.0031 - val_acc: 0.8605\n",
            "Epoch 26/50\n",
            "11997/11997 [==============================] - 4s 324us/sample - loss: 0.0031 - acc: 0.8605 - val_loss: 0.0031 - val_acc: 0.8605\n",
            "Epoch 27/50\n",
            "11997/11997 [==============================] - 4s 327us/sample - loss: 0.0031 - acc: 0.8605 - val_loss: 0.0031 - val_acc: 0.8605\n",
            "Epoch 28/50\n",
            "11997/11997 [==============================] - 4s 313us/sample - loss: 0.0031 - acc: 0.8605 - val_loss: 0.0031 - val_acc: 0.8605\n",
            "Epoch 29/50\n",
            "11997/11997 [==============================] - 4s 326us/sample - loss: 0.0031 - acc: 0.8605 - val_loss: 0.0031 - val_acc: 0.8605\n",
            "Epoch 30/50\n",
            "11997/11997 [==============================] - 4s 331us/sample - loss: 0.0031 - acc: 0.8605 - val_loss: 0.0031 - val_acc: 0.8605\n",
            "Epoch 31/50\n",
            "11997/11997 [==============================] - 4s 330us/sample - loss: 0.0031 - acc: 0.8605 - val_loss: 0.0031 - val_acc: 0.8605\n",
            "Epoch 32/50\n",
            "11997/11997 [==============================] - 4s 336us/sample - loss: 0.0031 - acc: 0.8605 - val_loss: 0.0031 - val_acc: 0.8605\n",
            "Epoch 33/50\n",
            "11997/11997 [==============================] - 4s 333us/sample - loss: 0.0031 - acc: 0.8605 - val_loss: 0.0031 - val_acc: 0.8605\n",
            "Epoch 34/50\n",
            "11997/11997 [==============================] - 4s 329us/sample - loss: 0.0031 - acc: 0.8605 - val_loss: 0.0031 - val_acc: 0.8605\n",
            "Epoch 35/50\n",
            "11997/11997 [==============================] - 4s 332us/sample - loss: 0.0031 - acc: 0.8605 - val_loss: 0.0031 - val_acc: 0.8605\n",
            "Epoch 36/50\n",
            "11997/11997 [==============================] - 4s 349us/sample - loss: 0.0031 - acc: 0.8605 - val_loss: 0.0031 - val_acc: 0.8605\n",
            "Epoch 37/50\n",
            "11997/11997 [==============================] - 4s 347us/sample - loss: 0.0031 - acc: 0.8605 - val_loss: 0.0031 - val_acc: 0.8605\n",
            "Epoch 38/50\n",
            "11997/11997 [==============================] - 4s 339us/sample - loss: 0.0031 - acc: 0.8605 - val_loss: 0.0031 - val_acc: 0.8605\n",
            "Epoch 39/50\n",
            "11997/11997 [==============================] - 4s 334us/sample - loss: 0.0031 - acc: 0.8605 - val_loss: 0.0031 - val_acc: 0.8605\n",
            "Epoch 40/50\n",
            "11997/11997 [==============================] - 4s 343us/sample - loss: 0.0031 - acc: 0.8605 - val_loss: 0.0031 - val_acc: 0.8605\n",
            "Epoch 41/50\n",
            "11997/11997 [==============================] - 4s 358us/sample - loss: 0.0031 - acc: 0.8605 - val_loss: 0.0031 - val_acc: 0.8605\n",
            "Epoch 42/50\n",
            "11997/11997 [==============================] - 4s 335us/sample - loss: 0.0031 - acc: 0.8605 - val_loss: 0.0031 - val_acc: 0.8605\n",
            "Epoch 43/50\n",
            "11997/11997 [==============================] - 4s 343us/sample - loss: 0.0031 - acc: 0.8605 - val_loss: 0.0031 - val_acc: 0.8605\n",
            "Epoch 44/50\n",
            "11997/11997 [==============================] - 4s 337us/sample - loss: 0.0031 - acc: 0.8605 - val_loss: 0.0031 - val_acc: 0.8605\n",
            "Epoch 45/50\n",
            "11997/11997 [==============================] - 4s 332us/sample - loss: 0.0031 - acc: 0.8605 - val_loss: 0.0031 - val_acc: 0.8605\n",
            "Epoch 46/50\n",
            "11997/11997 [==============================] - 4s 341us/sample - loss: 0.0031 - acc: 0.8605 - val_loss: 0.0031 - val_acc: 0.8605\n",
            "Epoch 47/50\n",
            "11997/11997 [==============================] - 4s 342us/sample - loss: 0.0031 - acc: 0.8605 - val_loss: 0.0031 - val_acc: 0.8605\n",
            "Epoch 48/50\n",
            "11997/11997 [==============================] - 4s 351us/sample - loss: 0.0031 - acc: 0.8605 - val_loss: 0.0031 - val_acc: 0.8605\n",
            "Epoch 49/50\n",
            "11997/11997 [==============================] - 4s 341us/sample - loss: 0.0031 - acc: 0.8605 - val_loss: 0.0031 - val_acc: 0.8605\n",
            "Epoch 50/50\n",
            "11997/11997 [==============================] - 4s 335us/sample - loss: 0.0031 - acc: 0.8605 - val_loss: 0.0031 - val_acc: 0.8605\n"
          ],
          "name": "stdout"
        },
        {
          "output_type": "execute_result",
          "data": {
            "text/plain": [
              "<tensorflow.python.keras.callbacks.History at 0x7f869240bef0>"
            ]
          },
          "metadata": {
            "tags": []
          },
          "execution_count": 345
        }
      ]
    },
    {
      "cell_type": "code",
      "metadata": {
        "id": "GkOlpfGdH2gZ",
        "colab_type": "code",
        "colab": {
          "base_uri": "https://localhost:8080/",
          "height": 50
        },
        "outputId": "a3ed12fb-b821-48f4-a27b-3b00d0141432"
      },
      "source": [
        "ypred = model.predict(X3)\n",
        "s=pd.DataFrame(ypred)\n",
        "s1=pd.DataFrame(y3)\n",
        "s1.corrwith(s, axis = 0) "
      ],
      "execution_count": 346,
      "outputs": [
        {
          "output_type": "execute_result",
          "data": {
            "text/plain": [
              "0    0.306198\n",
              "dtype: float64"
            ]
          },
          "metadata": {
            "tags": []
          },
          "execution_count": 346
        }
      ]
    },
    {
      "cell_type": "code",
      "metadata": {
        "id": "8DCzVU6iJHQ1",
        "colab_type": "code",
        "colab": {
          "base_uri": "https://localhost:8080/",
          "height": 50
        },
        "outputId": "937cdc46-cb54-46ef-d026-887026fc3b98"
      },
      "source": [
        "ypred1=model.predict(X_test3)\n",
        "s=pd.DataFrame(ypred1)\n",
        "s1=pd.DataFrame(y_test3)\n",
        "s1.corrwith(s,axis=0)"
      ],
      "execution_count": 347,
      "outputs": [
        {
          "output_type": "execute_result",
          "data": {
            "text/plain": [
              "0    0.306198\n",
              "dtype: float64"
            ]
          },
          "metadata": {
            "tags": []
          },
          "execution_count": 347
        }
      ]
    },
    {
      "cell_type": "code",
      "metadata": {
        "id": "FO_LLgNyMcxl",
        "colab_type": "code",
        "colab": {
          "base_uri": "https://localhost:8080/",
          "height": 34
        },
        "outputId": "541b5a2a-6573-445f-d29e-c7768fd0a411"
      },
      "source": [
        "r2_score(y3,ypred)"
      ],
      "execution_count": 348,
      "outputs": [
        {
          "output_type": "execute_result",
          "data": {
            "text/plain": [
              "0.09219231080909718"
            ]
          },
          "metadata": {
            "tags": []
          },
          "execution_count": 348
        }
      ]
    },
    {
      "cell_type": "code",
      "metadata": {
        "id": "3Dou4U6tMfBa",
        "colab_type": "code",
        "colab": {
          "base_uri": "https://localhost:8080/",
          "height": 34
        },
        "outputId": "a6709240-8870-4eea-84c0-7660f5c94bbf"
      },
      "source": [
        "r2_score(y_test3,ypred1)"
      ],
      "execution_count": 349,
      "outputs": [
        {
          "output_type": "execute_result",
          "data": {
            "text/plain": [
              "0.09219231080909718"
            ]
          },
          "metadata": {
            "tags": []
          },
          "execution_count": 349
        }
      ]
    },
    {
      "cell_type": "code",
      "metadata": {
        "id": "vg9UDalba2r6",
        "colab_type": "code",
        "colab": {
          "base_uri": "https://localhost:8080/",
          "height": 34
        },
        "outputId": "485ed77d-c8b5-44ec-b66b-ac366f50bcac"
      },
      "source": [
        "mean_absolute_error(y3,ypred)"
      ],
      "execution_count": 350,
      "outputs": [
        {
          "output_type": "execute_result",
          "data": {
            "text/plain": [
              "0.023335508856878486"
            ]
          },
          "metadata": {
            "tags": []
          },
          "execution_count": 350
        }
      ]
    },
    {
      "cell_type": "code",
      "metadata": {
        "id": "PKHNKah8a6y4",
        "colab_type": "code",
        "colab": {
          "base_uri": "https://localhost:8080/",
          "height": 34
        },
        "outputId": "a589ac3f-402f-468f-a0e5-c143b3236ab4"
      },
      "source": [
        "mean_absolute_error(y_test3,ypred1)"
      ],
      "execution_count": 351,
      "outputs": [
        {
          "output_type": "execute_result",
          "data": {
            "text/plain": [
              "0.023335508856878486"
            ]
          },
          "metadata": {
            "tags": []
          },
          "execution_count": 351
        }
      ]
    },
    {
      "cell_type": "code",
      "metadata": {
        "id": "SgByKfhitNMk",
        "colab_type": "code",
        "colab": {
          "base_uri": "https://localhost:8080/",
          "height": 1000
        },
        "outputId": "b954de89-d01b-40b6-b3ef-a36ce7fda362"
      },
      "source": [
        "model.fit(X4, y4, validation_data=(X_test4,y_test4),epochs=50)"
      ],
      "execution_count": 352,
      "outputs": [
        {
          "output_type": "stream",
          "text": [
            "Train on 11997 samples, validate on 11997 samples\n",
            "Epoch 1/50\n",
            "11997/11997 [==============================] - 4s 337us/sample - loss: 0.0028 - acc: 0.8360 - val_loss: 0.0027 - val_acc: 0.8360\n",
            "Epoch 2/50\n",
            "11997/11997 [==============================] - 4s 341us/sample - loss: 0.0027 - acc: 0.8360 - val_loss: 0.0027 - val_acc: 0.8360\n",
            "Epoch 3/50\n",
            "11997/11997 [==============================] - 4s 356us/sample - loss: 0.0027 - acc: 0.8360 - val_loss: 0.0027 - val_acc: 0.8360\n",
            "Epoch 4/50\n",
            "11997/11997 [==============================] - 4s 333us/sample - loss: 0.0027 - acc: 0.8360 - val_loss: 0.0027 - val_acc: 0.8360\n",
            "Epoch 5/50\n",
            "11997/11997 [==============================] - 4s 348us/sample - loss: 0.0027 - acc: 0.8360 - val_loss: 0.0027 - val_acc: 0.8360\n",
            "Epoch 6/50\n",
            "11997/11997 [==============================] - 4s 344us/sample - loss: 0.0027 - acc: 0.8360 - val_loss: 0.0027 - val_acc: 0.8360\n",
            "Epoch 7/50\n",
            "11997/11997 [==============================] - 4s 338us/sample - loss: 0.0027 - acc: 0.8360 - val_loss: 0.0027 - val_acc: 0.8360\n",
            "Epoch 8/50\n",
            "11997/11997 [==============================] - 4s 337us/sample - loss: 0.0027 - acc: 0.8360 - val_loss: 0.0027 - val_acc: 0.8360\n",
            "Epoch 9/50\n",
            "11997/11997 [==============================] - 4s 347us/sample - loss: 0.0027 - acc: 0.8360 - val_loss: 0.0027 - val_acc: 0.8360\n",
            "Epoch 10/50\n",
            "11997/11997 [==============================] - 4s 343us/sample - loss: 0.0027 - acc: 0.8360 - val_loss: 0.0027 - val_acc: 0.8360\n",
            "Epoch 11/50\n",
            "11997/11997 [==============================] - 4s 337us/sample - loss: 0.0027 - acc: 0.8360 - val_loss: 0.0027 - val_acc: 0.8360\n",
            "Epoch 12/50\n",
            "11997/11997 [==============================] - 4s 351us/sample - loss: 0.0027 - acc: 0.8360 - val_loss: 0.0027 - val_acc: 0.8360\n",
            "Epoch 13/50\n",
            "11997/11997 [==============================] - 4s 340us/sample - loss: 0.0027 - acc: 0.8360 - val_loss: 0.0027 - val_acc: 0.8360\n",
            "Epoch 14/50\n",
            "11997/11997 [==============================] - 4s 339us/sample - loss: 0.0027 - acc: 0.8360 - val_loss: 0.0027 - val_acc: 0.8360\n",
            "Epoch 15/50\n",
            "11997/11997 [==============================] - 4s 339us/sample - loss: 0.0027 - acc: 0.8360 - val_loss: 0.0026 - val_acc: 0.8360\n",
            "Epoch 16/50\n",
            "11997/11997 [==============================] - 4s 334us/sample - loss: 0.0027 - acc: 0.8360 - val_loss: 0.0027 - val_acc: 0.8360\n",
            "Epoch 17/50\n",
            "11997/11997 [==============================] - 4s 343us/sample - loss: 0.0027 - acc: 0.8360 - val_loss: 0.0026 - val_acc: 0.8360\n",
            "Epoch 18/50\n",
            "11997/11997 [==============================] - 4s 344us/sample - loss: 0.0027 - acc: 0.8360 - val_loss: 0.0026 - val_acc: 0.8360\n",
            "Epoch 19/50\n",
            "11997/11997 [==============================] - 4s 336us/sample - loss: 0.0027 - acc: 0.8360 - val_loss: 0.0026 - val_acc: 0.8360\n",
            "Epoch 20/50\n",
            "11997/11997 [==============================] - 4s 345us/sample - loss: 0.0027 - acc: 0.8360 - val_loss: 0.0026 - val_acc: 0.8360\n",
            "Epoch 21/50\n",
            "11997/11997 [==============================] - 4s 339us/sample - loss: 0.0027 - acc: 0.8360 - val_loss: 0.0026 - val_acc: 0.8360\n",
            "Epoch 22/50\n",
            "11997/11997 [==============================] - 4s 338us/sample - loss: 0.0026 - acc: 0.8360 - val_loss: 0.0026 - val_acc: 0.8360\n",
            "Epoch 23/50\n",
            "11997/11997 [==============================] - 4s 340us/sample - loss: 0.0027 - acc: 0.8360 - val_loss: 0.0026 - val_acc: 0.8360\n",
            "Epoch 24/50\n",
            "11997/11997 [==============================] - 4s 342us/sample - loss: 0.0027 - acc: 0.8360 - val_loss: 0.0026 - val_acc: 0.8360\n",
            "Epoch 25/50\n",
            "11997/11997 [==============================] - 4s 349us/sample - loss: 0.0026 - acc: 0.8360 - val_loss: 0.0026 - val_acc: 0.8360\n",
            "Epoch 26/50\n",
            "11997/11997 [==============================] - 4s 348us/sample - loss: 0.0026 - acc: 0.8360 - val_loss: 0.0026 - val_acc: 0.8360\n",
            "Epoch 27/50\n",
            "11997/11997 [==============================] - 4s 344us/sample - loss: 0.0027 - acc: 0.8360 - val_loss: 0.0026 - val_acc: 0.8360\n",
            "Epoch 28/50\n",
            "11997/11997 [==============================] - 4s 338us/sample - loss: 0.0026 - acc: 0.8360 - val_loss: 0.0027 - val_acc: 0.8360\n",
            "Epoch 29/50\n",
            "11997/11997 [==============================] - 4s 339us/sample - loss: 0.0027 - acc: 0.8360 - val_loss: 0.0026 - val_acc: 0.8360\n",
            "Epoch 30/50\n",
            "11997/11997 [==============================] - 4s 341us/sample - loss: 0.0026 - acc: 0.8360 - val_loss: 0.0026 - val_acc: 0.8360\n",
            "Epoch 31/50\n",
            "11997/11997 [==============================] - 4s 340us/sample - loss: 0.0026 - acc: 0.8360 - val_loss: 0.0026 - val_acc: 0.8360\n",
            "Epoch 32/50\n",
            "11997/11997 [==============================] - 4s 342us/sample - loss: 0.0026 - acc: 0.8360 - val_loss: 0.0026 - val_acc: 0.8360\n",
            "Epoch 33/50\n",
            "11997/11997 [==============================] - 4s 344us/sample - loss: 0.0027 - acc: 0.8360 - val_loss: 0.0026 - val_acc: 0.8360\n",
            "Epoch 34/50\n",
            "11997/11997 [==============================] - 4s 340us/sample - loss: 0.0026 - acc: 0.8360 - val_loss: 0.0026 - val_acc: 0.8360\n",
            "Epoch 35/50\n",
            "11997/11997 [==============================] - 4s 341us/sample - loss: 0.0026 - acc: 0.8360 - val_loss: 0.0026 - val_acc: 0.8360\n",
            "Epoch 36/50\n",
            "11997/11997 [==============================] - 4s 331us/sample - loss: 0.0026 - acc: 0.8360 - val_loss: 0.0026 - val_acc: 0.8360\n",
            "Epoch 37/50\n",
            "11997/11997 [==============================] - 4s 329us/sample - loss: 0.0026 - acc: 0.8360 - val_loss: 0.0026 - val_acc: 0.8360\n",
            "Epoch 38/50\n",
            "11997/11997 [==============================] - 4s 322us/sample - loss: 0.0026 - acc: 0.8360 - val_loss: 0.0026 - val_acc: 0.8360\n",
            "Epoch 39/50\n",
            "11997/11997 [==============================] - 4s 316us/sample - loss: 0.0026 - acc: 0.8360 - val_loss: 0.0026 - val_acc: 0.8360\n",
            "Epoch 40/50\n",
            "11997/11997 [==============================] - 4s 334us/sample - loss: 0.0026 - acc: 0.8360 - val_loss: 0.0026 - val_acc: 0.8360\n",
            "Epoch 41/50\n",
            "11997/11997 [==============================] - 4s 335us/sample - loss: 0.0026 - acc: 0.8360 - val_loss: 0.0026 - val_acc: 0.8360\n",
            "Epoch 42/50\n",
            "11997/11997 [==============================] - 4s 337us/sample - loss: 0.0026 - acc: 0.8360 - val_loss: 0.0026 - val_acc: 0.8360\n",
            "Epoch 43/50\n",
            "11997/11997 [==============================] - 4s 328us/sample - loss: 0.0026 - acc: 0.8360 - val_loss: 0.0026 - val_acc: 0.8360\n",
            "Epoch 44/50\n",
            "11997/11997 [==============================] - 4s 329us/sample - loss: 0.0026 - acc: 0.8360 - val_loss: 0.0026 - val_acc: 0.8360\n",
            "Epoch 45/50\n",
            "11997/11997 [==============================] - 4s 319us/sample - loss: 0.0026 - acc: 0.8360 - val_loss: 0.0026 - val_acc: 0.8360\n",
            "Epoch 46/50\n",
            "11997/11997 [==============================] - 4s 320us/sample - loss: 0.0026 - acc: 0.8360 - val_loss: 0.0026 - val_acc: 0.8360\n",
            "Epoch 47/50\n",
            "11997/11997 [==============================] - 4s 328us/sample - loss: 0.0026 - acc: 0.8360 - val_loss: 0.0026 - val_acc: 0.8360\n",
            "Epoch 48/50\n",
            "11997/11997 [==============================] - 4s 328us/sample - loss: 0.0026 - acc: 0.8360 - val_loss: 0.0026 - val_acc: 0.8360\n",
            "Epoch 49/50\n",
            "11997/11997 [==============================] - 4s 328us/sample - loss: 0.0026 - acc: 0.8360 - val_loss: 0.0026 - val_acc: 0.8360\n",
            "Epoch 50/50\n",
            "11997/11997 [==============================] - 4s 338us/sample - loss: 0.0026 - acc: 0.8360 - val_loss: 0.0026 - val_acc: 0.8360\n"
          ],
          "name": "stdout"
        },
        {
          "output_type": "execute_result",
          "data": {
            "text/plain": [
              "<tensorflow.python.keras.callbacks.History at 0x7f86a118ba20>"
            ]
          },
          "metadata": {
            "tags": []
          },
          "execution_count": 352
        }
      ]
    },
    {
      "cell_type": "code",
      "metadata": {
        "id": "BsI-w74FH36K",
        "colab_type": "code",
        "colab": {
          "base_uri": "https://localhost:8080/",
          "height": 50
        },
        "outputId": "1fbceff0-3f2e-4a58-dc43-decc5efe5e5a"
      },
      "source": [
        "ypred = model.predict(X4)\n",
        "s=pd.DataFrame(ypred)\n",
        "s1=pd.DataFrame(y4)\n",
        "s1.corrwith(s, axis = 0) "
      ],
      "execution_count": 353,
      "outputs": [
        {
          "output_type": "execute_result",
          "data": {
            "text/plain": [
              "0    0.364242\n",
              "dtype: float64"
            ]
          },
          "metadata": {
            "tags": []
          },
          "execution_count": 353
        }
      ]
    },
    {
      "cell_type": "code",
      "metadata": {
        "id": "BppViBEjJI1p",
        "colab_type": "code",
        "colab": {
          "base_uri": "https://localhost:8080/",
          "height": 50
        },
        "outputId": "e0484bd5-400a-4313-e694-097503d195b0"
      },
      "source": [
        "ypred1=model.predict(X_test4)\n",
        "s=pd.DataFrame(ypred1)\n",
        "s1=pd.DataFrame(y_test4)\n",
        "s1.corrwith(s,axis=0)"
      ],
      "execution_count": 354,
      "outputs": [
        {
          "output_type": "execute_result",
          "data": {
            "text/plain": [
              "0    0.364242\n",
              "dtype: float64"
            ]
          },
          "metadata": {
            "tags": []
          },
          "execution_count": 354
        }
      ]
    },
    {
      "cell_type": "code",
      "metadata": {
        "id": "wd6c1LKXa_r6",
        "colab_type": "code",
        "colab": {
          "base_uri": "https://localhost:8080/",
          "height": 34
        },
        "outputId": "3318b2cb-ae61-43ce-bafd-b40a0b1acf04"
      },
      "source": [
        "mean_absolute_error(y4,ypred)"
      ],
      "execution_count": 355,
      "outputs": [
        {
          "output_type": "execute_result",
          "data": {
            "text/plain": [
              "0.020548413129520517"
            ]
          },
          "metadata": {
            "tags": []
          },
          "execution_count": 355
        }
      ]
    },
    {
      "cell_type": "code",
      "metadata": {
        "id": "aYBttiDKbDd4",
        "colab_type": "code",
        "colab": {
          "base_uri": "https://localhost:8080/",
          "height": 34
        },
        "outputId": "5e644dcd-3906-471a-b6ac-799f9250db97"
      },
      "source": [
        "mean_absolute_error(y_test4,ypred1)"
      ],
      "execution_count": 356,
      "outputs": [
        {
          "output_type": "execute_result",
          "data": {
            "text/plain": [
              "0.020548413129520517"
            ]
          },
          "metadata": {
            "tags": []
          },
          "execution_count": 356
        }
      ]
    },
    {
      "cell_type": "code",
      "metadata": {
        "id": "o7U3xQIlMU7j",
        "colab_type": "code",
        "colab": {
          "base_uri": "https://localhost:8080/",
          "height": 34
        },
        "outputId": "cc81a354-5874-4ea7-fb2e-de0b96436491"
      },
      "source": [
        "r2_score(y4,ypred)"
      ],
      "execution_count": 357,
      "outputs": [
        {
          "output_type": "execute_result",
          "data": {
            "text/plain": [
              "0.1324453186000113"
            ]
          },
          "metadata": {
            "tags": []
          },
          "execution_count": 357
        }
      ]
    },
    {
      "cell_type": "code",
      "metadata": {
        "id": "te0hYyPUMXwG",
        "colab_type": "code",
        "colab": {
          "base_uri": "https://localhost:8080/",
          "height": 34
        },
        "outputId": "ac1796f9-d7b1-4d4e-da43-f9db5423ee82"
      },
      "source": [
        "r2_score(y_test4,ypred1)"
      ],
      "execution_count": 358,
      "outputs": [
        {
          "output_type": "execute_result",
          "data": {
            "text/plain": [
              "0.1324453186000113"
            ]
          },
          "metadata": {
            "tags": []
          },
          "execution_count": 358
        }
      ]
    },
    {
      "cell_type": "code",
      "metadata": {
        "id": "Pwz3PEtJtNcq",
        "colab_type": "code",
        "colab": {
          "base_uri": "https://localhost:8080/",
          "height": 1000
        },
        "outputId": "5453c341-cc41-4c37-bb75-79a88432db7a"
      },
      "source": [
        "model.fit(X5, y5, validation_data=(X_test5,y_test5),epochs=50)"
      ],
      "execution_count": 359,
      "outputs": [
        {
          "output_type": "stream",
          "text": [
            "Train on 11997 samples, validate on 11997 samples\n",
            "Epoch 1/50\n",
            "11997/11997 [==============================] - 4s 346us/sample - loss: 0.0021 - acc: 0.8467 - val_loss: 0.0018 - val_acc: 0.8467\n",
            "Epoch 2/50\n",
            "11997/11997 [==============================] - 4s 322us/sample - loss: 0.0018 - acc: 0.8467 - val_loss: 0.0018 - val_acc: 0.8467\n",
            "Epoch 3/50\n",
            "11997/11997 [==============================] - 4s 328us/sample - loss: 0.0018 - acc: 0.8467 - val_loss: 0.0017 - val_acc: 0.8467\n",
            "Epoch 4/50\n",
            "11997/11997 [==============================] - 4s 337us/sample - loss: 0.0018 - acc: 0.8467 - val_loss: 0.0017 - val_acc: 0.8467\n",
            "Epoch 5/50\n",
            "11997/11997 [==============================] - 4s 331us/sample - loss: 0.0018 - acc: 0.8467 - val_loss: 0.0017 - val_acc: 0.8467\n",
            "Epoch 6/50\n",
            "11997/11997 [==============================] - 4s 327us/sample - loss: 0.0018 - acc: 0.8467 - val_loss: 0.0017 - val_acc: 0.8467\n",
            "Epoch 7/50\n",
            "11997/11997 [==============================] - 4s 326us/sample - loss: 0.0017 - acc: 0.8467 - val_loss: 0.0017 - val_acc: 0.8467\n",
            "Epoch 8/50\n",
            "11997/11997 [==============================] - 4s 329us/sample - loss: 0.0017 - acc: 0.8467 - val_loss: 0.0017 - val_acc: 0.8467\n",
            "Epoch 9/50\n",
            "11997/11997 [==============================] - 4s 339us/sample - loss: 0.0017 - acc: 0.8467 - val_loss: 0.0017 - val_acc: 0.8467\n",
            "Epoch 10/50\n",
            "11997/11997 [==============================] - 4s 330us/sample - loss: 0.0017 - acc: 0.8467 - val_loss: 0.0017 - val_acc: 0.8467\n",
            "Epoch 11/50\n",
            "11997/11997 [==============================] - 4s 336us/sample - loss: 0.0017 - acc: 0.8467 - val_loss: 0.0017 - val_acc: 0.8467\n",
            "Epoch 12/50\n",
            "11997/11997 [==============================] - 4s 326us/sample - loss: 0.0017 - acc: 0.8467 - val_loss: 0.0017 - val_acc: 0.8467\n",
            "Epoch 13/50\n",
            "11997/11997 [==============================] - 4s 336us/sample - loss: 0.0017 - acc: 0.8467 - val_loss: 0.0017 - val_acc: 0.8467\n",
            "Epoch 14/50\n",
            "11997/11997 [==============================] - 4s 328us/sample - loss: 0.0017 - acc: 0.8467 - val_loss: 0.0017 - val_acc: 0.8467\n",
            "Epoch 15/50\n",
            "11997/11997 [==============================] - 4s 342us/sample - loss: 0.0017 - acc: 0.8467 - val_loss: 0.0017 - val_acc: 0.8467\n",
            "Epoch 16/50\n",
            "11997/11997 [==============================] - 4s 345us/sample - loss: 0.0017 - acc: 0.8467 - val_loss: 0.0017 - val_acc: 0.8467\n",
            "Epoch 17/50\n",
            "11997/11997 [==============================] - 4s 323us/sample - loss: 0.0017 - acc: 0.8467 - val_loss: 0.0017 - val_acc: 0.8467\n",
            "Epoch 18/50\n",
            "11997/11997 [==============================] - 4s 326us/sample - loss: 0.0017 - acc: 0.8467 - val_loss: 0.0017 - val_acc: 0.8467\n",
            "Epoch 19/50\n",
            "11997/11997 [==============================] - 4s 325us/sample - loss: 0.0017 - acc: 0.8467 - val_loss: 0.0017 - val_acc: 0.8467\n",
            "Epoch 20/50\n",
            "11997/11997 [==============================] - 4s 321us/sample - loss: 0.0017 - acc: 0.8467 - val_loss: 0.0017 - val_acc: 0.8467\n",
            "Epoch 21/50\n",
            "11997/11997 [==============================] - 4s 331us/sample - loss: 0.0017 - acc: 0.8467 - val_loss: 0.0017 - val_acc: 0.8467\n",
            "Epoch 22/50\n",
            "11997/11997 [==============================] - 4s 334us/sample - loss: 0.0017 - acc: 0.8467 - val_loss: 0.0017 - val_acc: 0.8467\n",
            "Epoch 23/50\n",
            "11997/11997 [==============================] - 4s 331us/sample - loss: 0.0017 - acc: 0.8467 - val_loss: 0.0017 - val_acc: 0.8467\n",
            "Epoch 24/50\n",
            "11997/11997 [==============================] - 4s 328us/sample - loss: 0.0017 - acc: 0.8467 - val_loss: 0.0017 - val_acc: 0.8467\n",
            "Epoch 25/50\n",
            "11997/11997 [==============================] - 4s 329us/sample - loss: 0.0017 - acc: 0.8467 - val_loss: 0.0017 - val_acc: 0.8467\n",
            "Epoch 26/50\n",
            "11997/11997 [==============================] - 4s 325us/sample - loss: 0.0017 - acc: 0.8467 - val_loss: 0.0017 - val_acc: 0.8467\n",
            "Epoch 27/50\n",
            "11997/11997 [==============================] - 4s 333us/sample - loss: 0.0017 - acc: 0.8467 - val_loss: 0.0017 - val_acc: 0.8467\n",
            "Epoch 28/50\n",
            "11997/11997 [==============================] - 4s 329us/sample - loss: 0.0017 - acc: 0.8467 - val_loss: 0.0017 - val_acc: 0.8467\n",
            "Epoch 29/50\n",
            "11997/11997 [==============================] - 4s 334us/sample - loss: 0.0017 - acc: 0.8467 - val_loss: 0.0017 - val_acc: 0.8467\n",
            "Epoch 30/50\n",
            "11997/11997 [==============================] - 4s 326us/sample - loss: 0.0017 - acc: 0.8467 - val_loss: 0.0017 - val_acc: 0.8467\n",
            "Epoch 31/50\n",
            "11997/11997 [==============================] - 4s 331us/sample - loss: 0.0017 - acc: 0.8467 - val_loss: 0.0017 - val_acc: 0.8467\n",
            "Epoch 32/50\n",
            "11997/11997 [==============================] - 4s 327us/sample - loss: 0.0017 - acc: 0.8467 - val_loss: 0.0017 - val_acc: 0.8467\n",
            "Epoch 33/50\n",
            "11997/11997 [==============================] - 4s 335us/sample - loss: 0.0017 - acc: 0.8467 - val_loss: 0.0017 - val_acc: 0.8467\n",
            "Epoch 34/50\n",
            "11997/11997 [==============================] - 4s 332us/sample - loss: 0.0017 - acc: 0.8467 - val_loss: 0.0017 - val_acc: 0.8467\n",
            "Epoch 35/50\n",
            "11997/11997 [==============================] - 4s 331us/sample - loss: 0.0017 - acc: 0.8467 - val_loss: 0.0017 - val_acc: 0.8467\n",
            "Epoch 36/50\n",
            "11997/11997 [==============================] - 4s 339us/sample - loss: 0.0017 - acc: 0.8467 - val_loss: 0.0017 - val_acc: 0.8467\n",
            "Epoch 37/50\n",
            "11997/11997 [==============================] - 4s 335us/sample - loss: 0.0017 - acc: 0.8467 - val_loss: 0.0017 - val_acc: 0.8467\n",
            "Epoch 38/50\n",
            "11997/11997 [==============================] - 4s 339us/sample - loss: 0.0017 - acc: 0.8467 - val_loss: 0.0017 - val_acc: 0.8467\n",
            "Epoch 39/50\n",
            "11997/11997 [==============================] - 4s 337us/sample - loss: 0.0017 - acc: 0.8467 - val_loss: 0.0017 - val_acc: 0.8467\n",
            "Epoch 40/50\n",
            "11997/11997 [==============================] - 4s 334us/sample - loss: 0.0017 - acc: 0.8467 - val_loss: 0.0017 - val_acc: 0.8467\n",
            "Epoch 41/50\n",
            "11997/11997 [==============================] - 4s 333us/sample - loss: 0.0017 - acc: 0.8467 - val_loss: 0.0017 - val_acc: 0.8467\n",
            "Epoch 42/50\n",
            "11997/11997 [==============================] - 4s 332us/sample - loss: 0.0017 - acc: 0.8467 - val_loss: 0.0017 - val_acc: 0.8467\n",
            "Epoch 43/50\n",
            "11997/11997 [==============================] - 4s 344us/sample - loss: 0.0017 - acc: 0.8467 - val_loss: 0.0017 - val_acc: 0.8467\n",
            "Epoch 44/50\n",
            "11997/11997 [==============================] - 4s 334us/sample - loss: 0.0017 - acc: 0.8467 - val_loss: 0.0017 - val_acc: 0.8467\n",
            "Epoch 45/50\n",
            "11997/11997 [==============================] - 4s 341us/sample - loss: 0.0017 - acc: 0.8467 - val_loss: 0.0017 - val_acc: 0.8467\n",
            "Epoch 46/50\n",
            "11997/11997 [==============================] - 4s 324us/sample - loss: 0.0017 - acc: 0.8467 - val_loss: 0.0017 - val_acc: 0.8467\n",
            "Epoch 47/50\n",
            "11997/11997 [==============================] - 4s 327us/sample - loss: 0.0017 - acc: 0.8467 - val_loss: 0.0017 - val_acc: 0.8467\n",
            "Epoch 48/50\n",
            "11997/11997 [==============================] - 4s 334us/sample - loss: 0.0017 - acc: 0.8467 - val_loss: 0.0017 - val_acc: 0.8467\n",
            "Epoch 49/50\n",
            "11997/11997 [==============================] - 4s 336us/sample - loss: 0.0017 - acc: 0.8467 - val_loss: 0.0017 - val_acc: 0.8467\n",
            "Epoch 50/50\n",
            "11997/11997 [==============================] - 4s 340us/sample - loss: 0.0017 - acc: 0.8467 - val_loss: 0.0017 - val_acc: 0.8467\n"
          ],
          "name": "stdout"
        },
        {
          "output_type": "execute_result",
          "data": {
            "text/plain": [
              "<tensorflow.python.keras.callbacks.History at 0x7f86a118be80>"
            ]
          },
          "metadata": {
            "tags": []
          },
          "execution_count": 359
        }
      ]
    },
    {
      "cell_type": "code",
      "metadata": {
        "id": "jK30TTmsH5Xa",
        "colab_type": "code",
        "colab": {
          "base_uri": "https://localhost:8080/",
          "height": 50
        },
        "outputId": "7b0af2a2-462c-4d10-dfe9-23a729f98587"
      },
      "source": [
        "ypred = model.predict(X5)\n",
        "s=pd.DataFrame(ypred)\n",
        "s1=pd.DataFrame(y5)\n",
        "s1.corrwith(s, axis = 0) "
      ],
      "execution_count": 360,
      "outputs": [
        {
          "output_type": "execute_result",
          "data": {
            "text/plain": [
              "0    0.283686\n",
              "dtype: float64"
            ]
          },
          "metadata": {
            "tags": []
          },
          "execution_count": 360
        }
      ]
    },
    {
      "cell_type": "code",
      "metadata": {
        "id": "ELbd5s3jML2y",
        "colab_type": "code",
        "colab": {
          "base_uri": "https://localhost:8080/",
          "height": 34
        },
        "outputId": "6af7cd8e-6960-47ae-ff14-e33c5f863ee3"
      },
      "source": [
        "r2_score(y5,ypred)"
      ],
      "execution_count": 361,
      "outputs": [
        {
          "output_type": "execute_result",
          "data": {
            "text/plain": [
              "0.07560668319582997"
            ]
          },
          "metadata": {
            "tags": []
          },
          "execution_count": 361
        }
      ]
    },
    {
      "cell_type": "code",
      "metadata": {
        "id": "ixBEfQXVJKU4",
        "colab_type": "code",
        "colab": {
          "base_uri": "https://localhost:8080/",
          "height": 50
        },
        "outputId": "ca8ce310-280e-496b-922d-4cafe19f5762"
      },
      "source": [
        "ypred1=model.predict(X_test5)\n",
        "s=pd.DataFrame(ypred1)\n",
        "s1=pd.DataFrame(y_test5)\n",
        "s1.corrwith(s,axis=0)"
      ],
      "execution_count": 362,
      "outputs": [
        {
          "output_type": "execute_result",
          "data": {
            "text/plain": [
              "0    0.283686\n",
              "dtype: float64"
            ]
          },
          "metadata": {
            "tags": []
          },
          "execution_count": 362
        }
      ]
    },
    {
      "cell_type": "code",
      "metadata": {
        "id": "KDE8ckrObIuQ",
        "colab_type": "code",
        "colab": {
          "base_uri": "https://localhost:8080/",
          "height": 34
        },
        "outputId": "fd519d1e-b8e9-40a8-cab3-e39c5513f772"
      },
      "source": [
        "mean_absolute_error(y5,ypred)"
      ],
      "execution_count": 363,
      "outputs": [
        {
          "output_type": "execute_result",
          "data": {
            "text/plain": [
              "0.014211474856122949"
            ]
          },
          "metadata": {
            "tags": []
          },
          "execution_count": 363
        }
      ]
    },
    {
      "cell_type": "code",
      "metadata": {
        "id": "PcrMGkNXbMX4",
        "colab_type": "code",
        "colab": {
          "base_uri": "https://localhost:8080/",
          "height": 34
        },
        "outputId": "05b9ee56-64b5-4bb3-fe19-089e2fb76673"
      },
      "source": [
        "mean_absolute_error(y_test5,ypred1)"
      ],
      "execution_count": 364,
      "outputs": [
        {
          "output_type": "execute_result",
          "data": {
            "text/plain": [
              "0.014211474856122949"
            ]
          },
          "metadata": {
            "tags": []
          },
          "execution_count": 364
        }
      ]
    },
    {
      "cell_type": "code",
      "metadata": {
        "id": "70Aaq_luMOxY",
        "colab_type": "code",
        "colab": {
          "base_uri": "https://localhost:8080/",
          "height": 34
        },
        "outputId": "a1d8ef24-ff40-4049-a009-8d90321dd5f0"
      },
      "source": [
        "r2_score(y_test5,ypred1)"
      ],
      "execution_count": 365,
      "outputs": [
        {
          "output_type": "execute_result",
          "data": {
            "text/plain": [
              "0.07560668319582997"
            ]
          },
          "metadata": {
            "tags": []
          },
          "execution_count": 365
        }
      ]
    },
    {
      "cell_type": "code",
      "metadata": {
        "id": "mJL5gGhXtNqT",
        "colab_type": "code",
        "colab": {
          "base_uri": "https://localhost:8080/",
          "height": 1000
        },
        "outputId": "4a6d941d-d2e7-4490-86d2-8ead2976bfbb"
      },
      "source": [
        "model.fit(X6, y6, validation_data=(X_test6,y_test6),epochs=50)"
      ],
      "execution_count": 366,
      "outputs": [
        {
          "output_type": "stream",
          "text": [
            "Train on 11997 samples, validate on 11997 samples\n",
            "Epoch 1/50\n",
            "11997/11997 [==============================] - 4s 343us/sample - loss: 0.0031 - acc: 0.8141 - val_loss: 0.0030 - val_acc: 0.8141\n",
            "Epoch 2/50\n",
            "11997/11997 [==============================] - 4s 340us/sample - loss: 0.0031 - acc: 0.8141 - val_loss: 0.0030 - val_acc: 0.8141\n",
            "Epoch 3/50\n",
            "11997/11997 [==============================] - 4s 335us/sample - loss: 0.0031 - acc: 0.8141 - val_loss: 0.0030 - val_acc: 0.8141\n",
            "Epoch 4/50\n",
            "11997/11997 [==============================] - 4s 343us/sample - loss: 0.0030 - acc: 0.8141 - val_loss: 0.0030 - val_acc: 0.8141\n",
            "Epoch 5/50\n",
            "11997/11997 [==============================] - 4s 339us/sample - loss: 0.0030 - acc: 0.8141 - val_loss: 0.0030 - val_acc: 0.8141\n",
            "Epoch 6/50\n",
            "11997/11997 [==============================] - 4s 331us/sample - loss: 0.0030 - acc: 0.8141 - val_loss: 0.0030 - val_acc: 0.8141\n",
            "Epoch 7/50\n",
            "11997/11997 [==============================] - 4s 332us/sample - loss: 0.0030 - acc: 0.8141 - val_loss: 0.0030 - val_acc: 0.8141\n",
            "Epoch 8/50\n",
            "11997/11997 [==============================] - 4s 330us/sample - loss: 0.0030 - acc: 0.8141 - val_loss: 0.0030 - val_acc: 0.8141\n",
            "Epoch 9/50\n",
            "11997/11997 [==============================] - 4s 338us/sample - loss: 0.0030 - acc: 0.8141 - val_loss: 0.0030 - val_acc: 0.8141\n",
            "Epoch 10/50\n",
            "11997/11997 [==============================] - 4s 332us/sample - loss: 0.0030 - acc: 0.8141 - val_loss: 0.0030 - val_acc: 0.8141\n",
            "Epoch 11/50\n",
            "11997/11997 [==============================] - 4s 331us/sample - loss: 0.0030 - acc: 0.8141 - val_loss: 0.0030 - val_acc: 0.8141\n",
            "Epoch 12/50\n",
            "11997/11997 [==============================] - 4s 335us/sample - loss: 0.0030 - acc: 0.8141 - val_loss: 0.0030 - val_acc: 0.8141\n",
            "Epoch 13/50\n",
            "11997/11997 [==============================] - 4s 330us/sample - loss: 0.0030 - acc: 0.8141 - val_loss: 0.0030 - val_acc: 0.8141\n",
            "Epoch 14/50\n",
            "11997/11997 [==============================] - 4s 328us/sample - loss: 0.0030 - acc: 0.8141 - val_loss: 0.0030 - val_acc: 0.8141\n",
            "Epoch 15/50\n",
            "11997/11997 [==============================] - 4s 327us/sample - loss: 0.0030 - acc: 0.8141 - val_loss: 0.0030 - val_acc: 0.8141\n",
            "Epoch 16/50\n",
            "11997/11997 [==============================] - 4s 332us/sample - loss: 0.0030 - acc: 0.8141 - val_loss: 0.0030 - val_acc: 0.8141\n",
            "Epoch 17/50\n",
            "11997/11997 [==============================] - 4s 334us/sample - loss: 0.0030 - acc: 0.8141 - val_loss: 0.0030 - val_acc: 0.8141\n",
            "Epoch 18/50\n",
            "11997/11997 [==============================] - 4s 328us/sample - loss: 0.0030 - acc: 0.8141 - val_loss: 0.0030 - val_acc: 0.8141\n",
            "Epoch 19/50\n",
            "11997/11997 [==============================] - 4s 330us/sample - loss: 0.0030 - acc: 0.8141 - val_loss: 0.0030 - val_acc: 0.8141\n",
            "Epoch 20/50\n",
            "11997/11997 [==============================] - 4s 323us/sample - loss: 0.0030 - acc: 0.8141 - val_loss: 0.0030 - val_acc: 0.8141\n",
            "Epoch 21/50\n",
            "11997/11997 [==============================] - 4s 327us/sample - loss: 0.0030 - acc: 0.8141 - val_loss: 0.0030 - val_acc: 0.8141\n",
            "Epoch 22/50\n",
            "11997/11997 [==============================] - 4s 326us/sample - loss: 0.0030 - acc: 0.8141 - val_loss: 0.0030 - val_acc: 0.8141\n",
            "Epoch 23/50\n",
            "11997/11997 [==============================] - 4s 326us/sample - loss: 0.0030 - acc: 0.8141 - val_loss: 0.0030 - val_acc: 0.8141\n",
            "Epoch 24/50\n",
            "11997/11997 [==============================] - 4s 329us/sample - loss: 0.0030 - acc: 0.8141 - val_loss: 0.0030 - val_acc: 0.8141\n",
            "Epoch 25/50\n",
            "11997/11997 [==============================] - 4s 348us/sample - loss: 0.0030 - acc: 0.8141 - val_loss: 0.0030 - val_acc: 0.8141\n",
            "Epoch 26/50\n",
            "11997/11997 [==============================] - 4s 340us/sample - loss: 0.0030 - acc: 0.8141 - val_loss: 0.0030 - val_acc: 0.8141\n",
            "Epoch 27/50\n",
            "11997/11997 [==============================] - 4s 351us/sample - loss: 0.0030 - acc: 0.8141 - val_loss: 0.0030 - val_acc: 0.8141\n",
            "Epoch 28/50\n",
            "11997/11997 [==============================] - 4s 356us/sample - loss: 0.0030 - acc: 0.8141 - val_loss: 0.0029 - val_acc: 0.8141\n",
            "Epoch 29/50\n",
            "11997/11997 [==============================] - 4s 345us/sample - loss: 0.0030 - acc: 0.8141 - val_loss: 0.0030 - val_acc: 0.8141\n",
            "Epoch 30/50\n",
            "11997/11997 [==============================] - 4s 340us/sample - loss: 0.0030 - acc: 0.8141 - val_loss: 0.0030 - val_acc: 0.8141\n",
            "Epoch 31/50\n",
            "11997/11997 [==============================] - 4s 351us/sample - loss: 0.0030 - acc: 0.8141 - val_loss: 0.0030 - val_acc: 0.8141\n",
            "Epoch 32/50\n",
            "11997/11997 [==============================] - 4s 343us/sample - loss: 0.0030 - acc: 0.8141 - val_loss: 0.0029 - val_acc: 0.8141\n",
            "Epoch 33/50\n",
            "11997/11997 [==============================] - 4s 356us/sample - loss: 0.0030 - acc: 0.8141 - val_loss: 0.0029 - val_acc: 0.8141\n",
            "Epoch 34/50\n",
            "11997/11997 [==============================] - 4s 335us/sample - loss: 0.0030 - acc: 0.8141 - val_loss: 0.0029 - val_acc: 0.8141\n",
            "Epoch 35/50\n",
            "11997/11997 [==============================] - 4s 346us/sample - loss: 0.0030 - acc: 0.8141 - val_loss: 0.0029 - val_acc: 0.8141\n",
            "Epoch 36/50\n",
            "11997/11997 [==============================] - 4s 332us/sample - loss: 0.0029 - acc: 0.8141 - val_loss: 0.0029 - val_acc: 0.8141\n",
            "Epoch 37/50\n",
            "11997/11997 [==============================] - 4s 331us/sample - loss: 0.0030 - acc: 0.8141 - val_loss: 0.0029 - val_acc: 0.8141\n",
            "Epoch 38/50\n",
            "11997/11997 [==============================] - 4s 333us/sample - loss: 0.0030 - acc: 0.8141 - val_loss: 0.0030 - val_acc: 0.8141\n",
            "Epoch 39/50\n",
            "11997/11997 [==============================] - 4s 338us/sample - loss: 0.0029 - acc: 0.8141 - val_loss: 0.0029 - val_acc: 0.8141\n",
            "Epoch 40/50\n",
            "11997/11997 [==============================] - 4s 327us/sample - loss: 0.0030 - acc: 0.8141 - val_loss: 0.0029 - val_acc: 0.8141\n",
            "Epoch 41/50\n",
            "11997/11997 [==============================] - 4s 343us/sample - loss: 0.0030 - acc: 0.8141 - val_loss: 0.0029 - val_acc: 0.8141\n",
            "Epoch 42/50\n",
            "11997/11997 [==============================] - 4s 348us/sample - loss: 0.0029 - acc: 0.8141 - val_loss: 0.0029 - val_acc: 0.8141\n",
            "Epoch 43/50\n",
            "11997/11997 [==============================] - 4s 331us/sample - loss: 0.0029 - acc: 0.8141 - val_loss: 0.0029 - val_acc: 0.8141\n",
            "Epoch 44/50\n",
            "11997/11997 [==============================] - 4s 322us/sample - loss: 0.0030 - acc: 0.8141 - val_loss: 0.0029 - val_acc: 0.8141\n",
            "Epoch 45/50\n",
            "11997/11997 [==============================] - 4s 334us/sample - loss: 0.0029 - acc: 0.8141 - val_loss: 0.0029 - val_acc: 0.8141\n",
            "Epoch 46/50\n",
            "11997/11997 [==============================] - 4s 327us/sample - loss: 0.0029 - acc: 0.8141 - val_loss: 0.0029 - val_acc: 0.8141\n",
            "Epoch 47/50\n",
            "11997/11997 [==============================] - 4s 336us/sample - loss: 0.0029 - acc: 0.8141 - val_loss: 0.0029 - val_acc: 0.8141\n",
            "Epoch 48/50\n",
            "11997/11997 [==============================] - 4s 343us/sample - loss: 0.0029 - acc: 0.8141 - val_loss: 0.0029 - val_acc: 0.8141\n",
            "Epoch 49/50\n",
            "11997/11997 [==============================] - 4s 345us/sample - loss: 0.0029 - acc: 0.8141 - val_loss: 0.0030 - val_acc: 0.8141\n",
            "Epoch 50/50\n",
            "11997/11997 [==============================] - 4s 372us/sample - loss: 0.0029 - acc: 0.8141 - val_loss: 0.0029 - val_acc: 0.8141\n"
          ],
          "name": "stdout"
        },
        {
          "output_type": "execute_result",
          "data": {
            "text/plain": [
              "<tensorflow.python.keras.callbacks.History at 0x7f86a1187b70>"
            ]
          },
          "metadata": {
            "tags": []
          },
          "execution_count": 366
        }
      ]
    },
    {
      "cell_type": "code",
      "metadata": {
        "id": "jtgC2LPgH7Gj",
        "colab_type": "code",
        "colab": {
          "base_uri": "https://localhost:8080/",
          "height": 50
        },
        "outputId": "4547337c-858b-4c1f-8b7d-c768942856a0"
      },
      "source": [
        "ypred = model.predict(X6)\n",
        "s=pd.DataFrame(ypred)\n",
        "s1=pd.DataFrame(y6)\n",
        "s1.corrwith(s, axis = 0) "
      ],
      "execution_count": 367,
      "outputs": [
        {
          "output_type": "execute_result",
          "data": {
            "text/plain": [
              "0    0.375821\n",
              "dtype: float64"
            ]
          },
          "metadata": {
            "tags": []
          },
          "execution_count": 367
        }
      ]
    },
    {
      "cell_type": "code",
      "metadata": {
        "id": "0pz7S13uMF-1",
        "colab_type": "code",
        "colab": {
          "base_uri": "https://localhost:8080/",
          "height": 34
        },
        "outputId": "7d18764d-8d3d-44f5-85dd-6aa2f66c1dbd"
      },
      "source": [
        "r2_score(y6,ypred)"
      ],
      "execution_count": 368,
      "outputs": [
        {
          "output_type": "execute_result",
          "data": {
            "text/plain": [
              "0.14050584139474376"
            ]
          },
          "metadata": {
            "tags": []
          },
          "execution_count": 368
        }
      ]
    },
    {
      "cell_type": "code",
      "metadata": {
        "id": "YnWGLzXNJMYO",
        "colab_type": "code",
        "colab": {
          "base_uri": "https://localhost:8080/",
          "height": 50
        },
        "outputId": "174a3c30-5df3-40a7-b7cf-3903b0ff00a0"
      },
      "source": [
        "ypred1=model.predict(X_test6)\n",
        "s=pd.DataFrame(ypred1)\n",
        "s1=pd.DataFrame(y_test6)\n",
        "s1.corrwith(s,axis=0)"
      ],
      "execution_count": 369,
      "outputs": [
        {
          "output_type": "execute_result",
          "data": {
            "text/plain": [
              "0    0.375821\n",
              "dtype: float64"
            ]
          },
          "metadata": {
            "tags": []
          },
          "execution_count": 369
        }
      ]
    },
    {
      "cell_type": "code",
      "metadata": {
        "id": "G_sfckB5bT_O",
        "colab_type": "code",
        "colab": {
          "base_uri": "https://localhost:8080/",
          "height": 34
        },
        "outputId": "a1bb8a24-4008-4b14-8d9e-0411d169294f"
      },
      "source": [
        "mean_absolute_error(y6,ypred)"
      ],
      "execution_count": 370,
      "outputs": [
        {
          "output_type": "execute_result",
          "data": {
            "text/plain": [
              "0.023863542962936118"
            ]
          },
          "metadata": {
            "tags": []
          },
          "execution_count": 370
        }
      ]
    },
    {
      "cell_type": "code",
      "metadata": {
        "id": "UcZfNKSYbXj6",
        "colab_type": "code",
        "colab": {
          "base_uri": "https://localhost:8080/",
          "height": 34
        },
        "outputId": "a670508f-b318-47a7-ff69-98bedfbf5b15"
      },
      "source": [
        "mean_absolute_error(y_test6,ypred1)"
      ],
      "execution_count": 371,
      "outputs": [
        {
          "output_type": "execute_result",
          "data": {
            "text/plain": [
              "0.023863542962936118"
            ]
          },
          "metadata": {
            "tags": []
          },
          "execution_count": 371
        }
      ]
    },
    {
      "cell_type": "code",
      "metadata": {
        "id": "vHt09FiPMHsf",
        "colab_type": "code",
        "colab": {
          "base_uri": "https://localhost:8080/",
          "height": 34
        },
        "outputId": "8af0c0ef-63b8-40be-e15f-1eaba90f6273"
      },
      "source": [
        "r2_score(y_test6,ypred1)"
      ],
      "execution_count": 372,
      "outputs": [
        {
          "output_type": "execute_result",
          "data": {
            "text/plain": [
              "0.14050584139474376"
            ]
          },
          "metadata": {
            "tags": []
          },
          "execution_count": 372
        }
      ]
    },
    {
      "cell_type": "code",
      "metadata": {
        "id": "GMeE8OZ5tN17",
        "colab_type": "code",
        "colab": {
          "base_uri": "https://localhost:8080/",
          "height": 1000
        },
        "outputId": "104f2224-c93d-4cbe-ec9e-96b4ec563a6d"
      },
      "source": [
        "model.fit(X7, y7, validation_data=(X_test7,y_test7),epochs=50)"
      ],
      "execution_count": 373,
      "outputs": [
        {
          "output_type": "stream",
          "text": [
            "Train on 11997 samples, validate on 11997 samples\n",
            "Epoch 1/50\n",
            "11997/11997 [==============================] - 4s 347us/sample - loss: 0.0035 - acc: 0.8333 - val_loss: 0.0034 - val_acc: 0.8333\n",
            "Epoch 2/50\n",
            "11997/11997 [==============================] - 4s 350us/sample - loss: 0.0034 - acc: 0.8333 - val_loss: 0.0034 - val_acc: 0.8333\n",
            "Epoch 3/50\n",
            "11997/11997 [==============================] - 4s 355us/sample - loss: 0.0034 - acc: 0.8333 - val_loss: 0.0034 - val_acc: 0.8333\n",
            "Epoch 4/50\n",
            "11997/11997 [==============================] - 4s 350us/sample - loss: 0.0034 - acc: 0.8333 - val_loss: 0.0033 - val_acc: 0.8333\n",
            "Epoch 5/50\n",
            "11997/11997 [==============================] - 4s 358us/sample - loss: 0.0034 - acc: 0.8333 - val_loss: 0.0033 - val_acc: 0.8333\n",
            "Epoch 6/50\n",
            "11997/11997 [==============================] - 4s 364us/sample - loss: 0.0034 - acc: 0.8333 - val_loss: 0.0033 - val_acc: 0.8333\n",
            "Epoch 7/50\n",
            "11997/11997 [==============================] - 4s 355us/sample - loss: 0.0034 - acc: 0.8333 - val_loss: 0.0033 - val_acc: 0.8333\n",
            "Epoch 8/50\n",
            "11997/11997 [==============================] - 4s 367us/sample - loss: 0.0034 - acc: 0.8333 - val_loss: 0.0033 - val_acc: 0.8333\n",
            "Epoch 9/50\n",
            "11997/11997 [==============================] - 4s 364us/sample - loss: 0.0033 - acc: 0.8333 - val_loss: 0.0033 - val_acc: 0.8333\n",
            "Epoch 10/50\n",
            "11997/11997 [==============================] - 4s 355us/sample - loss: 0.0033 - acc: 0.8333 - val_loss: 0.0033 - val_acc: 0.8333\n",
            "Epoch 11/50\n",
            "11997/11997 [==============================] - 4s 365us/sample - loss: 0.0033 - acc: 0.8333 - val_loss: 0.0033 - val_acc: 0.8333\n",
            "Epoch 12/50\n",
            "11997/11997 [==============================] - 4s 344us/sample - loss: 0.0033 - acc: 0.8333 - val_loss: 0.0033 - val_acc: 0.8333\n",
            "Epoch 13/50\n",
            "11997/11997 [==============================] - 4s 352us/sample - loss: 0.0033 - acc: 0.8333 - val_loss: 0.0033 - val_acc: 0.8333\n",
            "Epoch 14/50\n",
            "11997/11997 [==============================] - 4s 354us/sample - loss: 0.0033 - acc: 0.8333 - val_loss: 0.0033 - val_acc: 0.8333\n",
            "Epoch 15/50\n",
            "11997/11997 [==============================] - 4s 359us/sample - loss: 0.0033 - acc: 0.8333 - val_loss: 0.0033 - val_acc: 0.8333\n",
            "Epoch 16/50\n",
            "11997/11997 [==============================] - 4s 357us/sample - loss: 0.0033 - acc: 0.8333 - val_loss: 0.0033 - val_acc: 0.8333\n",
            "Epoch 17/50\n",
            "11997/11997 [==============================] - 4s 356us/sample - loss: 0.0033 - acc: 0.8333 - val_loss: 0.0033 - val_acc: 0.8333\n",
            "Epoch 18/50\n",
            "11997/11997 [==============================] - 4s 350us/sample - loss: 0.0033 - acc: 0.8333 - val_loss: 0.0033 - val_acc: 0.8333\n",
            "Epoch 19/50\n",
            "11997/11997 [==============================] - 4s 358us/sample - loss: 0.0033 - acc: 0.8333 - val_loss: 0.0033 - val_acc: 0.8333\n",
            "Epoch 20/50\n",
            "11997/11997 [==============================] - 4s 368us/sample - loss: 0.0033 - acc: 0.8333 - val_loss: 0.0033 - val_acc: 0.8333\n",
            "Epoch 21/50\n",
            "11997/11997 [==============================] - 4s 361us/sample - loss: 0.0033 - acc: 0.8333 - val_loss: 0.0033 - val_acc: 0.8333\n",
            "Epoch 22/50\n",
            "11997/11997 [==============================] - 4s 374us/sample - loss: 0.0033 - acc: 0.8333 - val_loss: 0.0033 - val_acc: 0.8333\n",
            "Epoch 23/50\n",
            "11997/11997 [==============================] - 4s 348us/sample - loss: 0.0033 - acc: 0.8333 - val_loss: 0.0032 - val_acc: 0.8333\n",
            "Epoch 24/50\n",
            "11997/11997 [==============================] - 4s 348us/sample - loss: 0.0033 - acc: 0.8333 - val_loss: 0.0032 - val_acc: 0.8333\n",
            "Epoch 25/50\n",
            "11997/11997 [==============================] - 4s 354us/sample - loss: 0.0033 - acc: 0.8333 - val_loss: 0.0032 - val_acc: 0.8333\n",
            "Epoch 26/50\n",
            "11997/11997 [==============================] - 4s 353us/sample - loss: 0.0033 - acc: 0.8333 - val_loss: 0.0032 - val_acc: 0.8333\n",
            "Epoch 27/50\n",
            "11997/11997 [==============================] - 4s 363us/sample - loss: 0.0033 - acc: 0.8333 - val_loss: 0.0032 - val_acc: 0.8333\n",
            "Epoch 28/50\n",
            "11997/11997 [==============================] - 4s 355us/sample - loss: 0.0033 - acc: 0.8333 - val_loss: 0.0032 - val_acc: 0.8333\n",
            "Epoch 29/50\n",
            "11997/11997 [==============================] - 4s 357us/sample - loss: 0.0033 - acc: 0.8333 - val_loss: 0.0032 - val_acc: 0.8333\n",
            "Epoch 30/50\n",
            "11997/11997 [==============================] - 4s 359us/sample - loss: 0.0032 - acc: 0.8333 - val_loss: 0.0032 - val_acc: 0.8333\n",
            "Epoch 31/50\n",
            "11997/11997 [==============================] - 4s 364us/sample - loss: 0.0033 - acc: 0.8333 - val_loss: 0.0032 - val_acc: 0.8333\n",
            "Epoch 32/50\n",
            "11997/11997 [==============================] - 4s 365us/sample - loss: 0.0033 - acc: 0.8333 - val_loss: 0.0032 - val_acc: 0.8333\n",
            "Epoch 33/50\n",
            "11997/11997 [==============================] - 4s 361us/sample - loss: 0.0032 - acc: 0.8333 - val_loss: 0.0032 - val_acc: 0.8333\n",
            "Epoch 34/50\n",
            "11997/11997 [==============================] - 4s 371us/sample - loss: 0.0032 - acc: 0.8333 - val_loss: 0.0032 - val_acc: 0.8333\n",
            "Epoch 35/50\n",
            "11997/11997 [==============================] - 4s 370us/sample - loss: 0.0032 - acc: 0.8333 - val_loss: 0.0032 - val_acc: 0.8333\n",
            "Epoch 36/50\n",
            "11997/11997 [==============================] - 4s 357us/sample - loss: 0.0032 - acc: 0.8333 - val_loss: 0.0032 - val_acc: 0.8333\n",
            "Epoch 37/50\n",
            "11997/11997 [==============================] - 4s 373us/sample - loss: 0.0032 - acc: 0.8333 - val_loss: 0.0032 - val_acc: 0.8333\n",
            "Epoch 38/50\n",
            "11997/11997 [==============================] - 4s 373us/sample - loss: 0.0032 - acc: 0.8333 - val_loss: 0.0032 - val_acc: 0.8333\n",
            "Epoch 39/50\n",
            "11997/11997 [==============================] - 4s 374us/sample - loss: 0.0032 - acc: 0.8333 - val_loss: 0.0032 - val_acc: 0.8333\n",
            "Epoch 40/50\n",
            "11997/11997 [==============================] - 4s 348us/sample - loss: 0.0032 - acc: 0.8333 - val_loss: 0.0032 - val_acc: 0.8333\n",
            "Epoch 41/50\n",
            "11997/11997 [==============================] - 4s 362us/sample - loss: 0.0032 - acc: 0.8333 - val_loss: 0.0032 - val_acc: 0.8333\n",
            "Epoch 42/50\n",
            "11997/11997 [==============================] - 4s 359us/sample - loss: 0.0032 - acc: 0.8333 - val_loss: 0.0032 - val_acc: 0.8333\n",
            "Epoch 43/50\n",
            "11997/11997 [==============================] - 4s 358us/sample - loss: 0.0032 - acc: 0.8333 - val_loss: 0.0032 - val_acc: 0.8333\n",
            "Epoch 44/50\n",
            "11997/11997 [==============================] - 4s 360us/sample - loss: 0.0032 - acc: 0.8333 - val_loss: 0.0032 - val_acc: 0.8333\n",
            "Epoch 45/50\n",
            "11997/11997 [==============================] - 4s 365us/sample - loss: 0.0032 - acc: 0.8333 - val_loss: 0.0032 - val_acc: 0.8333\n",
            "Epoch 46/50\n",
            "11997/11997 [==============================] - 4s 359us/sample - loss: 0.0032 - acc: 0.8333 - val_loss: 0.0032 - val_acc: 0.8333\n",
            "Epoch 47/50\n",
            "11997/11997 [==============================] - 4s 363us/sample - loss: 0.0032 - acc: 0.8333 - val_loss: 0.0032 - val_acc: 0.8333\n",
            "Epoch 48/50\n",
            "11997/11997 [==============================] - 4s 359us/sample - loss: 0.0032 - acc: 0.8333 - val_loss: 0.0032 - val_acc: 0.8333\n",
            "Epoch 49/50\n",
            "11997/11997 [==============================] - 4s 359us/sample - loss: 0.0032 - acc: 0.8333 - val_loss: 0.0032 - val_acc: 0.8333\n",
            "Epoch 50/50\n",
            "11997/11997 [==============================] - 5s 378us/sample - loss: 0.0032 - acc: 0.8333 - val_loss: 0.0032 - val_acc: 0.8333\n"
          ],
          "name": "stdout"
        },
        {
          "output_type": "execute_result",
          "data": {
            "text/plain": [
              "<tensorflow.python.keras.callbacks.History at 0x7f86a133c3c8>"
            ]
          },
          "metadata": {
            "tags": []
          },
          "execution_count": 373
        }
      ]
    },
    {
      "cell_type": "code",
      "metadata": {
        "id": "HgPagHEqH8-M",
        "colab_type": "code",
        "colab": {
          "base_uri": "https://localhost:8080/",
          "height": 50
        },
        "outputId": "bc936aef-b11b-450a-82f7-718733b0adbd"
      },
      "source": [
        "ypred = model.predict(X7)\n",
        "s=pd.DataFrame(ypred)\n",
        "s1=pd.DataFrame(y7)\n",
        "s1.corrwith(s, axis = 0) "
      ],
      "execution_count": 374,
      "outputs": [
        {
          "output_type": "execute_result",
          "data": {
            "text/plain": [
              "0    0.403917\n",
              "dtype: float64"
            ]
          },
          "metadata": {
            "tags": []
          },
          "execution_count": 374
        }
      ]
    },
    {
      "cell_type": "code",
      "metadata": {
        "id": "H6a79eEsL-Bp",
        "colab_type": "code",
        "colab": {
          "base_uri": "https://localhost:8080/",
          "height": 34
        },
        "outputId": "0d704592-b48d-4ff9-faae-beec4edd9598"
      },
      "source": [
        "r2_score(y7,ypred)"
      ],
      "execution_count": 375,
      "outputs": [
        {
          "output_type": "execute_result",
          "data": {
            "text/plain": [
              "0.16220890574864888"
            ]
          },
          "metadata": {
            "tags": []
          },
          "execution_count": 375
        }
      ]
    },
    {
      "cell_type": "code",
      "metadata": {
        "id": "wcKAsBAdJNw0",
        "colab_type": "code",
        "colab": {
          "base_uri": "https://localhost:8080/",
          "height": 50
        },
        "outputId": "dfc9a9d2-69e3-4db7-ec47-491386a08cdf"
      },
      "source": [
        "ypred1=model.predict(X_test7)\n",
        "s=pd.DataFrame(ypred1)\n",
        "s1=pd.DataFrame(y_test7)\n",
        "s1.corrwith(s,axis=0)"
      ],
      "execution_count": 376,
      "outputs": [
        {
          "output_type": "execute_result",
          "data": {
            "text/plain": [
              "0    0.403917\n",
              "dtype: float64"
            ]
          },
          "metadata": {
            "tags": []
          },
          "execution_count": 376
        }
      ]
    },
    {
      "cell_type": "code",
      "metadata": {
        "id": "B7lPJIH0MBZQ",
        "colab_type": "code",
        "colab": {
          "base_uri": "https://localhost:8080/",
          "height": 34
        },
        "outputId": "e1f0fc12-e0f7-4de4-c583-39fffccb6c6c"
      },
      "source": [
        "r2_score(y_test7,ypred1)"
      ],
      "execution_count": 377,
      "outputs": [
        {
          "output_type": "execute_result",
          "data": {
            "text/plain": [
              "0.16220890574864888"
            ]
          },
          "metadata": {
            "tags": []
          },
          "execution_count": 377
        }
      ]
    },
    {
      "cell_type": "code",
      "metadata": {
        "id": "hiVfe-7WbeVn",
        "colab_type": "code",
        "colab": {
          "base_uri": "https://localhost:8080/",
          "height": 34
        },
        "outputId": "710c741f-81a5-4c40-bf93-64f7277019c6"
      },
      "source": [
        "mean_absolute_error(y7,ypred)"
      ],
      "execution_count": 378,
      "outputs": [
        {
          "output_type": "execute_result",
          "data": {
            "text/plain": [
              "0.022953521801268424"
            ]
          },
          "metadata": {
            "tags": []
          },
          "execution_count": 378
        }
      ]
    },
    {
      "cell_type": "code",
      "metadata": {
        "id": "yDQLYQrKbjHy",
        "colab_type": "code",
        "colab": {
          "base_uri": "https://localhost:8080/",
          "height": 34
        },
        "outputId": "50abf78e-71c1-4136-a721-d324cf8532d3"
      },
      "source": [
        "mean_absolute_error(y_test7,ypred1)"
      ],
      "execution_count": 379,
      "outputs": [
        {
          "output_type": "execute_result",
          "data": {
            "text/plain": [
              "0.022953521801268424"
            ]
          },
          "metadata": {
            "tags": []
          },
          "execution_count": 379
        }
      ]
    },
    {
      "cell_type": "code",
      "metadata": {
        "id": "9Oi8Ac5UtOAC",
        "colab_type": "code",
        "colab": {
          "base_uri": "https://localhost:8080/",
          "height": 1000
        },
        "outputId": "a9f8e922-e85c-4892-8781-c07779d01f77"
      },
      "source": [
        "model.fit(X8, y8, validation_data=(X_test8,y_test8),epochs=50)"
      ],
      "execution_count": 380,
      "outputs": [
        {
          "output_type": "stream",
          "text": [
            "Train on 11997 samples, validate on 11997 samples\n",
            "Epoch 1/50\n",
            "11997/11997 [==============================] - 4s 375us/sample - loss: 0.0037 - acc: 0.8384 - val_loss: 0.0036 - val_acc: 0.8384\n",
            "Epoch 2/50\n",
            "11997/11997 [==============================] - 4s 356us/sample - loss: 0.0036 - acc: 0.8384 - val_loss: 0.0036 - val_acc: 0.8384\n",
            "Epoch 3/50\n",
            "11997/11997 [==============================] - 4s 349us/sample - loss: 0.0036 - acc: 0.8384 - val_loss: 0.0036 - val_acc: 0.8384\n",
            "Epoch 4/50\n",
            "11997/11997 [==============================] - 4s 353us/sample - loss: 0.0036 - acc: 0.8384 - val_loss: 0.0036 - val_acc: 0.8384\n",
            "Epoch 5/50\n",
            "11997/11997 [==============================] - 4s 352us/sample - loss: 0.0036 - acc: 0.8384 - val_loss: 0.0036 - val_acc: 0.8384\n",
            "Epoch 6/50\n",
            "11997/11997 [==============================] - 4s 351us/sample - loss: 0.0036 - acc: 0.8384 - val_loss: 0.0036 - val_acc: 0.8384\n",
            "Epoch 7/50\n",
            "11997/11997 [==============================] - 4s 356us/sample - loss: 0.0036 - acc: 0.8384 - val_loss: 0.0035 - val_acc: 0.8384\n",
            "Epoch 8/50\n",
            "11997/11997 [==============================] - 4s 356us/sample - loss: 0.0036 - acc: 0.8384 - val_loss: 0.0035 - val_acc: 0.8384\n",
            "Epoch 9/50\n",
            "11997/11997 [==============================] - 4s 361us/sample - loss: 0.0036 - acc: 0.8384 - val_loss: 0.0035 - val_acc: 0.8384\n",
            "Epoch 10/50\n",
            "11997/11997 [==============================] - 4s 364us/sample - loss: 0.0036 - acc: 0.8384 - val_loss: 0.0035 - val_acc: 0.8384\n",
            "Epoch 11/50\n",
            "11997/11997 [==============================] - 4s 368us/sample - loss: 0.0036 - acc: 0.8384 - val_loss: 0.0035 - val_acc: 0.8384\n",
            "Epoch 12/50\n",
            "11997/11997 [==============================] - 5s 390us/sample - loss: 0.0036 - acc: 0.8384 - val_loss: 0.0035 - val_acc: 0.8384\n",
            "Epoch 13/50\n",
            "11997/11997 [==============================] - 5s 389us/sample - loss: 0.0035 - acc: 0.8384 - val_loss: 0.0035 - val_acc: 0.8384\n",
            "Epoch 14/50\n",
            "11997/11997 [==============================] - 4s 373us/sample - loss: 0.0035 - acc: 0.8384 - val_loss: 0.0035 - val_acc: 0.8384\n",
            "Epoch 15/50\n",
            "11997/11997 [==============================] - 5s 379us/sample - loss: 0.0035 - acc: 0.8384 - val_loss: 0.0035 - val_acc: 0.8384\n",
            "Epoch 16/50\n",
            "11997/11997 [==============================] - 5s 375us/sample - loss: 0.0035 - acc: 0.8384 - val_loss: 0.0035 - val_acc: 0.8384\n",
            "Epoch 17/50\n",
            "11997/11997 [==============================] - 4s 363us/sample - loss: 0.0035 - acc: 0.8384 - val_loss: 0.0035 - val_acc: 0.8384\n",
            "Epoch 18/50\n",
            "11997/11997 [==============================] - 4s 365us/sample - loss: 0.0035 - acc: 0.8384 - val_loss: 0.0035 - val_acc: 0.8384\n",
            "Epoch 19/50\n",
            "11997/11997 [==============================] - 4s 370us/sample - loss: 0.0035 - acc: 0.8384 - val_loss: 0.0035 - val_acc: 0.8384\n",
            "Epoch 20/50\n",
            "11997/11997 [==============================] - 4s 352us/sample - loss: 0.0035 - acc: 0.8384 - val_loss: 0.0035 - val_acc: 0.8384\n",
            "Epoch 21/50\n",
            "11997/11997 [==============================] - 4s 348us/sample - loss: 0.0035 - acc: 0.8384 - val_loss: 0.0035 - val_acc: 0.8384\n",
            "Epoch 22/50\n",
            "11997/11997 [==============================] - 4s 354us/sample - loss: 0.0035 - acc: 0.8384 - val_loss: 0.0035 - val_acc: 0.8384\n",
            "Epoch 23/50\n",
            "11997/11997 [==============================] - 4s 355us/sample - loss: 0.0035 - acc: 0.8384 - val_loss: 0.0035 - val_acc: 0.8384\n",
            "Epoch 24/50\n",
            "11997/11997 [==============================] - 4s 343us/sample - loss: 0.0035 - acc: 0.8384 - val_loss: 0.0035 - val_acc: 0.8384\n",
            "Epoch 25/50\n",
            "11997/11997 [==============================] - 4s 346us/sample - loss: 0.0035 - acc: 0.8384 - val_loss: 0.0035 - val_acc: 0.8384\n",
            "Epoch 26/50\n",
            "11997/11997 [==============================] - 4s 333us/sample - loss: 0.0035 - acc: 0.8384 - val_loss: 0.0035 - val_acc: 0.8384\n",
            "Epoch 27/50\n",
            "11997/11997 [==============================] - 4s 333us/sample - loss: 0.0035 - acc: 0.8384 - val_loss: 0.0035 - val_acc: 0.8384\n",
            "Epoch 28/50\n",
            "11997/11997 [==============================] - 4s 324us/sample - loss: 0.0035 - acc: 0.8384 - val_loss: 0.0035 - val_acc: 0.8384\n",
            "Epoch 29/50\n",
            "11997/11997 [==============================] - 4s 334us/sample - loss: 0.0035 - acc: 0.8384 - val_loss: 0.0035 - val_acc: 0.8384\n",
            "Epoch 30/50\n",
            "11997/11997 [==============================] - 4s 323us/sample - loss: 0.0035 - acc: 0.8384 - val_loss: 0.0035 - val_acc: 0.8384\n",
            "Epoch 31/50\n",
            "11997/11997 [==============================] - 4s 327us/sample - loss: 0.0035 - acc: 0.8384 - val_loss: 0.0034 - val_acc: 0.8384\n",
            "Epoch 32/50\n",
            "11997/11997 [==============================] - 4s 332us/sample - loss: 0.0035 - acc: 0.8384 - val_loss: 0.0035 - val_acc: 0.8384\n",
            "Epoch 33/50\n",
            "11997/11997 [==============================] - 4s 325us/sample - loss: 0.0035 - acc: 0.8384 - val_loss: 0.0034 - val_acc: 0.8384\n",
            "Epoch 34/50\n",
            "11997/11997 [==============================] - 4s 317us/sample - loss: 0.0035 - acc: 0.8384 - val_loss: 0.0034 - val_acc: 0.8384\n",
            "Epoch 35/50\n",
            "11997/11997 [==============================] - 4s 323us/sample - loss: 0.0035 - acc: 0.8384 - val_loss: 0.0035 - val_acc: 0.8384\n",
            "Epoch 36/50\n",
            "11997/11997 [==============================] - 4s 323us/sample - loss: 0.0035 - acc: 0.8384 - val_loss: 0.0034 - val_acc: 0.8384\n",
            "Epoch 37/50\n",
            "11997/11997 [==============================] - 4s 323us/sample - loss: 0.0035 - acc: 0.8384 - val_loss: 0.0034 - val_acc: 0.8384\n",
            "Epoch 38/50\n",
            "11997/11997 [==============================] - 4s 336us/sample - loss: 0.0035 - acc: 0.8384 - val_loss: 0.0034 - val_acc: 0.8384\n",
            "Epoch 39/50\n",
            "11997/11997 [==============================] - 4s 327us/sample - loss: 0.0035 - acc: 0.8384 - val_loss: 0.0035 - val_acc: 0.8384\n",
            "Epoch 40/50\n",
            "11997/11997 [==============================] - 4s 332us/sample - loss: 0.0034 - acc: 0.8384 - val_loss: 0.0034 - val_acc: 0.8384\n",
            "Epoch 41/50\n",
            "11997/11997 [==============================] - 4s 321us/sample - loss: 0.0035 - acc: 0.8384 - val_loss: 0.0034 - val_acc: 0.8383\n",
            "Epoch 42/50\n",
            "11997/11997 [==============================] - 4s 318us/sample - loss: 0.0035 - acc: 0.8384 - val_loss: 0.0034 - val_acc: 0.8384\n",
            "Epoch 43/50\n",
            "11997/11997 [==============================] - 4s 321us/sample - loss: 0.0034 - acc: 0.8384 - val_loss: 0.0034 - val_acc: 0.8384\n",
            "Epoch 44/50\n",
            "11997/11997 [==============================] - 4s 327us/sample - loss: 0.0034 - acc: 0.8384 - val_loss: 0.0034 - val_acc: 0.8384\n",
            "Epoch 45/50\n",
            "11997/11997 [==============================] - 4s 336us/sample - loss: 0.0034 - acc: 0.8384 - val_loss: 0.0034 - val_acc: 0.8384\n",
            "Epoch 46/50\n",
            "11997/11997 [==============================] - 4s 316us/sample - loss: 0.0034 - acc: 0.8384 - val_loss: 0.0034 - val_acc: 0.8384\n",
            "Epoch 47/50\n",
            "11997/11997 [==============================] - 4s 325us/sample - loss: 0.0034 - acc: 0.8384 - val_loss: 0.0034 - val_acc: 0.8384\n",
            "Epoch 48/50\n",
            "11997/11997 [==============================] - 4s 319us/sample - loss: 0.0034 - acc: 0.8384 - val_loss: 0.0034 - val_acc: 0.8384\n",
            "Epoch 49/50\n",
            "11997/11997 [==============================] - 4s 323us/sample - loss: 0.0034 - acc: 0.8384 - val_loss: 0.0034 - val_acc: 0.8384\n",
            "Epoch 50/50\n",
            "11997/11997 [==============================] - 4s 317us/sample - loss: 0.0034 - acc: 0.8384 - val_loss: 0.0034 - val_acc: 0.8384\n"
          ],
          "name": "stdout"
        },
        {
          "output_type": "execute_result",
          "data": {
            "text/plain": [
              "<tensorflow.python.keras.callbacks.History at 0x7f86a133ce80>"
            ]
          },
          "metadata": {
            "tags": []
          },
          "execution_count": 380
        }
      ]
    },
    {
      "cell_type": "code",
      "metadata": {
        "id": "eMLxjFOLH-PS",
        "colab_type": "code",
        "colab": {
          "base_uri": "https://localhost:8080/",
          "height": 50
        },
        "outputId": "3ae76aba-09a1-4f74-c2f5-cf0162dca70e"
      },
      "source": [
        "ypred = model.predict(X8)\n",
        "s=pd.DataFrame(ypred)\n",
        "s1=pd.DataFrame(y8)\n",
        "s1.corrwith(s, axis = 0) "
      ],
      "execution_count": 381,
      "outputs": [
        {
          "output_type": "execute_result",
          "data": {
            "text/plain": [
              "0    0.371769\n",
              "dtype: float64"
            ]
          },
          "metadata": {
            "tags": []
          },
          "execution_count": 381
        }
      ]
    },
    {
      "cell_type": "code",
      "metadata": {
        "id": "BmVt8ALiL4ae",
        "colab_type": "code",
        "colab": {
          "base_uri": "https://localhost:8080/",
          "height": 34
        },
        "outputId": "43e8e223-fb14-4db3-ec8e-6dfb05c749e5"
      },
      "source": [
        "r2_score(y8,ypred)"
      ],
      "execution_count": 382,
      "outputs": [
        {
          "output_type": "execute_result",
          "data": {
            "text/plain": [
              "0.13740772111646737"
            ]
          },
          "metadata": {
            "tags": []
          },
          "execution_count": 382
        }
      ]
    },
    {
      "cell_type": "code",
      "metadata": {
        "id": "ysPaeNMUJP6D",
        "colab_type": "code",
        "colab": {
          "base_uri": "https://localhost:8080/",
          "height": 50
        },
        "outputId": "0b0e499e-4f46-474b-c5e5-a5ba84eff6df"
      },
      "source": [
        "ypred1=model.predict(X_test8)\n",
        "s=pd.DataFrame(ypred1)\n",
        "s1=pd.DataFrame(y_test8)\n",
        "s1.corrwith(s,axis=0)"
      ],
      "execution_count": 383,
      "outputs": [
        {
          "output_type": "execute_result",
          "data": {
            "text/plain": [
              "0    0.371769\n",
              "dtype: float64"
            ]
          },
          "metadata": {
            "tags": []
          },
          "execution_count": 383
        }
      ]
    },
    {
      "cell_type": "code",
      "metadata": {
        "id": "f7bVrtCdbq_p",
        "colab_type": "code",
        "colab": {
          "base_uri": "https://localhost:8080/",
          "height": 34
        },
        "outputId": "ecdba662-e61d-4984-912b-5dda7f9d50bc"
      },
      "source": [
        "mean_absolute_error(y8,ypred)"
      ],
      "execution_count": 384,
      "outputs": [
        {
          "output_type": "execute_result",
          "data": {
            "text/plain": [
              "0.025296931790527243"
            ]
          },
          "metadata": {
            "tags": []
          },
          "execution_count": 384
        }
      ]
    },
    {
      "cell_type": "code",
      "metadata": {
        "id": "Bdk4ywxAbsZF",
        "colab_type": "code",
        "colab": {
          "base_uri": "https://localhost:8080/",
          "height": 34
        },
        "outputId": "7d045b5f-a89e-4d31-8eed-19187b24514f"
      },
      "source": [
        "mean_absolute_error(y_test8,ypred1)"
      ],
      "execution_count": 385,
      "outputs": [
        {
          "output_type": "execute_result",
          "data": {
            "text/plain": [
              "0.025296931790527243"
            ]
          },
          "metadata": {
            "tags": []
          },
          "execution_count": 385
        }
      ]
    },
    {
      "cell_type": "code",
      "metadata": {
        "id": "VdoqG1uCL6Up",
        "colab_type": "code",
        "colab": {
          "base_uri": "https://localhost:8080/",
          "height": 34
        },
        "outputId": "e767a9ea-0499-48b2-d4da-b503b32fa8d6"
      },
      "source": [
        "r2_score(y_test8,ypred1)"
      ],
      "execution_count": 386,
      "outputs": [
        {
          "output_type": "execute_result",
          "data": {
            "text/plain": [
              "0.13740772111646737"
            ]
          },
          "metadata": {
            "tags": []
          },
          "execution_count": 386
        }
      ]
    },
    {
      "cell_type": "code",
      "metadata": {
        "id": "SLn0vU66tOKK",
        "colab_type": "code",
        "colab": {
          "base_uri": "https://localhost:8080/",
          "height": 1000
        },
        "outputId": "6388177f-dfa9-49bf-bb24-cce5129db371"
      },
      "source": [
        "model.fit(X9, y9, validation_data=(X_test9,y_test9),epochs=50)"
      ],
      "execution_count": 387,
      "outputs": [
        {
          "output_type": "stream",
          "text": [
            "Train on 11997 samples, validate on 11997 samples\n",
            "Epoch 1/50\n",
            "11997/11997 [==============================] - 4s 318us/sample - loss: 3.6910e-04 - acc: 0.8766 - val_loss: 3.6251e-04 - val_acc: 0.8766\n",
            "Epoch 2/50\n",
            "11997/11997 [==============================] - 4s 314us/sample - loss: 3.6013e-04 - acc: 0.8766 - val_loss: 3.5743e-04 - val_acc: 0.8766\n",
            "Epoch 3/50\n",
            "11997/11997 [==============================] - 4s 316us/sample - loss: 3.5935e-04 - acc: 0.8766 - val_loss: 3.5612e-04 - val_acc: 0.8766\n",
            "Epoch 4/50\n",
            "11997/11997 [==============================] - 4s 307us/sample - loss: 3.5842e-04 - acc: 0.8766 - val_loss: 3.5502e-04 - val_acc: 0.8766\n",
            "Epoch 5/50\n",
            "11997/11997 [==============================] - 4s 311us/sample - loss: 3.5671e-04 - acc: 0.8766 - val_loss: 3.5491e-04 - val_acc: 0.8766\n",
            "Epoch 6/50\n",
            "11997/11997 [==============================] - 4s 310us/sample - loss: 3.5714e-04 - acc: 0.8766 - val_loss: 3.5635e-04 - val_acc: 0.8766\n",
            "Epoch 7/50\n",
            "11997/11997 [==============================] - 4s 320us/sample - loss: 3.5645e-04 - acc: 0.8766 - val_loss: 3.5535e-04 - val_acc: 0.8766\n",
            "Epoch 8/50\n",
            "11997/11997 [==============================] - 4s 307us/sample - loss: 3.5527e-04 - acc: 0.8766 - val_loss: 3.5377e-04 - val_acc: 0.8766\n",
            "Epoch 9/50\n",
            "11997/11997 [==============================] - 4s 309us/sample - loss: 3.5444e-04 - acc: 0.8766 - val_loss: 3.5267e-04 - val_acc: 0.8766\n",
            "Epoch 10/50\n",
            "11997/11997 [==============================] - 4s 312us/sample - loss: 3.5422e-04 - acc: 0.8766 - val_loss: 3.5478e-04 - val_acc: 0.8766\n",
            "Epoch 11/50\n",
            "11997/11997 [==============================] - 4s 309us/sample - loss: 3.5406e-04 - acc: 0.8766 - val_loss: 3.5328e-04 - val_acc: 0.8766\n",
            "Epoch 12/50\n",
            "11997/11997 [==============================] - 4s 309us/sample - loss: 3.5453e-04 - acc: 0.8766 - val_loss: 3.5942e-04 - val_acc: 0.8766\n",
            "Epoch 13/50\n",
            "11997/11997 [==============================] - 4s 309us/sample - loss: 3.5434e-04 - acc: 0.8766 - val_loss: 3.5314e-04 - val_acc: 0.8766\n",
            "Epoch 14/50\n",
            "11997/11997 [==============================] - 4s 307us/sample - loss: 3.5335e-04 - acc: 0.8766 - val_loss: 3.4954e-04 - val_acc: 0.8766\n",
            "Epoch 15/50\n",
            "11997/11997 [==============================] - 4s 313us/sample - loss: 3.5459e-04 - acc: 0.8766 - val_loss: 3.5000e-04 - val_acc: 0.8766\n",
            "Epoch 16/50\n",
            "11997/11997 [==============================] - 4s 310us/sample - loss: 3.5309e-04 - acc: 0.8766 - val_loss: 3.4927e-04 - val_acc: 0.8766\n",
            "Epoch 17/50\n",
            "11997/11997 [==============================] - 4s 307us/sample - loss: 3.5418e-04 - acc: 0.8766 - val_loss: 3.4918e-04 - val_acc: 0.8766\n",
            "Epoch 18/50\n",
            "11997/11997 [==============================] - 4s 313us/sample - loss: 3.5257e-04 - acc: 0.8766 - val_loss: 3.5458e-04 - val_acc: 0.8766\n",
            "Epoch 19/50\n",
            "11997/11997 [==============================] - 4s 319us/sample - loss: 3.5165e-04 - acc: 0.8766 - val_loss: 3.4994e-04 - val_acc: 0.8766\n",
            "Epoch 20/50\n",
            "11997/11997 [==============================] - 4s 308us/sample - loss: 3.5270e-04 - acc: 0.8766 - val_loss: 3.5034e-04 - val_acc: 0.8766\n",
            "Epoch 21/50\n",
            "11997/11997 [==============================] - 4s 317us/sample - loss: 3.5178e-04 - acc: 0.8766 - val_loss: 3.5006e-04 - val_acc: 0.8766\n",
            "Epoch 22/50\n",
            "11997/11997 [==============================] - 4s 311us/sample - loss: 3.5231e-04 - acc: 0.8766 - val_loss: 3.5275e-04 - val_acc: 0.8766\n",
            "Epoch 23/50\n",
            "11997/11997 [==============================] - 4s 311us/sample - loss: 3.4989e-04 - acc: 0.8766 - val_loss: 3.4871e-04 - val_acc: 0.8766\n",
            "Epoch 24/50\n",
            "11997/11997 [==============================] - 4s 309us/sample - loss: 3.4979e-04 - acc: 0.8766 - val_loss: 3.4874e-04 - val_acc: 0.8766\n",
            "Epoch 25/50\n",
            "11997/11997 [==============================] - 4s 305us/sample - loss: 3.5022e-04 - acc: 0.8766 - val_loss: 3.4637e-04 - val_acc: 0.8766\n",
            "Epoch 26/50\n",
            "11997/11997 [==============================] - 4s 317us/sample - loss: 3.5110e-04 - acc: 0.8766 - val_loss: 3.4665e-04 - val_acc: 0.8766\n",
            "Epoch 27/50\n",
            "11997/11997 [==============================] - 4s 325us/sample - loss: 3.4956e-04 - acc: 0.8766 - val_loss: 3.5324e-04 - val_acc: 0.8766\n",
            "Epoch 28/50\n",
            "11997/11997 [==============================] - 4s 326us/sample - loss: 3.5009e-04 - acc: 0.8766 - val_loss: 3.4639e-04 - val_acc: 0.8766\n",
            "Epoch 29/50\n",
            "11997/11997 [==============================] - 4s 327us/sample - loss: 3.5086e-04 - acc: 0.8766 - val_loss: 3.4618e-04 - val_acc: 0.8766\n",
            "Epoch 30/50\n",
            "11997/11997 [==============================] - 4s 312us/sample - loss: 3.4960e-04 - acc: 0.8766 - val_loss: 3.4615e-04 - val_acc: 0.8766\n",
            "Epoch 31/50\n",
            "11997/11997 [==============================] - 4s 321us/sample - loss: 3.4940e-04 - acc: 0.8766 - val_loss: 3.4910e-04 - val_acc: 0.8766\n",
            "Epoch 32/50\n",
            "11997/11997 [==============================] - 4s 314us/sample - loss: 3.5080e-04 - acc: 0.8766 - val_loss: 3.4616e-04 - val_acc: 0.8766\n",
            "Epoch 33/50\n",
            "11997/11997 [==============================] - 4s 316us/sample - loss: 3.4919e-04 - acc: 0.8766 - val_loss: 3.5498e-04 - val_acc: 0.8766\n",
            "Epoch 34/50\n",
            "11997/11997 [==============================] - 4s 324us/sample - loss: 3.5046e-04 - acc: 0.8766 - val_loss: 3.4631e-04 - val_acc: 0.8766\n",
            "Epoch 35/50\n",
            "11997/11997 [==============================] - 4s 314us/sample - loss: 3.4917e-04 - acc: 0.8766 - val_loss: 3.4657e-04 - val_acc: 0.8766\n",
            "Epoch 36/50\n",
            "11997/11997 [==============================] - 4s 317us/sample - loss: 3.4923e-04 - acc: 0.8766 - val_loss: 3.4668e-04 - val_acc: 0.8766\n",
            "Epoch 37/50\n",
            "11997/11997 [==============================] - 4s 315us/sample - loss: 3.5071e-04 - acc: 0.8766 - val_loss: 3.4641e-04 - val_acc: 0.8766\n",
            "Epoch 38/50\n",
            "11997/11997 [==============================] - 4s 314us/sample - loss: 3.4918e-04 - acc: 0.8766 - val_loss: 3.4512e-04 - val_acc: 0.8766\n",
            "Epoch 39/50\n",
            "11997/11997 [==============================] - 4s 321us/sample - loss: 3.4875e-04 - acc: 0.8766 - val_loss: 3.4596e-04 - val_acc: 0.8766\n",
            "Epoch 40/50\n",
            "11997/11997 [==============================] - 4s 322us/sample - loss: 3.4788e-04 - acc: 0.8766 - val_loss: 3.4583e-04 - val_acc: 0.8766\n",
            "Epoch 41/50\n",
            "11997/11997 [==============================] - 4s 322us/sample - loss: 3.5015e-04 - acc: 0.8766 - val_loss: 3.4587e-04 - val_acc: 0.8766\n",
            "Epoch 42/50\n",
            "11997/11997 [==============================] - 4s 315us/sample - loss: 3.4774e-04 - acc: 0.8766 - val_loss: 3.4653e-04 - val_acc: 0.8766\n",
            "Epoch 43/50\n",
            "11997/11997 [==============================] - 4s 325us/sample - loss: 3.4853e-04 - acc: 0.8766 - val_loss: 3.4509e-04 - val_acc: 0.8766\n",
            "Epoch 44/50\n",
            "11997/11997 [==============================] - 4s 319us/sample - loss: 3.4955e-04 - acc: 0.8766 - val_loss: 3.5259e-04 - val_acc: 0.8766\n",
            "Epoch 45/50\n",
            "11997/11997 [==============================] - 4s 324us/sample - loss: 3.4767e-04 - acc: 0.8766 - val_loss: 3.4969e-04 - val_acc: 0.8766\n",
            "Epoch 46/50\n",
            "11997/11997 [==============================] - 4s 323us/sample - loss: 3.4774e-04 - acc: 0.8766 - val_loss: 3.4569e-04 - val_acc: 0.8766\n",
            "Epoch 47/50\n",
            "11997/11997 [==============================] - 4s 315us/sample - loss: 3.4796e-04 - acc: 0.8766 - val_loss: 3.4443e-04 - val_acc: 0.8766\n",
            "Epoch 48/50\n",
            "11997/11997 [==============================] - 4s 322us/sample - loss: 3.4815e-04 - acc: 0.8766 - val_loss: 3.4345e-04 - val_acc: 0.8766\n",
            "Epoch 49/50\n",
            "11997/11997 [==============================] - 4s 328us/sample - loss: 3.4821e-04 - acc: 0.8766 - val_loss: 3.4464e-04 - val_acc: 0.8766\n",
            "Epoch 50/50\n",
            "11997/11997 [==============================] - 4s 329us/sample - loss: 3.4765e-04 - acc: 0.8766 - val_loss: 3.4545e-04 - val_acc: 0.8766\n"
          ],
          "name": "stdout"
        },
        {
          "output_type": "execute_result",
          "data": {
            "text/plain": [
              "<tensorflow.python.keras.callbacks.History at 0x7f86a133f160>"
            ]
          },
          "metadata": {
            "tags": []
          },
          "execution_count": 387
        }
      ]
    },
    {
      "cell_type": "code",
      "metadata": {
        "id": "zQ5v6HwLH_Wh",
        "colab_type": "code",
        "colab": {
          "base_uri": "https://localhost:8080/",
          "height": 50
        },
        "outputId": "085e94c9-fd5a-43e8-c26d-c7cfa7ff1359"
      },
      "source": [
        "ypred = model.predict(X9)\n",
        "s=pd.DataFrame(ypred)\n",
        "s1=pd.DataFrame(y9)\n",
        "s1.corrwith(s, axis = 0) "
      ],
      "execution_count": 388,
      "outputs": [
        {
          "output_type": "execute_result",
          "data": {
            "text/plain": [
              "0    0.352531\n",
              "dtype: float64"
            ]
          },
          "metadata": {
            "tags": []
          },
          "execution_count": 388
        }
      ]
    },
    {
      "cell_type": "code",
      "metadata": {
        "id": "Up6_NVQoLi3n",
        "colab_type": "code",
        "colab": {
          "base_uri": "https://localhost:8080/",
          "height": 34
        },
        "outputId": "f2e381b7-f8b8-4efa-a9e6-04d27da6bf37"
      },
      "source": [
        "r2_score(y9,ypred)"
      ],
      "execution_count": 389,
      "outputs": [
        {
          "output_type": "execute_result",
          "data": {
            "text/plain": [
              "0.12132066494361515"
            ]
          },
          "metadata": {
            "tags": []
          },
          "execution_count": 389
        }
      ]
    },
    {
      "cell_type": "code",
      "metadata": {
        "id": "f3IOE5BCJRSK",
        "colab_type": "code",
        "colab": {
          "base_uri": "https://localhost:8080/",
          "height": 50
        },
        "outputId": "e76ceca8-9b84-4de1-d8f9-d4005a749f3e"
      },
      "source": [
        "ypred1=model.predict(X_test9)\n",
        "s=pd.DataFrame(ypred1)\n",
        "s1=pd.DataFrame(y_test9)\n",
        "s1.corrwith(s,axis=0)"
      ],
      "execution_count": 390,
      "outputs": [
        {
          "output_type": "execute_result",
          "data": {
            "text/plain": [
              "0    0.352531\n",
              "dtype: float64"
            ]
          },
          "metadata": {
            "tags": []
          },
          "execution_count": 390
        }
      ]
    },
    {
      "cell_type": "code",
      "metadata": {
        "id": "_FDKRSVwLkoD",
        "colab_type": "code",
        "colab": {
          "base_uri": "https://localhost:8080/",
          "height": 34
        },
        "outputId": "55e0e937-da2e-4e55-9ee9-7df8bb3090e6"
      },
      "source": [
        "r2_score(y_test9,ypred1)"
      ],
      "execution_count": 391,
      "outputs": [
        {
          "output_type": "execute_result",
          "data": {
            "text/plain": [
              "0.12132066494361515"
            ]
          },
          "metadata": {
            "tags": []
          },
          "execution_count": 391
        }
      ]
    },
    {
      "cell_type": "code",
      "metadata": {
        "id": "A4HYV_dDbxDs",
        "colab_type": "code",
        "colab": {
          "base_uri": "https://localhost:8080/",
          "height": 34
        },
        "outputId": "22759837-9b4d-4cb8-9451-d9e170d1cd14"
      },
      "source": [
        "mean_absolute_error(y9,ypred)"
      ],
      "execution_count": 392,
      "outputs": [
        {
          "output_type": "execute_result",
          "data": {
            "text/plain": [
              "0.0068341326865165985"
            ]
          },
          "metadata": {
            "tags": []
          },
          "execution_count": 392
        }
      ]
    },
    {
      "cell_type": "code",
      "metadata": {
        "id": "_WPfFs1Pbx7w",
        "colab_type": "code",
        "colab": {
          "base_uri": "https://localhost:8080/",
          "height": 34
        },
        "outputId": "4734cda6-656b-45a7-d516-d9f092ad4da7"
      },
      "source": [
        "mean_absolute_error(y_test9,ypred1)"
      ],
      "execution_count": 393,
      "outputs": [
        {
          "output_type": "execute_result",
          "data": {
            "text/plain": [
              "0.0068341326865165985"
            ]
          },
          "metadata": {
            "tags": []
          },
          "execution_count": 393
        }
      ]
    },
    {
      "cell_type": "code",
      "metadata": {
        "id": "X4tac5LntOTz",
        "colab_type": "code",
        "colab": {
          "base_uri": "https://localhost:8080/",
          "height": 1000
        },
        "outputId": "1ac773b0-dea2-4255-b444-4cf14fa68dab"
      },
      "source": [
        "model.fit(X10, y10, validation_data=(X_test10,y_test10),epochs=50)"
      ],
      "execution_count": 394,
      "outputs": [
        {
          "output_type": "stream",
          "text": [
            "Train on 11997 samples, validate on 11997 samples\n",
            "Epoch 1/50\n",
            "11997/11997 [==============================] - 4s 341us/sample - loss: 0.0027 - acc: 0.8375 - val_loss: 0.0027 - val_acc: 0.8375\n",
            "Epoch 2/50\n",
            "11997/11997 [==============================] - 4s 334us/sample - loss: 0.0027 - acc: 0.8375 - val_loss: 0.0026 - val_acc: 0.8375\n",
            "Epoch 3/50\n",
            "11997/11997 [==============================] - 4s 336us/sample - loss: 0.0026 - acc: 0.8375 - val_loss: 0.0026 - val_acc: 0.8375\n",
            "Epoch 4/50\n",
            "11997/11997 [==============================] - 4s 335us/sample - loss: 0.0026 - acc: 0.8375 - val_loss: 0.0026 - val_acc: 0.8375\n",
            "Epoch 5/50\n",
            "11997/11997 [==============================] - 4s 324us/sample - loss: 0.0026 - acc: 0.8375 - val_loss: 0.0026 - val_acc: 0.8375\n",
            "Epoch 6/50\n",
            "11997/11997 [==============================] - 4s 323us/sample - loss: 0.0026 - acc: 0.8375 - val_loss: 0.0026 - val_acc: 0.8375\n",
            "Epoch 7/50\n",
            "11997/11997 [==============================] - 4s 309us/sample - loss: 0.0026 - acc: 0.8375 - val_loss: 0.0026 - val_acc: 0.8375\n",
            "Epoch 8/50\n",
            "11997/11997 [==============================] - 4s 305us/sample - loss: 0.0026 - acc: 0.8375 - val_loss: 0.0026 - val_acc: 0.8375\n",
            "Epoch 9/50\n",
            "11997/11997 [==============================] - 4s 310us/sample - loss: 0.0026 - acc: 0.8375 - val_loss: 0.0026 - val_acc: 0.8375\n",
            "Epoch 10/50\n",
            "11997/11997 [==============================] - 4s 313us/sample - loss: 0.0026 - acc: 0.8375 - val_loss: 0.0026 - val_acc: 0.8375\n",
            "Epoch 11/50\n",
            "11997/11997 [==============================] - 4s 311us/sample - loss: 0.0026 - acc: 0.8375 - val_loss: 0.0026 - val_acc: 0.8375\n",
            "Epoch 12/50\n",
            "11997/11997 [==============================] - 4s 314us/sample - loss: 0.0026 - acc: 0.8375 - val_loss: 0.0026 - val_acc: 0.8375\n",
            "Epoch 13/50\n",
            "11997/11997 [==============================] - 4s 312us/sample - loss: 0.0026 - acc: 0.8375 - val_loss: 0.0025 - val_acc: 0.8375\n",
            "Epoch 14/50\n",
            "11997/11997 [==============================] - 4s 310us/sample - loss: 0.0026 - acc: 0.8375 - val_loss: 0.0025 - val_acc: 0.8375\n",
            "Epoch 15/50\n",
            "11997/11997 [==============================] - 4s 317us/sample - loss: 0.0026 - acc: 0.8375 - val_loss: 0.0025 - val_acc: 0.8375\n",
            "Epoch 16/50\n",
            "11997/11997 [==============================] - 4s 307us/sample - loss: 0.0026 - acc: 0.8375 - val_loss: 0.0025 - val_acc: 0.8375\n",
            "Epoch 17/50\n",
            "11997/11997 [==============================] - 4s 312us/sample - loss: 0.0026 - acc: 0.8375 - val_loss: 0.0025 - val_acc: 0.8375\n",
            "Epoch 18/50\n",
            "11997/11997 [==============================] - 4s 317us/sample - loss: 0.0025 - acc: 0.8375 - val_loss: 0.0025 - val_acc: 0.8375\n",
            "Epoch 19/50\n",
            "11997/11997 [==============================] - 4s 314us/sample - loss: 0.0026 - acc: 0.8375 - val_loss: 0.0025 - val_acc: 0.8375\n",
            "Epoch 20/50\n",
            "11997/11997 [==============================] - 4s 312us/sample - loss: 0.0025 - acc: 0.8375 - val_loss: 0.0025 - val_acc: 0.8375\n",
            "Epoch 21/50\n",
            "11997/11997 [==============================] - 4s 359us/sample - loss: 0.0025 - acc: 0.8375 - val_loss: 0.0025 - val_acc: 0.8375\n",
            "Epoch 22/50\n",
            "11997/11997 [==============================] - 6s 473us/sample - loss: 0.0025 - acc: 0.8375 - val_loss: 0.0025 - val_acc: 0.8375\n",
            "Epoch 23/50\n",
            "11997/11997 [==============================] - 4s 311us/sample - loss: 0.0025 - acc: 0.8375 - val_loss: 0.0025 - val_acc: 0.8375\n",
            "Epoch 24/50\n",
            "11997/11997 [==============================] - 4s 314us/sample - loss: 0.0025 - acc: 0.8375 - val_loss: 0.0025 - val_acc: 0.8375\n",
            "Epoch 25/50\n",
            "11997/11997 [==============================] - 4s 307us/sample - loss: 0.0025 - acc: 0.8375 - val_loss: 0.0025 - val_acc: 0.8375\n",
            "Epoch 26/50\n",
            "11997/11997 [==============================] - 4s 316us/sample - loss: 0.0025 - acc: 0.8375 - val_loss: 0.0026 - val_acc: 0.8375\n",
            "Epoch 27/50\n",
            "11997/11997 [==============================] - 4s 307us/sample - loss: 0.0025 - acc: 0.8375 - val_loss: 0.0025 - val_acc: 0.8375\n",
            "Epoch 28/50\n",
            "11997/11997 [==============================] - 4s 304us/sample - loss: 0.0025 - acc: 0.8375 - val_loss: 0.0025 - val_acc: 0.8375\n",
            "Epoch 29/50\n",
            "11997/11997 [==============================] - 4s 316us/sample - loss: 0.0025 - acc: 0.8375 - val_loss: 0.0025 - val_acc: 0.8375\n",
            "Epoch 30/50\n",
            "11997/11997 [==============================] - 4s 318us/sample - loss: 0.0025 - acc: 0.8375 - val_loss: 0.0025 - val_acc: 0.8375\n",
            "Epoch 31/50\n",
            "11997/11997 [==============================] - 4s 310us/sample - loss: 0.0025 - acc: 0.8375 - val_loss: 0.0025 - val_acc: 0.8375\n",
            "Epoch 32/50\n",
            "11997/11997 [==============================] - 4s 306us/sample - loss: 0.0025 - acc: 0.8375 - val_loss: 0.0025 - val_acc: 0.8375\n",
            "Epoch 33/50\n",
            "11997/11997 [==============================] - 4s 307us/sample - loss: 0.0025 - acc: 0.8375 - val_loss: 0.0025 - val_acc: 0.8375\n",
            "Epoch 34/50\n",
            "11997/11997 [==============================] - 4s 306us/sample - loss: 0.0025 - acc: 0.8375 - val_loss: 0.0025 - val_acc: 0.8375\n",
            "Epoch 35/50\n",
            "11997/11997 [==============================] - 4s 308us/sample - loss: 0.0025 - acc: 0.8375 - val_loss: 0.0025 - val_acc: 0.8375\n",
            "Epoch 36/50\n",
            "11997/11997 [==============================] - 4s 314us/sample - loss: 0.0025 - acc: 0.8375 - val_loss: 0.0025 - val_acc: 0.8375\n",
            "Epoch 37/50\n",
            "11997/11997 [==============================] - 4s 310us/sample - loss: 0.0025 - acc: 0.8375 - val_loss: 0.0025 - val_acc: 0.8375\n",
            "Epoch 38/50\n",
            "11997/11997 [==============================] - 4s 313us/sample - loss: 0.0025 - acc: 0.8375 - val_loss: 0.0025 - val_acc: 0.8375\n",
            "Epoch 39/50\n",
            "11997/11997 [==============================] - 4s 316us/sample - loss: 0.0025 - acc: 0.8375 - val_loss: 0.0025 - val_acc: 0.8375\n",
            "Epoch 40/50\n",
            "11997/11997 [==============================] - 4s 308us/sample - loss: 0.0025 - acc: 0.8375 - val_loss: 0.0025 - val_acc: 0.8375\n",
            "Epoch 41/50\n",
            "11997/11997 [==============================] - 4s 308us/sample - loss: 0.0025 - acc: 0.8375 - val_loss: 0.0025 - val_acc: 0.8375\n",
            "Epoch 42/50\n",
            "11997/11997 [==============================] - 4s 313us/sample - loss: 0.0025 - acc: 0.8375 - val_loss: 0.0025 - val_acc: 0.8375\n",
            "Epoch 43/50\n",
            "11997/11997 [==============================] - 4s 310us/sample - loss: 0.0025 - acc: 0.8375 - val_loss: 0.0025 - val_acc: 0.8375\n",
            "Epoch 44/50\n",
            "11997/11997 [==============================] - 4s 319us/sample - loss: 0.0025 - acc: 0.8375 - val_loss: 0.0025 - val_acc: 0.8375\n",
            "Epoch 45/50\n",
            "11997/11997 [==============================] - 4s 313us/sample - loss: 0.0025 - acc: 0.8375 - val_loss: 0.0025 - val_acc: 0.8375\n",
            "Epoch 46/50\n",
            "11997/11997 [==============================] - 4s 310us/sample - loss: 0.0025 - acc: 0.8375 - val_loss: 0.0025 - val_acc: 0.8375\n",
            "Epoch 47/50\n",
            "11997/11997 [==============================] - 4s 308us/sample - loss: 0.0025 - acc: 0.8375 - val_loss: 0.0025 - val_acc: 0.8375\n",
            "Epoch 48/50\n",
            "11997/11997 [==============================] - 4s 309us/sample - loss: 0.0025 - acc: 0.8375 - val_loss: 0.0025 - val_acc: 0.8375\n",
            "Epoch 49/50\n",
            "11997/11997 [==============================] - 4s 317us/sample - loss: 0.0025 - acc: 0.8375 - val_loss: 0.0025 - val_acc: 0.8375\n",
            "Epoch 50/50\n",
            "11997/11997 [==============================] - 4s 314us/sample - loss: 0.0025 - acc: 0.8375 - val_loss: 0.0025 - val_acc: 0.8375\n"
          ],
          "name": "stdout"
        },
        {
          "output_type": "execute_result",
          "data": {
            "text/plain": [
              "<tensorflow.python.keras.callbacks.History at 0x7f86a133feb8>"
            ]
          },
          "metadata": {
            "tags": []
          },
          "execution_count": 394
        }
      ]
    },
    {
      "cell_type": "code",
      "metadata": {
        "id": "i7iVtOzuIAff",
        "colab_type": "code",
        "colab": {
          "base_uri": "https://localhost:8080/",
          "height": 50
        },
        "outputId": "ab0f987f-5060-409f-f35d-8eeeba0fede1"
      },
      "source": [
        "ypred = model.predict(X10)\n",
        "s=pd.DataFrame(ypred)\n",
        "s1=pd.DataFrame(y10)\n",
        "s1.corrwith(s, axis = 0) "
      ],
      "execution_count": 395,
      "outputs": [
        {
          "output_type": "execute_result",
          "data": {
            "text/plain": [
              "0    0.396829\n",
              "dtype: float64"
            ]
          },
          "metadata": {
            "tags": []
          },
          "execution_count": 395
        }
      ]
    },
    {
      "cell_type": "code",
      "metadata": {
        "id": "ZzIyxgSKLcls",
        "colab_type": "code",
        "colab": {
          "base_uri": "https://localhost:8080/",
          "height": 34
        },
        "outputId": "ef00d4c9-f75e-4c03-8847-111693e76caf"
      },
      "source": [
        "\n",
        "r2_score(y10,ypred)"
      ],
      "execution_count": 396,
      "outputs": [
        {
          "output_type": "execute_result",
          "data": {
            "text/plain": [
              "0.157325562725653"
            ]
          },
          "metadata": {
            "tags": []
          },
          "execution_count": 396
        }
      ]
    },
    {
      "cell_type": "code",
      "metadata": {
        "id": "Vz0yUtDVJSqy",
        "colab_type": "code",
        "colab": {
          "base_uri": "https://localhost:8080/",
          "height": 50
        },
        "outputId": "e66ba32f-218a-469e-e783-ca47e1f3df4c"
      },
      "source": [
        "ypred1=model.predict(X_test10)\n",
        "s=pd.DataFrame(ypred1)\n",
        "s1=pd.DataFrame(y_test10)\n",
        "s1.corrwith(s,axis=0)"
      ],
      "execution_count": 397,
      "outputs": [
        {
          "output_type": "execute_result",
          "data": {
            "text/plain": [
              "0    0.396829\n",
              "dtype: float64"
            ]
          },
          "metadata": {
            "tags": []
          },
          "execution_count": 397
        }
      ]
    },
    {
      "cell_type": "code",
      "metadata": {
        "id": "3OvG7PKCLeB2",
        "colab_type": "code",
        "colab": {
          "base_uri": "https://localhost:8080/",
          "height": 34
        },
        "outputId": "54c621a4-15db-4a21-e906-8909bc29479c"
      },
      "source": [
        "r2_score(y_test10,ypred1)"
      ],
      "execution_count": 398,
      "outputs": [
        {
          "output_type": "execute_result",
          "data": {
            "text/plain": [
              "0.157325562725653"
            ]
          },
          "metadata": {
            "tags": []
          },
          "execution_count": 398
        }
      ]
    },
    {
      "cell_type": "code",
      "metadata": {
        "id": "9e2RJz20b4JB",
        "colab_type": "code",
        "colab": {
          "base_uri": "https://localhost:8080/",
          "height": 34
        },
        "outputId": "b3a347fc-6df9-49a8-e767-e929fbe2f716"
      },
      "source": [
        "mean_absolute_error(y_test10,ypred1)"
      ],
      "execution_count": 399,
      "outputs": [
        {
          "output_type": "execute_result",
          "data": {
            "text/plain": [
              "0.020335474211252987"
            ]
          },
          "metadata": {
            "tags": []
          },
          "execution_count": 399
        }
      ]
    },
    {
      "cell_type": "code",
      "metadata": {
        "id": "lSHbLk8Lb5Bo",
        "colab_type": "code",
        "colab": {
          "base_uri": "https://localhost:8080/",
          "height": 34
        },
        "outputId": "5529af81-0a7c-44ad-ebcc-1d263d65aaf1"
      },
      "source": [
        "mean_absolute_error(y10,ypred)"
      ],
      "execution_count": 400,
      "outputs": [
        {
          "output_type": "execute_result",
          "data": {
            "text/plain": [
              "0.020335474211252987"
            ]
          },
          "metadata": {
            "tags": []
          },
          "execution_count": 400
        }
      ]
    },
    {
      "cell_type": "code",
      "metadata": {
        "id": "WBFxiG7GtOdT",
        "colab_type": "code",
        "colab": {
          "base_uri": "https://localhost:8080/",
          "height": 1000
        },
        "outputId": "2c931648-e184-499c-dfc9-cfd7e8980fd4"
      },
      "source": [
        "model.fit(X11, y11, validation_data=(X_test11,y_test11),epochs=50)"
      ],
      "execution_count": 401,
      "outputs": [
        {
          "output_type": "stream",
          "text": [
            "Train on 11997 samples, validate on 11997 samples\n",
            "Epoch 1/50\n",
            "11997/11997 [==============================] - 4s 312us/sample - loss: 0.0028 - acc: 0.8450 - val_loss: 0.0027 - val_acc: 0.8450\n",
            "Epoch 2/50\n",
            "11997/11997 [==============================] - 4s 320us/sample - loss: 0.0027 - acc: 0.8450 - val_loss: 0.0027 - val_acc: 0.8450\n",
            "Epoch 3/50\n",
            "11997/11997 [==============================] - 4s 312us/sample - loss: 0.0027 - acc: 0.8450 - val_loss: 0.0026 - val_acc: 0.8450\n",
            "Epoch 4/50\n",
            "11997/11997 [==============================] - 4s 308us/sample - loss: 0.0027 - acc: 0.8450 - val_loss: 0.0026 - val_acc: 0.8450\n",
            "Epoch 5/50\n",
            "11997/11997 [==============================] - 4s 303us/sample - loss: 0.0026 - acc: 0.8450 - val_loss: 0.0026 - val_acc: 0.8450\n",
            "Epoch 6/50\n",
            "11997/11997 [==============================] - 4s 309us/sample - loss: 0.0026 - acc: 0.8450 - val_loss: 0.0026 - val_acc: 0.8450\n",
            "Epoch 7/50\n",
            "11997/11997 [==============================] - 4s 318us/sample - loss: 0.0026 - acc: 0.8450 - val_loss: 0.0026 - val_acc: 0.8450\n",
            "Epoch 8/50\n",
            "11997/11997 [==============================] - 4s 326us/sample - loss: 0.0026 - acc: 0.8450 - val_loss: 0.0026 - val_acc: 0.8450\n",
            "Epoch 9/50\n",
            "11997/11997 [==============================] - 4s 331us/sample - loss: 0.0026 - acc: 0.8450 - val_loss: 0.0026 - val_acc: 0.8450\n",
            "Epoch 10/50\n",
            "11997/11997 [==============================] - 4s 327us/sample - loss: 0.0026 - acc: 0.8450 - val_loss: 0.0026 - val_acc: 0.8450\n",
            "Epoch 11/50\n",
            "11997/11997 [==============================] - 4s 316us/sample - loss: 0.0026 - acc: 0.8450 - val_loss: 0.0026 - val_acc: 0.8450\n",
            "Epoch 12/50\n",
            "11997/11997 [==============================] - 4s 316us/sample - loss: 0.0026 - acc: 0.8450 - val_loss: 0.0026 - val_acc: 0.8450\n",
            "Epoch 13/50\n",
            "11997/11997 [==============================] - 4s 320us/sample - loss: 0.0026 - acc: 0.8450 - val_loss: 0.0026 - val_acc: 0.8450\n",
            "Epoch 14/50\n",
            "11997/11997 [==============================] - 4s 308us/sample - loss: 0.0026 - acc: 0.8450 - val_loss: 0.0026 - val_acc: 0.8450\n",
            "Epoch 15/50\n",
            "11997/11997 [==============================] - 4s 318us/sample - loss: 0.0026 - acc: 0.8450 - val_loss: 0.0026 - val_acc: 0.8450\n",
            "Epoch 16/50\n",
            "11997/11997 [==============================] - 4s 318us/sample - loss: 0.0026 - acc: 0.8450 - val_loss: 0.0026 - val_acc: 0.8450\n",
            "Epoch 17/50\n",
            "11997/11997 [==============================] - 4s 315us/sample - loss: 0.0026 - acc: 0.8450 - val_loss: 0.0026 - val_acc: 0.8450\n",
            "Epoch 18/50\n",
            "11997/11997 [==============================] - 4s 312us/sample - loss: 0.0026 - acc: 0.8450 - val_loss: 0.0026 - val_acc: 0.8450\n",
            "Epoch 19/50\n",
            "11997/11997 [==============================] - 4s 321us/sample - loss: 0.0026 - acc: 0.8450 - val_loss: 0.0026 - val_acc: 0.8450\n",
            "Epoch 20/50\n",
            "11997/11997 [==============================] - 4s 339us/sample - loss: 0.0026 - acc: 0.8450 - val_loss: 0.0026 - val_acc: 0.8450\n",
            "Epoch 21/50\n",
            "11997/11997 [==============================] - 4s 309us/sample - loss: 0.0026 - acc: 0.8450 - val_loss: 0.0026 - val_acc: 0.8450\n",
            "Epoch 22/50\n",
            "11997/11997 [==============================] - 4s 305us/sample - loss: 0.0026 - acc: 0.8450 - val_loss: 0.0026 - val_acc: 0.8450\n",
            "Epoch 23/50\n",
            "11997/11997 [==============================] - 4s 302us/sample - loss: 0.0026 - acc: 0.8450 - val_loss: 0.0026 - val_acc: 0.8450\n",
            "Epoch 24/50\n",
            "11997/11997 [==============================] - 4s 308us/sample - loss: 0.0026 - acc: 0.8450 - val_loss: 0.0026 - val_acc: 0.8450\n",
            "Epoch 25/50\n",
            "11997/11997 [==============================] - 4s 314us/sample - loss: 0.0026 - acc: 0.8450 - val_loss: 0.0026 - val_acc: 0.8450\n",
            "Epoch 26/50\n",
            "11997/11997 [==============================] - 4s 314us/sample - loss: 0.0026 - acc: 0.8450 - val_loss: 0.0026 - val_acc: 0.8450\n",
            "Epoch 27/50\n",
            "11997/11997 [==============================] - 4s 311us/sample - loss: 0.0026 - acc: 0.8450 - val_loss: 0.0026 - val_acc: 0.8450\n",
            "Epoch 28/50\n",
            "11997/11997 [==============================] - 4s 315us/sample - loss: 0.0026 - acc: 0.8450 - val_loss: 0.0026 - val_acc: 0.8450\n",
            "Epoch 29/50\n",
            "11997/11997 [==============================] - 4s 310us/sample - loss: 0.0026 - acc: 0.8450 - val_loss: 0.0026 - val_acc: 0.8450\n",
            "Epoch 30/50\n",
            "11997/11997 [==============================] - 4s 316us/sample - loss: 0.0026 - acc: 0.8450 - val_loss: 0.0026 - val_acc: 0.8450\n",
            "Epoch 31/50\n",
            "11997/11997 [==============================] - 4s 315us/sample - loss: 0.0026 - acc: 0.8450 - val_loss: 0.0026 - val_acc: 0.8450\n",
            "Epoch 32/50\n",
            "11997/11997 [==============================] - 4s 302us/sample - loss: 0.0026 - acc: 0.8450 - val_loss: 0.0025 - val_acc: 0.8450\n",
            "Epoch 33/50\n",
            "11997/11997 [==============================] - 4s 312us/sample - loss: 0.0026 - acc: 0.8450 - val_loss: 0.0025 - val_acc: 0.8450\n",
            "Epoch 34/50\n",
            "11997/11997 [==============================] - 4s 310us/sample - loss: 0.0026 - acc: 0.8450 - val_loss: 0.0025 - val_acc: 0.8450\n",
            "Epoch 35/50\n",
            "11997/11997 [==============================] - 4s 312us/sample - loss: 0.0026 - acc: 0.8450 - val_loss: 0.0026 - val_acc: 0.8450\n",
            "Epoch 36/50\n",
            "11997/11997 [==============================] - 4s 312us/sample - loss: 0.0026 - acc: 0.8450 - val_loss: 0.0025 - val_acc: 0.8450\n",
            "Epoch 37/50\n",
            "11997/11997 [==============================] - 4s 314us/sample - loss: 0.0026 - acc: 0.8450 - val_loss: 0.0025 - val_acc: 0.8450\n",
            "Epoch 38/50\n",
            "11997/11997 [==============================] - 4s 305us/sample - loss: 0.0026 - acc: 0.8450 - val_loss: 0.0025 - val_acc: 0.8450\n",
            "Epoch 39/50\n",
            "11997/11997 [==============================] - 4s 316us/sample - loss: 0.0026 - acc: 0.8450 - val_loss: 0.0026 - val_acc: 0.8450\n",
            "Epoch 40/50\n",
            "11997/11997 [==============================] - 4s 308us/sample - loss: 0.0026 - acc: 0.8450 - val_loss: 0.0026 - val_acc: 0.8450\n",
            "Epoch 41/50\n",
            "11997/11997 [==============================] - 4s 308us/sample - loss: 0.0026 - acc: 0.8450 - val_loss: 0.0025 - val_acc: 0.8450\n",
            "Epoch 42/50\n",
            "11997/11997 [==============================] - 4s 311us/sample - loss: 0.0026 - acc: 0.8450 - val_loss: 0.0025 - val_acc: 0.8450\n",
            "Epoch 43/50\n",
            "11997/11997 [==============================] - 4s 325us/sample - loss: 0.0025 - acc: 0.8450 - val_loss: 0.0025 - val_acc: 0.8450\n",
            "Epoch 44/50\n",
            "11997/11997 [==============================] - 4s 316us/sample - loss: 0.0025 - acc: 0.8450 - val_loss: 0.0025 - val_acc: 0.8450\n",
            "Epoch 45/50\n",
            "11997/11997 [==============================] - 4s 308us/sample - loss: 0.0025 - acc: 0.8450 - val_loss: 0.0025 - val_acc: 0.8450\n",
            "Epoch 46/50\n",
            "11997/11997 [==============================] - 4s 311us/sample - loss: 0.0025 - acc: 0.8450 - val_loss: 0.0025 - val_acc: 0.8450\n",
            "Epoch 47/50\n",
            "11997/11997 [==============================] - 4s 324us/sample - loss: 0.0025 - acc: 0.8450 - val_loss: 0.0025 - val_acc: 0.8450\n",
            "Epoch 48/50\n",
            "11997/11997 [==============================] - 4s 313us/sample - loss: 0.0025 - acc: 0.8450 - val_loss: 0.0025 - val_acc: 0.8450\n",
            "Epoch 49/50\n",
            "11997/11997 [==============================] - 4s 306us/sample - loss: 0.0025 - acc: 0.8450 - val_loss: 0.0025 - val_acc: 0.8450\n",
            "Epoch 50/50\n",
            "11997/11997 [==============================] - 4s 310us/sample - loss: 0.0025 - acc: 0.8450 - val_loss: 0.0025 - val_acc: 0.8450\n"
          ],
          "name": "stdout"
        },
        {
          "output_type": "execute_result",
          "data": {
            "text/plain": [
              "<tensorflow.python.keras.callbacks.History at 0x7f86a1358b00>"
            ]
          },
          "metadata": {
            "tags": []
          },
          "execution_count": 401
        }
      ]
    },
    {
      "cell_type": "code",
      "metadata": {
        "id": "TOytGCJYIByT",
        "colab_type": "code",
        "colab": {
          "base_uri": "https://localhost:8080/",
          "height": 50
        },
        "outputId": "fb6ec2d7-a7e1-4d12-bffc-abc18a5a99bb"
      },
      "source": [
        "ypred = model.predict(X11)\n",
        "s=pd.DataFrame(ypred)\n",
        "s1=pd.DataFrame(y11)\n",
        "s1.corrwith(s, axis = 0) "
      ],
      "execution_count": 402,
      "outputs": [
        {
          "output_type": "execute_result",
          "data": {
            "text/plain": [
              "0    0.372703\n",
              "dtype: float64"
            ]
          },
          "metadata": {
            "tags": []
          },
          "execution_count": 402
        }
      ]
    },
    {
      "cell_type": "code",
      "metadata": {
        "id": "iINdBIwoLTXh",
        "colab_type": "code",
        "colab": {
          "base_uri": "https://localhost:8080/",
          "height": 34
        },
        "outputId": "4f498ef6-86d8-4788-c9fa-a09c3ad34442"
      },
      "source": [
        "r2_score(y11,ypred)"
      ],
      "execution_count": 403,
      "outputs": [
        {
          "output_type": "execute_result",
          "data": {
            "text/plain": [
              "0.1382684869573909"
            ]
          },
          "metadata": {
            "tags": []
          },
          "execution_count": 403
        }
      ]
    },
    {
      "cell_type": "code",
      "metadata": {
        "id": "4WAXVRGRJUGH",
        "colab_type": "code",
        "colab": {
          "base_uri": "https://localhost:8080/",
          "height": 50
        },
        "outputId": "0af6a873-19ef-4692-9009-02f71f4ed7ec"
      },
      "source": [
        "ypred1=model.predict(X_test11)\n",
        "s=pd.DataFrame(ypred1)\n",
        "s1=pd.DataFrame(y_test11)\n",
        "s1.corrwith(s,axis=0)"
      ],
      "execution_count": 404,
      "outputs": [
        {
          "output_type": "execute_result",
          "data": {
            "text/plain": [
              "0    0.372703\n",
              "dtype: float64"
            ]
          },
          "metadata": {
            "tags": []
          },
          "execution_count": 404
        }
      ]
    },
    {
      "cell_type": "code",
      "metadata": {
        "id": "IteaW7lyLXic",
        "colab_type": "code",
        "colab": {
          "base_uri": "https://localhost:8080/",
          "height": 34
        },
        "outputId": "18be5a95-1d4b-48ec-ceca-31122f85d54a"
      },
      "source": [
        "r2_score(y_test11,ypred1)"
      ],
      "execution_count": 405,
      "outputs": [
        {
          "output_type": "execute_result",
          "data": {
            "text/plain": [
              "0.1382684869573909"
            ]
          },
          "metadata": {
            "tags": []
          },
          "execution_count": 405
        }
      ]
    },
    {
      "cell_type": "code",
      "metadata": {
        "id": "dR8eWYdab9x0",
        "colab_type": "code",
        "colab": {
          "base_uri": "https://localhost:8080/",
          "height": 34
        },
        "outputId": "f20477eb-a5e3-49cd-ca8f-58998a5f8e94"
      },
      "source": [
        "mean_absolute_error(y_test11,ypred1)"
      ],
      "execution_count": 406,
      "outputs": [
        {
          "output_type": "execute_result",
          "data": {
            "text/plain": [
              "0.01905851225890698"
            ]
          },
          "metadata": {
            "tags": []
          },
          "execution_count": 406
        }
      ]
    },
    {
      "cell_type": "code",
      "metadata": {
        "id": "EQmn_nV5b_wQ",
        "colab_type": "code",
        "colab": {
          "base_uri": "https://localhost:8080/",
          "height": 34
        },
        "outputId": "75b48c95-6662-40ac-d2c3-f72eca6629f9"
      },
      "source": [
        "mean_absolute_error(y11,ypred)"
      ],
      "execution_count": 407,
      "outputs": [
        {
          "output_type": "execute_result",
          "data": {
            "text/plain": [
              "0.01905851225890698"
            ]
          },
          "metadata": {
            "tags": []
          },
          "execution_count": 407
        }
      ]
    },
    {
      "cell_type": "code",
      "metadata": {
        "id": "uin8xQNXB74p",
        "colab_type": "code",
        "colab": {
          "base_uri": "https://localhost:8080/",
          "height": 1000
        },
        "outputId": "1996ffef-9233-4281-dfae-b3c37e8ed839"
      },
      "source": [
        "model.fit(X12, y12, validation_data=(X_test12,y_test12),epochs=50)"
      ],
      "execution_count": 408,
      "outputs": [
        {
          "output_type": "stream",
          "text": [
            "Train on 11997 samples, validate on 11997 samples\n",
            "Epoch 1/50\n",
            "11997/11997 [==============================] - 4s 320us/sample - loss: 0.0019 - acc: 0.8385 - val_loss: 0.0017 - val_acc: 0.8385\n",
            "Epoch 2/50\n",
            "11997/11997 [==============================] - 4s 321us/sample - loss: 0.0017 - acc: 0.8385 - val_loss: 0.0017 - val_acc: 0.8385\n",
            "Epoch 3/50\n",
            "11997/11997 [==============================] - 4s 313us/sample - loss: 0.0017 - acc: 0.8385 - val_loss: 0.0017 - val_acc: 0.8385\n",
            "Epoch 4/50\n",
            "11997/11997 [==============================] - 4s 313us/sample - loss: 0.0017 - acc: 0.8385 - val_loss: 0.0017 - val_acc: 0.8385\n",
            "Epoch 5/50\n",
            "11997/11997 [==============================] - 4s 309us/sample - loss: 0.0017 - acc: 0.8385 - val_loss: 0.0017 - val_acc: 0.8385\n",
            "Epoch 6/50\n",
            "11997/11997 [==============================] - 4s 311us/sample - loss: 0.0017 - acc: 0.8385 - val_loss: 0.0017 - val_acc: 0.8385\n",
            "Epoch 7/50\n",
            "11997/11997 [==============================] - 4s 311us/sample - loss: 0.0017 - acc: 0.8385 - val_loss: 0.0017 - val_acc: 0.8385\n",
            "Epoch 8/50\n",
            "11997/11997 [==============================] - 4s 308us/sample - loss: 0.0017 - acc: 0.8385 - val_loss: 0.0017 - val_acc: 0.8385\n",
            "Epoch 9/50\n",
            "11997/11997 [==============================] - 4s 313us/sample - loss: 0.0017 - acc: 0.8385 - val_loss: 0.0017 - val_acc: 0.8385\n",
            "Epoch 10/50\n",
            "11997/11997 [==============================] - 4s 314us/sample - loss: 0.0017 - acc: 0.8385 - val_loss: 0.0017 - val_acc: 0.8385\n",
            "Epoch 11/50\n",
            "11997/11997 [==============================] - 4s 310us/sample - loss: 0.0017 - acc: 0.8385 - val_loss: 0.0017 - val_acc: 0.8385\n",
            "Epoch 12/50\n",
            "11997/11997 [==============================] - 4s 313us/sample - loss: 0.0017 - acc: 0.8385 - val_loss: 0.0017 - val_acc: 0.8385\n",
            "Epoch 13/50\n",
            "11997/11997 [==============================] - 4s 313us/sample - loss: 0.0017 - acc: 0.8385 - val_loss: 0.0017 - val_acc: 0.8385\n",
            "Epoch 14/50\n",
            "11997/11997 [==============================] - 4s 308us/sample - loss: 0.0017 - acc: 0.8385 - val_loss: 0.0017 - val_acc: 0.8385\n",
            "Epoch 15/50\n",
            "11997/11997 [==============================] - 4s 314us/sample - loss: 0.0017 - acc: 0.8385 - val_loss: 0.0017 - val_acc: 0.8385\n",
            "Epoch 16/50\n",
            "11997/11997 [==============================] - 4s 312us/sample - loss: 0.0017 - acc: 0.8385 - val_loss: 0.0017 - val_acc: 0.8385\n",
            "Epoch 17/50\n",
            "11997/11997 [==============================] - 4s 308us/sample - loss: 0.0017 - acc: 0.8385 - val_loss: 0.0017 - val_acc: 0.8385\n",
            "Epoch 18/50\n",
            "11997/11997 [==============================] - 4s 308us/sample - loss: 0.0017 - acc: 0.8385 - val_loss: 0.0016 - val_acc: 0.8385\n",
            "Epoch 19/50\n",
            "11997/11997 [==============================] - 4s 323us/sample - loss: 0.0017 - acc: 0.8385 - val_loss: 0.0016 - val_acc: 0.8385\n",
            "Epoch 20/50\n",
            "11997/11997 [==============================] - 4s 315us/sample - loss: 0.0017 - acc: 0.8385 - val_loss: 0.0017 - val_acc: 0.8385\n",
            "Epoch 21/50\n",
            "11997/11997 [==============================] - 4s 311us/sample - loss: 0.0017 - acc: 0.8385 - val_loss: 0.0017 - val_acc: 0.8385\n",
            "Epoch 22/50\n",
            "11997/11997 [==============================] - 4s 311us/sample - loss: 0.0017 - acc: 0.8385 - val_loss: 0.0016 - val_acc: 0.8385\n",
            "Epoch 23/50\n",
            "11997/11997 [==============================] - 4s 314us/sample - loss: 0.0017 - acc: 0.8385 - val_loss: 0.0016 - val_acc: 0.8385\n",
            "Epoch 24/50\n",
            "11997/11997 [==============================] - 4s 313us/sample - loss: 0.0017 - acc: 0.8385 - val_loss: 0.0016 - val_acc: 0.8385\n",
            "Epoch 25/50\n",
            "11997/11997 [==============================] - 4s 313us/sample - loss: 0.0017 - acc: 0.8385 - val_loss: 0.0017 - val_acc: 0.8385\n",
            "Epoch 26/50\n",
            "11997/11997 [==============================] - 4s 313us/sample - loss: 0.0017 - acc: 0.8385 - val_loss: 0.0016 - val_acc: 0.8385\n",
            "Epoch 27/50\n",
            "11997/11997 [==============================] - 4s 307us/sample - loss: 0.0016 - acc: 0.8385 - val_loss: 0.0016 - val_acc: 0.8385\n",
            "Epoch 28/50\n",
            "11997/11997 [==============================] - 4s 312us/sample - loss: 0.0017 - acc: 0.8385 - val_loss: 0.0016 - val_acc: 0.8385\n",
            "Epoch 29/50\n",
            "11997/11997 [==============================] - 4s 312us/sample - loss: 0.0016 - acc: 0.8385 - val_loss: 0.0016 - val_acc: 0.8385\n",
            "Epoch 30/50\n",
            "11997/11997 [==============================] - 4s 312us/sample - loss: 0.0016 - acc: 0.8385 - val_loss: 0.0016 - val_acc: 0.8385\n",
            "Epoch 31/50\n",
            "11997/11997 [==============================] - 4s 310us/sample - loss: 0.0016 - acc: 0.8385 - val_loss: 0.0016 - val_acc: 0.8385\n",
            "Epoch 32/50\n",
            "11997/11997 [==============================] - 4s 310us/sample - loss: 0.0016 - acc: 0.8385 - val_loss: 0.0016 - val_acc: 0.8385\n",
            "Epoch 33/50\n",
            "11997/11997 [==============================] - 4s 319us/sample - loss: 0.0016 - acc: 0.8385 - val_loss: 0.0016 - val_acc: 0.8385\n",
            "Epoch 34/50\n",
            "11997/11997 [==============================] - 4s 309us/sample - loss: 0.0016 - acc: 0.8385 - val_loss: 0.0016 - val_acc: 0.8385\n",
            "Epoch 35/50\n",
            "11997/11997 [==============================] - 4s 309us/sample - loss: 0.0016 - acc: 0.8385 - val_loss: 0.0016 - val_acc: 0.8385\n",
            "Epoch 36/50\n",
            "11997/11997 [==============================] - 4s 306us/sample - loss: 0.0016 - acc: 0.8385 - val_loss: 0.0016 - val_acc: 0.8385\n",
            "Epoch 37/50\n",
            "11997/11997 [==============================] - 4s 309us/sample - loss: 0.0016 - acc: 0.8385 - val_loss: 0.0016 - val_acc: 0.8385\n",
            "Epoch 38/50\n",
            "11997/11997 [==============================] - 4s 317us/sample - loss: 0.0016 - acc: 0.8385 - val_loss: 0.0016 - val_acc: 0.8385\n",
            "Epoch 39/50\n",
            "11997/11997 [==============================] - 4s 313us/sample - loss: 0.0016 - acc: 0.8385 - val_loss: 0.0016 - val_acc: 0.8385\n",
            "Epoch 40/50\n",
            "11997/11997 [==============================] - 4s 315us/sample - loss: 0.0016 - acc: 0.8385 - val_loss: 0.0016 - val_acc: 0.8385\n",
            "Epoch 41/50\n",
            "11997/11997 [==============================] - 4s 332us/sample - loss: 0.0016 - acc: 0.8385 - val_loss: 0.0016 - val_acc: 0.8385\n",
            "Epoch 42/50\n",
            "11997/11997 [==============================] - 4s 320us/sample - loss: 0.0016 - acc: 0.8385 - val_loss: 0.0016 - val_acc: 0.8385\n",
            "Epoch 43/50\n",
            "11997/11997 [==============================] - 4s 307us/sample - loss: 0.0016 - acc: 0.8385 - val_loss: 0.0016 - val_acc: 0.8385\n",
            "Epoch 44/50\n",
            "11997/11997 [==============================] - 4s 310us/sample - loss: 0.0016 - acc: 0.8385 - val_loss: 0.0016 - val_acc: 0.8385\n",
            "Epoch 45/50\n",
            "11997/11997 [==============================] - 4s 311us/sample - loss: 0.0016 - acc: 0.8385 - val_loss: 0.0016 - val_acc: 0.8385\n",
            "Epoch 46/50\n",
            "11997/11997 [==============================] - 4s 310us/sample - loss: 0.0016 - acc: 0.8385 - val_loss: 0.0016 - val_acc: 0.8385\n",
            "Epoch 47/50\n",
            "11997/11997 [==============================] - 4s 306us/sample - loss: 0.0016 - acc: 0.8385 - val_loss: 0.0016 - val_acc: 0.8385\n",
            "Epoch 48/50\n",
            "11997/11997 [==============================] - 4s 307us/sample - loss: 0.0016 - acc: 0.8385 - val_loss: 0.0016 - val_acc: 0.8385\n",
            "Epoch 49/50\n",
            "11997/11997 [==============================] - 4s 317us/sample - loss: 0.0016 - acc: 0.8385 - val_loss: 0.0016 - val_acc: 0.8385\n",
            "Epoch 50/50\n",
            "11997/11997 [==============================] - 4s 307us/sample - loss: 0.0016 - acc: 0.8385 - val_loss: 0.0016 - val_acc: 0.8385\n"
          ],
          "name": "stdout"
        },
        {
          "output_type": "execute_result",
          "data": {
            "text/plain": [
              "<tensorflow.python.keras.callbacks.History at 0x7f86a1358588>"
            ]
          },
          "metadata": {
            "tags": []
          },
          "execution_count": 408
        }
      ]
    },
    {
      "cell_type": "code",
      "metadata": {
        "id": "cdlcVaWfIDEI",
        "colab_type": "code",
        "colab": {
          "base_uri": "https://localhost:8080/",
          "height": 50
        },
        "outputId": "7df13e3f-9494-409f-c405-694048aadbcb"
      },
      "source": [
        "ypred = model.predict(X12)\n",
        "s=pd.DataFrame(ypred)\n",
        "s1=pd.DataFrame(y12)\n",
        "s1.corrwith(s, axis = 0) "
      ],
      "execution_count": 409,
      "outputs": [
        {
          "output_type": "execute_result",
          "data": {
            "text/plain": [
              "0    0.431232\n",
              "dtype: float64"
            ]
          },
          "metadata": {
            "tags": []
          },
          "execution_count": 409
        }
      ]
    },
    {
      "cell_type": "code",
      "metadata": {
        "id": "lcIK1vV7LH0l",
        "colab_type": "code",
        "colab": {
          "base_uri": "https://localhost:8080/",
          "height": 34
        },
        "outputId": "cf758a36-3c2f-46d4-bedc-8e64f58ae8bb"
      },
      "source": [
        "\n",
        "r2_score(y12,ypred)"
      ],
      "execution_count": 410,
      "outputs": [
        {
          "output_type": "execute_result",
          "data": {
            "text/plain": [
              "0.18422688967708578"
            ]
          },
          "metadata": {
            "tags": []
          },
          "execution_count": 410
        }
      ]
    },
    {
      "cell_type": "code",
      "metadata": {
        "id": "C1dAhjw5JWAB",
        "colab_type": "code",
        "colab": {
          "base_uri": "https://localhost:8080/",
          "height": 50
        },
        "outputId": "4afec1d1-1db3-48af-b458-17013818ca28"
      },
      "source": [
        "ypred1=model.predict(X_test12)\n",
        "s=pd.DataFrame(ypred1)\n",
        "s1=pd.DataFrame(y_test12)\n",
        "s1.corrwith(s,axis=0)"
      ],
      "execution_count": 411,
      "outputs": [
        {
          "output_type": "execute_result",
          "data": {
            "text/plain": [
              "0    0.431232\n",
              "dtype: float64"
            ]
          },
          "metadata": {
            "tags": []
          },
          "execution_count": 411
        }
      ]
    },
    {
      "cell_type": "code",
      "metadata": {
        "id": "SUu9HNNALKXT",
        "colab_type": "code",
        "colab": {
          "base_uri": "https://localhost:8080/",
          "height": 34
        },
        "outputId": "e2f6ba7c-bccb-4414-dcf7-4edd16f1002c"
      },
      "source": [
        "r2_score(y_test12,ypred1)"
      ],
      "execution_count": 412,
      "outputs": [
        {
          "output_type": "execute_result",
          "data": {
            "text/plain": [
              "0.18422688967708578"
            ]
          },
          "metadata": {
            "tags": []
          },
          "execution_count": 412
        }
      ]
    },
    {
      "cell_type": "code",
      "metadata": {
        "id": "h2tbAJ9kcHAn",
        "colab_type": "code",
        "colab": {
          "base_uri": "https://localhost:8080/",
          "height": 34
        },
        "outputId": "062a6953-a8ab-4ae3-8a51-aabbf48cdde7"
      },
      "source": [
        "mean_absolute_error(y_test12,ypred1)"
      ],
      "execution_count": 413,
      "outputs": [
        {
          "output_type": "execute_result",
          "data": {
            "text/plain": [
              "0.017374144705820622"
            ]
          },
          "metadata": {
            "tags": []
          },
          "execution_count": 413
        }
      ]
    },
    {
      "cell_type": "code",
      "metadata": {
        "id": "mH7-ROQ-cJPL",
        "colab_type": "code",
        "colab": {
          "base_uri": "https://localhost:8080/",
          "height": 34
        },
        "outputId": "b69a2452-6a96-4331-c9e3-6f09dbe16e05"
      },
      "source": [
        "mean_absolute_error(y12,ypred)"
      ],
      "execution_count": 414,
      "outputs": [
        {
          "output_type": "execute_result",
          "data": {
            "text/plain": [
              "0.017374144705820622"
            ]
          },
          "metadata": {
            "tags": []
          },
          "execution_count": 414
        }
      ]
    },
    {
      "cell_type": "code",
      "metadata": {
        "id": "q24UogQuB8LN",
        "colab_type": "code",
        "colab": {
          "base_uri": "https://localhost:8080/",
          "height": 1000
        },
        "outputId": "4649be62-2533-47de-8e52-4e4448adfc8c"
      },
      "source": [
        "model.fit(X13, y13, validation_data=(X_test13,y_test13),epochs=50)"
      ],
      "execution_count": 415,
      "outputs": [
        {
          "output_type": "stream",
          "text": [
            "Train on 11997 samples, validate on 11997 samples\n",
            "Epoch 1/50\n",
            "11997/11997 [==============================] - 4s 334us/sample - loss: 0.0026 - acc: 0.8430 - val_loss: 0.0026 - val_acc: 0.8430\n",
            "Epoch 2/50\n",
            "11997/11997 [==============================] - 4s 309us/sample - loss: 0.0026 - acc: 0.8430 - val_loss: 0.0026 - val_acc: 0.8430\n",
            "Epoch 3/50\n",
            "11997/11997 [==============================] - 4s 305us/sample - loss: 0.0026 - acc: 0.8430 - val_loss: 0.0026 - val_acc: 0.8430\n",
            "Epoch 4/50\n",
            "11997/11997 [==============================] - 4s 306us/sample - loss: 0.0026 - acc: 0.8430 - val_loss: 0.0026 - val_acc: 0.8430\n",
            "Epoch 5/50\n",
            "11997/11997 [==============================] - 4s 309us/sample - loss: 0.0026 - acc: 0.8430 - val_loss: 0.0025 - val_acc: 0.8430\n",
            "Epoch 6/50\n",
            "11997/11997 [==============================] - 4s 313us/sample - loss: 0.0026 - acc: 0.8430 - val_loss: 0.0025 - val_acc: 0.8430\n",
            "Epoch 7/50\n",
            "11997/11997 [==============================] - 4s 316us/sample - loss: 0.0026 - acc: 0.8430 - val_loss: 0.0025 - val_acc: 0.8430\n",
            "Epoch 8/50\n",
            "11997/11997 [==============================] - 4s 319us/sample - loss: 0.0026 - acc: 0.8430 - val_loss: 0.0025 - val_acc: 0.8430\n",
            "Epoch 9/50\n",
            "11997/11997 [==============================] - 4s 313us/sample - loss: 0.0026 - acc: 0.8430 - val_loss: 0.0025 - val_acc: 0.8430\n",
            "Epoch 10/50\n",
            "11997/11997 [==============================] - 4s 318us/sample - loss: 0.0025 - acc: 0.8430 - val_loss: 0.0025 - val_acc: 0.8430\n",
            "Epoch 11/50\n",
            "11997/11997 [==============================] - 4s 306us/sample - loss: 0.0026 - acc: 0.8430 - val_loss: 0.0025 - val_acc: 0.8430\n",
            "Epoch 12/50\n",
            "11997/11997 [==============================] - 4s 315us/sample - loss: 0.0025 - acc: 0.8430 - val_loss: 0.0025 - val_acc: 0.8430\n",
            "Epoch 13/50\n",
            "11997/11997 [==============================] - 4s 314us/sample - loss: 0.0025 - acc: 0.8430 - val_loss: 0.0025 - val_acc: 0.8430\n",
            "Epoch 14/50\n",
            "11997/11997 [==============================] - 4s 318us/sample - loss: 0.0025 - acc: 0.8430 - val_loss: 0.0026 - val_acc: 0.8430\n",
            "Epoch 15/50\n",
            "11997/11997 [==============================] - 4s 318us/sample - loss: 0.0025 - acc: 0.8430 - val_loss: 0.0025 - val_acc: 0.8430\n",
            "Epoch 16/50\n",
            "11997/11997 [==============================] - 4s 315us/sample - loss: 0.0025 - acc: 0.8430 - val_loss: 0.0025 - val_acc: 0.8430\n",
            "Epoch 17/50\n",
            "11997/11997 [==============================] - 4s 311us/sample - loss: 0.0025 - acc: 0.8430 - val_loss: 0.0025 - val_acc: 0.8430\n",
            "Epoch 18/50\n",
            "11997/11997 [==============================] - 4s 313us/sample - loss: 0.0025 - acc: 0.8430 - val_loss: 0.0025 - val_acc: 0.8430\n",
            "Epoch 19/50\n",
            "11997/11997 [==============================] - 4s 311us/sample - loss: 0.0025 - acc: 0.8430 - val_loss: 0.0025 - val_acc: 0.8430\n",
            "Epoch 20/50\n",
            "11997/11997 [==============================] - 4s 314us/sample - loss: 0.0025 - acc: 0.8430 - val_loss: 0.0025 - val_acc: 0.8430\n",
            "Epoch 21/50\n",
            "11997/11997 [==============================] - 4s 311us/sample - loss: 0.0025 - acc: 0.8430 - val_loss: 0.0025 - val_acc: 0.8430\n",
            "Epoch 22/50\n",
            "11997/11997 [==============================] - 4s 312us/sample - loss: 0.0025 - acc: 0.8430 - val_loss: 0.0025 - val_acc: 0.8430\n",
            "Epoch 23/50\n",
            "11997/11997 [==============================] - 4s 306us/sample - loss: 0.0025 - acc: 0.8430 - val_loss: 0.0025 - val_acc: 0.8430\n",
            "Epoch 24/50\n",
            "11997/11997 [==============================] - 4s 300us/sample - loss: 0.0025 - acc: 0.8430 - val_loss: 0.0025 - val_acc: 0.8430\n",
            "Epoch 25/50\n",
            "11997/11997 [==============================] - 4s 303us/sample - loss: 0.0025 - acc: 0.8430 - val_loss: 0.0025 - val_acc: 0.8430\n",
            "Epoch 26/50\n",
            "11997/11997 [==============================] - 4s 303us/sample - loss: 0.0025 - acc: 0.8430 - val_loss: 0.0025 - val_acc: 0.8430\n",
            "Epoch 27/50\n",
            "11997/11997 [==============================] - 4s 311us/sample - loss: 0.0025 - acc: 0.8430 - val_loss: 0.0025 - val_acc: 0.8430\n",
            "Epoch 28/50\n",
            "11997/11997 [==============================] - 4s 307us/sample - loss: 0.0025 - acc: 0.8430 - val_loss: 0.0025 - val_acc: 0.8430\n",
            "Epoch 29/50\n",
            "11997/11997 [==============================] - 4s 302us/sample - loss: 0.0025 - acc: 0.8430 - val_loss: 0.0025 - val_acc: 0.8430\n",
            "Epoch 30/50\n",
            "11997/11997 [==============================] - 4s 307us/sample - loss: 0.0025 - acc: 0.8430 - val_loss: 0.0025 - val_acc: 0.8430\n",
            "Epoch 31/50\n",
            "11997/11997 [==============================] - 4s 304us/sample - loss: 0.0025 - acc: 0.8430 - val_loss: 0.0025 - val_acc: 0.8430\n",
            "Epoch 32/50\n",
            "11997/11997 [==============================] - 4s 302us/sample - loss: 0.0025 - acc: 0.8430 - val_loss: 0.0025 - val_acc: 0.8430\n",
            "Epoch 33/50\n",
            "11997/11997 [==============================] - 4s 311us/sample - loss: 0.0025 - acc: 0.8430 - val_loss: 0.0025 - val_acc: 0.8430\n",
            "Epoch 34/50\n",
            "11997/11997 [==============================] - 4s 303us/sample - loss: 0.0025 - acc: 0.8430 - val_loss: 0.0025 - val_acc: 0.8430\n",
            "Epoch 35/50\n",
            "11997/11997 [==============================] - 4s 308us/sample - loss: 0.0025 - acc: 0.8430 - val_loss: 0.0025 - val_acc: 0.8430\n",
            "Epoch 36/50\n",
            "11997/11997 [==============================] - 4s 306us/sample - loss: 0.0025 - acc: 0.8430 - val_loss: 0.0025 - val_acc: 0.8430\n",
            "Epoch 37/50\n",
            "11997/11997 [==============================] - 4s 307us/sample - loss: 0.0025 - acc: 0.8430 - val_loss: 0.0025 - val_acc: 0.8430\n",
            "Epoch 38/50\n",
            "11997/11997 [==============================] - 4s 304us/sample - loss: 0.0025 - acc: 0.8430 - val_loss: 0.0025 - val_acc: 0.8430\n",
            "Epoch 39/50\n",
            "11997/11997 [==============================] - 4s 305us/sample - loss: 0.0025 - acc: 0.8430 - val_loss: 0.0025 - val_acc: 0.8430\n",
            "Epoch 40/50\n",
            "11997/11997 [==============================] - 4s 308us/sample - loss: 0.0025 - acc: 0.8430 - val_loss: 0.0025 - val_acc: 0.8430\n",
            "Epoch 41/50\n",
            "11997/11997 [==============================] - 4s 305us/sample - loss: 0.0025 - acc: 0.8430 - val_loss: 0.0025 - val_acc: 0.8430\n",
            "Epoch 42/50\n",
            "11997/11997 [==============================] - 4s 309us/sample - loss: 0.0025 - acc: 0.8430 - val_loss: 0.0025 - val_acc: 0.8430\n",
            "Epoch 43/50\n",
            "11997/11997 [==============================] - 4s 310us/sample - loss: 0.0025 - acc: 0.8430 - val_loss: 0.0025 - val_acc: 0.8430\n",
            "Epoch 44/50\n",
            "11997/11997 [==============================] - 4s 312us/sample - loss: 0.0025 - acc: 0.8430 - val_loss: 0.0024 - val_acc: 0.8430\n",
            "Epoch 45/50\n",
            "11997/11997 [==============================] - 4s 306us/sample - loss: 0.0025 - acc: 0.8430 - val_loss: 0.0025 - val_acc: 0.8430\n",
            "Epoch 46/50\n",
            "11997/11997 [==============================] - 4s 307us/sample - loss: 0.0025 - acc: 0.8430 - val_loss: 0.0025 - val_acc: 0.8430\n",
            "Epoch 47/50\n",
            "11997/11997 [==============================] - 4s 306us/sample - loss: 0.0025 - acc: 0.8430 - val_loss: 0.0025 - val_acc: 0.8430\n",
            "Epoch 48/50\n",
            "11997/11997 [==============================] - 4s 305us/sample - loss: 0.0025 - acc: 0.8430 - val_loss: 0.0025 - val_acc: 0.8430\n",
            "Epoch 49/50\n",
            "11997/11997 [==============================] - 4s 306us/sample - loss: 0.0025 - acc: 0.8430 - val_loss: 0.0025 - val_acc: 0.8430\n",
            "Epoch 50/50\n",
            "11997/11997 [==============================] - 4s 307us/sample - loss: 0.0025 - acc: 0.8430 - val_loss: 0.0025 - val_acc: 0.8430\n"
          ],
          "name": "stdout"
        },
        {
          "output_type": "execute_result",
          "data": {
            "text/plain": [
              "<tensorflow.python.keras.callbacks.History at 0x7f86a1187668>"
            ]
          },
          "metadata": {
            "tags": []
          },
          "execution_count": 415
        }
      ]
    },
    {
      "cell_type": "code",
      "metadata": {
        "id": "VhNbhU3fIE3L",
        "colab_type": "code",
        "colab": {
          "base_uri": "https://localhost:8080/",
          "height": 50
        },
        "outputId": "d859aca7-4e12-46fa-cdd9-8d86e4909a7c"
      },
      "source": [
        "ypred = model.predict(X13)\n",
        "s=pd.DataFrame(ypred)\n",
        "s1=pd.DataFrame(y13)\n",
        "s1.corrwith(s, axis = 0) "
      ],
      "execution_count": 416,
      "outputs": [
        {
          "output_type": "execute_result",
          "data": {
            "text/plain": [
              "0    0.414283\n",
              "dtype: float64"
            ]
          },
          "metadata": {
            "tags": []
          },
          "execution_count": 416
        }
      ]
    },
    {
      "cell_type": "code",
      "metadata": {
        "id": "rDtK58AIK8cY",
        "colab_type": "code",
        "colab": {
          "base_uri": "https://localhost:8080/",
          "height": 34
        },
        "outputId": "acaee38f-a975-428e-9b55-88fd485d0832"
      },
      "source": [
        "r2_score(y13,ypred)"
      ],
      "execution_count": 417,
      "outputs": [
        {
          "output_type": "execute_result",
          "data": {
            "text/plain": [
              "0.16286115050599026"
            ]
          },
          "metadata": {
            "tags": []
          },
          "execution_count": 417
        }
      ]
    },
    {
      "cell_type": "code",
      "metadata": {
        "id": "aRT60eIMJXc9",
        "colab_type": "code",
        "colab": {
          "base_uri": "https://localhost:8080/",
          "height": 50
        },
        "outputId": "06ac9ab0-ec71-41b9-9f61-2766d8eb801d"
      },
      "source": [
        "ypred1=model.predict(X_test13)\n",
        "s=pd.DataFrame(ypred1)\n",
        "s1=pd.DataFrame(y_test13)\n",
        "s1.corrwith(s,axis=0)"
      ],
      "execution_count": 418,
      "outputs": [
        {
          "output_type": "execute_result",
          "data": {
            "text/plain": [
              "0    0.414283\n",
              "dtype: float64"
            ]
          },
          "metadata": {
            "tags": []
          },
          "execution_count": 418
        }
      ]
    },
    {
      "cell_type": "code",
      "metadata": {
        "id": "5xh4_heUK-xf",
        "colab_type": "code",
        "colab": {
          "base_uri": "https://localhost:8080/",
          "height": 34
        },
        "outputId": "6798a168-04e4-48ff-a698-81e2728a6c02"
      },
      "source": [
        "r2_score(y_test13,ypred1)"
      ],
      "execution_count": 419,
      "outputs": [
        {
          "output_type": "execute_result",
          "data": {
            "text/plain": [
              "0.16286115050599026"
            ]
          },
          "metadata": {
            "tags": []
          },
          "execution_count": 419
        }
      ]
    },
    {
      "cell_type": "code",
      "metadata": {
        "id": "KFzCJDbpcMx8",
        "colab_type": "code",
        "colab": {
          "base_uri": "https://localhost:8080/",
          "height": 34
        },
        "outputId": "1aed2773-bfba-4090-b7d8-29a5ee69d7ab"
      },
      "source": [
        "mean_absolute_error(y_test13,ypred1)"
      ],
      "execution_count": 420,
      "outputs": [
        {
          "output_type": "execute_result",
          "data": {
            "text/plain": [
              "0.016777828626685"
            ]
          },
          "metadata": {
            "tags": []
          },
          "execution_count": 420
        }
      ]
    },
    {
      "cell_type": "code",
      "metadata": {
        "id": "O41sYTw2cO27",
        "colab_type": "code",
        "colab": {
          "base_uri": "https://localhost:8080/",
          "height": 34
        },
        "outputId": "c2fb9ed7-1c8d-46a9-f358-3f75e17ceee1"
      },
      "source": [
        "mean_absolute_error(y13,ypred)"
      ],
      "execution_count": 421,
      "outputs": [
        {
          "output_type": "execute_result",
          "data": {
            "text/plain": [
              "0.016777828626685"
            ]
          },
          "metadata": {
            "tags": []
          },
          "execution_count": 421
        }
      ]
    },
    {
      "cell_type": "code",
      "metadata": {
        "id": "ZOiZXqKJB8jC",
        "colab_type": "code",
        "colab": {
          "base_uri": "https://localhost:8080/",
          "height": 1000
        },
        "outputId": "27733e7c-2a19-4ad1-da6d-ad0d01c5b792"
      },
      "source": [
        "model.fit(X14, y14, validation_data=(X_test14,y_test14),epochs=50)"
      ],
      "execution_count": 422,
      "outputs": [
        {
          "output_type": "stream",
          "text": [
            "Train on 11997 samples, validate on 11997 samples\n",
            "Epoch 1/50\n",
            "11997/11997 [==============================] - 4s 310us/sample - loss: 0.0026 - acc: 0.8337 - val_loss: 0.0025 - val_acc: 0.8338\n",
            "Epoch 2/50\n",
            "11997/11997 [==============================] - 4s 308us/sample - loss: 0.0025 - acc: 0.8338 - val_loss: 0.0025 - val_acc: 0.8338\n",
            "Epoch 3/50\n",
            "11997/11997 [==============================] - 4s 310us/sample - loss: 0.0025 - acc: 0.8338 - val_loss: 0.0025 - val_acc: 0.8338\n",
            "Epoch 4/50\n",
            "11997/11997 [==============================] - 4s 308us/sample - loss: 0.0025 - acc: 0.8338 - val_loss: 0.0024 - val_acc: 0.8338\n",
            "Epoch 5/50\n",
            "11997/11997 [==============================] - 4s 310us/sample - loss: 0.0025 - acc: 0.8338 - val_loss: 0.0024 - val_acc: 0.8338\n",
            "Epoch 6/50\n",
            "11997/11997 [==============================] - 4s 312us/sample - loss: 0.0024 - acc: 0.8338 - val_loss: 0.0024 - val_acc: 0.8338\n",
            "Epoch 7/50\n",
            "11997/11997 [==============================] - 4s 310us/sample - loss: 0.0024 - acc: 0.8338 - val_loss: 0.0024 - val_acc: 0.8338\n",
            "Epoch 8/50\n",
            "11997/11997 [==============================] - 4s 310us/sample - loss: 0.0024 - acc: 0.8338 - val_loss: 0.0024 - val_acc: 0.8338\n",
            "Epoch 9/50\n",
            "11997/11997 [==============================] - 4s 315us/sample - loss: 0.0024 - acc: 0.8338 - val_loss: 0.0024 - val_acc: 0.8338\n",
            "Epoch 10/50\n",
            "11997/11997 [==============================] - 4s 304us/sample - loss: 0.0024 - acc: 0.8338 - val_loss: 0.0024 - val_acc: 0.8338\n",
            "Epoch 11/50\n",
            "11997/11997 [==============================] - 4s 306us/sample - loss: 0.0024 - acc: 0.8338 - val_loss: 0.0024 - val_acc: 0.8338\n",
            "Epoch 12/50\n",
            "11997/11997 [==============================] - 4s 302us/sample - loss: 0.0024 - acc: 0.8338 - val_loss: 0.0024 - val_acc: 0.8338\n",
            "Epoch 13/50\n",
            "11997/11997 [==============================] - 4s 311us/sample - loss: 0.0024 - acc: 0.8338 - val_loss: 0.0024 - val_acc: 0.8338\n",
            "Epoch 14/50\n",
            "11997/11997 [==============================] - 4s 304us/sample - loss: 0.0024 - acc: 0.8338 - val_loss: 0.0024 - val_acc: 0.8338\n",
            "Epoch 15/50\n",
            "11997/11997 [==============================] - 4s 306us/sample - loss: 0.0024 - acc: 0.8338 - val_loss: 0.0024 - val_acc: 0.8338\n",
            "Epoch 16/50\n",
            "11997/11997 [==============================] - 4s 305us/sample - loss: 0.0024 - acc: 0.8338 - val_loss: 0.0024 - val_acc: 0.8338\n",
            "Epoch 17/50\n",
            "11997/11997 [==============================] - 4s 312us/sample - loss: 0.0024 - acc: 0.8338 - val_loss: 0.0024 - val_acc: 0.8338\n",
            "Epoch 18/50\n",
            "11997/11997 [==============================] - 4s 310us/sample - loss: 0.0024 - acc: 0.8338 - val_loss: 0.0024 - val_acc: 0.8338\n",
            "Epoch 19/50\n",
            "11997/11997 [==============================] - 4s 306us/sample - loss: 0.0024 - acc: 0.8338 - val_loss: 0.0023 - val_acc: 0.8338\n",
            "Epoch 20/50\n",
            "11997/11997 [==============================] - 4s 305us/sample - loss: 0.0024 - acc: 0.8338 - val_loss: 0.0023 - val_acc: 0.8338\n",
            "Epoch 21/50\n",
            "11997/11997 [==============================] - 4s 307us/sample - loss: 0.0024 - acc: 0.8338 - val_loss: 0.0023 - val_acc: 0.8338\n",
            "Epoch 22/50\n",
            "11997/11997 [==============================] - 4s 309us/sample - loss: 0.0024 - acc: 0.8338 - val_loss: 0.0023 - val_acc: 0.8338\n",
            "Epoch 23/50\n",
            "11997/11997 [==============================] - 4s 325us/sample - loss: 0.0024 - acc: 0.8338 - val_loss: 0.0024 - val_acc: 0.8338\n",
            "Epoch 24/50\n",
            "11997/11997 [==============================] - 4s 320us/sample - loss: 0.0023 - acc: 0.8338 - val_loss: 0.0023 - val_acc: 0.8338\n",
            "Epoch 25/50\n",
            "11997/11997 [==============================] - 4s 318us/sample - loss: 0.0023 - acc: 0.8338 - val_loss: 0.0023 - val_acc: 0.8338\n",
            "Epoch 26/50\n",
            "11997/11997 [==============================] - 4s 306us/sample - loss: 0.0024 - acc: 0.8338 - val_loss: 0.0023 - val_acc: 0.8338\n",
            "Epoch 27/50\n",
            "11997/11997 [==============================] - 4s 306us/sample - loss: 0.0023 - acc: 0.8338 - val_loss: 0.0023 - val_acc: 0.8338\n",
            "Epoch 28/50\n",
            "11997/11997 [==============================] - 4s 307us/sample - loss: 0.0023 - acc: 0.8338 - val_loss: 0.0023 - val_acc: 0.8338\n",
            "Epoch 29/50\n",
            "11997/11997 [==============================] - 4s 313us/sample - loss: 0.0023 - acc: 0.8338 - val_loss: 0.0023 - val_acc: 0.8338\n",
            "Epoch 30/50\n",
            "11997/11997 [==============================] - 4s 307us/sample - loss: 0.0023 - acc: 0.8338 - val_loss: 0.0023 - val_acc: 0.8338\n",
            "Epoch 31/50\n",
            "11997/11997 [==============================] - 4s 305us/sample - loss: 0.0023 - acc: 0.8338 - val_loss: 0.0023 - val_acc: 0.8338\n",
            "Epoch 32/50\n",
            "11997/11997 [==============================] - 4s 311us/sample - loss: 0.0023 - acc: 0.8338 - val_loss: 0.0023 - val_acc: 0.8338\n",
            "Epoch 33/50\n",
            "11997/11997 [==============================] - 4s 319us/sample - loss: 0.0023 - acc: 0.8338 - val_loss: 0.0023 - val_acc: 0.8338\n",
            "Epoch 34/50\n",
            "11997/11997 [==============================] - 4s 304us/sample - loss: 0.0023 - acc: 0.8338 - val_loss: 0.0023 - val_acc: 0.8338\n",
            "Epoch 35/50\n",
            "11997/11997 [==============================] - 4s 299us/sample - loss: 0.0023 - acc: 0.8338 - val_loss: 0.0023 - val_acc: 0.8338\n",
            "Epoch 36/50\n",
            "11997/11997 [==============================] - 4s 301us/sample - loss: 0.0023 - acc: 0.8338 - val_loss: 0.0023 - val_acc: 0.8338\n",
            "Epoch 37/50\n",
            "11997/11997 [==============================] - 4s 307us/sample - loss: 0.0023 - acc: 0.8338 - val_loss: 0.0023 - val_acc: 0.8338\n",
            "Epoch 38/50\n",
            "11997/11997 [==============================] - 4s 322us/sample - loss: 0.0023 - acc: 0.8338 - val_loss: 0.0023 - val_acc: 0.8338\n",
            "Epoch 39/50\n",
            "11997/11997 [==============================] - 4s 310us/sample - loss: 0.0023 - acc: 0.8338 - val_loss: 0.0023 - val_acc: 0.8338\n",
            "Epoch 40/50\n",
            "11997/11997 [==============================] - 4s 306us/sample - loss: 0.0023 - acc: 0.8338 - val_loss: 0.0023 - val_acc: 0.8338\n",
            "Epoch 41/50\n",
            "11997/11997 [==============================] - 4s 309us/sample - loss: 0.0023 - acc: 0.8338 - val_loss: 0.0023 - val_acc: 0.8338\n",
            "Epoch 42/50\n",
            "11997/11997 [==============================] - 4s 302us/sample - loss: 0.0023 - acc: 0.8338 - val_loss: 0.0023 - val_acc: 0.8338\n",
            "Epoch 43/50\n",
            "11997/11997 [==============================] - 4s 300us/sample - loss: 0.0023 - acc: 0.8338 - val_loss: 0.0023 - val_acc: 0.8338\n",
            "Epoch 44/50\n",
            "11997/11997 [==============================] - 4s 301us/sample - loss: 0.0023 - acc: 0.8338 - val_loss: 0.0023 - val_acc: 0.8338\n",
            "Epoch 45/50\n",
            "11997/11997 [==============================] - 4s 304us/sample - loss: 0.0023 - acc: 0.8338 - val_loss: 0.0023 - val_acc: 0.8338\n",
            "Epoch 46/50\n",
            "11997/11997 [==============================] - 4s 300us/sample - loss: 0.0023 - acc: 0.8338 - val_loss: 0.0023 - val_acc: 0.8338\n",
            "Epoch 47/50\n",
            "11997/11997 [==============================] - 4s 313us/sample - loss: 0.0023 - acc: 0.8338 - val_loss: 0.0023 - val_acc: 0.8338\n",
            "Epoch 48/50\n",
            "11997/11997 [==============================] - 4s 303us/sample - loss: 0.0023 - acc: 0.8338 - val_loss: 0.0023 - val_acc: 0.8338\n",
            "Epoch 49/50\n",
            "11997/11997 [==============================] - 4s 305us/sample - loss: 0.0023 - acc: 0.8338 - val_loss: 0.0023 - val_acc: 0.8338\n",
            "Epoch 50/50\n",
            "11997/11997 [==============================] - 4s 301us/sample - loss: 0.0023 - acc: 0.8338 - val_loss: 0.0023 - val_acc: 0.8338\n"
          ],
          "name": "stdout"
        },
        {
          "output_type": "execute_result",
          "data": {
            "text/plain": [
              "<tensorflow.python.keras.callbacks.History at 0x7f86a1334320>"
            ]
          },
          "metadata": {
            "tags": []
          },
          "execution_count": 422
        }
      ]
    },
    {
      "cell_type": "code",
      "metadata": {
        "id": "0Ky-EMUEIGq6",
        "colab_type": "code",
        "colab": {
          "base_uri": "https://localhost:8080/",
          "height": 50
        },
        "outputId": "84ca197b-6843-4bea-9c0d-43a961c08072"
      },
      "source": [
        "ypred = model.predict(X14)\n",
        "s=pd.DataFrame(ypred)\n",
        "s1=pd.DataFrame(y14)\n",
        "s1.corrwith(s, axis = 0) "
      ],
      "execution_count": 423,
      "outputs": [
        {
          "output_type": "execute_result",
          "data": {
            "text/plain": [
              "0    0.37785\n",
              "dtype: float64"
            ]
          },
          "metadata": {
            "tags": []
          },
          "execution_count": 423
        }
      ]
    },
    {
      "cell_type": "code",
      "metadata": {
        "id": "kow20CjpKwRA",
        "colab_type": "code",
        "colab": {
          "base_uri": "https://localhost:8080/",
          "height": 34
        },
        "outputId": "9ff15d4f-577b-45db-ee9b-b10f6c68fdc9"
      },
      "source": [
        "from sklearn.metrics import r2_score\n",
        "r2_score(y14,ypred)"
      ],
      "execution_count": 424,
      "outputs": [
        {
          "output_type": "execute_result",
          "data": {
            "text/plain": [
              "0.14183138253940164"
            ]
          },
          "metadata": {
            "tags": []
          },
          "execution_count": 424
        }
      ]
    },
    {
      "cell_type": "code",
      "metadata": {
        "id": "-YoTtOaYJY6P",
        "colab_type": "code",
        "colab": {
          "base_uri": "https://localhost:8080/",
          "height": 50
        },
        "outputId": "4bc3daff-ed06-403f-d3cb-4879a75a4469"
      },
      "source": [
        "ypred1=model.predict(X_test14)\n",
        "s=pd.DataFrame(ypred1)\n",
        "s1=pd.DataFrame(y_test14)\n",
        "s1.corrwith(s,axis=0)"
      ],
      "execution_count": 425,
      "outputs": [
        {
          "output_type": "execute_result",
          "data": {
            "text/plain": [
              "0    0.37785\n",
              "dtype: float64"
            ]
          },
          "metadata": {
            "tags": []
          },
          "execution_count": 425
        }
      ]
    },
    {
      "cell_type": "code",
      "metadata": {
        "id": "esTMyuJ3Kzmj",
        "colab_type": "code",
        "colab": {
          "base_uri": "https://localhost:8080/",
          "height": 34
        },
        "outputId": "aed1b6bf-e000-43bb-ed21-91b204ceb566"
      },
      "source": [
        "r2_score(y_test14,ypred1)"
      ],
      "execution_count": 426,
      "outputs": [
        {
          "output_type": "execute_result",
          "data": {
            "text/plain": [
              "0.14183138253940164"
            ]
          },
          "metadata": {
            "tags": []
          },
          "execution_count": 426
        }
      ]
    },
    {
      "cell_type": "code",
      "metadata": {
        "id": "7qVcX82RcWAs",
        "colab_type": "code",
        "colab": {
          "base_uri": "https://localhost:8080/",
          "height": 34
        },
        "outputId": "24af82ce-5b71-4d43-c19e-9a25ebd5006c"
      },
      "source": [
        "mean_absolute_error(y_test14,ypred1)"
      ],
      "execution_count": 427,
      "outputs": [
        {
          "output_type": "execute_result",
          "data": {
            "text/plain": [
              "0.020462352418872364"
            ]
          },
          "metadata": {
            "tags": []
          },
          "execution_count": 427
        }
      ]
    },
    {
      "cell_type": "code",
      "metadata": {
        "id": "SFHNwtqAcX1O",
        "colab_type": "code",
        "colab": {
          "base_uri": "https://localhost:8080/",
          "height": 34
        },
        "outputId": "7f1b184a-d748-497e-c877-49facd981ac5"
      },
      "source": [
        "mean_absolute_error(y14,ypred)"
      ],
      "execution_count": 428,
      "outputs": [
        {
          "output_type": "execute_result",
          "data": {
            "text/plain": [
              "0.020462352418872364"
            ]
          },
          "metadata": {
            "tags": []
          },
          "execution_count": 428
        }
      ]
    },
    {
      "cell_type": "code",
      "metadata": {
        "id": "31sa5rlXB9BA",
        "colab_type": "code",
        "colab": {
          "base_uri": "https://localhost:8080/",
          "height": 1000
        },
        "outputId": "f31fcb9e-bd44-441a-cb7f-35452053b2d9"
      },
      "source": [
        "model.fit(X15, y15, validation_data=(X_test15,y_test15),epochs=50)"
      ],
      "execution_count": 429,
      "outputs": [
        {
          "output_type": "stream",
          "text": [
            "Train on 11997 samples, validate on 11997 samples\n",
            "Epoch 1/50\n",
            "11997/11997 [==============================] - 4s 304us/sample - loss: 0.0031 - acc: 0.8191 - val_loss: 0.0031 - val_acc: 0.8192\n",
            "Epoch 2/50\n",
            "11997/11997 [==============================] - 4s 301us/sample - loss: 0.0031 - acc: 0.8192 - val_loss: 0.0030 - val_acc: 0.8192\n",
            "Epoch 3/50\n",
            "11997/11997 [==============================] - 4s 306us/sample - loss: 0.0030 - acc: 0.8192 - val_loss: 0.0030 - val_acc: 0.8192\n",
            "Epoch 4/50\n",
            "11997/11997 [==============================] - 4s 311us/sample - loss: 0.0030 - acc: 0.8192 - val_loss: 0.0030 - val_acc: 0.8192\n",
            "Epoch 5/50\n",
            "11997/11997 [==============================] - 4s 305us/sample - loss: 0.0030 - acc: 0.8192 - val_loss: 0.0030 - val_acc: 0.8192\n",
            "Epoch 6/50\n",
            "11997/11997 [==============================] - 4s 313us/sample - loss: 0.0030 - acc: 0.8192 - val_loss: 0.0030 - val_acc: 0.8192\n",
            "Epoch 7/50\n",
            "11997/11997 [==============================] - 4s 305us/sample - loss: 0.0030 - acc: 0.8192 - val_loss: 0.0030 - val_acc: 0.8192\n",
            "Epoch 8/50\n",
            "11997/11997 [==============================] - 4s 307us/sample - loss: 0.0030 - acc: 0.8192 - val_loss: 0.0030 - val_acc: 0.8192\n",
            "Epoch 9/50\n",
            "11997/11997 [==============================] - 4s 307us/sample - loss: 0.0030 - acc: 0.8192 - val_loss: 0.0030 - val_acc: 0.8192\n",
            "Epoch 10/50\n",
            "11997/11997 [==============================] - 4s 302us/sample - loss: 0.0030 - acc: 0.8192 - val_loss: 0.0030 - val_acc: 0.8192\n",
            "Epoch 11/50\n",
            "11997/11997 [==============================] - 4s 307us/sample - loss: 0.0030 - acc: 0.8192 - val_loss: 0.0030 - val_acc: 0.8192\n",
            "Epoch 12/50\n",
            "11997/11997 [==============================] - 4s 310us/sample - loss: 0.0030 - acc: 0.8192 - val_loss: 0.0030 - val_acc: 0.8192\n",
            "Epoch 13/50\n",
            "11997/11997 [==============================] - 4s 303us/sample - loss: 0.0030 - acc: 0.8192 - val_loss: 0.0030 - val_acc: 0.8192\n",
            "Epoch 14/50\n",
            "11997/11997 [==============================] - 4s 301us/sample - loss: 0.0030 - acc: 0.8192 - val_loss: 0.0030 - val_acc: 0.8192\n",
            "Epoch 15/50\n",
            "11997/11997 [==============================] - 5s 398us/sample - loss: 0.0030 - acc: 0.8192 - val_loss: 0.0029 - val_acc: 0.8192\n",
            "Epoch 16/50\n",
            "11997/11997 [==============================] - 4s 302us/sample - loss: 0.0030 - acc: 0.8192 - val_loss: 0.0029 - val_acc: 0.8192\n",
            "Epoch 17/50\n",
            "11997/11997 [==============================] - 4s 305us/sample - loss: 0.0030 - acc: 0.8192 - val_loss: 0.0029 - val_acc: 0.8192\n",
            "Epoch 18/50\n",
            "11997/11997 [==============================] - 4s 300us/sample - loss: 0.0030 - acc: 0.8192 - val_loss: 0.0029 - val_acc: 0.8192\n",
            "Epoch 19/50\n",
            "11997/11997 [==============================] - 4s 304us/sample - loss: 0.0030 - acc: 0.8192 - val_loss: 0.0030 - val_acc: 0.8192\n",
            "Epoch 20/50\n",
            "11997/11997 [==============================] - 4s 305us/sample - loss: 0.0030 - acc: 0.8192 - val_loss: 0.0029 - val_acc: 0.8192\n",
            "Epoch 21/50\n",
            "11997/11997 [==============================] - 4s 303us/sample - loss: 0.0029 - acc: 0.8192 - val_loss: 0.0029 - val_acc: 0.8192\n",
            "Epoch 22/50\n",
            "11997/11997 [==============================] - 4s 310us/sample - loss: 0.0029 - acc: 0.8192 - val_loss: 0.0029 - val_acc: 0.8192\n",
            "Epoch 23/50\n",
            "11997/11997 [==============================] - 4s 303us/sample - loss: 0.0029 - acc: 0.8192 - val_loss: 0.0029 - val_acc: 0.8192\n",
            "Epoch 24/50\n",
            "11997/11997 [==============================] - 4s 300us/sample - loss: 0.0030 - acc: 0.8192 - val_loss: 0.0029 - val_acc: 0.8192\n",
            "Epoch 25/50\n",
            "11997/11997 [==============================] - 4s 311us/sample - loss: 0.0029 - acc: 0.8192 - val_loss: 0.0029 - val_acc: 0.8192\n",
            "Epoch 26/50\n",
            "11997/11997 [==============================] - 4s 301us/sample - loss: 0.0029 - acc: 0.8192 - val_loss: 0.0029 - val_acc: 0.8192\n",
            "Epoch 27/50\n",
            "11997/11997 [==============================] - 4s 300us/sample - loss: 0.0029 - acc: 0.8192 - val_loss: 0.0030 - val_acc: 0.8192\n",
            "Epoch 28/50\n",
            "11997/11997 [==============================] - 4s 301us/sample - loss: 0.0030 - acc: 0.8192 - val_loss: 0.0029 - val_acc: 0.8192\n",
            "Epoch 29/50\n",
            "11997/11997 [==============================] - 4s 312us/sample - loss: 0.0029 - acc: 0.8192 - val_loss: 0.0029 - val_acc: 0.8192\n",
            "Epoch 30/50\n",
            "11997/11997 [==============================] - 4s 302us/sample - loss: 0.0029 - acc: 0.8192 - val_loss: 0.0029 - val_acc: 0.8192\n",
            "Epoch 31/50\n",
            "11997/11997 [==============================] - 4s 302us/sample - loss: 0.0029 - acc: 0.8192 - val_loss: 0.0029 - val_acc: 0.8192\n",
            "Epoch 32/50\n",
            "11997/11997 [==============================] - 4s 303us/sample - loss: 0.0029 - acc: 0.8192 - val_loss: 0.0029 - val_acc: 0.8192\n",
            "Epoch 33/50\n",
            "11997/11997 [==============================] - 4s 304us/sample - loss: 0.0029 - acc: 0.8192 - val_loss: 0.0029 - val_acc: 0.8192\n",
            "Epoch 34/50\n",
            "11997/11997 [==============================] - 4s 304us/sample - loss: 0.0029 - acc: 0.8192 - val_loss: 0.0029 - val_acc: 0.8192\n",
            "Epoch 35/50\n",
            "11997/11997 [==============================] - 4s 307us/sample - loss: 0.0029 - acc: 0.8192 - val_loss: 0.0029 - val_acc: 0.8192\n",
            "Epoch 36/50\n",
            "11997/11997 [==============================] - 4s 302us/sample - loss: 0.0029 - acc: 0.8192 - val_loss: 0.0029 - val_acc: 0.8192\n",
            "Epoch 37/50\n",
            "11997/11997 [==============================] - 4s 304us/sample - loss: 0.0029 - acc: 0.8192 - val_loss: 0.0029 - val_acc: 0.8192\n",
            "Epoch 38/50\n",
            "11997/11997 [==============================] - 4s 302us/sample - loss: 0.0029 - acc: 0.8192 - val_loss: 0.0029 - val_acc: 0.8192\n",
            "Epoch 39/50\n",
            "11997/11997 [==============================] - 4s 306us/sample - loss: 0.0029 - acc: 0.8192 - val_loss: 0.0029 - val_acc: 0.8192\n",
            "Epoch 40/50\n",
            "11997/11997 [==============================] - 4s 304us/sample - loss: 0.0030 - acc: 0.8192 - val_loss: 0.0029 - val_acc: 0.8192\n",
            "Epoch 41/50\n",
            "11997/11997 [==============================] - 4s 307us/sample - loss: 0.0029 - acc: 0.8192 - val_loss: 0.0029 - val_acc: 0.8192\n",
            "Epoch 42/50\n",
            "11997/11997 [==============================] - 4s 303us/sample - loss: 0.0029 - acc: 0.8192 - val_loss: 0.0029 - val_acc: 0.8192\n",
            "Epoch 43/50\n",
            "11997/11997 [==============================] - 4s 302us/sample - loss: 0.0029 - acc: 0.8192 - val_loss: 0.0029 - val_acc: 0.8192\n",
            "Epoch 44/50\n",
            "11997/11997 [==============================] - 4s 306us/sample - loss: 0.0029 - acc: 0.8192 - val_loss: 0.0029 - val_acc: 0.8192\n",
            "Epoch 45/50\n",
            "11997/11997 [==============================] - 4s 301us/sample - loss: 0.0029 - acc: 0.8192 - val_loss: 0.0029 - val_acc: 0.8192\n",
            "Epoch 46/50\n",
            "11997/11997 [==============================] - 4s 312us/sample - loss: 0.0029 - acc: 0.8192 - val_loss: 0.0029 - val_acc: 0.8192\n",
            "Epoch 47/50\n",
            "11997/11997 [==============================] - 4s 308us/sample - loss: 0.0029 - acc: 0.8192 - val_loss: 0.0029 - val_acc: 0.8192\n",
            "Epoch 48/50\n",
            "11997/11997 [==============================] - 4s 316us/sample - loss: 0.0029 - acc: 0.8192 - val_loss: 0.0029 - val_acc: 0.8192\n",
            "Epoch 49/50\n",
            "11997/11997 [==============================] - 4s 322us/sample - loss: 0.0029 - acc: 0.8192 - val_loss: 0.0029 - val_acc: 0.8192\n",
            "Epoch 50/50\n",
            "11997/11997 [==============================] - 4s 320us/sample - loss: 0.0029 - acc: 0.8192 - val_loss: 0.0029 - val_acc: 0.8192\n"
          ],
          "name": "stdout"
        },
        {
          "output_type": "execute_result",
          "data": {
            "text/plain": [
              "<tensorflow.python.keras.callbacks.History at 0x7f86a1334080>"
            ]
          },
          "metadata": {
            "tags": []
          },
          "execution_count": 429
        }
      ]
    },
    {
      "cell_type": "code",
      "metadata": {
        "id": "x783mmAYIIMe",
        "colab_type": "code",
        "colab": {
          "base_uri": "https://localhost:8080/",
          "height": 50
        },
        "outputId": "07d657c9-ae6e-4a66-b5c7-144c28a637b7"
      },
      "source": [
        "ypred = model.predict(X15)\n",
        "s=pd.DataFrame(ypred)\n",
        "s1=pd.DataFrame(y15)\n",
        "s1.corrwith(s, axis = 0) "
      ],
      "execution_count": 430,
      "outputs": [
        {
          "output_type": "execute_result",
          "data": {
            "text/plain": [
              "0    0.328817\n",
              "dtype: float64"
            ]
          },
          "metadata": {
            "tags": []
          },
          "execution_count": 430
        }
      ]
    },
    {
      "cell_type": "code",
      "metadata": {
        "id": "NHuQ0617KncF",
        "colab_type": "code",
        "colab": {
          "base_uri": "https://localhost:8080/",
          "height": 34
        },
        "outputId": "387128cd-5517-44a5-b529-79ccd3c68907"
      },
      "source": [
        "from sklearn.metrics import r2_score\n",
        "r2_score(y15,ypred)"
      ],
      "execution_count": 431,
      "outputs": [
        {
          "output_type": "execute_result",
          "data": {
            "text/plain": [
              "0.10809211966327037"
            ]
          },
          "metadata": {
            "tags": []
          },
          "execution_count": 431
        }
      ]
    },
    {
      "cell_type": "code",
      "metadata": {
        "id": "G7dQRGRnJb-H",
        "colab_type": "code",
        "colab": {
          "base_uri": "https://localhost:8080/",
          "height": 50
        },
        "outputId": "a559b557-283e-4211-bf67-a59b190ea7a2"
      },
      "source": [
        "ypred1=model.predict(X_test15)\n",
        "s=pd.DataFrame(ypred1)\n",
        "s1=pd.DataFrame(y_test15)\n",
        "s1.corrwith(s,axis=0)"
      ],
      "execution_count": 432,
      "outputs": [
        {
          "output_type": "execute_result",
          "data": {
            "text/plain": [
              "0    0.328817\n",
              "dtype: float64"
            ]
          },
          "metadata": {
            "tags": []
          },
          "execution_count": 432
        }
      ]
    },
    {
      "cell_type": "code",
      "metadata": {
        "id": "7MsXJBffKsBU",
        "colab_type": "code",
        "colab": {
          "base_uri": "https://localhost:8080/",
          "height": 34
        },
        "outputId": "7e051896-0bee-4267-cb4b-c556a21fdff2"
      },
      "source": [
        "from sklearn.metrics import r2_score\n",
        "r2_score(y_test15,ypred1)"
      ],
      "execution_count": 433,
      "outputs": [
        {
          "output_type": "execute_result",
          "data": {
            "text/plain": [
              "0.10809211966327037"
            ]
          },
          "metadata": {
            "tags": []
          },
          "execution_count": 433
        }
      ]
    },
    {
      "cell_type": "code",
      "metadata": {
        "id": "oqpc6rGJccsh",
        "colab_type": "code",
        "colab": {
          "base_uri": "https://localhost:8080/",
          "height": 34
        },
        "outputId": "c17f651c-d695-43d5-b433-b04dcb8b01a4"
      },
      "source": [
        "mean_absolute_error(y_test15,ypred1)"
      ],
      "execution_count": 434,
      "outputs": [
        {
          "output_type": "execute_result",
          "data": {
            "text/plain": [
              "0.021898834423946453"
            ]
          },
          "metadata": {
            "tags": []
          },
          "execution_count": 434
        }
      ]
    },
    {
      "cell_type": "code",
      "metadata": {
        "id": "TBuDDwkTce4X",
        "colab_type": "code",
        "colab": {
          "base_uri": "https://localhost:8080/",
          "height": 34
        },
        "outputId": "0fa5caba-e0a1-415c-f88e-14b2c9bd557d"
      },
      "source": [
        "mean_absolute_error(y15,ypred)"
      ],
      "execution_count": 435,
      "outputs": [
        {
          "output_type": "execute_result",
          "data": {
            "text/plain": [
              "0.021898834423946453"
            ]
          },
          "metadata": {
            "tags": []
          },
          "execution_count": 435
        }
      ]
    },
    {
      "cell_type": "code",
      "metadata": {
        "id": "ddVXEmYRB9TB",
        "colab_type": "code",
        "colab": {
          "base_uri": "https://localhost:8080/",
          "height": 1000
        },
        "outputId": "fe18d7ed-9af6-4d81-9400-a9b449ea79fd"
      },
      "source": [
        "model.fit(X16, y16, validation_data=(X_test16,y_test16),epochs=50)"
      ],
      "execution_count": 436,
      "outputs": [
        {
          "output_type": "stream",
          "text": [
            "Train on 11997 samples, validate on 11997 samples\n",
            "Epoch 1/50\n",
            "11997/11997 [==============================] - 4s 306us/sample - loss: 0.0026 - acc: 0.8462 - val_loss: 0.0025 - val_acc: 0.8464\n",
            "Epoch 2/50\n",
            "11997/11997 [==============================] - 4s 302us/sample - loss: 0.0025 - acc: 0.8464 - val_loss: 0.0025 - val_acc: 0.8464\n",
            "Epoch 3/50\n",
            "11997/11997 [==============================] - 4s 301us/sample - loss: 0.0025 - acc: 0.8464 - val_loss: 0.0024 - val_acc: 0.8464\n",
            "Epoch 4/50\n",
            "11997/11997 [==============================] - 4s 307us/sample - loss: 0.0025 - acc: 0.8464 - val_loss: 0.0024 - val_acc: 0.8464\n",
            "Epoch 5/50\n",
            "11997/11997 [==============================] - 4s 305us/sample - loss: 0.0025 - acc: 0.8464 - val_loss: 0.0024 - val_acc: 0.8464\n",
            "Epoch 6/50\n",
            "11997/11997 [==============================] - 4s 310us/sample - loss: 0.0024 - acc: 0.8464 - val_loss: 0.0024 - val_acc: 0.8464\n",
            "Epoch 7/50\n",
            "11997/11997 [==============================] - 4s 321us/sample - loss: 0.0024 - acc: 0.8464 - val_loss: 0.0024 - val_acc: 0.8464\n",
            "Epoch 8/50\n",
            "11997/11997 [==============================] - 4s 312us/sample - loss: 0.0025 - acc: 0.8464 - val_loss: 0.0024 - val_acc: 0.8464\n",
            "Epoch 9/50\n",
            "11997/11997 [==============================] - 4s 305us/sample - loss: 0.0024 - acc: 0.8464 - val_loss: 0.0025 - val_acc: 0.8464\n",
            "Epoch 10/50\n",
            "11997/11997 [==============================] - 4s 303us/sample - loss: 0.0024 - acc: 0.8464 - val_loss: 0.0024 - val_acc: 0.8464\n",
            "Epoch 11/50\n",
            "11997/11997 [==============================] - 4s 308us/sample - loss: 0.0024 - acc: 0.8464 - val_loss: 0.0024 - val_acc: 0.8464\n",
            "Epoch 12/50\n",
            "11997/11997 [==============================] - 4s 309us/sample - loss: 0.0024 - acc: 0.8464 - val_loss: 0.0024 - val_acc: 0.8464\n",
            "Epoch 13/50\n",
            "11997/11997 [==============================] - 4s 300us/sample - loss: 0.0024 - acc: 0.8464 - val_loss: 0.0024 - val_acc: 0.8464\n",
            "Epoch 14/50\n",
            "11997/11997 [==============================] - 4s 307us/sample - loss: 0.0024 - acc: 0.8464 - val_loss: 0.0024 - val_acc: 0.8464\n",
            "Epoch 15/50\n",
            "11997/11997 [==============================] - 4s 320us/sample - loss: 0.0024 - acc: 0.8464 - val_loss: 0.0024 - val_acc: 0.8464\n",
            "Epoch 16/50\n",
            "11997/11997 [==============================] - 4s 317us/sample - loss: 0.0024 - acc: 0.8464 - val_loss: 0.0024 - val_acc: 0.8464\n",
            "Epoch 17/50\n",
            "11997/11997 [==============================] - 4s 307us/sample - loss: 0.0024 - acc: 0.8464 - val_loss: 0.0024 - val_acc: 0.8464\n",
            "Epoch 18/50\n",
            "11997/11997 [==============================] - 4s 312us/sample - loss: 0.0024 - acc: 0.8464 - val_loss: 0.0024 - val_acc: 0.8464\n",
            "Epoch 19/50\n",
            "11997/11997 [==============================] - 4s 315us/sample - loss: 0.0024 - acc: 0.8464 - val_loss: 0.0024 - val_acc: 0.8464\n",
            "Epoch 20/50\n",
            "11997/11997 [==============================] - 4s 318us/sample - loss: 0.0024 - acc: 0.8464 - val_loss: 0.0024 - val_acc: 0.8464\n",
            "Epoch 21/50\n",
            "11997/11997 [==============================] - 4s 305us/sample - loss: 0.0024 - acc: 0.8464 - val_loss: 0.0024 - val_acc: 0.8464\n",
            "Epoch 22/50\n",
            "11997/11997 [==============================] - 4s 314us/sample - loss: 0.0024 - acc: 0.8464 - val_loss: 0.0024 - val_acc: 0.8464\n",
            "Epoch 23/50\n",
            "11997/11997 [==============================] - 4s 319us/sample - loss: 0.0024 - acc: 0.8464 - val_loss: 0.0024 - val_acc: 0.8464\n",
            "Epoch 24/50\n",
            "11997/11997 [==============================] - 4s 316us/sample - loss: 0.0024 - acc: 0.8464 - val_loss: 0.0024 - val_acc: 0.8464\n",
            "Epoch 25/50\n",
            "11997/11997 [==============================] - 4s 312us/sample - loss: 0.0024 - acc: 0.8464 - val_loss: 0.0024 - val_acc: 0.8464\n",
            "Epoch 26/50\n",
            "11997/11997 [==============================] - 4s 316us/sample - loss: 0.0024 - acc: 0.8464 - val_loss: 0.0024 - val_acc: 0.8464\n",
            "Epoch 27/50\n",
            "11997/11997 [==============================] - 4s 315us/sample - loss: 0.0024 - acc: 0.8464 - val_loss: 0.0024 - val_acc: 0.8464\n",
            "Epoch 28/50\n",
            "11997/11997 [==============================] - 4s 319us/sample - loss: 0.0024 - acc: 0.8464 - val_loss: 0.0024 - val_acc: 0.8464\n",
            "Epoch 29/50\n",
            "11997/11997 [==============================] - 4s 308us/sample - loss: 0.0024 - acc: 0.8464 - val_loss: 0.0024 - val_acc: 0.8464\n",
            "Epoch 30/50\n",
            "11997/11997 [==============================] - 4s 315us/sample - loss: 0.0024 - acc: 0.8464 - val_loss: 0.0024 - val_acc: 0.8464\n",
            "Epoch 31/50\n",
            "11997/11997 [==============================] - 4s 315us/sample - loss: 0.0024 - acc: 0.8464 - val_loss: 0.0024 - val_acc: 0.8464\n",
            "Epoch 32/50\n",
            "11997/11997 [==============================] - 4s 320us/sample - loss: 0.0024 - acc: 0.8464 - val_loss: 0.0024 - val_acc: 0.8464\n",
            "Epoch 33/50\n",
            "11997/11997 [==============================] - 4s 317us/sample - loss: 0.0024 - acc: 0.8464 - val_loss: 0.0024 - val_acc: 0.8464\n",
            "Epoch 34/50\n",
            "11997/11997 [==============================] - 4s 317us/sample - loss: 0.0024 - acc: 0.8464 - val_loss: 0.0024 - val_acc: 0.8464\n",
            "Epoch 35/50\n",
            "11997/11997 [==============================] - 4s 320us/sample - loss: 0.0024 - acc: 0.8464 - val_loss: 0.0024 - val_acc: 0.8464\n",
            "Epoch 36/50\n",
            "11997/11997 [==============================] - 4s 324us/sample - loss: 0.0024 - acc: 0.8464 - val_loss: 0.0024 - val_acc: 0.8464\n",
            "Epoch 37/50\n",
            "11997/11997 [==============================] - 4s 322us/sample - loss: 0.0024 - acc: 0.8464 - val_loss: 0.0024 - val_acc: 0.8464\n",
            "Epoch 38/50\n",
            "11997/11997 [==============================] - 4s 324us/sample - loss: 0.0024 - acc: 0.8464 - val_loss: 0.0024 - val_acc: 0.8464\n",
            "Epoch 39/50\n",
            "11997/11997 [==============================] - 4s 327us/sample - loss: 0.0024 - acc: 0.8464 - val_loss: 0.0024 - val_acc: 0.8464\n",
            "Epoch 40/50\n",
            "11997/11997 [==============================] - 4s 335us/sample - loss: 0.0024 - acc: 0.8464 - val_loss: 0.0024 - val_acc: 0.8464\n",
            "Epoch 41/50\n",
            "11997/11997 [==============================] - 4s 337us/sample - loss: 0.0024 - acc: 0.8464 - val_loss: 0.0024 - val_acc: 0.8464\n",
            "Epoch 42/50\n",
            "11997/11997 [==============================] - 4s 314us/sample - loss: 0.0024 - acc: 0.8464 - val_loss: 0.0024 - val_acc: 0.8464\n",
            "Epoch 43/50\n",
            "11997/11997 [==============================] - 4s 323us/sample - loss: 0.0024 - acc: 0.8464 - val_loss: 0.0024 - val_acc: 0.8464\n",
            "Epoch 44/50\n",
            "11997/11997 [==============================] - 4s 324us/sample - loss: 0.0024 - acc: 0.8464 - val_loss: 0.0024 - val_acc: 0.8464\n",
            "Epoch 45/50\n",
            "11997/11997 [==============================] - 4s 323us/sample - loss: 0.0024 - acc: 0.8464 - val_loss: 0.0024 - val_acc: 0.8464\n",
            "Epoch 46/50\n",
            "11997/11997 [==============================] - 4s 327us/sample - loss: 0.0024 - acc: 0.8464 - val_loss: 0.0024 - val_acc: 0.8464\n",
            "Epoch 47/50\n",
            "11997/11997 [==============================] - 4s 319us/sample - loss: 0.0024 - acc: 0.8464 - val_loss: 0.0024 - val_acc: 0.8464\n",
            "Epoch 48/50\n",
            "11997/11997 [==============================] - 4s 333us/sample - loss: 0.0024 - acc: 0.8464 - val_loss: 0.0024 - val_acc: 0.8464\n",
            "Epoch 49/50\n",
            "11997/11997 [==============================] - 4s 324us/sample - loss: 0.0024 - acc: 0.8464 - val_loss: 0.0024 - val_acc: 0.8464\n",
            "Epoch 50/50\n",
            "11997/11997 [==============================] - 4s 329us/sample - loss: 0.0024 - acc: 0.8464 - val_loss: 0.0024 - val_acc: 0.8464\n"
          ],
          "name": "stdout"
        },
        {
          "output_type": "execute_result",
          "data": {
            "text/plain": [
              "<tensorflow.python.keras.callbacks.History at 0x7f86a1329f60>"
            ]
          },
          "metadata": {
            "tags": []
          },
          "execution_count": 436
        }
      ]
    },
    {
      "cell_type": "code",
      "metadata": {
        "id": "fBzu8k-rIJfj",
        "colab_type": "code",
        "colab": {
          "base_uri": "https://localhost:8080/",
          "height": 50
        },
        "outputId": "d147e612-1f56-429c-dc31-1646c39f19d4"
      },
      "source": [
        "ypred = model.predict(X16)\n",
        "s=pd.DataFrame(ypred)\n",
        "s1=pd.DataFrame(y16)\n",
        "s1.corrwith(s, axis = 0) "
      ],
      "execution_count": 437,
      "outputs": [
        {
          "output_type": "execute_result",
          "data": {
            "text/plain": [
              "0    0.32862\n",
              "dtype: float64"
            ]
          },
          "metadata": {
            "tags": []
          },
          "execution_count": 437
        }
      ]
    },
    {
      "cell_type": "code",
      "metadata": {
        "id": "oa8m9LhKKdqO",
        "colab_type": "code",
        "colab": {
          "base_uri": "https://localhost:8080/",
          "height": 34
        },
        "outputId": "55589e7b-ad12-4bb3-cf49-54cde96b9a12"
      },
      "source": [
        "from sklearn.metrics import r2_score\n",
        "r2_score(y16,ypred)"
      ],
      "execution_count": 438,
      "outputs": [
        {
          "output_type": "execute_result",
          "data": {
            "text/plain": [
              "0.10641496127975547"
            ]
          },
          "metadata": {
            "tags": []
          },
          "execution_count": 438
        }
      ]
    },
    {
      "cell_type": "code",
      "metadata": {
        "id": "NCjU5wnqJdhv",
        "colab_type": "code",
        "colab": {
          "base_uri": "https://localhost:8080/",
          "height": 50
        },
        "outputId": "3dc3a42a-ddca-47f1-e930-b4f4fe0301e9"
      },
      "source": [
        "ypred1=model.predict(X_test16)\n",
        "s=pd.DataFrame(ypred1)\n",
        "s1=pd.DataFrame(y_test16)\n",
        "s1.corrwith(s,axis=0)"
      ],
      "execution_count": 439,
      "outputs": [
        {
          "output_type": "execute_result",
          "data": {
            "text/plain": [
              "0    0.32862\n",
              "dtype: float64"
            ]
          },
          "metadata": {
            "tags": []
          },
          "execution_count": 439
        }
      ]
    },
    {
      "cell_type": "code",
      "metadata": {
        "id": "UY6rtmdyKjSa",
        "colab_type": "code",
        "colab": {
          "base_uri": "https://localhost:8080/",
          "height": 34
        },
        "outputId": "e2466bc8-14c0-4c19-b24b-ddde92311508"
      },
      "source": [
        "r2_score(y_test16,ypred1)"
      ],
      "execution_count": 440,
      "outputs": [
        {
          "output_type": "execute_result",
          "data": {
            "text/plain": [
              "0.10641496127975547"
            ]
          },
          "metadata": {
            "tags": []
          },
          "execution_count": 440
        }
      ]
    },
    {
      "cell_type": "code",
      "metadata": {
        "id": "U9Ef0FuxciMB",
        "colab_type": "code",
        "colab": {
          "base_uri": "https://localhost:8080/",
          "height": 34
        },
        "outputId": "bb388190-8cc1-4299-aaa9-0066fc2ca8ff"
      },
      "source": [
        "mean_absolute_error(y_test16,ypred1)"
      ],
      "execution_count": 441,
      "outputs": [
        {
          "output_type": "execute_result",
          "data": {
            "text/plain": [
              "0.018534676147929197"
            ]
          },
          "metadata": {
            "tags": []
          },
          "execution_count": 441
        }
      ]
    },
    {
      "cell_type": "code",
      "metadata": {
        "id": "82kqJKkTcj7i",
        "colab_type": "code",
        "colab": {
          "base_uri": "https://localhost:8080/",
          "height": 34
        },
        "outputId": "00639de4-b040-4492-f5a7-e71ac755ab9f"
      },
      "source": [
        "mean_absolute_error(y16,ypred)"
      ],
      "execution_count": 442,
      "outputs": [
        {
          "output_type": "execute_result",
          "data": {
            "text/plain": [
              "0.018534676147929197"
            ]
          },
          "metadata": {
            "tags": []
          },
          "execution_count": 442
        }
      ]
    },
    {
      "cell_type": "code",
      "metadata": {
        "id": "PIErxCqcB9uC",
        "colab_type": "code",
        "colab": {
          "base_uri": "https://localhost:8080/",
          "height": 1000
        },
        "outputId": "77b1562f-7c20-46e9-c95c-6a894e0a1ec5"
      },
      "source": [
        "model.fit(X17, y17, validation_data=(X_test17,y_test17),epochs=50)"
      ],
      "execution_count": 443,
      "outputs": [
        {
          "output_type": "stream",
          "text": [
            "Train on 11997 samples, validate on 11997 samples\n",
            "Epoch 1/50\n",
            "11997/11997 [==============================] - 4s 327us/sample - loss: 0.0026 - acc: 0.8949 - val_loss: 0.0025 - val_acc: 0.8949\n",
            "Epoch 2/50\n",
            "11997/11997 [==============================] - 4s 331us/sample - loss: 0.0025 - acc: 0.8949 - val_loss: 0.0025 - val_acc: 0.8949\n",
            "Epoch 3/50\n",
            "11997/11997 [==============================] - 4s 336us/sample - loss: 0.0025 - acc: 0.8949 - val_loss: 0.0024 - val_acc: 0.8949\n",
            "Epoch 4/50\n",
            "11997/11997 [==============================] - 4s 338us/sample - loss: 0.0025 - acc: 0.8949 - val_loss: 0.0024 - val_acc: 0.8949\n",
            "Epoch 5/50\n",
            "11997/11997 [==============================] - 4s 336us/sample - loss: 0.0024 - acc: 0.8949 - val_loss: 0.0024 - val_acc: 0.8949\n",
            "Epoch 6/50\n",
            "11997/11997 [==============================] - 4s 332us/sample - loss: 0.0024 - acc: 0.8949 - val_loss: 0.0024 - val_acc: 0.8949\n",
            "Epoch 7/50\n",
            "11997/11997 [==============================] - 4s 332us/sample - loss: 0.0024 - acc: 0.8949 - val_loss: 0.0024 - val_acc: 0.8949\n",
            "Epoch 8/50\n",
            "11997/11997 [==============================] - 4s 329us/sample - loss: 0.0024 - acc: 0.8949 - val_loss: 0.0024 - val_acc: 0.8949\n",
            "Epoch 9/50\n",
            "11997/11997 [==============================] - 4s 332us/sample - loss: 0.0024 - acc: 0.8949 - val_loss: 0.0024 - val_acc: 0.8949\n",
            "Epoch 10/50\n",
            "11997/11997 [==============================] - 4s 324us/sample - loss: 0.0024 - acc: 0.8949 - val_loss: 0.0023 - val_acc: 0.8949\n",
            "Epoch 11/50\n",
            "11997/11997 [==============================] - 4s 327us/sample - loss: 0.0024 - acc: 0.8949 - val_loss: 0.0024 - val_acc: 0.8949\n",
            "Epoch 12/50\n",
            "11997/11997 [==============================] - 4s 319us/sample - loss: 0.0024 - acc: 0.8949 - val_loss: 0.0024 - val_acc: 0.8949\n",
            "Epoch 13/50\n",
            "11997/11997 [==============================] - 4s 329us/sample - loss: 0.0024 - acc: 0.8949 - val_loss: 0.0024 - val_acc: 0.8949\n",
            "Epoch 14/50\n",
            "11997/11997 [==============================] - 4s 326us/sample - loss: 0.0024 - acc: 0.8949 - val_loss: 0.0023 - val_acc: 0.8949\n",
            "Epoch 15/50\n",
            "11997/11997 [==============================] - 4s 326us/sample - loss: 0.0024 - acc: 0.8949 - val_loss: 0.0023 - val_acc: 0.8949\n",
            "Epoch 16/50\n",
            "11997/11997 [==============================] - 4s 336us/sample - loss: 0.0024 - acc: 0.8949 - val_loss: 0.0023 - val_acc: 0.8949\n",
            "Epoch 17/50\n",
            "11997/11997 [==============================] - 4s 334us/sample - loss: 0.0023 - acc: 0.8949 - val_loss: 0.0023 - val_acc: 0.8949\n",
            "Epoch 18/50\n",
            "11997/11997 [==============================] - 4s 343us/sample - loss: 0.0023 - acc: 0.8949 - val_loss: 0.0023 - val_acc: 0.8949\n",
            "Epoch 19/50\n",
            "11997/11997 [==============================] - 4s 347us/sample - loss: 0.0023 - acc: 0.8949 - val_loss: 0.0023 - val_acc: 0.8949\n",
            "Epoch 20/50\n",
            "11997/11997 [==============================] - 4s 351us/sample - loss: 0.0024 - acc: 0.8949 - val_loss: 0.0023 - val_acc: 0.8949\n",
            "Epoch 21/50\n",
            "11997/11997 [==============================] - 4s 343us/sample - loss: 0.0023 - acc: 0.8949 - val_loss: 0.0023 - val_acc: 0.8949\n",
            "Epoch 22/50\n",
            "11997/11997 [==============================] - 4s 341us/sample - loss: 0.0023 - acc: 0.8949 - val_loss: 0.0024 - val_acc: 0.8949\n",
            "Epoch 23/50\n",
            "11997/11997 [==============================] - 4s 334us/sample - loss: 0.0023 - acc: 0.8949 - val_loss: 0.0023 - val_acc: 0.8949\n",
            "Epoch 24/50\n",
            "11997/11997 [==============================] - 4s 333us/sample - loss: 0.0023 - acc: 0.8949 - val_loss: 0.0023 - val_acc: 0.8949\n",
            "Epoch 25/50\n",
            "11997/11997 [==============================] - 4s 342us/sample - loss: 0.0023 - acc: 0.8949 - val_loss: 0.0023 - val_acc: 0.8949\n",
            "Epoch 26/50\n",
            "11997/11997 [==============================] - 4s 347us/sample - loss: 0.0023 - acc: 0.8949 - val_loss: 0.0023 - val_acc: 0.8949\n",
            "Epoch 27/50\n",
            "11997/11997 [==============================] - 4s 348us/sample - loss: 0.0023 - acc: 0.8949 - val_loss: 0.0023 - val_acc: 0.8949\n",
            "Epoch 28/50\n",
            "11997/11997 [==============================] - 4s 351us/sample - loss: 0.0023 - acc: 0.8949 - val_loss: 0.0023 - val_acc: 0.8949\n",
            "Epoch 29/50\n",
            "11997/11997 [==============================] - 4s 352us/sample - loss: 0.0023 - acc: 0.8949 - val_loss: 0.0023 - val_acc: 0.8949\n",
            "Epoch 30/50\n",
            "11997/11997 [==============================] - 4s 355us/sample - loss: 0.0023 - acc: 0.8949 - val_loss: 0.0023 - val_acc: 0.8949\n",
            "Epoch 31/50\n",
            "11997/11997 [==============================] - 4s 356us/sample - loss: 0.0023 - acc: 0.8949 - val_loss: 0.0023 - val_acc: 0.8949\n",
            "Epoch 32/50\n",
            "11997/11997 [==============================] - 4s 355us/sample - loss: 0.0023 - acc: 0.8949 - val_loss: 0.0023 - val_acc: 0.8949\n",
            "Epoch 33/50\n",
            "11997/11997 [==============================] - 4s 345us/sample - loss: 0.0023 - acc: 0.8949 - val_loss: 0.0023 - val_acc: 0.8949\n",
            "Epoch 34/50\n",
            "11997/11997 [==============================] - 4s 351us/sample - loss: 0.0023 - acc: 0.8949 - val_loss: 0.0023 - val_acc: 0.8949\n",
            "Epoch 35/50\n",
            "11997/11997 [==============================] - 4s 366us/sample - loss: 0.0023 - acc: 0.8949 - val_loss: 0.0023 - val_acc: 0.8949\n",
            "Epoch 36/50\n",
            "11997/11997 [==============================] - 4s 370us/sample - loss: 0.0023 - acc: 0.8949 - val_loss: 0.0023 - val_acc: 0.8949\n",
            "Epoch 37/50\n",
            "11997/11997 [==============================] - 4s 364us/sample - loss: 0.0023 - acc: 0.8949 - val_loss: 0.0023 - val_acc: 0.8949\n",
            "Epoch 38/50\n",
            "11997/11997 [==============================] - 4s 347us/sample - loss: 0.0023 - acc: 0.8949 - val_loss: 0.0023 - val_acc: 0.8949\n",
            "Epoch 39/50\n",
            "11997/11997 [==============================] - 4s 348us/sample - loss: 0.0023 - acc: 0.8949 - val_loss: 0.0023 - val_acc: 0.8949\n",
            "Epoch 40/50\n",
            "11997/11997 [==============================] - 4s 350us/sample - loss: 0.0023 - acc: 0.8949 - val_loss: 0.0023 - val_acc: 0.8949\n",
            "Epoch 41/50\n",
            "11997/11997 [==============================] - 4s 352us/sample - loss: 0.0023 - acc: 0.8949 - val_loss: 0.0023 - val_acc: 0.8949\n",
            "Epoch 42/50\n",
            "11997/11997 [==============================] - 4s 366us/sample - loss: 0.0023 - acc: 0.8949 - val_loss: 0.0023 - val_acc: 0.8949\n",
            "Epoch 43/50\n",
            "11997/11997 [==============================] - 4s 348us/sample - loss: 0.0023 - acc: 0.8949 - val_loss: 0.0023 - val_acc: 0.8949\n",
            "Epoch 44/50\n",
            "11997/11997 [==============================] - 4s 337us/sample - loss: 0.0023 - acc: 0.8949 - val_loss: 0.0023 - val_acc: 0.8949\n",
            "Epoch 45/50\n",
            "11997/11997 [==============================] - 4s 339us/sample - loss: 0.0023 - acc: 0.8949 - val_loss: 0.0023 - val_acc: 0.8949\n",
            "Epoch 46/50\n",
            "11997/11997 [==============================] - 4s 342us/sample - loss: 0.0023 - acc: 0.8949 - val_loss: 0.0023 - val_acc: 0.8949\n",
            "Epoch 47/50\n",
            "11997/11997 [==============================] - 4s 340us/sample - loss: 0.0023 - acc: 0.8949 - val_loss: 0.0022 - val_acc: 0.8950\n",
            "Epoch 48/50\n",
            "11997/11997 [==============================] - 4s 346us/sample - loss: 0.0023 - acc: 0.8950 - val_loss: 0.0023 - val_acc: 0.8950\n",
            "Epoch 49/50\n",
            "11997/11997 [==============================] - 4s 339us/sample - loss: 0.0023 - acc: 0.8950 - val_loss: 0.0022 - val_acc: 0.8950\n",
            "Epoch 50/50\n",
            "11997/11997 [==============================] - 4s 341us/sample - loss: 0.0023 - acc: 0.8950 - val_loss: 0.0023 - val_acc: 0.8950\n"
          ],
          "name": "stdout"
        },
        {
          "output_type": "execute_result",
          "data": {
            "text/plain": [
              "<tensorflow.python.keras.callbacks.History at 0x7f86a1334a58>"
            ]
          },
          "metadata": {
            "tags": []
          },
          "execution_count": 443
        }
      ]
    },
    {
      "cell_type": "code",
      "metadata": {
        "id": "q_cqFEZyIK_5",
        "colab_type": "code",
        "colab": {
          "base_uri": "https://localhost:8080/",
          "height": 50
        },
        "outputId": "34266451-64b0-4004-8cf4-7868dfcd40cd"
      },
      "source": [
        "ypred = model.predict(X17)\n",
        "s=pd.DataFrame(ypred)\n",
        "s1=pd.DataFrame(y17)\n",
        "s1.corrwith(s, axis = 0) "
      ],
      "execution_count": 444,
      "outputs": [
        {
          "output_type": "execute_result",
          "data": {
            "text/plain": [
              "0    0.402823\n",
              "dtype: float64"
            ]
          },
          "metadata": {
            "tags": []
          },
          "execution_count": 444
        }
      ]
    },
    {
      "cell_type": "code",
      "metadata": {
        "id": "iNUMrec5KInu",
        "colab_type": "code",
        "colab": {
          "base_uri": "https://localhost:8080/",
          "height": 34
        },
        "outputId": "0ed94010-e274-492e-e48a-98fab938b713"
      },
      "source": [
        "from sklearn.metrics import r2_score\n",
        "r2_score(y17,ypred)"
      ],
      "execution_count": 445,
      "outputs": [
        {
          "output_type": "execute_result",
          "data": {
            "text/plain": [
              "0.1605085188010874"
            ]
          },
          "metadata": {
            "tags": []
          },
          "execution_count": 445
        }
      ]
    },
    {
      "cell_type": "code",
      "metadata": {
        "id": "UJ7Wc3CIJerO",
        "colab_type": "code",
        "colab": {
          "base_uri": "https://localhost:8080/",
          "height": 50
        },
        "outputId": "2d3b9621-2da1-4147-9505-1d9f8eeacfd8"
      },
      "source": [
        "ypred1=model.predict(X_test17)\n",
        "s=pd.DataFrame(ypred1)\n",
        "s1=pd.DataFrame(y_test17)\n",
        "s1.corrwith(s,axis=0)"
      ],
      "execution_count": 446,
      "outputs": [
        {
          "output_type": "execute_result",
          "data": {
            "text/plain": [
              "0    0.402823\n",
              "dtype: float64"
            ]
          },
          "metadata": {
            "tags": []
          },
          "execution_count": 446
        }
      ]
    },
    {
      "cell_type": "code",
      "metadata": {
        "id": "qKYoL8cDKKmZ",
        "colab_type": "code",
        "colab": {
          "base_uri": "https://localhost:8080/",
          "height": 34
        },
        "outputId": "a262e90d-67bc-472c-dd4c-b7519741257d"
      },
      "source": [
        "r2_score(y_test17,ypred1)"
      ],
      "execution_count": 447,
      "outputs": [
        {
          "output_type": "execute_result",
          "data": {
            "text/plain": [
              "0.1605085188010874"
            ]
          },
          "metadata": {
            "tags": []
          },
          "execution_count": 447
        }
      ]
    },
    {
      "cell_type": "code",
      "metadata": {
        "id": "sqMbanyDcoVD",
        "colab_type": "code",
        "colab": {
          "base_uri": "https://localhost:8080/",
          "height": 34
        },
        "outputId": "b9b5077a-21fa-487b-8512-fbc2d207b106"
      },
      "source": [
        "mean_absolute_error(y_test17,ypred1)"
      ],
      "execution_count": 448,
      "outputs": [
        {
          "output_type": "execute_result",
          "data": {
            "text/plain": [
              "0.01825497885385358"
            ]
          },
          "metadata": {
            "tags": []
          },
          "execution_count": 448
        }
      ]
    },
    {
      "cell_type": "code",
      "metadata": {
        "id": "4z--E3OPcqLB",
        "colab_type": "code",
        "colab": {
          "base_uri": "https://localhost:8080/",
          "height": 34
        },
        "outputId": "d945c398-ec86-42ac-dd46-9bb767af1819"
      },
      "source": [
        "mean_absolute_error(y17,ypred)"
      ],
      "execution_count": 449,
      "outputs": [
        {
          "output_type": "execute_result",
          "data": {
            "text/plain": [
              "0.01825497885385358"
            ]
          },
          "metadata": {
            "tags": []
          },
          "execution_count": 449
        }
      ]
    },
    {
      "cell_type": "code",
      "metadata": {
        "id": "bnBS9J1vB-JJ",
        "colab_type": "code",
        "colab": {
          "base_uri": "https://localhost:8080/",
          "height": 1000
        },
        "outputId": "86a567ab-d65c-4938-dd7c-97435e3d0455"
      },
      "source": [
        "model.fit(X18, y18, validation_data=(X_test18,y_test18),epochs=50)"
      ],
      "execution_count": 450,
      "outputs": [
        {
          "output_type": "stream",
          "text": [
            "Train on 11997 samples, validate on 11997 samples\n",
            "Epoch 1/50\n",
            "11997/11997 [==============================] - 4s 347us/sample - loss: 1.7415e-04 - acc: 0.8540 - val_loss: 1.6372e-04 - val_acc: 0.8540\n",
            "Epoch 2/50\n",
            "11997/11997 [==============================] - 4s 333us/sample - loss: 1.6275e-04 - acc: 0.8540 - val_loss: 1.6146e-04 - val_acc: 0.8540\n",
            "Epoch 3/50\n",
            "11997/11997 [==============================] - 4s 325us/sample - loss: 1.6135e-04 - acc: 0.8540 - val_loss: 1.6151e-04 - val_acc: 0.8540\n",
            "Epoch 4/50\n",
            "11997/11997 [==============================] - 4s 336us/sample - loss: 1.6194e-04 - acc: 0.8540 - val_loss: 1.6093e-04 - val_acc: 0.8540\n",
            "Epoch 5/50\n",
            "11997/11997 [==============================] - 4s 341us/sample - loss: 1.6135e-04 - acc: 0.8540 - val_loss: 1.6044e-04 - val_acc: 0.8540\n",
            "Epoch 6/50\n",
            "11997/11997 [==============================] - 4s 341us/sample - loss: 1.6121e-04 - acc: 0.8540 - val_loss: 1.5831e-04 - val_acc: 0.8540\n",
            "Epoch 7/50\n",
            "11997/11997 [==============================] - 4s 348us/sample - loss: 1.5849e-04 - acc: 0.8540 - val_loss: 1.5711e-04 - val_acc: 0.8540\n",
            "Epoch 8/50\n",
            "11997/11997 [==============================] - 4s 343us/sample - loss: 1.5827e-04 - acc: 0.8540 - val_loss: 1.5705e-04 - val_acc: 0.8540\n",
            "Epoch 9/50\n",
            "11997/11997 [==============================] - 4s 345us/sample - loss: 1.5801e-04 - acc: 0.8540 - val_loss: 1.5704e-04 - val_acc: 0.8540\n",
            "Epoch 10/50\n",
            "11997/11997 [==============================] - 4s 343us/sample - loss: 1.5857e-04 - acc: 0.8540 - val_loss: 1.5771e-04 - val_acc: 0.8540\n",
            "Epoch 11/50\n",
            "11997/11997 [==============================] - 4s 352us/sample - loss: 1.5717e-04 - acc: 0.8540 - val_loss: 1.6017e-04 - val_acc: 0.8540\n",
            "Epoch 12/50\n",
            "11997/11997 [==============================] - 4s 352us/sample - loss: 1.5819e-04 - acc: 0.8540 - val_loss: 1.5640e-04 - val_acc: 0.8540\n",
            "Epoch 13/50\n",
            "11997/11997 [==============================] - 4s 353us/sample - loss: 1.5783e-04 - acc: 0.8540 - val_loss: 1.5700e-04 - val_acc: 0.8540\n",
            "Epoch 14/50\n",
            "11997/11997 [==============================] - 4s 352us/sample - loss: 1.5793e-04 - acc: 0.8540 - val_loss: 1.8167e-04 - val_acc: 0.8540\n",
            "Epoch 15/50\n",
            "11997/11997 [==============================] - 4s 345us/sample - loss: 1.5791e-04 - acc: 0.8540 - val_loss: 1.5664e-04 - val_acc: 0.8540\n",
            "Epoch 16/50\n",
            "11997/11997 [==============================] - 4s 357us/sample - loss: 1.5826e-04 - acc: 0.8540 - val_loss: 1.5583e-04 - val_acc: 0.8540\n",
            "Epoch 17/50\n",
            "11997/11997 [==============================] - 4s 360us/sample - loss: 1.5785e-04 - acc: 0.8540 - val_loss: 1.5756e-04 - val_acc: 0.8540\n",
            "Epoch 18/50\n",
            "11997/11997 [==============================] - 4s 355us/sample - loss: 1.5660e-04 - acc: 0.8540 - val_loss: 1.5371e-04 - val_acc: 0.8540\n",
            "Epoch 19/50\n",
            "11997/11997 [==============================] - 4s 357us/sample - loss: 1.5501e-04 - acc: 0.8540 - val_loss: 1.5492e-04 - val_acc: 0.8540\n",
            "Epoch 20/50\n",
            "11997/11997 [==============================] - 4s 357us/sample - loss: 1.5604e-04 - acc: 0.8540 - val_loss: 1.5373e-04 - val_acc: 0.8540\n",
            "Epoch 21/50\n",
            "11997/11997 [==============================] - 4s 363us/sample - loss: 1.5491e-04 - acc: 0.8540 - val_loss: 1.5416e-04 - val_acc: 0.8540\n",
            "Epoch 22/50\n",
            "11997/11997 [==============================] - 4s 349us/sample - loss: 1.5515e-04 - acc: 0.8540 - val_loss: 1.5440e-04 - val_acc: 0.8540\n",
            "Epoch 23/50\n",
            "11997/11997 [==============================] - 4s 347us/sample - loss: 1.5550e-04 - acc: 0.8540 - val_loss: 1.5400e-04 - val_acc: 0.8540\n",
            "Epoch 24/50\n",
            "11997/11997 [==============================] - 4s 345us/sample - loss: 1.5489e-04 - acc: 0.8540 - val_loss: 1.5446e-04 - val_acc: 0.8540\n",
            "Epoch 25/50\n",
            "11997/11997 [==============================] - 4s 354us/sample - loss: 1.5516e-04 - acc: 0.8540 - val_loss: 1.5568e-04 - val_acc: 0.8540\n",
            "Epoch 26/50\n",
            "11997/11997 [==============================] - 4s 342us/sample - loss: 1.5476e-04 - acc: 0.8540 - val_loss: 1.5377e-04 - val_acc: 0.8540\n",
            "Epoch 27/50\n",
            "11997/11997 [==============================] - 4s 338us/sample - loss: 1.5418e-04 - acc: 0.8540 - val_loss: 1.5301e-04 - val_acc: 0.8540\n",
            "Epoch 28/50\n",
            "11997/11997 [==============================] - 4s 340us/sample - loss: 1.5445e-04 - acc: 0.8540 - val_loss: 1.6235e-04 - val_acc: 0.8540\n",
            "Epoch 29/50\n",
            "11997/11997 [==============================] - 4s 346us/sample - loss: 1.5441e-04 - acc: 0.8540 - val_loss: 1.5268e-04 - val_acc: 0.8540\n",
            "Epoch 30/50\n",
            "11997/11997 [==============================] - 4s 349us/sample - loss: 1.5512e-04 - acc: 0.8540 - val_loss: 1.5568e-04 - val_acc: 0.8540\n",
            "Epoch 31/50\n",
            "11997/11997 [==============================] - 4s 350us/sample - loss: 1.5443e-04 - acc: 0.8540 - val_loss: 1.5380e-04 - val_acc: 0.8540\n",
            "Epoch 32/50\n",
            "11997/11997 [==============================] - 4s 346us/sample - loss: 1.5571e-04 - acc: 0.8540 - val_loss: 1.5299e-04 - val_acc: 0.8540\n",
            "Epoch 33/50\n",
            "11997/11997 [==============================] - 4s 321us/sample - loss: 1.5447e-04 - acc: 0.8540 - val_loss: 1.5361e-04 - val_acc: 0.8540\n",
            "Epoch 34/50\n",
            "11997/11997 [==============================] - 4s 323us/sample - loss: 1.5428e-04 - acc: 0.8540 - val_loss: 1.5433e-04 - val_acc: 0.8540\n",
            "Epoch 35/50\n",
            "11997/11997 [==============================] - 4s 308us/sample - loss: 1.5478e-04 - acc: 0.8540 - val_loss: 1.5295e-04 - val_acc: 0.8540\n",
            "Epoch 36/50\n",
            "11997/11997 [==============================] - 4s 313us/sample - loss: 1.5423e-04 - acc: 0.8540 - val_loss: 1.5774e-04 - val_acc: 0.8540\n",
            "Epoch 37/50\n",
            "11997/11997 [==============================] - 4s 317us/sample - loss: 1.5441e-04 - acc: 0.8540 - val_loss: 1.5348e-04 - val_acc: 0.8540\n",
            "Epoch 38/50\n",
            "11997/11997 [==============================] - 4s 313us/sample - loss: 1.5432e-04 - acc: 0.8540 - val_loss: 1.5456e-04 - val_acc: 0.8540\n",
            "Epoch 39/50\n",
            "11997/11997 [==============================] - 4s 312us/sample - loss: 1.5487e-04 - acc: 0.8540 - val_loss: 1.5287e-04 - val_acc: 0.8540\n",
            "Epoch 40/50\n",
            "11997/11997 [==============================] - 4s 324us/sample - loss: 1.5429e-04 - acc: 0.8540 - val_loss: 1.5372e-04 - val_acc: 0.8540\n",
            "Epoch 41/50\n",
            "11997/11997 [==============================] - 4s 326us/sample - loss: 1.5499e-04 - acc: 0.8540 - val_loss: 1.5320e-04 - val_acc: 0.8540\n",
            "Epoch 42/50\n",
            "11997/11997 [==============================] - 4s 336us/sample - loss: 1.5458e-04 - acc: 0.8540 - val_loss: 1.5286e-04 - val_acc: 0.8540\n",
            "Epoch 43/50\n",
            "11997/11997 [==============================] - 4s 331us/sample - loss: 1.5461e-04 - acc: 0.8540 - val_loss: 1.5389e-04 - val_acc: 0.8540\n",
            "Epoch 44/50\n",
            "11997/11997 [==============================] - 4s 345us/sample - loss: 1.5440e-04 - acc: 0.8540 - val_loss: 1.5360e-04 - val_acc: 0.8540\n",
            "Epoch 45/50\n",
            "11997/11997 [==============================] - 4s 348us/sample - loss: 1.5481e-04 - acc: 0.8540 - val_loss: 1.5277e-04 - val_acc: 0.8540\n",
            "Epoch 46/50\n",
            "11997/11997 [==============================] - 4s 345us/sample - loss: 1.5445e-04 - acc: 0.8540 - val_loss: 1.5315e-04 - val_acc: 0.8540\n",
            "Epoch 47/50\n",
            "11997/11997 [==============================] - 4s 333us/sample - loss: 1.5466e-04 - acc: 0.8540 - val_loss: 1.5272e-04 - val_acc: 0.8540\n",
            "Epoch 48/50\n",
            "11997/11997 [==============================] - 4s 338us/sample - loss: 1.5417e-04 - acc: 0.8540 - val_loss: 1.5289e-04 - val_acc: 0.8540\n",
            "Epoch 49/50\n",
            "11997/11997 [==============================] - 4s 337us/sample - loss: 1.5410e-04 - acc: 0.8540 - val_loss: 1.5262e-04 - val_acc: 0.8540\n",
            "Epoch 50/50\n",
            "11997/11997 [==============================] - 4s 338us/sample - loss: 1.5460e-04 - acc: 0.8540 - val_loss: 1.5331e-04 - val_acc: 0.8540\n"
          ],
          "name": "stdout"
        },
        {
          "output_type": "execute_result",
          "data": {
            "text/plain": [
              "<tensorflow.python.keras.callbacks.History at 0x7f86a1329278>"
            ]
          },
          "metadata": {
            "tags": []
          },
          "execution_count": 450
        }
      ]
    },
    {
      "cell_type": "code",
      "metadata": {
        "id": "4dm66DTdIMJ8",
        "colab_type": "code",
        "colab": {
          "base_uri": "https://localhost:8080/",
          "height": 50
        },
        "outputId": "fb2d3fc6-1eb1-4b24-db41-c76d70d4f11e"
      },
      "source": [
        "ypred = model.predict(X18)\n",
        "s=pd.DataFrame(ypred)\n",
        "s1=pd.DataFrame(y18)\n",
        "s1.corrwith(s, axis = 0) "
      ],
      "execution_count": 451,
      "outputs": [
        {
          "output_type": "execute_result",
          "data": {
            "text/plain": [
              "0    0.184632\n",
              "dtype: float64"
            ]
          },
          "metadata": {
            "tags": []
          },
          "execution_count": 451
        }
      ]
    },
    {
      "cell_type": "code",
      "metadata": {
        "id": "yVgkRVW42TsQ",
        "colab_type": "code",
        "colab": {
          "base_uri": "https://localhost:8080/",
          "height": 34
        },
        "outputId": "073a2ab9-df68-4e44-d204-983e8559c551"
      },
      "source": [
        "from sklearn.metrics import r2_score\n",
        "r2_score(y18,ypred)"
      ],
      "execution_count": 452,
      "outputs": [
        {
          "output_type": "execute_result",
          "data": {
            "text/plain": [
              "0.03331953218081596"
            ]
          },
          "metadata": {
            "tags": []
          },
          "execution_count": 452
        }
      ]
    },
    {
      "cell_type": "code",
      "metadata": {
        "id": "rtcP5oF9J_Ae",
        "colab_type": "code",
        "colab": {
          "base_uri": "https://localhost:8080/",
          "height": 50
        },
        "outputId": "db5e8ee3-c1bf-4a6f-a46b-96ab2933d00b"
      },
      "source": [
        "ypred1 = model.predict(X_test18)\n",
        "s=pd.DataFrame(ypred1)\n",
        "s1=pd.DataFrame(y_test18)\n",
        "s1.corrwith(s, axis = 0) "
      ],
      "execution_count": 453,
      "outputs": [
        {
          "output_type": "execute_result",
          "data": {
            "text/plain": [
              "0    0.184632\n",
              "dtype: float64"
            ]
          },
          "metadata": {
            "tags": []
          },
          "execution_count": 453
        }
      ]
    },
    {
      "cell_type": "code",
      "metadata": {
        "id": "sUlUlZnL2tki",
        "colab_type": "code",
        "colab": {
          "base_uri": "https://localhost:8080/",
          "height": 34
        },
        "outputId": "b6a07af3-8be5-4d25-e6a0-394772b23eb1"
      },
      "source": [
        "r2_score(y_test18,ypred1)"
      ],
      "execution_count": 454,
      "outputs": [
        {
          "output_type": "execute_result",
          "data": {
            "text/plain": [
              "0.03331953218081596"
            ]
          },
          "metadata": {
            "tags": []
          },
          "execution_count": 454
        }
      ]
    },
    {
      "cell_type": "code",
      "metadata": {
        "id": "ClsczOxcct6d",
        "colab_type": "code",
        "colab": {
          "base_uri": "https://localhost:8080/",
          "height": 34
        },
        "outputId": "86a6fe44-afb3-4e9b-8151-2d4f93da2bb9"
      },
      "source": [
        "mean_absolute_error(y_test18,ypred1)"
      ],
      "execution_count": 455,
      "outputs": [
        {
          "output_type": "execute_result",
          "data": {
            "text/plain": [
              "0.0033513789772325045"
            ]
          },
          "metadata": {
            "tags": []
          },
          "execution_count": 455
        }
      ]
    },
    {
      "cell_type": "code",
      "metadata": {
        "id": "pHM1dOQ3cx-y",
        "colab_type": "code",
        "colab": {
          "base_uri": "https://localhost:8080/",
          "height": 34
        },
        "outputId": "b43dee34-0531-4f55-c94a-1bd22fa3afaf"
      },
      "source": [
        "mean_absolute_error(y18,ypred)"
      ],
      "execution_count": 456,
      "outputs": [
        {
          "output_type": "execute_result",
          "data": {
            "text/plain": [
              "0.0033513789772325045"
            ]
          },
          "metadata": {
            "tags": []
          },
          "execution_count": 456
        }
      ]
    }
  ]
}